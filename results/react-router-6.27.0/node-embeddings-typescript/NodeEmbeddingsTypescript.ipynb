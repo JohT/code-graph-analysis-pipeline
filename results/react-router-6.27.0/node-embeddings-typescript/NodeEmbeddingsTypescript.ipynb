{
 "cells": [
  {
   "attachments": {},
   "cell_type": "markdown",
   "id": "2f0eabc4",
   "metadata": {},
   "source": [
    "# Node Embeddings\n",
    "\n",
    "This notebook demonstrates different methods for node embeddings and how to further reduce their dimensionality to be able to visualize them in a 2D plot. \n",
    "\n",
    "Node embeddings are essentially an array of floating point numbers (length = embedding dimension) that can be used as \"features\" in machine learning. These numbers approximate the relationship and similarity information of each node and can also be seen as a way to encode the topology of the graph.\n",
    "\n",
    "## Considerations\n",
    "\n",
    "Due to dimensionality reduction some information gets lost, especially when visualizing node embeddings in two dimensions. Nevertheless, it helps to get an intuition on what node embeddings are and how much of the similarity and neighborhood information is retained. The latter can be observed by how well nodes of the same color and therefore same community are placed together and how much bigger nodes with a high centrality score influence them. \n",
    "\n",
    "If the visualization doesn't show a somehow clear separation between the communities (colors) here are some ideas for tuning: \n",
    "- Clean the data, e.g. filter out very few nodes with extremely high degree that aren't actually that important\n",
    "- Try directed vs. undirected projections\n",
    "- Tune the embedding algorithm, e.g. use a higher dimensionality\n",
    "- Tune t-SNE that is used to reduce the node embeddings dimension to two dimensions for visualization. \n",
    "\n",
    "It could also be the case that the node embeddings are good enough and well suited the way they are despite their visualization for the down stream task like node classification or link prediction. In that case it makes sense to see how the whole pipeline performs before tuning the node embeddings in detail. \n",
    "\n",
    "## Note about data dependencies\n",
    "\n",
    "PageRank centrality and Leiden community are also fetched from the Graph and need to be calculated first.\n",
    "This makes it easier to see if the embeddings approximate the structural information of the graph in the plot.\n",
    "If these properties are missing you will only see black dots all of the same size.\n",
    "\n",
    "<br>  \n",
    "\n",
    "### References\n",
    "- [jqassistant](https://jqassistant.org)\n",
    "- [Neo4j Python Driver](https://neo4j.com/docs/api/python-driver/current)\n",
    "- [Tutorial: Applied Graph Embeddings](https://neo4j.com/developer/graph-data-science/applied-graph-embeddings)\n",
    "- [Visualizing the embeddings in 2D](https://github.com/openai/openai-cookbook/blob/main/examples/Visualizing_embeddings_in_2D.ipynb)\n",
    "- [scikit-learn TSNE](https://scikit-learn.org/stable/modules/generated/sklearn.manifold.TSNE.html#sklearn.manifold.TSNE)\n",
    "- [AttributeError: 'list' object has no attribute 'shape'](https://bobbyhadz.com/blog/python-attributeerror-list-object-has-no-attribute-shape)\n",
    "- [Fast Random Projection (neo4j)](https://neo4j.com/docs/graph-data-science/current/machine-learning/node-embeddings/fastrp)\n",
    "- [HashGNN (neo4j)](https://neo4j.com/docs/graph-data-science/2.6/machine-learning/node-embeddings/hashgnn)\n",
    "- [node2vec (neo4j)](https://neo4j.com/docs/graph-data-science/current/machine-learning/node-embeddings/node2vec) computes a vector representation of a node based on second order random walks in the graph. \n",
    "- [Complete guide to understanding Node2Vec algorithm](https://towardsdatascience.com/complete-guide-to-understanding-node2vec-algorithm-4e9a35e5d147)"
   ]
  },
  {
   "cell_type": "code",
   "execution_count": 1,
   "id": "4191f259",
   "metadata": {
    "execution": {
     "iopub.execute_input": "2024-10-25T05:46:25.191494Z",
     "iopub.status.busy": "2024-10-25T05:46:25.191056Z",
     "iopub.status.idle": "2024-10-25T05:46:26.047943Z",
     "shell.execute_reply": "2024-10-25T05:46:26.047456Z"
    }
   },
   "outputs": [],
   "source": [
    "import os\n",
    "from IPython.display import display\n",
    "import pandas as pd\n",
    "import matplotlib.pyplot as plot\n",
    "import typing as typ\n",
    "import numpy as np\n",
    "from openTSNE.sklearn import TSNE\n",
    "from neo4j import GraphDatabase"
   ]
  },
  {
   "cell_type": "code",
   "execution_count": 2,
   "id": "f8ef41ff",
   "metadata": {
    "execution": {
     "iopub.execute_input": "2024-10-25T05:46:26.050493Z",
     "iopub.status.busy": "2024-10-25T05:46:26.050173Z",
     "iopub.status.idle": "2024-10-25T05:46:26.054373Z",
     "shell.execute_reply": "2024-10-25T05:46:26.053311Z"
    }
   },
   "outputs": [
    {
     "name": "stdout",
     "output_type": "stream",
     "text": [
      "The openTSNE version is: 1.0.1\n",
      "The pandas version is 1.5.1.\n"
     ]
    }
   ],
   "source": [
    "from openTSNE import __version__ as openTSNE_version\n",
    "print('The openTSNE version is: {}'.format(openTSNE_version))\n",
    "print('The pandas version is {}.'.format(pd.__version__))\n"
   ]
  },
  {
   "cell_type": "code",
   "execution_count": 3,
   "id": "1c5dab37",
   "metadata": {
    "execution": {
     "iopub.execute_input": "2024-10-25T05:46:26.056466Z",
     "iopub.status.busy": "2024-10-25T05:46:26.056167Z",
     "iopub.status.idle": "2024-10-25T05:46:26.063732Z",
     "shell.execute_reply": "2024-10-25T05:46:26.063261Z"
    }
   },
   "outputs": [],
   "source": [
    "# Please set the environment variable \"NEO4J_INITIAL_PASSWORD\" in your shell \n",
    "# before starting jupyter notebook to provide the password for the user \"neo4j\". \n",
    "# It is not recommended to hardcode the password into jupyter notebook for security reasons.\n",
    "\n",
    "driver = GraphDatabase.driver(uri=\"bolt://localhost:7687\", auth=(\"neo4j\", os.environ.get(\"NEO4J_INITIAL_PASSWORD\")))\n",
    "driver.verify_connectivity()"
   ]
  },
  {
   "cell_type": "code",
   "execution_count": 4,
   "id": "c1db254b",
   "metadata": {
    "execution": {
     "iopub.execute_input": "2024-10-25T05:46:26.066074Z",
     "iopub.status.busy": "2024-10-25T05:46:26.065757Z",
     "iopub.status.idle": "2024-10-25T05:46:26.068394Z",
     "shell.execute_reply": "2024-10-25T05:46:26.067914Z"
    }
   },
   "outputs": [],
   "source": [
    "def get_cypher_query_from_file(filename):\n",
    "    with open(filename) as file:\n",
    "        return ' '.join(file.readlines())"
   ]
  },
  {
   "cell_type": "code",
   "execution_count": 5,
   "id": "59310f6f",
   "metadata": {
    "execution": {
     "iopub.execute_input": "2024-10-25T05:46:26.070403Z",
     "iopub.status.busy": "2024-10-25T05:46:26.070115Z",
     "iopub.status.idle": "2024-10-25T05:46:26.073544Z",
     "shell.execute_reply": "2024-10-25T05:46:26.073099Z"
    }
   },
   "outputs": [],
   "source": [
    "def query_cypher_to_data_frame(filename, parameters_: typ.Optional[typ.Dict[str, typ.Any]] = None):\n",
    "    records, summary, keys = driver.execute_query(get_cypher_query_from_file(filename),parameters_=parameters_)\n",
    "    return pd.DataFrame([r.values() for r in records], columns=keys)"
   ]
  },
  {
   "cell_type": "code",
   "execution_count": 6,
   "id": "bd1d9775",
   "metadata": {
    "execution": {
     "iopub.execute_input": "2024-10-25T05:46:26.075692Z",
     "iopub.status.busy": "2024-10-25T05:46:26.075342Z",
     "iopub.status.idle": "2024-10-25T05:46:26.078723Z",
     "shell.execute_reply": "2024-10-25T05:46:26.078241Z"
    }
   },
   "outputs": [],
   "source": [
    "def query_first_non_empty_cypher_to_data_frame(*filenames : str, parameters: typ.Optional[typ.Dict[str, typ.Any]] = None):\n",
    "    \"\"\"\n",
    "    Executes the Cypher queries of the given files and returns the first result that is not empty.\n",
    "    If all given file names result in empty results, the last (empty) result will be returned.\n",
    "    By additionally specifying \"limit=\" the \"LIMIT\" keyword will appended to query so that only the first results get returned.\n",
    "    \"\"\"\n",
    "    result=pd.DataFrame()\n",
    "    for filename in filenames:\n",
    "        result=query_cypher_to_data_frame(filename, parameters)\n",
    "        if not result.empty:\n",
    "            print(\"The results have been provided by the query filename: \" + filename)\n",
    "            return result\n",
    "    return result"
   ]
  },
  {
   "cell_type": "code",
   "execution_count": 7,
   "id": "7d2e62d6",
   "metadata": {
    "execution": {
     "iopub.execute_input": "2024-10-25T05:46:26.080819Z",
     "iopub.status.busy": "2024-10-25T05:46:26.080421Z",
     "iopub.status.idle": "2024-10-25T05:46:26.084058Z",
     "shell.execute_reply": "2024-10-25T05:46:26.083587Z"
    }
   },
   "outputs": [],
   "source": [
    "# TODO option to choose between directed and undirected projection\n",
    "\n",
    "def create_undirected_projection(parameters: dict) -> bool: \n",
    "    \"\"\"\n",
    "    Creates an undirected homogenous in-memory Graph projection for/with Neo4j Graph Data Science Plugin.\n",
    "    It returns True if there is data available for the given parameter and False otherwise.\n",
    "    Parameters\n",
    "    ----------\n",
    "    dependencies_projection : str\n",
    "        The name prefix for the in-memory projection for dependencies. Example: \"java-package-embeddings-notebook\"\n",
    "    dependencies_projection_node : str\n",
    "        The label of the nodes that will be used for the projection. Example: \"Package\"\n",
    "    dependencies_projection_weight_property : str\n",
    "        The name of the node property that contains the dependency weight. Example: \"weight25PercentInterfaces\"\n",
    "    dependencies_projection_embedding_dimension : str\n",
    "        The number of the dimensions and therefore size of the resulting array of floating point numbers\n",
    "    \"\"\"\n",
    "    \n",
    "    is_data_missing=query_cypher_to_data_frame(\"../cypher/Dependencies_Projection/Dependencies_0_Check_Projectable.cypher\", parameters).empty\n",
    "    if is_data_missing: return False\n",
    "\n",
    "    query_cypher_to_data_frame(\"../cypher/Dependencies_Projection/Dependencies_1_Delete_Projection.cypher\", parameters)\n",
    "    query_cypher_to_data_frame(\"../cypher/Dependencies_Projection/Dependencies_2_Delete_Subgraph.cypher\", parameters)\n",
    "    # To include the direction of the relationships use the following line to create the projection:\n",
    "    # query_cypher_to_data_frame(\"../cypher/Dependencies_Projection/Dependencies_3_Create_Projection.cypher\", parameters)\n",
    "    query_cypher_to_data_frame(\"../cypher/Dependencies_Projection/Dependencies_4_Create_Undirected_Projection.cypher\", parameters)\n",
    "    query_cypher_to_data_frame(\"../cypher/Dependencies_Projection/Dependencies_5_Create_Subgraph.cypher\", parameters)\n",
    "    return True"
   ]
  },
  {
   "cell_type": "code",
   "execution_count": 8,
   "id": "1aa86093",
   "metadata": {
    "execution": {
     "iopub.execute_input": "2024-10-25T05:46:26.086140Z",
     "iopub.status.busy": "2024-10-25T05:46:26.085826Z",
     "iopub.status.idle": "2024-10-25T05:46:26.089640Z",
     "shell.execute_reply": "2024-10-25T05:46:26.089104Z"
    }
   },
   "outputs": [],
   "source": [
    "# Feature ideas\n",
    "# TODO option to choose between directed and undirected projection\n",
    "# TODO option to not read already existing node embeddings to experiment with different (hpyer) parameters\n",
    "# TODO run a community detection algorithm co-located in here when \"communityId\" is missing\n",
    "# TODO run a centrality algorithm co-located in here when \"centrality\" score is missing\n",
    "\n",
    "def create_node_embeddings(cypher_file_name: str, parameters: dict) -> pd.DataFrame: \n",
    "    \"\"\"\n",
    "    Creates an in-memory Graph projection by calling \"create_undirected_projection\", \n",
    "    runs the cypher Query given as cypherFileName parameter to calculate and stream the node embeddings\n",
    "    and returns a DataFrame with the results.\n",
    "    \n",
    "    cypher_file_name\n",
    "    ----------\n",
    "    Name of the file containing the Cypher query that executes node embeddings procedure.\n",
    "\n",
    "    parameters\n",
    "    ----------\n",
    "    dependencies_projection : str\n",
    "        The name prefix for the in-memory projection for dependencies. Example: \"typescript-module-embeddings-notebook\"\n",
    "    dependencies_projection_node : str\n",
    "        The label of the nodes that will be used for the projection. Example: \"Module\"\n",
    "    dependencies_projection_weight_property : str\n",
    "        The name of the node property that contains the dependency weight. Example: \"lowCouplingElement25PercentWeight\"\n",
    "    dependencies_projection_embedding_dimension : str\n",
    "        The number of the dimensions and therefore size of the resulting array of floating point numbers\n",
    "    \"\"\"\n",
    "    \n",
    "    is_data_available=create_undirected_projection(parameters)\n",
    "    \n",
    "    if not is_data_available:\n",
    "        print(\"No projected data for node embeddings calculation available\")\n",
    "        empty_result = pd.DataFrame(columns=[\"codeUnitName\", 'projectName', 'communityId', 'centrality', 'embedding'])\n",
    "        return empty_result\n",
    "\n",
    "    existing_embeddings_query_filename=\"../cypher/Node_Embeddings/Node_Embeddings_0a_Query_Calculated.cypher\"\n",
    "    embeddings = query_first_non_empty_cypher_to_data_frame(existing_embeddings_query_filename, cypher_file_name, parameters=parameters)\n",
    "    display(embeddings.head()) # Display the first entries of the table\n",
    "    return embeddings"
   ]
  },
  {
   "cell_type": "markdown",
   "id": "f6ec6a9b",
   "metadata": {},
   "source": [
    "### Dimensionality reduction with t-distributed stochastic neighbor embedding (t-SNE)\n",
    "\n",
    "The following function takes the original node embeddings with a higher dimensionality, e.g. 64 floating point numbers, and reduces them into a two dimensional array for visualization. \n",
    "\n",
    "> It converts similarities between data points to joint probabilities and tries to minimize the Kullback-Leibler divergence between the joint probabilities of the low-dimensional embedding and the high-dimensional data.\n",
    "\n",
    "(see https://opentsne.readthedocs.io)"
   ]
  },
  {
   "cell_type": "code",
   "execution_count": 9,
   "id": "720aebd3",
   "metadata": {
    "execution": {
     "iopub.execute_input": "2024-10-25T05:46:26.091615Z",
     "iopub.status.busy": "2024-10-25T05:46:26.091325Z",
     "iopub.status.idle": "2024-10-25T05:46:26.095539Z",
     "shell.execute_reply": "2024-10-25T05:46:26.095050Z"
    }
   },
   "outputs": [],
   "source": [
    "def prepare_node_embeddings_for_2d_visualization(embeddings: pd.DataFrame) -> pd.DataFrame:\n",
    "    \"\"\"\n",
    "    Reduces the dimensionality of the node embeddings (e.g. 32 floating point numbers in an array)\n",
    "    to two dimensions for 2D visualization.\n",
    "    see https://opentsne.readthedocs.io\n",
    "    \"\"\"\n",
    "\n",
    "    if embeddings.empty: \n",
    "        print(\"No projected data for node embeddings dimensionality reduction available\")\n",
    "        return embeddings\n",
    "    \n",
    "    # Calling the fit_transform method just with a list doesn't seem to work (anymore?). \n",
    "    # It leads to an error with the following message: 'list' object has no attribute 'shape'\n",
    "    # This can be solved by converting the list to a numpy array using np.array(..).\n",
    "    # See https://bobbyhadz.com/blog/python-attributeerror-list-object-has-no-attribute-shape\n",
    "    embeddings_as_numpy_array = np.array(embeddings.embedding.to_list())\n",
    "\n",
    "    # Use t-distributed stochastic neighbor embedding (t-SNE) to reduce the dimensionality \n",
    "    # of the previously calculated node embeddings to 2 dimensions for visualization\n",
    "    t_distributed_stochastic_neighbor_embedding = TSNE(n_components=2, verbose=1, random_state=47)\n",
    "    two_dimension_node_embeddings = t_distributed_stochastic_neighbor_embedding.fit_transform(embeddings_as_numpy_array)\n",
    "    display(two_dimension_node_embeddings.shape) # Display the shape of the t-SNE result\n",
    "\n",
    "    # Create a new DataFrame with the results of the 2 dimensional node embeddings\n",
    "    # and the code unit and artifact name of the query above as preparation for the plot\n",
    "    node_embeddings_for_visualization = pd.DataFrame(data = {\n",
    "        \"codeUnit\": embeddings.codeUnitName,\n",
    "        \"artifact\": embeddings.projectName,\n",
    "        \"communityId\": embeddings.communityId,\n",
    "        \"centrality\": embeddings.centrality,\n",
    "        \"x\": [value[0] for value in two_dimension_node_embeddings],\n",
    "        \"y\": [value[1] for value in two_dimension_node_embeddings]\n",
    "    })\n",
    "    display(node_embeddings_for_visualization.head()) # Display the first line of the results\n",
    "    return node_embeddings_for_visualization\n",
    "    "
   ]
  },
  {
   "cell_type": "code",
   "execution_count": 10,
   "id": "d937e26e",
   "metadata": {
    "execution": {
     "iopub.execute_input": "2024-10-25T05:46:26.097598Z",
     "iopub.status.busy": "2024-10-25T05:46:26.097246Z",
     "iopub.status.idle": "2024-10-25T05:46:26.100519Z",
     "shell.execute_reply": "2024-10-25T05:46:26.100035Z"
    }
   },
   "outputs": [],
   "source": [
    "def plot_2d_node_embeddings(node_embeddings_for_visualization: pd.DataFrame, title: str):\n",
    "    if embeddings.empty:\n",
    "        print(\"No projected data to plot available\")\n",
    "        return\n",
    "\n",
    "    plot.scatter(\n",
    "        x=node_embeddings_for_visualization.x,\n",
    "        y=node_embeddings_for_visualization.y,\n",
    "        s=node_embeddings_for_visualization.centrality * 300,\n",
    "        c=node_embeddings_for_visualization.communityId,\n",
    "        cmap=main_color_map,\n",
    "    )\n",
    "    plot.title(title)\n",
    "    plot.show()"
   ]
  },
  {
   "cell_type": "code",
   "execution_count": 11,
   "id": "da9e8edb",
   "metadata": {
    "execution": {
     "iopub.execute_input": "2024-10-25T05:46:26.102671Z",
     "iopub.status.busy": "2024-10-25T05:46:26.102330Z",
     "iopub.status.idle": "2024-10-25T05:46:26.104757Z",
     "shell.execute_reply": "2024-10-25T05:46:26.104334Z"
    }
   },
   "outputs": [],
   "source": [
    "#The following cell uses the build-in %html \"magic\" to override the CSS style for tables to a much smaller size.\n",
    "#This is especially needed for PDF export of tables with multiple columns."
   ]
  },
  {
   "cell_type": "code",
   "execution_count": 12,
   "id": "9deaabce",
   "metadata": {
    "execution": {
     "iopub.execute_input": "2024-10-25T05:46:26.106668Z",
     "iopub.status.busy": "2024-10-25T05:46:26.106341Z",
     "iopub.status.idle": "2024-10-25T05:46:26.114007Z",
     "shell.execute_reply": "2024-10-25T05:46:26.113501Z"
    }
   },
   "outputs": [
    {
     "data": {
      "text/html": [
       "<style>\n",
       "/* CSS style for smaller dataframe tables. */\n",
       ".dataframe th {\n",
       "    font-size: 8px;\n",
       "}\n",
       ".dataframe td {\n",
       "    font-size: 8px;\n",
       "}\n",
       "</style>\n"
      ],
      "text/plain": [
       "<IPython.core.display.HTML object>"
      ]
     },
     "metadata": {},
     "output_type": "display_data"
    }
   ],
   "source": [
    "%%html\n",
    "<style>\n",
    "/* CSS style for smaller dataframe tables. */\n",
    ".dataframe th {\n",
    "    font-size: 8px;\n",
    "}\n",
    ".dataframe td {\n",
    "    font-size: 8px;\n",
    "}\n",
    "</style>"
   ]
  },
  {
   "cell_type": "code",
   "execution_count": 13,
   "id": "c2496caf",
   "metadata": {
    "execution": {
     "iopub.execute_input": "2024-10-25T05:46:26.116017Z",
     "iopub.status.busy": "2024-10-25T05:46:26.115659Z",
     "iopub.status.idle": "2024-10-25T05:46:26.118036Z",
     "shell.execute_reply": "2024-10-25T05:46:26.117583Z"
    }
   },
   "outputs": [],
   "source": [
    "# Main Colormap\n",
    "main_color_map = 'nipy_spectral'"
   ]
  },
  {
   "cell_type": "markdown",
   "id": "0b42163d",
   "metadata": {},
   "source": [
    "## 1. Typescript Modules"
   ]
  },
  {
   "cell_type": "markdown",
   "id": "3b468bae",
   "metadata": {},
   "source": [
    "### 1.1 Generate Node Embeddings for Typescript Modules using Fast Random Projection (Fast RP)\n",
    "\n",
    "[Fast Random Projection](https://neo4j.com/docs/graph-data-science/current/machine-learning/node-embeddings/fastrp) is used to reduce the dimensionality of the node feature space while preserving most of the distance information. Nodes with similar neighborhood result in node embedding with similar vectors.\n",
    "\n",
    "**👉 Hint:** To skip existing node embeddings and always calculate them based on the parameters below edit `Node_Embeddings_0a_Query_Calculated` so that it won't return any results."
   ]
  },
  {
   "cell_type": "code",
   "execution_count": 14,
   "id": "1ecc41b1",
   "metadata": {
    "execution": {
     "iopub.execute_input": "2024-10-25T05:46:26.120110Z",
     "iopub.status.busy": "2024-10-25T05:46:26.119801Z",
     "iopub.status.idle": "2024-10-25T05:46:26.391152Z",
     "shell.execute_reply": "2024-10-25T05:46:26.390621Z"
    }
   },
   "outputs": [
    {
     "name": "stdout",
     "output_type": "stream",
     "text": [
      "The results have been provided by the query filename: ../cypher/Node_Embeddings/Node_Embeddings_0a_Query_Calculated.cypher\n"
     ]
    },
    {
     "data": {
      "text/html": [
       "<div>\n",
       "<style scoped>\n",
       "    .dataframe tbody tr th:only-of-type {\n",
       "        vertical-align: middle;\n",
       "    }\n",
       "\n",
       "    .dataframe tbody tr th {\n",
       "        vertical-align: top;\n",
       "    }\n",
       "\n",
       "    .dataframe thead th {\n",
       "        text-align: right;\n",
       "    }\n",
       "</style>\n",
       "<table border=\"1\" class=\"dataframe\">\n",
       "  <thead>\n",
       "    <tr style=\"text-align: right;\">\n",
       "      <th></th>\n",
       "      <th>codeUnitName</th>\n",
       "      <th>shortCodeUnitName</th>\n",
       "      <th>projectName</th>\n",
       "      <th>communityId</th>\n",
       "      <th>centrality</th>\n",
       "      <th>embedding</th>\n",
       "    </tr>\n",
       "  </thead>\n",
       "  <tbody>\n",
       "    <tr>\n",
       "      <th>0</th>\n",
       "      <td>/home/runner/work/code-graph-analysis-pipeline...</td>\n",
       "      <td>react-router</td>\n",
       "      <td>react-router</td>\n",
       "      <td>0</td>\n",
       "      <td>0.871695</td>\n",
       "      <td>[0.1136832982301712, -0.14023642241954803, -0....</td>\n",
       "    </tr>\n",
       "    <tr>\n",
       "      <th>1</th>\n",
       "      <td>/home/runner/work/code-graph-analysis-pipeline...</td>\n",
       "      <td>react-router-native</td>\n",
       "      <td>react-router-native</td>\n",
       "      <td>0</td>\n",
       "      <td>0.249387</td>\n",
       "      <td>[0.09540732204914093, -0.13414444029331207, -0...</td>\n",
       "    </tr>\n",
       "    <tr>\n",
       "      <th>2</th>\n",
       "      <td>/home/runner/work/code-graph-analysis-pipeline...</td>\n",
       "      <td>react-router-dom</td>\n",
       "      <td>react-router-dom</td>\n",
       "      <td>1</td>\n",
       "      <td>0.340235</td>\n",
       "      <td>[0.049455150961875916, -0.2577980160713196, -0...</td>\n",
       "    </tr>\n",
       "    <tr>\n",
       "      <th>3</th>\n",
       "      <td>/home/runner/work/code-graph-analysis-pipeline...</td>\n",
       "      <td>server</td>\n",
       "      <td>react-router-dom</td>\n",
       "      <td>1</td>\n",
       "      <td>0.249387</td>\n",
       "      <td>[0.13975170254707336, -0.15085220336914062, -0...</td>\n",
       "    </tr>\n",
       "  </tbody>\n",
       "</table>\n",
       "</div>"
      ],
      "text/plain": [
       "                                        codeUnitName    shortCodeUnitName  \\\n",
       "0  /home/runner/work/code-graph-analysis-pipeline...         react-router   \n",
       "1  /home/runner/work/code-graph-analysis-pipeline...  react-router-native   \n",
       "2  /home/runner/work/code-graph-analysis-pipeline...     react-router-dom   \n",
       "3  /home/runner/work/code-graph-analysis-pipeline...               server   \n",
       "\n",
       "           projectName  communityId  centrality  \\\n",
       "0         react-router            0    0.871695   \n",
       "1  react-router-native            0    0.249387   \n",
       "2     react-router-dom            1    0.340235   \n",
       "3     react-router-dom            1    0.249387   \n",
       "\n",
       "                                           embedding  \n",
       "0  [0.1136832982301712, -0.14023642241954803, -0....  \n",
       "1  [0.09540732204914093, -0.13414444029331207, -0...  \n",
       "2  [0.049455150961875916, -0.2577980160713196, -0...  \n",
       "3  [0.13975170254707336, -0.15085220336914062, -0...  "
      ]
     },
     "metadata": {},
     "output_type": "display_data"
    }
   ],
   "source": [
    "typescript_module_embeddings_parameters={\n",
    "    \"dependencies_projection\": \"typescript-module-embeddings-notebook\",\n",
    "    \"dependencies_projection_node\": \"Module\",\n",
    "    \"dependencies_projection_weight_property\": \"lowCouplingElement25PercentWeight\",\n",
    "    \"dependencies_projection_write_property\": \"embeddingsFastRandomProjection\",\n",
    "    \"dependencies_projection_embedding_dimension\":\"32\" \n",
    "}\n",
    "embeddings = create_node_embeddings(\"../cypher/Node_Embeddings/Node_Embeddings_1d_Fast_Random_Projection_Stream.cypher\", typescript_module_embeddings_parameters)\n"
   ]
  },
  {
   "cell_type": "markdown",
   "id": "ad17607c",
   "metadata": {},
   "source": [
    "### 1.2 Dimensionality reduction with t-distributed stochastic neighbor embedding (t-SNE)\n",
    "\n",
    "This step takes the original node embeddings with a higher dimensionality, e.g. 64 floating point numbers, and reduces them into a two dimensional array for visualization. For more details look up the function declaration for \"prepare_node_embeddings_for_2d_visualization\"."
   ]
  },
  {
   "cell_type": "code",
   "execution_count": 15,
   "id": "58575e2f",
   "metadata": {
    "execution": {
     "iopub.execute_input": "2024-10-25T05:46:26.393567Z",
     "iopub.status.busy": "2024-10-25T05:46:26.393119Z",
     "iopub.status.idle": "2024-10-25T05:46:26.544226Z",
     "shell.execute_reply": "2024-10-25T05:46:26.543775Z"
    }
   },
   "outputs": [
    {
     "name": "stderr",
     "output_type": "stream",
     "text": [
      "Perplexity value 30 is too high. Using perplexity 1.00 instead\n"
     ]
    },
    {
     "name": "stdout",
     "output_type": "stream",
     "text": [
      "--------------------------------------------------------------------------------\n",
      "TSNE(early_exaggeration=12, random_state=47, verbose=1)\n",
      "--------------------------------------------------------------------------------\n",
      "===> Finding 3 nearest neighbors using exact search using euclidean distance...\n",
      "   --> Time elapsed: 0.04 seconds\n",
      "===> Calculating affinity matrix...\n",
      "   --> Time elapsed: 0.00 seconds\n",
      "===> Calculating PCA-based initialization...\n",
      "   --> Time elapsed: 0.00 seconds\n",
      "===> Running optimization with exaggeration=12.00, lr=0.33 for 250 iterations...\n",
      "Iteration   50, KL divergence 0.5239, 50 iterations in 0.0068 sec\n",
      "Iteration  100, KL divergence 0.9939, 50 iterations in 0.0062 sec\n",
      "Iteration  150, KL divergence 0.9939, 50 iterations in 0.0061 sec\n",
      "Iteration  200, KL divergence 0.9939, 50 iterations in 0.0061 sec\n",
      "Iteration  250, KL divergence 0.9939, 50 iterations in 0.0062 sec\n",
      "   --> Time elapsed: 0.03 seconds\n",
      "===> Running optimization with exaggeration=1.00, lr=4.00 for 500 iterations...\n",
      "Iteration   50, KL divergence 0.1135, 50 iterations in 0.0063 sec\n",
      "Iteration  100, KL divergence 0.1151, 50 iterations in 0.0064 sec\n",
      "Iteration  150, KL divergence 0.1287, 50 iterations in 0.0064 sec\n",
      "Iteration  200, KL divergence 0.1236, 50 iterations in 0.0063 sec\n",
      "Iteration  250, KL divergence 0.1332, 50 iterations in 0.0064 sec\n",
      "Iteration  300, KL divergence 0.1343, 50 iterations in 0.0063 sec\n",
      "Iteration  350, KL divergence 0.1326, 50 iterations in 0.0064 sec\n",
      "Iteration  400, KL divergence 0.1335, 50 iterations in 0.0063 sec\n",
      "Iteration  450, KL divergence 0.1314, 50 iterations in 0.0065 sec\n",
      "Iteration  500, KL divergence 0.1310, 50 iterations in 0.0065 sec\n",
      "   --> Time elapsed: 0.06 seconds\n"
     ]
    },
    {
     "data": {
      "text/plain": [
       "(4, 2)"
      ]
     },
     "metadata": {},
     "output_type": "display_data"
    },
    {
     "data": {
      "text/html": [
       "<div>\n",
       "<style scoped>\n",
       "    .dataframe tbody tr th:only-of-type {\n",
       "        vertical-align: middle;\n",
       "    }\n",
       "\n",
       "    .dataframe tbody tr th {\n",
       "        vertical-align: top;\n",
       "    }\n",
       "\n",
       "    .dataframe thead th {\n",
       "        text-align: right;\n",
       "    }\n",
       "</style>\n",
       "<table border=\"1\" class=\"dataframe\">\n",
       "  <thead>\n",
       "    <tr style=\"text-align: right;\">\n",
       "      <th></th>\n",
       "      <th>codeUnit</th>\n",
       "      <th>artifact</th>\n",
       "      <th>communityId</th>\n",
       "      <th>centrality</th>\n",
       "      <th>x</th>\n",
       "      <th>y</th>\n",
       "    </tr>\n",
       "  </thead>\n",
       "  <tbody>\n",
       "    <tr>\n",
       "      <th>0</th>\n",
       "      <td>/home/runner/work/code-graph-analysis-pipeline...</td>\n",
       "      <td>react-router</td>\n",
       "      <td>0</td>\n",
       "      <td>0.871695</td>\n",
       "      <td>-1.813226</td>\n",
       "      <td>-0.000143</td>\n",
       "    </tr>\n",
       "    <tr>\n",
       "      <th>1</th>\n",
       "      <td>/home/runner/work/code-graph-analysis-pipeline...</td>\n",
       "      <td>react-router-native</td>\n",
       "      <td>0</td>\n",
       "      <td>0.249387</td>\n",
       "      <td>-3.672437</td>\n",
       "      <td>-0.000290</td>\n",
       "    </tr>\n",
       "    <tr>\n",
       "      <th>2</th>\n",
       "      <td>/home/runner/work/code-graph-analysis-pipeline...</td>\n",
       "      <td>react-router-dom</td>\n",
       "      <td>1</td>\n",
       "      <td>0.340235</td>\n",
       "      <td>4.201760</td>\n",
       "      <td>0.000332</td>\n",
       "    </tr>\n",
       "    <tr>\n",
       "      <th>3</th>\n",
       "      <td>/home/runner/work/code-graph-analysis-pipeline...</td>\n",
       "      <td>react-router-dom</td>\n",
       "      <td>1</td>\n",
       "      <td>0.249387</td>\n",
       "      <td>1.283902</td>\n",
       "      <td>0.000102</td>\n",
       "    </tr>\n",
       "  </tbody>\n",
       "</table>\n",
       "</div>"
      ],
      "text/plain": [
       "                                            codeUnit             artifact  \\\n",
       "0  /home/runner/work/code-graph-analysis-pipeline...         react-router   \n",
       "1  /home/runner/work/code-graph-analysis-pipeline...  react-router-native   \n",
       "2  /home/runner/work/code-graph-analysis-pipeline...     react-router-dom   \n",
       "3  /home/runner/work/code-graph-analysis-pipeline...     react-router-dom   \n",
       "\n",
       "   communityId  centrality         x         y  \n",
       "0            0    0.871695 -1.813226 -0.000143  \n",
       "1            0    0.249387 -3.672437 -0.000290  \n",
       "2            1    0.340235  4.201760  0.000332  \n",
       "3            1    0.249387  1.283902  0.000102  "
      ]
     },
     "metadata": {},
     "output_type": "display_data"
    }
   ],
   "source": [
    "node_embeddings_for_visualization = prepare_node_embeddings_for_2d_visualization(embeddings)"
   ]
  },
  {
   "cell_type": "markdown",
   "id": "20084589",
   "metadata": {},
   "source": [
    "### 1.3 Plot the node embeddings reduced to two dimensions for Typescript"
   ]
  },
  {
   "cell_type": "code",
   "execution_count": 16,
   "id": "fdda2869",
   "metadata": {
    "execution": {
     "iopub.execute_input": "2024-10-25T05:46:26.547593Z",
     "iopub.status.busy": "2024-10-25T05:46:26.546649Z",
     "iopub.status.idle": "2024-10-25T05:46:26.678696Z",
     "shell.execute_reply": "2024-10-25T05:46:26.678204Z"
    }
   },
   "outputs": [
    {
     "data": {
      "image/png": "[encoded data removed]",
      "text/plain": [
       "<Figure size 640x480 with 1 Axes>"
      ]
     },
     "metadata": {},
     "output_type": "display_data"
    }
   ],
   "source": [
    "plot_2d_node_embeddings(\n",
    "    node_embeddings_for_visualization, \n",
    "    \"Typescript Modules positioned by their dependency relationships (FastRP node embeddings + t-SNE)\"\n",
    ")"
   ]
  },
  {
   "cell_type": "markdown",
   "id": "6cac9be7",
   "metadata": {},
   "source": [
    "### 1.4 Node Embeddings for Typescript Modules using HashGNN\n",
    "\n",
    "[HashGNN](https://neo4j.com/docs/graph-data-science/2.6/machine-learning/node-embeddings/hashgnn) resembles Graph Neural Networks (GNN) but does not include a model or require training. It combines ideas of GNNs and fast randomized algorithms. For more details see [HashGNN](https://neo4j.com/docs/graph-data-science/2.6/machine-learning/node-embeddings/hashgnn). Here, the latter 3 steps are combined into one for HashGNN."
   ]
  },
  {
   "cell_type": "code",
   "execution_count": 17,
   "id": "8fe68eca",
   "metadata": {
    "execution": {
     "iopub.execute_input": "2024-10-25T05:46:26.681364Z",
     "iopub.status.busy": "2024-10-25T05:46:26.680834Z",
     "iopub.status.idle": "2024-10-25T05:46:26.998855Z",
     "shell.execute_reply": "2024-10-25T05:46:26.998477Z"
    }
   },
   "outputs": [
    {
     "name": "stdout",
     "output_type": "stream",
     "text": [
      "The results have been provided by the query filename: ../cypher/Node_Embeddings/Node_Embeddings_0a_Query_Calculated.cypher\n"
     ]
    },
    {
     "data": {
      "text/html": [
       "<div>\n",
       "<style scoped>\n",
       "    .dataframe tbody tr th:only-of-type {\n",
       "        vertical-align: middle;\n",
       "    }\n",
       "\n",
       "    .dataframe tbody tr th {\n",
       "        vertical-align: top;\n",
       "    }\n",
       "\n",
       "    .dataframe thead th {\n",
       "        text-align: right;\n",
       "    }\n",
       "</style>\n",
       "<table border=\"1\" class=\"dataframe\">\n",
       "  <thead>\n",
       "    <tr style=\"text-align: right;\">\n",
       "      <th></th>\n",
       "      <th>codeUnitName</th>\n",
       "      <th>shortCodeUnitName</th>\n",
       "      <th>projectName</th>\n",
       "      <th>communityId</th>\n",
       "      <th>centrality</th>\n",
       "      <th>embedding</th>\n",
       "    </tr>\n",
       "  </thead>\n",
       "  <tbody>\n",
       "    <tr>\n",
       "      <th>0</th>\n",
       "      <td>/home/runner/work/code-graph-analysis-pipeline...</td>\n",
       "      <td>react-router</td>\n",
       "      <td>react-router</td>\n",
       "      <td>0</td>\n",
       "      <td>0.871695</td>\n",
       "      <td>[0.3061862289905548, 0.6123724579811096, -1.22...</td>\n",
       "    </tr>\n",
       "    <tr>\n",
       "      <th>1</th>\n",
       "      <td>/home/runner/work/code-graph-analysis-pipeline...</td>\n",
       "      <td>react-router-native</td>\n",
       "      <td>react-router-native</td>\n",
       "      <td>0</td>\n",
       "      <td>0.249387</td>\n",
       "      <td>[0.3061862289905548, 0.6123724579811096, -1.22...</td>\n",
       "    </tr>\n",
       "    <tr>\n",
       "      <th>2</th>\n",
       "      <td>/home/runner/work/code-graph-analysis-pipeline...</td>\n",
       "      <td>react-router-dom</td>\n",
       "      <td>react-router-dom</td>\n",
       "      <td>1</td>\n",
       "      <td>0.340235</td>\n",
       "      <td>[0.3061862289905548, 0.6123724579811096, -1.22...</td>\n",
       "    </tr>\n",
       "    <tr>\n",
       "      <th>3</th>\n",
       "      <td>/home/runner/work/code-graph-analysis-pipeline...</td>\n",
       "      <td>server</td>\n",
       "      <td>react-router-dom</td>\n",
       "      <td>1</td>\n",
       "      <td>0.249387</td>\n",
       "      <td>[0.3061862289905548, 0.6123724579811096, -1.22...</td>\n",
       "    </tr>\n",
       "  </tbody>\n",
       "</table>\n",
       "</div>"
      ],
      "text/plain": [
       "                                        codeUnitName    shortCodeUnitName  \\\n",
       "0  /home/runner/work/code-graph-analysis-pipeline...         react-router   \n",
       "1  /home/runner/work/code-graph-analysis-pipeline...  react-router-native   \n",
       "2  /home/runner/work/code-graph-analysis-pipeline...     react-router-dom   \n",
       "3  /home/runner/work/code-graph-analysis-pipeline...               server   \n",
       "\n",
       "           projectName  communityId  centrality  \\\n",
       "0         react-router            0    0.871695   \n",
       "1  react-router-native            0    0.249387   \n",
       "2     react-router-dom            1    0.340235   \n",
       "3     react-router-dom            1    0.249387   \n",
       "\n",
       "                                           embedding  \n",
       "0  [0.3061862289905548, 0.6123724579811096, -1.22...  \n",
       "1  [0.3061862289905548, 0.6123724579811096, -1.22...  \n",
       "2  [0.3061862289905548, 0.6123724579811096, -1.22...  \n",
       "3  [0.3061862289905548, 0.6123724579811096, -1.22...  "
      ]
     },
     "metadata": {},
     "output_type": "display_data"
    },
    {
     "name": "stderr",
     "output_type": "stream",
     "text": [
      "Perplexity value 30 is too high. Using perplexity 1.00 instead\n"
     ]
    },
    {
     "name": "stdout",
     "output_type": "stream",
     "text": [
      "--------------------------------------------------------------------------------\n",
      "TSNE(early_exaggeration=12, random_state=47, verbose=1)\n",
      "--------------------------------------------------------------------------------\n",
      "===> Finding 3 nearest neighbors using exact search using euclidean distance...\n",
      "   --> Time elapsed: 0.01 seconds\n",
      "===> Calculating affinity matrix...\n",
      "   --> Time elapsed: 0.00 seconds\n",
      "===> Calculating PCA-based initialization...\n",
      "   --> Time elapsed: 0.00 seconds\n",
      "===> Running optimization with exaggeration=12.00, lr=0.33 for 250 iterations...\n",
      "Iteration   50, KL divergence    nan, 50 iterations in 0.0088 sec\n",
      "Iteration  100, KL divergence    nan, 50 iterations in 0.0120 sec\n",
      "Iteration  150, KL divergence    nan, 50 iterations in 0.0123 sec\n",
      "Iteration  200, KL divergence    nan, 50 iterations in 0.0062 sec\n",
      "Iteration  250, KL divergence    nan, 50 iterations in 0.0061 sec\n",
      "   --> Time elapsed: 0.05 seconds\n",
      "===> Running optimization with exaggeration=1.00, lr=4.00 for 500 iterations...\n",
      "Iteration   50, KL divergence    nan, 50 iterations in 0.0063 sec\n",
      "Iteration  100, KL divergence    nan, 50 iterations in 0.0062 sec\n",
      "Iteration  150, KL divergence    nan, 50 iterations in 0.0061 sec\n",
      "Iteration  200, KL divergence    nan, 50 iterations in 0.0062 sec\n",
      "Iteration  250, KL divergence    nan, 50 iterations in 0.0061 sec\n",
      "Iteration  300, KL divergence    nan, 50 iterations in 0.0062 sec\n",
      "Iteration  350, KL divergence    nan, 50 iterations in 0.0061 sec\n",
      "Iteration  400, KL divergence    nan, 50 iterations in 0.0061 sec\n",
      "Iteration  450, KL divergence    nan, 50 iterations in 0.0061 sec\n",
      "Iteration  500, KL divergence    nan, 50 iterations in 0.0061 sec\n",
      "   --> Time elapsed: 0.06 seconds\n"
     ]
    },
    {
     "name": "stderr",
     "output_type": "stream",
     "text": [
      "/home/runner/miniconda3/envs/codegraph/lib/python3.11/site-packages/sklearn/decomposition/_pca.py:527: RuntimeWarning: invalid value encountered in divide\n",
      "  explained_variance_ratio_ = explained_variance_ / total_var\n",
      "/home/runner/miniconda3/envs/codegraph/lib/python3.11/site-packages/openTSNE/initialization.py:27: RuntimeWarning: invalid value encountered in divide\n",
      "  x /= np.std(x[:, 0]) / target_std\n"
     ]
    },
    {
     "data": {
      "text/plain": [
       "(4, 2)"
      ]
     },
     "metadata": {},
     "output_type": "display_data"
    },
    {
     "data": {
      "text/html": [
       "<div>\n",
       "<style scoped>\n",
       "    .dataframe tbody tr th:only-of-type {\n",
       "        vertical-align: middle;\n",
       "    }\n",
       "\n",
       "    .dataframe tbody tr th {\n",
       "        vertical-align: top;\n",
       "    }\n",
       "\n",
       "    .dataframe thead th {\n",
       "        text-align: right;\n",
       "    }\n",
       "</style>\n",
       "<table border=\"1\" class=\"dataframe\">\n",
       "  <thead>\n",
       "    <tr style=\"text-align: right;\">\n",
       "      <th></th>\n",
       "      <th>codeUnit</th>\n",
       "      <th>artifact</th>\n",
       "      <th>communityId</th>\n",
       "      <th>centrality</th>\n",
       "      <th>x</th>\n",
       "      <th>y</th>\n",
       "    </tr>\n",
       "  </thead>\n",
       "  <tbody>\n",
       "    <tr>\n",
       "      <th>0</th>\n",
       "      <td>/home/runner/work/code-graph-analysis-pipeline...</td>\n",
       "      <td>react-router</td>\n",
       "      <td>0</td>\n",
       "      <td>0.871695</td>\n",
       "      <td>NaN</td>\n",
       "      <td>NaN</td>\n",
       "    </tr>\n",
       "    <tr>\n",
       "      <th>1</th>\n",
       "      <td>/home/runner/work/code-graph-analysis-pipeline...</td>\n",
       "      <td>react-router-native</td>\n",
       "      <td>0</td>\n",
       "      <td>0.249387</td>\n",
       "      <td>NaN</td>\n",
       "      <td>NaN</td>\n",
       "    </tr>\n",
       "    <tr>\n",
       "      <th>2</th>\n",
       "      <td>/home/runner/work/code-graph-analysis-pipeline...</td>\n",
       "      <td>react-router-dom</td>\n",
       "      <td>1</td>\n",
       "      <td>0.340235</td>\n",
       "      <td>NaN</td>\n",
       "      <td>NaN</td>\n",
       "    </tr>\n",
       "    <tr>\n",
       "      <th>3</th>\n",
       "      <td>/home/runner/work/code-graph-analysis-pipeline...</td>\n",
       "      <td>react-router-dom</td>\n",
       "      <td>1</td>\n",
       "      <td>0.249387</td>\n",
       "      <td>NaN</td>\n",
       "      <td>NaN</td>\n",
       "    </tr>\n",
       "  </tbody>\n",
       "</table>\n",
       "</div>"
      ],
      "text/plain": [
       "                                            codeUnit             artifact  \\\n",
       "0  /home/runner/work/code-graph-analysis-pipeline...         react-router   \n",
       "1  /home/runner/work/code-graph-analysis-pipeline...  react-router-native   \n",
       "2  /home/runner/work/code-graph-analysis-pipeline...     react-router-dom   \n",
       "3  /home/runner/work/code-graph-analysis-pipeline...     react-router-dom   \n",
       "\n",
       "   communityId  centrality   x   y  \n",
       "0            0    0.871695 NaN NaN  \n",
       "1            0    0.249387 NaN NaN  \n",
       "2            1    0.340235 NaN NaN  \n",
       "3            1    0.249387 NaN NaN  "
      ]
     },
     "metadata": {},
     "output_type": "display_data"
    },
    {
     "data": {
      "image/png": "[encoded data removed]",
      "text/plain": [
       "<Figure size 640x480 with 1 Axes>"
      ]
     },
     "metadata": {},
     "output_type": "display_data"
    }
   ],
   "source": [
    "typescript_module_embeddings_parameters={\n",
    "    \"dependencies_projection\": \"typescript-module-embeddings-notebook\",\n",
    "    \"dependencies_projection_node\": \"Module\",\n",
    "    \"dependencies_projection_weight_property\": \"lowCouplingElement25PercentWeight\",\n",
    "    \"dependencies_projection_write_property\": \"embeddingsHashGNN\",\n",
    "    \"dependencies_projection_embedding_dimension\":\"32\"\n",
    "}\n",
    "embeddings = create_node_embeddings(\"../cypher/Node_Embeddings/Node_Embeddings_2d_Hash_GNN_Stream.cypher\", typescript_module_embeddings_parameters)\n",
    "node_embeddings_for_visualization = prepare_node_embeddings_for_2d_visualization(embeddings)\n",
    "plot_2d_node_embeddings(\n",
    "    node_embeddings_for_visualization, \n",
    "    \"Typescript Modules positioned by their dependency relationships (HashGNN node embeddings + t-SNE)\"\n",
    ")"
   ]
  },
  {
   "cell_type": "markdown",
   "id": "0a7d66f5",
   "metadata": {},
   "source": [
    "### 1.5 Node Embeddings for Typescript Modules using node2vec\n",
    "\n",
    "[node2vec](https://neo4j.com/docs/graph-data-science/current/machine-learning/node-embeddings/node2vec) computes a vector representation of a node based on second order random walks in the graph. \n",
    "The [node2vec](https://towardsdatascience.com/complete-guide-to-understanding-node2vec-algorithm-4e9a35e5d147) algorithm is a transductive node embedding algorithm, meaning that it needs the whole graph to be available to learn the node embeddings."
   ]
  },
  {
   "cell_type": "code",
   "execution_count": 18,
   "id": "ea6c52ca",
   "metadata": {
    "execution": {
     "iopub.execute_input": "2024-10-25T05:46:27.001031Z",
     "iopub.status.busy": "2024-10-25T05:46:27.000665Z",
     "iopub.status.idle": "2024-10-25T05:46:27.308060Z",
     "shell.execute_reply": "2024-10-25T05:46:27.307674Z"
    }
   },
   "outputs": [
    {
     "name": "stdout",
     "output_type": "stream",
     "text": [
      "The results have been provided by the query filename: ../cypher/Node_Embeddings/Node_Embeddings_0a_Query_Calculated.cypher\n"
     ]
    },
    {
     "data": {
      "text/html": [
       "<div>\n",
       "<style scoped>\n",
       "    .dataframe tbody tr th:only-of-type {\n",
       "        vertical-align: middle;\n",
       "    }\n",
       "\n",
       "    .dataframe tbody tr th {\n",
       "        vertical-align: top;\n",
       "    }\n",
       "\n",
       "    .dataframe thead th {\n",
       "        text-align: right;\n",
       "    }\n",
       "</style>\n",
       "<table border=\"1\" class=\"dataframe\">\n",
       "  <thead>\n",
       "    <tr style=\"text-align: right;\">\n",
       "      <th></th>\n",
       "      <th>codeUnitName</th>\n",
       "      <th>shortCodeUnitName</th>\n",
       "      <th>projectName</th>\n",
       "      <th>communityId</th>\n",
       "      <th>centrality</th>\n",
       "      <th>embedding</th>\n",
       "    </tr>\n",
       "  </thead>\n",
       "  <tbody>\n",
       "    <tr>\n",
       "      <th>0</th>\n",
       "      <td>/home/runner/work/code-graph-analysis-pipeline...</td>\n",
       "      <td>react-router</td>\n",
       "      <td>react-router</td>\n",
       "      <td>0</td>\n",
       "      <td>0.871695</td>\n",
       "      <td>[0.11495207250118256, -0.35930871963500977, -0...</td>\n",
       "    </tr>\n",
       "    <tr>\n",
       "      <th>1</th>\n",
       "      <td>/home/runner/work/code-graph-analysis-pipeline...</td>\n",
       "      <td>react-router-native</td>\n",
       "      <td>react-router-native</td>\n",
       "      <td>0</td>\n",
       "      <td>0.249387</td>\n",
       "      <td>[0.11795410513877869, -0.3592906594276428, -0....</td>\n",
       "    </tr>\n",
       "    <tr>\n",
       "      <th>2</th>\n",
       "      <td>/home/runner/work/code-graph-analysis-pipeline...</td>\n",
       "      <td>react-router-dom</td>\n",
       "      <td>react-router-dom</td>\n",
       "      <td>1</td>\n",
       "      <td>0.340235</td>\n",
       "      <td>[0.12152404338121414, -0.36507904529571533, -0...</td>\n",
       "    </tr>\n",
       "    <tr>\n",
       "      <th>3</th>\n",
       "      <td>/home/runner/work/code-graph-analysis-pipeline...</td>\n",
       "      <td>server</td>\n",
       "      <td>react-router-dom</td>\n",
       "      <td>1</td>\n",
       "      <td>0.249387</td>\n",
       "      <td>[0.11582867056131363, -0.3547344505786896, -0....</td>\n",
       "    </tr>\n",
       "  </tbody>\n",
       "</table>\n",
       "</div>"
      ],
      "text/plain": [
       "                                        codeUnitName    shortCodeUnitName  \\\n",
       "0  /home/runner/work/code-graph-analysis-pipeline...         react-router   \n",
       "1  /home/runner/work/code-graph-analysis-pipeline...  react-router-native   \n",
       "2  /home/runner/work/code-graph-analysis-pipeline...     react-router-dom   \n",
       "3  /home/runner/work/code-graph-analysis-pipeline...               server   \n",
       "\n",
       "           projectName  communityId  centrality  \\\n",
       "0         react-router            0    0.871695   \n",
       "1  react-router-native            0    0.249387   \n",
       "2     react-router-dom            1    0.340235   \n",
       "3     react-router-dom            1    0.249387   \n",
       "\n",
       "                                           embedding  \n",
       "0  [0.11495207250118256, -0.35930871963500977, -0...  \n",
       "1  [0.11795410513877869, -0.3592906594276428, -0....  \n",
       "2  [0.12152404338121414, -0.36507904529571533, -0...  \n",
       "3  [0.11582867056131363, -0.3547344505786896, -0....  "
      ]
     },
     "metadata": {},
     "output_type": "display_data"
    },
    {
     "name": "stderr",
     "output_type": "stream",
     "text": [
      "Perplexity value 30 is too high. Using perplexity 1.00 instead\n"
     ]
    },
    {
     "name": "stdout",
     "output_type": "stream",
     "text": [
      "--------------------------------------------------------------------------------\n",
      "TSNE(early_exaggeration=12, random_state=47, verbose=1)\n",
      "--------------------------------------------------------------------------------\n",
      "===> Finding 3 nearest neighbors using exact search using euclidean distance...\n",
      "   --> Time elapsed: 0.01 seconds\n",
      "===> Calculating affinity matrix...\n",
      "   --> Time elapsed: 0.00 seconds\n",
      "===> Calculating PCA-based initialization...\n",
      "   --> Time elapsed: 0.00 seconds\n",
      "===> Running optimization with exaggeration=12.00, lr=0.33 for 250 iterations...\n",
      "Iteration   50, KL divergence 0.8946, 50 iterations in 0.0071 sec\n",
      "Iteration  100, KL divergence 1.0282, 50 iterations in 0.0066 sec\n",
      "Iteration  150, KL divergence 1.0282, 50 iterations in 0.0065 sec\n",
      "Iteration  200, KL divergence 1.0282, 50 iterations in 0.0065 sec\n",
      "Iteration  250, KL divergence 1.0282, 50 iterations in 0.0065 sec\n",
      "   --> Time elapsed: 0.03 seconds\n",
      "===> Running optimization with exaggeration=1.00, lr=4.00 for 500 iterations...\n",
      "Iteration   50, KL divergence 0.1806, 50 iterations in 0.0067 sec\n",
      "Iteration  100, KL divergence 0.1802, 50 iterations in 0.0067 sec\n",
      "Iteration  150, KL divergence 0.1796, 50 iterations in 0.0067 sec\n",
      "Iteration  200, KL divergence 0.1790, 50 iterations in 0.0067 sec\n",
      "Iteration  250, KL divergence 0.1785, 50 iterations in 0.0067 sec\n",
      "Iteration  300, KL divergence 0.1782, 50 iterations in 0.0067 sec\n",
      "Iteration  350, KL divergence 0.1780, 50 iterations in 0.0067 sec\n",
      "Iteration  400, KL divergence 0.1778, 50 iterations in 0.0068 sec\n",
      "Iteration  450, KL divergence 0.1777, 50 iterations in 0.0064 sec\n",
      "Iteration  500, KL divergence 0.1776, 50 iterations in 0.0064 sec\n",
      "   --> Time elapsed: 0.07 seconds\n"
     ]
    },
    {
     "data": {
      "text/plain": [
       "(4, 2)"
      ]
     },
     "metadata": {},
     "output_type": "display_data"
    },
    {
     "data": {
      "text/html": [
       "<div>\n",
       "<style scoped>\n",
       "    .dataframe tbody tr th:only-of-type {\n",
       "        vertical-align: middle;\n",
       "    }\n",
       "\n",
       "    .dataframe tbody tr th {\n",
       "        vertical-align: top;\n",
       "    }\n",
       "\n",
       "    .dataframe thead th {\n",
       "        text-align: right;\n",
       "    }\n",
       "</style>\n",
       "<table border=\"1\" class=\"dataframe\">\n",
       "  <thead>\n",
       "    <tr style=\"text-align: right;\">\n",
       "      <th></th>\n",
       "      <th>codeUnit</th>\n",
       "      <th>artifact</th>\n",
       "      <th>communityId</th>\n",
       "      <th>centrality</th>\n",
       "      <th>x</th>\n",
       "      <th>y</th>\n",
       "    </tr>\n",
       "  </thead>\n",
       "  <tbody>\n",
       "    <tr>\n",
       "      <th>0</th>\n",
       "      <td>/home/runner/work/code-graph-analysis-pipeline...</td>\n",
       "      <td>react-router</td>\n",
       "      <td>0</td>\n",
       "      <td>0.871695</td>\n",
       "      <td>19.078357</td>\n",
       "      <td>1.183854</td>\n",
       "    </tr>\n",
       "    <tr>\n",
       "      <th>1</th>\n",
       "      <td>/home/runner/work/code-graph-analysis-pipeline...</td>\n",
       "      <td>react-router-native</td>\n",
       "      <td>0</td>\n",
       "      <td>0.249387</td>\n",
       "      <td>4.793166</td>\n",
       "      <td>0.297677</td>\n",
       "    </tr>\n",
       "    <tr>\n",
       "      <th>2</th>\n",
       "      <td>/home/runner/work/code-graph-analysis-pipeline...</td>\n",
       "      <td>react-router-dom</td>\n",
       "      <td>1</td>\n",
       "      <td>0.340235</td>\n",
       "      <td>-4.780935</td>\n",
       "      <td>-0.296514</td>\n",
       "    </tr>\n",
       "    <tr>\n",
       "      <th>3</th>\n",
       "      <td>/home/runner/work/code-graph-analysis-pipeline...</td>\n",
       "      <td>react-router-dom</td>\n",
       "      <td>1</td>\n",
       "      <td>0.249387</td>\n",
       "      <td>-19.090588</td>\n",
       "      <td>-1.185017</td>\n",
       "    </tr>\n",
       "  </tbody>\n",
       "</table>\n",
       "</div>"
      ],
      "text/plain": [
       "                                            codeUnit             artifact  \\\n",
       "0  /home/runner/work/code-graph-analysis-pipeline...         react-router   \n",
       "1  /home/runner/work/code-graph-analysis-pipeline...  react-router-native   \n",
       "2  /home/runner/work/code-graph-analysis-pipeline...     react-router-dom   \n",
       "3  /home/runner/work/code-graph-analysis-pipeline...     react-router-dom   \n",
       "\n",
       "   communityId  centrality          x         y  \n",
       "0            0    0.871695  19.078357  1.183854  \n",
       "1            0    0.249387   4.793166  0.297677  \n",
       "2            1    0.340235  -4.780935 -0.296514  \n",
       "3            1    0.249387 -19.090588 -1.185017  "
      ]
     },
     "metadata": {},
     "output_type": "display_data"
    },
    {
     "data": {
      "image/png": "[encoded data removed]",
      "text/plain": [
       "<Figure size 640x480 with 1 Axes>"
      ]
     },
     "metadata": {},
     "output_type": "display_data"
    }
   ],
   "source": [
    "typescript_module_embeddings_parameters={\n",
    "    \"dependencies_projection\": \"typescript-module-embeddings-notebook\",\n",
    "    \"dependencies_projection_node\": \"Module\",\n",
    "    \"dependencies_projection_weight_property\": \"lowCouplingElement25PercentWeight\",\n",
    "    \"dependencies_projection_write_property\": \"embeddingsNode2Vec\",\n",
    "    \"dependencies_projection_embedding_dimension\":\"32\"\n",
    "}\n",
    "embeddings = create_node_embeddings(\"../cypher/Node_Embeddings/Node_Embeddings_3d_Node2Vec_Stream.cypher\", typescript_module_embeddings_parameters)\n",
    "node_embeddings_for_visualization = prepare_node_embeddings_for_2d_visualization(embeddings)\n",
    "plot_2d_node_embeddings(\n",
    "    node_embeddings_for_visualization, \n",
    "    \"Typescript Modules positioned by their dependency relationships (node2vec node embeddings + t-SNE)\"\n",
    ")"
   ]
  }
 ],
 "metadata": {
  "authors": [
   {
    "name": "JohT"
   }
  ],
  "code_graph_analysis_pipeline_data_validation": "ValidateTypescriptModuleDependencies",
  "kernelspec": {
   "display_name": "Python 3 (ipykernel)",
   "language": "python",
   "name": "python3"
  },
  "language_info": {
   "codemirror_mode": {
    "name": "ipython",
    "version": 3
   },
   "file_extension": ".py",
   "mimetype": "text/x-python",
   "name": "python",
   "nbconvert_exporter": "python",
   "pygments_lexer": "ipython3",
   "version": "3.11.0"
  },
  "title": "Object Oriented Design Quality Metrics for Java with Neo4j"
 },
 "nbformat": 4,
 "nbformat_minor": 5
}
