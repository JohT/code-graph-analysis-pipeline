{
 "cells": [
  {
   "attachments": {},
   "cell_type": "markdown",
   "id": "2f0eabc4",
   "metadata": {},
   "source": [
    "# Node Embeddings\n",
    "\n",
    "Here we will have a look at node embeddings and how to further reduce their dimensionality to be able to visualize them in a 2D plot. \n",
    "\n",
    "### Note about data dependencies\n",
    "\n",
    "PageRank centrality and Leiden community are also fetched from the Graph and need to be calculated first.\n",
    "This makes it easier to see in the visualization if the embeddings approximate the structural information of the graph.\n",
    "If these properties are missing you will only see black dots all of the same size without community coloring.\n",
    "In future it might make sense to also run a community detection algorithm co-located in here to not depend on the order of execution.\n",
    "\n",
    "<br>  \n",
    "\n",
    "### References\n",
    "- [jqassistant](https://jqassistant.org)\n",
    "- [Neo4j Python Driver](https://neo4j.com/docs/api/python-driver/current)\n",
    "- [Tutorial: Applied Graph Embeddings](https://neo4j.com/developer/graph-data-science/applied-graph-embeddings)\n",
    "- [Visualizing the embeddings in 2D](https://github.com/openai/openai-cookbook/blob/main/examples/Visualizing_embeddings_in_2D.ipynb)\n",
    "- [Fast Random Projection](https://neo4j.com/docs/graph-data-science/current/machine-learning/node-embeddings/fastrp)\n",
    "- [scikit-learn TSNE](https://scikit-learn.org/stable/modules/generated/sklearn.manifold.TSNE.html#sklearn.manifold.TSNE)\n",
    "- [AttributeError: 'list' object has no attribute 'shape'](https://bobbyhadz.com/blog/python-attributeerror-list-object-has-no-attribute-shape)"
   ]
  },
  {
   "cell_type": "code",
   "execution_count": 1,
   "id": "4191f259",
   "metadata": {
    "execution": {
     "iopub.execute_input": "2023-10-12T05:54:16.985410Z",
     "iopub.status.busy": "2023-10-12T05:54:16.985022Z",
     "iopub.status.idle": "2023-10-12T05:54:18.551646Z",
     "shell.execute_reply": "2023-10-12T05:54:18.551021Z"
    }
   },
   "outputs": [],
   "source": [
    "import os\n",
    "import pandas as pd\n",
    "import matplotlib.pyplot as plot\n",
    "import typing as typ\n",
    "import numpy as np\n",
    "from sklearn.manifold import TSNE\n",
    "from neo4j import GraphDatabase"
   ]
  },
  {
   "cell_type": "code",
   "execution_count": 2,
   "id": "f8ef41ff",
   "metadata": {
    "execution": {
     "iopub.execute_input": "2023-10-12T05:54:18.555424Z",
     "iopub.status.busy": "2023-10-12T05:54:18.554936Z",
     "iopub.status.idle": "2023-10-12T05:54:18.558701Z",
     "shell.execute_reply": "2023-10-12T05:54:18.558216Z"
    }
   },
   "outputs": [
    {
     "name": "stdout",
     "output_type": "stream",
     "text": [
      "The scikit-learn version is 1.3.0.\n",
      "The pandas version is 1.5.1.\n"
     ]
    }
   ],
   "source": [
    "import sklearn\n",
    "print('The scikit-learn version is {}.'.format(sklearn.__version__))\n",
    "print('The pandas version is {}.'.format(pd.__version__))\n"
   ]
  },
  {
   "cell_type": "code",
   "execution_count": 3,
   "id": "1c5dab37",
   "metadata": {
    "execution": {
     "iopub.execute_input": "2023-10-12T05:54:18.561657Z",
     "iopub.status.busy": "2023-10-12T05:54:18.561183Z",
     "iopub.status.idle": "2023-10-12T05:54:18.570492Z",
     "shell.execute_reply": "2023-10-12T05:54:18.569993Z"
    }
   },
   "outputs": [],
   "source": [
    "# Please set the environment variable \"NEO4J_INITIAL_PASSWORD\" in your shell \n",
    "# before starting jupyter notebook to provide the password for the user \"neo4j\". \n",
    "# It is not recommended to hardcode the password into jupyter notebook for security reasons.\n",
    "\n",
    "driver = GraphDatabase.driver(uri=\"bolt://localhost:7687\", auth=(\"neo4j\", os.environ.get(\"NEO4J_INITIAL_PASSWORD\")))\n",
    "driver.verify_connectivity()"
   ]
  },
  {
   "cell_type": "code",
   "execution_count": 4,
   "id": "c1db254b",
   "metadata": {
    "execution": {
     "iopub.execute_input": "2023-10-12T05:54:18.573083Z",
     "iopub.status.busy": "2023-10-12T05:54:18.572718Z",
     "iopub.status.idle": "2023-10-12T05:54:18.576473Z",
     "shell.execute_reply": "2023-10-12T05:54:18.575994Z"
    }
   },
   "outputs": [],
   "source": [
    "def get_cypher_query_from_file(filename):\n",
    "    with open(filename) as file:\n",
    "        return ' '.join(file.readlines())"
   ]
  },
  {
   "cell_type": "code",
   "execution_count": 5,
   "id": "59310f6f",
   "metadata": {
    "execution": {
     "iopub.execute_input": "2023-10-12T05:54:18.578812Z",
     "iopub.status.busy": "2023-10-12T05:54:18.578456Z",
     "iopub.status.idle": "2023-10-12T05:54:18.582667Z",
     "shell.execute_reply": "2023-10-12T05:54:18.582206Z"
    }
   },
   "outputs": [],
   "source": [
    "def query_cypher_to_data_frame(filename, parameters_: typ.Optional[typ.Dict[str, typ.Any]] = None):\n",
    "    records, summary, keys = driver.execute_query(get_cypher_query_from_file(filename),parameters_=parameters_)\n",
    "    return pd.DataFrame([r.values() for r in records], columns=keys)"
   ]
  },
  {
   "cell_type": "code",
   "execution_count": 6,
   "id": "da9e8edb",
   "metadata": {
    "execution": {
     "iopub.execute_input": "2023-10-12T05:54:18.585077Z",
     "iopub.status.busy": "2023-10-12T05:54:18.584892Z",
     "iopub.status.idle": "2023-10-12T05:54:18.587998Z",
     "shell.execute_reply": "2023-10-12T05:54:18.587518Z"
    }
   },
   "outputs": [],
   "source": [
    "#The following cell uses the build-in %html \"magic\" to override the CSS style for tables to a much smaller size.\n",
    "#This is especially needed for PDF export of tables with multiple columns."
   ]
  },
  {
   "cell_type": "code",
   "execution_count": 7,
   "id": "9deaabce",
   "metadata": {
    "execution": {
     "iopub.execute_input": "2023-10-12T05:54:18.590266Z",
     "iopub.status.busy": "2023-10-12T05:54:18.590084Z",
     "iopub.status.idle": "2023-10-12T05:54:18.598191Z",
     "shell.execute_reply": "2023-10-12T05:54:18.597656Z"
    }
   },
   "outputs": [
    {
     "data": {
      "text/html": [
       "<style>\n",
       "/* CSS style for smaller dataframe tables. */\n",
       ".dataframe th {\n",
       "    font-size: 8px;\n",
       "}\n",
       ".dataframe td {\n",
       "    font-size: 8px;\n",
       "}\n",
       "</style>\n"
      ],
      "text/plain": [
       "<IPython.core.display.HTML object>"
      ]
     },
     "metadata": {},
     "output_type": "display_data"
    }
   ],
   "source": [
    "%%html\n",
    "<style>\n",
    "/* CSS style for smaller dataframe tables. */\n",
    ".dataframe th {\n",
    "    font-size: 8px;\n",
    "}\n",
    ".dataframe td {\n",
    "    font-size: 8px;\n",
    "}\n",
    "</style>"
   ]
  },
  {
   "cell_type": "code",
   "execution_count": 8,
   "id": "c2496caf",
   "metadata": {
    "execution": {
     "iopub.execute_input": "2023-10-12T05:54:18.600608Z",
     "iopub.status.busy": "2023-10-12T05:54:18.600149Z",
     "iopub.status.idle": "2023-10-12T05:54:18.603594Z",
     "shell.execute_reply": "2023-10-12T05:54:18.603139Z"
    }
   },
   "outputs": [],
   "source": [
    "# Main Colormap\n",
    "main_color_map = 'nipy_spectral'"
   ]
  },
  {
   "cell_type": "markdown",
   "id": "0c68aa20",
   "metadata": {},
   "source": [
    "## Preparation"
   ]
  },
  {
   "cell_type": "markdown",
   "id": "fcec9b7d",
   "metadata": {},
   "source": [
    "### Create Graph Projection\n",
    "\n",
    "Create an in-memory undirected graph projection containing Package nodes (vertices) and their dependencies (edges)."
   ]
  },
  {
   "cell_type": "code",
   "execution_count": 9,
   "id": "20190661",
   "metadata": {
    "execution": {
     "iopub.execute_input": "2023-10-12T05:54:18.606007Z",
     "iopub.status.busy": "2023-10-12T05:54:18.605664Z",
     "iopub.status.idle": "2023-10-12T05:54:18.608493Z",
     "shell.execute_reply": "2023-10-12T05:54:18.607925Z"
    }
   },
   "outputs": [],
   "source": [
    "package_embeddings_parameters={\n",
    "    \"dependencies_projection\": \"package-embeddings-notebook\",\n",
    "    \"dependencies_projection_node\": \"Package\",\n",
    "    \"dependencies_projection_weight_property\": \"weight25PercentInterfaces\",\n",
    "    \"dependencies_projection_wright_property\": \"nodeEmbeddingsFastRandomProjection\",\n",
    "    \"dependencies_projection_embedding_dimension\":\"64\" \n",
    "}"
   ]
  },
  {
   "cell_type": "code",
   "execution_count": 10,
   "id": "82e99db2",
   "metadata": {
    "execution": {
     "iopub.execute_input": "2023-10-12T05:54:18.611109Z",
     "iopub.status.busy": "2023-10-12T05:54:18.610763Z",
     "iopub.status.idle": "2023-10-12T05:54:18.740617Z",
     "shell.execute_reply": "2023-10-12T05:54:18.740103Z"
    }
   },
   "outputs": [
    {
     "data": {
      "text/html": [
       "<div>\n",
       "<style scoped>\n",
       "    .dataframe tbody tr th:only-of-type {\n",
       "        vertical-align: middle;\n",
       "    }\n",
       "\n",
       "    .dataframe tbody tr th {\n",
       "        vertical-align: top;\n",
       "    }\n",
       "\n",
       "    .dataframe thead th {\n",
       "        text-align: right;\n",
       "    }\n",
       "</style>\n",
       "<table border=\"1\" class=\"dataframe\">\n",
       "  <thead>\n",
       "    <tr style=\"text-align: right;\">\n",
       "      <th></th>\n",
       "      <th>graphName</th>\n",
       "      <th>fromGraphName</th>\n",
       "      <th>nodeCount</th>\n",
       "      <th>relationshipCount</th>\n",
       "      <th>nodeFilter</th>\n",
       "    </tr>\n",
       "  </thead>\n",
       "  <tbody>\n",
       "    <tr>\n",
       "      <th>0</th>\n",
       "      <td>package-embeddings-notebook-without-empty</td>\n",
       "      <td>package-embeddings-notebook</td>\n",
       "      <td>93</td>\n",
       "      <td>1130</td>\n",
       "      <td>n.outgoingDependencies &gt; 0 OR n.incomingDepend...</td>\n",
       "    </tr>\n",
       "  </tbody>\n",
       "</table>\n",
       "</div>"
      ],
      "text/plain": [
       "                                   graphName                fromGraphName  \\\n",
       "0  package-embeddings-notebook-without-empty  package-embeddings-notebook   \n",
       "\n",
       "   nodeCount  relationshipCount  \\\n",
       "0         93               1130   \n",
       "\n",
       "                                          nodeFilter  \n",
       "0  n.outgoingDependencies > 0 OR n.incomingDepend...  "
      ]
     },
     "execution_count": 10,
     "metadata": {},
     "output_type": "execute_result"
    }
   ],
   "source": [
    "query_cypher_to_data_frame(\"../cypher/Dependencies_Projection/Dependencies_1_Delete_Projection.cypher\", package_embeddings_parameters)\n",
    "query_cypher_to_data_frame(\"../cypher/Dependencies_Projection/Dependencies_2_Delete_Subgraph.cypher\", package_embeddings_parameters)\n",
    "query_cypher_to_data_frame(\"../cypher/Dependencies_Projection/Dependencies_4_Create_Undirected_Projection.cypher\", package_embeddings_parameters)\n",
    "query_cypher_to_data_frame(\"../cypher/Dependencies_Projection/Dependencies_5_Create_Subgraph.cypher\", package_embeddings_parameters)"
   ]
  },
  {
   "cell_type": "markdown",
   "id": "145dca19",
   "metadata": {},
   "source": [
    "### Generate Node Embeddings using Fast Random Projection (Fast RP)\n",
    "\n",
    "[Fast Random Projection](https://neo4j.com/docs/graph-data-science/current/machine-learning/node-embeddings/fastrp) calculates an array of floats (length = embedding dimension) for every node in the graph. These numbers approximate the relationship and similarity information of each node and are called node embeddings. Random Projections is used to reduce the dimensionality of the node feature space while preserving pairwise distances.\n",
    "\n",
    "The result can be used in machine learning as features approximating the graph structure. It can also be used to further reduce the dimensionality to visualize the graph in a 2D plot, as we will be doing here."
   ]
  },
  {
   "cell_type": "code",
   "execution_count": 11,
   "id": "8efca2cf",
   "metadata": {
    "execution": {
     "iopub.execute_input": "2023-10-12T05:54:18.743630Z",
     "iopub.status.busy": "2023-10-12T05:54:18.743319Z",
     "iopub.status.idle": "2023-10-12T05:54:18.847139Z",
     "shell.execute_reply": "2023-10-12T05:54:18.846664Z"
    }
   },
   "outputs": [
    {
     "data": {
      "text/html": [
       "<div>\n",
       "<style scoped>\n",
       "    .dataframe tbody tr th:only-of-type {\n",
       "        vertical-align: middle;\n",
       "    }\n",
       "\n",
       "    .dataframe tbody tr th {\n",
       "        vertical-align: top;\n",
       "    }\n",
       "\n",
       "    .dataframe thead th {\n",
       "        text-align: right;\n",
       "    }\n",
       "</style>\n",
       "<table border=\"1\" class=\"dataframe\">\n",
       "  <thead>\n",
       "    <tr style=\"text-align: right;\">\n",
       "      <th></th>\n",
       "      <th>codeUnitName</th>\n",
       "      <th>communityId</th>\n",
       "      <th>centrality</th>\n",
       "      <th>artifactName</th>\n",
       "      <th>embedding</th>\n",
       "    </tr>\n",
       "  </thead>\n",
       "  <tbody>\n",
       "    <tr>\n",
       "      <th>0</th>\n",
       "      <td>org.axonframework.tracing.attributes</td>\n",
       "      <td>5</td>\n",
       "      <td>0.013868</td>\n",
       "      <td>axon-messaging-4.8.2</td>\n",
       "      <td>[-0.08407311141490936, -0.10319409519433975, -...</td>\n",
       "    </tr>\n",
       "    <tr>\n",
       "      <th>1</th>\n",
       "      <td>org.axonframework.util</td>\n",
       "      <td>5</td>\n",
       "      <td>0.027632</td>\n",
       "      <td>axon-messaging-4.8.2</td>\n",
       "      <td>[0.01044880598783493, 0.04373960569500923, -0....</td>\n",
       "    </tr>\n",
       "    <tr>\n",
       "      <th>2</th>\n",
       "      <td>org.axonframework.modelling.command</td>\n",
       "      <td>0</td>\n",
       "      <td>0.033153</td>\n",
       "      <td>axon-modelling-4.8.2</td>\n",
       "      <td>[0.03394953906536102, 0.01623348705470562, -0....</td>\n",
       "    </tr>\n",
       "    <tr>\n",
       "      <th>3</th>\n",
       "      <td>org.axonframework.modelling.command.inspection</td>\n",
       "      <td>0</td>\n",
       "      <td>0.023037</td>\n",
       "      <td>axon-modelling-4.8.2</td>\n",
       "      <td>[0.06496097147464752, 0.003628889564424753, -0...</td>\n",
       "    </tr>\n",
       "    <tr>\n",
       "      <th>4</th>\n",
       "      <td>org.axonframework.modelling.command.legacyjpa</td>\n",
       "      <td>0</td>\n",
       "      <td>0.013868</td>\n",
       "      <td>axon-modelling-4.8.2</td>\n",
       "      <td>[0.08117750287055969, 0.047742810100317, -0.12...</td>\n",
       "    </tr>\n",
       "  </tbody>\n",
       "</table>\n",
       "</div>"
      ],
      "text/plain": [
       "                                     codeUnitName  communityId  centrality  \\\n",
       "0            org.axonframework.tracing.attributes            5    0.013868   \n",
       "1                          org.axonframework.util            5    0.027632   \n",
       "2             org.axonframework.modelling.command            0    0.033153   \n",
       "3  org.axonframework.modelling.command.inspection            0    0.023037   \n",
       "4   org.axonframework.modelling.command.legacyjpa            0    0.013868   \n",
       "\n",
       "           artifactName                                          embedding  \n",
       "0  axon-messaging-4.8.2  [-0.08407311141490936, -0.10319409519433975, -...  \n",
       "1  axon-messaging-4.8.2  [0.01044880598783493, 0.04373960569500923, -0....  \n",
       "2  axon-modelling-4.8.2  [0.03394953906536102, 0.01623348705470562, -0....  \n",
       "3  axon-modelling-4.8.2  [0.06496097147464752, 0.003628889564424753, -0...  \n",
       "4  axon-modelling-4.8.2  [0.08117750287055969, 0.047742810100317, -0.12...  "
      ]
     },
     "execution_count": 11,
     "metadata": {},
     "output_type": "execute_result"
    }
   ],
   "source": [
    "\n",
    "fast_random_projection = query_cypher_to_data_frame(\"../cypher/Node_Embeddings/Node_Embeddings_1d_Fast_Random_Projection_Stream.cypher\", package_embeddings_parameters)\n",
    "fast_random_projection.head() # Look at the first entries of the table \n"
   ]
  },
  {
   "cell_type": "markdown",
   "id": "76d8bca1",
   "metadata": {},
   "source": [
    "### Dimensionality reduction with t-distributed stochastic neighbor embedding (t-SNE)\n",
    "\n",
    "This step takes the original node embeddings with a higher dimensionality (e.g. list of 32 floats) and\n",
    "reduces them to a 2 dimensional array for visualization. \n",
    "\n",
    "> It converts similarities between data points to joint probabilities and tries to minimize the Kullback-Leibler divergence between the joint probabilities of the low-dimensional embedding and the high-dimensional data.\n",
    "\n",
    "(see https://scikit-learn.org/stable/modules/generated/sklearn.manifold.TSNE.html#sklearn.manifold.TSNE)"
   ]
  },
  {
   "cell_type": "code",
   "execution_count": 12,
   "id": "b2de000f",
   "metadata": {
    "execution": {
     "iopub.execute_input": "2023-10-12T05:54:18.850767Z",
     "iopub.status.busy": "2023-10-12T05:54:18.849607Z",
     "iopub.status.idle": "2023-10-12T05:54:19.317068Z",
     "shell.execute_reply": "2023-10-12T05:54:19.316589Z"
    }
   },
   "outputs": [
    {
     "name": "stdout",
     "output_type": "stream",
     "text": [
      "[t-SNE] Computing 91 nearest neighbors...\n",
      "[t-SNE] Indexed 93 samples in 0.000s...\n",
      "[t-SNE] Computed neighbors for 93 samples in 0.046s...\n",
      "[t-SNE] Computed conditional probabilities for sample 93 / 93\n",
      "[t-SNE] Mean sigma: 0.441813\n",
      "[t-SNE] KL divergence after 250 iterations with early exaggeration: 49.667824\n",
      "[t-SNE] KL divergence after 750 iterations: 0.164504\n"
     ]
    },
    {
     "data": {
      "text/plain": [
       "(93, 2)"
      ]
     },
     "execution_count": 12,
     "metadata": {},
     "output_type": "execute_result"
    }
   ],
   "source": [
    "# Calling the fit_transform method just with a list doesn't seem to work (anymore?). \n",
    "# It leads to an error with the following message: 'list' object has no attribute 'shape'\n",
    "# This can be solved by converting the list to a numpy array using np.array(..).\n",
    "# See https://bobbyhadz.com/blog/python-attributeerror-list-object-has-no-attribute-shape\n",
    "embeddings_as_numpy_array = np.array(fast_random_projection.embedding.to_list())\n",
    "\n",
    "# Use TSNE to reduce the dimensionality of the previous calculated node embeddings to 2 dimensions for visualization\n",
    "t_distributed_stochastic_neighbor_embedding = TSNE(n_components=2, verbose=1, random_state=50)\n",
    "two_dimension_node_embeddings = t_distributed_stochastic_neighbor_embedding.fit_transform(embeddings_as_numpy_array)\n",
    "two_dimension_node_embeddings.shape"
   ]
  },
  {
   "cell_type": "code",
   "execution_count": 13,
   "id": "8ce7ea41",
   "metadata": {
    "execution": {
     "iopub.execute_input": "2023-10-12T05:54:19.320863Z",
     "iopub.status.busy": "2023-10-12T05:54:19.319945Z",
     "iopub.status.idle": "2023-10-12T05:54:19.331093Z",
     "shell.execute_reply": "2023-10-12T05:54:19.330669Z"
    }
   },
   "outputs": [
    {
     "data": {
      "text/html": [
       "<div>\n",
       "<style scoped>\n",
       "    .dataframe tbody tr th:only-of-type {\n",
       "        vertical-align: middle;\n",
       "    }\n",
       "\n",
       "    .dataframe tbody tr th {\n",
       "        vertical-align: top;\n",
       "    }\n",
       "\n",
       "    .dataframe thead th {\n",
       "        text-align: right;\n",
       "    }\n",
       "</style>\n",
       "<table border=\"1\" class=\"dataframe\">\n",
       "  <thead>\n",
       "    <tr style=\"text-align: right;\">\n",
       "      <th></th>\n",
       "      <th>codeUnit</th>\n",
       "      <th>artifact</th>\n",
       "      <th>communityId</th>\n",
       "      <th>centrality</th>\n",
       "      <th>x</th>\n",
       "      <th>y</th>\n",
       "    </tr>\n",
       "  </thead>\n",
       "  <tbody>\n",
       "    <tr>\n",
       "      <th>0</th>\n",
       "      <td>org.axonframework.tracing.attributes</td>\n",
       "      <td>axon-messaging-4.8.2</td>\n",
       "      <td>5</td>\n",
       "      <td>0.013868</td>\n",
       "      <td>-3.733143</td>\n",
       "      <td>2.657122</td>\n",
       "    </tr>\n",
       "    <tr>\n",
       "      <th>1</th>\n",
       "      <td>org.axonframework.util</td>\n",
       "      <td>axon-messaging-4.8.2</td>\n",
       "      <td>5</td>\n",
       "      <td>0.027632</td>\n",
       "      <td>-2.149618</td>\n",
       "      <td>-1.073570</td>\n",
       "    </tr>\n",
       "    <tr>\n",
       "      <th>2</th>\n",
       "      <td>org.axonframework.modelling.command</td>\n",
       "      <td>axon-modelling-4.8.2</td>\n",
       "      <td>0</td>\n",
       "      <td>0.033153</td>\n",
       "      <td>-0.381026</td>\n",
       "      <td>3.825725</td>\n",
       "    </tr>\n",
       "    <tr>\n",
       "      <th>3</th>\n",
       "      <td>org.axonframework.modelling.command.inspection</td>\n",
       "      <td>axon-modelling-4.8.2</td>\n",
       "      <td>0</td>\n",
       "      <td>0.023037</td>\n",
       "      <td>-0.214617</td>\n",
       "      <td>4.187713</td>\n",
       "    </tr>\n",
       "    <tr>\n",
       "      <th>4</th>\n",
       "      <td>org.axonframework.modelling.command.legacyjpa</td>\n",
       "      <td>axon-modelling-4.8.2</td>\n",
       "      <td>0</td>\n",
       "      <td>0.013868</td>\n",
       "      <td>0.403822</td>\n",
       "      <td>4.714711</td>\n",
       "    </tr>\n",
       "  </tbody>\n",
       "</table>\n",
       "</div>"
      ],
      "text/plain": [
       "                                         codeUnit              artifact  \\\n",
       "0            org.axonframework.tracing.attributes  axon-messaging-4.8.2   \n",
       "1                          org.axonframework.util  axon-messaging-4.8.2   \n",
       "2             org.axonframework.modelling.command  axon-modelling-4.8.2   \n",
       "3  org.axonframework.modelling.command.inspection  axon-modelling-4.8.2   \n",
       "4   org.axonframework.modelling.command.legacyjpa  axon-modelling-4.8.2   \n",
       "\n",
       "   communityId  centrality         x         y  \n",
       "0            5    0.013868 -3.733143  2.657122  \n",
       "1            5    0.027632 -2.149618 -1.073570  \n",
       "2            0    0.033153 -0.381026  3.825725  \n",
       "3            0    0.023037 -0.214617  4.187713  \n",
       "4            0    0.013868  0.403822  4.714711  "
      ]
     },
     "execution_count": 13,
     "metadata": {},
     "output_type": "execute_result"
    }
   ],
   "source": [
    "# Create a new DataFrame with the results of the 2 dimensional node embeddings\n",
    "# and the code unit and artifact name of the query above as preparation for the plot\n",
    "node_embeddings_for_visualization = pd.DataFrame(data = {\n",
    "    \"codeUnit\": fast_random_projection.codeUnitName,\n",
    "    \"artifact\": fast_random_projection.artifactName,\n",
    "    \"communityId\": fast_random_projection.communityId,\n",
    "    \"centrality\": fast_random_projection.centrality,\n",
    "    \"x\": [value[0] for value in two_dimension_node_embeddings],\n",
    "    \"y\": [value[1] for value in two_dimension_node_embeddings]\n",
    "})\n",
    "node_embeddings_for_visualization.head()"
   ]
  },
  {
   "cell_type": "code",
   "execution_count": 14,
   "id": "459a819c",
   "metadata": {
    "execution": {
     "iopub.execute_input": "2023-10-12T05:54:19.334643Z",
     "iopub.status.busy": "2023-10-12T05:54:19.333766Z",
     "iopub.status.idle": "2023-10-12T05:54:19.471103Z",
     "shell.execute_reply": "2023-10-12T05:54:19.470607Z"
    }
   },
   "outputs": [
    {
     "data": {
      "image/png": "[encoded data removed]",
      "text/plain": [
       "<Figure size 640x480 with 1 Axes>"
      ]
     },
     "metadata": {},
     "output_type": "display_data"
    }
   ],
   "source": [
    "plot.scatter(\n",
    "    x=node_embeddings_for_visualization.x,\n",
    "    y=node_embeddings_for_visualization.y,\n",
    "    s=node_embeddings_for_visualization.centrality * 200,\n",
    "    c=node_embeddings_for_visualization.communityId,\n",
    "    cmap=main_color_map,\n",
    ")\n",
    "plot.title(\"Package nodes positioned by their dependency relationships using t-SNE\")\n",
    "plot.show()"
   ]
  }
 ],
 "metadata": {
  "authors": [
   {
    "name": "JohT"
   }
  ],
  "kernelspec": {
   "display_name": "Python 3 (ipykernel)",
   "language": "python",
   "name": "python3"
  },
  "language_info": {
   "codemirror_mode": {
    "name": "ipython",
    "version": 3
   },
   "file_extension": ".py",
   "mimetype": "text/x-python",
   "name": "python",
   "nbconvert_exporter": "python",
   "pygments_lexer": "ipython3",
   "version": "3.11.0"
  },
  "title": "Object Oriented Design Quality Metrics for Java with Neo4j"
 },
 "nbformat": 4,
 "nbformat_minor": 5
}
