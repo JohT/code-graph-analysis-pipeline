{
 "cells": [
  {
   "attachments": {},
   "cell_type": "markdown",
   "id": "2f0eabc4",
   "metadata": {},
   "source": [
    "# Node Embeddings\n",
    "\n",
    "Here we will have a look at node embeddings and how to further reduce their dimensionality to be able to visualize them in a 2D plot. \n",
    "\n",
    "### Note about data dependencies\n",
    "\n",
    "PageRank centrality and Leiden community are also fetched from the Graph and need to be calculated first.\n",
    "This makes it easier to see in the visualization if the embeddings approximate the structural information of the graph.\n",
    "If these properties are missing you will only see black dots all of the same size without community coloring.\n",
    "In future it might make sense to also run a community detection algorithm co-located in here to not depend on the order of execution.\n",
    "\n",
    "<br>  \n",
    "\n",
    "### References\n",
    "- [jqassistant](https://jqassistant.org)\n",
    "- [Neo4j Python Driver](https://neo4j.com/docs/api/python-driver/current)\n",
    "- [Tutorial: Applied Graph Embeddings](https://neo4j.com/developer/graph-data-science/applied-graph-embeddings)\n",
    "- [Visualizing the embeddings in 2D](https://github.com/openai/openai-cookbook/blob/main/examples/Visualizing_embeddings_in_2D.ipynb)\n",
    "- [Fast Random Projection](https://neo4j.com/docs/graph-data-science/current/machine-learning/node-embeddings/fastrp)\n",
    "- [scikit-learn TSNE](https://scikit-learn.org/stable/modules/generated/sklearn.manifold.TSNE.html#sklearn.manifold.TSNE)\n",
    "- [AttributeError: 'list' object has no attribute 'shape'](https://bobbyhadz.com/blog/python-attributeerror-list-object-has-no-attribute-shape)"
   ]
  },
  {
   "cell_type": "code",
   "execution_count": 1,
   "id": "4191f259",
   "metadata": {
    "execution": {
     "iopub.execute_input": "2023-10-15T05:21:20.554875Z",
     "iopub.status.busy": "2023-10-15T05:21:20.554450Z",
     "iopub.status.idle": "2023-10-15T05:21:22.165631Z",
     "shell.execute_reply": "2023-10-15T05:21:22.165016Z"
    }
   },
   "outputs": [],
   "source": [
    "import os\n",
    "import pandas as pd\n",
    "import matplotlib.pyplot as plot\n",
    "import typing as typ\n",
    "import numpy as np\n",
    "from sklearn.manifold import TSNE\n",
    "from neo4j import GraphDatabase"
   ]
  },
  {
   "cell_type": "code",
   "execution_count": 2,
   "id": "f8ef41ff",
   "metadata": {
    "execution": {
     "iopub.execute_input": "2023-10-15T05:21:22.169196Z",
     "iopub.status.busy": "2023-10-15T05:21:22.168725Z",
     "iopub.status.idle": "2023-10-15T05:21:22.172426Z",
     "shell.execute_reply": "2023-10-15T05:21:22.171942Z"
    }
   },
   "outputs": [
    {
     "name": "stdout",
     "output_type": "stream",
     "text": [
      "The scikit-learn version is 1.3.0.\n",
      "The pandas version is 1.5.1.\n"
     ]
    }
   ],
   "source": [
    "import sklearn\n",
    "print('The scikit-learn version is {}.'.format(sklearn.__version__))\n",
    "print('The pandas version is {}.'.format(pd.__version__))\n"
   ]
  },
  {
   "cell_type": "code",
   "execution_count": 3,
   "id": "1c5dab37",
   "metadata": {
    "execution": {
     "iopub.execute_input": "2023-10-15T05:21:22.175019Z",
     "iopub.status.busy": "2023-10-15T05:21:22.174615Z",
     "iopub.status.idle": "2023-10-15T05:21:22.182989Z",
     "shell.execute_reply": "2023-10-15T05:21:22.182462Z"
    }
   },
   "outputs": [],
   "source": [
    "# Please set the environment variable \"NEO4J_INITIAL_PASSWORD\" in your shell \n",
    "# before starting jupyter notebook to provide the password for the user \"neo4j\". \n",
    "# It is not recommended to hardcode the password into jupyter notebook for security reasons.\n",
    "\n",
    "driver = GraphDatabase.driver(uri=\"bolt://localhost:7687\", auth=(\"neo4j\", os.environ.get(\"NEO4J_INITIAL_PASSWORD\")))\n",
    "driver.verify_connectivity()"
   ]
  },
  {
   "cell_type": "code",
   "execution_count": 4,
   "id": "c1db254b",
   "metadata": {
    "execution": {
     "iopub.execute_input": "2023-10-15T05:21:22.185446Z",
     "iopub.status.busy": "2023-10-15T05:21:22.185261Z",
     "iopub.status.idle": "2023-10-15T05:21:22.188104Z",
     "shell.execute_reply": "2023-10-15T05:21:22.187554Z"
    }
   },
   "outputs": [],
   "source": [
    "def get_cypher_query_from_file(filename):\n",
    "    with open(filename) as file:\n",
    "        return ' '.join(file.readlines())"
   ]
  },
  {
   "cell_type": "code",
   "execution_count": 5,
   "id": "59310f6f",
   "metadata": {
    "execution": {
     "iopub.execute_input": "2023-10-15T05:21:22.190597Z",
     "iopub.status.busy": "2023-10-15T05:21:22.190409Z",
     "iopub.status.idle": "2023-10-15T05:21:22.194632Z",
     "shell.execute_reply": "2023-10-15T05:21:22.194157Z"
    }
   },
   "outputs": [],
   "source": [
    "def query_cypher_to_data_frame(filename, parameters_: typ.Optional[typ.Dict[str, typ.Any]] = None):\n",
    "    records, summary, keys = driver.execute_query(get_cypher_query_from_file(filename),parameters_=parameters_)\n",
    "    return pd.DataFrame([r.values() for r in records], columns=keys)"
   ]
  },
  {
   "cell_type": "code",
   "execution_count": 6,
   "id": "da9e8edb",
   "metadata": {
    "execution": {
     "iopub.execute_input": "2023-10-15T05:21:22.196892Z",
     "iopub.status.busy": "2023-10-15T05:21:22.196708Z",
     "iopub.status.idle": "2023-10-15T05:21:22.199067Z",
     "shell.execute_reply": "2023-10-15T05:21:22.198510Z"
    }
   },
   "outputs": [],
   "source": [
    "#The following cell uses the build-in %html \"magic\" to override the CSS style for tables to a much smaller size.\n",
    "#This is especially needed for PDF export of tables with multiple columns."
   ]
  },
  {
   "cell_type": "code",
   "execution_count": 7,
   "id": "9deaabce",
   "metadata": {
    "execution": {
     "iopub.execute_input": "2023-10-15T05:21:22.201396Z",
     "iopub.status.busy": "2023-10-15T05:21:22.201210Z",
     "iopub.status.idle": "2023-10-15T05:21:22.210679Z",
     "shell.execute_reply": "2023-10-15T05:21:22.210150Z"
    }
   },
   "outputs": [
    {
     "data": {
      "text/html": [
       "<style>\n",
       "/* CSS style for smaller dataframe tables. */\n",
       ".dataframe th {\n",
       "    font-size: 8px;\n",
       "}\n",
       ".dataframe td {\n",
       "    font-size: 8px;\n",
       "}\n",
       "</style>\n"
      ],
      "text/plain": [
       "<IPython.core.display.HTML object>"
      ]
     },
     "metadata": {},
     "output_type": "display_data"
    }
   ],
   "source": [
    "%%html\n",
    "<style>\n",
    "/* CSS style for smaller dataframe tables. */\n",
    ".dataframe th {\n",
    "    font-size: 8px;\n",
    "}\n",
    ".dataframe td {\n",
    "    font-size: 8px;\n",
    "}\n",
    "</style>"
   ]
  },
  {
   "cell_type": "code",
   "execution_count": 8,
   "id": "c2496caf",
   "metadata": {
    "execution": {
     "iopub.execute_input": "2023-10-15T05:21:22.213310Z",
     "iopub.status.busy": "2023-10-15T05:21:22.212935Z",
     "iopub.status.idle": "2023-10-15T05:21:22.216440Z",
     "shell.execute_reply": "2023-10-15T05:21:22.215972Z"
    }
   },
   "outputs": [],
   "source": [
    "# Main Colormap\n",
    "main_color_map = 'nipy_spectral'"
   ]
  },
  {
   "cell_type": "markdown",
   "id": "0c68aa20",
   "metadata": {},
   "source": [
    "## Preparation"
   ]
  },
  {
   "cell_type": "markdown",
   "id": "fcec9b7d",
   "metadata": {},
   "source": [
    "### Create Graph Projection\n",
    "\n",
    "Create an in-memory undirected graph projection containing Package nodes (vertices) and their dependencies (edges)."
   ]
  },
  {
   "cell_type": "code",
   "execution_count": 9,
   "id": "20190661",
   "metadata": {
    "execution": {
     "iopub.execute_input": "2023-10-15T05:21:22.218942Z",
     "iopub.status.busy": "2023-10-15T05:21:22.218758Z",
     "iopub.status.idle": "2023-10-15T05:21:22.222276Z",
     "shell.execute_reply": "2023-10-15T05:21:22.221813Z"
    }
   },
   "outputs": [],
   "source": [
    "package_embeddings_parameters={\n",
    "    \"dependencies_projection\": \"package-embeddings-notebook\",\n",
    "    \"dependencies_projection_node\": \"Package\",\n",
    "    \"dependencies_projection_weight_property\": \"weight25PercentInterfaces\",\n",
    "    \"dependencies_projection_wright_property\": \"nodeEmbeddingsFastRandomProjection\",\n",
    "    \"dependencies_projection_embedding_dimension\":\"64\" \n",
    "}"
   ]
  },
  {
   "cell_type": "code",
   "execution_count": 10,
   "id": "82e99db2",
   "metadata": {
    "execution": {
     "iopub.execute_input": "2023-10-15T05:21:22.224493Z",
     "iopub.status.busy": "2023-10-15T05:21:22.224312Z",
     "iopub.status.idle": "2023-10-15T05:21:22.336840Z",
     "shell.execute_reply": "2023-10-15T05:21:22.336356Z"
    }
   },
   "outputs": [
    {
     "data": {
      "text/html": [
       "<div>\n",
       "<style scoped>\n",
       "    .dataframe tbody tr th:only-of-type {\n",
       "        vertical-align: middle;\n",
       "    }\n",
       "\n",
       "    .dataframe tbody tr th {\n",
       "        vertical-align: top;\n",
       "    }\n",
       "\n",
       "    .dataframe thead th {\n",
       "        text-align: right;\n",
       "    }\n",
       "</style>\n",
       "<table border=\"1\" class=\"dataframe\">\n",
       "  <thead>\n",
       "    <tr style=\"text-align: right;\">\n",
       "      <th></th>\n",
       "      <th>graphName</th>\n",
       "      <th>fromGraphName</th>\n",
       "      <th>nodeCount</th>\n",
       "      <th>relationshipCount</th>\n",
       "      <th>nodeFilter</th>\n",
       "    </tr>\n",
       "  </thead>\n",
       "  <tbody>\n",
       "    <tr>\n",
       "      <th>0</th>\n",
       "      <td>package-embeddings-notebook-cleaned</td>\n",
       "      <td>package-embeddings-notebook</td>\n",
       "      <td>93</td>\n",
       "      <td>1130</td>\n",
       "      <td>n.outgoingDependencies &gt; 0 OR n.incomingDepend...</td>\n",
       "    </tr>\n",
       "  </tbody>\n",
       "</table>\n",
       "</div>"
      ],
      "text/plain": [
       "                             graphName                fromGraphName  \\\n",
       "0  package-embeddings-notebook-cleaned  package-embeddings-notebook   \n",
       "\n",
       "   nodeCount  relationshipCount  \\\n",
       "0         93               1130   \n",
       "\n",
       "                                          nodeFilter  \n",
       "0  n.outgoingDependencies > 0 OR n.incomingDepend...  "
      ]
     },
     "execution_count": 10,
     "metadata": {},
     "output_type": "execute_result"
    }
   ],
   "source": [
    "query_cypher_to_data_frame(\"../cypher/Dependencies_Projection/Dependencies_1_Delete_Projection.cypher\", package_embeddings_parameters)\n",
    "query_cypher_to_data_frame(\"../cypher/Dependencies_Projection/Dependencies_2_Delete_Subgraph.cypher\", package_embeddings_parameters)\n",
    "query_cypher_to_data_frame(\"../cypher/Dependencies_Projection/Dependencies_4_Create_Undirected_Projection.cypher\", package_embeddings_parameters)\n",
    "query_cypher_to_data_frame(\"../cypher/Dependencies_Projection/Dependencies_5_Create_Subgraph.cypher\", package_embeddings_parameters)"
   ]
  },
  {
   "cell_type": "markdown",
   "id": "145dca19",
   "metadata": {},
   "source": [
    "### Generate Node Embeddings using Fast Random Projection (Fast RP)\n",
    "\n",
    "[Fast Random Projection](https://neo4j.com/docs/graph-data-science/current/machine-learning/node-embeddings/fastrp) calculates an array of floats (length = embedding dimension) for every node in the graph. These numbers approximate the relationship and similarity information of each node and are called node embeddings. Random Projections is used to reduce the dimensionality of the node feature space while preserving pairwise distances.\n",
    "\n",
    "The result can be used in machine learning as features approximating the graph structure. It can also be used to further reduce the dimensionality to visualize the graph in a 2D plot, as we will be doing here."
   ]
  },
  {
   "cell_type": "code",
   "execution_count": 11,
   "id": "8efca2cf",
   "metadata": {
    "execution": {
     "iopub.execute_input": "2023-10-15T05:21:22.339788Z",
     "iopub.status.busy": "2023-10-15T05:21:22.339579Z",
     "iopub.status.idle": "2023-10-15T05:21:22.434713Z",
     "shell.execute_reply": "2023-10-15T05:21:22.434216Z"
    }
   },
   "outputs": [
    {
     "data": {
      "text/html": [
       "<div>\n",
       "<style scoped>\n",
       "    .dataframe tbody tr th:only-of-type {\n",
       "        vertical-align: middle;\n",
       "    }\n",
       "\n",
       "    .dataframe tbody tr th {\n",
       "        vertical-align: top;\n",
       "    }\n",
       "\n",
       "    .dataframe thead th {\n",
       "        text-align: right;\n",
       "    }\n",
       "</style>\n",
       "<table border=\"1\" class=\"dataframe\">\n",
       "  <thead>\n",
       "    <tr style=\"text-align: right;\">\n",
       "      <th></th>\n",
       "      <th>codeUnitName</th>\n",
       "      <th>communityId</th>\n",
       "      <th>centrality</th>\n",
       "      <th>artifactName</th>\n",
       "      <th>embedding</th>\n",
       "    </tr>\n",
       "  </thead>\n",
       "  <tbody>\n",
       "    <tr>\n",
       "      <th>0</th>\n",
       "      <td>org.axonframework.disruptor.commandhandling</td>\n",
       "      <td>0</td>\n",
       "      <td>0.013999</td>\n",
       "      <td>axon-disruptor-4.8.2</td>\n",
       "      <td>[0.06510767340660095, -0.33761066198349, -0.04...</td>\n",
       "    </tr>\n",
       "    <tr>\n",
       "      <th>1</th>\n",
       "      <td>org.axonframework.test</td>\n",
       "      <td>1</td>\n",
       "      <td>0.028744</td>\n",
       "      <td>axon-test-4.8.2</td>\n",
       "      <td>[0.25805598497390747, -0.1136484146118164, 0.0...</td>\n",
       "    </tr>\n",
       "    <tr>\n",
       "      <th>2</th>\n",
       "      <td>org.axonframework.test.aggregate</td>\n",
       "      <td>1</td>\n",
       "      <td>0.013868</td>\n",
       "      <td>axon-test-4.8.2</td>\n",
       "      <td>[0.1760740429162979, -0.19692368805408478, -0....</td>\n",
       "    </tr>\n",
       "    <tr>\n",
       "      <th>3</th>\n",
       "      <td>org.axonframework.test.matchers</td>\n",
       "      <td>1</td>\n",
       "      <td>0.020120</td>\n",
       "      <td>axon-test-4.8.2</td>\n",
       "      <td>[0.236893892288208, -0.10776754468679428, 0.03...</td>\n",
       "    </tr>\n",
       "    <tr>\n",
       "      <th>4</th>\n",
       "      <td>org.axonframework.test.saga</td>\n",
       "      <td>1</td>\n",
       "      <td>0.013868</td>\n",
       "      <td>axon-test-4.8.2</td>\n",
       "      <td>[0.2653350234031677, -0.00831170380115509, 0.0...</td>\n",
       "    </tr>\n",
       "  </tbody>\n",
       "</table>\n",
       "</div>"
      ],
      "text/plain": [
       "                                  codeUnitName  communityId  centrality  \\\n",
       "0  org.axonframework.disruptor.commandhandling            0    0.013999   \n",
       "1                       org.axonframework.test            1    0.028744   \n",
       "2             org.axonframework.test.aggregate            1    0.013868   \n",
       "3              org.axonframework.test.matchers            1    0.020120   \n",
       "4                  org.axonframework.test.saga            1    0.013868   \n",
       "\n",
       "           artifactName                                          embedding  \n",
       "0  axon-disruptor-4.8.2  [0.06510767340660095, -0.33761066198349, -0.04...  \n",
       "1       axon-test-4.8.2  [0.25805598497390747, -0.1136484146118164, 0.0...  \n",
       "2       axon-test-4.8.2  [0.1760740429162979, -0.19692368805408478, -0....  \n",
       "3       axon-test-4.8.2  [0.236893892288208, -0.10776754468679428, 0.03...  \n",
       "4       axon-test-4.8.2  [0.2653350234031677, -0.00831170380115509, 0.0...  "
      ]
     },
     "execution_count": 11,
     "metadata": {},
     "output_type": "execute_result"
    }
   ],
   "source": [
    "\n",
    "fast_random_projection = query_cypher_to_data_frame(\"../cypher/Node_Embeddings/Node_Embeddings_1d_Fast_Random_Projection_Stream.cypher\", package_embeddings_parameters)\n",
    "fast_random_projection.head() # Look at the first entries of the table \n"
   ]
  },
  {
   "cell_type": "markdown",
   "id": "76d8bca1",
   "metadata": {},
   "source": [
    "### Dimensionality reduction with t-distributed stochastic neighbor embedding (t-SNE)\n",
    "\n",
    "This step takes the original node embeddings with a higher dimensionality (e.g. list of 32 floats) and\n",
    "reduces them to a 2 dimensional array for visualization. \n",
    "\n",
    "> It converts similarities between data points to joint probabilities and tries to minimize the Kullback-Leibler divergence between the joint probabilities of the low-dimensional embedding and the high-dimensional data.\n",
    "\n",
    "(see https://scikit-learn.org/stable/modules/generated/sklearn.manifold.TSNE.html#sklearn.manifold.TSNE)"
   ]
  },
  {
   "cell_type": "code",
   "execution_count": 12,
   "id": "b2de000f",
   "metadata": {
    "execution": {
     "iopub.execute_input": "2023-10-15T05:21:22.437462Z",
     "iopub.status.busy": "2023-10-15T05:21:22.437073Z",
     "iopub.status.idle": "2023-10-15T05:21:22.756411Z",
     "shell.execute_reply": "2023-10-15T05:21:22.755937Z"
    }
   },
   "outputs": [
    {
     "name": "stdout",
     "output_type": "stream",
     "text": [
      "[t-SNE] Computing 91 nearest neighbors...\n",
      "[t-SNE] Indexed 93 samples in 0.000s...\n",
      "[t-SNE] Computed neighbors for 93 samples in 0.029s...\n",
      "[t-SNE] Computed conditional probabilities for sample 93 / 93\n",
      "[t-SNE] Mean sigma: 0.482730\n",
      "[t-SNE] KL divergence after 250 iterations with early exaggeration: 48.239693\n",
      "[t-SNE] KL divergence after 800 iterations: 0.133287\n"
     ]
    },
    {
     "data": {
      "text/plain": [
       "(93, 2)"
      ]
     },
     "execution_count": 12,
     "metadata": {},
     "output_type": "execute_result"
    }
   ],
   "source": [
    "# Calling the fit_transform method just with a list doesn't seem to work (anymore?). \n",
    "# It leads to an error with the following message: 'list' object has no attribute 'shape'\n",
    "# This can be solved by converting the list to a numpy array using np.array(..).\n",
    "# See https://bobbyhadz.com/blog/python-attributeerror-list-object-has-no-attribute-shape\n",
    "embeddings_as_numpy_array = np.array(fast_random_projection.embedding.to_list())\n",
    "\n",
    "# Use TSNE to reduce the dimensionality of the previous calculated node embeddings to 2 dimensions for visualization\n",
    "t_distributed_stochastic_neighbor_embedding = TSNE(n_components=2, verbose=1, random_state=50)\n",
    "two_dimension_node_embeddings = t_distributed_stochastic_neighbor_embedding.fit_transform(embeddings_as_numpy_array)\n",
    "two_dimension_node_embeddings.shape"
   ]
  },
  {
   "cell_type": "code",
   "execution_count": 13,
   "id": "8ce7ea41",
   "metadata": {
    "execution": {
     "iopub.execute_input": "2023-10-15T05:21:22.759024Z",
     "iopub.status.busy": "2023-10-15T05:21:22.758660Z",
     "iopub.status.idle": "2023-10-15T05:21:22.767676Z",
     "shell.execute_reply": "2023-10-15T05:21:22.767256Z"
    }
   },
   "outputs": [
    {
     "data": {
      "text/html": [
       "<div>\n",
       "<style scoped>\n",
       "    .dataframe tbody tr th:only-of-type {\n",
       "        vertical-align: middle;\n",
       "    }\n",
       "\n",
       "    .dataframe tbody tr th {\n",
       "        vertical-align: top;\n",
       "    }\n",
       "\n",
       "    .dataframe thead th {\n",
       "        text-align: right;\n",
       "    }\n",
       "</style>\n",
       "<table border=\"1\" class=\"dataframe\">\n",
       "  <thead>\n",
       "    <tr style=\"text-align: right;\">\n",
       "      <th></th>\n",
       "      <th>codeUnit</th>\n",
       "      <th>artifact</th>\n",
       "      <th>communityId</th>\n",
       "      <th>centrality</th>\n",
       "      <th>x</th>\n",
       "      <th>y</th>\n",
       "    </tr>\n",
       "  </thead>\n",
       "  <tbody>\n",
       "    <tr>\n",
       "      <th>0</th>\n",
       "      <td>org.axonframework.disruptor.commandhandling</td>\n",
       "      <td>axon-disruptor-4.8.2</td>\n",
       "      <td>0</td>\n",
       "      <td>0.013999</td>\n",
       "      <td>3.670471</td>\n",
       "      <td>0.657657</td>\n",
       "    </tr>\n",
       "    <tr>\n",
       "      <th>1</th>\n",
       "      <td>org.axonframework.test</td>\n",
       "      <td>axon-test-4.8.2</td>\n",
       "      <td>1</td>\n",
       "      <td>0.028744</td>\n",
       "      <td>4.017855</td>\n",
       "      <td>5.995170</td>\n",
       "    </tr>\n",
       "    <tr>\n",
       "      <th>2</th>\n",
       "      <td>org.axonframework.test.aggregate</td>\n",
       "      <td>axon-test-4.8.2</td>\n",
       "      <td>1</td>\n",
       "      <td>0.013868</td>\n",
       "      <td>3.765569</td>\n",
       "      <td>5.090265</td>\n",
       "    </tr>\n",
       "    <tr>\n",
       "      <th>3</th>\n",
       "      <td>org.axonframework.test.matchers</td>\n",
       "      <td>axon-test-4.8.2</td>\n",
       "      <td>1</td>\n",
       "      <td>0.020120</td>\n",
       "      <td>4.107128</td>\n",
       "      <td>5.910811</td>\n",
       "    </tr>\n",
       "    <tr>\n",
       "      <th>4</th>\n",
       "      <td>org.axonframework.test.saga</td>\n",
       "      <td>axon-test-4.8.2</td>\n",
       "      <td>1</td>\n",
       "      <td>0.013868</td>\n",
       "      <td>4.410289</td>\n",
       "      <td>5.702556</td>\n",
       "    </tr>\n",
       "  </tbody>\n",
       "</table>\n",
       "</div>"
      ],
      "text/plain": [
       "                                      codeUnit              artifact  \\\n",
       "0  org.axonframework.disruptor.commandhandling  axon-disruptor-4.8.2   \n",
       "1                       org.axonframework.test       axon-test-4.8.2   \n",
       "2             org.axonframework.test.aggregate       axon-test-4.8.2   \n",
       "3              org.axonframework.test.matchers       axon-test-4.8.2   \n",
       "4                  org.axonframework.test.saga       axon-test-4.8.2   \n",
       "\n",
       "   communityId  centrality         x         y  \n",
       "0            0    0.013999  3.670471  0.657657  \n",
       "1            1    0.028744  4.017855  5.995170  \n",
       "2            1    0.013868  3.765569  5.090265  \n",
       "3            1    0.020120  4.107128  5.910811  \n",
       "4            1    0.013868  4.410289  5.702556  "
      ]
     },
     "execution_count": 13,
     "metadata": {},
     "output_type": "execute_result"
    }
   ],
   "source": [
    "# Create a new DataFrame with the results of the 2 dimensional node embeddings\n",
    "# and the code unit and artifact name of the query above as preparation for the plot\n",
    "node_embeddings_for_visualization = pd.DataFrame(data = {\n",
    "    \"codeUnit\": fast_random_projection.codeUnitName,\n",
    "    \"artifact\": fast_random_projection.artifactName,\n",
    "    \"communityId\": fast_random_projection.communityId,\n",
    "    \"centrality\": fast_random_projection.centrality,\n",
    "    \"x\": [value[0] for value in two_dimension_node_embeddings],\n",
    "    \"y\": [value[1] for value in two_dimension_node_embeddings]\n",
    "})\n",
    "node_embeddings_for_visualization.head()"
   ]
  },
  {
   "cell_type": "code",
   "execution_count": 14,
   "id": "459a819c",
   "metadata": {
    "execution": {
     "iopub.execute_input": "2023-10-15T05:21:22.770266Z",
     "iopub.status.busy": "2023-10-15T05:21:22.769944Z",
     "iopub.status.idle": "2023-10-15T05:21:22.913323Z",
     "shell.execute_reply": "2023-10-15T05:21:22.912841Z"
    }
   },
   "outputs": [
    {
     "data": {
      "image/png": "[encoded data removed]",
      "text/plain": [
       "<Figure size 640x480 with 1 Axes>"
      ]
     },
     "metadata": {},
     "output_type": "display_data"
    }
   ],
   "source": [
    "plot.scatter(\n",
    "    x=node_embeddings_for_visualization.x,\n",
    "    y=node_embeddings_for_visualization.y,\n",
    "    s=node_embeddings_for_visualization.centrality * 200,\n",
    "    c=node_embeddings_for_visualization.communityId,\n",
    "    cmap=main_color_map,\n",
    ")\n",
    "plot.title(\"Package nodes positioned by their dependency relationships using t-SNE\")\n",
    "plot.show()"
   ]
  }
 ],
 "metadata": {
  "authors": [
   {
    "name": "JohT"
   }
  ],
  "kernelspec": {
   "display_name": "Python 3 (ipykernel)",
   "language": "python",
   "name": "python3"
  },
  "language_info": {
   "codemirror_mode": {
    "name": "ipython",
    "version": 3
   },
   "file_extension": ".py",
   "mimetype": "text/x-python",
   "name": "python",
   "nbconvert_exporter": "python",
   "pygments_lexer": "ipython3",
   "version": "3.11.0"
  },
  "title": "Object Oriented Design Quality Metrics for Java with Neo4j"
 },
 "nbformat": 4,
 "nbformat_minor": 5
}
