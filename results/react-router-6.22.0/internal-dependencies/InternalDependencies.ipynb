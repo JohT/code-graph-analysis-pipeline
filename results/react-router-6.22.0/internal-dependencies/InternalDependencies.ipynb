{
 "cells": [
  {
   "attachments": {},
   "cell_type": "markdown",
   "id": "2f0eabc4",
   "metadata": {},
   "source": [
    "# Internal Dependencies\n",
    "<br>  \n",
    "\n",
    "### References\n",
    "- [Analyze java package metrics in a graph database](https://joht.github.io/johtizen/data/2023/04/21/java-package-metrics-analysis.html)\n",
    "- [Calculate metrics](https://101.jqassistant.org/calculate-metrics/index.html)\n",
    "- [Neo4j Python Driver](https://neo4j.com/docs/api/python-driver/current)"
   ]
  },
  {
   "cell_type": "code",
   "execution_count": 1,
   "id": "4191f259",
   "metadata": {
    "execution": {
     "iopub.execute_input": "2024-04-24T06:16:00.385116Z",
     "iopub.status.busy": "2024-04-24T06:16:00.384910Z",
     "iopub.status.idle": "2024-04-24T06:16:00.912469Z",
     "shell.execute_reply": "2024-04-24T06:16:00.911898Z"
    }
   },
   "outputs": [],
   "source": [
    "import os\n",
    "import pandas as pd\n",
    "import matplotlib.pyplot as plot\n",
    "from neo4j import GraphDatabase"
   ]
  },
  {
   "cell_type": "code",
   "execution_count": 2,
   "id": "1c5dab37",
   "metadata": {
    "execution": {
     "iopub.execute_input": "2024-04-24T06:16:00.915358Z",
     "iopub.status.busy": "2024-04-24T06:16:00.914829Z",
     "iopub.status.idle": "2024-04-24T06:16:00.923617Z",
     "shell.execute_reply": "2024-04-24T06:16:00.923087Z"
    }
   },
   "outputs": [],
   "source": [
    "# Please set the environment variable \"NEO4J_INITIAL_PASSWORD\" in your shell \n",
    "# before starting jupyter notebook to provide the password for the user \"neo4j\". \n",
    "# It is not recommended to hardcode the password into jupyter notebook for security reasons.\n",
    "\n",
    "driver = GraphDatabase.driver(uri=\"bolt://localhost:7687\", auth=(\"neo4j\", os.environ.get(\"NEO4J_INITIAL_PASSWORD\")))\n",
    "driver.verify_connectivity()"
   ]
  },
  {
   "cell_type": "code",
   "execution_count": 3,
   "id": "c1db254b",
   "metadata": {
    "execution": {
     "iopub.execute_input": "2024-04-24T06:16:00.926470Z",
     "iopub.status.busy": "2024-04-24T06:16:00.926296Z",
     "iopub.status.idle": "2024-04-24T06:16:00.929097Z",
     "shell.execute_reply": "2024-04-24T06:16:00.928612Z"
    }
   },
   "outputs": [],
   "source": [
    "def get_cypher_query_from_file(cypherFileName):\n",
    "    with open(cypherFileName) as file:\n",
    "        return ' '.join(file.readlines())"
   ]
  },
  {
   "cell_type": "code",
   "execution_count": 4,
   "id": "59310f6f",
   "metadata": {
    "execution": {
     "iopub.execute_input": "2024-04-24T06:16:00.931308Z",
     "iopub.status.busy": "2024-04-24T06:16:00.930972Z",
     "iopub.status.idle": "2024-04-24T06:16:00.935477Z",
     "shell.execute_reply": "2024-04-24T06:16:00.934991Z"
    }
   },
   "outputs": [],
   "source": [
    "def query_cypher_to_data_frame(filename : str, limit: int = 10_000):\n",
    "    cypher_query_template = \"{query}\\nLIMIT {row_limit}\"\n",
    "    cypher_query = get_cypher_query_from_file(filename)\n",
    "    cypher_query = cypher_query_template.format(query = cypher_query, row_limit = limit)\n",
    "    records, summary, keys = driver.execute_query(cypher_query)\n",
    "    return pd.DataFrame([r.values() for r in records], columns=keys)"
   ]
  },
  {
   "cell_type": "code",
   "execution_count": 5,
   "id": "a56670c9",
   "metadata": {
    "execution": {
     "iopub.execute_input": "2024-04-24T06:16:00.937650Z",
     "iopub.status.busy": "2024-04-24T06:16:00.937495Z",
     "iopub.status.idle": "2024-04-24T06:16:00.939714Z",
     "shell.execute_reply": "2024-04-24T06:16:00.939227Z"
    }
   },
   "outputs": [],
   "source": [
    "#The following cell uses the build-in %html \"magic\" to override the CSS style for tables to a much smaller size.\n",
    "#This is especially needed for PDF export of tables with multiple columns."
   ]
  },
  {
   "cell_type": "code",
   "execution_count": 6,
   "id": "006b9dc8",
   "metadata": {
    "execution": {
     "iopub.execute_input": "2024-04-24T06:16:00.941928Z",
     "iopub.status.busy": "2024-04-24T06:16:00.941627Z",
     "iopub.status.idle": "2024-04-24T06:16:00.948946Z",
     "shell.execute_reply": "2024-04-24T06:16:00.948297Z"
    }
   },
   "outputs": [
    {
     "data": {
      "text/html": [
       "<style>\n",
       "/* CSS style for smaller dataframe tables. */\n",
       ".dataframe th {\n",
       "    font-size: 8px;\n",
       "}\n",
       ".dataframe td {\n",
       "    font-size: 8px;\n",
       "}\n",
       "</style>\n"
      ],
      "text/plain": [
       "<IPython.core.display.HTML object>"
      ]
     },
     "metadata": {},
     "output_type": "display_data"
    }
   ],
   "source": [
    "%%html\n",
    "<style>\n",
    "/* CSS style for smaller dataframe tables. */\n",
    ".dataframe th {\n",
    "    font-size: 8px;\n",
    "}\n",
    ".dataframe td {\n",
    "    font-size: 8px;\n",
    "}\n",
    "</style>"
   ]
  },
  {
   "attachments": {},
   "cell_type": "markdown",
   "id": "91d80bf7",
   "metadata": {},
   "source": [
    "## Artifacts\n",
    "\n",
    "List the artifacts this notebook is based on. Different sorting variations help finding artifacts by their features and support larger code bases where the list of all artifacts gets too long.\n",
    "\n",
    "Only the top 30 entries are shown. The whole table can be found in the following CSV report:  \n",
    "`List_all_existing_artifacts`"
   ]
  },
  {
   "cell_type": "code",
   "execution_count": 7,
   "id": "dc682db6",
   "metadata": {
    "execution": {
     "iopub.execute_input": "2024-04-24T06:16:00.951313Z",
     "iopub.status.busy": "2024-04-24T06:16:00.951010Z",
     "iopub.status.idle": "2024-04-24T06:16:00.991627Z",
     "shell.execute_reply": "2024-04-24T06:16:00.991091Z"
    }
   },
   "outputs": [],
   "source": [
    "artifacts = query_cypher_to_data_frame(\"../cypher/List_all_existing_artifacts.cypher\")"
   ]
  },
  {
   "cell_type": "markdown",
   "id": "e48ead1b",
   "metadata": {},
   "source": [
    "### Table 1a - Top 30 artifacts with the highest package count"
   ]
  },
  {
   "cell_type": "code",
   "execution_count": 8,
   "id": "f822ddca",
   "metadata": {
    "execution": {
     "iopub.execute_input": "2024-04-24T06:16:00.994117Z",
     "iopub.status.busy": "2024-04-24T06:16:00.993938Z",
     "iopub.status.idle": "2024-04-24T06:16:01.003214Z",
     "shell.execute_reply": "2024-04-24T06:16:01.002725Z"
    }
   },
   "outputs": [
    {
     "data": {
      "text/html": [
       "<div>\n",
       "<style scoped>\n",
       "    .dataframe tbody tr th:only-of-type {\n",
       "        vertical-align: middle;\n",
       "    }\n",
       "\n",
       "    .dataframe tbody tr th {\n",
       "        vertical-align: top;\n",
       "    }\n",
       "\n",
       "    .dataframe thead th {\n",
       "        text-align: right;\n",
       "    }\n",
       "</style>\n",
       "<table border=\"1\" class=\"dataframe\">\n",
       "  <thead>\n",
       "    <tr style=\"text-align: right;\">\n",
       "      <th></th>\n",
       "      <th>artifactName</th>\n",
       "      <th>packages</th>\n",
       "      <th>types</th>\n",
       "      <th>incomingDependencies</th>\n",
       "      <th>outgoingDependencies</th>\n",
       "    </tr>\n",
       "  </thead>\n",
       "  <tbody>\n",
       "  </tbody>\n",
       "</table>\n",
       "</div>"
      ],
      "text/plain": [
       "Empty DataFrame\n",
       "Columns: [artifactName, packages, types, incomingDependencies, outgoingDependencies]\n",
       "Index: []"
      ]
     },
     "execution_count": 8,
     "metadata": {},
     "output_type": "execute_result"
    }
   ],
   "source": [
    "# Sort by number of packages descending\n",
    "artifacts.sort_values(by=['packages','artifactName'], ascending=[False, True]).reset_index(drop=True).head(30)"
   ]
  },
  {
   "cell_type": "markdown",
   "id": "9f4661b3",
   "metadata": {},
   "source": [
    "### Table 1b - Top 30 artifacts with the highest type count"
   ]
  },
  {
   "cell_type": "code",
   "execution_count": 9,
   "id": "61ed6b36",
   "metadata": {
    "execution": {
     "iopub.execute_input": "2024-04-24T06:16:01.006175Z",
     "iopub.status.busy": "2024-04-24T06:16:01.005984Z",
     "iopub.status.idle": "2024-04-24T06:16:01.014504Z",
     "shell.execute_reply": "2024-04-24T06:16:01.013927Z"
    }
   },
   "outputs": [
    {
     "data": {
      "text/html": [
       "<div>\n",
       "<style scoped>\n",
       "    .dataframe tbody tr th:only-of-type {\n",
       "        vertical-align: middle;\n",
       "    }\n",
       "\n",
       "    .dataframe tbody tr th {\n",
       "        vertical-align: top;\n",
       "    }\n",
       "\n",
       "    .dataframe thead th {\n",
       "        text-align: right;\n",
       "    }\n",
       "</style>\n",
       "<table border=\"1\" class=\"dataframe\">\n",
       "  <thead>\n",
       "    <tr style=\"text-align: right;\">\n",
       "      <th></th>\n",
       "      <th>artifactName</th>\n",
       "      <th>packages</th>\n",
       "      <th>types</th>\n",
       "      <th>incomingDependencies</th>\n",
       "      <th>outgoingDependencies</th>\n",
       "    </tr>\n",
       "  </thead>\n",
       "  <tbody>\n",
       "  </tbody>\n",
       "</table>\n",
       "</div>"
      ],
      "text/plain": [
       "Empty DataFrame\n",
       "Columns: [artifactName, packages, types, incomingDependencies, outgoingDependencies]\n",
       "Index: []"
      ]
     },
     "execution_count": 9,
     "metadata": {},
     "output_type": "execute_result"
    }
   ],
   "source": [
    "# Sort by number of types descending\n",
    "artifacts.sort_values(by=['types','artifactName'], ascending=[False, True]).reset_index(drop=True).head(30)"
   ]
  },
  {
   "cell_type": "markdown",
   "id": "1e508a21",
   "metadata": {},
   "source": [
    "### Table 1c - Top 30 artifacts with the highest number of incoming dependencies\n",
    "\n",
    "The following table lists the top 30 artifacts that are used the most by other artifacts (highest count of incoming dependencies, highest in-degree)."
   ]
  },
  {
   "cell_type": "code",
   "execution_count": 10,
   "id": "107c0a1a",
   "metadata": {
    "execution": {
     "iopub.execute_input": "2024-04-24T06:16:01.017206Z",
     "iopub.status.busy": "2024-04-24T06:16:01.016780Z",
     "iopub.status.idle": "2024-04-24T06:16:01.025244Z",
     "shell.execute_reply": "2024-04-24T06:16:01.024706Z"
    }
   },
   "outputs": [
    {
     "data": {
      "text/html": [
       "<div>\n",
       "<style scoped>\n",
       "    .dataframe tbody tr th:only-of-type {\n",
       "        vertical-align: middle;\n",
       "    }\n",
       "\n",
       "    .dataframe tbody tr th {\n",
       "        vertical-align: top;\n",
       "    }\n",
       "\n",
       "    .dataframe thead th {\n",
       "        text-align: right;\n",
       "    }\n",
       "</style>\n",
       "<table border=\"1\" class=\"dataframe\">\n",
       "  <thead>\n",
       "    <tr style=\"text-align: right;\">\n",
       "      <th></th>\n",
       "      <th>artifactName</th>\n",
       "      <th>packages</th>\n",
       "      <th>types</th>\n",
       "      <th>incomingDependencies</th>\n",
       "      <th>outgoingDependencies</th>\n",
       "    </tr>\n",
       "  </thead>\n",
       "  <tbody>\n",
       "  </tbody>\n",
       "</table>\n",
       "</div>"
      ],
      "text/plain": [
       "Empty DataFrame\n",
       "Columns: [artifactName, packages, types, incomingDependencies, outgoingDependencies]\n",
       "Index: []"
      ]
     },
     "execution_count": 10,
     "metadata": {},
     "output_type": "execute_result"
    }
   ],
   "source": [
    "# Sort by number of incoming dependencies descending\n",
    "artifacts.sort_values(by=['incomingDependencies','artifactName'], ascending=[False, True]).reset_index(drop=True).head(30)"
   ]
  },
  {
   "cell_type": "markdown",
   "id": "52593397",
   "metadata": {},
   "source": [
    "### Table 1d - Top 30 artifacts with the highest number of outgoing dependencies\n",
    "\n",
    "The following table lists the top 30 artifacts that are depending on the highest number of other artifacts (highest count of outgoing dependencies, highest out-degree)."
   ]
  },
  {
   "cell_type": "code",
   "execution_count": 11,
   "id": "eee13bd8",
   "metadata": {
    "execution": {
     "iopub.execute_input": "2024-04-24T06:16:01.027780Z",
     "iopub.status.busy": "2024-04-24T06:16:01.027408Z",
     "iopub.status.idle": "2024-04-24T06:16:01.034546Z",
     "shell.execute_reply": "2024-04-24T06:16:01.034035Z"
    }
   },
   "outputs": [
    {
     "data": {
      "text/html": [
       "<div>\n",
       "<style scoped>\n",
       "    .dataframe tbody tr th:only-of-type {\n",
       "        vertical-align: middle;\n",
       "    }\n",
       "\n",
       "    .dataframe tbody tr th {\n",
       "        vertical-align: top;\n",
       "    }\n",
       "\n",
       "    .dataframe thead th {\n",
       "        text-align: right;\n",
       "    }\n",
       "</style>\n",
       "<table border=\"1\" class=\"dataframe\">\n",
       "  <thead>\n",
       "    <tr style=\"text-align: right;\">\n",
       "      <th></th>\n",
       "      <th>artifactName</th>\n",
       "      <th>packages</th>\n",
       "      <th>types</th>\n",
       "      <th>incomingDependencies</th>\n",
       "      <th>outgoingDependencies</th>\n",
       "    </tr>\n",
       "  </thead>\n",
       "  <tbody>\n",
       "  </tbody>\n",
       "</table>\n",
       "</div>"
      ],
      "text/plain": [
       "Empty DataFrame\n",
       "Columns: [artifactName, packages, types, incomingDependencies, outgoingDependencies]\n",
       "Index: []"
      ]
     },
     "execution_count": 11,
     "metadata": {},
     "output_type": "execute_result"
    }
   ],
   "source": [
    "# Sort by number of outgoing dependencies descending\n",
    "artifacts.sort_values(by=['outgoingDependencies','artifactName'], ascending=[False, True]).reset_index(drop=True).head(30)"
   ]
  },
  {
   "cell_type": "markdown",
   "id": "8c928800",
   "metadata": {},
   "source": [
    "### Table 1e - Top 30 artifacts with the lowest package count"
   ]
  },
  {
   "cell_type": "code",
   "execution_count": 12,
   "id": "18d73c15",
   "metadata": {
    "execution": {
     "iopub.execute_input": "2024-04-24T06:16:01.036899Z",
     "iopub.status.busy": "2024-04-24T06:16:01.036465Z",
     "iopub.status.idle": "2024-04-24T06:16:01.043886Z",
     "shell.execute_reply": "2024-04-24T06:16:01.043421Z"
    }
   },
   "outputs": [
    {
     "data": {
      "text/html": [
       "<div>\n",
       "<style scoped>\n",
       "    .dataframe tbody tr th:only-of-type {\n",
       "        vertical-align: middle;\n",
       "    }\n",
       "\n",
       "    .dataframe tbody tr th {\n",
       "        vertical-align: top;\n",
       "    }\n",
       "\n",
       "    .dataframe thead th {\n",
       "        text-align: right;\n",
       "    }\n",
       "</style>\n",
       "<table border=\"1\" class=\"dataframe\">\n",
       "  <thead>\n",
       "    <tr style=\"text-align: right;\">\n",
       "      <th></th>\n",
       "      <th>artifactName</th>\n",
       "      <th>packages</th>\n",
       "      <th>types</th>\n",
       "      <th>incomingDependencies</th>\n",
       "      <th>outgoingDependencies</th>\n",
       "    </tr>\n",
       "  </thead>\n",
       "  <tbody>\n",
       "  </tbody>\n",
       "</table>\n",
       "</div>"
      ],
      "text/plain": [
       "Empty DataFrame\n",
       "Columns: [artifactName, packages, types, incomingDependencies, outgoingDependencies]\n",
       "Index: []"
      ]
     },
     "execution_count": 12,
     "metadata": {},
     "output_type": "execute_result"
    }
   ],
   "source": [
    "# Sort by number of packages ascending\n",
    "artifacts.sort_values(by=['packages','artifactName'], ascending=[True, True]).reset_index(drop=True).head(30)"
   ]
  },
  {
   "cell_type": "markdown",
   "id": "4bdd5de0",
   "metadata": {},
   "source": [
    "### Table 1f - Top 30 artifacts with the lowest type count"
   ]
  },
  {
   "cell_type": "code",
   "execution_count": 13,
   "id": "0078e92e",
   "metadata": {
    "execution": {
     "iopub.execute_input": "2024-04-24T06:16:01.046308Z",
     "iopub.status.busy": "2024-04-24T06:16:01.045991Z",
     "iopub.status.idle": "2024-04-24T06:16:01.051440Z",
     "shell.execute_reply": "2024-04-24T06:16:01.050980Z"
    }
   },
   "outputs": [
    {
     "data": {
      "text/html": [
       "<div>\n",
       "<style scoped>\n",
       "    .dataframe tbody tr th:only-of-type {\n",
       "        vertical-align: middle;\n",
       "    }\n",
       "\n",
       "    .dataframe tbody tr th {\n",
       "        vertical-align: top;\n",
       "    }\n",
       "\n",
       "    .dataframe thead th {\n",
       "        text-align: right;\n",
       "    }\n",
       "</style>\n",
       "<table border=\"1\" class=\"dataframe\">\n",
       "  <thead>\n",
       "    <tr style=\"text-align: right;\">\n",
       "      <th></th>\n",
       "      <th>artifactName</th>\n",
       "      <th>packages</th>\n",
       "      <th>types</th>\n",
       "      <th>incomingDependencies</th>\n",
       "      <th>outgoingDependencies</th>\n",
       "    </tr>\n",
       "  </thead>\n",
       "  <tbody>\n",
       "  </tbody>\n",
       "</table>\n",
       "</div>"
      ],
      "text/plain": [
       "Empty DataFrame\n",
       "Columns: [artifactName, packages, types, incomingDependencies, outgoingDependencies]\n",
       "Index: []"
      ]
     },
     "execution_count": 13,
     "metadata": {},
     "output_type": "execute_result"
    }
   ],
   "source": [
    "# Sort by number of types ascending\n",
    "artifacts.sort_values(by=['types','artifactName'], ascending=[True, True]).reset_index(drop=True).head(30)"
   ]
  },
  {
   "cell_type": "markdown",
   "id": "9f628024",
   "metadata": {},
   "source": [
    "### Table 1g - Top 30 artifacts with the lowest number of incoming dependencies\n",
    "\n",
    "The following table lists the top 30 artifacts that are used the least by other artifacts (lowest count of incoming dependencies, lowest in-degree)."
   ]
  },
  {
   "cell_type": "code",
   "execution_count": 14,
   "id": "6100d597",
   "metadata": {
    "execution": {
     "iopub.execute_input": "2024-04-24T06:16:01.053570Z",
     "iopub.status.busy": "2024-04-24T06:16:01.053297Z",
     "iopub.status.idle": "2024-04-24T06:16:01.058628Z",
     "shell.execute_reply": "2024-04-24T06:16:01.058175Z"
    }
   },
   "outputs": [
    {
     "data": {
      "text/html": [
       "<div>\n",
       "<style scoped>\n",
       "    .dataframe tbody tr th:only-of-type {\n",
       "        vertical-align: middle;\n",
       "    }\n",
       "\n",
       "    .dataframe tbody tr th {\n",
       "        vertical-align: top;\n",
       "    }\n",
       "\n",
       "    .dataframe thead th {\n",
       "        text-align: right;\n",
       "    }\n",
       "</style>\n",
       "<table border=\"1\" class=\"dataframe\">\n",
       "  <thead>\n",
       "    <tr style=\"text-align: right;\">\n",
       "      <th></th>\n",
       "      <th>artifactName</th>\n",
       "      <th>packages</th>\n",
       "      <th>types</th>\n",
       "      <th>incomingDependencies</th>\n",
       "      <th>outgoingDependencies</th>\n",
       "    </tr>\n",
       "  </thead>\n",
       "  <tbody>\n",
       "  </tbody>\n",
       "</table>\n",
       "</div>"
      ],
      "text/plain": [
       "Empty DataFrame\n",
       "Columns: [artifactName, packages, types, incomingDependencies, outgoingDependencies]\n",
       "Index: []"
      ]
     },
     "execution_count": 14,
     "metadata": {},
     "output_type": "execute_result"
    }
   ],
   "source": [
    "# Sort by number of incoming dependencies ascending\n",
    "artifacts.sort_values(by=['incomingDependencies','artifactName'], ascending=[True, True]).reset_index(drop=True).head(30)"
   ]
  },
  {
   "cell_type": "markdown",
   "id": "ad07b654",
   "metadata": {},
   "source": [
    "### Table 1h - Top 30 artifacts with the lowest number of outgoing dependencies\n",
    "\n",
    "The following table lists the top 30 artifacts that are depending on the lowest number of other artifacts (lowest count of outgoing dependencies, lowest out-degree)."
   ]
  },
  {
   "cell_type": "code",
   "execution_count": 15,
   "id": "cd096a38",
   "metadata": {
    "execution": {
     "iopub.execute_input": "2024-04-24T06:16:01.060833Z",
     "iopub.status.busy": "2024-04-24T06:16:01.060458Z",
     "iopub.status.idle": "2024-04-24T06:16:01.065908Z",
     "shell.execute_reply": "2024-04-24T06:16:01.065524Z"
    }
   },
   "outputs": [
    {
     "data": {
      "text/html": [
       "<div>\n",
       "<style scoped>\n",
       "    .dataframe tbody tr th:only-of-type {\n",
       "        vertical-align: middle;\n",
       "    }\n",
       "\n",
       "    .dataframe tbody tr th {\n",
       "        vertical-align: top;\n",
       "    }\n",
       "\n",
       "    .dataframe thead th {\n",
       "        text-align: right;\n",
       "    }\n",
       "</style>\n",
       "<table border=\"1\" class=\"dataframe\">\n",
       "  <thead>\n",
       "    <tr style=\"text-align: right;\">\n",
       "      <th></th>\n",
       "      <th>artifactName</th>\n",
       "      <th>packages</th>\n",
       "      <th>types</th>\n",
       "      <th>incomingDependencies</th>\n",
       "      <th>outgoingDependencies</th>\n",
       "    </tr>\n",
       "  </thead>\n",
       "  <tbody>\n",
       "  </tbody>\n",
       "</table>\n",
       "</div>"
      ],
      "text/plain": [
       "Empty DataFrame\n",
       "Columns: [artifactName, packages, types, incomingDependencies, outgoingDependencies]\n",
       "Index: []"
      ]
     },
     "execution_count": 15,
     "metadata": {},
     "output_type": "execute_result"
    }
   ],
   "source": [
    "# Sort by number of outgoing dependencies ascending\n",
    "artifacts.sort_values(by=['outgoingDependencies','artifactName'], ascending=[True, True]).reset_index(drop=True).head(30)"
   ]
  },
  {
   "attachments": {},
   "cell_type": "markdown",
   "id": "d7cfd862",
   "metadata": {},
   "source": [
    "## Cyclic Dependencies\n",
    "\n",
    "Cyclic dependencies occur when one package uses a class of another package and vice versa. \n",
    "These dependencies can lead to problems when one of these packages needs to be changed."
   ]
  },
  {
   "cell_type": "markdown",
   "id": "9112f590",
   "metadata": {},
   "source": [
    "## Table 2a - Cyclic Dependencies Overview\n",
    "\n",
    "Show the top 40 cyclic dependencies sorted by the most promising to resolve first. This is done by calculating the number of forward dependencies (first cycle participant to second cycle participant) in relation to backward dependencies (second cycle participant back to first cycle participant). The higher this rate (approaching 1), the easier it should be to resolve the cycle by focussing on the few backward dependencies.\n",
    "\n",
    "Only the top 40 entries are shown. The whole table can be found in the following CSV report:  \n",
    "`Cyclic_Dependencies`\n",
    "\n",
    "**Columns:**\n",
    "- *artifactName* identifies the artifact of the first participant of the cycle\n",
    "- *packageName* identifies the package of the first participant of the cycle\n",
    "- *dependentArtifactName* identifies the artifact of the second participant of the cycle\n",
    "- *dependentPackageName* identifies the package of the second participant of the cycle\n",
    "- *forwardToBackwardBalance* is between 0 and 1. High for many forward and few backward dependencies.\n",
    "- *numberForward* contains the number of dependencies from the first participant of the cycle to the second one\n",
    "- *numberBackward* contains the number of dependencies from the second participant of the cycle back to the first one\n",
    "- *someForwardDependencies* lists some forward dependencies in the text format \"type1 -> type2\"\n",
    "- *backwardDependencies* lists the backward dependencies in the format \"type1 <- type2\" that are recommended to get resolved"
   ]
  },
  {
   "cell_type": "code",
   "execution_count": 16,
   "id": "fa634a4e",
   "metadata": {
    "execution": {
     "iopub.execute_input": "2024-04-24T06:16:01.068001Z",
     "iopub.status.busy": "2024-04-24T06:16:01.067611Z",
     "iopub.status.idle": "2024-04-24T06:16:01.484453Z",
     "shell.execute_reply": "2024-04-24T06:16:01.483984Z"
    },
    "scrolled": false
   },
   "outputs": [
    {
     "data": {
      "text/html": [
       "<div>\n",
       "<style scoped>\n",
       "    .dataframe tbody tr th:only-of-type {\n",
       "        vertical-align: middle;\n",
       "    }\n",
       "\n",
       "    .dataframe tbody tr th {\n",
       "        vertical-align: top;\n",
       "    }\n",
       "\n",
       "    .dataframe thead th {\n",
       "        text-align: right;\n",
       "    }\n",
       "</style>\n",
       "<table border=\"1\" class=\"dataframe\">\n",
       "  <thead>\n",
       "    <tr style=\"text-align: right;\">\n",
       "      <th></th>\n",
       "      <th>artifactName</th>\n",
       "      <th>packageName</th>\n",
       "      <th>dependentArtifactName</th>\n",
       "      <th>dependentPackageName</th>\n",
       "      <th>forwardToBackwardBalance</th>\n",
       "      <th>numberForward</th>\n",
       "      <th>numberBackward</th>\n",
       "      <th>someForwardDependencies</th>\n",
       "      <th>backwardDependencies</th>\n",
       "    </tr>\n",
       "  </thead>\n",
       "  <tbody>\n",
       "  </tbody>\n",
       "</table>\n",
       "</div>"
      ],
      "text/plain": [
       "Empty DataFrame\n",
       "Columns: [artifactName, packageName, dependentArtifactName, dependentPackageName, forwardToBackwardBalance, numberForward, numberBackward, someForwardDependencies, backwardDependencies]\n",
       "Index: []"
      ]
     },
     "execution_count": 16,
     "metadata": {},
     "output_type": "execute_result"
    }
   ],
   "source": [
    "cyclic_dependencies = query_cypher_to_data_frame(\"../cypher/Cyclic_Dependencies/Cyclic_Dependencies.cypher\")\n",
    "cyclic_dependencies.head(40)"
   ]
  },
  {
   "attachments": {},
   "cell_type": "markdown",
   "id": "02146c4d",
   "metadata": {},
   "source": [
    "### Table 2b - Cyclic Dependencies Break Down\n",
    "\n",
    "Lists packages with cyclic dependencies with every dependency in a separate row sorted by the most promising  dependency first.\n",
    "\n",
    "Only the top 40 entries are shown. The whole table can be found in the following CSV report:  \n",
    "`Cyclic_Dependencies_Breakdown`\n",
    "\n",
    "**Columns in addition to Table 2a:**\n",
    "- *dependency* shows the cycle dependency in the text format \"type1 -> type2\" (forward) or \"type2<-type1\" (backward)"
   ]
  },
  {
   "cell_type": "code",
   "execution_count": 17,
   "id": "cf49a164",
   "metadata": {
    "execution": {
     "iopub.execute_input": "2024-04-24T06:16:01.486946Z",
     "iopub.status.busy": "2024-04-24T06:16:01.486575Z",
     "iopub.status.idle": "2024-04-24T06:16:01.882086Z",
     "shell.execute_reply": "2024-04-24T06:16:01.881648Z"
    }
   },
   "outputs": [
    {
     "data": {
      "text/html": [
       "<div>\n",
       "<style scoped>\n",
       "    .dataframe tbody tr th:only-of-type {\n",
       "        vertical-align: middle;\n",
       "    }\n",
       "\n",
       "    .dataframe tbody tr th {\n",
       "        vertical-align: top;\n",
       "    }\n",
       "\n",
       "    .dataframe thead th {\n",
       "        text-align: right;\n",
       "    }\n",
       "</style>\n",
       "<table border=\"1\" class=\"dataframe\">\n",
       "  <thead>\n",
       "    <tr style=\"text-align: right;\">\n",
       "      <th></th>\n",
       "      <th>artifactName</th>\n",
       "      <th>packageName</th>\n",
       "      <th>dependentArtifactName</th>\n",
       "      <th>dependentPackageName</th>\n",
       "      <th>dependency</th>\n",
       "      <th>forwardToBackwardBalance</th>\n",
       "      <th>numberForward</th>\n",
       "      <th>numberBackward</th>\n",
       "    </tr>\n",
       "  </thead>\n",
       "  <tbody>\n",
       "  </tbody>\n",
       "</table>\n",
       "</div>"
      ],
      "text/plain": [
       "Empty DataFrame\n",
       "Columns: [artifactName, packageName, dependentArtifactName, dependentPackageName, dependency, forwardToBackwardBalance, numberForward, numberBackward]\n",
       "Index: []"
      ]
     },
     "execution_count": 17,
     "metadata": {},
     "output_type": "execute_result"
    }
   ],
   "source": [
    "cyclic_dependencies_breakdown = query_cypher_to_data_frame(\"../cypher/Cyclic_Dependencies/Cyclic_Dependencies_Breakdown.cypher\",limit=40)\n",
    "cyclic_dependencies_breakdown"
   ]
  },
  {
   "cell_type": "markdown",
   "id": "52f46a62",
   "metadata": {},
   "source": [
    "### Table 2c - Cyclic Dependencies Break Down - Backward Dependencies Only\n",
    "\n",
    "Lists packages with cyclic dependencies with every dependency in a separate row sorted by the most promising  dependency first. This table only contains the backward dependencies from the second participant of the cycle back to the first one that are the most promising to resolve.\n",
    "\n",
    "Only the top 40 entries are shown. The whole table can be found in the following CSV report:  \n",
    "`Cyclic_Dependencies_Breakdown_BackwardOnly`"
   ]
  },
  {
   "cell_type": "code",
   "execution_count": 18,
   "id": "61521c88",
   "metadata": {
    "execution": {
     "iopub.execute_input": "2024-04-24T06:16:01.884149Z",
     "iopub.status.busy": "2024-04-24T06:16:01.883994Z",
     "iopub.status.idle": "2024-04-24T06:16:02.301234Z",
     "shell.execute_reply": "2024-04-24T06:16:02.300676Z"
    }
   },
   "outputs": [
    {
     "data": {
      "text/html": [
       "<div>\n",
       "<style scoped>\n",
       "    .dataframe tbody tr th:only-of-type {\n",
       "        vertical-align: middle;\n",
       "    }\n",
       "\n",
       "    .dataframe tbody tr th {\n",
       "        vertical-align: top;\n",
       "    }\n",
       "\n",
       "    .dataframe thead th {\n",
       "        text-align: right;\n",
       "    }\n",
       "</style>\n",
       "<table border=\"1\" class=\"dataframe\">\n",
       "  <thead>\n",
       "    <tr style=\"text-align: right;\">\n",
       "      <th></th>\n",
       "      <th>artifactName</th>\n",
       "      <th>packageName</th>\n",
       "      <th>dependentArtifactName</th>\n",
       "      <th>dependentPackageName</th>\n",
       "      <th>dependency</th>\n",
       "      <th>forwardToBackwardBalance</th>\n",
       "      <th>numberForward</th>\n",
       "      <th>numberBackward</th>\n",
       "    </tr>\n",
       "  </thead>\n",
       "  <tbody>\n",
       "  </tbody>\n",
       "</table>\n",
       "</div>"
      ],
      "text/plain": [
       "Empty DataFrame\n",
       "Columns: [artifactName, packageName, dependentArtifactName, dependentPackageName, dependency, forwardToBackwardBalance, numberForward, numberBackward]\n",
       "Index: []"
      ]
     },
     "execution_count": 18,
     "metadata": {},
     "output_type": "execute_result"
    }
   ],
   "source": [
    "cyclic_dependencies_breakdown_backward = query_cypher_to_data_frame(\"../cypher/Cyclic_Dependencies/Cyclic_Dependencies_Breakdown_Backward_Only.cypher\",limit=40)\n",
    "cyclic_dependencies_breakdown_backward"
   ]
  },
  {
   "attachments": {},
   "cell_type": "markdown",
   "id": "3f59da8d",
   "metadata": {},
   "source": [
    "## Interface Segregation Candidates\n",
    "\n",
    "Well known from [Design Principles and Design Patterns by Robert C. Martin](http://staff.cs.utu.fi/~jounsmed/doos_06/material/DesignPrinciplesAndPatterns.pdf), the *Interface Segregation Principle* suggests that software components should have narrow, focused interfaces rather than large, general-purpose ones. The goal is to minimize the dependencies between components and increase modularity, flexibility, and maintainability.\n",
    "\n",
    "Smaller, focused and purpose-driven interfaces\n",
    "\n",
    "- make it easier to modify individual components without affecting the rest of the system.\n",
    "- make it clearer which client is affected by which change.\n",
    "- don’t force their clients to depend on methods they don’t need.\n",
    "- reduce the scope of changes since a change to one component doesn’t affect others.\n",
    "- lead to a more loosely coupled architecture that is easier to understand and maintain.\n",
    "\n",
    "Reference: [Analyze java package metrics in a graph database](https://joht.github.io/johtizen/data/2023/04/21/java-package-metrics-analysis.html#interface-segregation)\n",
    "\n",
    "### How to apply the results\n",
    "\n",
    "If just one method of a type is used, especially in many places, then the result of this method can be used to call e.g. a method or constuct an object instead of using the whole object and then just calling that single method.\n",
    "\n",
    "If there are a couple of methods that are used for a distinct purpose, those could be factored out into a separate interface. The original type can extended/implement the new interface so that there are no breaking changes. Then all the callers, that use only this group of methods, can be changed to the new interface.\n"
   ]
  },
  {
   "cell_type": "markdown",
   "id": "a966e4c3",
   "metadata": {},
   "source": [
    "### Table 4 - Top 40 most used combinations of methods\n",
    "\n",
    "The following table shows the top 40 most used combinations of methods of larger types that might benefit from applying the *Interface Segregation Principle*. The whole table can be found in the CSV report `Candidates_for_Interface_Segregation`."
   ]
  },
  {
   "cell_type": "code",
   "execution_count": 19,
   "id": "63fb6ba9",
   "metadata": {
    "execution": {
     "iopub.execute_input": "2024-04-24T06:16:02.303791Z",
     "iopub.status.busy": "2024-04-24T06:16:02.303395Z",
     "iopub.status.idle": "2024-04-24T06:16:02.405451Z",
     "shell.execute_reply": "2024-04-24T06:16:02.404913Z"
    },
    "scrolled": false
   },
   "outputs": [
    {
     "data": {
      "text/html": [
       "<div>\n",
       "<style scoped>\n",
       "    .dataframe tbody tr th:only-of-type {\n",
       "        vertical-align: middle;\n",
       "    }\n",
       "\n",
       "    .dataframe tbody tr th {\n",
       "        vertical-align: top;\n",
       "    }\n",
       "\n",
       "    .dataframe thead th {\n",
       "        text-align: right;\n",
       "    }\n",
       "</style>\n",
       "<table border=\"1\" class=\"dataframe\">\n",
       "  <thead>\n",
       "    <tr style=\"text-align: right;\">\n",
       "      <th></th>\n",
       "      <th>fullDependentTypeName</th>\n",
       "      <th>declaredMethods</th>\n",
       "      <th>calledMethodNames</th>\n",
       "      <th>calledMethods</th>\n",
       "      <th>callerTypes</th>\n",
       "    </tr>\n",
       "  </thead>\n",
       "  <tbody>\n",
       "  </tbody>\n",
       "</table>\n",
       "</div>"
      ],
      "text/plain": [
       "Empty DataFrame\n",
       "Columns: [fullDependentTypeName, declaredMethods, calledMethodNames, calledMethods, callerTypes]\n",
       "Index: []"
      ]
     },
     "execution_count": 19,
     "metadata": {},
     "output_type": "execute_result"
    }
   ],
   "source": [
    "interface_segregation_candidates=query_cypher_to_data_frame(\"../cypher/Candidates_for_Interface_Segregation.cypher\", limit=40)\n",
    "interface_segregation_candidates"
   ]
  },
  {
   "attachments": {},
   "cell_type": "markdown",
   "id": "4be116e8",
   "metadata": {},
   "source": [
    "## Package Usage"
   ]
  },
  {
   "attachments": {},
   "cell_type": "markdown",
   "id": "bb185191",
   "metadata": {},
   "source": [
    "### Table 5 - Types that are used by multiple packages\n",
    "\n",
    "This table shows the top 40 packages that are used by the highest number of different packages. The whole table can be found in the CSV report `List_types_that_are_used_by_many_different_packages`.\n"
   ]
  },
  {
   "cell_type": "code",
   "execution_count": 20,
   "id": "36a34924",
   "metadata": {
    "execution": {
     "iopub.execute_input": "2024-04-24T06:16:02.408048Z",
     "iopub.status.busy": "2024-04-24T06:16:02.407851Z",
     "iopub.status.idle": "2024-04-24T06:16:02.475031Z",
     "shell.execute_reply": "2024-04-24T06:16:02.474487Z"
    },
    "scrolled": false
   },
   "outputs": [
    {
     "data": {
      "text/html": [
       "<div>\n",
       "<style scoped>\n",
       "    .dataframe tbody tr th:only-of-type {\n",
       "        vertical-align: middle;\n",
       "    }\n",
       "\n",
       "    .dataframe tbody tr th {\n",
       "        vertical-align: top;\n",
       "    }\n",
       "\n",
       "    .dataframe thead th {\n",
       "        text-align: right;\n",
       "    }\n",
       "</style>\n",
       "<table border=\"1\" class=\"dataframe\">\n",
       "  <thead>\n",
       "    <tr style=\"text-align: right;\">\n",
       "      <th></th>\n",
       "      <th>fullQualifiedDependentTypeName</th>\n",
       "      <th>dependentTypeName</th>\n",
       "      <th>dependentTypeLabels</th>\n",
       "      <th>numberOfUsingPackages</th>\n",
       "    </tr>\n",
       "  </thead>\n",
       "  <tbody>\n",
       "  </tbody>\n",
       "</table>\n",
       "</div>"
      ],
      "text/plain": [
       "Empty DataFrame\n",
       "Columns: [fullQualifiedDependentTypeName, dependentTypeName, dependentTypeLabels, numberOfUsingPackages]\n",
       "Index: []"
      ]
     },
     "execution_count": 20,
     "metadata": {},
     "output_type": "execute_result"
    }
   ],
   "source": [
    "types_used_by_many_packages=query_cypher_to_data_frame(\"../cypher/Internal_Dependencies/List_types_that_are_used_by_many_different_packages.cypher\", limit=40)\n",
    "types_used_by_many_packages"
   ]
  },
  {
   "attachments": {},
   "cell_type": "markdown",
   "id": "73dd1b13",
   "metadata": {},
   "source": [
    "### Table 6 - Packages that are used by multiple artifacts\n",
    "\n",
    "This table shows the top 30 artifacts that only use a few (compared to all existing) packages of another artifact.\n",
    "The whole table can be found in the CSV report `ArtifactPackageUsage`."
   ]
  },
  {
   "cell_type": "code",
   "execution_count": 21,
   "id": "bf3d43c5",
   "metadata": {
    "execution": {
     "iopub.execute_input": "2024-04-24T06:16:02.477555Z",
     "iopub.status.busy": "2024-04-24T06:16:02.477186Z",
     "iopub.status.idle": "2024-04-24T06:16:02.559644Z",
     "shell.execute_reply": "2024-04-24T06:16:02.559092Z"
    },
    "scrolled": true
   },
   "outputs": [
    {
     "data": {
      "text/html": [
       "<div>\n",
       "<style scoped>\n",
       "    .dataframe tbody tr th:only-of-type {\n",
       "        vertical-align: middle;\n",
       "    }\n",
       "\n",
       "    .dataframe tbody tr th {\n",
       "        vertical-align: top;\n",
       "    }\n",
       "\n",
       "    .dataframe thead th {\n",
       "        text-align: right;\n",
       "    }\n",
       "</style>\n",
       "<table border=\"1\" class=\"dataframe\">\n",
       "  <thead>\n",
       "    <tr style=\"text-align: right;\">\n",
       "      <th></th>\n",
       "      <th>artifactName</th>\n",
       "      <th>dependentArtifactName</th>\n",
       "      <th>dependentPackages</th>\n",
       "      <th>dependentArtifactPackages</th>\n",
       "      <th>packageUsagePercentage</th>\n",
       "      <th>dependentFullQualifiedPackageNames</th>\n",
       "      <th>dependentPackageNames</th>\n",
       "    </tr>\n",
       "  </thead>\n",
       "  <tbody>\n",
       "  </tbody>\n",
       "</table>\n",
       "</div>"
      ],
      "text/plain": [
       "Empty DataFrame\n",
       "Columns: [artifactName, dependentArtifactName, dependentPackages, dependentArtifactPackages, packageUsagePercentage, dependentFullQualifiedPackageNames, dependentPackageNames]\n",
       "Index: []"
      ]
     },
     "execution_count": 21,
     "metadata": {},
     "output_type": "execute_result"
    }
   ],
   "source": [
    "used_packages_of_dependent_artifact=query_cypher_to_data_frame(\"../cypher/Internal_Dependencies/How_many_packages_compared_to_all_existing_are_used_by_dependent_artifacts.cypher\",limit=30)\n",
    "used_packages_of_dependent_artifact"
   ]
  },
  {
   "attachments": {},
   "cell_type": "markdown",
   "id": "d37ba7ae",
   "metadata": {},
   "source": [
    "### Table 7 - Types that are used by multiple artifacts\n",
    "\n",
    "This table shows the top 30 types that only use a few (compared to all existing) types of another artifact. The whole table can be found in the CSV report `ClassesPerPackageUsageAcrossArtifacts`."
   ]
  },
  {
   "cell_type": "code",
   "execution_count": 22,
   "id": "74f2a5c8",
   "metadata": {
    "execution": {
     "iopub.execute_input": "2024-04-24T06:16:02.562093Z",
     "iopub.status.busy": "2024-04-24T06:16:02.561666Z",
     "iopub.status.idle": "2024-04-24T06:16:02.690492Z",
     "shell.execute_reply": "2024-04-24T06:16:02.689931Z"
    },
    "scrolled": false
   },
   "outputs": [
    {
     "data": {
      "text/html": [
       "<div>\n",
       "<style scoped>\n",
       "    .dataframe tbody tr th:only-of-type {\n",
       "        vertical-align: middle;\n",
       "    }\n",
       "\n",
       "    .dataframe tbody tr th {\n",
       "        vertical-align: top;\n",
       "    }\n",
       "\n",
       "    .dataframe thead th {\n",
       "        text-align: right;\n",
       "    }\n",
       "</style>\n",
       "<table border=\"1\" class=\"dataframe\">\n",
       "  <thead>\n",
       "    <tr style=\"text-align: right;\">\n",
       "      <th></th>\n",
       "      <th>artifactName</th>\n",
       "      <th>dependentArtifactName</th>\n",
       "      <th>packageName</th>\n",
       "      <th>dependentPackage.fqn</th>\n",
       "      <th>dependentTypes</th>\n",
       "      <th>dependentPackageTypes</th>\n",
       "      <th>typeUsagePercentage</th>\n",
       "      <th>dependentTypeNames</th>\n",
       "    </tr>\n",
       "  </thead>\n",
       "  <tbody>\n",
       "  </tbody>\n",
       "</table>\n",
       "</div>"
      ],
      "text/plain": [
       "Empty DataFrame\n",
       "Columns: [artifactName, dependentArtifactName, packageName, dependentPackage.fqn, dependentTypes, dependentPackageTypes, typeUsagePercentage, dependentTypeNames]\n",
       "Index: []"
      ]
     },
     "execution_count": 22,
     "metadata": {},
     "output_type": "execute_result"
    }
   ],
   "source": [
    "used_types_of_dependent_artifact=query_cypher_to_data_frame(\"../cypher/Internal_Dependencies/How_many_classes_compared_to_all_existing_in_the_same_package_are_used_by_dependent_packages_across_different_artifacts.cypher\", limit=30)\n",
    "used_types_of_dependent_artifact"
   ]
  },
  {
   "cell_type": "markdown",
   "id": "fd8a40e9",
   "metadata": {},
   "source": [
    "### Table 8 - Duplicate package names across artifacts\n",
    "\n",
    "This table shows the top 30 duplicate package names across artifacts. They are ordered by the number of duplicates descending.\n",
    "\n",
    "This might lead to confusion, makes importing more error prone and might even lead to duplicate classes where only one of them will be loaded by the class loader. If a package is named the same way in two or more artifacts this even allows another artifact to access package protected classes, methods or members which might not be intended. \n",
    "\n",
    "The whole table can be found in the CSV report `DuplicatePackageNamesAcrossArtifacts`."
   ]
  },
  {
   "cell_type": "code",
   "execution_count": 23,
   "id": "2547f52e",
   "metadata": {
    "execution": {
     "iopub.execute_input": "2024-04-24T06:16:02.692843Z",
     "iopub.status.busy": "2024-04-24T06:16:02.692512Z",
     "iopub.status.idle": "2024-04-24T06:16:02.741213Z",
     "shell.execute_reply": "2024-04-24T06:16:02.740742Z"
    }
   },
   "outputs": [
    {
     "data": {
      "text/html": [
       "<div>\n",
       "<style scoped>\n",
       "    .dataframe tbody tr th:only-of-type {\n",
       "        vertical-align: middle;\n",
       "    }\n",
       "\n",
       "    .dataframe tbody tr th {\n",
       "        vertical-align: top;\n",
       "    }\n",
       "\n",
       "    .dataframe thead th {\n",
       "        text-align: right;\n",
       "    }\n",
       "</style>\n",
       "<table border=\"1\" class=\"dataframe\">\n",
       "  <thead>\n",
       "    <tr style=\"text-align: right;\">\n",
       "      <th></th>\n",
       "      <th>packageName</th>\n",
       "      <th>duplicates</th>\n",
       "      <th>artifactNames</th>\n",
       "    </tr>\n",
       "  </thead>\n",
       "  <tbody>\n",
       "  </tbody>\n",
       "</table>\n",
       "</div>"
      ],
      "text/plain": [
       "Empty DataFrame\n",
       "Columns: [packageName, duplicates, artifactNames]\n",
       "Index: []"
      ]
     },
     "execution_count": 23,
     "metadata": {},
     "output_type": "execute_result"
    }
   ],
   "source": [
    "duplicate_package_names_across_artifacts=query_cypher_to_data_frame(\"../cypher/Artifact_Dependencies/Artifacts_with_duplicate_packages.cypher\", limit=30)\n",
    "duplicate_package_names_across_artifacts"
   ]
  },
  {
   "cell_type": "markdown",
   "id": "fead8222",
   "metadata": {},
   "source": [
    "### Table 9 - Annotated elements\n",
    "\n",
    "This table shows 30 most used Java Annotations including some examples where they are used.\n"
   ]
  },
  {
   "cell_type": "code",
   "execution_count": 24,
   "id": "9055e352",
   "metadata": {
    "execution": {
     "iopub.execute_input": "2024-04-24T06:16:02.743611Z",
     "iopub.status.busy": "2024-04-24T06:16:02.743455Z",
     "iopub.status.idle": "2024-04-24T06:16:02.855051Z",
     "shell.execute_reply": "2024-04-24T06:16:02.854518Z"
    }
   },
   "outputs": [
    {
     "data": {
      "text/html": [
       "<div>\n",
       "<style scoped>\n",
       "    .dataframe tbody tr th:only-of-type {\n",
       "        vertical-align: middle;\n",
       "    }\n",
       "\n",
       "    .dataframe tbody tr th {\n",
       "        vertical-align: top;\n",
       "    }\n",
       "\n",
       "    .dataframe thead th {\n",
       "        text-align: right;\n",
       "    }\n",
       "</style>\n",
       "<table border=\"1\" class=\"dataframe\">\n",
       "  <thead>\n",
       "    <tr style=\"text-align: right;\">\n",
       "      <th></th>\n",
       "      <th>annotationName</th>\n",
       "      <th>languageElement</th>\n",
       "      <th>numberOfAnnotatedElements</th>\n",
       "      <th>examples</th>\n",
       "    </tr>\n",
       "  </thead>\n",
       "  <tbody>\n",
       "  </tbody>\n",
       "</table>\n",
       "</div>"
      ],
      "text/plain": [
       "Empty DataFrame\n",
       "Columns: [annotationName, languageElement, numberOfAnnotatedElements, examples]\n",
       "Index: []"
      ]
     },
     "execution_count": 24,
     "metadata": {},
     "output_type": "execute_result"
    }
   ],
   "source": [
    "annotated_elements=query_cypher_to_data_frame(\"../cypher/Java/Annotated_code_elements.cypher\", limit=30)\n",
    "annotated_elements"
   ]
  }
 ],
 "metadata": {
  "authors": [
   {
    "name": "JohT"
   }
  ],
  "kernelspec": {
   "display_name": "Python 3 (ipykernel)",
   "language": "python",
   "name": "python3"
  },
  "language_info": {
   "codemirror_mode": {
    "name": "ipython",
    "version": 3
   },
   "file_extension": ".py",
   "mimetype": "text/x-python",
   "name": "python",
   "nbconvert_exporter": "python",
   "pygments_lexer": "ipython3",
   "version": "3.11.0"
  },
  "title": "Object Oriented Design Quality Metrics for Java with Neo4j"
 },
 "nbformat": 4,
 "nbformat_minor": 5
}
