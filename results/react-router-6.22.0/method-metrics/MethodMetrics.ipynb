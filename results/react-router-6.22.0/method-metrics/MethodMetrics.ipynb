{
 "cells": [
  {
   "attachments": {},
   "cell_type": "markdown",
   "id": "2f0eabc4",
   "metadata": {},
   "source": [
    "# Method Metrics\n",
    "<br>  \n",
    "\n",
    "### References\n",
    "- [jqassistant](https://jqassistant.org)\n",
    "- [Neo4j Python Driver](https://neo4j.com/docs/api/python-driver/current)"
   ]
  },
  {
   "cell_type": "code",
   "execution_count": 1,
   "id": "4191f259",
   "metadata": {
    "execution": {
     "iopub.execute_input": "2024-04-24T06:16:08.553985Z",
     "iopub.status.busy": "2024-04-24T06:16:08.553796Z",
     "iopub.status.idle": "2024-04-24T06:16:09.080517Z",
     "shell.execute_reply": "2024-04-24T06:16:09.080051Z"
    }
   },
   "outputs": [],
   "source": [
    "import os\n",
    "import pandas as pd\n",
    "import matplotlib.pyplot as plot\n",
    "from neo4j import GraphDatabase"
   ]
  },
  {
   "cell_type": "code",
   "execution_count": 2,
   "id": "1c5dab37",
   "metadata": {
    "execution": {
     "iopub.execute_input": "2024-04-24T06:16:09.083031Z",
     "iopub.status.busy": "2024-04-24T06:16:09.082774Z",
     "iopub.status.idle": "2024-04-24T06:16:09.090184Z",
     "shell.execute_reply": "2024-04-24T06:16:09.089821Z"
    }
   },
   "outputs": [],
   "source": [
    "# Please set the environment variable \"NEO4J_INITIAL_PASSWORD\" in your shell \n",
    "# before starting jupyter notebook to provide the password for the user \"neo4j\". \n",
    "# It is not recommended to hardcode the password into jupyter notebook for security reasons.\n",
    "\n",
    "driver = GraphDatabase.driver(uri=\"bolt://localhost:7687\", auth=(\"neo4j\", os.environ.get(\"NEO4J_INITIAL_PASSWORD\")))\n",
    "driver.verify_connectivity()"
   ]
  },
  {
   "cell_type": "code",
   "execution_count": 3,
   "id": "c1db254b",
   "metadata": {
    "execution": {
     "iopub.execute_input": "2024-04-24T06:16:09.092014Z",
     "iopub.status.busy": "2024-04-24T06:16:09.091860Z",
     "iopub.status.idle": "2024-04-24T06:16:09.094377Z",
     "shell.execute_reply": "2024-04-24T06:16:09.093989Z"
    }
   },
   "outputs": [],
   "source": [
    "def get_cypher_query_from_file(filename):\n",
    "    with open(filename) as file:\n",
    "        return ' '.join(file.readlines())"
   ]
  },
  {
   "cell_type": "code",
   "execution_count": 4,
   "id": "59310f6f",
   "metadata": {
    "execution": {
     "iopub.execute_input": "2024-04-24T06:16:09.096395Z",
     "iopub.status.busy": "2024-04-24T06:16:09.096109Z",
     "iopub.status.idle": "2024-04-24T06:16:09.098752Z",
     "shell.execute_reply": "2024-04-24T06:16:09.098350Z"
    }
   },
   "outputs": [],
   "source": [
    "def query_cypher_to_data_frame(filename):\n",
    "    records, summary, keys = driver.execute_query(get_cypher_query_from_file(filename))\n",
    "    return pd.DataFrame([r.values() for r in records], columns=keys)"
   ]
  },
  {
   "cell_type": "code",
   "execution_count": 5,
   "id": "da9e8edb",
   "metadata": {
    "execution": {
     "iopub.execute_input": "2024-04-24T06:16:09.100657Z",
     "iopub.status.busy": "2024-04-24T06:16:09.100361Z",
     "iopub.status.idle": "2024-04-24T06:16:09.102503Z",
     "shell.execute_reply": "2024-04-24T06:16:09.102120Z"
    }
   },
   "outputs": [],
   "source": [
    "#The following cell uses the build-in %html \"magic\" to override the CSS style for tables to a much smaller size.\n",
    "#This is especially needed for PDF export of tables with multiple columns."
   ]
  },
  {
   "cell_type": "code",
   "execution_count": 6,
   "id": "9deaabce",
   "metadata": {
    "execution": {
     "iopub.execute_input": "2024-04-24T06:16:09.104466Z",
     "iopub.status.busy": "2024-04-24T06:16:09.104176Z",
     "iopub.status.idle": "2024-04-24T06:16:09.110984Z",
     "shell.execute_reply": "2024-04-24T06:16:09.110481Z"
    }
   },
   "outputs": [
    {
     "data": {
      "text/html": [
       "<style>\n",
       "/* CSS style for smaller dataframe tables. */\n",
       ".dataframe th {\n",
       "    font-size: 8px;\n",
       "}\n",
       ".dataframe td {\n",
       "    font-size: 8px;\n",
       "}\n",
       "</style>\n"
      ],
      "text/plain": [
       "<IPython.core.display.HTML object>"
      ]
     },
     "metadata": {},
     "output_type": "display_data"
    }
   ],
   "source": [
    "%%html\n",
    "<style>\n",
    "/* CSS style for smaller dataframe tables. */\n",
    ".dataframe th {\n",
    "    font-size: 8px;\n",
    "}\n",
    ".dataframe td {\n",
    "    font-size: 8px;\n",
    "}\n",
    "</style>"
   ]
  },
  {
   "cell_type": "code",
   "execution_count": 7,
   "id": "c2496caf",
   "metadata": {
    "execution": {
     "iopub.execute_input": "2024-04-24T06:16:09.113061Z",
     "iopub.status.busy": "2024-04-24T06:16:09.112759Z",
     "iopub.status.idle": "2024-04-24T06:16:09.115044Z",
     "shell.execute_reply": "2024-04-24T06:16:09.114642Z"
    }
   },
   "outputs": [],
   "source": [
    "# Main Colormap\n",
    "main_color_map = 'nipy_spectral'"
   ]
  },
  {
   "attachments": {},
   "cell_type": "markdown",
   "id": "23fd8dfd",
   "metadata": {},
   "source": [
    "## Effective Method Line Count"
   ]
  },
  {
   "attachments": {},
   "cell_type": "markdown",
   "id": "5c49be47",
   "metadata": {},
   "source": [
    "### Table 1a - Effective method line count distribution\n",
    "\n",
    "This table shows the distribution of the effective method line count per artifact.\n",
    "For each artifact the number of methods with effective line count = 1,2,3,... is shown to get an overview of how line counts are distributed over methods.\n",
    "\n",
    "Only the 15 artifacts with the highest method count and their effective method line count distribution (limited by 40)is shown here. The whole table can be found in the CSV report `Effective_Method_Line_Count_Distribution`.\n",
    "\n",
    "Have a look below to find out which packages and methods have the highest effective lines of code."
   ]
  },
  {
   "cell_type": "code",
   "execution_count": 8,
   "id": "f6dfbcb7",
   "metadata": {
    "execution": {
     "iopub.execute_input": "2024-04-24T06:16:09.117137Z",
     "iopub.status.busy": "2024-04-24T06:16:09.116833Z",
     "iopub.status.idle": "2024-04-24T06:16:09.137503Z",
     "shell.execute_reply": "2024-04-24T06:16:09.136970Z"
    }
   },
   "outputs": [
    {
     "data": {
      "text/html": [
       "<div>\n",
       "<style scoped>\n",
       "    .dataframe tbody tr th:only-of-type {\n",
       "        vertical-align: middle;\n",
       "    }\n",
       "\n",
       "    .dataframe tbody tr th {\n",
       "        vertical-align: top;\n",
       "    }\n",
       "\n",
       "    .dataframe thead th {\n",
       "        text-align: right;\n",
       "    }\n",
       "</style>\n",
       "<table border=\"1\" class=\"dataframe\">\n",
       "  <thead>\n",
       "    <tr style=\"text-align: right;\">\n",
       "      <th>artifactName</th>\n",
       "    </tr>\n",
       "    <tr>\n",
       "      <th>effectiveLineCount</th>\n",
       "    </tr>\n",
       "  </thead>\n",
       "  <tbody>\n",
       "  </tbody>\n",
       "</table>\n",
       "</div>"
      ],
      "text/plain": [
       "Empty DataFrame\n",
       "Columns: []\n",
       "Index: []"
      ]
     },
     "execution_count": 8,
     "metadata": {},
     "output_type": "execute_result"
    }
   ],
   "source": [
    "effective_method_line_count_distribution_max_artifacts=20\n",
    "\n",
    "effective_method_line_count_distribution=query_cypher_to_data_frame(\"../cypher/Overview/Effective_Method_Line_Count_Distribution.cypher\")\n",
    "effective_method_line_count_distribution=effective_method_line_count_distribution.pivot(index='effectiveLineCount', columns='artifactName', values='methods')\n",
    "\n",
    "# Fill missing values with zero\n",
    "effective_method_line_count_distribution.fillna(0, inplace=True)\n",
    "\n",
    "# Convert to integer\n",
    "effective_method_line_count_distribution=effective_method_line_count_distribution.astype(int)\n",
    "\n",
    "# Sort by column sum and then take only the first 10 columns\n",
    "effective_method_line_count_sum_per_artifact = effective_method_line_count_distribution.sum()\n",
    "effective_method_line_count_distribution = effective_method_line_count_distribution[effective_method_line_count_sum_per_artifact.sort_values(ascending=False).index[:effective_method_line_count_distribution_max_artifacts]]\n",
    "\n",
    "effective_method_line_count_distribution.head(40)"
   ]
  },
  {
   "attachments": {},
   "cell_type": "markdown",
   "id": "69f80f6d",
   "metadata": {},
   "source": [
    "### Table 1b - Effective method line count distribution (normalized)\n",
    "\n",
    "The table shown here only includes the first 40 rows which typically represents the most significant entries.\n",
    "Have a look below to find out which packages and methods have the highest effective lines of code."
   ]
  },
  {
   "cell_type": "code",
   "execution_count": 9,
   "id": "3b389bbc",
   "metadata": {
    "execution": {
     "iopub.execute_input": "2024-04-24T06:16:09.139764Z",
     "iopub.status.busy": "2024-04-24T06:16:09.139406Z",
     "iopub.status.idle": "2024-04-24T06:16:09.144007Z",
     "shell.execute_reply": "2024-04-24T06:16:09.143629Z"
    }
   },
   "outputs": [
    {
     "data": {
      "text/html": [
       "<div>\n",
       "<style scoped>\n",
       "    .dataframe tbody tr th:only-of-type {\n",
       "        vertical-align: middle;\n",
       "    }\n",
       "\n",
       "    .dataframe tbody tr th {\n",
       "        vertical-align: top;\n",
       "    }\n",
       "\n",
       "    .dataframe thead th {\n",
       "        text-align: right;\n",
       "    }\n",
       "</style>\n",
       "<table border=\"1\" class=\"dataframe\">\n",
       "  <thead>\n",
       "    <tr style=\"text-align: right;\">\n",
       "      <th>artifactName</th>\n",
       "    </tr>\n",
       "    <tr>\n",
       "      <th>effectiveLineCount</th>\n",
       "    </tr>\n",
       "  </thead>\n",
       "  <tbody>\n",
       "  </tbody>\n",
       "</table>\n",
       "</div>"
      ],
      "text/plain": [
       "Empty DataFrame\n",
       "Columns: []\n",
       "Index: []"
      ]
     },
     "execution_count": 9,
     "metadata": {},
     "output_type": "execute_result"
    }
   ],
   "source": [
    "# Divide every value by the sum of all values in the same column to get vertical normalized values.\n",
    "effective_method_line_count_distribution_normalized = effective_method_line_count_distribution.div(effective_method_line_count_distribution.sum(axis=0), axis=1).multiply(100)\n",
    "effective_method_line_count_distribution_normalized.head(40)"
   ]
  },
  {
   "cell_type": "markdown",
   "id": "2e75ff54",
   "metadata": {},
   "source": [
    "### Table 1b Chart 1 - Effective method line count distribution (normalized)"
   ]
  },
  {
   "cell_type": "code",
   "execution_count": 10,
   "id": "6a1ae2c3",
   "metadata": {
    "execution": {
     "iopub.execute_input": "2024-04-24T06:16:09.146156Z",
     "iopub.status.busy": "2024-04-24T06:16:09.145777Z",
     "iopub.status.idle": "2024-04-24T06:16:09.149860Z",
     "shell.execute_reply": "2024-04-24T06:16:09.149448Z"
    }
   },
   "outputs": [
    {
     "name": "stdout",
     "output_type": "stream",
     "text": [
      "No data to plot\n"
     ]
    }
   ],
   "source": [
    "if effective_method_line_count_distribution_normalized.empty:\n",
    "    print(\"No data to plot\")\n",
    "else:\n",
    "    plot.figure();\n",
    "    method_line_count_x_ticks=range(1,20)\n",
    "    axes = effective_method_line_count_distribution_normalized.head(20).plot(\n",
    "        kind='line',\n",
    "        logx=True,\n",
    "        grid=True,\n",
    "        xlim=[2, 20],\n",
    "        ylim=[0, 20],\n",
    "        xticks=method_line_count_x_ticks,\n",
    "        title='Effective Method Line Count Distribution', \n",
    "        xlabel='effective line count',\n",
    "        ylabel='percent of methods',\n",
    "        cmap=main_color_map,\n",
    "        figsize=(10, 6),\n",
    "        lw=2,\n",
    "    )\n",
    "    axes.set_xticklabels(method_line_count_x_ticks)\n",
    "    axes.legend(bbox_to_anchor=(1.05, 1), loc='upper left')\n",
    "    plot.show()"
   ]
  },
  {
   "cell_type": "markdown",
   "id": "ff1748a3",
   "metadata": {},
   "source": [
    "### Table 1c - Top 30 packages with highest effective line counts\n",
    "\n",
    "The following table shows the top 30 packages with the highest effective lines of code. The whole table can be found in the CSV report `Effective_lines_of_method_code_per_package`."
   ]
  },
  {
   "cell_type": "code",
   "execution_count": 11,
   "id": "ac2bd9c2",
   "metadata": {
    "execution": {
     "iopub.execute_input": "2024-04-24T06:16:09.151775Z",
     "iopub.status.busy": "2024-04-24T06:16:09.151471Z",
     "iopub.status.idle": "2024-04-24T06:16:09.178269Z",
     "shell.execute_reply": "2024-04-24T06:16:09.177787Z"
    }
   },
   "outputs": [],
   "source": [
    "# Query artifacts and packages and find the method with the highest effective lines of code and cyclomatic complexity\n",
    "# The result of this query will be also used further below. \n",
    "method_statistics_per_package = query_cypher_to_data_frame(\"../cypher/Overview/Effective_lines_of_method_code_per_package.cypher\")"
   ]
  },
  {
   "cell_type": "code",
   "execution_count": 12,
   "id": "dafd62c1",
   "metadata": {
    "execution": {
     "iopub.execute_input": "2024-04-24T06:16:09.180480Z",
     "iopub.status.busy": "2024-04-24T06:16:09.180329Z",
     "iopub.status.idle": "2024-04-24T06:16:09.186155Z",
     "shell.execute_reply": "2024-04-24T06:16:09.185707Z"
    }
   },
   "outputs": [
    {
     "data": {
      "text/html": [
       "<div>\n",
       "<style scoped>\n",
       "    .dataframe tbody tr th:only-of-type {\n",
       "        vertical-align: middle;\n",
       "    }\n",
       "\n",
       "    .dataframe tbody tr th {\n",
       "        vertical-align: top;\n",
       "    }\n",
       "\n",
       "    .dataframe thead th {\n",
       "        text-align: right;\n",
       "    }\n",
       "</style>\n",
       "<table border=\"1\" class=\"dataframe\">\n",
       "  <thead>\n",
       "    <tr style=\"text-align: right;\">\n",
       "      <th></th>\n",
       "      <th>artifactName</th>\n",
       "      <th>fullPackageName</th>\n",
       "      <th>linesInPackage</th>\n",
       "      <th>methodCount</th>\n",
       "      <th>maxLinesMethod</th>\n",
       "      <th>maxLinesMethodName</th>\n",
       "    </tr>\n",
       "  </thead>\n",
       "  <tbody>\n",
       "  </tbody>\n",
       "</table>\n",
       "</div>"
      ],
      "text/plain": [
       "Empty DataFrame\n",
       "Columns: [artifactName, fullPackageName, linesInPackage, methodCount, maxLinesMethod, maxLinesMethodName]\n",
       "Index: []"
      ]
     },
     "execution_count": 12,
     "metadata": {},
     "output_type": "execute_result"
    }
   ],
   "source": [
    "# Select and order the columns for this particular table \n",
    "effective_line_count_per_package=method_statistics_per_package[['artifactName', 'fullPackageName', 'linesInPackage', 'methodCount', 'maxLinesMethod','maxLinesMethodName']]\n",
    "\n",
    "# Print out the top 30 (head) rows\n",
    "effective_line_count_per_package.head(30)"
   ]
  },
  {
   "cell_type": "markdown",
   "id": "19f5e1a6",
   "metadata": {},
   "source": [
    "### Table 1d - Top 30 methods with the highest effective line count\n",
    "\n",
    "The following table shows the top 30 methods with the highest effective lines of code. The whole table can be found in the CSV report `Effective_lines_of_method_code_per_package`."
   ]
  },
  {
   "cell_type": "code",
   "execution_count": 13,
   "id": "c196e836",
   "metadata": {
    "execution": {
     "iopub.execute_input": "2024-04-24T06:16:09.188004Z",
     "iopub.status.busy": "2024-04-24T06:16:09.187856Z",
     "iopub.status.idle": "2024-04-24T06:16:09.194306Z",
     "shell.execute_reply": "2024-04-24T06:16:09.193841Z"
    }
   },
   "outputs": [
    {
     "data": {
      "text/html": [
       "<div>\n",
       "<style scoped>\n",
       "    .dataframe tbody tr th:only-of-type {\n",
       "        vertical-align: middle;\n",
       "    }\n",
       "\n",
       "    .dataframe tbody tr th {\n",
       "        vertical-align: top;\n",
       "    }\n",
       "\n",
       "    .dataframe thead th {\n",
       "        text-align: right;\n",
       "    }\n",
       "</style>\n",
       "<table border=\"1\" class=\"dataframe\">\n",
       "  <thead>\n",
       "    <tr style=\"text-align: right;\">\n",
       "      <th></th>\n",
       "      <th>index</th>\n",
       "      <th>artifactName</th>\n",
       "      <th>fullPackageName</th>\n",
       "      <th>maxLinesMethodType</th>\n",
       "      <th>maxLinesMethodName</th>\n",
       "      <th>maxLinesMethod</th>\n",
       "      <th>linesInPackage</th>\n",
       "    </tr>\n",
       "  </thead>\n",
       "  <tbody>\n",
       "  </tbody>\n",
       "</table>\n",
       "</div>"
      ],
      "text/plain": [
       "Empty DataFrame\n",
       "Columns: [index, artifactName, fullPackageName, maxLinesMethodType, maxLinesMethodName, maxLinesMethod, linesInPackage]\n",
       "Index: []"
      ]
     },
     "execution_count": 13,
     "metadata": {},
     "output_type": "execute_result"
    }
   ],
   "source": [
    "# Select and order the columns for this particular table \n",
    "effective_line_count_method_per_package=method_statistics_per_package[['artifactName', 'fullPackageName', 'maxLinesMethodType', 'maxLinesMethodName', 'maxLinesMethod', 'linesInPackage']]\n",
    "\n",
    "# Sort by the maximum of effective lines of code per package descending\n",
    "effective_line_count_method_per_package=effective_line_count_method_per_package.sort_values(by='maxLinesMethod', ascending=False)\n",
    "\n",
    "# Reset the index to the new sort order\n",
    "effective_line_count_method_per_package=effective_line_count_method_per_package.reset_index()\n",
    "\n",
    "# Print out the top 30 (head) rows\n",
    "effective_line_count_method_per_package.head(30)"
   ]
  },
  {
   "cell_type": "markdown",
   "id": "c5554922",
   "metadata": {},
   "source": [
    "## Cyclomatic Complexity"
   ]
  },
  {
   "attachments": {},
   "cell_type": "markdown",
   "id": "8f811e86",
   "metadata": {},
   "source": [
    "### Table 2a - Cyclomatic method complexity distribution\n",
    "\n",
    "This table shows the distribution of the cyclomatic complexity of methods per artifact.\n",
    "For each artifact the number of methods with the cyclomatic complexity = 1,2,3,... is shown to get an overview of how cyclomatic complexity is distributed over methods.\n",
    "\n",
    "Only the 15 artifacts with the highest method count sum and their cyclomatic method complexity distribution (limited by 40) is shown here. The whole table can be found in the CSV report `Cyclomatic_Method_Complexity_Distribution`.\n",
    "\n",
    "Have a look below to find out which packages and methods have the highest effective lines of code."
   ]
  },
  {
   "cell_type": "code",
   "execution_count": 14,
   "id": "cf989acc",
   "metadata": {
    "execution": {
     "iopub.execute_input": "2024-04-24T06:16:09.196642Z",
     "iopub.status.busy": "2024-04-24T06:16:09.196220Z",
     "iopub.status.idle": "2024-04-24T06:16:09.219672Z",
     "shell.execute_reply": "2024-04-24T06:16:09.219182Z"
    }
   },
   "outputs": [
    {
     "data": {
      "text/html": [
       "<div>\n",
       "<style scoped>\n",
       "    .dataframe tbody tr th:only-of-type {\n",
       "        vertical-align: middle;\n",
       "    }\n",
       "\n",
       "    .dataframe tbody tr th {\n",
       "        vertical-align: top;\n",
       "    }\n",
       "\n",
       "    .dataframe thead th {\n",
       "        text-align: right;\n",
       "    }\n",
       "</style>\n",
       "<table border=\"1\" class=\"dataframe\">\n",
       "  <thead>\n",
       "    <tr style=\"text-align: right;\">\n",
       "      <th>artifactName</th>\n",
       "    </tr>\n",
       "    <tr>\n",
       "      <th>cyclomaticComplexity</th>\n",
       "    </tr>\n",
       "  </thead>\n",
       "  <tbody>\n",
       "  </tbody>\n",
       "</table>\n",
       "</div>"
      ],
      "text/plain": [
       "Empty DataFrame\n",
       "Columns: []\n",
       "Index: []"
      ]
     },
     "execution_count": 14,
     "metadata": {},
     "output_type": "execute_result"
    }
   ],
   "source": [
    "cyclomatic_method_complexity_distribution_max_artifacts=15\n",
    "\n",
    "cyclomatic_method_complexity_distribution=query_cypher_to_data_frame(\"../cypher/Overview/Cyclomatic_Method_Complexity_Distribution.cypher\")\n",
    "cyclomatic_method_complexity_distribution=cyclomatic_method_complexity_distribution.pivot(index='cyclomaticComplexity', columns='artifactName', values='methods')\n",
    "\n",
    "# Fill missing values with zero\n",
    "cyclomatic_method_complexity_distribution.fillna(0, inplace=True)\n",
    "\n",
    "# Convert to integer\n",
    "cyclomatic_method_complexity_distribution=cyclomatic_method_complexity_distribution.astype(int)\n",
    "\n",
    "# Sort by column sum and then take only the first 10 columns\n",
    "effective_method_line_count_sum_per_artifact = effective_method_line_count_distribution.sum()\n",
    "cyclomatic_method_complexity_distribution = cyclomatic_method_complexity_distribution[effective_method_line_count_sum_per_artifact.sort_values(ascending=False).index[:cyclomatic_method_complexity_distribution_max_artifacts]]\n",
    "\n",
    "cyclomatic_method_complexity_distribution.head(40)"
   ]
  },
  {
   "attachments": {},
   "cell_type": "markdown",
   "id": "edd94088",
   "metadata": {},
   "source": [
    "### Table 2b - Cyclomatic method complexity distribution (normalized)\n",
    "\n",
    "The table shown here only includes the first 40 rows which typically represents the most significant entries.\n",
    "Have a look below to find out which packages and methods have the highest effective lines of code."
   ]
  },
  {
   "cell_type": "code",
   "execution_count": 15,
   "id": "7aff1d2f",
   "metadata": {
    "execution": {
     "iopub.execute_input": "2024-04-24T06:16:09.221944Z",
     "iopub.status.busy": "2024-04-24T06:16:09.221737Z",
     "iopub.status.idle": "2024-04-24T06:16:09.226749Z",
     "shell.execute_reply": "2024-04-24T06:16:09.226299Z"
    }
   },
   "outputs": [
    {
     "data": {
      "text/html": [
       "<div>\n",
       "<style scoped>\n",
       "    .dataframe tbody tr th:only-of-type {\n",
       "        vertical-align: middle;\n",
       "    }\n",
       "\n",
       "    .dataframe tbody tr th {\n",
       "        vertical-align: top;\n",
       "    }\n",
       "\n",
       "    .dataframe thead th {\n",
       "        text-align: right;\n",
       "    }\n",
       "</style>\n",
       "<table border=\"1\" class=\"dataframe\">\n",
       "  <thead>\n",
       "    <tr style=\"text-align: right;\">\n",
       "      <th>artifactName</th>\n",
       "    </tr>\n",
       "    <tr>\n",
       "      <th>cyclomaticComplexity</th>\n",
       "    </tr>\n",
       "  </thead>\n",
       "  <tbody>\n",
       "  </tbody>\n",
       "</table>\n",
       "</div>"
      ],
      "text/plain": [
       "Empty DataFrame\n",
       "Columns: []\n",
       "Index: []"
      ]
     },
     "execution_count": 15,
     "metadata": {},
     "output_type": "execute_result"
    }
   ],
   "source": [
    "# Divide every value by the sum of all values in the same column to get vertical normalized values.\n",
    "cyclomatic_method_complexity_distribution_normalized = cyclomatic_method_complexity_distribution.div(cyclomatic_method_complexity_distribution.sum(axis=0), axis=1).multiply(100)\n",
    "cyclomatic_method_complexity_distribution_normalized.head(40)"
   ]
  },
  {
   "cell_type": "markdown",
   "id": "24fdb553",
   "metadata": {},
   "source": [
    "### Table 2b Chart 1 - Cyclomatic method complexity distribution (normalized)"
   ]
  },
  {
   "cell_type": "code",
   "execution_count": 16,
   "id": "f4e40ede",
   "metadata": {
    "execution": {
     "iopub.execute_input": "2024-04-24T06:16:09.229019Z",
     "iopub.status.busy": "2024-04-24T06:16:09.228651Z",
     "iopub.status.idle": "2024-04-24T06:16:09.232954Z",
     "shell.execute_reply": "2024-04-24T06:16:09.232448Z"
    }
   },
   "outputs": [
    {
     "name": "stdout",
     "output_type": "stream",
     "text": [
      "No data to plot\n"
     ]
    }
   ],
   "source": [
    "if cyclomatic_method_complexity_distribution_normalized.empty:\n",
    "    print(\"No data to plot\")\n",
    "else:\n",
    "    plot.figure();\n",
    "    method_line_count_x_ticks=range(1,11)\n",
    "    cyclomatic_complexity_y_ticks=[1, 2, 3, 4, 5, 7, 10, 20, 30, 40, 50, 100]\n",
    "    axes = cyclomatic_method_complexity_distribution_normalized.plot(\n",
    "        kind='line', \n",
    "        logx=True,\n",
    "        logy=True,\n",
    "        grid=True,\n",
    "        xlim=[1,11],\n",
    "        ylim=[1,100],\n",
    "        xticks=method_line_count_x_ticks,\n",
    "        yticks=cyclomatic_complexity_y_ticks,\n",
    "        title='Cyclomatic complexity distribution of methods', \n",
    "        xlabel='cyclomatic complexity',\n",
    "        ylabel='percentage of methods',\n",
    "        cmap=main_color_map,\n",
    "    )\n",
    "    axes.set_xticklabels(method_line_count_x_ticks)\n",
    "    axes.set_yticklabels(cyclomatic_complexity_y_ticks)\n",
    "    axes.legend(bbox_to_anchor=(1.05, 1), loc='upper left')\n",
    "    plot.show()"
   ]
  },
  {
   "cell_type": "markdown",
   "id": "3fc668c5",
   "metadata": {},
   "source": [
    "### Table 2c - Top 30 packages with highest cyclomatic complexity\n",
    "\n",
    "The following table shows the top 30 packages with the highest cyclomatic complexity. The whole table can be found in the CSV report `Effective_lines_of_method_code_per_package`."
   ]
  },
  {
   "cell_type": "code",
   "execution_count": 17,
   "id": "d8739176",
   "metadata": {
    "execution": {
     "iopub.execute_input": "2024-04-24T06:16:09.235029Z",
     "iopub.status.busy": "2024-04-24T06:16:09.234745Z",
     "iopub.status.idle": "2024-04-24T06:16:09.240553Z",
     "shell.execute_reply": "2024-04-24T06:16:09.240104Z"
    }
   },
   "outputs": [
    {
     "data": {
      "text/html": [
       "<div>\n",
       "<style scoped>\n",
       "    .dataframe tbody tr th:only-of-type {\n",
       "        vertical-align: middle;\n",
       "    }\n",
       "\n",
       "    .dataframe tbody tr th {\n",
       "        vertical-align: top;\n",
       "    }\n",
       "\n",
       "    .dataframe thead th {\n",
       "        text-align: right;\n",
       "    }\n",
       "</style>\n",
       "<table border=\"1\" class=\"dataframe\">\n",
       "  <thead>\n",
       "    <tr style=\"text-align: right;\">\n",
       "      <th></th>\n",
       "      <th>artifactName</th>\n",
       "      <th>fullPackageName</th>\n",
       "      <th>complexityInPackage</th>\n",
       "      <th>methodCount</th>\n",
       "      <th>maxComplexity</th>\n",
       "      <th>maxComplexityMethod</th>\n",
       "    </tr>\n",
       "  </thead>\n",
       "  <tbody>\n",
       "  </tbody>\n",
       "</table>\n",
       "</div>"
      ],
      "text/plain": [
       "Empty DataFrame\n",
       "Columns: [artifactName, fullPackageName, complexityInPackage, methodCount, maxComplexity, maxComplexityMethod]\n",
       "Index: []"
      ]
     },
     "execution_count": 17,
     "metadata": {},
     "output_type": "execute_result"
    }
   ],
   "source": [
    "# Select and order the columns for this particular table \n",
    "cyclomatic_complexity_per_package=method_statistics_per_package[['artifactName', 'fullPackageName', 'complexityInPackage', 'methodCount', 'maxComplexity','maxComplexityMethod']]\n",
    "\n",
    "# Sort by the method with the highest cyclomatic complexity per package descending\n",
    "cyclomatic_complexity_per_package=cyclomatic_complexity_per_package.sort_values(by='complexityInPackage', ascending=False)\n",
    "\n",
    "# Print out the top 30 (head) rows\n",
    "cyclomatic_complexity_per_package.head(30)"
   ]
  },
  {
   "attachments": {},
   "cell_type": "markdown",
   "id": "4c82a0fd",
   "metadata": {},
   "source": [
    "### Table 2d - Top 30 methods with highest cyclomatic complexity\n",
    "\n",
    "The following table shows the top 30 packages containing the methods with the highest cyclomatic complexity. The whole table can be found in the CSV report `Effective_lines_of_method_code_per_package`."
   ]
  },
  {
   "cell_type": "code",
   "execution_count": 18,
   "id": "5e000945",
   "metadata": {
    "execution": {
     "iopub.execute_input": "2024-04-24T06:16:09.242476Z",
     "iopub.status.busy": "2024-04-24T06:16:09.242329Z",
     "iopub.status.idle": "2024-04-24T06:16:09.248482Z",
     "shell.execute_reply": "2024-04-24T06:16:09.248008Z"
    }
   },
   "outputs": [
    {
     "data": {
      "text/html": [
       "<div>\n",
       "<style scoped>\n",
       "    .dataframe tbody tr th:only-of-type {\n",
       "        vertical-align: middle;\n",
       "    }\n",
       "\n",
       "    .dataframe tbody tr th {\n",
       "        vertical-align: top;\n",
       "    }\n",
       "\n",
       "    .dataframe thead th {\n",
       "        text-align: right;\n",
       "    }\n",
       "</style>\n",
       "<table border=\"1\" class=\"dataframe\">\n",
       "  <thead>\n",
       "    <tr style=\"text-align: right;\">\n",
       "      <th></th>\n",
       "      <th>index</th>\n",
       "      <th>artifactName</th>\n",
       "      <th>fullPackageName</th>\n",
       "      <th>maxComplexityType</th>\n",
       "      <th>maxComplexityMethod</th>\n",
       "      <th>maxComplexity</th>\n",
       "    </tr>\n",
       "  </thead>\n",
       "  <tbody>\n",
       "  </tbody>\n",
       "</table>\n",
       "</div>"
      ],
      "text/plain": [
       "Empty DataFrame\n",
       "Columns: [index, artifactName, fullPackageName, maxComplexityType, maxComplexityMethod, maxComplexity]\n",
       "Index: []"
      ]
     },
     "execution_count": 18,
     "metadata": {},
     "output_type": "execute_result"
    }
   ],
   "source": [
    "# Select and order the columns for this particular table \n",
    "cyclomatic_complexity_per_method=method_statistics_per_package[['artifactName', 'fullPackageName', 'maxComplexityType', 'maxComplexityMethod', 'maxComplexity']]\n",
    "\n",
    "# Sort by the method with the highest cyclomatic complexity per package descending\n",
    "cyclomatic_complexity_per_method=cyclomatic_complexity_per_method.sort_values(by='maxComplexity', ascending=False)\n",
    "\n",
    "# Reset the index to the new sort order\n",
    "cyclomatic_complexity_per_method=cyclomatic_complexity_per_method.reset_index()\n",
    "\n",
    "# Print out the top 30 (head) rows\n",
    "cyclomatic_complexity_per_method.head(30)"
   ]
  }
 ],
 "metadata": {
  "authors": [
   {
    "name": "JohT"
   }
  ],
  "kernelspec": {
   "display_name": "Python 3 (ipykernel)",
   "language": "python",
   "name": "python3"
  },
  "language_info": {
   "codemirror_mode": {
    "name": "ipython",
    "version": 3
   },
   "file_extension": ".py",
   "mimetype": "text/x-python",
   "name": "python",
   "nbconvert_exporter": "python",
   "pygments_lexer": "ipython3",
   "version": "3.11.0"
  },
  "title": "Object Oriented Design Quality Metrics for Java with Neo4j"
 },
 "nbformat": 4,
 "nbformat_minor": 5
}
