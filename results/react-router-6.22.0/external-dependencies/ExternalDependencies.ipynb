{
 "cells": [
  {
   "attachments": {},
   "cell_type": "markdown",
   "id": "2f0eabc4",
   "metadata": {},
   "source": [
    "# External Dependencies\n",
    "<br>  \n",
    "\n",
    "### References\n",
    "- [jqassistant](https://jqassistant.org)\n",
    "- [Neo4j Python Driver](https://neo4j.com/docs/api/python-driver/current)"
   ]
  },
  {
   "cell_type": "code",
   "execution_count": 1,
   "id": "4191f259",
   "metadata": {
    "execution": {
     "iopub.execute_input": "2024-04-24T06:15:51.469953Z",
     "iopub.status.busy": "2024-04-24T06:15:51.469746Z",
     "iopub.status.idle": "2024-04-24T06:15:53.326632Z",
     "shell.execute_reply": "2024-04-24T06:15:53.326057Z"
    }
   },
   "outputs": [],
   "source": [
    "import os\n",
    "import pandas as pd\n",
    "import matplotlib.pyplot as plot\n",
    "from neo4j import GraphDatabase"
   ]
  },
  {
   "cell_type": "code",
   "execution_count": 2,
   "id": "1c5dab37",
   "metadata": {
    "execution": {
     "iopub.execute_input": "2024-04-24T06:15:53.329408Z",
     "iopub.status.busy": "2024-04-24T06:15:53.329047Z",
     "iopub.status.idle": "2024-04-24T06:15:53.336879Z",
     "shell.execute_reply": "2024-04-24T06:15:53.336349Z"
    }
   },
   "outputs": [],
   "source": [
    "# Please set the environment variable \"NEO4J_INITIAL_PASSWORD\" in your shell \n",
    "# before starting jupyter notebook to provide the password for the user \"neo4j\". \n",
    "# It is not recommended to hardcode the password into jupyter notebook for security reasons.\n",
    "\n",
    "driver = GraphDatabase.driver(uri=\"bolt://localhost:7687\", auth=(\"neo4j\", os.environ.get(\"NEO4J_INITIAL_PASSWORD\")))\n",
    "driver.verify_connectivity()"
   ]
  },
  {
   "cell_type": "code",
   "execution_count": 3,
   "id": "c1db254b",
   "metadata": {
    "execution": {
     "iopub.execute_input": "2024-04-24T06:15:53.338912Z",
     "iopub.status.busy": "2024-04-24T06:15:53.338633Z",
     "iopub.status.idle": "2024-04-24T06:15:53.341282Z",
     "shell.execute_reply": "2024-04-24T06:15:53.340826Z"
    }
   },
   "outputs": [],
   "source": [
    "def get_cypher_query_from_file(filename):\n",
    "    with open(filename) as file:\n",
    "        return ' '.join(file.readlines())"
   ]
  },
  {
   "cell_type": "code",
   "execution_count": 4,
   "id": "59310f6f",
   "metadata": {
    "execution": {
     "iopub.execute_input": "2024-04-24T06:15:53.343378Z",
     "iopub.status.busy": "2024-04-24T06:15:53.343093Z",
     "iopub.status.idle": "2024-04-24T06:15:53.345901Z",
     "shell.execute_reply": "2024-04-24T06:15:53.345440Z"
    }
   },
   "outputs": [],
   "source": [
    "def query_cypher_to_data_frame(filename):\n",
    "    records, summary, keys = driver.execute_query(get_cypher_query_from_file(filename))\n",
    "    return pd.DataFrame([r.values() for r in records], columns=keys)"
   ]
  },
  {
   "cell_type": "code",
   "execution_count": 5,
   "id": "da9e8edb",
   "metadata": {
    "execution": {
     "iopub.execute_input": "2024-04-24T06:15:53.347798Z",
     "iopub.status.busy": "2024-04-24T06:15:53.347496Z",
     "iopub.status.idle": "2024-04-24T06:15:53.349639Z",
     "shell.execute_reply": "2024-04-24T06:15:53.349228Z"
    }
   },
   "outputs": [],
   "source": [
    "#The following cell uses the build-in %html \"magic\" to override the CSS style for tables to a much smaller size.\n",
    "#This is especially needed for PDF export of tables with multiple columns."
   ]
  },
  {
   "cell_type": "code",
   "execution_count": 6,
   "id": "9deaabce",
   "metadata": {
    "execution": {
     "iopub.execute_input": "2024-04-24T06:15:53.351607Z",
     "iopub.status.busy": "2024-04-24T06:15:53.351329Z",
     "iopub.status.idle": "2024-04-24T06:15:53.358201Z",
     "shell.execute_reply": "2024-04-24T06:15:53.357693Z"
    },
    "tags": [
     "table-css"
    ]
   },
   "outputs": [
    {
     "data": {
      "text/html": [
       "<style>\n",
       "/* CSS style for smaller dataframe tables. */\n",
       ".dataframe th {\n",
       "    font-size: 8px;\n",
       "}\n",
       ".dataframe td {\n",
       "    font-size: 8px;\n",
       "}\n",
       "</style>\n"
      ],
      "text/plain": [
       "<IPython.core.display.HTML object>"
      ]
     },
     "metadata": {},
     "output_type": "display_data"
    }
   ],
   "source": [
    "%%html\n",
    "<style>\n",
    "/* CSS style for smaller dataframe tables. */\n",
    ".dataframe th {\n",
    "    font-size: 8px;\n",
    "}\n",
    ".dataframe td {\n",
    "    font-size: 8px;\n",
    "}\n",
    "</style>"
   ]
  },
  {
   "cell_type": "code",
   "execution_count": 7,
   "id": "c2496caf",
   "metadata": {
    "execution": {
     "iopub.execute_input": "2024-04-24T06:15:53.359959Z",
     "iopub.status.busy": "2024-04-24T06:15:53.359808Z",
     "iopub.status.idle": "2024-04-24T06:15:53.362146Z",
     "shell.execute_reply": "2024-04-24T06:15:53.361746Z"
    }
   },
   "outputs": [],
   "source": [
    "# Main Colormap\n",
    "main_color_map = 'nipy_spectral'"
   ]
  },
  {
   "attachments": {},
   "cell_type": "markdown",
   "id": "6705e06a",
   "metadata": {},
   "source": [
    "## External Package Usage\n",
    "\n",
    "### External Package\n",
    "\n",
    "An external type has no `byteCodeVersion` since it only occurs as a dependency but wasn't analyzed itself (missing bytecode). Core Java types like `java.lang.Integer` and primitives like `int` are considered \"build-in\" and therefore aren't interpreted as \"external\" even though their byte code is also missing. A package is categorized as \"external\" if the types it contains are classified as external.\n",
    "\n",
    "### External annotation dependency\n",
    "\n",
    "The aforementioned classification encompasses external annotation dependencies as well. These dependencies introduce significantly less coupling and are not indispensable for compiling code. Without the external annotation the code would most probably behave differently. Hence, they are included in the first more overall and general tables and then left out in the later more specific ones."
   ]
  },
  {
   "attachments": {},
   "cell_type": "markdown",
   "id": "334167e4",
   "metadata": {},
   "source": [
    "### Table 1 - Top 20 most used external packages overall\n",
    "\n",
    "This table shows the external packages that are used by the most different internal types overall.\n",
    "Additionally, it shows which types of the external package are actually used. External annotations are also listed.\n",
    "\n",
    "Only the top 20 entries are shown. The whole table can be found in the following CSV report:\n",
    "`External_package_usage_overall`\n",
    "\n",
    "**Columns:**\n",
    "- *externalPackageName* identifies the external package as described above\n",
    "- *numberOfExternalCallerPackages* refers to the distinct packages that make use of the external package\n",
    "- *numberOfExternalCallerTypes* refers to the distinct types that make use of the external package\n",
    "- *numberOfExternalTypeCalls* includes every dependency to the types in the external package\n",
    "- *numberOfExternalTypeCallsWeighted* includes every invocation or reference (sum of weights) to the types in the external package\n",
    "- *allPackages* contains the total count of all analyzed packages in general\n",
    "- *allTypes* contains the total count of all analyzed types in general\n",
    "- *externalTypeNames* contains a list of actually utilized types of the external package"
   ]
  },
  {
   "cell_type": "code",
   "execution_count": 8,
   "id": "ff524ac7",
   "metadata": {
    "execution": {
     "iopub.execute_input": "2024-04-24T06:15:53.364013Z",
     "iopub.status.busy": "2024-04-24T06:15:53.363862Z",
     "iopub.status.idle": "2024-04-24T06:15:53.391382Z",
     "shell.execute_reply": "2024-04-24T06:15:53.390827Z"
    }
   },
   "outputs": [
    {
     "data": {
      "text/html": [
       "<div>\n",
       "<style scoped>\n",
       "    .dataframe tbody tr th:only-of-type {\n",
       "        vertical-align: middle;\n",
       "    }\n",
       "\n",
       "    .dataframe tbody tr th {\n",
       "        vertical-align: top;\n",
       "    }\n",
       "\n",
       "    .dataframe thead th {\n",
       "        text-align: right;\n",
       "    }\n",
       "</style>\n",
       "<table border=\"1\" class=\"dataframe\">\n",
       "  <thead>\n",
       "    <tr style=\"text-align: right;\">\n",
       "      <th></th>\n",
       "      <th>externalPackageName</th>\n",
       "      <th>numberOfExternalCallerPackages</th>\n",
       "      <th>numberOfExternalCallerTypes</th>\n",
       "      <th>numberOfExternalTypeCalls</th>\n",
       "      <th>numberOfExternalTypeCallsWeighted</th>\n",
       "      <th>allPackages</th>\n",
       "      <th>allTypes</th>\n",
       "      <th>tenExternalTypeNames</th>\n",
       "    </tr>\n",
       "  </thead>\n",
       "  <tbody>\n",
       "  </tbody>\n",
       "</table>\n",
       "</div>"
      ],
      "text/plain": [
       "Empty DataFrame\n",
       "Columns: [externalPackageName, numberOfExternalCallerPackages, numberOfExternalCallerTypes, numberOfExternalTypeCalls, numberOfExternalTypeCallsWeighted, allPackages, allTypes, tenExternalTypeNames]\n",
       "Index: []"
      ]
     },
     "execution_count": 8,
     "metadata": {},
     "output_type": "execute_result"
    }
   ],
   "source": [
    "external_package_usage=query_cypher_to_data_frame(\"../cypher/External_Dependencies/External_package_usage_overall.cypher\")\n",
    "\n",
    "# Select columns and only show the first 20 entries (head)\n",
    "external_package_usage.head(20)"
   ]
  },
  {
   "attachments": {},
   "cell_type": "markdown",
   "id": "1143afcb",
   "metadata": {},
   "source": [
    "#### Table 1 Chart 1 - Most called external packages in % by types\n",
    "\n",
    "External packages that are used less than 0.7% are grouped into the name \"others\" to get a cleaner chart\n",
    "with the most significant external packages and how ofter they are called in percent."
   ]
  },
  {
   "cell_type": "code",
   "execution_count": 9,
   "id": "44a11aec",
   "metadata": {
    "execution": {
     "iopub.execute_input": "2024-04-24T06:15:53.393835Z",
     "iopub.status.busy": "2024-04-24T06:15:53.393521Z",
     "iopub.status.idle": "2024-04-24T06:15:53.397479Z",
     "shell.execute_reply": "2024-04-24T06:15:53.396993Z"
    }
   },
   "outputs": [],
   "source": [
    "def group_to_others_below_threshold(data_frame : pd.DataFrame, value_column : str, name_column: str, threshold: float) -> pd.DataFrame:    \n",
    "    \"\"\"Adds a new percentage column for the value column and \n",
    "    groups all values below the given threshold to \"others\" in the name column.\n",
    "\n",
    "    Parameters:\n",
    "    - data_frame (pd.DataFrame): Input pandas DataFrame\n",
    "    - value_column (str): Name of the column that contains the numeric value\n",
    "    - name_column (str): Name of the column that contains the group name that will be replaced by \"others\" for small values\n",
    "    - threshold (float): Threshold in % that is used to group values below it into the \"others\" group\n",
    "\n",
    "    Returns:\n",
    "    int:Returning value\n",
    "\n",
    "    \"\"\"\n",
    "    result_data_frame = data_frame.copy();\n",
    "\n",
    "    percent_column_name = value_column + 'Percent';\n",
    "\n",
    "    # Add column with the name given in \"percent_column_name\" with the percentage of the value column.\n",
    "    result_data_frame[percent_column_name] = result_data_frame[value_column] / result_data_frame[value_column].sum() * 100.0;\n",
    "\n",
    "    # Change the external package name to \"others\" if it is called less than the specified threshold\n",
    "    result_data_frame.loc[result_data_frame[percent_column_name] < threshold, name_column] = 'others';\n",
    "\n",
    "    # Group external package name (foremost the new \"others\" entries) and sum their percentage\n",
    "    result_data_frame = result_data_frame.groupby(name_column)[percent_column_name].sum();\n",
    "\n",
    "    # Sort by values descending\n",
    "    return result_data_frame.sort_values(ascending=False);"
   ]
  },
  {
   "cell_type": "code",
   "execution_count": 10,
   "id": "99ef3fad",
   "metadata": {
    "execution": {
     "iopub.execute_input": "2024-04-24T06:15:53.399359Z",
     "iopub.status.busy": "2024-04-24T06:15:53.399202Z",
     "iopub.status.idle": "2024-04-24T06:15:53.403771Z",
     "shell.execute_reply": "2024-04-24T06:15:53.403279Z"
    }
   },
   "outputs": [],
   "source": [
    "external_package_by_type_usage_significant = group_to_others_below_threshold(\n",
    "    data_frame=external_package_usage,\n",
    "    value_column='numberOfExternalCallerTypes',\n",
    "    name_column='externalPackageName',\n",
    "    threshold= 0.7\n",
    ");"
   ]
  },
  {
   "cell_type": "code",
   "execution_count": 11,
   "id": "688b6d56",
   "metadata": {
    "execution": {
     "iopub.execute_input": "2024-04-24T06:15:53.405683Z",
     "iopub.status.busy": "2024-04-24T06:15:53.405526Z",
     "iopub.status.idle": "2024-04-24T06:15:53.409503Z",
     "shell.execute_reply": "2024-04-24T06:15:53.409014Z"
    }
   },
   "outputs": [
    {
     "name": "stdout",
     "output_type": "stream",
     "text": [
      "No data to plot\n"
     ]
    }
   ],
   "source": [
    "if external_package_by_type_usage_significant.empty:\n",
    "    print(\"No data to plot\")\n",
    "else:\n",
    "    plot.figure();\n",
    "\n",
    "    axis = external_package_by_type_usage_significant.plot(\n",
    "        kind='pie',\n",
    "        title='Top external package usage [%] by type',\n",
    "        legend=True,\n",
    "        labeldistance=None,\n",
    "        autopct='%1.2f%%',\n",
    "        textprops={'fontsize': 5},\n",
    "        pctdistance=1.2,\n",
    "        cmap=main_color_map\n",
    "    )\n",
    "    axis.legend(bbox_to_anchor=(1.05, 1), loc='upper left')\n",
    "    plot.show()"
   ]
  },
  {
   "cell_type": "markdown",
   "id": "84c123dc",
   "metadata": {},
   "source": [
    "#### Table 1 Chart 2 - Most called external packages in % by packages\n",
    "\n",
    "External packages that are used less than 0.7% are grouped into the name \"others\" to get a cleaner chart\n",
    "with the most significant external packages and how ofter they are called in percent."
   ]
  },
  {
   "cell_type": "code",
   "execution_count": 12,
   "id": "c10499a5",
   "metadata": {
    "execution": {
     "iopub.execute_input": "2024-04-24T06:15:53.411920Z",
     "iopub.status.busy": "2024-04-24T06:15:53.411567Z",
     "iopub.status.idle": "2024-04-24T06:15:53.415792Z",
     "shell.execute_reply": "2024-04-24T06:15:53.415354Z"
    }
   },
   "outputs": [],
   "source": [
    "external_package_by_package_usage_significant = group_to_others_below_threshold(\n",
    "    data_frame=external_package_usage,\n",
    "    value_column='numberOfExternalCallerPackages',\n",
    "    name_column='externalPackageName',\n",
    "    threshold= 0.7\n",
    ");"
   ]
  },
  {
   "cell_type": "code",
   "execution_count": 13,
   "id": "c165f403",
   "metadata": {
    "execution": {
     "iopub.execute_input": "2024-04-24T06:15:53.417971Z",
     "iopub.status.busy": "2024-04-24T06:15:53.417626Z",
     "iopub.status.idle": "2024-04-24T06:15:53.421899Z",
     "shell.execute_reply": "2024-04-24T06:15:53.421373Z"
    }
   },
   "outputs": [
    {
     "name": "stdout",
     "output_type": "stream",
     "text": [
      "No data to plot\n"
     ]
    }
   ],
   "source": [
    "if external_package_by_package_usage_significant.empty:\n",
    "    print(\"No data to plot\")\n",
    "else:\n",
    "    plot.figure();\n",
    "\n",
    "    axis = external_package_by_package_usage_significant.plot(\n",
    "        kind='pie',\n",
    "        title='Top external package usage [%] by package',\n",
    "        legend=True,\n",
    "        labeldistance=None,\n",
    "        autopct='%1.2f%%',\n",
    "        textprops={'fontsize': 5},\n",
    "        pctdistance=1.2,\n",
    "        cmap=main_color_map\n",
    "    )\n",
    "    axis.legend(bbox_to_anchor=(1.05, 1), loc='upper left')\n",
    "    plot.show()"
   ]
  },
  {
   "cell_type": "markdown",
   "id": "cb92e603",
   "metadata": {},
   "source": [
    "### Table 2 - Top 20 most used external packages grouped by their first 2 layers\n",
    "\n",
    "This table shows external packages grouped by their first 2 layers that are used by the most different internal types overall including external annotations. For example, \"javax.xml.stream\" and \"javax.xml.parsers\" are grouped together to \"javax.xml\".\n",
    "\n",
    "Additionally, it shows which types of the external packages are actually used.\n",
    "\n",
    "Only the top 20 entries are shown. The whole table can be found in the following CSV report:\n",
    "`External_second_level_package_usage_overall`\n",
    "\n",
    "**Columns:**\n",
    "- *externalSecondLevelPackageName* identifies the first 2 levels of the external package as described above\n",
    "- *numberOfExternalCallerPackages* refers to the distinct packages that make use of the external package\n",
    "- *numberOfExternalCallerTypes* refers to the distinct types that make use of the external package\n",
    "- *numberOfExternalTypeCalls* includes every dependency to the types in the external package\n",
    "- *numberOfExternalTypeCallsWeighted* includes every invocation or reference (sum of weights) to the types in the external package\n",
    "- *allPackages* contains the total count of all analyzed packages in general\n",
    "- *allTypes* contains the total count of all analyzed types in general\n",
    "- *externalTypeNames* contains a list of actually utilized types of the external package"
   ]
  },
  {
   "cell_type": "code",
   "execution_count": 14,
   "id": "4dc5e771",
   "metadata": {
    "execution": {
     "iopub.execute_input": "2024-04-24T06:15:53.424045Z",
     "iopub.status.busy": "2024-04-24T06:15:53.423713Z",
     "iopub.status.idle": "2024-04-24T06:15:53.449770Z",
     "shell.execute_reply": "2024-04-24T06:15:53.449228Z"
    }
   },
   "outputs": [
    {
     "data": {
      "text/html": [
       "<div>\n",
       "<style scoped>\n",
       "    .dataframe tbody tr th:only-of-type {\n",
       "        vertical-align: middle;\n",
       "    }\n",
       "\n",
       "    .dataframe tbody tr th {\n",
       "        vertical-align: top;\n",
       "    }\n",
       "\n",
       "    .dataframe thead th {\n",
       "        text-align: right;\n",
       "    }\n",
       "</style>\n",
       "<table border=\"1\" class=\"dataframe\">\n",
       "  <thead>\n",
       "    <tr style=\"text-align: right;\">\n",
       "      <th></th>\n",
       "      <th>externalSecondLevelPackageName</th>\n",
       "      <th>numberOfExternalCallerPackages</th>\n",
       "      <th>numberOfExternalCallerTypes</th>\n",
       "      <th>numberOfExternalTypeCalls</th>\n",
       "      <th>numberOfExternalTypeCallsWeighted</th>\n",
       "      <th>allPackages</th>\n",
       "      <th>allTypes</th>\n",
       "      <th>tenExternalTypeNames</th>\n",
       "    </tr>\n",
       "  </thead>\n",
       "  <tbody>\n",
       "  </tbody>\n",
       "</table>\n",
       "</div>"
      ],
      "text/plain": [
       "Empty DataFrame\n",
       "Columns: [externalSecondLevelPackageName, numberOfExternalCallerPackages, numberOfExternalCallerTypes, numberOfExternalTypeCalls, numberOfExternalTypeCallsWeighted, allPackages, allTypes, tenExternalTypeNames]\n",
       "Index: []"
      ]
     },
     "execution_count": 14,
     "metadata": {},
     "output_type": "execute_result"
    }
   ],
   "source": [
    "external_grouped_package_usage=query_cypher_to_data_frame(\"../cypher/External_Dependencies/External_second_level_package_usage_overall.cypher\")\n",
    "external_grouped_package_usage.head(20)"
   ]
  },
  {
   "cell_type": "markdown",
   "id": "279932a6",
   "metadata": {},
   "source": [
    "#### Table 2 Chart 1 - Most called second level external packages in % by type\n",
    "\n",
    "External package groups that are used less than 0.7% are grouped into the name \"others\" to get a cleaner chart\n",
    "with the most significant external packages and how ofter they are called in percent."
   ]
  },
  {
   "cell_type": "code",
   "execution_count": 15,
   "id": "3d36043f",
   "metadata": {
    "execution": {
     "iopub.execute_input": "2024-04-24T06:15:53.452011Z",
     "iopub.status.busy": "2024-04-24T06:15:53.451847Z",
     "iopub.status.idle": "2024-04-24T06:15:53.457851Z",
     "shell.execute_reply": "2024-04-24T06:15:53.457252Z"
    }
   },
   "outputs": [
    {
     "name": "stdout",
     "output_type": "stream",
     "text": [
      "No data to plot\n"
     ]
    }
   ],
   "source": [
    "external_grouped_package_by_type_usage_significant = group_to_others_below_threshold(\n",
    "    data_frame=external_grouped_package_usage,\n",
    "    value_column='numberOfExternalCallerTypes',\n",
    "    name_column='externalSecondLevelPackageName',\n",
    "    threshold= 0.7\n",
    ");\n",
    "\n",
    "if external_grouped_package_by_type_usage_significant.empty:\n",
    "    print(\"No data to plot\")\n",
    "else:\n",
    "    plot.figure();\n",
    "\n",
    "    axis = external_grouped_package_by_type_usage_significant.plot(\n",
    "        kind='pie',\n",
    "        title='Top external package (grouped by first 2 layers) usage [%] by type',\n",
    "        legend=True,\n",
    "        labeldistance=None,\n",
    "        autopct='%1.2f%%',\n",
    "        textprops={'fontsize': 5},\n",
    "        pctdistance=1.2,\n",
    "        cmap=main_color_map\n",
    "    )\n",
    "    axis.legend(bbox_to_anchor=(1.05, 1), loc='upper left')\n",
    "    plot.show()"
   ]
  },
  {
   "cell_type": "markdown",
   "id": "43c3e1a3",
   "metadata": {},
   "source": [
    "#### Table 2 Chart 2 - Most called second level external packages in % by package\n",
    "\n",
    "External package groups that are used less than 0.7% are grouped into the name \"others\" to get a cleaner chart\n",
    "with the most significant external packages and how ofter they are called in percent."
   ]
  },
  {
   "cell_type": "code",
   "execution_count": 16,
   "id": "7f05314f",
   "metadata": {
    "execution": {
     "iopub.execute_input": "2024-04-24T06:15:53.460104Z",
     "iopub.status.busy": "2024-04-24T06:15:53.459737Z",
     "iopub.status.idle": "2024-04-24T06:15:53.466409Z",
     "shell.execute_reply": "2024-04-24T06:15:53.465911Z"
    }
   },
   "outputs": [
    {
     "name": "stdout",
     "output_type": "stream",
     "text": [
      "No data to plot\n"
     ]
    }
   ],
   "source": [
    "external_grouped_package_by_package_usage_significant = group_to_others_below_threshold(\n",
    "    data_frame=external_grouped_package_usage,\n",
    "    value_column='numberOfExternalCallerPackages',\n",
    "    name_column='externalSecondLevelPackageName',\n",
    "    threshold= 0.7\n",
    ");\n",
    "\n",
    "if external_grouped_package_by_package_usage_significant.empty:\n",
    "    print(\"No data to plot\")\n",
    "else:\n",
    "    plot.figure();\n",
    "    axis = external_grouped_package_by_package_usage_significant.plot(\n",
    "        kind='pie',\n",
    "        title='Top external package (grouped by first 2 layers) usage [%] by package',\n",
    "        legend=True,\n",
    "        labeldistance=None,\n",
    "        autopct='%1.2f%%',\n",
    "        textprops={'fontsize': 5},\n",
    "        pctdistance=1.2,\n",
    "        cmap=main_color_map\n",
    "    )\n",
    "    axis.legend(bbox_to_anchor=(1.05, 1), loc='upper left')\n",
    "    plot.show()"
   ]
  },
  {
   "cell_type": "markdown",
   "id": "2fb30664",
   "metadata": {},
   "source": [
    "### Table 3 - Top 20 most widely spread external packages\n",
    "\n",
    "The following tables shows external packages that are used by many different artifacts with the highest number of artifacts first. External annotations are filtered out to only get those external packages that significantly add to coupling.\n",
    "\n",
    "Statistics like minimum, maximum, average, median and standard deviation are provided for the number of packages and number of types in every artifact that uses the listed external package. \n",
    "\n",
    "The intuition behind that is to find external package dependencies that are used in a widely spread manner. This should uncover libraries and frameworks and make it easier to distinguish them from external dependencies that are used for specific tasks. It can also be used to find external dependencies that are used sparsely regarding artifacts but are used in many different packages there. This could then be improved by applying a [Hexagonal architecture](https://alistair.cockburn.us/hexagonal-architecture).\n",
    "\n",
    "Only the top 20 entries are shown. The whole table can be found in the following CSV report:\n",
    "`External_package_usage_spread`\n",
    "\n",
    "**Columns:**\n",
    "- *externalPackageName* identifies the external package as defined above. All other columns contain aggregated data for this external package.\n",
    "- *numberOfArtifacts* contains the number of artifacts that use the external package\n",
    "- *sumNumberOfPackages* contains the sum of all packages that use the external package\n",
    "- *min/max/med/avg/stdNumberOfPackages* provide statistics based on the number of packages of each artifact that uses the external package\n",
    "- *min/max/med/avg/stdNumberOfPackagesPercentage* provide statistics in percent (%) based on the number of packages of each artifact that uses the external package\n",
    "- *min/max/med/avg/stdNumberOfTypes* provide statistics based on the number of types of each artifact that uses the external package\n",
    "- *min/max/med/avg/stdNumberOfPackagesPercentage* provide statistics in percent (%) based on the number of types of each artifact that uses the external package\n",
    "- *someArtifactNames* contain some of the artifacts that contain the external package for reference"
   ]
  },
  {
   "cell_type": "code",
   "execution_count": 17,
   "id": "ad1a04c4",
   "metadata": {
    "execution": {
     "iopub.execute_input": "2024-04-24T06:15:53.468679Z",
     "iopub.status.busy": "2024-04-24T06:15:53.468332Z",
     "iopub.status.idle": "2024-04-24T06:15:53.506736Z",
     "shell.execute_reply": "2024-04-24T06:15:53.506216Z"
    }
   },
   "outputs": [
    {
     "data": {
      "text/html": [
       "<div>\n",
       "<style scoped>\n",
       "    .dataframe tbody tr th:only-of-type {\n",
       "        vertical-align: middle;\n",
       "    }\n",
       "\n",
       "    .dataframe tbody tr th {\n",
       "        vertical-align: top;\n",
       "    }\n",
       "\n",
       "    .dataframe thead th {\n",
       "        text-align: right;\n",
       "    }\n",
       "</style>\n",
       "<table border=\"1\" class=\"dataframe\">\n",
       "  <thead>\n",
       "    <tr style=\"text-align: right;\">\n",
       "      <th></th>\n",
       "      <th>externalPackageName</th>\n",
       "      <th>numberOfArtifacts</th>\n",
       "      <th>sumNumberOfPackages</th>\n",
       "      <th>minNumberOfPackages</th>\n",
       "      <th>maxNumberOfPackages</th>\n",
       "      <th>medNumberOfPackages</th>\n",
       "      <th>avgNumberOfPackages</th>\n",
       "      <th>stdNumberOfPackages</th>\n",
       "      <th>minNumberOfPackagesPercentage</th>\n",
       "      <th>maxNumberOfPackagesPercentage</th>\n",
       "      <th>...</th>\n",
       "      <th>maxNumberOfTypes</th>\n",
       "      <th>medNumberOfTypes</th>\n",
       "      <th>avgNumberOfTypes</th>\n",
       "      <th>stdNumberOfTypes</th>\n",
       "      <th>minNumberOfTypesPercentage</th>\n",
       "      <th>maxNumberOfTypesPercentage</th>\n",
       "      <th>medNumberOfTypesPercentage</th>\n",
       "      <th>avgNumberOfTypesPercentage</th>\n",
       "      <th>stdNumberOfTypesPercentage</th>\n",
       "      <th>someArtifactNames</th>\n",
       "    </tr>\n",
       "  </thead>\n",
       "  <tbody>\n",
       "  </tbody>\n",
       "</table>\n",
       "<p>0 rows × 25 columns</p>\n",
       "</div>"
      ],
      "text/plain": [
       "Empty DataFrame\n",
       "Columns: [externalPackageName, numberOfArtifacts, sumNumberOfPackages, minNumberOfPackages, maxNumberOfPackages, medNumberOfPackages, avgNumberOfPackages, stdNumberOfPackages, minNumberOfPackagesPercentage, maxNumberOfPackagesPercentage, medNumberOfPackagesPercentage, avgNumberOfPackagesPercentage, stdNumberOfPackagesPercentage, sumNumberOfTypes, minNumberOfTypes, maxNumberOfTypes, medNumberOfTypes, avgNumberOfTypes, stdNumberOfTypes, minNumberOfTypesPercentage, maxNumberOfTypesPercentage, medNumberOfTypesPercentage, avgNumberOfTypesPercentage, stdNumberOfTypesPercentage, someArtifactNames]\n",
       "Index: []\n",
       "\n",
       "[0 rows x 25 columns]"
      ]
     },
     "execution_count": 17,
     "metadata": {},
     "output_type": "execute_result"
    }
   ],
   "source": [
    "# Query the graph database to provide the \n",
    "# most widely spread external dependencies for the tables/charts below.\n",
    "external_package_usage_spread=query_cypher_to_data_frame(\"../cypher/External_Dependencies/External_package_usage_spread.cypher\")\n",
    "external_package_usage_spread.head(10)"
   ]
  },
  {
   "cell_type": "markdown",
   "id": "6ed201cc",
   "metadata": {},
   "source": [
    "### Table 3a - Top 20 most widely spread external packages - number of internal packages\n",
    "\n",
    "This table shows the top 20 most widely spread external packages focussing on the spread across the number of internal packages."
   ]
  },
  {
   "cell_type": "code",
   "execution_count": 18,
   "id": "c5fa9f9e",
   "metadata": {
    "execution": {
     "iopub.execute_input": "2024-04-24T06:15:53.508981Z",
     "iopub.status.busy": "2024-04-24T06:15:53.508820Z",
     "iopub.status.idle": "2024-04-24T06:15:53.514813Z",
     "shell.execute_reply": "2024-04-24T06:15:53.514344Z"
    }
   },
   "outputs": [
    {
     "data": {
      "text/html": [
       "<div>\n",
       "<style scoped>\n",
       "    .dataframe tbody tr th:only-of-type {\n",
       "        vertical-align: middle;\n",
       "    }\n",
       "\n",
       "    .dataframe tbody tr th {\n",
       "        vertical-align: top;\n",
       "    }\n",
       "\n",
       "    .dataframe thead th {\n",
       "        text-align: right;\n",
       "    }\n",
       "</style>\n",
       "<table border=\"1\" class=\"dataframe\">\n",
       "  <thead>\n",
       "    <tr style=\"text-align: right;\">\n",
       "      <th></th>\n",
       "      <th>externalPackageName</th>\n",
       "      <th>numberOfArtifacts</th>\n",
       "      <th>minNumberOfPackages</th>\n",
       "      <th>maxNumberOfPackages</th>\n",
       "      <th>medNumberOfPackages</th>\n",
       "      <th>avgNumberOfPackages</th>\n",
       "      <th>stdNumberOfPackages</th>\n",
       "    </tr>\n",
       "  </thead>\n",
       "  <tbody>\n",
       "  </tbody>\n",
       "</table>\n",
       "</div>"
      ],
      "text/plain": [
       "Empty DataFrame\n",
       "Columns: [externalPackageName, numberOfArtifacts, minNumberOfPackages, maxNumberOfPackages, medNumberOfPackages, avgNumberOfPackages, stdNumberOfPackages]\n",
       "Index: []"
      ]
     },
     "execution_count": 18,
     "metadata": {},
     "output_type": "execute_result"
    }
   ],
   "source": [
    "external_package_usage_spread_packages=external_package_usage_spread[['externalPackageName', 'numberOfArtifacts', 'minNumberOfPackages', 'maxNumberOfPackages', 'medNumberOfPackages', 'avgNumberOfPackages', 'stdNumberOfPackages']]\n",
    "external_package_usage_spread_packages.head(20)"
   ]
  },
  {
   "cell_type": "markdown",
   "id": "27c5b75f",
   "metadata": {},
   "source": [
    "### Table 3b - Top 20 most widely spread external packages - percentage of internal packages\n",
    "\n",
    "This table shows the top 20 most widely spread external packages focussing on the spread across the percentage of internal packages."
   ]
  },
  {
   "cell_type": "code",
   "execution_count": 19,
   "id": "c4d4273e",
   "metadata": {
    "execution": {
     "iopub.execute_input": "2024-04-24T06:15:53.517228Z",
     "iopub.status.busy": "2024-04-24T06:15:53.516760Z",
     "iopub.status.idle": "2024-04-24T06:15:53.523625Z",
     "shell.execute_reply": "2024-04-24T06:15:53.523170Z"
    }
   },
   "outputs": [
    {
     "data": {
      "text/html": [
       "<div>\n",
       "<style scoped>\n",
       "    .dataframe tbody tr th:only-of-type {\n",
       "        vertical-align: middle;\n",
       "    }\n",
       "\n",
       "    .dataframe tbody tr th {\n",
       "        vertical-align: top;\n",
       "    }\n",
       "\n",
       "    .dataframe thead th {\n",
       "        text-align: right;\n",
       "    }\n",
       "</style>\n",
       "<table border=\"1\" class=\"dataframe\">\n",
       "  <thead>\n",
       "    <tr style=\"text-align: right;\">\n",
       "      <th></th>\n",
       "      <th>externalPackageName</th>\n",
       "      <th>numberOfArtifacts</th>\n",
       "      <th>minNumberOfPackagesPercentage</th>\n",
       "      <th>maxNumberOfPackagesPercentage</th>\n",
       "      <th>medNumberOfPackagesPercentage</th>\n",
       "      <th>avgNumberOfPackagesPercentage</th>\n",
       "      <th>stdNumberOfPackagesPercentage</th>\n",
       "    </tr>\n",
       "  </thead>\n",
       "  <tbody>\n",
       "  </tbody>\n",
       "</table>\n",
       "</div>"
      ],
      "text/plain": [
       "Empty DataFrame\n",
       "Columns: [externalPackageName, numberOfArtifacts, minNumberOfPackagesPercentage, maxNumberOfPackagesPercentage, medNumberOfPackagesPercentage, avgNumberOfPackagesPercentage, stdNumberOfPackagesPercentage]\n",
       "Index: []"
      ]
     },
     "execution_count": 19,
     "metadata": {},
     "output_type": "execute_result"
    }
   ],
   "source": [
    "external_package_usage_spread_packages_percentage=external_package_usage_spread[['externalPackageName', 'numberOfArtifacts', 'minNumberOfPackagesPercentage', 'maxNumberOfPackagesPercentage', 'medNumberOfPackagesPercentage', 'avgNumberOfPackagesPercentage', 'stdNumberOfPackagesPercentage']]\n",
    "external_package_usage_spread_packages_percentage.head(20)"
   ]
  },
  {
   "cell_type": "markdown",
   "id": "d7638e05",
   "metadata": {},
   "source": [
    "### Table 3c - Top 20 most widely spread external packages - number of internal types\n",
    "\n",
    "This table shows the top 20 most widely spread external packages focussing on the spread across the number of internal types."
   ]
  },
  {
   "cell_type": "code",
   "execution_count": 20,
   "id": "1f5af910",
   "metadata": {
    "execution": {
     "iopub.execute_input": "2024-04-24T06:15:53.525640Z",
     "iopub.status.busy": "2024-04-24T06:15:53.525482Z",
     "iopub.status.idle": "2024-04-24T06:15:53.531194Z",
     "shell.execute_reply": "2024-04-24T06:15:53.530723Z"
    }
   },
   "outputs": [
    {
     "data": {
      "text/html": [
       "<div>\n",
       "<style scoped>\n",
       "    .dataframe tbody tr th:only-of-type {\n",
       "        vertical-align: middle;\n",
       "    }\n",
       "\n",
       "    .dataframe tbody tr th {\n",
       "        vertical-align: top;\n",
       "    }\n",
       "\n",
       "    .dataframe thead th {\n",
       "        text-align: right;\n",
       "    }\n",
       "</style>\n",
       "<table border=\"1\" class=\"dataframe\">\n",
       "  <thead>\n",
       "    <tr style=\"text-align: right;\">\n",
       "      <th></th>\n",
       "      <th>externalPackageName</th>\n",
       "      <th>numberOfArtifacts</th>\n",
       "      <th>minNumberOfTypes</th>\n",
       "      <th>maxNumberOfTypes</th>\n",
       "      <th>medNumberOfTypes</th>\n",
       "      <th>avgNumberOfTypes</th>\n",
       "      <th>stdNumberOfTypes</th>\n",
       "    </tr>\n",
       "  </thead>\n",
       "  <tbody>\n",
       "  </tbody>\n",
       "</table>\n",
       "</div>"
      ],
      "text/plain": [
       "Empty DataFrame\n",
       "Columns: [externalPackageName, numberOfArtifacts, minNumberOfTypes, maxNumberOfTypes, medNumberOfTypes, avgNumberOfTypes, stdNumberOfTypes]\n",
       "Index: []"
      ]
     },
     "execution_count": 20,
     "metadata": {},
     "output_type": "execute_result"
    }
   ],
   "source": [
    "external_package_usage_spread_types=external_package_usage_spread[['externalPackageName', 'numberOfArtifacts', 'minNumberOfTypes', 'maxNumberOfTypes', 'medNumberOfTypes', 'avgNumberOfTypes', 'stdNumberOfTypes']]\n",
    "external_package_usage_spread_types.head(20)"
   ]
  },
  {
   "cell_type": "markdown",
   "id": "07427cd5",
   "metadata": {},
   "source": [
    "### Table 3d - Top 20 most widely spread external packages - percentage of internal types\n",
    "\n",
    "This table shows the top 20 most widely spread external packages focussing on the spread across the percentage of internal types."
   ]
  },
  {
   "cell_type": "code",
   "execution_count": 21,
   "id": "50712f90",
   "metadata": {
    "execution": {
     "iopub.execute_input": "2024-04-24T06:15:53.533504Z",
     "iopub.status.busy": "2024-04-24T06:15:53.533346Z",
     "iopub.status.idle": "2024-04-24T06:15:53.538995Z",
     "shell.execute_reply": "2024-04-24T06:15:53.538553Z"
    }
   },
   "outputs": [
    {
     "data": {
      "text/html": [
       "<div>\n",
       "<style scoped>\n",
       "    .dataframe tbody tr th:only-of-type {\n",
       "        vertical-align: middle;\n",
       "    }\n",
       "\n",
       "    .dataframe tbody tr th {\n",
       "        vertical-align: top;\n",
       "    }\n",
       "\n",
       "    .dataframe thead th {\n",
       "        text-align: right;\n",
       "    }\n",
       "</style>\n",
       "<table border=\"1\" class=\"dataframe\">\n",
       "  <thead>\n",
       "    <tr style=\"text-align: right;\">\n",
       "      <th></th>\n",
       "      <th>externalPackageName</th>\n",
       "      <th>numberOfArtifacts</th>\n",
       "      <th>minNumberOfTypesPercentage</th>\n",
       "      <th>maxNumberOfTypesPercentage</th>\n",
       "      <th>medNumberOfTypesPercentage</th>\n",
       "      <th>avgNumberOfTypesPercentage</th>\n",
       "      <th>stdNumberOfTypesPercentage</th>\n",
       "    </tr>\n",
       "  </thead>\n",
       "  <tbody>\n",
       "  </tbody>\n",
       "</table>\n",
       "</div>"
      ],
      "text/plain": [
       "Empty DataFrame\n",
       "Columns: [externalPackageName, numberOfArtifacts, minNumberOfTypesPercentage, maxNumberOfTypesPercentage, medNumberOfTypesPercentage, avgNumberOfTypesPercentage, stdNumberOfTypesPercentage]\n",
       "Index: []"
      ]
     },
     "execution_count": 21,
     "metadata": {},
     "output_type": "execute_result"
    }
   ],
   "source": [
    "external_package_usage_spread_types_percentage=external_package_usage_spread[['externalPackageName', 'numberOfArtifacts', 'minNumberOfTypesPercentage', 'maxNumberOfTypesPercentage', 'medNumberOfTypesPercentage', 'avgNumberOfTypesPercentage', 'stdNumberOfTypesPercentage']]\n",
    "external_package_usage_spread_types_percentage.head(20)"
   ]
  },
  {
   "cell_type": "markdown",
   "id": "b210eea0",
   "metadata": {},
   "source": [
    "#### Table 3 Chart 1 - Most widely spread external packages in % by types\n",
    "\n",
    "External packages that are used less than 0.5% are grouped into the name \"others\" to get a cleaner chart with the most significant external packages."
   ]
  },
  {
   "cell_type": "code",
   "execution_count": 22,
   "id": "f41d04c9",
   "metadata": {
    "execution": {
     "iopub.execute_input": "2024-04-24T06:15:53.541301Z",
     "iopub.status.busy": "2024-04-24T06:15:53.541010Z",
     "iopub.status.idle": "2024-04-24T06:15:53.547343Z",
     "shell.execute_reply": "2024-04-24T06:15:53.546871Z"
    }
   },
   "outputs": [
    {
     "name": "stdout",
     "output_type": "stream",
     "text": [
      "No data to plot\n"
     ]
    }
   ],
   "source": [
    "external_package_type_usage_spread_significant = group_to_others_below_threshold(\n",
    "    data_frame=external_package_usage_spread,\n",
    "    value_column='sumNumberOfTypes',\n",
    "    name_column='externalPackageName',\n",
    "    threshold= 0.5\n",
    ");\n",
    "\n",
    "if external_package_type_usage_spread_significant.empty:\n",
    "    print(\"No data to plot\")\n",
    "else:\n",
    "    plot.figure();\n",
    "    axis = external_package_type_usage_spread_significant.plot(\n",
    "        kind='pie',\n",
    "        title='Top external package usage spread [%] by type',\n",
    "        legend=True,\n",
    "        labeldistance=None,\n",
    "        autopct='%1.2f%%',\n",
    "        textprops={'fontsize': 5},\n",
    "        pctdistance=1.2,\n",
    "        cmap=main_color_map\n",
    "    )\n",
    "    axis.legend(bbox_to_anchor=(1.05, 1), loc='upper left')\n",
    "    plot.show()"
   ]
  },
  {
   "cell_type": "markdown",
   "id": "c48740e3",
   "metadata": {},
   "source": [
    "#### Table 3 Chart 2 - Most widely spread external packages in % by packages\n",
    "\n",
    "External packages that are used less than 0.5% are grouped into the name \"others\" to get a cleaner chart with the most significant external packages."
   ]
  },
  {
   "cell_type": "code",
   "execution_count": 23,
   "id": "8bb7b0d9",
   "metadata": {
    "execution": {
     "iopub.execute_input": "2024-04-24T06:15:53.549711Z",
     "iopub.status.busy": "2024-04-24T06:15:53.549304Z",
     "iopub.status.idle": "2024-04-24T06:15:53.555507Z",
     "shell.execute_reply": "2024-04-24T06:15:53.555056Z"
    }
   },
   "outputs": [
    {
     "name": "stdout",
     "output_type": "stream",
     "text": [
      "No data to plot\n"
     ]
    }
   ],
   "source": [
    "external_package_usage_package_spread_significant = group_to_others_below_threshold(\n",
    "    data_frame=external_package_usage_spread,\n",
    "    value_column='sumNumberOfPackages',\n",
    "    name_column='externalPackageName',\n",
    "    threshold= 0.5\n",
    ");\n",
    "\n",
    "if external_package_usage_package_spread_significant.empty:\n",
    "    print(\"No data to plot\")\n",
    "else:\n",
    "    plot.figure();\n",
    "    axis = external_package_usage_package_spread_significant.plot(\n",
    "        kind='pie',\n",
    "        title='Top external package usage spread [%] by package',\n",
    "        legend=True,\n",
    "        labeldistance=None,\n",
    "        autopct='%1.2f%%',\n",
    "        textprops={'fontsize': 5},\n",
    "        pctdistance=1.2,\n",
    "        cmap=main_color_map\n",
    "    )\n",
    "    axis.legend(bbox_to_anchor=(1.05, 1), loc='upper left')\n",
    "    plot.show()"
   ]
  },
  {
   "cell_type": "markdown",
   "id": "2d6762ea",
   "metadata": {},
   "source": [
    "### Table 4 - Top 20 most widely spread external packages grouped by their first 2 layers\n",
    "\n",
    "This table shows external packages grouped by their first 2 layers that are used by many different artifacts with the highest number of artifacts first. External annotations are filtered out to only get those external packages that significantly add to coupling.\n",
    "\n",
    "Statistics like minimum, maximum, average, median and standard deviation are provided for the number of packages and number of types in every artifact that uses the listed external package. \n",
    "\n",
    "The intuition behind that is to find external package dependencies that are used in a widely spread manner. This should uncover libraries and frameworks and make it easier to distinguish them from external dependencies that are used for specific tasks. It can also be used to find external dependencies that are used sparsely regarding artifacts but are used in many different packages there. This could then be improved by applying a [Hexagonal architecture](https://alistair.cockburn.us/hexagonal-architecture).\n",
    "\n",
    "Only the top 20 entries are shown. The whole table can be found in the following CSV report:\n",
    "`External_package_usage_spread`\n",
    "\n",
    "**Columns:**\n",
    "- *externalPackageName* identifies the external package as defined above. All other columns contain aggregated data for this external package.\n",
    "- *numberOfArtifacts* contains the number of artifacts that use the external package\n",
    "- *sumNumberOfPackages* contains the sum of all packages that use the external package\n",
    "- *min/max/med/avg/stdNumberOfPackages* provide statistics based on the number of packages of each artifact that uses the external package\n",
    "- *min/max/med/avg/stdNumberOfPackagesPercentage* provide statistics in percent (%) based on the number of packages of each artifact that uses the external package\n",
    "- *min/max/med/avg/stdNumberOfTypes* provide statistics based on the number of types of each artifact that uses the external package\n",
    "- *min/max/med/avg/stdNumberOfPackagesPercentage* provide statistics in percent (%) based on the number of types of each artifact that uses the external package\n",
    "- *someArtifactNames* contain some of the artifacts that contain the external package for reference"
   ]
  },
  {
   "cell_type": "code",
   "execution_count": 24,
   "id": "f1f2624e",
   "metadata": {
    "execution": {
     "iopub.execute_input": "2024-04-24T06:15:53.557824Z",
     "iopub.status.busy": "2024-04-24T06:15:53.557381Z",
     "iopub.status.idle": "2024-04-24T06:15:53.599065Z",
     "shell.execute_reply": "2024-04-24T06:15:53.598536Z"
    }
   },
   "outputs": [
    {
     "data": {
      "text/html": [
       "<div>\n",
       "<style scoped>\n",
       "    .dataframe tbody tr th:only-of-type {\n",
       "        vertical-align: middle;\n",
       "    }\n",
       "\n",
       "    .dataframe tbody tr th {\n",
       "        vertical-align: top;\n",
       "    }\n",
       "\n",
       "    .dataframe thead th {\n",
       "        text-align: right;\n",
       "    }\n",
       "</style>\n",
       "<table border=\"1\" class=\"dataframe\">\n",
       "  <thead>\n",
       "    <tr style=\"text-align: right;\">\n",
       "      <th></th>\n",
       "      <th>externalSecondLevelPackageName</th>\n",
       "      <th>numberOfArtifacts</th>\n",
       "      <th>sumNumberOfPackages</th>\n",
       "      <th>minNumberOfPackages</th>\n",
       "      <th>maxNumberOfPackages</th>\n",
       "      <th>medNumberOfPackages</th>\n",
       "      <th>avgNumberOfPackages</th>\n",
       "      <th>stdNumberOfPackages</th>\n",
       "      <th>minNumberOfPackagesPercentage</th>\n",
       "      <th>maxNumberOfPackagesPercentage</th>\n",
       "      <th>...</th>\n",
       "      <th>maxNumberOfTypes</th>\n",
       "      <th>medNumberOfTypes</th>\n",
       "      <th>avgNumberOfTypes</th>\n",
       "      <th>stdNumberOfTypes</th>\n",
       "      <th>minNumberOfTypesPercentage</th>\n",
       "      <th>maxNumberOfTypesPercentage</th>\n",
       "      <th>medNumberOfTypesPercentage</th>\n",
       "      <th>avgNumberOfTypesPercentage</th>\n",
       "      <th>stdNumberOfTypesPercentage</th>\n",
       "      <th>someArtifactNames</th>\n",
       "    </tr>\n",
       "  </thead>\n",
       "  <tbody>\n",
       "  </tbody>\n",
       "</table>\n",
       "<p>0 rows × 25 columns</p>\n",
       "</div>"
      ],
      "text/plain": [
       "Empty DataFrame\n",
       "Columns: [externalSecondLevelPackageName, numberOfArtifacts, sumNumberOfPackages, minNumberOfPackages, maxNumberOfPackages, medNumberOfPackages, avgNumberOfPackages, stdNumberOfPackages, minNumberOfPackagesPercentage, maxNumberOfPackagesPercentage, medNumberOfPackagesPercentage, avgNumberOfPackagesPercentage, stdNumberOfPackagesPercentage, sumNumberOfTypes, minNumberOfTypes, maxNumberOfTypes, medNumberOfTypes, avgNumberOfTypes, stdNumberOfTypes, minNumberOfTypesPercentage, maxNumberOfTypesPercentage, medNumberOfTypesPercentage, avgNumberOfTypesPercentage, stdNumberOfTypesPercentage, someArtifactNames]\n",
       "Index: []\n",
       "\n",
       "[0 rows x 25 columns]"
      ]
     },
     "execution_count": 24,
     "metadata": {},
     "output_type": "execute_result"
    }
   ],
   "source": [
    "external_grouped_package_usage_spread=query_cypher_to_data_frame(\"../cypher/External_Dependencies/External_second_level_package_usage_spread.cypher\")\n",
    "external_grouped_package_usage_spread.head(20)"
   ]
  },
  {
   "cell_type": "markdown",
   "id": "e6f098e6",
   "metadata": {},
   "source": [
    "#### Table 4 Chart 1 - Most widely spread second level external packages in % by type\n",
    "\n",
    "External package groups that are used less than 0.5% are grouped into the name \"others\" to get a cleaner chart\n",
    "with the most significant external packages and how ofter they are called in percent."
   ]
  },
  {
   "cell_type": "code",
   "execution_count": 25,
   "id": "9a95e7be",
   "metadata": {
    "execution": {
     "iopub.execute_input": "2024-04-24T06:15:53.601639Z",
     "iopub.status.busy": "2024-04-24T06:15:53.601209Z",
     "iopub.status.idle": "2024-04-24T06:15:53.608262Z",
     "shell.execute_reply": "2024-04-24T06:15:53.607722Z"
    }
   },
   "outputs": [
    {
     "name": "stdout",
     "output_type": "stream",
     "text": [
      "No data to plot\n"
     ]
    }
   ],
   "source": [
    "external_grouped_package_type_usage_spread_significant = group_to_others_below_threshold(\n",
    "    data_frame=external_grouped_package_usage_spread,\n",
    "    value_column='sumNumberOfTypes',\n",
    "    name_column='externalSecondLevelPackageName',\n",
    "    threshold= 0.5\n",
    ");\n",
    "\n",
    "if external_grouped_package_type_usage_spread_significant.empty:\n",
    "    print(\"No data to plot\")\n",
    "else:\n",
    "    plot.figure();\n",
    "\n",
    "    axis = external_grouped_package_type_usage_spread_significant.plot(\n",
    "        kind='pie',\n",
    "        title='Top external package (grouped by first 2 layers) usage spread [%] by type',\n",
    "        legend=True,\n",
    "        labeldistance=None,\n",
    "        autopct='%1.2f%%',\n",
    "        textprops={'fontsize': 5},\n",
    "        pctdistance=1.2,\n",
    "        cmap=main_color_map\n",
    "    )\n",
    "    axis.legend(bbox_to_anchor=(1.05, 1), loc='upper left')\n",
    "    plot.show()"
   ]
  },
  {
   "cell_type": "markdown",
   "id": "0b91082e",
   "metadata": {},
   "source": [
    "#### Table 4 Chart 2 - Most widely spread second level external packages in % by package\n",
    "\n",
    "External package groups that are used less than 0.5% are grouped into the name \"others\" to get a cleaner chart\n",
    "with the most significant external packages and how ofter they are called in percent."
   ]
  },
  {
   "cell_type": "code",
   "execution_count": 26,
   "id": "d74f8422",
   "metadata": {
    "execution": {
     "iopub.execute_input": "2024-04-24T06:15:53.610868Z",
     "iopub.status.busy": "2024-04-24T06:15:53.610477Z",
     "iopub.status.idle": "2024-04-24T06:15:53.617232Z",
     "shell.execute_reply": "2024-04-24T06:15:53.616719Z"
    }
   },
   "outputs": [
    {
     "name": "stdout",
     "output_type": "stream",
     "text": [
      "No data to plot\n"
     ]
    }
   ],
   "source": [
    "external_grouped_package_package_usage_spread_significant = group_to_others_below_threshold(\n",
    "    data_frame=external_grouped_package_usage_spread,\n",
    "    value_column='sumNumberOfPackages',\n",
    "    name_column='externalSecondLevelPackageName',\n",
    "    threshold= 0.5\n",
    ");\n",
    "\n",
    "if external_grouped_package_package_usage_spread_significant.empty:\n",
    "    print(\"No data to plot\")\n",
    "else:\n",
    "    plot.figure();\n",
    "\n",
    "    axis = external_grouped_package_package_usage_spread_significant.plot(\n",
    "        kind='pie',\n",
    "        title='Top external package (grouped by first 2 layers) usage spread [%] by package',\n",
    "        legend=True,\n",
    "        labeldistance=None,\n",
    "        autopct='%1.2f%%',\n",
    "        textprops={'fontsize': 5},\n",
    "        pctdistance=1.2,\n",
    "        cmap=main_color_map\n",
    "    )\n",
    "    axis.legend(bbox_to_anchor=(1.05, 1), loc='upper left')\n",
    "    plot.show()"
   ]
  },
  {
   "attachments": {},
   "cell_type": "markdown",
   "id": "29ec2211",
   "metadata": {},
   "source": [
    "### Table 5 - Top 20 least used external packages overall\n",
    "\n",
    "This table identifies external packages that aren't used very often. This could help to find libraries that aren't actually needed or maybe easily replaceable. Some of them might be used sparsely on purpose for example as an adapter to an external library that is actually important. Thus, decisions need to be made on a case-by-case basis.\n",
    "\n",
    "Only the last 20 entries are shown. The whole table can be found in the following CSV report:\n",
    "`External_package_usage_overall`\n",
    "\n",
    "**Columns:**\n",
    "- *externalPackageName* identifies the external package as described above\n",
    "- *numberOfExternalTypeCalls* includes every invocation or reference to the types in the external package"
   ]
  },
  {
   "cell_type": "code",
   "execution_count": 27,
   "id": "03641b8b",
   "metadata": {
    "execution": {
     "iopub.execute_input": "2024-04-24T06:15:53.619452Z",
     "iopub.status.busy": "2024-04-24T06:15:53.619129Z",
     "iopub.status.idle": "2024-04-24T06:15:53.624929Z",
     "shell.execute_reply": "2024-04-24T06:15:53.624418Z"
    }
   },
   "outputs": [
    {
     "data": {
      "text/html": [
       "<div>\n",
       "<style scoped>\n",
       "    .dataframe tbody tr th:only-of-type {\n",
       "        vertical-align: middle;\n",
       "    }\n",
       "\n",
       "    .dataframe tbody tr th {\n",
       "        vertical-align: top;\n",
       "    }\n",
       "\n",
       "    .dataframe thead th {\n",
       "        text-align: right;\n",
       "    }\n",
       "</style>\n",
       "<table border=\"1\" class=\"dataframe\">\n",
       "  <thead>\n",
       "    <tr style=\"text-align: right;\">\n",
       "      <th></th>\n",
       "      <th>externalPackageName</th>\n",
       "      <th>numberOfExternalTypeCalls</th>\n",
       "    </tr>\n",
       "  </thead>\n",
       "  <tbody>\n",
       "  </tbody>\n",
       "</table>\n",
       "</div>"
      ],
      "text/plain": [
       "Empty DataFrame\n",
       "Columns: [externalPackageName, numberOfExternalTypeCalls]\n",
       "Index: []"
      ]
     },
     "execution_count": 27,
     "metadata": {},
     "output_type": "execute_result"
    }
   ],
   "source": [
    "# Sort by number of external type calls\n",
    "external_package_least_used=external_package_usage.sort_values(by='numberOfExternalTypeCalls', ascending=True)\n",
    "\n",
    "# Reset index\n",
    "external_package_least_used = external_package_least_used.reset_index(drop=True)\n",
    "\n",
    "# Select columns and only show the first 10 entries (head)\n",
    "external_package_least_used[['externalPackageName','numberOfExternalTypeCalls']].head(20)\n"
   ]
  },
  {
   "cell_type": "markdown",
   "id": "0bd11586",
   "metadata": {},
   "source": [
    "### Table 6 - External usage per artifact sorted by highest external type rate descending\n",
    "\n",
    "The following table shows the most used external packages separately for each artifact including external annotations. The results are sorted by the artifacts with the highest external type usage rate descending. \n",
    "\n",
    "The intention of this table is to find artifacts that use a lot of external dependencies in relation to their size and get all the external packages and their usage.\n",
    "\n",
    "Only the last 40 entries are shown. The whole table can be found in the following CSV report:\n",
    "`External_package_usage_per_artifact_sorted`\n",
    "\n",
    "**Columns:**\n",
    "- *artifactName* is used to group the the external package usage per artifact for a more detailed analysis.\n",
    "- *externalPackageName* identifies the external package as described above\n",
    "- *numberOfExternalTypeCaller* refers to the distinct types that make use of the external package\n",
    "- *numberOfExternalTypeCalls* includes every invocation or reference to the types in the external package\n",
    "- *numberOfTypesInArtifact* represents the total count of all analyzed types for the artifact\n",
    "- *numberOfExternalTypesInArtifact* is the number of all external types that are used by the artifact\n",
    "- *numberOfExternalPackagesInArtifact* is the number of all external packages that are used by the artifact\n",
    "- *externalTypeRate* is the numberOfExternalTypesInArtifact / numberOfTypesInArtifact * 100\n",
    "- *externalTypeNames* contains a list of actually utilized types of the external package"
   ]
  },
  {
   "cell_type": "code",
   "execution_count": 28,
   "id": "f8459ede",
   "metadata": {
    "execution": {
     "iopub.execute_input": "2024-04-24T06:15:53.626815Z",
     "iopub.status.busy": "2024-04-24T06:15:53.626661Z",
     "iopub.status.idle": "2024-04-24T06:15:53.708112Z",
     "shell.execute_reply": "2024-04-24T06:15:53.707645Z"
    }
   },
   "outputs": [
    {
     "data": {
      "text/html": [
       "<div>\n",
       "<style scoped>\n",
       "    .dataframe tbody tr th:only-of-type {\n",
       "        vertical-align: middle;\n",
       "    }\n",
       "\n",
       "    .dataframe tbody tr th {\n",
       "        vertical-align: top;\n",
       "    }\n",
       "\n",
       "    .dataframe thead th {\n",
       "        text-align: right;\n",
       "    }\n",
       "</style>\n",
       "<table border=\"1\" class=\"dataframe\">\n",
       "  <thead>\n",
       "    <tr style=\"text-align: right;\">\n",
       "      <th></th>\n",
       "      <th>artifactName</th>\n",
       "      <th>externalPackageName</th>\n",
       "      <th>numberOfExternalTypeCaller</th>\n",
       "      <th>numberOfExternalTypeCalls</th>\n",
       "      <th>numberOfTypesInArtifact</th>\n",
       "      <th>numberOfExternalTypesInArtifact</th>\n",
       "      <th>numberOfExternalPackagesInArtifact</th>\n",
       "      <th>externalTypeRate</th>\n",
       "      <th>externalTypeNames</th>\n",
       "    </tr>\n",
       "  </thead>\n",
       "  <tbody>\n",
       "  </tbody>\n",
       "</table>\n",
       "</div>"
      ],
      "text/plain": [
       "Empty DataFrame\n",
       "Columns: [artifactName, externalPackageName, numberOfExternalTypeCaller, numberOfExternalTypeCalls, numberOfTypesInArtifact, numberOfExternalTypesInArtifact, numberOfExternalPackagesInArtifact, externalTypeRate, externalTypeNames]\n",
       "Index: []"
      ]
     },
     "execution_count": 28,
     "metadata": {},
     "output_type": "execute_result"
    }
   ],
   "source": [
    "query_cypher_to_data_frame(\"../cypher/External_Dependencies/External_package_usage_per_artifact_sorted.cypher\").head(40)"
   ]
  },
  {
   "cell_type": "markdown",
   "id": "dd5600ed",
   "metadata": {},
   "source": [
    "### Table 7 - Artifacts and their external packages\n",
    "\n",
    "The following table shows the artifacts with the highest external dependency usage broken down by each external package including external annotations. The results are sorted by the artifacts with the highest external package usage rate descending. \n",
    "\n",
    "The intention of this table is to find artifacts that use a lot of external dependencies and show in detail which external packages are used by them and how many internal packages.\n",
    "\n",
    "Only the last 30 entries are shown. The whole table can be found in the following CSV report:\n",
    "`External_package_usage_per_artifact_and_external_package`\n",
    "\n",
    "**Columns:**\n",
    "- *artifactName* is the name of the artifact with external dependencies (first grouping column)\n",
    "- *artifactPackages* is the number of packages in the artifact\n",
    "- *artifactTypes* is the number of types in the artifact\n",
    "- *artifactExternalPackages* is the number of external packages used by the artifact\n",
    "- *artifactExternalCallingPackages* is the number of packages that use external packages in the artifact \n",
    "- *artifactExternalCallingPackagesRate* is artifactExternalCallingPackages / artifactPackages * 100%\n",
    "- *externalPackageName* the name of the external package (second grouping column)\n",
    "- *numberOfPackages* is the number of internal packages of the artifact that use the external packages\n",
    "- *numberOfTypes* is the number of internal types of the artifact that use the external packages\n",
    "- *packagesCallingExternalRate* is numberOfPackages / artifactPackages * 100%\n",
    "- *typesCallingExternalRate* is numberOfTypes / artifactTypes * 100%\n",
    "- *nameOfPackages* names of the internal packages that use the external package in the artifact\n",
    "- *someTypeNames* some (10) names of the internal types that use the external package in the artifact"
   ]
  },
  {
   "cell_type": "code",
   "execution_count": 29,
   "id": "39e4deb3",
   "metadata": {
    "execution": {
     "iopub.execute_input": "2024-04-24T06:15:53.710580Z",
     "iopub.status.busy": "2024-04-24T06:15:53.710409Z",
     "iopub.status.idle": "2024-04-24T06:15:53.756596Z",
     "shell.execute_reply": "2024-04-24T06:15:53.756088Z"
    }
   },
   "outputs": [
    {
     "data": {
      "text/html": [
       "<div>\n",
       "<style scoped>\n",
       "    .dataframe tbody tr th:only-of-type {\n",
       "        vertical-align: middle;\n",
       "    }\n",
       "\n",
       "    .dataframe tbody tr th {\n",
       "        vertical-align: top;\n",
       "    }\n",
       "\n",
       "    .dataframe thead th {\n",
       "        text-align: right;\n",
       "    }\n",
       "</style>\n",
       "<table border=\"1\" class=\"dataframe\">\n",
       "  <thead>\n",
       "    <tr style=\"text-align: right;\">\n",
       "      <th></th>\n",
       "      <th>artifactName</th>\n",
       "      <th>artifactPackages</th>\n",
       "      <th>artifactTypes</th>\n",
       "      <th>artifactExternalPackages</th>\n",
       "      <th>artifactExternalCallingPackages</th>\n",
       "      <th>artifactExternalCallingPackagesRate</th>\n",
       "      <th>externalPackageName</th>\n",
       "      <th>numberOfPackages</th>\n",
       "      <th>numberOfTypes</th>\n",
       "      <th>packagesCallingExternalRate</th>\n",
       "      <th>typesCallingExternalRate</th>\n",
       "      <th>nameOfPackages</th>\n",
       "      <th>someTypeNames</th>\n",
       "    </tr>\n",
       "  </thead>\n",
       "  <tbody>\n",
       "  </tbody>\n",
       "</table>\n",
       "</div>"
      ],
      "text/plain": [
       "Empty DataFrame\n",
       "Columns: [artifactName, artifactPackages, artifactTypes, artifactExternalPackages, artifactExternalCallingPackages, artifactExternalCallingPackagesRate, externalPackageName, numberOfPackages, numberOfTypes, packagesCallingExternalRate, typesCallingExternalRate, nameOfPackages, someTypeNames]\n",
       "Index: []"
      ]
     },
     "execution_count": 29,
     "metadata": {},
     "output_type": "execute_result"
    }
   ],
   "source": [
    "external_packages_per_artifact = query_cypher_to_data_frame(\"../cypher/External_Dependencies/External_package_usage_per_artifact_and_external_package.cypher\")\n",
    "external_packages_per_artifact.head(30)"
   ]
  },
  {
   "cell_type": "markdown",
   "id": "7e18a377",
   "metadata": {},
   "source": [
    "### Table 7a - Artifacts and their external packages (first 2 levels)\n",
    "\n",
    "The following table groups the external packages by their first two levels. For example `javax.xml.namespace` and `javax.xml.stream` will be grouped together to `javax.xml`."
   ]
  },
  {
   "cell_type": "code",
   "execution_count": 30,
   "id": "6c8c7ed7",
   "metadata": {
    "execution": {
     "iopub.execute_input": "2024-04-24T06:15:53.758871Z",
     "iopub.status.busy": "2024-04-24T06:15:53.758704Z",
     "iopub.status.idle": "2024-04-24T06:15:53.792919Z",
     "shell.execute_reply": "2024-04-24T06:15:53.792403Z"
    }
   },
   "outputs": [
    {
     "data": {
      "text/html": [
       "<div>\n",
       "<style scoped>\n",
       "    .dataframe tbody tr th:only-of-type {\n",
       "        vertical-align: middle;\n",
       "    }\n",
       "\n",
       "    .dataframe tbody tr th {\n",
       "        vertical-align: top;\n",
       "    }\n",
       "\n",
       "    .dataframe thead th {\n",
       "        text-align: right;\n",
       "    }\n",
       "</style>\n",
       "<table border=\"1\" class=\"dataframe\">\n",
       "  <thead>\n",
       "    <tr style=\"text-align: right;\">\n",
       "      <th></th>\n",
       "      <th>artifactName</th>\n",
       "      <th>artifactPackages</th>\n",
       "      <th>artifactTypes</th>\n",
       "      <th>artifactExternalPackagesFirst2Levels</th>\n",
       "      <th>artifactExternalCallingPackages</th>\n",
       "      <th>artifactExternalCallingPackagesRate</th>\n",
       "      <th>externalPackageNameFirst2Levels</th>\n",
       "      <th>numberOfPackages</th>\n",
       "      <th>numberOfTypes</th>\n",
       "      <th>packagesCallingExternalRate</th>\n",
       "      <th>typesCallingExternalRate</th>\n",
       "      <th>nameOfPackages</th>\n",
       "      <th>someTypeNames</th>\n",
       "    </tr>\n",
       "  </thead>\n",
       "  <tbody>\n",
       "  </tbody>\n",
       "</table>\n",
       "</div>"
      ],
      "text/plain": [
       "Empty DataFrame\n",
       "Columns: [artifactName, artifactPackages, artifactTypes, artifactExternalPackagesFirst2Levels, artifactExternalCallingPackages, artifactExternalCallingPackagesRate, externalPackageNameFirst2Levels, numberOfPackages, numberOfTypes, packagesCallingExternalRate, typesCallingExternalRate, nameOfPackages, someTypeNames]\n",
       "Index: []"
      ]
     },
     "execution_count": 30,
     "metadata": {},
     "output_type": "execute_result"
    }
   ],
   "source": [
    "external_second_level_packages_per_artifact = query_cypher_to_data_frame(\"../cypher/External_Dependencies/External_second_level_package_usage_per_artifact_and_external_package.cypher\")\n",
    "external_second_level_packages_per_artifact.head(30)"
   ]
  },
  {
   "cell_type": "markdown",
   "id": "bb458f01",
   "metadata": {},
   "source": [
    "#### Table 7b - Top 15 external dependency using artifacts as columns with their external packages\n",
    "\n",
    "The following table uses pivot to show the artifacts in columns, the external dependencies in rows and the number of internal packages as values."
   ]
  },
  {
   "cell_type": "code",
   "execution_count": 31,
   "id": "fd9667a9",
   "metadata": {
    "execution": {
     "iopub.execute_input": "2024-04-24T06:15:53.795530Z",
     "iopub.status.busy": "2024-04-24T06:15:53.795337Z",
     "iopub.status.idle": "2024-04-24T06:15:53.798396Z",
     "shell.execute_reply": "2024-04-24T06:15:53.797892Z"
    }
   },
   "outputs": [],
   "source": [
    "# Calculate the percentage for each value based on the global sum of all values\n",
    "def percentage_global(data_frame : pd.DataFrame):\n",
    "    total = data_frame.sum().sum()\n",
    "    return data_frame / total * 100"
   ]
  },
  {
   "cell_type": "code",
   "execution_count": 32,
   "id": "4ae9ada4",
   "metadata": {
    "execution": {
     "iopub.execute_input": "2024-04-24T06:15:53.800579Z",
     "iopub.status.busy": "2024-04-24T06:15:53.800430Z",
     "iopub.status.idle": "2024-04-24T06:15:53.808197Z",
     "shell.execute_reply": "2024-04-24T06:15:53.807728Z"
    }
   },
   "outputs": [
    {
     "data": {
      "text/html": [
       "<div>\n",
       "<style scoped>\n",
       "    .dataframe tbody tr th:only-of-type {\n",
       "        vertical-align: middle;\n",
       "    }\n",
       "\n",
       "    .dataframe tbody tr th {\n",
       "        vertical-align: top;\n",
       "    }\n",
       "\n",
       "    .dataframe thead th {\n",
       "        text-align: right;\n",
       "    }\n",
       "</style>\n",
       "<table border=\"1\" class=\"dataframe\">\n",
       "  <thead>\n",
       "    <tr style=\"text-align: right;\">\n",
       "      <th>artifactName</th>\n",
       "    </tr>\n",
       "    <tr>\n",
       "      <th>externalPackageName</th>\n",
       "    </tr>\n",
       "  </thead>\n",
       "  <tbody>\n",
       "  </tbody>\n",
       "</table>\n",
       "</div>"
      ],
      "text/plain": [
       "Empty DataFrame\n",
       "Columns: []\n",
       "Index: []"
      ]
     },
     "execution_count": 32,
     "metadata": {},
     "output_type": "execute_result"
    }
   ],
   "source": [
    "external_packages_per_artifact_pivot = external_packages_per_artifact.copy()\n",
    "\n",
    "# Every row represents the number of external package\n",
    "external_packages_per_artifact_pivot=external_packages_per_artifact_pivot.pivot(index='externalPackageName', columns='artifactName', values='numberOfPackages')\n",
    "\n",
    "# Sort by column sum and then take only the first 10 columns\n",
    "sum_of_external_packages_per_artifact = external_packages_per_artifact_pivot.sum()\n",
    "external_packages_per_artifact_pivot = external_packages_per_artifact_pivot[sum_of_external_packages_per_artifact.sort_values(ascending=False).index[:15]]\n",
    "\n",
    "# Fill missing values with zeroes\n",
    "external_packages_per_artifact_pivot.fillna(0, inplace=True)\n",
    "\n",
    "external_packages_per_artifact_pivot.astype('int')"
   ]
  },
  {
   "cell_type": "markdown",
   "id": "9b1fed8e",
   "metadata": {},
   "source": [
    "#### Table 7c - Top 15 external dependency using artifacts as columns with their external packages (first 2 levels)\n",
    "\n",
    "The following table uses pivot to show the artifacts in columns, the external package name grouped by its first two levels in rows and the number of internal packages as values. For example `javax.xml.namespace` and `javax.xml.stream` will be grouped together to `javax.xml`."
   ]
  },
  {
   "cell_type": "code",
   "execution_count": 33,
   "id": "845099fc",
   "metadata": {
    "execution": {
     "iopub.execute_input": "2024-04-24T06:15:53.810382Z",
     "iopub.status.busy": "2024-04-24T06:15:53.810069Z",
     "iopub.status.idle": "2024-04-24T06:15:53.816525Z",
     "shell.execute_reply": "2024-04-24T06:15:53.816100Z"
    }
   },
   "outputs": [
    {
     "data": {
      "text/html": [
       "<div>\n",
       "<style scoped>\n",
       "    .dataframe tbody tr th:only-of-type {\n",
       "        vertical-align: middle;\n",
       "    }\n",
       "\n",
       "    .dataframe tbody tr th {\n",
       "        vertical-align: top;\n",
       "    }\n",
       "\n",
       "    .dataframe thead th {\n",
       "        text-align: right;\n",
       "    }\n",
       "</style>\n",
       "<table border=\"1\" class=\"dataframe\">\n",
       "  <thead>\n",
       "    <tr style=\"text-align: right;\">\n",
       "      <th>artifactName</th>\n",
       "    </tr>\n",
       "    <tr>\n",
       "      <th>externalPackageNameFirst2Levels</th>\n",
       "    </tr>\n",
       "  </thead>\n",
       "  <tbody>\n",
       "  </tbody>\n",
       "</table>\n",
       "</div>"
      ],
      "text/plain": [
       "Empty DataFrame\n",
       "Columns: []\n",
       "Index: []"
      ]
     },
     "execution_count": 33,
     "metadata": {},
     "output_type": "execute_result"
    }
   ],
   "source": [
    "external_second_level_packages_per_artifact_pivot = external_second_level_packages_per_artifact.copy()\n",
    "\n",
    "# Every row represents the number of external package\n",
    "external_second_level_packages_per_artifact_pivot=external_second_level_packages_per_artifact_pivot.pivot(index='externalPackageNameFirst2Levels', columns='artifactName', values='numberOfPackages')\n",
    "\n",
    "# Sort by column sum and then take only the first 10 columns\n",
    "sum_of_external_second_level_packages_per_artifact = external_second_level_packages_per_artifact_pivot.sum()\n",
    "external_second_level_packages_per_artifact_pivot = external_second_level_packages_per_artifact_pivot[sum_of_external_second_level_packages_per_artifact.sort_values(ascending=False).index[:15]]\n",
    "\n",
    "# Fill missing values with zeroes\n",
    "external_second_level_packages_per_artifact_pivot.fillna(0, inplace=True)\n",
    "\n",
    "external_second_level_packages_per_artifact_pivot.astype('int')"
   ]
  },
  {
   "cell_type": "markdown",
   "id": "43ec339b",
   "metadata": {},
   "source": [
    "#### Table 7 Chart 1 - Top 15 external dependency using artifacts and their external packages stacked\n",
    "\n",
    "The following chart shows the top 15 external package using artifacts and breaks down which external packages they use in how many different internal packages with stacked bars. \n",
    "\n",
    "Note that every external dependency is counted separately so that if on internal package uses two external packages it will be displayed for both and so stacked twice.  "
   ]
  },
  {
   "cell_type": "code",
   "execution_count": 34,
   "id": "9d8e8bb0",
   "metadata": {
    "execution": {
     "iopub.execute_input": "2024-04-24T06:15:53.818330Z",
     "iopub.status.busy": "2024-04-24T06:15:53.818177Z",
     "iopub.status.idle": "2024-04-24T06:15:53.821537Z",
     "shell.execute_reply": "2024-04-24T06:15:53.821054Z"
    }
   },
   "outputs": [
    {
     "name": "stdout",
     "output_type": "stream",
     "text": [
      "No data to plot\n"
     ]
    }
   ],
   "source": [
    "if external_packages_per_artifact_pivot.empty:\n",
    "    print(\"No data to plot\")\n",
    "else:\n",
    "    plot.figure();\n",
    "    axes = external_packages_per_artifact_pivot.transpose().plot(\n",
    "        kind='bar', \n",
    "        grid=True,\n",
    "        title='External package usage per artifact', \n",
    "        xlabel='artifact',\n",
    "        ylabel='number of packages',\n",
    "        stacked=True,\n",
    "        legend=True,\n",
    "        cmap=main_color_map\n",
    "    ).legend(bbox_to_anchor=(1.0, 1.0))\n",
    "    plot.show()"
   ]
  },
  {
   "cell_type": "markdown",
   "id": "2d577c45",
   "metadata": {},
   "source": [
    "#### Table 7 Chart 2 - Top 15 external dependency using artifacts and their external packages (first 2 levels) stacked\n",
    "\n",
    "The following chart shows the top 15 external package using artifacts and breaks down which external packages (first 2 levels) are used in how many different internal packages with stacked bars. \n",
    "\n",
    "Note that every external dependency is counted separately so that if on internal package uses two external packages it will be displayed for both and so stacked twice.  "
   ]
  },
  {
   "cell_type": "code",
   "execution_count": 35,
   "id": "17fc1572",
   "metadata": {
    "execution": {
     "iopub.execute_input": "2024-04-24T06:15:53.823745Z",
     "iopub.status.busy": "2024-04-24T06:15:53.823362Z",
     "iopub.status.idle": "2024-04-24T06:15:53.827101Z",
     "shell.execute_reply": "2024-04-24T06:15:53.826575Z"
    }
   },
   "outputs": [
    {
     "name": "stdout",
     "output_type": "stream",
     "text": [
      "No data to plot\n"
     ]
    }
   ],
   "source": [
    "if external_second_level_packages_per_artifact_pivot.empty:\n",
    "    print(\"No data to plot\")\n",
    "else:\n",
    "    plot.figure();\n",
    "    axes = external_second_level_packages_per_artifact_pivot.transpose().plot(\n",
    "        kind='bar', \n",
    "        grid=True,\n",
    "        title='External package (first 2 levels) usage per artifact', \n",
    "        xlabel='artifact',\n",
    "        ylabel='number of packages',\n",
    "        stacked=True,\n",
    "        legend=True,\n",
    "        cmap=main_color_map\n",
    "    ).legend(bbox_to_anchor=(1.0, 1.0))\n",
    "    plot.show()"
   ]
  },
  {
   "attachments": {},
   "cell_type": "markdown",
   "id": "33c3bb79",
   "metadata": {},
   "source": [
    "### Table 8 - External usage per artifact\n",
    "\n",
    "The following table shows the most used external packages separately for each artifact including external annotations. The results are grouped per artifact and sorted by the artifacts with the highest external type usage rate descending. Additionally, for each artifact the top 5 used external packages are listed in the top5ExternalPackages column. \n",
    "\n",
    "The intention of this table is to find artifacts that use a lot of external dependencies in relation to their size and get an overview per artifact with the top 5 used external packages, the number of external types and packages used etc. .\n",
    "\n",
    "Only the last 40 entries are shown. The whole table can be found in the following CSV report:\n",
    "`External_package_usage_per_artifact_sorted_top`\n",
    "\n",
    "**Columns:**\n",
    "- *artifactName* is used to group the the external package usage per artifact for a more detailed analysis.\n",
    "- *numberOfTypesInArtifact* represents the total count of all analyzed types for the artifact\n",
    "- *numberOfExternalTypesInArtifact* is the number of all external types that are used by the artifact\n",
    "- *numberOfExternalPackagesInArtifact* is the number of all external packages that are used by the artifact\n",
    "- *externalTypeRate* is the numberOfExternalTypesInArtifact / numberOfTypesInArtifact * 100\n",
    "- *numberOfExternalTypeCaller* refers to the distinct types that make use of the external package\n",
    "- *numberOfExternalTypeCalls* includes every invocation or reference to the types in the external package\n",
    "- *numberOfExternalPackages* is the number of distinct external packages used by the artifact\n",
    "- *top5ExternalPackages* contains a list of the top 5 most used external packages of the artifact\n",
    "- *someExternalTypes* contains a list of lists and is also mean't to provide some examples of external types used"
   ]
  },
  {
   "cell_type": "code",
   "execution_count": 36,
   "id": "1637f8ee",
   "metadata": {
    "execution": {
     "iopub.execute_input": "2024-04-24T06:15:53.829478Z",
     "iopub.status.busy": "2024-04-24T06:15:53.829002Z",
     "iopub.status.idle": "2024-04-24T06:15:53.872642Z",
     "shell.execute_reply": "2024-04-24T06:15:53.872108Z"
    }
   },
   "outputs": [
    {
     "data": {
      "text/html": [
       "<div>\n",
       "<style scoped>\n",
       "    .dataframe tbody tr th:only-of-type {\n",
       "        vertical-align: middle;\n",
       "    }\n",
       "\n",
       "    .dataframe tbody tr th {\n",
       "        vertical-align: top;\n",
       "    }\n",
       "\n",
       "    .dataframe thead th {\n",
       "        text-align: right;\n",
       "    }\n",
       "</style>\n",
       "<table border=\"1\" class=\"dataframe\">\n",
       "  <thead>\n",
       "    <tr style=\"text-align: right;\">\n",
       "      <th></th>\n",
       "      <th>artifactName</th>\n",
       "      <th>numberOfTypesInArtifact</th>\n",
       "      <th>numberOfExternalTypesInArtifact</th>\n",
       "      <th>numberOfExternalPackagesInArtifact</th>\n",
       "      <th>externalTypeRate</th>\n",
       "      <th>numberOfExternalTypeCaller</th>\n",
       "      <th>numberOfExternalTypeCalls</th>\n",
       "      <th>numberOfExternalPackages</th>\n",
       "      <th>top5ExternalPackages</th>\n",
       "      <th>someExternalTypes</th>\n",
       "    </tr>\n",
       "  </thead>\n",
       "  <tbody>\n",
       "  </tbody>\n",
       "</table>\n",
       "</div>"
      ],
      "text/plain": [
       "Empty DataFrame\n",
       "Columns: [artifactName, numberOfTypesInArtifact, numberOfExternalTypesInArtifact, numberOfExternalPackagesInArtifact, externalTypeRate, numberOfExternalTypeCaller, numberOfExternalTypeCalls, numberOfExternalPackages, top5ExternalPackages, someExternalTypes]\n",
       "Index: []"
      ]
     },
     "execution_count": 36,
     "metadata": {},
     "output_type": "execute_result"
    }
   ],
   "source": [
    "query_cypher_to_data_frame(\"../cypher/External_Dependencies/External_package_usage_per_artifact_sorted_top.cypher\").head(40)"
   ]
  },
  {
   "attachments": {},
   "cell_type": "markdown",
   "id": "4fb87c8a",
   "metadata": {},
   "source": [
    "### Table 9 - External usage per artifact and package\n",
    "\n",
    "This table lists internal packages and the artifacts they belong to that use many different external types of a specific external package without taking external annotations into account. \n",
    "\n",
    "Only the last 40 entries are shown. The whole table can be found in the following CSV report:\n",
    "`External_package_usage_per_artifact_and_package`\n",
    "\n",
    "**Columns:**\n",
    "- *artifactName* that contains the type that calls the external package\n",
    "- *fullPackageName* is the package within the artifact that contains the type that calls the external package\n",
    "- *externalPackageName* identifies the external package as described above\n",
    "- *numberOfExternalTypeCaller* refers to the distinct types that make use of the external package\n",
    "- *numberOfExternalTypeCalls* includes every invocation or reference to the types in the external package\n",
    "- *numberOfTypesInPackage* represents the total count of all types in that package\n",
    "- *externalTypeNames* contains a list of actually utilized types of the external package\n",
    "- *packageName* contains the name of the package (last part of *fullPackageName*)"
   ]
  },
  {
   "cell_type": "code",
   "execution_count": 37,
   "id": "58a19ad7",
   "metadata": {
    "execution": {
     "iopub.execute_input": "2024-04-24T06:15:53.875147Z",
     "iopub.status.busy": "2024-04-24T06:15:53.874991Z",
     "iopub.status.idle": "2024-04-24T06:15:53.902289Z",
     "shell.execute_reply": "2024-04-24T06:15:53.901776Z"
    }
   },
   "outputs": [
    {
     "data": {
      "text/html": [
       "<div>\n",
       "<style scoped>\n",
       "    .dataframe tbody tr th:only-of-type {\n",
       "        vertical-align: middle;\n",
       "    }\n",
       "\n",
       "    .dataframe tbody tr th {\n",
       "        vertical-align: top;\n",
       "    }\n",
       "\n",
       "    .dataframe thead th {\n",
       "        text-align: right;\n",
       "    }\n",
       "</style>\n",
       "<table border=\"1\" class=\"dataframe\">\n",
       "  <thead>\n",
       "    <tr style=\"text-align: right;\">\n",
       "      <th></th>\n",
       "      <th>artifactName</th>\n",
       "      <th>fullPackageName</th>\n",
       "      <th>externalPackageName</th>\n",
       "      <th>numberOfExternalTypeCaller</th>\n",
       "      <th>numberOfExternalTypeCalls</th>\n",
       "      <th>numberOfTypesInPackage</th>\n",
       "      <th>externalTypeNames</th>\n",
       "      <th>packageName</th>\n",
       "    </tr>\n",
       "  </thead>\n",
       "  <tbody>\n",
       "  </tbody>\n",
       "</table>\n",
       "</div>"
      ],
      "text/plain": [
       "Empty DataFrame\n",
       "Columns: [artifactName, fullPackageName, externalPackageName, numberOfExternalTypeCaller, numberOfExternalTypeCalls, numberOfTypesInPackage, externalTypeNames, packageName]\n",
       "Index: []"
      ]
     },
     "execution_count": 37,
     "metadata": {},
     "output_type": "execute_result"
    }
   ],
   "source": [
    "external_package_usage_per_package = query_cypher_to_data_frame(\"../cypher/External_Dependencies/External_package_usage_per_artifact_and_package.cypher\")\n",
    "external_package_usage_per_package.head(40)"
   ]
  },
  {
   "attachments": {},
   "cell_type": "markdown",
   "id": "a3161e2b",
   "metadata": {},
   "source": [
    "### Table 10 - Top 20 external package usage per type\n",
    "\n",
    "This table shows internal types that utilize the most different external types and packages. These have the highest probability of change depending on external libraries. A case-by-case approach is also advisable here because there could for example also be code units that encapsulate an external library and have this high count of external dependencies on purpose.\n",
    "\n",
    "Only the last 20 entries are shown. The whole table can be found in the following CSV report:\n",
    "`External_package_usage_per_type`\n",
    "\n",
    "**Columns:**\n",
    "- *artifactName* that contains the type that calls the external package\n",
    "- *fullPackageName* is the package within the artifact that contains the type that calls external types\n",
    "- *typeName* identifies the internal type within the package and artifact that calls external types\n",
    "- *numberOfExternalTypeCaller* and *numberOfExternalTypes* refers to the distinct external types that are used by the internal type\n",
    "- *numberOfExternalTypeCalls* includes every invocation or reference to the types in the external package\n",
    "- *numberOfTypesInPackage* represents the total count of all types in that package\n",
    "- *numberOfExternalPackages* shows how many different external packages are used by the internal type\n",
    "- *externalPackageNames* contains the list of names of the different external packages that are used by the internal type\n",
    "- *externalTypeNames* contains a list of actually utilized types of the external package\n",
    "- *packageName* contains the name of the package (last part of *fullPackageName*)"
   ]
  },
  {
   "cell_type": "code",
   "execution_count": 38,
   "id": "f2224d21",
   "metadata": {
    "execution": {
     "iopub.execute_input": "2024-04-24T06:15:53.904600Z",
     "iopub.status.busy": "2024-04-24T06:15:53.904436Z",
     "iopub.status.idle": "2024-04-24T06:15:53.932376Z",
     "shell.execute_reply": "2024-04-24T06:15:53.931856Z"
    }
   },
   "outputs": [
    {
     "data": {
      "text/html": [
       "<div>\n",
       "<style scoped>\n",
       "    .dataframe tbody tr th:only-of-type {\n",
       "        vertical-align: middle;\n",
       "    }\n",
       "\n",
       "    .dataframe tbody tr th {\n",
       "        vertical-align: top;\n",
       "    }\n",
       "\n",
       "    .dataframe thead th {\n",
       "        text-align: right;\n",
       "    }\n",
       "</style>\n",
       "<table border=\"1\" class=\"dataframe\">\n",
       "  <thead>\n",
       "    <tr style=\"text-align: right;\">\n",
       "      <th></th>\n",
       "      <th>artifactName</th>\n",
       "      <th>fullPackageName</th>\n",
       "      <th>typeName</th>\n",
       "      <th>numberOfExternalTypeCaller</th>\n",
       "      <th>numberOfExternalTypeCalls</th>\n",
       "      <th>numberOfExternalPackages</th>\n",
       "      <th>numberOfExternalTypes</th>\n",
       "      <th>externalPackageNames</th>\n",
       "      <th>externalTypeNames</th>\n",
       "      <th>packageName</th>\n",
       "      <th>fullTypeName</th>\n",
       "    </tr>\n",
       "  </thead>\n",
       "  <tbody>\n",
       "  </tbody>\n",
       "</table>\n",
       "</div>"
      ],
      "text/plain": [
       "Empty DataFrame\n",
       "Columns: [artifactName, fullPackageName, typeName, numberOfExternalTypeCaller, numberOfExternalTypeCalls, numberOfExternalPackages, numberOfExternalTypes, externalPackageNames, externalTypeNames, packageName, fullTypeName]\n",
       "Index: []"
      ]
     },
     "execution_count": 38,
     "metadata": {},
     "output_type": "execute_result"
    }
   ],
   "source": [
    "external_package_usage_per_type = query_cypher_to_data_frame(\"../cypher/External_Dependencies/External_package_usage_per_type.cypher\")\n",
    "external_package_usage_per_type.head(20)"
   ]
  },
  {
   "attachments": {},
   "cell_type": "markdown",
   "id": "5b420f59",
   "metadata": {},
   "source": [
    "### Table 11 - External package usage distribution per type\n",
    "\n",
    "This table shows how many types use one external package, how many use two, etc. .\n",
    "This gives an overview of the distribution of external package calls and the overall coupling to external libraries. The higher the count of distinct external packages the lower should be the count of types that use them. Dependencies to external annotations are left out here.\n",
    "\n",
    "More details about which types have the highest external package dependency usage can be in the tables 4 and 5 above.\n",
    "\n",
    "Only the last 40 entries are shown. The whole table can be found in the following CSV report:\n",
    "`External_package_usage_per_artifact_distribution`\n",
    "\n",
    "**Columns:**\n",
    "- *artifactName* that contains the type that calls the external package\n",
    "- *artifactTypes* the total count of types in the artifact\n",
    "- *numberOfExternalPackages* the number of distinct external packages used\n",
    "- *numberOfTypes* in the artifact where the *numberOfExternalPackages* applies\n",
    "- *numberOfTypesPercentage* in the artifact where the *numberOfExternalPackages* applies in %"
   ]
  },
  {
   "cell_type": "code",
   "execution_count": 39,
   "id": "d750524a",
   "metadata": {
    "execution": {
     "iopub.execute_input": "2024-04-24T06:15:53.934674Z",
     "iopub.status.busy": "2024-04-24T06:15:53.934522Z",
     "iopub.status.idle": "2024-04-24T06:15:53.965315Z",
     "shell.execute_reply": "2024-04-24T06:15:53.964748Z"
    }
   },
   "outputs": [
    {
     "data": {
      "text/html": [
       "<div>\n",
       "<style scoped>\n",
       "    .dataframe tbody tr th:only-of-type {\n",
       "        vertical-align: middle;\n",
       "    }\n",
       "\n",
       "    .dataframe tbody tr th {\n",
       "        vertical-align: top;\n",
       "    }\n",
       "\n",
       "    .dataframe thead th {\n",
       "        text-align: right;\n",
       "    }\n",
       "</style>\n",
       "<table border=\"1\" class=\"dataframe\">\n",
       "  <thead>\n",
       "    <tr style=\"text-align: right;\">\n",
       "      <th></th>\n",
       "      <th>artifactName</th>\n",
       "      <th>artifactPackages</th>\n",
       "      <th>artifactTypes</th>\n",
       "      <th>numberOfExternalPackages</th>\n",
       "      <th>numberOfPackages</th>\n",
       "      <th>numberOfTypes</th>\n",
       "      <th>typesCallingExternalRate</th>\n",
       "      <th>packagesCallingExternalRate</th>\n",
       "    </tr>\n",
       "  </thead>\n",
       "  <tbody>\n",
       "  </tbody>\n",
       "</table>\n",
       "</div>"
      ],
      "text/plain": [
       "Empty DataFrame\n",
       "Columns: [artifactName, artifactPackages, artifactTypes, numberOfExternalPackages, numberOfPackages, numberOfTypes, typesCallingExternalRate, packagesCallingExternalRate]\n",
       "Index: []"
      ]
     },
     "execution_count": 39,
     "metadata": {},
     "output_type": "execute_result"
    }
   ],
   "source": [
    "external_package_usage_per_artifact_distribution = query_cypher_to_data_frame(\"../cypher/External_Dependencies/External_package_usage_per_artifact_distribution.cypher\")\n",
    "external_package_usage_per_artifact_distribution_truncated=external_package_usage_per_artifact_distribution[['artifactName', 'artifactPackages', 'artifactTypes', 'numberOfExternalPackages', 'numberOfPackages', 'numberOfTypes', 'typesCallingExternalRate', 'packagesCallingExternalRate']].head(40)\n",
    "external_package_usage_per_artifact_distribution_truncated"
   ]
  },
  {
   "attachments": {},
   "cell_type": "markdown",
   "id": "39c045f6",
   "metadata": {},
   "source": [
    "### Table 12 - External package usage per artifact grouped by number of internal packages\n",
    "\n",
    "The following table shows the external package usage for every artifact grouped by the number of distinct internal dependent packages. The intention is to find external package usage spread across multiple internal packages in artifacts. \n",
    "\n",
    "Artifacts that encapsulate external dependency calls in one internal package overall (or each) are easier to change if those external dependencies change and are most likely applying a [Hexagonal architecture](https://alistair.cockburn.us/hexagonal-architecture). Artifacts that use external dependencies in multiple internal packages need more effort to adapt to changes of those external dependencies. On one hand this could be intended e.g. when using standardized libraries. On the other hand this might indicate higher than necessary coupling.\n",
    "\n",
    "The whole table can be found in the following CSV report:\n",
    "`External_package_usage_per_internal_package_count`"
   ]
  },
  {
   "cell_type": "code",
   "execution_count": 40,
   "id": "7a2ebcf9",
   "metadata": {
    "execution": {
     "iopub.execute_input": "2024-04-24T06:15:53.967650Z",
     "iopub.status.busy": "2024-04-24T06:15:53.967489Z",
     "iopub.status.idle": "2024-04-24T06:15:54.087987Z",
     "shell.execute_reply": "2024-04-24T06:15:54.087497Z"
    }
   },
   "outputs": [
    {
     "data": {
      "text/html": [
       "<div>\n",
       "<style scoped>\n",
       "    .dataframe tbody tr th:only-of-type {\n",
       "        vertical-align: middle;\n",
       "    }\n",
       "\n",
       "    .dataframe tbody tr th {\n",
       "        vertical-align: top;\n",
       "    }\n",
       "\n",
       "    .dataframe thead th {\n",
       "        text-align: right;\n",
       "    }\n",
       "</style>\n",
       "<table border=\"1\" class=\"dataframe\">\n",
       "  <thead>\n",
       "    <tr style=\"text-align: right;\">\n",
       "      <th>artifactName</th>\n",
       "    </tr>\n",
       "    <tr>\n",
       "      <th>numberOfPackages</th>\n",
       "    </tr>\n",
       "  </thead>\n",
       "  <tbody>\n",
       "  </tbody>\n",
       "</table>\n",
       "</div>"
      ],
      "text/plain": [
       "Empty DataFrame\n",
       "Columns: []\n",
       "Index: []"
      ]
     },
     "execution_count": 40,
     "metadata": {},
     "output_type": "execute_result"
    }
   ],
   "source": [
    "external_package_usage_per_package_distribution = query_cypher_to_data_frame(\"../cypher/External_Dependencies/External_package_usage_per_internal_package_count.cypher\")\n",
    "\n",
    "# Only show external dependencies that are at least used in 2 internal packages. \n",
    "# Filter out all rows with \"numberOfPackages\" <= 2.\n",
    "external_package_usage_per_package_distribution=external_package_usage_per_package_distribution.query(\"`numberOfPackages` >= 2\")\n",
    "# Organize artifacts in columns with the number of packages that call external packages as values using pivot\n",
    "# Every row represents the number of external packages\n",
    "external_package_usage_per_package_distribution=external_package_usage_per_package_distribution.pivot(index='numberOfPackages', columns='artifactName', values='maxPackagesCallingExternalRate')\n",
    "\n",
    "# Fill missing values with zero\n",
    "external_package_usage_per_package_distribution.fillna(0, inplace=True)\n",
    "\n",
    "external_package_usage_per_package_distribution"
   ]
  },
  {
   "cell_type": "markdown",
   "id": "055e5a36",
   "metadata": {},
   "source": [
    "### Table 13 - External package usage aggregated\n",
    "\n",
    "This table lists all artifacts and their external package dependencies usage aggregated over internal packages. \n",
    "\n",
    "The intention behind this is to find artifacts that use an external dependency across multiple internal packages. This might be intended for frameworks and standardized libraries and helps to quantify how widely those are used. For some external dependencies it might be beneficial to only access it from one package and provide an abstraction for internal usage following a [Hexagonal architecture](https://alistair.cockburn.us/hexagonal-architecture). Thus, this table may also help in finding application for the Hexagonal architecture or similar approaches (Domain Driven Design Anti Corruption Layer). After all it is easier to update or replace such external dependencies when they are used in specific areas and not all over the code.\n",
    "\n",
    "Only the last 40 entries are shown. The whole table can be found in the following CSV report:\n",
    "`External_package_usage_per_artifact_package_aggregated`\n",
    "\n",
    "**Columns:**\n",
    "- *artifactName* that contains the type that calls the external package\n",
    "- *artifactPackages* is the total count of packages in the artifact\n",
    "- *artifactTypes* is the total count of types in the artifact\n",
    "- *numberOfExternalPackages* the number of distinct external packages used\n",
    "- *[min,max,med,avg,std]NumberOfPackages* provide statistics based on each external package and its package usage within the artifact\n",
    "- *[min,max,med,avg,std]NumberOfPackagesPercentage* provide statistics in % based on each external package and its package usage within the artifact in respect to the overall count of packages in the artifact\n",
    "- *[min,max,med,avg,std]NumberOfTypes* provide statistics based on each external package and its type usage within the artifact\n",
    "- *[min,max,med,avg,std]NumberOfTypePercentage* provide statistics in % based on each external package and its type usage within the artifact in respect to the overall count of packages in the artifact\n",
    "- *numberOfTypes* in the artifact where the *numberOfExternalPackages* applies\n",
    "- *numberOfTypesPercentage* in the artifact where the *numberOfExternalPackages* applies in %"
   ]
  },
  {
   "cell_type": "markdown",
   "id": "7850d0a2",
   "metadata": {},
   "source": [
    "#### Table 13a - External package usage aggregated - count of internal packages"
   ]
  },
  {
   "cell_type": "code",
   "execution_count": 41,
   "id": "6d01860a",
   "metadata": {
    "execution": {
     "iopub.execute_input": "2024-04-24T06:15:54.090987Z",
     "iopub.status.busy": "2024-04-24T06:15:54.090656Z",
     "iopub.status.idle": "2024-04-24T06:15:54.146100Z",
     "shell.execute_reply": "2024-04-24T06:15:54.145553Z"
    }
   },
   "outputs": [
    {
     "data": {
      "text/html": [
       "<div>\n",
       "<style scoped>\n",
       "    .dataframe tbody tr th:only-of-type {\n",
       "        vertical-align: middle;\n",
       "    }\n",
       "\n",
       "    .dataframe tbody tr th {\n",
       "        vertical-align: top;\n",
       "    }\n",
       "\n",
       "    .dataframe thead th {\n",
       "        text-align: right;\n",
       "    }\n",
       "</style>\n",
       "<table border=\"1\" class=\"dataframe\">\n",
       "  <thead>\n",
       "    <tr style=\"text-align: right;\">\n",
       "      <th></th>\n",
       "      <th>artifactName</th>\n",
       "      <th>artifactPackages</th>\n",
       "      <th>numberOfExternalPackages</th>\n",
       "      <th>minNumberOfPackages</th>\n",
       "      <th>medNumberOfPackages</th>\n",
       "      <th>avgNumberOfPackages</th>\n",
       "      <th>maxNumberOfPackages</th>\n",
       "      <th>stdNumberOfPackages</th>\n",
       "    </tr>\n",
       "  </thead>\n",
       "  <tbody>\n",
       "  </tbody>\n",
       "</table>\n",
       "</div>"
      ],
      "text/plain": [
       "Empty DataFrame\n",
       "Columns: [artifactName, artifactPackages, numberOfExternalPackages, minNumberOfPackages, medNumberOfPackages, avgNumberOfPackages, maxNumberOfPackages, stdNumberOfPackages]\n",
       "Index: []"
      ]
     },
     "execution_count": 41,
     "metadata": {},
     "output_type": "execute_result"
    }
   ],
   "source": [
    "external_package_usage_aggregated = query_cypher_to_data_frame(\"../cypher/External_Dependencies/External_package_usage_per_artifact_package_aggregated.cypher\")\n",
    "\n",
    "external_package_usage_aggregated_packages = external_package_usage_aggregated[['artifactName', 'artifactPackages', 'numberOfExternalPackages', 'minNumberOfPackages', 'medNumberOfPackages', 'avgNumberOfPackages', 'maxNumberOfPackages', 'stdNumberOfPackages']]\n",
    "external_package_usage_aggregated_packages.head(30)"
   ]
  },
  {
   "cell_type": "markdown",
   "id": "f2dbe7ac",
   "metadata": {},
   "source": [
    "#### Table 13b - External package usage aggregated - percentage of internal packages"
   ]
  },
  {
   "cell_type": "code",
   "execution_count": 42,
   "id": "e70afee8",
   "metadata": {
    "execution": {
     "iopub.execute_input": "2024-04-24T06:15:54.148639Z",
     "iopub.status.busy": "2024-04-24T06:15:54.148187Z",
     "iopub.status.idle": "2024-04-24T06:15:54.155694Z",
     "shell.execute_reply": "2024-04-24T06:15:54.155229Z"
    }
   },
   "outputs": [
    {
     "data": {
      "text/html": [
       "<div>\n",
       "<style scoped>\n",
       "    .dataframe tbody tr th:only-of-type {\n",
       "        vertical-align: middle;\n",
       "    }\n",
       "\n",
       "    .dataframe tbody tr th {\n",
       "        vertical-align: top;\n",
       "    }\n",
       "\n",
       "    .dataframe thead th {\n",
       "        text-align: right;\n",
       "    }\n",
       "</style>\n",
       "<table border=\"1\" class=\"dataframe\">\n",
       "  <thead>\n",
       "    <tr style=\"text-align: right;\">\n",
       "      <th></th>\n",
       "      <th>artifactName</th>\n",
       "      <th>artifactPackages</th>\n",
       "      <th>numberOfExternalPackages</th>\n",
       "      <th>minNumberOfPackagesPercentage</th>\n",
       "      <th>medNumberOfPackagesPercentage</th>\n",
       "      <th>avgNumberOfPackagesPercentage</th>\n",
       "      <th>maxNumberOfPackagesPercentage</th>\n",
       "      <th>stdNumberOfPackagesPercentage</th>\n",
       "    </tr>\n",
       "  </thead>\n",
       "  <tbody>\n",
       "  </tbody>\n",
       "</table>\n",
       "</div>"
      ],
      "text/plain": [
       "Empty DataFrame\n",
       "Columns: [artifactName, artifactPackages, numberOfExternalPackages, minNumberOfPackagesPercentage, medNumberOfPackagesPercentage, avgNumberOfPackagesPercentage, maxNumberOfPackagesPercentage, stdNumberOfPackagesPercentage]\n",
       "Index: []"
      ]
     },
     "execution_count": 42,
     "metadata": {},
     "output_type": "execute_result"
    }
   ],
   "source": [
    "external_package_usage_aggregated_packages_percentage = external_package_usage_aggregated[['artifactName', 'artifactPackages', 'numberOfExternalPackages', 'minNumberOfPackagesPercentage', 'medNumberOfPackagesPercentage', 'avgNumberOfPackagesPercentage', 'maxNumberOfPackagesPercentage', 'stdNumberOfPackagesPercentage']]\n",
    "external_package_usage_aggregated_packages_percentage.head(30)"
   ]
  },
  {
   "cell_type": "markdown",
   "id": "8c476382",
   "metadata": {},
   "source": [
    "#### Table 13c - External package usage aggregated - count of internal types"
   ]
  },
  {
   "cell_type": "code",
   "execution_count": 43,
   "id": "40392b95",
   "metadata": {
    "execution": {
     "iopub.execute_input": "2024-04-24T06:15:54.158082Z",
     "iopub.status.busy": "2024-04-24T06:15:54.157654Z",
     "iopub.status.idle": "2024-04-24T06:15:54.164610Z",
     "shell.execute_reply": "2024-04-24T06:15:54.164159Z"
    }
   },
   "outputs": [
    {
     "data": {
      "text/html": [
       "<div>\n",
       "<style scoped>\n",
       "    .dataframe tbody tr th:only-of-type {\n",
       "        vertical-align: middle;\n",
       "    }\n",
       "\n",
       "    .dataframe tbody tr th {\n",
       "        vertical-align: top;\n",
       "    }\n",
       "\n",
       "    .dataframe thead th {\n",
       "        text-align: right;\n",
       "    }\n",
       "</style>\n",
       "<table border=\"1\" class=\"dataframe\">\n",
       "  <thead>\n",
       "    <tr style=\"text-align: right;\">\n",
       "      <th></th>\n",
       "      <th>artifactName</th>\n",
       "      <th>artifactTypes</th>\n",
       "      <th>numberOfExternalPackages</th>\n",
       "      <th>minNumberOfTypes</th>\n",
       "      <th>medNumberOfTypes</th>\n",
       "      <th>avgNumberOfTypes</th>\n",
       "      <th>maxNumberOfTypes</th>\n",
       "      <th>stdNumberOfTypes</th>\n",
       "    </tr>\n",
       "  </thead>\n",
       "  <tbody>\n",
       "  </tbody>\n",
       "</table>\n",
       "</div>"
      ],
      "text/plain": [
       "Empty DataFrame\n",
       "Columns: [artifactName, artifactTypes, numberOfExternalPackages, minNumberOfTypes, medNumberOfTypes, avgNumberOfTypes, maxNumberOfTypes, stdNumberOfTypes]\n",
       "Index: []"
      ]
     },
     "execution_count": 43,
     "metadata": {},
     "output_type": "execute_result"
    }
   ],
   "source": [
    "external_package_usage_aggregated_types = external_package_usage_aggregated[['artifactName', 'artifactTypes', 'numberOfExternalPackages', 'minNumberOfTypes', 'medNumberOfTypes', 'avgNumberOfTypes', 'maxNumberOfTypes', 'stdNumberOfTypes']]\n",
    "external_package_usage_aggregated_types.head(30)"
   ]
  },
  {
   "cell_type": "markdown",
   "id": "0eac5b93",
   "metadata": {},
   "source": [
    "#### Table 13d - External package usage aggregated - percentage of internal types"
   ]
  },
  {
   "cell_type": "code",
   "execution_count": 44,
   "id": "260cc520",
   "metadata": {
    "execution": {
     "iopub.execute_input": "2024-04-24T06:15:54.166775Z",
     "iopub.status.busy": "2024-04-24T06:15:54.166473Z",
     "iopub.status.idle": "2024-04-24T06:15:54.172094Z",
     "shell.execute_reply": "2024-04-24T06:15:54.171611Z"
    }
   },
   "outputs": [
    {
     "data": {
      "text/html": [
       "<div>\n",
       "<style scoped>\n",
       "    .dataframe tbody tr th:only-of-type {\n",
       "        vertical-align: middle;\n",
       "    }\n",
       "\n",
       "    .dataframe tbody tr th {\n",
       "        vertical-align: top;\n",
       "    }\n",
       "\n",
       "    .dataframe thead th {\n",
       "        text-align: right;\n",
       "    }\n",
       "</style>\n",
       "<table border=\"1\" class=\"dataframe\">\n",
       "  <thead>\n",
       "    <tr style=\"text-align: right;\">\n",
       "      <th></th>\n",
       "      <th>artifactName</th>\n",
       "      <th>artifactTypes</th>\n",
       "      <th>numberOfExternalPackages</th>\n",
       "      <th>minNumberOfTypesPercentage</th>\n",
       "      <th>medNumberOfTypesPercentage</th>\n",
       "      <th>avgNumberOfTypesPercentage</th>\n",
       "      <th>maxNumberOfTypesPercentage</th>\n",
       "      <th>stdNumberOfTypesPercentage</th>\n",
       "    </tr>\n",
       "  </thead>\n",
       "  <tbody>\n",
       "  </tbody>\n",
       "</table>\n",
       "</div>"
      ],
      "text/plain": [
       "Empty DataFrame\n",
       "Columns: [artifactName, artifactTypes, numberOfExternalPackages, minNumberOfTypesPercentage, medNumberOfTypesPercentage, avgNumberOfTypesPercentage, maxNumberOfTypesPercentage, stdNumberOfTypesPercentage]\n",
       "Index: []"
      ]
     },
     "execution_count": 44,
     "metadata": {},
     "output_type": "execute_result"
    }
   ],
   "source": [
    "external_package_usage_aggregated_types_percentage = external_package_usage_aggregated[['artifactName', 'artifactTypes', 'numberOfExternalPackages', 'minNumberOfTypesPercentage', 'medNumberOfTypesPercentage', 'avgNumberOfTypesPercentage', 'maxNumberOfTypesPercentage', 'stdNumberOfTypesPercentage']]\n",
    "external_package_usage_aggregated_types_percentage.head(30)"
   ]
  },
  {
   "cell_type": "markdown",
   "id": "d1a16e29",
   "metadata": {},
   "source": [
    "#### Table 13 Chart 1 - External package usage - max percentage of internal types\n",
    "\n",
    "This chart shows per artifact the maximum percentage of internal packages (compared to all packages in that artifact) that use one specific external package. \n",
    "\n",
    "**Example:** One artifact might use 10 external packages where 7 of them are used in one internal package, 2 of them are used in two packages and one external dependency is used in 5 packages. So for this artifact there will be a point at x = 10 (external packages used by the artifact) and 5 (max internal packages). Instead of the count the percentage of internal packages compared to all packages in that artifact is used to get a normalized plot."
   ]
  },
  {
   "cell_type": "code",
   "execution_count": 45,
   "id": "ad1db8af",
   "metadata": {
    "execution": {
     "iopub.execute_input": "2024-04-24T06:15:54.174427Z",
     "iopub.status.busy": "2024-04-24T06:15:54.174004Z",
     "iopub.status.idle": "2024-04-24T06:15:54.179817Z",
     "shell.execute_reply": "2024-04-24T06:15:54.179347Z"
    }
   },
   "outputs": [],
   "source": [
    "def annotate_plot(data_frame: pd.DataFrame, index: int):\n",
    "    \"\"\"\n",
    "    Annotates the data points identified by the \"index\" in the plot of the \"data_frame\" \n",
    "    \"\"\"\n",
    "    x_position = data_frame.numberOfExternalPackages[index].item()\n",
    "    y_position = data_frame.maxNumberOfPackagesPercentage[index].item()\n",
    "    artifact_name = data_frame.artifactName[index].item()\n",
    "\n",
    "    label_box=dict(boxstyle=\"round4,pad=0.5\", fc=\"w\", alpha=0.8)\n",
    "    plot.annotate(artifact_name\n",
    "        ,xy=(x_position, y_position)\n",
    "        ,xycoords='data'\n",
    "        ,xytext=(-30, -15)\n",
    "        ,textcoords='offset points'\n",
    "        ,size=6\n",
    "        ,bbox=label_box\n",
    "        ,arrowprops=dict(arrowstyle=\"-|>\", mutation_scale=10, color=\"black\")\n",
    "    )\n",
    "\n",
    "def index_of_sorted(data_frame: pd.DataFrame, highest: list[str] = []):\n",
    "    \"\"\"\n",
    "    Sorts the \"data_frame\" by columns 'numberOfExternalPackages','maxNumberOfPackagesPercentage','artifactPackages', 'artifactName'\n",
    "    and returns the index of the first row.\n",
    "    Columns that are contained in the list of strings parameter \"highest\" will be sorted descending (highest first).\n",
    "    \"\"\"\n",
    "    by = ['numberOfExternalPackages','maxNumberOfPackagesPercentage','artifactPackages', 'artifactName']\n",
    "    ascending = [('numberOfExternalPackages' not in highest), ('maxNumberOfPackagesPercentage' not in highest), False, True]\n",
    "    return data_frame.sort_values(by=by, ascending=ascending).head(1).index"
   ]
  },
  {
   "cell_type": "code",
   "execution_count": 46,
   "id": "615238d5",
   "metadata": {
    "execution": {
     "iopub.execute_input": "2024-04-24T06:15:54.181966Z",
     "iopub.status.busy": "2024-04-24T06:15:54.181609Z",
     "iopub.status.idle": "2024-04-24T06:15:54.186800Z",
     "shell.execute_reply": "2024-04-24T06:15:54.186297Z"
    }
   },
   "outputs": [
    {
     "name": "stdout",
     "output_type": "stream",
     "text": [
      "No data to plot\n"
     ]
    }
   ],
   "source": [
    "if external_package_usage_aggregated.empty:\n",
    "    print(\"No data to plot\")\n",
    "else:\n",
    "    plot.figure();\n",
    "    axes = external_package_usage_aggregated.plot(\n",
    "        kind='scatter',\n",
    "        title='External package usage - max internal packages %', \n",
    "        x='numberOfExternalPackages',\n",
    "        y='maxNumberOfPackagesPercentage',\n",
    "        s='artifactPackages',\n",
    "        c='stdNumberOfPackagesPercentage',\n",
    "        xlabel='external package count',\n",
    "        ylabel='max percentage of internal packages',\n",
    "        cmap=main_color_map,\n",
    "    )\n",
    "\n",
    "    # Annotate the largest artifact with the highest number of external packages and max number of packages in percentage\n",
    "    annotation_index = index_of_sorted(highest=['numberOfExternalPackages','maxNumberOfPackagesPercentage'], data_frame=external_package_usage_aggregated)\n",
    "    annotate_plot(external_package_usage_aggregated, annotation_index)\n",
    "\n",
    "\n",
    "    # Annotate the largest artifact with the lowest number of external packages and the highest max number of packages in percentage\n",
    "    annotation_index = index_of_sorted(highest=['maxNumberOfPackagesPercentage'], data_frame=external_package_usage_aggregated)\n",
    "    annotate_plot(external_package_usage_aggregated, annotation_index)\n",
    "\n",
    "    # Annotate the largest artifact with the lowest number of external packages and max number of packages in percentage\n",
    "    annotation_index = index_of_sorted(highest=[], data_frame=external_package_usage_aggregated)\n",
    "    annotate_plot(external_package_usage_aggregated, annotation_index)\n",
    "\n",
    "    plot.show()"
   ]
  },
  {
   "cell_type": "markdown",
   "id": "9b7cff51",
   "metadata": {},
   "source": [
    "#### Table 13 Chart 2 - External package usage - median percentage of internal types\n",
    "\n",
    "This chart shows per artifact the median (0.5 percentile) of internal packages (compared to all packages in that artifact) that use one specific external package. \n",
    "\n",
    "**Example:** One artifact might use 9 external packages where 3 of them are used in 1 internal package, 3 of them are used in 2 package and the last 3 ones are used in 3 packages. So for this artifact there will be a point at x = 10 (external packages used by the artifact) and 2 (median internal packages). Instead of the count the percentage of internal packages compared to all packages in that artifact is used to get a normalized plot."
   ]
  },
  {
   "cell_type": "code",
   "execution_count": 47,
   "id": "34d2595f",
   "metadata": {
    "execution": {
     "iopub.execute_input": "2024-04-24T06:15:54.189061Z",
     "iopub.status.busy": "2024-04-24T06:15:54.188911Z",
     "iopub.status.idle": "2024-04-24T06:15:54.192307Z",
     "shell.execute_reply": "2024-04-24T06:15:54.191834Z"
    }
   },
   "outputs": [
    {
     "name": "stdout",
     "output_type": "stream",
     "text": [
      "No data to plot\n"
     ]
    }
   ],
   "source": [
    "if external_package_usage_aggregated.empty:\n",
    "    print(\"No data to plot\")\n",
    "else:\n",
    "    plot.figure();\n",
    "    axes = external_package_usage_aggregated.plot(\n",
    "        kind='scatter',\n",
    "        title='External package usage - median internal packages %', \n",
    "        x='numberOfExternalPackages',\n",
    "        y='medNumberOfPackagesPercentage',\n",
    "        s='artifactPackages',\n",
    "        c='stdNumberOfPackagesPercentage',\n",
    "        xlabel='external package count',\n",
    "        ylabel='median percentage of internal packages',\n",
    "        cmap=main_color_map,\n",
    "    )\n",
    "    plot.show()"
   ]
  },
  {
   "attachments": {},
   "cell_type": "markdown",
   "id": "c2a1d4b6",
   "metadata": {},
   "source": [
    "## Maven POMs\n",
    "\n",
    "\n",
    "### Table 14 - Maven POMs and their declared dependencies\n",
    "\n",
    "If Maven is used as for package and dependency management and a \".pom\" file is included in the artifact, the following table shows the external dependencies that are declared there."
   ]
  },
  {
   "cell_type": "code",
   "execution_count": 48,
   "id": "d4478ca3",
   "metadata": {
    "execution": {
     "iopub.execute_input": "2024-04-24T06:15:54.194523Z",
     "iopub.status.busy": "2024-04-24T06:15:54.194372Z",
     "iopub.status.idle": "2024-04-24T06:15:54.211043Z",
     "shell.execute_reply": "2024-04-24T06:15:54.210512Z"
    }
   },
   "outputs": [
    {
     "data": {
      "text/html": [
       "<div>\n",
       "<style scoped>\n",
       "    .dataframe tbody tr th:only-of-type {\n",
       "        vertical-align: middle;\n",
       "    }\n",
       "\n",
       "    .dataframe tbody tr th {\n",
       "        vertical-align: top;\n",
       "    }\n",
       "\n",
       "    .dataframe thead th {\n",
       "        text-align: right;\n",
       "    }\n",
       "</style>\n",
       "<table border=\"1\" class=\"dataframe\">\n",
       "  <thead>\n",
       "    <tr style=\"text-align: right;\">\n",
       "      <th></th>\n",
       "      <th>pom.artifactId</th>\n",
       "      <th>pom.name</th>\n",
       "      <th>scope</th>\n",
       "      <th>dependency.optional</th>\n",
       "      <th>dependentArtifact.group</th>\n",
       "      <th>dependentArtifact.name</th>\n",
       "    </tr>\n",
       "  </thead>\n",
       "  <tbody>\n",
       "  </tbody>\n",
       "</table>\n",
       "</div>"
      ],
      "text/plain": [
       "Empty DataFrame\n",
       "Columns: [pom.artifactId, pom.name, scope, dependency.optional, dependentArtifact.group, dependentArtifact.name]\n",
       "Index: []"
      ]
     },
     "execution_count": 48,
     "metadata": {},
     "output_type": "execute_result"
    }
   ],
   "source": [
    "query_cypher_to_data_frame(\"../cypher/External_Dependencies/Maven_POMs_and_their_declared_dependencies.cypher\")"
   ]
  },
  {
   "cell_type": "code",
   "execution_count": 49,
   "id": "46baa3c1",
   "metadata": {
    "execution": {
     "iopub.execute_input": "2024-04-24T06:15:54.213423Z",
     "iopub.status.busy": "2024-04-24T06:15:54.213267Z",
     "iopub.status.idle": "2024-04-24T06:15:54.216088Z",
     "shell.execute_reply": "2024-04-24T06:15:54.215619Z"
    }
   },
   "outputs": [],
   "source": [
    "driver.close()"
   ]
  }
 ],
 "metadata": {
  "authors": [
   {
    "name": "JohT"
   }
  ],
  "celltoolbar": "Tags",
  "kernelspec": {
   "display_name": "Python 3 (ipykernel)",
   "language": "python",
   "name": "python3"
  },
  "language_info": {
   "codemirror_mode": {
    "name": "ipython",
    "version": 3
   },
   "file_extension": ".py",
   "mimetype": "text/x-python",
   "name": "python",
   "nbconvert_exporter": "python",
   "pygments_lexer": "ipython3",
   "version": "3.11.0"
  },
  "title": "Object Oriented Design Quality Metrics for Java with Neo4j"
 },
 "nbformat": 4,
 "nbformat_minor": 5
}
