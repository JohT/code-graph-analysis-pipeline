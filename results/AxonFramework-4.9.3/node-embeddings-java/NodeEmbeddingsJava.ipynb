{
 "cells": [
  {
   "attachments": {},
   "cell_type": "markdown",
   "id": "2f0eabc4",
   "metadata": {},
   "source": [
    "# Node Embeddings\n",
    "\n",
    "This notebook demonstrates different methods for node embeddings and how to further reduce their dimensionality to be able to visualize them in a 2D plot. \n",
    "\n",
    "Node embeddings are essentially an array of floating point numbers (length = embedding dimension) that can be used as \"features\" in machine learning. These numbers approximate the relationship and similarity information of each node and can also be seen as a way to encode the topology of the graph.\n",
    "\n",
    "## Considerations\n",
    "\n",
    "Due to dimensionality reduction some information gets lost, especially when visualizing node embeddings in two dimensions. Nevertheless, it helps to get an intuition on what node embeddings are and how much of the similarity and neighborhood information is retained. The latter can be observed by how well nodes of the same color and therefore same community are placed together and how much bigger nodes with a high centrality score influence them. \n",
    "\n",
    "If the visualization doesn't show a somehow clear separation between the communities (colors) here are some ideas for tuning: \n",
    "- Clean the data, e.g. filter out very few nodes with extremely high degree that aren't actually that important\n",
    "- Try directed vs. undirected projections\n",
    "- Tune the embedding algorithm, e.g. use a higher dimensionality\n",
    "- Tune t-SNE that is used to reduce the node embeddings dimension to two dimensions for visualization. \n",
    "\n",
    "It could also be the case that the node embeddings are good enough and well suited the way they are despite their visualization for the down stream task like node classification or link prediction. In that case it makes sense to see how the whole pipeline performs before tuning the node embeddings in detail. \n",
    "\n",
    "## Note about data dependencies\n",
    "\n",
    "PageRank centrality and Leiden community are also fetched from the Graph and need to be calculated first.\n",
    "This makes it easier to see if the embeddings approximate the structural information of the graph in the plot.\n",
    "If these properties are missing you will only see black dots all of the same size.\n",
    "\n",
    "<br>  \n",
    "\n",
    "### References\n",
    "- [jqassistant](https://jqassistant.org)\n",
    "- [Neo4j Python Driver](https://neo4j.com/docs/api/python-driver/current)\n",
    "- [Tutorial: Applied Graph Embeddings](https://neo4j.com/developer/graph-data-science/applied-graph-embeddings)\n",
    "- [Visualizing the embeddings in 2D](https://github.com/openai/openai-cookbook/blob/main/examples/Visualizing_embeddings_in_2D.ipynb)\n",
    "- [scikit-learn TSNE](https://scikit-learn.org/stable/modules/generated/sklearn.manifold.TSNE.html#sklearn.manifold.TSNE)\n",
    "- [AttributeError: 'list' object has no attribute 'shape'](https://bobbyhadz.com/blog/python-attributeerror-list-object-has-no-attribute-shape)\n",
    "- [Fast Random Projection (neo4j)](https://neo4j.com/docs/graph-data-science/current/machine-learning/node-embeddings/fastrp)\n",
    "- [HashGNN (neo4j)](https://neo4j.com/docs/graph-data-science/2.6/machine-learning/node-embeddings/hashgnn)\n",
    "- [node2vec (neo4j)](https://neo4j.com/docs/graph-data-science/current/machine-learning/node-embeddings/node2vec) computes a vector representation of a node based on second order random walks in the graph. \n",
    "- [Complete guide to understanding Node2Vec algorithm](https://towardsdatascience.com/complete-guide-to-understanding-node2vec-algorithm-4e9a35e5d147)"
   ]
  },
  {
   "cell_type": "code",
   "execution_count": 1,
   "id": "4191f259",
   "metadata": {
    "execution": {
     "iopub.execute_input": "2024-07-08T10:27:08.538201Z",
     "iopub.status.busy": "2024-07-08T10:27:08.538027Z",
     "iopub.status.idle": "2024-07-08T10:27:09.361857Z",
     "shell.execute_reply": "2024-07-08T10:27:09.361287Z"
    }
   },
   "outputs": [],
   "source": [
    "import os\n",
    "from IPython.display import display\n",
    "import pandas as pd\n",
    "import matplotlib.pyplot as plot\n",
    "import typing as typ\n",
    "import numpy as np\n",
    "from openTSNE.sklearn import TSNE\n",
    "from neo4j import GraphDatabase"
   ]
  },
  {
   "cell_type": "code",
   "execution_count": 2,
   "id": "f8ef41ff",
   "metadata": {
    "execution": {
     "iopub.execute_input": "2024-07-08T10:27:09.364594Z",
     "iopub.status.busy": "2024-07-08T10:27:09.364252Z",
     "iopub.status.idle": "2024-07-08T10:27:09.367580Z",
     "shell.execute_reply": "2024-07-08T10:27:09.367099Z"
    }
   },
   "outputs": [
    {
     "name": "stdout",
     "output_type": "stream",
     "text": [
      "The openTSNE version is: 1.0.1\n",
      "The pandas version is: 1.5.1\n"
     ]
    }
   ],
   "source": [
    "from openTSNE import __version__ as openTSNE_version\n",
    "print('The openTSNE version is: {}'.format(openTSNE_version))\n",
    "print('The pandas version is: {}'.format(pd.__version__))\n"
   ]
  },
  {
   "cell_type": "code",
   "execution_count": 3,
   "id": "1c5dab37",
   "metadata": {
    "execution": {
     "iopub.execute_input": "2024-07-08T10:27:09.369660Z",
     "iopub.status.busy": "2024-07-08T10:27:09.369349Z",
     "iopub.status.idle": "2024-07-08T10:27:09.376403Z",
     "shell.execute_reply": "2024-07-08T10:27:09.375925Z"
    }
   },
   "outputs": [],
   "source": [
    "# Please set the environment variable \"NEO4J_INITIAL_PASSWORD\" in your shell \n",
    "# before starting jupyter notebook to provide the password for the user \"neo4j\". \n",
    "# It is not recommended to hardcode the password into jupyter notebook for security reasons.\n",
    "\n",
    "driver = GraphDatabase.driver(uri=\"bolt://localhost:7687\", auth=(\"neo4j\", os.environ.get(\"NEO4J_INITIAL_PASSWORD\")))\n",
    "driver.verify_connectivity()"
   ]
  },
  {
   "cell_type": "code",
   "execution_count": 4,
   "id": "c1db254b",
   "metadata": {
    "execution": {
     "iopub.execute_input": "2024-07-08T10:27:09.378394Z",
     "iopub.status.busy": "2024-07-08T10:27:09.378122Z",
     "iopub.status.idle": "2024-07-08T10:27:09.380703Z",
     "shell.execute_reply": "2024-07-08T10:27:09.380238Z"
    }
   },
   "outputs": [],
   "source": [
    "def get_cypher_query_from_file(filename):\n",
    "    with open(filename) as file:\n",
    "        return ' '.join(file.readlines())"
   ]
  },
  {
   "cell_type": "code",
   "execution_count": 5,
   "id": "59310f6f",
   "metadata": {
    "execution": {
     "iopub.execute_input": "2024-07-08T10:27:09.382672Z",
     "iopub.status.busy": "2024-07-08T10:27:09.382367Z",
     "iopub.status.idle": "2024-07-08T10:27:09.385192Z",
     "shell.execute_reply": "2024-07-08T10:27:09.384785Z"
    }
   },
   "outputs": [],
   "source": [
    "def query_cypher_to_data_frame(filename, parameters_: typ.Optional[typ.Dict[str, typ.Any]] = None):\n",
    "    records, summary, keys = driver.execute_query(get_cypher_query_from_file(filename),parameters_=parameters_)\n",
    "    return pd.DataFrame([r.values() for r in records], columns=keys)"
   ]
  },
  {
   "cell_type": "code",
   "execution_count": 6,
   "id": "bd1d9775",
   "metadata": {
    "execution": {
     "iopub.execute_input": "2024-07-08T10:27:09.387274Z",
     "iopub.status.busy": "2024-07-08T10:27:09.386977Z",
     "iopub.status.idle": "2024-07-08T10:27:09.390154Z",
     "shell.execute_reply": "2024-07-08T10:27:09.389671Z"
    }
   },
   "outputs": [],
   "source": [
    "def query_first_non_empty_cypher_to_data_frame(*filenames : str, parameters: typ.Optional[typ.Dict[str, typ.Any]] = None):\n",
    "    \"\"\"\n",
    "    Executes the Cypher queries of the given files and returns the first result that is not empty.\n",
    "    If all given file names result in empty results, the last (empty) result will be returned.\n",
    "    By additionally specifying \"limit=\" the \"LIMIT\" keyword will appended to query so that only the first results get returned.\n",
    "    \"\"\"\n",
    "    result=pd.DataFrame()\n",
    "    for filename in filenames:\n",
    "        result=query_cypher_to_data_frame(filename, parameters)\n",
    "        if not result.empty:\n",
    "            print(\"The results have been provided by the query filename: \" + filename)\n",
    "            return result\n",
    "    return result"
   ]
  },
  {
   "cell_type": "code",
   "execution_count": 7,
   "id": "7d2e62d6",
   "metadata": {
    "execution": {
     "iopub.execute_input": "2024-07-08T10:27:09.392128Z",
     "iopub.status.busy": "2024-07-08T10:27:09.391843Z",
     "iopub.status.idle": "2024-07-08T10:27:09.395046Z",
     "shell.execute_reply": "2024-07-08T10:27:09.394660Z"
    }
   },
   "outputs": [],
   "source": [
    "# TODO option to choose between directed and undirected projection\n",
    "\n",
    "def create_undirected_projection(parameters: dict) -> bool: \n",
    "    \"\"\"\n",
    "    Creates an undirected homogenous in-memory Graph projection for/with Neo4j Graph Data Science Plugin.\n",
    "    It returns True if there is data available for the given parameter and False otherwise.\n",
    "    Parameters\n",
    "    ----------\n",
    "    dependencies_projection : str\n",
    "        The name prefix for the in-memory projection for dependencies. Example: \"java-package-embeddings-notebook\"\n",
    "    dependencies_projection_node : str\n",
    "        The label of the nodes that will be used for the projection. Example: \"Package\"\n",
    "    dependencies_projection_weight_property : str\n",
    "        The name of the node property that contains the dependency weight. Example: \"weight25PercentInterfaces\"\n",
    "    dependencies_projection_embedding_dimension : str\n",
    "        The number of the dimensions and therefore size of the resulting array of floating point numbers\n",
    "    \"\"\"\n",
    "    \n",
    "    is_data_missing=query_cypher_to_data_frame(\"../cypher/Dependencies_Projection/Dependencies_0_Check_Projectable.cypher\", parameters).empty\n",
    "    if is_data_missing: return False\n",
    "\n",
    "    query_cypher_to_data_frame(\"../cypher/Dependencies_Projection/Dependencies_1_Delete_Projection.cypher\", parameters)\n",
    "    query_cypher_to_data_frame(\"../cypher/Dependencies_Projection/Dependencies_2_Delete_Subgraph.cypher\", parameters)\n",
    "    # To include the direction of the relationships use the following line to create the projection:\n",
    "    # query_cypher_to_data_frame(\"../cypher/Dependencies_Projection/Dependencies_3_Create_Projection.cypher\", parameters)\n",
    "    query_cypher_to_data_frame(\"../cypher/Dependencies_Projection/Dependencies_4_Create_Undirected_Projection.cypher\", parameters)\n",
    "    query_cypher_to_data_frame(\"../cypher/Dependencies_Projection/Dependencies_5_Create_Subgraph.cypher\", parameters)\n",
    "    return True"
   ]
  },
  {
   "cell_type": "code",
   "execution_count": 8,
   "id": "1aa86093",
   "metadata": {
    "execution": {
     "iopub.execute_input": "2024-07-08T10:27:09.397009Z",
     "iopub.status.busy": "2024-07-08T10:27:09.396717Z",
     "iopub.status.idle": "2024-07-08T10:27:09.400334Z",
     "shell.execute_reply": "2024-07-08T10:27:09.399943Z"
    }
   },
   "outputs": [],
   "source": [
    "# Feature ideas\n",
    "# TODO option to choose between directed and undirected projection\n",
    "# TODO option to not read already existing node embeddings to experiment with different (hpyer) parameters\n",
    "# TODO run a community detection algorithm co-located in here when \"communityId\" is missing\n",
    "# TODO run a centrality algorithm co-located in here when \"centrality\" score is missing\n",
    "\n",
    "def create_node_embeddings(cypher_file_name: str, parameters: dict) -> pd.DataFrame: \n",
    "    \"\"\"\n",
    "    Creates an in-memory Graph projection by calling \"create_undirected_projection\", \n",
    "    runs the cypher Query given as cypherFileName parameter to calculate and stream the node embeddings\n",
    "    and returns a DataFrame with the results.\n",
    "    \n",
    "    cypher_file_name\n",
    "    ----------\n",
    "    Name of the file containing the Cypher query that executes node embeddings procedure.\n",
    "\n",
    "    parameters\n",
    "    ----------\n",
    "    dependencies_projection : str\n",
    "        The name prefix for the in-memory projection for dependencies. Example: \"java-package-embeddings-notebook\"\n",
    "    dependencies_projection_node : str\n",
    "        The label of the nodes that will be used for the projection. Example: \"Package\"\n",
    "    dependencies_projection_weight_property : str\n",
    "        The name of the node property that contains the dependency weight. Example: \"weight25PercentInterfaces\"\n",
    "    dependencies_projection_embedding_dimension : str\n",
    "        The number of the dimensions and therefore size of the resulting array of floating point numbers\n",
    "    \"\"\"\n",
    "    \n",
    "    is_data_available=create_undirected_projection(parameters)\n",
    "    \n",
    "    if not is_data_available:\n",
    "        print(\"No projected data for node embeddings calculation available\")\n",
    "        empty_result = pd.DataFrame(columns=[\"codeUnitName\", 'projectName', 'communityId', 'centrality', 'embedding'])\n",
    "        return empty_result\n",
    "\n",
    "    existing_embeddings_query_filename=\"../cypher/Node_Embeddings/Node_Embeddings_0a_Query_Calculated.cypher\"\n",
    "    embeddings = query_first_non_empty_cypher_to_data_frame(existing_embeddings_query_filename, cypher_file_name, parameters=parameters)\n",
    "    display(embeddings.head()) # Display the first entries of the table\n",
    "    return embeddings"
   ]
  },
  {
   "cell_type": "markdown",
   "id": "f6ec6a9b",
   "metadata": {},
   "source": [
    "### Dimensionality reduction with t-distributed stochastic neighbor embedding (t-SNE)\n",
    "\n",
    "The following function takes the original node embeddings with a higher dimensionality, e.g. 64 floating point numbers, and reduces them into a two dimensional array for visualization. \n",
    "\n",
    "> It converts similarities between data points to joint probabilities and tries to minimize the Kullback-Leibler divergence between the joint probabilities of the low-dimensional embedding and the high-dimensional data.\n",
    "\n",
    "(see https://opentsne.readthedocs.io)"
   ]
  },
  {
   "cell_type": "code",
   "execution_count": 9,
   "id": "720aebd3",
   "metadata": {
    "execution": {
     "iopub.execute_input": "2024-07-08T10:27:09.402358Z",
     "iopub.status.busy": "2024-07-08T10:27:09.402005Z",
     "iopub.status.idle": "2024-07-08T10:27:09.406236Z",
     "shell.execute_reply": "2024-07-08T10:27:09.405642Z"
    }
   },
   "outputs": [],
   "source": [
    "def prepare_node_embeddings_for_2d_visualization(embeddings: pd.DataFrame) -> pd.DataFrame:\n",
    "    \"\"\"\n",
    "    Reduces the dimensionality of the node embeddings (e.g. 64 floating point numbers in an array)\n",
    "    to two dimensions for 2D visualization.\n",
    "    see https://opentsne.readthedocs.io\n",
    "    \"\"\"\n",
    "\n",
    "    if embeddings.empty: \n",
    "        print(\"No projected data for node embeddings dimensionality reduction available\")\n",
    "        return embeddings\n",
    "    \n",
    "    # Calling the fit_transform method just with a list doesn't seem to work (anymore?). \n",
    "    # It leads to an error with the following message: 'list' object has no attribute 'shape'\n",
    "    # This can be solved by converting the list to a numpy array using np.array(..).\n",
    "    # See https://bobbyhadz.com/blog/python-attributeerror-list-object-has-no-attribute-shape\n",
    "    embeddings_as_numpy_array = np.array(embeddings.embedding.to_list())\n",
    "\n",
    "    # Use t-distributed stochastic neighbor embedding (t-SNE) to reduce the dimensionality \n",
    "    # of the previously calculated node embeddings to 2 dimensions for visualization\n",
    "    t_distributed_stochastic_neighbor_embedding = TSNE(n_components=2, verbose=1, random_state=47)\n",
    "    two_dimension_node_embeddings = t_distributed_stochastic_neighbor_embedding.fit_transform(embeddings_as_numpy_array)\n",
    "    display(two_dimension_node_embeddings.shape) # Display the shape of the t-SNE result\n",
    "\n",
    "    # Create a new DataFrame with the results of the 2 dimensional node embeddings\n",
    "    # and the code unit and artifact name of the query above as preparation for the plot\n",
    "    node_embeddings_for_visualization = pd.DataFrame(data = {\n",
    "        \"codeUnit\": embeddings.codeUnitName,\n",
    "        \"artifact\": embeddings.projectName,\n",
    "        \"communityId\": embeddings.communityId,\n",
    "        \"centrality\": embeddings.centrality,\n",
    "        \"x\": [value[0] for value in two_dimension_node_embeddings],\n",
    "        \"y\": [value[1] for value in two_dimension_node_embeddings]\n",
    "    })\n",
    "    display(node_embeddings_for_visualization.head()) # Display the first line of the results\n",
    "    return node_embeddings_for_visualization\n",
    "    "
   ]
  },
  {
   "cell_type": "code",
   "execution_count": 10,
   "id": "d937e26e",
   "metadata": {
    "execution": {
     "iopub.execute_input": "2024-07-08T10:27:09.408022Z",
     "iopub.status.busy": "2024-07-08T10:27:09.407871Z",
     "iopub.status.idle": "2024-07-08T10:27:09.410750Z",
     "shell.execute_reply": "2024-07-08T10:27:09.410338Z"
    }
   },
   "outputs": [],
   "source": [
    "def plot_2d_node_embeddings(node_embeddings_for_visualization: pd.DataFrame, title: str):\n",
    "    if embeddings.empty:\n",
    "        print(\"No projected data to plot available\")\n",
    "        return\n",
    "\n",
    "    plot.scatter(\n",
    "        x=node_embeddings_for_visualization.x,\n",
    "        y=node_embeddings_for_visualization.y,\n",
    "        s=node_embeddings_for_visualization.centrality * 300,\n",
    "        c=node_embeddings_for_visualization.communityId,\n",
    "        cmap=main_color_map,\n",
    "    )\n",
    "    plot.title(title)\n",
    "    plot.show()"
   ]
  },
  {
   "cell_type": "code",
   "execution_count": 11,
   "id": "da9e8edb",
   "metadata": {
    "execution": {
     "iopub.execute_input": "2024-07-08T10:27:09.412456Z",
     "iopub.status.busy": "2024-07-08T10:27:09.412306Z",
     "iopub.status.idle": "2024-07-08T10:27:09.414502Z",
     "shell.execute_reply": "2024-07-08T10:27:09.414114Z"
    }
   },
   "outputs": [],
   "source": [
    "#The following cell uses the build-in %html \"magic\" to override the CSS style for tables to a much smaller size.\n",
    "#This is especially needed for PDF export of tables with multiple columns."
   ]
  },
  {
   "cell_type": "code",
   "execution_count": 12,
   "id": "9deaabce",
   "metadata": {
    "execution": {
     "iopub.execute_input": "2024-07-08T10:27:09.416220Z",
     "iopub.status.busy": "2024-07-08T10:27:09.416072Z",
     "iopub.status.idle": "2024-07-08T10:27:09.422756Z",
     "shell.execute_reply": "2024-07-08T10:27:09.422356Z"
    }
   },
   "outputs": [
    {
     "data": {
      "text/html": [
       "<style>\n",
       "/* CSS style for smaller dataframe tables. */\n",
       ".dataframe th {\n",
       "    font-size: 8px;\n",
       "}\n",
       ".dataframe td {\n",
       "    font-size: 8px;\n",
       "}\n",
       "</style>\n"
      ],
      "text/plain": [
       "<IPython.core.display.HTML object>"
      ]
     },
     "metadata": {},
     "output_type": "display_data"
    }
   ],
   "source": [
    "%%html\n",
    "<style>\n",
    "/* CSS style for smaller dataframe tables. */\n",
    ".dataframe th {\n",
    "    font-size: 8px;\n",
    "}\n",
    ".dataframe td {\n",
    "    font-size: 8px;\n",
    "}\n",
    "</style>"
   ]
  },
  {
   "cell_type": "code",
   "execution_count": 13,
   "id": "c2496caf",
   "metadata": {
    "execution": {
     "iopub.execute_input": "2024-07-08T10:27:09.424457Z",
     "iopub.status.busy": "2024-07-08T10:27:09.424310Z",
     "iopub.status.idle": "2024-07-08T10:27:09.426597Z",
     "shell.execute_reply": "2024-07-08T10:27:09.426199Z"
    }
   },
   "outputs": [],
   "source": [
    "# Main Colormap\n",
    "main_color_map = 'nipy_spectral'"
   ]
  },
  {
   "cell_type": "markdown",
   "id": "0c68aa20",
   "metadata": {},
   "source": [
    "## 1. Java Packages"
   ]
  },
  {
   "cell_type": "markdown",
   "id": "145dca19",
   "metadata": {},
   "source": [
    "### 1.1 Generate Node Embeddings using Fast Random Projection (Fast RP) for Java Packages\n",
    "\n",
    "[Fast Random Projection](https://neo4j.com/docs/graph-data-science/current/machine-learning/node-embeddings/fastrp) is used to reduce the dimensionality of the node feature space while preserving most of the distance information. Nodes with similar neighborhood result in node embedding with similar vectors.\n",
    "\n",
    "**👉Hint:** To skip existing node embeddings and always calculate them based on the parameters below edit `Node_Embeddings_0a_Query_Calculated` so that it won't return any results."
   ]
  },
  {
   "cell_type": "code",
   "execution_count": 14,
   "id": "8efca2cf",
   "metadata": {
    "execution": {
     "iopub.execute_input": "2024-07-08T10:27:09.428743Z",
     "iopub.status.busy": "2024-07-08T10:27:09.428453Z",
     "iopub.status.idle": "2024-07-08T10:27:09.604831Z",
     "shell.execute_reply": "2024-07-08T10:27:09.604328Z"
    }
   },
   "outputs": [
    {
     "name": "stdout",
     "output_type": "stream",
     "text": [
      "The results have been provided by the query filename: ../cypher/Node_Embeddings/Node_Embeddings_0a_Query_Calculated.cypher\n"
     ]
    },
    {
     "data": {
      "text/html": [
       "<div>\n",
       "<style scoped>\n",
       "    .dataframe tbody tr th:only-of-type {\n",
       "        vertical-align: middle;\n",
       "    }\n",
       "\n",
       "    .dataframe tbody tr th {\n",
       "        vertical-align: top;\n",
       "    }\n",
       "\n",
       "    .dataframe thead th {\n",
       "        text-align: right;\n",
       "    }\n",
       "</style>\n",
       "<table border=\"1\" class=\"dataframe\">\n",
       "  <thead>\n",
       "    <tr style=\"text-align: right;\">\n",
       "      <th></th>\n",
       "      <th>codeUnitName</th>\n",
       "      <th>shortCodeUnitName</th>\n",
       "      <th>projectName</th>\n",
       "      <th>communityId</th>\n",
       "      <th>centrality</th>\n",
       "      <th>embedding</th>\n",
       "    </tr>\n",
       "  </thead>\n",
       "  <tbody>\n",
       "    <tr>\n",
       "      <th>0</th>\n",
       "      <td>org.axonframework.eventsourcing</td>\n",
       "      <td>eventsourcing</td>\n",
       "      <td>axon-eventsourcing-4.9.3</td>\n",
       "      <td>0</td>\n",
       "      <td>0.109854</td>\n",
       "      <td>[0.1830180436372757, 0.0023109931498765945, -0...</td>\n",
       "    </tr>\n",
       "    <tr>\n",
       "      <th>1</th>\n",
       "      <td>org.axonframework.eventsourcing.conflictresolu...</td>\n",
       "      <td>conflictresolution</td>\n",
       "      <td>axon-eventsourcing-4.9.3</td>\n",
       "      <td>0</td>\n",
       "      <td>0.043972</td>\n",
       "      <td>[0.19601082801818848, 0.047392915934324265, -0...</td>\n",
       "    </tr>\n",
       "    <tr>\n",
       "      <th>2</th>\n",
       "      <td>org.axonframework.eventsourcing.eventstore</td>\n",
       "      <td>eventstore</td>\n",
       "      <td>axon-eventsourcing-4.9.3</td>\n",
       "      <td>0</td>\n",
       "      <td>0.183029</td>\n",
       "      <td>[0.15067756175994873, -0.07872287929058075, -0...</td>\n",
       "    </tr>\n",
       "    <tr>\n",
       "      <th>3</th>\n",
       "      <td>org.axonframework.eventsourcing.eventstore.inm...</td>\n",
       "      <td>inmemory</td>\n",
       "      <td>axon-eventsourcing-4.9.3</td>\n",
       "      <td>0</td>\n",
       "      <td>0.016509</td>\n",
       "      <td>[0.18988792598247528, -0.11307880282402039, -0...</td>\n",
       "    </tr>\n",
       "    <tr>\n",
       "      <th>4</th>\n",
       "      <td>org.axonframework.eventsourcing.eventstore.jdbc</td>\n",
       "      <td>jdbc</td>\n",
       "      <td>axon-eventsourcing-4.9.3</td>\n",
       "      <td>0</td>\n",
       "      <td>0.041023</td>\n",
       "      <td>[0.06808502972126007, -0.040192414075136185, -...</td>\n",
       "    </tr>\n",
       "  </tbody>\n",
       "</table>\n",
       "</div>"
      ],
      "text/plain": [
       "                                        codeUnitName   shortCodeUnitName  \\\n",
       "0                    org.axonframework.eventsourcing       eventsourcing   \n",
       "1  org.axonframework.eventsourcing.conflictresolu...  conflictresolution   \n",
       "2         org.axonframework.eventsourcing.eventstore          eventstore   \n",
       "3  org.axonframework.eventsourcing.eventstore.inm...            inmemory   \n",
       "4    org.axonframework.eventsourcing.eventstore.jdbc                jdbc   \n",
       "\n",
       "                projectName  communityId  centrality  \\\n",
       "0  axon-eventsourcing-4.9.3            0    0.109854   \n",
       "1  axon-eventsourcing-4.9.3            0    0.043972   \n",
       "2  axon-eventsourcing-4.9.3            0    0.183029   \n",
       "3  axon-eventsourcing-4.9.3            0    0.016509   \n",
       "4  axon-eventsourcing-4.9.3            0    0.041023   \n",
       "\n",
       "                                           embedding  \n",
       "0  [0.1830180436372757, 0.0023109931498765945, -0...  \n",
       "1  [0.19601082801818848, 0.047392915934324265, -0...  \n",
       "2  [0.15067756175994873, -0.07872287929058075, -0...  \n",
       "3  [0.18988792598247528, -0.11307880282402039, -0...  \n",
       "4  [0.06808502972126007, -0.040192414075136185, -...  "
      ]
     },
     "metadata": {},
     "output_type": "display_data"
    }
   ],
   "source": [
    "java_package_embeddings_parameters={\n",
    "    \"dependencies_projection\": \"java-package-embeddings-notebook\",\n",
    "    \"dependencies_projection_node\": \"Package\",\n",
    "    \"dependencies_projection_weight_property\": \"weight25PercentInterfaces\",\n",
    "    \"dependencies_projection_write_property\": \"embeddingsFastRandomProjection\",\n",
    "    \"dependencies_projection_embedding_dimension\":\"32\"\n",
    "}\n",
    "embeddings = create_node_embeddings(\"../cypher/Node_Embeddings/Node_Embeddings_1d_Fast_Random_Projection_Stream.cypher\", java_package_embeddings_parameters)\n"
   ]
  },
  {
   "cell_type": "markdown",
   "id": "76d8bca1",
   "metadata": {},
   "source": [
    "### 1.2 Dimensionality reduction with t-distributed stochastic neighbor embedding (t-SNE)\n",
    "\n",
    "This step takes the original node embeddings with a higher dimensionality, e.g. 64 floating point numbers, and reduces them into a two dimensional array for visualization. For more details look up the function declaration for \"prepare_node_embeddings_for_2d_visualization\"."
   ]
  },
  {
   "cell_type": "code",
   "execution_count": 15,
   "id": "031abacc",
   "metadata": {
    "execution": {
     "iopub.execute_input": "2024-07-08T10:27:09.607166Z",
     "iopub.status.busy": "2024-07-08T10:27:09.606857Z",
     "iopub.status.idle": "2024-07-08T10:27:10.100263Z",
     "shell.execute_reply": "2024-07-08T10:27:10.099845Z"
    }
   },
   "outputs": [
    {
     "name": "stdout",
     "output_type": "stream",
     "text": [
      "--------------------------------------------------------------------------------\n",
      "TSNE(early_exaggeration=12, random_state=47, verbose=1)\n",
      "--------------------------------------------------------------------------------\n",
      "===> Finding 90 nearest neighbors using exact search using euclidean distance...\n",
      "   --> Time elapsed: 0.03 seconds\n",
      "===> Calculating affinity matrix...\n",
      "   --> Time elapsed: 0.00 seconds\n",
      "===> Calculating PCA-based initialization...\n",
      "   --> Time elapsed: 0.00 seconds\n",
      "===> Running optimization with exaggeration=12.00, lr=7.75 for 250 iterations...\n",
      "Iteration   50, KL divergence -0.3922, 50 iterations in 0.0348 sec\n",
      "Iteration  100, KL divergence 1.0030, 50 iterations in 0.0130 sec\n",
      "Iteration  150, KL divergence 1.0030, 50 iterations in 0.0124 sec\n",
      "Iteration  200, KL divergence 1.0030, 50 iterations in 0.0124 sec\n",
      "Iteration  250, KL divergence 1.0030, 50 iterations in 0.0123 sec\n",
      "   --> Time elapsed: 0.08 seconds\n",
      "===> Running optimization with exaggeration=1.00, lr=93.00 for 500 iterations...\n",
      "Iteration   50, KL divergence 0.1009, 50 iterations in 0.0397 sec\n",
      "Iteration  100, KL divergence 0.0779, 50 iterations in 0.0527 sec\n",
      "Iteration  150, KL divergence 0.0743, 50 iterations in 0.0340 sec\n",
      "Iteration  200, KL divergence 0.0774, 50 iterations in 0.0352 sec\n",
      "Iteration  250, KL divergence 0.0784, 50 iterations in 0.0346 sec\n",
      "Iteration  300, KL divergence 0.0777, 50 iterations in 0.0337 sec\n",
      "Iteration  350, KL divergence 0.0734, 50 iterations in 0.0328 sec\n",
      "Iteration  400, KL divergence 0.0756, 50 iterations in 0.0346 sec\n",
      "Iteration  450, KL divergence 0.0775, 50 iterations in 0.0352 sec\n",
      "Iteration  500, KL divergence 0.0779, 50 iterations in 0.0346 sec\n",
      "   --> Time elapsed: 0.37 seconds\n"
     ]
    },
    {
     "data": {
      "text/plain": [
       "(93, 2)"
      ]
     },
     "metadata": {},
     "output_type": "display_data"
    },
    {
     "data": {
      "text/html": [
       "<div>\n",
       "<style scoped>\n",
       "    .dataframe tbody tr th:only-of-type {\n",
       "        vertical-align: middle;\n",
       "    }\n",
       "\n",
       "    .dataframe tbody tr th {\n",
       "        vertical-align: top;\n",
       "    }\n",
       "\n",
       "    .dataframe thead th {\n",
       "        text-align: right;\n",
       "    }\n",
       "</style>\n",
       "<table border=\"1\" class=\"dataframe\">\n",
       "  <thead>\n",
       "    <tr style=\"text-align: right;\">\n",
       "      <th></th>\n",
       "      <th>codeUnit</th>\n",
       "      <th>artifact</th>\n",
       "      <th>communityId</th>\n",
       "      <th>centrality</th>\n",
       "      <th>x</th>\n",
       "      <th>y</th>\n",
       "    </tr>\n",
       "  </thead>\n",
       "  <tbody>\n",
       "    <tr>\n",
       "      <th>0</th>\n",
       "      <td>org.axonframework.eventsourcing</td>\n",
       "      <td>axon-eventsourcing-4.9.3</td>\n",
       "      <td>0</td>\n",
       "      <td>0.109854</td>\n",
       "      <td>-6.906021</td>\n",
       "      <td>-0.969669</td>\n",
       "    </tr>\n",
       "    <tr>\n",
       "      <th>1</th>\n",
       "      <td>org.axonframework.eventsourcing.conflictresolu...</td>\n",
       "      <td>axon-eventsourcing-4.9.3</td>\n",
       "      <td>0</td>\n",
       "      <td>0.043972</td>\n",
       "      <td>-7.042938</td>\n",
       "      <td>-1.243616</td>\n",
       "    </tr>\n",
       "    <tr>\n",
       "      <th>2</th>\n",
       "      <td>org.axonframework.eventsourcing.eventstore</td>\n",
       "      <td>axon-eventsourcing-4.9.3</td>\n",
       "      <td>0</td>\n",
       "      <td>0.183029</td>\n",
       "      <td>-6.566011</td>\n",
       "      <td>-0.959342</td>\n",
       "    </tr>\n",
       "    <tr>\n",
       "      <th>3</th>\n",
       "      <td>org.axonframework.eventsourcing.eventstore.inm...</td>\n",
       "      <td>axon-eventsourcing-4.9.3</td>\n",
       "      <td>0</td>\n",
       "      <td>0.016509</td>\n",
       "      <td>-6.474769</td>\n",
       "      <td>-1.028012</td>\n",
       "    </tr>\n",
       "    <tr>\n",
       "      <th>4</th>\n",
       "      <td>org.axonframework.eventsourcing.eventstore.jdbc</td>\n",
       "      <td>axon-eventsourcing-4.9.3</td>\n",
       "      <td>0</td>\n",
       "      <td>0.041023</td>\n",
       "      <td>-6.308975</td>\n",
       "      <td>-0.426869</td>\n",
       "    </tr>\n",
       "  </tbody>\n",
       "</table>\n",
       "</div>"
      ],
      "text/plain": [
       "                                            codeUnit  \\\n",
       "0                    org.axonframework.eventsourcing   \n",
       "1  org.axonframework.eventsourcing.conflictresolu...   \n",
       "2         org.axonframework.eventsourcing.eventstore   \n",
       "3  org.axonframework.eventsourcing.eventstore.inm...   \n",
       "4    org.axonframework.eventsourcing.eventstore.jdbc   \n",
       "\n",
       "                   artifact  communityId  centrality         x         y  \n",
       "0  axon-eventsourcing-4.9.3            0    0.109854 -6.906021 -0.969669  \n",
       "1  axon-eventsourcing-4.9.3            0    0.043972 -7.042938 -1.243616  \n",
       "2  axon-eventsourcing-4.9.3            0    0.183029 -6.566011 -0.959342  \n",
       "3  axon-eventsourcing-4.9.3            0    0.016509 -6.474769 -1.028012  \n",
       "4  axon-eventsourcing-4.9.3            0    0.041023 -6.308975 -0.426869  "
      ]
     },
     "metadata": {},
     "output_type": "display_data"
    }
   ],
   "source": [
    "node_embeddings_for_visualization = prepare_node_embeddings_for_2d_visualization(embeddings)"
   ]
  },
  {
   "cell_type": "markdown",
   "id": "f908c47f",
   "metadata": {},
   "source": [
    "### 1.3 Visualization of the node embeddings reduced to two dimensions"
   ]
  },
  {
   "cell_type": "code",
   "execution_count": 16,
   "id": "459a819c",
   "metadata": {
    "execution": {
     "iopub.execute_input": "2024-07-08T10:27:10.102317Z",
     "iopub.status.busy": "2024-07-08T10:27:10.102157Z",
     "iopub.status.idle": "2024-07-08T10:27:10.205022Z",
     "shell.execute_reply": "2024-07-08T10:27:10.204512Z"
    }
   },
   "outputs": [
    {
     "data": {
      "image/png": "[encoded data removed]",
      "text/plain": [
       "<Figure size 640x480 with 1 Axes>"
      ]
     },
     "metadata": {},
     "output_type": "display_data"
    }
   ],
   "source": [
    "plot_2d_node_embeddings(\n",
    "    node_embeddings_for_visualization, \n",
    "    \"Java Package positioned by their dependency relationships (FastRP node embeddings + t-SNE)\"\n",
    ")"
   ]
  },
  {
   "cell_type": "markdown",
   "id": "b690b9a7",
   "metadata": {},
   "source": [
    "### 1.4 Node Embeddings for Java Packages using HashGNN\n",
    "\n",
    "[HashGNN](https://neo4j.com/docs/graph-data-science/2.6/machine-learning/node-embeddings/hashgnn) resembles Graph Neural Networks (GNN) but does not include a model or require training. It combines ideas of GNNs and fast randomized algorithms. For more details see [HashGNN](https://neo4j.com/docs/graph-data-science/2.6/machine-learning/node-embeddings/hashgnn). Here, the latter 3 steps are combined into one for HashGNN."
   ]
  },
  {
   "cell_type": "code",
   "execution_count": 17,
   "id": "3d3cfb7a",
   "metadata": {
    "execution": {
     "iopub.execute_input": "2024-07-08T10:27:10.207017Z",
     "iopub.status.busy": "2024-07-08T10:27:10.206860Z",
     "iopub.status.idle": "2024-07-08T10:27:10.860925Z",
     "shell.execute_reply": "2024-07-08T10:27:10.860439Z"
    }
   },
   "outputs": [
    {
     "name": "stdout",
     "output_type": "stream",
     "text": [
      "The results have been provided by the query filename: ../cypher/Node_Embeddings/Node_Embeddings_0a_Query_Calculated.cypher\n"
     ]
    },
    {
     "data": {
      "text/html": [
       "<div>\n",
       "<style scoped>\n",
       "    .dataframe tbody tr th:only-of-type {\n",
       "        vertical-align: middle;\n",
       "    }\n",
       "\n",
       "    .dataframe tbody tr th {\n",
       "        vertical-align: top;\n",
       "    }\n",
       "\n",
       "    .dataframe thead th {\n",
       "        text-align: right;\n",
       "    }\n",
       "</style>\n",
       "<table border=\"1\" class=\"dataframe\">\n",
       "  <thead>\n",
       "    <tr style=\"text-align: right;\">\n",
       "      <th></th>\n",
       "      <th>codeUnitName</th>\n",
       "      <th>shortCodeUnitName</th>\n",
       "      <th>projectName</th>\n",
       "      <th>communityId</th>\n",
       "      <th>centrality</th>\n",
       "      <th>embedding</th>\n",
       "    </tr>\n",
       "  </thead>\n",
       "  <tbody>\n",
       "    <tr>\n",
       "      <th>0</th>\n",
       "      <td>org.axonframework.eventsourcing</td>\n",
       "      <td>eventsourcing</td>\n",
       "      <td>axon-eventsourcing-4.9.3</td>\n",
       "      <td>0</td>\n",
       "      <td>0.109854</td>\n",
       "      <td>[-1.5155444294214249, -0.21650634706020355, -0...</td>\n",
       "    </tr>\n",
       "    <tr>\n",
       "      <th>1</th>\n",
       "      <td>org.axonframework.eventsourcing.conflictresolu...</td>\n",
       "      <td>conflictresolution</td>\n",
       "      <td>axon-eventsourcing-4.9.3</td>\n",
       "      <td>0</td>\n",
       "      <td>0.043972</td>\n",
       "      <td>[-1.5155444294214249, -0.21650634706020355, -0...</td>\n",
       "    </tr>\n",
       "    <tr>\n",
       "      <th>2</th>\n",
       "      <td>org.axonframework.eventsourcing.eventstore</td>\n",
       "      <td>eventstore</td>\n",
       "      <td>axon-eventsourcing-4.9.3</td>\n",
       "      <td>0</td>\n",
       "      <td>0.183029</td>\n",
       "      <td>[-1.5155444294214249, -0.4330126941204071, -0....</td>\n",
       "    </tr>\n",
       "    <tr>\n",
       "      <th>3</th>\n",
       "      <td>org.axonframework.eventsourcing.eventstore.inm...</td>\n",
       "      <td>inmemory</td>\n",
       "      <td>axon-eventsourcing-4.9.3</td>\n",
       "      <td>0</td>\n",
       "      <td>0.016509</td>\n",
       "      <td>[-1.5155444294214249, -0.21650634706020355, -0...</td>\n",
       "    </tr>\n",
       "    <tr>\n",
       "      <th>4</th>\n",
       "      <td>org.axonframework.eventsourcing.eventstore.jdbc</td>\n",
       "      <td>jdbc</td>\n",
       "      <td>axon-eventsourcing-4.9.3</td>\n",
       "      <td>0</td>\n",
       "      <td>0.041023</td>\n",
       "      <td>[-1.5155444294214249, -0.6495190411806107, -0....</td>\n",
       "    </tr>\n",
       "  </tbody>\n",
       "</table>\n",
       "</div>"
      ],
      "text/plain": [
       "                                        codeUnitName   shortCodeUnitName  \\\n",
       "0                    org.axonframework.eventsourcing       eventsourcing   \n",
       "1  org.axonframework.eventsourcing.conflictresolu...  conflictresolution   \n",
       "2         org.axonframework.eventsourcing.eventstore          eventstore   \n",
       "3  org.axonframework.eventsourcing.eventstore.inm...            inmemory   \n",
       "4    org.axonframework.eventsourcing.eventstore.jdbc                jdbc   \n",
       "\n",
       "                projectName  communityId  centrality  \\\n",
       "0  axon-eventsourcing-4.9.3            0    0.109854   \n",
       "1  axon-eventsourcing-4.9.3            0    0.043972   \n",
       "2  axon-eventsourcing-4.9.3            0    0.183029   \n",
       "3  axon-eventsourcing-4.9.3            0    0.016509   \n",
       "4  axon-eventsourcing-4.9.3            0    0.041023   \n",
       "\n",
       "                                           embedding  \n",
       "0  [-1.5155444294214249, -0.21650634706020355, -0...  \n",
       "1  [-1.5155444294214249, -0.21650634706020355, -0...  \n",
       "2  [-1.5155444294214249, -0.4330126941204071, -0....  \n",
       "3  [-1.5155444294214249, -0.21650634706020355, -0...  \n",
       "4  [-1.5155444294214249, -0.6495190411806107, -0....  "
      ]
     },
     "metadata": {},
     "output_type": "display_data"
    },
    {
     "name": "stdout",
     "output_type": "stream",
     "text": [
      "--------------------------------------------------------------------------------\n",
      "TSNE(early_exaggeration=12, random_state=47, verbose=1)\n",
      "--------------------------------------------------------------------------------\n",
      "===> Finding 90 nearest neighbors using exact search using euclidean distance...\n",
      "   --> Time elapsed: 0.00 seconds\n",
      "===> Calculating affinity matrix...\n",
      "   --> Time elapsed: 0.00 seconds\n",
      "===> Calculating PCA-based initialization...\n",
      "   --> Time elapsed: 0.00 seconds\n",
      "===> Running optimization with exaggeration=12.00, lr=7.75 for 250 iterations...\n",
      "Iteration   50, KL divergence -0.0014, 50 iterations in 0.0394 sec\n",
      "Iteration  100, KL divergence 1.0664, 50 iterations in 0.0137 sec\n",
      "Iteration  150, KL divergence 1.0664, 50 iterations in 0.0124 sec\n",
      "Iteration  200, KL divergence 1.0664, 50 iterations in 0.0124 sec\n",
      "Iteration  250, KL divergence 1.0664, 50 iterations in 0.0123 sec\n",
      "   --> Time elapsed: 0.09 seconds\n",
      "===> Running optimization with exaggeration=1.00, lr=93.00 for 500 iterations...\n",
      "Iteration   50, KL divergence 0.2316, 50 iterations in 0.0394 sec\n",
      "Iteration  100, KL divergence 0.2119, 50 iterations in 0.0483 sec\n",
      "Iteration  150, KL divergence 0.2174, 50 iterations in 0.0343 sec\n",
      "Iteration  200, KL divergence 0.1982, 50 iterations in 0.0336 sec\n",
      "Iteration  250, KL divergence 0.2023, 50 iterations in 0.0324 sec\n",
      "Iteration  300, KL divergence 0.2164, 50 iterations in 0.0325 sec\n",
      "Iteration  350, KL divergence 0.2060, 50 iterations in 0.0335 sec\n",
      "Iteration  400, KL divergence 0.2165, 50 iterations in 0.0339 sec\n",
      "Iteration  450, KL divergence 0.2164, 50 iterations in 0.0337 sec\n",
      "Iteration  500, KL divergence 0.2017, 50 iterations in 0.0340 sec\n",
      "   --> Time elapsed: 0.36 seconds\n"
     ]
    },
    {
     "data": {
      "text/plain": [
       "(93, 2)"
      ]
     },
     "metadata": {},
     "output_type": "display_data"
    },
    {
     "data": {
      "text/html": [
       "<div>\n",
       "<style scoped>\n",
       "    .dataframe tbody tr th:only-of-type {\n",
       "        vertical-align: middle;\n",
       "    }\n",
       "\n",
       "    .dataframe tbody tr th {\n",
       "        vertical-align: top;\n",
       "    }\n",
       "\n",
       "    .dataframe thead th {\n",
       "        text-align: right;\n",
       "    }\n",
       "</style>\n",
       "<table border=\"1\" class=\"dataframe\">\n",
       "  <thead>\n",
       "    <tr style=\"text-align: right;\">\n",
       "      <th></th>\n",
       "      <th>codeUnit</th>\n",
       "      <th>artifact</th>\n",
       "      <th>communityId</th>\n",
       "      <th>centrality</th>\n",
       "      <th>x</th>\n",
       "      <th>y</th>\n",
       "    </tr>\n",
       "  </thead>\n",
       "  <tbody>\n",
       "    <tr>\n",
       "      <th>0</th>\n",
       "      <td>org.axonframework.eventsourcing</td>\n",
       "      <td>axon-eventsourcing-4.9.3</td>\n",
       "      <td>0</td>\n",
       "      <td>0.109854</td>\n",
       "      <td>6.434418</td>\n",
       "      <td>0.244084</td>\n",
       "    </tr>\n",
       "    <tr>\n",
       "      <th>1</th>\n",
       "      <td>org.axonframework.eventsourcing.conflictresolu...</td>\n",
       "      <td>axon-eventsourcing-4.9.3</td>\n",
       "      <td>0</td>\n",
       "      <td>0.043972</td>\n",
       "      <td>6.433752</td>\n",
       "      <td>0.244214</td>\n",
       "    </tr>\n",
       "    <tr>\n",
       "      <th>2</th>\n",
       "      <td>org.axonframework.eventsourcing.eventstore</td>\n",
       "      <td>axon-eventsourcing-4.9.3</td>\n",
       "      <td>0</td>\n",
       "      <td>0.183029</td>\n",
       "      <td>6.855740</td>\n",
       "      <td>0.403940</td>\n",
       "    </tr>\n",
       "    <tr>\n",
       "      <th>3</th>\n",
       "      <td>org.axonframework.eventsourcing.eventstore.inm...</td>\n",
       "      <td>axon-eventsourcing-4.9.3</td>\n",
       "      <td>0</td>\n",
       "      <td>0.016509</td>\n",
       "      <td>6.595168</td>\n",
       "      <td>0.373886</td>\n",
       "    </tr>\n",
       "    <tr>\n",
       "      <th>4</th>\n",
       "      <td>org.axonframework.eventsourcing.eventstore.jdbc</td>\n",
       "      <td>axon-eventsourcing-4.9.3</td>\n",
       "      <td>0</td>\n",
       "      <td>0.041023</td>\n",
       "      <td>6.611695</td>\n",
       "      <td>-0.027494</td>\n",
       "    </tr>\n",
       "  </tbody>\n",
       "</table>\n",
       "</div>"
      ],
      "text/plain": [
       "                                            codeUnit  \\\n",
       "0                    org.axonframework.eventsourcing   \n",
       "1  org.axonframework.eventsourcing.conflictresolu...   \n",
       "2         org.axonframework.eventsourcing.eventstore   \n",
       "3  org.axonframework.eventsourcing.eventstore.inm...   \n",
       "4    org.axonframework.eventsourcing.eventstore.jdbc   \n",
       "\n",
       "                   artifact  communityId  centrality         x         y  \n",
       "0  axon-eventsourcing-4.9.3            0    0.109854  6.434418  0.244084  \n",
       "1  axon-eventsourcing-4.9.3            0    0.043972  6.433752  0.244214  \n",
       "2  axon-eventsourcing-4.9.3            0    0.183029  6.855740  0.403940  \n",
       "3  axon-eventsourcing-4.9.3            0    0.016509  6.595168  0.373886  \n",
       "4  axon-eventsourcing-4.9.3            0    0.041023  6.611695 -0.027494  "
      ]
     },
     "metadata": {},
     "output_type": "display_data"
    },
    {
     "data": {
      "image/png": "[encoded data removed]",
      "text/plain": [
       "<Figure size 640x480 with 1 Axes>"
      ]
     },
     "metadata": {},
     "output_type": "display_data"
    }
   ],
   "source": [
    "java_package_embeddings_parameters={\n",
    "    \"dependencies_projection\": \"java-package-embeddings-notebook\",\n",
    "    \"dependencies_projection_node\": \"Package\",\n",
    "    \"dependencies_projection_weight_property\": \"weight25PercentInterfaces\",\n",
    "    \"dependencies_projection_write_property\": \"embeddingsHashGNN\",\n",
    "    \"dependencies_projection_embedding_dimension\":\"64\"\n",
    "}\n",
    "embeddings = create_node_embeddings(\"../cypher/Node_Embeddings/Node_Embeddings_2d_Hash_GNN_Stream.cypher\", java_package_embeddings_parameters)\n",
    "node_embeddings_for_visualization = prepare_node_embeddings_for_2d_visualization(embeddings)\n",
    "plot_2d_node_embeddings(\n",
    "    node_embeddings_for_visualization, \n",
    "    \"Java Package positioned by their dependency relationships (HashGNN node embeddings + t-SNE)\"\n",
    ")"
   ]
  },
  {
   "cell_type": "markdown",
   "id": "248d88b4",
   "metadata": {},
   "source": [
    "### 2.5 Node Embeddings for Java Packages using node2vec"
   ]
  },
  {
   "cell_type": "code",
   "execution_count": 18,
   "id": "62c40c45",
   "metadata": {
    "execution": {
     "iopub.execute_input": "2024-07-08T10:27:10.863130Z",
     "iopub.status.busy": "2024-07-08T10:27:10.862796Z",
     "iopub.status.idle": "2024-07-08T10:27:11.535378Z",
     "shell.execute_reply": "2024-07-08T10:27:11.534867Z"
    }
   },
   "outputs": [
    {
     "name": "stdout",
     "output_type": "stream",
     "text": [
      "The results have been provided by the query filename: ../cypher/Node_Embeddings/Node_Embeddings_0a_Query_Calculated.cypher\n"
     ]
    },
    {
     "data": {
      "text/html": [
       "<div>\n",
       "<style scoped>\n",
       "    .dataframe tbody tr th:only-of-type {\n",
       "        vertical-align: middle;\n",
       "    }\n",
       "\n",
       "    .dataframe tbody tr th {\n",
       "        vertical-align: top;\n",
       "    }\n",
       "\n",
       "    .dataframe thead th {\n",
       "        text-align: right;\n",
       "    }\n",
       "</style>\n",
       "<table border=\"1\" class=\"dataframe\">\n",
       "  <thead>\n",
       "    <tr style=\"text-align: right;\">\n",
       "      <th></th>\n",
       "      <th>codeUnitName</th>\n",
       "      <th>shortCodeUnitName</th>\n",
       "      <th>projectName</th>\n",
       "      <th>communityId</th>\n",
       "      <th>centrality</th>\n",
       "      <th>embedding</th>\n",
       "    </tr>\n",
       "  </thead>\n",
       "  <tbody>\n",
       "    <tr>\n",
       "      <th>0</th>\n",
       "      <td>org.axonframework.eventsourcing</td>\n",
       "      <td>eventsourcing</td>\n",
       "      <td>axon-eventsourcing-4.9.3</td>\n",
       "      <td>0</td>\n",
       "      <td>0.109854</td>\n",
       "      <td>[-0.7985859513282776, -0.9774161577224731, 0.8...</td>\n",
       "    </tr>\n",
       "    <tr>\n",
       "      <th>1</th>\n",
       "      <td>org.axonframework.eventsourcing.conflictresolu...</td>\n",
       "      <td>conflictresolution</td>\n",
       "      <td>axon-eventsourcing-4.9.3</td>\n",
       "      <td>0</td>\n",
       "      <td>0.043972</td>\n",
       "      <td>[-0.7829878926277161, -0.9142645597457886, 0.7...</td>\n",
       "    </tr>\n",
       "    <tr>\n",
       "      <th>2</th>\n",
       "      <td>org.axonframework.eventsourcing.eventstore</td>\n",
       "      <td>eventstore</td>\n",
       "      <td>axon-eventsourcing-4.9.3</td>\n",
       "      <td>0</td>\n",
       "      <td>0.183029</td>\n",
       "      <td>[-0.8812313079833984, -1.0280535221099854, 0.7...</td>\n",
       "    </tr>\n",
       "    <tr>\n",
       "      <th>3</th>\n",
       "      <td>org.axonframework.eventsourcing.eventstore.inm...</td>\n",
       "      <td>inmemory</td>\n",
       "      <td>axon-eventsourcing-4.9.3</td>\n",
       "      <td>0</td>\n",
       "      <td>0.016509</td>\n",
       "      <td>[-0.6152359843254089, -0.6287829279899597, 0.5...</td>\n",
       "    </tr>\n",
       "    <tr>\n",
       "      <th>4</th>\n",
       "      <td>org.axonframework.eventsourcing.eventstore.jdbc</td>\n",
       "      <td>jdbc</td>\n",
       "      <td>axon-eventsourcing-4.9.3</td>\n",
       "      <td>0</td>\n",
       "      <td>0.041023</td>\n",
       "      <td>[-0.667883574962616, -1.0882569551467896, 0.67...</td>\n",
       "    </tr>\n",
       "  </tbody>\n",
       "</table>\n",
       "</div>"
      ],
      "text/plain": [
       "                                        codeUnitName   shortCodeUnitName  \\\n",
       "0                    org.axonframework.eventsourcing       eventsourcing   \n",
       "1  org.axonframework.eventsourcing.conflictresolu...  conflictresolution   \n",
       "2         org.axonframework.eventsourcing.eventstore          eventstore   \n",
       "3  org.axonframework.eventsourcing.eventstore.inm...            inmemory   \n",
       "4    org.axonframework.eventsourcing.eventstore.jdbc                jdbc   \n",
       "\n",
       "                projectName  communityId  centrality  \\\n",
       "0  axon-eventsourcing-4.9.3            0    0.109854   \n",
       "1  axon-eventsourcing-4.9.3            0    0.043972   \n",
       "2  axon-eventsourcing-4.9.3            0    0.183029   \n",
       "3  axon-eventsourcing-4.9.3            0    0.016509   \n",
       "4  axon-eventsourcing-4.9.3            0    0.041023   \n",
       "\n",
       "                                           embedding  \n",
       "0  [-0.7985859513282776, -0.9774161577224731, 0.8...  \n",
       "1  [-0.7829878926277161, -0.9142645597457886, 0.7...  \n",
       "2  [-0.8812313079833984, -1.0280535221099854, 0.7...  \n",
       "3  [-0.6152359843254089, -0.6287829279899597, 0.5...  \n",
       "4  [-0.667883574962616, -1.0882569551467896, 0.67...  "
      ]
     },
     "metadata": {},
     "output_type": "display_data"
    },
    {
     "name": "stdout",
     "output_type": "stream",
     "text": [
      "--------------------------------------------------------------------------------\n",
      "TSNE(early_exaggeration=12, random_state=47, verbose=1)\n",
      "--------------------------------------------------------------------------------\n",
      "===> Finding 90 nearest neighbors using exact search using euclidean distance...\n",
      "   --> Time elapsed: 0.00 seconds\n",
      "===> Calculating affinity matrix...\n",
      "   --> Time elapsed: 0.00 seconds\n",
      "===> Calculating PCA-based initialization...\n",
      "   --> Time elapsed: 0.00 seconds\n",
      "===> Running optimization with exaggeration=12.00, lr=7.75 for 250 iterations...\n",
      "Iteration   50, KL divergence -0.9863, 50 iterations in 0.0312 sec\n",
      "Iteration  100, KL divergence 0.9822, 50 iterations in 0.0132 sec\n",
      "Iteration  150, KL divergence 0.9822, 50 iterations in 0.0124 sec\n",
      "Iteration  200, KL divergence 0.9822, 50 iterations in 0.0123 sec\n",
      "Iteration  250, KL divergence 0.9822, 50 iterations in 0.0123 sec\n",
      "   --> Time elapsed: 0.08 seconds\n",
      "===> Running optimization with exaggeration=1.00, lr=93.00 for 500 iterations...\n",
      "Iteration   50, KL divergence 0.1570, 50 iterations in 0.0402 sec\n",
      "Iteration  100, KL divergence 0.1021, 50 iterations in 0.0514 sec\n",
      "Iteration  150, KL divergence 0.0971, 50 iterations in 0.0391 sec\n",
      "Iteration  200, KL divergence 0.0956, 50 iterations in 0.0377 sec\n",
      "Iteration  250, KL divergence 0.0954, 50 iterations in 0.0377 sec\n",
      "Iteration  300, KL divergence 0.0951, 50 iterations in 0.0372 sec\n",
      "Iteration  350, KL divergence 0.0941, 50 iterations in 0.0370 sec\n",
      "Iteration  400, KL divergence 0.0937, 50 iterations in 0.0365 sec\n",
      "Iteration  450, KL divergence 0.0934, 50 iterations in 0.0374 sec\n",
      "Iteration  500, KL divergence 0.0933, 50 iterations in 0.0371 sec\n",
      "   --> Time elapsed: 0.39 seconds\n"
     ]
    },
    {
     "data": {
      "text/plain": [
       "(93, 2)"
      ]
     },
     "metadata": {},
     "output_type": "display_data"
    },
    {
     "data": {
      "text/html": [
       "<div>\n",
       "<style scoped>\n",
       "    .dataframe tbody tr th:only-of-type {\n",
       "        vertical-align: middle;\n",
       "    }\n",
       "\n",
       "    .dataframe tbody tr th {\n",
       "        vertical-align: top;\n",
       "    }\n",
       "\n",
       "    .dataframe thead th {\n",
       "        text-align: right;\n",
       "    }\n",
       "</style>\n",
       "<table border=\"1\" class=\"dataframe\">\n",
       "  <thead>\n",
       "    <tr style=\"text-align: right;\">\n",
       "      <th></th>\n",
       "      <th>codeUnit</th>\n",
       "      <th>artifact</th>\n",
       "      <th>communityId</th>\n",
       "      <th>centrality</th>\n",
       "      <th>x</th>\n",
       "      <th>y</th>\n",
       "    </tr>\n",
       "  </thead>\n",
       "  <tbody>\n",
       "    <tr>\n",
       "      <th>0</th>\n",
       "      <td>org.axonframework.eventsourcing</td>\n",
       "      <td>axon-eventsourcing-4.9.3</td>\n",
       "      <td>0</td>\n",
       "      <td>0.109854</td>\n",
       "      <td>-3.385756</td>\n",
       "      <td>5.538235</td>\n",
       "    </tr>\n",
       "    <tr>\n",
       "      <th>1</th>\n",
       "      <td>org.axonframework.eventsourcing.conflictresolu...</td>\n",
       "      <td>axon-eventsourcing-4.9.3</td>\n",
       "      <td>0</td>\n",
       "      <td>0.043972</td>\n",
       "      <td>-3.064913</td>\n",
       "      <td>5.484312</td>\n",
       "    </tr>\n",
       "    <tr>\n",
       "      <th>2</th>\n",
       "      <td>org.axonframework.eventsourcing.eventstore</td>\n",
       "      <td>axon-eventsourcing-4.9.3</td>\n",
       "      <td>0</td>\n",
       "      <td>0.183029</td>\n",
       "      <td>-3.519220</td>\n",
       "      <td>5.366721</td>\n",
       "    </tr>\n",
       "    <tr>\n",
       "      <th>3</th>\n",
       "      <td>org.axonframework.eventsourcing.eventstore.inm...</td>\n",
       "      <td>axon-eventsourcing-4.9.3</td>\n",
       "      <td>0</td>\n",
       "      <td>0.016509</td>\n",
       "      <td>-2.695454</td>\n",
       "      <td>5.058820</td>\n",
       "    </tr>\n",
       "    <tr>\n",
       "      <th>4</th>\n",
       "      <td>org.axonframework.eventsourcing.eventstore.jdbc</td>\n",
       "      <td>axon-eventsourcing-4.9.3</td>\n",
       "      <td>0</td>\n",
       "      <td>0.041023</td>\n",
       "      <td>-3.251096</td>\n",
       "      <td>5.038214</td>\n",
       "    </tr>\n",
       "  </tbody>\n",
       "</table>\n",
       "</div>"
      ],
      "text/plain": [
       "                                            codeUnit  \\\n",
       "0                    org.axonframework.eventsourcing   \n",
       "1  org.axonframework.eventsourcing.conflictresolu...   \n",
       "2         org.axonframework.eventsourcing.eventstore   \n",
       "3  org.axonframework.eventsourcing.eventstore.inm...   \n",
       "4    org.axonframework.eventsourcing.eventstore.jdbc   \n",
       "\n",
       "                   artifact  communityId  centrality         x         y  \n",
       "0  axon-eventsourcing-4.9.3            0    0.109854 -3.385756  5.538235  \n",
       "1  axon-eventsourcing-4.9.3            0    0.043972 -3.064913  5.484312  \n",
       "2  axon-eventsourcing-4.9.3            0    0.183029 -3.519220  5.366721  \n",
       "3  axon-eventsourcing-4.9.3            0    0.016509 -2.695454  5.058820  \n",
       "4  axon-eventsourcing-4.9.3            0    0.041023 -3.251096  5.038214  "
      ]
     },
     "metadata": {},
     "output_type": "display_data"
    },
    {
     "data": {
      "image/png": "[encoded data removed]",
      "text/plain": [
       "<Figure size 640x480 with 1 Axes>"
      ]
     },
     "metadata": {},
     "output_type": "display_data"
    }
   ],
   "source": [
    "java_package_embeddings_parameters={\n",
    "    \"dependencies_projection\": \"java-package-embeddings-notebook\",\n",
    "    \"dependencies_projection_node\": \"Package\",\n",
    "    \"dependencies_projection_weight_property\": \"weight25PercentInterfaces\",\n",
    "    \"dependencies_projection_write_property\": \"embeddingsNode2Vec\",\n",
    "    \"dependencies_projection_embedding_dimension\":\"32\"\n",
    "}\n",
    "embeddings = create_node_embeddings(\"../cypher/Node_Embeddings/Node_Embeddings_3d_Node2Vec_Stream.cypher\", java_package_embeddings_parameters)\n",
    "node_embeddings_for_visualization = prepare_node_embeddings_for_2d_visualization(embeddings)\n",
    "plot_2d_node_embeddings(\n",
    "    node_embeddings_for_visualization, \n",
    "    \"Java Package positioned by their dependency relationships (node2vec node embeddings + t-SNE)\"\n",
    ")"
   ]
  }
 ],
 "metadata": {
  "authors": [
   {
    "name": "JohT"
   }
  ],
  "code_graph_analysis_pipeline_data_validation": "ValidateJavaPackageDependencies",
  "kernelspec": {
   "display_name": "Python 3 (ipykernel)",
   "language": "python",
   "name": "python3"
  },
  "language_info": {
   "codemirror_mode": {
    "name": "ipython",
    "version": 3
   },
   "file_extension": ".py",
   "mimetype": "text/x-python",
   "name": "python",
   "nbconvert_exporter": "python",
   "pygments_lexer": "ipython3",
   "version": "3.11.0"
  },
  "title": "Object Oriented Design Quality Metrics for Java with Neo4j"
 },
 "nbformat": 4,
 "nbformat_minor": 5
}
