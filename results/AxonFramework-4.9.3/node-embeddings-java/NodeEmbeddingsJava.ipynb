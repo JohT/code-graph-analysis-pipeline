{
 "cells": [
  {
   "attachments": {},
   "cell_type": "markdown",
   "id": "2f0eabc4",
   "metadata": {},
   "source": [
    "# Node Embeddings\n",
    "\n",
    "This notebook demonstrates different methods for node embeddings and how to further reduce their dimensionality to be able to visualize them in a 2D plot. \n",
    "\n",
    "Node embeddings are essentially an array of floating point numbers (length = embedding dimension) that can be used as \"features\" in machine learning. These numbers approximate the relationship and similarity information of each node and can also be seen as a way to encode the topology of the graph.\n",
    "\n",
    "## Considerations\n",
    "\n",
    "Due to dimensionality reduction some information gets lost, especially when visualizing node embeddings in two dimensions. Nevertheless, it helps to get an intuition on what node embeddings are and how much of the similarity and neighborhood information is retained. The latter can be observed by how well nodes of the same color and therefore same community are placed together and how much bigger nodes with a high centrality score influence them. \n",
    "\n",
    "If the visualization doesn't show a somehow clear separation between the communities (colors) here are some ideas for tuning: \n",
    "- Clean the data, e.g. filter out very few nodes with extremely high degree that aren't actually that important\n",
    "- Try directed vs. undirected projections\n",
    "- Tune the embedding algorithm, e.g. use a higher dimensionality\n",
    "- Tune t-SNE that is used to reduce the node embeddings dimension to two dimensions for visualization. \n",
    "\n",
    "It could also be the case that the node embeddings are good enough and well suited the way they are despite their visualization for the down stream task like node classification or link prediction. In that case it makes sense to see how the whole pipeline performs before tuning the node embeddings in detail. \n",
    "\n",
    "## Note about data dependencies\n",
    "\n",
    "PageRank centrality and Leiden community are also fetched from the Graph and need to be calculated first.\n",
    "This makes it easier to see if the embeddings approximate the structural information of the graph in the plot.\n",
    "If these properties are missing you will only see black dots all of the same size.\n",
    "\n",
    "<br>  \n",
    "\n",
    "### References\n",
    "- [jqassistant](https://jqassistant.org)\n",
    "- [Neo4j Python Driver](https://neo4j.com/docs/api/python-driver/current)\n",
    "- [Tutorial: Applied Graph Embeddings](https://neo4j.com/developer/graph-data-science/applied-graph-embeddings)\n",
    "- [Visualizing the embeddings in 2D](https://github.com/openai/openai-cookbook/blob/main/examples/Visualizing_embeddings_in_2D.ipynb)\n",
    "- [scikit-learn TSNE](https://scikit-learn.org/stable/modules/generated/sklearn.manifold.TSNE.html#sklearn.manifold.TSNE)\n",
    "- [AttributeError: 'list' object has no attribute 'shape'](https://bobbyhadz.com/blog/python-attributeerror-list-object-has-no-attribute-shape)\n",
    "- [Fast Random Projection (neo4j)](https://neo4j.com/docs/graph-data-science/current/machine-learning/node-embeddings/fastrp)\n",
    "- [HashGNN (neo4j)](https://neo4j.com/docs/graph-data-science/2.6/machine-learning/node-embeddings/hashgnn)\n",
    "- [node2vec (neo4j)](https://neo4j.com/docs/graph-data-science/current/machine-learning/node-embeddings/node2vec) computes a vector representation of a node based on second order random walks in the graph. \n",
    "- [Complete guide to understanding Node2Vec algorithm](https://towardsdatascience.com/complete-guide-to-understanding-node2vec-algorithm-4e9a35e5d147)"
   ]
  },
  {
   "cell_type": "code",
   "execution_count": 1,
   "id": "4191f259",
   "metadata": {
    "execution": {
     "iopub.execute_input": "2024-06-03T04:58:26.758340Z",
     "iopub.status.busy": "2024-06-03T04:58:26.758144Z",
     "iopub.status.idle": "2024-06-03T04:58:27.694366Z",
     "shell.execute_reply": "2024-06-03T04:58:27.693849Z"
    }
   },
   "outputs": [],
   "source": [
    "import os\n",
    "from IPython.display import display\n",
    "import pandas as pd\n",
    "import matplotlib.pyplot as plot\n",
    "import typing as typ\n",
    "import numpy as np\n",
    "from sklearn.manifold import TSNE\n",
    "from neo4j import GraphDatabase"
   ]
  },
  {
   "cell_type": "code",
   "execution_count": 2,
   "id": "f8ef41ff",
   "metadata": {
    "execution": {
     "iopub.execute_input": "2024-06-03T04:58:27.697138Z",
     "iopub.status.busy": "2024-06-03T04:58:27.696838Z",
     "iopub.status.idle": "2024-06-03T04:58:27.700230Z",
     "shell.execute_reply": "2024-06-03T04:58:27.699703Z"
    }
   },
   "outputs": [
    {
     "name": "stdout",
     "output_type": "stream",
     "text": [
      "The scikit-learn version is 1.3.0.\n",
      "The pandas version is 1.5.1.\n"
     ]
    }
   ],
   "source": [
    "import sklearn\n",
    "print('The scikit-learn version is {}.'.format(sklearn.__version__))\n",
    "print('The pandas version is {}.'.format(pd.__version__))\n"
   ]
  },
  {
   "cell_type": "code",
   "execution_count": 3,
   "id": "1c5dab37",
   "metadata": {
    "execution": {
     "iopub.execute_input": "2024-06-03T04:58:27.702744Z",
     "iopub.status.busy": "2024-06-03T04:58:27.702397Z",
     "iopub.status.idle": "2024-06-03T04:58:27.710369Z",
     "shell.execute_reply": "2024-06-03T04:58:27.709912Z"
    }
   },
   "outputs": [],
   "source": [
    "# Please set the environment variable \"NEO4J_INITIAL_PASSWORD\" in your shell \n",
    "# before starting jupyter notebook to provide the password for the user \"neo4j\". \n",
    "# It is not recommended to hardcode the password into jupyter notebook for security reasons.\n",
    "\n",
    "driver = GraphDatabase.driver(uri=\"bolt://localhost:7687\", auth=(\"neo4j\", os.environ.get(\"NEO4J_INITIAL_PASSWORD\")))\n",
    "driver.verify_connectivity()"
   ]
  },
  {
   "cell_type": "code",
   "execution_count": 4,
   "id": "c1db254b",
   "metadata": {
    "execution": {
     "iopub.execute_input": "2024-06-03T04:58:27.712710Z",
     "iopub.status.busy": "2024-06-03T04:58:27.712387Z",
     "iopub.status.idle": "2024-06-03T04:58:27.715213Z",
     "shell.execute_reply": "2024-06-03T04:58:27.714746Z"
    }
   },
   "outputs": [],
   "source": [
    "def get_cypher_query_from_file(filename):\n",
    "    with open(filename) as file:\n",
    "        return ' '.join(file.readlines())"
   ]
  },
  {
   "cell_type": "code",
   "execution_count": 5,
   "id": "59310f6f",
   "metadata": {
    "execution": {
     "iopub.execute_input": "2024-06-03T04:58:27.717303Z",
     "iopub.status.busy": "2024-06-03T04:58:27.716942Z",
     "iopub.status.idle": "2024-06-03T04:58:27.720037Z",
     "shell.execute_reply": "2024-06-03T04:58:27.719600Z"
    }
   },
   "outputs": [],
   "source": [
    "def query_cypher_to_data_frame(filename, parameters_: typ.Optional[typ.Dict[str, typ.Any]] = None):\n",
    "    records, summary, keys = driver.execute_query(get_cypher_query_from_file(filename),parameters_=parameters_)\n",
    "    return pd.DataFrame([r.values() for r in records], columns=keys)"
   ]
  },
  {
   "cell_type": "code",
   "execution_count": 6,
   "id": "bd1d9775",
   "metadata": {
    "execution": {
     "iopub.execute_input": "2024-06-03T04:58:27.721869Z",
     "iopub.status.busy": "2024-06-03T04:58:27.721719Z",
     "iopub.status.idle": "2024-06-03T04:58:27.725094Z",
     "shell.execute_reply": "2024-06-03T04:58:27.724707Z"
    }
   },
   "outputs": [],
   "source": [
    "def query_first_non_empty_cypher_to_data_frame(*filenames : str, parameters: typ.Optional[typ.Dict[str, typ.Any]] = None):\n",
    "    \"\"\"\n",
    "    Executes the Cypher queries of the given files and returns the first result that is not empty.\n",
    "    If all given file names result in empty results, the last (empty) result will be returned.\n",
    "    By additionally specifying \"limit=\" the \"LIMIT\" keyword will appended to query so that only the first results get returned.\n",
    "    \"\"\"\n",
    "    result=pd.DataFrame()\n",
    "    for filename in filenames:\n",
    "        result=query_cypher_to_data_frame(filename, parameters)\n",
    "        if not result.empty:\n",
    "            print(\"The results have been provided by the query filename: \" + filename)\n",
    "            return result\n",
    "    return result"
   ]
  },
  {
   "cell_type": "code",
   "execution_count": 7,
   "id": "7d2e62d6",
   "metadata": {
    "execution": {
     "iopub.execute_input": "2024-06-03T04:58:27.726845Z",
     "iopub.status.busy": "2024-06-03T04:58:27.726694Z",
     "iopub.status.idle": "2024-06-03T04:58:27.730075Z",
     "shell.execute_reply": "2024-06-03T04:58:27.729666Z"
    }
   },
   "outputs": [],
   "source": [
    "# TODO option to choose between directed and undirected projection\n",
    "\n",
    "def create_undirected_projection(parameters: dict) -> bool: \n",
    "    \"\"\"\n",
    "    Creates an undirected homogenous in-memory Graph projection for/with Neo4j Graph Data Science Plugin.\n",
    "    It returns True if there is data available for the given parameter and False otherwise.\n",
    "    Parameters\n",
    "    ----------\n",
    "    dependencies_projection : str\n",
    "        The name prefix for the in-memory projection for dependencies. Example: \"java-package-embeddings-notebook\"\n",
    "    dependencies_projection_node : str\n",
    "        The label of the nodes that will be used for the projection. Example: \"Package\"\n",
    "    dependencies_projection_weight_property : str\n",
    "        The name of the node property that contains the dependency weight. Example: \"weight25PercentInterfaces\"\n",
    "    dependencies_projection_embedding_dimension : str\n",
    "        The number of the dimensions and therefore size of the resulting array of floating point numbers\n",
    "    \"\"\"\n",
    "    \n",
    "    is_data_missing=query_cypher_to_data_frame(\"../cypher/Dependencies_Projection/Dependencies_0_Check_Projectable.cypher\", parameters).empty\n",
    "    if is_data_missing: return False\n",
    "\n",
    "    query_cypher_to_data_frame(\"../cypher/Dependencies_Projection/Dependencies_1_Delete_Projection.cypher\", parameters)\n",
    "    query_cypher_to_data_frame(\"../cypher/Dependencies_Projection/Dependencies_2_Delete_Subgraph.cypher\", parameters)\n",
    "    # To include the direction of the relationships use the following line to create the projection:\n",
    "    # query_cypher_to_data_frame(\"../cypher/Dependencies_Projection/Dependencies_3_Create_Projection.cypher\", parameters)\n",
    "    query_cypher_to_data_frame(\"../cypher/Dependencies_Projection/Dependencies_4_Create_Undirected_Projection.cypher\", parameters)\n",
    "    query_cypher_to_data_frame(\"../cypher/Dependencies_Projection/Dependencies_5_Create_Subgraph.cypher\", parameters)\n",
    "    return True"
   ]
  },
  {
   "cell_type": "code",
   "execution_count": 8,
   "id": "1aa86093",
   "metadata": {
    "execution": {
     "iopub.execute_input": "2024-06-03T04:58:27.731905Z",
     "iopub.status.busy": "2024-06-03T04:58:27.731754Z",
     "iopub.status.idle": "2024-06-03T04:58:27.735720Z",
     "shell.execute_reply": "2024-06-03T04:58:27.735206Z"
    }
   },
   "outputs": [],
   "source": [
    "# Feature ideas\n",
    "# TODO option to choose between directed and undirected projection\n",
    "# TODO option to not read already existing node embeddings to experiment with different (hpyer) parameters\n",
    "# TODO run a community detection algorithm co-located in here when \"communityId\" is missing\n",
    "# TODO run a centrality algorithm co-located in here when \"centrality\" score is missing\n",
    "\n",
    "def create_node_embeddings(cypher_file_name: str, parameters: dict) -> pd.DataFrame: \n",
    "    \"\"\"\n",
    "    Creates an in-memory Graph projection by calling \"create_undirected_projection\", \n",
    "    runs the cypher Query given as cypherFileName parameter to calculate and stream the node embeddings\n",
    "    and returns a DataFrame with the results.\n",
    "    \n",
    "    cypher_file_name\n",
    "    ----------\n",
    "    Name of the file containing the Cypher query that executes node embeddings procedure.\n",
    "\n",
    "    parameters\n",
    "    ----------\n",
    "    dependencies_projection : str\n",
    "        The name prefix for the in-memory projection for dependencies. Example: \"java-package-embeddings-notebook\"\n",
    "    dependencies_projection_node : str\n",
    "        The label of the nodes that will be used for the projection. Example: \"Package\"\n",
    "    dependencies_projection_weight_property : str\n",
    "        The name of the node property that contains the dependency weight. Example: \"weight25PercentInterfaces\"\n",
    "    dependencies_projection_embedding_dimension : str\n",
    "        The number of the dimensions and therefore size of the resulting array of floating point numbers\n",
    "    \"\"\"\n",
    "    \n",
    "    is_data_available=create_undirected_projection(parameters)\n",
    "    \n",
    "    if not is_data_available:\n",
    "        print(\"No projected data for node embeddings calculation available\")\n",
    "        empty_result = pd.DataFrame(columns=[\"codeUnitName\", 'projectName', 'communityId', 'centrality', 'embedding'])\n",
    "        return empty_result\n",
    "\n",
    "    existing_embeddings_query_filename=\"../cypher/Node_Embeddings/Node_Embeddings_0a_Query_Calculated.cypher\"\n",
    "    embeddings = query_first_non_empty_cypher_to_data_frame(existing_embeddings_query_filename, cypher_file_name, parameters=parameters)\n",
    "    display(embeddings.head()) # Display the first entries of the table\n",
    "    return embeddings"
   ]
  },
  {
   "cell_type": "markdown",
   "id": "f6ec6a9b",
   "metadata": {},
   "source": [
    "### Dimensionality reduction with t-distributed stochastic neighbor embedding (t-SNE)\n",
    "\n",
    "The following function takes the original node embeddings with a higher dimensionality, e.g. 64 floating point numbers, and reduces them into a two dimensional array for visualization. \n",
    "\n",
    "> It converts similarities between data points to joint probabilities and tries to minimize the Kullback-Leibler divergence between the joint probabilities of the low-dimensional embedding and the high-dimensional data.\n",
    "\n",
    "(see https://scikit-learn.org/stable/modules/generated/sklearn.manifold.TSNE.html#sklearn.manifold.TSNE)"
   ]
  },
  {
   "cell_type": "code",
   "execution_count": 9,
   "id": "720aebd3",
   "metadata": {
    "execution": {
     "iopub.execute_input": "2024-06-03T04:58:27.737974Z",
     "iopub.status.busy": "2024-06-03T04:58:27.737534Z",
     "iopub.status.idle": "2024-06-03T04:58:27.742356Z",
     "shell.execute_reply": "2024-06-03T04:58:27.741968Z"
    }
   },
   "outputs": [],
   "source": [
    "def prepare_node_embeddings_for_2d_visualization(embeddings: pd.DataFrame) -> pd.DataFrame:\n",
    "    \"\"\"\n",
    "    Reduces the dimensionality of the node embeddings (e.g. 64 floating point numbers in an array)\n",
    "    to two dimensions for 2D visualization.\n",
    "    see https://scikit-learn.org/stable/modules/generated/sklearn.manifold.TSNE.html#sklearn.manifold.TSNE\n",
    "    \"\"\"\n",
    "\n",
    "    if embeddings.empty: \n",
    "        print(\"No projected data for node embeddings dimensionality reduction available\")\n",
    "        return embeddings\n",
    "    \n",
    "    # Calling the fit_transform method just with a list doesn't seem to work (anymore?). \n",
    "    # It leads to an error with the following message: 'list' object has no attribute 'shape'\n",
    "    # This can be solved by converting the list to a numpy array using np.array(..).\n",
    "    # See https://bobbyhadz.com/blog/python-attributeerror-list-object-has-no-attribute-shape\n",
    "    embeddings_as_numpy_array = np.array(embeddings.embedding.to_list())\n",
    "\n",
    "    # The parameter \"perplexity\" needs to be smaller than the sample size\n",
    "    # See https://scikit-learn.org/stable/modules/generated/sklearn.manifold.TSNE.html\n",
    "    number_of_nodes=embeddings.shape[0]\n",
    "    perplexity = min(number_of_nodes - 1.0, 30.0)\n",
    "    print(\"t-SNE: Sample size (Number of nodes)={size}\".format(size = number_of_nodes))\n",
    "    print(\"t-SNE: perplexity={perplexity}\".format(perplexity=perplexity))\n",
    "\n",
    "    # Use t-distributed stochastic neighbor embedding (t-SNE) to reduce the dimensionality \n",
    "    # of the previously calculated node embeddings to 2 dimensions for visualization\n",
    "    t_distributed_stochastic_neighbor_embedding = TSNE(n_components=2, perplexity=perplexity, verbose=1, random_state=50)\n",
    "    two_dimension_node_embeddings = t_distributed_stochastic_neighbor_embedding.fit_transform(embeddings_as_numpy_array)\n",
    "    display(two_dimension_node_embeddings.shape) # Display the shape of the t-SNE result\n",
    "\n",
    "    # Create a new DataFrame with the results of the 2 dimensional node embeddings\n",
    "    # and the code unit and artifact name of the query above as preparation for the plot\n",
    "    node_embeddings_for_visualization = pd.DataFrame(data = {\n",
    "        \"codeUnit\": embeddings.codeUnitName,\n",
    "        \"artifact\": embeddings.projectName,\n",
    "        \"communityId\": embeddings.communityId,\n",
    "        \"centrality\": embeddings.centrality,\n",
    "        \"x\": [value[0] for value in two_dimension_node_embeddings],\n",
    "        \"y\": [value[1] for value in two_dimension_node_embeddings]\n",
    "    })\n",
    "    display(node_embeddings_for_visualization.head()) # Display the first line of the results\n",
    "    return node_embeddings_for_visualization\n",
    "    "
   ]
  },
  {
   "cell_type": "code",
   "execution_count": 10,
   "id": "d937e26e",
   "metadata": {
    "execution": {
     "iopub.execute_input": "2024-06-03T04:58:27.744503Z",
     "iopub.status.busy": "2024-06-03T04:58:27.744151Z",
     "iopub.status.idle": "2024-06-03T04:58:27.747271Z",
     "shell.execute_reply": "2024-06-03T04:58:27.746799Z"
    }
   },
   "outputs": [],
   "source": [
    "def plot_2d_node_embeddings(node_embeddings_for_visualization: pd.DataFrame, title: str):\n",
    "    if embeddings.empty:\n",
    "        print(\"No projected data to plot available\")\n",
    "        return\n",
    "\n",
    "    plot.scatter(\n",
    "        x=node_embeddings_for_visualization.x,\n",
    "        y=node_embeddings_for_visualization.y,\n",
    "        s=node_embeddings_for_visualization.centrality * 300,\n",
    "        c=node_embeddings_for_visualization.communityId,\n",
    "        cmap=main_color_map,\n",
    "    )\n",
    "    plot.title(title)\n",
    "    plot.show()"
   ]
  },
  {
   "cell_type": "code",
   "execution_count": 11,
   "id": "da9e8edb",
   "metadata": {
    "execution": {
     "iopub.execute_input": "2024-06-03T04:58:27.749270Z",
     "iopub.status.busy": "2024-06-03T04:58:27.748906Z",
     "iopub.status.idle": "2024-06-03T04:58:27.751212Z",
     "shell.execute_reply": "2024-06-03T04:58:27.750734Z"
    }
   },
   "outputs": [],
   "source": [
    "#The following cell uses the build-in %html \"magic\" to override the CSS style for tables to a much smaller size.\n",
    "#This is especially needed for PDF export of tables with multiple columns."
   ]
  },
  {
   "cell_type": "code",
   "execution_count": 12,
   "id": "9deaabce",
   "metadata": {
    "execution": {
     "iopub.execute_input": "2024-06-03T04:58:27.753265Z",
     "iopub.status.busy": "2024-06-03T04:58:27.752849Z",
     "iopub.status.idle": "2024-06-03T04:58:27.759881Z",
     "shell.execute_reply": "2024-06-03T04:58:27.759358Z"
    }
   },
   "outputs": [
    {
     "data": {
      "text/html": [
       "<style>\n",
       "/* CSS style for smaller dataframe tables. */\n",
       ".dataframe th {\n",
       "    font-size: 8px;\n",
       "}\n",
       ".dataframe td {\n",
       "    font-size: 8px;\n",
       "}\n",
       "</style>\n"
      ],
      "text/plain": [
       "<IPython.core.display.HTML object>"
      ]
     },
     "metadata": {},
     "output_type": "display_data"
    }
   ],
   "source": [
    "%%html\n",
    "<style>\n",
    "/* CSS style for smaller dataframe tables. */\n",
    ".dataframe th {\n",
    "    font-size: 8px;\n",
    "}\n",
    ".dataframe td {\n",
    "    font-size: 8px;\n",
    "}\n",
    "</style>"
   ]
  },
  {
   "cell_type": "code",
   "execution_count": 13,
   "id": "c2496caf",
   "metadata": {
    "execution": {
     "iopub.execute_input": "2024-06-03T04:58:27.761825Z",
     "iopub.status.busy": "2024-06-03T04:58:27.761534Z",
     "iopub.status.idle": "2024-06-03T04:58:27.763939Z",
     "shell.execute_reply": "2024-06-03T04:58:27.763430Z"
    }
   },
   "outputs": [],
   "source": [
    "# Main Colormap\n",
    "main_color_map = 'nipy_spectral'"
   ]
  },
  {
   "cell_type": "markdown",
   "id": "0c68aa20",
   "metadata": {},
   "source": [
    "## 1. Java Packages"
   ]
  },
  {
   "cell_type": "markdown",
   "id": "145dca19",
   "metadata": {},
   "source": [
    "### 1.1 Generate Node Embeddings using Fast Random Projection (Fast RP) for Java Packages\n",
    "\n",
    "[Fast Random Projection](https://neo4j.com/docs/graph-data-science/current/machine-learning/node-embeddings/fastrp) is used to reduce the dimensionality of the node feature space while preserving most of the distance information. Nodes with similar neighborhood result in node embedding with similar vectors."
   ]
  },
  {
   "cell_type": "code",
   "execution_count": 14,
   "id": "8efca2cf",
   "metadata": {
    "execution": {
     "iopub.execute_input": "2024-06-03T04:58:27.766116Z",
     "iopub.status.busy": "2024-06-03T04:58:27.765775Z",
     "iopub.status.idle": "2024-06-03T04:58:27.967946Z",
     "shell.execute_reply": "2024-06-03T04:58:27.967424Z"
    }
   },
   "outputs": [
    {
     "name": "stdout",
     "output_type": "stream",
     "text": [
      "The results have been provided by the query filename: ../cypher/Node_Embeddings/Node_Embeddings_0a_Query_Calculated.cypher\n"
     ]
    },
    {
     "data": {
      "text/html": [
       "<div>\n",
       "<style scoped>\n",
       "    .dataframe tbody tr th:only-of-type {\n",
       "        vertical-align: middle;\n",
       "    }\n",
       "\n",
       "    .dataframe tbody tr th {\n",
       "        vertical-align: top;\n",
       "    }\n",
       "\n",
       "    .dataframe thead th {\n",
       "        text-align: right;\n",
       "    }\n",
       "</style>\n",
       "<table border=\"1\" class=\"dataframe\">\n",
       "  <thead>\n",
       "    <tr style=\"text-align: right;\">\n",
       "      <th></th>\n",
       "      <th>codeUnitName</th>\n",
       "      <th>shortCodeUnitName</th>\n",
       "      <th>projectName</th>\n",
       "      <th>communityId</th>\n",
       "      <th>centrality</th>\n",
       "      <th>embedding</th>\n",
       "    </tr>\n",
       "  </thead>\n",
       "  <tbody>\n",
       "    <tr>\n",
       "      <th>0</th>\n",
       "      <td>org.axonframework.modelling.command</td>\n",
       "      <td>command</td>\n",
       "      <td>axon-modelling-4.9.3</td>\n",
       "      <td>0</td>\n",
       "      <td>0.155609</td>\n",
       "      <td>[-0.2152683585882187, 0.0, 0.0, 0.0, -0.326492...</td>\n",
       "    </tr>\n",
       "    <tr>\n",
       "      <th>1</th>\n",
       "      <td>org.axonframework.modelling.command.inspection</td>\n",
       "      <td>inspection</td>\n",
       "      <td>axon-modelling-4.9.3</td>\n",
       "      <td>0</td>\n",
       "      <td>0.152740</td>\n",
       "      <td>[-0.22790038585662842, 0.0, 0.0, 0.0, -0.38008...</td>\n",
       "    </tr>\n",
       "    <tr>\n",
       "      <th>2</th>\n",
       "      <td>org.axonframework.modelling.command.legacyjpa</td>\n",
       "      <td>legacyjpa</td>\n",
       "      <td>axon-modelling-4.9.3</td>\n",
       "      <td>0</td>\n",
       "      <td>0.016234</td>\n",
       "      <td>[-0.28117436170578003, 0.0, 0.0, 0.0, -0.39404...</td>\n",
       "    </tr>\n",
       "    <tr>\n",
       "      <th>3</th>\n",
       "      <td>org.axonframework.modelling.saga</td>\n",
       "      <td>saga</td>\n",
       "      <td>axon-modelling-4.9.3</td>\n",
       "      <td>1</td>\n",
       "      <td>0.349429</td>\n",
       "      <td>[0.4041573405265808, -0.12932345271110535, 0.4...</td>\n",
       "    </tr>\n",
       "    <tr>\n",
       "      <th>4</th>\n",
       "      <td>org.axonframework.modelling.saga.metamodel</td>\n",
       "      <td>metamodel</td>\n",
       "      <td>axon-modelling-4.9.3</td>\n",
       "      <td>1</td>\n",
       "      <td>0.315690</td>\n",
       "      <td>[0.4111862778663635, -0.19701780378818512, 0.4...</td>\n",
       "    </tr>\n",
       "  </tbody>\n",
       "</table>\n",
       "</div>"
      ],
      "text/plain": [
       "                                     codeUnitName shortCodeUnitName  \\\n",
       "0             org.axonframework.modelling.command           command   \n",
       "1  org.axonframework.modelling.command.inspection        inspection   \n",
       "2   org.axonframework.modelling.command.legacyjpa         legacyjpa   \n",
       "3                org.axonframework.modelling.saga              saga   \n",
       "4      org.axonframework.modelling.saga.metamodel         metamodel   \n",
       "\n",
       "            projectName  communityId  centrality  \\\n",
       "0  axon-modelling-4.9.3            0    0.155609   \n",
       "1  axon-modelling-4.9.3            0    0.152740   \n",
       "2  axon-modelling-4.9.3            0    0.016234   \n",
       "3  axon-modelling-4.9.3            1    0.349429   \n",
       "4  axon-modelling-4.9.3            1    0.315690   \n",
       "\n",
       "                                           embedding  \n",
       "0  [-0.2152683585882187, 0.0, 0.0, 0.0, -0.326492...  \n",
       "1  [-0.22790038585662842, 0.0, 0.0, 0.0, -0.38008...  \n",
       "2  [-0.28117436170578003, 0.0, 0.0, 0.0, -0.39404...  \n",
       "3  [0.4041573405265808, -0.12932345271110535, 0.4...  \n",
       "4  [0.4111862778663635, -0.19701780378818512, 0.4...  "
      ]
     },
     "metadata": {},
     "output_type": "display_data"
    }
   ],
   "source": [
    "java_package_embeddings_parameters={\n",
    "    \"dependencies_projection\": \"java-package-embeddings-notebook\",\n",
    "    \"dependencies_projection_node\": \"Package\",\n",
    "    \"dependencies_projection_weight_property\": \"weight25PercentInterfaces\",\n",
    "    \"dependencies_projection_write_property\": \"embeddingsFastRandomProjection\",\n",
    "    \"dependencies_projection_embedding_dimension\":\"32\"\n",
    "}\n",
    "embeddings = create_node_embeddings(\"../cypher/Node_Embeddings/Node_Embeddings_1d_Fast_Random_Projection_Stream.cypher\", java_package_embeddings_parameters)\n"
   ]
  },
  {
   "cell_type": "markdown",
   "id": "76d8bca1",
   "metadata": {},
   "source": [
    "### 1.2 Dimensionality reduction with t-distributed stochastic neighbor embedding (t-SNE)\n",
    "\n",
    "This step takes the original node embeddings with a higher dimensionality, e.g. 64 floating point numbers, and reduces them into a two dimensional array for visualization. For more details look up the function declaration for \"prepare_node_embeddings_for_2d_visualization\"."
   ]
  },
  {
   "cell_type": "code",
   "execution_count": 15,
   "id": "031abacc",
   "metadata": {
    "execution": {
     "iopub.execute_input": "2024-06-03T04:58:27.970183Z",
     "iopub.status.busy": "2024-06-03T04:58:27.970020Z",
     "iopub.status.idle": "2024-06-03T04:58:28.231133Z",
     "shell.execute_reply": "2024-06-03T04:58:28.230604Z"
    }
   },
   "outputs": [
    {
     "name": "stdout",
     "output_type": "stream",
     "text": [
      "t-SNE: Sample size (Number of nodes)=93\n",
      "t-SNE: perplexity=30.0\n",
      "[t-SNE] Computing 91 nearest neighbors...\n",
      "[t-SNE] Indexed 93 samples in 0.000s...\n",
      "[t-SNE] Computed neighbors for 93 samples in 0.037s...\n",
      "[t-SNE] Computed conditional probabilities for sample 93 / 93\n",
      "[t-SNE] Mean sigma: 0.574585\n",
      "[t-SNE] KL divergence after 250 iterations with early exaggeration: 49.517479\n",
      "[t-SNE] KL divergence after 1000 iterations: 0.079684\n"
     ]
    },
    {
     "data": {
      "text/plain": [
       "(93, 2)"
      ]
     },
     "metadata": {},
     "output_type": "display_data"
    },
    {
     "data": {
      "text/html": [
       "<div>\n",
       "<style scoped>\n",
       "    .dataframe tbody tr th:only-of-type {\n",
       "        vertical-align: middle;\n",
       "    }\n",
       "\n",
       "    .dataframe tbody tr th {\n",
       "        vertical-align: top;\n",
       "    }\n",
       "\n",
       "    .dataframe thead th {\n",
       "        text-align: right;\n",
       "    }\n",
       "</style>\n",
       "<table border=\"1\" class=\"dataframe\">\n",
       "  <thead>\n",
       "    <tr style=\"text-align: right;\">\n",
       "      <th></th>\n",
       "      <th>codeUnit</th>\n",
       "      <th>artifact</th>\n",
       "      <th>communityId</th>\n",
       "      <th>centrality</th>\n",
       "      <th>x</th>\n",
       "      <th>y</th>\n",
       "    </tr>\n",
       "  </thead>\n",
       "  <tbody>\n",
       "    <tr>\n",
       "      <th>0</th>\n",
       "      <td>org.axonframework.modelling.command</td>\n",
       "      <td>axon-modelling-4.9.3</td>\n",
       "      <td>0</td>\n",
       "      <td>0.155609</td>\n",
       "      <td>-3.266079</td>\n",
       "      <td>-4.222813</td>\n",
       "    </tr>\n",
       "    <tr>\n",
       "      <th>1</th>\n",
       "      <td>org.axonframework.modelling.command.inspection</td>\n",
       "      <td>axon-modelling-4.9.3</td>\n",
       "      <td>0</td>\n",
       "      <td>0.152740</td>\n",
       "      <td>-3.262945</td>\n",
       "      <td>-4.224000</td>\n",
       "    </tr>\n",
       "    <tr>\n",
       "      <th>2</th>\n",
       "      <td>org.axonframework.modelling.command.legacyjpa</td>\n",
       "      <td>axon-modelling-4.9.3</td>\n",
       "      <td>0</td>\n",
       "      <td>0.016234</td>\n",
       "      <td>-3.242641</td>\n",
       "      <td>-4.216191</td>\n",
       "    </tr>\n",
       "    <tr>\n",
       "      <th>3</th>\n",
       "      <td>org.axonframework.modelling.saga</td>\n",
       "      <td>axon-modelling-4.9.3</td>\n",
       "      <td>1</td>\n",
       "      <td>0.349429</td>\n",
       "      <td>-4.742171</td>\n",
       "      <td>-7.780855</td>\n",
       "    </tr>\n",
       "    <tr>\n",
       "      <th>4</th>\n",
       "      <td>org.axonframework.modelling.saga.metamodel</td>\n",
       "      <td>axon-modelling-4.9.3</td>\n",
       "      <td>1</td>\n",
       "      <td>0.315690</td>\n",
       "      <td>-4.598917</td>\n",
       "      <td>-8.042831</td>\n",
       "    </tr>\n",
       "  </tbody>\n",
       "</table>\n",
       "</div>"
      ],
      "text/plain": [
       "                                         codeUnit              artifact  \\\n",
       "0             org.axonframework.modelling.command  axon-modelling-4.9.3   \n",
       "1  org.axonframework.modelling.command.inspection  axon-modelling-4.9.3   \n",
       "2   org.axonframework.modelling.command.legacyjpa  axon-modelling-4.9.3   \n",
       "3                org.axonframework.modelling.saga  axon-modelling-4.9.3   \n",
       "4      org.axonframework.modelling.saga.metamodel  axon-modelling-4.9.3   \n",
       "\n",
       "   communityId  centrality         x         y  \n",
       "0            0    0.155609 -3.266079 -4.222813  \n",
       "1            0    0.152740 -3.262945 -4.224000  \n",
       "2            0    0.016234 -3.242641 -4.216191  \n",
       "3            1    0.349429 -4.742171 -7.780855  \n",
       "4            1    0.315690 -4.598917 -8.042831  "
      ]
     },
     "metadata": {},
     "output_type": "display_data"
    }
   ],
   "source": [
    "node_embeddings_for_visualization = prepare_node_embeddings_for_2d_visualization(embeddings)"
   ]
  },
  {
   "cell_type": "markdown",
   "id": "f908c47f",
   "metadata": {},
   "source": [
    "### 1.3 Visualization of the node embeddings reduced to two dimensions"
   ]
  },
  {
   "cell_type": "code",
   "execution_count": 16,
   "id": "459a819c",
   "metadata": {
    "execution": {
     "iopub.execute_input": "2024-06-03T04:58:28.233538Z",
     "iopub.status.busy": "2024-06-03T04:58:28.233347Z",
     "iopub.status.idle": "2024-06-03T04:58:28.343564Z",
     "shell.execute_reply": "2024-06-03T04:58:28.342984Z"
    }
   },
   "outputs": [
    {
     "data": {
      "image/png": "[encoded data removed]",
      "text/plain": [
       "<Figure size 640x480 with 1 Axes>"
      ]
     },
     "metadata": {},
     "output_type": "display_data"
    }
   ],
   "source": [
    "plot_2d_node_embeddings(\n",
    "    node_embeddings_for_visualization, \n",
    "    \"Java Package positioned by their dependency relationships (FastRP node embeddings + t-SNE)\"\n",
    ")"
   ]
  },
  {
   "cell_type": "markdown",
   "id": "b690b9a7",
   "metadata": {},
   "source": [
    "### 1.4 Node Embeddings for Java Packages using HashGNN\n",
    "\n",
    "[HashGNN](https://neo4j.com/docs/graph-data-science/2.6/machine-learning/node-embeddings/hashgnn) resembles Graph Neural Networks (GNN) but does not include a model or require training. It combines ideas of GNNs and fast randomized algorithms. For more details see [HashGNN](https://neo4j.com/docs/graph-data-science/2.6/machine-learning/node-embeddings/hashgnn). Here, the latter 3 steps are combined into one for HashGNN."
   ]
  },
  {
   "cell_type": "code",
   "execution_count": 17,
   "id": "3d3cfb7a",
   "metadata": {
    "execution": {
     "iopub.execute_input": "2024-06-03T04:58:28.346189Z",
     "iopub.status.busy": "2024-06-03T04:58:28.345837Z",
     "iopub.status.idle": "2024-06-03T04:58:28.809011Z",
     "shell.execute_reply": "2024-06-03T04:58:28.808478Z"
    }
   },
   "outputs": [
    {
     "name": "stdout",
     "output_type": "stream",
     "text": [
      "The results have been provided by the query filename: ../cypher/Node_Embeddings/Node_Embeddings_0a_Query_Calculated.cypher\n"
     ]
    },
    {
     "data": {
      "text/html": [
       "<div>\n",
       "<style scoped>\n",
       "    .dataframe tbody tr th:only-of-type {\n",
       "        vertical-align: middle;\n",
       "    }\n",
       "\n",
       "    .dataframe tbody tr th {\n",
       "        vertical-align: top;\n",
       "    }\n",
       "\n",
       "    .dataframe thead th {\n",
       "        text-align: right;\n",
       "    }\n",
       "</style>\n",
       "<table border=\"1\" class=\"dataframe\">\n",
       "  <thead>\n",
       "    <tr style=\"text-align: right;\">\n",
       "      <th></th>\n",
       "      <th>codeUnitName</th>\n",
       "      <th>shortCodeUnitName</th>\n",
       "      <th>projectName</th>\n",
       "      <th>communityId</th>\n",
       "      <th>centrality</th>\n",
       "      <th>embedding</th>\n",
       "    </tr>\n",
       "  </thead>\n",
       "  <tbody>\n",
       "    <tr>\n",
       "      <th>0</th>\n",
       "      <td>org.axonframework.modelling.command</td>\n",
       "      <td>command</td>\n",
       "      <td>axon-modelling-4.9.3</td>\n",
       "      <td>0</td>\n",
       "      <td>0.155609</td>\n",
       "      <td>[-0.4330126941204071, -0.21650634706020355, 0....</td>\n",
       "    </tr>\n",
       "    <tr>\n",
       "      <th>1</th>\n",
       "      <td>org.axonframework.modelling.command.inspection</td>\n",
       "      <td>inspection</td>\n",
       "      <td>axon-modelling-4.9.3</td>\n",
       "      <td>0</td>\n",
       "      <td>0.152740</td>\n",
       "      <td>[-0.4330126941204071, -0.21650634706020355, 0....</td>\n",
       "    </tr>\n",
       "    <tr>\n",
       "      <th>2</th>\n",
       "      <td>org.axonframework.modelling.command.legacyjpa</td>\n",
       "      <td>legacyjpa</td>\n",
       "      <td>axon-modelling-4.9.3</td>\n",
       "      <td>0</td>\n",
       "      <td>0.016234</td>\n",
       "      <td>[-0.4330126941204071, -0.21650634706020355, 0....</td>\n",
       "    </tr>\n",
       "    <tr>\n",
       "      <th>3</th>\n",
       "      <td>org.axonframework.modelling.saga</td>\n",
       "      <td>saga</td>\n",
       "      <td>axon-modelling-4.9.3</td>\n",
       "      <td>1</td>\n",
       "      <td>0.349429</td>\n",
       "      <td>[0.0, -0.6495190411806107, 0.21650634706020355...</td>\n",
       "    </tr>\n",
       "    <tr>\n",
       "      <th>4</th>\n",
       "      <td>org.axonframework.modelling.saga.metamodel</td>\n",
       "      <td>metamodel</td>\n",
       "      <td>axon-modelling-4.9.3</td>\n",
       "      <td>1</td>\n",
       "      <td>0.315690</td>\n",
       "      <td>[0.0, -0.6495190411806107, 0.21650634706020355...</td>\n",
       "    </tr>\n",
       "  </tbody>\n",
       "</table>\n",
       "</div>"
      ],
      "text/plain": [
       "                                     codeUnitName shortCodeUnitName  \\\n",
       "0             org.axonframework.modelling.command           command   \n",
       "1  org.axonframework.modelling.command.inspection        inspection   \n",
       "2   org.axonframework.modelling.command.legacyjpa         legacyjpa   \n",
       "3                org.axonframework.modelling.saga              saga   \n",
       "4      org.axonframework.modelling.saga.metamodel         metamodel   \n",
       "\n",
       "            projectName  communityId  centrality  \\\n",
       "0  axon-modelling-4.9.3            0    0.155609   \n",
       "1  axon-modelling-4.9.3            0    0.152740   \n",
       "2  axon-modelling-4.9.3            0    0.016234   \n",
       "3  axon-modelling-4.9.3            1    0.349429   \n",
       "4  axon-modelling-4.9.3            1    0.315690   \n",
       "\n",
       "                                           embedding  \n",
       "0  [-0.4330126941204071, -0.21650634706020355, 0....  \n",
       "1  [-0.4330126941204071, -0.21650634706020355, 0....  \n",
       "2  [-0.4330126941204071, -0.21650634706020355, 0....  \n",
       "3  [0.0, -0.6495190411806107, 0.21650634706020355...  \n",
       "4  [0.0, -0.6495190411806107, 0.21650634706020355...  "
      ]
     },
     "metadata": {},
     "output_type": "display_data"
    },
    {
     "name": "stdout",
     "output_type": "stream",
     "text": [
      "t-SNE: Sample size (Number of nodes)=93\n",
      "t-SNE: perplexity=30.0\n",
      "[t-SNE] Computing 91 nearest neighbors...\n",
      "[t-SNE] Indexed 93 samples in 0.000s...\n",
      "[t-SNE] Computed neighbors for 93 samples in 0.001s...\n",
      "[t-SNE] Computed conditional probabilities for sample 93 / 93\n",
      "[t-SNE] Mean sigma: 2.905029\n",
      "[t-SNE] KL divergence after 250 iterations with early exaggeration: 50.843010\n",
      "[t-SNE] KL divergence after 1000 iterations: 0.209599\n"
     ]
    },
    {
     "data": {
      "text/plain": [
       "(93, 2)"
      ]
     },
     "metadata": {},
     "output_type": "display_data"
    },
    {
     "data": {
      "text/html": [
       "<div>\n",
       "<style scoped>\n",
       "    .dataframe tbody tr th:only-of-type {\n",
       "        vertical-align: middle;\n",
       "    }\n",
       "\n",
       "    .dataframe tbody tr th {\n",
       "        vertical-align: top;\n",
       "    }\n",
       "\n",
       "    .dataframe thead th {\n",
       "        text-align: right;\n",
       "    }\n",
       "</style>\n",
       "<table border=\"1\" class=\"dataframe\">\n",
       "  <thead>\n",
       "    <tr style=\"text-align: right;\">\n",
       "      <th></th>\n",
       "      <th>codeUnit</th>\n",
       "      <th>artifact</th>\n",
       "      <th>communityId</th>\n",
       "      <th>centrality</th>\n",
       "      <th>x</th>\n",
       "      <th>y</th>\n",
       "    </tr>\n",
       "  </thead>\n",
       "  <tbody>\n",
       "    <tr>\n",
       "      <th>0</th>\n",
       "      <td>org.axonframework.modelling.command</td>\n",
       "      <td>axon-modelling-4.9.3</td>\n",
       "      <td>0</td>\n",
       "      <td>0.155609</td>\n",
       "      <td>-0.994492</td>\n",
       "      <td>-9.025749</td>\n",
       "    </tr>\n",
       "    <tr>\n",
       "      <th>1</th>\n",
       "      <td>org.axonframework.modelling.command.inspection</td>\n",
       "      <td>axon-modelling-4.9.3</td>\n",
       "      <td>0</td>\n",
       "      <td>0.152740</td>\n",
       "      <td>-0.994492</td>\n",
       "      <td>-9.025749</td>\n",
       "    </tr>\n",
       "    <tr>\n",
       "      <th>2</th>\n",
       "      <td>org.axonframework.modelling.command.legacyjpa</td>\n",
       "      <td>axon-modelling-4.9.3</td>\n",
       "      <td>0</td>\n",
       "      <td>0.016234</td>\n",
       "      <td>-1.239504</td>\n",
       "      <td>-8.942394</td>\n",
       "    </tr>\n",
       "    <tr>\n",
       "      <th>3</th>\n",
       "      <td>org.axonframework.modelling.saga</td>\n",
       "      <td>axon-modelling-4.9.3</td>\n",
       "      <td>1</td>\n",
       "      <td>0.349429</td>\n",
       "      <td>-3.778385</td>\n",
       "      <td>-5.326589</td>\n",
       "    </tr>\n",
       "    <tr>\n",
       "      <th>4</th>\n",
       "      <td>org.axonframework.modelling.saga.metamodel</td>\n",
       "      <td>axon-modelling-4.9.3</td>\n",
       "      <td>1</td>\n",
       "      <td>0.315690</td>\n",
       "      <td>-3.778385</td>\n",
       "      <td>-5.326589</td>\n",
       "    </tr>\n",
       "  </tbody>\n",
       "</table>\n",
       "</div>"
      ],
      "text/plain": [
       "                                         codeUnit              artifact  \\\n",
       "0             org.axonframework.modelling.command  axon-modelling-4.9.3   \n",
       "1  org.axonframework.modelling.command.inspection  axon-modelling-4.9.3   \n",
       "2   org.axonframework.modelling.command.legacyjpa  axon-modelling-4.9.3   \n",
       "3                org.axonframework.modelling.saga  axon-modelling-4.9.3   \n",
       "4      org.axonframework.modelling.saga.metamodel  axon-modelling-4.9.3   \n",
       "\n",
       "   communityId  centrality         x         y  \n",
       "0            0    0.155609 -0.994492 -9.025749  \n",
       "1            0    0.152740 -0.994492 -9.025749  \n",
       "2            0    0.016234 -1.239504 -8.942394  \n",
       "3            1    0.349429 -3.778385 -5.326589  \n",
       "4            1    0.315690 -3.778385 -5.326589  "
      ]
     },
     "metadata": {},
     "output_type": "display_data"
    },
    {
     "data": {
      "image/png": "[encoded data removed]",
      "text/plain": [
       "<Figure size 640x480 with 1 Axes>"
      ]
     },
     "metadata": {},
     "output_type": "display_data"
    }
   ],
   "source": [
    "java_package_embeddings_parameters={\n",
    "    \"dependencies_projection\": \"java-package-embeddings-notebook\",\n",
    "    \"dependencies_projection_node\": \"Package\",\n",
    "    \"dependencies_projection_weight_property\": \"weight25PercentInterfaces\",\n",
    "    \"dependencies_projection_write_property\": \"embeddingsHashGNN\",\n",
    "    \"dependencies_projection_embedding_dimension\":\"64\"\n",
    "}\n",
    "embeddings = create_node_embeddings(\"../cypher/Node_Embeddings/Node_Embeddings_2d_Hash_GNN_Stream.cypher\", java_package_embeddings_parameters)\n",
    "node_embeddings_for_visualization = prepare_node_embeddings_for_2d_visualization(embeddings)\n",
    "plot_2d_node_embeddings(\n",
    "    node_embeddings_for_visualization, \n",
    "    \"Java Package positioned by their dependency relationships (HashGNN node embeddings + t-SNE)\"\n",
    ")"
   ]
  },
  {
   "cell_type": "markdown",
   "id": "248d88b4",
   "metadata": {},
   "source": [
    "### 2.5 Node Embeddings for Java Packages using node2vec"
   ]
  },
  {
   "cell_type": "code",
   "execution_count": 18,
   "id": "62c40c45",
   "metadata": {
    "execution": {
     "iopub.execute_input": "2024-06-03T04:58:28.811523Z",
     "iopub.status.busy": "2024-06-03T04:58:28.811116Z",
     "iopub.status.idle": "2024-06-03T04:58:29.245404Z",
     "shell.execute_reply": "2024-06-03T04:58:29.244816Z"
    }
   },
   "outputs": [
    {
     "name": "stdout",
     "output_type": "stream",
     "text": [
      "The results have been provided by the query filename: ../cypher/Node_Embeddings/Node_Embeddings_0a_Query_Calculated.cypher\n"
     ]
    },
    {
     "data": {
      "text/html": [
       "<div>\n",
       "<style scoped>\n",
       "    .dataframe tbody tr th:only-of-type {\n",
       "        vertical-align: middle;\n",
       "    }\n",
       "\n",
       "    .dataframe tbody tr th {\n",
       "        vertical-align: top;\n",
       "    }\n",
       "\n",
       "    .dataframe thead th {\n",
       "        text-align: right;\n",
       "    }\n",
       "</style>\n",
       "<table border=\"1\" class=\"dataframe\">\n",
       "  <thead>\n",
       "    <tr style=\"text-align: right;\">\n",
       "      <th></th>\n",
       "      <th>codeUnitName</th>\n",
       "      <th>shortCodeUnitName</th>\n",
       "      <th>projectName</th>\n",
       "      <th>communityId</th>\n",
       "      <th>centrality</th>\n",
       "      <th>embedding</th>\n",
       "    </tr>\n",
       "  </thead>\n",
       "  <tbody>\n",
       "    <tr>\n",
       "      <th>0</th>\n",
       "      <td>org.axonframework.modelling.command</td>\n",
       "      <td>command</td>\n",
       "      <td>axon-modelling-4.9.3</td>\n",
       "      <td>0</td>\n",
       "      <td>0.155609</td>\n",
       "      <td>[0.04541820287704468, -0.07403725385665894, 0....</td>\n",
       "    </tr>\n",
       "    <tr>\n",
       "      <th>1</th>\n",
       "      <td>org.axonframework.modelling.command.inspection</td>\n",
       "      <td>inspection</td>\n",
       "      <td>axon-modelling-4.9.3</td>\n",
       "      <td>0</td>\n",
       "      <td>0.152740</td>\n",
       "      <td>[0.10988408327102661, -0.04785287752747536, 0....</td>\n",
       "    </tr>\n",
       "    <tr>\n",
       "      <th>2</th>\n",
       "      <td>org.axonframework.modelling.command.legacyjpa</td>\n",
       "      <td>legacyjpa</td>\n",
       "      <td>axon-modelling-4.9.3</td>\n",
       "      <td>0</td>\n",
       "      <td>0.016234</td>\n",
       "      <td>[0.0647360160946846, -0.041091881692409515, 0....</td>\n",
       "    </tr>\n",
       "    <tr>\n",
       "      <th>3</th>\n",
       "      <td>org.axonframework.modelling.saga</td>\n",
       "      <td>saga</td>\n",
       "      <td>axon-modelling-4.9.3</td>\n",
       "      <td>1</td>\n",
       "      <td>0.349429</td>\n",
       "      <td>[0.12291703373193741, 0.8706182241439819, 1.29...</td>\n",
       "    </tr>\n",
       "    <tr>\n",
       "      <th>4</th>\n",
       "      <td>org.axonframework.modelling.saga.metamodel</td>\n",
       "      <td>metamodel</td>\n",
       "      <td>axon-modelling-4.9.3</td>\n",
       "      <td>1</td>\n",
       "      <td>0.315690</td>\n",
       "      <td>[-0.08251871913671494, 0.8261094689369202, 1.3...</td>\n",
       "    </tr>\n",
       "  </tbody>\n",
       "</table>\n",
       "</div>"
      ],
      "text/plain": [
       "                                     codeUnitName shortCodeUnitName  \\\n",
       "0             org.axonframework.modelling.command           command   \n",
       "1  org.axonframework.modelling.command.inspection        inspection   \n",
       "2   org.axonframework.modelling.command.legacyjpa         legacyjpa   \n",
       "3                org.axonframework.modelling.saga              saga   \n",
       "4      org.axonframework.modelling.saga.metamodel         metamodel   \n",
       "\n",
       "            projectName  communityId  centrality  \\\n",
       "0  axon-modelling-4.9.3            0    0.155609   \n",
       "1  axon-modelling-4.9.3            0    0.152740   \n",
       "2  axon-modelling-4.9.3            0    0.016234   \n",
       "3  axon-modelling-4.9.3            1    0.349429   \n",
       "4  axon-modelling-4.9.3            1    0.315690   \n",
       "\n",
       "                                           embedding  \n",
       "0  [0.04541820287704468, -0.07403725385665894, 0....  \n",
       "1  [0.10988408327102661, -0.04785287752747536, 0....  \n",
       "2  [0.0647360160946846, -0.041091881692409515, 0....  \n",
       "3  [0.12291703373193741, 0.8706182241439819, 1.29...  \n",
       "4  [-0.08251871913671494, 0.8261094689369202, 1.3...  "
      ]
     },
     "metadata": {},
     "output_type": "display_data"
    },
    {
     "name": "stdout",
     "output_type": "stream",
     "text": [
      "t-SNE: Sample size (Number of nodes)=93\n",
      "t-SNE: perplexity=30.0\n",
      "[t-SNE] Computing 91 nearest neighbors...\n",
      "[t-SNE] Indexed 93 samples in 0.000s...\n",
      "[t-SNE] Computed neighbors for 93 samples in 0.002s...\n",
      "[t-SNE] Computed conditional probabilities for sample 93 / 93\n",
      "[t-SNE] Mean sigma: 0.664568\n",
      "[t-SNE] KL divergence after 250 iterations with early exaggeration: 51.765137\n",
      "[t-SNE] KL divergence after 1000 iterations: 0.101871\n"
     ]
    },
    {
     "data": {
      "text/plain": [
       "(93, 2)"
      ]
     },
     "metadata": {},
     "output_type": "display_data"
    },
    {
     "data": {
      "text/html": [
       "<div>\n",
       "<style scoped>\n",
       "    .dataframe tbody tr th:only-of-type {\n",
       "        vertical-align: middle;\n",
       "    }\n",
       "\n",
       "    .dataframe tbody tr th {\n",
       "        vertical-align: top;\n",
       "    }\n",
       "\n",
       "    .dataframe thead th {\n",
       "        text-align: right;\n",
       "    }\n",
       "</style>\n",
       "<table border=\"1\" class=\"dataframe\">\n",
       "  <thead>\n",
       "    <tr style=\"text-align: right;\">\n",
       "      <th></th>\n",
       "      <th>codeUnit</th>\n",
       "      <th>artifact</th>\n",
       "      <th>communityId</th>\n",
       "      <th>centrality</th>\n",
       "      <th>x</th>\n",
       "      <th>y</th>\n",
       "    </tr>\n",
       "  </thead>\n",
       "  <tbody>\n",
       "    <tr>\n",
       "      <th>0</th>\n",
       "      <td>org.axonframework.modelling.command</td>\n",
       "      <td>axon-modelling-4.9.3</td>\n",
       "      <td>0</td>\n",
       "      <td>0.155609</td>\n",
       "      <td>0.187394</td>\n",
       "      <td>3.082840</td>\n",
       "    </tr>\n",
       "    <tr>\n",
       "      <th>1</th>\n",
       "      <td>org.axonframework.modelling.command.inspection</td>\n",
       "      <td>axon-modelling-4.9.3</td>\n",
       "      <td>0</td>\n",
       "      <td>0.152740</td>\n",
       "      <td>0.145544</td>\n",
       "      <td>3.087847</td>\n",
       "    </tr>\n",
       "    <tr>\n",
       "      <th>2</th>\n",
       "      <td>org.axonframework.modelling.command.legacyjpa</td>\n",
       "      <td>axon-modelling-4.9.3</td>\n",
       "      <td>0</td>\n",
       "      <td>0.016234</td>\n",
       "      <td>0.106930</td>\n",
       "      <td>3.039568</td>\n",
       "    </tr>\n",
       "    <tr>\n",
       "      <th>3</th>\n",
       "      <td>org.axonframework.modelling.saga</td>\n",
       "      <td>axon-modelling-4.9.3</td>\n",
       "      <td>1</td>\n",
       "      <td>0.349429</td>\n",
       "      <td>-2.579305</td>\n",
       "      <td>-0.612422</td>\n",
       "    </tr>\n",
       "    <tr>\n",
       "      <th>4</th>\n",
       "      <td>org.axonframework.modelling.saga.metamodel</td>\n",
       "      <td>axon-modelling-4.9.3</td>\n",
       "      <td>1</td>\n",
       "      <td>0.315690</td>\n",
       "      <td>-2.532568</td>\n",
       "      <td>-0.378281</td>\n",
       "    </tr>\n",
       "  </tbody>\n",
       "</table>\n",
       "</div>"
      ],
      "text/plain": [
       "                                         codeUnit              artifact  \\\n",
       "0             org.axonframework.modelling.command  axon-modelling-4.9.3   \n",
       "1  org.axonframework.modelling.command.inspection  axon-modelling-4.9.3   \n",
       "2   org.axonframework.modelling.command.legacyjpa  axon-modelling-4.9.3   \n",
       "3                org.axonframework.modelling.saga  axon-modelling-4.9.3   \n",
       "4      org.axonframework.modelling.saga.metamodel  axon-modelling-4.9.3   \n",
       "\n",
       "   communityId  centrality         x         y  \n",
       "0            0    0.155609  0.187394  3.082840  \n",
       "1            0    0.152740  0.145544  3.087847  \n",
       "2            0    0.016234  0.106930  3.039568  \n",
       "3            1    0.349429 -2.579305 -0.612422  \n",
       "4            1    0.315690 -2.532568 -0.378281  "
      ]
     },
     "metadata": {},
     "output_type": "display_data"
    },
    {
     "data": {
      "image/png": "[encoded data removed]",
      "text/plain": [
       "<Figure size 640x480 with 1 Axes>"
      ]
     },
     "metadata": {},
     "output_type": "display_data"
    }
   ],
   "source": [
    "java_package_embeddings_parameters={\n",
    "    \"dependencies_projection\": \"java-package-embeddings-notebook\",\n",
    "    \"dependencies_projection_node\": \"Package\",\n",
    "    \"dependencies_projection_weight_property\": \"weight25PercentInterfaces\",\n",
    "    \"dependencies_projection_write_property\": \"embeddingsNode2Vec\",\n",
    "    \"dependencies_projection_embedding_dimension\":\"32\"\n",
    "}\n",
    "embeddings = create_node_embeddings(\"../cypher/Node_Embeddings/Node_Embeddings_3d_Node2Vec_Stream.cypher\", java_package_embeddings_parameters)\n",
    "node_embeddings_for_visualization = prepare_node_embeddings_for_2d_visualization(embeddings)\n",
    "plot_2d_node_embeddings(\n",
    "    node_embeddings_for_visualization, \n",
    "    \"Java Package positioned by their dependency relationships (node2vec node embeddings + t-SNE)\"\n",
    ")"
   ]
  }
 ],
 "metadata": {
  "authors": [
   {
    "name": "JohT"
   }
  ],
  "code_graph_analysis_pipeline_data_validation": "ValidateJavaPackageDependencies",
  "kernelspec": {
   "display_name": "Python 3 (ipykernel)",
   "language": "python",
   "name": "python3"
  },
  "language_info": {
   "codemirror_mode": {
    "name": "ipython",
    "version": 3
   },
   "file_extension": ".py",
   "mimetype": "text/x-python",
   "name": "python",
   "nbconvert_exporter": "python",
   "pygments_lexer": "ipython3",
   "version": "3.11.0"
  },
  "title": "Object Oriented Design Quality Metrics for Java with Neo4j"
 },
 "nbformat": 4,
 "nbformat_minor": 5
}
