{
 "cells": [
  {
   "attachments": {},
   "cell_type": "markdown",
   "id": "2f0eabc4",
   "metadata": {},
   "source": [
    "# Node Embeddings\n",
    "\n",
    "This notebook demonstrates different methods for node embeddings and how to further reduce their dimensionality to be able to visualize them in a 2D plot. \n",
    "\n",
    "Node embeddings are essentially an array of floating point numbers (length = embedding dimension) that can be used as \"features\" in machine learning. These numbers approximate the relationship and similarity information of each node and can also be seen as a way to encode the topology of the graph.\n",
    "\n",
    "## Considerations\n",
    "\n",
    "Due to dimensionality reduction some information gets lost, especially when visualizing node embeddings in two dimensions. Nevertheless, it helps to get an intuition on what node embeddings are and how much of the similarity and neighborhood information is retained. The latter can be observed by how well nodes of the same color and therefore same community are placed together and how much bigger nodes with a high centrality score influence them. \n",
    "\n",
    "If the visualization doesn't show a somehow clear separation between the communities (colors) here are some ideas for tuning: \n",
    "- Clean the data, e.g. filter out very few nodes with extremely high degree that aren't actually that important\n",
    "- Try directed vs. undirected projections\n",
    "- Tune the embedding algorithm, e.g. use a higher dimensionality\n",
    "- Tune t-SNE that is used to reduce the node embeddings dimension to two dimensions for visualization. \n",
    "\n",
    "It could also be the case that the node embeddings are good enough and well suited the way they are despite their visualization for the down stream task like node classification or link prediction. In that case it makes sense to see how the whole pipeline performs before tuning the node embeddings in detail. \n",
    "\n",
    "## Note about data dependencies\n",
    "\n",
    "PageRank centrality and Leiden community are also fetched from the Graph and need to be calculated first.\n",
    "This makes it easier to see if the embeddings approximate the structural information of the graph in the plot.\n",
    "If these properties are missing you will only see black dots all of the same size.\n",
    "\n",
    "<br>  \n",
    "\n",
    "### References\n",
    "- [jqassistant](https://jqassistant.org)\n",
    "- [Neo4j Python Driver](https://neo4j.com/docs/api/python-driver/current)\n",
    "- [Tutorial: Applied Graph Embeddings](https://neo4j.com/developer/graph-data-science/applied-graph-embeddings)\n",
    "- [Visualizing the embeddings in 2D](https://github.com/openai/openai-cookbook/blob/main/examples/Visualizing_embeddings_in_2D.ipynb)\n",
    "- [scikit-learn TSNE](https://scikit-learn.org/stable/modules/generated/sklearn.manifold.TSNE.html#sklearn.manifold.TSNE)\n",
    "- [AttributeError: 'list' object has no attribute 'shape'](https://bobbyhadz.com/blog/python-attributeerror-list-object-has-no-attribute-shape)\n",
    "- [Fast Random Projection (neo4j)](https://neo4j.com/docs/graph-data-science/current/machine-learning/node-embeddings/fastrp)\n",
    "- [HashGNN (neo4j)](https://neo4j.com/docs/graph-data-science/2.6/machine-learning/node-embeddings/hashgnn)\n",
    "- [node2vec (neo4j)](https://neo4j.com/docs/graph-data-science/current/machine-learning/node-embeddings/node2vec) computes a vector representation of a node based on second order random walks in the graph. \n",
    "- [Complete guide to understanding Node2Vec algorithm](https://towardsdatascience.com/complete-guide-to-understanding-node2vec-algorithm-4e9a35e5d147)"
   ]
  },
  {
   "cell_type": "code",
   "execution_count": 1,
   "id": "4191f259",
   "metadata": {
    "execution": {
     "iopub.execute_input": "2024-06-29T08:23:38.797347Z",
     "iopub.status.busy": "2024-06-29T08:23:38.797179Z",
     "iopub.status.idle": "2024-06-29T08:23:39.606423Z",
     "shell.execute_reply": "2024-06-29T08:23:39.605894Z"
    }
   },
   "outputs": [],
   "source": [
    "import os\n",
    "from IPython.display import display\n",
    "import pandas as pd\n",
    "import matplotlib.pyplot as plot\n",
    "import typing as typ\n",
    "import numpy as np\n",
    "from openTSNE.sklearn import TSNE\n",
    "from neo4j import GraphDatabase"
   ]
  },
  {
   "cell_type": "code",
   "execution_count": 2,
   "id": "f8ef41ff",
   "metadata": {
    "execution": {
     "iopub.execute_input": "2024-06-29T08:23:39.609087Z",
     "iopub.status.busy": "2024-06-29T08:23:39.608592Z",
     "iopub.status.idle": "2024-06-29T08:23:39.611874Z",
     "shell.execute_reply": "2024-06-29T08:23:39.611428Z"
    }
   },
   "outputs": [
    {
     "name": "stdout",
     "output_type": "stream",
     "text": [
      "The openTSNE version is: 1.0.1\n",
      "The pandas version is: 1.5.1\n"
     ]
    }
   ],
   "source": [
    "from openTSNE import __version__ as openTSNE_version\n",
    "print('The openTSNE version is: {}'.format(openTSNE_version))\n",
    "print('The pandas version is: {}'.format(pd.__version__))\n"
   ]
  },
  {
   "cell_type": "code",
   "execution_count": 3,
   "id": "1c5dab37",
   "metadata": {
    "execution": {
     "iopub.execute_input": "2024-06-29T08:23:39.614285Z",
     "iopub.status.busy": "2024-06-29T08:23:39.613988Z",
     "iopub.status.idle": "2024-06-29T08:23:39.620558Z",
     "shell.execute_reply": "2024-06-29T08:23:39.620188Z"
    }
   },
   "outputs": [],
   "source": [
    "# Please set the environment variable \"NEO4J_INITIAL_PASSWORD\" in your shell \n",
    "# before starting jupyter notebook to provide the password for the user \"neo4j\". \n",
    "# It is not recommended to hardcode the password into jupyter notebook for security reasons.\n",
    "\n",
    "driver = GraphDatabase.driver(uri=\"bolt://localhost:7687\", auth=(\"neo4j\", os.environ.get(\"NEO4J_INITIAL_PASSWORD\")))\n",
    "driver.verify_connectivity()"
   ]
  },
  {
   "cell_type": "code",
   "execution_count": 4,
   "id": "c1db254b",
   "metadata": {
    "execution": {
     "iopub.execute_input": "2024-06-29T08:23:39.622289Z",
     "iopub.status.busy": "2024-06-29T08:23:39.622139Z",
     "iopub.status.idle": "2024-06-29T08:23:39.624688Z",
     "shell.execute_reply": "2024-06-29T08:23:39.624320Z"
    }
   },
   "outputs": [],
   "source": [
    "def get_cypher_query_from_file(filename):\n",
    "    with open(filename) as file:\n",
    "        return ' '.join(file.readlines())"
   ]
  },
  {
   "cell_type": "code",
   "execution_count": 5,
   "id": "59310f6f",
   "metadata": {
    "execution": {
     "iopub.execute_input": "2024-06-29T08:23:39.626723Z",
     "iopub.status.busy": "2024-06-29T08:23:39.626426Z",
     "iopub.status.idle": "2024-06-29T08:23:39.629261Z",
     "shell.execute_reply": "2024-06-29T08:23:39.628849Z"
    }
   },
   "outputs": [],
   "source": [
    "def query_cypher_to_data_frame(filename, parameters_: typ.Optional[typ.Dict[str, typ.Any]] = None):\n",
    "    records, summary, keys = driver.execute_query(get_cypher_query_from_file(filename),parameters_=parameters_)\n",
    "    return pd.DataFrame([r.values() for r in records], columns=keys)"
   ]
  },
  {
   "cell_type": "code",
   "execution_count": 6,
   "id": "bd1d9775",
   "metadata": {
    "execution": {
     "iopub.execute_input": "2024-06-29T08:23:39.631284Z",
     "iopub.status.busy": "2024-06-29T08:23:39.630977Z",
     "iopub.status.idle": "2024-06-29T08:23:39.634120Z",
     "shell.execute_reply": "2024-06-29T08:23:39.633727Z"
    }
   },
   "outputs": [],
   "source": [
    "def query_first_non_empty_cypher_to_data_frame(*filenames : str, parameters: typ.Optional[typ.Dict[str, typ.Any]] = None):\n",
    "    \"\"\"\n",
    "    Executes the Cypher queries of the given files and returns the first result that is not empty.\n",
    "    If all given file names result in empty results, the last (empty) result will be returned.\n",
    "    By additionally specifying \"limit=\" the \"LIMIT\" keyword will appended to query so that only the first results get returned.\n",
    "    \"\"\"\n",
    "    result=pd.DataFrame()\n",
    "    for filename in filenames:\n",
    "        result=query_cypher_to_data_frame(filename, parameters)\n",
    "        if not result.empty:\n",
    "            print(\"The results have been provided by the query filename: \" + filename)\n",
    "            return result\n",
    "    return result"
   ]
  },
  {
   "cell_type": "code",
   "execution_count": 7,
   "id": "7d2e62d6",
   "metadata": {
    "execution": {
     "iopub.execute_input": "2024-06-29T08:23:39.636009Z",
     "iopub.status.busy": "2024-06-29T08:23:39.635712Z",
     "iopub.status.idle": "2024-06-29T08:23:39.639065Z",
     "shell.execute_reply": "2024-06-29T08:23:39.638585Z"
    }
   },
   "outputs": [],
   "source": [
    "# TODO option to choose between directed and undirected projection\n",
    "\n",
    "def create_undirected_projection(parameters: dict) -> bool: \n",
    "    \"\"\"\n",
    "    Creates an undirected homogenous in-memory Graph projection for/with Neo4j Graph Data Science Plugin.\n",
    "    It returns True if there is data available for the given parameter and False otherwise.\n",
    "    Parameters\n",
    "    ----------\n",
    "    dependencies_projection : str\n",
    "        The name prefix for the in-memory projection for dependencies. Example: \"java-package-embeddings-notebook\"\n",
    "    dependencies_projection_node : str\n",
    "        The label of the nodes that will be used for the projection. Example: \"Package\"\n",
    "    dependencies_projection_weight_property : str\n",
    "        The name of the node property that contains the dependency weight. Example: \"weight25PercentInterfaces\"\n",
    "    dependencies_projection_embedding_dimension : str\n",
    "        The number of the dimensions and therefore size of the resulting array of floating point numbers\n",
    "    \"\"\"\n",
    "    \n",
    "    is_data_missing=query_cypher_to_data_frame(\"../cypher/Dependencies_Projection/Dependencies_0_Check_Projectable.cypher\", parameters).empty\n",
    "    if is_data_missing: return False\n",
    "\n",
    "    query_cypher_to_data_frame(\"../cypher/Dependencies_Projection/Dependencies_1_Delete_Projection.cypher\", parameters)\n",
    "    query_cypher_to_data_frame(\"../cypher/Dependencies_Projection/Dependencies_2_Delete_Subgraph.cypher\", parameters)\n",
    "    # To include the direction of the relationships use the following line to create the projection:\n",
    "    # query_cypher_to_data_frame(\"../cypher/Dependencies_Projection/Dependencies_3_Create_Projection.cypher\", parameters)\n",
    "    query_cypher_to_data_frame(\"../cypher/Dependencies_Projection/Dependencies_4_Create_Undirected_Projection.cypher\", parameters)\n",
    "    query_cypher_to_data_frame(\"../cypher/Dependencies_Projection/Dependencies_5_Create_Subgraph.cypher\", parameters)\n",
    "    return True"
   ]
  },
  {
   "cell_type": "code",
   "execution_count": 8,
   "id": "1aa86093",
   "metadata": {
    "execution": {
     "iopub.execute_input": "2024-06-29T08:23:39.641059Z",
     "iopub.status.busy": "2024-06-29T08:23:39.640750Z",
     "iopub.status.idle": "2024-06-29T08:23:39.644432Z",
     "shell.execute_reply": "2024-06-29T08:23:39.643950Z"
    }
   },
   "outputs": [],
   "source": [
    "# Feature ideas\n",
    "# TODO option to choose between directed and undirected projection\n",
    "# TODO option to not read already existing node embeddings to experiment with different (hpyer) parameters\n",
    "# TODO run a community detection algorithm co-located in here when \"communityId\" is missing\n",
    "# TODO run a centrality algorithm co-located in here when \"centrality\" score is missing\n",
    "\n",
    "def create_node_embeddings(cypher_file_name: str, parameters: dict) -> pd.DataFrame: \n",
    "    \"\"\"\n",
    "    Creates an in-memory Graph projection by calling \"create_undirected_projection\", \n",
    "    runs the cypher Query given as cypherFileName parameter to calculate and stream the node embeddings\n",
    "    and returns a DataFrame with the results.\n",
    "    \n",
    "    cypher_file_name\n",
    "    ----------\n",
    "    Name of the file containing the Cypher query that executes node embeddings procedure.\n",
    "\n",
    "    parameters\n",
    "    ----------\n",
    "    dependencies_projection : str\n",
    "        The name prefix for the in-memory projection for dependencies. Example: \"java-package-embeddings-notebook\"\n",
    "    dependencies_projection_node : str\n",
    "        The label of the nodes that will be used for the projection. Example: \"Package\"\n",
    "    dependencies_projection_weight_property : str\n",
    "        The name of the node property that contains the dependency weight. Example: \"weight25PercentInterfaces\"\n",
    "    dependencies_projection_embedding_dimension : str\n",
    "        The number of the dimensions and therefore size of the resulting array of floating point numbers\n",
    "    \"\"\"\n",
    "    \n",
    "    is_data_available=create_undirected_projection(parameters)\n",
    "    \n",
    "    if not is_data_available:\n",
    "        print(\"No projected data for node embeddings calculation available\")\n",
    "        empty_result = pd.DataFrame(columns=[\"codeUnitName\", 'projectName', 'communityId', 'centrality', 'embedding'])\n",
    "        return empty_result\n",
    "\n",
    "    existing_embeddings_query_filename=\"../cypher/Node_Embeddings/Node_Embeddings_0a_Query_Calculated.cypher\"\n",
    "    embeddings = query_first_non_empty_cypher_to_data_frame(existing_embeddings_query_filename, cypher_file_name, parameters=parameters)\n",
    "    display(embeddings.head()) # Display the first entries of the table\n",
    "    return embeddings"
   ]
  },
  {
   "cell_type": "markdown",
   "id": "f6ec6a9b",
   "metadata": {},
   "source": [
    "### Dimensionality reduction with t-distributed stochastic neighbor embedding (t-SNE)\n",
    "\n",
    "The following function takes the original node embeddings with a higher dimensionality, e.g. 64 floating point numbers, and reduces them into a two dimensional array for visualization. \n",
    "\n",
    "> It converts similarities between data points to joint probabilities and tries to minimize the Kullback-Leibler divergence between the joint probabilities of the low-dimensional embedding and the high-dimensional data.\n",
    "\n",
    "(see https://opentsne.readthedocs.io)"
   ]
  },
  {
   "cell_type": "code",
   "execution_count": 9,
   "id": "720aebd3",
   "metadata": {
    "execution": {
     "iopub.execute_input": "2024-06-29T08:23:39.646407Z",
     "iopub.status.busy": "2024-06-29T08:23:39.646108Z",
     "iopub.status.idle": "2024-06-29T08:23:39.650152Z",
     "shell.execute_reply": "2024-06-29T08:23:39.649773Z"
    }
   },
   "outputs": [],
   "source": [
    "def prepare_node_embeddings_for_2d_visualization(embeddings: pd.DataFrame) -> pd.DataFrame:\n",
    "    \"\"\"\n",
    "    Reduces the dimensionality of the node embeddings (e.g. 64 floating point numbers in an array)\n",
    "    to two dimensions for 2D visualization.\n",
    "    see https://opentsne.readthedocs.io\n",
    "    \"\"\"\n",
    "\n",
    "    if embeddings.empty: \n",
    "        print(\"No projected data for node embeddings dimensionality reduction available\")\n",
    "        return embeddings\n",
    "    \n",
    "    # Calling the fit_transform method just with a list doesn't seem to work (anymore?). \n",
    "    # It leads to an error with the following message: 'list' object has no attribute 'shape'\n",
    "    # This can be solved by converting the list to a numpy array using np.array(..).\n",
    "    # See https://bobbyhadz.com/blog/python-attributeerror-list-object-has-no-attribute-shape\n",
    "    embeddings_as_numpy_array = np.array(embeddings.embedding.to_list())\n",
    "\n",
    "    # Use t-distributed stochastic neighbor embedding (t-SNE) to reduce the dimensionality \n",
    "    # of the previously calculated node embeddings to 2 dimensions for visualization\n",
    "    t_distributed_stochastic_neighbor_embedding = TSNE(n_components=2, verbose=1, random_state=47)\n",
    "    two_dimension_node_embeddings = t_distributed_stochastic_neighbor_embedding.fit_transform(embeddings_as_numpy_array)\n",
    "    display(two_dimension_node_embeddings.shape) # Display the shape of the t-SNE result\n",
    "\n",
    "    # Create a new DataFrame with the results of the 2 dimensional node embeddings\n",
    "    # and the code unit and artifact name of the query above as preparation for the plot\n",
    "    node_embeddings_for_visualization = pd.DataFrame(data = {\n",
    "        \"codeUnit\": embeddings.codeUnitName,\n",
    "        \"artifact\": embeddings.projectName,\n",
    "        \"communityId\": embeddings.communityId,\n",
    "        \"centrality\": embeddings.centrality,\n",
    "        \"x\": [value[0] for value in two_dimension_node_embeddings],\n",
    "        \"y\": [value[1] for value in two_dimension_node_embeddings]\n",
    "    })\n",
    "    display(node_embeddings_for_visualization.head()) # Display the first line of the results\n",
    "    return node_embeddings_for_visualization\n",
    "    "
   ]
  },
  {
   "cell_type": "code",
   "execution_count": 10,
   "id": "d937e26e",
   "metadata": {
    "execution": {
     "iopub.execute_input": "2024-06-29T08:23:39.651802Z",
     "iopub.status.busy": "2024-06-29T08:23:39.651653Z",
     "iopub.status.idle": "2024-06-29T08:23:39.654711Z",
     "shell.execute_reply": "2024-06-29T08:23:39.654301Z"
    }
   },
   "outputs": [],
   "source": [
    "def plot_2d_node_embeddings(node_embeddings_for_visualization: pd.DataFrame, title: str):\n",
    "    if embeddings.empty:\n",
    "        print(\"No projected data to plot available\")\n",
    "        return\n",
    "\n",
    "    plot.scatter(\n",
    "        x=node_embeddings_for_visualization.x,\n",
    "        y=node_embeddings_for_visualization.y,\n",
    "        s=node_embeddings_for_visualization.centrality * 300,\n",
    "        c=node_embeddings_for_visualization.communityId,\n",
    "        cmap=main_color_map,\n",
    "    )\n",
    "    plot.title(title)\n",
    "    plot.show()"
   ]
  },
  {
   "cell_type": "code",
   "execution_count": 11,
   "id": "da9e8edb",
   "metadata": {
    "execution": {
     "iopub.execute_input": "2024-06-29T08:23:39.656423Z",
     "iopub.status.busy": "2024-06-29T08:23:39.656273Z",
     "iopub.status.idle": "2024-06-29T08:23:39.658580Z",
     "shell.execute_reply": "2024-06-29T08:23:39.658076Z"
    }
   },
   "outputs": [],
   "source": [
    "#The following cell uses the build-in %html \"magic\" to override the CSS style for tables to a much smaller size.\n",
    "#This is especially needed for PDF export of tables with multiple columns."
   ]
  },
  {
   "cell_type": "code",
   "execution_count": 12,
   "id": "9deaabce",
   "metadata": {
    "execution": {
     "iopub.execute_input": "2024-06-29T08:23:39.660317Z",
     "iopub.status.busy": "2024-06-29T08:23:39.660166Z",
     "iopub.status.idle": "2024-06-29T08:23:39.666953Z",
     "shell.execute_reply": "2024-06-29T08:23:39.666558Z"
    }
   },
   "outputs": [
    {
     "data": {
      "text/html": [
       "<style>\n",
       "/* CSS style for smaller dataframe tables. */\n",
       ".dataframe th {\n",
       "    font-size: 8px;\n",
       "}\n",
       ".dataframe td {\n",
       "    font-size: 8px;\n",
       "}\n",
       "</style>\n"
      ],
      "text/plain": [
       "<IPython.core.display.HTML object>"
      ]
     },
     "metadata": {},
     "output_type": "display_data"
    }
   ],
   "source": [
    "%%html\n",
    "<style>\n",
    "/* CSS style for smaller dataframe tables. */\n",
    ".dataframe th {\n",
    "    font-size: 8px;\n",
    "}\n",
    ".dataframe td {\n",
    "    font-size: 8px;\n",
    "}\n",
    "</style>"
   ]
  },
  {
   "cell_type": "code",
   "execution_count": 13,
   "id": "c2496caf",
   "metadata": {
    "execution": {
     "iopub.execute_input": "2024-06-29T08:23:39.668697Z",
     "iopub.status.busy": "2024-06-29T08:23:39.668456Z",
     "iopub.status.idle": "2024-06-29T08:23:39.670814Z",
     "shell.execute_reply": "2024-06-29T08:23:39.670318Z"
    }
   },
   "outputs": [],
   "source": [
    "# Main Colormap\n",
    "main_color_map = 'nipy_spectral'"
   ]
  },
  {
   "cell_type": "markdown",
   "id": "0c68aa20",
   "metadata": {},
   "source": [
    "## 1. Java Packages"
   ]
  },
  {
   "cell_type": "markdown",
   "id": "145dca19",
   "metadata": {},
   "source": [
    "### 1.1 Generate Node Embeddings using Fast Random Projection (Fast RP) for Java Packages\n",
    "\n",
    "[Fast Random Projection](https://neo4j.com/docs/graph-data-science/current/machine-learning/node-embeddings/fastrp) is used to reduce the dimensionality of the node feature space while preserving most of the distance information. Nodes with similar neighborhood result in node embedding with similar vectors.\n",
    "\n",
    "**👉Hint:** To skip existing node embeddings and always calculate them based on the parameters below edit `Node_Embeddings_0a_Query_Calculated` so that it won't return any results."
   ]
  },
  {
   "cell_type": "code",
   "execution_count": 14,
   "id": "8efca2cf",
   "metadata": {
    "execution": {
     "iopub.execute_input": "2024-06-29T08:23:39.672866Z",
     "iopub.status.busy": "2024-06-29T08:23:39.672695Z",
     "iopub.status.idle": "2024-06-29T08:23:39.864732Z",
     "shell.execute_reply": "2024-06-29T08:23:39.864227Z"
    }
   },
   "outputs": [
    {
     "name": "stdout",
     "output_type": "stream",
     "text": [
      "The results have been provided by the query filename: ../cypher/Node_Embeddings/Node_Embeddings_0a_Query_Calculated.cypher\n"
     ]
    },
    {
     "data": {
      "text/html": [
       "<div>\n",
       "<style scoped>\n",
       "    .dataframe tbody tr th:only-of-type {\n",
       "        vertical-align: middle;\n",
       "    }\n",
       "\n",
       "    .dataframe tbody tr th {\n",
       "        vertical-align: top;\n",
       "    }\n",
       "\n",
       "    .dataframe thead th {\n",
       "        text-align: right;\n",
       "    }\n",
       "</style>\n",
       "<table border=\"1\" class=\"dataframe\">\n",
       "  <thead>\n",
       "    <tr style=\"text-align: right;\">\n",
       "      <th></th>\n",
       "      <th>codeUnitName</th>\n",
       "      <th>shortCodeUnitName</th>\n",
       "      <th>projectName</th>\n",
       "      <th>communityId</th>\n",
       "      <th>centrality</th>\n",
       "      <th>embedding</th>\n",
       "    </tr>\n",
       "  </thead>\n",
       "  <tbody>\n",
       "    <tr>\n",
       "      <th>0</th>\n",
       "      <td>org.axonframework.eventsourcing</td>\n",
       "      <td>eventsourcing</td>\n",
       "      <td>axon-eventsourcing-4.9.3</td>\n",
       "      <td>0</td>\n",
       "      <td>0.107658</td>\n",
       "      <td>[0.22776228189468384, 0.2050343155860901, 0.04...</td>\n",
       "    </tr>\n",
       "    <tr>\n",
       "      <th>1</th>\n",
       "      <td>org.axonframework.eventsourcing.conflictresolu...</td>\n",
       "      <td>conflictresolution</td>\n",
       "      <td>axon-eventsourcing-4.9.3</td>\n",
       "      <td>0</td>\n",
       "      <td>0.044085</td>\n",
       "      <td>[0.183696910738945, 0.2740611135959625, 0.1361...</td>\n",
       "    </tr>\n",
       "    <tr>\n",
       "      <th>2</th>\n",
       "      <td>org.axonframework.eventsourcing.eventstore</td>\n",
       "      <td>eventstore</td>\n",
       "      <td>axon-eventsourcing-4.9.3</td>\n",
       "      <td>0</td>\n",
       "      <td>0.179264</td>\n",
       "      <td>[0.289802610874176, 0.06702718138694763, 0.009...</td>\n",
       "    </tr>\n",
       "    <tr>\n",
       "      <th>3</th>\n",
       "      <td>org.axonframework.eventsourcing.eventstore.inm...</td>\n",
       "      <td>inmemory</td>\n",
       "      <td>axon-eventsourcing-4.9.3</td>\n",
       "      <td>0</td>\n",
       "      <td>0.016234</td>\n",
       "      <td>[0.219371035695076, 0.10349257290363312, 0.007...</td>\n",
       "    </tr>\n",
       "    <tr>\n",
       "      <th>4</th>\n",
       "      <td>org.axonframework.eventsourcing.eventstore.jdbc</td>\n",
       "      <td>jdbc</td>\n",
       "      <td>axon-eventsourcing-4.9.3</td>\n",
       "      <td>0</td>\n",
       "      <td>0.041254</td>\n",
       "      <td>[0.176451176404953, -0.18880468606948853, 0.00...</td>\n",
       "    </tr>\n",
       "  </tbody>\n",
       "</table>\n",
       "</div>"
      ],
      "text/plain": [
       "                                        codeUnitName   shortCodeUnitName  \\\n",
       "0                    org.axonframework.eventsourcing       eventsourcing   \n",
       "1  org.axonframework.eventsourcing.conflictresolu...  conflictresolution   \n",
       "2         org.axonframework.eventsourcing.eventstore          eventstore   \n",
       "3  org.axonframework.eventsourcing.eventstore.inm...            inmemory   \n",
       "4    org.axonframework.eventsourcing.eventstore.jdbc                jdbc   \n",
       "\n",
       "                projectName  communityId  centrality  \\\n",
       "0  axon-eventsourcing-4.9.3            0    0.107658   \n",
       "1  axon-eventsourcing-4.9.3            0    0.044085   \n",
       "2  axon-eventsourcing-4.9.3            0    0.179264   \n",
       "3  axon-eventsourcing-4.9.3            0    0.016234   \n",
       "4  axon-eventsourcing-4.9.3            0    0.041254   \n",
       "\n",
       "                                           embedding  \n",
       "0  [0.22776228189468384, 0.2050343155860901, 0.04...  \n",
       "1  [0.183696910738945, 0.2740611135959625, 0.1361...  \n",
       "2  [0.289802610874176, 0.06702718138694763, 0.009...  \n",
       "3  [0.219371035695076, 0.10349257290363312, 0.007...  \n",
       "4  [0.176451176404953, -0.18880468606948853, 0.00...  "
      ]
     },
     "metadata": {},
     "output_type": "display_data"
    }
   ],
   "source": [
    "java_package_embeddings_parameters={\n",
    "    \"dependencies_projection\": \"java-package-embeddings-notebook\",\n",
    "    \"dependencies_projection_node\": \"Package\",\n",
    "    \"dependencies_projection_weight_property\": \"weight25PercentInterfaces\",\n",
    "    \"dependencies_projection_write_property\": \"embeddingsFastRandomProjection\",\n",
    "    \"dependencies_projection_embedding_dimension\":\"32\"\n",
    "}\n",
    "embeddings = create_node_embeddings(\"../cypher/Node_Embeddings/Node_Embeddings_1d_Fast_Random_Projection_Stream.cypher\", java_package_embeddings_parameters)\n"
   ]
  },
  {
   "cell_type": "markdown",
   "id": "76d8bca1",
   "metadata": {},
   "source": [
    "### 1.2 Dimensionality reduction with t-distributed stochastic neighbor embedding (t-SNE)\n",
    "\n",
    "This step takes the original node embeddings with a higher dimensionality, e.g. 64 floating point numbers, and reduces them into a two dimensional array for visualization. For more details look up the function declaration for \"prepare_node_embeddings_for_2d_visualization\"."
   ]
  },
  {
   "cell_type": "code",
   "execution_count": 15,
   "id": "031abacc",
   "metadata": {
    "execution": {
     "iopub.execute_input": "2024-06-29T08:23:39.867024Z",
     "iopub.status.busy": "2024-06-29T08:23:39.866702Z",
     "iopub.status.idle": "2024-06-29T08:23:40.354799Z",
     "shell.execute_reply": "2024-06-29T08:23:40.354301Z"
    }
   },
   "outputs": [
    {
     "name": "stdout",
     "output_type": "stream",
     "text": [
      "--------------------------------------------------------------------------------\n",
      "TSNE(early_exaggeration=12, random_state=47, verbose=1)\n",
      "--------------------------------------------------------------------------------\n",
      "===> Finding 90 nearest neighbors using exact search using euclidean distance...\n",
      "   --> Time elapsed: 0.03 seconds\n",
      "===> Calculating affinity matrix...\n",
      "   --> Time elapsed: 0.00 seconds\n",
      "===> Calculating PCA-based initialization...\n",
      "   --> Time elapsed: 0.00 seconds\n",
      "===> Running optimization with exaggeration=12.00, lr=7.75 for 250 iterations...\n",
      "Iteration   50, KL divergence 0.2782, 50 iterations in 0.0344 sec\n",
      "Iteration  100, KL divergence 1.0041, 50 iterations in 0.0129 sec\n",
      "Iteration  150, KL divergence 1.0041, 50 iterations in 0.0124 sec\n",
      "Iteration  200, KL divergence 1.0041, 50 iterations in 0.0123 sec\n",
      "Iteration  250, KL divergence 1.0041, 50 iterations in 0.0123 sec\n",
      "   --> Time elapsed: 0.08 seconds\n",
      "===> Running optimization with exaggeration=1.00, lr=93.00 for 500 iterations...\n",
      "Iteration   50, KL divergence 0.0986, 50 iterations in 0.0370 sec\n",
      "Iteration  100, KL divergence 0.0739, 50 iterations in 0.0517 sec\n",
      "Iteration  150, KL divergence 0.0681, 50 iterations in 0.0364 sec\n",
      "Iteration  200, KL divergence 0.0666, 50 iterations in 0.0333 sec\n",
      "Iteration  250, KL divergence 0.0663, 50 iterations in 0.0336 sec\n",
      "Iteration  300, KL divergence 0.0659, 50 iterations in 0.0334 sec\n",
      "Iteration  350, KL divergence 0.0649, 50 iterations in 0.0337 sec\n",
      "Iteration  400, KL divergence 0.0645, 50 iterations in 0.0345 sec\n",
      "Iteration  450, KL divergence 0.0649, 50 iterations in 0.0344 sec\n",
      "Iteration  500, KL divergence 0.0645, 50 iterations in 0.0342 sec\n",
      "   --> Time elapsed: 0.36 seconds\n"
     ]
    },
    {
     "data": {
      "text/plain": [
       "(93, 2)"
      ]
     },
     "metadata": {},
     "output_type": "display_data"
    },
    {
     "data": {
      "text/html": [
       "<div>\n",
       "<style scoped>\n",
       "    .dataframe tbody tr th:only-of-type {\n",
       "        vertical-align: middle;\n",
       "    }\n",
       "\n",
       "    .dataframe tbody tr th {\n",
       "        vertical-align: top;\n",
       "    }\n",
       "\n",
       "    .dataframe thead th {\n",
       "        text-align: right;\n",
       "    }\n",
       "</style>\n",
       "<table border=\"1\" class=\"dataframe\">\n",
       "  <thead>\n",
       "    <tr style=\"text-align: right;\">\n",
       "      <th></th>\n",
       "      <th>codeUnit</th>\n",
       "      <th>artifact</th>\n",
       "      <th>communityId</th>\n",
       "      <th>centrality</th>\n",
       "      <th>x</th>\n",
       "      <th>y</th>\n",
       "    </tr>\n",
       "  </thead>\n",
       "  <tbody>\n",
       "    <tr>\n",
       "      <th>0</th>\n",
       "      <td>org.axonframework.eventsourcing</td>\n",
       "      <td>axon-eventsourcing-4.9.3</td>\n",
       "      <td>0</td>\n",
       "      <td>0.107658</td>\n",
       "      <td>-6.381660</td>\n",
       "      <td>-4.959031</td>\n",
       "    </tr>\n",
       "    <tr>\n",
       "      <th>1</th>\n",
       "      <td>org.axonframework.eventsourcing.conflictresolu...</td>\n",
       "      <td>axon-eventsourcing-4.9.3</td>\n",
       "      <td>0</td>\n",
       "      <td>0.044085</td>\n",
       "      <td>-6.286724</td>\n",
       "      <td>-5.202474</td>\n",
       "    </tr>\n",
       "    <tr>\n",
       "      <th>2</th>\n",
       "      <td>org.axonframework.eventsourcing.eventstore</td>\n",
       "      <td>axon-eventsourcing-4.9.3</td>\n",
       "      <td>0</td>\n",
       "      <td>0.179264</td>\n",
       "      <td>-6.766854</td>\n",
       "      <td>-4.732752</td>\n",
       "    </tr>\n",
       "    <tr>\n",
       "      <th>3</th>\n",
       "      <td>org.axonframework.eventsourcing.eventstore.inm...</td>\n",
       "      <td>axon-eventsourcing-4.9.3</td>\n",
       "      <td>0</td>\n",
       "      <td>0.016234</td>\n",
       "      <td>-6.605061</td>\n",
       "      <td>-4.648851</td>\n",
       "    </tr>\n",
       "    <tr>\n",
       "      <th>4</th>\n",
       "      <td>org.axonframework.eventsourcing.eventstore.jdbc</td>\n",
       "      <td>axon-eventsourcing-4.9.3</td>\n",
       "      <td>0</td>\n",
       "      <td>0.041254</td>\n",
       "      <td>-7.229161</td>\n",
       "      <td>-4.290185</td>\n",
       "    </tr>\n",
       "  </tbody>\n",
       "</table>\n",
       "</div>"
      ],
      "text/plain": [
       "                                            codeUnit  \\\n",
       "0                    org.axonframework.eventsourcing   \n",
       "1  org.axonframework.eventsourcing.conflictresolu...   \n",
       "2         org.axonframework.eventsourcing.eventstore   \n",
       "3  org.axonframework.eventsourcing.eventstore.inm...   \n",
       "4    org.axonframework.eventsourcing.eventstore.jdbc   \n",
       "\n",
       "                   artifact  communityId  centrality         x         y  \n",
       "0  axon-eventsourcing-4.9.3            0    0.107658 -6.381660 -4.959031  \n",
       "1  axon-eventsourcing-4.9.3            0    0.044085 -6.286724 -5.202474  \n",
       "2  axon-eventsourcing-4.9.3            0    0.179264 -6.766854 -4.732752  \n",
       "3  axon-eventsourcing-4.9.3            0    0.016234 -6.605061 -4.648851  \n",
       "4  axon-eventsourcing-4.9.3            0    0.041254 -7.229161 -4.290185  "
      ]
     },
     "metadata": {},
     "output_type": "display_data"
    }
   ],
   "source": [
    "node_embeddings_for_visualization = prepare_node_embeddings_for_2d_visualization(embeddings)"
   ]
  },
  {
   "cell_type": "markdown",
   "id": "f908c47f",
   "metadata": {},
   "source": [
    "### 1.3 Visualization of the node embeddings reduced to two dimensions"
   ]
  },
  {
   "cell_type": "code",
   "execution_count": 16,
   "id": "459a819c",
   "metadata": {
    "execution": {
     "iopub.execute_input": "2024-06-29T08:23:40.356884Z",
     "iopub.status.busy": "2024-06-29T08:23:40.356704Z",
     "iopub.status.idle": "2024-06-29T08:23:40.464355Z",
     "shell.execute_reply": "2024-06-29T08:23:40.463921Z"
    }
   },
   "outputs": [
    {
     "data": {
      "image/png": "[encoded data removed]",
      "text/plain": [
       "<Figure size 640x480 with 1 Axes>"
      ]
     },
     "metadata": {},
     "output_type": "display_data"
    }
   ],
   "source": [
    "plot_2d_node_embeddings(\n",
    "    node_embeddings_for_visualization, \n",
    "    \"Java Package positioned by their dependency relationships (FastRP node embeddings + t-SNE)\"\n",
    ")"
   ]
  },
  {
   "cell_type": "markdown",
   "id": "b690b9a7",
   "metadata": {},
   "source": [
    "### 1.4 Node Embeddings for Java Packages using HashGNN\n",
    "\n",
    "[HashGNN](https://neo4j.com/docs/graph-data-science/2.6/machine-learning/node-embeddings/hashgnn) resembles Graph Neural Networks (GNN) but does not include a model or require training. It combines ideas of GNNs and fast randomized algorithms. For more details see [HashGNN](https://neo4j.com/docs/graph-data-science/2.6/machine-learning/node-embeddings/hashgnn). Here, the latter 3 steps are combined into one for HashGNN."
   ]
  },
  {
   "cell_type": "code",
   "execution_count": 17,
   "id": "3d3cfb7a",
   "metadata": {
    "execution": {
     "iopub.execute_input": "2024-06-29T08:23:40.466698Z",
     "iopub.status.busy": "2024-06-29T08:23:40.466280Z",
     "iopub.status.idle": "2024-06-29T08:23:41.172973Z",
     "shell.execute_reply": "2024-06-29T08:23:41.172527Z"
    }
   },
   "outputs": [
    {
     "name": "stdout",
     "output_type": "stream",
     "text": [
      "The results have been provided by the query filename: ../cypher/Node_Embeddings/Node_Embeddings_0a_Query_Calculated.cypher\n"
     ]
    },
    {
     "data": {
      "text/html": [
       "<div>\n",
       "<style scoped>\n",
       "    .dataframe tbody tr th:only-of-type {\n",
       "        vertical-align: middle;\n",
       "    }\n",
       "\n",
       "    .dataframe tbody tr th {\n",
       "        vertical-align: top;\n",
       "    }\n",
       "\n",
       "    .dataframe thead th {\n",
       "        text-align: right;\n",
       "    }\n",
       "</style>\n",
       "<table border=\"1\" class=\"dataframe\">\n",
       "  <thead>\n",
       "    <tr style=\"text-align: right;\">\n",
       "      <th></th>\n",
       "      <th>codeUnitName</th>\n",
       "      <th>shortCodeUnitName</th>\n",
       "      <th>projectName</th>\n",
       "      <th>communityId</th>\n",
       "      <th>centrality</th>\n",
       "      <th>embedding</th>\n",
       "    </tr>\n",
       "  </thead>\n",
       "  <tbody>\n",
       "    <tr>\n",
       "      <th>0</th>\n",
       "      <td>org.axonframework.eventsourcing</td>\n",
       "      <td>eventsourcing</td>\n",
       "      <td>axon-eventsourcing-4.9.3</td>\n",
       "      <td>0</td>\n",
       "      <td>0.107658</td>\n",
       "      <td>[-0.4330126941204071, 0.6495190411806107, 0.0,...</td>\n",
       "    </tr>\n",
       "    <tr>\n",
       "      <th>1</th>\n",
       "      <td>org.axonframework.eventsourcing.conflictresolu...</td>\n",
       "      <td>conflictresolution</td>\n",
       "      <td>axon-eventsourcing-4.9.3</td>\n",
       "      <td>0</td>\n",
       "      <td>0.044085</td>\n",
       "      <td>[-0.4330126941204071, 0.6495190411806107, 0.0,...</td>\n",
       "    </tr>\n",
       "    <tr>\n",
       "      <th>2</th>\n",
       "      <td>org.axonframework.eventsourcing.eventstore</td>\n",
       "      <td>eventstore</td>\n",
       "      <td>axon-eventsourcing-4.9.3</td>\n",
       "      <td>0</td>\n",
       "      <td>0.179264</td>\n",
       "      <td>[-0.4330126941204071, 0.8660253882408142, 0.0,...</td>\n",
       "    </tr>\n",
       "    <tr>\n",
       "      <th>3</th>\n",
       "      <td>org.axonframework.eventsourcing.eventstore.inm...</td>\n",
       "      <td>inmemory</td>\n",
       "      <td>axon-eventsourcing-4.9.3</td>\n",
       "      <td>0</td>\n",
       "      <td>0.016234</td>\n",
       "      <td>[-0.4330126941204071, 0.4330126941204071, 0.0,...</td>\n",
       "    </tr>\n",
       "    <tr>\n",
       "      <th>4</th>\n",
       "      <td>org.axonframework.eventsourcing.eventstore.jdbc</td>\n",
       "      <td>jdbc</td>\n",
       "      <td>axon-eventsourcing-4.9.3</td>\n",
       "      <td>0</td>\n",
       "      <td>0.041254</td>\n",
       "      <td>[-0.21650634706020355, 0.8660253882408142, 0.0...</td>\n",
       "    </tr>\n",
       "  </tbody>\n",
       "</table>\n",
       "</div>"
      ],
      "text/plain": [
       "                                        codeUnitName   shortCodeUnitName  \\\n",
       "0                    org.axonframework.eventsourcing       eventsourcing   \n",
       "1  org.axonframework.eventsourcing.conflictresolu...  conflictresolution   \n",
       "2         org.axonframework.eventsourcing.eventstore          eventstore   \n",
       "3  org.axonframework.eventsourcing.eventstore.inm...            inmemory   \n",
       "4    org.axonframework.eventsourcing.eventstore.jdbc                jdbc   \n",
       "\n",
       "                projectName  communityId  centrality  \\\n",
       "0  axon-eventsourcing-4.9.3            0    0.107658   \n",
       "1  axon-eventsourcing-4.9.3            0    0.044085   \n",
       "2  axon-eventsourcing-4.9.3            0    0.179264   \n",
       "3  axon-eventsourcing-4.9.3            0    0.016234   \n",
       "4  axon-eventsourcing-4.9.3            0    0.041254   \n",
       "\n",
       "                                           embedding  \n",
       "0  [-0.4330126941204071, 0.6495190411806107, 0.0,...  \n",
       "1  [-0.4330126941204071, 0.6495190411806107, 0.0,...  \n",
       "2  [-0.4330126941204071, 0.8660253882408142, 0.0,...  \n",
       "3  [-0.4330126941204071, 0.4330126941204071, 0.0,...  \n",
       "4  [-0.21650634706020355, 0.8660253882408142, 0.0...  "
      ]
     },
     "metadata": {},
     "output_type": "display_data"
    },
    {
     "name": "stdout",
     "output_type": "stream",
     "text": [
      "--------------------------------------------------------------------------------\n",
      "TSNE(early_exaggeration=12, random_state=47, verbose=1)\n",
      "--------------------------------------------------------------------------------\n",
      "===> Finding 90 nearest neighbors using exact search using euclidean distance...\n",
      "   --> Time elapsed: 0.00 seconds\n",
      "===> Calculating affinity matrix...\n",
      "   --> Time elapsed: 0.00 seconds\n",
      "===> Calculating PCA-based initialization...\n",
      "   --> Time elapsed: 0.00 seconds\n",
      "===> Running optimization with exaggeration=12.00, lr=7.75 for 250 iterations...\n",
      "Iteration   50, KL divergence -0.4111, 50 iterations in 0.0391 sec\n",
      "Iteration  100, KL divergence 1.0780, 50 iterations in 0.0132 sec\n",
      "Iteration  150, KL divergence 1.0780, 50 iterations in 0.0124 sec\n",
      "Iteration  200, KL divergence 1.0780, 50 iterations in 0.0124 sec\n",
      "Iteration  250, KL divergence 1.0780, 50 iterations in 0.0123 sec\n",
      "   --> Time elapsed: 0.09 seconds\n",
      "===> Running optimization with exaggeration=1.00, lr=93.00 for 500 iterations...\n",
      "Iteration   50, KL divergence 0.2709, 50 iterations in 0.0394 sec\n",
      "Iteration  100, KL divergence 0.2459, 50 iterations in 0.0493 sec\n",
      "Iteration  150, KL divergence 0.2445, 50 iterations in 0.0371 sec\n",
      "Iteration  200, KL divergence 0.2403, 50 iterations in 0.0355 sec\n",
      "Iteration  250, KL divergence 0.2401, 50 iterations in 0.0352 sec\n",
      "Iteration  300, KL divergence 0.2401, 50 iterations in 0.0358 sec\n",
      "Iteration  350, KL divergence 0.2372, 50 iterations in 0.0364 sec\n",
      "Iteration  400, KL divergence 0.2370, 50 iterations in 0.0368 sec\n",
      "Iteration  450, KL divergence 0.2236, 50 iterations in 0.0377 sec\n",
      "Iteration  500, KL divergence 0.2254, 50 iterations in 0.0370 sec\n",
      "   --> Time elapsed: 0.38 seconds\n"
     ]
    },
    {
     "data": {
      "text/plain": [
       "(93, 2)"
      ]
     },
     "metadata": {},
     "output_type": "display_data"
    },
    {
     "data": {
      "text/html": [
       "<div>\n",
       "<style scoped>\n",
       "    .dataframe tbody tr th:only-of-type {\n",
       "        vertical-align: middle;\n",
       "    }\n",
       "\n",
       "    .dataframe tbody tr th {\n",
       "        vertical-align: top;\n",
       "    }\n",
       "\n",
       "    .dataframe thead th {\n",
       "        text-align: right;\n",
       "    }\n",
       "</style>\n",
       "<table border=\"1\" class=\"dataframe\">\n",
       "  <thead>\n",
       "    <tr style=\"text-align: right;\">\n",
       "      <th></th>\n",
       "      <th>codeUnit</th>\n",
       "      <th>artifact</th>\n",
       "      <th>communityId</th>\n",
       "      <th>centrality</th>\n",
       "      <th>x</th>\n",
       "      <th>y</th>\n",
       "    </tr>\n",
       "  </thead>\n",
       "  <tbody>\n",
       "    <tr>\n",
       "      <th>0</th>\n",
       "      <td>org.axonframework.eventsourcing</td>\n",
       "      <td>axon-eventsourcing-4.9.3</td>\n",
       "      <td>0</td>\n",
       "      <td>0.107658</td>\n",
       "      <td>-5.656550</td>\n",
       "      <td>-6.510757</td>\n",
       "    </tr>\n",
       "    <tr>\n",
       "      <th>1</th>\n",
       "      <td>org.axonframework.eventsourcing.conflictresolu...</td>\n",
       "      <td>axon-eventsourcing-4.9.3</td>\n",
       "      <td>0</td>\n",
       "      <td>0.044085</td>\n",
       "      <td>-5.656550</td>\n",
       "      <td>-6.510757</td>\n",
       "    </tr>\n",
       "    <tr>\n",
       "      <th>2</th>\n",
       "      <td>org.axonframework.eventsourcing.eventstore</td>\n",
       "      <td>axon-eventsourcing-4.9.3</td>\n",
       "      <td>0</td>\n",
       "      <td>0.179264</td>\n",
       "      <td>-5.742026</td>\n",
       "      <td>-6.359104</td>\n",
       "    </tr>\n",
       "    <tr>\n",
       "      <th>3</th>\n",
       "      <td>org.axonframework.eventsourcing.eventstore.inm...</td>\n",
       "      <td>axon-eventsourcing-4.9.3</td>\n",
       "      <td>0</td>\n",
       "      <td>0.016234</td>\n",
       "      <td>-5.799469</td>\n",
       "      <td>-5.958373</td>\n",
       "    </tr>\n",
       "    <tr>\n",
       "      <th>4</th>\n",
       "      <td>org.axonframework.eventsourcing.eventstore.jdbc</td>\n",
       "      <td>axon-eventsourcing-4.9.3</td>\n",
       "      <td>0</td>\n",
       "      <td>0.041254</td>\n",
       "      <td>-6.337517</td>\n",
       "      <td>-6.441309</td>\n",
       "    </tr>\n",
       "  </tbody>\n",
       "</table>\n",
       "</div>"
      ],
      "text/plain": [
       "                                            codeUnit  \\\n",
       "0                    org.axonframework.eventsourcing   \n",
       "1  org.axonframework.eventsourcing.conflictresolu...   \n",
       "2         org.axonframework.eventsourcing.eventstore   \n",
       "3  org.axonframework.eventsourcing.eventstore.inm...   \n",
       "4    org.axonframework.eventsourcing.eventstore.jdbc   \n",
       "\n",
       "                   artifact  communityId  centrality         x         y  \n",
       "0  axon-eventsourcing-4.9.3            0    0.107658 -5.656550 -6.510757  \n",
       "1  axon-eventsourcing-4.9.3            0    0.044085 -5.656550 -6.510757  \n",
       "2  axon-eventsourcing-4.9.3            0    0.179264 -5.742026 -6.359104  \n",
       "3  axon-eventsourcing-4.9.3            0    0.016234 -5.799469 -5.958373  \n",
       "4  axon-eventsourcing-4.9.3            0    0.041254 -6.337517 -6.441309  "
      ]
     },
     "metadata": {},
     "output_type": "display_data"
    },
    {
     "data": {
      "image/png": "[encoded data removed]",
      "text/plain": [
       "<Figure size 640x480 with 1 Axes>"
      ]
     },
     "metadata": {},
     "output_type": "display_data"
    }
   ],
   "source": [
    "java_package_embeddings_parameters={\n",
    "    \"dependencies_projection\": \"java-package-embeddings-notebook\",\n",
    "    \"dependencies_projection_node\": \"Package\",\n",
    "    \"dependencies_projection_weight_property\": \"weight25PercentInterfaces\",\n",
    "    \"dependencies_projection_write_property\": \"embeddingsHashGNN\",\n",
    "    \"dependencies_projection_embedding_dimension\":\"64\"\n",
    "}\n",
    "embeddings = create_node_embeddings(\"../cypher/Node_Embeddings/Node_Embeddings_2d_Hash_GNN_Stream.cypher\", java_package_embeddings_parameters)\n",
    "node_embeddings_for_visualization = prepare_node_embeddings_for_2d_visualization(embeddings)\n",
    "plot_2d_node_embeddings(\n",
    "    node_embeddings_for_visualization, \n",
    "    \"Java Package positioned by their dependency relationships (HashGNN node embeddings + t-SNE)\"\n",
    ")"
   ]
  },
  {
   "cell_type": "markdown",
   "id": "248d88b4",
   "metadata": {},
   "source": [
    "### 2.5 Node Embeddings for Java Packages using node2vec"
   ]
  },
  {
   "cell_type": "code",
   "execution_count": 18,
   "id": "62c40c45",
   "metadata": {
    "execution": {
     "iopub.execute_input": "2024-06-29T08:23:41.175071Z",
     "iopub.status.busy": "2024-06-29T08:23:41.174758Z",
     "iopub.status.idle": "2024-06-29T08:23:41.864516Z",
     "shell.execute_reply": "2024-06-29T08:23:41.864036Z"
    }
   },
   "outputs": [
    {
     "name": "stdout",
     "output_type": "stream",
     "text": [
      "The results have been provided by the query filename: ../cypher/Node_Embeddings/Node_Embeddings_0a_Query_Calculated.cypher\n"
     ]
    },
    {
     "data": {
      "text/html": [
       "<div>\n",
       "<style scoped>\n",
       "    .dataframe tbody tr th:only-of-type {\n",
       "        vertical-align: middle;\n",
       "    }\n",
       "\n",
       "    .dataframe tbody tr th {\n",
       "        vertical-align: top;\n",
       "    }\n",
       "\n",
       "    .dataframe thead th {\n",
       "        text-align: right;\n",
       "    }\n",
       "</style>\n",
       "<table border=\"1\" class=\"dataframe\">\n",
       "  <thead>\n",
       "    <tr style=\"text-align: right;\">\n",
       "      <th></th>\n",
       "      <th>codeUnitName</th>\n",
       "      <th>shortCodeUnitName</th>\n",
       "      <th>projectName</th>\n",
       "      <th>communityId</th>\n",
       "      <th>centrality</th>\n",
       "      <th>embedding</th>\n",
       "    </tr>\n",
       "  </thead>\n",
       "  <tbody>\n",
       "    <tr>\n",
       "      <th>0</th>\n",
       "      <td>org.axonframework.eventsourcing</td>\n",
       "      <td>eventsourcing</td>\n",
       "      <td>axon-eventsourcing-4.9.3</td>\n",
       "      <td>0</td>\n",
       "      <td>0.107658</td>\n",
       "      <td>[0.2450113743543625, 0.11667890846729279, 0.55...</td>\n",
       "    </tr>\n",
       "    <tr>\n",
       "      <th>1</th>\n",
       "      <td>org.axonframework.eventsourcing.conflictresolu...</td>\n",
       "      <td>conflictresolution</td>\n",
       "      <td>axon-eventsourcing-4.9.3</td>\n",
       "      <td>0</td>\n",
       "      <td>0.044085</td>\n",
       "      <td>[0.30424800515174866, 0.08484314382076263, 0.5...</td>\n",
       "    </tr>\n",
       "    <tr>\n",
       "      <th>2</th>\n",
       "      <td>org.axonframework.eventsourcing.eventstore</td>\n",
       "      <td>eventstore</td>\n",
       "      <td>axon-eventsourcing-4.9.3</td>\n",
       "      <td>0</td>\n",
       "      <td>0.179264</td>\n",
       "      <td>[0.1469312459230423, -0.06859684735536575, 0.3...</td>\n",
       "    </tr>\n",
       "    <tr>\n",
       "      <th>3</th>\n",
       "      <td>org.axonframework.eventsourcing.eventstore.inm...</td>\n",
       "      <td>inmemory</td>\n",
       "      <td>axon-eventsourcing-4.9.3</td>\n",
       "      <td>0</td>\n",
       "      <td>0.016234</td>\n",
       "      <td>[0.16202306747436523, -0.020109795033931732, 0...</td>\n",
       "    </tr>\n",
       "    <tr>\n",
       "      <th>4</th>\n",
       "      <td>org.axonframework.eventsourcing.eventstore.jdbc</td>\n",
       "      <td>jdbc</td>\n",
       "      <td>axon-eventsourcing-4.9.3</td>\n",
       "      <td>0</td>\n",
       "      <td>0.041254</td>\n",
       "      <td>[-0.013259341940283775, -0.04808925837278366, ...</td>\n",
       "    </tr>\n",
       "  </tbody>\n",
       "</table>\n",
       "</div>"
      ],
      "text/plain": [
       "                                        codeUnitName   shortCodeUnitName  \\\n",
       "0                    org.axonframework.eventsourcing       eventsourcing   \n",
       "1  org.axonframework.eventsourcing.conflictresolu...  conflictresolution   \n",
       "2         org.axonframework.eventsourcing.eventstore          eventstore   \n",
       "3  org.axonframework.eventsourcing.eventstore.inm...            inmemory   \n",
       "4    org.axonframework.eventsourcing.eventstore.jdbc                jdbc   \n",
       "\n",
       "                projectName  communityId  centrality  \\\n",
       "0  axon-eventsourcing-4.9.3            0    0.107658   \n",
       "1  axon-eventsourcing-4.9.3            0    0.044085   \n",
       "2  axon-eventsourcing-4.9.3            0    0.179264   \n",
       "3  axon-eventsourcing-4.9.3            0    0.016234   \n",
       "4  axon-eventsourcing-4.9.3            0    0.041254   \n",
       "\n",
       "                                           embedding  \n",
       "0  [0.2450113743543625, 0.11667890846729279, 0.55...  \n",
       "1  [0.30424800515174866, 0.08484314382076263, 0.5...  \n",
       "2  [0.1469312459230423, -0.06859684735536575, 0.3...  \n",
       "3  [0.16202306747436523, -0.020109795033931732, 0...  \n",
       "4  [-0.013259341940283775, -0.04808925837278366, ...  "
      ]
     },
     "metadata": {},
     "output_type": "display_data"
    },
    {
     "name": "stdout",
     "output_type": "stream",
     "text": [
      "--------------------------------------------------------------------------------\n",
      "TSNE(early_exaggeration=12, random_state=47, verbose=1)\n",
      "--------------------------------------------------------------------------------\n",
      "===> Finding 90 nearest neighbors using exact search using euclidean distance...\n",
      "   --> Time elapsed: 0.00 seconds\n",
      "===> Calculating affinity matrix...\n",
      "   --> Time elapsed: 0.00 seconds\n",
      "===> Calculating PCA-based initialization...\n",
      "   --> Time elapsed: 0.00 seconds\n",
      "===> Running optimization with exaggeration=12.00, lr=7.75 for 250 iterations...\n",
      "Iteration   50, KL divergence -1.1548, 50 iterations in 0.0308 sec\n",
      "Iteration  100, KL divergence 0.9829, 50 iterations in 0.0135 sec\n",
      "Iteration  150, KL divergence 0.9829, 50 iterations in 0.0124 sec\n",
      "Iteration  200, KL divergence 0.9829, 50 iterations in 0.0124 sec\n",
      "Iteration  250, KL divergence 0.9829, 50 iterations in 0.0124 sec\n",
      "   --> Time elapsed: 0.08 seconds\n",
      "===> Running optimization with exaggeration=1.00, lr=93.00 for 500 iterations...\n",
      "Iteration   50, KL divergence 0.1492, 50 iterations in 0.0395 sec\n",
      "Iteration  100, KL divergence 0.1074, 50 iterations in 0.0508 sec\n",
      "Iteration  150, KL divergence 0.1060, 50 iterations in 0.0389 sec\n",
      "Iteration  200, KL divergence 0.1024, 50 iterations in 0.0370 sec\n",
      "Iteration  250, KL divergence 0.1002, 50 iterations in 0.0369 sec\n",
      "Iteration  300, KL divergence 0.1002, 50 iterations in 0.0360 sec\n",
      "Iteration  350, KL divergence 0.1004, 50 iterations in 0.0360 sec\n",
      "Iteration  400, KL divergence 0.1003, 50 iterations in 0.0358 sec\n",
      "Iteration  450, KL divergence 0.1002, 50 iterations in 0.0363 sec\n",
      "Iteration  500, KL divergence 0.1004, 50 iterations in 0.0360 sec\n",
      "   --> Time elapsed: 0.38 seconds\n"
     ]
    },
    {
     "data": {
      "text/plain": [
       "(93, 2)"
      ]
     },
     "metadata": {},
     "output_type": "display_data"
    },
    {
     "data": {
      "text/html": [
       "<div>\n",
       "<style scoped>\n",
       "    .dataframe tbody tr th:only-of-type {\n",
       "        vertical-align: middle;\n",
       "    }\n",
       "\n",
       "    .dataframe tbody tr th {\n",
       "        vertical-align: top;\n",
       "    }\n",
       "\n",
       "    .dataframe thead th {\n",
       "        text-align: right;\n",
       "    }\n",
       "</style>\n",
       "<table border=\"1\" class=\"dataframe\">\n",
       "  <thead>\n",
       "    <tr style=\"text-align: right;\">\n",
       "      <th></th>\n",
       "      <th>codeUnit</th>\n",
       "      <th>artifact</th>\n",
       "      <th>communityId</th>\n",
       "      <th>centrality</th>\n",
       "      <th>x</th>\n",
       "      <th>y</th>\n",
       "    </tr>\n",
       "  </thead>\n",
       "  <tbody>\n",
       "    <tr>\n",
       "      <th>0</th>\n",
       "      <td>org.axonframework.eventsourcing</td>\n",
       "      <td>axon-eventsourcing-4.9.3</td>\n",
       "      <td>0</td>\n",
       "      <td>0.107658</td>\n",
       "      <td>-5.032924</td>\n",
       "      <td>3.981378</td>\n",
       "    </tr>\n",
       "    <tr>\n",
       "      <th>1</th>\n",
       "      <td>org.axonframework.eventsourcing.conflictresolu...</td>\n",
       "      <td>axon-eventsourcing-4.9.3</td>\n",
       "      <td>0</td>\n",
       "      <td>0.044085</td>\n",
       "      <td>-5.190352</td>\n",
       "      <td>3.750903</td>\n",
       "    </tr>\n",
       "    <tr>\n",
       "      <th>2</th>\n",
       "      <td>org.axonframework.eventsourcing.eventstore</td>\n",
       "      <td>axon-eventsourcing-4.9.3</td>\n",
       "      <td>0</td>\n",
       "      <td>0.179264</td>\n",
       "      <td>-5.100188</td>\n",
       "      <td>4.176522</td>\n",
       "    </tr>\n",
       "    <tr>\n",
       "      <th>3</th>\n",
       "      <td>org.axonframework.eventsourcing.eventstore.inm...</td>\n",
       "      <td>axon-eventsourcing-4.9.3</td>\n",
       "      <td>0</td>\n",
       "      <td>0.016234</td>\n",
       "      <td>-5.884119</td>\n",
       "      <td>3.542638</td>\n",
       "    </tr>\n",
       "    <tr>\n",
       "      <th>4</th>\n",
       "      <td>org.axonframework.eventsourcing.eventstore.jdbc</td>\n",
       "      <td>axon-eventsourcing-4.9.3</td>\n",
       "      <td>0</td>\n",
       "      <td>0.041254</td>\n",
       "      <td>-5.340205</td>\n",
       "      <td>4.387348</td>\n",
       "    </tr>\n",
       "  </tbody>\n",
       "</table>\n",
       "</div>"
      ],
      "text/plain": [
       "                                            codeUnit  \\\n",
       "0                    org.axonframework.eventsourcing   \n",
       "1  org.axonframework.eventsourcing.conflictresolu...   \n",
       "2         org.axonframework.eventsourcing.eventstore   \n",
       "3  org.axonframework.eventsourcing.eventstore.inm...   \n",
       "4    org.axonframework.eventsourcing.eventstore.jdbc   \n",
       "\n",
       "                   artifact  communityId  centrality         x         y  \n",
       "0  axon-eventsourcing-4.9.3            0    0.107658 -5.032924  3.981378  \n",
       "1  axon-eventsourcing-4.9.3            0    0.044085 -5.190352  3.750903  \n",
       "2  axon-eventsourcing-4.9.3            0    0.179264 -5.100188  4.176522  \n",
       "3  axon-eventsourcing-4.9.3            0    0.016234 -5.884119  3.542638  \n",
       "4  axon-eventsourcing-4.9.3            0    0.041254 -5.340205  4.387348  "
      ]
     },
     "metadata": {},
     "output_type": "display_data"
    },
    {
     "data": {
      "image/png": "[encoded data removed]",
      "text/plain": [
       "<Figure size 640x480 with 1 Axes>"
      ]
     },
     "metadata": {},
     "output_type": "display_data"
    }
   ],
   "source": [
    "java_package_embeddings_parameters={\n",
    "    \"dependencies_projection\": \"java-package-embeddings-notebook\",\n",
    "    \"dependencies_projection_node\": \"Package\",\n",
    "    \"dependencies_projection_weight_property\": \"weight25PercentInterfaces\",\n",
    "    \"dependencies_projection_write_property\": \"embeddingsNode2Vec\",\n",
    "    \"dependencies_projection_embedding_dimension\":\"32\"\n",
    "}\n",
    "embeddings = create_node_embeddings(\"../cypher/Node_Embeddings/Node_Embeddings_3d_Node2Vec_Stream.cypher\", java_package_embeddings_parameters)\n",
    "node_embeddings_for_visualization = prepare_node_embeddings_for_2d_visualization(embeddings)\n",
    "plot_2d_node_embeddings(\n",
    "    node_embeddings_for_visualization, \n",
    "    \"Java Package positioned by their dependency relationships (node2vec node embeddings + t-SNE)\"\n",
    ")"
   ]
  }
 ],
 "metadata": {
  "authors": [
   {
    "name": "JohT"
   }
  ],
  "code_graph_analysis_pipeline_data_validation": "ValidateJavaPackageDependencies",
  "kernelspec": {
   "display_name": "Python 3 (ipykernel)",
   "language": "python",
   "name": "python3"
  },
  "language_info": {
   "codemirror_mode": {
    "name": "ipython",
    "version": 3
   },
   "file_extension": ".py",
   "mimetype": "text/x-python",
   "name": "python",
   "nbconvert_exporter": "python",
   "pygments_lexer": "ipython3",
   "version": "3.11.0"
  },
  "title": "Object Oriented Design Quality Metrics for Java with Neo4j"
 },
 "nbformat": 4,
 "nbformat_minor": 5
}
