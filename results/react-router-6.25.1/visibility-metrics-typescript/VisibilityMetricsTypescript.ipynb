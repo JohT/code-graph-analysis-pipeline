{
 "cells": [
  {
   "attachments": {},
   "cell_type": "markdown",
   "id": "2f0eabc4",
   "metadata": {},
   "source": [
    "# Visibility Metrics for Typescript\n",
    "<br>  \n",
    "\n",
    "### References\n",
    "- [Visibility Metrics and the Importance of Hiding Things](https://dzone.com/articles/visibility-metrics-and-the-importance-of-hiding-th)\n",
    "- [Calculate metrics](https://101.jqassistant.org/calculate-metrics/index.html)\n",
    "- [Controlling Access to Members of a Class](https://docs.oracle.com/javase/tutorial/java/javaOO/accesscontrol.html)\n",
    "- [Neo4j Python Driver](https://neo4j.com/docs/api/python-driver/current)"
   ]
  },
  {
   "cell_type": "code",
   "execution_count": 1,
   "id": "4191f259",
   "metadata": {
    "execution": {
     "iopub.execute_input": "2024-08-20T18:21:43.553402Z",
     "iopub.status.busy": "2024-08-20T18:21:43.552916Z",
     "iopub.status.idle": "2024-08-20T18:21:44.073842Z",
     "shell.execute_reply": "2024-08-20T18:21:44.073314Z"
    }
   },
   "outputs": [],
   "source": [
    "import os\n",
    "import pandas as pd\n",
    "import matplotlib.pyplot as plot\n",
    "from neo4j import GraphDatabase"
   ]
  },
  {
   "cell_type": "code",
   "execution_count": 2,
   "id": "acf605be",
   "metadata": {
    "execution": {
     "iopub.execute_input": "2024-08-20T18:21:44.076644Z",
     "iopub.status.busy": "2024-08-20T18:21:44.076221Z",
     "iopub.status.idle": "2024-08-20T18:21:44.078696Z",
     "shell.execute_reply": "2024-08-20T18:21:44.078227Z"
    }
   },
   "outputs": [],
   "source": [
    "#The following cell uses the build-in %html \"magic\" to override the CSS style for tables to a much smaller size.\n",
    "#This is especially needed for PDF export of tables with multiple columns."
   ]
  },
  {
   "cell_type": "code",
   "execution_count": 3,
   "id": "3cc19954",
   "metadata": {
    "execution": {
     "iopub.execute_input": "2024-08-20T18:21:44.081013Z",
     "iopub.status.busy": "2024-08-20T18:21:44.080707Z",
     "iopub.status.idle": "2024-08-20T18:21:44.087905Z",
     "shell.execute_reply": "2024-08-20T18:21:44.087481Z"
    }
   },
   "outputs": [
    {
     "data": {
      "text/html": [
       "<style>\n",
       "/* CSS style for smaller dataframe tables. */\n",
       ".dataframe th {\n",
       "    font-size: 8px;\n",
       "}\n",
       ".dataframe td {\n",
       "    font-size: 8px;\n",
       "}\n",
       "</style>\n"
      ],
      "text/plain": [
       "<IPython.core.display.HTML object>"
      ]
     },
     "metadata": {},
     "output_type": "display_data"
    }
   ],
   "source": [
    "%%html\n",
    "<style>\n",
    "/* CSS style for smaller dataframe tables. */\n",
    ".dataframe th {\n",
    "    font-size: 8px;\n",
    "}\n",
    ".dataframe td {\n",
    "    font-size: 8px;\n",
    "}\n",
    "</style>"
   ]
  },
  {
   "cell_type": "code",
   "execution_count": 4,
   "id": "33c356d7",
   "metadata": {
    "execution": {
     "iopub.execute_input": "2024-08-20T18:21:44.089839Z",
     "iopub.status.busy": "2024-08-20T18:21:44.089531Z",
     "iopub.status.idle": "2024-08-20T18:21:44.091871Z",
     "shell.execute_reply": "2024-08-20T18:21:44.091400Z"
    }
   },
   "outputs": [],
   "source": [
    "# Main Colormap\n",
    "main_color_map = 'nipy_spectral'"
   ]
  },
  {
   "cell_type": "code",
   "execution_count": 5,
   "id": "1c5dab37",
   "metadata": {
    "execution": {
     "iopub.execute_input": "2024-08-20T18:21:44.093680Z",
     "iopub.status.busy": "2024-08-20T18:21:44.093529Z",
     "iopub.status.idle": "2024-08-20T18:21:44.100585Z",
     "shell.execute_reply": "2024-08-20T18:21:44.100084Z"
    }
   },
   "outputs": [],
   "source": [
    "# Please set the environment variable \"NEO4J_INITIAL_PASSWORD\" in your shell \n",
    "# before starting jupyter notebook to provide the password for the user \"neo4j\". \n",
    "# It is not recommended to hardcode the password into jupyter notebook for security reasons.\n",
    "\n",
    "driver = GraphDatabase.driver(uri=\"bolt://localhost:7687\", auth=(\"neo4j\", os.environ.get(\"NEO4J_INITIAL_PASSWORD\")))\n",
    "driver.verify_connectivity()"
   ]
  },
  {
   "cell_type": "code",
   "execution_count": 6,
   "id": "c1db254b",
   "metadata": {
    "execution": {
     "iopub.execute_input": "2024-08-20T18:21:44.102970Z",
     "iopub.status.busy": "2024-08-20T18:21:44.102809Z",
     "iopub.status.idle": "2024-08-20T18:21:44.105536Z",
     "shell.execute_reply": "2024-08-20T18:21:44.105081Z"
    }
   },
   "outputs": [],
   "source": [
    "def get_cypher_query_from_file(cypherFileName):\n",
    "    with open(cypherFileName) as file:\n",
    "        return ' '.join(file.readlines())"
   ]
  },
  {
   "cell_type": "code",
   "execution_count": 7,
   "id": "59310f6f",
   "metadata": {
    "execution": {
     "iopub.execute_input": "2024-08-20T18:21:44.107755Z",
     "iopub.status.busy": "2024-08-20T18:21:44.107400Z",
     "iopub.status.idle": "2024-08-20T18:21:44.110662Z",
     "shell.execute_reply": "2024-08-20T18:21:44.110216Z"
    }
   },
   "outputs": [],
   "source": [
    "def query_cypher_to_data_frame(filename):\n",
    "    records, summary, keys = driver.execute_query(get_cypher_query_from_file(filename))\n",
    "    return pd.DataFrame([r.values() for r in records], columns=keys)"
   ]
  },
  {
   "cell_type": "code",
   "execution_count": 8,
   "id": "bcb3049f",
   "metadata": {
    "execution": {
     "iopub.execute_input": "2024-08-20T18:21:44.112550Z",
     "iopub.status.busy": "2024-08-20T18:21:44.112394Z",
     "iopub.status.idle": "2024-08-20T18:21:44.114582Z",
     "shell.execute_reply": "2024-08-20T18:21:44.114203Z"
    }
   },
   "outputs": [],
   "source": [
    "#The following cell uses the build-in %html \"magic\" to override the CSS style for tables to a much smaller size.\n",
    "#This is especially needed for PDF export of tables with multiple columns."
   ]
  },
  {
   "cell_type": "code",
   "execution_count": 9,
   "id": "d31581da",
   "metadata": {
    "execution": {
     "iopub.execute_input": "2024-08-20T18:21:44.116314Z",
     "iopub.status.busy": "2024-08-20T18:21:44.116170Z",
     "iopub.status.idle": "2024-08-20T18:21:44.119640Z",
     "shell.execute_reply": "2024-08-20T18:21:44.119163Z"
    }
   },
   "outputs": [
    {
     "data": {
      "text/html": [
       "<style>\n",
       "/* CSS style for smaller dataframe tables. */\n",
       ".dataframe th {\n",
       "    font-size: 8px;\n",
       "}\n",
       ".dataframe td {\n",
       "    font-size: 8px;\n",
       "}\n",
       "</style>\n"
      ],
      "text/plain": [
       "<IPython.core.display.HTML object>"
      ]
     },
     "metadata": {},
     "output_type": "display_data"
    }
   ],
   "source": [
    "%%html\n",
    "<style>\n",
    "/* CSS style for smaller dataframe tables. */\n",
    ".dataframe th {\n",
    "    font-size: 8px;\n",
    "}\n",
    ".dataframe td {\n",
    "    font-size: 8px;\n",
    "}\n",
    "</style>"
   ]
  },
  {
   "attachments": {},
   "cell_type": "markdown",
   "id": "d7cfd862",
   "metadata": {},
   "source": [
    "## Relative Visibility Of Elements\n",
    "\n",
    "A Typescript element (variable, function, class, ...) may be exported in which case it is visible and can be imported everywhere (if there are no other rules defined). If there is no \"export\" keyword and the element (variable, function, class, ...) is only declared, then it is only visible within the file or module.\n",
    "\n",
    "The relative visibility is the number of inner components that are visible outside (exported) divided by the number of all components:\n",
    "\n",
    "$$ relative visibility = \\frac{exported\\:elements}{all\\:declared\\:elements} $$\n",
    "\n",
    "Using directories with an index file as a module and exporting only the elements (variables, function, classes, ...) that the caller of the module should use is a good way to improve encapsulation and implementation detail hiding.\n",
    "\n",
    "### How to apply the results\n",
    "\n",
    "The relative visibility is between zero (no element is exported) and one (all elements are exported). A value lower than one means that there are elements that are not exported. The lower the value is, the better the encapsulation and the better the implementation details are hidden. \n",
    "\n",
    "Non exported elements can't be accessed from another modules so they can be changed without affecting code in other modules. They clearly indicate functionality that only belongs to one modules. This also motivates to split up code into smaller pieces with a dedicated reason to change (single responsibility)."
   ]
  },
  {
   "cell_type": "markdown",
   "id": "c9536fd9",
   "metadata": {},
   "source": [
    "### Table 1a - Top 40 projects with lowest median of module encapsulation\n",
    "\n",
    "This table shows the relative visibility statistics aggregated for all modules per project and focusses on projects with many modules and hardly any non-exported elements (lowest median, high visibility). Module directories with an index file and intentional exporting helps to improve encapsulation.\n",
    "\n",
    "Only the top 40 entries are shown. The whole table can be found in the following CSV report:  \n",
    "`Global_relative_visibility_statistics_for_elements_for_Typescript`"
   ]
  },
  {
   "cell_type": "code",
   "execution_count": 10,
   "id": "68ed42d0",
   "metadata": {
    "execution": {
     "iopub.execute_input": "2024-08-20T18:21:44.121604Z",
     "iopub.status.busy": "2024-08-20T18:21:44.121460Z",
     "iopub.status.idle": "2024-08-20T18:21:44.147285Z",
     "shell.execute_reply": "2024-08-20T18:21:44.146730Z"
    }
   },
   "outputs": [],
   "source": [
    "# Query the visibility statistics per project (all modules aggregated)\n",
    "# The results will be used in multiple tables below.\n",
    "relative_visibility_per_project_aggregated=query_cypher_to_data_frame(\"../cypher/Visibility/Global_relative_visibility_statistics_for_elements_for_Typescript.cypher\")"
   ]
  },
  {
   "cell_type": "code",
   "execution_count": 11,
   "id": "fa634a4e",
   "metadata": {
    "execution": {
     "iopub.execute_input": "2024-08-20T18:21:44.149814Z",
     "iopub.status.busy": "2024-08-20T18:21:44.149447Z",
     "iopub.status.idle": "2024-08-20T18:21:44.163652Z",
     "shell.execute_reply": "2024-08-20T18:21:44.163239Z"
    },
    "scrolled": true
   },
   "outputs": [
    {
     "data": {
      "text/html": [
       "<div>\n",
       "<style scoped>\n",
       "    .dataframe tbody tr th:only-of-type {\n",
       "        vertical-align: middle;\n",
       "    }\n",
       "\n",
       "    .dataframe tbody tr th {\n",
       "        vertical-align: top;\n",
       "    }\n",
       "\n",
       "    .dataframe thead th {\n",
       "        text-align: right;\n",
       "    }\n",
       "</style>\n",
       "<table border=\"1\" class=\"dataframe\">\n",
       "  <thead>\n",
       "    <tr style=\"text-align: right;\">\n",
       "      <th></th>\n",
       "      <th>projectPath</th>\n",
       "      <th>all</th>\n",
       "      <th>exported</th>\n",
       "      <th>min</th>\n",
       "      <th>max</th>\n",
       "      <th>average</th>\n",
       "      <th>percentile25</th>\n",
       "      <th>percentile50</th>\n",
       "      <th>percentile75</th>\n",
       "      <th>percentile90</th>\n",
       "      <th>percentile95</th>\n",
       "      <th>percentile99</th>\n",
       "    </tr>\n",
       "  </thead>\n",
       "  <tbody>\n",
       "    <tr>\n",
       "      <th>0</th>\n",
       "      <td>/home/runner/work/code-graph-analysis-pipeline...</td>\n",
       "      <td>6</td>\n",
       "      <td>6</td>\n",
       "      <td>1.000</td>\n",
       "      <td>1.000000</td>\n",
       "      <td>1.000000</td>\n",
       "      <td>1.000000</td>\n",
       "      <td>1.000000</td>\n",
       "      <td>1.000000</td>\n",
       "      <td>1.000000</td>\n",
       "      <td>1.000000</td>\n",
       "      <td>1.000000</td>\n",
       "    </tr>\n",
       "    <tr>\n",
       "      <th>1</th>\n",
       "      <td>/home/runner/work/code-graph-analysis-pipeline...</td>\n",
       "      <td>15</td>\n",
       "      <td>12</td>\n",
       "      <td>0.800</td>\n",
       "      <td>0.800000</td>\n",
       "      <td>0.800000</td>\n",
       "      <td>0.800000</td>\n",
       "      <td>0.800000</td>\n",
       "      <td>0.800000</td>\n",
       "      <td>0.800000</td>\n",
       "      <td>0.800000</td>\n",
       "      <td>0.800000</td>\n",
       "    </tr>\n",
       "    <tr>\n",
       "      <th>2</th>\n",
       "      <td>/home/runner/work/code-graph-analysis-pipeline...</td>\n",
       "      <td>85</td>\n",
       "      <td>41</td>\n",
       "      <td>0.375</td>\n",
       "      <td>0.507246</td>\n",
       "      <td>0.441123</td>\n",
       "      <td>0.408062</td>\n",
       "      <td>0.441123</td>\n",
       "      <td>0.474185</td>\n",
       "      <td>0.494022</td>\n",
       "      <td>0.500634</td>\n",
       "      <td>0.505924</td>\n",
       "    </tr>\n",
       "  </tbody>\n",
       "</table>\n",
       "</div>"
      ],
      "text/plain": [
       "                                         projectPath  all  exported    min  \\\n",
       "0  /home/runner/work/code-graph-analysis-pipeline...    6         6  1.000   \n",
       "1  /home/runner/work/code-graph-analysis-pipeline...   15        12  0.800   \n",
       "2  /home/runner/work/code-graph-analysis-pipeline...   85        41  0.375   \n",
       "\n",
       "        max   average  percentile25  percentile50  percentile75  percentile90  \\\n",
       "0  1.000000  1.000000      1.000000      1.000000      1.000000      1.000000   \n",
       "1  0.800000  0.800000      0.800000      0.800000      0.800000      0.800000   \n",
       "2  0.507246  0.441123      0.408062      0.441123      0.474185      0.494022   \n",
       "\n",
       "   percentile95  percentile99  \n",
       "0      1.000000      1.000000  \n",
       "1      0.800000      0.800000  \n",
       "2      0.500634      0.505924  "
      ]
     },
     "execution_count": 11,
     "metadata": {},
     "output_type": "execute_result"
    }
   ],
   "source": [
    "# Sort by the \"percentile50\" (median) and \"all\" (number of modules in the project) descending\n",
    "relative_visibility_statistics_highest_median=relative_visibility_per_project_aggregated.sort_values(by=['percentile50', 'all'], ascending=[False, False])\n",
    "\n",
    "# Reset the index (row numbering starting at 0 and increasing by 1)\n",
    "relative_visibility_statistics_highest_median=relative_visibility_statistics_highest_median.reset_index(drop=True)\n",
    "\n",
    "relative_visibility_statistics_highest_median.head(40)"
   ]
  },
  {
   "cell_type": "markdown",
   "id": "1b84fd51",
   "metadata": {},
   "source": [
    "### Table 1b - Top 40 projects with highest median of module encapsulation\n",
    "\n",
    "This table shows the relative visibility statistics aggregated for all modules per project and focusses on project with many modules and the highest median of non-exported elements (variables, functions, classes, ...) (low visibility). Module directories with an index file and intentional exporting helps to improve encapsulation.\n",
    "\n",
    "Only the top 40 entries are shown. The whole table can be found in the following CSV report:  \n",
    "`Global_relative_visibility_statistics_for_elements_for_Typescript`"
   ]
  },
  {
   "cell_type": "code",
   "execution_count": 12,
   "id": "dc59a07d",
   "metadata": {
    "execution": {
     "iopub.execute_input": "2024-08-20T18:21:44.165556Z",
     "iopub.status.busy": "2024-08-20T18:21:44.165407Z",
     "iopub.status.idle": "2024-08-20T18:21:44.174733Z",
     "shell.execute_reply": "2024-08-20T18:21:44.174347Z"
    }
   },
   "outputs": [
    {
     "data": {
      "text/html": [
       "<div>\n",
       "<style scoped>\n",
       "    .dataframe tbody tr th:only-of-type {\n",
       "        vertical-align: middle;\n",
       "    }\n",
       "\n",
       "    .dataframe tbody tr th {\n",
       "        vertical-align: top;\n",
       "    }\n",
       "\n",
       "    .dataframe thead th {\n",
       "        text-align: right;\n",
       "    }\n",
       "</style>\n",
       "<table border=\"1\" class=\"dataframe\">\n",
       "  <thead>\n",
       "    <tr style=\"text-align: right;\">\n",
       "      <th></th>\n",
       "      <th>projectPath</th>\n",
       "      <th>all</th>\n",
       "      <th>exported</th>\n",
       "      <th>min</th>\n",
       "      <th>max</th>\n",
       "      <th>average</th>\n",
       "      <th>percentile25</th>\n",
       "      <th>percentile50</th>\n",
       "      <th>percentile75</th>\n",
       "      <th>percentile90</th>\n",
       "      <th>percentile95</th>\n",
       "      <th>percentile99</th>\n",
       "    </tr>\n",
       "  </thead>\n",
       "  <tbody>\n",
       "    <tr>\n",
       "      <th>0</th>\n",
       "      <td>/home/runner/work/code-graph-analysis-pipeline...</td>\n",
       "      <td>85</td>\n",
       "      <td>41</td>\n",
       "      <td>0.375</td>\n",
       "      <td>0.507246</td>\n",
       "      <td>0.441123</td>\n",
       "      <td>0.408062</td>\n",
       "      <td>0.441123</td>\n",
       "      <td>0.474185</td>\n",
       "      <td>0.494022</td>\n",
       "      <td>0.500634</td>\n",
       "      <td>0.505924</td>\n",
       "    </tr>\n",
       "    <tr>\n",
       "      <th>1</th>\n",
       "      <td>/home/runner/work/code-graph-analysis-pipeline...</td>\n",
       "      <td>15</td>\n",
       "      <td>12</td>\n",
       "      <td>0.800</td>\n",
       "      <td>0.800000</td>\n",
       "      <td>0.800000</td>\n",
       "      <td>0.800000</td>\n",
       "      <td>0.800000</td>\n",
       "      <td>0.800000</td>\n",
       "      <td>0.800000</td>\n",
       "      <td>0.800000</td>\n",
       "      <td>0.800000</td>\n",
       "    </tr>\n",
       "    <tr>\n",
       "      <th>2</th>\n",
       "      <td>/home/runner/work/code-graph-analysis-pipeline...</td>\n",
       "      <td>6</td>\n",
       "      <td>6</td>\n",
       "      <td>1.000</td>\n",
       "      <td>1.000000</td>\n",
       "      <td>1.000000</td>\n",
       "      <td>1.000000</td>\n",
       "      <td>1.000000</td>\n",
       "      <td>1.000000</td>\n",
       "      <td>1.000000</td>\n",
       "      <td>1.000000</td>\n",
       "      <td>1.000000</td>\n",
       "    </tr>\n",
       "  </tbody>\n",
       "</table>\n",
       "</div>"
      ],
      "text/plain": [
       "                                         projectPath  all  exported    min  \\\n",
       "0  /home/runner/work/code-graph-analysis-pipeline...   85        41  0.375   \n",
       "1  /home/runner/work/code-graph-analysis-pipeline...   15        12  0.800   \n",
       "2  /home/runner/work/code-graph-analysis-pipeline...    6         6  1.000   \n",
       "\n",
       "        max   average  percentile25  percentile50  percentile75  percentile90  \\\n",
       "0  0.507246  0.441123      0.408062      0.441123      0.474185      0.494022   \n",
       "1  0.800000  0.800000      0.800000      0.800000      0.800000      0.800000   \n",
       "2  1.000000  1.000000      1.000000      1.000000      1.000000      1.000000   \n",
       "\n",
       "   percentile95  percentile99  \n",
       "0      0.500634      0.505924  \n",
       "1      0.800000      0.800000  \n",
       "2      1.000000      1.000000  "
      ]
     },
     "execution_count": 12,
     "metadata": {},
     "output_type": "execute_result"
    }
   ],
   "source": [
    "# Sort by the \"percentile50\" (median) ascending and \"all\" (number of packages in the artifact) descending\n",
    "relative_visibility_statistics_lowest_median=relative_visibility_per_project_aggregated.sort_values(by=['percentile50', 'all'], ascending=[True, False])\n",
    "\n",
    "# Reset the index (row numbering starting at 0 and increasing by 1)\n",
    "relative_visibility_statistics_lowest_median=relative_visibility_statistics_lowest_median.reset_index(drop=True)\n",
    "\n",
    "relative_visibility_statistics_lowest_median.head(40)"
   ]
  },
  {
   "cell_type": "markdown",
   "id": "5196ecc2",
   "metadata": {},
   "source": [
    "### Table 1 Chart 1 - Relative visibility in projects"
   ]
  },
  {
   "cell_type": "code",
   "execution_count": 13,
   "id": "f467a8dd",
   "metadata": {
    "execution": {
     "iopub.execute_input": "2024-08-20T18:21:44.176603Z",
     "iopub.status.busy": "2024-08-20T18:21:44.176455Z",
     "iopub.status.idle": "2024-08-20T18:21:44.939041Z",
     "shell.execute_reply": "2024-08-20T18:21:44.938529Z"
    }
   },
   "outputs": [
    {
     "name": "stderr",
     "output_type": "stream",
     "text": [
      "/home/runner/miniconda3/envs/codegraph/lib/python3.11/site-packages/pandas/plotting/_matplotlib/core.py:1259: UserWarning: No data for colormapping provided via 'c'. Parameters 'cmap' will be ignored\n",
      "  scatter = ax.scatter(\n"
     ]
    },
    {
     "data": {
      "text/plain": [
       "<Figure size 640x480 with 0 Axes>"
      ]
     },
     "metadata": {},
     "output_type": "display_data"
    },
    {
     "data": {
      "image/png": "[encoded data removed]",
      "text/plain": [
       "<Figure size 1000x1000 with 3 Axes>"
      ]
     },
     "metadata": {},
     "output_type": "display_data"
    }
   ],
   "source": [
    "plot.figure();\n",
    "fig, axes = plot.subplots(nrows=3, ncols=1, sharex=True)\n",
    "\n",
    "number_of_modules_grid_ticks=[1, 2, 5, 10, 20, 50, 100, 200, 500, 1_000, 2_000, 5_000, 10_000]\n",
    "\n",
    "relative_visibility_per_project_aggregated.plot(\n",
    "    ax=axes[0],\n",
    "    kind='scatter',\n",
    "    title='Relative visibility in projects (75% percentile)', \n",
    "    x='percentile75',\n",
    "    y='all',\n",
    "    grid=True,\n",
    "    logy=True,\n",
    "    yticks=number_of_modules_grid_ticks,\n",
    "    xlabel='relative visibility',\n",
    "    ylabel='number of modules',\n",
    "    cmap=main_color_map,\n",
    "    figsize=(10,4),\n",
    ")\n",
    "relative_visibility_per_project_aggregated.plot(\n",
    "    ax=axes[1],\n",
    "    kind='scatter',\n",
    "    title='Relative visibility in projects (50% percentile)', \n",
    "    x='percentile50',\n",
    "    y='all',\n",
    "    grid=True,\n",
    "    logy=True,\n",
    "    yticks=number_of_modules_grid_ticks,\n",
    "    xlabel='relative visibility',\n",
    "    ylabel='number of modules',\n",
    "    cmap=main_color_map,\n",
    "    figsize=(10,4),\n",
    ")\n",
    "relative_visibility_per_project_aggregated.plot(\n",
    "    ax=axes[2],\n",
    "    kind='scatter',\n",
    "    title='Relative visibility in artifacts (25% percentile)', \n",
    "    x='percentile25',\n",
    "    y='all',\n",
    "    grid=True,\n",
    "    logy=True,\n",
    "    yticks=number_of_modules_grid_ticks,\n",
    "    xlabel='relative visibility',\n",
    "    ylabel='number of packages',\n",
    "    cmap=main_color_map,\n",
    "    figsize=(10,10),\n",
    ")\n",
    "axes[0].grid(color = 'grey', linestyle = '-', linewidth = 0.2)\n",
    "axes[1].grid(color = 'grey', linestyle = '-', linewidth = 0.2)\n",
    "axes[2].grid(color = 'grey', linestyle = '-', linewidth = 0.2)\n",
    "plot.show()"
   ]
  },
  {
   "attachments": {},
   "cell_type": "markdown",
   "id": "3f59da8d",
   "metadata": {},
   "source": [
    "### Table 2a - Top 40 modules with the highest visibility and lowest encapsulation\n",
    "\n",
    "This table shows the relative visibility statistics per module and project and focusses on modules with many elements (variables, functions, classes, ...), hardly any non-exported ones and therefore the highest relative visibility (lowest encapsulation). Module directories with an index file and intentional exporting helps to improve encapsulation.\n",
    "\n",
    "Only the top 40 entries are shown. The whole table can be found in the following CSV report:  \n",
    "`Relative_visibility_exported_elements_to_all_elements_per_module_for_Typescript`"
   ]
  },
  {
   "cell_type": "code",
   "execution_count": 14,
   "id": "6e91c8c5",
   "metadata": {
    "execution": {
     "iopub.execute_input": "2024-08-20T18:21:44.941504Z",
     "iopub.status.busy": "2024-08-20T18:21:44.941238Z",
     "iopub.status.idle": "2024-08-20T18:21:44.960637Z",
     "shell.execute_reply": "2024-08-20T18:21:44.960152Z"
    },
    "scrolled": true
   },
   "outputs": [],
   "source": [
    "# Query the visibility statistics per module and project (all elements aggregated)\n",
    "# The results will be used in multiple tables below.\n",
    "relative_visibility_per_module=query_cypher_to_data_frame(\"../cypher/Visibility/Relative_visibility_exported_elements_to_all_elements_per_module_for_Typescript.cypher\")"
   ]
  },
  {
   "cell_type": "code",
   "execution_count": 15,
   "id": "48f7f2d2",
   "metadata": {
    "execution": {
     "iopub.execute_input": "2024-08-20T18:21:44.962877Z",
     "iopub.status.busy": "2024-08-20T18:21:44.962722Z",
     "iopub.status.idle": "2024-08-20T18:21:44.970920Z",
     "shell.execute_reply": "2024-08-20T18:21:44.970530Z"
    }
   },
   "outputs": [
    {
     "data": {
      "text/html": [
       "<div>\n",
       "<style scoped>\n",
       "    .dataframe tbody tr th:only-of-type {\n",
       "        vertical-align: middle;\n",
       "    }\n",
       "\n",
       "    .dataframe tbody tr th {\n",
       "        vertical-align: top;\n",
       "    }\n",
       "\n",
       "    .dataframe thead th {\n",
       "        text-align: right;\n",
       "    }\n",
       "</style>\n",
       "<table border=\"1\" class=\"dataframe\">\n",
       "  <thead>\n",
       "    <tr style=\"text-align: right;\">\n",
       "      <th></th>\n",
       "      <th>projectPath</th>\n",
       "      <th>modulePath</th>\n",
       "      <th>moduleName</th>\n",
       "      <th>exportedElements</th>\n",
       "      <th>allElements</th>\n",
       "      <th>relativeVisibility</th>\n",
       "    </tr>\n",
       "  </thead>\n",
       "  <tbody>\n",
       "    <tr>\n",
       "      <th>0</th>\n",
       "      <td>/home/runner/work/code-graph-analysis-pipeline...</td>\n",
       "      <td>index.ts</td>\n",
       "      <td>react-router</td>\n",
       "      <td>6</td>\n",
       "      <td>6</td>\n",
       "      <td>1.000000</td>\n",
       "    </tr>\n",
       "    <tr>\n",
       "      <th>1</th>\n",
       "      <td>/home/runner/work/code-graph-analysis-pipeline...</td>\n",
       "      <td>index.tsx</td>\n",
       "      <td>react-router-native</td>\n",
       "      <td>13</td>\n",
       "      <td>15</td>\n",
       "      <td>0.866667</td>\n",
       "    </tr>\n",
       "    <tr>\n",
       "      <th>2</th>\n",
       "      <td>/home/runner/work/code-graph-analysis-pipeline...</td>\n",
       "      <td>index.tsx</td>\n",
       "      <td>react-router-dom</td>\n",
       "      <td>35</td>\n",
       "      <td>69</td>\n",
       "      <td>0.507246</td>\n",
       "    </tr>\n",
       "    <tr>\n",
       "      <th>3</th>\n",
       "      <td>/home/runner/work/code-graph-analysis-pipeline...</td>\n",
       "      <td>server.tsx</td>\n",
       "      <td>server</td>\n",
       "      <td>6</td>\n",
       "      <td>16</td>\n",
       "      <td>0.375000</td>\n",
       "    </tr>\n",
       "  </tbody>\n",
       "</table>\n",
       "</div>"
      ],
      "text/plain": [
       "                                         projectPath  modulePath  \\\n",
       "0  /home/runner/work/code-graph-analysis-pipeline...    index.ts   \n",
       "1  /home/runner/work/code-graph-analysis-pipeline...   index.tsx   \n",
       "2  /home/runner/work/code-graph-analysis-pipeline...   index.tsx   \n",
       "3  /home/runner/work/code-graph-analysis-pipeline...  server.tsx   \n",
       "\n",
       "            moduleName  exportedElements  allElements  relativeVisibility  \n",
       "0         react-router                 6            6            1.000000  \n",
       "1  react-router-native                13           15            0.866667  \n",
       "2     react-router-dom                35           69            0.507246  \n",
       "3               server                 6           16            0.375000  "
      ]
     },
     "execution_count": 15,
     "metadata": {},
     "output_type": "execute_result"
    }
   ],
   "source": [
    "# Sort by the \"relativeVisibility\" and \"allElements\" (number of elements in the module) descending\n",
    "highest_relative_visibility_module=relative_visibility_per_module.sort_values(by=['relativeVisibility', 'allElements'], ascending=[False, False])\n",
    "\n",
    "# Reset the index (row numbering starting at 0 and increasing by 1)\n",
    "highest_relative_visibility_module=highest_relative_visibility_module.reset_index(drop=True)\n",
    "\n",
    "highest_relative_visibility_module.head(40)"
   ]
  },
  {
   "cell_type": "markdown",
   "id": "c6786ef1",
   "metadata": {},
   "source": [
    "### Table 2b - Top 40 modules with the lowest visibility and highest encapsulation\n",
    "\n",
    "This table shows the relative visibility statistics per modules and project and focusses on modules with many elements (variables, functions, classes, ...), many non-exported ones and therefore the lowest relative visibility (highest encapsulation). Non-exported elements help to improve encapsulation. Zero percent visibility and therefore modules with no exported elements are suspicious to contain dead code.\n",
    "\n",
    "Only the top 40 entries are shown. The whole table can be found in the following CSV report:  \n",
    "`Relative_visibility_public_types_to_all_types_per_package`"
   ]
  },
  {
   "cell_type": "code",
   "execution_count": 16,
   "id": "48c20ca4",
   "metadata": {
    "execution": {
     "iopub.execute_input": "2024-08-20T18:21:44.972816Z",
     "iopub.status.busy": "2024-08-20T18:21:44.972670Z",
     "iopub.status.idle": "2024-08-20T18:21:44.980023Z",
     "shell.execute_reply": "2024-08-20T18:21:44.979517Z"
    }
   },
   "outputs": [
    {
     "data": {
      "text/html": [
       "<div>\n",
       "<style scoped>\n",
       "    .dataframe tbody tr th:only-of-type {\n",
       "        vertical-align: middle;\n",
       "    }\n",
       "\n",
       "    .dataframe tbody tr th {\n",
       "        vertical-align: top;\n",
       "    }\n",
       "\n",
       "    .dataframe thead th {\n",
       "        text-align: right;\n",
       "    }\n",
       "</style>\n",
       "<table border=\"1\" class=\"dataframe\">\n",
       "  <thead>\n",
       "    <tr style=\"text-align: right;\">\n",
       "      <th></th>\n",
       "      <th>projectPath</th>\n",
       "      <th>modulePath</th>\n",
       "      <th>moduleName</th>\n",
       "      <th>exportedElements</th>\n",
       "      <th>allElements</th>\n",
       "      <th>relativeVisibility</th>\n",
       "    </tr>\n",
       "  </thead>\n",
       "  <tbody>\n",
       "    <tr>\n",
       "      <th>0</th>\n",
       "      <td>/home/runner/work/code-graph-analysis-pipeline...</td>\n",
       "      <td>server.tsx</td>\n",
       "      <td>server</td>\n",
       "      <td>6</td>\n",
       "      <td>16</td>\n",
       "      <td>0.375000</td>\n",
       "    </tr>\n",
       "    <tr>\n",
       "      <th>1</th>\n",
       "      <td>/home/runner/work/code-graph-analysis-pipeline...</td>\n",
       "      <td>index.tsx</td>\n",
       "      <td>react-router-dom</td>\n",
       "      <td>35</td>\n",
       "      <td>69</td>\n",
       "      <td>0.507246</td>\n",
       "    </tr>\n",
       "    <tr>\n",
       "      <th>2</th>\n",
       "      <td>/home/runner/work/code-graph-analysis-pipeline...</td>\n",
       "      <td>index.tsx</td>\n",
       "      <td>react-router-native</td>\n",
       "      <td>13</td>\n",
       "      <td>15</td>\n",
       "      <td>0.866667</td>\n",
       "    </tr>\n",
       "    <tr>\n",
       "      <th>3</th>\n",
       "      <td>/home/runner/work/code-graph-analysis-pipeline...</td>\n",
       "      <td>index.ts</td>\n",
       "      <td>react-router</td>\n",
       "      <td>6</td>\n",
       "      <td>6</td>\n",
       "      <td>1.000000</td>\n",
       "    </tr>\n",
       "  </tbody>\n",
       "</table>\n",
       "</div>"
      ],
      "text/plain": [
       "                                         projectPath  modulePath  \\\n",
       "0  /home/runner/work/code-graph-analysis-pipeline...  server.tsx   \n",
       "1  /home/runner/work/code-graph-analysis-pipeline...   index.tsx   \n",
       "2  /home/runner/work/code-graph-analysis-pipeline...   index.tsx   \n",
       "3  /home/runner/work/code-graph-analysis-pipeline...    index.ts   \n",
       "\n",
       "            moduleName  exportedElements  allElements  relativeVisibility  \n",
       "0               server                 6           16            0.375000  \n",
       "1     react-router-dom                35           69            0.507246  \n",
       "2  react-router-native                13           15            0.866667  \n",
       "3         react-router                 6            6            1.000000  "
      ]
     },
     "execution_count": 16,
     "metadata": {},
     "output_type": "execute_result"
    }
   ],
   "source": [
    "# Sort by the \"relativeVisibility\" ascending and \"allTypes\" (number of types in the package) descending\n",
    "lowest_relative_visibility_modules=relative_visibility_per_module.sort_values(by=['relativeVisibility', 'allElements'], ascending=[True, False])\n",
    "\n",
    "# Reset the index (row numbering starting at 0 and increasing by 1)\n",
    "lowest_relative_visibility_modules=lowest_relative_visibility_modules.reset_index(drop=True)\n",
    "\n",
    "lowest_relative_visibility_modules.head(40)"
   ]
  },
  {
   "cell_type": "markdown",
   "id": "8ff237fd",
   "metadata": {},
   "source": [
    "### Table 2 Chart 1 - Relative visibility of modules"
   ]
  },
  {
   "cell_type": "code",
   "execution_count": 17,
   "id": "98b12846",
   "metadata": {
    "execution": {
     "iopub.execute_input": "2024-08-20T18:21:44.981905Z",
     "iopub.status.busy": "2024-08-20T18:21:44.981756Z",
     "iopub.status.idle": "2024-08-20T18:21:45.217521Z",
     "shell.execute_reply": "2024-08-20T18:21:45.217028Z"
    }
   },
   "outputs": [
    {
     "name": "stderr",
     "output_type": "stream",
     "text": [
      "/home/runner/miniconda3/envs/codegraph/lib/python3.11/site-packages/pandas/plotting/_matplotlib/core.py:1259: UserWarning: No data for colormapping provided via 'c'. Parameters 'cmap' will be ignored\n",
      "  scatter = ax.scatter(\n"
     ]
    },
    {
     "data": {
      "text/plain": [
       "<Figure size 640x480 with 0 Axes>"
      ]
     },
     "metadata": {},
     "output_type": "display_data"
    },
    {
     "data": {
      "image/png": "[encoded data removed]",
      "text/plain": [
       "<Figure size 1000x400 with 1 Axes>"
      ]
     },
     "metadata": {},
     "output_type": "display_data"
    }
   ],
   "source": [
    "plot.figure();\n",
    "\n",
    "number_of_types_grid_ticks=[1, 2, 5, 10, 20, 50, 100, 200, 500, 1_000, 2_000, 5_000, 10_000]\n",
    "\n",
    "relative_visibility_per_module.plot(\n",
    "    kind='scatter',\n",
    "    title='Relative visibility of modules', \n",
    "    x='relativeVisibility',\n",
    "    y='allElements',\n",
    "    grid=True,\n",
    "    logy=True,\n",
    "    yticks=number_of_types_grid_ticks,\n",
    "    xlabel='relative visibility',\n",
    "    ylabel='number of elements',\n",
    "    cmap=main_color_map,\n",
    "    figsize=(10,4),\n",
    ")\n",
    "\n",
    "plot.show()"
   ]
  }
 ],
 "metadata": {
  "authors": [
   {
    "name": "JohT"
   }
  ],
  "code_graph_analysis_pipeline_data_validation": "ValidateTypescriptModuleDependencies",
  "kernelspec": {
   "display_name": "Python 3 (ipykernel)",
   "language": "python",
   "name": "python3"
  },
  "language_info": {
   "codemirror_mode": {
    "name": "ipython",
    "version": 3
   },
   "file_extension": ".py",
   "mimetype": "text/x-python",
   "name": "python",
   "nbconvert_exporter": "python",
   "pygments_lexer": "ipython3",
   "version": "3.11.0"
  },
  "title": "Visibility Metrics for Typescript"
 },
 "nbformat": 4,
 "nbformat_minor": 5
}
