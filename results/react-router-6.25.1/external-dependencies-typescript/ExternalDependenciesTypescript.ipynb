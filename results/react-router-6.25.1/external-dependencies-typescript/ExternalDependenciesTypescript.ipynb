{
 "cells": [
  {
   "attachments": {},
   "cell_type": "markdown",
   "id": "2f0eabc4",
   "metadata": {},
   "source": [
    "# External Dependencies\n",
    "<br>  \n",
    "\n",
    "### References\n",
    "- [jqassistant](https://jqassistant.org)\n",
    "- [Neo4j Python Driver](https://neo4j.com/docs/api/python-driver/current)"
   ]
  },
  {
   "cell_type": "code",
   "execution_count": 1,
   "id": "4191f259",
   "metadata": {
    "execution": {
     "iopub.execute_input": "2024-08-20T18:20:54.926743Z",
     "iopub.status.busy": "2024-08-20T18:20:54.926555Z",
     "iopub.status.idle": "2024-08-20T18:20:55.626626Z",
     "shell.execute_reply": "2024-08-20T18:20:55.626090Z"
    }
   },
   "outputs": [],
   "source": [
    "import os\n",
    "import pandas as pd\n",
    "import matplotlib.pyplot as plot\n",
    "from neo4j import GraphDatabase"
   ]
  },
  {
   "cell_type": "code",
   "execution_count": 2,
   "id": "1c5dab37",
   "metadata": {
    "execution": {
     "iopub.execute_input": "2024-08-20T18:20:55.629709Z",
     "iopub.status.busy": "2024-08-20T18:20:55.629192Z",
     "iopub.status.idle": "2024-08-20T18:20:55.638174Z",
     "shell.execute_reply": "2024-08-20T18:20:55.637735Z"
    }
   },
   "outputs": [],
   "source": [
    "# Please set the environment variable \"NEO4J_INITIAL_PASSWORD\" in your shell \n",
    "# before starting jupyter notebook to provide the password for the user \"neo4j\". \n",
    "# It is not recommended to hardcode the password into jupyter notebook for security reasons.\n",
    "\n",
    "driver = GraphDatabase.driver(uri=\"bolt://localhost:7687\", auth=(\"neo4j\", os.environ.get(\"NEO4J_INITIAL_PASSWORD\")))\n",
    "driver.verify_connectivity()"
   ]
  },
  {
   "cell_type": "code",
   "execution_count": 3,
   "id": "c1db254b",
   "metadata": {
    "execution": {
     "iopub.execute_input": "2024-08-20T18:20:55.640781Z",
     "iopub.status.busy": "2024-08-20T18:20:55.640626Z",
     "iopub.status.idle": "2024-08-20T18:20:55.643296Z",
     "shell.execute_reply": "2024-08-20T18:20:55.642849Z"
    }
   },
   "outputs": [],
   "source": [
    "def get_cypher_query_from_file(filename):\n",
    "    with open(filename) as file:\n",
    "        return ' '.join(file.readlines())"
   ]
  },
  {
   "cell_type": "code",
   "execution_count": 4,
   "id": "59310f6f",
   "metadata": {
    "execution": {
     "iopub.execute_input": "2024-08-20T18:20:55.645287Z",
     "iopub.status.busy": "2024-08-20T18:20:55.645010Z",
     "iopub.status.idle": "2024-08-20T18:20:55.647761Z",
     "shell.execute_reply": "2024-08-20T18:20:55.647314Z"
    }
   },
   "outputs": [],
   "source": [
    "def query_cypher_to_data_frame(filename):\n",
    "    records, summary, keys = driver.execute_query(get_cypher_query_from_file(filename))\n",
    "    return pd.DataFrame([r.values() for r in records], columns=keys)"
   ]
  },
  {
   "cell_type": "code",
   "execution_count": 5,
   "id": "da9e8edb",
   "metadata": {
    "execution": {
     "iopub.execute_input": "2024-08-20T18:20:55.649660Z",
     "iopub.status.busy": "2024-08-20T18:20:55.649514Z",
     "iopub.status.idle": "2024-08-20T18:20:55.651778Z",
     "shell.execute_reply": "2024-08-20T18:20:55.651339Z"
    }
   },
   "outputs": [],
   "source": [
    "#The following cell uses the build-in %html \"magic\" to override the CSS style for tables to a much smaller size.\n",
    "#This is especially needed for PDF export of tables with multiple columns."
   ]
  },
  {
   "cell_type": "code",
   "execution_count": 6,
   "id": "9deaabce",
   "metadata": {
    "execution": {
     "iopub.execute_input": "2024-08-20T18:20:55.653773Z",
     "iopub.status.busy": "2024-08-20T18:20:55.653629Z",
     "iopub.status.idle": "2024-08-20T18:20:55.667755Z",
     "shell.execute_reply": "2024-08-20T18:20:55.667167Z"
    },
    "tags": [
     "table-css"
    ]
   },
   "outputs": [
    {
     "data": {
      "text/html": [
       "<style>\n",
       "/* CSS style for smaller dataframe tables. */\n",
       ".dataframe th {\n",
       "    font-size: 8px;\n",
       "}\n",
       ".dataframe td {\n",
       "    font-size: 8px;\n",
       "}\n",
       "</style>\n"
      ],
      "text/plain": [
       "<IPython.core.display.HTML object>"
      ]
     },
     "metadata": {},
     "output_type": "display_data"
    }
   ],
   "source": [
    "%%html\n",
    "<style>\n",
    "/* CSS style for smaller dataframe tables. */\n",
    ".dataframe th {\n",
    "    font-size: 8px;\n",
    "}\n",
    ".dataframe td {\n",
    "    font-size: 8px;\n",
    "}\n",
    "</style>"
   ]
  },
  {
   "cell_type": "code",
   "execution_count": 7,
   "id": "c2496caf",
   "metadata": {
    "execution": {
     "iopub.execute_input": "2024-08-20T18:20:55.669761Z",
     "iopub.status.busy": "2024-08-20T18:20:55.669467Z",
     "iopub.status.idle": "2024-08-20T18:20:55.671806Z",
     "shell.execute_reply": "2024-08-20T18:20:55.671405Z"
    }
   },
   "outputs": [],
   "source": [
    "# Main Colormap\n",
    "main_color_map = 'nipy_spectral'"
   ]
  },
  {
   "attachments": {},
   "cell_type": "markdown",
   "id": "6705e06a",
   "metadata": {},
   "source": [
    "## External Typescript Module Usage\n",
    "\n",
    "### External Module\n",
    "\n",
    "An external Typescript module is marked with the label `ExternalModule` and the declarations it provides with  `ExternalDeclaration`. In practice, the distinction between internal and external isn't always that clear. When there is a problem following the project configuration like discussed in [Missing Interfaces and other elements in the Graph](https://github.com/jqassistant-plugin/jqassistant-typescript-plugin/issues/35), some internal dependencies might be imported as external ones. \n",
    "\n",
    "To have a second indicator, the property `isNodeModule` is written with [Add_module_properties.cypher](./../cypher/Typescript_Enrichment/Add_module_properties.cypher) in [prepareAnalysis.sh](./../scripts/prepareAnalysis.sh). For most package managers this should then be sufficient. As of now (June 2024), it might not work with [Yarn Plug'n'Play](https://yarnpkg.com/features/pnp)."
   ]
  },
  {
   "attachments": {},
   "cell_type": "markdown",
   "id": "334167e4",
   "metadata": {},
   "source": [
    "### Table 1 - Top 20 most used external packages overall\n",
    "\n",
    "This table shows the external packages that are used by the most different internal types overall.\n",
    "Additionally, it shows which types of the external modules are actually used. External annotations are also listed.\n",
    "\n",
    "Only the top 20 entries are shown. The whole table can be found in the following CSV report:\n",
    "`External_module_usage_overall_for_Typescript`\n",
    "\n",
    "**Columns:**\n",
    "- *externalModuleName* is the name of the external module prepended by its namespace if given. Example: \"@types/react\"\n",
    "- *numberOfExternalCallerModules* is the number of modules that use that external module\n",
    "- *numberOfExternalCallerElements* is the number of elements (functions, classes,...) that use that external module\n",
    "- *numberOfExternalDeclarationCalls* is how often the external declarations of that external module are imported\n",
    "- *numberOfExternalDeclarationCallsWeighted* is how often the external declarations of that external module are actually used\n",
    "- *allModules* contains the total count of all analyzed internal modules\n",
    "- *allInternalElements* contains the total count of all analyzed exported internal elements (function, classes,...)\n",
    "- *exampleStories* contains a list of sentences that contain concrete examples (for explanation and debugging)"
   ]
  },
  {
   "cell_type": "code",
   "execution_count": 8,
   "id": "ff524ac7",
   "metadata": {
    "execution": {
     "iopub.execute_input": "2024-08-20T18:20:55.673659Z",
     "iopub.status.busy": "2024-08-20T18:20:55.673507Z",
     "iopub.status.idle": "2024-08-20T18:20:55.708625Z",
     "shell.execute_reply": "2024-08-20T18:20:55.708171Z"
    }
   },
   "outputs": [
    {
     "data": {
      "text/html": [
       "<div>\n",
       "<style scoped>\n",
       "    .dataframe tbody tr th:only-of-type {\n",
       "        vertical-align: middle;\n",
       "    }\n",
       "\n",
       "    .dataframe tbody tr th {\n",
       "        vertical-align: top;\n",
       "    }\n",
       "\n",
       "    .dataframe thead th {\n",
       "        text-align: right;\n",
       "    }\n",
       "</style>\n",
       "<table border=\"1\" class=\"dataframe\">\n",
       "  <thead>\n",
       "    <tr style=\"text-align: right;\">\n",
       "      <th></th>\n",
       "      <th>externalModuleName</th>\n",
       "      <th>numberOfExternalCallerModules</th>\n",
       "      <th>numberOfExternalCallerElements</th>\n",
       "      <th>numberOfExternalDeclarationCalls</th>\n",
       "      <th>numberOfExternalDeclarationCallsWeighted</th>\n",
       "      <th>allModules</th>\n",
       "      <th>allInternalElements</th>\n",
       "      <th>exampleStories</th>\n",
       "    </tr>\n",
       "  </thead>\n",
       "  <tbody>\n",
       "    <tr>\n",
       "      <th>0</th>\n",
       "      <td>@types/react</td>\n",
       "      <td>4</td>\n",
       "      <td>34</td>\n",
       "      <td>94</td>\n",
       "      <td>145</td>\n",
       "      <td>4</td>\n",
       "      <td>59</td>\n",
       "      <td>[&lt;mapRouteProperties&gt; of module &lt;react-router&gt;...</td>\n",
       "    </tr>\n",
       "    <tr>\n",
       "      <th>1</th>\n",
       "      <td>@types/react-native</td>\n",
       "      <td>1</td>\n",
       "      <td>5</td>\n",
       "      <td>14</td>\n",
       "      <td>18</td>\n",
       "      <td>4</td>\n",
       "      <td>59</td>\n",
       "      <td>[&lt;useLinkPressHandler&gt; of module &lt;react-router...</td>\n",
       "    </tr>\n",
       "    <tr>\n",
       "      <th>2</th>\n",
       "      <td>@ungap/url-search-params</td>\n",
       "      <td>1</td>\n",
       "      <td>1</td>\n",
       "      <td>1</td>\n",
       "      <td>2</td>\n",
       "      <td>4</td>\n",
       "      <td>59</td>\n",
       "      <td>[&lt;createSearchParams&gt; of module &lt;react-router-...</td>\n",
       "    </tr>\n",
       "  </tbody>\n",
       "</table>\n",
       "</div>"
      ],
      "text/plain": [
       "         externalModuleName  numberOfExternalCallerModules  \\\n",
       "0              @types/react                              4   \n",
       "1       @types/react-native                              1   \n",
       "2  @ungap/url-search-params                              1   \n",
       "\n",
       "   numberOfExternalCallerElements  numberOfExternalDeclarationCalls  \\\n",
       "0                              34                                94   \n",
       "1                               5                                14   \n",
       "2                               1                                 1   \n",
       "\n",
       "   numberOfExternalDeclarationCallsWeighted  allModules  allInternalElements  \\\n",
       "0                                       145           4                   59   \n",
       "1                                        18           4                   59   \n",
       "2                                         2           4                   59   \n",
       "\n",
       "                                      exampleStories  \n",
       "0  [<mapRouteProperties> of module <react-router>...  \n",
       "1  [<useLinkPressHandler> of module <react-router...  \n",
       "2  [<createSearchParams> of module <react-router-...  "
      ]
     },
     "execution_count": 8,
     "metadata": {},
     "output_type": "execute_result"
    }
   ],
   "source": [
    "external_module_usage=query_cypher_to_data_frame(\"../cypher/External_Dependencies/External_module_usage_overall_for_Typescript.cypher\")\n",
    "\n",
    "# Select columns and only show the first 20 entries (head)\n",
    "external_module_usage.head(20)"
   ]
  },
  {
   "attachments": {},
   "cell_type": "markdown",
   "id": "1143afcb",
   "metadata": {},
   "source": [
    "#### Table 1 Chart 1 - Most called external modules in % by internal elements\n",
    "\n",
    "External modules that are used less than 0.7% are grouped into \"others\" to get a cleaner chart\n",
    "containing the most significant external modules and how ofter they are called by internal elements in percent."
   ]
  },
  {
   "cell_type": "code",
   "execution_count": 9,
   "id": "44a11aec",
   "metadata": {
    "execution": {
     "iopub.execute_input": "2024-08-20T18:20:55.710621Z",
     "iopub.status.busy": "2024-08-20T18:20:55.710471Z",
     "iopub.status.idle": "2024-08-20T18:20:55.714145Z",
     "shell.execute_reply": "2024-08-20T18:20:55.713733Z"
    }
   },
   "outputs": [],
   "source": [
    "def group_to_others_below_threshold(data_frame : pd.DataFrame, value_column : str, name_column: str, threshold: float) -> pd.DataFrame:    \n",
    "    \"\"\"Adds a new percentage column for the value column and \n",
    "    groups all values below the given threshold to \"others\" in the name column.\n",
    "\n",
    "    Parameters:\n",
    "    - data_frame (pd.DataFrame): Input pandas DataFrame\n",
    "    - value_column (str): Name of the column that contains the numeric value\n",
    "    - name_column (str): Name of the column that contains the group name that will be replaced by \"others\" for small values\n",
    "    - threshold (float): Threshold in % that is used to group values below it into the \"others\" group\n",
    "\n",
    "    Returns:\n",
    "    int:Returning value\n",
    "\n",
    "    \"\"\"\n",
    "    result_data_frame = data_frame.copy();\n",
    "\n",
    "    percent_column_name = value_column + 'Percent';\n",
    "\n",
    "    # Add column with the name given in \"percent_column_name\" with the percentage of the value column.\n",
    "    result_data_frame[percent_column_name] = result_data_frame[value_column] / result_data_frame[value_column].sum() * 100.0;\n",
    "\n",
    "    # Change the external module name to \"others\" if it is called less than the specified threshold\n",
    "    result_data_frame.loc[result_data_frame[percent_column_name] < threshold, name_column] = 'others';\n",
    "\n",
    "    # Group external module name (foremost the new \"others\" entries) and sum their percentage\n",
    "    result_data_frame = result_data_frame.groupby(name_column)[percent_column_name].sum();\n",
    "\n",
    "    # Sort by values descending\n",
    "    return result_data_frame.sort_values(ascending=False);"
   ]
  },
  {
   "cell_type": "code",
   "execution_count": 10,
   "id": "99ef3fad",
   "metadata": {
    "execution": {
     "iopub.execute_input": "2024-08-20T18:20:55.716021Z",
     "iopub.status.busy": "2024-08-20T18:20:55.715725Z",
     "iopub.status.idle": "2024-08-20T18:20:55.720032Z",
     "shell.execute_reply": "2024-08-20T18:20:55.719569Z"
    }
   },
   "outputs": [],
   "source": [
    "external_module_by_internal_element_usage_significant = group_to_others_below_threshold(\n",
    "    data_frame=external_module_usage,\n",
    "    value_column='numberOfExternalCallerElements',\n",
    "    name_column='externalModuleName',\n",
    "    threshold= 0.7\n",
    ");"
   ]
  },
  {
   "cell_type": "code",
   "execution_count": 11,
   "id": "688b6d56",
   "metadata": {
    "execution": {
     "iopub.execute_input": "2024-08-20T18:20:55.721694Z",
     "iopub.status.busy": "2024-08-20T18:20:55.721548Z",
     "iopub.status.idle": "2024-08-20T18:20:55.826231Z",
     "shell.execute_reply": "2024-08-20T18:20:55.825759Z"
    }
   },
   "outputs": [
    {
     "data": {
      "image/png": "[encoded data removed]",
      "text/plain": [
       "<Figure size 640x480 with 1 Axes>"
      ]
     },
     "metadata": {},
     "output_type": "display_data"
    }
   ],
   "source": [
    "if external_module_by_internal_element_usage_significant.empty:\n",
    "    print(\"No data to plot\")\n",
    "else:\n",
    "    plot.figure();\n",
    "\n",
    "    axis = external_module_by_internal_element_usage_significant.plot(\n",
    "        kind='pie',\n",
    "        title='Top external module usage [%] by internal elements',\n",
    "        legend=True,\n",
    "        labeldistance=None,\n",
    "        autopct='%1.2f%%',\n",
    "        textprops={'fontsize': 5},\n",
    "        pctdistance=1.2,\n",
    "        cmap=main_color_map\n",
    "    )\n",
    "    axis.legend(bbox_to_anchor=(1.05, 1), loc='upper left')\n",
    "    plot.show()"
   ]
  },
  {
   "cell_type": "markdown",
   "id": "84c123dc",
   "metadata": {},
   "source": [
    "#### Table 1 Chart 2 - Most called external modules in % by internal modules\n",
    "\n",
    "External modules that are used less than 0.7% are grouped into \"others\" to get a cleaner chart\n",
    "containing the most significant external modules and how ofter they are called by internal modules in percent."
   ]
  },
  {
   "cell_type": "code",
   "execution_count": 12,
   "id": "c10499a5",
   "metadata": {
    "execution": {
     "iopub.execute_input": "2024-08-20T18:20:55.828727Z",
     "iopub.status.busy": "2024-08-20T18:20:55.828303Z",
     "iopub.status.idle": "2024-08-20T18:20:55.833025Z",
     "shell.execute_reply": "2024-08-20T18:20:55.832542Z"
    }
   },
   "outputs": [],
   "source": [
    "external_module_used_by_internal_modules_significant = group_to_others_below_threshold(\n",
    "    data_frame=external_module_usage,\n",
    "    value_column='numberOfExternalCallerModules',\n",
    "    name_column='externalModuleName',\n",
    "    threshold= 0.7\n",
    ");"
   ]
  },
  {
   "cell_type": "code",
   "execution_count": 13,
   "id": "c165f403",
   "metadata": {
    "execution": {
     "iopub.execute_input": "2024-08-20T18:20:55.835158Z",
     "iopub.status.busy": "2024-08-20T18:20:55.834801Z",
     "iopub.status.idle": "2024-08-20T18:20:55.917526Z",
     "shell.execute_reply": "2024-08-20T18:20:55.917005Z"
    }
   },
   "outputs": [
    {
     "data": {
      "image/png": "[encoded data removed]",
      "text/plain": [
       "<Figure size 640x480 with 1 Axes>"
      ]
     },
     "metadata": {},
     "output_type": "display_data"
    }
   ],
   "source": [
    "if external_module_used_by_internal_modules_significant.empty:\n",
    "    print(\"No data to plot\")\n",
    "else:\n",
    "    plot.figure();\n",
    "\n",
    "    axis = external_module_used_by_internal_modules_significant.plot(\n",
    "        kind='pie',\n",
    "        title='Top external module usage [%] by internal modules',\n",
    "        legend=True,\n",
    "        labeldistance=None,\n",
    "        autopct='%1.2f%%',\n",
    "        textprops={'fontsize': 5},\n",
    "        pctdistance=1.2,\n",
    "        cmap=main_color_map\n",
    "    )\n",
    "    axis.legend(bbox_to_anchor=(1.05, 1), loc='upper left')\n",
    "    plot.show()"
   ]
  },
  {
   "cell_type": "markdown",
   "id": "cb92e603",
   "metadata": {},
   "source": [
    "### Table 2 - Top 20 most used external namespaces\n",
    "\n",
    "This table shows external namespaces that are used by the most different internal elements (functions, classes,...) overall. \n",
    "\n",
    "Additionally, it shows how many of the declarations of the external namespace are actually used.\n",
    "\n",
    "Only the top 20 entries are shown. The whole table can be found in the following CSV report:\n",
    "`External_namespace_usage_overall_for_Typescript`\n",
    "\n",
    "**Columns:**\n",
    "- *externalNamespaceName* is the name of the external namespace (empty if none). Example: \"@types\". All other columns are aggregated/grouped by it.\n",
    "- *numberOfExternalCallerModules* is the number of modules that use that external module\n",
    "- *numberOfExternalCallerElements* is the number of elements (functions, classes,...) that use that external module\n",
    "- *numberOfExternalDeclarationCalls* is how often the external declarations of that external module are imported\n",
    "- *numberOfExternalDeclarationCallsWeighted* is how often the external declarations of that external module are actually used\n",
    "- *allModules* contains the total count of all analyzed internal modules\n",
    "- *allInternalElements* contains the total count of all analyzed exported internal elements (function, classes,...)\n",
    "- *exampleStories* contains a list of sentences that contain concrete examples (for explanation and debugging)"
   ]
  },
  {
   "cell_type": "code",
   "execution_count": 14,
   "id": "4dc5e771",
   "metadata": {
    "execution": {
     "iopub.execute_input": "2024-08-20T18:20:55.919737Z",
     "iopub.status.busy": "2024-08-20T18:20:55.919420Z",
     "iopub.status.idle": "2024-08-20T18:20:55.952520Z",
     "shell.execute_reply": "2024-08-20T18:20:55.951945Z"
    }
   },
   "outputs": [
    {
     "data": {
      "text/html": [
       "<div>\n",
       "<style scoped>\n",
       "    .dataframe tbody tr th:only-of-type {\n",
       "        vertical-align: middle;\n",
       "    }\n",
       "\n",
       "    .dataframe tbody tr th {\n",
       "        vertical-align: top;\n",
       "    }\n",
       "\n",
       "    .dataframe thead th {\n",
       "        text-align: right;\n",
       "    }\n",
       "</style>\n",
       "<table border=\"1\" class=\"dataframe\">\n",
       "  <thead>\n",
       "    <tr style=\"text-align: right;\">\n",
       "      <th></th>\n",
       "      <th>externalNamespaceName</th>\n",
       "      <th>numberOfExternalCallerModules</th>\n",
       "      <th>numberOfExternalCallerElements</th>\n",
       "      <th>numberOfExternalDeclarationCalls</th>\n",
       "      <th>numberOfExternalDeclarationCallsWeighted</th>\n",
       "      <th>allModules</th>\n",
       "      <th>allInternalElements</th>\n",
       "      <th>exampleStories</th>\n",
       "    </tr>\n",
       "  </thead>\n",
       "  <tbody>\n",
       "    <tr>\n",
       "      <th>0</th>\n",
       "      <td>@types</td>\n",
       "      <td>4</td>\n",
       "      <td>35</td>\n",
       "      <td>108</td>\n",
       "      <td>163</td>\n",
       "      <td>4</td>\n",
       "      <td>59</td>\n",
       "      <td>[&lt;mapRouteProperties&gt; of module &lt;react-router&gt;...</td>\n",
       "    </tr>\n",
       "    <tr>\n",
       "      <th>1</th>\n",
       "      <td>@ungap</td>\n",
       "      <td>1</td>\n",
       "      <td>1</td>\n",
       "      <td>1</td>\n",
       "      <td>2</td>\n",
       "      <td>4</td>\n",
       "      <td>59</td>\n",
       "      <td>[&lt;createSearchParams&gt; of module &lt;react-router-...</td>\n",
       "    </tr>\n",
       "  </tbody>\n",
       "</table>\n",
       "</div>"
      ],
      "text/plain": [
       "  externalNamespaceName  numberOfExternalCallerModules  \\\n",
       "0                @types                              4   \n",
       "1                @ungap                              1   \n",
       "\n",
       "   numberOfExternalCallerElements  numberOfExternalDeclarationCalls  \\\n",
       "0                              35                               108   \n",
       "1                               1                                 1   \n",
       "\n",
       "   numberOfExternalDeclarationCallsWeighted  allModules  allInternalElements  \\\n",
       "0                                       163           4                   59   \n",
       "1                                         2           4                   59   \n",
       "\n",
       "                                      exampleStories  \n",
       "0  [<mapRouteProperties> of module <react-router>...  \n",
       "1  [<createSearchParams> of module <react-router-...  "
      ]
     },
     "execution_count": 14,
     "metadata": {},
     "output_type": "execute_result"
    }
   ],
   "source": [
    "external_namespace_usage=query_cypher_to_data_frame(\"../cypher/External_Dependencies/External_namespace_usage_overall_for_Typescript.cypher\")\n",
    "external_namespace_usage.head(20)"
   ]
  },
  {
   "cell_type": "markdown",
   "id": "279932a6",
   "metadata": {},
   "source": [
    "#### Table 2 Chart 1 - Most called external namespaces in % by internal element\n",
    "\n",
    "External namespaces that are used less than 0.7% are grouped into \"others\" to get a cleaner chart\n",
    "containing the most significant external namespaces and how ofter they are called by internal elements in percent."
   ]
  },
  {
   "cell_type": "code",
   "execution_count": 15,
   "id": "3d36043f",
   "metadata": {
    "execution": {
     "iopub.execute_input": "2024-08-20T18:20:55.955113Z",
     "iopub.status.busy": "2024-08-20T18:20:55.954657Z",
     "iopub.status.idle": "2024-08-20T18:20:56.036492Z",
     "shell.execute_reply": "2024-08-20T18:20:56.035980Z"
    }
   },
   "outputs": [
    {
     "data": {
      "image/png": "[encoded data removed]",
      "text/plain": [
       "<Figure size 640x480 with 1 Axes>"
      ]
     },
     "metadata": {},
     "output_type": "display_data"
    }
   ],
   "source": [
    "external_namespace_use_by_internal_elements_significantly = group_to_others_below_threshold(\n",
    "    data_frame=external_namespace_usage,\n",
    "    value_column='numberOfExternalCallerElements',\n",
    "    name_column='externalNamespaceName',\n",
    "    threshold= 0.7\n",
    ");\n",
    "\n",
    "if external_namespace_use_by_internal_elements_significantly.empty:\n",
    "    print(\"No data to plot\")\n",
    "else:\n",
    "    plot.figure();\n",
    "\n",
    "    axis = external_namespace_use_by_internal_elements_significantly.plot(\n",
    "        kind='pie',\n",
    "        title='Top external namespace usage [%] by internal elements',\n",
    "        legend=True,\n",
    "        labeldistance=None,\n",
    "        autopct='%1.2f%%',\n",
    "        textprops={'fontsize': 5},\n",
    "        pctdistance=1.2,\n",
    "        cmap=main_color_map\n",
    "    )\n",
    "    axis.legend(bbox_to_anchor=(1.05, 1), loc='upper left')\n",
    "    plot.show()"
   ]
  },
  {
   "cell_type": "markdown",
   "id": "43c3e1a3",
   "metadata": {},
   "source": [
    "#### Table 2 Chart 2 - Most called external namespaces in % by internal modules\n",
    "\n",
    "External namespaces that are used less than 0.7% are grouped into \"others\" to get a cleaner chart\n",
    "containing the most significant external namespaces and how ofter they are called by internal modules in percent."
   ]
  },
  {
   "cell_type": "code",
   "execution_count": 16,
   "id": "7f05314f",
   "metadata": {
    "execution": {
     "iopub.execute_input": "2024-08-20T18:20:56.038860Z",
     "iopub.status.busy": "2024-08-20T18:20:56.038708Z",
     "iopub.status.idle": "2024-08-20T18:20:56.115593Z",
     "shell.execute_reply": "2024-08-20T18:20:56.115035Z"
    }
   },
   "outputs": [
    {
     "data": {
      "image/png": "[encoded data removed]",
      "text/plain": [
       "<Figure size 640x480 with 1 Axes>"
      ]
     },
     "metadata": {},
     "output_type": "display_data"
    }
   ],
   "source": [
    "external_namespace_used_by_internal_modules_significantly = group_to_others_below_threshold(\n",
    "    data_frame=external_namespace_usage,\n",
    "    value_column='numberOfExternalCallerModules',\n",
    "    name_column='externalNamespaceName',\n",
    "    threshold= 0.7\n",
    ");\n",
    "\n",
    "if external_namespace_used_by_internal_modules_significantly.empty:\n",
    "    print(\"No data to plot\")\n",
    "else:\n",
    "    plot.figure();\n",
    "    axis = external_namespace_used_by_internal_modules_significantly.plot(\n",
    "        kind='pie',\n",
    "        title='Top external namespace usage [%] by internal modules',\n",
    "        legend=True,\n",
    "        labeldistance=None,\n",
    "        autopct='%1.2f%%',\n",
    "        textprops={'fontsize': 5},\n",
    "        pctdistance=1.2,\n",
    "        cmap=main_color_map\n",
    "    )\n",
    "    axis.legend(bbox_to_anchor=(1.05, 1), loc='upper left')\n",
    "    plot.show()"
   ]
  },
  {
   "cell_type": "markdown",
   "id": "2fb30664",
   "metadata": {},
   "source": [
    "### Table 3 - Top 20 most widely spread external modules\n",
    "\n",
    "The following tables shows external modules that are used by many different internal modules with the highest number of artifacts first.\n",
    "\n",
    "Statistics like minimum, maximum, average, median and standard deviation are provided for the number of internally exported elements (function, class, ...) and the external declarations they use for every external module. \n",
    "\n",
    "The intuition behind that is to find external modules and the external declarations they provide that are used in a widely spread manner. This can help to distinguish widely used libraries and frameworks from external modules that are used for specific tasks. It can also be used to find external modules that are used sparsely regarding internal modules but where many different external declarations are used. \n",
    "\n",
    "Refactoring with [Hexagonal architecture](https://alistair.cockburn.us/hexagonal-architecture) in mind can be considered for non-framework external modules that are used for very specific tasks and that are used in many different internal locations. This makes the internal code more robust against changes of these external modules or it is easier to update and migrate to newer versions of them. \n",
    "\n",
    "External modules that are only used in very few internal locations overall might be considered for removal if they are easy to replace with a similar library that is already used more often. Or they might also simply be replaced by very few lines of code. Replacing libraries with own code isn't recommended when you need to write a lot of code or for external modules that provide security relevant implementations (encryption, sanitizers, ...), because they will be tracked and maintained globally and security updates need to be adopted fast.\n",
    "\n",
    "Only the top 20 entries are shown. The whole table can be found in the following CSV report:\n",
    "`External_module_usage_spread_for_Typescript`\n",
    "\n",
    "**Columns:**\n",
    "- *externalModuleName* is the name of the external package prepended by its namespace if given. Example: \"@types/react\"\n",
    "external package.\n",
    "- *numberOfInternalModules* is the number of internal modules that are using that external module\n",
    "- *\\[min,max,med,avg,std\\]NumberOfUsedExternalDeclarations* provide statistics for all internal modules and how their usage of the declarations provided by the external module are distributed. This provides an indicator on how strong the coupling to the external module is. For example, if many (high sum) elements provided by that external module are used constantly (low std), a higher coupling can be presumed. If there is only one (sum) element in use, this could be an indicator for an external module that could get replaced or that there is just one central entry point for it.\n",
    "- *\\[min/max/med/avg/std\\]NumberOfInternalElements* provide statistics for all internal modules and how their usage of the external module is distributed across their internal elements. This provides an indicator on how widely an external module is spread across internal elements and if there are great differences between internal modules (high standard deviation) or not.\n",
    "- *\\[min/max/med/avg/std\\]NumberOfInternalElementsPercentage* is similar to [min/max/med/avg/std]NumberOfUsedExternalDeclarations but provides the value in percent in relation to the total number of internal elements per internal module.\n",
    "- *internalModuleExamples* some examples of included internal modules for debugging"
   ]
  },
  {
   "cell_type": "code",
   "execution_count": 17,
   "id": "ad1a04c4",
   "metadata": {
    "execution": {
     "iopub.execute_input": "2024-08-20T18:20:56.118007Z",
     "iopub.status.busy": "2024-08-20T18:20:56.117856Z",
     "iopub.status.idle": "2024-08-20T18:20:56.168207Z",
     "shell.execute_reply": "2024-08-20T18:20:56.167724Z"
    }
   },
   "outputs": [
    {
     "data": {
      "text/html": [
       "<div>\n",
       "<style scoped>\n",
       "    .dataframe tbody tr th:only-of-type {\n",
       "        vertical-align: middle;\n",
       "    }\n",
       "\n",
       "    .dataframe tbody tr th {\n",
       "        vertical-align: top;\n",
       "    }\n",
       "\n",
       "    .dataframe thead th {\n",
       "        text-align: right;\n",
       "    }\n",
       "</style>\n",
       "<table border=\"1\" class=\"dataframe\">\n",
       "  <thead>\n",
       "    <tr style=\"text-align: right;\">\n",
       "      <th></th>\n",
       "      <th>externalModuleName</th>\n",
       "      <th>numberOfInternalModules</th>\n",
       "      <th>sumNumberOfUsedExternalDeclarations</th>\n",
       "      <th>minNumberOfUsedExternalDeclarations</th>\n",
       "      <th>maxNumberOfUsedExternalDeclarations</th>\n",
       "      <th>medNumberOfUsedExternalDeclarations</th>\n",
       "      <th>avgNumberOfUsedExternalDeclarations</th>\n",
       "      <th>stdNumberOfUsedExternalDeclarations</th>\n",
       "      <th>sumNumberOfInternalElements</th>\n",
       "      <th>minNumberOfInternalElements</th>\n",
       "      <th>maxNumberOfInternalElements</th>\n",
       "      <th>medNumberOfInternalElements</th>\n",
       "      <th>avgNumberOfInternalElements</th>\n",
       "      <th>stdNumberOfInternalElements</th>\n",
       "      <th>minNumberOfInternalElementsPercentage</th>\n",
       "      <th>maxNumberOfInternalElementsPercentage</th>\n",
       "      <th>medNumberOfInternalElementsPercentage</th>\n",
       "      <th>avgNumberOfInternalElementsPercentage</th>\n",
       "      <th>stdNumberOfInternalElementsPercentage</th>\n",
       "      <th>internalModuleExamples</th>\n",
       "    </tr>\n",
       "  </thead>\n",
       "  <tbody>\n",
       "    <tr>\n",
       "      <th>0</th>\n",
       "      <td>@types/react</td>\n",
       "      <td>4</td>\n",
       "      <td>37</td>\n",
       "      <td>1</td>\n",
       "      <td>27</td>\n",
       "      <td>4.5</td>\n",
       "      <td>9.25</td>\n",
       "      <td>12.120919</td>\n",
       "      <td>34</td>\n",
       "      <td>1</td>\n",
       "      <td>24</td>\n",
       "      <td>4.5</td>\n",
       "      <td>8.5</td>\n",
       "      <td>10.535654</td>\n",
       "      <td>25.0</td>\n",
       "      <td>600.0</td>\n",
       "      <td>112.5</td>\n",
       "      <td>212.5</td>\n",
       "      <td>263.391344</td>\n",
       "      <td>[react-router, react-router-dom, server, react...</td>\n",
       "    </tr>\n",
       "    <tr>\n",
       "      <th>1</th>\n",
       "      <td>@types/react-native</td>\n",
       "      <td>1</td>\n",
       "      <td>10</td>\n",
       "      <td>10</td>\n",
       "      <td>10</td>\n",
       "      <td>10.0</td>\n",
       "      <td>10.00</td>\n",
       "      <td>0.000000</td>\n",
       "      <td>5</td>\n",
       "      <td>5</td>\n",
       "      <td>5</td>\n",
       "      <td>5.0</td>\n",
       "      <td>5.0</td>\n",
       "      <td>0.000000</td>\n",
       "      <td>125.0</td>\n",
       "      <td>125.0</td>\n",
       "      <td>125.0</td>\n",
       "      <td>125.0</td>\n",
       "      <td>0.000000</td>\n",
       "      <td>[react-router-native]</td>\n",
       "    </tr>\n",
       "    <tr>\n",
       "      <th>2</th>\n",
       "      <td>@ungap/url-search-params</td>\n",
       "      <td>1</td>\n",
       "      <td>1</td>\n",
       "      <td>1</td>\n",
       "      <td>1</td>\n",
       "      <td>1.0</td>\n",
       "      <td>1.00</td>\n",
       "      <td>0.000000</td>\n",
       "      <td>1</td>\n",
       "      <td>1</td>\n",
       "      <td>1</td>\n",
       "      <td>1.0</td>\n",
       "      <td>1.0</td>\n",
       "      <td>0.000000</td>\n",
       "      <td>25.0</td>\n",
       "      <td>25.0</td>\n",
       "      <td>25.0</td>\n",
       "      <td>25.0</td>\n",
       "      <td>0.000000</td>\n",
       "      <td>[react-router-native]</td>\n",
       "    </tr>\n",
       "  </tbody>\n",
       "</table>\n",
       "</div>"
      ],
      "text/plain": [
       "         externalModuleName  numberOfInternalModules  \\\n",
       "0              @types/react                        4   \n",
       "1       @types/react-native                        1   \n",
       "2  @ungap/url-search-params                        1   \n",
       "\n",
       "   sumNumberOfUsedExternalDeclarations  minNumberOfUsedExternalDeclarations  \\\n",
       "0                                   37                                    1   \n",
       "1                                   10                                   10   \n",
       "2                                    1                                    1   \n",
       "\n",
       "   maxNumberOfUsedExternalDeclarations  medNumberOfUsedExternalDeclarations  \\\n",
       "0                                   27                                  4.5   \n",
       "1                                   10                                 10.0   \n",
       "2                                    1                                  1.0   \n",
       "\n",
       "   avgNumberOfUsedExternalDeclarations  stdNumberOfUsedExternalDeclarations  \\\n",
       "0                                 9.25                            12.120919   \n",
       "1                                10.00                             0.000000   \n",
       "2                                 1.00                             0.000000   \n",
       "\n",
       "   sumNumberOfInternalElements  minNumberOfInternalElements  \\\n",
       "0                           34                            1   \n",
       "1                            5                            5   \n",
       "2                            1                            1   \n",
       "\n",
       "   maxNumberOfInternalElements  medNumberOfInternalElements  \\\n",
       "0                           24                          4.5   \n",
       "1                            5                          5.0   \n",
       "2                            1                          1.0   \n",
       "\n",
       "   avgNumberOfInternalElements  stdNumberOfInternalElements  \\\n",
       "0                          8.5                    10.535654   \n",
       "1                          5.0                     0.000000   \n",
       "2                          1.0                     0.000000   \n",
       "\n",
       "   minNumberOfInternalElementsPercentage  \\\n",
       "0                                   25.0   \n",
       "1                                  125.0   \n",
       "2                                   25.0   \n",
       "\n",
       "   maxNumberOfInternalElementsPercentage  \\\n",
       "0                                  600.0   \n",
       "1                                  125.0   \n",
       "2                                   25.0   \n",
       "\n",
       "   medNumberOfInternalElementsPercentage  \\\n",
       "0                                  112.5   \n",
       "1                                  125.0   \n",
       "2                                   25.0   \n",
       "\n",
       "   avgNumberOfInternalElementsPercentage  \\\n",
       "0                                  212.5   \n",
       "1                                  125.0   \n",
       "2                                   25.0   \n",
       "\n",
       "   stdNumberOfInternalElementsPercentage  \\\n",
       "0                             263.391344   \n",
       "1                               0.000000   \n",
       "2                               0.000000   \n",
       "\n",
       "                              internalModuleExamples  \n",
       "0  [react-router, react-router-dom, server, react...  \n",
       "1                              [react-router-native]  \n",
       "2                              [react-router-native]  "
      ]
     },
     "execution_count": 17,
     "metadata": {},
     "output_type": "execute_result"
    }
   ],
   "source": [
    "# Query the graph database to provide the \n",
    "# most widely spread external dependencies for the tables/charts below.\n",
    "external_module_usage_spread=query_cypher_to_data_frame(\"../cypher/External_Dependencies/External_module_usage_spread_for_Typescript.cypher\")\n",
    "external_module_usage_spread.head(10)"
   ]
  },
  {
   "cell_type": "markdown",
   "id": "6ed201cc",
   "metadata": {},
   "source": [
    "### Table 3a - Top 20 most widely spread external packages - number of internal modules\n",
    "\n",
    "This table shows the top 20 most widely spread external packages focussing on the spread across the number of internal modules."
   ]
  },
  {
   "cell_type": "code",
   "execution_count": 18,
   "id": "c5fa9f9e",
   "metadata": {
    "execution": {
     "iopub.execute_input": "2024-08-20T18:20:56.170250Z",
     "iopub.status.busy": "2024-08-20T18:20:56.170110Z",
     "iopub.status.idle": "2024-08-20T18:20:56.177103Z",
     "shell.execute_reply": "2024-08-20T18:20:56.176708Z"
    }
   },
   "outputs": [
    {
     "data": {
      "text/html": [
       "<div>\n",
       "<style scoped>\n",
       "    .dataframe tbody tr th:only-of-type {\n",
       "        vertical-align: middle;\n",
       "    }\n",
       "\n",
       "    .dataframe tbody tr th {\n",
       "        vertical-align: top;\n",
       "    }\n",
       "\n",
       "    .dataframe thead th {\n",
       "        text-align: right;\n",
       "    }\n",
       "</style>\n",
       "<table border=\"1\" class=\"dataframe\">\n",
       "  <thead>\n",
       "    <tr style=\"text-align: right;\">\n",
       "      <th></th>\n",
       "      <th>externalModuleName</th>\n",
       "      <th>numberOfInternalModules</th>\n",
       "      <th>minNumberOfInternalElements</th>\n",
       "      <th>maxNumberOfInternalElements</th>\n",
       "      <th>medNumberOfInternalElements</th>\n",
       "      <th>avgNumberOfInternalElements</th>\n",
       "      <th>stdNumberOfInternalElements</th>\n",
       "    </tr>\n",
       "  </thead>\n",
       "  <tbody>\n",
       "    <tr>\n",
       "      <th>0</th>\n",
       "      <td>@types/react</td>\n",
       "      <td>4</td>\n",
       "      <td>1</td>\n",
       "      <td>24</td>\n",
       "      <td>4.5</td>\n",
       "      <td>8.5</td>\n",
       "      <td>10.535654</td>\n",
       "    </tr>\n",
       "    <tr>\n",
       "      <th>1</th>\n",
       "      <td>@types/react-native</td>\n",
       "      <td>1</td>\n",
       "      <td>5</td>\n",
       "      <td>5</td>\n",
       "      <td>5.0</td>\n",
       "      <td>5.0</td>\n",
       "      <td>0.000000</td>\n",
       "    </tr>\n",
       "    <tr>\n",
       "      <th>2</th>\n",
       "      <td>@ungap/url-search-params</td>\n",
       "      <td>1</td>\n",
       "      <td>1</td>\n",
       "      <td>1</td>\n",
       "      <td>1.0</td>\n",
       "      <td>1.0</td>\n",
       "      <td>0.000000</td>\n",
       "    </tr>\n",
       "  </tbody>\n",
       "</table>\n",
       "</div>"
      ],
      "text/plain": [
       "         externalModuleName  numberOfInternalModules  \\\n",
       "0              @types/react                        4   \n",
       "1       @types/react-native                        1   \n",
       "2  @ungap/url-search-params                        1   \n",
       "\n",
       "   minNumberOfInternalElements  maxNumberOfInternalElements  \\\n",
       "0                            1                           24   \n",
       "1                            5                            5   \n",
       "2                            1                            1   \n",
       "\n",
       "   medNumberOfInternalElements  avgNumberOfInternalElements  \\\n",
       "0                          4.5                          8.5   \n",
       "1                          5.0                          5.0   \n",
       "2                          1.0                          1.0   \n",
       "\n",
       "   stdNumberOfInternalElements  \n",
       "0                    10.535654  \n",
       "1                     0.000000  \n",
       "2                     0.000000  "
      ]
     },
     "execution_count": 18,
     "metadata": {},
     "output_type": "execute_result"
    }
   ],
   "source": [
    "external_package_usage_spread_packages=external_module_usage_spread[['externalModuleName', 'numberOfInternalModules', 'minNumberOfInternalElements', 'maxNumberOfInternalElements', 'medNumberOfInternalElements', 'avgNumberOfInternalElements', 'stdNumberOfInternalElements']]\n",
    "external_package_usage_spread_packages.head(20)"
   ]
  },
  {
   "cell_type": "markdown",
   "id": "27c5b75f",
   "metadata": {},
   "source": [
    "### Table 3b - Top 20 most widely spread external packages - percentage of internal modules\n",
    "\n",
    "This table shows the top 20 most widely spread external packages focussing on the spread across the percentage of internal modules."
   ]
  },
  {
   "cell_type": "code",
   "execution_count": 19,
   "id": "c4d4273e",
   "metadata": {
    "execution": {
     "iopub.execute_input": "2024-08-20T18:20:56.179163Z",
     "iopub.status.busy": "2024-08-20T18:20:56.178875Z",
     "iopub.status.idle": "2024-08-20T18:20:56.186022Z",
     "shell.execute_reply": "2024-08-20T18:20:56.185604Z"
    }
   },
   "outputs": [
    {
     "data": {
      "text/html": [
       "<div>\n",
       "<style scoped>\n",
       "    .dataframe tbody tr th:only-of-type {\n",
       "        vertical-align: middle;\n",
       "    }\n",
       "\n",
       "    .dataframe tbody tr th {\n",
       "        vertical-align: top;\n",
       "    }\n",
       "\n",
       "    .dataframe thead th {\n",
       "        text-align: right;\n",
       "    }\n",
       "</style>\n",
       "<table border=\"1\" class=\"dataframe\">\n",
       "  <thead>\n",
       "    <tr style=\"text-align: right;\">\n",
       "      <th></th>\n",
       "      <th>externalModuleName</th>\n",
       "      <th>numberOfInternalModules</th>\n",
       "      <th>minNumberOfInternalElementsPercentage</th>\n",
       "      <th>maxNumberOfInternalElementsPercentage</th>\n",
       "      <th>medNumberOfInternalElementsPercentage</th>\n",
       "      <th>avgNumberOfInternalElementsPercentage</th>\n",
       "      <th>stdNumberOfInternalElementsPercentage</th>\n",
       "    </tr>\n",
       "  </thead>\n",
       "  <tbody>\n",
       "    <tr>\n",
       "      <th>0</th>\n",
       "      <td>@types/react</td>\n",
       "      <td>4</td>\n",
       "      <td>25.0</td>\n",
       "      <td>600.0</td>\n",
       "      <td>112.5</td>\n",
       "      <td>212.5</td>\n",
       "      <td>263.391344</td>\n",
       "    </tr>\n",
       "    <tr>\n",
       "      <th>1</th>\n",
       "      <td>@types/react-native</td>\n",
       "      <td>1</td>\n",
       "      <td>125.0</td>\n",
       "      <td>125.0</td>\n",
       "      <td>125.0</td>\n",
       "      <td>125.0</td>\n",
       "      <td>0.000000</td>\n",
       "    </tr>\n",
       "    <tr>\n",
       "      <th>2</th>\n",
       "      <td>@ungap/url-search-params</td>\n",
       "      <td>1</td>\n",
       "      <td>25.0</td>\n",
       "      <td>25.0</td>\n",
       "      <td>25.0</td>\n",
       "      <td>25.0</td>\n",
       "      <td>0.000000</td>\n",
       "    </tr>\n",
       "  </tbody>\n",
       "</table>\n",
       "</div>"
      ],
      "text/plain": [
       "         externalModuleName  numberOfInternalModules  \\\n",
       "0              @types/react                        4   \n",
       "1       @types/react-native                        1   \n",
       "2  @ungap/url-search-params                        1   \n",
       "\n",
       "   minNumberOfInternalElementsPercentage  \\\n",
       "0                                   25.0   \n",
       "1                                  125.0   \n",
       "2                                   25.0   \n",
       "\n",
       "   maxNumberOfInternalElementsPercentage  \\\n",
       "0                                  600.0   \n",
       "1                                  125.0   \n",
       "2                                   25.0   \n",
       "\n",
       "   medNumberOfInternalElementsPercentage  \\\n",
       "0                                  112.5   \n",
       "1                                  125.0   \n",
       "2                                   25.0   \n",
       "\n",
       "   avgNumberOfInternalElementsPercentage  \\\n",
       "0                                  212.5   \n",
       "1                                  125.0   \n",
       "2                                   25.0   \n",
       "\n",
       "   stdNumberOfInternalElementsPercentage  \n",
       "0                             263.391344  \n",
       "1                               0.000000  \n",
       "2                               0.000000  "
      ]
     },
     "execution_count": 19,
     "metadata": {},
     "output_type": "execute_result"
    }
   ],
   "source": [
    "external_package_usage_spread_packages_percentage=external_module_usage_spread[['externalModuleName', 'numberOfInternalModules', 'minNumberOfInternalElementsPercentage', 'maxNumberOfInternalElementsPercentage', 'medNumberOfInternalElementsPercentage', 'avgNumberOfInternalElementsPercentage', 'stdNumberOfInternalElementsPercentage']]\n",
    "external_package_usage_spread_packages_percentage.head(20)"
   ]
  },
  {
   "cell_type": "markdown",
   "id": "d7638e05",
   "metadata": {},
   "source": [
    "### Table 3c - Top 20 most widely spread external packages - number of internal elements\n",
    "\n",
    "This table shows the top 20 most widely spread external packages focussing on the spread across the number of internal elements."
   ]
  },
  {
   "cell_type": "code",
   "execution_count": 20,
   "id": "1f5af910",
   "metadata": {
    "execution": {
     "iopub.execute_input": "2024-08-20T18:20:56.188108Z",
     "iopub.status.busy": "2024-08-20T18:20:56.187642Z",
     "iopub.status.idle": "2024-08-20T18:20:56.194327Z",
     "shell.execute_reply": "2024-08-20T18:20:56.193889Z"
    }
   },
   "outputs": [
    {
     "data": {
      "text/html": [
       "<div>\n",
       "<style scoped>\n",
       "    .dataframe tbody tr th:only-of-type {\n",
       "        vertical-align: middle;\n",
       "    }\n",
       "\n",
       "    .dataframe tbody tr th {\n",
       "        vertical-align: top;\n",
       "    }\n",
       "\n",
       "    .dataframe thead th {\n",
       "        text-align: right;\n",
       "    }\n",
       "</style>\n",
       "<table border=\"1\" class=\"dataframe\">\n",
       "  <thead>\n",
       "    <tr style=\"text-align: right;\">\n",
       "      <th></th>\n",
       "      <th>externalModuleName</th>\n",
       "      <th>numberOfInternalModules</th>\n",
       "      <th>minNumberOfInternalElements</th>\n",
       "      <th>maxNumberOfInternalElements</th>\n",
       "      <th>medNumberOfInternalElements</th>\n",
       "      <th>avgNumberOfInternalElements</th>\n",
       "      <th>stdNumberOfInternalElements</th>\n",
       "    </tr>\n",
       "  </thead>\n",
       "  <tbody>\n",
       "    <tr>\n",
       "      <th>0</th>\n",
       "      <td>@types/react</td>\n",
       "      <td>4</td>\n",
       "      <td>1</td>\n",
       "      <td>24</td>\n",
       "      <td>4.5</td>\n",
       "      <td>8.5</td>\n",
       "      <td>10.535654</td>\n",
       "    </tr>\n",
       "    <tr>\n",
       "      <th>1</th>\n",
       "      <td>@types/react-native</td>\n",
       "      <td>1</td>\n",
       "      <td>5</td>\n",
       "      <td>5</td>\n",
       "      <td>5.0</td>\n",
       "      <td>5.0</td>\n",
       "      <td>0.000000</td>\n",
       "    </tr>\n",
       "    <tr>\n",
       "      <th>2</th>\n",
       "      <td>@ungap/url-search-params</td>\n",
       "      <td>1</td>\n",
       "      <td>1</td>\n",
       "      <td>1</td>\n",
       "      <td>1.0</td>\n",
       "      <td>1.0</td>\n",
       "      <td>0.000000</td>\n",
       "    </tr>\n",
       "  </tbody>\n",
       "</table>\n",
       "</div>"
      ],
      "text/plain": [
       "         externalModuleName  numberOfInternalModules  \\\n",
       "0              @types/react                        4   \n",
       "1       @types/react-native                        1   \n",
       "2  @ungap/url-search-params                        1   \n",
       "\n",
       "   minNumberOfInternalElements  maxNumberOfInternalElements  \\\n",
       "0                            1                           24   \n",
       "1                            5                            5   \n",
       "2                            1                            1   \n",
       "\n",
       "   medNumberOfInternalElements  avgNumberOfInternalElements  \\\n",
       "0                          4.5                          8.5   \n",
       "1                          5.0                          5.0   \n",
       "2                          1.0                          1.0   \n",
       "\n",
       "   stdNumberOfInternalElements  \n",
       "0                    10.535654  \n",
       "1                     0.000000  \n",
       "2                     0.000000  "
      ]
     },
     "execution_count": 20,
     "metadata": {},
     "output_type": "execute_result"
    }
   ],
   "source": [
    "external_package_usage_spread_types=external_module_usage_spread[['externalModuleName', 'numberOfInternalModules', 'minNumberOfInternalElements', 'maxNumberOfInternalElements', 'medNumberOfInternalElements', 'avgNumberOfInternalElements', 'stdNumberOfInternalElements']]\n",
    "external_package_usage_spread_types.head(20)"
   ]
  },
  {
   "cell_type": "markdown",
   "id": "07427cd5",
   "metadata": {},
   "source": [
    "### Table 3d - Top 20 most widely spread external packages - percentage of internal elements\n",
    "\n",
    "This table shows the top 20 most widely spread external packages focussing on the spread across the percentage of internal elements."
   ]
  },
  {
   "cell_type": "code",
   "execution_count": 21,
   "id": "50712f90",
   "metadata": {
    "execution": {
     "iopub.execute_input": "2024-08-20T18:20:56.196239Z",
     "iopub.status.busy": "2024-08-20T18:20:56.195960Z",
     "iopub.status.idle": "2024-08-20T18:20:56.203148Z",
     "shell.execute_reply": "2024-08-20T18:20:56.202704Z"
    }
   },
   "outputs": [
    {
     "data": {
      "text/html": [
       "<div>\n",
       "<style scoped>\n",
       "    .dataframe tbody tr th:only-of-type {\n",
       "        vertical-align: middle;\n",
       "    }\n",
       "\n",
       "    .dataframe tbody tr th {\n",
       "        vertical-align: top;\n",
       "    }\n",
       "\n",
       "    .dataframe thead th {\n",
       "        text-align: right;\n",
       "    }\n",
       "</style>\n",
       "<table border=\"1\" class=\"dataframe\">\n",
       "  <thead>\n",
       "    <tr style=\"text-align: right;\">\n",
       "      <th></th>\n",
       "      <th>externalModuleName</th>\n",
       "      <th>numberOfInternalModules</th>\n",
       "      <th>minNumberOfInternalElementsPercentage</th>\n",
       "      <th>maxNumberOfInternalElementsPercentage</th>\n",
       "      <th>medNumberOfInternalElementsPercentage</th>\n",
       "      <th>avgNumberOfInternalElementsPercentage</th>\n",
       "      <th>stdNumberOfInternalElementsPercentage</th>\n",
       "    </tr>\n",
       "  </thead>\n",
       "  <tbody>\n",
       "    <tr>\n",
       "      <th>0</th>\n",
       "      <td>@types/react</td>\n",
       "      <td>4</td>\n",
       "      <td>25.0</td>\n",
       "      <td>600.0</td>\n",
       "      <td>112.5</td>\n",
       "      <td>212.5</td>\n",
       "      <td>263.391344</td>\n",
       "    </tr>\n",
       "    <tr>\n",
       "      <th>1</th>\n",
       "      <td>@types/react-native</td>\n",
       "      <td>1</td>\n",
       "      <td>125.0</td>\n",
       "      <td>125.0</td>\n",
       "      <td>125.0</td>\n",
       "      <td>125.0</td>\n",
       "      <td>0.000000</td>\n",
       "    </tr>\n",
       "    <tr>\n",
       "      <th>2</th>\n",
       "      <td>@ungap/url-search-params</td>\n",
       "      <td>1</td>\n",
       "      <td>25.0</td>\n",
       "      <td>25.0</td>\n",
       "      <td>25.0</td>\n",
       "      <td>25.0</td>\n",
       "      <td>0.000000</td>\n",
       "    </tr>\n",
       "  </tbody>\n",
       "</table>\n",
       "</div>"
      ],
      "text/plain": [
       "         externalModuleName  numberOfInternalModules  \\\n",
       "0              @types/react                        4   \n",
       "1       @types/react-native                        1   \n",
       "2  @ungap/url-search-params                        1   \n",
       "\n",
       "   minNumberOfInternalElementsPercentage  \\\n",
       "0                                   25.0   \n",
       "1                                  125.0   \n",
       "2                                   25.0   \n",
       "\n",
       "   maxNumberOfInternalElementsPercentage  \\\n",
       "0                                  600.0   \n",
       "1                                  125.0   \n",
       "2                                   25.0   \n",
       "\n",
       "   medNumberOfInternalElementsPercentage  \\\n",
       "0                                  112.5   \n",
       "1                                  125.0   \n",
       "2                                   25.0   \n",
       "\n",
       "   avgNumberOfInternalElementsPercentage  \\\n",
       "0                                  212.5   \n",
       "1                                  125.0   \n",
       "2                                   25.0   \n",
       "\n",
       "   stdNumberOfInternalElementsPercentage  \n",
       "0                             263.391344  \n",
       "1                               0.000000  \n",
       "2                               0.000000  "
      ]
     },
     "execution_count": 21,
     "metadata": {},
     "output_type": "execute_result"
    }
   ],
   "source": [
    "external_package_usage_spread_types_percentage=external_module_usage_spread[['externalModuleName', 'numberOfInternalModules', 'minNumberOfInternalElementsPercentage', 'maxNumberOfInternalElementsPercentage', 'medNumberOfInternalElementsPercentage', 'avgNumberOfInternalElementsPercentage', 'stdNumberOfInternalElementsPercentage']]\n",
    "external_package_usage_spread_types_percentage.head(20)"
   ]
  },
  {
   "cell_type": "markdown",
   "id": "b210eea0",
   "metadata": {},
   "source": [
    "#### Table 3 Chart 1 - Most widely spread external packages in % by types\n",
    "\n",
    "External packages that are used less than 0.5% are grouped into the name \"others\" to get a cleaner chart with the most significant external packages."
   ]
  },
  {
   "cell_type": "code",
   "execution_count": 22,
   "id": "f41d04c9",
   "metadata": {
    "execution": {
     "iopub.execute_input": "2024-08-20T18:20:56.204947Z",
     "iopub.status.busy": "2024-08-20T18:20:56.204803Z",
     "iopub.status.idle": "2024-08-20T18:20:56.298330Z",
     "shell.execute_reply": "2024-08-20T18:20:56.297851Z"
    }
   },
   "outputs": [
    {
     "data": {
      "image/png": "[encoded data removed]",
      "text/plain": [
       "<Figure size 640x480 with 1 Axes>"
      ]
     },
     "metadata": {},
     "output_type": "display_data"
    }
   ],
   "source": [
    "external_module_by_internal_element_usage_spread_significant = group_to_others_below_threshold(\n",
    "    data_frame=external_module_usage_spread,\n",
    "    value_column='sumNumberOfInternalElements',\n",
    "    name_column='externalModuleName',\n",
    "    threshold= 0.5\n",
    ");\n",
    "\n",
    "if external_module_by_internal_element_usage_spread_significant.empty:\n",
    "    print(\"No data to plot\")\n",
    "else:\n",
    "    plot.figure();\n",
    "    axis = external_module_by_internal_element_usage_spread_significant.plot(\n",
    "        kind='pie',\n",
    "        title='Top external module usage spread [%] by internal elements',\n",
    "        legend=True,\n",
    "        labeldistance=None,\n",
    "        autopct='%1.2f%%',\n",
    "        textprops={'fontsize': 5},\n",
    "        pctdistance=1.2,\n",
    "        cmap=main_color_map\n",
    "    )\n",
    "    axis.legend(bbox_to_anchor=(1.05, 1), loc='upper left')\n",
    "    plot.show()"
   ]
  },
  {
   "cell_type": "markdown",
   "id": "c48740e3",
   "metadata": {},
   "source": [
    "#### Table 3 Chart 2 - Most widely spread external modules in % by internal modules\n",
    "\n",
    "External modules that are used less than 0.5% are grouped into \"others\" to get a cleaner chart containing the most significant external modules."
   ]
  },
  {
   "cell_type": "code",
   "execution_count": 23,
   "id": "8bb7b0d9",
   "metadata": {
    "execution": {
     "iopub.execute_input": "2024-08-20T18:20:56.301399Z",
     "iopub.status.busy": "2024-08-20T18:20:56.301101Z",
     "iopub.status.idle": "2024-08-20T18:20:56.382995Z",
     "shell.execute_reply": "2024-08-20T18:20:56.382497Z"
    }
   },
   "outputs": [
    {
     "data": {
      "image/png": "[encoded data removed]",
      "text/plain": [
       "<Figure size 640x480 with 1 Axes>"
      ]
     },
     "metadata": {},
     "output_type": "display_data"
    }
   ],
   "source": [
    "external_modules_used_by_internal_modules_spread_significant = group_to_others_below_threshold(\n",
    "    data_frame=external_module_usage_spread,\n",
    "    value_column='numberOfInternalModules',\n",
    "    name_column='externalModuleName',\n",
    "    threshold= 0.5\n",
    ");\n",
    "\n",
    "if external_modules_used_by_internal_modules_spread_significant.empty:\n",
    "    print(\"No data to plot\")\n",
    "else:\n",
    "    plot.figure();\n",
    "    axis = external_modules_used_by_internal_modules_spread_significant.plot(\n",
    "        kind='pie',\n",
    "        title='Top external module usage spread [%] by internal modules',\n",
    "        legend=True,\n",
    "        labeldistance=None,\n",
    "        autopct='%1.2f%%',\n",
    "        textprops={'fontsize': 5},\n",
    "        pctdistance=1.2,\n",
    "        cmap=main_color_map\n",
    "    )\n",
    "    axis.legend(bbox_to_anchor=(1.05, 1), loc='upper left')\n",
    "    plot.show()"
   ]
  },
  {
   "cell_type": "markdown",
   "id": "2d6762ea",
   "metadata": {},
   "source": [
    "### Table 4 - Top 20 most widely spread external namespaces\n",
    "\n",
    "This table shows external namespaces that are used by different internal modules with the most used first. \n",
    "\n",
    "Statistics like minimum, maximum, average, median and standard deviation are provided for the number of internally exported elements (function, class, ...) and the external declarations they use for every external namespace. \n",
    "\n",
    "The intuition behind that is to find external namespaces that are used in a widely spread manner. This can help to distinguish widely used libraries and frameworks from external modules that are used for specific tasks. It can also be used to find external modules that are used sparsely regarding internal modules but where many different external declarations are used. \n",
    "\n",
    "Refactoring with a [Hexagonal architecture](https://alistair.cockburn.us/hexagonal-architecture) in mind can be considered for non-framework external namespaces that are used for very specific tasks and that are used in many different internal locations. This makes the internal code more robust against changes of these external modules or it is easier to update and migrate to newer versions of them. \n",
    "\n",
    "External namespaces that are only used in very few internal locations overall might be considered for removal if they are easy to replace with a similar library that is already used more often. Or they might also simply be replaced by very few lines of code. Replacing libraries with own code isn't recommended when you need to write a lot of code or for external modules that provide security relevant implementations (encryption, sanitizers, ...), because they will be tracked and maintained globally and security updates need to be adopted fast.\n",
    "\n",
    "Only the top 20 entries are shown. The whole table can be found in the following CSV report:\n",
    "`External_namespace_usage_spread_for_Typescript`\n",
    "\n",
    "**Columns:**\n",
    "- *externalModuleNamespace* identifies the external namespace for at least on external module in use. All other columns contain aggregated data for it.\n",
    "- *numberOfInternalModules* is the number of internal modules that are using that external module\n",
    "- *\\[min,max,med,avg,std\\]NumberOfUsedExternalDeclarations* provide statistics for all internal modules and how their usage of the declarations provided by the external module are distributed. This provides an indicator on how strong the coupling to the external module is. For example, if many (high sum) elements provided by that external module are used constantly (low std), a higher coupling can be presumed. If there is only one (sum) element in use, this could be an indicator for an external module that could get replaced or that there is just one central entry point for it.\n",
    "- *\\[min/max/med/avg/std\\]NumberOfInternalElements* provide statistics for all internal modules and how their usage of the external module is distributed across their internal elements. This provides an indicator on how widely an external module is spread across internal elements and if there are great differences between internal modules (high standard deviation) or not.\n",
    "- *\\[min/max/med/avg/std\\]NumberOfInternalElementsPercentage* is similar to [min/max/med/avg/std]NumberOfUsedExternalDeclarations but provides the value in percent in relation to the total number of internal elements per internal module.\n",
    "- *internalModuleExamples* some examples of included internal modules for debugging"
   ]
  },
  {
   "cell_type": "markdown",
   "id": "f6cde5e6",
   "metadata": {},
   "source": [
    "### Table 4 - Top 20 most widely spread external namespaces\n",
    "\n",
    "This table shows external namespaces that are used by different internal modules with the most used first. \n",
    "\n",
    "Statistics like minimum, maximum, average, median and standard deviation are provided for the number of internally exported elements (function, class, ...) and the external declarations they use for every external namespace. \n",
    "\n",
    "The intuition behind that is to find external namespaces that are used in a widely spread manner. This can help to distinguish widely used libraries and frameworks from external modules that are used for specific tasks. It can also be used to find external modules that are used sparsely regarding internal modules but where many different external declarations are used. \n",
    "\n",
    "Refactoring with a [Hexagonal architecture](https://alistair.cockburn.us/hexagonal-architecture) in mind can be considered for non-framework external namespaces that are used for very specific tasks and that are used in many different internal locations. This makes the internal code more robust against changes of these external modules or it is easier to update and migrate to newer versions of them. \n",
    "\n",
    "External namespaces that are only used in very few internal locations overall might be considered for removal if they are easy to replace with a similar library that is already used more often. Or they might also simply be replaced by very few lines of code. Replacing libraries with own code isn't recommended when you need to write a lot of code or for external modules that provide security relevant implementations (encryption, sanitizers, ...), because they will be tracked and maintained globally and security updates need to be adopted fast.\n",
    "\n",
    "Only the top 20 entries are shown. The whole table can be found in the following CSV report:\n",
    "`External_namespace_usage_spread_for_Typescript`\n",
    "\n",
    "**Columns:**\n",
    "- *externalModuleNamespace* identifies the external namespace for at least on external module in use. All other columns contain aggregated data for it.\n",
    "- *numberOfInternalModules* is the number of internal modules that are using that external module\n",
    "- *\\[min,max,med,avg,std\\]NumberOfUsedExternalDeclarations* provide statistics for all internal modules and how their usage of the declarations provided by the external module are distributed. This provides an indicator on how strong the coupling to the external module is. For example, if many (high sum) elements provided by that external module are used constantly (low std), a higher coupling can be presumed. If there is only one (sum) element in use, this could be an indicator for an external module that could get replaced or that there is just one central entry point for it.\n",
    "- *\\[min/max/med/avg/std\\]NumberOfInternalElements* provide statistics for all internal modules and how their usage of the external module is distributed across their internal elements. This provides an indicator on how widely an external module is spread across internal elements and if there are great differences between internal modules (high standard deviation) or not.\n",
    "- *\\[min/max/med/avg/std\\]NumberOfInternalElementsPercentage* is similar to [min/max/med/avg/std]NumberOfUsedExternalDeclarations but provides the value in percent in relation to the total number of internal elements per internal module.\n",
    "- *internalModuleExamples* some examples of included internal modules for debugging"
   ]
  },
  {
   "cell_type": "code",
   "execution_count": 24,
   "id": "afd344dc",
   "metadata": {
    "execution": {
     "iopub.execute_input": "2024-08-20T18:20:56.385323Z",
     "iopub.status.busy": "2024-08-20T18:20:56.384943Z",
     "iopub.status.idle": "2024-08-20T18:20:56.427791Z",
     "shell.execute_reply": "2024-08-20T18:20:56.427319Z"
    }
   },
   "outputs": [
    {
     "data": {
      "text/html": [
       "<div>\n",
       "<style scoped>\n",
       "    .dataframe tbody tr th:only-of-type {\n",
       "        vertical-align: middle;\n",
       "    }\n",
       "\n",
       "    .dataframe tbody tr th {\n",
       "        vertical-align: top;\n",
       "    }\n",
       "\n",
       "    .dataframe thead th {\n",
       "        text-align: right;\n",
       "    }\n",
       "</style>\n",
       "<table border=\"1\" class=\"dataframe\">\n",
       "  <thead>\n",
       "    <tr style=\"text-align: right;\">\n",
       "      <th></th>\n",
       "      <th>externalModuleNamespace</th>\n",
       "      <th>numberOfInternalModules</th>\n",
       "      <th>sumNumberOfUsedExternalDeclarations</th>\n",
       "      <th>minNumberOfUsedExternalDeclarations</th>\n",
       "      <th>maxNumberOfUsedExternalDeclarations</th>\n",
       "      <th>medNumberOfUsedExternalDeclarations</th>\n",
       "      <th>avgNumberOfUsedExternalDeclarations</th>\n",
       "      <th>stdNumberOfUsedExternalDeclarations</th>\n",
       "      <th>sumNumberOfInternalElements</th>\n",
       "      <th>minNumberOfInternalElements</th>\n",
       "      <th>maxNumberOfInternalElements</th>\n",
       "      <th>medNumberOfInternalElements</th>\n",
       "      <th>avgNumberOfInternalElements</th>\n",
       "      <th>stdNumberOfInternalElements</th>\n",
       "      <th>minNumberOfInternalElementsPercentage</th>\n",
       "      <th>maxNumberOfInternalElementsPercentage</th>\n",
       "      <th>medNumberOfInternalElementsPercentage</th>\n",
       "      <th>avgNumberOfInternalElementsPercentage</th>\n",
       "      <th>stdNumberOfInternalElementsPercentage</th>\n",
       "      <th>internalModuleExamples</th>\n",
       "    </tr>\n",
       "  </thead>\n",
       "  <tbody>\n",
       "    <tr>\n",
       "      <th>0</th>\n",
       "      <td>@types</td>\n",
       "      <td>4</td>\n",
       "      <td>47</td>\n",
       "      <td>1</td>\n",
       "      <td>27</td>\n",
       "      <td>9.5</td>\n",
       "      <td>11.75</td>\n",
       "      <td>12.526638</td>\n",
       "      <td>35</td>\n",
       "      <td>1</td>\n",
       "      <td>24</td>\n",
       "      <td>5.0</td>\n",
       "      <td>8.75</td>\n",
       "      <td>10.468206</td>\n",
       "      <td>25.0</td>\n",
       "      <td>600.0</td>\n",
       "      <td>125.0</td>\n",
       "      <td>218.75</td>\n",
       "      <td>261.705146</td>\n",
       "      <td>[react-router, react-router-dom, server, react...</td>\n",
       "    </tr>\n",
       "    <tr>\n",
       "      <th>1</th>\n",
       "      <td>@ungap</td>\n",
       "      <td>1</td>\n",
       "      <td>1</td>\n",
       "      <td>1</td>\n",
       "      <td>1</td>\n",
       "      <td>1.0</td>\n",
       "      <td>1.00</td>\n",
       "      <td>0.000000</td>\n",
       "      <td>1</td>\n",
       "      <td>1</td>\n",
       "      <td>1</td>\n",
       "      <td>1.0</td>\n",
       "      <td>1.00</td>\n",
       "      <td>0.000000</td>\n",
       "      <td>25.0</td>\n",
       "      <td>25.0</td>\n",
       "      <td>25.0</td>\n",
       "      <td>25.00</td>\n",
       "      <td>0.000000</td>\n",
       "      <td>[react-router-native]</td>\n",
       "    </tr>\n",
       "  </tbody>\n",
       "</table>\n",
       "</div>"
      ],
      "text/plain": [
       "  externalModuleNamespace  numberOfInternalModules  \\\n",
       "0                  @types                        4   \n",
       "1                  @ungap                        1   \n",
       "\n",
       "   sumNumberOfUsedExternalDeclarations  minNumberOfUsedExternalDeclarations  \\\n",
       "0                                   47                                    1   \n",
       "1                                    1                                    1   \n",
       "\n",
       "   maxNumberOfUsedExternalDeclarations  medNumberOfUsedExternalDeclarations  \\\n",
       "0                                   27                                  9.5   \n",
       "1                                    1                                  1.0   \n",
       "\n",
       "   avgNumberOfUsedExternalDeclarations  stdNumberOfUsedExternalDeclarations  \\\n",
       "0                                11.75                            12.526638   \n",
       "1                                 1.00                             0.000000   \n",
       "\n",
       "   sumNumberOfInternalElements  minNumberOfInternalElements  \\\n",
       "0                           35                            1   \n",
       "1                            1                            1   \n",
       "\n",
       "   maxNumberOfInternalElements  medNumberOfInternalElements  \\\n",
       "0                           24                          5.0   \n",
       "1                            1                          1.0   \n",
       "\n",
       "   avgNumberOfInternalElements  stdNumberOfInternalElements  \\\n",
       "0                         8.75                    10.468206   \n",
       "1                         1.00                     0.000000   \n",
       "\n",
       "   minNumberOfInternalElementsPercentage  \\\n",
       "0                                   25.0   \n",
       "1                                   25.0   \n",
       "\n",
       "   maxNumberOfInternalElementsPercentage  \\\n",
       "0                                  600.0   \n",
       "1                                   25.0   \n",
       "\n",
       "   medNumberOfInternalElementsPercentage  \\\n",
       "0                                  125.0   \n",
       "1                                   25.0   \n",
       "\n",
       "   avgNumberOfInternalElementsPercentage  \\\n",
       "0                                 218.75   \n",
       "1                                  25.00   \n",
       "\n",
       "   stdNumberOfInternalElementsPercentage  \\\n",
       "0                             261.705146   \n",
       "1                               0.000000   \n",
       "\n",
       "                              internalModuleExamples  \n",
       "0  [react-router, react-router-dom, server, react...  \n",
       "1                              [react-router-native]  "
      ]
     },
     "execution_count": 24,
     "metadata": {},
     "output_type": "execute_result"
    }
   ],
   "source": [
    "external_namespace_usage_spread=query_cypher_to_data_frame(\"../cypher/External_Dependencies/External_namespace_usage_spread_for_Typescript.cypher\")\n",
    "external_namespace_usage_spread.head(20)"
   ]
  },
  {
   "cell_type": "markdown",
   "id": "04840973",
   "metadata": {},
   "source": [
    "#### Table 4 Chart 1 - Most widely spread external namespaces in % by internal element\n",
    "\n",
    "External namespaces that are used less than 0.5% are grouped into \"others\" to get a cleaner chart\n",
    "containing the most significant external namespaces and how ofter they are called in percent."
   ]
  },
  {
   "cell_type": "code",
   "execution_count": 25,
   "id": "c5e7c339",
   "metadata": {
    "execution": {
     "iopub.execute_input": "2024-08-20T18:20:56.429816Z",
     "iopub.status.busy": "2024-08-20T18:20:56.429664Z",
     "iopub.status.idle": "2024-08-20T18:20:56.508531Z",
     "shell.execute_reply": "2024-08-20T18:20:56.508090Z"
    }
   },
   "outputs": [
    {
     "data": {
      "image/png": "[encoded data removed]",
      "text/plain": [
       "<Figure size 640x480 with 1 Axes>"
      ]
     },
     "metadata": {},
     "output_type": "display_data"
    }
   ],
   "source": [
    "external_namespace_usage_significant = group_to_others_below_threshold(\n",
    "    data_frame=external_namespace_usage_spread,\n",
    "    value_column='sumNumberOfInternalElements',\n",
    "    name_column='externalModuleNamespace',\n",
    "    threshold= 0.5\n",
    ");\n",
    "\n",
    "if external_namespace_usage_significant.empty:\n",
    "    print(\"No data to plot\")\n",
    "else:\n",
    "    plot.figure();\n",
    "\n",
    "    axis = external_namespace_usage_significant.plot(\n",
    "        kind='pie',\n",
    "        title='Top external namespace usage spread [%] by internal elements',\n",
    "        legend=True,\n",
    "        labeldistance=None,\n",
    "        autopct='%1.2f%%',\n",
    "        textprops={'fontsize': 5},\n",
    "        pctdistance=1.2,\n",
    "        cmap=main_color_map\n",
    "    )\n",
    "    axis.legend(bbox_to_anchor=(1.05, 1), loc='upper left')\n",
    "    plot.show()"
   ]
  },
  {
   "cell_type": "markdown",
   "id": "fb678b02",
   "metadata": {},
   "source": [
    "#### Table 4 Chart 2 - Most widely spread external namespace in % by internal modules\n",
    "\n",
    "External namespaces that are used less than 0.5% are grouped into \"others\" to get a cleaner chart\n",
    "containing the most significant external namespaces and how ofter they are called in percent."
   ]
  },
  {
   "cell_type": "code",
   "execution_count": 26,
   "id": "d74f8422",
   "metadata": {
    "execution": {
     "iopub.execute_input": "2024-08-20T18:20:56.510562Z",
     "iopub.status.busy": "2024-08-20T18:20:56.510411Z",
     "iopub.status.idle": "2024-08-20T18:20:56.587662Z",
     "shell.execute_reply": "2024-08-20T18:20:56.587183Z"
    }
   },
   "outputs": [
    {
     "data": {
      "image/png": "[encoded data removed]",
      "text/plain": [
       "<Figure size 640x480 with 1 Axes>"
      ]
     },
     "metadata": {},
     "output_type": "display_data"
    }
   ],
   "source": [
    "external_namespace_internal_module_usage_spread_significant = group_to_others_below_threshold(\n",
    "    data_frame=external_namespace_usage_spread,\n",
    "    value_column='numberOfInternalModules',\n",
    "    name_column='externalModuleNamespace',\n",
    "    threshold= 0.5\n",
    ");\n",
    "\n",
    "if external_namespace_internal_module_usage_spread_significant.empty:\n",
    "    print(\"No data to plot\")\n",
    "else:\n",
    "    plot.figure();\n",
    "\n",
    "    axis = external_namespace_internal_module_usage_spread_significant.plot(\n",
    "        kind='pie',\n",
    "        title='Top external namespace usage spread [%] by internal modules',\n",
    "        legend=True,\n",
    "        labeldistance=None,\n",
    "        autopct='%1.2f%%',\n",
    "        textprops={'fontsize': 5},\n",
    "        pctdistance=1.2,\n",
    "        cmap=main_color_map\n",
    "    )\n",
    "    axis.legend(bbox_to_anchor=(1.05, 1), loc='upper left')\n",
    "    plot.show()"
   ]
  },
  {
   "cell_type": "markdown",
   "id": "14e4da22",
   "metadata": {},
   "source": [
    "#### Table 4 Chart 3 - External namespaces with the most used declarations in %\n",
    "\n",
    "External namespaces that are used less than 0.5% are grouped into \"others\" to get a cleaner chart\n",
    "containing the most significant external namespaces and how ofter they are called in percent."
   ]
  },
  {
   "cell_type": "code",
   "execution_count": 27,
   "id": "409db3b3",
   "metadata": {
    "execution": {
     "iopub.execute_input": "2024-08-20T18:20:56.589842Z",
     "iopub.status.busy": "2024-08-20T18:20:56.589550Z",
     "iopub.status.idle": "2024-08-20T18:20:56.663584Z",
     "shell.execute_reply": "2024-08-20T18:20:56.663063Z"
    }
   },
   "outputs": [
    {
     "data": {
      "image/png": "[encoded data removed]",
      "text/plain": [
       "<Figure size 640x480 with 1 Axes>"
      ]
     },
     "metadata": {},
     "output_type": "display_data"
    }
   ],
   "source": [
    "external_namespace_declaration_usage_significant = group_to_others_below_threshold(\n",
    "    data_frame=external_namespace_usage_spread,\n",
    "    value_column='sumNumberOfUsedExternalDeclarations',\n",
    "    name_column='externalModuleNamespace',\n",
    "    threshold= 0.5\n",
    ");\n",
    "\n",
    "if external_namespace_declaration_usage_significant.empty:\n",
    "    print(\"No data to plot\")\n",
    "else:\n",
    "    plot.figure();\n",
    "\n",
    "    axis = external_namespace_declaration_usage_significant.plot(\n",
    "        kind='pie',\n",
    "        title='Top external namespace declaration usage [%]',\n",
    "        legend=True,\n",
    "        labeldistance=None,\n",
    "        autopct='%1.2f%%',\n",
    "        textprops={'fontsize': 5},\n",
    "        pctdistance=1.2,\n",
    "        cmap=main_color_map\n",
    "    )\n",
    "    axis.legend(bbox_to_anchor=(1.05, 1), loc='upper left')\n",
    "    plot.show()"
   ]
  },
  {
   "attachments": {},
   "cell_type": "markdown",
   "id": "29ec2211",
   "metadata": {},
   "source": [
    "### Table 5 - Top 20 least used external modules overall\n",
    "\n",
    "This table identifies external modules that aren't used very often. This could help to find libraries that aren't actually needed or maybe easily replaceable. Some of them might be used sparsely on purpose for example as an adapter to an external library that is actually important. Thus, decisions need to be made on a case-by-case basis.\n",
    "\n",
    "Only the last 20 entries are shown. The whole table can be found in the following CSV report:\n",
    "`External_module_usage_overall_for_Typescript`\n",
    "\n",
    "**Columns:**\n",
    "- *externalModuleName* identifies the external package as described above\n",
    "- *numberOfExternalDeclarationCalls* includes every invocation or reference to the declarations in the external module"
   ]
  },
  {
   "cell_type": "code",
   "execution_count": 28,
   "id": "03641b8b",
   "metadata": {
    "execution": {
     "iopub.execute_input": "2024-08-20T18:20:56.665942Z",
     "iopub.status.busy": "2024-08-20T18:20:56.665568Z",
     "iopub.status.idle": "2024-08-20T18:20:56.671707Z",
     "shell.execute_reply": "2024-08-20T18:20:56.671239Z"
    }
   },
   "outputs": [
    {
     "data": {
      "text/html": [
       "<div>\n",
       "<style scoped>\n",
       "    .dataframe tbody tr th:only-of-type {\n",
       "        vertical-align: middle;\n",
       "    }\n",
       "\n",
       "    .dataframe tbody tr th {\n",
       "        vertical-align: top;\n",
       "    }\n",
       "\n",
       "    .dataframe thead th {\n",
       "        text-align: right;\n",
       "    }\n",
       "</style>\n",
       "<table border=\"1\" class=\"dataframe\">\n",
       "  <thead>\n",
       "    <tr style=\"text-align: right;\">\n",
       "      <th></th>\n",
       "      <th>externalModuleName</th>\n",
       "      <th>numberOfExternalDeclarationCalls</th>\n",
       "    </tr>\n",
       "  </thead>\n",
       "  <tbody>\n",
       "    <tr>\n",
       "      <th>0</th>\n",
       "      <td>@ungap/url-search-params</td>\n",
       "      <td>1</td>\n",
       "    </tr>\n",
       "    <tr>\n",
       "      <th>1</th>\n",
       "      <td>@types/react-native</td>\n",
       "      <td>14</td>\n",
       "    </tr>\n",
       "    <tr>\n",
       "      <th>2</th>\n",
       "      <td>@types/react</td>\n",
       "      <td>94</td>\n",
       "    </tr>\n",
       "  </tbody>\n",
       "</table>\n",
       "</div>"
      ],
      "text/plain": [
       "         externalModuleName  numberOfExternalDeclarationCalls\n",
       "0  @ungap/url-search-params                                 1\n",
       "1       @types/react-native                                14\n",
       "2              @types/react                                94"
      ]
     },
     "execution_count": 28,
     "metadata": {},
     "output_type": "execute_result"
    }
   ],
   "source": [
    "# Sort by number of external type calls\n",
    "external_package_least_used=external_module_usage.sort_values(by='numberOfExternalDeclarationCalls', ascending=True)\n",
    "\n",
    "# Reset index\n",
    "external_package_least_used = external_package_least_used.reset_index(drop=True)\n",
    "\n",
    "# Select columns and only show the first 10 entries (head)\n",
    "external_package_least_used[['externalModuleName','numberOfExternalDeclarationCalls']].head(20)\n"
   ]
  },
  {
   "cell_type": "markdown",
   "id": "0bd11586",
   "metadata": {},
   "source": [
    "### Table 6 - External usage per internal module sorted by highest external element usage rate descending\n",
    "\n",
    "The following table shows the most used external packages separately for each artifact including external annotations. The results are sorted by the artifacts with the highest external type usage rate descending. \n",
    "\n",
    "The intention of this table is to find artifacts that use a lot of external dependencies in relation to their size and get all the external packages and their usage.\n",
    "\n",
    "Only the first 40 entries are shown. The whole table can be found in the following CSV report:\n",
    "`External_module_usage_per_internal_module_sorted_for_Typescript`\n",
    "\n",
    "**Columns:**\n",
    "- *internalModuleName* is the internal module that uses the external one. Both are used here as a group for a more detailed analysis.\n",
    "- *externalModuleName* is the external module prepended by its namespace if given. Example: \"@types/react\"\n",
    "- *numberOfExternalDeclarationCaller* is the count of distinct internal elements in the internal module that call the external module\n",
    "- *numberOfExternalDeclarationCalls* is the count of how often the external module is called within the internal module\n",
    "- *numberOfAllElementsInInternalModule* is the total count of all exported elements of the internal module\n",
    "- *numberOfAllExternalDeclarationsUsedInInternalModule* is the total count of all distinct external declarations used in the internal module\n",
    "- *numberOfAllExternalModulesUsedInInternalModule* is the total count of all distinct external modules used in the internal module\n",
    "- *externalDeclarationRate* is the numberOfAllExternalDeclarationsUsedInInternalModule / numberOfAllElementsInInternalModule * 100 of the internal module for all external modules\n",
    "- *externalDeclarationNames* contains a list of actually used external declarations"
   ]
  },
  {
   "cell_type": "markdown",
   "id": "f6be4357",
   "metadata": {},
   "source": [
    "#### Table 6a - External module usage per internal module sorted by highest external element usage rate descending"
   ]
  },
  {
   "cell_type": "code",
   "execution_count": 29,
   "id": "f8459ede",
   "metadata": {
    "execution": {
     "iopub.execute_input": "2024-08-20T18:20:56.673751Z",
     "iopub.status.busy": "2024-08-20T18:20:56.673470Z",
     "iopub.status.idle": "2024-08-20T18:20:56.710354Z",
     "shell.execute_reply": "2024-08-20T18:20:56.709924Z"
    }
   },
   "outputs": [
    {
     "data": {
      "text/html": [
       "<div>\n",
       "<style scoped>\n",
       "    .dataframe tbody tr th:only-of-type {\n",
       "        vertical-align: middle;\n",
       "    }\n",
       "\n",
       "    .dataframe tbody tr th {\n",
       "        vertical-align: top;\n",
       "    }\n",
       "\n",
       "    .dataframe thead th {\n",
       "        text-align: right;\n",
       "    }\n",
       "</style>\n",
       "<table border=\"1\" class=\"dataframe\">\n",
       "  <thead>\n",
       "    <tr style=\"text-align: right;\">\n",
       "      <th></th>\n",
       "      <th>internalModuleName</th>\n",
       "      <th>externalModuleName</th>\n",
       "      <th>numberOfExternalDeclarationCaller</th>\n",
       "      <th>numberOfExternalDeclarationCalls</th>\n",
       "      <th>numberOfAllElementsInInternalModule</th>\n",
       "      <th>numberOfAllExternalDeclarationsUsedInInternalModule</th>\n",
       "      <th>numberOfAllExternalModulesUsedInInternalModule</th>\n",
       "      <th>externalDeclarationRate</th>\n",
       "      <th>externalDeclarationNames</th>\n",
       "    </tr>\n",
       "  </thead>\n",
       "  <tbody>\n",
       "    <tr>\n",
       "      <th>0</th>\n",
       "      <td>react-router-native</td>\n",
       "      <td>@types/react-native</td>\n",
       "      <td>11</td>\n",
       "      <td>14</td>\n",
       "      <td>12</td>\n",
       "      <td>18</td>\n",
       "      <td>3</td>\n",
       "      <td>150.000000</td>\n",
       "      <td>[GestureResponderEvent, BackHandler, BackHandl...</td>\n",
       "    </tr>\n",
       "    <tr>\n",
       "      <th>1</th>\n",
       "      <td>react-router-native</td>\n",
       "      <td>@types/react</td>\n",
       "      <td>9</td>\n",
       "      <td>14</td>\n",
       "      <td>12</td>\n",
       "      <td>18</td>\n",
       "      <td>3</td>\n",
       "      <td>150.000000</td>\n",
       "      <td>[React.useEffect, React.ReactNode, React.JSX.E...</td>\n",
       "    </tr>\n",
       "    <tr>\n",
       "      <th>2</th>\n",
       "      <td>react-router-native</td>\n",
       "      <td>@ungap/url-search-params</td>\n",
       "      <td>1</td>\n",
       "      <td>2</td>\n",
       "      <td>12</td>\n",
       "      <td>18</td>\n",
       "      <td>3</td>\n",
       "      <td>150.000000</td>\n",
       "      <td>[url-search-params]</td>\n",
       "    </tr>\n",
       "    <tr>\n",
       "      <th>3</th>\n",
       "      <td>react-router-dom</td>\n",
       "      <td>@types/react</td>\n",
       "      <td>80</td>\n",
       "      <td>124</td>\n",
       "      <td>35</td>\n",
       "      <td>27</td>\n",
       "      <td>1</td>\n",
       "      <td>77.142857</td>\n",
       "      <td>[React.ForwardRefExoticComponent, React.RefAtt...</td>\n",
       "    </tr>\n",
       "    <tr>\n",
       "      <th>4</th>\n",
       "      <td>server</td>\n",
       "      <td>@types/react</td>\n",
       "      <td>3</td>\n",
       "      <td>3</td>\n",
       "      <td>6</td>\n",
       "      <td>2</td>\n",
       "      <td>1</td>\n",
       "      <td>33.333333</td>\n",
       "      <td>[React.JSX.Element, React.ReactNode]</td>\n",
       "    </tr>\n",
       "    <tr>\n",
       "      <th>5</th>\n",
       "      <td>react-router</td>\n",
       "      <td>@types/react</td>\n",
       "      <td>1</td>\n",
       "      <td>3</td>\n",
       "      <td>6</td>\n",
       "      <td>1</td>\n",
       "      <td>1</td>\n",
       "      <td>16.666667</td>\n",
       "      <td>[React.createElement]</td>\n",
       "    </tr>\n",
       "  </tbody>\n",
       "</table>\n",
       "</div>"
      ],
      "text/plain": [
       "    internalModuleName        externalModuleName  \\\n",
       "0  react-router-native       @types/react-native   \n",
       "1  react-router-native              @types/react   \n",
       "2  react-router-native  @ungap/url-search-params   \n",
       "3     react-router-dom              @types/react   \n",
       "4               server              @types/react   \n",
       "5         react-router              @types/react   \n",
       "\n",
       "   numberOfExternalDeclarationCaller  numberOfExternalDeclarationCalls  \\\n",
       "0                                 11                                14   \n",
       "1                                  9                                14   \n",
       "2                                  1                                 2   \n",
       "3                                 80                               124   \n",
       "4                                  3                                 3   \n",
       "5                                  1                                 3   \n",
       "\n",
       "   numberOfAllElementsInInternalModule  \\\n",
       "0                                   12   \n",
       "1                                   12   \n",
       "2                                   12   \n",
       "3                                   35   \n",
       "4                                    6   \n",
       "5                                    6   \n",
       "\n",
       "   numberOfAllExternalDeclarationsUsedInInternalModule  \\\n",
       "0                                                 18     \n",
       "1                                                 18     \n",
       "2                                                 18     \n",
       "3                                                 27     \n",
       "4                                                  2     \n",
       "5                                                  1     \n",
       "\n",
       "   numberOfAllExternalModulesUsedInInternalModule  externalDeclarationRate  \\\n",
       "0                                               3               150.000000   \n",
       "1                                               3               150.000000   \n",
       "2                                               3               150.000000   \n",
       "3                                               1                77.142857   \n",
       "4                                               1                33.333333   \n",
       "5                                               1                16.666667   \n",
       "\n",
       "                            externalDeclarationNames  \n",
       "0  [GestureResponderEvent, BackHandler, BackHandl...  \n",
       "1  [React.useEffect, React.ReactNode, React.JSX.E...  \n",
       "2                                [url-search-params]  \n",
       "3  [React.ForwardRefExoticComponent, React.RefAtt...  \n",
       "4               [React.JSX.Element, React.ReactNode]  \n",
       "5                              [React.createElement]  "
      ]
     },
     "execution_count": 29,
     "metadata": {},
     "output_type": "execute_result"
    }
   ],
   "source": [
    "external_modules_used_by_internal_modules = query_cypher_to_data_frame(\"../cypher/External_Dependencies/External_module_usage_per_internal_module_sorted_for_Typescript.cypher\")\n",
    "external_modules_used_by_internal_modules.head(40)"
   ]
  },
  {
   "cell_type": "markdown",
   "id": "2635122d",
   "metadata": {},
   "source": [
    "#### Table 6b - External namespace usage per internal module sorted by highest external element usage rate descending"
   ]
  },
  {
   "cell_type": "code",
   "execution_count": 30,
   "id": "10f373b1",
   "metadata": {
    "execution": {
     "iopub.execute_input": "2024-08-20T18:20:56.712525Z",
     "iopub.status.busy": "2024-08-20T18:20:56.712240Z",
     "iopub.status.idle": "2024-08-20T18:20:56.746480Z",
     "shell.execute_reply": "2024-08-20T18:20:56.745894Z"
    }
   },
   "outputs": [
    {
     "data": {
      "text/html": [
       "<div>\n",
       "<style scoped>\n",
       "    .dataframe tbody tr th:only-of-type {\n",
       "        vertical-align: middle;\n",
       "    }\n",
       "\n",
       "    .dataframe tbody tr th {\n",
       "        vertical-align: top;\n",
       "    }\n",
       "\n",
       "    .dataframe thead th {\n",
       "        text-align: right;\n",
       "    }\n",
       "</style>\n",
       "<table border=\"1\" class=\"dataframe\">\n",
       "  <thead>\n",
       "    <tr style=\"text-align: right;\">\n",
       "      <th></th>\n",
       "      <th>internalModuleName</th>\n",
       "      <th>externalNamespaceName</th>\n",
       "      <th>numberOfExternalDeclarationCaller</th>\n",
       "      <th>numberOfExternalDeclarationCalls</th>\n",
       "      <th>numberOfAllElementsInInternalModule</th>\n",
       "      <th>numberOfAllExternalDeclarationsUsedInInternalModule</th>\n",
       "      <th>numberOfAllExternalModulesUsedInInternalModule</th>\n",
       "      <th>externalDeclarationRate</th>\n",
       "      <th>externalDeclarationNames</th>\n",
       "    </tr>\n",
       "  </thead>\n",
       "  <tbody>\n",
       "    <tr>\n",
       "      <th>0</th>\n",
       "      <td>react-router-native</td>\n",
       "      <td>@types</td>\n",
       "      <td>20</td>\n",
       "      <td>28</td>\n",
       "      <td>12</td>\n",
       "      <td>18</td>\n",
       "      <td>3</td>\n",
       "      <td>150.000000</td>\n",
       "      <td>[GestureResponderEvent, React.useEffect, BackH...</td>\n",
       "    </tr>\n",
       "    <tr>\n",
       "      <th>1</th>\n",
       "      <td>react-router-native</td>\n",
       "      <td>@ungap</td>\n",
       "      <td>1</td>\n",
       "      <td>2</td>\n",
       "      <td>12</td>\n",
       "      <td>18</td>\n",
       "      <td>3</td>\n",
       "      <td>150.000000</td>\n",
       "      <td>[url-search-params]</td>\n",
       "    </tr>\n",
       "    <tr>\n",
       "      <th>2</th>\n",
       "      <td>react-router-dom</td>\n",
       "      <td>@types</td>\n",
       "      <td>80</td>\n",
       "      <td>124</td>\n",
       "      <td>35</td>\n",
       "      <td>27</td>\n",
       "      <td>1</td>\n",
       "      <td>77.142857</td>\n",
       "      <td>[React.ForwardRefExoticComponent, React.RefAtt...</td>\n",
       "    </tr>\n",
       "    <tr>\n",
       "      <th>3</th>\n",
       "      <td>server</td>\n",
       "      <td>@types</td>\n",
       "      <td>3</td>\n",
       "      <td>3</td>\n",
       "      <td>6</td>\n",
       "      <td>2</td>\n",
       "      <td>1</td>\n",
       "      <td>33.333333</td>\n",
       "      <td>[React.JSX.Element, React.ReactNode]</td>\n",
       "    </tr>\n",
       "    <tr>\n",
       "      <th>4</th>\n",
       "      <td>react-router</td>\n",
       "      <td>@types</td>\n",
       "      <td>1</td>\n",
       "      <td>3</td>\n",
       "      <td>6</td>\n",
       "      <td>1</td>\n",
       "      <td>1</td>\n",
       "      <td>16.666667</td>\n",
       "      <td>[React.createElement]</td>\n",
       "    </tr>\n",
       "  </tbody>\n",
       "</table>\n",
       "</div>"
      ],
      "text/plain": [
       "    internalModuleName externalNamespaceName  \\\n",
       "0  react-router-native                @types   \n",
       "1  react-router-native                @ungap   \n",
       "2     react-router-dom                @types   \n",
       "3               server                @types   \n",
       "4         react-router                @types   \n",
       "\n",
       "   numberOfExternalDeclarationCaller  numberOfExternalDeclarationCalls  \\\n",
       "0                                 20                                28   \n",
       "1                                  1                                 2   \n",
       "2                                 80                               124   \n",
       "3                                  3                                 3   \n",
       "4                                  1                                 3   \n",
       "\n",
       "   numberOfAllElementsInInternalModule  \\\n",
       "0                                   12   \n",
       "1                                   12   \n",
       "2                                   35   \n",
       "3                                    6   \n",
       "4                                    6   \n",
       "\n",
       "   numberOfAllExternalDeclarationsUsedInInternalModule  \\\n",
       "0                                                 18     \n",
       "1                                                 18     \n",
       "2                                                 27     \n",
       "3                                                  2     \n",
       "4                                                  1     \n",
       "\n",
       "   numberOfAllExternalModulesUsedInInternalModule  externalDeclarationRate  \\\n",
       "0                                               3               150.000000   \n",
       "1                                               3               150.000000   \n",
       "2                                               1                77.142857   \n",
       "3                                               1                33.333333   \n",
       "4                                               1                16.666667   \n",
       "\n",
       "                            externalDeclarationNames  \n",
       "0  [GestureResponderEvent, React.useEffect, BackH...  \n",
       "1                                [url-search-params]  \n",
       "2  [React.ForwardRefExoticComponent, React.RefAtt...  \n",
       "3               [React.JSX.Element, React.ReactNode]  \n",
       "4                              [React.createElement]  "
      ]
     },
     "execution_count": 30,
     "metadata": {},
     "output_type": "execute_result"
    }
   ],
   "source": [
    "external_namespaces_used_by_internal_modules = query_cypher_to_data_frame(\"../cypher/External_Dependencies/External_namespace_usage_per_internal_module_sorted_for_Typescript.cypher\")\n",
    "external_namespaces_used_by_internal_modules.head(40)"
   ]
  },
  {
   "cell_type": "markdown",
   "id": "bb458f01",
   "metadata": {},
   "source": [
    "#### Table 6c - Top 15 used external modules with the internal modules that use them the most\n",
    "\n",
    "The following table uses pivot to show the internal modules in columns, the external modules in rows and the number of internal elements using them as values."
   ]
  },
  {
   "cell_type": "code",
   "execution_count": 31,
   "id": "fd9667a9",
   "metadata": {
    "execution": {
     "iopub.execute_input": "2024-08-20T18:20:56.749030Z",
     "iopub.status.busy": "2024-08-20T18:20:56.748652Z",
     "iopub.status.idle": "2024-08-20T18:20:56.751816Z",
     "shell.execute_reply": "2024-08-20T18:20:56.751345Z"
    }
   },
   "outputs": [],
   "source": [
    "# Calculate the percentage for each value based on the global sum of all values\n",
    "def percentage_global(data_frame : pd.DataFrame):\n",
    "    total = data_frame.sum().sum()\n",
    "    return data_frame / total * 100"
   ]
  },
  {
   "cell_type": "code",
   "execution_count": 32,
   "id": "4ae9ada4",
   "metadata": {
    "execution": {
     "iopub.execute_input": "2024-08-20T18:20:56.753655Z",
     "iopub.status.busy": "2024-08-20T18:20:56.753505Z",
     "iopub.status.idle": "2024-08-20T18:20:56.764319Z",
     "shell.execute_reply": "2024-08-20T18:20:56.763835Z"
    }
   },
   "outputs": [
    {
     "data": {
      "text/html": [
       "<div>\n",
       "<style scoped>\n",
       "    .dataframe tbody tr th:only-of-type {\n",
       "        vertical-align: middle;\n",
       "    }\n",
       "\n",
       "    .dataframe tbody tr th {\n",
       "        vertical-align: top;\n",
       "    }\n",
       "\n",
       "    .dataframe thead th {\n",
       "        text-align: right;\n",
       "    }\n",
       "</style>\n",
       "<table border=\"1\" class=\"dataframe\">\n",
       "  <thead>\n",
       "    <tr style=\"text-align: right;\">\n",
       "      <th>internalModuleName</th>\n",
       "      <th>react-router-dom</th>\n",
       "      <th>react-router-native</th>\n",
       "      <th>server</th>\n",
       "      <th>react-router</th>\n",
       "    </tr>\n",
       "    <tr>\n",
       "      <th>externalModuleName</th>\n",
       "      <th></th>\n",
       "      <th></th>\n",
       "      <th></th>\n",
       "      <th></th>\n",
       "    </tr>\n",
       "  </thead>\n",
       "  <tbody>\n",
       "    <tr>\n",
       "      <th>@types/react</th>\n",
       "      <td>80</td>\n",
       "      <td>9</td>\n",
       "      <td>3</td>\n",
       "      <td>1</td>\n",
       "    </tr>\n",
       "    <tr>\n",
       "      <th>@types/react-native</th>\n",
       "      <td>0</td>\n",
       "      <td>11</td>\n",
       "      <td>0</td>\n",
       "      <td>0</td>\n",
       "    </tr>\n",
       "    <tr>\n",
       "      <th>@ungap/url-search-params</th>\n",
       "      <td>0</td>\n",
       "      <td>1</td>\n",
       "      <td>0</td>\n",
       "      <td>0</td>\n",
       "    </tr>\n",
       "  </tbody>\n",
       "</table>\n",
       "</div>"
      ],
      "text/plain": [
       "internalModuleName        react-router-dom  react-router-native  server  \\\n",
       "externalModuleName                                                        \n",
       "@types/react                            80                    9       3   \n",
       "@types/react-native                      0                   11       0   \n",
       "@ungap/url-search-params                 0                    1       0   \n",
       "\n",
       "internalModuleName        react-router  \n",
       "externalModuleName                      \n",
       "@types/react                         1  \n",
       "@types/react-native                  0  \n",
       "@ungap/url-search-params             0  "
      ]
     },
     "execution_count": 32,
     "metadata": {},
     "output_type": "execute_result"
    }
   ],
   "source": [
    "external_modules_used_by_internal_modules_pivot = external_modules_used_by_internal_modules.copy()\n",
    "\n",
    "# Every row represents the number of external module\n",
    "external_modules_used_by_internal_modules_pivot=external_modules_used_by_internal_modules_pivot.pivot(index='externalModuleName', columns='internalModuleName', values='numberOfExternalDeclarationCaller')\n",
    "\n",
    "# Sort by column sum and then take only the first 10 columns\n",
    "sum_of_external_packages_per_artifact = external_modules_used_by_internal_modules_pivot.sum()\n",
    "external_modules_used_by_internal_modules_pivot = external_modules_used_by_internal_modules_pivot[sum_of_external_packages_per_artifact.sort_values(ascending=False).index[:15]]\n",
    "\n",
    "# Fill missing values with zeroes\n",
    "external_modules_used_by_internal_modules_pivot.fillna(0, inplace=True)\n",
    "\n",
    "external_modules_used_by_internal_modules_pivot.astype('int')"
   ]
  },
  {
   "cell_type": "markdown",
   "id": "9b1fed8e",
   "metadata": {},
   "source": [
    "#### Table 6d - Top 15 used external namespaces with the internal modules that use them the most\n",
    "\n",
    "The following table uses pivot to show the internal modules in columns, the external namespaces in rows and the number of internal elements using them as values."
   ]
  },
  {
   "cell_type": "code",
   "execution_count": 33,
   "id": "845099fc",
   "metadata": {
    "execution": {
     "iopub.execute_input": "2024-08-20T18:20:56.766381Z",
     "iopub.status.busy": "2024-08-20T18:20:56.766115Z",
     "iopub.status.idle": "2024-08-20T18:20:56.774123Z",
     "shell.execute_reply": "2024-08-20T18:20:56.773756Z"
    }
   },
   "outputs": [
    {
     "data": {
      "text/html": [
       "<div>\n",
       "<style scoped>\n",
       "    .dataframe tbody tr th:only-of-type {\n",
       "        vertical-align: middle;\n",
       "    }\n",
       "\n",
       "    .dataframe tbody tr th {\n",
       "        vertical-align: top;\n",
       "    }\n",
       "\n",
       "    .dataframe thead th {\n",
       "        text-align: right;\n",
       "    }\n",
       "</style>\n",
       "<table border=\"1\" class=\"dataframe\">\n",
       "  <thead>\n",
       "    <tr style=\"text-align: right;\">\n",
       "      <th>internalModuleName</th>\n",
       "      <th>react-router-dom</th>\n",
       "      <th>react-router-native</th>\n",
       "      <th>server</th>\n",
       "      <th>react-router</th>\n",
       "    </tr>\n",
       "    <tr>\n",
       "      <th>externalNamespaceName</th>\n",
       "      <th></th>\n",
       "      <th></th>\n",
       "      <th></th>\n",
       "      <th></th>\n",
       "    </tr>\n",
       "  </thead>\n",
       "  <tbody>\n",
       "    <tr>\n",
       "      <th>@types</th>\n",
       "      <td>80</td>\n",
       "      <td>20</td>\n",
       "      <td>3</td>\n",
       "      <td>1</td>\n",
       "    </tr>\n",
       "    <tr>\n",
       "      <th>@ungap</th>\n",
       "      <td>0</td>\n",
       "      <td>1</td>\n",
       "      <td>0</td>\n",
       "      <td>0</td>\n",
       "    </tr>\n",
       "  </tbody>\n",
       "</table>\n",
       "</div>"
      ],
      "text/plain": [
       "internalModuleName     react-router-dom  react-router-native  server  \\\n",
       "externalNamespaceName                                                  \n",
       "@types                               80                   20       3   \n",
       "@ungap                                0                    1       0   \n",
       "\n",
       "internalModuleName     react-router  \n",
       "externalNamespaceName                \n",
       "@types                            1  \n",
       "@ungap                            0  "
      ]
     },
     "execution_count": 33,
     "metadata": {},
     "output_type": "execute_result"
    }
   ],
   "source": [
    "external_namespaces_used_by_internal_modules_pivot = external_namespaces_used_by_internal_modules.copy()\n",
    "\n",
    "# Every row represents the number of external module\n",
    "external_namespaces_used_by_internal_modules_pivot=external_namespaces_used_by_internal_modules_pivot.pivot(index='externalNamespaceName', columns='internalModuleName', values='numberOfExternalDeclarationCaller')\n",
    "\n",
    "# Sort by column sum and then take only the first 10 columns\n",
    "sum_of_external_second_level_packages_per_artifact = external_namespaces_used_by_internal_modules_pivot.sum()\n",
    "external_namespaces_used_by_internal_modules_pivot = external_namespaces_used_by_internal_modules_pivot[sum_of_external_second_level_packages_per_artifact.sort_values(ascending=False).index[:15]]\n",
    "\n",
    "# Fill missing values with zeroes\n",
    "external_namespaces_used_by_internal_modules_pivot.fillna(0, inplace=True)\n",
    "\n",
    "external_namespaces_used_by_internal_modules_pivot.astype('int')"
   ]
  },
  {
   "attachments": {},
   "cell_type": "markdown",
   "id": "4fb87c8a",
   "metadata": {},
   "source": [
    "### Table 6e - External usage per internal module and its elements\n",
    "\n",
    "This table lists internal elements and the modules they belong to that use many different external declarations of a specific external module. "
   ]
  },
  {
   "cell_type": "code",
   "execution_count": 34,
   "id": "58a19ad7",
   "metadata": {
    "execution": {
     "iopub.execute_input": "2024-08-20T18:20:56.776184Z",
     "iopub.status.busy": "2024-08-20T18:20:56.775897Z",
     "iopub.status.idle": "2024-08-20T18:20:56.783512Z",
     "shell.execute_reply": "2024-08-20T18:20:56.783048Z"
    }
   },
   "outputs": [
    {
     "data": {
      "text/html": [
       "<div>\n",
       "<style scoped>\n",
       "    .dataframe tbody tr th:only-of-type {\n",
       "        vertical-align: middle;\n",
       "    }\n",
       "\n",
       "    .dataframe tbody tr th {\n",
       "        vertical-align: top;\n",
       "    }\n",
       "\n",
       "    .dataframe thead th {\n",
       "        text-align: right;\n",
       "    }\n",
       "</style>\n",
       "<table border=\"1\" class=\"dataframe\">\n",
       "  <thead>\n",
       "    <tr style=\"text-align: right;\">\n",
       "      <th></th>\n",
       "      <th>internalModuleName</th>\n",
       "      <th>numberOfAllExternalDeclarationsUsedInInternalModule</th>\n",
       "      <th>numberOfAllElementsInInternalModule</th>\n",
       "    </tr>\n",
       "  </thead>\n",
       "  <tbody>\n",
       "    <tr>\n",
       "      <th>0</th>\n",
       "      <td>react-router-native</td>\n",
       "      <td>18</td>\n",
       "      <td>12</td>\n",
       "    </tr>\n",
       "    <tr>\n",
       "      <th>3</th>\n",
       "      <td>react-router-dom</td>\n",
       "      <td>27</td>\n",
       "      <td>35</td>\n",
       "    </tr>\n",
       "    <tr>\n",
       "      <th>4</th>\n",
       "      <td>server</td>\n",
       "      <td>2</td>\n",
       "      <td>6</td>\n",
       "    </tr>\n",
       "    <tr>\n",
       "      <th>5</th>\n",
       "      <td>react-router</td>\n",
       "      <td>1</td>\n",
       "      <td>6</td>\n",
       "    </tr>\n",
       "  </tbody>\n",
       "</table>\n",
       "</div>"
      ],
      "text/plain": [
       "    internalModuleName  numberOfAllExternalDeclarationsUsedInInternalModule  \\\n",
       "0  react-router-native                                                 18     \n",
       "3     react-router-dom                                                 27     \n",
       "4               server                                                  2     \n",
       "5         react-router                                                  1     \n",
       "\n",
       "   numberOfAllElementsInInternalModule  \n",
       "0                                   12  \n",
       "3                                   35  \n",
       "4                                    6  \n",
       "5                                    6  "
      ]
     },
     "execution_count": 34,
     "metadata": {},
     "output_type": "execute_result"
    }
   ],
   "source": [
    "# Sort by number of packages descending\n",
    "internal_modules_with_highest_external_declaration_usage = external_modules_used_by_internal_modules.copy()\n",
    "internal_modules_with_highest_external_declaration_usage.sort_values(by=['numberOfAllExternalDeclarationsUsedInInternalModule','internalModuleName'], ascending=[False, True]).reset_index(drop=True)\n",
    "internal_modules_with_highest_external_declaration_usage=internal_modules_with_highest_external_declaration_usage[['internalModuleName', 'numberOfAllExternalDeclarationsUsedInInternalModule', 'numberOfAllElementsInInternalModule']]\n",
    "internal_modules_with_highest_external_declaration_usage=internal_modules_with_highest_external_declaration_usage.drop_duplicates()\n",
    "internal_modules_with_highest_external_declaration_usage.head(40)"
   ]
  },
  {
   "cell_type": "markdown",
   "id": "43ec339b",
   "metadata": {},
   "source": [
    "#### Table 6 Chart 1 - Top 15 external dependency using artifacts and their external packages stacked\n",
    "\n",
    "The following chart shows the top 15 external package using artifacts and breaks down which external packages they use in how many different internal packages with stacked bars. \n",
    "\n",
    "Note that every external dependency is counted separately so that if on internal package uses two external packages it will be displayed for both and so stacked twice.  "
   ]
  },
  {
   "cell_type": "code",
   "execution_count": 35,
   "id": "9d8e8bb0",
   "metadata": {
    "execution": {
     "iopub.execute_input": "2024-08-20T18:20:56.785635Z",
     "iopub.status.busy": "2024-08-20T18:20:56.785285Z",
     "iopub.status.idle": "2024-08-20T18:20:56.915748Z",
     "shell.execute_reply": "2024-08-20T18:20:56.915239Z"
    }
   },
   "outputs": [
    {
     "data": {
      "text/plain": [
       "<Figure size 640x480 with 0 Axes>"
      ]
     },
     "metadata": {},
     "output_type": "display_data"
    },
    {
     "data": {
      "image/png": "[encoded data removed]",
      "text/plain": [
       "<Figure size 640x480 with 1 Axes>"
      ]
     },
     "metadata": {},
     "output_type": "display_data"
    }
   ],
   "source": [
    "if external_modules_used_by_internal_modules_pivot.empty:\n",
    "    print(\"No data to plot\")\n",
    "else:\n",
    "    plot.figure();\n",
    "    axes = external_modules_used_by_internal_modules_pivot.transpose().plot(\n",
    "        kind='bar', \n",
    "        grid=True,\n",
    "        title='External module usage by internal modules', \n",
    "        xlabel='internal module',\n",
    "        ylabel='number of elements',\n",
    "        stacked=True,\n",
    "        legend=True,\n",
    "        cmap=main_color_map\n",
    "    ).legend(bbox_to_anchor=(1.0, 1.0))\n",
    "    plot.show()"
   ]
  },
  {
   "cell_type": "markdown",
   "id": "2d577c45",
   "metadata": {},
   "source": [
    "#### Table 6 Chart 2 - Top 15 external dependency using artifacts and their external packages (first 2 levels) stacked\n",
    "\n",
    "The following chart shows the top 15 external package using artifacts and breaks down which external packages (first 2 levels) are used in how many different internal packages with stacked bars. \n",
    "\n",
    "Note that every external dependency is counted separately so that if on internal package uses two external packages it will be displayed for both and so stacked twice.  "
   ]
  },
  {
   "cell_type": "code",
   "execution_count": 36,
   "id": "17fc1572",
   "metadata": {
    "execution": {
     "iopub.execute_input": "2024-08-20T18:20:56.918013Z",
     "iopub.status.busy": "2024-08-20T18:20:56.917861Z",
     "iopub.status.idle": "2024-08-20T18:20:57.096559Z",
     "shell.execute_reply": "2024-08-20T18:20:57.096097Z"
    }
   },
   "outputs": [
    {
     "data": {
      "text/plain": [
       "<Figure size 640x480 with 0 Axes>"
      ]
     },
     "metadata": {},
     "output_type": "display_data"
    },
    {
     "data": {
      "image/png": "[encoded data removed]",
      "text/plain": [
       "<Figure size 640x480 with 1 Axes>"
      ]
     },
     "metadata": {},
     "output_type": "display_data"
    }
   ],
   "source": [
    "if external_namespaces_used_by_internal_modules_pivot.empty:\n",
    "    print(\"No data to plot\")\n",
    "else:\n",
    "    plot.figure();\n",
    "    axes = external_namespaces_used_by_internal_modules_pivot.transpose().plot(\n",
    "        kind='bar', \n",
    "        grid=True,\n",
    "        title='External namespaces usage by internal modules', \n",
    "        xlabel='internal module',\n",
    "        ylabel='number of internal elements',\n",
    "        stacked=True,\n",
    "        legend=True,\n",
    "        cmap=main_color_map\n",
    "    ).legend(bbox_to_anchor=(1.0, 1.0))\n",
    "    plot.show()"
   ]
  },
  {
   "attachments": {},
   "cell_type": "markdown",
   "id": "5b420f59",
   "metadata": {},
   "source": [
    "### Table 7 - External module usage distribution per internal element\n",
    "\n",
    "This table shows how many internal elements use one external module, how many use two, etc. .\n",
    "This gives an overview of the distribution of external module calls and the overall coupling to external libraries. The higher the count of distinct external modules the lower should be the count of internal elements that use them. \n",
    "More details about which types have the highest external package dependency usage can be in the tables 4 and 5 above.\n",
    "\n",
    "Only the last 40 entries are shown. The whole table can be found in the following CSV report:\n",
    "`External_module_usage_per_internal_module_distribution_for_Typescript`\n",
    "\n",
    "**Columns:**\n",
    "- *internalModuleName* is the internal module that uses at least one external module. All other columns refer to it.\n",
    "- *numberOfAllInternalElements* the total number of all elements that are exported by the internal module\n",
    "- *externalModuleCount* is the number of distinct external modules used by the internal module\n",
    "- *internalElementCount* is the number of distinct internal elements that use at least one external one\n",
    "- *internalElementsCallingExternalRate* is internalElementCount / numberOfAllInternalElements * 100 (in %)"
   ]
  },
  {
   "cell_type": "code",
   "execution_count": 37,
   "id": "d750524a",
   "metadata": {
    "execution": {
     "iopub.execute_input": "2024-08-20T18:20:57.098644Z",
     "iopub.status.busy": "2024-08-20T18:20:57.098499Z",
     "iopub.status.idle": "2024-08-20T18:20:57.131523Z",
     "shell.execute_reply": "2024-08-20T18:20:57.131002Z"
    }
   },
   "outputs": [
    {
     "data": {
      "text/html": [
       "<div>\n",
       "<style scoped>\n",
       "    .dataframe tbody tr th:only-of-type {\n",
       "        vertical-align: middle;\n",
       "    }\n",
       "\n",
       "    .dataframe tbody tr th {\n",
       "        vertical-align: top;\n",
       "    }\n",
       "\n",
       "    .dataframe thead th {\n",
       "        text-align: right;\n",
       "    }\n",
       "</style>\n",
       "<table border=\"1\" class=\"dataframe\">\n",
       "  <thead>\n",
       "    <tr style=\"text-align: right;\">\n",
       "      <th></th>\n",
       "      <th>internalModuleName</th>\n",
       "      <th>numberOfAllInternalElements</th>\n",
       "      <th>externalModuleCount</th>\n",
       "      <th>internalElementCount</th>\n",
       "      <th>internalElementsCallingExternalRate</th>\n",
       "    </tr>\n",
       "  </thead>\n",
       "  <tbody>\n",
       "    <tr>\n",
       "      <th>0</th>\n",
       "      <td>react-router-dom</td>\n",
       "      <td>35</td>\n",
       "      <td>1</td>\n",
       "      <td>24</td>\n",
       "      <td>68.571429</td>\n",
       "    </tr>\n",
       "    <tr>\n",
       "      <th>1</th>\n",
       "      <td>react-router-native</td>\n",
       "      <td>12</td>\n",
       "      <td>3</td>\n",
       "      <td>8</td>\n",
       "      <td>66.666667</td>\n",
       "    </tr>\n",
       "    <tr>\n",
       "      <th>2</th>\n",
       "      <td>server</td>\n",
       "      <td>6</td>\n",
       "      <td>1</td>\n",
       "      <td>3</td>\n",
       "      <td>50.000000</td>\n",
       "    </tr>\n",
       "    <tr>\n",
       "      <th>3</th>\n",
       "      <td>react-router</td>\n",
       "      <td>6</td>\n",
       "      <td>1</td>\n",
       "      <td>1</td>\n",
       "      <td>16.666667</td>\n",
       "    </tr>\n",
       "  </tbody>\n",
       "</table>\n",
       "</div>"
      ],
      "text/plain": [
       "    internalModuleName  numberOfAllInternalElements  externalModuleCount  \\\n",
       "0     react-router-dom                           35                    1   \n",
       "1  react-router-native                           12                    3   \n",
       "2               server                            6                    1   \n",
       "3         react-router                            6                    1   \n",
       "\n",
       "   internalElementCount  internalElementsCallingExternalRate  \n",
       "0                    24                            68.571429  \n",
       "1                     8                            66.666667  \n",
       "2                     3                            50.000000  \n",
       "3                     1                            16.666667  "
      ]
     },
     "execution_count": 37,
     "metadata": {},
     "output_type": "execute_result"
    }
   ],
   "source": [
    "external_package_usage_per_artifact_distribution = query_cypher_to_data_frame(\"../cypher/External_Dependencies/External_module_usage_per_internal_module_distribution_for_Typescript.cypher\")\n",
    "external_package_usage_per_artifact_distribution_truncated=external_package_usage_per_artifact_distribution[['internalModuleName', 'numberOfAllInternalElements', 'externalModuleCount', 'internalElementCount', 'internalElementsCallingExternalRate']].head(40)\n",
    "external_package_usage_per_artifact_distribution_truncated"
   ]
  },
  {
   "cell_type": "markdown",
   "id": "f90caf44",
   "metadata": {},
   "source": [
    "# TODO"
   ]
  },
  {
   "cell_type": "markdown",
   "id": "055e5a36",
   "metadata": {},
   "source": [
    "### Table 8 - External package usage aggregated\n",
    "\n",
    "This table lists all artifacts and their external package dependencies usage aggregated over internal packages. \n",
    "\n",
    "The intention behind this is to find artifacts that use an external dependency across multiple internal packages. This might be intended for frameworks and standardized libraries and helps to quantify how widely those are used. For some external dependencies it might be beneficial to only access it from one package and provide an abstraction for internal usage following a [Hexagonal architecture](https://alistair.cockburn.us/hexagonal-architecture). Thus, this table may also help in finding application for the Hexagonal architecture or similar approaches (Domain Driven Design Anti Corruption Layer). After all it is easier to update or replace such external dependencies when they are used in specific areas and not all over the code.\n",
    "\n",
    "Only the last 40 entries are shown. The whole table can be found in the following CSV report:\n",
    "`External_module_usage_per_internal_module_aggregated_for_Typescript`\n",
    "\n",
    "**Columns:**\n",
    "- *internalModuleName* that contains the type that calls the external package\n",
    "- *internalModuleElementsCount* is the total count of packages in the internal module\n",
    "- *numberOfExternalModules* the number of distinct external packages used\n",
    "- *[min,max,med,avg,std]NumberOfInternalModules* provide statistics based on each external package and its package usage within the internal module\n",
    "- *[min,max,med,avg,std]NumberOfInternalElements* provide statistics based on each external package and its type usage within the internal module\n",
    "- *[min,max,med,avg,std]NumberOfTypePercentage* provide statistics in % based on each external package and its type usage within the internal module in respect to the overall count of packages in the internal module\n",
    "- *numberOfinternalElements* in the internal module where the *numberOfExternalModules* applies\n",
    "- *numberOfTypesPercentage* in the internal module where the *numberOfExternalModules* applies in %"
   ]
  },
  {
   "cell_type": "markdown",
   "id": "7850d0a2",
   "metadata": {},
   "source": [
    "#### Table 8a - External module usage aggregated - count of internal modules"
   ]
  },
  {
   "cell_type": "code",
   "execution_count": 38,
   "id": "6d01860a",
   "metadata": {
    "execution": {
     "iopub.execute_input": "2024-08-20T18:20:57.134055Z",
     "iopub.status.busy": "2024-08-20T18:20:57.133702Z",
     "iopub.status.idle": "2024-08-20T18:20:57.177567Z",
     "shell.execute_reply": "2024-08-20T18:20:57.176998Z"
    }
   },
   "outputs": [
    {
     "data": {
      "text/html": [
       "<div>\n",
       "<style scoped>\n",
       "    .dataframe tbody tr th:only-of-type {\n",
       "        vertical-align: middle;\n",
       "    }\n",
       "\n",
       "    .dataframe tbody tr th {\n",
       "        vertical-align: top;\n",
       "    }\n",
       "\n",
       "    .dataframe thead th {\n",
       "        text-align: right;\n",
       "    }\n",
       "</style>\n",
       "<table border=\"1\" class=\"dataframe\">\n",
       "  <thead>\n",
       "    <tr style=\"text-align: right;\">\n",
       "      <th></th>\n",
       "      <th>internalModuleName</th>\n",
       "      <th>internalModuleElementsCount</th>\n",
       "      <th>numberOfExternalModules</th>\n",
       "      <th>minNumberOfInternalModules</th>\n",
       "      <th>medNumberOfInternalModules</th>\n",
       "      <th>avgNumberOfInternalModules</th>\n",
       "      <th>maxNumberOfInternalModules</th>\n",
       "      <th>stdNumberOfInternalModules</th>\n",
       "    </tr>\n",
       "  </thead>\n",
       "  <tbody>\n",
       "    <tr>\n",
       "      <th>0</th>\n",
       "      <td>react-router</td>\n",
       "      <td>6</td>\n",
       "      <td>1</td>\n",
       "      <td>1</td>\n",
       "      <td>1</td>\n",
       "      <td>1.0</td>\n",
       "      <td>1</td>\n",
       "      <td>0.0</td>\n",
       "    </tr>\n",
       "    <tr>\n",
       "      <th>1</th>\n",
       "      <td>react-router-dom</td>\n",
       "      <td>35</td>\n",
       "      <td>1</td>\n",
       "      <td>1</td>\n",
       "      <td>1</td>\n",
       "      <td>1.0</td>\n",
       "      <td>1</td>\n",
       "      <td>0.0</td>\n",
       "    </tr>\n",
       "    <tr>\n",
       "      <th>2</th>\n",
       "      <td>react-router-native</td>\n",
       "      <td>12</td>\n",
       "      <td>3</td>\n",
       "      <td>1</td>\n",
       "      <td>1</td>\n",
       "      <td>1.0</td>\n",
       "      <td>1</td>\n",
       "      <td>0.0</td>\n",
       "    </tr>\n",
       "    <tr>\n",
       "      <th>3</th>\n",
       "      <td>server</td>\n",
       "      <td>6</td>\n",
       "      <td>1</td>\n",
       "      <td>1</td>\n",
       "      <td>1</td>\n",
       "      <td>1.0</td>\n",
       "      <td>1</td>\n",
       "      <td>0.0</td>\n",
       "    </tr>\n",
       "  </tbody>\n",
       "</table>\n",
       "</div>"
      ],
      "text/plain": [
       "    internalModuleName  internalModuleElementsCount  numberOfExternalModules  \\\n",
       "0         react-router                            6                        1   \n",
       "1     react-router-dom                           35                        1   \n",
       "2  react-router-native                           12                        3   \n",
       "3               server                            6                        1   \n",
       "\n",
       "   minNumberOfInternalModules  medNumberOfInternalModules  \\\n",
       "0                           1                           1   \n",
       "1                           1                           1   \n",
       "2                           1                           1   \n",
       "3                           1                           1   \n",
       "\n",
       "   avgNumberOfInternalModules  maxNumberOfInternalModules  \\\n",
       "0                         1.0                           1   \n",
       "1                         1.0                           1   \n",
       "2                         1.0                           1   \n",
       "3                         1.0                           1   \n",
       "\n",
       "   stdNumberOfInternalModules  \n",
       "0                         0.0  \n",
       "1                         0.0  \n",
       "2                         0.0  \n",
       "3                         0.0  "
      ]
     },
     "execution_count": 38,
     "metadata": {},
     "output_type": "execute_result"
    }
   ],
   "source": [
    "external_package_usage_aggregated = query_cypher_to_data_frame(\"../cypher/External_Dependencies/External_module_usage_per_internal_module_aggregated_for_Typescript.cypher\")\n",
    "\n",
    "external_package_usage_aggregated_packages = external_package_usage_aggregated[['internalModuleName', 'internalModuleElementsCount', 'numberOfExternalModules', 'minNumberOfInternalModules', 'medNumberOfInternalModules', 'avgNumberOfInternalModules', 'maxNumberOfInternalModules', 'stdNumberOfInternalModules']]\n",
    "external_package_usage_aggregated_packages.head(30)"
   ]
  },
  {
   "cell_type": "markdown",
   "id": "8c476382",
   "metadata": {},
   "source": [
    "#### Table 8b - External module usage aggregated - count of internal elements"
   ]
  },
  {
   "cell_type": "code",
   "execution_count": 39,
   "id": "40392b95",
   "metadata": {
    "execution": {
     "iopub.execute_input": "2024-08-20T18:20:57.179915Z",
     "iopub.status.busy": "2024-08-20T18:20:57.179760Z",
     "iopub.status.idle": "2024-08-20T18:20:57.186619Z",
     "shell.execute_reply": "2024-08-20T18:20:57.186170Z"
    }
   },
   "outputs": [
    {
     "data": {
      "text/html": [
       "<div>\n",
       "<style scoped>\n",
       "    .dataframe tbody tr th:only-of-type {\n",
       "        vertical-align: middle;\n",
       "    }\n",
       "\n",
       "    .dataframe tbody tr th {\n",
       "        vertical-align: top;\n",
       "    }\n",
       "\n",
       "    .dataframe thead th {\n",
       "        text-align: right;\n",
       "    }\n",
       "</style>\n",
       "<table border=\"1\" class=\"dataframe\">\n",
       "  <thead>\n",
       "    <tr style=\"text-align: right;\">\n",
       "      <th></th>\n",
       "      <th>internalModuleName</th>\n",
       "      <th>internalModuleElementsCount</th>\n",
       "      <th>numberOfExternalModules</th>\n",
       "      <th>minNumberOfInternalElements</th>\n",
       "      <th>medNumberOfInternalElements</th>\n",
       "      <th>avgNumberOfInternalElements</th>\n",
       "      <th>maxNumberOfInternalElements</th>\n",
       "      <th>stdNumberOfInternalElements</th>\n",
       "    </tr>\n",
       "  </thead>\n",
       "  <tbody>\n",
       "    <tr>\n",
       "      <th>0</th>\n",
       "      <td>react-router</td>\n",
       "      <td>6</td>\n",
       "      <td>1</td>\n",
       "      <td>1</td>\n",
       "      <td>1</td>\n",
       "      <td>1.0</td>\n",
       "      <td>1</td>\n",
       "      <td>0.000000</td>\n",
       "    </tr>\n",
       "    <tr>\n",
       "      <th>1</th>\n",
       "      <td>react-router-dom</td>\n",
       "      <td>35</td>\n",
       "      <td>1</td>\n",
       "      <td>24</td>\n",
       "      <td>24</td>\n",
       "      <td>24.0</td>\n",
       "      <td>24</td>\n",
       "      <td>0.000000</td>\n",
       "    </tr>\n",
       "    <tr>\n",
       "      <th>2</th>\n",
       "      <td>react-router-native</td>\n",
       "      <td>12</td>\n",
       "      <td>3</td>\n",
       "      <td>1</td>\n",
       "      <td>5</td>\n",
       "      <td>4.0</td>\n",
       "      <td>6</td>\n",
       "      <td>2.645751</td>\n",
       "    </tr>\n",
       "    <tr>\n",
       "      <th>3</th>\n",
       "      <td>server</td>\n",
       "      <td>6</td>\n",
       "      <td>1</td>\n",
       "      <td>3</td>\n",
       "      <td>3</td>\n",
       "      <td>3.0</td>\n",
       "      <td>3</td>\n",
       "      <td>0.000000</td>\n",
       "    </tr>\n",
       "  </tbody>\n",
       "</table>\n",
       "</div>"
      ],
      "text/plain": [
       "    internalModuleName  internalModuleElementsCount  numberOfExternalModules  \\\n",
       "0         react-router                            6                        1   \n",
       "1     react-router-dom                           35                        1   \n",
       "2  react-router-native                           12                        3   \n",
       "3               server                            6                        1   \n",
       "\n",
       "   minNumberOfInternalElements  medNumberOfInternalElements  \\\n",
       "0                            1                            1   \n",
       "1                           24                           24   \n",
       "2                            1                            5   \n",
       "3                            3                            3   \n",
       "\n",
       "   avgNumberOfInternalElements  maxNumberOfInternalElements  \\\n",
       "0                          1.0                            1   \n",
       "1                         24.0                           24   \n",
       "2                          4.0                            6   \n",
       "3                          3.0                            3   \n",
       "\n",
       "   stdNumberOfInternalElements  \n",
       "0                     0.000000  \n",
       "1                     0.000000  \n",
       "2                     2.645751  \n",
       "3                     0.000000  "
      ]
     },
     "execution_count": 39,
     "metadata": {},
     "output_type": "execute_result"
    }
   ],
   "source": [
    "external_package_usage_aggregated_types = external_package_usage_aggregated[['internalModuleName', 'internalModuleElementsCount', 'numberOfExternalModules', 'minNumberOfInternalElements', 'medNumberOfInternalElements', 'avgNumberOfInternalElements', 'maxNumberOfInternalElements', 'stdNumberOfInternalElements']]\n",
    "external_package_usage_aggregated_types.head(30)"
   ]
  },
  {
   "cell_type": "markdown",
   "id": "0eac5b93",
   "metadata": {},
   "source": [
    "#### Table 8c - External module usage aggregated - percentage of internal elements"
   ]
  },
  {
   "cell_type": "code",
   "execution_count": 40,
   "id": "260cc520",
   "metadata": {
    "execution": {
     "iopub.execute_input": "2024-08-20T18:20:57.189148Z",
     "iopub.status.busy": "2024-08-20T18:20:57.188719Z",
     "iopub.status.idle": "2024-08-20T18:20:57.196157Z",
     "shell.execute_reply": "2024-08-20T18:20:57.195686Z"
    }
   },
   "outputs": [
    {
     "data": {
      "text/html": [
       "<div>\n",
       "<style scoped>\n",
       "    .dataframe tbody tr th:only-of-type {\n",
       "        vertical-align: middle;\n",
       "    }\n",
       "\n",
       "    .dataframe tbody tr th {\n",
       "        vertical-align: top;\n",
       "    }\n",
       "\n",
       "    .dataframe thead th {\n",
       "        text-align: right;\n",
       "    }\n",
       "</style>\n",
       "<table border=\"1\" class=\"dataframe\">\n",
       "  <thead>\n",
       "    <tr style=\"text-align: right;\">\n",
       "      <th></th>\n",
       "      <th>internalModuleName</th>\n",
       "      <th>internalModuleElementsCount</th>\n",
       "      <th>numberOfExternalModules</th>\n",
       "      <th>minNumberOfInternalElementsPercentage</th>\n",
       "      <th>medNumberOfInternalElementsPercentage</th>\n",
       "      <th>avgNumberOfInternalElementsPercentage</th>\n",
       "      <th>maxNumberOfInternalElementsPercentage</th>\n",
       "      <th>stdNumberOfInternalElementsPercentage</th>\n",
       "    </tr>\n",
       "  </thead>\n",
       "  <tbody>\n",
       "    <tr>\n",
       "      <th>0</th>\n",
       "      <td>react-router</td>\n",
       "      <td>6</td>\n",
       "      <td>1</td>\n",
       "      <td>16.666667</td>\n",
       "      <td>16.666667</td>\n",
       "      <td>16.666667</td>\n",
       "      <td>16.666667</td>\n",
       "      <td>0.000000</td>\n",
       "    </tr>\n",
       "    <tr>\n",
       "      <th>1</th>\n",
       "      <td>react-router-dom</td>\n",
       "      <td>35</td>\n",
       "      <td>1</td>\n",
       "      <td>68.571429</td>\n",
       "      <td>68.571429</td>\n",
       "      <td>68.571429</td>\n",
       "      <td>68.571429</td>\n",
       "      <td>0.000000</td>\n",
       "    </tr>\n",
       "    <tr>\n",
       "      <th>2</th>\n",
       "      <td>react-router-native</td>\n",
       "      <td>12</td>\n",
       "      <td>3</td>\n",
       "      <td>8.333333</td>\n",
       "      <td>41.666667</td>\n",
       "      <td>33.333333</td>\n",
       "      <td>50.000000</td>\n",
       "      <td>22.047928</td>\n",
       "    </tr>\n",
       "    <tr>\n",
       "      <th>3</th>\n",
       "      <td>server</td>\n",
       "      <td>6</td>\n",
       "      <td>1</td>\n",
       "      <td>50.000000</td>\n",
       "      <td>50.000000</td>\n",
       "      <td>50.000000</td>\n",
       "      <td>50.000000</td>\n",
       "      <td>0.000000</td>\n",
       "    </tr>\n",
       "  </tbody>\n",
       "</table>\n",
       "</div>"
      ],
      "text/plain": [
       "    internalModuleName  internalModuleElementsCount  numberOfExternalModules  \\\n",
       "0         react-router                            6                        1   \n",
       "1     react-router-dom                           35                        1   \n",
       "2  react-router-native                           12                        3   \n",
       "3               server                            6                        1   \n",
       "\n",
       "   minNumberOfInternalElementsPercentage  \\\n",
       "0                              16.666667   \n",
       "1                              68.571429   \n",
       "2                               8.333333   \n",
       "3                              50.000000   \n",
       "\n",
       "   medNumberOfInternalElementsPercentage  \\\n",
       "0                              16.666667   \n",
       "1                              68.571429   \n",
       "2                              41.666667   \n",
       "3                              50.000000   \n",
       "\n",
       "   avgNumberOfInternalElementsPercentage  \\\n",
       "0                              16.666667   \n",
       "1                              68.571429   \n",
       "2                              33.333333   \n",
       "3                              50.000000   \n",
       "\n",
       "   maxNumberOfInternalElementsPercentage  \\\n",
       "0                              16.666667   \n",
       "1                              68.571429   \n",
       "2                              50.000000   \n",
       "3                              50.000000   \n",
       "\n",
       "   stdNumberOfInternalElementsPercentage  \n",
       "0                               0.000000  \n",
       "1                               0.000000  \n",
       "2                              22.047928  \n",
       "3                               0.000000  "
      ]
     },
     "execution_count": 40,
     "metadata": {},
     "output_type": "execute_result"
    }
   ],
   "source": [
    "external_package_usage_aggregated_types_percentage = external_package_usage_aggregated[['internalModuleName', 'internalModuleElementsCount', 'numberOfExternalModules', 'minNumberOfInternalElementsPercentage', 'medNumberOfInternalElementsPercentage', 'avgNumberOfInternalElementsPercentage', 'maxNumberOfInternalElementsPercentage', 'stdNumberOfInternalElementsPercentage']]\n",
    "external_package_usage_aggregated_types_percentage.head(30)"
   ]
  },
  {
   "cell_type": "markdown",
   "id": "d1a16e29",
   "metadata": {},
   "source": [
    "#### Table 8 Chart 1 - External module usage - max percentage of internal types\n",
    "\n",
    "This chart shows per internal module the maximum percentage of internal packages (compared to all packages in that internal module) that use one specific external package. \n",
    "\n",
    "**Example:** One internal module might use 10 external packages where 7 of them are used in one internal package, 2 of them are used in two packages and one external dependency is used in 5 packages. So for this internal module there will be a point at x = 10 (external packages used by the internal module) and 5 (max internal packages). Instead of the count the percentage of internal packages compared to all packages in that internal module is used to get a normalized plot."
   ]
  },
  {
   "cell_type": "code",
   "execution_count": 41,
   "id": "ad1db8af",
   "metadata": {
    "execution": {
     "iopub.execute_input": "2024-08-20T18:20:57.198598Z",
     "iopub.status.busy": "2024-08-20T18:20:57.198118Z",
     "iopub.status.idle": "2024-08-20T18:20:57.204411Z",
     "shell.execute_reply": "2024-08-20T18:20:57.203956Z"
    }
   },
   "outputs": [],
   "source": [
    "def annotate_plot(data_frame: pd.DataFrame, index: int):\n",
    "    \"\"\"\n",
    "    Annotates the data points identified by the \"index\" in the plot of the \"data_frame\" \n",
    "    \"\"\"\n",
    "    x_position = data_frame.numberOfExternalModules[index].item()\n",
    "    y_position = data_frame.maxNumberOfInternalElementsPercentage[index].item()\n",
    "    artifact_name = data_frame.internalModuleName[index].item()\n",
    "\n",
    "    label_box=dict(boxstyle=\"round4,pad=0.5\", fc=\"w\", alpha=0.8)\n",
    "    plot.annotate(artifact_name\n",
    "        ,xy=(x_position, y_position)\n",
    "        ,xycoords='data'\n",
    "        ,xytext=(-30, -15)\n",
    "        ,textcoords='offset points'\n",
    "        ,size=6\n",
    "        ,bbox=label_box\n",
    "        ,arrowprops=dict(arrowstyle=\"-|>\", mutation_scale=10, color=\"black\")\n",
    "    )\n",
    "\n",
    "def index_of_sorted(data_frame: pd.DataFrame, highest: list[str] = []):\n",
    "    \"\"\"\n",
    "    Sorts the \"data_frame\" by columns 'numberOfExternalModules','maxNumberOfInternalElementsPercentage','internalModuleElementsCount', 'internalModuleName'\n",
    "    and returns the index of the first row.\n",
    "    Columns that are contained in the list of strings parameter \"highest\" will be sorted descending (highest first).\n",
    "    \"\"\"\n",
    "    by = ['numberOfExternalModules','maxNumberOfInternalElementsPercentage','internalModuleElementsCount', 'internalModuleName']\n",
    "    ascending = [('numberOfExternalModules' not in highest), ('maxNumberOfInternalElementsPercentage' not in highest), False, True]\n",
    "    return data_frame.sort_values(by=by, ascending=ascending).head(1).index"
   ]
  },
  {
   "cell_type": "code",
   "execution_count": 42,
   "id": "615238d5",
   "metadata": {
    "execution": {
     "iopub.execute_input": "2024-08-20T18:20:57.206591Z",
     "iopub.status.busy": "2024-08-20T18:20:57.206194Z",
     "iopub.status.idle": "2024-08-20T18:20:57.445240Z",
     "shell.execute_reply": "2024-08-20T18:20:57.444756Z"
    }
   },
   "outputs": [
    {
     "data": {
      "text/plain": [
       "<Figure size 640x480 with 0 Axes>"
      ]
     },
     "metadata": {},
     "output_type": "display_data"
    },
    {
     "data": {
      "image/png": "[encoded data removed]",
      "text/plain": [
       "<Figure size 640x480 with 2 Axes>"
      ]
     },
     "metadata": {},
     "output_type": "display_data"
    }
   ],
   "source": [
    "if external_package_usage_aggregated.empty:\n",
    "    print(\"No data to plot\")\n",
    "else:\n",
    "    plot.figure();\n",
    "    axes = external_package_usage_aggregated.plot(\n",
    "        kind='scatter',\n",
    "        title='External package usage - max internal packages %', \n",
    "        x='numberOfExternalModules',\n",
    "        y='maxNumberOfInternalElementsPercentage',\n",
    "        s='internalModuleElementsCount',\n",
    "        c='stdNumberOfInternalElementsPercentage',\n",
    "        xlabel='external module count',\n",
    "        ylabel='max percentage of internal elements',\n",
    "        cmap=main_color_map,\n",
    "    )\n",
    "\n",
    "    # Annotate the largest internal module with the highest number of external packages and max number of packages in percentage\n",
    "    annotation_index = index_of_sorted(highest=['numberOfExternalModules','maxNumberOfInternalElementsPercentage'], data_frame=external_package_usage_aggregated)\n",
    "    annotate_plot(external_package_usage_aggregated, annotation_index)\n",
    "\n",
    "\n",
    "    # Annotate the largest internal module with the lowest number of external packages and the highest max number of packages in percentage\n",
    "    annotation_index = index_of_sorted(highest=['maxNumberOfInternalElementsPercentage'], data_frame=external_package_usage_aggregated)\n",
    "    annotate_plot(external_package_usage_aggregated, annotation_index)\n",
    "\n",
    "    # Annotate the largest internal module with the lowest number of external packages and max number of packages in percentage\n",
    "    annotation_index = index_of_sorted(highest=[], data_frame=external_package_usage_aggregated)\n",
    "    annotate_plot(external_package_usage_aggregated, annotation_index)\n",
    "\n",
    "    plot.show()"
   ]
  },
  {
   "cell_type": "markdown",
   "id": "9b7cff51",
   "metadata": {},
   "source": [
    "#### Table 8 Chart 2 - External package usage - median percentage of internal types\n",
    "\n",
    "This chart shows per internal module the median (0.5 percentile) of internal packages (compared to all packages in that internal module) that use one specific external package. \n",
    "\n",
    "**Example:** One internal module might use 9 external packages where 3 of them are used in 1 internal package, 3 of them are used in 2 package and the last 3 ones are used in 3 packages. So for this internal module there will be a point at x = 10 (external packages used by the internal module) and 2 (median internal packages). Instead of the count the percentage of internal packages compared to all packages in that internal module is used to get a normalized plot."
   ]
  },
  {
   "cell_type": "code",
   "execution_count": 43,
   "id": "34d2595f",
   "metadata": {
    "execution": {
     "iopub.execute_input": "2024-08-20T18:20:57.447422Z",
     "iopub.status.busy": "2024-08-20T18:20:57.447111Z",
     "iopub.status.idle": "2024-08-20T18:20:57.597955Z",
     "shell.execute_reply": "2024-08-20T18:20:57.597498Z"
    }
   },
   "outputs": [
    {
     "data": {
      "text/plain": [
       "<Figure size 640x480 with 0 Axes>"
      ]
     },
     "metadata": {},
     "output_type": "display_data"
    },
    {
     "data": {
      "image/png": "[encoded data removed]",
      "text/plain": [
       "<Figure size 640x480 with 2 Axes>"
      ]
     },
     "metadata": {},
     "output_type": "display_data"
    }
   ],
   "source": [
    "if external_package_usage_aggregated.empty:\n",
    "    print(\"No data to plot\")\n",
    "else:\n",
    "    plot.figure();\n",
    "    axes = external_package_usage_aggregated.plot(\n",
    "        kind='scatter',\n",
    "        title='External package usage - median internal packages %', \n",
    "        x='numberOfExternalModules',\n",
    "        y='medNumberOfInternalElementsPercentage',\n",
    "        s='internalModuleElementsCount',\n",
    "        c='stdNumberOfInternalElementsPercentage',\n",
    "        xlabel='external module count',\n",
    "        ylabel='median percentage of internal elements',\n",
    "        cmap=main_color_map,\n",
    "    )\n",
    "    plot.show()"
   ]
  },
  {
   "cell_type": "code",
   "execution_count": 44,
   "id": "46baa3c1",
   "metadata": {
    "execution": {
     "iopub.execute_input": "2024-08-20T18:20:57.600178Z",
     "iopub.status.busy": "2024-08-20T18:20:57.599830Z",
     "iopub.status.idle": "2024-08-20T18:20:57.602452Z",
     "shell.execute_reply": "2024-08-20T18:20:57.602013Z"
    }
   },
   "outputs": [],
   "source": [
    "driver.close()"
   ]
  }
 ],
 "metadata": {
  "authors": [
   {
    "name": "JohT"
   }
  ],
  "celltoolbar": "Tags",
  "code_graph_analysis_pipeline_data_validation": "ValidateTypescriptModuleDependencies",
  "kernelspec": {
   "display_name": "Python 3 (ipykernel)",
   "language": "python",
   "name": "python3"
  },
  "language_info": {
   "codemirror_mode": {
    "name": "ipython",
    "version": 3
   },
   "file_extension": ".py",
   "mimetype": "text/x-python",
   "name": "python",
   "nbconvert_exporter": "python",
   "pygments_lexer": "ipython3",
   "version": "3.11.0"
  },
  "title": "Object Oriented Design Quality Metrics for Java with Neo4j"
 },
 "nbformat": 4,
 "nbformat_minor": 5
}
