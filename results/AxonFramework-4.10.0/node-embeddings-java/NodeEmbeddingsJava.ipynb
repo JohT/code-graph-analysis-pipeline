{
 "cells": [
  {
   "attachments": {},
   "cell_type": "markdown",
   "id": "2f0eabc4",
   "metadata": {},
   "source": [
    "# Node Embeddings\n",
    "\n",
    "This notebook demonstrates different methods for node embeddings and how to further reduce their dimensionality to be able to visualize them in a 2D plot. \n",
    "\n",
    "Node embeddings are essentially an array of floating point numbers (length = embedding dimension) that can be used as \"features\" in machine learning. These numbers approximate the relationship and similarity information of each node and can also be seen as a way to encode the topology of the graph.\n",
    "\n",
    "## Considerations\n",
    "\n",
    "Due to dimensionality reduction some information gets lost, especially when visualizing node embeddings in two dimensions. Nevertheless, it helps to get an intuition on what node embeddings are and how much of the similarity and neighborhood information is retained. The latter can be observed by how well nodes of the same color and therefore same community are placed together and how much bigger nodes with a high centrality score influence them. \n",
    "\n",
    "If the visualization doesn't show a somehow clear separation between the communities (colors) here are some ideas for tuning: \n",
    "- Clean the data, e.g. filter out very few nodes with extremely high degree that aren't actually that important\n",
    "- Try directed vs. undirected projections\n",
    "- Tune the embedding algorithm, e.g. use a higher dimensionality\n",
    "- Tune t-SNE that is used to reduce the node embeddings dimension to two dimensions for visualization. \n",
    "\n",
    "It could also be the case that the node embeddings are good enough and well suited the way they are despite their visualization for the down stream task like node classification or link prediction. In that case it makes sense to see how the whole pipeline performs before tuning the node embeddings in detail. \n",
    "\n",
    "## Note about data dependencies\n",
    "\n",
    "PageRank centrality and Leiden community are also fetched from the Graph and need to be calculated first.\n",
    "This makes it easier to see if the embeddings approximate the structural information of the graph in the plot.\n",
    "If these properties are missing you will only see black dots all of the same size.\n",
    "\n",
    "<br>  \n",
    "\n",
    "### References\n",
    "- [jqassistant](https://jqassistant.org)\n",
    "- [Neo4j Python Driver](https://neo4j.com/docs/api/python-driver/current)\n",
    "- [Tutorial: Applied Graph Embeddings](https://neo4j.com/developer/graph-data-science/applied-graph-embeddings)\n",
    "- [Visualizing the embeddings in 2D](https://github.com/openai/openai-cookbook/blob/main/examples/Visualizing_embeddings_in_2D.ipynb)\n",
    "- [scikit-learn TSNE](https://scikit-learn.org/stable/modules/generated/sklearn.manifold.TSNE.html#sklearn.manifold.TSNE)\n",
    "- [AttributeError: 'list' object has no attribute 'shape'](https://bobbyhadz.com/blog/python-attributeerror-list-object-has-no-attribute-shape)\n",
    "- [Fast Random Projection (neo4j)](https://neo4j.com/docs/graph-data-science/current/machine-learning/node-embeddings/fastrp)\n",
    "- [HashGNN (neo4j)](https://neo4j.com/docs/graph-data-science/2.6/machine-learning/node-embeddings/hashgnn)\n",
    "- [node2vec (neo4j)](https://neo4j.com/docs/graph-data-science/current/machine-learning/node-embeddings/node2vec) computes a vector representation of a node based on second order random walks in the graph. \n",
    "- [Complete guide to understanding Node2Vec algorithm](https://towardsdatascience.com/complete-guide-to-understanding-node2vec-algorithm-4e9a35e5d147)"
   ]
  },
  {
   "cell_type": "code",
   "execution_count": 1,
   "id": "4191f259",
   "metadata": {
    "execution": {
     "iopub.execute_input": "2024-09-30T06:40:14.145295Z",
     "iopub.status.busy": "2024-09-30T06:40:14.145104Z",
     "iopub.status.idle": "2024-09-30T06:40:15.040317Z",
     "shell.execute_reply": "2024-09-30T06:40:15.039043Z"
    }
   },
   "outputs": [],
   "source": [
    "import os\n",
    "from IPython.display import display\n",
    "import pandas as pd\n",
    "import matplotlib.pyplot as plot\n",
    "import typing as typ\n",
    "import numpy as np\n",
    "from openTSNE.sklearn import TSNE\n",
    "from neo4j import GraphDatabase"
   ]
  },
  {
   "cell_type": "code",
   "execution_count": 2,
   "id": "f8ef41ff",
   "metadata": {
    "execution": {
     "iopub.execute_input": "2024-09-30T06:40:15.043325Z",
     "iopub.status.busy": "2024-09-30T06:40:15.042857Z",
     "iopub.status.idle": "2024-09-30T06:40:15.046220Z",
     "shell.execute_reply": "2024-09-30T06:40:15.045706Z"
    }
   },
   "outputs": [
    {
     "name": "stdout",
     "output_type": "stream",
     "text": [
      "The openTSNE version is: 1.0.1\n",
      "The pandas version is: 1.5.1\n"
     ]
    }
   ],
   "source": [
    "from openTSNE import __version__ as openTSNE_version\n",
    "print('The openTSNE version is: {}'.format(openTSNE_version))\n",
    "print('The pandas version is: {}'.format(pd.__version__))\n"
   ]
  },
  {
   "cell_type": "code",
   "execution_count": 3,
   "id": "1c5dab37",
   "metadata": {
    "execution": {
     "iopub.execute_input": "2024-09-30T06:40:15.048059Z",
     "iopub.status.busy": "2024-09-30T06:40:15.047905Z",
     "iopub.status.idle": "2024-09-30T06:40:15.055067Z",
     "shell.execute_reply": "2024-09-30T06:40:15.054674Z"
    }
   },
   "outputs": [],
   "source": [
    "# Please set the environment variable \"NEO4J_INITIAL_PASSWORD\" in your shell \n",
    "# before starting jupyter notebook to provide the password for the user \"neo4j\". \n",
    "# It is not recommended to hardcode the password into jupyter notebook for security reasons.\n",
    "\n",
    "driver = GraphDatabase.driver(uri=\"bolt://localhost:7687\", auth=(\"neo4j\", os.environ.get(\"NEO4J_INITIAL_PASSWORD\")))\n",
    "driver.verify_connectivity()"
   ]
  },
  {
   "cell_type": "code",
   "execution_count": 4,
   "id": "c1db254b",
   "metadata": {
    "execution": {
     "iopub.execute_input": "2024-09-30T06:40:15.057344Z",
     "iopub.status.busy": "2024-09-30T06:40:15.056956Z",
     "iopub.status.idle": "2024-09-30T06:40:15.059837Z",
     "shell.execute_reply": "2024-09-30T06:40:15.059447Z"
    }
   },
   "outputs": [],
   "source": [
    "def get_cypher_query_from_file(filename):\n",
    "    with open(filename) as file:\n",
    "        return ' '.join(file.readlines())"
   ]
  },
  {
   "cell_type": "code",
   "execution_count": 5,
   "id": "59310f6f",
   "metadata": {
    "execution": {
     "iopub.execute_input": "2024-09-30T06:40:15.061892Z",
     "iopub.status.busy": "2024-09-30T06:40:15.061539Z",
     "iopub.status.idle": "2024-09-30T06:40:15.064656Z",
     "shell.execute_reply": "2024-09-30T06:40:15.064223Z"
    }
   },
   "outputs": [],
   "source": [
    "def query_cypher_to_data_frame(filename, parameters_: typ.Optional[typ.Dict[str, typ.Any]] = None):\n",
    "    records, summary, keys = driver.execute_query(get_cypher_query_from_file(filename),parameters_=parameters_)\n",
    "    return pd.DataFrame([r.values() for r in records], columns=keys)"
   ]
  },
  {
   "cell_type": "code",
   "execution_count": 6,
   "id": "bd1d9775",
   "metadata": {
    "execution": {
     "iopub.execute_input": "2024-09-30T06:40:15.066612Z",
     "iopub.status.busy": "2024-09-30T06:40:15.066455Z",
     "iopub.status.idle": "2024-09-30T06:40:15.069784Z",
     "shell.execute_reply": "2024-09-30T06:40:15.069355Z"
    }
   },
   "outputs": [],
   "source": [
    "def query_first_non_empty_cypher_to_data_frame(*filenames : str, parameters: typ.Optional[typ.Dict[str, typ.Any]] = None):\n",
    "    \"\"\"\n",
    "    Executes the Cypher queries of the given files and returns the first result that is not empty.\n",
    "    If all given file names result in empty results, the last (empty) result will be returned.\n",
    "    By additionally specifying \"limit=\" the \"LIMIT\" keyword will appended to query so that only the first results get returned.\n",
    "    \"\"\"\n",
    "    result=pd.DataFrame()\n",
    "    for filename in filenames:\n",
    "        result=query_cypher_to_data_frame(filename, parameters)\n",
    "        if not result.empty:\n",
    "            print(\"The results have been provided by the query filename: \" + filename)\n",
    "            return result\n",
    "    return result"
   ]
  },
  {
   "cell_type": "code",
   "execution_count": 7,
   "id": "7d2e62d6",
   "metadata": {
    "execution": {
     "iopub.execute_input": "2024-09-30T06:40:15.071742Z",
     "iopub.status.busy": "2024-09-30T06:40:15.071454Z",
     "iopub.status.idle": "2024-09-30T06:40:15.074714Z",
     "shell.execute_reply": "2024-09-30T06:40:15.074250Z"
    }
   },
   "outputs": [],
   "source": [
    "# TODO option to choose between directed and undirected projection\n",
    "\n",
    "def create_undirected_projection(parameters: dict) -> bool: \n",
    "    \"\"\"\n",
    "    Creates an undirected homogenous in-memory Graph projection for/with Neo4j Graph Data Science Plugin.\n",
    "    It returns True if there is data available for the given parameter and False otherwise.\n",
    "    Parameters\n",
    "    ----------\n",
    "    dependencies_projection : str\n",
    "        The name prefix for the in-memory projection for dependencies. Example: \"java-package-embeddings-notebook\"\n",
    "    dependencies_projection_node : str\n",
    "        The label of the nodes that will be used for the projection. Example: \"Package\"\n",
    "    dependencies_projection_weight_property : str\n",
    "        The name of the node property that contains the dependency weight. Example: \"weight25PercentInterfaces\"\n",
    "    dependencies_projection_embedding_dimension : str\n",
    "        The number of the dimensions and therefore size of the resulting array of floating point numbers\n",
    "    \"\"\"\n",
    "    \n",
    "    is_data_missing=query_cypher_to_data_frame(\"../cypher/Dependencies_Projection/Dependencies_0_Check_Projectable.cypher\", parameters).empty\n",
    "    if is_data_missing: return False\n",
    "\n",
    "    query_cypher_to_data_frame(\"../cypher/Dependencies_Projection/Dependencies_1_Delete_Projection.cypher\", parameters)\n",
    "    query_cypher_to_data_frame(\"../cypher/Dependencies_Projection/Dependencies_2_Delete_Subgraph.cypher\", parameters)\n",
    "    # To include the direction of the relationships use the following line to create the projection:\n",
    "    # query_cypher_to_data_frame(\"../cypher/Dependencies_Projection/Dependencies_3_Create_Projection.cypher\", parameters)\n",
    "    query_cypher_to_data_frame(\"../cypher/Dependencies_Projection/Dependencies_4_Create_Undirected_Projection.cypher\", parameters)\n",
    "    query_cypher_to_data_frame(\"../cypher/Dependencies_Projection/Dependencies_5_Create_Subgraph.cypher\", parameters)\n",
    "    return True"
   ]
  },
  {
   "cell_type": "code",
   "execution_count": 8,
   "id": "1aa86093",
   "metadata": {
    "execution": {
     "iopub.execute_input": "2024-09-30T06:40:15.076672Z",
     "iopub.status.busy": "2024-09-30T06:40:15.076351Z",
     "iopub.status.idle": "2024-09-30T06:40:15.080110Z",
     "shell.execute_reply": "2024-09-30T06:40:15.079632Z"
    }
   },
   "outputs": [],
   "source": [
    "# Feature ideas\n",
    "# TODO option to choose between directed and undirected projection\n",
    "# TODO option to not read already existing node embeddings to experiment with different (hpyer) parameters\n",
    "# TODO run a community detection algorithm co-located in here when \"communityId\" is missing\n",
    "# TODO run a centrality algorithm co-located in here when \"centrality\" score is missing\n",
    "\n",
    "def create_node_embeddings(cypher_file_name: str, parameters: dict) -> pd.DataFrame: \n",
    "    \"\"\"\n",
    "    Creates an in-memory Graph projection by calling \"create_undirected_projection\", \n",
    "    runs the cypher Query given as cypherFileName parameter to calculate and stream the node embeddings\n",
    "    and returns a DataFrame with the results.\n",
    "    \n",
    "    cypher_file_name\n",
    "    ----------\n",
    "    Name of the file containing the Cypher query that executes node embeddings procedure.\n",
    "\n",
    "    parameters\n",
    "    ----------\n",
    "    dependencies_projection : str\n",
    "        The name prefix for the in-memory projection for dependencies. Example: \"java-package-embeddings-notebook\"\n",
    "    dependencies_projection_node : str\n",
    "        The label of the nodes that will be used for the projection. Example: \"Package\"\n",
    "    dependencies_projection_weight_property : str\n",
    "        The name of the node property that contains the dependency weight. Example: \"weight25PercentInterfaces\"\n",
    "    dependencies_projection_embedding_dimension : str\n",
    "        The number of the dimensions and therefore size of the resulting array of floating point numbers\n",
    "    \"\"\"\n",
    "    \n",
    "    is_data_available=create_undirected_projection(parameters)\n",
    "    \n",
    "    if not is_data_available:\n",
    "        print(\"No projected data for node embeddings calculation available\")\n",
    "        empty_result = pd.DataFrame(columns=[\"codeUnitName\", 'projectName', 'communityId', 'centrality', 'embedding'])\n",
    "        return empty_result\n",
    "\n",
    "    existing_embeddings_query_filename=\"../cypher/Node_Embeddings/Node_Embeddings_0a_Query_Calculated.cypher\"\n",
    "    embeddings = query_first_non_empty_cypher_to_data_frame(existing_embeddings_query_filename, cypher_file_name, parameters=parameters)\n",
    "    display(embeddings.head()) # Display the first entries of the table\n",
    "    return embeddings"
   ]
  },
  {
   "cell_type": "markdown",
   "id": "f6ec6a9b",
   "metadata": {},
   "source": [
    "### Dimensionality reduction with t-distributed stochastic neighbor embedding (t-SNE)\n",
    "\n",
    "The following function takes the original node embeddings with a higher dimensionality, e.g. 64 floating point numbers, and reduces them into a two dimensional array for visualization. \n",
    "\n",
    "> It converts similarities between data points to joint probabilities and tries to minimize the Kullback-Leibler divergence between the joint probabilities of the low-dimensional embedding and the high-dimensional data.\n",
    "\n",
    "(see https://opentsne.readthedocs.io)"
   ]
  },
  {
   "cell_type": "code",
   "execution_count": 9,
   "id": "720aebd3",
   "metadata": {
    "execution": {
     "iopub.execute_input": "2024-09-30T06:40:15.081966Z",
     "iopub.status.busy": "2024-09-30T06:40:15.081818Z",
     "iopub.status.idle": "2024-09-30T06:40:15.086105Z",
     "shell.execute_reply": "2024-09-30T06:40:15.085639Z"
    }
   },
   "outputs": [],
   "source": [
    "def prepare_node_embeddings_for_2d_visualization(embeddings: pd.DataFrame) -> pd.DataFrame:\n",
    "    \"\"\"\n",
    "    Reduces the dimensionality of the node embeddings (e.g. 64 floating point numbers in an array)\n",
    "    to two dimensions for 2D visualization.\n",
    "    see https://opentsne.readthedocs.io\n",
    "    \"\"\"\n",
    "\n",
    "    if embeddings.empty: \n",
    "        print(\"No projected data for node embeddings dimensionality reduction available\")\n",
    "        return embeddings\n",
    "    \n",
    "    # Calling the fit_transform method just with a list doesn't seem to work (anymore?). \n",
    "    # It leads to an error with the following message: 'list' object has no attribute 'shape'\n",
    "    # This can be solved by converting the list to a numpy array using np.array(..).\n",
    "    # See https://bobbyhadz.com/blog/python-attributeerror-list-object-has-no-attribute-shape\n",
    "    embeddings_as_numpy_array = np.array(embeddings.embedding.to_list())\n",
    "\n",
    "    # Use t-distributed stochastic neighbor embedding (t-SNE) to reduce the dimensionality \n",
    "    # of the previously calculated node embeddings to 2 dimensions for visualization\n",
    "    t_distributed_stochastic_neighbor_embedding = TSNE(n_components=2, verbose=1, random_state=47)\n",
    "    two_dimension_node_embeddings = t_distributed_stochastic_neighbor_embedding.fit_transform(embeddings_as_numpy_array)\n",
    "    display(two_dimension_node_embeddings.shape) # Display the shape of the t-SNE result\n",
    "\n",
    "    # Create a new DataFrame with the results of the 2 dimensional node embeddings\n",
    "    # and the code unit and artifact name of the query above as preparation for the plot\n",
    "    node_embeddings_for_visualization = pd.DataFrame(data = {\n",
    "        \"codeUnit\": embeddings.codeUnitName,\n",
    "        \"artifact\": embeddings.projectName,\n",
    "        \"communityId\": embeddings.communityId,\n",
    "        \"centrality\": embeddings.centrality,\n",
    "        \"x\": [value[0] for value in two_dimension_node_embeddings],\n",
    "        \"y\": [value[1] for value in two_dimension_node_embeddings]\n",
    "    })\n",
    "    display(node_embeddings_for_visualization.head()) # Display the first line of the results\n",
    "    return node_embeddings_for_visualization\n",
    "    "
   ]
  },
  {
   "cell_type": "code",
   "execution_count": 10,
   "id": "d937e26e",
   "metadata": {
    "execution": {
     "iopub.execute_input": "2024-09-30T06:40:15.087833Z",
     "iopub.status.busy": "2024-09-30T06:40:15.087684Z",
     "iopub.status.idle": "2024-09-30T06:40:15.090705Z",
     "shell.execute_reply": "2024-09-30T06:40:15.090290Z"
    }
   },
   "outputs": [],
   "source": [
    "def plot_2d_node_embeddings(node_embeddings_for_visualization: pd.DataFrame, title: str):\n",
    "    if embeddings.empty:\n",
    "        print(\"No projected data to plot available\")\n",
    "        return\n",
    "\n",
    "    plot.scatter(\n",
    "        x=node_embeddings_for_visualization.x,\n",
    "        y=node_embeddings_for_visualization.y,\n",
    "        s=node_embeddings_for_visualization.centrality * 300,\n",
    "        c=node_embeddings_for_visualization.communityId,\n",
    "        cmap=main_color_map,\n",
    "    )\n",
    "    plot.title(title)\n",
    "    plot.show()"
   ]
  },
  {
   "cell_type": "code",
   "execution_count": 11,
   "id": "da9e8edb",
   "metadata": {
    "execution": {
     "iopub.execute_input": "2024-09-30T06:40:15.092480Z",
     "iopub.status.busy": "2024-09-30T06:40:15.092312Z",
     "iopub.status.idle": "2024-09-30T06:40:15.094738Z",
     "shell.execute_reply": "2024-09-30T06:40:15.094217Z"
    }
   },
   "outputs": [],
   "source": [
    "#The following cell uses the build-in %html \"magic\" to override the CSS style for tables to a much smaller size.\n",
    "#This is especially needed for PDF export of tables with multiple columns."
   ]
  },
  {
   "cell_type": "code",
   "execution_count": 12,
   "id": "9deaabce",
   "metadata": {
    "execution": {
     "iopub.execute_input": "2024-09-30T06:40:15.096752Z",
     "iopub.status.busy": "2024-09-30T06:40:15.096511Z",
     "iopub.status.idle": "2024-09-30T06:40:15.103283Z",
     "shell.execute_reply": "2024-09-30T06:40:15.102788Z"
    }
   },
   "outputs": [
    {
     "data": {
      "text/html": [
       "<style>\n",
       "/* CSS style for smaller dataframe tables. */\n",
       ".dataframe th {\n",
       "    font-size: 8px;\n",
       "}\n",
       ".dataframe td {\n",
       "    font-size: 8px;\n",
       "}\n",
       "</style>\n"
      ],
      "text/plain": [
       "<IPython.core.display.HTML object>"
      ]
     },
     "metadata": {},
     "output_type": "display_data"
    }
   ],
   "source": [
    "%%html\n",
    "<style>\n",
    "/* CSS style for smaller dataframe tables. */\n",
    ".dataframe th {\n",
    "    font-size: 8px;\n",
    "}\n",
    ".dataframe td {\n",
    "    font-size: 8px;\n",
    "}\n",
    "</style>"
   ]
  },
  {
   "cell_type": "code",
   "execution_count": 13,
   "id": "c2496caf",
   "metadata": {
    "execution": {
     "iopub.execute_input": "2024-09-30T06:40:15.105147Z",
     "iopub.status.busy": "2024-09-30T06:40:15.104862Z",
     "iopub.status.idle": "2024-09-30T06:40:15.107193Z",
     "shell.execute_reply": "2024-09-30T06:40:15.106719Z"
    }
   },
   "outputs": [],
   "source": [
    "# Main Colormap\n",
    "main_color_map = 'nipy_spectral'"
   ]
  },
  {
   "cell_type": "markdown",
   "id": "0c68aa20",
   "metadata": {},
   "source": [
    "## 1. Java Packages"
   ]
  },
  {
   "cell_type": "markdown",
   "id": "145dca19",
   "metadata": {},
   "source": [
    "### 1.1 Generate Node Embeddings using Fast Random Projection (Fast RP) for Java Packages\n",
    "\n",
    "[Fast Random Projection](https://neo4j.com/docs/graph-data-science/current/machine-learning/node-embeddings/fastrp) is used to reduce the dimensionality of the node feature space while preserving most of the distance information. Nodes with similar neighborhood result in node embedding with similar vectors.\n",
    "\n",
    "**👉Hint:** To skip existing node embeddings and always calculate them based on the parameters below edit `Node_Embeddings_0a_Query_Calculated` so that it won't return any results."
   ]
  },
  {
   "cell_type": "code",
   "execution_count": 14,
   "id": "8efca2cf",
   "metadata": {
    "execution": {
     "iopub.execute_input": "2024-09-30T06:40:15.109113Z",
     "iopub.status.busy": "2024-09-30T06:40:15.108968Z",
     "iopub.status.idle": "2024-09-30T06:40:15.411341Z",
     "shell.execute_reply": "2024-09-30T06:40:15.410855Z"
    }
   },
   "outputs": [
    {
     "name": "stdout",
     "output_type": "stream",
     "text": [
      "The results have been provided by the query filename: ../cypher/Node_Embeddings/Node_Embeddings_0a_Query_Calculated.cypher\n"
     ]
    },
    {
     "data": {
      "text/html": [
       "<div>\n",
       "<style scoped>\n",
       "    .dataframe tbody tr th:only-of-type {\n",
       "        vertical-align: middle;\n",
       "    }\n",
       "\n",
       "    .dataframe tbody tr th {\n",
       "        vertical-align: top;\n",
       "    }\n",
       "\n",
       "    .dataframe thead th {\n",
       "        text-align: right;\n",
       "    }\n",
       "</style>\n",
       "<table border=\"1\" class=\"dataframe\">\n",
       "  <thead>\n",
       "    <tr style=\"text-align: right;\">\n",
       "      <th></th>\n",
       "      <th>codeUnitName</th>\n",
       "      <th>shortCodeUnitName</th>\n",
       "      <th>projectName</th>\n",
       "      <th>communityId</th>\n",
       "      <th>centrality</th>\n",
       "      <th>embedding</th>\n",
       "    </tr>\n",
       "  </thead>\n",
       "  <tbody>\n",
       "    <tr>\n",
       "      <th>0</th>\n",
       "      <td>org.axonframework.disruptor.commandhandling</td>\n",
       "      <td>commandhandling</td>\n",
       "      <td>axon-disruptor-4.10.0</td>\n",
       "      <td>0</td>\n",
       "      <td>0.012594</td>\n",
       "      <td>[0.4096416234970093, 0.11835406720638275, 0.00...</td>\n",
       "    </tr>\n",
       "    <tr>\n",
       "      <th>1</th>\n",
       "      <td>org.axonframework.commandhandling</td>\n",
       "      <td>commandhandling</td>\n",
       "      <td>axon-messaging-4.10.0</td>\n",
       "      <td>0</td>\n",
       "      <td>0.073080</td>\n",
       "      <td>[0.08293566852807999, 0.3612525761127472, -0.2...</td>\n",
       "    </tr>\n",
       "    <tr>\n",
       "      <th>2</th>\n",
       "      <td>org.axonframework.commandhandling.callbacks</td>\n",
       "      <td>callbacks</td>\n",
       "      <td>axon-messaging-4.10.0</td>\n",
       "      <td>0</td>\n",
       "      <td>0.015707</td>\n",
       "      <td>[0.09236978739500046, 0.6710652709007263, -0.0...</td>\n",
       "    </tr>\n",
       "    <tr>\n",
       "      <th>3</th>\n",
       "      <td>org.axonframework.commandhandling.distributed</td>\n",
       "      <td>distributed</td>\n",
       "      <td>axon-messaging-4.10.0</td>\n",
       "      <td>0</td>\n",
       "      <td>0.023106</td>\n",
       "      <td>[0.1076347753405571, 0.3581780791282654, 0.075...</td>\n",
       "    </tr>\n",
       "    <tr>\n",
       "      <th>4</th>\n",
       "      <td>org.axonframework.commandhandling.distributed....</td>\n",
       "      <td>commandfilter</td>\n",
       "      <td>axon-messaging-4.10.0</td>\n",
       "      <td>0</td>\n",
       "      <td>0.013920</td>\n",
       "      <td>[-0.15407651662826538, 0.43103471398353577, 0....</td>\n",
       "    </tr>\n",
       "  </tbody>\n",
       "</table>\n",
       "</div>"
      ],
      "text/plain": [
       "                                        codeUnitName shortCodeUnitName  \\\n",
       "0        org.axonframework.disruptor.commandhandling   commandhandling   \n",
       "1                  org.axonframework.commandhandling   commandhandling   \n",
       "2        org.axonframework.commandhandling.callbacks         callbacks   \n",
       "3      org.axonframework.commandhandling.distributed       distributed   \n",
       "4  org.axonframework.commandhandling.distributed....     commandfilter   \n",
       "\n",
       "             projectName  communityId  centrality  \\\n",
       "0  axon-disruptor-4.10.0            0    0.012594   \n",
       "1  axon-messaging-4.10.0            0    0.073080   \n",
       "2  axon-messaging-4.10.0            0    0.015707   \n",
       "3  axon-messaging-4.10.0            0    0.023106   \n",
       "4  axon-messaging-4.10.0            0    0.013920   \n",
       "\n",
       "                                           embedding  \n",
       "0  [0.4096416234970093, 0.11835406720638275, 0.00...  \n",
       "1  [0.08293566852807999, 0.3612525761127472, -0.2...  \n",
       "2  [0.09236978739500046, 0.6710652709007263, -0.0...  \n",
       "3  [0.1076347753405571, 0.3581780791282654, 0.075...  \n",
       "4  [-0.15407651662826538, 0.43103471398353577, 0....  "
      ]
     },
     "metadata": {},
     "output_type": "display_data"
    }
   ],
   "source": [
    "java_package_embeddings_parameters={\n",
    "    \"dependencies_projection\": \"java-package-embeddings-notebook\",\n",
    "    \"dependencies_projection_node\": \"Package\",\n",
    "    \"dependencies_projection_weight_property\": \"weight25PercentInterfaces\",\n",
    "    \"dependencies_projection_write_property\": \"embeddingsFastRandomProjection\",\n",
    "    \"dependencies_projection_embedding_dimension\":\"32\"\n",
    "}\n",
    "embeddings = create_node_embeddings(\"../cypher/Node_Embeddings/Node_Embeddings_1d_Fast_Random_Projection_Stream.cypher\", java_package_embeddings_parameters)\n"
   ]
  },
  {
   "cell_type": "markdown",
   "id": "76d8bca1",
   "metadata": {},
   "source": [
    "### 1.2 Dimensionality reduction with t-distributed stochastic neighbor embedding (t-SNE)\n",
    "\n",
    "This step takes the original node embeddings with a higher dimensionality, e.g. 64 floating point numbers, and reduces them into a two dimensional array for visualization. For more details look up the function declaration for \"prepare_node_embeddings_for_2d_visualization\"."
   ]
  },
  {
   "cell_type": "code",
   "execution_count": 15,
   "id": "031abacc",
   "metadata": {
    "execution": {
     "iopub.execute_input": "2024-09-30T06:40:15.413827Z",
     "iopub.status.busy": "2024-09-30T06:40:15.413666Z",
     "iopub.status.idle": "2024-09-30T06:40:16.038020Z",
     "shell.execute_reply": "2024-09-30T06:40:16.037614Z"
    }
   },
   "outputs": [
    {
     "name": "stdout",
     "output_type": "stream",
     "text": [
      "--------------------------------------------------------------------------------\n",
      "TSNE(early_exaggeration=12, random_state=47, verbose=1)\n",
      "--------------------------------------------------------------------------------\n",
      "===> Finding 90 nearest neighbors using exact search using euclidean distance...\n",
      "   --> Time elapsed: 0.05 seconds\n",
      "===> Calculating affinity matrix...\n",
      "   --> Time elapsed: 0.00 seconds\n",
      "===> Calculating PCA-based initialization...\n",
      "   --> Time elapsed: 0.00 seconds\n",
      "===> Running optimization with exaggeration=12.00, lr=9.50 for 250 iterations...\n",
      "Iteration   50, KL divergence -0.7831, 50 iterations in 0.0556 sec\n",
      "Iteration  100, KL divergence 1.2462, 50 iterations in 0.0160 sec\n",
      "Iteration  150, KL divergence 1.2462, 50 iterations in 0.0149 sec\n",
      "Iteration  200, KL divergence 1.2462, 50 iterations in 0.0147 sec\n",
      "Iteration  250, KL divergence 1.2462, 50 iterations in 0.0146 sec\n",
      "   --> Time elapsed: 0.12 seconds\n",
      "===> Running optimization with exaggeration=1.00, lr=114.00 for 500 iterations...\n",
      "Iteration   50, KL divergence 0.1946, 50 iterations in 0.0509 sec\n",
      "Iteration  100, KL divergence 0.1783, 50 iterations in 0.0458 sec\n",
      "Iteration  150, KL divergence 0.1656, 50 iterations in 0.0439 sec\n",
      "Iteration  200, KL divergence 0.1614, 50 iterations in 0.0431 sec\n",
      "Iteration  250, KL divergence 0.1615, 50 iterations in 0.0431 sec\n",
      "Iteration  300, KL divergence 0.1615, 50 iterations in 0.0438 sec\n",
      "Iteration  350, KL divergence 0.1616, 50 iterations in 0.0437 sec\n",
      "Iteration  400, KL divergence 0.1615, 50 iterations in 0.0435 sec\n",
      "Iteration  450, KL divergence 0.1615, 50 iterations in 0.0434 sec\n",
      "Iteration  500, KL divergence 0.1616, 50 iterations in 0.0440 sec\n",
      "   --> Time elapsed: 0.45 seconds\n"
     ]
    },
    {
     "data": {
      "text/plain": [
       "(114, 2)"
      ]
     },
     "metadata": {},
     "output_type": "display_data"
    },
    {
     "data": {
      "text/html": [
       "<div>\n",
       "<style scoped>\n",
       "    .dataframe tbody tr th:only-of-type {\n",
       "        vertical-align: middle;\n",
       "    }\n",
       "\n",
       "    .dataframe tbody tr th {\n",
       "        vertical-align: top;\n",
       "    }\n",
       "\n",
       "    .dataframe thead th {\n",
       "        text-align: right;\n",
       "    }\n",
       "</style>\n",
       "<table border=\"1\" class=\"dataframe\">\n",
       "  <thead>\n",
       "    <tr style=\"text-align: right;\">\n",
       "      <th></th>\n",
       "      <th>codeUnit</th>\n",
       "      <th>artifact</th>\n",
       "      <th>communityId</th>\n",
       "      <th>centrality</th>\n",
       "      <th>x</th>\n",
       "      <th>y</th>\n",
       "    </tr>\n",
       "  </thead>\n",
       "  <tbody>\n",
       "    <tr>\n",
       "      <th>0</th>\n",
       "      <td>org.axonframework.disruptor.commandhandling</td>\n",
       "      <td>axon-disruptor-4.10.0</td>\n",
       "      <td>0</td>\n",
       "      <td>0.012594</td>\n",
       "      <td>2.959556</td>\n",
       "      <td>0.596045</td>\n",
       "    </tr>\n",
       "    <tr>\n",
       "      <th>1</th>\n",
       "      <td>org.axonframework.commandhandling</td>\n",
       "      <td>axon-messaging-4.10.0</td>\n",
       "      <td>0</td>\n",
       "      <td>0.073080</td>\n",
       "      <td>-1.108732</td>\n",
       "      <td>3.661711</td>\n",
       "    </tr>\n",
       "    <tr>\n",
       "      <th>2</th>\n",
       "      <td>org.axonframework.commandhandling.callbacks</td>\n",
       "      <td>axon-messaging-4.10.0</td>\n",
       "      <td>0</td>\n",
       "      <td>0.015707</td>\n",
       "      <td>-1.257149</td>\n",
       "      <td>4.669687</td>\n",
       "    </tr>\n",
       "    <tr>\n",
       "      <th>3</th>\n",
       "      <td>org.axonframework.commandhandling.distributed</td>\n",
       "      <td>axon-messaging-4.10.0</td>\n",
       "      <td>0</td>\n",
       "      <td>0.023106</td>\n",
       "      <td>-1.207483</td>\n",
       "      <td>4.248732</td>\n",
       "    </tr>\n",
       "    <tr>\n",
       "      <th>4</th>\n",
       "      <td>org.axonframework.commandhandling.distributed....</td>\n",
       "      <td>axon-messaging-4.10.0</td>\n",
       "      <td>0</td>\n",
       "      <td>0.013920</td>\n",
       "      <td>-1.513001</td>\n",
       "      <td>4.934089</td>\n",
       "    </tr>\n",
       "  </tbody>\n",
       "</table>\n",
       "</div>"
      ],
      "text/plain": [
       "                                            codeUnit               artifact  \\\n",
       "0        org.axonframework.disruptor.commandhandling  axon-disruptor-4.10.0   \n",
       "1                  org.axonframework.commandhandling  axon-messaging-4.10.0   \n",
       "2        org.axonframework.commandhandling.callbacks  axon-messaging-4.10.0   \n",
       "3      org.axonframework.commandhandling.distributed  axon-messaging-4.10.0   \n",
       "4  org.axonframework.commandhandling.distributed....  axon-messaging-4.10.0   \n",
       "\n",
       "   communityId  centrality         x         y  \n",
       "0            0    0.012594  2.959556  0.596045  \n",
       "1            0    0.073080 -1.108732  3.661711  \n",
       "2            0    0.015707 -1.257149  4.669687  \n",
       "3            0    0.023106 -1.207483  4.248732  \n",
       "4            0    0.013920 -1.513001  4.934089  "
      ]
     },
     "metadata": {},
     "output_type": "display_data"
    }
   ],
   "source": [
    "node_embeddings_for_visualization = prepare_node_embeddings_for_2d_visualization(embeddings)"
   ]
  },
  {
   "cell_type": "markdown",
   "id": "f908c47f",
   "metadata": {},
   "source": [
    "### 1.3 Visualization of the node embeddings reduced to two dimensions"
   ]
  },
  {
   "cell_type": "code",
   "execution_count": 16,
   "id": "459a819c",
   "metadata": {
    "execution": {
     "iopub.execute_input": "2024-09-30T06:40:16.040217Z",
     "iopub.status.busy": "2024-09-30T06:40:16.039913Z",
     "iopub.status.idle": "2024-09-30T06:40:16.156486Z",
     "shell.execute_reply": "2024-09-30T06:40:16.155971Z"
    }
   },
   "outputs": [
    {
     "data": {
      "image/png": "[encoded data removed]",
      "text/plain": [
       "<Figure size 640x480 with 1 Axes>"
      ]
     },
     "metadata": {},
     "output_type": "display_data"
    }
   ],
   "source": [
    "plot_2d_node_embeddings(\n",
    "    node_embeddings_for_visualization, \n",
    "    \"Java Package positioned by their dependency relationships (FastRP node embeddings + t-SNE)\"\n",
    ")"
   ]
  },
  {
   "cell_type": "markdown",
   "id": "b690b9a7",
   "metadata": {},
   "source": [
    "### 1.4 Node Embeddings for Java Packages using HashGNN\n",
    "\n",
    "[HashGNN](https://neo4j.com/docs/graph-data-science/2.6/machine-learning/node-embeddings/hashgnn) resembles Graph Neural Networks (GNN) but does not include a model or require training. It combines ideas of GNNs and fast randomized algorithms. For more details see [HashGNN](https://neo4j.com/docs/graph-data-science/2.6/machine-learning/node-embeddings/hashgnn). Here, the latter 3 steps are combined into one for HashGNN."
   ]
  },
  {
   "cell_type": "code",
   "execution_count": 17,
   "id": "3d3cfb7a",
   "metadata": {
    "execution": {
     "iopub.execute_input": "2024-09-30T06:40:16.158565Z",
     "iopub.status.busy": "2024-09-30T06:40:16.158408Z",
     "iopub.status.idle": "2024-09-30T06:40:17.101840Z",
     "shell.execute_reply": "2024-09-30T06:40:17.101309Z"
    }
   },
   "outputs": [
    {
     "name": "stdout",
     "output_type": "stream",
     "text": [
      "The results have been provided by the query filename: ../cypher/Node_Embeddings/Node_Embeddings_0a_Query_Calculated.cypher\n"
     ]
    },
    {
     "data": {
      "text/html": [
       "<div>\n",
       "<style scoped>\n",
       "    .dataframe tbody tr th:only-of-type {\n",
       "        vertical-align: middle;\n",
       "    }\n",
       "\n",
       "    .dataframe tbody tr th {\n",
       "        vertical-align: top;\n",
       "    }\n",
       "\n",
       "    .dataframe thead th {\n",
       "        text-align: right;\n",
       "    }\n",
       "</style>\n",
       "<table border=\"1\" class=\"dataframe\">\n",
       "  <thead>\n",
       "    <tr style=\"text-align: right;\">\n",
       "      <th></th>\n",
       "      <th>codeUnitName</th>\n",
       "      <th>shortCodeUnitName</th>\n",
       "      <th>projectName</th>\n",
       "      <th>communityId</th>\n",
       "      <th>centrality</th>\n",
       "      <th>embedding</th>\n",
       "    </tr>\n",
       "  </thead>\n",
       "  <tbody>\n",
       "    <tr>\n",
       "      <th>0</th>\n",
       "      <td>org.axonframework.disruptor.commandhandling</td>\n",
       "      <td>commandhandling</td>\n",
       "      <td>axon-disruptor-4.10.0</td>\n",
       "      <td>0</td>\n",
       "      <td>0.012594</td>\n",
       "      <td>[0.21650634706020355, -0.21650634706020355, -1...</td>\n",
       "    </tr>\n",
       "    <tr>\n",
       "      <th>1</th>\n",
       "      <td>org.axonframework.commandhandling</td>\n",
       "      <td>commandhandling</td>\n",
       "      <td>axon-messaging-4.10.0</td>\n",
       "      <td>0</td>\n",
       "      <td>0.073080</td>\n",
       "      <td>[0.21650634706020355, 0.0, -2.381569817662239,...</td>\n",
       "    </tr>\n",
       "    <tr>\n",
       "      <th>2</th>\n",
       "      <td>org.axonframework.commandhandling.callbacks</td>\n",
       "      <td>callbacks</td>\n",
       "      <td>axon-messaging-4.10.0</td>\n",
       "      <td>0</td>\n",
       "      <td>0.015707</td>\n",
       "      <td>[-1.7320507764816284, 0.4330126941204071, -0.6...</td>\n",
       "    </tr>\n",
       "    <tr>\n",
       "      <th>3</th>\n",
       "      <td>org.axonframework.commandhandling.distributed</td>\n",
       "      <td>distributed</td>\n",
       "      <td>axon-messaging-4.10.0</td>\n",
       "      <td>0</td>\n",
       "      <td>0.023106</td>\n",
       "      <td>[-0.8660253882408142, 1.2990380823612213, -1.5...</td>\n",
       "    </tr>\n",
       "    <tr>\n",
       "      <th>4</th>\n",
       "      <td>org.axonframework.commandhandling.distributed....</td>\n",
       "      <td>commandfilter</td>\n",
       "      <td>axon-messaging-4.10.0</td>\n",
       "      <td>0</td>\n",
       "      <td>0.013920</td>\n",
       "      <td>[-0.8660253882408142, 1.7320507764816284, -0.8...</td>\n",
       "    </tr>\n",
       "  </tbody>\n",
       "</table>\n",
       "</div>"
      ],
      "text/plain": [
       "                                        codeUnitName shortCodeUnitName  \\\n",
       "0        org.axonframework.disruptor.commandhandling   commandhandling   \n",
       "1                  org.axonframework.commandhandling   commandhandling   \n",
       "2        org.axonframework.commandhandling.callbacks         callbacks   \n",
       "3      org.axonframework.commandhandling.distributed       distributed   \n",
       "4  org.axonframework.commandhandling.distributed....     commandfilter   \n",
       "\n",
       "             projectName  communityId  centrality  \\\n",
       "0  axon-disruptor-4.10.0            0    0.012594   \n",
       "1  axon-messaging-4.10.0            0    0.073080   \n",
       "2  axon-messaging-4.10.0            0    0.015707   \n",
       "3  axon-messaging-4.10.0            0    0.023106   \n",
       "4  axon-messaging-4.10.0            0    0.013920   \n",
       "\n",
       "                                           embedding  \n",
       "0  [0.21650634706020355, -0.21650634706020355, -1...  \n",
       "1  [0.21650634706020355, 0.0, -2.381569817662239,...  \n",
       "2  [-1.7320507764816284, 0.4330126941204071, -0.6...  \n",
       "3  [-0.8660253882408142, 1.2990380823612213, -1.5...  \n",
       "4  [-0.8660253882408142, 1.7320507764816284, -0.8...  "
      ]
     },
     "metadata": {},
     "output_type": "display_data"
    },
    {
     "name": "stdout",
     "output_type": "stream",
     "text": [
      "--------------------------------------------------------------------------------\n",
      "TSNE(early_exaggeration=12, random_state=47, verbose=1)\n",
      "--------------------------------------------------------------------------------\n",
      "===> Finding 90 nearest neighbors using exact search using euclidean distance...\n",
      "   --> Time elapsed: 0.00 seconds\n",
      "===> Calculating affinity matrix...\n",
      "   --> Time elapsed: 0.00 seconds\n",
      "===> Calculating PCA-based initialization...\n",
      "   --> Time elapsed: 0.00 seconds\n",
      "===> Running optimization with exaggeration=12.00, lr=9.50 for 250 iterations...\n",
      "Iteration   50, KL divergence -1.0172, 50 iterations in 0.0651 sec\n",
      "Iteration  100, KL divergence 1.2312, 50 iterations in 0.0166 sec\n",
      "Iteration  150, KL divergence 1.2312, 50 iterations in 0.0147 sec\n",
      "Iteration  200, KL divergence 1.2312, 50 iterations in 0.0146 sec\n",
      "Iteration  250, KL divergence 1.2312, 50 iterations in 0.0149 sec\n",
      "   --> Time elapsed: 0.13 seconds\n",
      "===> Running optimization with exaggeration=1.00, lr=114.00 for 500 iterations...\n",
      "Iteration   50, KL divergence 0.6370, 50 iterations in 0.0518 sec\n",
      "Iteration  100, KL divergence 0.6261, 50 iterations in 0.0504 sec\n",
      "Iteration  150, KL divergence 0.6244, 50 iterations in 0.0484 sec\n",
      "Iteration  200, KL divergence 0.6159, 50 iterations in 0.0466 sec\n",
      "Iteration  250, KL divergence 0.6100, 50 iterations in 0.0463 sec\n",
      "Iteration  300, KL divergence 0.6079, 50 iterations in 0.0460 sec\n",
      "Iteration  350, KL divergence 0.6077, 50 iterations in 0.0472 sec\n",
      "Iteration  400, KL divergence 0.6076, 50 iterations in 0.0469 sec\n",
      "Iteration  450, KL divergence 0.6078, 50 iterations in 0.0464 sec\n",
      "Iteration  500, KL divergence 0.6072, 50 iterations in 0.0464 sec\n",
      "   --> Time elapsed: 0.48 seconds\n"
     ]
    },
    {
     "data": {
      "text/plain": [
       "(114, 2)"
      ]
     },
     "metadata": {},
     "output_type": "display_data"
    },
    {
     "data": {
      "text/html": [
       "<div>\n",
       "<style scoped>\n",
       "    .dataframe tbody tr th:only-of-type {\n",
       "        vertical-align: middle;\n",
       "    }\n",
       "\n",
       "    .dataframe tbody tr th {\n",
       "        vertical-align: top;\n",
       "    }\n",
       "\n",
       "    .dataframe thead th {\n",
       "        text-align: right;\n",
       "    }\n",
       "</style>\n",
       "<table border=\"1\" class=\"dataframe\">\n",
       "  <thead>\n",
       "    <tr style=\"text-align: right;\">\n",
       "      <th></th>\n",
       "      <th>codeUnit</th>\n",
       "      <th>artifact</th>\n",
       "      <th>communityId</th>\n",
       "      <th>centrality</th>\n",
       "      <th>x</th>\n",
       "      <th>y</th>\n",
       "    </tr>\n",
       "  </thead>\n",
       "  <tbody>\n",
       "    <tr>\n",
       "      <th>0</th>\n",
       "      <td>org.axonframework.disruptor.commandhandling</td>\n",
       "      <td>axon-disruptor-4.10.0</td>\n",
       "      <td>0</td>\n",
       "      <td>0.012594</td>\n",
       "      <td>5.773058</td>\n",
       "      <td>1.469020</td>\n",
       "    </tr>\n",
       "    <tr>\n",
       "      <th>1</th>\n",
       "      <td>org.axonframework.commandhandling</td>\n",
       "      <td>axon-messaging-4.10.0</td>\n",
       "      <td>0</td>\n",
       "      <td>0.073080</td>\n",
       "      <td>3.580486</td>\n",
       "      <td>1.638997</td>\n",
       "    </tr>\n",
       "    <tr>\n",
       "      <th>2</th>\n",
       "      <td>org.axonframework.commandhandling.callbacks</td>\n",
       "      <td>axon-messaging-4.10.0</td>\n",
       "      <td>0</td>\n",
       "      <td>0.015707</td>\n",
       "      <td>-5.377119</td>\n",
       "      <td>0.365812</td>\n",
       "    </tr>\n",
       "    <tr>\n",
       "      <th>3</th>\n",
       "      <td>org.axonframework.commandhandling.distributed</td>\n",
       "      <td>axon-messaging-4.10.0</td>\n",
       "      <td>0</td>\n",
       "      <td>0.023106</td>\n",
       "      <td>2.943630</td>\n",
       "      <td>1.364404</td>\n",
       "    </tr>\n",
       "    <tr>\n",
       "      <th>4</th>\n",
       "      <td>org.axonframework.commandhandling.distributed....</td>\n",
       "      <td>axon-messaging-4.10.0</td>\n",
       "      <td>0</td>\n",
       "      <td>0.013920</td>\n",
       "      <td>-4.433381</td>\n",
       "      <td>-0.087532</td>\n",
       "    </tr>\n",
       "  </tbody>\n",
       "</table>\n",
       "</div>"
      ],
      "text/plain": [
       "                                            codeUnit               artifact  \\\n",
       "0        org.axonframework.disruptor.commandhandling  axon-disruptor-4.10.0   \n",
       "1                  org.axonframework.commandhandling  axon-messaging-4.10.0   \n",
       "2        org.axonframework.commandhandling.callbacks  axon-messaging-4.10.0   \n",
       "3      org.axonframework.commandhandling.distributed  axon-messaging-4.10.0   \n",
       "4  org.axonframework.commandhandling.distributed....  axon-messaging-4.10.0   \n",
       "\n",
       "   communityId  centrality         x         y  \n",
       "0            0    0.012594  5.773058  1.469020  \n",
       "1            0    0.073080  3.580486  1.638997  \n",
       "2            0    0.015707 -5.377119  0.365812  \n",
       "3            0    0.023106  2.943630  1.364404  \n",
       "4            0    0.013920 -4.433381 -0.087532  "
      ]
     },
     "metadata": {},
     "output_type": "display_data"
    },
    {
     "data": {
      "image/png": "[encoded data removed]",
      "text/plain": [
       "<Figure size 640x480 with 1 Axes>"
      ]
     },
     "metadata": {},
     "output_type": "display_data"
    }
   ],
   "source": [
    "java_package_embeddings_parameters={\n",
    "    \"dependencies_projection\": \"java-package-embeddings-notebook\",\n",
    "    \"dependencies_projection_node\": \"Package\",\n",
    "    \"dependencies_projection_weight_property\": \"weight25PercentInterfaces\",\n",
    "    \"dependencies_projection_write_property\": \"embeddingsHashGNN\",\n",
    "    \"dependencies_projection_embedding_dimension\":\"64\"\n",
    "}\n",
    "embeddings = create_node_embeddings(\"../cypher/Node_Embeddings/Node_Embeddings_2d_Hash_GNN_Stream.cypher\", java_package_embeddings_parameters)\n",
    "node_embeddings_for_visualization = prepare_node_embeddings_for_2d_visualization(embeddings)\n",
    "plot_2d_node_embeddings(\n",
    "    node_embeddings_for_visualization, \n",
    "    \"Java Package positioned by their dependency relationships (HashGNN node embeddings + t-SNE)\"\n",
    ")"
   ]
  },
  {
   "cell_type": "markdown",
   "id": "248d88b4",
   "metadata": {},
   "source": [
    "### 2.5 Node Embeddings for Java Packages using node2vec"
   ]
  },
  {
   "cell_type": "code",
   "execution_count": 18,
   "id": "62c40c45",
   "metadata": {
    "execution": {
     "iopub.execute_input": "2024-09-30T06:40:17.104115Z",
     "iopub.status.busy": "2024-09-30T06:40:17.103736Z",
     "iopub.status.idle": "2024-09-30T06:40:18.040375Z",
     "shell.execute_reply": "2024-09-30T06:40:18.039863Z"
    }
   },
   "outputs": [
    {
     "name": "stdout",
     "output_type": "stream",
     "text": [
      "The results have been provided by the query filename: ../cypher/Node_Embeddings/Node_Embeddings_0a_Query_Calculated.cypher\n"
     ]
    },
    {
     "data": {
      "text/html": [
       "<div>\n",
       "<style scoped>\n",
       "    .dataframe tbody tr th:only-of-type {\n",
       "        vertical-align: middle;\n",
       "    }\n",
       "\n",
       "    .dataframe tbody tr th {\n",
       "        vertical-align: top;\n",
       "    }\n",
       "\n",
       "    .dataframe thead th {\n",
       "        text-align: right;\n",
       "    }\n",
       "</style>\n",
       "<table border=\"1\" class=\"dataframe\">\n",
       "  <thead>\n",
       "    <tr style=\"text-align: right;\">\n",
       "      <th></th>\n",
       "      <th>codeUnitName</th>\n",
       "      <th>shortCodeUnitName</th>\n",
       "      <th>projectName</th>\n",
       "      <th>communityId</th>\n",
       "      <th>centrality</th>\n",
       "      <th>embedding</th>\n",
       "    </tr>\n",
       "  </thead>\n",
       "  <tbody>\n",
       "    <tr>\n",
       "      <th>0</th>\n",
       "      <td>org.axonframework.disruptor.commandhandling</td>\n",
       "      <td>commandhandling</td>\n",
       "      <td>axon-disruptor-4.10.0</td>\n",
       "      <td>0</td>\n",
       "      <td>0.012594</td>\n",
       "      <td>[-0.1944786012172699, -0.05930459126830101, 0....</td>\n",
       "    </tr>\n",
       "    <tr>\n",
       "      <th>1</th>\n",
       "      <td>org.axonframework.commandhandling</td>\n",
       "      <td>commandhandling</td>\n",
       "      <td>axon-messaging-4.10.0</td>\n",
       "      <td>0</td>\n",
       "      <td>0.073080</td>\n",
       "      <td>[-0.05812596157193184, -0.22006504237651825, 0...</td>\n",
       "    </tr>\n",
       "    <tr>\n",
       "      <th>2</th>\n",
       "      <td>org.axonframework.commandhandling.callbacks</td>\n",
       "      <td>callbacks</td>\n",
       "      <td>axon-messaging-4.10.0</td>\n",
       "      <td>0</td>\n",
       "      <td>0.015707</td>\n",
       "      <td>[0.1642570197582245, -0.4014912545681, 0.05540...</td>\n",
       "    </tr>\n",
       "    <tr>\n",
       "      <th>3</th>\n",
       "      <td>org.axonframework.commandhandling.distributed</td>\n",
       "      <td>distributed</td>\n",
       "      <td>axon-messaging-4.10.0</td>\n",
       "      <td>0</td>\n",
       "      <td>0.023106</td>\n",
       "      <td>[-0.11866246163845062, -0.3151770830154419, 0....</td>\n",
       "    </tr>\n",
       "    <tr>\n",
       "      <th>4</th>\n",
       "      <td>org.axonframework.commandhandling.distributed....</td>\n",
       "      <td>commandfilter</td>\n",
       "      <td>axon-messaging-4.10.0</td>\n",
       "      <td>0</td>\n",
       "      <td>0.013920</td>\n",
       "      <td>[-0.05773572623729706, -0.49442175030708313, 0...</td>\n",
       "    </tr>\n",
       "  </tbody>\n",
       "</table>\n",
       "</div>"
      ],
      "text/plain": [
       "                                        codeUnitName shortCodeUnitName  \\\n",
       "0        org.axonframework.disruptor.commandhandling   commandhandling   \n",
       "1                  org.axonframework.commandhandling   commandhandling   \n",
       "2        org.axonframework.commandhandling.callbacks         callbacks   \n",
       "3      org.axonframework.commandhandling.distributed       distributed   \n",
       "4  org.axonframework.commandhandling.distributed....     commandfilter   \n",
       "\n",
       "             projectName  communityId  centrality  \\\n",
       "0  axon-disruptor-4.10.0            0    0.012594   \n",
       "1  axon-messaging-4.10.0            0    0.073080   \n",
       "2  axon-messaging-4.10.0            0    0.015707   \n",
       "3  axon-messaging-4.10.0            0    0.023106   \n",
       "4  axon-messaging-4.10.0            0    0.013920   \n",
       "\n",
       "                                           embedding  \n",
       "0  [-0.1944786012172699, -0.05930459126830101, 0....  \n",
       "1  [-0.05812596157193184, -0.22006504237651825, 0...  \n",
       "2  [0.1642570197582245, -0.4014912545681, 0.05540...  \n",
       "3  [-0.11866246163845062, -0.3151770830154419, 0....  \n",
       "4  [-0.05773572623729706, -0.49442175030708313, 0...  "
      ]
     },
     "metadata": {},
     "output_type": "display_data"
    },
    {
     "name": "stdout",
     "output_type": "stream",
     "text": [
      "--------------------------------------------------------------------------------\n",
      "TSNE(early_exaggeration=12, random_state=47, verbose=1)\n",
      "--------------------------------------------------------------------------------\n",
      "===> Finding 90 nearest neighbors using exact search using euclidean distance...\n",
      "   --> Time elapsed: 0.00 seconds\n",
      "===> Calculating affinity matrix...\n",
      "   --> Time elapsed: 0.00 seconds\n",
      "===> Calculating PCA-based initialization...\n",
      "   --> Time elapsed: 0.00 seconds\n",
      "===> Running optimization with exaggeration=12.00, lr=9.50 for 250 iterations...\n",
      "Iteration   50, KL divergence -0.7371, 50 iterations in 0.0665 sec\n",
      "Iteration  100, KL divergence 1.1654, 50 iterations in 0.0170 sec\n",
      "Iteration  150, KL divergence 1.1654, 50 iterations in 0.0150 sec\n",
      "Iteration  200, KL divergence 1.1654, 50 iterations in 0.0149 sec\n",
      "Iteration  250, KL divergence 1.1654, 50 iterations in 0.0149 sec\n",
      "   --> Time elapsed: 0.13 seconds\n",
      "===> Running optimization with exaggeration=1.00, lr=114.00 for 500 iterations...\n",
      "Iteration   50, KL divergence 0.3131, 50 iterations in 0.0518 sec\n",
      "Iteration  100, KL divergence 0.2851, 50 iterations in 0.0485 sec\n",
      "Iteration  150, KL divergence 0.2779, 50 iterations in 0.0488 sec\n",
      "Iteration  200, KL divergence 0.2758, 50 iterations in 0.0473 sec\n",
      "Iteration  250, KL divergence 0.2758, 50 iterations in 0.0469 sec\n",
      "Iteration  300, KL divergence 0.2748, 50 iterations in 0.0470 sec\n",
      "Iteration  350, KL divergence 0.2752, 50 iterations in 0.0487 sec\n",
      "Iteration  400, KL divergence 0.2752, 50 iterations in 0.0483 sec\n",
      "Iteration  450, KL divergence 0.2752, 50 iterations in 0.0468 sec\n",
      "Iteration  500, KL divergence 0.2749, 50 iterations in 0.0470 sec\n",
      "   --> Time elapsed: 0.48 seconds\n"
     ]
    },
    {
     "data": {
      "text/plain": [
       "(114, 2)"
      ]
     },
     "metadata": {},
     "output_type": "display_data"
    },
    {
     "data": {
      "text/html": [
       "<div>\n",
       "<style scoped>\n",
       "    .dataframe tbody tr th:only-of-type {\n",
       "        vertical-align: middle;\n",
       "    }\n",
       "\n",
       "    .dataframe tbody tr th {\n",
       "        vertical-align: top;\n",
       "    }\n",
       "\n",
       "    .dataframe thead th {\n",
       "        text-align: right;\n",
       "    }\n",
       "</style>\n",
       "<table border=\"1\" class=\"dataframe\">\n",
       "  <thead>\n",
       "    <tr style=\"text-align: right;\">\n",
       "      <th></th>\n",
       "      <th>codeUnit</th>\n",
       "      <th>artifact</th>\n",
       "      <th>communityId</th>\n",
       "      <th>centrality</th>\n",
       "      <th>x</th>\n",
       "      <th>y</th>\n",
       "    </tr>\n",
       "  </thead>\n",
       "  <tbody>\n",
       "    <tr>\n",
       "      <th>0</th>\n",
       "      <td>org.axonframework.disruptor.commandhandling</td>\n",
       "      <td>axon-disruptor-4.10.0</td>\n",
       "      <td>0</td>\n",
       "      <td>0.012594</td>\n",
       "      <td>3.839836</td>\n",
       "      <td>-0.801927</td>\n",
       "    </tr>\n",
       "    <tr>\n",
       "      <th>1</th>\n",
       "      <td>org.axonframework.commandhandling</td>\n",
       "      <td>axon-messaging-4.10.0</td>\n",
       "      <td>0</td>\n",
       "      <td>0.073080</td>\n",
       "      <td>5.368116</td>\n",
       "      <td>-1.960119</td>\n",
       "    </tr>\n",
       "    <tr>\n",
       "      <th>2</th>\n",
       "      <td>org.axonframework.commandhandling.callbacks</td>\n",
       "      <td>axon-messaging-4.10.0</td>\n",
       "      <td>0</td>\n",
       "      <td>0.015707</td>\n",
       "      <td>6.317045</td>\n",
       "      <td>-2.196667</td>\n",
       "    </tr>\n",
       "    <tr>\n",
       "      <th>3</th>\n",
       "      <td>org.axonframework.commandhandling.distributed</td>\n",
       "      <td>axon-messaging-4.10.0</td>\n",
       "      <td>0</td>\n",
       "      <td>0.023106</td>\n",
       "      <td>5.415338</td>\n",
       "      <td>-2.995969</td>\n",
       "    </tr>\n",
       "    <tr>\n",
       "      <th>4</th>\n",
       "      <td>org.axonframework.commandhandling.distributed....</td>\n",
       "      <td>axon-messaging-4.10.0</td>\n",
       "      <td>0</td>\n",
       "      <td>0.013920</td>\n",
       "      <td>5.595464</td>\n",
       "      <td>-3.240300</td>\n",
       "    </tr>\n",
       "  </tbody>\n",
       "</table>\n",
       "</div>"
      ],
      "text/plain": [
       "                                            codeUnit               artifact  \\\n",
       "0        org.axonframework.disruptor.commandhandling  axon-disruptor-4.10.0   \n",
       "1                  org.axonframework.commandhandling  axon-messaging-4.10.0   \n",
       "2        org.axonframework.commandhandling.callbacks  axon-messaging-4.10.0   \n",
       "3      org.axonframework.commandhandling.distributed  axon-messaging-4.10.0   \n",
       "4  org.axonframework.commandhandling.distributed....  axon-messaging-4.10.0   \n",
       "\n",
       "   communityId  centrality         x         y  \n",
       "0            0    0.012594  3.839836 -0.801927  \n",
       "1            0    0.073080  5.368116 -1.960119  \n",
       "2            0    0.015707  6.317045 -2.196667  \n",
       "3            0    0.023106  5.415338 -2.995969  \n",
       "4            0    0.013920  5.595464 -3.240300  "
      ]
     },
     "metadata": {},
     "output_type": "display_data"
    },
    {
     "data": {
      "image/png": "[encoded data removed]",
      "text/plain": [
       "<Figure size 640x480 with 1 Axes>"
      ]
     },
     "metadata": {},
     "output_type": "display_data"
    }
   ],
   "source": [
    "java_package_embeddings_parameters={\n",
    "    \"dependencies_projection\": \"java-package-embeddings-notebook\",\n",
    "    \"dependencies_projection_node\": \"Package\",\n",
    "    \"dependencies_projection_weight_property\": \"weight25PercentInterfaces\",\n",
    "    \"dependencies_projection_write_property\": \"embeddingsNode2Vec\",\n",
    "    \"dependencies_projection_embedding_dimension\":\"32\"\n",
    "}\n",
    "embeddings = create_node_embeddings(\"../cypher/Node_Embeddings/Node_Embeddings_3d_Node2Vec_Stream.cypher\", java_package_embeddings_parameters)\n",
    "node_embeddings_for_visualization = prepare_node_embeddings_for_2d_visualization(embeddings)\n",
    "plot_2d_node_embeddings(\n",
    "    node_embeddings_for_visualization, \n",
    "    \"Java Package positioned by their dependency relationships (node2vec node embeddings + t-SNE)\"\n",
    ")"
   ]
  }
 ],
 "metadata": {
  "authors": [
   {
    "name": "JohT"
   }
  ],
  "code_graph_analysis_pipeline_data_validation": "ValidateJavaPackageDependencies",
  "kernelspec": {
   "display_name": "Python 3 (ipykernel)",
   "language": "python",
   "name": "python3"
  },
  "language_info": {
   "codemirror_mode": {
    "name": "ipython",
    "version": 3
   },
   "file_extension": ".py",
   "mimetype": "text/x-python",
   "name": "python",
   "nbconvert_exporter": "python",
   "pygments_lexer": "ipython3",
   "version": "3.11.0"
  },
  "title": "Object Oriented Design Quality Metrics for Java with Neo4j"
 },
 "nbformat": 4,
 "nbformat_minor": 5
}
