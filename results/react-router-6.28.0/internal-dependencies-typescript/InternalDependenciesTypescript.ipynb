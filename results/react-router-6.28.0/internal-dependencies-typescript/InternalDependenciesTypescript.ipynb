{
 "cells": [
  {
   "attachments": {},
   "cell_type": "markdown",
   "id": "2f0eabc4",
   "metadata": {},
   "source": [
    "# Internal Dependencies\n",
    "<br>  \n",
    "\n",
    "### References\n",
    "- [Analyze java package metrics in a graph database](https://joht.github.io/johtizen/data/2023/04/21/java-package-metrics-analysis.html)\n",
    "- [Calculate metrics](https://101.jqassistant.org/calculate-metrics/index.html)\n",
    "- [Neo4j Python Driver](https://neo4j.com/docs/api/python-driver/current)"
   ]
  },
  {
   "cell_type": "code",
   "execution_count": 1,
   "id": "4191f259",
   "metadata": {
    "execution": {
     "iopub.execute_input": "2024-12-23T07:07:12.291815Z",
     "iopub.status.busy": "2024-12-23T07:07:12.291602Z",
     "iopub.status.idle": "2024-12-23T07:07:12.801322Z",
     "shell.execute_reply": "2024-12-23T07:07:12.800802Z"
    }
   },
   "outputs": [],
   "source": [
    "import os\n",
    "import pandas as pd\n",
    "import matplotlib.pyplot as plot\n",
    "from neo4j import GraphDatabase"
   ]
  },
  {
   "cell_type": "code",
   "execution_count": 2,
   "id": "1c5dab37",
   "metadata": {
    "execution": {
     "iopub.execute_input": "2024-12-23T07:07:12.804413Z",
     "iopub.status.busy": "2024-12-23T07:07:12.803966Z",
     "iopub.status.idle": "2024-12-23T07:07:12.811700Z",
     "shell.execute_reply": "2024-12-23T07:07:12.811319Z"
    }
   },
   "outputs": [],
   "source": [
    "# Please set the environment variable \"NEO4J_INITIAL_PASSWORD\" in your shell \n",
    "# before starting jupyter notebook to provide the password for the user \"neo4j\". \n",
    "# It is not recommended to hardcode the password into jupyter notebook for security reasons.\n",
    "\n",
    "driver = GraphDatabase.driver(uri=\"bolt://localhost:7687\", auth=(\"neo4j\", os.environ.get(\"NEO4J_INITIAL_PASSWORD\")))\n",
    "driver.verify_connectivity()"
   ]
  },
  {
   "cell_type": "code",
   "execution_count": 3,
   "id": "c1db254b",
   "metadata": {
    "execution": {
     "iopub.execute_input": "2024-12-23T07:07:12.814046Z",
     "iopub.status.busy": "2024-12-23T07:07:12.813861Z",
     "iopub.status.idle": "2024-12-23T07:07:12.816474Z",
     "shell.execute_reply": "2024-12-23T07:07:12.816083Z"
    }
   },
   "outputs": [],
   "source": [
    "def get_cypher_query_from_file(cypherFileName):\n",
    "    with open(cypherFileName) as file:\n",
    "        return ' '.join(file.readlines())"
   ]
  },
  {
   "cell_type": "code",
   "execution_count": 4,
   "id": "59310f6f",
   "metadata": {
    "execution": {
     "iopub.execute_input": "2024-12-23T07:07:12.818502Z",
     "iopub.status.busy": "2024-12-23T07:07:12.818201Z",
     "iopub.status.idle": "2024-12-23T07:07:12.821358Z",
     "shell.execute_reply": "2024-12-23T07:07:12.820941Z"
    }
   },
   "outputs": [],
   "source": [
    "def query_cypher_to_data_frame(filename : str, limit: int = 10_000):\n",
    "    cypher_query_template = \"{query}\\nLIMIT {row_limit}\"\n",
    "    cypher_query = get_cypher_query_from_file(filename)\n",
    "    cypher_query = cypher_query_template.format(query = cypher_query, row_limit = limit)\n",
    "    records, summary, keys = driver.execute_query(cypher_query)\n",
    "    return pd.DataFrame([r.values() for r in records], columns=keys)"
   ]
  },
  {
   "cell_type": "code",
   "execution_count": 5,
   "id": "bb3646d7",
   "metadata": {
    "execution": {
     "iopub.execute_input": "2024-12-23T07:07:12.823330Z",
     "iopub.status.busy": "2024-12-23T07:07:12.823022Z",
     "iopub.status.idle": "2024-12-23T07:07:12.826052Z",
     "shell.execute_reply": "2024-12-23T07:07:12.825635Z"
    }
   },
   "outputs": [],
   "source": [
    "def query_first_non_empty_cypher_to_data_frame(*filenames : str, limit: int = 10_000):\n",
    "    \"\"\"\n",
    "    Executes the Cypher queries of the given files and returns the first result that is not empty.\n",
    "    If all given file names result in empty results, the last (empty) result will be returned.\n",
    "    By additionally specifying \"limit=\" the \"LIMIT\" keyword will appended to query so that only the first results get returned.\n",
    "    \"\"\"    \n",
    "    result=pd.DataFrame()\n",
    "    for filename in filenames:\n",
    "        result=query_cypher_to_data_frame(filename, limit)\n",
    "        if not result.empty:\n",
    "            return result\n",
    "    return result"
   ]
  },
  {
   "cell_type": "code",
   "execution_count": 6,
   "id": "a56670c9",
   "metadata": {
    "execution": {
     "iopub.execute_input": "2024-12-23T07:07:12.828083Z",
     "iopub.status.busy": "2024-12-23T07:07:12.827750Z",
     "iopub.status.idle": "2024-12-23T07:07:12.829925Z",
     "shell.execute_reply": "2024-12-23T07:07:12.829514Z"
    }
   },
   "outputs": [],
   "source": [
    "#The following cell uses the build-in %html \"magic\" to override the CSS style for tables to a much smaller size.\n",
    "#This is especially needed for PDF export of tables with multiple columns."
   ]
  },
  {
   "cell_type": "code",
   "execution_count": 7,
   "id": "006b9dc8",
   "metadata": {
    "execution": {
     "iopub.execute_input": "2024-12-23T07:07:12.831870Z",
     "iopub.status.busy": "2024-12-23T07:07:12.831571Z",
     "iopub.status.idle": "2024-12-23T07:07:12.838158Z",
     "shell.execute_reply": "2024-12-23T07:07:12.837781Z"
    }
   },
   "outputs": [
    {
     "data": {
      "text/html": [
       "<style>\n",
       "/* CSS style for smaller dataframe tables. */\n",
       ".dataframe th {\n",
       "    font-size: 8px;\n",
       "}\n",
       ".dataframe td {\n",
       "    font-size: 8px;\n",
       "}\n",
       "</style>\n"
      ],
      "text/plain": [
       "<IPython.core.display.HTML object>"
      ]
     },
     "metadata": {},
     "output_type": "display_data"
    }
   ],
   "source": [
    "%%html\n",
    "<style>\n",
    "/* CSS style for smaller dataframe tables. */\n",
    ".dataframe th {\n",
    "    font-size: 8px;\n",
    "}\n",
    ".dataframe td {\n",
    "    font-size: 8px;\n",
    "}\n",
    "</style>"
   ]
  },
  {
   "cell_type": "code",
   "execution_count": 8,
   "id": "f1ee8a6e",
   "metadata": {
    "execution": {
     "iopub.execute_input": "2024-12-23T07:07:12.840293Z",
     "iopub.status.busy": "2024-12-23T07:07:12.839998Z",
     "iopub.status.idle": "2024-12-23T07:07:12.842244Z",
     "shell.execute_reply": "2024-12-23T07:07:12.841857Z"
    }
   },
   "outputs": [],
   "source": [
    "# Pandas DataFrame Display Configuration\n",
    "pd.set_option('display.max_colwidth', 300)"
   ]
  },
  {
   "attachments": {},
   "cell_type": "markdown",
   "id": "91d80bf7",
   "metadata": {},
   "source": [
    "## 1 - Modules\n",
    "\n",
    "List the modules this notebook is based on. Different sorting variations help finding modules by their features and support larger code bases where the list of all modules gets very long.\n",
    "\n",
    "Only the top 30 entries are shown. The whole table can be found in the following CSV report:  \n",
    "`List_all_Typescript_modules`"
   ]
  },
  {
   "cell_type": "code",
   "execution_count": 9,
   "id": "dc682db6",
   "metadata": {
    "execution": {
     "iopub.execute_input": "2024-12-23T07:07:12.844300Z",
     "iopub.status.busy": "2024-12-23T07:07:12.843923Z",
     "iopub.status.idle": "2024-12-23T07:07:12.881173Z",
     "shell.execute_reply": "2024-12-23T07:07:12.880456Z"
    }
   },
   "outputs": [],
   "source": [
    "internalModules = query_cypher_to_data_frame(\"../cypher/Internal_Dependencies/List_all_Typescript_modules.cypher\")"
   ]
  },
  {
   "cell_type": "markdown",
   "id": "e48ead1b",
   "metadata": {},
   "source": [
    "### Table 1a - Top 30 modules with the highest element count"
   ]
  },
  {
   "cell_type": "code",
   "execution_count": 10,
   "id": "f822ddca",
   "metadata": {
    "execution": {
     "iopub.execute_input": "2024-12-23T07:07:12.884306Z",
     "iopub.status.busy": "2024-12-23T07:07:12.884115Z",
     "iopub.status.idle": "2024-12-23T07:07:12.893315Z",
     "shell.execute_reply": "2024-12-23T07:07:12.892810Z"
    }
   },
   "outputs": [
    {
     "data": {
      "text/html": [
       "<div>\n",
       "<style scoped>\n",
       "    .dataframe tbody tr th:only-of-type {\n",
       "        vertical-align: middle;\n",
       "    }\n",
       "\n",
       "    .dataframe tbody tr th {\n",
       "        vertical-align: top;\n",
       "    }\n",
       "\n",
       "    .dataframe thead th {\n",
       "        text-align: right;\n",
       "    }\n",
       "</style>\n",
       "<table border=\"1\" class=\"dataframe\">\n",
       "  <thead>\n",
       "    <tr style=\"text-align: right;\">\n",
       "      <th></th>\n",
       "      <th>rootProjectName</th>\n",
       "      <th>moduleName</th>\n",
       "      <th>numberOfElements</th>\n",
       "      <th>numberOfGitCommits</th>\n",
       "      <th>incomingDependencies</th>\n",
       "      <th>outgoingDependencies</th>\n",
       "    </tr>\n",
       "  </thead>\n",
       "  <tbody>\n",
       "    <tr>\n",
       "      <th>0</th>\n",
       "      <td>react-router-6.28.0</td>\n",
       "      <td>react-router-dom</td>\n",
       "      <td>35</td>\n",
       "      <td>421</td>\n",
       "      <td>0</td>\n",
       "      <td>153</td>\n",
       "    </tr>\n",
       "    <tr>\n",
       "      <th>1</th>\n",
       "      <td>react-router-6.28.0</td>\n",
       "      <td>react-router</td>\n",
       "      <td>15</td>\n",
       "      <td>245</td>\n",
       "      <td>20</td>\n",
       "      <td>17</td>\n",
       "    </tr>\n",
       "    <tr>\n",
       "      <th>2</th>\n",
       "      <td>react-router-6.28.0</td>\n",
       "      <td>react-router-native</td>\n",
       "      <td>12</td>\n",
       "      <td>154</td>\n",
       "      <td>0</td>\n",
       "      <td>24</td>\n",
       "    </tr>\n",
       "    <tr>\n",
       "      <th>3</th>\n",
       "      <td>react-router-6.28.0</td>\n",
       "      <td>server</td>\n",
       "      <td>6</td>\n",
       "      <td>164</td>\n",
       "      <td>0</td>\n",
       "      <td>38</td>\n",
       "    </tr>\n",
       "  </tbody>\n",
       "</table>\n",
       "</div>"
      ],
      "text/plain": [
       "       rootProjectName           moduleName  numberOfElements  \\\n",
       "0  react-router-6.28.0     react-router-dom                35   \n",
       "1  react-router-6.28.0         react-router                15   \n",
       "2  react-router-6.28.0  react-router-native                12   \n",
       "3  react-router-6.28.0               server                 6   \n",
       "\n",
       "   numberOfGitCommits  incomingDependencies  outgoingDependencies  \n",
       "0                 421                     0                   153  \n",
       "1                 245                    20                    17  \n",
       "2                 154                     0                    24  \n",
       "3                 164                     0                    38  "
      ]
     },
     "execution_count": 10,
     "metadata": {},
     "output_type": "execute_result"
    }
   ],
   "source": [
    "# Sort by number of modules descending\n",
    "internalModules.sort_values(by=['numberOfElements','moduleName'], ascending=[False, True]).reset_index(drop=True).head(30)"
   ]
  },
  {
   "cell_type": "markdown",
   "id": "1e508a21",
   "metadata": {},
   "source": [
    "### Table 1b - Top 30 modules with the highest number of incoming dependencies\n",
    "\n",
    "The following table lists the top 30 internal modules that are used the most by other modules (highest count of incoming dependencies, highest in-degree)."
   ]
  },
  {
   "cell_type": "code",
   "execution_count": 11,
   "id": "107c0a1a",
   "metadata": {
    "execution": {
     "iopub.execute_input": "2024-12-23T07:07:12.895571Z",
     "iopub.status.busy": "2024-12-23T07:07:12.895419Z",
     "iopub.status.idle": "2024-12-23T07:07:12.902242Z",
     "shell.execute_reply": "2024-12-23T07:07:12.901770Z"
    }
   },
   "outputs": [
    {
     "data": {
      "text/html": [
       "<div>\n",
       "<style scoped>\n",
       "    .dataframe tbody tr th:only-of-type {\n",
       "        vertical-align: middle;\n",
       "    }\n",
       "\n",
       "    .dataframe tbody tr th {\n",
       "        vertical-align: top;\n",
       "    }\n",
       "\n",
       "    .dataframe thead th {\n",
       "        text-align: right;\n",
       "    }\n",
       "</style>\n",
       "<table border=\"1\" class=\"dataframe\">\n",
       "  <thead>\n",
       "    <tr style=\"text-align: right;\">\n",
       "      <th></th>\n",
       "      <th>rootProjectName</th>\n",
       "      <th>moduleName</th>\n",
       "      <th>numberOfElements</th>\n",
       "      <th>numberOfGitCommits</th>\n",
       "      <th>incomingDependencies</th>\n",
       "      <th>outgoingDependencies</th>\n",
       "    </tr>\n",
       "  </thead>\n",
       "  <tbody>\n",
       "    <tr>\n",
       "      <th>0</th>\n",
       "      <td>react-router-6.28.0</td>\n",
       "      <td>react-router</td>\n",
       "      <td>15</td>\n",
       "      <td>245</td>\n",
       "      <td>20</td>\n",
       "      <td>17</td>\n",
       "    </tr>\n",
       "    <tr>\n",
       "      <th>1</th>\n",
       "      <td>react-router-6.28.0</td>\n",
       "      <td>react-router-dom</td>\n",
       "      <td>35</td>\n",
       "      <td>421</td>\n",
       "      <td>0</td>\n",
       "      <td>153</td>\n",
       "    </tr>\n",
       "    <tr>\n",
       "      <th>2</th>\n",
       "      <td>react-router-6.28.0</td>\n",
       "      <td>react-router-native</td>\n",
       "      <td>12</td>\n",
       "      <td>154</td>\n",
       "      <td>0</td>\n",
       "      <td>24</td>\n",
       "    </tr>\n",
       "    <tr>\n",
       "      <th>3</th>\n",
       "      <td>react-router-6.28.0</td>\n",
       "      <td>server</td>\n",
       "      <td>6</td>\n",
       "      <td>164</td>\n",
       "      <td>0</td>\n",
       "      <td>38</td>\n",
       "    </tr>\n",
       "  </tbody>\n",
       "</table>\n",
       "</div>"
      ],
      "text/plain": [
       "       rootProjectName           moduleName  numberOfElements  \\\n",
       "0  react-router-6.28.0         react-router                15   \n",
       "1  react-router-6.28.0     react-router-dom                35   \n",
       "2  react-router-6.28.0  react-router-native                12   \n",
       "3  react-router-6.28.0               server                 6   \n",
       "\n",
       "   numberOfGitCommits  incomingDependencies  outgoingDependencies  \n",
       "0                 245                    20                    17  \n",
       "1                 421                     0                   153  \n",
       "2                 154                     0                    24  \n",
       "3                 164                     0                    38  "
      ]
     },
     "execution_count": 11,
     "metadata": {},
     "output_type": "execute_result"
    }
   ],
   "source": [
    "# Sort by number of incoming dependencies descending\n",
    "internalModules.sort_values(by=['incomingDependencies','moduleName'], ascending=[False, True]).reset_index(drop=True).head(30)"
   ]
  },
  {
   "cell_type": "markdown",
   "id": "52593397",
   "metadata": {},
   "source": [
    "### Table 1c - Top 30 modules with the highest number of outgoing dependencies\n",
    "\n",
    "The following table lists the top 30 internal modules that are depending on the highest number of other modules (highest count of outgoing dependencies, highest out-degree)."
   ]
  },
  {
   "cell_type": "code",
   "execution_count": 12,
   "id": "eee13bd8",
   "metadata": {
    "execution": {
     "iopub.execute_input": "2024-12-23T07:07:12.904407Z",
     "iopub.status.busy": "2024-12-23T07:07:12.904242Z",
     "iopub.status.idle": "2024-12-23T07:07:12.911015Z",
     "shell.execute_reply": "2024-12-23T07:07:12.910532Z"
    }
   },
   "outputs": [
    {
     "data": {
      "text/html": [
       "<div>\n",
       "<style scoped>\n",
       "    .dataframe tbody tr th:only-of-type {\n",
       "        vertical-align: middle;\n",
       "    }\n",
       "\n",
       "    .dataframe tbody tr th {\n",
       "        vertical-align: top;\n",
       "    }\n",
       "\n",
       "    .dataframe thead th {\n",
       "        text-align: right;\n",
       "    }\n",
       "</style>\n",
       "<table border=\"1\" class=\"dataframe\">\n",
       "  <thead>\n",
       "    <tr style=\"text-align: right;\">\n",
       "      <th></th>\n",
       "      <th>rootProjectName</th>\n",
       "      <th>moduleName</th>\n",
       "      <th>numberOfElements</th>\n",
       "      <th>numberOfGitCommits</th>\n",
       "      <th>incomingDependencies</th>\n",
       "      <th>outgoingDependencies</th>\n",
       "    </tr>\n",
       "  </thead>\n",
       "  <tbody>\n",
       "    <tr>\n",
       "      <th>0</th>\n",
       "      <td>react-router-6.28.0</td>\n",
       "      <td>react-router-dom</td>\n",
       "      <td>35</td>\n",
       "      <td>421</td>\n",
       "      <td>0</td>\n",
       "      <td>153</td>\n",
       "    </tr>\n",
       "    <tr>\n",
       "      <th>1</th>\n",
       "      <td>react-router-6.28.0</td>\n",
       "      <td>server</td>\n",
       "      <td>6</td>\n",
       "      <td>164</td>\n",
       "      <td>0</td>\n",
       "      <td>38</td>\n",
       "    </tr>\n",
       "    <tr>\n",
       "      <th>2</th>\n",
       "      <td>react-router-6.28.0</td>\n",
       "      <td>react-router-native</td>\n",
       "      <td>12</td>\n",
       "      <td>154</td>\n",
       "      <td>0</td>\n",
       "      <td>24</td>\n",
       "    </tr>\n",
       "    <tr>\n",
       "      <th>3</th>\n",
       "      <td>react-router-6.28.0</td>\n",
       "      <td>react-router</td>\n",
       "      <td>15</td>\n",
       "      <td>245</td>\n",
       "      <td>20</td>\n",
       "      <td>17</td>\n",
       "    </tr>\n",
       "  </tbody>\n",
       "</table>\n",
       "</div>"
      ],
      "text/plain": [
       "       rootProjectName           moduleName  numberOfElements  \\\n",
       "0  react-router-6.28.0     react-router-dom                35   \n",
       "1  react-router-6.28.0               server                 6   \n",
       "2  react-router-6.28.0  react-router-native                12   \n",
       "3  react-router-6.28.0         react-router                15   \n",
       "\n",
       "   numberOfGitCommits  incomingDependencies  outgoingDependencies  \n",
       "0                 421                     0                   153  \n",
       "1                 164                     0                    38  \n",
       "2                 154                     0                    24  \n",
       "3                 245                    20                    17  "
      ]
     },
     "execution_count": 12,
     "metadata": {},
     "output_type": "execute_result"
    }
   ],
   "source": [
    "# Sort by number of outgoing dependencies descending\n",
    "internalModules.sort_values(by=['outgoingDependencies','moduleName'], ascending=[False, True]).reset_index(drop=True).head(30)"
   ]
  },
  {
   "cell_type": "markdown",
   "id": "8c928800",
   "metadata": {},
   "source": [
    "### Table 1d - Top 30 modules with the lowest element count"
   ]
  },
  {
   "cell_type": "code",
   "execution_count": 13,
   "id": "18d73c15",
   "metadata": {
    "execution": {
     "iopub.execute_input": "2024-12-23T07:07:12.912943Z",
     "iopub.status.busy": "2024-12-23T07:07:12.912777Z",
     "iopub.status.idle": "2024-12-23T07:07:12.919426Z",
     "shell.execute_reply": "2024-12-23T07:07:12.918937Z"
    }
   },
   "outputs": [
    {
     "data": {
      "text/html": [
       "<div>\n",
       "<style scoped>\n",
       "    .dataframe tbody tr th:only-of-type {\n",
       "        vertical-align: middle;\n",
       "    }\n",
       "\n",
       "    .dataframe tbody tr th {\n",
       "        vertical-align: top;\n",
       "    }\n",
       "\n",
       "    .dataframe thead th {\n",
       "        text-align: right;\n",
       "    }\n",
       "</style>\n",
       "<table border=\"1\" class=\"dataframe\">\n",
       "  <thead>\n",
       "    <tr style=\"text-align: right;\">\n",
       "      <th></th>\n",
       "      <th>rootProjectName</th>\n",
       "      <th>moduleName</th>\n",
       "      <th>numberOfElements</th>\n",
       "      <th>numberOfGitCommits</th>\n",
       "      <th>incomingDependencies</th>\n",
       "      <th>outgoingDependencies</th>\n",
       "    </tr>\n",
       "  </thead>\n",
       "  <tbody>\n",
       "    <tr>\n",
       "      <th>0</th>\n",
       "      <td>react-router-6.28.0</td>\n",
       "      <td>server</td>\n",
       "      <td>6</td>\n",
       "      <td>164</td>\n",
       "      <td>0</td>\n",
       "      <td>38</td>\n",
       "    </tr>\n",
       "    <tr>\n",
       "      <th>1</th>\n",
       "      <td>react-router-6.28.0</td>\n",
       "      <td>react-router-native</td>\n",
       "      <td>12</td>\n",
       "      <td>154</td>\n",
       "      <td>0</td>\n",
       "      <td>24</td>\n",
       "    </tr>\n",
       "    <tr>\n",
       "      <th>2</th>\n",
       "      <td>react-router-6.28.0</td>\n",
       "      <td>react-router</td>\n",
       "      <td>15</td>\n",
       "      <td>245</td>\n",
       "      <td>20</td>\n",
       "      <td>17</td>\n",
       "    </tr>\n",
       "    <tr>\n",
       "      <th>3</th>\n",
       "      <td>react-router-6.28.0</td>\n",
       "      <td>react-router-dom</td>\n",
       "      <td>35</td>\n",
       "      <td>421</td>\n",
       "      <td>0</td>\n",
       "      <td>153</td>\n",
       "    </tr>\n",
       "  </tbody>\n",
       "</table>\n",
       "</div>"
      ],
      "text/plain": [
       "       rootProjectName           moduleName  numberOfElements  \\\n",
       "0  react-router-6.28.0               server                 6   \n",
       "1  react-router-6.28.0  react-router-native                12   \n",
       "2  react-router-6.28.0         react-router                15   \n",
       "3  react-router-6.28.0     react-router-dom                35   \n",
       "\n",
       "   numberOfGitCommits  incomingDependencies  outgoingDependencies  \n",
       "0                 164                     0                    38  \n",
       "1                 154                     0                    24  \n",
       "2                 245                    20                    17  \n",
       "3                 421                     0                   153  "
      ]
     },
     "execution_count": 13,
     "metadata": {},
     "output_type": "execute_result"
    }
   ],
   "source": [
    "# Sort by number of elements ascending\n",
    "internalModules.sort_values(by=['numberOfElements','moduleName'], ascending=[True, True]).reset_index(drop=True).head(30)"
   ]
  },
  {
   "cell_type": "markdown",
   "id": "9f628024",
   "metadata": {},
   "source": [
    "### Table 1e - Top 30 modules with the lowest number of incoming dependencies\n",
    "\n",
    "The following table lists the top 30 internal modules that are used the least by other modules (lowest count of incoming dependencies, lowest in-degree)."
   ]
  },
  {
   "cell_type": "code",
   "execution_count": 14,
   "id": "6100d597",
   "metadata": {
    "execution": {
     "iopub.execute_input": "2024-12-23T07:07:12.921375Z",
     "iopub.status.busy": "2024-12-23T07:07:12.921223Z",
     "iopub.status.idle": "2024-12-23T07:07:12.927757Z",
     "shell.execute_reply": "2024-12-23T07:07:12.927313Z"
    }
   },
   "outputs": [
    {
     "data": {
      "text/html": [
       "<div>\n",
       "<style scoped>\n",
       "    .dataframe tbody tr th:only-of-type {\n",
       "        vertical-align: middle;\n",
       "    }\n",
       "\n",
       "    .dataframe tbody tr th {\n",
       "        vertical-align: top;\n",
       "    }\n",
       "\n",
       "    .dataframe thead th {\n",
       "        text-align: right;\n",
       "    }\n",
       "</style>\n",
       "<table border=\"1\" class=\"dataframe\">\n",
       "  <thead>\n",
       "    <tr style=\"text-align: right;\">\n",
       "      <th></th>\n",
       "      <th>rootProjectName</th>\n",
       "      <th>moduleName</th>\n",
       "      <th>numberOfElements</th>\n",
       "      <th>numberOfGitCommits</th>\n",
       "      <th>incomingDependencies</th>\n",
       "      <th>outgoingDependencies</th>\n",
       "    </tr>\n",
       "  </thead>\n",
       "  <tbody>\n",
       "    <tr>\n",
       "      <th>0</th>\n",
       "      <td>react-router-6.28.0</td>\n",
       "      <td>react-router-dom</td>\n",
       "      <td>35</td>\n",
       "      <td>421</td>\n",
       "      <td>0</td>\n",
       "      <td>153</td>\n",
       "    </tr>\n",
       "    <tr>\n",
       "      <th>1</th>\n",
       "      <td>react-router-6.28.0</td>\n",
       "      <td>react-router-native</td>\n",
       "      <td>12</td>\n",
       "      <td>154</td>\n",
       "      <td>0</td>\n",
       "      <td>24</td>\n",
       "    </tr>\n",
       "    <tr>\n",
       "      <th>2</th>\n",
       "      <td>react-router-6.28.0</td>\n",
       "      <td>server</td>\n",
       "      <td>6</td>\n",
       "      <td>164</td>\n",
       "      <td>0</td>\n",
       "      <td>38</td>\n",
       "    </tr>\n",
       "    <tr>\n",
       "      <th>3</th>\n",
       "      <td>react-router-6.28.0</td>\n",
       "      <td>react-router</td>\n",
       "      <td>15</td>\n",
       "      <td>245</td>\n",
       "      <td>20</td>\n",
       "      <td>17</td>\n",
       "    </tr>\n",
       "  </tbody>\n",
       "</table>\n",
       "</div>"
      ],
      "text/plain": [
       "       rootProjectName           moduleName  numberOfElements  \\\n",
       "0  react-router-6.28.0     react-router-dom                35   \n",
       "1  react-router-6.28.0  react-router-native                12   \n",
       "2  react-router-6.28.0               server                 6   \n",
       "3  react-router-6.28.0         react-router                15   \n",
       "\n",
       "   numberOfGitCommits  incomingDependencies  outgoingDependencies  \n",
       "0                 421                     0                   153  \n",
       "1                 154                     0                    24  \n",
       "2                 164                     0                    38  \n",
       "3                 245                    20                    17  "
      ]
     },
     "execution_count": 14,
     "metadata": {},
     "output_type": "execute_result"
    }
   ],
   "source": [
    "# Sort by number of incoming dependencies ascending\n",
    "internalModules.sort_values(by=['incomingDependencies','moduleName'], ascending=[True, True]).reset_index(drop=True).head(30)"
   ]
  },
  {
   "cell_type": "markdown",
   "id": "ad07b654",
   "metadata": {},
   "source": [
    "### Table 1f - Top 30 modules with the lowest number of outgoing dependencies\n",
    "\n",
    "The following table lists the top 30 internal modules that are depending on the lowest number of other modules (lowest count of outgoing dependencies, lowest out-degree)."
   ]
  },
  {
   "cell_type": "code",
   "execution_count": 15,
   "id": "cd096a38",
   "metadata": {
    "execution": {
     "iopub.execute_input": "2024-12-23T07:07:12.929792Z",
     "iopub.status.busy": "2024-12-23T07:07:12.929638Z",
     "iopub.status.idle": "2024-12-23T07:07:12.936558Z",
     "shell.execute_reply": "2024-12-23T07:07:12.936067Z"
    }
   },
   "outputs": [
    {
     "data": {
      "text/html": [
       "<div>\n",
       "<style scoped>\n",
       "    .dataframe tbody tr th:only-of-type {\n",
       "        vertical-align: middle;\n",
       "    }\n",
       "\n",
       "    .dataframe tbody tr th {\n",
       "        vertical-align: top;\n",
       "    }\n",
       "\n",
       "    .dataframe thead th {\n",
       "        text-align: right;\n",
       "    }\n",
       "</style>\n",
       "<table border=\"1\" class=\"dataframe\">\n",
       "  <thead>\n",
       "    <tr style=\"text-align: right;\">\n",
       "      <th></th>\n",
       "      <th>rootProjectName</th>\n",
       "      <th>moduleName</th>\n",
       "      <th>numberOfElements</th>\n",
       "      <th>numberOfGitCommits</th>\n",
       "      <th>incomingDependencies</th>\n",
       "      <th>outgoingDependencies</th>\n",
       "    </tr>\n",
       "  </thead>\n",
       "  <tbody>\n",
       "    <tr>\n",
       "      <th>0</th>\n",
       "      <td>react-router-6.28.0</td>\n",
       "      <td>react-router</td>\n",
       "      <td>15</td>\n",
       "      <td>245</td>\n",
       "      <td>20</td>\n",
       "      <td>17</td>\n",
       "    </tr>\n",
       "    <tr>\n",
       "      <th>1</th>\n",
       "      <td>react-router-6.28.0</td>\n",
       "      <td>react-router-native</td>\n",
       "      <td>12</td>\n",
       "      <td>154</td>\n",
       "      <td>0</td>\n",
       "      <td>24</td>\n",
       "    </tr>\n",
       "    <tr>\n",
       "      <th>2</th>\n",
       "      <td>react-router-6.28.0</td>\n",
       "      <td>server</td>\n",
       "      <td>6</td>\n",
       "      <td>164</td>\n",
       "      <td>0</td>\n",
       "      <td>38</td>\n",
       "    </tr>\n",
       "    <tr>\n",
       "      <th>3</th>\n",
       "      <td>react-router-6.28.0</td>\n",
       "      <td>react-router-dom</td>\n",
       "      <td>35</td>\n",
       "      <td>421</td>\n",
       "      <td>0</td>\n",
       "      <td>153</td>\n",
       "    </tr>\n",
       "  </tbody>\n",
       "</table>\n",
       "</div>"
      ],
      "text/plain": [
       "       rootProjectName           moduleName  numberOfElements  \\\n",
       "0  react-router-6.28.0         react-router                15   \n",
       "1  react-router-6.28.0  react-router-native                12   \n",
       "2  react-router-6.28.0               server                 6   \n",
       "3  react-router-6.28.0     react-router-dom                35   \n",
       "\n",
       "   numberOfGitCommits  incomingDependencies  outgoingDependencies  \n",
       "0                 245                    20                    17  \n",
       "1                 154                     0                    24  \n",
       "2                 164                     0                    38  \n",
       "3                 421                     0                   153  "
      ]
     },
     "execution_count": 15,
     "metadata": {},
     "output_type": "execute_result"
    }
   ],
   "source": [
    "# Sort by number of outgoing dependencies ascending\n",
    "internalModules.sort_values(by=['outgoingDependencies','moduleName'], ascending=[True, True]).reset_index(drop=True).head(30)"
   ]
  },
  {
   "attachments": {},
   "cell_type": "markdown",
   "id": "d7cfd862",
   "metadata": {},
   "source": [
    "## 2 - Cyclic Dependencies\n",
    "\n",
    "Cyclic dependencies occur when one module uses an elements of another module and vice versa. \n",
    "These dependencies can lead to problems when one of these modules needs to be changed."
   ]
  },
  {
   "cell_type": "markdown",
   "id": "9112f590",
   "metadata": {},
   "source": [
    "### Table 2a - Cyclic Dependencies Overview\n",
    "\n",
    "Show the top 40 cyclic dependencies sorted by the most promising to resolve first. This is done by calculating the number of forward dependencies (first cycle participant to second cycle participant) in relation to backward dependencies (second cycle participant back to first cycle participant). The higher this rate (approaching 1), the easier it should be to resolve the cycle by focussing on the few backward dependencies.\n",
    "\n",
    "Only the top 40 entries are shown. The whole table can be found in the following CSV report:  \n",
    "`Cyclic_Dependencies_for_Typescript`\n",
    "\n",
    "**Columns:**\n",
    "- *projectFileName* identifies the project of the first participant of the cycle\n",
    "- *modulePathName* identifies the module of the first participant of the cycle\n",
    "- *dependentProjectFileName* identifies the project of the second participant of the cycle\n",
    "- *dependentModulePathName* identifies the module of the second participant of the cycle\n",
    "- *forwardToBackwardBalance* is between 0 and 1. High for many forward and few backward dependencies.\n",
    "- *numberForward* contains the number of dependencies from the first participant of the cycle to the second one\n",
    "- *numberBackward* contains the number of dependencies from the second participant of the cycle back to the first one\n",
    "- *someForwardDependencies* lists some forward dependencies in the text format \"type1 -> type2\"\n",
    "- *backwardDependencies* lists the backward dependencies in the format \"type1 <- type2\" that are recommended to get resolved"
   ]
  },
  {
   "cell_type": "code",
   "execution_count": 16,
   "id": "fa634a4e",
   "metadata": {
    "execution": {
     "iopub.execute_input": "2024-12-23T07:07:12.938764Z",
     "iopub.status.busy": "2024-12-23T07:07:12.938564Z",
     "iopub.status.idle": "2024-12-23T07:07:13.122808Z",
     "shell.execute_reply": "2024-12-23T07:07:13.122369Z"
    },
    "scrolled": false
   },
   "outputs": [
    {
     "data": {
      "text/html": [
       "<div>\n",
       "<style scoped>\n",
       "    .dataframe tbody tr th:only-of-type {\n",
       "        vertical-align: middle;\n",
       "    }\n",
       "\n",
       "    .dataframe tbody tr th {\n",
       "        vertical-align: top;\n",
       "    }\n",
       "\n",
       "    .dataframe thead th {\n",
       "        text-align: right;\n",
       "    }\n",
       "</style>\n",
       "<table border=\"1\" class=\"dataframe\">\n",
       "  <thead>\n",
       "    <tr style=\"text-align: right;\">\n",
       "      <th></th>\n",
       "      <th>projectFileName</th>\n",
       "      <th>moduleName</th>\n",
       "      <th>dependentProjectFileName</th>\n",
       "      <th>dependentModulePathName</th>\n",
       "      <th>forwardToBackwardBalance</th>\n",
       "      <th>numberForward</th>\n",
       "      <th>numberBackward</th>\n",
       "      <th>forwardDependencyExamples</th>\n",
       "      <th>backwardDependencyExamples</th>\n",
       "    </tr>\n",
       "  </thead>\n",
       "  <tbody>\n",
       "  </tbody>\n",
       "</table>\n",
       "</div>"
      ],
      "text/plain": [
       "Empty DataFrame\n",
       "Columns: [projectFileName, moduleName, dependentProjectFileName, dependentModulePathName, forwardToBackwardBalance, numberForward, numberBackward, forwardDependencyExamples, backwardDependencyExamples]\n",
       "Index: []"
      ]
     },
     "execution_count": 16,
     "metadata": {},
     "output_type": "execute_result"
    }
   ],
   "source": [
    "cyclic_dependencies = query_cypher_to_data_frame(\"../cypher/Cyclic_Dependencies/Cyclic_Dependencies_for_Typescript.cypher\")\n",
    "cyclic_dependencies.head(40)"
   ]
  },
  {
   "attachments": {},
   "cell_type": "markdown",
   "id": "02146c4d",
   "metadata": {},
   "source": [
    "### Table 2b - Cyclic Dependencies Break Down\n",
    "\n",
    "Lists modules with cyclic dependencies with every dependency in a separate row sorted by the most promising dependency first.\n",
    "\n",
    "Only the top 40 entries are shown. The whole table can be found in the following CSV report:  \n",
    "`Cyclic_Dependencies_Breakdown_for_Typescript`\n",
    "\n",
    "**Columns in addition to Table 2a:**\n",
    "- *dependency* shows the cycle dependency in the text format \"type1 -> type2\" (forward) or \"type2<-type1\" (backward)"
   ]
  },
  {
   "cell_type": "code",
   "execution_count": 17,
   "id": "cf49a164",
   "metadata": {
    "execution": {
     "iopub.execute_input": "2024-12-23T07:07:13.124940Z",
     "iopub.status.busy": "2024-12-23T07:07:13.124767Z",
     "iopub.status.idle": "2024-12-23T07:07:13.297427Z",
     "shell.execute_reply": "2024-12-23T07:07:13.296932Z"
    }
   },
   "outputs": [
    {
     "data": {
      "text/html": [
       "<div>\n",
       "<style scoped>\n",
       "    .dataframe tbody tr th:only-of-type {\n",
       "        vertical-align: middle;\n",
       "    }\n",
       "\n",
       "    .dataframe tbody tr th {\n",
       "        vertical-align: top;\n",
       "    }\n",
       "\n",
       "    .dataframe thead th {\n",
       "        text-align: right;\n",
       "    }\n",
       "</style>\n",
       "<table border=\"1\" class=\"dataframe\">\n",
       "  <thead>\n",
       "    <tr style=\"text-align: right;\">\n",
       "      <th></th>\n",
       "      <th>projectFileName</th>\n",
       "      <th>moduleName</th>\n",
       "      <th>dependentProjectFileName</th>\n",
       "      <th>dependentModulePathName</th>\n",
       "      <th>dependency</th>\n",
       "      <th>forwardToBackwardBalance</th>\n",
       "      <th>numberForward</th>\n",
       "      <th>numberBackward</th>\n",
       "    </tr>\n",
       "  </thead>\n",
       "  <tbody>\n",
       "  </tbody>\n",
       "</table>\n",
       "</div>"
      ],
      "text/plain": [
       "Empty DataFrame\n",
       "Columns: [projectFileName, moduleName, dependentProjectFileName, dependentModulePathName, dependency, forwardToBackwardBalance, numberForward, numberBackward]\n",
       "Index: []"
      ]
     },
     "execution_count": 17,
     "metadata": {},
     "output_type": "execute_result"
    }
   ],
   "source": [
    "cyclic_dependencies_breakdown = query_cypher_to_data_frame(\"../cypher/Cyclic_Dependencies/Cyclic_Dependencies_Breakdown_for_Typescript.cypher\",limit=40)\n",
    "cyclic_dependencies_breakdown"
   ]
  },
  {
   "cell_type": "markdown",
   "id": "52f46a62",
   "metadata": {},
   "source": [
    "### Table 2c - Cyclic Dependencies Break Down - Backward Dependencies Only\n",
    "\n",
    "Lists modules with cyclic dependencies with every dependency in a separate row sorted by the most promising  dependency first. This table only contains the backward dependencies from the second participant of the cycle back to the first one that are the most promising to resolve.\n",
    "\n",
    "Only the top 40 entries are shown. The whole table can be found in the following CSV report:  \n",
    "`Cyclic_Dependencies_Breakdown_BackwardOnly_for_Typescript`"
   ]
  },
  {
   "cell_type": "code",
   "execution_count": 18,
   "id": "61521c88",
   "metadata": {
    "execution": {
     "iopub.execute_input": "2024-12-23T07:07:13.299899Z",
     "iopub.status.busy": "2024-12-23T07:07:13.299529Z",
     "iopub.status.idle": "2024-12-23T07:07:13.475458Z",
     "shell.execute_reply": "2024-12-23T07:07:13.474903Z"
    }
   },
   "outputs": [
    {
     "data": {
      "text/html": [
       "<div>\n",
       "<style scoped>\n",
       "    .dataframe tbody tr th:only-of-type {\n",
       "        vertical-align: middle;\n",
       "    }\n",
       "\n",
       "    .dataframe tbody tr th {\n",
       "        vertical-align: top;\n",
       "    }\n",
       "\n",
       "    .dataframe thead th {\n",
       "        text-align: right;\n",
       "    }\n",
       "</style>\n",
       "<table border=\"1\" class=\"dataframe\">\n",
       "  <thead>\n",
       "    <tr style=\"text-align: right;\">\n",
       "      <th></th>\n",
       "      <th>projectFileName</th>\n",
       "      <th>moduleName</th>\n",
       "      <th>dependentProjectFileName</th>\n",
       "      <th>dependentModulePathName</th>\n",
       "      <th>dependency</th>\n",
       "      <th>forwardToBackwardBalance</th>\n",
       "      <th>numberForward</th>\n",
       "      <th>numberBackward</th>\n",
       "    </tr>\n",
       "  </thead>\n",
       "  <tbody>\n",
       "  </tbody>\n",
       "</table>\n",
       "</div>"
      ],
      "text/plain": [
       "Empty DataFrame\n",
       "Columns: [projectFileName, moduleName, dependentProjectFileName, dependentModulePathName, dependency, forwardToBackwardBalance, numberForward, numberBackward]\n",
       "Index: []"
      ]
     },
     "execution_count": 18,
     "metadata": {},
     "output_type": "execute_result"
    }
   ],
   "source": [
    "cyclic_dependencies_breakdown_backward = query_cypher_to_data_frame(\"../cypher/Cyclic_Dependencies/Cyclic_Dependencies_Breakdown_Backward_Only_for_Typescript.cypher\",limit=40)\n",
    "cyclic_dependencies_breakdown_backward"
   ]
  },
  {
   "attachments": {},
   "cell_type": "markdown",
   "id": "4be116e8",
   "metadata": {},
   "source": [
    "## 3 - Module Usage"
   ]
  },
  {
   "attachments": {},
   "cell_type": "markdown",
   "id": "bb185191",
   "metadata": {},
   "source": [
    "### Table 3a - Elements that are used by multiple modules\n",
    "\n",
    "This table shows the top 40 modules that are used by the highest number of different modules. The whole table can be found in the CSV report `WidelyUsedTypescriptElements`.\n"
   ]
  },
  {
   "cell_type": "code",
   "execution_count": 19,
   "id": "36a34924",
   "metadata": {
    "execution": {
     "iopub.execute_input": "2024-12-23T07:07:13.477782Z",
     "iopub.status.busy": "2024-12-23T07:07:13.477621Z",
     "iopub.status.idle": "2024-12-23T07:07:13.544021Z",
     "shell.execute_reply": "2024-12-23T07:07:13.543479Z"
    },
    "scrolled": false
   },
   "outputs": [
    {
     "data": {
      "text/html": [
       "<div>\n",
       "<style scoped>\n",
       "    .dataframe tbody tr th:only-of-type {\n",
       "        vertical-align: middle;\n",
       "    }\n",
       "\n",
       "    .dataframe tbody tr th {\n",
       "        vertical-align: top;\n",
       "    }\n",
       "\n",
       "    .dataframe thead th {\n",
       "        text-align: right;\n",
       "    }\n",
       "</style>\n",
       "<table border=\"1\" class=\"dataframe\">\n",
       "  <thead>\n",
       "    <tr style=\"text-align: right;\">\n",
       "      <th></th>\n",
       "      <th>fullQualifiedDependentElementName</th>\n",
       "      <th>dependentElementModuleName</th>\n",
       "      <th>dependentElementName</th>\n",
       "      <th>dependentElementLabels</th>\n",
       "      <th>numberOfUsingModules</th>\n",
       "    </tr>\n",
       "  </thead>\n",
       "  <tbody>\n",
       "    <tr>\n",
       "      <th>0</th>\n",
       "      <td>\"/home/runner/work/code-graph-analysis-pipeline/code-graph-analysis-pipeline/temp/react-router-6.28.0/source/react-router-6.28.0/packages/react-router\".useLocation</td>\n",
       "      <td>react-router</td>\n",
       "      <td>useLocation</td>\n",
       "      <td>ExternalDeclaration</td>\n",
       "      <td>2</td>\n",
       "    </tr>\n",
       "    <tr>\n",
       "      <th>1</th>\n",
       "      <td>\"/home/runner/work/code-graph-analysis-pipeline/code-graph-analysis-pipeline/temp/react-router-6.28.0/source/react-router-6.28.0/packages/react-router\".useNavigate</td>\n",
       "      <td>react-router</td>\n",
       "      <td>useNavigate</td>\n",
       "      <td>ExternalDeclaration</td>\n",
       "      <td>2</td>\n",
       "    </tr>\n",
       "    <tr>\n",
       "      <th>2</th>\n",
       "      <td>\"/home/runner/work/code-graph-analysis-pipeline/code-graph-analysis-pipeline/temp/react-router-6.28.0/source/react-router-6.28.0/packages/react-router\".createPath</td>\n",
       "      <td>react-router</td>\n",
       "      <td>createPath</td>\n",
       "      <td>ExternalDeclaration</td>\n",
       "      <td>1</td>\n",
       "    </tr>\n",
       "    <tr>\n",
       "      <th>3</th>\n",
       "      <td>\"/home/runner/work/code-graph-analysis-pipeline/code-graph-analysis-pipeline/temp/react-router-6.28.0/source/react-router-6.28.0/packages/react-router\".useBlocker</td>\n",
       "      <td>react-router</td>\n",
       "      <td>useBlocker</td>\n",
       "      <td>ExternalDeclaration</td>\n",
       "      <td>1</td>\n",
       "    </tr>\n",
       "    <tr>\n",
       "      <th>4</th>\n",
       "      <td>\"/home/runner/work/code-graph-analysis-pipeline/code-graph-analysis-pipeline/temp/react-router-6.28.0/source/react-router-6.28.0/packages/react-router\".useHref</td>\n",
       "      <td>react-router</td>\n",
       "      <td>useHref</td>\n",
       "      <td>ExternalDeclaration</td>\n",
       "      <td>1</td>\n",
       "    </tr>\n",
       "    <tr>\n",
       "      <th>5</th>\n",
       "      <td>\"/home/runner/work/code-graph-analysis-pipeline/code-graph-analysis-pipeline/temp/react-router-6.28.0/source/react-router-6.28.0/packages/react-router\".useMatches</td>\n",
       "      <td>react-router</td>\n",
       "      <td>useMatches</td>\n",
       "      <td>ExternalDeclaration</td>\n",
       "      <td>1</td>\n",
       "    </tr>\n",
       "    <tr>\n",
       "      <th>6</th>\n",
       "      <td>\"/home/runner/work/code-graph-analysis-pipeline/code-graph-analysis-pipeline/temp/react-router-6.28.0/source/react-router-6.28.0/packages/react-router\".useNavigation</td>\n",
       "      <td>react-router</td>\n",
       "      <td>useNavigation</td>\n",
       "      <td>ExternalDeclaration</td>\n",
       "      <td>1</td>\n",
       "    </tr>\n",
       "    <tr>\n",
       "      <th>7</th>\n",
       "      <td>\"/home/runner/work/code-graph-analysis-pipeline/code-graph-analysis-pipeline/temp/react-router-6.28.0/source/react-router-6.28.0/packages/react-router\".useResolvedPath</td>\n",
       "      <td>react-router</td>\n",
       "      <td>useResolvedPath</td>\n",
       "      <td>ExternalDeclaration</td>\n",
       "      <td>1</td>\n",
       "    </tr>\n",
       "  </tbody>\n",
       "</table>\n",
       "</div>"
      ],
      "text/plain": [
       "                                                                                                                                         fullQualifiedDependentElementName  \\\n",
       "0      \"/home/runner/work/code-graph-analysis-pipeline/code-graph-analysis-pipeline/temp/react-router-6.28.0/source/react-router-6.28.0/packages/react-router\".useLocation   \n",
       "1      \"/home/runner/work/code-graph-analysis-pipeline/code-graph-analysis-pipeline/temp/react-router-6.28.0/source/react-router-6.28.0/packages/react-router\".useNavigate   \n",
       "2       \"/home/runner/work/code-graph-analysis-pipeline/code-graph-analysis-pipeline/temp/react-router-6.28.0/source/react-router-6.28.0/packages/react-router\".createPath   \n",
       "3       \"/home/runner/work/code-graph-analysis-pipeline/code-graph-analysis-pipeline/temp/react-router-6.28.0/source/react-router-6.28.0/packages/react-router\".useBlocker   \n",
       "4          \"/home/runner/work/code-graph-analysis-pipeline/code-graph-analysis-pipeline/temp/react-router-6.28.0/source/react-router-6.28.0/packages/react-router\".useHref   \n",
       "5       \"/home/runner/work/code-graph-analysis-pipeline/code-graph-analysis-pipeline/temp/react-router-6.28.0/source/react-router-6.28.0/packages/react-router\".useMatches   \n",
       "6    \"/home/runner/work/code-graph-analysis-pipeline/code-graph-analysis-pipeline/temp/react-router-6.28.0/source/react-router-6.28.0/packages/react-router\".useNavigation   \n",
       "7  \"/home/runner/work/code-graph-analysis-pipeline/code-graph-analysis-pipeline/temp/react-router-6.28.0/source/react-router-6.28.0/packages/react-router\".useResolvedPath   \n",
       "\n",
       "  dependentElementModuleName dependentElementName dependentElementLabels  \\\n",
       "0               react-router          useLocation    ExternalDeclaration   \n",
       "1               react-router          useNavigate    ExternalDeclaration   \n",
       "2               react-router           createPath    ExternalDeclaration   \n",
       "3               react-router           useBlocker    ExternalDeclaration   \n",
       "4               react-router              useHref    ExternalDeclaration   \n",
       "5               react-router           useMatches    ExternalDeclaration   \n",
       "6               react-router        useNavigation    ExternalDeclaration   \n",
       "7               react-router      useResolvedPath    ExternalDeclaration   \n",
       "\n",
       "   numberOfUsingModules  \n",
       "0                     2  \n",
       "1                     2  \n",
       "2                     1  \n",
       "3                     1  \n",
       "4                     1  \n",
       "5                     1  \n",
       "6                     1  \n",
       "7                     1  "
      ]
     },
     "execution_count": 19,
     "metadata": {},
     "output_type": "execute_result"
    }
   ],
   "source": [
    "elements_used_by_many_modules=query_cypher_to_data_frame(\"../cypher/Internal_Dependencies/List_elements_that_are_used_by_many_different_modules_for_Typescript.cypher\", limit=40)\n",
    "elements_used_by_many_modules"
   ]
  },
  {
   "attachments": {},
   "cell_type": "markdown",
   "id": "73dd1b13",
   "metadata": {},
   "source": [
    "### Table 3b - Elements that are used by multiple modules\n",
    "\n",
    "This table shows the top 30 modules that only use a few (compared to all existing) elements of another module.\n",
    "The whole table can be found in the CSV report `ModuleElementsUsageTypescript`."
   ]
  },
  {
   "cell_type": "code",
   "execution_count": 20,
   "id": "bf3d43c5",
   "metadata": {
    "execution": {
     "iopub.execute_input": "2024-12-23T07:07:13.546286Z",
     "iopub.status.busy": "2024-12-23T07:07:13.546127Z",
     "iopub.status.idle": "2024-12-23T07:07:13.637361Z",
     "shell.execute_reply": "2024-12-23T07:07:13.636873Z"
    },
    "scrolled": true
   },
   "outputs": [
    {
     "data": {
      "text/html": [
       "<div>\n",
       "<style scoped>\n",
       "    .dataframe tbody tr th:only-of-type {\n",
       "        vertical-align: middle;\n",
       "    }\n",
       "\n",
       "    .dataframe tbody tr th {\n",
       "        vertical-align: top;\n",
       "    }\n",
       "\n",
       "    .dataframe thead th {\n",
       "        text-align: right;\n",
       "    }\n",
       "</style>\n",
       "<table border=\"1\" class=\"dataframe\">\n",
       "  <thead>\n",
       "    <tr style=\"text-align: right;\">\n",
       "      <th></th>\n",
       "      <th>sourceModuleName</th>\n",
       "      <th>dependentModuleName</th>\n",
       "      <th>dependentElementsCount</th>\n",
       "      <th>dependentModuleElementsCount</th>\n",
       "      <th>elementUsagePercentage</th>\n",
       "      <th>dependentElementFullNameExamples</th>\n",
       "      <th>dependentElementNameExamples</th>\n",
       "    </tr>\n",
       "  </thead>\n",
       "  <tbody>\n",
       "    <tr>\n",
       "      <th>0</th>\n",
       "      <td>react-router-native</td>\n",
       "      <td>react-router</td>\n",
       "      <td>2</td>\n",
       "      <td>15</td>\n",
       "      <td>0.133333</td>\n",
       "      <td>[\"/home/runner/work/code-graph-analysis-pipeline/code-graph-analysis-pipeline/temp/react-router-6.28.0/source/react-router-6.28.0/packages/react-router\".useNavigate, \"/home/runner/work/code-graph-analysis-pipeline/code-graph-analysis-pipeline/temp/react-router-6.28.0/source/react-router-6.28.0/p...</td>\n",
       "      <td>[useNavigate, useLocation]</td>\n",
       "    </tr>\n",
       "    <tr>\n",
       "      <th>1</th>\n",
       "      <td>react-router-dom</td>\n",
       "      <td>react-router</td>\n",
       "      <td>8</td>\n",
       "      <td>15</td>\n",
       "      <td>0.533333</td>\n",
       "      <td>[\"/home/runner/work/code-graph-analysis-pipeline/code-graph-analysis-pipeline/temp/react-router-6.28.0/source/react-router-6.28.0/packages/react-router\".useBlocker, \"/home/runner/work/code-graph-analysis-pipeline/code-graph-analysis-pipeline/temp/react-router-6.28.0/source/react-router-6.28.0/pa...</td>\n",
       "      <td>[useBlocker, useNavigation, useNavigate, useResolvedPath]</td>\n",
       "    </tr>\n",
       "  </tbody>\n",
       "</table>\n",
       "</div>"
      ],
      "text/plain": [
       "      sourceModuleName dependentModuleName  dependentElementsCount  \\\n",
       "0  react-router-native        react-router                       2   \n",
       "1     react-router-dom        react-router                       8   \n",
       "\n",
       "   dependentModuleElementsCount  elementUsagePercentage  \\\n",
       "0                            15                0.133333   \n",
       "1                            15                0.533333   \n",
       "\n",
       "                                                                                                                                                                                                                                                                              dependentElementFullNameExamples  \\\n",
       "0  [\"/home/runner/work/code-graph-analysis-pipeline/code-graph-analysis-pipeline/temp/react-router-6.28.0/source/react-router-6.28.0/packages/react-router\".useNavigate, \"/home/runner/work/code-graph-analysis-pipeline/code-graph-analysis-pipeline/temp/react-router-6.28.0/source/react-router-6.28.0/p...   \n",
       "1  [\"/home/runner/work/code-graph-analysis-pipeline/code-graph-analysis-pipeline/temp/react-router-6.28.0/source/react-router-6.28.0/packages/react-router\".useBlocker, \"/home/runner/work/code-graph-analysis-pipeline/code-graph-analysis-pipeline/temp/react-router-6.28.0/source/react-router-6.28.0/pa...   \n",
       "\n",
       "                                dependentElementNameExamples  \n",
       "0                                 [useNavigate, useLocation]  \n",
       "1  [useBlocker, useNavigation, useNavigate, useResolvedPath]  "
      ]
     },
     "execution_count": 20,
     "metadata": {},
     "output_type": "execute_result"
    }
   ],
   "source": [
    "used_packages_of_dependent_artifact=query_cypher_to_data_frame(\"../cypher/Internal_Dependencies/How_many_elements_compared_to_all_existing_are_used_by_dependent_modules_for_Typescript.cypher\",limit=30)\n",
    "used_packages_of_dependent_artifact"
   ]
  },
  {
   "cell_type": "markdown",
   "id": "d06d91b7",
   "metadata": {},
   "source": [
    "### Table 3c - Distance distribution between dependent files\n",
    "\n",
    "This table shows the file directory distance distribution between dependent files. Intuitively, the distance is given by the fewest number of change directory commands needed to navigate between a file and a dependency it uses. Those are aggregate to see how many dependent files are in the same directory, how many are just one change directory command apart, and so on."
   ]
  },
  {
   "cell_type": "code",
   "execution_count": 21,
   "id": "80166282",
   "metadata": {
    "execution": {
     "iopub.execute_input": "2024-12-23T07:07:13.639463Z",
     "iopub.status.busy": "2024-12-23T07:07:13.639313Z",
     "iopub.status.idle": "2024-12-23T07:07:13.682557Z",
     "shell.execute_reply": "2024-12-23T07:07:13.681984Z"
    }
   },
   "outputs": [
    {
     "data": {
      "text/html": [
       "<div>\n",
       "<style scoped>\n",
       "    .dataframe tbody tr th:only-of-type {\n",
       "        vertical-align: middle;\n",
       "    }\n",
       "\n",
       "    .dataframe tbody tr th {\n",
       "        vertical-align: top;\n",
       "    }\n",
       "\n",
       "    .dataframe thead th {\n",
       "        text-align: right;\n",
       "    }\n",
       "</style>\n",
       "<table border=\"1\" class=\"dataframe\">\n",
       "  <thead>\n",
       "    <tr style=\"text-align: right;\">\n",
       "      <th></th>\n",
       "      <th>dependency.fileDistanceAsFewestChangeDirectoryCommands</th>\n",
       "      <th>numberOfDependencies</th>\n",
       "      <th>numberOfDependencyUsers</th>\n",
       "      <th>numberOfDependencyProviders</th>\n",
       "      <th>examples</th>\n",
       "    </tr>\n",
       "  </thead>\n",
       "  <tbody>\n",
       "    <tr>\n",
       "      <th>0</th>\n",
       "      <td>4</td>\n",
       "      <td>3</td>\n",
       "      <td>3</td>\n",
       "      <td>1</td>\n",
       "      <td>[./server.tsx uses ./index.ts, ./index.tsx uses ./index.ts, ./index.tsx uses ./index.ts]</td>\n",
       "    </tr>\n",
       "  </tbody>\n",
       "</table>\n",
       "</div>"
      ],
      "text/plain": [
       "   dependency.fileDistanceAsFewestChangeDirectoryCommands  \\\n",
       "0                                                       4   \n",
       "\n",
       "   numberOfDependencies  numberOfDependencyUsers  numberOfDependencyProviders  \\\n",
       "0                     3                        3                            1   \n",
       "\n",
       "                                                                                   examples  \n",
       "0  [./server.tsx uses ./index.ts, ./index.tsx uses ./index.ts, ./index.tsx uses ./index.ts]  "
      ]
     },
     "execution_count": 21,
     "metadata": {},
     "output_type": "execute_result"
    }
   ],
   "source": [
    "query_first_non_empty_cypher_to_data_frame(\"../cypher/Internal_Dependencies/Get_file_distance_as_shortest_contains_path_for_dependencies.cypher\",\n",
    "                                           \"../cypher/Internal_Dependencies/Set_file_distance_as_shortest_contains_path_for_dependencies.cypher\", limit=20)"
   ]
  }
 ],
 "metadata": {
  "authors": [
   {
    "name": "JohT"
   }
  ],
  "code_graph_analysis_pipeline_data_validation": "ValidateTypescriptModuleDependencies",
  "kernelspec": {
   "display_name": "codegraph",
   "language": "python",
   "name": "python3"
  },
  "language_info": {
   "codemirror_mode": {
    "name": "ipython",
    "version": 3
   },
   "file_extension": ".py",
   "mimetype": "text/x-python",
   "name": "python",
   "nbconvert_exporter": "python",
   "pygments_lexer": "ipython3",
   "version": "3.11.0"
  },
  "title": "Object Oriented Design Quality Metrics for Java with Neo4j"
 },
 "nbformat": 4,
 "nbformat_minor": 5
}
