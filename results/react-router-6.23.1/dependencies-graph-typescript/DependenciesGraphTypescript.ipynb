{
 "cells": [
  {
   "cell_type": "markdown",
   "id": "2f0eabc4",
   "metadata": {},
   "source": [
    "## Artifact Dependencies\n",
    "\n",
    "This report includes graph visualization(s) using JavaScript and might not be exportable to some document formats.\n",
    "\n",
    "### References\n",
    "\n",
    "- [neovis.js (GitHub)](https://github.com/neo4j-contrib/neovis.js)\n",
    "- [vis-network (GitHub)](https://github.com/visjs/vis-network)\n",
    "- [vis network documentation](https://visjs.github.io/vis-network/docs/network)\n",
    "- [Neo4j Graph Algorithms Jupyter Notebooks (GitHub)](https://github.com/neo4j-graph-analytics/graph-algorithms-notebooks)\n",
    "- [Neo4j Graph Data Science Topological Sort](https://neo4j.com/docs/graph-data-science/current/algorithms/alpha/topological-sort)\n"
   ]
  },
  {
   "cell_type": "code",
   "execution_count": 1,
   "id": "8678cc2d",
   "metadata": {
    "execution": {
     "iopub.execute_input": "2024-07-01T07:07:18.435869Z",
     "iopub.status.busy": "2024-07-01T07:07:18.435503Z",
     "iopub.status.idle": "2024-07-01T07:07:18.778360Z",
     "shell.execute_reply": "2024-07-01T07:07:18.777867Z"
    }
   },
   "outputs": [],
   "source": [
    "import os\n",
    "from neo4j import GraphDatabase\n",
    "from IPython.core.display import Javascript, HTML\n",
    "import json"
   ]
  },
  {
   "cell_type": "code",
   "execution_count": 2,
   "id": "437937a1",
   "metadata": {
    "execution": {
     "iopub.execute_input": "2024-07-01T07:07:18.781242Z",
     "iopub.status.busy": "2024-07-01T07:07:18.780825Z",
     "iopub.status.idle": "2024-07-01T07:07:18.791768Z",
     "shell.execute_reply": "2024-07-01T07:07:18.791246Z"
    }
   },
   "outputs": [],
   "source": [
    "# Please set the environment variable \"NEO4J_INITIAL_PASSWORD\" in your shell \n",
    "# before starting jupyter notebook to provide the password for the user \"neo4j\". \n",
    "# It is not recommended to hardcode the password into jupyter notebook for security reasons.\n",
    "\n",
    "neo4jUri = \"bolt://localhost:7687\"\n",
    "neo4jUser = \"neo4j\"\n",
    "neo4jPassword = os.environ.get(\"NEO4J_INITIAL_PASSWORD\")\n",
    "\n",
    "# Create the database driver to validate the connection\n",
    "with GraphDatabase.driver(uri=neo4jUri, auth=(neo4jUser, neo4jPassword)) as driver:\n",
    "    driver.verify_connectivity()"
   ]
  },
  {
   "cell_type": "code",
   "execution_count": 3,
   "id": "7f8435ee",
   "metadata": {
    "execution": {
     "iopub.execute_input": "2024-07-01T07:07:18.794389Z",
     "iopub.status.busy": "2024-07-01T07:07:18.794172Z",
     "iopub.status.idle": "2024-07-01T07:07:18.797613Z",
     "shell.execute_reply": "2024-07-01T07:07:18.797108Z"
    }
   },
   "outputs": [],
   "source": [
    "def neo4j_server_configuration(password, uri=\"bolt://localhost:7687\", user=\"neo4j\"):\n",
    "    return {\n",
    "        \"neo4j\": {\n",
    "            \"serverUrl\": uri,\n",
    "            \"serverUser\": user,\n",
    "            \"serverPassword\": password\n",
    "        }\n",
    "    }"
   ]
  },
  {
   "cell_type": "code",
   "execution_count": 4,
   "id": "3dd385c7",
   "metadata": {
    "execution": {
     "iopub.execute_input": "2024-07-01T07:07:18.800338Z",
     "iopub.status.busy": "2024-07-01T07:07:18.800008Z",
     "iopub.status.idle": "2024-07-01T07:07:18.804009Z",
     "shell.execute_reply": "2024-07-01T07:07:18.803579Z"
    }
   },
   "outputs": [],
   "source": [
    "def visualization_configuration(node_distance: int = 200):\n",
    "    return {\n",
    "        \"visConfig\": {\n",
    "            \"nodes\": {\n",
    "                \"shape\": \"hexagon\",\n",
    "                \"shadow\": False,\n",
    "                \"font\": {\n",
    "                    \"strokeWidth\": 4,\n",
    "                    \"strokeColor\": \"#F2F2FF\",\n",
    "                    \"size\": 12\n",
    "                },\n",
    "                \"size\": 22,\n",
    "                \"borderWidth\": 2,\n",
    "                \"widthConstraint\": {\n",
    "                    \"maximum\": 60\n",
    "                }\n",
    "            },\n",
    "            \"edges\": {\n",
    "                \"arrows\": {\n",
    "                    \"to\": { \n",
    "                        \"enabled\": True,\n",
    "                        \"scaleFactor\": 0.3\n",
    "                    }\n",
    "                },\n",
    "                \"scaling\": {\n",
    "                    \"max\": 6\n",
    "                }\n",
    "            },\n",
    "            \"physics\": {\n",
    "                \"hierarchicalRepulsion\": {\n",
    "                    \"nodeDistance\": node_distance, # 120\n",
    "                    \"centralGravity\": 0.2, # 0.0\n",
    "                    \"springLength\": 100, # 100\n",
    "                    \"springConstant\": 0.02, # 0.01\n",
    "                    \"damping\": 0.09, # 0.09\n",
    "                    \"avoidOverlap\": 0.9 # 0\n",
    "                },\n",
    "                \"solver\": \"hierarchicalRepulsion\" # barnesHut\n",
    "            },\n",
    "            \"layout\": {\n",
    "                \"hierarchical\": {\n",
    "                    \"enabled\": True,\n",
    "                    \"sortMethod\": \"directed\"\n",
    "                }\n",
    "            }\n",
    "        }\n",
    "    }"
   ]
  },
  {
   "cell_type": "code",
   "execution_count": 5,
   "id": "5f15d92e",
   "metadata": {
    "execution": {
     "iopub.execute_input": "2024-07-01T07:07:18.806210Z",
     "iopub.status.busy": "2024-07-01T07:07:18.805846Z",
     "iopub.status.idle": "2024-07-01T07:07:18.809103Z",
     "shell.execute_reply": "2024-07-01T07:07:18.808638Z"
    }
   },
   "outputs": [],
   "source": [
    "cssTemplate = \"\"\"\n",
    ".graph-visualization {\n",
    "    width: 660px;\n",
    "    height: 660px;\n",
    "    border: 1px solid lightgray;\n",
    "}\n",
    "div.vis-tooltip {\n",
    "  font-size: 6px;\n",
    "}\n",
    "\"\"\"\n",
    "\n",
    "# Use JavaScript library neovis.js to render the graph into the HTML above\n",
    "javascriptTemplate = \"\"\"\n",
    "function draw(NeoVis) {\n",
    "  configuration.labels[NeoVis.NEOVIS_DEFAULT_CONFIG] = {\n",
    "    [NeoVis.NEOVIS_ADVANCED_CONFIG]: {\n",
    "      function: {\n",
    "        title: NeoVis.objectToTitleHtml // Show all node properties in the tooltip\n",
    "      }\n",
    "    }\n",
    "  }\n",
    "  configuration.relationships[NeoVis.NEOVIS_DEFAULT_CONFIG] = {\n",
    "    [NeoVis.NEOVIS_ADVANCED_CONFIG]: {\n",
    "      function: {\n",
    "        title: NeoVis.objectToTitleHtml // Show all relationship properties in the tooltip\n",
    "      }\n",
    "    }\n",
    "  }\n",
    "  configuration.labels.Artifact = {\n",
    "      [NeoVis.NEOVIS_ADVANCED_CONFIG]: {\n",
    "          function: {\n",
    "              // Use \"fileName\" as label. Remove leading slash, trailing \".jar\" and version number.\n",
    "              // TODO Enrich the Graph so that there is a distinct property for the \"cleaned up\" artifact name\n",
    "              label: (node) => node.properties.fileName.replace('/', '').replace('.jar', '').replace(/-[\\d\\\\.]+/, '')\n",
    "          }\n",
    "      }\n",
    "  }\n",
    "  console.debug(configuration)\n",
    "  const neoViz = new NeoVis.default(configuration);\n",
    "  neoViz.render();\n",
    "}\n",
    "\n",
    "// Use JavaScript library neovis.js to render the graph into the HTML above\n",
    "requirejs(['https://unpkg.com/neovis.js@2.1.0'], function(NeoVis){ \n",
    "  draw(NeoVis);\n",
    "}, function (err) {\n",
    "    throw new Error(\"Failed to load NeoVis:\" + err);\n",
    "});\n",
    "\"\"\"\n",
    "\n",
    "htmlTemplate=\"\"\"\n",
    "<!DOCTYPE html>\n",
    "<html>\n",
    "<head>\n",
    "  <title>Jupyter Notebook embedded neovis.js visualization</title>\n",
    "  <style type=\"text/css\">{css}</style>\n",
    "</head>\n",
    "<body>\n",
    "  <div id=\"{containerId}\" class=\"graph-visualization\"></div>\n",
    "  <script type=\"text/javascript\" defer>\n",
    "    {script}\n",
    "  </script>\n",
    "</body>\n",
    "</html>\n",
    "\"\"\""
   ]
  },
  {
   "cell_type": "markdown",
   "id": "112ee31b",
   "metadata": {},
   "source": [
    "## Dependencies Hierarchy\n",
    "\n",
    "The following hierarchical graphs shows dependencies with the most used and shared elements at the bottom and the ones that use the most dependencies on top. The visualization is limited to the first 20 nodes and their direct dependency ordered descending by their layer (\"maxDistanceFromSource\"). \n",
    "\n",
    "For the whole list of topologically sorted elements including the hierarchical layer see the detailed report `TopologicalSorted....csv`. It is for example helpful to find out in which order Artifacts need to be build/assembled in case of breaking changes."
   ]
  },
  {
   "cell_type": "markdown",
   "id": "7a97adb1",
   "metadata": {},
   "source": [
    "### Hierarchical Typescript Module Dependencies\n",
    "\n",
    "The following Graph shows up to 20 Typescript Module dependencies in hierarchical form sorted by their topology."
   ]
  },
  {
   "cell_type": "code",
   "execution_count": 6,
   "id": "5c344092",
   "metadata": {
    "execution": {
     "iopub.execute_input": "2024-07-01T07:07:18.811471Z",
     "iopub.status.busy": "2024-07-01T07:07:18.811077Z",
     "iopub.status.idle": "2024-07-01T07:07:18.814183Z",
     "shell.execute_reply": "2024-07-01T07:07:18.813784Z"
    }
   },
   "outputs": [],
   "source": [
    "def typescript_module_query_configuration():\n",
    "    query = \"\"\"\n",
    "        MATCH (module:TS:Module)-[dependency:DEPENDS_ON]->(dependent:TS:Module)\n",
    "        WHERE  module.maxDistanceFromSource IS NOT NULL\n",
    "        AND  dependent.maxDistanceFromSource > module.maxDistanceFromSource\n",
    "        RETURN module, dependency, dependent\n",
    "        ORDER BY module.maxDistanceFromSource DESC\n",
    "                ,module.maxDistanceFromSource ASC\n",
    "                ,module.topologicalSortIndex  ASC\n",
    "                ,dependent.topologicalSortIndex ASC\n",
    "        LIMIT 20        \n",
    "    \"\"\"\n",
    "    return {\n",
    "        \"initialCypher\": query,\n",
    "        \"defaultLabelConfig\": {\n",
    "            \"label\": \"name\"\n",
    "        },\n",
    "        \"labels\": {\n",
    "            \"File\": {\n",
    "                \"label\": \"name\"\n",
    "            }\n",
    "        },\n",
    "        \"relationships\": {\n",
    "            \"DEPENDS_ON\": {\n",
    "                \"value\": \"cardinality\",\n",
    "                \"label\": False\n",
    "            }\n",
    "        }\n",
    "    }"
   ]
  },
  {
   "cell_type": "code",
   "execution_count": 7,
   "id": "dcc6fe3d",
   "metadata": {
    "execution": {
     "iopub.execute_input": "2024-07-01T07:07:18.820352Z",
     "iopub.status.busy": "2024-07-01T07:07:18.820040Z",
     "iopub.status.idle": "2024-07-01T07:07:18.827564Z",
     "shell.execute_reply": "2024-07-01T07:07:18.827093Z"
    }
   },
   "outputs": [
    {
     "data": {
      "text/html": [
       "\n",
       "<!DOCTYPE html>\n",
       "<html>\n",
       "<head>\n",
       "  <title>Jupyter Notebook embedded neovis.js visualization</title>\n",
       "  <style type=\"text/css\">\n",
       ".graph-visualization {\n",
       "    width: 660px;\n",
       "    height: 660px;\n",
       "    border: 1px solid lightgray;\n",
       "}\n",
       "div.vis-tooltip {\n",
       "  font-size: 6px;\n",
       "}\n",
       "</style>\n",
       "</head>\n",
       "<body>\n",
       "  <div id=\"graph-visualization-typescript-modules\" class=\"graph-visualization\"></div>\n",
       "  <script type=\"text/javascript\" defer>\n",
       "    configuration={\"containerId\": \"graph-visualization-typescript-modules\", \"visConfig\": {\"nodes\": {\"shape\": \"hexagon\", \"shadow\": false, \"font\": {\"strokeWidth\": 4, \"strokeColor\": \"#F2F2FF\", \"size\": 12}, \"size\": 22, \"borderWidth\": 2, \"widthConstraint\": {\"maximum\": 60}}, \"edges\": {\"arrows\": {\"to\": {\"enabled\": true, \"scaleFactor\": 0.3}}, \"scaling\": {\"max\": 6}}, \"physics\": {\"hierarchicalRepulsion\": {\"nodeDistance\": 200, \"centralGravity\": 0.2, \"springLength\": 100, \"springConstant\": 0.02, \"damping\": 0.09, \"avoidOverlap\": 0.9}, \"solver\": \"hierarchicalRepulsion\"}, \"layout\": {\"hierarchical\": {\"enabled\": true, \"sortMethod\": \"directed\"}}}, \"neo4j\": {\"serverUrl\": \"bolt://localhost:7687\", \"serverUser\": \"neo4j\", \"serverPassword\": \"j92UxWht08Vdt3YOMpI=\"}, \"initialCypher\": \"\\n        MATCH (module:TS:Module)-[dependency:DEPENDS_ON]->(dependent:TS:Module)\\n        WHERE  module.maxDistanceFromSource IS NOT NULL\\n        AND  dependent.maxDistanceFromSource > module.maxDistanceFromSource\\n        RETURN module, dependency, dependent\\n        ORDER BY module.maxDistanceFromSource DESC\\n                ,module.maxDistanceFromSource ASC\\n                ,module.topologicalSortIndex  ASC\\n                ,dependent.topologicalSortIndex ASC\\n        LIMIT 20        \\n    \", \"defaultLabelConfig\": {\"label\": \"name\"}, \"labels\": {\"File\": {\"label\": \"name\"}}, \"relationships\": {\"DEPENDS_ON\": {\"value\": \"cardinality\", \"label\": false}}}; \n",
       "function draw(NeoVis) {\n",
       "  configuration.labels[NeoVis.NEOVIS_DEFAULT_CONFIG] = {\n",
       "    [NeoVis.NEOVIS_ADVANCED_CONFIG]: {\n",
       "      function: {\n",
       "        title: NeoVis.objectToTitleHtml // Show all node properties in the tooltip\n",
       "      }\n",
       "    }\n",
       "  }\n",
       "  configuration.relationships[NeoVis.NEOVIS_DEFAULT_CONFIG] = {\n",
       "    [NeoVis.NEOVIS_ADVANCED_CONFIG]: {\n",
       "      function: {\n",
       "        title: NeoVis.objectToTitleHtml // Show all relationship properties in the tooltip\n",
       "      }\n",
       "    }\n",
       "  }\n",
       "  configuration.labels.Artifact = {\n",
       "      [NeoVis.NEOVIS_ADVANCED_CONFIG]: {\n",
       "          function: {\n",
       "              // Use \"fileName\" as label. Remove leading slash, trailing \".jar\" and version number.\n",
       "              // TODO Enrich the Graph so that there is a distinct property for the \"cleaned up\" artifact name\n",
       "              label: (node) => node.properties.fileName.replace('/', '').replace('.jar', '').replace(/-[\\d\\.]+/, '')\n",
       "          }\n",
       "      }\n",
       "  }\n",
       "  console.debug(configuration)\n",
       "  const neoViz = new NeoVis.default(configuration);\n",
       "  neoViz.render();\n",
       "}\n",
       "\n",
       "// Use JavaScript library neovis.js to render the graph into the HTML above\n",
       "requirejs(['https://unpkg.com/neovis.js@2.1.0'], function(NeoVis){ \n",
       "  draw(NeoVis);\n",
       "}, function (err) {\n",
       "    throw new Error(\"Failed to load NeoVis:\" + err);\n",
       "});\n",
       "\n",
       "  </script>\n",
       "</body>\n",
       "</html>\n"
      ],
      "text/plain": [
       "<IPython.core.display.HTML object>"
      ]
     },
     "metadata": {},
     "output_type": "display_data"
    }
   ],
   "source": [
    "htmlElement = {\"containerId\": \"graph-visualization-typescript-modules\"}\n",
    "serverConfiguration = neo4j_server_configuration(uri=neo4jUri, user=neo4jUser,password=neo4jPassword)\n",
    "\n",
    "# Assemble the neovis.js configuration by joining the different parts of it\n",
    "graphVisualizationConfiguration = {**htmlElement, **visualization_configuration(), **serverConfiguration, **typescript_module_query_configuration()}\n",
    "\n",
    "# Assemble the HTML by including CSS and Javascript\n",
    "jsonConfiguration = json.dumps(graphVisualizationConfiguration)\n",
    "javascriptContent=\"configuration=\" + jsonConfiguration +\"; \" + javascriptTemplate\n",
    "htmlContent = htmlTemplate.format(script=javascriptContent, css=cssTemplate, containerId=htmlElement[\"containerId\"])\n",
    "\n",
    "# Display the HTML\n",
    "display(HTML(htmlContent))"
   ]
  },
  {
   "cell_type": "code",
   "execution_count": 8,
   "id": "35a24daa",
   "metadata": {
    "execution": {
     "iopub.execute_input": "2024-07-01T07:07:18.829728Z",
     "iopub.status.busy": "2024-07-01T07:07:18.829399Z",
     "iopub.status.idle": "2024-07-01T07:07:24.832185Z",
     "shell.execute_reply": "2024-07-01T07:07:24.831669Z"
    }
   },
   "outputs": [],
   "source": [
    "import time\n",
    "time.sleep(6)"
   ]
  }
 ],
 "metadata": {
  "authors": [
   {
    "name": "JohT"
   }
  ],
  "code_graph_analysis_pipeline_data_validation": "ValidateTypescriptModuleDependencies",
  "kernelspec": {
   "display_name": "Python 3 (ipykernel)",
   "language": "python",
   "name": "python3"
  },
  "language_info": {
   "codemirror_mode": {
    "name": "ipython",
    "version": 3
   },
   "file_extension": ".py",
   "mimetype": "text/x-python",
   "name": "python",
   "nbconvert_exporter": "python",
   "pygments_lexer": "ipython3",
   "version": "3.11.0"
  },
  "title": "Neo4j Java Code-Structure Graph"
 },
 "nbformat": 4,
 "nbformat_minor": 5
}
