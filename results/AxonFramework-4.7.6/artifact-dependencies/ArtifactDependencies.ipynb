{
 "cells": [
  {
   "cell_type": "markdown",
   "id": "2f0eabc4",
   "metadata": {},
   "source": [
    "## Artifact Dependencies\n",
    "\n",
    "This report includes graph visualization(s) using JavaScript and might not be exportable to some document formats.\n",
    "\n",
    "### References\n",
    "\n",
    "- [neovis.js (GitHub)](https://github.com/neo4j-contrib/neovis.js)\n",
    "- [vis-network (GitHub)](https://github.com/visjs/vis-network)\n",
    "- [vis network documentation](https://visjs.github.io/vis-network/docs/network)\n",
    "- [Neo4j Graph Algorithms Jupyter Notebooks (GitHub)](https://github.com/neo4j-graph-analytics/graph-algorithms-notebooks)\n",
    "- [Neo4j Graph Data Science Topological Sort](https://neo4j.com/docs/graph-data-science/current/algorithms/alpha/topological-sort)\n"
   ]
  },
  {
   "cell_type": "code",
   "execution_count": 1,
   "id": "8678cc2d",
   "metadata": {
    "execution": {
     "iopub.execute_input": "2023-12-16T11:58:24.211992Z",
     "iopub.status.busy": "2023-12-16T11:58:24.211555Z",
     "iopub.status.idle": "2023-12-16T11:58:24.562480Z",
     "shell.execute_reply": "2023-12-16T11:58:24.562160Z"
    }
   },
   "outputs": [],
   "source": [
    "import os\n",
    "from neo4j import GraphDatabase\n",
    "from IPython.core.display import Javascript\n",
    "import json"
   ]
  },
  {
   "cell_type": "code",
   "execution_count": 2,
   "id": "437937a1",
   "metadata": {
    "execution": {
     "iopub.execute_input": "2023-12-16T11:58:24.564150Z",
     "iopub.status.busy": "2023-12-16T11:58:24.564016Z",
     "iopub.status.idle": "2023-12-16T11:58:24.574541Z",
     "shell.execute_reply": "2023-12-16T11:58:24.574274Z"
    }
   },
   "outputs": [],
   "source": [
    "# Please set the environment variable \"NEO4J_INITIAL_PASSWORD\" in your shell \n",
    "# before starting jupyter notebook to provide the password for the user \"neo4j\". \n",
    "# It is not recommended to hardcode the password into jupyter notebook for security reasons.\n",
    "\n",
    "neo4jUri = \"bolt://localhost:7687\"\n",
    "neo4jUser = \"neo4j\"\n",
    "neo4jPassword = os.environ.get(\"NEO4J_INITIAL_PASSWORD\")\n",
    "\n",
    "# Create the database driver to validate the connection\n",
    "with GraphDatabase.driver(uri=neo4jUri, auth=(neo4jUser, neo4jPassword)) as driver:\n",
    "    driver.verify_connectivity()"
   ]
  },
  {
   "cell_type": "code",
   "execution_count": 3,
   "id": "7f8435ee",
   "metadata": {
    "execution": {
     "iopub.execute_input": "2023-12-16T11:58:24.575921Z",
     "iopub.status.busy": "2023-12-16T11:58:24.575831Z",
     "iopub.status.idle": "2023-12-16T11:58:24.577618Z",
     "shell.execute_reply": "2023-12-16T11:58:24.577409Z"
    }
   },
   "outputs": [],
   "source": [
    "def neo4j_server_configuration(password, uri=\"bolt://localhost:7687\", user=\"neo4j\"):\n",
    "    return {\n",
    "        \"neo4j\": {\n",
    "            \"serverUrl\": uri,\n",
    "            \"serverUser\": user,\n",
    "            \"serverPassword\": password\n",
    "        }\n",
    "    }"
   ]
  },
  {
   "cell_type": "code",
   "execution_count": 4,
   "id": "3dd385c7",
   "metadata": {
    "execution": {
     "iopub.execute_input": "2023-12-16T11:58:24.578834Z",
     "iopub.status.busy": "2023-12-16T11:58:24.578765Z",
     "iopub.status.idle": "2023-12-16T11:58:24.581355Z",
     "shell.execute_reply": "2023-12-16T11:58:24.581136Z"
    }
   },
   "outputs": [],
   "source": [
    "def visualization_configuration(node_distance: int = 150):\n",
    "    return {\n",
    "        \"visConfig\": {\n",
    "            \"nodes\": {\n",
    "                \"shape\": \"hexagon\",\n",
    "                \"font\": {\n",
    "                    \"strokeWidth\": 4,\n",
    "                    \"strokeColor\": \"#D0D0FF\",\n",
    "                    \"size\": 32\n",
    "                },\n",
    "                \"size\": 60,\n",
    "                \"borderWidth\": 2,\n",
    "                \"widthConstraint\": {\n",
    "                    \"maximum\": 120\n",
    "                }\n",
    "            },\n",
    "            \"edges\": {\n",
    "                \"arrows\": {\n",
    "                    \"to\": { \n",
    "                        \"enabled\": True,\n",
    "                        \"scaleFactor\": 0.5\n",
    "                    }\n",
    "                },\n",
    "                \"scaling\": {\n",
    "                    \"max\": 8\n",
    "                }\n",
    "            },\n",
    "            \"physics\": {\n",
    "                \"hierarchicalRepulsion\": {\n",
    "                    \"nodeDistance\": node_distance, # 120\n",
    "                    \"centralGravity\": 0.2, # 0.0\n",
    "                    \"springLength\": 100, # 100\n",
    "                    \"springConstant\": 0.02, # 0.01\n",
    "                    \"damping\": 0.09, # 0.09\n",
    "                    \"avoidOverlap\": 0.9 # 0\n",
    "                },\n",
    "                \"solver\": \"hierarchicalRepulsion\" # barnesHut\n",
    "            },\n",
    "            \"layout\": {\n",
    "                \"hierarchical\": {\n",
    "                    \"enabled\": True,\n",
    "                    \"sortMethod\": \"directed\"\n",
    "                }\n",
    "            }\n",
    "        }\n",
    "    }"
   ]
  },
  {
   "cell_type": "code",
   "execution_count": 5,
   "id": "923e8a0a",
   "metadata": {
    "execution": {
     "iopub.execute_input": "2023-12-16T11:58:24.582556Z",
     "iopub.status.busy": "2023-12-16T11:58:24.582486Z",
     "iopub.status.idle": "2023-12-16T11:58:24.584312Z",
     "shell.execute_reply": "2023-12-16T11:58:24.584098Z"
    }
   },
   "outputs": [],
   "source": [
    "def graph_query_configuration(query: str):\n",
    "    return {\n",
    "        \"initialCypher\": query,\n",
    "        \"labels\": {\n",
    "            \"Artifact\": {\n",
    "                \"label\": \"fileName\"\n",
    "            }\n",
    "        },\n",
    "        \"relationships\": {\n",
    "            \"DEPENDS_ON\": {\n",
    "                \"value\": \"weight\",\n",
    "                \"label\": False\n",
    "            }\n",
    "        }\n",
    "    }"
   ]
  },
  {
   "cell_type": "markdown",
   "id": "3328314d",
   "metadata": {},
   "source": [
    "## Hierarchical Artifact Dependencies\n",
    "\n",
    "The following hierarchical graph shows artifact dependencies with the most used basis/shared artifact at the bottom and the artifact the builds upon the other dependencies on top. The visualization is limited to the first 60 nodes and their direct dependency ordered by the dependency layer (\"maxDistanceFromSource\") descending. \n",
    "\n",
    "For the whole list of topologically sorted artifacts including the hierarchical layer go to the report `TopologicalSortedArtifacts.csv`. This is also known as the \"build order\"."
   ]
  },
  {
   "cell_type": "code",
   "execution_count": 6,
   "id": "48cd3f44",
   "metadata": {
    "execution": {
     "iopub.execute_input": "2023-12-16T11:58:24.585604Z",
     "iopub.status.busy": "2023-12-16T11:58:24.585534Z",
     "iopub.status.idle": "2023-12-16T11:58:24.589104Z",
     "shell.execute_reply": "2023-12-16T11:58:24.588877Z"
    }
   },
   "outputs": [
    {
     "data": {
      "application/javascript": [
       "window.graphVisualizationConfiguration={\"containerId\": \"graph-visualization\", \"visConfig\": {\"nodes\": {\"shape\": \"hexagon\", \"font\": {\"strokeWidth\": 4, \"strokeColor\": \"#D0D0FF\", \"size\": 32}, \"size\": 60, \"borderWidth\": 2, \"widthConstraint\": {\"maximum\": 120}}, \"edges\": {\"arrows\": {\"to\": {\"enabled\": true, \"scaleFactor\": 0.5}}, \"scaling\": {\"max\": 8}}, \"physics\": {\"hierarchicalRepulsion\": {\"nodeDistance\": 150, \"centralGravity\": 0.2, \"springLength\": 100, \"springConstant\": 0.02, \"damping\": 0.09, \"avoidOverlap\": 0.9}, \"solver\": \"hierarchicalRepulsion\"}, \"layout\": {\"hierarchical\": {\"enabled\": true, \"sortMethod\": \"directed\"}}}, \"neo4j\": {\"serverUrl\": \"bolt://localhost:7687\", \"serverUser\": \"neo4j\", \"serverPassword\": \"neo4jinitial\"}, \"initialCypher\": \"\\n MATCH (artifact:Artifact:Archive)-[dependency:DEPENDS_ON]->(dependent:Artifact:Archive)\\n WHERE  artifact.maxDistanceFromSource IS NOT NULL\\n   AND  dependent.maxDistanceFromSource > artifact.maxDistanceFromSource\\nRETURN artifact, dependency, dependent\\n ORDER BY artifact.maxDistanceFromSource DESC\\n         ,artifact.maxDistanceFromSource ASC\\n         ,artifact.topologicalSortIndex  ASC\\n         ,dependent.topologicalSortIndex ASC\\nLIMIT 60        \\n\", \"labels\": {\"Artifact\": {\"label\": \"fileName\"}}, \"relationships\": {\"DEPENDS_ON\": {\"value\": \"weight\", \"label\": false}}};"
      ],
      "text/plain": [
       "<IPython.core.display.Javascript object>"
      ]
     },
     "execution_count": 6,
     "metadata": {},
     "output_type": "execute_result"
    }
   ],
   "source": [
    "query = \"\"\"\n",
    " MATCH (artifact:Artifact:Archive)-[dependency:DEPENDS_ON]->(dependent:Artifact:Archive)\n",
    " WHERE  artifact.maxDistanceFromSource IS NOT NULL\n",
    "   AND  dependent.maxDistanceFromSource > artifact.maxDistanceFromSource\n",
    "RETURN artifact, dependency, dependent\n",
    " ORDER BY artifact.maxDistanceFromSource DESC\n",
    "         ,artifact.maxDistanceFromSource ASC\n",
    "         ,artifact.topologicalSortIndex  ASC\n",
    "         ,dependent.topologicalSortIndex ASC\n",
    "LIMIT 60        \n",
    "\"\"\"\n",
    "\n",
    "htmlElement = {\"containerId\": \"graph-visualization\"}\n",
    "serverConfiguration = neo4j_server_configuration(uri=neo4jUri, user=neo4jUser,password=neo4jPassword)\n",
    "\n",
    "# Assemble the neovis.js configuration by joining the different parts of it\n",
    "graphVisualizationConfiguration = {**htmlElement, **visualization_configuration(), **serverConfiguration, **graph_query_configuration(query)}\n",
    "#graphVisualizationConfiguration = {**htmlElement, **visualization_configuration(node_distance=220), **serverConfiguration, **graph_query_configuration(query)}\n",
    "\n",
    "# Create a javascript variable containing the whole configuration in JSON format\n",
    "Javascript(\"\"\"window.graphVisualizationConfiguration={};\"\"\".format(json.dumps(graphVisualizationConfiguration)))"
   ]
  },
  {
   "cell_type": "code",
   "execution_count": 7,
   "id": "55aa9696",
   "metadata": {
    "execution": {
     "iopub.execute_input": "2023-12-16T11:58:24.590313Z",
     "iopub.status.busy": "2023-12-16T11:58:24.590240Z",
     "iopub.status.idle": "2023-12-16T11:58:24.592325Z",
     "shell.execute_reply": "2023-12-16T11:58:24.592106Z"
    },
    "scrolled": true
   },
   "outputs": [
    {
     "data": {
      "text/html": [
       "<style type=\"text/css\">\n",
       "    #graph-visualization {\n",
       "        width: 660px;\n",
       "        height: 660px;\n",
       "        border: 1px solid lightgray;\n",
       "    }\n",
       "</style>\n",
       "<div id=\"graph-visualization\"></div>\n"
      ],
      "text/plain": [
       "<IPython.core.display.HTML object>"
      ]
     },
     "metadata": {},
     "output_type": "display_data"
    }
   ],
   "source": [
    "%%html\n",
    "<style type=\"text/css\">\n",
    "    #graph-visualization {\n",
    "        width: 660px;\n",
    "        height: 660px;\n",
    "        border: 1px solid lightgray;\n",
    "    }\n",
    "</style>\n",
    "<div id=\"graph-visualization\"></div>"
   ]
  },
  {
   "cell_type": "code",
   "execution_count": 8,
   "id": "39a03a60",
   "metadata": {
    "execution": {
     "iopub.execute_input": "2023-12-16T11:58:24.593563Z",
     "iopub.status.busy": "2023-12-16T11:58:24.593489Z",
     "iopub.status.idle": "2023-12-16T11:58:24.595098Z",
     "shell.execute_reply": "2023-12-16T11:58:24.594856Z"
    }
   },
   "outputs": [],
   "source": [
    "# Use the JavaScript library [neovis.js](https://github.com/neo4j-contrib/neovis.js) to render the graph into the HTML above with the following javascript block."
   ]
  },
  {
   "cell_type": "code",
   "execution_count": 9,
   "id": "55a96744",
   "metadata": {
    "execution": {
     "iopub.execute_input": "2023-12-16T11:58:24.596279Z",
     "iopub.status.busy": "2023-12-16T11:58:24.596215Z",
     "iopub.status.idle": "2023-12-16T11:58:24.599071Z",
     "shell.execute_reply": "2023-12-16T11:58:24.598849Z"
    }
   },
   "outputs": [
    {
     "data": {
      "application/javascript": [
       "// Use JavaScript library neovis.js to render the graph into the HTML above\n",
       "//requirejs(['./../lib/neovis/neovis.js'], function(NeoVis){    \n",
       "requirejs(['https://unpkg.com/neovis.js@2.0.2'], function(NeoVis){  \n",
       "    const configuration = window.graphVisualizationConfiguration;\n",
       "    configuration.labels.Artifact = {\n",
       "        [NeoVis.NEOVIS_ADVANCED_CONFIG]: {\n",
       "          function: {\n",
       "            // Print all properties for the title (when nodes are clicked)\n",
       "            title: NeoVis.objectToTitleHtml,\n",
       "            // Use \"fileName\" as label. Remove leading slash, trailing \".jar\" and version number.\n",
       "            label: (node) => node.properties.fileName.replace('/', '').replace('.jar', '').replace(/-[\\d\\\\.]+/, '')\n",
       "          },\n",
       "        }\n",
       "    }\n",
       "    \n",
       "    const viz = new NeoVis.default(configuration);\n",
       "    viz.render();\n",
       "  }, function (err) {\n",
       "      throw new Error(\"Failed to load NeoVis:\" + err);\n",
       "  }\n",
       ");\n"
      ],
      "text/plain": [
       "<IPython.core.display.Javascript object>"
      ]
     },
     "metadata": {},
     "output_type": "display_data"
    }
   ],
   "source": [
    "%%javascript\n",
    "// Use JavaScript library neovis.js to render the graph into the HTML above\n",
    "//requirejs(['./../lib/neovis/neovis.js'], function(NeoVis){    \n",
    "requirejs(['https://unpkg.com/neovis.js@2.0.2'], function(NeoVis){  \n",
    "    const configuration = window.graphVisualizationConfiguration;\n",
    "    configuration.labels.Artifact = {\n",
    "        [NeoVis.NEOVIS_ADVANCED_CONFIG]: {\n",
    "          function: {\n",
    "            // Print all properties for the title (when nodes are clicked)\n",
    "            title: NeoVis.objectToTitleHtml,\n",
    "            // Use \"fileName\" as label. Remove leading slash, trailing \".jar\" and version number.\n",
    "            label: (node) => node.properties.fileName.replace('/', '').replace('.jar', '').replace(/-[\\d\\\\.]+/, '')\n",
    "          },\n",
    "        }\n",
    "    }\n",
    "    \n",
    "    const viz = new NeoVis.default(configuration);\n",
    "    viz.render();\n",
    "  }, function (err) {\n",
    "      throw new Error(\"Failed to load NeoVis:\" + err);\n",
    "  }\n",
    ");"
   ]
  },
  {
   "cell_type": "code",
   "execution_count": 10,
   "id": "35a24daa",
   "metadata": {
    "execution": {
     "iopub.execute_input": "2023-12-16T11:58:24.600296Z",
     "iopub.status.busy": "2023-12-16T11:58:24.600229Z",
     "iopub.status.idle": "2023-12-16T11:58:30.609288Z",
     "shell.execute_reply": "2023-12-16T11:58:30.607866Z"
    }
   },
   "outputs": [],
   "source": [
    "import time\n",
    "time.sleep(6)"
   ]
  }
 ],
 "metadata": {
  "authors": [
   {
    "name": "JohT"
   }
  ],
  "kernelspec": {
   "display_name": "Python 3 (ipykernel)",
   "language": "python",
   "name": "python3"
  },
  "language_info": {
   "codemirror_mode": {
    "name": "ipython",
    "version": 3
   },
   "file_extension": ".py",
   "mimetype": "text/x-python",
   "name": "python",
   "nbconvert_exporter": "python",
   "pygments_lexer": "ipython3",
   "version": "3.11.4"
  },
  "title": "Neo4j Java Code-Structure Graph"
 },
 "nbformat": 4,
 "nbformat_minor": 5
}
