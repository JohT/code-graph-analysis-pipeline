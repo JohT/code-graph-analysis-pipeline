{
 "cells": [
  {
   "attachments": {},
   "cell_type": "markdown",
   "id": "2f0eabc4",
   "metadata": {},
   "source": [
    "# Node Embeddings\n",
    "\n",
    "This notebook demonstrates different methods for node embeddings and how to further reduce their dimensionality to be able to visualize them in a 2D plot. \n",
    "\n",
    "Node embeddings are essentially an array of floating point numbers (length = embedding dimension) that can be used as \"features\" in machine learning. These numbers approximate the relationship and similarity information of each node and can also be seen as a way to encode the topology of the graph.\n",
    "\n",
    "## Considerations\n",
    "\n",
    "Due to dimensionality reduction some information gets lost, especially when visualizing node embeddings in two dimensions. Nevertheless, it helps to get an intuition on what node embeddings are and how much of the similarity and neighborhood information is retained. The latter can be observed by how well nodes of the same color and therefore same community are placed together and how much bigger nodes with a high centrality score influence them. \n",
    "\n",
    "If the visualization doesn't show a somehow clear separation between the communities (colors) here are some ideas for tuning: \n",
    "- Clean the data, e.g. filter out very few nodes with extremely high degree that aren't actually that important\n",
    "- Try directed vs. undirected projections\n",
    "- Tune the embedding algorithm, e.g. use a higher dimensionality\n",
    "- Tune t-SNE that is used to reduce the node embeddings dimension to two dimensions for visualization. \n",
    "\n",
    "It could also be the case that the node embeddings are good enough and well suited the way they are despite their visualization for the down stream task like node classification or link prediction. In that case it makes sense to see how the whole pipeline performs before tuning the node embeddings in detail. \n",
    "\n",
    "## Note about data dependencies\n",
    "\n",
    "PageRank centrality and Leiden community are also fetched from the Graph and need to be calculated first.\n",
    "This makes it easier to see if the embeddings approximate the structural information of the graph in the plot.\n",
    "If these properties are missing you will only see black dots all of the same size.\n",
    "\n",
    "<br>  \n",
    "\n",
    "### References\n",
    "- [jqassistant](https://jqassistant.org)\n",
    "- [Neo4j Python Driver](https://neo4j.com/docs/api/python-driver/current)\n",
    "- [Tutorial: Applied Graph Embeddings](https://neo4j.com/developer/graph-data-science/applied-graph-embeddings)\n",
    "- [Visualizing the embeddings in 2D](https://github.com/openai/openai-cookbook/blob/main/examples/Visualizing_embeddings_in_2D.ipynb)\n",
    "- [scikit-learn TSNE](https://scikit-learn.org/stable/modules/generated/sklearn.manifold.TSNE.html#sklearn.manifold.TSNE)\n",
    "- [AttributeError: 'list' object has no attribute 'shape'](https://bobbyhadz.com/blog/python-attributeerror-list-object-has-no-attribute-shape)\n",
    "- [Fast Random Projection (neo4j)](https://neo4j.com/docs/graph-data-science/current/machine-learning/node-embeddings/fastrp)\n",
    "- [HashGNN (neo4j)](https://neo4j.com/docs/graph-data-science/2.6/machine-learning/node-embeddings/hashgnn)\n",
    "- [node2vec (neo4j)](https://neo4j.com/docs/graph-data-science/current/machine-learning/node-embeddings/node2vec) computes a vector representation of a node based on second order random walks in the graph. \n",
    "- [Complete guide to understanding Node2Vec algorithm](https://towardsdatascience.com/complete-guide-to-understanding-node2vec-algorithm-4e9a35e5d147)"
   ]
  },
  {
   "cell_type": "code",
   "execution_count": 1,
   "id": "4191f259",
   "metadata": {
    "execution": {
     "iopub.execute_input": "2024-12-03T18:17:42.850232Z",
     "iopub.status.busy": "2024-12-03T18:17:42.850046Z",
     "iopub.status.idle": "2024-12-03T18:17:43.727324Z",
     "shell.execute_reply": "2024-12-03T18:17:43.726843Z"
    }
   },
   "outputs": [],
   "source": [
    "import os\n",
    "from IPython.display import display\n",
    "import pandas as pd\n",
    "import matplotlib.pyplot as plot\n",
    "import typing as typ\n",
    "import numpy as np\n",
    "from openTSNE.sklearn import TSNE\n",
    "from neo4j import GraphDatabase"
   ]
  },
  {
   "cell_type": "code",
   "execution_count": 2,
   "id": "f8ef41ff",
   "metadata": {
    "execution": {
     "iopub.execute_input": "2024-12-03T18:17:43.730068Z",
     "iopub.status.busy": "2024-12-03T18:17:43.729589Z",
     "iopub.status.idle": "2024-12-03T18:17:43.732764Z",
     "shell.execute_reply": "2024-12-03T18:17:43.732262Z"
    }
   },
   "outputs": [
    {
     "name": "stdout",
     "output_type": "stream",
     "text": [
      "The openTSNE version is: 1.0.1\n",
      "The pandas version is: 1.5.1\n"
     ]
    }
   ],
   "source": [
    "from openTSNE import __version__ as openTSNE_version\n",
    "print('The openTSNE version is: {}'.format(openTSNE_version))\n",
    "print('The pandas version is: {}'.format(pd.__version__))\n"
   ]
  },
  {
   "cell_type": "code",
   "execution_count": 3,
   "id": "1c5dab37",
   "metadata": {
    "execution": {
     "iopub.execute_input": "2024-12-03T18:17:43.735302Z",
     "iopub.status.busy": "2024-12-03T18:17:43.735001Z",
     "iopub.status.idle": "2024-12-03T18:17:43.742142Z",
     "shell.execute_reply": "2024-12-03T18:17:43.741689Z"
    }
   },
   "outputs": [],
   "source": [
    "# Please set the environment variable \"NEO4J_INITIAL_PASSWORD\" in your shell \n",
    "# before starting jupyter notebook to provide the password for the user \"neo4j\". \n",
    "# It is not recommended to hardcode the password into jupyter notebook for security reasons.\n",
    "\n",
    "driver = GraphDatabase.driver(uri=\"bolt://localhost:7687\", auth=(\"neo4j\", os.environ.get(\"NEO4J_INITIAL_PASSWORD\")))\n",
    "driver.verify_connectivity()"
   ]
  },
  {
   "cell_type": "code",
   "execution_count": 4,
   "id": "c1db254b",
   "metadata": {
    "execution": {
     "iopub.execute_input": "2024-12-03T18:17:43.744305Z",
     "iopub.status.busy": "2024-12-03T18:17:43.743990Z",
     "iopub.status.idle": "2024-12-03T18:17:43.746735Z",
     "shell.execute_reply": "2024-12-03T18:17:43.746335Z"
    }
   },
   "outputs": [],
   "source": [
    "def get_cypher_query_from_file(filename):\n",
    "    with open(filename) as file:\n",
    "        return ' '.join(file.readlines())"
   ]
  },
  {
   "cell_type": "code",
   "execution_count": 5,
   "id": "59310f6f",
   "metadata": {
    "execution": {
     "iopub.execute_input": "2024-12-03T18:17:43.748537Z",
     "iopub.status.busy": "2024-12-03T18:17:43.748384Z",
     "iopub.status.idle": "2024-12-03T18:17:43.751591Z",
     "shell.execute_reply": "2024-12-03T18:17:43.751197Z"
    }
   },
   "outputs": [],
   "source": [
    "def query_cypher_to_data_frame(filename, parameters_: typ.Optional[typ.Dict[str, typ.Any]] = None):\n",
    "    records, summary, keys = driver.execute_query(get_cypher_query_from_file(filename),parameters_=parameters_)\n",
    "    return pd.DataFrame([r.values() for r in records], columns=keys)"
   ]
  },
  {
   "cell_type": "code",
   "execution_count": 6,
   "id": "bd1d9775",
   "metadata": {
    "execution": {
     "iopub.execute_input": "2024-12-03T18:17:43.753708Z",
     "iopub.status.busy": "2024-12-03T18:17:43.753371Z",
     "iopub.status.idle": "2024-12-03T18:17:43.756786Z",
     "shell.execute_reply": "2024-12-03T18:17:43.756287Z"
    }
   },
   "outputs": [],
   "source": [
    "def query_first_non_empty_cypher_to_data_frame(*filenames : str, parameters: typ.Optional[typ.Dict[str, typ.Any]] = None):\n",
    "    \"\"\"\n",
    "    Executes the Cypher queries of the given files and returns the first result that is not empty.\n",
    "    If all given file names result in empty results, the last (empty) result will be returned.\n",
    "    By additionally specifying \"limit=\" the \"LIMIT\" keyword will appended to query so that only the first results get returned.\n",
    "    \"\"\"\n",
    "    result=pd.DataFrame()\n",
    "    for filename in filenames:\n",
    "        result=query_cypher_to_data_frame(filename, parameters)\n",
    "        if not result.empty:\n",
    "            print(\"The results have been provided by the query filename: \" + filename)\n",
    "            return result\n",
    "    return result"
   ]
  },
  {
   "cell_type": "code",
   "execution_count": 7,
   "id": "7d2e62d6",
   "metadata": {
    "execution": {
     "iopub.execute_input": "2024-12-03T18:17:43.758850Z",
     "iopub.status.busy": "2024-12-03T18:17:43.758561Z",
     "iopub.status.idle": "2024-12-03T18:17:43.761886Z",
     "shell.execute_reply": "2024-12-03T18:17:43.761450Z"
    }
   },
   "outputs": [],
   "source": [
    "# TODO option to choose between directed and undirected projection\n",
    "\n",
    "def create_undirected_projection(parameters: dict) -> bool: \n",
    "    \"\"\"\n",
    "    Creates an undirected homogenous in-memory Graph projection for/with Neo4j Graph Data Science Plugin.\n",
    "    It returns True if there is data available for the given parameter and False otherwise.\n",
    "    Parameters\n",
    "    ----------\n",
    "    dependencies_projection : str\n",
    "        The name prefix for the in-memory projection for dependencies. Example: \"java-package-embeddings-notebook\"\n",
    "    dependencies_projection_node : str\n",
    "        The label of the nodes that will be used for the projection. Example: \"Package\"\n",
    "    dependencies_projection_weight_property : str\n",
    "        The name of the node property that contains the dependency weight. Example: \"weight25PercentInterfaces\"\n",
    "    dependencies_projection_embedding_dimension : str\n",
    "        The number of the dimensions and therefore size of the resulting array of floating point numbers\n",
    "    \"\"\"\n",
    "    \n",
    "    is_data_missing=query_cypher_to_data_frame(\"../cypher/Dependencies_Projection/Dependencies_0_Check_Projectable.cypher\", parameters).empty\n",
    "    if is_data_missing: return False\n",
    "\n",
    "    query_cypher_to_data_frame(\"../cypher/Dependencies_Projection/Dependencies_1_Delete_Projection.cypher\", parameters)\n",
    "    query_cypher_to_data_frame(\"../cypher/Dependencies_Projection/Dependencies_2_Delete_Subgraph.cypher\", parameters)\n",
    "    # To include the direction of the relationships use the following line to create the projection:\n",
    "    # query_cypher_to_data_frame(\"../cypher/Dependencies_Projection/Dependencies_3_Create_Projection.cypher\", parameters)\n",
    "    query_cypher_to_data_frame(\"../cypher/Dependencies_Projection/Dependencies_4_Create_Undirected_Projection.cypher\", parameters)\n",
    "    query_cypher_to_data_frame(\"../cypher/Dependencies_Projection/Dependencies_5_Create_Subgraph.cypher\", parameters)\n",
    "    return True"
   ]
  },
  {
   "cell_type": "code",
   "execution_count": 8,
   "id": "1aa86093",
   "metadata": {
    "execution": {
     "iopub.execute_input": "2024-12-03T18:17:43.763776Z",
     "iopub.status.busy": "2024-12-03T18:17:43.763482Z",
     "iopub.status.idle": "2024-12-03T18:17:43.767191Z",
     "shell.execute_reply": "2024-12-03T18:17:43.766715Z"
    }
   },
   "outputs": [],
   "source": [
    "# Feature ideas\n",
    "# TODO option to choose between directed and undirected projection\n",
    "# TODO option to not read already existing node embeddings to experiment with different (hpyer) parameters\n",
    "# TODO run a community detection algorithm co-located in here when \"communityId\" is missing\n",
    "# TODO run a centrality algorithm co-located in here when \"centrality\" score is missing\n",
    "\n",
    "def create_node_embeddings(cypher_file_name: str, parameters: dict) -> pd.DataFrame: \n",
    "    \"\"\"\n",
    "    Creates an in-memory Graph projection by calling \"create_undirected_projection\", \n",
    "    runs the cypher Query given as cypherFileName parameter to calculate and stream the node embeddings\n",
    "    and returns a DataFrame with the results.\n",
    "    \n",
    "    cypher_file_name\n",
    "    ----------\n",
    "    Name of the file containing the Cypher query that executes node embeddings procedure.\n",
    "\n",
    "    parameters\n",
    "    ----------\n",
    "    dependencies_projection : str\n",
    "        The name prefix for the in-memory projection for dependencies. Example: \"java-package-embeddings-notebook\"\n",
    "    dependencies_projection_node : str\n",
    "        The label of the nodes that will be used for the projection. Example: \"Package\"\n",
    "    dependencies_projection_weight_property : str\n",
    "        The name of the node property that contains the dependency weight. Example: \"weight25PercentInterfaces\"\n",
    "    dependencies_projection_embedding_dimension : str\n",
    "        The number of the dimensions and therefore size of the resulting array of floating point numbers\n",
    "    \"\"\"\n",
    "    \n",
    "    is_data_available=create_undirected_projection(parameters)\n",
    "    \n",
    "    if not is_data_available:\n",
    "        print(\"No projected data for node embeddings calculation available\")\n",
    "        empty_result = pd.DataFrame(columns=[\"codeUnitName\", 'projectName', 'communityId', 'centrality', 'embedding'])\n",
    "        return empty_result\n",
    "\n",
    "    existing_embeddings_query_filename=\"../cypher/Node_Embeddings/Node_Embeddings_0a_Query_Calculated.cypher\"\n",
    "    embeddings = query_first_non_empty_cypher_to_data_frame(existing_embeddings_query_filename, cypher_file_name, parameters=parameters)\n",
    "    display(embeddings.head()) # Display the first entries of the table\n",
    "    return embeddings"
   ]
  },
  {
   "cell_type": "markdown",
   "id": "f6ec6a9b",
   "metadata": {},
   "source": [
    "### Dimensionality reduction with t-distributed stochastic neighbor embedding (t-SNE)\n",
    "\n",
    "The following function takes the original node embeddings with a higher dimensionality, e.g. 64 floating point numbers, and reduces them into a two dimensional array for visualization. \n",
    "\n",
    "> It converts similarities between data points to joint probabilities and tries to minimize the Kullback-Leibler divergence between the joint probabilities of the low-dimensional embedding and the high-dimensional data.\n",
    "\n",
    "(see https://opentsne.readthedocs.io)"
   ]
  },
  {
   "cell_type": "code",
   "execution_count": 9,
   "id": "720aebd3",
   "metadata": {
    "execution": {
     "iopub.execute_input": "2024-12-03T18:17:43.769248Z",
     "iopub.status.busy": "2024-12-03T18:17:43.768889Z",
     "iopub.status.idle": "2024-12-03T18:17:43.773057Z",
     "shell.execute_reply": "2024-12-03T18:17:43.772562Z"
    }
   },
   "outputs": [],
   "source": [
    "def prepare_node_embeddings_for_2d_visualization(embeddings: pd.DataFrame) -> pd.DataFrame:\n",
    "    \"\"\"\n",
    "    Reduces the dimensionality of the node embeddings (e.g. 64 floating point numbers in an array)\n",
    "    to two dimensions for 2D visualization.\n",
    "    see https://opentsne.readthedocs.io\n",
    "    \"\"\"\n",
    "\n",
    "    if embeddings.empty: \n",
    "        print(\"No projected data for node embeddings dimensionality reduction available\")\n",
    "        return embeddings\n",
    "    \n",
    "    # Calling the fit_transform method just with a list doesn't seem to work (anymore?). \n",
    "    # It leads to an error with the following message: 'list' object has no attribute 'shape'\n",
    "    # This can be solved by converting the list to a numpy array using np.array(..).\n",
    "    # See https://bobbyhadz.com/blog/python-attributeerror-list-object-has-no-attribute-shape\n",
    "    embeddings_as_numpy_array = np.array(embeddings.embedding.to_list())\n",
    "\n",
    "    # Use t-distributed stochastic neighbor embedding (t-SNE) to reduce the dimensionality \n",
    "    # of the previously calculated node embeddings to 2 dimensions for visualization\n",
    "    t_distributed_stochastic_neighbor_embedding = TSNE(n_components=2, verbose=1, random_state=47)\n",
    "    two_dimension_node_embeddings = t_distributed_stochastic_neighbor_embedding.fit_transform(embeddings_as_numpy_array)\n",
    "    display(two_dimension_node_embeddings.shape) # Display the shape of the t-SNE result\n",
    "\n",
    "    # Create a new DataFrame with the results of the 2 dimensional node embeddings\n",
    "    # and the code unit and artifact name of the query above as preparation for the plot\n",
    "    node_embeddings_for_visualization = pd.DataFrame(data = {\n",
    "        \"codeUnit\": embeddings.codeUnitName,\n",
    "        \"artifact\": embeddings.projectName,\n",
    "        \"communityId\": embeddings.communityId,\n",
    "        \"centrality\": embeddings.centrality,\n",
    "        \"x\": [value[0] for value in two_dimension_node_embeddings],\n",
    "        \"y\": [value[1] for value in two_dimension_node_embeddings]\n",
    "    })\n",
    "    display(node_embeddings_for_visualization.head()) # Display the first line of the results\n",
    "    return node_embeddings_for_visualization\n",
    "    "
   ]
  },
  {
   "cell_type": "code",
   "execution_count": 10,
   "id": "d937e26e",
   "metadata": {
    "execution": {
     "iopub.execute_input": "2024-12-03T18:17:43.775170Z",
     "iopub.status.busy": "2024-12-03T18:17:43.774830Z",
     "iopub.status.idle": "2024-12-03T18:17:43.777992Z",
     "shell.execute_reply": "2024-12-03T18:17:43.777492Z"
    }
   },
   "outputs": [],
   "source": [
    "def plot_2d_node_embeddings(node_embeddings_for_visualization: pd.DataFrame, title: str):\n",
    "    if embeddings.empty:\n",
    "        print(\"No projected data to plot available\")\n",
    "        return\n",
    "\n",
    "    plot.scatter(\n",
    "        x=node_embeddings_for_visualization.x,\n",
    "        y=node_embeddings_for_visualization.y,\n",
    "        s=node_embeddings_for_visualization.centrality * 300,\n",
    "        c=node_embeddings_for_visualization.communityId,\n",
    "        cmap=main_color_map,\n",
    "    )\n",
    "    plot.title(title)\n",
    "    plot.show()"
   ]
  },
  {
   "cell_type": "code",
   "execution_count": 11,
   "id": "da9e8edb",
   "metadata": {
    "execution": {
     "iopub.execute_input": "2024-12-03T18:17:43.779973Z",
     "iopub.status.busy": "2024-12-03T18:17:43.779684Z",
     "iopub.status.idle": "2024-12-03T18:17:43.781958Z",
     "shell.execute_reply": "2024-12-03T18:17:43.781467Z"
    }
   },
   "outputs": [],
   "source": [
    "#The following cell uses the build-in %html \"magic\" to override the CSS style for tables to a much smaller size.\n",
    "#This is especially needed for PDF export of tables with multiple columns."
   ]
  },
  {
   "cell_type": "code",
   "execution_count": 12,
   "id": "9deaabce",
   "metadata": {
    "execution": {
     "iopub.execute_input": "2024-12-03T18:17:43.783839Z",
     "iopub.status.busy": "2024-12-03T18:17:43.783549Z",
     "iopub.status.idle": "2024-12-03T18:17:43.790263Z",
     "shell.execute_reply": "2024-12-03T18:17:43.789768Z"
    }
   },
   "outputs": [
    {
     "data": {
      "text/html": [
       "<style>\n",
       "/* CSS style for smaller dataframe tables. */\n",
       ".dataframe th {\n",
       "    font-size: 8px;\n",
       "}\n",
       ".dataframe td {\n",
       "    font-size: 8px;\n",
       "}\n",
       "</style>\n"
      ],
      "text/plain": [
       "<IPython.core.display.HTML object>"
      ]
     },
     "metadata": {},
     "output_type": "display_data"
    }
   ],
   "source": [
    "%%html\n",
    "<style>\n",
    "/* CSS style for smaller dataframe tables. */\n",
    ".dataframe th {\n",
    "    font-size: 8px;\n",
    "}\n",
    ".dataframe td {\n",
    "    font-size: 8px;\n",
    "}\n",
    "</style>"
   ]
  },
  {
   "cell_type": "code",
   "execution_count": 13,
   "id": "c2496caf",
   "metadata": {
    "execution": {
     "iopub.execute_input": "2024-12-03T18:17:43.792034Z",
     "iopub.status.busy": "2024-12-03T18:17:43.791878Z",
     "iopub.status.idle": "2024-12-03T18:17:43.794116Z",
     "shell.execute_reply": "2024-12-03T18:17:43.793727Z"
    }
   },
   "outputs": [],
   "source": [
    "# Main Colormap\n",
    "main_color_map = 'nipy_spectral'"
   ]
  },
  {
   "cell_type": "markdown",
   "id": "0c68aa20",
   "metadata": {},
   "source": [
    "## 1. Java Packages"
   ]
  },
  {
   "cell_type": "markdown",
   "id": "145dca19",
   "metadata": {},
   "source": [
    "### 1.1 Generate Node Embeddings using Fast Random Projection (Fast RP) for Java Packages\n",
    "\n",
    "[Fast Random Projection](https://neo4j.com/docs/graph-data-science/current/machine-learning/node-embeddings/fastrp) is used to reduce the dimensionality of the node feature space while preserving most of the distance information. Nodes with similar neighborhood result in node embedding with similar vectors.\n",
    "\n",
    "**👉Hint:** To skip existing node embeddings and always calculate them based on the parameters below edit `Node_Embeddings_0a_Query_Calculated` so that it won't return any results."
   ]
  },
  {
   "cell_type": "code",
   "execution_count": 14,
   "id": "8efca2cf",
   "metadata": {
    "execution": {
     "iopub.execute_input": "2024-12-03T18:17:43.796169Z",
     "iopub.status.busy": "2024-12-03T18:17:43.795902Z",
     "iopub.status.idle": "2024-12-03T18:17:44.092300Z",
     "shell.execute_reply": "2024-12-03T18:17:44.091734Z"
    }
   },
   "outputs": [
    {
     "name": "stdout",
     "output_type": "stream",
     "text": [
      "The results have been provided by the query filename: ../cypher/Node_Embeddings/Node_Embeddings_0a_Query_Calculated.cypher\n"
     ]
    },
    {
     "data": {
      "text/html": [
       "<div>\n",
       "<style scoped>\n",
       "    .dataframe tbody tr th:only-of-type {\n",
       "        vertical-align: middle;\n",
       "    }\n",
       "\n",
       "    .dataframe tbody tr th {\n",
       "        vertical-align: top;\n",
       "    }\n",
       "\n",
       "    .dataframe thead th {\n",
       "        text-align: right;\n",
       "    }\n",
       "</style>\n",
       "<table border=\"1\" class=\"dataframe\">\n",
       "  <thead>\n",
       "    <tr style=\"text-align: right;\">\n",
       "      <th></th>\n",
       "      <th>codeUnitName</th>\n",
       "      <th>shortCodeUnitName</th>\n",
       "      <th>projectName</th>\n",
       "      <th>communityId</th>\n",
       "      <th>centrality</th>\n",
       "      <th>embedding</th>\n",
       "    </tr>\n",
       "  </thead>\n",
       "  <tbody>\n",
       "    <tr>\n",
       "      <th>0</th>\n",
       "      <td>org.axonframework.axonserver.connector</td>\n",
       "      <td>connector</td>\n",
       "      <td>axon-server-connector-4.10.2</td>\n",
       "      <td>0</td>\n",
       "      <td>0.090491</td>\n",
       "      <td>[-0.426479309797287, -0.10291843861341476, 0.0...</td>\n",
       "    </tr>\n",
       "    <tr>\n",
       "      <th>1</th>\n",
       "      <td>org.axonframework.axonserver.connector.util</td>\n",
       "      <td>util</td>\n",
       "      <td>axon-server-connector-4.10.2</td>\n",
       "      <td>0</td>\n",
       "      <td>0.023323</td>\n",
       "      <td>[-0.5922685861587524, -0.15286175906658173, 0....</td>\n",
       "    </tr>\n",
       "    <tr>\n",
       "      <th>2</th>\n",
       "      <td>org.axonframework.axonserver.connector.heartbeat</td>\n",
       "      <td>heartbeat</td>\n",
       "      <td>axon-server-connector-4.10.2</td>\n",
       "      <td>0</td>\n",
       "      <td>0.014287</td>\n",
       "      <td>[-0.38586750626564026, -0.1801978349685669, -0...</td>\n",
       "    </tr>\n",
       "    <tr>\n",
       "      <th>3</th>\n",
       "      <td>org.axonframework.axonserver.connector.heartbe...</td>\n",
       "      <td>source</td>\n",
       "      <td>axon-server-connector-4.10.2</td>\n",
       "      <td>0</td>\n",
       "      <td>0.012211</td>\n",
       "      <td>[-0.35284632444381714, -0.1785341054201126, -0...</td>\n",
       "    </tr>\n",
       "    <tr>\n",
       "      <th>4</th>\n",
       "      <td>org.axonframework.axonserver.connector.heartbe...</td>\n",
       "      <td>checker</td>\n",
       "      <td>axon-server-connector-4.10.2</td>\n",
       "      <td>0</td>\n",
       "      <td>0.012211</td>\n",
       "      <td>[-0.37208718061447144, -0.17197196185588837, -...</td>\n",
       "    </tr>\n",
       "  </tbody>\n",
       "</table>\n",
       "</div>"
      ],
      "text/plain": [
       "                                        codeUnitName shortCodeUnitName  \\\n",
       "0             org.axonframework.axonserver.connector         connector   \n",
       "1        org.axonframework.axonserver.connector.util              util   \n",
       "2   org.axonframework.axonserver.connector.heartbeat         heartbeat   \n",
       "3  org.axonframework.axonserver.connector.heartbe...            source   \n",
       "4  org.axonframework.axonserver.connector.heartbe...           checker   \n",
       "\n",
       "                    projectName  communityId  centrality  \\\n",
       "0  axon-server-connector-4.10.2            0    0.090491   \n",
       "1  axon-server-connector-4.10.2            0    0.023323   \n",
       "2  axon-server-connector-4.10.2            0    0.014287   \n",
       "3  axon-server-connector-4.10.2            0    0.012211   \n",
       "4  axon-server-connector-4.10.2            0    0.012211   \n",
       "\n",
       "                                           embedding  \n",
       "0  [-0.426479309797287, -0.10291843861341476, 0.0...  \n",
       "1  [-0.5922685861587524, -0.15286175906658173, 0....  \n",
       "2  [-0.38586750626564026, -0.1801978349685669, -0...  \n",
       "3  [-0.35284632444381714, -0.1785341054201126, -0...  \n",
       "4  [-0.37208718061447144, -0.17197196185588837, -...  "
      ]
     },
     "metadata": {},
     "output_type": "display_data"
    }
   ],
   "source": [
    "java_package_embeddings_parameters={\n",
    "    \"dependencies_projection\": \"java-package-embeddings-notebook\",\n",
    "    \"dependencies_projection_node\": \"Package\",\n",
    "    \"dependencies_projection_weight_property\": \"weight25PercentInterfaces\",\n",
    "    \"dependencies_projection_write_property\": \"embeddingsFastRandomProjection\",\n",
    "    \"dependencies_projection_embedding_dimension\":\"32\"\n",
    "}\n",
    "embeddings = create_node_embeddings(\"../cypher/Node_Embeddings/Node_Embeddings_1d_Fast_Random_Projection_Stream.cypher\", java_package_embeddings_parameters)\n"
   ]
  },
  {
   "cell_type": "markdown",
   "id": "76d8bca1",
   "metadata": {},
   "source": [
    "### 1.2 Dimensionality reduction with t-distributed stochastic neighbor embedding (t-SNE)\n",
    "\n",
    "This step takes the original node embeddings with a higher dimensionality, e.g. 64 floating point numbers, and reduces them into a two dimensional array for visualization. For more details look up the function declaration for \"prepare_node_embeddings_for_2d_visualization\"."
   ]
  },
  {
   "cell_type": "code",
   "execution_count": 15,
   "id": "031abacc",
   "metadata": {
    "execution": {
     "iopub.execute_input": "2024-12-03T18:17:44.094653Z",
     "iopub.status.busy": "2024-12-03T18:17:44.094316Z",
     "iopub.status.idle": "2024-12-03T18:17:44.732003Z",
     "shell.execute_reply": "2024-12-03T18:17:44.731574Z"
    }
   },
   "outputs": [
    {
     "name": "stdout",
     "output_type": "stream",
     "text": [
      "--------------------------------------------------------------------------------\n",
      "TSNE(early_exaggeration=12, random_state=47, verbose=1)\n",
      "--------------------------------------------------------------------------------\n",
      "===> Finding 90 nearest neighbors using exact search using euclidean distance...\n",
      "   --> Time elapsed: 0.03 seconds\n",
      "===> Calculating affinity matrix...\n",
      "   --> Time elapsed: 0.01 seconds\n",
      "===> Calculating PCA-based initialization...\n",
      "   --> Time elapsed: 0.00 seconds\n",
      "===> Running optimization with exaggeration=12.00, lr=9.50 for 250 iterations...\n",
      "Iteration   50, KL divergence -0.4126, 50 iterations in 0.0545 sec\n",
      "Iteration  100, KL divergence 1.2334, 50 iterations in 0.0159 sec\n",
      "Iteration  150, KL divergence 1.2334, 50 iterations in 0.0147 sec\n",
      "Iteration  200, KL divergence 1.2334, 50 iterations in 0.0145 sec\n",
      "Iteration  250, KL divergence 1.2334, 50 iterations in 0.0145 sec\n",
      "   --> Time elapsed: 0.11 seconds\n",
      "===> Running optimization with exaggeration=1.00, lr=114.00 for 500 iterations...\n",
      "Iteration   50, KL divergence 0.2093, 50 iterations in 0.0523 sec\n",
      "Iteration  100, KL divergence 0.1922, 50 iterations in 0.0499 sec\n",
      "Iteration  150, KL divergence 0.1840, 50 iterations in 0.0433 sec\n",
      "Iteration  200, KL divergence 0.1788, 50 iterations in 0.0431 sec\n",
      "Iteration  250, KL divergence 0.1785, 50 iterations in 0.0432 sec\n",
      "Iteration  300, KL divergence 0.1784, 50 iterations in 0.0445 sec\n",
      "Iteration  350, KL divergence 0.1784, 50 iterations in 0.0444 sec\n",
      "Iteration  400, KL divergence 0.1781, 50 iterations in 0.0519 sec\n",
      "Iteration  450, KL divergence 0.1783, 50 iterations in 0.0600 sec\n",
      "Iteration  500, KL divergence 0.1781, 50 iterations in 0.0438 sec\n",
      "   --> Time elapsed: 0.48 seconds\n"
     ]
    },
    {
     "data": {
      "text/plain": [
       "(114, 2)"
      ]
     },
     "metadata": {},
     "output_type": "display_data"
    },
    {
     "data": {
      "text/html": [
       "<div>\n",
       "<style scoped>\n",
       "    .dataframe tbody tr th:only-of-type {\n",
       "        vertical-align: middle;\n",
       "    }\n",
       "\n",
       "    .dataframe tbody tr th {\n",
       "        vertical-align: top;\n",
       "    }\n",
       "\n",
       "    .dataframe thead th {\n",
       "        text-align: right;\n",
       "    }\n",
       "</style>\n",
       "<table border=\"1\" class=\"dataframe\">\n",
       "  <thead>\n",
       "    <tr style=\"text-align: right;\">\n",
       "      <th></th>\n",
       "      <th>codeUnit</th>\n",
       "      <th>artifact</th>\n",
       "      <th>communityId</th>\n",
       "      <th>centrality</th>\n",
       "      <th>x</th>\n",
       "      <th>y</th>\n",
       "    </tr>\n",
       "  </thead>\n",
       "  <tbody>\n",
       "    <tr>\n",
       "      <th>0</th>\n",
       "      <td>org.axonframework.axonserver.connector</td>\n",
       "      <td>axon-server-connector-4.10.2</td>\n",
       "      <td>0</td>\n",
       "      <td>0.090491</td>\n",
       "      <td>-6.784472</td>\n",
       "      <td>-0.431613</td>\n",
       "    </tr>\n",
       "    <tr>\n",
       "      <th>1</th>\n",
       "      <td>org.axonframework.axonserver.connector.util</td>\n",
       "      <td>axon-server-connector-4.10.2</td>\n",
       "      <td>0</td>\n",
       "      <td>0.023323</td>\n",
       "      <td>-7.513715</td>\n",
       "      <td>-1.381069</td>\n",
       "    </tr>\n",
       "    <tr>\n",
       "      <th>2</th>\n",
       "      <td>org.axonframework.axonserver.connector.heartbeat</td>\n",
       "      <td>axon-server-connector-4.10.2</td>\n",
       "      <td>0</td>\n",
       "      <td>0.014287</td>\n",
       "      <td>-7.807378</td>\n",
       "      <td>-0.401421</td>\n",
       "    </tr>\n",
       "    <tr>\n",
       "      <th>3</th>\n",
       "      <td>org.axonframework.axonserver.connector.heartbe...</td>\n",
       "      <td>axon-server-connector-4.10.2</td>\n",
       "      <td>0</td>\n",
       "      <td>0.012211</td>\n",
       "      <td>-7.909627</td>\n",
       "      <td>0.089288</td>\n",
       "    </tr>\n",
       "    <tr>\n",
       "      <th>4</th>\n",
       "      <td>org.axonframework.axonserver.connector.heartbe...</td>\n",
       "      <td>axon-server-connector-4.10.2</td>\n",
       "      <td>0</td>\n",
       "      <td>0.012211</td>\n",
       "      <td>-8.072440</td>\n",
       "      <td>-0.159290</td>\n",
       "    </tr>\n",
       "  </tbody>\n",
       "</table>\n",
       "</div>"
      ],
      "text/plain": [
       "                                            codeUnit  \\\n",
       "0             org.axonframework.axonserver.connector   \n",
       "1        org.axonframework.axonserver.connector.util   \n",
       "2   org.axonframework.axonserver.connector.heartbeat   \n",
       "3  org.axonframework.axonserver.connector.heartbe...   \n",
       "4  org.axonframework.axonserver.connector.heartbe...   \n",
       "\n",
       "                       artifact  communityId  centrality         x         y  \n",
       "0  axon-server-connector-4.10.2            0    0.090491 -6.784472 -0.431613  \n",
       "1  axon-server-connector-4.10.2            0    0.023323 -7.513715 -1.381069  \n",
       "2  axon-server-connector-4.10.2            0    0.014287 -7.807378 -0.401421  \n",
       "3  axon-server-connector-4.10.2            0    0.012211 -7.909627  0.089288  \n",
       "4  axon-server-connector-4.10.2            0    0.012211 -8.072440 -0.159290  "
      ]
     },
     "metadata": {},
     "output_type": "display_data"
    }
   ],
   "source": [
    "node_embeddings_for_visualization = prepare_node_embeddings_for_2d_visualization(embeddings)"
   ]
  },
  {
   "cell_type": "markdown",
   "id": "f908c47f",
   "metadata": {},
   "source": [
    "### 1.3 Visualization of the node embeddings reduced to two dimensions"
   ]
  },
  {
   "cell_type": "code",
   "execution_count": 16,
   "id": "459a819c",
   "metadata": {
    "execution": {
     "iopub.execute_input": "2024-12-03T18:17:44.734257Z",
     "iopub.status.busy": "2024-12-03T18:17:44.733892Z",
     "iopub.status.idle": "2024-12-03T18:17:44.850625Z",
     "shell.execute_reply": "2024-12-03T18:17:44.850093Z"
    }
   },
   "outputs": [
    {
     "data": {
      "image/png": "[encoded data removed]",
      "text/plain": [
       "<Figure size 640x480 with 1 Axes>"
      ]
     },
     "metadata": {},
     "output_type": "display_data"
    }
   ],
   "source": [
    "plot_2d_node_embeddings(\n",
    "    node_embeddings_for_visualization, \n",
    "    \"Java Package positioned by their dependency relationships (FastRP node embeddings + t-SNE)\"\n",
    ")"
   ]
  },
  {
   "cell_type": "markdown",
   "id": "b690b9a7",
   "metadata": {},
   "source": [
    "### 1.4 Node Embeddings for Java Packages using HashGNN\n",
    "\n",
    "[HashGNN](https://neo4j.com/docs/graph-data-science/2.6/machine-learning/node-embeddings/hashgnn) resembles Graph Neural Networks (GNN) but does not include a model or require training. It combines ideas of GNNs and fast randomized algorithms. For more details see [HashGNN](https://neo4j.com/docs/graph-data-science/2.6/machine-learning/node-embeddings/hashgnn). Here, the latter 3 steps are combined into one for HashGNN."
   ]
  },
  {
   "cell_type": "code",
   "execution_count": 17,
   "id": "3d3cfb7a",
   "metadata": {
    "execution": {
     "iopub.execute_input": "2024-12-03T18:17:44.852779Z",
     "iopub.status.busy": "2024-12-03T18:17:44.852614Z",
     "iopub.status.idle": "2024-12-03T18:17:45.826093Z",
     "shell.execute_reply": "2024-12-03T18:17:45.825535Z"
    }
   },
   "outputs": [
    {
     "name": "stdout",
     "output_type": "stream",
     "text": [
      "The results have been provided by the query filename: ../cypher/Node_Embeddings/Node_Embeddings_0a_Query_Calculated.cypher\n"
     ]
    },
    {
     "data": {
      "text/html": [
       "<div>\n",
       "<style scoped>\n",
       "    .dataframe tbody tr th:only-of-type {\n",
       "        vertical-align: middle;\n",
       "    }\n",
       "\n",
       "    .dataframe tbody tr th {\n",
       "        vertical-align: top;\n",
       "    }\n",
       "\n",
       "    .dataframe thead th {\n",
       "        text-align: right;\n",
       "    }\n",
       "</style>\n",
       "<table border=\"1\" class=\"dataframe\">\n",
       "  <thead>\n",
       "    <tr style=\"text-align: right;\">\n",
       "      <th></th>\n",
       "      <th>codeUnitName</th>\n",
       "      <th>shortCodeUnitName</th>\n",
       "      <th>projectName</th>\n",
       "      <th>communityId</th>\n",
       "      <th>centrality</th>\n",
       "      <th>embedding</th>\n",
       "    </tr>\n",
       "  </thead>\n",
       "  <tbody>\n",
       "    <tr>\n",
       "      <th>0</th>\n",
       "      <td>org.axonframework.axonserver.connector</td>\n",
       "      <td>connector</td>\n",
       "      <td>axon-server-connector-4.10.2</td>\n",
       "      <td>0</td>\n",
       "      <td>0.090491</td>\n",
       "      <td>[1.0825317353010178, -0.21650634706020355, -1....</td>\n",
       "    </tr>\n",
       "    <tr>\n",
       "      <th>1</th>\n",
       "      <td>org.axonframework.axonserver.connector.util</td>\n",
       "      <td>util</td>\n",
       "      <td>axon-server-connector-4.10.2</td>\n",
       "      <td>0</td>\n",
       "      <td>0.023323</td>\n",
       "      <td>[-0.21650634706020355, -1.5155444294214249, -1...</td>\n",
       "    </tr>\n",
       "    <tr>\n",
       "      <th>2</th>\n",
       "      <td>org.axonframework.axonserver.connector.heartbeat</td>\n",
       "      <td>heartbeat</td>\n",
       "      <td>axon-server-connector-4.10.2</td>\n",
       "      <td>0</td>\n",
       "      <td>0.014287</td>\n",
       "      <td>[0.6495190411806107, -0.6495190411806107, -1.0...</td>\n",
       "    </tr>\n",
       "    <tr>\n",
       "      <th>3</th>\n",
       "      <td>org.axonframework.axonserver.connector.heartbe...</td>\n",
       "      <td>source</td>\n",
       "      <td>axon-server-connector-4.10.2</td>\n",
       "      <td>0</td>\n",
       "      <td>0.012211</td>\n",
       "      <td>[0.8660253882408142, -0.8660253882408142, -0.8...</td>\n",
       "    </tr>\n",
       "    <tr>\n",
       "      <th>4</th>\n",
       "      <td>org.axonframework.axonserver.connector.heartbe...</td>\n",
       "      <td>checker</td>\n",
       "      <td>axon-server-connector-4.10.2</td>\n",
       "      <td>0</td>\n",
       "      <td>0.012211</td>\n",
       "      <td>[0.6495190411806107, -0.8660253882408142, -0.8...</td>\n",
       "    </tr>\n",
       "  </tbody>\n",
       "</table>\n",
       "</div>"
      ],
      "text/plain": [
       "                                        codeUnitName shortCodeUnitName  \\\n",
       "0             org.axonframework.axonserver.connector         connector   \n",
       "1        org.axonframework.axonserver.connector.util              util   \n",
       "2   org.axonframework.axonserver.connector.heartbeat         heartbeat   \n",
       "3  org.axonframework.axonserver.connector.heartbe...            source   \n",
       "4  org.axonframework.axonserver.connector.heartbe...           checker   \n",
       "\n",
       "                    projectName  communityId  centrality  \\\n",
       "0  axon-server-connector-4.10.2            0    0.090491   \n",
       "1  axon-server-connector-4.10.2            0    0.023323   \n",
       "2  axon-server-connector-4.10.2            0    0.014287   \n",
       "3  axon-server-connector-4.10.2            0    0.012211   \n",
       "4  axon-server-connector-4.10.2            0    0.012211   \n",
       "\n",
       "                                           embedding  \n",
       "0  [1.0825317353010178, -0.21650634706020355, -1....  \n",
       "1  [-0.21650634706020355, -1.5155444294214249, -1...  \n",
       "2  [0.6495190411806107, -0.6495190411806107, -1.0...  \n",
       "3  [0.8660253882408142, -0.8660253882408142, -0.8...  \n",
       "4  [0.6495190411806107, -0.8660253882408142, -0.8...  "
      ]
     },
     "metadata": {},
     "output_type": "display_data"
    },
    {
     "name": "stdout",
     "output_type": "stream",
     "text": [
      "--------------------------------------------------------------------------------\n",
      "TSNE(early_exaggeration=12, random_state=47, verbose=1)\n",
      "--------------------------------------------------------------------------------\n",
      "===> Finding 90 nearest neighbors using exact search using euclidean distance...\n",
      "   --> Time elapsed: 0.01 seconds\n",
      "===> Calculating affinity matrix...\n",
      "   --> Time elapsed: 0.00 seconds\n",
      "===> Calculating PCA-based initialization...\n",
      "   --> Time elapsed: 0.01 seconds\n",
      "===> Running optimization with exaggeration=12.00, lr=9.50 for 250 iterations...\n",
      "Iteration   50, KL divergence -0.3860, 50 iterations in 0.0940 sec\n",
      "Iteration  100, KL divergence 1.2052, 50 iterations in 0.0168 sec\n",
      "Iteration  150, KL divergence 1.2052, 50 iterations in 0.0145 sec\n",
      "Iteration  200, KL divergence 1.2052, 50 iterations in 0.0143 sec\n",
      "Iteration  250, KL divergence 1.2052, 50 iterations in 0.0145 sec\n",
      "   --> Time elapsed: 0.15 seconds\n",
      "===> Running optimization with exaggeration=1.00, lr=114.00 for 500 iterations...\n",
      "Iteration   50, KL divergence 0.6226, 50 iterations in 0.0430 sec\n",
      "Iteration  100, KL divergence 0.6057, 50 iterations in 0.0459 sec\n",
      "Iteration  150, KL divergence 0.6049, 50 iterations in 0.0439 sec\n",
      "Iteration  200, KL divergence 0.6053, 50 iterations in 0.0441 sec\n",
      "Iteration  250, KL divergence 0.6053, 50 iterations in 0.0440 sec\n",
      "Iteration  300, KL divergence 0.6054, 50 iterations in 0.0443 sec\n",
      "Iteration  350, KL divergence 0.6054, 50 iterations in 0.0443 sec\n",
      "Iteration  400, KL divergence 0.6053, 50 iterations in 0.0437 sec\n",
      "Iteration  450, KL divergence 0.6057, 50 iterations in 0.0443 sec\n",
      "Iteration  500, KL divergence 0.6057, 50 iterations in 0.0458 sec\n",
      "   --> Time elapsed: 0.44 seconds\n"
     ]
    },
    {
     "data": {
      "text/plain": [
       "(114, 2)"
      ]
     },
     "metadata": {},
     "output_type": "display_data"
    },
    {
     "data": {
      "text/html": [
       "<div>\n",
       "<style scoped>\n",
       "    .dataframe tbody tr th:only-of-type {\n",
       "        vertical-align: middle;\n",
       "    }\n",
       "\n",
       "    .dataframe tbody tr th {\n",
       "        vertical-align: top;\n",
       "    }\n",
       "\n",
       "    .dataframe thead th {\n",
       "        text-align: right;\n",
       "    }\n",
       "</style>\n",
       "<table border=\"1\" class=\"dataframe\">\n",
       "  <thead>\n",
       "    <tr style=\"text-align: right;\">\n",
       "      <th></th>\n",
       "      <th>codeUnit</th>\n",
       "      <th>artifact</th>\n",
       "      <th>communityId</th>\n",
       "      <th>centrality</th>\n",
       "      <th>x</th>\n",
       "      <th>y</th>\n",
       "    </tr>\n",
       "  </thead>\n",
       "  <tbody>\n",
       "    <tr>\n",
       "      <th>0</th>\n",
       "      <td>org.axonframework.axonserver.connector</td>\n",
       "      <td>axon-server-connector-4.10.2</td>\n",
       "      <td>0</td>\n",
       "      <td>0.090491</td>\n",
       "      <td>5.481482</td>\n",
       "      <td>-5.371138</td>\n",
       "    </tr>\n",
       "    <tr>\n",
       "      <th>1</th>\n",
       "      <td>org.axonframework.axonserver.connector.util</td>\n",
       "      <td>axon-server-connector-4.10.2</td>\n",
       "      <td>0</td>\n",
       "      <td>0.023323</td>\n",
       "      <td>3.172303</td>\n",
       "      <td>-5.264484</td>\n",
       "    </tr>\n",
       "    <tr>\n",
       "      <th>2</th>\n",
       "      <td>org.axonframework.axonserver.connector.heartbeat</td>\n",
       "      <td>axon-server-connector-4.10.2</td>\n",
       "      <td>0</td>\n",
       "      <td>0.014287</td>\n",
       "      <td>5.573234</td>\n",
       "      <td>-3.533054</td>\n",
       "    </tr>\n",
       "    <tr>\n",
       "      <th>3</th>\n",
       "      <td>org.axonframework.axonserver.connector.heartbe...</td>\n",
       "      <td>axon-server-connector-4.10.2</td>\n",
       "      <td>0</td>\n",
       "      <td>0.012211</td>\n",
       "      <td>4.799976</td>\n",
       "      <td>-3.000425</td>\n",
       "    </tr>\n",
       "    <tr>\n",
       "      <th>4</th>\n",
       "      <td>org.axonframework.axonserver.connector.heartbe...</td>\n",
       "      <td>axon-server-connector-4.10.2</td>\n",
       "      <td>0</td>\n",
       "      <td>0.012211</td>\n",
       "      <td>4.665069</td>\n",
       "      <td>-2.788323</td>\n",
       "    </tr>\n",
       "  </tbody>\n",
       "</table>\n",
       "</div>"
      ],
      "text/plain": [
       "                                            codeUnit  \\\n",
       "0             org.axonframework.axonserver.connector   \n",
       "1        org.axonframework.axonserver.connector.util   \n",
       "2   org.axonframework.axonserver.connector.heartbeat   \n",
       "3  org.axonframework.axonserver.connector.heartbe...   \n",
       "4  org.axonframework.axonserver.connector.heartbe...   \n",
       "\n",
       "                       artifact  communityId  centrality         x         y  \n",
       "0  axon-server-connector-4.10.2            0    0.090491  5.481482 -5.371138  \n",
       "1  axon-server-connector-4.10.2            0    0.023323  3.172303 -5.264484  \n",
       "2  axon-server-connector-4.10.2            0    0.014287  5.573234 -3.533054  \n",
       "3  axon-server-connector-4.10.2            0    0.012211  4.799976 -3.000425  \n",
       "4  axon-server-connector-4.10.2            0    0.012211  4.665069 -2.788323  "
      ]
     },
     "metadata": {},
     "output_type": "display_data"
    },
    {
     "data": {
      "image/png": "[encoded data removed]",
      "text/plain": [
       "<Figure size 640x480 with 1 Axes>"
      ]
     },
     "metadata": {},
     "output_type": "display_data"
    }
   ],
   "source": [
    "java_package_embeddings_parameters={\n",
    "    \"dependencies_projection\": \"java-package-embeddings-notebook\",\n",
    "    \"dependencies_projection_node\": \"Package\",\n",
    "    \"dependencies_projection_weight_property\": \"weight25PercentInterfaces\",\n",
    "    \"dependencies_projection_write_property\": \"embeddingsHashGNN\",\n",
    "    \"dependencies_projection_embedding_dimension\":\"64\"\n",
    "}\n",
    "embeddings = create_node_embeddings(\"../cypher/Node_Embeddings/Node_Embeddings_2d_Hash_GNN_Stream.cypher\", java_package_embeddings_parameters)\n",
    "node_embeddings_for_visualization = prepare_node_embeddings_for_2d_visualization(embeddings)\n",
    "plot_2d_node_embeddings(\n",
    "    node_embeddings_for_visualization, \n",
    "    \"Java Package positioned by their dependency relationships (HashGNN node embeddings + t-SNE)\"\n",
    ")"
   ]
  },
  {
   "cell_type": "markdown",
   "id": "248d88b4",
   "metadata": {},
   "source": [
    "### 2.5 Node Embeddings for Java Packages using node2vec"
   ]
  },
  {
   "cell_type": "code",
   "execution_count": 18,
   "id": "62c40c45",
   "metadata": {
    "execution": {
     "iopub.execute_input": "2024-12-03T18:17:45.828302Z",
     "iopub.status.busy": "2024-12-03T18:17:45.827994Z",
     "iopub.status.idle": "2024-12-03T18:17:46.779775Z",
     "shell.execute_reply": "2024-12-03T18:17:46.779283Z"
    }
   },
   "outputs": [
    {
     "name": "stdout",
     "output_type": "stream",
     "text": [
      "The results have been provided by the query filename: ../cypher/Node_Embeddings/Node_Embeddings_0a_Query_Calculated.cypher\n"
     ]
    },
    {
     "data": {
      "text/html": [
       "<div>\n",
       "<style scoped>\n",
       "    .dataframe tbody tr th:only-of-type {\n",
       "        vertical-align: middle;\n",
       "    }\n",
       "\n",
       "    .dataframe tbody tr th {\n",
       "        vertical-align: top;\n",
       "    }\n",
       "\n",
       "    .dataframe thead th {\n",
       "        text-align: right;\n",
       "    }\n",
       "</style>\n",
       "<table border=\"1\" class=\"dataframe\">\n",
       "  <thead>\n",
       "    <tr style=\"text-align: right;\">\n",
       "      <th></th>\n",
       "      <th>codeUnitName</th>\n",
       "      <th>shortCodeUnitName</th>\n",
       "      <th>projectName</th>\n",
       "      <th>communityId</th>\n",
       "      <th>centrality</th>\n",
       "      <th>embedding</th>\n",
       "    </tr>\n",
       "  </thead>\n",
       "  <tbody>\n",
       "    <tr>\n",
       "      <th>0</th>\n",
       "      <td>org.axonframework.axonserver.connector</td>\n",
       "      <td>connector</td>\n",
       "      <td>axon-server-connector-4.10.2</td>\n",
       "      <td>0</td>\n",
       "      <td>0.090491</td>\n",
       "      <td>[0.27402955293655396, 0.3037206828594208, -0.2...</td>\n",
       "    </tr>\n",
       "    <tr>\n",
       "      <th>1</th>\n",
       "      <td>org.axonframework.axonserver.connector.util</td>\n",
       "      <td>util</td>\n",
       "      <td>axon-server-connector-4.10.2</td>\n",
       "      <td>0</td>\n",
       "      <td>0.023323</td>\n",
       "      <td>[0.45037946105003357, 0.039009880274534225, -0...</td>\n",
       "    </tr>\n",
       "    <tr>\n",
       "      <th>2</th>\n",
       "      <td>org.axonframework.axonserver.connector.heartbeat</td>\n",
       "      <td>heartbeat</td>\n",
       "      <td>axon-server-connector-4.10.2</td>\n",
       "      <td>0</td>\n",
       "      <td>0.014287</td>\n",
       "      <td>[0.4794822037220001, 0.10852014273405075, -0.2...</td>\n",
       "    </tr>\n",
       "    <tr>\n",
       "      <th>3</th>\n",
       "      <td>org.axonframework.axonserver.connector.heartbe...</td>\n",
       "      <td>source</td>\n",
       "      <td>axon-server-connector-4.10.2</td>\n",
       "      <td>0</td>\n",
       "      <td>0.012211</td>\n",
       "      <td>[0.12400853633880615, 0.09648723155260086, -0....</td>\n",
       "    </tr>\n",
       "    <tr>\n",
       "      <th>4</th>\n",
       "      <td>org.axonframework.axonserver.connector.heartbe...</td>\n",
       "      <td>checker</td>\n",
       "      <td>axon-server-connector-4.10.2</td>\n",
       "      <td>0</td>\n",
       "      <td>0.012211</td>\n",
       "      <td>[0.36820361018180847, 0.19052071869373322, -0....</td>\n",
       "    </tr>\n",
       "  </tbody>\n",
       "</table>\n",
       "</div>"
      ],
      "text/plain": [
       "                                        codeUnitName shortCodeUnitName  \\\n",
       "0             org.axonframework.axonserver.connector         connector   \n",
       "1        org.axonframework.axonserver.connector.util              util   \n",
       "2   org.axonframework.axonserver.connector.heartbeat         heartbeat   \n",
       "3  org.axonframework.axonserver.connector.heartbe...            source   \n",
       "4  org.axonframework.axonserver.connector.heartbe...           checker   \n",
       "\n",
       "                    projectName  communityId  centrality  \\\n",
       "0  axon-server-connector-4.10.2            0    0.090491   \n",
       "1  axon-server-connector-4.10.2            0    0.023323   \n",
       "2  axon-server-connector-4.10.2            0    0.014287   \n",
       "3  axon-server-connector-4.10.2            0    0.012211   \n",
       "4  axon-server-connector-4.10.2            0    0.012211   \n",
       "\n",
       "                                           embedding  \n",
       "0  [0.27402955293655396, 0.3037206828594208, -0.2...  \n",
       "1  [0.45037946105003357, 0.039009880274534225, -0...  \n",
       "2  [0.4794822037220001, 0.10852014273405075, -0.2...  \n",
       "3  [0.12400853633880615, 0.09648723155260086, -0....  \n",
       "4  [0.36820361018180847, 0.19052071869373322, -0....  "
      ]
     },
     "metadata": {},
     "output_type": "display_data"
    },
    {
     "name": "stdout",
     "output_type": "stream",
     "text": [
      "--------------------------------------------------------------------------------\n",
      "TSNE(early_exaggeration=12, random_state=47, verbose=1)\n",
      "--------------------------------------------------------------------------------\n",
      "===> Finding 90 nearest neighbors using exact search using euclidean distance...\n",
      "   --> Time elapsed: 0.00 seconds\n",
      "===> Calculating affinity matrix...\n",
      "   --> Time elapsed: 0.00 seconds\n",
      "===> Calculating PCA-based initialization...\n",
      "   --> Time elapsed: 0.00 seconds\n",
      "===> Running optimization with exaggeration=12.00, lr=9.50 for 250 iterations...\n",
      "Iteration   50, KL divergence -0.1962, 50 iterations in 0.0656 sec\n",
      "Iteration  100, KL divergence 1.1625, 50 iterations in 0.0187 sec\n",
      "Iteration  150, KL divergence 1.1625, 50 iterations in 0.0149 sec\n",
      "Iteration  200, KL divergence 1.1625, 50 iterations in 0.0147 sec\n",
      "Iteration  250, KL divergence 1.1625, 50 iterations in 0.0147 sec\n",
      "   --> Time elapsed: 0.13 seconds\n",
      "===> Running optimization with exaggeration=1.00, lr=114.00 for 500 iterations...\n",
      "Iteration   50, KL divergence 0.3646, 50 iterations in 0.0569 sec\n",
      "Iteration  100, KL divergence 0.3451, 50 iterations in 0.0485 sec\n",
      "Iteration  150, KL divergence 0.3439, 50 iterations in 0.0477 sec\n",
      "Iteration  200, KL divergence 0.3407, 50 iterations in 0.0470 sec\n",
      "Iteration  250, KL divergence 0.3388, 50 iterations in 0.0477 sec\n",
      "Iteration  300, KL divergence 0.3391, 50 iterations in 0.0479 sec\n",
      "Iteration  350, KL divergence 0.3390, 50 iterations in 0.0483 sec\n",
      "Iteration  400, KL divergence 0.3390, 50 iterations in 0.0480 sec\n",
      "Iteration  450, KL divergence 0.3389, 50 iterations in 0.0482 sec\n",
      "Iteration  500, KL divergence 0.3391, 50 iterations in 0.0481 sec\n",
      "   --> Time elapsed: 0.49 seconds\n"
     ]
    },
    {
     "data": {
      "text/plain": [
       "(114, 2)"
      ]
     },
     "metadata": {},
     "output_type": "display_data"
    },
    {
     "data": {
      "text/html": [
       "<div>\n",
       "<style scoped>\n",
       "    .dataframe tbody tr th:only-of-type {\n",
       "        vertical-align: middle;\n",
       "    }\n",
       "\n",
       "    .dataframe tbody tr th {\n",
       "        vertical-align: top;\n",
       "    }\n",
       "\n",
       "    .dataframe thead th {\n",
       "        text-align: right;\n",
       "    }\n",
       "</style>\n",
       "<table border=\"1\" class=\"dataframe\">\n",
       "  <thead>\n",
       "    <tr style=\"text-align: right;\">\n",
       "      <th></th>\n",
       "      <th>codeUnit</th>\n",
       "      <th>artifact</th>\n",
       "      <th>communityId</th>\n",
       "      <th>centrality</th>\n",
       "      <th>x</th>\n",
       "      <th>y</th>\n",
       "    </tr>\n",
       "  </thead>\n",
       "  <tbody>\n",
       "    <tr>\n",
       "      <th>0</th>\n",
       "      <td>org.axonframework.axonserver.connector</td>\n",
       "      <td>axon-server-connector-4.10.2</td>\n",
       "      <td>0</td>\n",
       "      <td>0.090491</td>\n",
       "      <td>3.943544</td>\n",
       "      <td>-0.355015</td>\n",
       "    </tr>\n",
       "    <tr>\n",
       "      <th>1</th>\n",
       "      <td>org.axonframework.axonserver.connector.util</td>\n",
       "      <td>axon-server-connector-4.10.2</td>\n",
       "      <td>0</td>\n",
       "      <td>0.023323</td>\n",
       "      <td>5.202746</td>\n",
       "      <td>0.621881</td>\n",
       "    </tr>\n",
       "    <tr>\n",
       "      <th>2</th>\n",
       "      <td>org.axonframework.axonserver.connector.heartbeat</td>\n",
       "      <td>axon-server-connector-4.10.2</td>\n",
       "      <td>0</td>\n",
       "      <td>0.014287</td>\n",
       "      <td>4.957073</td>\n",
       "      <td>-0.231972</td>\n",
       "    </tr>\n",
       "    <tr>\n",
       "      <th>3</th>\n",
       "      <td>org.axonframework.axonserver.connector.heartbe...</td>\n",
       "      <td>axon-server-connector-4.10.2</td>\n",
       "      <td>0</td>\n",
       "      <td>0.012211</td>\n",
       "      <td>1.318220</td>\n",
       "      <td>1.075018</td>\n",
       "    </tr>\n",
       "    <tr>\n",
       "      <th>4</th>\n",
       "      <td>org.axonframework.axonserver.connector.heartbe...</td>\n",
       "      <td>axon-server-connector-4.10.2</td>\n",
       "      <td>0</td>\n",
       "      <td>0.012211</td>\n",
       "      <td>4.510205</td>\n",
       "      <td>0.056445</td>\n",
       "    </tr>\n",
       "  </tbody>\n",
       "</table>\n",
       "</div>"
      ],
      "text/plain": [
       "                                            codeUnit  \\\n",
       "0             org.axonframework.axonserver.connector   \n",
       "1        org.axonframework.axonserver.connector.util   \n",
       "2   org.axonframework.axonserver.connector.heartbeat   \n",
       "3  org.axonframework.axonserver.connector.heartbe...   \n",
       "4  org.axonframework.axonserver.connector.heartbe...   \n",
       "\n",
       "                       artifact  communityId  centrality         x         y  \n",
       "0  axon-server-connector-4.10.2            0    0.090491  3.943544 -0.355015  \n",
       "1  axon-server-connector-4.10.2            0    0.023323  5.202746  0.621881  \n",
       "2  axon-server-connector-4.10.2            0    0.014287  4.957073 -0.231972  \n",
       "3  axon-server-connector-4.10.2            0    0.012211  1.318220  1.075018  \n",
       "4  axon-server-connector-4.10.2            0    0.012211  4.510205  0.056445  "
      ]
     },
     "metadata": {},
     "output_type": "display_data"
    },
    {
     "data": {
      "image/png": "[encoded data removed]",
      "text/plain": [
       "<Figure size 640x480 with 1 Axes>"
      ]
     },
     "metadata": {},
     "output_type": "display_data"
    }
   ],
   "source": [
    "java_package_embeddings_parameters={\n",
    "    \"dependencies_projection\": \"java-package-embeddings-notebook\",\n",
    "    \"dependencies_projection_node\": \"Package\",\n",
    "    \"dependencies_projection_weight_property\": \"weight25PercentInterfaces\",\n",
    "    \"dependencies_projection_write_property\": \"embeddingsNode2Vec\",\n",
    "    \"dependencies_projection_embedding_dimension\":\"32\"\n",
    "}\n",
    "embeddings = create_node_embeddings(\"../cypher/Node_Embeddings/Node_Embeddings_3d_Node2Vec_Stream.cypher\", java_package_embeddings_parameters)\n",
    "node_embeddings_for_visualization = prepare_node_embeddings_for_2d_visualization(embeddings)\n",
    "plot_2d_node_embeddings(\n",
    "    node_embeddings_for_visualization, \n",
    "    \"Java Package positioned by their dependency relationships (node2vec node embeddings + t-SNE)\"\n",
    ")"
   ]
  }
 ],
 "metadata": {
  "authors": [
   {
    "name": "JohT"
   }
  ],
  "code_graph_analysis_pipeline_data_validation": "ValidateJavaPackageDependencies",
  "kernelspec": {
   "display_name": "Python 3 (ipykernel)",
   "language": "python",
   "name": "python3"
  },
  "language_info": {
   "codemirror_mode": {
    "name": "ipython",
    "version": 3
   },
   "file_extension": ".py",
   "mimetype": "text/x-python",
   "name": "python",
   "nbconvert_exporter": "python",
   "pygments_lexer": "ipython3",
   "version": "3.11.0"
  },
  "title": "Object Oriented Design Quality Metrics for Java with Neo4j"
 },
 "nbformat": 4,
 "nbformat_minor": 5
}
