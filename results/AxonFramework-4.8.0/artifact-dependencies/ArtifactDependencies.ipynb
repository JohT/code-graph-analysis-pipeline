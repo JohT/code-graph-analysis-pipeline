{
 "cells": [
  {
   "cell_type": "markdown",
   "id": "2f0eabc4",
   "metadata": {},
   "source": [
    "## Artifact Dependencies\n",
    "\n",
    "### References\n",
    "\n",
    "- [neovis.js (GitHub)](https://github.com/neo4j-contrib/neovis.js)\n",
    "- [vis-network (GitHub)](https://github.com/visjs/vis-network)\n",
    "- [vis network documentation](https://visjs.github.io/vis-network/docs/network)\n",
    "- [Neo4j Graph Algorithms Jupyter Notebooks (GitHub)](https://github.com/neo4j-graph-analytics/graph-algorithms-notebooks)\n"
   ]
  },
  {
   "cell_type": "code",
   "execution_count": 1,
   "id": "8678cc2d",
   "metadata": {
    "execution": {
     "iopub.execute_input": "2023-08-18T10:18:14.776214Z",
     "iopub.status.busy": "2023-08-18T10:18:14.775776Z",
     "iopub.status.idle": "2023-08-18T10:18:15.343128Z",
     "shell.execute_reply": "2023-08-18T10:18:15.342572Z"
    }
   },
   "outputs": [],
   "source": [
    "import os\n",
    "from neo4j import GraphDatabase\n",
    "from IPython.core.display import Javascript\n",
    "import json"
   ]
  },
  {
   "cell_type": "code",
   "execution_count": 2,
   "id": "437937a1",
   "metadata": {
    "execution": {
     "iopub.execute_input": "2023-08-18T10:18:15.346605Z",
     "iopub.status.busy": "2023-08-18T10:18:15.346069Z",
     "iopub.status.idle": "2023-08-18T10:18:15.363459Z",
     "shell.execute_reply": "2023-08-18T10:18:15.362946Z"
    }
   },
   "outputs": [],
   "source": [
    "# Please set the environment variable \"NEO4J_INITIAL_PASSWORD\" in your shell \n",
    "# before starting jupyter notebook to provide the password for the user \"neo4j\". \n",
    "# It is not recommended to hardcode the password into jupyter notebook for security reasons.\n",
    "\n",
    "neo4jUri = \"bolt://localhost:7687\"\n",
    "neo4jUser = \"neo4j\"\n",
    "neo4jPassword = os.environ.get(\"NEO4J_INITIAL_PASSWORD\")\n",
    "\n",
    "# Create the database driver to validate the connection\n",
    "with GraphDatabase.driver(uri=neo4jUri, auth=(neo4jUser, neo4jPassword)) as driver:\n",
    "    driver.verify_connectivity()"
   ]
  },
  {
   "cell_type": "code",
   "execution_count": 3,
   "id": "7f8435ee",
   "metadata": {
    "execution": {
     "iopub.execute_input": "2023-08-18T10:18:15.366337Z",
     "iopub.status.busy": "2023-08-18T10:18:15.366143Z",
     "iopub.status.idle": "2023-08-18T10:18:15.369019Z",
     "shell.execute_reply": "2023-08-18T10:18:15.368511Z"
    }
   },
   "outputs": [],
   "source": [
    "def neo4j_server_configuration(password, uri=\"bolt://localhost:7687\", user=\"neo4j\"):\n",
    "    return {\n",
    "        \"neo4j\": {\n",
    "            \"serverUrl\": uri,\n",
    "            \"serverUser\": user,\n",
    "            \"serverPassword\": password\n",
    "        }\n",
    "    }"
   ]
  },
  {
   "cell_type": "code",
   "execution_count": 4,
   "id": "3dd385c7",
   "metadata": {
    "execution": {
     "iopub.execute_input": "2023-08-18T10:18:15.371266Z",
     "iopub.status.busy": "2023-08-18T10:18:15.371083Z",
     "iopub.status.idle": "2023-08-18T10:18:15.375198Z",
     "shell.execute_reply": "2023-08-18T10:18:15.374688Z"
    }
   },
   "outputs": [],
   "source": [
    "def visualization_configuration():\n",
    "    return {\n",
    "        \"visConfig\": {\n",
    "            \"nodes\": {\n",
    "                \"shape\": \"hexagon\",\n",
    "                \"font\": {\n",
    "                    \"strokeWidth\": 30,\n",
    "                    \"strokeColor\": \"#F0F0FF\"\n",
    "                },\n",
    "                \"size\": 50,\n",
    "                \"borderWidth\": 2\n",
    "            },\n",
    "            \"edges\": {\n",
    "                \"arrows\": {\n",
    "                    \"to\": { \"enabled\": True }\n",
    "                },\n",
    "                \"scaling\": {\n",
    "                    \"max\": 15\n",
    "                }\n",
    "            },\n",
    "            \"physics\": {\n",
    "                \"hierarchicalRepulsion\": {\n",
    "                    \"nodeDistance\": 300, # 100\n",
    "                    \"centralGravity\": 0.5, # 0.2\n",
    "                    \"springLength\": 180, # 200\n",
    "                    \"springConstant\": 0.06, # 0.05\n",
    "                    \"damping\": 0.09, # 0.09\n",
    "                    \"avoidOverlap\": 0.1 # 0\n",
    "                },\n",
    "                \"solver\": \"hierarchicalRepulsion\" # barnesHut\n",
    "            },\n",
    "            \"layout\": {\n",
    "                \"hierarchical\": {\n",
    "                    \"enabled\": True,\n",
    "                    \"sortMethod\": \"directed\"\n",
    "                }\n",
    "            }\n",
    "        }\n",
    "    }"
   ]
  },
  {
   "cell_type": "code",
   "execution_count": 5,
   "id": "923e8a0a",
   "metadata": {
    "execution": {
     "iopub.execute_input": "2023-08-18T10:18:15.377485Z",
     "iopub.status.busy": "2023-08-18T10:18:15.377305Z",
     "iopub.status.idle": "2023-08-18T10:18:15.380321Z",
     "shell.execute_reply": "2023-08-18T10:18:15.379667Z"
    }
   },
   "outputs": [],
   "source": [
    "def graph_query_configuration():\n",
    "    return {\n",
    "        \"initialCypher\": \"MATCH (s:Artifact)-[r:DEPENDS_ON]->(d:Artifact) RETURN s,r,d\",\n",
    "        \"labels\": {\n",
    "            \"Artifact\": {\n",
    "                \"label\": \"fileName\"\n",
    "            }\n",
    "        },\n",
    "        \"relationships\": {\n",
    "            \"DEPENDS_ON\": {\n",
    "                \"value\": \"weight\",\n",
    "                \"label\": False\n",
    "            }\n",
    "        }\n",
    "    }"
   ]
  },
  {
   "cell_type": "code",
   "execution_count": 6,
   "id": "48cd3f44",
   "metadata": {
    "execution": {
     "iopub.execute_input": "2023-08-18T10:18:15.382516Z",
     "iopub.status.busy": "2023-08-18T10:18:15.382331Z",
     "iopub.status.idle": "2023-08-18T10:18:15.390454Z",
     "shell.execute_reply": "2023-08-18T10:18:15.389944Z"
    }
   },
   "outputs": [
    {
     "data": {
      "application/javascript": [
       "window.graphVisualizationConfiguration={\"containerId\": \"graph-visualization\", \"visConfig\": {\"nodes\": {\"shape\": \"hexagon\", \"font\": {\"strokeWidth\": 30, \"strokeColor\": \"#F0F0FF\"}, \"size\": 50, \"borderWidth\": 2}, \"edges\": {\"arrows\": {\"to\": {\"enabled\": true}}, \"scaling\": {\"max\": 15}}, \"physics\": {\"hierarchicalRepulsion\": {\"nodeDistance\": 300, \"centralGravity\": 0.5, \"springLength\": 180, \"springConstant\": 0.06, \"damping\": 0.09, \"avoidOverlap\": 0.1}, \"solver\": \"hierarchicalRepulsion\"}, \"layout\": {\"hierarchical\": {\"enabled\": true, \"sortMethod\": \"directed\"}}}, \"neo4j\": {\"serverUrl\": \"bolt://localhost:7687\", \"serverUser\": \"neo4j\", \"serverPassword\": \"j92UxWht08Vdt3YOMpI=\"}, \"initialCypher\": \"MATCH (s:Artifact)-[r:DEPENDS_ON]->(d:Artifact) RETURN s,r,d\", \"labels\": {\"Artifact\": {\"label\": \"fileName\"}}, \"relationships\": {\"DEPENDS_ON\": {\"value\": \"weight\", \"label\": false}}};"
      ],
      "text/plain": [
       "<IPython.core.display.Javascript object>"
      ]
     },
     "execution_count": 6,
     "metadata": {},
     "output_type": "execute_result"
    }
   ],
   "source": [
    "htmlElement = {\"containerId\": \"graph-visualization\"}\n",
    "serverConfiguration = neo4j_server_configuration(uri=neo4jUri, user=neo4jUser,password=neo4jPassword)\n",
    "\n",
    "# Assemble the neovis.js configuration by joining the different parts of it\n",
    "graphVisualizationConfiguration = {**htmlElement, **visualization_configuration(), **serverConfiguration, **graph_query_configuration()}\n",
    "\n",
    "# Create a javascript variable containing the whole configuration in JSON format\n",
    "Javascript(\"\"\"window.graphVisualizationConfiguration={};\"\"\".format(json.dumps(graphVisualizationConfiguration)))"
   ]
  },
  {
   "cell_type": "markdown",
   "id": "3328314d",
   "metadata": {},
   "source": [
    "## Hierarchical Artifact Dependencies\n",
    "\n",
    "The following hierarchical graph shows artifact dependencies with the most used basis/shared artifact at the bottom and the artifact the builds upon all other dependencies on top. "
   ]
  },
  {
   "cell_type": "code",
   "execution_count": 7,
   "id": "55aa9696",
   "metadata": {
    "execution": {
     "iopub.execute_input": "2023-08-18T10:18:15.393674Z",
     "iopub.status.busy": "2023-08-18T10:18:15.393493Z",
     "iopub.status.idle": "2023-08-18T10:18:15.397401Z",
     "shell.execute_reply": "2023-08-18T10:18:15.396936Z"
    },
    "scrolled": true
   },
   "outputs": [
    {
     "data": {
      "text/html": [
       "<style type=\"text/css\">\n",
       "    #graph-visualization {\n",
       "        width: 650px;\n",
       "        height: 850px;\n",
       "        border: 1px solid lightgray;\n",
       "    }\n",
       "</style>\n",
       "<div id=\"graph-visualization\"></div>\n"
      ],
      "text/plain": [
       "<IPython.core.display.HTML object>"
      ]
     },
     "metadata": {},
     "output_type": "display_data"
    }
   ],
   "source": [
    "%%html\n",
    "<style type=\"text/css\">\n",
    "    #graph-visualization {\n",
    "        width: 650px;\n",
    "        height: 850px;\n",
    "        border: 1px solid lightgray;\n",
    "    }\n",
    "</style>\n",
    "<div id=\"graph-visualization\"></div>"
   ]
  },
  {
   "cell_type": "code",
   "execution_count": 8,
   "id": "39a03a60",
   "metadata": {
    "execution": {
     "iopub.execute_input": "2023-08-18T10:18:15.399911Z",
     "iopub.status.busy": "2023-08-18T10:18:15.399739Z",
     "iopub.status.idle": "2023-08-18T10:18:15.402146Z",
     "shell.execute_reply": "2023-08-18T10:18:15.401637Z"
    }
   },
   "outputs": [],
   "source": [
    "# Use the JavaScript library [neovis.js](https://github.com/neo4j-contrib/neovis.js) to render the graph into the HTML above with the following javascript block."
   ]
  },
  {
   "cell_type": "code",
   "execution_count": 9,
   "id": "55a96744",
   "metadata": {
    "execution": {
     "iopub.execute_input": "2023-08-18T10:18:15.404402Z",
     "iopub.status.busy": "2023-08-18T10:18:15.404235Z",
     "iopub.status.idle": "2023-08-18T10:18:15.407913Z",
     "shell.execute_reply": "2023-08-18T10:18:15.407436Z"
    }
   },
   "outputs": [
    {
     "data": {
      "application/javascript": [
       "// Use JavaScript library neovis.js to render the graph into the HTML above\n",
       "//requirejs(['./../lib/neovis/neovis.js'], function(NeoVis){    \n",
       "requirejs(['https://unpkg.com/neovis.js@2.0.2'], function(NeoVis){  \n",
       "    const configuration = window.graphVisualizationConfiguration;\n",
       "    configuration.labels.Artifact = {\n",
       "        [NeoVis.NEOVIS_ADVANCED_CONFIG]: {\n",
       "          function: {\n",
       "            // Print all properties for the title (when nodes are clicked)\n",
       "            title: NeoVis.objectToTitleHtml,\n",
       "            // Use \"fileName\" as label. Remove leading slash, trailing \".jar\" and version number.\n",
       "            label: (node) => node.properties.fileName.replace('/', '').replace('.jar', '').replace(/-[\\d\\\\.]+/, '')\n",
       "          },\n",
       "        }\n",
       "    }\n",
       "    \n",
       "    const viz = new NeoVis.default(configuration);\n",
       "    viz.render();\n",
       "  }, function (err) {\n",
       "      throw new Error(\"Failed to load NeoVis:\" + err);\n",
       "  }\n",
       ");\n"
      ],
      "text/plain": [
       "<IPython.core.display.Javascript object>"
      ]
     },
     "metadata": {},
     "output_type": "display_data"
    }
   ],
   "source": [
    "%%javascript\n",
    "// Use JavaScript library neovis.js to render the graph into the HTML above\n",
    "//requirejs(['./../lib/neovis/neovis.js'], function(NeoVis){    \n",
    "requirejs(['https://unpkg.com/neovis.js@2.0.2'], function(NeoVis){  \n",
    "    const configuration = window.graphVisualizationConfiguration;\n",
    "    configuration.labels.Artifact = {\n",
    "        [NeoVis.NEOVIS_ADVANCED_CONFIG]: {\n",
    "          function: {\n",
    "            // Print all properties for the title (when nodes are clicked)\n",
    "            title: NeoVis.objectToTitleHtml,\n",
    "            // Use \"fileName\" as label. Remove leading slash, trailing \".jar\" and version number.\n",
    "            label: (node) => node.properties.fileName.replace('/', '').replace('.jar', '').replace(/-[\\d\\\\.]+/, '')\n",
    "          },\n",
    "        }\n",
    "    }\n",
    "    \n",
    "    const viz = new NeoVis.default(configuration);\n",
    "    viz.render();\n",
    "  }, function (err) {\n",
    "      throw new Error(\"Failed to load NeoVis:\" + err);\n",
    "  }\n",
    ");"
   ]
  },
  {
   "cell_type": "code",
   "execution_count": 10,
   "id": "35a24daa",
   "metadata": {
    "execution": {
     "iopub.execute_input": "2023-08-18T10:18:15.410303Z",
     "iopub.status.busy": "2023-08-18T10:18:15.410127Z",
     "iopub.status.idle": "2023-08-18T10:18:21.412857Z",
     "shell.execute_reply": "2023-08-18T10:18:21.412302Z"
    }
   },
   "outputs": [],
   "source": [
    "import time\n",
    "time.sleep(6)"
   ]
  }
 ],
 "metadata": {
  "authors": [
   {
    "name": "JohT"
   }
  ],
  "kernelspec": {
   "display_name": "Python 3 (ipykernel)",
   "language": "python",
   "name": "python3"
  },
  "language_info": {
   "codemirror_mode": {
    "name": "ipython",
    "version": 3
   },
   "file_extension": ".py",
   "mimetype": "text/x-python",
   "name": "python",
   "nbconvert_exporter": "python",
   "pygments_lexer": "ipython3",
   "version": "3.11.0"
  },
  "title": "Neo4j Java Code-Structure Graph"
 },
 "nbformat": 4,
 "nbformat_minor": 5
}
