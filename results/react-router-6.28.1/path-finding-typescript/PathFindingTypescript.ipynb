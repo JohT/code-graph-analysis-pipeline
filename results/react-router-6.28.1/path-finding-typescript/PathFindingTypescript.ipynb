{
 "cells": [
  {
   "attachments": {},
   "cell_type": "markdown",
   "id": "2f0eabc4",
   "metadata": {},
   "source": [
    "# Path Finding for Typescript\n",
    "\n",
    "This notebook demonstrates different ways on how path finding algorithms can be utilized for code analysis. \n",
    "\n",
    "Path algorithms in Graphs are famous for e.g. finding the fastest way from one place to another. How can these be applied to static code analysis and how can the results be interpreted?\n",
    "\n",
    "One promising algorithm is [All Pairs Shortest Path](https://neo4j.com/docs/graph-data-science/current/algorithms/all-pairs-shortest-path). It shows dependencies from a different perspective and provides an overview on how directly or indirectly dependencies are connected to each other. The longest shortest path has an additional meaning: It is also known as the [**Graph Diameter**](https://mathworld.wolfram.com/GraphDiameter.html) and is very useful as a metric for the complexity of the Graph (or Subgraphs). The longest path (for directed acyclic graphs) can uncover the longest existing (worst case) dependency chains as long as there are no cycles in the Graph.\n",
    "\n",
    "<br>\n",
    "\n",
    "### References\n",
    "- [jqassistant](https://jqassistant.org)\n",
    "- [Neo4j Python Driver](https://neo4j.com/docs/api/python-driver/current)\n",
    "- [All Pairs Shortest Path](https://neo4j.com/docs/graph-data-science/current/algorithms/all-pairs-shortest-path)\n",
    "- [Longest Path for DAG (neo4j)](https://neo4j.com/docs/graph-data-science/current/algorithms/dag/longest-path)\n",
    "- [Graph Diameter](https://mathworld.wolfram.com/GraphDiameter.html)"
   ]
  },
  {
   "cell_type": "markdown",
   "id": "ec6baa64",
   "metadata": {},
   "source": [
    "## What GPT-4 has to say about it\n",
    "\n",
    "### All pairs shortest path\n",
    "\n",
    "Interpreting the results of the \"all pairs shortest path\" algorithm on a graph of statically analyzed code modules and their dependencies involves understanding the structure and implications of the paths between nodes (modules) in the graph. Here are some specific steps and insights to consider:\n",
    "\n",
    "1. **Graph Structure**: Each node represents a code module, and edges indicate dependencies. A directed edge from module A to module B implies that A depends on B.\n",
    "\n",
    "2. **Shortest Paths**: The results will give you the shortest path lengths between all pairs of modules. This helps identify:\n",
    "  - **Direct Dependencies**: A length of 1 indicates a direct dependency.\n",
    "  - **Transitive Dependencies**: A length greater than 1 shows indirect dependencies. For example, if the path from A to C is 2, it could mean A → B → C, indicating A indirectly depends on C via B.\n",
    "\n",
    "3. **Module Isolation**: If a module has very long paths to others, it might be more isolated. This could signal potential issues in the code structure, suggesting that module might be overly complex or decoupled from the rest of the system.\n",
    "\n",
    "4. **Critical Paths**: Identify the shortest paths that connect key modules (e.g., core functionalities). These paths can highlight the most crucial dependencies that, if modified, might have extensive impacts on the system.\n",
    "\n",
    "5. **Cycle Detection**: If any pairs have paths that loop back to themselves with a length not equal to 0, it indicates a cycle. Cycles can complicate dependency management, potentially leading to recursive dependencies, which can be problematic in terms of maintainability.\n",
    "\n",
    "6. **Refactoring Opportunities**: By examining the lengths of paths, you might identify modules that could benefit from refactoring to decrease dependency complexity. For example, a module that has dependencies on many others (with longer path lengths) might be a candidate for breaking into smaller, more manageable components.\n",
    "\n",
    "7. **Performance Considerations**: In large systems, long paths could impact performance. If certain modules are far from frequently accessed modules, consider whether they can be optimized for speed.\n",
    "\n",
    "8. **Visual Representation**: Creating a visual representation of the graph with the shortest paths highlighted can be immensely helpful. Tools like Graphviz or D3.js can illustrate these relationships clearly, aiding in your analysis.\n",
    "\n",
    "By focusing on these aspects, you can glean actionable insights from the results of the all pairs shortest path algorithm in the context of your statically analyzed code modules and their dependencies.\n",
    "\n",
    "### Graph diameter (shortest longest path)\n",
    "\n",
    "The longest shortest path in a dependency graph (often referred to in graph theory as the \"diameter\" of the graph) represents the maximum distance (in terms of the number of edges or dependencies) between any two nodes (modules) in the graph. Here’s how you can interpret this metric in the context of statically analyzed code modules and their dependencies:\n",
    "\n",
    "1. **Network Complexity**: The longest shortest path indicates the overall complexity of the network of dependencies. A longer path suggests a more complicated interrelationship among modules. For example, a longest shortest path of 6 could indicate that there is at least one pair of modules in your system that rely on a chain of 6 other modules to communicate or function together.\n",
    "\n",
    "2. **Potential Bottlenecks**: If the longest shortest path is significant, it may suggest potential bottlenecks in your architecture. For instance, if a core module at the beginning of a long path is slow or error-prone, it could affect numerous other modules dependent on it, resulting in systemic performance issues.\n",
    "\n",
    "3. **Critical Communication Points**: The endpoints of the longest shortest path can be seen as critical communication points within your codebase. Understanding these connections can help identify which modules should be prioritized for testing and monitoring, especially during changes.\n",
    "\n",
    "4. **Isolation and Coupling**: A long longest shortest path might indicate that some modules are isolated and far removed from others, which can suggest low cohesion. This can be a sign that the architecture might benefit from refactoring to reduce unnecessary dependencies or to improve modularity.\n",
    "\n",
    "5. **Refactoring Opportunities**: If the longest shortest path is disproportionately long, it may highlight areas in the codebase where modules are too tightly coupled. This situation presents an opportunity for refactoring to create more independent modules or components that can interact with fewer dependencies.\n",
    "\n",
    "6. **Impact of Changes**: Modules that lie along or are endpoints of the longest shortest paths are likely to have a significant impact on the overall system. Changes to them should be approached with caution and accompanied by rigorous testing.\n",
    "\n",
    "7. **Cycle Detection**: In some cases, a long shortest path can indicate the presence of cycles in the graph. If there are paths that seem to loop back on themselves, it suggests potential design flaws that could lead to recursion or infinite loops, complicating maintenance.\n",
    "\n",
    "8. **Architectural Decisions**: The longest shortest path can inform architectural decisions by providing insights into which dependencies might need to be revised or eliminated. For instance, if certain modules are consistently part of the longest path, it could justify investing resources in redesigning their interactions.\n",
    "\n",
    "In summary, interpreting the longest shortest path provides a comprehensive view of the interdependencies among modules in your system, focusing on complexity, potential bottlenecks, and opportunities for improvement in architecture and design.\n",
    "\n",
    "### Longest path\n",
    "\n",
    "1. **Complex Dependencies**: Longest paths indicate modules that have extensive dependencies before reaching another module. For instance, if you find a path like A → B → C → D with a length of 4, it highlights a complex chain of dependencies. This can suggest that changes in module A might have far-reaching implications across the system.\n",
    "\n",
    "2. **Potential Bottlenecks**: Modules located at the beginning of long paths could be performance bottlenecks. If a frequently used module is several layers deep in dependencies (e.g., A → B → C), it may slow down the entire system. Optimizing or refactoring these modules could improve performance.\n",
    "\n",
    "3. **Maintenance Challenges**: Long paths may indicate parts of the code that are difficult to maintain or understand. For example, if module A requires multiple intermediary modules (B, C, D) for its functionality, developers may struggle to trace how changes propagate, leading to potential bugs.\n",
    "\n",
    "4. **Risk of Change**: A module with a long dependency path can be more risky to modify. If A has dependencies on several modules down the line (e.g., A → B → C → D → E), any changes to A could inadvertently affect E, which might be critical or sensitive. This insight can help prioritize testing and reviews around such modules.\n",
    "\n",
    "5. **Decoupling Opportunities**: Identifying the longest paths can highlight areas where you might want to break up dependencies. If there’s a long chain that could be simplified (e.g., by creating intermediary modules or interfaces), it may lead to a more modular and maintainable architecture.\n",
    "\n",
    "6. **Redundancy**: Long paths may also reveal redundancy in dependencies. For instance, if multiple modules depend on a series of others (A → B → C → D and A → B → E), it could indicate unnecessary coupling that can be streamlined.\n",
    "\n",
    "7. **System Understanding**: Long paths can help map out the architecture of your codebase. Understanding which modules are pivotal in long chains can provide insights into the overall design and help inform architectural decisions.\n",
    "\n",
    "8. **Documentation & Knowledge Transfer**: If certain modules consistently appear in the longest paths, they may require better documentation. Ensuring that their roles and the reasons for their lengthy dependencies are well understood can facilitate knowledge transfer among team members.\n",
    "\n",
    "By focusing on the longest paths in your dependency graph, you can uncover areas requiring attention for optimization, maintenance, and improved system architecture."
   ]
  },
  {
   "cell_type": "code",
   "execution_count": 1,
   "id": "d19447e1",
   "metadata": {
    "execution": {
     "iopub.execute_input": "2025-01-19T19:32:07.251825Z",
     "iopub.status.busy": "2025-01-19T19:32:07.251424Z",
     "iopub.status.idle": "2025-01-19T19:32:07.742693Z",
     "shell.execute_reply": "2025-01-19T19:32:07.742196Z"
    }
   },
   "outputs": [],
   "source": [
    "import os\n",
    "from IPython.display import display\n",
    "import pandas as pd\n",
    "import matplotlib.pyplot as plot\n",
    "import typing as typ\n",
    "import numpy as np\n",
    "from neo4j import GraphDatabase"
   ]
  },
  {
   "cell_type": "code",
   "execution_count": 2,
   "id": "807bba03",
   "metadata": {
    "execution": {
     "iopub.execute_input": "2025-01-19T19:32:07.745277Z",
     "iopub.status.busy": "2025-01-19T19:32:07.744983Z",
     "iopub.status.idle": "2025-01-19T19:32:07.747555Z",
     "shell.execute_reply": "2025-01-19T19:32:07.747154Z"
    }
   },
   "outputs": [],
   "source": [
    "#The following cell uses the build-in %html \"magic\" to override the CSS style for tables to a much smaller size.\n",
    "#This is especially needed for PDF export of tables with multiple columns."
   ]
  },
  {
   "cell_type": "code",
   "execution_count": 3,
   "id": "eb92ef74",
   "metadata": {
    "execution": {
     "iopub.execute_input": "2025-01-19T19:32:07.749580Z",
     "iopub.status.busy": "2025-01-19T19:32:07.749290Z",
     "iopub.status.idle": "2025-01-19T19:32:07.755914Z",
     "shell.execute_reply": "2025-01-19T19:32:07.755551Z"
    }
   },
   "outputs": [
    {
     "data": {
      "text/html": [
       "<style>\n",
       "/* CSS style for smaller dataframe tables. */\n",
       ".dataframe th {\n",
       "    font-size: 8px;\n",
       "}\n",
       ".dataframe td {\n",
       "    font-size: 8px;\n",
       "}\n",
       "</style>\n"
      ],
      "text/plain": [
       "<IPython.core.display.HTML object>"
      ]
     },
     "metadata": {},
     "output_type": "display_data"
    }
   ],
   "source": [
    "%%html\n",
    "<style>\n",
    "/* CSS style for smaller dataframe tables. */\n",
    ".dataframe th {\n",
    "    font-size: 8px;\n",
    "}\n",
    ".dataframe td {\n",
    "    font-size: 8px;\n",
    "}\n",
    "</style>"
   ]
  },
  {
   "cell_type": "code",
   "execution_count": 4,
   "id": "648e2a5a",
   "metadata": {
    "execution": {
     "iopub.execute_input": "2025-01-19T19:32:07.757956Z",
     "iopub.status.busy": "2025-01-19T19:32:07.757657Z",
     "iopub.status.idle": "2025-01-19T19:32:07.759922Z",
     "shell.execute_reply": "2025-01-19T19:32:07.759534Z"
    }
   },
   "outputs": [],
   "source": [
    "# Main Colormap\n",
    "main_color_map = 'nipy_spectral'"
   ]
  },
  {
   "cell_type": "code",
   "execution_count": 5,
   "id": "e49ca888",
   "metadata": {
    "execution": {
     "iopub.execute_input": "2025-01-19T19:32:07.761797Z",
     "iopub.status.busy": "2025-01-19T19:32:07.761497Z",
     "iopub.status.idle": "2025-01-19T19:32:07.763834Z",
     "shell.execute_reply": "2025-01-19T19:32:07.763443Z"
    }
   },
   "outputs": [],
   "source": [
    "# Pandas DataFrame Display Configuration\n",
    "pd.set_option('display.max_colwidth', 300)"
   ]
  },
  {
   "cell_type": "code",
   "execution_count": 6,
   "id": "1c5dab37",
   "metadata": {
    "execution": {
     "iopub.execute_input": "2025-01-19T19:32:07.765715Z",
     "iopub.status.busy": "2025-01-19T19:32:07.765414Z",
     "iopub.status.idle": "2025-01-19T19:32:07.772324Z",
     "shell.execute_reply": "2025-01-19T19:32:07.771943Z"
    }
   },
   "outputs": [],
   "source": [
    "# Please set the environment variable \"NEO4J_INITIAL_PASSWORD\" in your shell \n",
    "# before starting jupyter notebook to provide the password for the user \"neo4j\". \n",
    "# It is not recommended to hardcode the password into jupyter notebook for security reasons.\n",
    "\n",
    "driver = GraphDatabase.driver(uri=\"bolt://localhost:7687\", auth=(\"neo4j\", os.environ.get(\"NEO4J_INITIAL_PASSWORD\")))\n",
    "driver.verify_connectivity()"
   ]
  },
  {
   "cell_type": "code",
   "execution_count": 7,
   "id": "c1db254b",
   "metadata": {
    "execution": {
     "iopub.execute_input": "2025-01-19T19:32:07.774164Z",
     "iopub.status.busy": "2025-01-19T19:32:07.773864Z",
     "iopub.status.idle": "2025-01-19T19:32:07.776966Z",
     "shell.execute_reply": "2025-01-19T19:32:07.776616Z"
    }
   },
   "outputs": [],
   "source": [
    "def get_cypher_query_from_file(filename):\n",
    "    with open(filename) as file:\n",
    "        return ' '.join(file.readlines())"
   ]
  },
  {
   "cell_type": "code",
   "execution_count": 8,
   "id": "59310f6f",
   "metadata": {
    "execution": {
     "iopub.execute_input": "2025-01-19T19:32:07.778834Z",
     "iopub.status.busy": "2025-01-19T19:32:07.778697Z",
     "iopub.status.idle": "2025-01-19T19:32:07.781600Z",
     "shell.execute_reply": "2025-01-19T19:32:07.781168Z"
    }
   },
   "outputs": [],
   "source": [
    "def query_cypher_to_data_frame(filename, parameters_: typ.Optional[typ.Dict[str, typ.Any]] = None):\n",
    "    records, summary, keys = driver.execute_query(get_cypher_query_from_file(filename),parameters_=parameters_)\n",
    "    return pd.DataFrame([r.values() for r in records], columns=keys)"
   ]
  },
  {
   "cell_type": "code",
   "execution_count": 9,
   "id": "7d2e62d6",
   "metadata": {
    "execution": {
     "iopub.execute_input": "2025-01-19T19:32:07.783684Z",
     "iopub.status.busy": "2025-01-19T19:32:07.783359Z",
     "iopub.status.idle": "2025-01-19T19:32:07.787405Z",
     "shell.execute_reply": "2025-01-19T19:32:07.786949Z"
    }
   },
   "outputs": [],
   "source": [
    "def create_directed_unweighted_projection(parameters: dict) -> bool: \n",
    "    \"\"\"\n",
    "    Creates an directed homogenous unweighted in-memory Graph projection for/with Neo4j Graph Data Science Plugin.\n",
    "    It returns True if there is data available for the given parameter and False otherwise.\n",
    "    Parameters\n",
    "    ----------\n",
    "    dependencies_projection : str\n",
    "        The name prefix for the in-memory projection for dependencies. Example: \"typescript-module-path-finding-notebook\"\n",
    "    dependencies_projection_node : str\n",
    "        The label of the nodes that will be used for the projection. Example: \"Module\"\n",
    "    dependencies_projection_weight_property : str\n",
    "        The name of the node property that contains the dependency weight. Example: \"lowCouplingElement25PercentWeight\"\n",
    "    dependencies_projection_embedding_dimension : str\n",
    "        The number of the dimensions and therefore size of the resulting array of floating point numbers\n",
    "    \"\"\"\n",
    "    \n",
    "    is_data_missing=query_cypher_to_data_frame(\"../cypher/Dependencies_Projection/Dependencies_0_Check_Projectable.cypher\", parameters).empty\n",
    "    if is_data_missing: return False\n",
    "\n",
    "    query_cypher_to_data_frame(\"../cypher/Dependencies_Projection/Dependencies_1_Delete_Projection.cypher\", parameters)\n",
    "    query_cypher_to_data_frame(\"../cypher/Dependencies_Projection/Dependencies_2_Delete_Subgraph.cypher\", parameters)\n",
    "    # To exclude the direction of the relationships use the following line to create the projection:\n",
    "    # query_cypher_to_data_frame(\"../cypher/Dependencies_Projection/Dependencies_4_Create_Undirected_Projection.cypher\", parameters)\n",
    "    query_cypher_to_data_frame(\"../cypher/Dependencies_Projection/Dependencies_3_Create_Projection.cypher\", parameters)\n",
    "    query_cypher_to_data_frame(\"../cypher/Dependencies_Projection/Dependencies_5_Create_Subgraph.cypher\", parameters)\n",
    "    return True"
   ]
  },
  {
   "cell_type": "code",
   "execution_count": 10,
   "id": "3f2e905c",
   "metadata": {
    "execution": {
     "iopub.execute_input": "2025-01-19T19:32:07.789480Z",
     "iopub.status.busy": "2025-01-19T19:32:07.789137Z",
     "iopub.status.idle": "2025-01-19T19:32:07.792047Z",
     "shell.execute_reply": "2025-01-19T19:32:07.791567Z"
    }
   },
   "outputs": [],
   "source": [
    "def empty_projection_result() -> pd.DataFrame:\n",
    "    \"\"\"\n",
    "    Creates an empty result and is meant to be used in case there is no data for the projection.\n",
    "    \"\"\"\n",
    "    \n",
    "    print(\"No projected data for path finding available\")\n",
    "    return pd.DataFrame(columns=['totalCost', 'sourceProject', 'sourceScan', 'sourceRootProject', 'isDifferentTargetProject', 'isDifferentTargetScan', 'isDifferentTargetRootProject', 'distance', 'distanceTotalPairCount', 'distanceTotalSourceCount', 'distanceTotalTargetCount', 'nodeCount', 'pairCount'])"
   ]
  },
  {
   "cell_type": "code",
   "execution_count": 11,
   "id": "d2d60597",
   "metadata": {
    "execution": {
     "iopub.execute_input": "2025-01-19T19:32:07.794027Z",
     "iopub.status.busy": "2025-01-19T19:32:07.793747Z",
     "iopub.status.idle": "2025-01-19T19:32:07.796655Z",
     "shell.execute_reply": "2025-01-19T19:32:07.796210Z"
    }
   },
   "outputs": [],
   "source": [
    "def query_if_data_available(is_data_available: bool, cypher_file_name: str, parameters: dict) -> pd.DataFrame: \n",
    "    \"\"\"\n",
    "    Runs the cypher query in the file given as cypherFileName with the given parameters if the data is available,\n",
    "    or returns an empty result if the projection failed due to missing data.\n",
    "    \n",
    "    is_data_available\n",
    "    ----------\n",
    "    Pass the returned boolean from the projection creation here. Will return an empty result if false and otherwise execute the query.\n",
    "\n",
    "    cypher_file_name\n",
    "    ----------\n",
    "    Name of the file containing the Cypher query that executes node embeddings procedure.\n",
    "\n",
    "    parameters\n",
    "    ----------\n",
    "    dependencies_projection : str\n",
    "        The name prefix for the in-memory projection for dependencies. Example: \"typescript-module-path-finding-notebook\"\n",
    "    dependencies_projection_node : str\n",
    "        The label of the nodes that will be used for the projection. Example: \"Module\"\n",
    "    dependencies_projection_weight_property : str\n",
    "        The name of the node property that contains the dependency weight. Example: \"lowCouplingElement25PercentWeight\"\n",
    "    \"\"\"\n",
    "    \n",
    "    return query_cypher_to_data_frame(cypher_file_name, parameters) if is_data_available else empty_projection_result()"
   ]
  },
  {
   "cell_type": "code",
   "execution_count": 12,
   "id": "5ef848fd",
   "metadata": {
    "execution": {
     "iopub.execute_input": "2025-01-19T19:32:07.798452Z",
     "iopub.status.busy": "2025-01-19T19:32:07.798166Z",
     "iopub.status.idle": "2025-01-19T19:32:07.800870Z",
     "shell.execute_reply": "2025-01-19T19:32:07.800492Z"
    }
   },
   "outputs": [],
   "source": [
    "def get_total_distance_distribution(data_frame: pd.DataFrame) -> pd.DataFrame:\n",
    "    \"\"\"\n",
    "    Returns the DataFrame only containing the overall/total distances, their pair count and the count of the distinct source and target nodes\n",
    "    \n",
    "    data_frame\n",
    "    ----------\n",
    "    Contains the path algorithm result including the columns \"distance\", \"distanceTotalPairCount\", \"distanceTotalSourceCount\" and \"distanceTotalTargetCount\"\n",
    "    \"\"\"\n",
    "    \n",
    "    return data_frame[['distance', 'distanceTotalPairCount', 'distanceTotalSourceCount', 'distanceTotalTargetCount']].drop_duplicates().reset_index()"
   ]
  },
  {
   "cell_type": "code",
   "execution_count": 13,
   "id": "e84f2736",
   "metadata": {
    "execution": {
     "iopub.execute_input": "2025-01-19T19:32:07.802686Z",
     "iopub.status.busy": "2025-01-19T19:32:07.802402Z",
     "iopub.status.idle": "2025-01-19T19:32:07.805236Z",
     "shell.execute_reply": "2025-01-19T19:32:07.804855Z"
    }
   },
   "outputs": [],
   "source": [
    "def get_longest_path_for_column(column : str, data_frame: pd.DataFrame) -> pd.DataFrame:\n",
    "    \"\"\"\n",
    "    Returns the DataFrame grouped by the given column containing their max/longest distance.\n",
    "    \n",
    "    column\n",
    "    ----------\n",
    "    Name of the column to group by. Example: \"sourceProject\".\n",
    "    \n",
    "    data_frame\n",
    "    ----------\n",
    "    Contains the path algorithm result including the columns \"distance\" and the chosen column parameter.\n",
    "    \"\"\"\n",
    "    \n",
    "    return data_frame.groupby(column)['distance'].max().sort_values(ascending=False)"
   ]
  },
  {
   "cell_type": "code",
   "execution_count": 14,
   "id": "036264ca",
   "metadata": {
    "execution": {
     "iopub.execute_input": "2025-01-19T19:32:07.807219Z",
     "iopub.status.busy": "2025-01-19T19:32:07.806760Z",
     "iopub.status.idle": "2025-01-19T19:32:07.811008Z",
     "shell.execute_reply": "2025-01-19T19:32:07.810482Z"
    }
   },
   "outputs": [],
   "source": [
    "def get_distance_distribution_for_each(column : str, data_frame: pd.DataFrame) -> pd.DataFrame:\n",
    "    \"\"\"\n",
    "    Returns the transposed pivot of the DataFrame grouped by the given column.\n",
    "    \n",
    "    column\n",
    "    ----------\n",
    "    Name of the column to group by. Example: \"sourceProject\".\n",
    "    \n",
    "    data_frame\n",
    "    ----------\n",
    "    Contains the path algorithm result including the columns \"distance\", \"pairCount\" and the chosen column parameter.\n",
    "    \"\"\"\n",
    "\n",
    "    if data_frame.empty:\n",
    "        return empty_projection_result()\n",
    "    \n",
    "    data_frame = data_frame.copy()\n",
    "\n",
    "    # If not already grouped, group by the given column and the distance and sum up the pair count (=number of paths)\n",
    "    data_frame = data_frame.groupby([column, \"distance\"], as_index=False)[\"pairCount\"].apply(sum)\n",
    "\n",
    "    # The rows of the parameter \"column\" contain the source project (e.g. Java artifact or Typescript project) and their path count.\n",
    "    # The columns contain the distances (length of the paths).\n",
    "    data_frame = data_frame.pivot(index='distance', columns=column, values='pairCount')\n",
    "\n",
    "    # Sort by column sum and then take only the first 40 columns\n",
    "    sum_of_pair_count = data_frame.sum()\n",
    "    data_frame = data_frame[sum_of_pair_count.sort_values(ascending=False).index[:40]]\n",
    "\n",
    "    # Fill missing values with zeroes\n",
    "    data_frame = data_frame.fillna(0)\n",
    "\n",
    "    # Transpose the table (flip columns and rows) to have a row for every column (e.g. \"sourceProject\")\n",
    "    data_frame = data_frame.transpose()\n",
    "\n",
    "    return data_frame"
   ]
  },
  {
   "cell_type": "code",
   "execution_count": 15,
   "id": "de2e71ce",
   "metadata": {
    "execution": {
     "iopub.execute_input": "2025-01-19T19:32:07.812727Z",
     "iopub.status.busy": "2025-01-19T19:32:07.812574Z",
     "iopub.status.idle": "2025-01-19T19:32:07.815293Z",
     "shell.execute_reply": "2025-01-19T19:32:07.814863Z"
    }
   },
   "outputs": [],
   "source": [
    "def normalize_distance_distribution_for_each_row(data_frame: pd.DataFrame) -> pd.DataFrame:\n",
    "    \"\"\"\n",
    "    Returns the normalized data in percentage of the DataFrame for each row\n",
    "    \n",
    "    data_frame\n",
    "    ----------\n",
    "    Pivot dataframe with source projects in rows, distances in columns and pair count values\n",
    "    \"\"\"\n",
    "    return data_frame.div(data_frame.sum(axis=1), axis=0) * 100"
   ]
  },
  {
   "cell_type": "code",
   "execution_count": 16,
   "id": "27a583e9",
   "metadata": {
    "execution": {
     "iopub.execute_input": "2025-01-19T19:32:07.816973Z",
     "iopub.status.busy": "2025-01-19T19:32:07.816829Z",
     "iopub.status.idle": "2025-01-19T19:32:07.820096Z",
     "shell.execute_reply": "2025-01-19T19:32:07.819715Z"
    }
   },
   "outputs": [],
   "source": [
    "def plot_total_distances_bar_chart(data_frame: pd.DataFrame, title: str, ylabel: str):\n",
    "    \"\"\"\n",
    "    Plots the total number of pairs for each distance.\n",
    "    \n",
    "    data_frame\n",
    "    ----------\n",
    "    Contains the path algorithm result including the columns \"distance\" and \"distanceTotalPairCount\"\n",
    "\n",
    "    title\n",
    "    ----------\n",
    "    Title of the plot. Example: \"All pairs shortest path for Typescript module dependencies in total (bar)\"\n",
    "\n",
    "    ylabel\n",
    "    ----------\n",
    "    Y-axis label. Example: \"total number of Typescript module pairs\"\n",
    "    \"\"\"\n",
    "    \n",
    "    if data_frame.empty:\n",
    "        print(\"No data to plot '\" + title + \"'\")\n",
    "    else:\n",
    "        data_frame.plot(\n",
    "            title=title,\n",
    "            kind='bar', \n",
    "            grid=True,\n",
    "            x='distance',\n",
    "            y='distanceTotalPairCount',\n",
    "            xlabel='path length',\n",
    "            ylabel=ylabel,\n",
    "            figsize=(9,7),\n",
    "            legend=False,\n",
    "            fontsize=8,\n",
    "            cmap=main_color_map\n",
    "        )"
   ]
  },
  {
   "cell_type": "code",
   "execution_count": 17,
   "id": "e63ddc97",
   "metadata": {
    "execution": {
     "iopub.execute_input": "2025-01-19T19:32:07.821766Z",
     "iopub.status.busy": "2025-01-19T19:32:07.821621Z",
     "iopub.status.idle": "2025-01-19T19:32:07.825776Z",
     "shell.execute_reply": "2025-01-19T19:32:07.825398Z"
    }
   },
   "outputs": [],
   "source": [
    "def plot_total_distances_pie_chart(data_frame: pd.DataFrame, title: str, ylabel: str):\n",
    "    \"\"\"\n",
    "    Plots the total number of pairs for each distance.\n",
    "    \n",
    "    data_frame\n",
    "    ----------\n",
    "    Contains the path algorithm result including the columns \"distance\" and \"distanceTotalPairCount\"\n",
    "\n",
    "    title\n",
    "    ----------\n",
    "    Title of the plot. Example: \"All pairs shortest path for Typescript module dependencies in total (pie)\".\n",
    "\n",
    "    ylabel\n",
    "    ----------\n",
    "    Y-axis label. Example: \"Total number of Typescript module pairs\"\n",
    "    \"\"\"\n",
    "\n",
    "    if data_frame.empty:\n",
    "        print(\"No data to plot '\" + title + \"'\")\n",
    "    else:\n",
    "        explode_all=np.full(data_frame.shape[0], 0.01)\n",
    "        total_number_of_pairs=data_frame['distanceTotalPairCount'].sum()\n",
    "        def custom_auto_percentage_format(percentage):\n",
    "            return '{:1.2f}% ({:.0f})'.format(percentage, total_number_of_pairs*percentage/100)\n",
    "\n",
    "        plot.figure();\n",
    "        data_frame.plot(\n",
    "            title=title, \n",
    "            kind='pie', \n",
    "            labels=data_frame['distance'],\n",
    "            y='distanceTotalPairCount', \n",
    "            ylabel=ylabel,\n",
    "            legend=True,\n",
    "            labeldistance=None,\n",
    "            autopct=custom_auto_percentage_format,\n",
    "            explode=explode_all,\n",
    "            textprops={'fontsize': 8},\n",
    "            pctdistance=1.2,\n",
    "            figsize=(8,8),\n",
    "            cmap=main_color_map\n",
    "        )\n",
    "        plot.legend(bbox_to_anchor=(1.05, 1), loc='upper left', title='path length')\n",
    "        plot.show()"
   ]
  },
  {
   "cell_type": "code",
   "execution_count": 18,
   "id": "7243fbfd",
   "metadata": {
    "execution": {
     "iopub.execute_input": "2025-01-19T19:32:07.827415Z",
     "iopub.status.busy": "2025-01-19T19:32:07.827271Z",
     "iopub.status.idle": "2025-01-19T19:32:07.830711Z",
     "shell.execute_reply": "2025-01-19T19:32:07.830244Z"
    }
   },
   "outputs": [],
   "source": [
    "def plot_longest_distance_of_each_row(data_frame: pd.DataFrame, title: str, xlabel: str, ylabel: str):\n",
    "    \"\"\"\n",
    "    Plots the longest distance per source project \n",
    "    \n",
    "    data_frame\n",
    "    ----------\n",
    "    Contains the path algorithm result pivot table including the columns \"distance\"\n",
    "\n",
    "    title\n",
    "    ----------\n",
    "    Title of the plot. Example: 'Longest shortest path (\"diameter\") for Typescript module dependencies per project'\n",
    "\n",
    "    xlabel\n",
    "    ----------\n",
    "    X-axis label. Example: \"Project\".\n",
    "    \n",
    "    ylabel\n",
    "    ----------\n",
    "    Y-axis label. Example: \"Typescript module pairs\".    \n",
    "    \"\"\"\n",
    "\n",
    "    if data_frame.empty:\n",
    "        print(\"No data to plot '\" + title + \"'\")\n",
    "    else:\n",
    "        plot.figure();\n",
    "        axes = data_frame.transpose().plot(\n",
    "            title=title, \n",
    "            kind='bar', \n",
    "            grid=True,\n",
    "            xlabel=xlabel,\n",
    "            ylabel=ylabel,\n",
    "            figsize=(10,6),\n",
    "            legend=False,\n",
    "            cmap=main_color_map\n",
    "        )\n",
    "        plot.show()"
   ]
  },
  {
   "cell_type": "code",
   "execution_count": 19,
   "id": "5262a4ea",
   "metadata": {
    "execution": {
     "iopub.execute_input": "2025-01-19T19:32:07.832488Z",
     "iopub.status.busy": "2025-01-19T19:32:07.832342Z",
     "iopub.status.idle": "2025-01-19T19:32:07.835874Z",
     "shell.execute_reply": "2025-01-19T19:32:07.835479Z"
    }
   },
   "outputs": [],
   "source": [
    "def plot_stacked_distances_for_each_row(data_frame: pd.DataFrame, title: str, xlabel: str, ylabel: str, logy: bool = False):\n",
    "    \"\"\"\n",
    "    Plots each source project (e.g. Java artifact or Typescript project) stacked by distance (number of dependency pairs)\n",
    "    \n",
    "    data_frame\n",
    "    ----------\n",
    "    Contains the output of \"get_distance_distribution_for_each\" with e.g. the \n",
    "    source projects as rows, distances as columns and number of pairs as values.\n",
    "\n",
    "    title\n",
    "    ----------\n",
    "    Title of the plot. Example: \"Longest shortest path (\"diameter\") for Typescript packages \".\n",
    "\n",
    "    xlabel\n",
    "    ----------\n",
    "    X-axis label. Example: \"Project\".\n",
    "    \n",
    "    ylabel\n",
    "    ----------\n",
    "    Y-axis label. Example: \"Typescript module pairs\".\n",
    "    \"\"\"\n",
    "\n",
    "    if data_frame.empty:\n",
    "        print(\"No data to plot '\" + title + \"'\")\n",
    "    else:\n",
    "        plot.figure();\n",
    "        axes = data_frame.plot(\n",
    "            title=title, \n",
    "            kind='bar', \n",
    "            grid=True,\n",
    "            stacked=True,\n",
    "            logy=logy,\n",
    "            xlabel=xlabel,\n",
    "            ylabel=ylabel,\n",
    "            figsize=(10,6),\n",
    "            legend=True,\n",
    "            cmap=main_color_map\n",
    "        ).legend(bbox_to_anchor=(1.0, 1.0), title=\"path length\")\n",
    "        plot.show()"
   ]
  },
  {
   "cell_type": "code",
   "execution_count": 20,
   "id": "6afb912b",
   "metadata": {
    "execution": {
     "iopub.execute_input": "2025-01-19T19:32:07.837797Z",
     "iopub.status.busy": "2025-01-19T19:32:07.837447Z",
     "iopub.status.idle": "2025-01-19T19:32:07.840949Z",
     "shell.execute_reply": "2025-01-19T19:32:07.840573Z"
    }
   },
   "outputs": [],
   "source": [
    "def group_to_others_below_threshold(data_frame : pd.DataFrame, value_column : str, name_column: str, threshold: float) -> pd.DataFrame:    \n",
    "    \"\"\"\n",
    "    Adds a new percentage column for the value column and \n",
    "    groups all values below the given threshold to \"others\" in the name column.\n",
    "\n",
    "    Parameters:\n",
    "    - data_frame (pd.DataFrame): Input pandas DataFrame\n",
    "    - value_column (str): Name of the column that contains the numeric value\n",
    "    - name_column (str): Name of the column that contains the group name that will be replaced by \"others\" for small values\n",
    "    - threshold (float): Threshold in % that is used to group values below it into the \"others\" group\n",
    "\n",
    "    Returns:\n",
    "    int:Returning value\n",
    "\n",
    "    \"\"\"\n",
    "    result_data_frame = data_frame.copy();\n",
    "\n",
    "    percent_column_name = value_column + 'Percent';\n",
    "\n",
    "    # Add column with the name given in \"percent_column_name\" with the percentage of the value column.\n",
    "    result_data_frame[percent_column_name] = result_data_frame[value_column] / result_data_frame[value_column].sum() * 100.0;\n",
    "\n",
    "    # Change the external module name to \"others\" if it is called less than the specified threshold\n",
    "    result_data_frame.loc[result_data_frame[percent_column_name] < threshold, name_column] = 'others';\n",
    "\n",
    "    # Group external module name (foremost the new \"others\" entries) and sum their percentage\n",
    "    result_data_frame = result_data_frame.groupby(name_column)[percent_column_name].sum();\n",
    "\n",
    "    # Sort by values descending\n",
    "    return result_data_frame.sort_values(ascending=False);"
   ]
  },
  {
   "cell_type": "code",
   "execution_count": 21,
   "id": "40653fe5",
   "metadata": {
    "execution": {
     "iopub.execute_input": "2025-01-19T19:32:07.842914Z",
     "iopub.status.busy": "2025-01-19T19:32:07.842548Z",
     "iopub.status.idle": "2025-01-19T19:32:07.846126Z",
     "shell.execute_reply": "2025-01-19T19:32:07.845646Z"
    }
   },
   "outputs": [],
   "source": [
    "def group_to_others_below_threshold(data_frame : pd.DataFrame, value_column : str, name_column: str, threshold: float) -> pd.DataFrame:    \n",
    "    \"\"\"Adds a new percentage column for the value column and \n",
    "    groups all values below the given threshold to \"others\" in the name column.\n",
    "\n",
    "    Parameters:\n",
    "    - data_frame (pd.DataFrame): Input pandas DataFrame\n",
    "    - value_column (str): Name of the column that contains the numeric value\n",
    "    - name_column (str): Name of the column that contains the group name that will be replaced by \"others\" for small values\n",
    "    - threshold (float): Threshold in % that is used to group values below it into the \"others\" group\n",
    "\n",
    "    Returns:\n",
    "    int:Returning value\n",
    "\n",
    "    \"\"\"\n",
    "    result_data_frame = data_frame.copy();\n",
    "\n",
    "    percent_column_name = value_column + 'Percent';\n",
    "\n",
    "    # Add column with the name given in \"percent_column_name\" with the percentage of the value column.\n",
    "    result_data_frame[percent_column_name] = result_data_frame[value_column] / result_data_frame[value_column].sum() * 100.0;\n",
    "\n",
    "    # Change the external module name to \"others\" if it is called less than the specified threshold\n",
    "    result_data_frame.loc[result_data_frame[percent_column_name] < threshold, name_column] = 'others';\n",
    "\n",
    "    # Group external module name (foremost the new \"others\" entries) and sum their percentage\n",
    "    result_data_frame = result_data_frame.groupby(name_column)[percent_column_name].sum();\n",
    "\n",
    "    # Sort by values descending\n",
    "    return result_data_frame.sort_values(ascending=False);"
   ]
  },
  {
   "cell_type": "markdown",
   "id": "0b42163d",
   "metadata": {},
   "source": [
    "## 1. Typescript Modules"
   ]
  },
  {
   "cell_type": "markdown",
   "id": "5e1ce698",
   "metadata": {},
   "source": [
    "## 1.1 All pairs shortest path\n",
    "\n",
    "Use \"[All Pairs Shortest Path](https://neo4j.com/docs/graph-data-science/current/algorithms/all-pairs-shortest-path)\" algorithm to get the shortest path distance between all pairs of dependent Typescript packages. It shows how many Packages have a direct dependency (distance 1), how many are reachable with one dependency in between (distance 2), and so on..."
   ]
  },
  {
   "cell_type": "markdown",
   "id": "3b468bae",
   "metadata": {},
   "source": [
    "### 1.1.1 Create a projection of all Typescript module dependencies\n",
    "\n",
    "Creates a in-memory projection of \"TS:Module\" nodes and their \"DEPENDS_ON\" relationships as a preparation to run the Graph algorithms. The weight property is not used for now (September 2024) but may be needed for other algorithms/variants some time."
   ]
  },
  {
   "cell_type": "code",
   "execution_count": 22,
   "id": "1ecc41b1",
   "metadata": {
    "execution": {
     "iopub.execute_input": "2025-01-19T19:32:07.848158Z",
     "iopub.status.busy": "2025-01-19T19:32:07.847923Z",
     "iopub.status.idle": "2025-01-19T19:32:07.850361Z",
     "shell.execute_reply": "2025-01-19T19:32:07.849878Z"
    }
   },
   "outputs": [],
   "source": [
    "module_path_finding_parameters={\n",
    "    \"dependencies_projection\": \"typescript-module-path-finding-notebook\",\n",
    "    \"dependencies_projection_node\": \"Module\",\n",
    "    \"dependencies_projection_weight_property\": \"lowCouplingElement25PercentWeight\",\n",
    "}"
   ]
  },
  {
   "cell_type": "code",
   "execution_count": 23,
   "id": "0b637ce2",
   "metadata": {
    "execution": {
     "iopub.execute_input": "2025-01-19T19:32:07.852189Z",
     "iopub.status.busy": "2025-01-19T19:32:07.851912Z",
     "iopub.status.idle": "2025-01-19T19:32:07.907380Z",
     "shell.execute_reply": "2025-01-19T19:32:07.906840Z"
    }
   },
   "outputs": [],
   "source": [
    "# Create the directed and unweighted projection with the parameters defined directly above\n",
    "is_module_data_available=create_directed_unweighted_projection(module_path_finding_parameters)"
   ]
  },
  {
   "cell_type": "markdown",
   "id": "aaf7a594",
   "metadata": {},
   "source": [
    "#### Projected Graph statistics for Typescript module dependencies"
   ]
  },
  {
   "cell_type": "code",
   "execution_count": 24,
   "id": "cf414643",
   "metadata": {
    "execution": {
     "iopub.execute_input": "2025-01-19T19:32:07.909697Z",
     "iopub.status.busy": "2025-01-19T19:32:07.909539Z",
     "iopub.status.idle": "2025-01-19T19:32:07.956472Z",
     "shell.execute_reply": "2025-01-19T19:32:07.955916Z"
    }
   },
   "outputs": [
    {
     "data": {
      "text/html": [
       "<div>\n",
       "<style scoped>\n",
       "    .dataframe tbody tr th:only-of-type {\n",
       "        vertical-align: middle;\n",
       "    }\n",
       "\n",
       "    .dataframe tbody tr th {\n",
       "        vertical-align: top;\n",
       "    }\n",
       "\n",
       "    .dataframe thead th {\n",
       "        text-align: right;\n",
       "    }\n",
       "</style>\n",
       "<table border=\"1\" class=\"dataframe\">\n",
       "  <thead>\n",
       "    <tr style=\"text-align: right;\">\n",
       "      <th></th>\n",
       "      <th>nodeCount</th>\n",
       "      <th>relationshipCount</th>\n",
       "      <th>density</th>\n",
       "      <th>sizeInBytes</th>\n",
       "      <th>degreeDistribution.min</th>\n",
       "      <th>degreeDistribution.mean</th>\n",
       "      <th>degreeDistribution.max</th>\n",
       "      <th>degreeDistribution.p50</th>\n",
       "      <th>degreeDistribution.p75</th>\n",
       "      <th>degreeDistribution.p90</th>\n",
       "      <th>degreeDistribution.p95</th>\n",
       "      <th>degreeDistribution.p99</th>\n",
       "      <th>degreeDistribution.p999</th>\n",
       "    </tr>\n",
       "  </thead>\n",
       "  <tbody>\n",
       "    <tr>\n",
       "      <th>0</th>\n",
       "      <td>6</td>\n",
       "      <td>5</td>\n",
       "      <td>0.166667</td>\n",
       "      <td>2528564</td>\n",
       "      <td>0</td>\n",
       "      <td>0.833333</td>\n",
       "      <td>2</td>\n",
       "      <td>1</td>\n",
       "      <td>1</td>\n",
       "      <td>2</td>\n",
       "      <td>2</td>\n",
       "      <td>2</td>\n",
       "      <td>2</td>\n",
       "    </tr>\n",
       "  </tbody>\n",
       "</table>\n",
       "</div>"
      ],
      "text/plain": [
       "   nodeCount  relationshipCount   density  sizeInBytes  \\\n",
       "0          6                  5  0.166667      2528564   \n",
       "\n",
       "   degreeDistribution.min  degreeDistribution.mean  degreeDistribution.max  \\\n",
       "0                       0                 0.833333                       2   \n",
       "\n",
       "   degreeDistribution.p50  degreeDistribution.p75  degreeDistribution.p90  \\\n",
       "0                       1                       1                       2   \n",
       "\n",
       "   degreeDistribution.p95  degreeDistribution.p99  degreeDistribution.p999  \n",
       "0                       2                       2                        2  "
      ]
     },
     "execution_count": 24,
     "metadata": {},
     "output_type": "execute_result"
    }
   ],
   "source": [
    "module_projection_statistics=query_cypher_to_data_frame(\"../cypher/Dependencies_Projection/Dependencies_12_Get_Projection_Statistics.cypher\", module_path_finding_parameters)\n",
    "module_projection_statistics"
   ]
  },
  {
   "cell_type": "markdown",
   "id": "924c9b26",
   "metadata": {},
   "source": [
    "### 1.1.2 All pairs shortest path in total\n",
    "\n",
    "First, we'll have a look at the overall/total result of the all pairs shortest path algorithm for all dependencies."
   ]
  },
  {
   "cell_type": "code",
   "execution_count": 25,
   "id": "62f50f28",
   "metadata": {
    "execution": {
     "iopub.execute_input": "2025-01-19T19:32:07.958796Z",
     "iopub.status.busy": "2025-01-19T19:32:07.958437Z",
     "iopub.status.idle": "2025-01-19T19:32:07.993161Z",
     "shell.execute_reply": "2025-01-19T19:32:07.992738Z"
    }
   },
   "outputs": [],
   "source": [
    "# Execute algorithm \"All pairs shortest path\" and query overall and project specific results\n",
    "all_pairs_shortest_paths_distribution_per_project_and_root_project=query_if_data_available(is_module_data_available, \"../cypher/Path_Finding/Path_Finding_5_All_pairs_shortest_path_distribution_per_project.cypher\", module_path_finding_parameters)"
   ]
  },
  {
   "cell_type": "markdown",
   "id": "d6f93160",
   "metadata": {},
   "source": [
    "#### All pairs shortest path in total - Longest shortest path (Graph diameter)"
   ]
  },
  {
   "cell_type": "code",
   "execution_count": 26,
   "id": "ce1621b2",
   "metadata": {
    "execution": {
     "iopub.execute_input": "2025-01-19T19:32:07.995666Z",
     "iopub.status.busy": "2025-01-19T19:32:07.995314Z",
     "iopub.status.idle": "2025-01-19T19:32:07.998710Z",
     "shell.execute_reply": "2025-01-19T19:32:07.998237Z"
    }
   },
   "outputs": [
    {
     "name": "stdout",
     "output_type": "stream",
     "text": [
      "The diameter (longest shortest path) of the projected module dependencies Graph is: 2\n"
     ]
    }
   ],
   "source": [
    "module_dependencies_graph_diameter=all_pairs_shortest_paths_distribution_per_project_and_root_project['distance'].max()\n",
    "print('The diameter (longest shortest path) of the projected module dependencies Graph is:', module_dependencies_graph_diameter)"
   ]
  },
  {
   "cell_type": "markdown",
   "id": "e502afa1",
   "metadata": {},
   "source": [
    "#### All pairs shortest path in total - Path count per length - Table"
   ]
  },
  {
   "cell_type": "code",
   "execution_count": 27,
   "id": "b9ebcaa9",
   "metadata": {
    "execution": {
     "iopub.execute_input": "2025-01-19T19:32:08.000757Z",
     "iopub.status.busy": "2025-01-19T19:32:08.000462Z",
     "iopub.status.idle": "2025-01-19T19:32:08.007040Z",
     "shell.execute_reply": "2025-01-19T19:32:08.006603Z"
    }
   },
   "outputs": [
    {
     "data": {
      "text/html": [
       "<div>\n",
       "<style scoped>\n",
       "    .dataframe tbody tr th:only-of-type {\n",
       "        vertical-align: middle;\n",
       "    }\n",
       "\n",
       "    .dataframe tbody tr th {\n",
       "        vertical-align: top;\n",
       "    }\n",
       "\n",
       "    .dataframe thead th {\n",
       "        text-align: right;\n",
       "    }\n",
       "</style>\n",
       "<table border=\"1\" class=\"dataframe\">\n",
       "  <thead>\n",
       "    <tr style=\"text-align: right;\">\n",
       "      <th></th>\n",
       "      <th>index</th>\n",
       "      <th>distance</th>\n",
       "      <th>distanceTotalPairCount</th>\n",
       "      <th>distanceTotalSourceCount</th>\n",
       "      <th>distanceTotalTargetCount</th>\n",
       "    </tr>\n",
       "  </thead>\n",
       "  <tbody>\n",
       "    <tr>\n",
       "      <th>0</th>\n",
       "      <td>0</td>\n",
       "      <td>1</td>\n",
       "      <td>5</td>\n",
       "      <td>4</td>\n",
       "      <td>2</td>\n",
       "    </tr>\n",
       "    <tr>\n",
       "      <th>1</th>\n",
       "      <td>3</td>\n",
       "      <td>2</td>\n",
       "      <td>1</td>\n",
       "      <td>1</td>\n",
       "      <td>1</td>\n",
       "    </tr>\n",
       "  </tbody>\n",
       "</table>\n",
       "</div>"
      ],
      "text/plain": [
       "   index  distance  distanceTotalPairCount  distanceTotalSourceCount  \\\n",
       "0      0         1                       5                         4   \n",
       "1      3         2                       1                         1   \n",
       "\n",
       "   distanceTotalTargetCount  \n",
       "0                         2  \n",
       "1                         1  "
      ]
     },
     "execution_count": 27,
     "metadata": {},
     "output_type": "execute_result"
    }
   ],
   "source": [
    "all_pairs_shortest_paths_distribution_per_project_in_total=get_total_distance_distribution(all_pairs_shortest_paths_distribution_per_project_and_root_project)\n",
    "all_pairs_shortest_paths_distribution_per_project_in_total.head(50)"
   ]
  },
  {
   "cell_type": "markdown",
   "id": "df87dc06",
   "metadata": {},
   "source": [
    "#### All pairs shortest path in total - Path count per length - Bar chart"
   ]
  },
  {
   "cell_type": "code",
   "execution_count": 28,
   "id": "1fee79fc",
   "metadata": {
    "execution": {
     "iopub.execute_input": "2025-01-19T19:32:08.008896Z",
     "iopub.status.busy": "2025-01-19T19:32:08.008749Z",
     "iopub.status.idle": "2025-01-19T19:32:08.137510Z",
     "shell.execute_reply": "2025-01-19T19:32:08.137100Z"
    }
   },
   "outputs": [
    {
     "data": {
      "image/png": "[encoded data removed]",
      "text/plain": [
       "<Figure size 900x700 with 1 Axes>"
      ]
     },
     "metadata": {},
     "output_type": "display_data"
    }
   ],
   "source": [
    "plot_total_distances_bar_chart(\n",
    "    data_frame=all_pairs_shortest_paths_distribution_per_project_in_total, \n",
    "    title='All pairs shortest path for Typescript module dependencies in total (bar)',\n",
    "    ylabel='total number of Typescript module paths'\n",
    ")"
   ]
  },
  {
   "cell_type": "markdown",
   "id": "cf4b2733",
   "metadata": {},
   "source": [
    "#### All pairs shortest path in total - Path count per length - Pie chart"
   ]
  },
  {
   "cell_type": "code",
   "execution_count": 29,
   "id": "ab444978",
   "metadata": {
    "execution": {
     "iopub.execute_input": "2025-01-19T19:32:08.139451Z",
     "iopub.status.busy": "2025-01-19T19:32:08.139254Z",
     "iopub.status.idle": "2025-01-19T19:32:08.234574Z",
     "shell.execute_reply": "2025-01-19T19:32:08.234139Z"
    }
   },
   "outputs": [
    {
     "data": {
      "text/plain": [
       "<Figure size 640x480 with 0 Axes>"
      ]
     },
     "metadata": {},
     "output_type": "display_data"
    },
    {
     "data": {
      "image/png": "[encoded data removed]",
      "text/plain": [
       "<Figure size 800x800 with 1 Axes>"
      ]
     },
     "metadata": {},
     "output_type": "display_data"
    }
   ],
   "source": [
    "plot_total_distances_pie_chart(\n",
    "    data_frame=all_pairs_shortest_paths_distribution_per_project_in_total,\n",
    "    # data_frame=all_pairs_shortest_paths_distribution_per_project_in_total_significant,\n",
    "    title='All pairs shortest path for Typescript module dependencies in total (pie)',\n",
    "    ylabel='total number of Typescript module paths'\n",
    ")"
   ]
  },
  {
   "cell_type": "markdown",
   "id": "b1129f77",
   "metadata": {},
   "source": [
    "### 1.1.3 All pairs shortest path in detail\n",
    "\n",
    "The following table shows the first 10 rows with all details of the query above. It contains the results of the \"all pairs shortest path\" algorithm including the project the source node belong to and if the target node is the same or not. The main intuition here is to show how the data is structured. It provides the basis for tables and charts shown in following sections below, that filter and group the data accordingly."
   ]
  },
  {
   "cell_type": "code",
   "execution_count": 30,
   "id": "64ab393b",
   "metadata": {
    "execution": {
     "iopub.execute_input": "2025-01-19T19:32:08.236514Z",
     "iopub.status.busy": "2025-01-19T19:32:08.236367Z",
     "iopub.status.idle": "2025-01-19T19:32:08.249030Z",
     "shell.execute_reply": "2025-01-19T19:32:08.248547Z"
    }
   },
   "outputs": [
    {
     "data": {
      "text/html": [
       "<div>\n",
       "<style scoped>\n",
       "    .dataframe tbody tr th:only-of-type {\n",
       "        vertical-align: middle;\n",
       "    }\n",
       "\n",
       "    .dataframe tbody tr th {\n",
       "        vertical-align: top;\n",
       "    }\n",
       "\n",
       "    .dataframe thead th {\n",
       "        text-align: right;\n",
       "    }\n",
       "</style>\n",
       "<table border=\"1\" class=\"dataframe\">\n",
       "  <thead>\n",
       "    <tr style=\"text-align: right;\">\n",
       "      <th></th>\n",
       "      <th>sourceProject</th>\n",
       "      <th>sourceScan</th>\n",
       "      <th>sourceRootProject</th>\n",
       "      <th>isDifferentTargetProject</th>\n",
       "      <th>isDifferentTargetScan</th>\n",
       "      <th>isDifferentTargetRootProject</th>\n",
       "      <th>distance</th>\n",
       "      <th>distanceTotalPairCount</th>\n",
       "      <th>distanceTotalSourceCount</th>\n",
       "      <th>distanceTotalTargetCount</th>\n",
       "      <th>pairCount</th>\n",
       "      <th>sourceNodeCount</th>\n",
       "      <th>targetNodeCount</th>\n",
       "      <th>examples</th>\n",
       "      <th>exampleProjects</th>\n",
       "      <th>exampleScans</th>\n",
       "    </tr>\n",
       "  </thead>\n",
       "  <tbody>\n",
       "    <tr>\n",
       "      <th>0</th>\n",
       "      <td>react-router</td>\n",
       "      <td>react-router</td>\n",
       "      <td>react-router-6.28.1</td>\n",
       "      <td>True</td>\n",
       "      <td>True</td>\n",
       "      <td>False</td>\n",
       "      <td>1</td>\n",
       "      <td>5</td>\n",
       "      <td>4</td>\n",
       "      <td>2</td>\n",
       "      <td>2</td>\n",
       "      <td>1</td>\n",
       "      <td>1</td>\n",
       "      <td>[./index.ts -&gt; ./index.tsx]</td>\n",
       "      <td>[react-router -&gt; react-router-dom]</td>\n",
       "      <td>[react-router -&gt; react-router-dom, react-router -&gt; react-router-6.28.1]</td>\n",
       "    </tr>\n",
       "    <tr>\n",
       "      <th>1</th>\n",
       "      <td>react-router</td>\n",
       "      <td>react-router-6.28.1</td>\n",
       "      <td>react-router-6.28.1</td>\n",
       "      <td>True</td>\n",
       "      <td>True</td>\n",
       "      <td>False</td>\n",
       "      <td>1</td>\n",
       "      <td>5</td>\n",
       "      <td>4</td>\n",
       "      <td>2</td>\n",
       "      <td>1</td>\n",
       "      <td>1</td>\n",
       "      <td>1</td>\n",
       "      <td>[./index.ts -&gt; ./index.tsx]</td>\n",
       "      <td>[react-router -&gt; react-router-dom]</td>\n",
       "      <td>[react-router-6.28.1 -&gt; react-router-dom]</td>\n",
       "    </tr>\n",
       "    <tr>\n",
       "      <th>2</th>\n",
       "      <td>react-router</td>\n",
       "      <td>react-router-6.28.1</td>\n",
       "      <td>react-router-6.28.1</td>\n",
       "      <td>True</td>\n",
       "      <td>False</td>\n",
       "      <td>False</td>\n",
       "      <td>1</td>\n",
       "      <td>5</td>\n",
       "      <td>4</td>\n",
       "      <td>2</td>\n",
       "      <td>1</td>\n",
       "      <td>1</td>\n",
       "      <td>1</td>\n",
       "      <td>[./index.ts -&gt; ./index.tsx]</td>\n",
       "      <td>[react-router -&gt; react-router-dom]</td>\n",
       "      <td>[react-router-6.28.1 -&gt; react-router-6.28.1]</td>\n",
       "    </tr>\n",
       "    <tr>\n",
       "      <th>3</th>\n",
       "      <td>react-router</td>\n",
       "      <td>react-router</td>\n",
       "      <td>react-router-6.28.1</td>\n",
       "      <td>True</td>\n",
       "      <td>True</td>\n",
       "      <td>False</td>\n",
       "      <td>2</td>\n",
       "      <td>1</td>\n",
       "      <td>1</td>\n",
       "      <td>1</td>\n",
       "      <td>2</td>\n",
       "      <td>1</td>\n",
       "      <td>1</td>\n",
       "      <td>[./index.ts -&gt; ./index.tsx]</td>\n",
       "      <td>[react-router -&gt; react-router-native]</td>\n",
       "      <td>[react-router -&gt; react-router-native, react-router -&gt; react-router-6.28.1]</td>\n",
       "    </tr>\n",
       "    <tr>\n",
       "      <th>4</th>\n",
       "      <td>react-router</td>\n",
       "      <td>react-router-6.28.1</td>\n",
       "      <td>react-router-6.28.1</td>\n",
       "      <td>True</td>\n",
       "      <td>True</td>\n",
       "      <td>False</td>\n",
       "      <td>2</td>\n",
       "      <td>1</td>\n",
       "      <td>1</td>\n",
       "      <td>1</td>\n",
       "      <td>1</td>\n",
       "      <td>1</td>\n",
       "      <td>1</td>\n",
       "      <td>[./index.ts -&gt; ./index.tsx]</td>\n",
       "      <td>[react-router -&gt; react-router-native]</td>\n",
       "      <td>[react-router-6.28.1 -&gt; react-router-native]</td>\n",
       "    </tr>\n",
       "    <tr>\n",
       "      <th>5</th>\n",
       "      <td>react-router</td>\n",
       "      <td>react-router-6.28.1</td>\n",
       "      <td>react-router-6.28.1</td>\n",
       "      <td>True</td>\n",
       "      <td>False</td>\n",
       "      <td>False</td>\n",
       "      <td>2</td>\n",
       "      <td>1</td>\n",
       "      <td>1</td>\n",
       "      <td>1</td>\n",
       "      <td>1</td>\n",
       "      <td>1</td>\n",
       "      <td>1</td>\n",
       "      <td>[./index.ts -&gt; ./index.tsx]</td>\n",
       "      <td>[react-router -&gt; react-router-native]</td>\n",
       "      <td>[react-router-6.28.1 -&gt; react-router-6.28.1]</td>\n",
       "    </tr>\n",
       "    <tr>\n",
       "      <th>6</th>\n",
       "      <td>react-router-dom</td>\n",
       "      <td>react-router-dom</td>\n",
       "      <td>react-router-6.28.1</td>\n",
       "      <td>False</td>\n",
       "      <td>False</td>\n",
       "      <td>False</td>\n",
       "      <td>1</td>\n",
       "      <td>5</td>\n",
       "      <td>4</td>\n",
       "      <td>2</td>\n",
       "      <td>1</td>\n",
       "      <td>1</td>\n",
       "      <td>1</td>\n",
       "      <td>[./server.tsx -&gt; ./index.tsx]</td>\n",
       "      <td>[react-router-dom -&gt; react-router-dom]</td>\n",
       "      <td>[react-router-dom -&gt; react-router-dom]</td>\n",
       "    </tr>\n",
       "    <tr>\n",
       "      <th>7</th>\n",
       "      <td>react-router-dom</td>\n",
       "      <td>react-router-6.28.1</td>\n",
       "      <td>react-router-6.28.1</td>\n",
       "      <td>False</td>\n",
       "      <td>False</td>\n",
       "      <td>False</td>\n",
       "      <td>1</td>\n",
       "      <td>5</td>\n",
       "      <td>4</td>\n",
       "      <td>2</td>\n",
       "      <td>1</td>\n",
       "      <td>1</td>\n",
       "      <td>1</td>\n",
       "      <td>[./server.tsx -&gt; ./index.tsx]</td>\n",
       "      <td>[react-router-dom -&gt; react-router-dom]</td>\n",
       "      <td>[react-router-6.28.1 -&gt; react-router-6.28.1]</td>\n",
       "    </tr>\n",
       "    <tr>\n",
       "      <th>8</th>\n",
       "      <td>react-router-dom</td>\n",
       "      <td>react-router-6.28.1</td>\n",
       "      <td>react-router-6.28.1</td>\n",
       "      <td>True</td>\n",
       "      <td>True</td>\n",
       "      <td>False</td>\n",
       "      <td>1</td>\n",
       "      <td>5</td>\n",
       "      <td>4</td>\n",
       "      <td>2</td>\n",
       "      <td>3</td>\n",
       "      <td>2</td>\n",
       "      <td>2</td>\n",
       "      <td>[./server.tsx -&gt; ./index.tsx, ./index.tsx -&gt; ./index.tsx]</td>\n",
       "      <td>[react-router-dom -&gt; react-router-dom, react-router-dom -&gt; react-router-native]</td>\n",
       "      <td>[react-router-6.28.1 -&gt; react-router-dom, react-router-6.28.1 -&gt; react-router-native]</td>\n",
       "    </tr>\n",
       "    <tr>\n",
       "      <th>9</th>\n",
       "      <td>react-router-dom</td>\n",
       "      <td>react-router-dom</td>\n",
       "      <td>react-router-6.28.1</td>\n",
       "      <td>True</td>\n",
       "      <td>True</td>\n",
       "      <td>False</td>\n",
       "      <td>1</td>\n",
       "      <td>5</td>\n",
       "      <td>4</td>\n",
       "      <td>2</td>\n",
       "      <td>5</td>\n",
       "      <td>2</td>\n",
       "      <td>2</td>\n",
       "      <td>[./server.tsx -&gt; ./index.tsx, ./index.tsx -&gt; ./index.tsx]</td>\n",
       "      <td>[react-router-dom -&gt; react-router-dom, react-router-dom -&gt; react-router-native]</td>\n",
       "      <td>[react-router-dom -&gt; react-router-6.28.1, react-router-dom -&gt; react-router-native]</td>\n",
       "    </tr>\n",
       "  </tbody>\n",
       "</table>\n",
       "</div>"
      ],
      "text/plain": [
       "      sourceProject           sourceScan    sourceRootProject  \\\n",
       "0      react-router         react-router  react-router-6.28.1   \n",
       "1      react-router  react-router-6.28.1  react-router-6.28.1   \n",
       "2      react-router  react-router-6.28.1  react-router-6.28.1   \n",
       "3      react-router         react-router  react-router-6.28.1   \n",
       "4      react-router  react-router-6.28.1  react-router-6.28.1   \n",
       "5      react-router  react-router-6.28.1  react-router-6.28.1   \n",
       "6  react-router-dom     react-router-dom  react-router-6.28.1   \n",
       "7  react-router-dom  react-router-6.28.1  react-router-6.28.1   \n",
       "8  react-router-dom  react-router-6.28.1  react-router-6.28.1   \n",
       "9  react-router-dom     react-router-dom  react-router-6.28.1   \n",
       "\n",
       "   isDifferentTargetProject  isDifferentTargetScan  \\\n",
       "0                      True                   True   \n",
       "1                      True                   True   \n",
       "2                      True                  False   \n",
       "3                      True                   True   \n",
       "4                      True                   True   \n",
       "5                      True                  False   \n",
       "6                     False                  False   \n",
       "7                     False                  False   \n",
       "8                      True                   True   \n",
       "9                      True                   True   \n",
       "\n",
       "   isDifferentTargetRootProject  distance  distanceTotalPairCount  \\\n",
       "0                         False         1                       5   \n",
       "1                         False         1                       5   \n",
       "2                         False         1                       5   \n",
       "3                         False         2                       1   \n",
       "4                         False         2                       1   \n",
       "5                         False         2                       1   \n",
       "6                         False         1                       5   \n",
       "7                         False         1                       5   \n",
       "8                         False         1                       5   \n",
       "9                         False         1                       5   \n",
       "\n",
       "   distanceTotalSourceCount  distanceTotalTargetCount  pairCount  \\\n",
       "0                         4                         2          2   \n",
       "1                         4                         2          1   \n",
       "2                         4                         2          1   \n",
       "3                         1                         1          2   \n",
       "4                         1                         1          1   \n",
       "5                         1                         1          1   \n",
       "6                         4                         2          1   \n",
       "7                         4                         2          1   \n",
       "8                         4                         2          3   \n",
       "9                         4                         2          5   \n",
       "\n",
       "   sourceNodeCount  targetNodeCount  \\\n",
       "0                1                1   \n",
       "1                1                1   \n",
       "2                1                1   \n",
       "3                1                1   \n",
       "4                1                1   \n",
       "5                1                1   \n",
       "6                1                1   \n",
       "7                1                1   \n",
       "8                2                2   \n",
       "9                2                2   \n",
       "\n",
       "                                                    examples  \\\n",
       "0                                [./index.ts -> ./index.tsx]   \n",
       "1                                [./index.ts -> ./index.tsx]   \n",
       "2                                [./index.ts -> ./index.tsx]   \n",
       "3                                [./index.ts -> ./index.tsx]   \n",
       "4                                [./index.ts -> ./index.tsx]   \n",
       "5                                [./index.ts -> ./index.tsx]   \n",
       "6                              [./server.tsx -> ./index.tsx]   \n",
       "7                              [./server.tsx -> ./index.tsx]   \n",
       "8  [./server.tsx -> ./index.tsx, ./index.tsx -> ./index.tsx]   \n",
       "9  [./server.tsx -> ./index.tsx, ./index.tsx -> ./index.tsx]   \n",
       "\n",
       "                                                                   exampleProjects  \\\n",
       "0                                               [react-router -> react-router-dom]   \n",
       "1                                               [react-router -> react-router-dom]   \n",
       "2                                               [react-router -> react-router-dom]   \n",
       "3                                            [react-router -> react-router-native]   \n",
       "4                                            [react-router -> react-router-native]   \n",
       "5                                            [react-router -> react-router-native]   \n",
       "6                                           [react-router-dom -> react-router-dom]   \n",
       "7                                           [react-router-dom -> react-router-dom]   \n",
       "8  [react-router-dom -> react-router-dom, react-router-dom -> react-router-native]   \n",
       "9  [react-router-dom -> react-router-dom, react-router-dom -> react-router-native]   \n",
       "\n",
       "                                                                            exampleScans  \n",
       "0                [react-router -> react-router-dom, react-router -> react-router-6.28.1]  \n",
       "1                                              [react-router-6.28.1 -> react-router-dom]  \n",
       "2                                           [react-router-6.28.1 -> react-router-6.28.1]  \n",
       "3             [react-router -> react-router-native, react-router -> react-router-6.28.1]  \n",
       "4                                           [react-router-6.28.1 -> react-router-native]  \n",
       "5                                           [react-router-6.28.1 -> react-router-6.28.1]  \n",
       "6                                                 [react-router-dom -> react-router-dom]  \n",
       "7                                           [react-router-6.28.1 -> react-router-6.28.1]  \n",
       "8  [react-router-6.28.1 -> react-router-dom, react-router-6.28.1 -> react-router-native]  \n",
       "9     [react-router-dom -> react-router-6.28.1, react-router-dom -> react-router-native]  "
      ]
     },
     "execution_count": 30,
     "metadata": {},
     "output_type": "execute_result"
    }
   ],
   "source": [
    "all_pairs_shortest_paths_distribution_per_project_and_root_project.head(10)"
   ]
  },
  {
   "cell_type": "markdown",
   "id": "ae9d8868",
   "metadata": {},
   "source": [
    "### 1.1.4 All pairs shortest path for each project\n",
    "\n",
    "In this section we'll focus only on pairs of nodes that both belong to the same project, filtering out every line that has `isDifferentTargetProject==False`. The first ten rows are shown in a table followed by charts that show the distribution of shortest path distances across different projects in stacked bar charts (absolute and normalized).\n",
    "\n",
    "**Note:** It is possible that a (shortest) path could have nodes in between that belong to different projects. Therefore, the data of each project isn't perfectly isolated. However, it shows how the dependencies interact across projects \"in real life\" while still providing a decent isolation of each project."
   ]
  },
  {
   "cell_type": "code",
   "execution_count": 31,
   "id": "9f84af34",
   "metadata": {
    "execution": {
     "iopub.execute_input": "2025-01-19T19:32:08.251023Z",
     "iopub.status.busy": "2025-01-19T19:32:08.250745Z",
     "iopub.status.idle": "2025-01-19T19:32:08.260807Z",
     "shell.execute_reply": "2025-01-19T19:32:08.260415Z"
    }
   },
   "outputs": [
    {
     "data": {
      "text/html": [
       "<div>\n",
       "<style scoped>\n",
       "    .dataframe tbody tr th:only-of-type {\n",
       "        vertical-align: middle;\n",
       "    }\n",
       "\n",
       "    .dataframe tbody tr th {\n",
       "        vertical-align: top;\n",
       "    }\n",
       "\n",
       "    .dataframe thead th {\n",
       "        text-align: right;\n",
       "    }\n",
       "</style>\n",
       "<table border=\"1\" class=\"dataframe\">\n",
       "  <thead>\n",
       "    <tr style=\"text-align: right;\">\n",
       "      <th></th>\n",
       "      <th>sourceProject</th>\n",
       "      <th>sourceScan</th>\n",
       "      <th>sourceRootProject</th>\n",
       "      <th>isDifferentTargetProject</th>\n",
       "      <th>isDifferentTargetScan</th>\n",
       "      <th>isDifferentTargetRootProject</th>\n",
       "      <th>distance</th>\n",
       "      <th>distanceTotalPairCount</th>\n",
       "      <th>distanceTotalSourceCount</th>\n",
       "      <th>distanceTotalTargetCount</th>\n",
       "      <th>pairCount</th>\n",
       "      <th>sourceNodeCount</th>\n",
       "      <th>targetNodeCount</th>\n",
       "      <th>examples</th>\n",
       "      <th>exampleProjects</th>\n",
       "      <th>exampleScans</th>\n",
       "    </tr>\n",
       "  </thead>\n",
       "  <tbody>\n",
       "    <tr>\n",
       "      <th>6</th>\n",
       "      <td>react-router-dom</td>\n",
       "      <td>react-router-dom</td>\n",
       "      <td>react-router-6.28.1</td>\n",
       "      <td>False</td>\n",
       "      <td>False</td>\n",
       "      <td>False</td>\n",
       "      <td>1</td>\n",
       "      <td>5</td>\n",
       "      <td>4</td>\n",
       "      <td>2</td>\n",
       "      <td>1</td>\n",
       "      <td>1</td>\n",
       "      <td>1</td>\n",
       "      <td>[./server.tsx -&gt; ./index.tsx]</td>\n",
       "      <td>[react-router-dom -&gt; react-router-dom]</td>\n",
       "      <td>[react-router-dom -&gt; react-router-dom]</td>\n",
       "    </tr>\n",
       "    <tr>\n",
       "      <th>7</th>\n",
       "      <td>react-router-dom</td>\n",
       "      <td>react-router-6.28.1</td>\n",
       "      <td>react-router-6.28.1</td>\n",
       "      <td>False</td>\n",
       "      <td>False</td>\n",
       "      <td>False</td>\n",
       "      <td>1</td>\n",
       "      <td>5</td>\n",
       "      <td>4</td>\n",
       "      <td>2</td>\n",
       "      <td>1</td>\n",
       "      <td>1</td>\n",
       "      <td>1</td>\n",
       "      <td>[./server.tsx -&gt; ./index.tsx]</td>\n",
       "      <td>[react-router-dom -&gt; react-router-dom]</td>\n",
       "      <td>[react-router-6.28.1 -&gt; react-router-6.28.1]</td>\n",
       "    </tr>\n",
       "  </tbody>\n",
       "</table>\n",
       "</div>"
      ],
      "text/plain": [
       "      sourceProject           sourceScan    sourceRootProject  \\\n",
       "6  react-router-dom     react-router-dom  react-router-6.28.1   \n",
       "7  react-router-dom  react-router-6.28.1  react-router-6.28.1   \n",
       "\n",
       "   isDifferentTargetProject  isDifferentTargetScan  \\\n",
       "6                     False                  False   \n",
       "7                     False                  False   \n",
       "\n",
       "   isDifferentTargetRootProject  distance  distanceTotalPairCount  \\\n",
       "6                         False         1                       5   \n",
       "7                         False         1                       5   \n",
       "\n",
       "   distanceTotalSourceCount  distanceTotalTargetCount  pairCount  \\\n",
       "6                         4                         2          1   \n",
       "7                         4                         2          1   \n",
       "\n",
       "   sourceNodeCount  targetNodeCount                       examples  \\\n",
       "6                1                1  [./server.tsx -> ./index.tsx]   \n",
       "7                1                1  [./server.tsx -> ./index.tsx]   \n",
       "\n",
       "                          exampleProjects  \\\n",
       "6  [react-router-dom -> react-router-dom]   \n",
       "7  [react-router-dom -> react-router-dom]   \n",
       "\n",
       "                                   exampleScans  \n",
       "6        [react-router-dom -> react-router-dom]  \n",
       "7  [react-router-6.28.1 -> react-router-6.28.1]  "
      ]
     },
     "execution_count": 31,
     "metadata": {},
     "output_type": "execute_result"
    }
   ],
   "source": [
    "all_pairs_shortest_paths_distribution_per_project_isolated=all_pairs_shortest_paths_distribution_per_project_and_root_project.query('isDifferentTargetProject == False')\n",
    "all_pairs_shortest_paths_distribution_per_project_isolated.head(10)"
   ]
  },
  {
   "cell_type": "markdown",
   "id": "c400fc8c",
   "metadata": {},
   "source": [
    "#### All pairs shortest path for each project - Longest shortest path (Diameter) for each project\n",
    "\n",
    "Shows the top 20 projects with the longest shortest path (=Graph Diameter)."
   ]
  },
  {
   "cell_type": "code",
   "execution_count": 32,
   "id": "3bc3b27d",
   "metadata": {
    "execution": {
     "iopub.execute_input": "2025-01-19T19:32:08.262611Z",
     "iopub.status.busy": "2025-01-19T19:32:08.262464Z",
     "iopub.status.idle": "2025-01-19T19:32:08.267130Z",
     "shell.execute_reply": "2025-01-19T19:32:08.266613Z"
    }
   },
   "outputs": [
    {
     "data": {
      "text/plain": [
       "sourceProject\n",
       "react-router-dom    1\n",
       "Name: distance, dtype: int64"
      ]
     },
     "execution_count": 32,
     "metadata": {},
     "output_type": "execute_result"
    }
   ],
   "source": [
    "graph_diameter_per_project = get_longest_path_for_column('sourceProject', all_pairs_shortest_paths_distribution_per_project_isolated)\n",
    "graph_diameter_per_project.head(20)"
   ]
  },
  {
   "cell_type": "code",
   "execution_count": 33,
   "id": "0c65fd16",
   "metadata": {
    "execution": {
     "iopub.execute_input": "2025-01-19T19:32:08.268852Z",
     "iopub.status.busy": "2025-01-19T19:32:08.268705Z",
     "iopub.status.idle": "2025-01-19T19:32:08.361960Z",
     "shell.execute_reply": "2025-01-19T19:32:08.361363Z"
    }
   },
   "outputs": [
    {
     "data": {
      "image/png": "[encoded data removed]",
      "text/plain": [
       "<Figure size 1000x600 with 1 Axes>"
      ]
     },
     "metadata": {},
     "output_type": "display_data"
    }
   ],
   "source": [
    "plot_longest_distance_of_each_row(\n",
    "    data_frame=graph_diameter_per_project,\n",
    "    title='Longest shortest path (\"diameter\") for Typescript module dependencies per project',\n",
    "    xlabel='Project',\n",
    "    ylabel='longest path length'\n",
    ")"
   ]
  },
  {
   "cell_type": "markdown",
   "id": "1138de0c",
   "metadata": {},
   "source": [
    "#### All pairs shortest path for each project - Bar chart (absolute)"
   ]
  },
  {
   "cell_type": "code",
   "execution_count": 34,
   "id": "7b90cfbc",
   "metadata": {
    "execution": {
     "iopub.execute_input": "2025-01-19T19:32:08.364105Z",
     "iopub.status.busy": "2025-01-19T19:32:08.363796Z",
     "iopub.status.idle": "2025-01-19T19:32:08.370218Z",
     "shell.execute_reply": "2025-01-19T19:32:08.369859Z"
    }
   },
   "outputs": [],
   "source": [
    "all_pairs_shortest_paths_distribution_per_project_isolated_pivot = get_distance_distribution_for_each('sourceProject', all_pairs_shortest_paths_distribution_per_project_isolated)"
   ]
  },
  {
   "cell_type": "code",
   "execution_count": 35,
   "id": "ebeaf685",
   "metadata": {
    "execution": {
     "iopub.execute_input": "2025-01-19T19:32:08.372152Z",
     "iopub.status.busy": "2025-01-19T19:32:08.371869Z",
     "iopub.status.idle": "2025-01-19T19:32:08.567180Z",
     "shell.execute_reply": "2025-01-19T19:32:08.566673Z"
    }
   },
   "outputs": [
    {
     "data": {
      "text/plain": [
       "<Figure size 640x480 with 0 Axes>"
      ]
     },
     "metadata": {},
     "output_type": "display_data"
    },
    {
     "data": {
      "image/png": "[encoded data removed]",
      "text/plain": [
       "<Figure size 1000x600 with 1 Axes>"
      ]
     },
     "metadata": {},
     "output_type": "display_data"
    }
   ],
   "source": [
    "plot_stacked_distances_for_each_row(\n",
    "    data_frame=all_pairs_shortest_paths_distribution_per_project_isolated_pivot,\n",
    "    title='All pairs shortest path for Typescript module dependencies stacked per project (absolute, logarithmic)',\n",
    "    xlabel='Project',\n",
    "    ylabel='Typescript module paths',\n",
    "    logy=True\n",
    ")"
   ]
  },
  {
   "cell_type": "markdown",
   "id": "d5f8f817",
   "metadata": {},
   "source": [
    "#### All pairs shortest path for each project - Bar chart (normalized)\n",
    "\n",
    "Shows the top 50 projects with the highest number of dependency paths stacked by their length."
   ]
  },
  {
   "cell_type": "code",
   "execution_count": 36,
   "id": "533d1b9d",
   "metadata": {
    "execution": {
     "iopub.execute_input": "2025-01-19T19:32:08.569104Z",
     "iopub.status.busy": "2025-01-19T19:32:08.568966Z",
     "iopub.status.idle": "2025-01-19T19:32:08.574063Z",
     "shell.execute_reply": "2025-01-19T19:32:08.573652Z"
    }
   },
   "outputs": [
    {
     "data": {
      "text/html": [
       "<div>\n",
       "<style scoped>\n",
       "    .dataframe tbody tr th:only-of-type {\n",
       "        vertical-align: middle;\n",
       "    }\n",
       "\n",
       "    .dataframe tbody tr th {\n",
       "        vertical-align: top;\n",
       "    }\n",
       "\n",
       "    .dataframe thead th {\n",
       "        text-align: right;\n",
       "    }\n",
       "</style>\n",
       "<table border=\"1\" class=\"dataframe\">\n",
       "  <thead>\n",
       "    <tr style=\"text-align: right;\">\n",
       "      <th>distance</th>\n",
       "      <th>1</th>\n",
       "    </tr>\n",
       "    <tr>\n",
       "      <th>sourceProject</th>\n",
       "      <th></th>\n",
       "    </tr>\n",
       "  </thead>\n",
       "  <tbody>\n",
       "    <tr>\n",
       "      <th>react-router-dom</th>\n",
       "      <td>100.0</td>\n",
       "    </tr>\n",
       "  </tbody>\n",
       "</table>\n",
       "</div>"
      ],
      "text/plain": [
       "distance              1\n",
       "sourceProject          \n",
       "react-router-dom  100.0"
      ]
     },
     "execution_count": 36,
     "metadata": {},
     "output_type": "execute_result"
    }
   ],
   "source": [
    "# Normalize data (percent of sum pairs)\n",
    "all_pairs_shortest_paths_distribution_per_project_isolated_normalized_pivot=normalize_distance_distribution_for_each_row(all_pairs_shortest_paths_distribution_per_project_isolated_pivot)\n",
    "all_pairs_shortest_paths_distribution_per_project_isolated_normalized_pivot.head(50)"
   ]
  },
  {
   "cell_type": "code",
   "execution_count": 37,
   "id": "2721c41d",
   "metadata": {
    "execution": {
     "iopub.execute_input": "2025-01-19T19:32:08.575745Z",
     "iopub.status.busy": "2025-01-19T19:32:08.575609Z",
     "iopub.status.idle": "2025-01-19T19:32:08.681792Z",
     "shell.execute_reply": "2025-01-19T19:32:08.681306Z"
    }
   },
   "outputs": [
    {
     "data": {
      "text/plain": [
       "<Figure size 640x480 with 0 Axes>"
      ]
     },
     "metadata": {},
     "output_type": "display_data"
    },
    {
     "data": {
      "image/png": "[encoded data removed]",
      "text/plain": [
       "<Figure size 1000x600 with 1 Axes>"
      ]
     },
     "metadata": {},
     "output_type": "display_data"
    }
   ],
   "source": [
    "plot_stacked_distances_for_each_row(\n",
    "    data_frame=all_pairs_shortest_paths_distribution_per_project_isolated_normalized_pivot.head(50),\n",
    "    title='All pairs shortest path for Typescript module dependencies stacked per project (normalized in %)',\n",
    "    xlabel='Project',\n",
    "    ylabel='Typescript module paths'\n",
    ")"
   ]
  },
  {
   "cell_type": "markdown",
   "id": "f76616b7",
   "metadata": {},
   "source": [
    "### 1.1.5 All pairs shortest path for each root project\n",
    "\n",
    "In this section we'll focus only on pairs of nodes that both belong to the same root project, filtering out every line that has `isDifferentTargetRootProject==False`. The first ten rows are shown in a table followed by charts that show the distribution of shortest path distances across different root projects in stacked bar charts (absolute and normalized).\n",
    "\n",
    "**Note:** It is possible that a (shortest) path could have nodes in between that belong to different root projects. Therefore, the data of each root project isn't perfectly isolated. However, it shows how the dependencies interact across root projects \"in real life\" while still providing a decent isolation of each root project."
   ]
  },
  {
   "cell_type": "code",
   "execution_count": 38,
   "id": "e551ada6",
   "metadata": {
    "execution": {
     "iopub.execute_input": "2025-01-19T19:32:08.683721Z",
     "iopub.status.busy": "2025-01-19T19:32:08.683570Z",
     "iopub.status.idle": "2025-01-19T19:32:08.693008Z",
     "shell.execute_reply": "2025-01-19T19:32:08.692558Z"
    }
   },
   "outputs": [
    {
     "data": {
      "text/html": [
       "<div>\n",
       "<style scoped>\n",
       "    .dataframe tbody tr th:only-of-type {\n",
       "        vertical-align: middle;\n",
       "    }\n",
       "\n",
       "    .dataframe tbody tr th {\n",
       "        vertical-align: top;\n",
       "    }\n",
       "\n",
       "    .dataframe thead th {\n",
       "        text-align: right;\n",
       "    }\n",
       "</style>\n",
       "<table border=\"1\" class=\"dataframe\">\n",
       "  <thead>\n",
       "    <tr style=\"text-align: right;\">\n",
       "      <th></th>\n",
       "      <th>sourceRootProject</th>\n",
       "      <th>distance</th>\n",
       "      <th>pairCount</th>\n",
       "      <th>sourceNodeCount</th>\n",
       "      <th>targetNodeCount</th>\n",
       "    </tr>\n",
       "  </thead>\n",
       "  <tbody>\n",
       "    <tr>\n",
       "      <th>0</th>\n",
       "      <td>react-router-6.28.1</td>\n",
       "      <td>1</td>\n",
       "      <td>5</td>\n",
       "      <td>2</td>\n",
       "      <td>2</td>\n",
       "    </tr>\n",
       "    <tr>\n",
       "      <th>1</th>\n",
       "      <td>react-router-6.28.1</td>\n",
       "      <td>2</td>\n",
       "      <td>2</td>\n",
       "      <td>1</td>\n",
       "      <td>1</td>\n",
       "    </tr>\n",
       "  </tbody>\n",
       "</table>\n",
       "</div>"
      ],
      "text/plain": [
       "     sourceRootProject  distance  pairCount  sourceNodeCount  targetNodeCount\n",
       "0  react-router-6.28.1         1          5                2                2\n",
       "1  react-router-6.28.1         2          2                1                1"
      ]
     },
     "execution_count": 38,
     "metadata": {},
     "output_type": "execute_result"
    }
   ],
   "source": [
    "all_pairs_shortest_paths_distribution_per_root_project_isolated=all_pairs_shortest_paths_distribution_per_project_and_root_project.query('isDifferentTargetRootProject == False')\n",
    "\n",
    "all_pairs_shortest_paths_distribution_per_root_project_isolated.\\\n",
    "    groupby([\"sourceRootProject\", \"distance\"], as_index=False)\\\n",
    "    [[\"pairCount\", \"sourceNodeCount\",\"targetNodeCount\"]].\\\n",
    "    apply(max).head(20)"
   ]
  },
  {
   "cell_type": "markdown",
   "id": "3f9defa3",
   "metadata": {},
   "source": [
    "#### All pairs shortest path for each root project - Longest shortest path (Diameter) for each root project\n",
    "\n",
    "Shows the top 20 root projects with the longest shortest path (=Graph Diameter)."
   ]
  },
  {
   "cell_type": "code",
   "execution_count": 39,
   "id": "e9c57989",
   "metadata": {
    "execution": {
     "iopub.execute_input": "2025-01-19T19:32:08.694925Z",
     "iopub.status.busy": "2025-01-19T19:32:08.694656Z",
     "iopub.status.idle": "2025-01-19T19:32:08.698967Z",
     "shell.execute_reply": "2025-01-19T19:32:08.698516Z"
    }
   },
   "outputs": [
    {
     "data": {
      "text/plain": [
       "sourceRootProject\n",
       "react-router-6.28.1    2\n",
       "Name: distance, dtype: int64"
      ]
     },
     "execution_count": 39,
     "metadata": {},
     "output_type": "execute_result"
    }
   ],
   "source": [
    "graph_diameter_per_root_project = get_longest_path_for_column('sourceRootProject', all_pairs_shortest_paths_distribution_per_root_project_isolated)\n",
    "graph_diameter_per_root_project.head(20)"
   ]
  },
  {
   "cell_type": "code",
   "execution_count": 40,
   "id": "cd33364f",
   "metadata": {
    "execution": {
     "iopub.execute_input": "2025-01-19T19:32:08.700821Z",
     "iopub.status.busy": "2025-01-19T19:32:08.700546Z",
     "iopub.status.idle": "2025-01-19T19:32:08.803994Z",
     "shell.execute_reply": "2025-01-19T19:32:08.803491Z"
    }
   },
   "outputs": [
    {
     "data": {
      "image/png": "[encoded data removed]",
      "text/plain": [
       "<Figure size 1000x600 with 1 Axes>"
      ]
     },
     "metadata": {},
     "output_type": "display_data"
    }
   ],
   "source": [
    "plot_longest_distance_of_each_row(\n",
    "    data_frame=graph_diameter_per_root_project,\n",
    "    title='Longest shortest path (\"diameter\") for Typescript module dependencies per root project',\n",
    "    xlabel='root project',\n",
    "    ylabel='longest path length'\n",
    ")"
   ]
  },
  {
   "cell_type": "markdown",
   "id": "0551c259",
   "metadata": {},
   "source": [
    "#### All pairs shortest path for each root project - Bar chart (absolute)"
   ]
  },
  {
   "cell_type": "code",
   "execution_count": 41,
   "id": "64f86f9d",
   "metadata": {
    "execution": {
     "iopub.execute_input": "2025-01-19T19:32:08.806143Z",
     "iopub.status.busy": "2025-01-19T19:32:08.805991Z",
     "iopub.status.idle": "2025-01-19T19:32:08.812678Z",
     "shell.execute_reply": "2025-01-19T19:32:08.812207Z"
    }
   },
   "outputs": [],
   "source": [
    "all_pairs_shortest_paths_distribution_per_root_project_isolated_pivot = get_distance_distribution_for_each('sourceRootProject', all_pairs_shortest_paths_distribution_per_root_project_isolated)"
   ]
  },
  {
   "cell_type": "code",
   "execution_count": 42,
   "id": "7d9e4e55",
   "metadata": {
    "execution": {
     "iopub.execute_input": "2025-01-19T19:32:08.814509Z",
     "iopub.status.busy": "2025-01-19T19:32:08.814240Z",
     "iopub.status.idle": "2025-01-19T19:32:09.079918Z",
     "shell.execute_reply": "2025-01-19T19:32:09.079425Z"
    }
   },
   "outputs": [
    {
     "data": {
      "text/plain": [
       "<Figure size 640x480 with 0 Axes>"
      ]
     },
     "metadata": {},
     "output_type": "display_data"
    },
    {
     "data": {
      "image/png": "[encoded data removed]",
      "text/plain": [
       "<Figure size 1000x600 with 1 Axes>"
      ]
     },
     "metadata": {},
     "output_type": "display_data"
    }
   ],
   "source": [
    "plot_stacked_distances_for_each_row(\n",
    "    data_frame=all_pairs_shortest_paths_distribution_per_root_project_isolated_pivot,\n",
    "    title='All pairs shortest path for Typescript module dependencies stacked per root project (absolute, logarithmic)',\n",
    "    xlabel='Root project',\n",
    "    ylabel='Typescript module paths',\n",
    "    logy=True\n",
    ")"
   ]
  },
  {
   "cell_type": "markdown",
   "id": "7bb61fa8",
   "metadata": {},
   "source": [
    "#### All pairs shortest path for each root project - Bar chart (normalized)\n",
    "\n",
    "Shows the top 50 root projects with the highest number of dependency paths stacked by their length."
   ]
  },
  {
   "cell_type": "code",
   "execution_count": 43,
   "id": "d09379a3",
   "metadata": {
    "execution": {
     "iopub.execute_input": "2025-01-19T19:32:09.082025Z",
     "iopub.status.busy": "2025-01-19T19:32:09.081721Z",
     "iopub.status.idle": "2025-01-19T19:32:09.087056Z",
     "shell.execute_reply": "2025-01-19T19:32:09.086586Z"
    }
   },
   "outputs": [
    {
     "data": {
      "text/html": [
       "<div>\n",
       "<style scoped>\n",
       "    .dataframe tbody tr th:only-of-type {\n",
       "        vertical-align: middle;\n",
       "    }\n",
       "\n",
       "    .dataframe tbody tr th {\n",
       "        vertical-align: top;\n",
       "    }\n",
       "\n",
       "    .dataframe thead th {\n",
       "        text-align: right;\n",
       "    }\n",
       "</style>\n",
       "<table border=\"1\" class=\"dataframe\">\n",
       "  <thead>\n",
       "    <tr style=\"text-align: right;\">\n",
       "      <th>distance</th>\n",
       "      <th>1</th>\n",
       "    </tr>\n",
       "    <tr>\n",
       "      <th>sourceProject</th>\n",
       "      <th></th>\n",
       "    </tr>\n",
       "  </thead>\n",
       "  <tbody>\n",
       "    <tr>\n",
       "      <th>react-router-dom</th>\n",
       "      <td>100.0</td>\n",
       "    </tr>\n",
       "  </tbody>\n",
       "</table>\n",
       "</div>"
      ],
      "text/plain": [
       "distance              1\n",
       "sourceProject          \n",
       "react-router-dom  100.0"
      ]
     },
     "execution_count": 43,
     "metadata": {},
     "output_type": "execute_result"
    }
   ],
   "source": [
    "# Normalize data (percent of sum pairs)\n",
    "all_pairs_shortest_paths_distribution_per_root_project_isolated_normalized_pivot=normalize_distance_distribution_for_each_row(all_pairs_shortest_paths_distribution_per_project_isolated_pivot)\n",
    "all_pairs_shortest_paths_distribution_per_root_project_isolated_normalized_pivot.head(50)"
   ]
  },
  {
   "cell_type": "code",
   "execution_count": 44,
   "id": "a222ac47",
   "metadata": {
    "execution": {
     "iopub.execute_input": "2025-01-19T19:32:09.088842Z",
     "iopub.status.busy": "2025-01-19T19:32:09.088699Z",
     "iopub.status.idle": "2025-01-19T19:32:09.197516Z",
     "shell.execute_reply": "2025-01-19T19:32:09.197116Z"
    }
   },
   "outputs": [
    {
     "data": {
      "text/plain": [
       "<Figure size 640x480 with 0 Axes>"
      ]
     },
     "metadata": {},
     "output_type": "display_data"
    },
    {
     "data": {
      "image/png": "[encoded data removed]",
      "text/plain": [
       "<Figure size 1000x600 with 1 Axes>"
      ]
     },
     "metadata": {},
     "output_type": "display_data"
    }
   ],
   "source": [
    "plot_stacked_distances_for_each_row(\n",
    "    data_frame=all_pairs_shortest_paths_distribution_per_root_project_isolated_normalized_pivot.head(50),\n",
    "    title='All pairs shortest path for Typescript module dependencies stacked per root project (normalized in %)',\n",
    "    xlabel='root project',\n",
    "    ylabel='Typescript module paths'\n",
    ")"
   ]
  },
  {
   "cell_type": "markdown",
   "id": "37da9d90",
   "metadata": {},
   "source": [
    "## 1.2 Longest path\n",
    "\n",
    "Use [Longest Path](https://neo4j.com/docs/graph-data-science/current/algorithms/dag/longest-path) algorithm to get the longest paths between Typescript packages. It is typically higher than the longest shortest path (diameter) and helps together with it to get a good overview of the complexity.\n",
    "\n",
    "**Note:** This algorithm requires a Directed Acyclic Graph (DAG) and will lead to inaccurate results when the Graph contains cycles."
   ]
  },
  {
   "cell_type": "markdown",
   "id": "e9f9b8bb",
   "metadata": {},
   "source": [
    "### 1.2.1 Longest path in total\n",
    "\n",
    "First, we'll have a look at the overall/total result of the longest path algorithm for all dependencies."
   ]
  },
  {
   "cell_type": "code",
   "execution_count": 45,
   "id": "8b43628b",
   "metadata": {
    "execution": {
     "iopub.execute_input": "2025-01-19T19:32:09.199625Z",
     "iopub.status.busy": "2025-01-19T19:32:09.199330Z",
     "iopub.status.idle": "2025-01-19T19:32:09.235494Z",
     "shell.execute_reply": "2025-01-19T19:32:09.234905Z"
    }
   },
   "outputs": [],
   "source": [
    "# Execute algorithm \"longest path (for directed acyclic graphs)\" and query overall and project specific results\n",
    "longest_paths_distribution_per_project=query_if_data_available(is_module_data_available, \"../cypher/Path_Finding/Path_Finding_6_Longest_paths_distribution_per_project.cypher\", module_path_finding_parameters)"
   ]
  },
  {
   "cell_type": "markdown",
   "id": "eaa7ae83",
   "metadata": {},
   "source": [
    "#### Longest path in total - Max longest path"
   ]
  },
  {
   "cell_type": "code",
   "execution_count": 46,
   "id": "6aef9c47",
   "metadata": {
    "execution": {
     "iopub.execute_input": "2025-01-19T19:32:09.238327Z",
     "iopub.status.busy": "2025-01-19T19:32:09.238145Z",
     "iopub.status.idle": "2025-01-19T19:32:09.241509Z",
     "shell.execute_reply": "2025-01-19T19:32:09.240915Z"
    }
   },
   "outputs": [
    {
     "name": "stdout",
     "output_type": "stream",
     "text": [
      "The max. longest path of the projected module dependencies is: 1\n"
     ]
    }
   ],
   "source": [
    "module_dependencies_max_longest_path=longest_paths_distribution_per_project['distance'].max()\n",
    "print('The max. longest path of the projected module dependencies is:', module_dependencies_max_longest_path)"
   ]
  },
  {
   "cell_type": "markdown",
   "id": "3cf188a8",
   "metadata": {},
   "source": [
    "#### Longest path in total - Paths per length - Table"
   ]
  },
  {
   "cell_type": "code",
   "execution_count": 47,
   "id": "4141d7d8",
   "metadata": {
    "execution": {
     "iopub.execute_input": "2025-01-19T19:32:09.243768Z",
     "iopub.status.busy": "2025-01-19T19:32:09.243444Z",
     "iopub.status.idle": "2025-01-19T19:32:09.251706Z",
     "shell.execute_reply": "2025-01-19T19:32:09.251246Z"
    }
   },
   "outputs": [
    {
     "data": {
      "text/html": [
       "<div>\n",
       "<style scoped>\n",
       "    .dataframe tbody tr th:only-of-type {\n",
       "        vertical-align: middle;\n",
       "    }\n",
       "\n",
       "    .dataframe tbody tr th {\n",
       "        vertical-align: top;\n",
       "    }\n",
       "\n",
       "    .dataframe thead th {\n",
       "        text-align: right;\n",
       "    }\n",
       "</style>\n",
       "<table border=\"1\" class=\"dataframe\">\n",
       "  <thead>\n",
       "    <tr style=\"text-align: right;\">\n",
       "      <th></th>\n",
       "      <th>index</th>\n",
       "      <th>distance</th>\n",
       "      <th>distanceTotalPairCount</th>\n",
       "      <th>distanceTotalSourceCount</th>\n",
       "      <th>distanceTotalTargetCount</th>\n",
       "    </tr>\n",
       "  </thead>\n",
       "  <tbody>\n",
       "    <tr>\n",
       "      <th>0</th>\n",
       "      <td>0</td>\n",
       "      <td>1</td>\n",
       "      <td>2</td>\n",
       "      <td>2</td>\n",
       "      <td>2</td>\n",
       "    </tr>\n",
       "  </tbody>\n",
       "</table>\n",
       "</div>"
      ],
      "text/plain": [
       "   index  distance  distanceTotalPairCount  distanceTotalSourceCount  \\\n",
       "0      0         1                       2                         2   \n",
       "\n",
       "   distanceTotalTargetCount  \n",
       "0                         2  "
      ]
     },
     "execution_count": 47,
     "metadata": {},
     "output_type": "execute_result"
    }
   ],
   "source": [
    "# First, display only the overall/total distances, their pair count and the count of the distinct source and target nodes\n",
    "longest_paths_distribution_per_project_in_total=get_total_distance_distribution(longest_paths_distribution_per_project)\n",
    "longest_paths_distribution_per_project_in_total.head(50)"
   ]
  },
  {
   "cell_type": "markdown",
   "id": "46544c70",
   "metadata": {},
   "source": [
    "#### Longest path in total - Path count per length - Bar chart"
   ]
  },
  {
   "cell_type": "code",
   "execution_count": 48,
   "id": "9db65656",
   "metadata": {
    "execution": {
     "iopub.execute_input": "2025-01-19T19:32:09.253884Z",
     "iopub.status.busy": "2025-01-19T19:32:09.253550Z",
     "iopub.status.idle": "2025-01-19T19:32:09.378619Z",
     "shell.execute_reply": "2025-01-19T19:32:09.378183Z"
    }
   },
   "outputs": [
    {
     "data": {
      "image/png": "[encoded data removed]",
      "text/plain": [
       "<Figure size 900x700 with 1 Axes>"
      ]
     },
     "metadata": {},
     "output_type": "display_data"
    }
   ],
   "source": [
    "plot_total_distances_bar_chart(\n",
    "    data_frame=longest_paths_distribution_per_project_in_total, \n",
    "    title='Longest path for Typescript module dependencies in total (bar)',\n",
    "    ylabel='total number of Typescript module paths'\n",
    ")"
   ]
  },
  {
   "cell_type": "markdown",
   "id": "f4962464",
   "metadata": {},
   "source": [
    "#### Longest path in total - Path count per length - Pie chart"
   ]
  },
  {
   "cell_type": "code",
   "execution_count": 49,
   "id": "cf2efa87",
   "metadata": {
    "execution": {
     "iopub.execute_input": "2025-01-19T19:32:09.380765Z",
     "iopub.status.busy": "2025-01-19T19:32:09.380467Z",
     "iopub.status.idle": "2025-01-19T19:32:09.461337Z",
     "shell.execute_reply": "2025-01-19T19:32:09.460933Z"
    }
   },
   "outputs": [
    {
     "data": {
      "text/plain": [
       "<Figure size 640x480 with 0 Axes>"
      ]
     },
     "metadata": {},
     "output_type": "display_data"
    },
    {
     "data": {
      "image/png": "[encoded data removed]",
      "text/plain": [
       "<Figure size 800x800 with 1 Axes>"
      ]
     },
     "metadata": {},
     "output_type": "display_data"
    }
   ],
   "source": [
    "plot_total_distances_pie_chart(\n",
    "    data_frame=longest_paths_distribution_per_project_in_total,\n",
    "    title='Longest path for Typescript module dependencies in total (pie)',\n",
    "    ylabel='total number of Typescript module paths'\n",
    ")"
   ]
  },
  {
   "cell_type": "markdown",
   "id": "904db536",
   "metadata": {},
   "source": [
    "### 1.2.2 Longest path in detail\n",
    "\n",
    "The following table shows the first 10 rows with all details of the query above. It contains the results of the \"longest path\" algorithm including the project the source node belongs to and if the target node is in the same project or not. The main intuition is to show how the data is structured. It provides the basis for tables and charts shown in following sections below, that filter and group the data accordingly."
   ]
  },
  {
   "cell_type": "code",
   "execution_count": 50,
   "id": "f13cf0e5",
   "metadata": {
    "execution": {
     "iopub.execute_input": "2025-01-19T19:32:09.463419Z",
     "iopub.status.busy": "2025-01-19T19:32:09.463125Z",
     "iopub.status.idle": "2025-01-19T19:32:09.473664Z",
     "shell.execute_reply": "2025-01-19T19:32:09.473279Z"
    }
   },
   "outputs": [
    {
     "data": {
      "text/html": [
       "<div>\n",
       "<style scoped>\n",
       "    .dataframe tbody tr th:only-of-type {\n",
       "        vertical-align: middle;\n",
       "    }\n",
       "\n",
       "    .dataframe tbody tr th {\n",
       "        vertical-align: top;\n",
       "    }\n",
       "\n",
       "    .dataframe thead th {\n",
       "        text-align: right;\n",
       "    }\n",
       "</style>\n",
       "<table border=\"1\" class=\"dataframe\">\n",
       "  <thead>\n",
       "    <tr style=\"text-align: right;\">\n",
       "      <th></th>\n",
       "      <th>sourceProject</th>\n",
       "      <th>sourceScan</th>\n",
       "      <th>sourceRootProject</th>\n",
       "      <th>isDifferentTargetProject</th>\n",
       "      <th>isDifferentTargetScan</th>\n",
       "      <th>isDifferentTargetRootProject</th>\n",
       "      <th>distance</th>\n",
       "      <th>distanceTotalPairCount</th>\n",
       "      <th>distanceTotalSourceCount</th>\n",
       "      <th>distanceTotalTargetCount</th>\n",
       "      <th>pairCount</th>\n",
       "      <th>sourceNodeCount</th>\n",
       "      <th>targetNodeCount</th>\n",
       "      <th>examples</th>\n",
       "      <th>exampleProjects</th>\n",
       "      <th>exampleScans</th>\n",
       "    </tr>\n",
       "  </thead>\n",
       "  <tbody>\n",
       "    <tr>\n",
       "      <th>0</th>\n",
       "      <td>react-router</td>\n",
       "      <td>react-router</td>\n",
       "      <td>react-router-6.28.1</td>\n",
       "      <td>True</td>\n",
       "      <td>True</td>\n",
       "      <td>False</td>\n",
       "      <td>1</td>\n",
       "      <td>2</td>\n",
       "      <td>2</td>\n",
       "      <td>2</td>\n",
       "      <td>2</td>\n",
       "      <td>1</td>\n",
       "      <td>1</td>\n",
       "      <td>[./index.ts -&gt; ./index.tsx]</td>\n",
       "      <td>[react-router -&gt; react-router-dom]</td>\n",
       "      <td>[react-router -&gt; react-router-dom, react-router -&gt; react-router-6.28.1]</td>\n",
       "    </tr>\n",
       "    <tr>\n",
       "      <th>1</th>\n",
       "      <td>react-router</td>\n",
       "      <td>react-router-6.28.1</td>\n",
       "      <td>react-router-6.28.1</td>\n",
       "      <td>True</td>\n",
       "      <td>True</td>\n",
       "      <td>False</td>\n",
       "      <td>1</td>\n",
       "      <td>2</td>\n",
       "      <td>2</td>\n",
       "      <td>2</td>\n",
       "      <td>1</td>\n",
       "      <td>1</td>\n",
       "      <td>1</td>\n",
       "      <td>[./index.ts -&gt; ./index.tsx]</td>\n",
       "      <td>[react-router -&gt; react-router-dom]</td>\n",
       "      <td>[react-router-6.28.1 -&gt; react-router-dom]</td>\n",
       "    </tr>\n",
       "    <tr>\n",
       "      <th>2</th>\n",
       "      <td>react-router</td>\n",
       "      <td>react-router-6.28.1</td>\n",
       "      <td>react-router-6.28.1</td>\n",
       "      <td>True</td>\n",
       "      <td>False</td>\n",
       "      <td>False</td>\n",
       "      <td>1</td>\n",
       "      <td>2</td>\n",
       "      <td>2</td>\n",
       "      <td>2</td>\n",
       "      <td>1</td>\n",
       "      <td>1</td>\n",
       "      <td>1</td>\n",
       "      <td>[./index.ts -&gt; ./index.tsx]</td>\n",
       "      <td>[react-router -&gt; react-router-dom]</td>\n",
       "      <td>[react-router-6.28.1 -&gt; react-router-6.28.1]</td>\n",
       "    </tr>\n",
       "    <tr>\n",
       "      <th>3</th>\n",
       "      <td>react-router-dom</td>\n",
       "      <td>react-router-dom</td>\n",
       "      <td>react-router-6.28.1</td>\n",
       "      <td>True</td>\n",
       "      <td>True</td>\n",
       "      <td>False</td>\n",
       "      <td>1</td>\n",
       "      <td>2</td>\n",
       "      <td>2</td>\n",
       "      <td>2</td>\n",
       "      <td>2</td>\n",
       "      <td>1</td>\n",
       "      <td>1</td>\n",
       "      <td>[./server.tsx -&gt; ./index.tsx]</td>\n",
       "      <td>[react-router-dom -&gt; react-router-native]</td>\n",
       "      <td>[react-router-dom -&gt; react-router-native, react-router-dom -&gt; react-router-6.28.1]</td>\n",
       "    </tr>\n",
       "    <tr>\n",
       "      <th>4</th>\n",
       "      <td>react-router-dom</td>\n",
       "      <td>react-router-6.28.1</td>\n",
       "      <td>react-router-6.28.1</td>\n",
       "      <td>True</td>\n",
       "      <td>True</td>\n",
       "      <td>False</td>\n",
       "      <td>1</td>\n",
       "      <td>2</td>\n",
       "      <td>2</td>\n",
       "      <td>2</td>\n",
       "      <td>1</td>\n",
       "      <td>1</td>\n",
       "      <td>1</td>\n",
       "      <td>[./server.tsx -&gt; ./index.tsx]</td>\n",
       "      <td>[react-router-dom -&gt; react-router-native]</td>\n",
       "      <td>[react-router-6.28.1 -&gt; react-router-native]</td>\n",
       "    </tr>\n",
       "    <tr>\n",
       "      <th>5</th>\n",
       "      <td>react-router-dom</td>\n",
       "      <td>react-router-6.28.1</td>\n",
       "      <td>react-router-6.28.1</td>\n",
       "      <td>True</td>\n",
       "      <td>False</td>\n",
       "      <td>False</td>\n",
       "      <td>1</td>\n",
       "      <td>2</td>\n",
       "      <td>2</td>\n",
       "      <td>2</td>\n",
       "      <td>1</td>\n",
       "      <td>1</td>\n",
       "      <td>1</td>\n",
       "      <td>[./server.tsx -&gt; ./index.tsx]</td>\n",
       "      <td>[react-router-dom -&gt; react-router-native]</td>\n",
       "      <td>[react-router-6.28.1 -&gt; react-router-6.28.1]</td>\n",
       "    </tr>\n",
       "  </tbody>\n",
       "</table>\n",
       "</div>"
      ],
      "text/plain": [
       "      sourceProject           sourceScan    sourceRootProject  \\\n",
       "0      react-router         react-router  react-router-6.28.1   \n",
       "1      react-router  react-router-6.28.1  react-router-6.28.1   \n",
       "2      react-router  react-router-6.28.1  react-router-6.28.1   \n",
       "3  react-router-dom     react-router-dom  react-router-6.28.1   \n",
       "4  react-router-dom  react-router-6.28.1  react-router-6.28.1   \n",
       "5  react-router-dom  react-router-6.28.1  react-router-6.28.1   \n",
       "\n",
       "   isDifferentTargetProject  isDifferentTargetScan  \\\n",
       "0                      True                   True   \n",
       "1                      True                   True   \n",
       "2                      True                  False   \n",
       "3                      True                   True   \n",
       "4                      True                   True   \n",
       "5                      True                  False   \n",
       "\n",
       "   isDifferentTargetRootProject  distance  distanceTotalPairCount  \\\n",
       "0                         False         1                       2   \n",
       "1                         False         1                       2   \n",
       "2                         False         1                       2   \n",
       "3                         False         1                       2   \n",
       "4                         False         1                       2   \n",
       "5                         False         1                       2   \n",
       "\n",
       "   distanceTotalSourceCount  distanceTotalTargetCount  pairCount  \\\n",
       "0                         2                         2          2   \n",
       "1                         2                         2          1   \n",
       "2                         2                         2          1   \n",
       "3                         2                         2          2   \n",
       "4                         2                         2          1   \n",
       "5                         2                         2          1   \n",
       "\n",
       "   sourceNodeCount  targetNodeCount                       examples  \\\n",
       "0                1                1    [./index.ts -> ./index.tsx]   \n",
       "1                1                1    [./index.ts -> ./index.tsx]   \n",
       "2                1                1    [./index.ts -> ./index.tsx]   \n",
       "3                1                1  [./server.tsx -> ./index.tsx]   \n",
       "4                1                1  [./server.tsx -> ./index.tsx]   \n",
       "5                1                1  [./server.tsx -> ./index.tsx]   \n",
       "\n",
       "                             exampleProjects  \\\n",
       "0         [react-router -> react-router-dom]   \n",
       "1         [react-router -> react-router-dom]   \n",
       "2         [react-router -> react-router-dom]   \n",
       "3  [react-router-dom -> react-router-native]   \n",
       "4  [react-router-dom -> react-router-native]   \n",
       "5  [react-router-dom -> react-router-native]   \n",
       "\n",
       "                                                                         exampleScans  \n",
       "0             [react-router -> react-router-dom, react-router -> react-router-6.28.1]  \n",
       "1                                           [react-router-6.28.1 -> react-router-dom]  \n",
       "2                                        [react-router-6.28.1 -> react-router-6.28.1]  \n",
       "3  [react-router-dom -> react-router-native, react-router-dom -> react-router-6.28.1]  \n",
       "4                                        [react-router-6.28.1 -> react-router-native]  \n",
       "5                                        [react-router-6.28.1 -> react-router-6.28.1]  "
      ]
     },
     "execution_count": 50,
     "metadata": {},
     "output_type": "execute_result"
    }
   ],
   "source": [
    "longest_paths_distribution_per_project.head(10)"
   ]
  },
  {
   "cell_type": "markdown",
   "id": "57aee73a",
   "metadata": {},
   "source": [
    "### 1.2.3 Longest path for each project\n",
    "\n",
    "In this section we'll focus only on pairs of nodes that both belong to the same project, filtering out every line that has `isDifferentTargetProject==False`. The first ten rows are shown in a table followed by charts that show the distribution of longest path distances across different projects in stacked bar charts (absolute and normalized).\n",
    "\n",
    "**Note:** It is possible that a (longest) path could have nodes in between that belong to different projects. Therefore, the data of each project isn't perfectly isolated. However, it shows how the dependencies interact across projects \"in real life\" while still providing a decent isolation of each project."
   ]
  },
  {
   "cell_type": "code",
   "execution_count": 51,
   "id": "964bff35",
   "metadata": {
    "execution": {
     "iopub.execute_input": "2025-01-19T19:32:09.475424Z",
     "iopub.status.busy": "2025-01-19T19:32:09.475292Z",
     "iopub.status.idle": "2025-01-19T19:32:09.481789Z",
     "shell.execute_reply": "2025-01-19T19:32:09.481402Z"
    }
   },
   "outputs": [
    {
     "data": {
      "text/html": [
       "<div>\n",
       "<style scoped>\n",
       "    .dataframe tbody tr th:only-of-type {\n",
       "        vertical-align: middle;\n",
       "    }\n",
       "\n",
       "    .dataframe tbody tr th {\n",
       "        vertical-align: top;\n",
       "    }\n",
       "\n",
       "    .dataframe thead th {\n",
       "        text-align: right;\n",
       "    }\n",
       "</style>\n",
       "<table border=\"1\" class=\"dataframe\">\n",
       "  <thead>\n",
       "    <tr style=\"text-align: right;\">\n",
       "      <th></th>\n",
       "      <th>sourceProject</th>\n",
       "      <th>sourceScan</th>\n",
       "      <th>sourceRootProject</th>\n",
       "      <th>isDifferentTargetProject</th>\n",
       "      <th>isDifferentTargetScan</th>\n",
       "      <th>isDifferentTargetRootProject</th>\n",
       "      <th>distance</th>\n",
       "      <th>distanceTotalPairCount</th>\n",
       "      <th>distanceTotalSourceCount</th>\n",
       "      <th>distanceTotalTargetCount</th>\n",
       "      <th>pairCount</th>\n",
       "      <th>sourceNodeCount</th>\n",
       "      <th>targetNodeCount</th>\n",
       "      <th>examples</th>\n",
       "      <th>exampleProjects</th>\n",
       "      <th>exampleScans</th>\n",
       "    </tr>\n",
       "  </thead>\n",
       "  <tbody>\n",
       "  </tbody>\n",
       "</table>\n",
       "</div>"
      ],
      "text/plain": [
       "Empty DataFrame\n",
       "Columns: [sourceProject, sourceScan, sourceRootProject, isDifferentTargetProject, isDifferentTargetScan, isDifferentTargetRootProject, distance, distanceTotalPairCount, distanceTotalSourceCount, distanceTotalTargetCount, pairCount, sourceNodeCount, targetNodeCount, examples, exampleProjects, exampleScans]\n",
       "Index: []"
      ]
     },
     "execution_count": 51,
     "metadata": {},
     "output_type": "execute_result"
    }
   ],
   "source": [
    "longest_paths_distribution_per_project_isolated=longest_paths_distribution_per_project.query('isDifferentTargetProject == False')\n",
    "longest_paths_distribution_per_project_isolated.head(10)"
   ]
  },
  {
   "cell_type": "markdown",
   "id": "34ec57d5",
   "metadata": {},
   "source": [
    "#### Longest path for each project - Max. longest path for each project\n",
    "\n",
    "Shows the top 20 projects with their max. longest path."
   ]
  },
  {
   "cell_type": "code",
   "execution_count": 52,
   "id": "c09f2926",
   "metadata": {
    "execution": {
     "iopub.execute_input": "2025-01-19T19:32:09.483653Z",
     "iopub.status.busy": "2025-01-19T19:32:09.483510Z",
     "iopub.status.idle": "2025-01-19T19:32:09.487802Z",
     "shell.execute_reply": "2025-01-19T19:32:09.487337Z"
    }
   },
   "outputs": [
    {
     "data": {
      "text/plain": [
       "Series([], Name: distance, dtype: int64)"
      ]
     },
     "execution_count": 52,
     "metadata": {},
     "output_type": "execute_result"
    }
   ],
   "source": [
    "longest_path_per_project = get_longest_path_for_column('sourceProject', longest_paths_distribution_per_project_isolated)\n",
    "longest_path_per_project.head(20)"
   ]
  },
  {
   "cell_type": "code",
   "execution_count": 53,
   "id": "874f20b8",
   "metadata": {
    "execution": {
     "iopub.execute_input": "2025-01-19T19:32:09.489470Z",
     "iopub.status.busy": "2025-01-19T19:32:09.489327Z",
     "iopub.status.idle": "2025-01-19T19:32:09.492195Z",
     "shell.execute_reply": "2025-01-19T19:32:09.491788Z"
    }
   },
   "outputs": [
    {
     "name": "stdout",
     "output_type": "stream",
     "text": [
      "No data to plot 'Max. longest path for Typescript module dependencies per project'\n"
     ]
    }
   ],
   "source": [
    "plot_longest_distance_of_each_row(\n",
    "    data_frame=longest_path_per_project,\n",
    "    title='Max. longest path for Typescript module dependencies per project',\n",
    "    xlabel='Project',\n",
    "    ylabel='max. longest path length'\n",
    ")"
   ]
  },
  {
   "cell_type": "markdown",
   "id": "c0c2d8ba",
   "metadata": {},
   "source": [
    "#### Longest path for each project - Bar chart (absolute)"
   ]
  },
  {
   "cell_type": "code",
   "execution_count": 54,
   "id": "47bd1a08",
   "metadata": {
    "execution": {
     "iopub.execute_input": "2025-01-19T19:32:09.494208Z",
     "iopub.status.busy": "2025-01-19T19:32:09.493917Z",
     "iopub.status.idle": "2025-01-19T19:32:09.497260Z",
     "shell.execute_reply": "2025-01-19T19:32:09.496805Z"
    }
   },
   "outputs": [
    {
     "name": "stdout",
     "output_type": "stream",
     "text": [
      "No projected data for path finding available\n"
     ]
    }
   ],
   "source": [
    "longest_paths_distribution_per_project_isolated_pivot = get_distance_distribution_for_each('sourceProject', longest_paths_distribution_per_project_isolated)"
   ]
  },
  {
   "cell_type": "code",
   "execution_count": 55,
   "id": "9b9c50a5",
   "metadata": {
    "execution": {
     "iopub.execute_input": "2025-01-19T19:32:09.499132Z",
     "iopub.status.busy": "2025-01-19T19:32:09.498810Z",
     "iopub.status.idle": "2025-01-19T19:32:09.501535Z",
     "shell.execute_reply": "2025-01-19T19:32:09.501063Z"
    }
   },
   "outputs": [
    {
     "name": "stdout",
     "output_type": "stream",
     "text": [
      "No data to plot 'Longest path for Typescript module dependencies stacked per project (absolute, logarithmic)'\n"
     ]
    }
   ],
   "source": [
    "plot_stacked_distances_for_each_row(\n",
    "    data_frame=longest_paths_distribution_per_project_isolated_pivot,\n",
    "    title='Longest path for Typescript module dependencies stacked per project (absolute, logarithmic)',\n",
    "    xlabel='Project',\n",
    "    ylabel='Typescript module paths',\n",
    "    logy=True\n",
    ")"
   ]
  },
  {
   "cell_type": "markdown",
   "id": "fc4c2036",
   "metadata": {},
   "source": [
    "#### Longest path for each project - Bar chart (normalized)\n",
    "\n",
    "Shows the top 50 projects with the highest number of dependency paths stacked by their length."
   ]
  },
  {
   "cell_type": "code",
   "execution_count": 56,
   "id": "b9219023",
   "metadata": {
    "execution": {
     "iopub.execute_input": "2025-01-19T19:32:09.503568Z",
     "iopub.status.busy": "2025-01-19T19:32:09.503274Z",
     "iopub.status.idle": "2025-01-19T19:32:09.508804Z",
     "shell.execute_reply": "2025-01-19T19:32:09.508397Z"
    }
   },
   "outputs": [
    {
     "data": {
      "text/html": [
       "<div>\n",
       "<style scoped>\n",
       "    .dataframe tbody tr th:only-of-type {\n",
       "        vertical-align: middle;\n",
       "    }\n",
       "\n",
       "    .dataframe tbody tr th {\n",
       "        vertical-align: top;\n",
       "    }\n",
       "\n",
       "    .dataframe thead th {\n",
       "        text-align: right;\n",
       "    }\n",
       "</style>\n",
       "<table border=\"1\" class=\"dataframe\">\n",
       "  <thead>\n",
       "    <tr style=\"text-align: right;\">\n",
       "      <th></th>\n",
       "      <th>totalCost</th>\n",
       "      <th>sourceProject</th>\n",
       "      <th>sourceScan</th>\n",
       "      <th>sourceRootProject</th>\n",
       "      <th>isDifferentTargetProject</th>\n",
       "      <th>isDifferentTargetScan</th>\n",
       "      <th>isDifferentTargetRootProject</th>\n",
       "      <th>distance</th>\n",
       "      <th>distanceTotalPairCount</th>\n",
       "      <th>distanceTotalSourceCount</th>\n",
       "      <th>distanceTotalTargetCount</th>\n",
       "      <th>nodeCount</th>\n",
       "      <th>pairCount</th>\n",
       "    </tr>\n",
       "  </thead>\n",
       "  <tbody>\n",
       "  </tbody>\n",
       "</table>\n",
       "</div>"
      ],
      "text/plain": [
       "Empty DataFrame\n",
       "Columns: [totalCost, sourceProject, sourceScan, sourceRootProject, isDifferentTargetProject, isDifferentTargetScan, isDifferentTargetRootProject, distance, distanceTotalPairCount, distanceTotalSourceCount, distanceTotalTargetCount, nodeCount, pairCount]\n",
       "Index: []"
      ]
     },
     "execution_count": 56,
     "metadata": {},
     "output_type": "execute_result"
    }
   ],
   "source": [
    "# Normalize data (percent of sum pairs)\n",
    "longest_paths_distribution_per_project_isolated_normalized_pivot=normalize_distance_distribution_for_each_row(longest_paths_distribution_per_project_isolated_pivot)\n",
    "longest_paths_distribution_per_project_isolated_normalized_pivot.head(50)"
   ]
  },
  {
   "cell_type": "code",
   "execution_count": 57,
   "id": "7e2e15eb",
   "metadata": {
    "execution": {
     "iopub.execute_input": "2025-01-19T19:32:09.510455Z",
     "iopub.status.busy": "2025-01-19T19:32:09.510313Z",
     "iopub.status.idle": "2025-01-19T19:32:09.513034Z",
     "shell.execute_reply": "2025-01-19T19:32:09.512583Z"
    }
   },
   "outputs": [
    {
     "name": "stdout",
     "output_type": "stream",
     "text": [
      "No data to plot 'Longest path for Typescript module dependencies stacked per project (normalized in %)'\n"
     ]
    }
   ],
   "source": [
    "plot_stacked_distances_for_each_row(\n",
    "    data_frame=longest_paths_distribution_per_project_isolated_normalized_pivot.head(50),\n",
    "    title='Longest path for Typescript module dependencies stacked per project (normalized in %)',\n",
    "    xlabel='Project',\n",
    "    ylabel='Typescript module paths'\n",
    ")"
   ]
  },
  {
   "cell_type": "markdown",
   "id": "b76e3a9c",
   "metadata": {},
   "source": [
    "### 1.2.4 Longest path for each root project\n",
    "\n",
    "In this section we'll focus only on pairs of nodes that both belong to the same root project, filtering out every line that has `isDifferentTargetRootProject==False`. The first ten rows are shown in a table followed by charts that show the distribution of longest path distances across different root projects in stacked bar charts (absolute and normalized).\n",
    "\n",
    "**Note:** It is possible that a (longest) path could have nodes in-between that belong to different root projects. Therefore, the data of each root project isn't perfectly isolated. However, it shows how the dependencies interact across root projects \"in real life\" while still providing a decent amount of isolation of each root project."
   ]
  },
  {
   "cell_type": "code",
   "execution_count": 58,
   "id": "45439d79",
   "metadata": {
    "execution": {
     "iopub.execute_input": "2025-01-19T19:32:09.515038Z",
     "iopub.status.busy": "2025-01-19T19:32:09.514752Z",
     "iopub.status.idle": "2025-01-19T19:32:09.525674Z",
     "shell.execute_reply": "2025-01-19T19:32:09.525246Z"
    }
   },
   "outputs": [
    {
     "data": {
      "text/html": [
       "<div>\n",
       "<style scoped>\n",
       "    .dataframe tbody tr th:only-of-type {\n",
       "        vertical-align: middle;\n",
       "    }\n",
       "\n",
       "    .dataframe tbody tr th {\n",
       "        vertical-align: top;\n",
       "    }\n",
       "\n",
       "    .dataframe thead th {\n",
       "        text-align: right;\n",
       "    }\n",
       "</style>\n",
       "<table border=\"1\" class=\"dataframe\">\n",
       "  <thead>\n",
       "    <tr style=\"text-align: right;\">\n",
       "      <th></th>\n",
       "      <th>sourceProject</th>\n",
       "      <th>sourceScan</th>\n",
       "      <th>sourceRootProject</th>\n",
       "      <th>isDifferentTargetProject</th>\n",
       "      <th>isDifferentTargetScan</th>\n",
       "      <th>isDifferentTargetRootProject</th>\n",
       "      <th>distance</th>\n",
       "      <th>distanceTotalPairCount</th>\n",
       "      <th>distanceTotalSourceCount</th>\n",
       "      <th>distanceTotalTargetCount</th>\n",
       "      <th>pairCount</th>\n",
       "      <th>sourceNodeCount</th>\n",
       "      <th>targetNodeCount</th>\n",
       "      <th>examples</th>\n",
       "      <th>exampleProjects</th>\n",
       "      <th>exampleScans</th>\n",
       "    </tr>\n",
       "  </thead>\n",
       "  <tbody>\n",
       "    <tr>\n",
       "      <th>0</th>\n",
       "      <td>react-router</td>\n",
       "      <td>react-router</td>\n",
       "      <td>react-router-6.28.1</td>\n",
       "      <td>True</td>\n",
       "      <td>True</td>\n",
       "      <td>False</td>\n",
       "      <td>1</td>\n",
       "      <td>2</td>\n",
       "      <td>2</td>\n",
       "      <td>2</td>\n",
       "      <td>2</td>\n",
       "      <td>1</td>\n",
       "      <td>1</td>\n",
       "      <td>[./index.ts -&gt; ./index.tsx]</td>\n",
       "      <td>[react-router -&gt; react-router-dom]</td>\n",
       "      <td>[react-router -&gt; react-router-dom, react-router -&gt; react-router-6.28.1]</td>\n",
       "    </tr>\n",
       "    <tr>\n",
       "      <th>1</th>\n",
       "      <td>react-router</td>\n",
       "      <td>react-router-6.28.1</td>\n",
       "      <td>react-router-6.28.1</td>\n",
       "      <td>True</td>\n",
       "      <td>True</td>\n",
       "      <td>False</td>\n",
       "      <td>1</td>\n",
       "      <td>2</td>\n",
       "      <td>2</td>\n",
       "      <td>2</td>\n",
       "      <td>1</td>\n",
       "      <td>1</td>\n",
       "      <td>1</td>\n",
       "      <td>[./index.ts -&gt; ./index.tsx]</td>\n",
       "      <td>[react-router -&gt; react-router-dom]</td>\n",
       "      <td>[react-router-6.28.1 -&gt; react-router-dom]</td>\n",
       "    </tr>\n",
       "    <tr>\n",
       "      <th>2</th>\n",
       "      <td>react-router</td>\n",
       "      <td>react-router-6.28.1</td>\n",
       "      <td>react-router-6.28.1</td>\n",
       "      <td>True</td>\n",
       "      <td>False</td>\n",
       "      <td>False</td>\n",
       "      <td>1</td>\n",
       "      <td>2</td>\n",
       "      <td>2</td>\n",
       "      <td>2</td>\n",
       "      <td>1</td>\n",
       "      <td>1</td>\n",
       "      <td>1</td>\n",
       "      <td>[./index.ts -&gt; ./index.tsx]</td>\n",
       "      <td>[react-router -&gt; react-router-dom]</td>\n",
       "      <td>[react-router-6.28.1 -&gt; react-router-6.28.1]</td>\n",
       "    </tr>\n",
       "    <tr>\n",
       "      <th>3</th>\n",
       "      <td>react-router-dom</td>\n",
       "      <td>react-router-dom</td>\n",
       "      <td>react-router-6.28.1</td>\n",
       "      <td>True</td>\n",
       "      <td>True</td>\n",
       "      <td>False</td>\n",
       "      <td>1</td>\n",
       "      <td>2</td>\n",
       "      <td>2</td>\n",
       "      <td>2</td>\n",
       "      <td>2</td>\n",
       "      <td>1</td>\n",
       "      <td>1</td>\n",
       "      <td>[./server.tsx -&gt; ./index.tsx]</td>\n",
       "      <td>[react-router-dom -&gt; react-router-native]</td>\n",
       "      <td>[react-router-dom -&gt; react-router-native, react-router-dom -&gt; react-router-6.28.1]</td>\n",
       "    </tr>\n",
       "    <tr>\n",
       "      <th>4</th>\n",
       "      <td>react-router-dom</td>\n",
       "      <td>react-router-6.28.1</td>\n",
       "      <td>react-router-6.28.1</td>\n",
       "      <td>True</td>\n",
       "      <td>True</td>\n",
       "      <td>False</td>\n",
       "      <td>1</td>\n",
       "      <td>2</td>\n",
       "      <td>2</td>\n",
       "      <td>2</td>\n",
       "      <td>1</td>\n",
       "      <td>1</td>\n",
       "      <td>1</td>\n",
       "      <td>[./server.tsx -&gt; ./index.tsx]</td>\n",
       "      <td>[react-router-dom -&gt; react-router-native]</td>\n",
       "      <td>[react-router-6.28.1 -&gt; react-router-native]</td>\n",
       "    </tr>\n",
       "    <tr>\n",
       "      <th>5</th>\n",
       "      <td>react-router-dom</td>\n",
       "      <td>react-router-6.28.1</td>\n",
       "      <td>react-router-6.28.1</td>\n",
       "      <td>True</td>\n",
       "      <td>False</td>\n",
       "      <td>False</td>\n",
       "      <td>1</td>\n",
       "      <td>2</td>\n",
       "      <td>2</td>\n",
       "      <td>2</td>\n",
       "      <td>1</td>\n",
       "      <td>1</td>\n",
       "      <td>1</td>\n",
       "      <td>[./server.tsx -&gt; ./index.tsx]</td>\n",
       "      <td>[react-router-dom -&gt; react-router-native]</td>\n",
       "      <td>[react-router-6.28.1 -&gt; react-router-6.28.1]</td>\n",
       "    </tr>\n",
       "  </tbody>\n",
       "</table>\n",
       "</div>"
      ],
      "text/plain": [
       "      sourceProject           sourceScan    sourceRootProject  \\\n",
       "0      react-router         react-router  react-router-6.28.1   \n",
       "1      react-router  react-router-6.28.1  react-router-6.28.1   \n",
       "2      react-router  react-router-6.28.1  react-router-6.28.1   \n",
       "3  react-router-dom     react-router-dom  react-router-6.28.1   \n",
       "4  react-router-dom  react-router-6.28.1  react-router-6.28.1   \n",
       "5  react-router-dom  react-router-6.28.1  react-router-6.28.1   \n",
       "\n",
       "   isDifferentTargetProject  isDifferentTargetScan  \\\n",
       "0                      True                   True   \n",
       "1                      True                   True   \n",
       "2                      True                  False   \n",
       "3                      True                   True   \n",
       "4                      True                   True   \n",
       "5                      True                  False   \n",
       "\n",
       "   isDifferentTargetRootProject  distance  distanceTotalPairCount  \\\n",
       "0                         False         1                       2   \n",
       "1                         False         1                       2   \n",
       "2                         False         1                       2   \n",
       "3                         False         1                       2   \n",
       "4                         False         1                       2   \n",
       "5                         False         1                       2   \n",
       "\n",
       "   distanceTotalSourceCount  distanceTotalTargetCount  pairCount  \\\n",
       "0                         2                         2          2   \n",
       "1                         2                         2          1   \n",
       "2                         2                         2          1   \n",
       "3                         2                         2          2   \n",
       "4                         2                         2          1   \n",
       "5                         2                         2          1   \n",
       "\n",
       "   sourceNodeCount  targetNodeCount                       examples  \\\n",
       "0                1                1    [./index.ts -> ./index.tsx]   \n",
       "1                1                1    [./index.ts -> ./index.tsx]   \n",
       "2                1                1    [./index.ts -> ./index.tsx]   \n",
       "3                1                1  [./server.tsx -> ./index.tsx]   \n",
       "4                1                1  [./server.tsx -> ./index.tsx]   \n",
       "5                1                1  [./server.tsx -> ./index.tsx]   \n",
       "\n",
       "                             exampleProjects  \\\n",
       "0         [react-router -> react-router-dom]   \n",
       "1         [react-router -> react-router-dom]   \n",
       "2         [react-router -> react-router-dom]   \n",
       "3  [react-router-dom -> react-router-native]   \n",
       "4  [react-router-dom -> react-router-native]   \n",
       "5  [react-router-dom -> react-router-native]   \n",
       "\n",
       "                                                                         exampleScans  \n",
       "0             [react-router -> react-router-dom, react-router -> react-router-6.28.1]  \n",
       "1                                           [react-router-6.28.1 -> react-router-dom]  \n",
       "2                                        [react-router-6.28.1 -> react-router-6.28.1]  \n",
       "3  [react-router-dom -> react-router-native, react-router-dom -> react-router-6.28.1]  \n",
       "4                                        [react-router-6.28.1 -> react-router-native]  \n",
       "5                                        [react-router-6.28.1 -> react-router-6.28.1]  "
      ]
     },
     "execution_count": 58,
     "metadata": {},
     "output_type": "execute_result"
    }
   ],
   "source": [
    "longest_paths_distribution_per_root_project_isolated=longest_paths_distribution_per_project.query('isDifferentTargetRootProject == False')\n",
    "longest_paths_distribution_per_root_project_isolated.head(10)"
   ]
  },
  {
   "cell_type": "markdown",
   "id": "a6c0e349",
   "metadata": {},
   "source": [
    "#### Longest path for each root project - Max. longest path for each root project\n",
    "\n",
    "Shows the top 20 root projects with their max. longest path."
   ]
  },
  {
   "cell_type": "code",
   "execution_count": 59,
   "id": "236ec07d",
   "metadata": {
    "execution": {
     "iopub.execute_input": "2025-01-19T19:32:09.527444Z",
     "iopub.status.busy": "2025-01-19T19:32:09.527314Z",
     "iopub.status.idle": "2025-01-19T19:32:09.531566Z",
     "shell.execute_reply": "2025-01-19T19:32:09.531103Z"
    }
   },
   "outputs": [
    {
     "data": {
      "text/plain": [
       "sourceRootProject\n",
       "react-router-6.28.1    1\n",
       "Name: distance, dtype: int64"
      ]
     },
     "execution_count": 59,
     "metadata": {},
     "output_type": "execute_result"
    }
   ],
   "source": [
    "longest_path_per_root_project = get_longest_path_for_column('sourceRootProject', longest_paths_distribution_per_root_project_isolated)\n",
    "longest_path_per_root_project.head(20)"
   ]
  },
  {
   "cell_type": "code",
   "execution_count": 60,
   "id": "37215d21",
   "metadata": {
    "execution": {
     "iopub.execute_input": "2025-01-19T19:32:09.533234Z",
     "iopub.status.busy": "2025-01-19T19:32:09.533103Z",
     "iopub.status.idle": "2025-01-19T19:32:09.627989Z",
     "shell.execute_reply": "2025-01-19T19:32:09.627600Z"
    }
   },
   "outputs": [
    {
     "data": {
      "image/png": "[encoded data removed]",
      "text/plain": [
       "<Figure size 1000x600 with 1 Axes>"
      ]
     },
     "metadata": {},
     "output_type": "display_data"
    }
   ],
   "source": [
    "plot_longest_distance_of_each_row(\n",
    "    data_frame=longest_path_per_root_project,\n",
    "    title='Max. longest path for Typescript module dependencies per root project',\n",
    "    xlabel='Module',\n",
    "    ylabel='max. longest path length'\n",
    ")"
   ]
  },
  {
   "cell_type": "markdown",
   "id": "8622d0f2",
   "metadata": {},
   "source": [
    "#### Longest path for each root project - Bar chart (absolute)"
   ]
  },
  {
   "cell_type": "code",
   "execution_count": 61,
   "id": "f70894c2",
   "metadata": {
    "execution": {
     "iopub.execute_input": "2025-01-19T19:32:09.629774Z",
     "iopub.status.busy": "2025-01-19T19:32:09.629630Z",
     "iopub.status.idle": "2025-01-19T19:32:09.635094Z",
     "shell.execute_reply": "2025-01-19T19:32:09.634675Z"
    }
   },
   "outputs": [],
   "source": [
    "longest_paths_distribution_per_root_project_isolated_pivot = get_distance_distribution_for_each('sourceRootProject', longest_paths_distribution_per_root_project_isolated)"
   ]
  },
  {
   "cell_type": "code",
   "execution_count": 62,
   "id": "675b71b9",
   "metadata": {
    "execution": {
     "iopub.execute_input": "2025-01-19T19:32:09.636735Z",
     "iopub.status.busy": "2025-01-19T19:32:09.636591Z",
     "iopub.status.idle": "2025-01-19T19:32:09.804550Z",
     "shell.execute_reply": "2025-01-19T19:32:09.804057Z"
    }
   },
   "outputs": [
    {
     "data": {
      "text/plain": [
       "<Figure size 640x480 with 0 Axes>"
      ]
     },
     "metadata": {},
     "output_type": "display_data"
    },
    {
     "data": {
      "image/png": "[encoded data removed]",
      "text/plain": [
       "<Figure size 1000x600 with 1 Axes>"
      ]
     },
     "metadata": {},
     "output_type": "display_data"
    }
   ],
   "source": [
    "plot_stacked_distances_for_each_row(\n",
    "    data_frame=longest_paths_distribution_per_root_project_isolated_pivot,\n",
    "    title='Longest path for Typescript module dependencies stacked per root project (absolute, logarithmic)',\n",
    "    xlabel='Module',\n",
    "    ylabel='Typescript module paths',\n",
    "    logy=True\n",
    ")"
   ]
  },
  {
   "cell_type": "markdown",
   "id": "47bb4916",
   "metadata": {},
   "source": [
    "#### Longest path for each root project - Bar chart (normalized)\n",
    "\n",
    "Shows the top 50 root projects with the highest number of dependency paths stacked by their length."
   ]
  },
  {
   "cell_type": "code",
   "execution_count": 63,
   "id": "4426a2f7",
   "metadata": {
    "execution": {
     "iopub.execute_input": "2025-01-19T19:32:09.806499Z",
     "iopub.status.busy": "2025-01-19T19:32:09.806351Z",
     "iopub.status.idle": "2025-01-19T19:32:09.811543Z",
     "shell.execute_reply": "2025-01-19T19:32:09.811039Z"
    }
   },
   "outputs": [
    {
     "data": {
      "text/html": [
       "<div>\n",
       "<style scoped>\n",
       "    .dataframe tbody tr th:only-of-type {\n",
       "        vertical-align: middle;\n",
       "    }\n",
       "\n",
       "    .dataframe tbody tr th {\n",
       "        vertical-align: top;\n",
       "    }\n",
       "\n",
       "    .dataframe thead th {\n",
       "        text-align: right;\n",
       "    }\n",
       "</style>\n",
       "<table border=\"1\" class=\"dataframe\">\n",
       "  <thead>\n",
       "    <tr style=\"text-align: right;\">\n",
       "      <th>distance</th>\n",
       "      <th>1</th>\n",
       "    </tr>\n",
       "    <tr>\n",
       "      <th>sourceRootProject</th>\n",
       "      <th></th>\n",
       "    </tr>\n",
       "  </thead>\n",
       "  <tbody>\n",
       "    <tr>\n",
       "      <th>react-router-6.28.1</th>\n",
       "      <td>100.0</td>\n",
       "    </tr>\n",
       "  </tbody>\n",
       "</table>\n",
       "</div>"
      ],
      "text/plain": [
       "distance                 1\n",
       "sourceRootProject         \n",
       "react-router-6.28.1  100.0"
      ]
     },
     "execution_count": 63,
     "metadata": {},
     "output_type": "execute_result"
    }
   ],
   "source": [
    "# Normalize data (percent of sum pairs)\n",
    "longest_paths_distribution_per_root_project_isolated_normalized_pivot=normalize_distance_distribution_for_each_row(longest_paths_distribution_per_root_project_isolated_pivot)\n",
    "longest_paths_distribution_per_root_project_isolated_normalized_pivot.head(50)"
   ]
  },
  {
   "cell_type": "code",
   "execution_count": 64,
   "id": "f4d85859",
   "metadata": {
    "execution": {
     "iopub.execute_input": "2025-01-19T19:32:09.813597Z",
     "iopub.status.busy": "2025-01-19T19:32:09.813273Z",
     "iopub.status.idle": "2025-01-19T19:32:09.923115Z",
     "shell.execute_reply": "2025-01-19T19:32:09.922622Z"
    }
   },
   "outputs": [
    {
     "data": {
      "text/plain": [
       "<Figure size 640x480 with 0 Axes>"
      ]
     },
     "metadata": {},
     "output_type": "display_data"
    },
    {
     "data": {
      "image/png": "[encoded data removed]",
      "text/plain": [
       "<Figure size 1000x600 with 1 Axes>"
      ]
     },
     "metadata": {},
     "output_type": "display_data"
    }
   ],
   "source": [
    "plot_stacked_distances_for_each_row(\n",
    "    data_frame=longest_paths_distribution_per_root_project_isolated_normalized_pivot.head(50),\n",
    "    title='Longest path for Typescript module dependencies stacked per root project (normalized in %)',\n",
    "    xlabel='Root project',\n",
    "    ylabel='Typescript module paths'\n",
    ")"
   ]
  },
  {
   "cell_type": "markdown",
   "id": "82025919",
   "metadata": {},
   "source": [
    "## 3. Summary"
   ]
  },
  {
   "cell_type": "markdown",
   "id": "701bcb1c",
   "metadata": {},
   "source": [
    "### 3.1 Typescript modules summary"
   ]
  },
  {
   "cell_type": "code",
   "execution_count": 65,
   "id": "a6d16c65",
   "metadata": {
    "execution": {
     "iopub.execute_input": "2025-01-19T19:32:09.925296Z",
     "iopub.status.busy": "2025-01-19T19:32:09.925005Z",
     "iopub.status.idle": "2025-01-19T19:32:09.931797Z",
     "shell.execute_reply": "2025-01-19T19:32:09.931322Z"
    }
   },
   "outputs": [
    {
     "data": {
      "text/html": [
       "<div>\n",
       "<style scoped>\n",
       "    .dataframe tbody tr th:only-of-type {\n",
       "        vertical-align: middle;\n",
       "    }\n",
       "\n",
       "    .dataframe tbody tr th {\n",
       "        vertical-align: top;\n",
       "    }\n",
       "\n",
       "    .dataframe thead th {\n",
       "        text-align: right;\n",
       "    }\n",
       "</style>\n",
       "<table border=\"1\" class=\"dataframe\">\n",
       "  <thead>\n",
       "    <tr style=\"text-align: right;\">\n",
       "      <th></th>\n",
       "      <th>count</th>\n",
       "      <th>degree density</th>\n",
       "      <th>degree median</th>\n",
       "      <th>degree max</th>\n",
       "      <th>longest shortest path (diameter)</th>\n",
       "      <th>max. longest path</th>\n",
       "    </tr>\n",
       "  </thead>\n",
       "  <tbody>\n",
       "    <tr>\n",
       "      <th>0</th>\n",
       "      <td>6</td>\n",
       "      <td>0.166667</td>\n",
       "      <td>1</td>\n",
       "      <td>2</td>\n",
       "      <td>2</td>\n",
       "      <td>1</td>\n",
       "    </tr>\n",
       "  </tbody>\n",
       "</table>\n",
       "</div>"
      ],
      "text/plain": [
       "   count  degree density  degree median  degree max  \\\n",
       "0      6        0.166667              1           2   \n",
       "\n",
       "   longest shortest path (diameter)  max. longest path  \n",
       "0                                 2                  1  "
      ]
     },
     "execution_count": 65,
     "metadata": {},
     "output_type": "execute_result"
    }
   ],
   "source": [
    "module_path_algorithm_summary_values = {\n",
    "    'count': module_projection_statistics.nodeCount[0] if not module_projection_statistics.empty else 0, \n",
    "    'degree density': module_projection_statistics.density[0] if not module_projection_statistics.empty else 0, \n",
    "    'degree median': module_projection_statistics['degreeDistribution.p50'][0] if not module_projection_statistics.empty else 0,\n",
    "    'degree max': module_projection_statistics['degreeDistribution.max'][0] if not module_projection_statistics.empty else 0,\n",
    "    'longest shortest path (diameter)': module_dependencies_graph_diameter,\n",
    "    'max. longest path': module_dependencies_max_longest_path\n",
    "}\n",
    "module_path_algorithm_summary = pd.DataFrame.from_records([module_path_algorithm_summary_values])\n",
    "module_path_algorithm_summary"
   ]
  }
 ],
 "metadata": {
  "authors": [
   {
    "name": "JohT"
   }
  ],
  "code_graph_analysis_pipeline_data_validation": "ValidateTypescriptModuleDependencies",
  "kernelspec": {
   "display_name": "codegraph",
   "language": "python",
   "name": "python3"
  },
  "language_info": {
   "codemirror_mode": {
    "name": "ipython",
    "version": 3
   },
   "file_extension": ".py",
   "mimetype": "text/x-python",
   "name": "python",
   "nbconvert_exporter": "python",
   "pygments_lexer": "ipython3",
   "version": "3.11.0"
  },
  "title": "Path finding algorithms for Typescript module dependencies with Neo4j"
 },
 "nbformat": 4,
 "nbformat_minor": 5
}
