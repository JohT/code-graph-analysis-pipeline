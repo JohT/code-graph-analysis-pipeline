{
 "cells": [
  {
   "attachments": {},
   "cell_type": "markdown",
   "id": "2f0eabc4",
   "metadata": {},
   "source": [
    "# Internal Dependencies\n",
    "<br>  \n",
    "\n",
    "### References\n",
    "- [Analyze java package metrics in a graph database](https://joht.github.io/johtizen/data/2023/04/21/java-package-metrics-analysis.html)\n",
    "- [Calculate metrics](https://101.jqassistant.org/calculate-metrics/index.html)\n",
    "- [Neo4j Python Driver](https://neo4j.com/docs/api/python-driver/current)"
   ]
  },
  {
   "cell_type": "code",
   "execution_count": 1,
   "id": "4191f259",
   "metadata": {
    "execution": {
     "iopub.execute_input": "2024-07-22T17:59:58.665170Z",
     "iopub.status.busy": "2024-07-22T17:59:58.664988Z",
     "iopub.status.idle": "2024-07-22T17:59:59.189888Z",
     "shell.execute_reply": "2024-07-22T17:59:59.189350Z"
    }
   },
   "outputs": [],
   "source": [
    "import os\n",
    "import pandas as pd\n",
    "import matplotlib.pyplot as plot\n",
    "from neo4j import GraphDatabase"
   ]
  },
  {
   "cell_type": "code",
   "execution_count": 2,
   "id": "1c5dab37",
   "metadata": {
    "execution": {
     "iopub.execute_input": "2024-07-22T17:59:59.192647Z",
     "iopub.status.busy": "2024-07-22T17:59:59.192247Z",
     "iopub.status.idle": "2024-07-22T17:59:59.200449Z",
     "shell.execute_reply": "2024-07-22T17:59:59.199975Z"
    }
   },
   "outputs": [],
   "source": [
    "# Please set the environment variable \"NEO4J_INITIAL_PASSWORD\" in your shell \n",
    "# before starting jupyter notebook to provide the password for the user \"neo4j\". \n",
    "# It is not recommended to hardcode the password into jupyter notebook for security reasons.\n",
    "\n",
    "driver = GraphDatabase.driver(uri=\"bolt://localhost:7687\", auth=(\"neo4j\", os.environ.get(\"NEO4J_INITIAL_PASSWORD\")))\n",
    "driver.verify_connectivity()"
   ]
  },
  {
   "cell_type": "code",
   "execution_count": 3,
   "id": "c1db254b",
   "metadata": {
    "execution": {
     "iopub.execute_input": "2024-07-22T17:59:59.202954Z",
     "iopub.status.busy": "2024-07-22T17:59:59.202524Z",
     "iopub.status.idle": "2024-07-22T17:59:59.205265Z",
     "shell.execute_reply": "2024-07-22T17:59:59.204871Z"
    }
   },
   "outputs": [],
   "source": [
    "def get_cypher_query_from_file(cypherFileName):\n",
    "    with open(cypherFileName) as file:\n",
    "        return ' '.join(file.readlines())"
   ]
  },
  {
   "cell_type": "code",
   "execution_count": 4,
   "id": "59310f6f",
   "metadata": {
    "execution": {
     "iopub.execute_input": "2024-07-22T17:59:59.207177Z",
     "iopub.status.busy": "2024-07-22T17:59:59.206883Z",
     "iopub.status.idle": "2024-07-22T17:59:59.209894Z",
     "shell.execute_reply": "2024-07-22T17:59:59.209493Z"
    }
   },
   "outputs": [],
   "source": [
    "def query_cypher_to_data_frame(filename : str, limit: int = 10_000):\n",
    "    cypher_query_template = \"{query}\\nLIMIT {row_limit}\"\n",
    "    cypher_query = get_cypher_query_from_file(filename)\n",
    "    cypher_query = cypher_query_template.format(query = cypher_query, row_limit = limit)\n",
    "    records, summary, keys = driver.execute_query(cypher_query)\n",
    "    return pd.DataFrame([r.values() for r in records], columns=keys)"
   ]
  },
  {
   "cell_type": "code",
   "execution_count": 5,
   "id": "a56670c9",
   "metadata": {
    "execution": {
     "iopub.execute_input": "2024-07-22T17:59:59.211599Z",
     "iopub.status.busy": "2024-07-22T17:59:59.211450Z",
     "iopub.status.idle": "2024-07-22T17:59:59.213738Z",
     "shell.execute_reply": "2024-07-22T17:59:59.213252Z"
    }
   },
   "outputs": [],
   "source": [
    "#The following cell uses the build-in %html \"magic\" to override the CSS style for tables to a much smaller size.\n",
    "#This is especially needed for PDF export of tables with multiple columns."
   ]
  },
  {
   "cell_type": "code",
   "execution_count": 6,
   "id": "006b9dc8",
   "metadata": {
    "execution": {
     "iopub.execute_input": "2024-07-22T17:59:59.215553Z",
     "iopub.status.busy": "2024-07-22T17:59:59.215411Z",
     "iopub.status.idle": "2024-07-22T17:59:59.222019Z",
     "shell.execute_reply": "2024-07-22T17:59:59.221585Z"
    }
   },
   "outputs": [
    {
     "data": {
      "text/html": [
       "<style>\n",
       "/* CSS style for smaller dataframe tables. */\n",
       ".dataframe th {\n",
       "    font-size: 8px;\n",
       "}\n",
       ".dataframe td {\n",
       "    font-size: 8px;\n",
       "}\n",
       "</style>\n"
      ],
      "text/plain": [
       "<IPython.core.display.HTML object>"
      ]
     },
     "metadata": {},
     "output_type": "display_data"
    }
   ],
   "source": [
    "%%html\n",
    "<style>\n",
    "/* CSS style for smaller dataframe tables. */\n",
    ".dataframe th {\n",
    "    font-size: 8px;\n",
    "}\n",
    ".dataframe td {\n",
    "    font-size: 8px;\n",
    "}\n",
    "</style>"
   ]
  },
  {
   "attachments": {},
   "cell_type": "markdown",
   "id": "91d80bf7",
   "metadata": {},
   "source": [
    "## 1 - Modules\n",
    "\n",
    "List the modules this notebook is based on. Different sorting variations help finding modules by their features and support larger code bases where the list of all modules gets very long.\n",
    "\n",
    "Only the top 30 entries are shown. The whole table can be found in the following CSV report:  \n",
    "`List_all_Typescript_modules`"
   ]
  },
  {
   "cell_type": "code",
   "execution_count": 7,
   "id": "dc682db6",
   "metadata": {
    "execution": {
     "iopub.execute_input": "2024-07-22T17:59:59.223921Z",
     "iopub.status.busy": "2024-07-22T17:59:59.223782Z",
     "iopub.status.idle": "2024-07-22T17:59:59.254174Z",
     "shell.execute_reply": "2024-07-22T17:59:59.253651Z"
    }
   },
   "outputs": [],
   "source": [
    "internalModules = query_cypher_to_data_frame(\"../cypher/Internal_Dependencies/List_all_Typescript_modules.cypher\")"
   ]
  },
  {
   "cell_type": "markdown",
   "id": "e48ead1b",
   "metadata": {},
   "source": [
    "### Table 1a - Top 30 modules with the highest element count"
   ]
  },
  {
   "cell_type": "code",
   "execution_count": 8,
   "id": "f822ddca",
   "metadata": {
    "execution": {
     "iopub.execute_input": "2024-07-22T17:59:59.256784Z",
     "iopub.status.busy": "2024-07-22T17:59:59.256431Z",
     "iopub.status.idle": "2024-07-22T17:59:59.265840Z",
     "shell.execute_reply": "2024-07-22T17:59:59.265412Z"
    }
   },
   "outputs": [
    {
     "data": {
      "text/html": [
       "<div>\n",
       "<style scoped>\n",
       "    .dataframe tbody tr th:only-of-type {\n",
       "        vertical-align: middle;\n",
       "    }\n",
       "\n",
       "    .dataframe tbody tr th {\n",
       "        vertical-align: top;\n",
       "    }\n",
       "\n",
       "    .dataframe thead th {\n",
       "        text-align: right;\n",
       "    }\n",
       "</style>\n",
       "<table border=\"1\" class=\"dataframe\">\n",
       "  <thead>\n",
       "    <tr style=\"text-align: right;\">\n",
       "      <th></th>\n",
       "      <th>moduleName</th>\n",
       "      <th>numberOfElements</th>\n",
       "      <th>incomingDependencies</th>\n",
       "      <th>outgoingDependencies</th>\n",
       "      <th>moduleFullQualifiedName</th>\n",
       "    </tr>\n",
       "  </thead>\n",
       "  <tbody>\n",
       "    <tr>\n",
       "      <th>0</th>\n",
       "      <td>react-router-dom</td>\n",
       "      <td>35</td>\n",
       "      <td>2</td>\n",
       "      <td>146</td>\n",
       "      <td>/home/runner/work/code-graph-analysis-pipeline...</td>\n",
       "    </tr>\n",
       "    <tr>\n",
       "      <th>1</th>\n",
       "      <td>react-router-native</td>\n",
       "      <td>12</td>\n",
       "      <td>0</td>\n",
       "      <td>24</td>\n",
       "      <td>/home/runner/work/code-graph-analysis-pipeline...</td>\n",
       "    </tr>\n",
       "    <tr>\n",
       "      <th>2</th>\n",
       "      <td>react-router</td>\n",
       "      <td>6</td>\n",
       "      <td>19</td>\n",
       "      <td>17</td>\n",
       "      <td>/home/runner/work/code-graph-analysis-pipeline...</td>\n",
       "    </tr>\n",
       "    <tr>\n",
       "      <th>3</th>\n",
       "      <td>server</td>\n",
       "      <td>6</td>\n",
       "      <td>0</td>\n",
       "      <td>40</td>\n",
       "      <td>/home/runner/work/code-graph-analysis-pipeline...</td>\n",
       "    </tr>\n",
       "  </tbody>\n",
       "</table>\n",
       "</div>"
      ],
      "text/plain": [
       "            moduleName  numberOfElements  incomingDependencies  \\\n",
       "0     react-router-dom                35                     2   \n",
       "1  react-router-native                12                     0   \n",
       "2         react-router                 6                    19   \n",
       "3               server                 6                     0   \n",
       "\n",
       "   outgoingDependencies                            moduleFullQualifiedName  \n",
       "0                   146  /home/runner/work/code-graph-analysis-pipeline...  \n",
       "1                    24  /home/runner/work/code-graph-analysis-pipeline...  \n",
       "2                    17  /home/runner/work/code-graph-analysis-pipeline...  \n",
       "3                    40  /home/runner/work/code-graph-analysis-pipeline...  "
      ]
     },
     "execution_count": 8,
     "metadata": {},
     "output_type": "execute_result"
    }
   ],
   "source": [
    "# Sort by number of modules descending\n",
    "internalModules.sort_values(by=['numberOfElements','moduleName'], ascending=[False, True]).reset_index(drop=True).head(30)"
   ]
  },
  {
   "cell_type": "markdown",
   "id": "1e508a21",
   "metadata": {},
   "source": [
    "### Table 1b - Top 30 modules with the highest number of incoming dependencies\n",
    "\n",
    "The following table lists the top 30 internal modules that are used the most by other modules (highest count of incoming dependencies, highest in-degree)."
   ]
  },
  {
   "cell_type": "code",
   "execution_count": 9,
   "id": "107c0a1a",
   "metadata": {
    "execution": {
     "iopub.execute_input": "2024-07-22T17:59:59.267775Z",
     "iopub.status.busy": "2024-07-22T17:59:59.267627Z",
     "iopub.status.idle": "2024-07-22T17:59:59.274401Z",
     "shell.execute_reply": "2024-07-22T17:59:59.273950Z"
    }
   },
   "outputs": [
    {
     "data": {
      "text/html": [
       "<div>\n",
       "<style scoped>\n",
       "    .dataframe tbody tr th:only-of-type {\n",
       "        vertical-align: middle;\n",
       "    }\n",
       "\n",
       "    .dataframe tbody tr th {\n",
       "        vertical-align: top;\n",
       "    }\n",
       "\n",
       "    .dataframe thead th {\n",
       "        text-align: right;\n",
       "    }\n",
       "</style>\n",
       "<table border=\"1\" class=\"dataframe\">\n",
       "  <thead>\n",
       "    <tr style=\"text-align: right;\">\n",
       "      <th></th>\n",
       "      <th>moduleName</th>\n",
       "      <th>numberOfElements</th>\n",
       "      <th>incomingDependencies</th>\n",
       "      <th>outgoingDependencies</th>\n",
       "      <th>moduleFullQualifiedName</th>\n",
       "    </tr>\n",
       "  </thead>\n",
       "  <tbody>\n",
       "    <tr>\n",
       "      <th>0</th>\n",
       "      <td>react-router</td>\n",
       "      <td>6</td>\n",
       "      <td>19</td>\n",
       "      <td>17</td>\n",
       "      <td>/home/runner/work/code-graph-analysis-pipeline...</td>\n",
       "    </tr>\n",
       "    <tr>\n",
       "      <th>1</th>\n",
       "      <td>react-router-dom</td>\n",
       "      <td>35</td>\n",
       "      <td>2</td>\n",
       "      <td>146</td>\n",
       "      <td>/home/runner/work/code-graph-analysis-pipeline...</td>\n",
       "    </tr>\n",
       "    <tr>\n",
       "      <th>2</th>\n",
       "      <td>react-router-native</td>\n",
       "      <td>12</td>\n",
       "      <td>0</td>\n",
       "      <td>24</td>\n",
       "      <td>/home/runner/work/code-graph-analysis-pipeline...</td>\n",
       "    </tr>\n",
       "    <tr>\n",
       "      <th>3</th>\n",
       "      <td>server</td>\n",
       "      <td>6</td>\n",
       "      <td>0</td>\n",
       "      <td>40</td>\n",
       "      <td>/home/runner/work/code-graph-analysis-pipeline...</td>\n",
       "    </tr>\n",
       "  </tbody>\n",
       "</table>\n",
       "</div>"
      ],
      "text/plain": [
       "            moduleName  numberOfElements  incomingDependencies  \\\n",
       "0         react-router                 6                    19   \n",
       "1     react-router-dom                35                     2   \n",
       "2  react-router-native                12                     0   \n",
       "3               server                 6                     0   \n",
       "\n",
       "   outgoingDependencies                            moduleFullQualifiedName  \n",
       "0                    17  /home/runner/work/code-graph-analysis-pipeline...  \n",
       "1                   146  /home/runner/work/code-graph-analysis-pipeline...  \n",
       "2                    24  /home/runner/work/code-graph-analysis-pipeline...  \n",
       "3                    40  /home/runner/work/code-graph-analysis-pipeline...  "
      ]
     },
     "execution_count": 9,
     "metadata": {},
     "output_type": "execute_result"
    }
   ],
   "source": [
    "# Sort by number of incoming dependencies descending\n",
    "internalModules.sort_values(by=['incomingDependencies','moduleName'], ascending=[False, True]).reset_index(drop=True).head(30)"
   ]
  },
  {
   "cell_type": "markdown",
   "id": "52593397",
   "metadata": {},
   "source": [
    "### Table 1c - Top 30 modules with the highest number of outgoing dependencies\n",
    "\n",
    "The following table lists the top 30 internal modules that are depending on the highest number of other modules (highest count of outgoing dependencies, highest out-degree)."
   ]
  },
  {
   "cell_type": "code",
   "execution_count": 10,
   "id": "eee13bd8",
   "metadata": {
    "execution": {
     "iopub.execute_input": "2024-07-22T17:59:59.276417Z",
     "iopub.status.busy": "2024-07-22T17:59:59.276120Z",
     "iopub.status.idle": "2024-07-22T17:59:59.282290Z",
     "shell.execute_reply": "2024-07-22T17:59:59.281877Z"
    }
   },
   "outputs": [
    {
     "data": {
      "text/html": [
       "<div>\n",
       "<style scoped>\n",
       "    .dataframe tbody tr th:only-of-type {\n",
       "        vertical-align: middle;\n",
       "    }\n",
       "\n",
       "    .dataframe tbody tr th {\n",
       "        vertical-align: top;\n",
       "    }\n",
       "\n",
       "    .dataframe thead th {\n",
       "        text-align: right;\n",
       "    }\n",
       "</style>\n",
       "<table border=\"1\" class=\"dataframe\">\n",
       "  <thead>\n",
       "    <tr style=\"text-align: right;\">\n",
       "      <th></th>\n",
       "      <th>moduleName</th>\n",
       "      <th>numberOfElements</th>\n",
       "      <th>incomingDependencies</th>\n",
       "      <th>outgoingDependencies</th>\n",
       "      <th>moduleFullQualifiedName</th>\n",
       "    </tr>\n",
       "  </thead>\n",
       "  <tbody>\n",
       "    <tr>\n",
       "      <th>0</th>\n",
       "      <td>react-router-dom</td>\n",
       "      <td>35</td>\n",
       "      <td>2</td>\n",
       "      <td>146</td>\n",
       "      <td>/home/runner/work/code-graph-analysis-pipeline...</td>\n",
       "    </tr>\n",
       "    <tr>\n",
       "      <th>1</th>\n",
       "      <td>server</td>\n",
       "      <td>6</td>\n",
       "      <td>0</td>\n",
       "      <td>40</td>\n",
       "      <td>/home/runner/work/code-graph-analysis-pipeline...</td>\n",
       "    </tr>\n",
       "    <tr>\n",
       "      <th>2</th>\n",
       "      <td>react-router-native</td>\n",
       "      <td>12</td>\n",
       "      <td>0</td>\n",
       "      <td>24</td>\n",
       "      <td>/home/runner/work/code-graph-analysis-pipeline...</td>\n",
       "    </tr>\n",
       "    <tr>\n",
       "      <th>3</th>\n",
       "      <td>react-router</td>\n",
       "      <td>6</td>\n",
       "      <td>19</td>\n",
       "      <td>17</td>\n",
       "      <td>/home/runner/work/code-graph-analysis-pipeline...</td>\n",
       "    </tr>\n",
       "  </tbody>\n",
       "</table>\n",
       "</div>"
      ],
      "text/plain": [
       "            moduleName  numberOfElements  incomingDependencies  \\\n",
       "0     react-router-dom                35                     2   \n",
       "1               server                 6                     0   \n",
       "2  react-router-native                12                     0   \n",
       "3         react-router                 6                    19   \n",
       "\n",
       "   outgoingDependencies                            moduleFullQualifiedName  \n",
       "0                   146  /home/runner/work/code-graph-analysis-pipeline...  \n",
       "1                    40  /home/runner/work/code-graph-analysis-pipeline...  \n",
       "2                    24  /home/runner/work/code-graph-analysis-pipeline...  \n",
       "3                    17  /home/runner/work/code-graph-analysis-pipeline...  "
      ]
     },
     "execution_count": 10,
     "metadata": {},
     "output_type": "execute_result"
    }
   ],
   "source": [
    "# Sort by number of outgoing dependencies descending\n",
    "internalModules.sort_values(by=['outgoingDependencies','moduleName'], ascending=[False, True]).reset_index(drop=True).head(30)"
   ]
  },
  {
   "cell_type": "markdown",
   "id": "8c928800",
   "metadata": {},
   "source": [
    "### Table 1d - Top 30 modules with the lowest element count"
   ]
  },
  {
   "cell_type": "code",
   "execution_count": 11,
   "id": "18d73c15",
   "metadata": {
    "execution": {
     "iopub.execute_input": "2024-07-22T17:59:59.284372Z",
     "iopub.status.busy": "2024-07-22T17:59:59.283991Z",
     "iopub.status.idle": "2024-07-22T17:59:59.290541Z",
     "shell.execute_reply": "2024-07-22T17:59:59.290070Z"
    }
   },
   "outputs": [
    {
     "data": {
      "text/html": [
       "<div>\n",
       "<style scoped>\n",
       "    .dataframe tbody tr th:only-of-type {\n",
       "        vertical-align: middle;\n",
       "    }\n",
       "\n",
       "    .dataframe tbody tr th {\n",
       "        vertical-align: top;\n",
       "    }\n",
       "\n",
       "    .dataframe thead th {\n",
       "        text-align: right;\n",
       "    }\n",
       "</style>\n",
       "<table border=\"1\" class=\"dataframe\">\n",
       "  <thead>\n",
       "    <tr style=\"text-align: right;\">\n",
       "      <th></th>\n",
       "      <th>moduleName</th>\n",
       "      <th>numberOfElements</th>\n",
       "      <th>incomingDependencies</th>\n",
       "      <th>outgoingDependencies</th>\n",
       "      <th>moduleFullQualifiedName</th>\n",
       "    </tr>\n",
       "  </thead>\n",
       "  <tbody>\n",
       "    <tr>\n",
       "      <th>0</th>\n",
       "      <td>react-router</td>\n",
       "      <td>6</td>\n",
       "      <td>19</td>\n",
       "      <td>17</td>\n",
       "      <td>/home/runner/work/code-graph-analysis-pipeline...</td>\n",
       "    </tr>\n",
       "    <tr>\n",
       "      <th>1</th>\n",
       "      <td>server</td>\n",
       "      <td>6</td>\n",
       "      <td>0</td>\n",
       "      <td>40</td>\n",
       "      <td>/home/runner/work/code-graph-analysis-pipeline...</td>\n",
       "    </tr>\n",
       "    <tr>\n",
       "      <th>2</th>\n",
       "      <td>react-router-native</td>\n",
       "      <td>12</td>\n",
       "      <td>0</td>\n",
       "      <td>24</td>\n",
       "      <td>/home/runner/work/code-graph-analysis-pipeline...</td>\n",
       "    </tr>\n",
       "    <tr>\n",
       "      <th>3</th>\n",
       "      <td>react-router-dom</td>\n",
       "      <td>35</td>\n",
       "      <td>2</td>\n",
       "      <td>146</td>\n",
       "      <td>/home/runner/work/code-graph-analysis-pipeline...</td>\n",
       "    </tr>\n",
       "  </tbody>\n",
       "</table>\n",
       "</div>"
      ],
      "text/plain": [
       "            moduleName  numberOfElements  incomingDependencies  \\\n",
       "0         react-router                 6                    19   \n",
       "1               server                 6                     0   \n",
       "2  react-router-native                12                     0   \n",
       "3     react-router-dom                35                     2   \n",
       "\n",
       "   outgoingDependencies                            moduleFullQualifiedName  \n",
       "0                    17  /home/runner/work/code-graph-analysis-pipeline...  \n",
       "1                    40  /home/runner/work/code-graph-analysis-pipeline...  \n",
       "2                    24  /home/runner/work/code-graph-analysis-pipeline...  \n",
       "3                   146  /home/runner/work/code-graph-analysis-pipeline...  "
      ]
     },
     "execution_count": 11,
     "metadata": {},
     "output_type": "execute_result"
    }
   ],
   "source": [
    "# Sort by number of elements ascending\n",
    "internalModules.sort_values(by=['numberOfElements','moduleName'], ascending=[True, True]).reset_index(drop=True).head(30)"
   ]
  },
  {
   "cell_type": "markdown",
   "id": "9f628024",
   "metadata": {},
   "source": [
    "### Table 1e - Top 30 modules with the lowest number of incoming dependencies\n",
    "\n",
    "The following table lists the top 30 internal modules that are used the least by other modules (lowest count of incoming dependencies, lowest in-degree)."
   ]
  },
  {
   "cell_type": "code",
   "execution_count": 12,
   "id": "6100d597",
   "metadata": {
    "execution": {
     "iopub.execute_input": "2024-07-22T17:59:59.292623Z",
     "iopub.status.busy": "2024-07-22T17:59:59.292283Z",
     "iopub.status.idle": "2024-07-22T17:59:59.298584Z",
     "shell.execute_reply": "2024-07-22T17:59:59.298119Z"
    }
   },
   "outputs": [
    {
     "data": {
      "text/html": [
       "<div>\n",
       "<style scoped>\n",
       "    .dataframe tbody tr th:only-of-type {\n",
       "        vertical-align: middle;\n",
       "    }\n",
       "\n",
       "    .dataframe tbody tr th {\n",
       "        vertical-align: top;\n",
       "    }\n",
       "\n",
       "    .dataframe thead th {\n",
       "        text-align: right;\n",
       "    }\n",
       "</style>\n",
       "<table border=\"1\" class=\"dataframe\">\n",
       "  <thead>\n",
       "    <tr style=\"text-align: right;\">\n",
       "      <th></th>\n",
       "      <th>moduleName</th>\n",
       "      <th>numberOfElements</th>\n",
       "      <th>incomingDependencies</th>\n",
       "      <th>outgoingDependencies</th>\n",
       "      <th>moduleFullQualifiedName</th>\n",
       "    </tr>\n",
       "  </thead>\n",
       "  <tbody>\n",
       "    <tr>\n",
       "      <th>0</th>\n",
       "      <td>react-router-native</td>\n",
       "      <td>12</td>\n",
       "      <td>0</td>\n",
       "      <td>24</td>\n",
       "      <td>/home/runner/work/code-graph-analysis-pipeline...</td>\n",
       "    </tr>\n",
       "    <tr>\n",
       "      <th>1</th>\n",
       "      <td>server</td>\n",
       "      <td>6</td>\n",
       "      <td>0</td>\n",
       "      <td>40</td>\n",
       "      <td>/home/runner/work/code-graph-analysis-pipeline...</td>\n",
       "    </tr>\n",
       "    <tr>\n",
       "      <th>2</th>\n",
       "      <td>react-router-dom</td>\n",
       "      <td>35</td>\n",
       "      <td>2</td>\n",
       "      <td>146</td>\n",
       "      <td>/home/runner/work/code-graph-analysis-pipeline...</td>\n",
       "    </tr>\n",
       "    <tr>\n",
       "      <th>3</th>\n",
       "      <td>react-router</td>\n",
       "      <td>6</td>\n",
       "      <td>19</td>\n",
       "      <td>17</td>\n",
       "      <td>/home/runner/work/code-graph-analysis-pipeline...</td>\n",
       "    </tr>\n",
       "  </tbody>\n",
       "</table>\n",
       "</div>"
      ],
      "text/plain": [
       "            moduleName  numberOfElements  incomingDependencies  \\\n",
       "0  react-router-native                12                     0   \n",
       "1               server                 6                     0   \n",
       "2     react-router-dom                35                     2   \n",
       "3         react-router                 6                    19   \n",
       "\n",
       "   outgoingDependencies                            moduleFullQualifiedName  \n",
       "0                    24  /home/runner/work/code-graph-analysis-pipeline...  \n",
       "1                    40  /home/runner/work/code-graph-analysis-pipeline...  \n",
       "2                   146  /home/runner/work/code-graph-analysis-pipeline...  \n",
       "3                    17  /home/runner/work/code-graph-analysis-pipeline...  "
      ]
     },
     "execution_count": 12,
     "metadata": {},
     "output_type": "execute_result"
    }
   ],
   "source": [
    "# Sort by number of incoming dependencies ascending\n",
    "internalModules.sort_values(by=['incomingDependencies','moduleName'], ascending=[True, True]).reset_index(drop=True).head(30)"
   ]
  },
  {
   "cell_type": "markdown",
   "id": "ad07b654",
   "metadata": {},
   "source": [
    "### Table 1f - Top 30 modules with the lowest number of outgoing dependencies\n",
    "\n",
    "The following table lists the top 30 internal modules that are depending on the lowest number of other modules (lowest count of outgoing dependencies, lowest out-degree)."
   ]
  },
  {
   "cell_type": "code",
   "execution_count": 13,
   "id": "cd096a38",
   "metadata": {
    "execution": {
     "iopub.execute_input": "2024-07-22T17:59:59.300670Z",
     "iopub.status.busy": "2024-07-22T17:59:59.300386Z",
     "iopub.status.idle": "2024-07-22T17:59:59.306580Z",
     "shell.execute_reply": "2024-07-22T17:59:59.306189Z"
    }
   },
   "outputs": [
    {
     "data": {
      "text/html": [
       "<div>\n",
       "<style scoped>\n",
       "    .dataframe tbody tr th:only-of-type {\n",
       "        vertical-align: middle;\n",
       "    }\n",
       "\n",
       "    .dataframe tbody tr th {\n",
       "        vertical-align: top;\n",
       "    }\n",
       "\n",
       "    .dataframe thead th {\n",
       "        text-align: right;\n",
       "    }\n",
       "</style>\n",
       "<table border=\"1\" class=\"dataframe\">\n",
       "  <thead>\n",
       "    <tr style=\"text-align: right;\">\n",
       "      <th></th>\n",
       "      <th>moduleName</th>\n",
       "      <th>numberOfElements</th>\n",
       "      <th>incomingDependencies</th>\n",
       "      <th>outgoingDependencies</th>\n",
       "      <th>moduleFullQualifiedName</th>\n",
       "    </tr>\n",
       "  </thead>\n",
       "  <tbody>\n",
       "    <tr>\n",
       "      <th>0</th>\n",
       "      <td>react-router</td>\n",
       "      <td>6</td>\n",
       "      <td>19</td>\n",
       "      <td>17</td>\n",
       "      <td>/home/runner/work/code-graph-analysis-pipeline...</td>\n",
       "    </tr>\n",
       "    <tr>\n",
       "      <th>1</th>\n",
       "      <td>react-router-native</td>\n",
       "      <td>12</td>\n",
       "      <td>0</td>\n",
       "      <td>24</td>\n",
       "      <td>/home/runner/work/code-graph-analysis-pipeline...</td>\n",
       "    </tr>\n",
       "    <tr>\n",
       "      <th>2</th>\n",
       "      <td>server</td>\n",
       "      <td>6</td>\n",
       "      <td>0</td>\n",
       "      <td>40</td>\n",
       "      <td>/home/runner/work/code-graph-analysis-pipeline...</td>\n",
       "    </tr>\n",
       "    <tr>\n",
       "      <th>3</th>\n",
       "      <td>react-router-dom</td>\n",
       "      <td>35</td>\n",
       "      <td>2</td>\n",
       "      <td>146</td>\n",
       "      <td>/home/runner/work/code-graph-analysis-pipeline...</td>\n",
       "    </tr>\n",
       "  </tbody>\n",
       "</table>\n",
       "</div>"
      ],
      "text/plain": [
       "            moduleName  numberOfElements  incomingDependencies  \\\n",
       "0         react-router                 6                    19   \n",
       "1  react-router-native                12                     0   \n",
       "2               server                 6                     0   \n",
       "3     react-router-dom                35                     2   \n",
       "\n",
       "   outgoingDependencies                            moduleFullQualifiedName  \n",
       "0                    17  /home/runner/work/code-graph-analysis-pipeline...  \n",
       "1                    24  /home/runner/work/code-graph-analysis-pipeline...  \n",
       "2                    40  /home/runner/work/code-graph-analysis-pipeline...  \n",
       "3                   146  /home/runner/work/code-graph-analysis-pipeline...  "
      ]
     },
     "execution_count": 13,
     "metadata": {},
     "output_type": "execute_result"
    }
   ],
   "source": [
    "# Sort by number of outgoing dependencies ascending\n",
    "internalModules.sort_values(by=['outgoingDependencies','moduleName'], ascending=[True, True]).reset_index(drop=True).head(30)"
   ]
  },
  {
   "attachments": {},
   "cell_type": "markdown",
   "id": "d7cfd862",
   "metadata": {},
   "source": [
    "## 2 - Cyclic Dependencies\n",
    "\n",
    "Cyclic dependencies occur when one module uses an elements of another module and vice versa. \n",
    "These dependencies can lead to problems when one of these modules needs to be changed."
   ]
  },
  {
   "cell_type": "markdown",
   "id": "9112f590",
   "metadata": {},
   "source": [
    "### Table 2a - Cyclic Dependencies Overview\n",
    "\n",
    "Show the top 40 cyclic dependencies sorted by the most promising to resolve first. This is done by calculating the number of forward dependencies (first cycle participant to second cycle participant) in relation to backward dependencies (second cycle participant back to first cycle participant). The higher this rate (approaching 1), the easier it should be to resolve the cycle by focussing on the few backward dependencies.\n",
    "\n",
    "Only the top 40 entries are shown. The whole table can be found in the following CSV report:  \n",
    "`Cyclic_Dependencies_for_Typescript`\n",
    "\n",
    "**Columns:**\n",
    "- *projectFileName* identifies the project of the first participant of the cycle\n",
    "- *modulePathName* identifies the module of the first participant of the cycle\n",
    "- *dependentProjectFileName* identifies the project of the second participant of the cycle\n",
    "- *dependentModulePathName* identifies the module of the second participant of the cycle\n",
    "- *forwardToBackwardBalance* is between 0 and 1. High for many forward and few backward dependencies.\n",
    "- *numberForward* contains the number of dependencies from the first participant of the cycle to the second one\n",
    "- *numberBackward* contains the number of dependencies from the second participant of the cycle back to the first one\n",
    "- *someForwardDependencies* lists some forward dependencies in the text format \"type1 -> type2\"\n",
    "- *backwardDependencies* lists the backward dependencies in the format \"type1 <- type2\" that are recommended to get resolved"
   ]
  },
  {
   "cell_type": "code",
   "execution_count": 14,
   "id": "fa634a4e",
   "metadata": {
    "execution": {
     "iopub.execute_input": "2024-07-22T17:59:59.308480Z",
     "iopub.status.busy": "2024-07-22T17:59:59.308332Z",
     "iopub.status.idle": "2024-07-22T17:59:59.499403Z",
     "shell.execute_reply": "2024-07-22T17:59:59.498883Z"
    },
    "scrolled": false
   },
   "outputs": [
    {
     "data": {
      "text/html": [
       "<div>\n",
       "<style scoped>\n",
       "    .dataframe tbody tr th:only-of-type {\n",
       "        vertical-align: middle;\n",
       "    }\n",
       "\n",
       "    .dataframe tbody tr th {\n",
       "        vertical-align: top;\n",
       "    }\n",
       "\n",
       "    .dataframe thead th {\n",
       "        text-align: right;\n",
       "    }\n",
       "</style>\n",
       "<table border=\"1\" class=\"dataframe\">\n",
       "  <thead>\n",
       "    <tr style=\"text-align: right;\">\n",
       "      <th></th>\n",
       "      <th>projectFileName</th>\n",
       "      <th>moduleName</th>\n",
       "      <th>dependentProjectFileName</th>\n",
       "      <th>dependentModulePathName</th>\n",
       "      <th>forwardToBackwardBalance</th>\n",
       "      <th>numberForward</th>\n",
       "      <th>numberBackward</th>\n",
       "      <th>forwardDependencyExamples</th>\n",
       "      <th>backwardDependencyExamples</th>\n",
       "    </tr>\n",
       "  </thead>\n",
       "  <tbody>\n",
       "  </tbody>\n",
       "</table>\n",
       "</div>"
      ],
      "text/plain": [
       "Empty DataFrame\n",
       "Columns: [projectFileName, moduleName, dependentProjectFileName, dependentModulePathName, forwardToBackwardBalance, numberForward, numberBackward, forwardDependencyExamples, backwardDependencyExamples]\n",
       "Index: []"
      ]
     },
     "execution_count": 14,
     "metadata": {},
     "output_type": "execute_result"
    }
   ],
   "source": [
    "cyclic_dependencies = query_cypher_to_data_frame(\"../cypher/Cyclic_Dependencies/Cyclic_Dependencies_for_Typescript.cypher\")\n",
    "cyclic_dependencies.head(40)"
   ]
  },
  {
   "attachments": {},
   "cell_type": "markdown",
   "id": "02146c4d",
   "metadata": {},
   "source": [
    "### Table 2b - Cyclic Dependencies Break Down\n",
    "\n",
    "Lists modules with cyclic dependencies with every dependency in a separate row sorted by the most promising dependency first.\n",
    "\n",
    "Only the top 40 entries are shown. The whole table can be found in the following CSV report:  \n",
    "`Cyclic_Dependencies_Breakdown_for_Typescript`\n",
    "\n",
    "**Columns in addition to Table 2a:**\n",
    "- *dependency* shows the cycle dependency in the text format \"type1 -> type2\" (forward) or \"type2<-type1\" (backward)"
   ]
  },
  {
   "cell_type": "code",
   "execution_count": 15,
   "id": "cf49a164",
   "metadata": {
    "execution": {
     "iopub.execute_input": "2024-07-22T17:59:59.501946Z",
     "iopub.status.busy": "2024-07-22T17:59:59.501482Z",
     "iopub.status.idle": "2024-07-22T17:59:59.702063Z",
     "shell.execute_reply": "2024-07-22T17:59:59.701540Z"
    }
   },
   "outputs": [
    {
     "data": {
      "text/html": [
       "<div>\n",
       "<style scoped>\n",
       "    .dataframe tbody tr th:only-of-type {\n",
       "        vertical-align: middle;\n",
       "    }\n",
       "\n",
       "    .dataframe tbody tr th {\n",
       "        vertical-align: top;\n",
       "    }\n",
       "\n",
       "    .dataframe thead th {\n",
       "        text-align: right;\n",
       "    }\n",
       "</style>\n",
       "<table border=\"1\" class=\"dataframe\">\n",
       "  <thead>\n",
       "    <tr style=\"text-align: right;\">\n",
       "      <th></th>\n",
       "      <th>projectFileName</th>\n",
       "      <th>moduleName</th>\n",
       "      <th>dependentProjectFileName</th>\n",
       "      <th>dependentModulePathName</th>\n",
       "      <th>dependency</th>\n",
       "      <th>forwardToBackwardBalance</th>\n",
       "      <th>numberForward</th>\n",
       "      <th>numberBackward</th>\n",
       "    </tr>\n",
       "  </thead>\n",
       "  <tbody>\n",
       "  </tbody>\n",
       "</table>\n",
       "</div>"
      ],
      "text/plain": [
       "Empty DataFrame\n",
       "Columns: [projectFileName, moduleName, dependentProjectFileName, dependentModulePathName, dependency, forwardToBackwardBalance, numberForward, numberBackward]\n",
       "Index: []"
      ]
     },
     "execution_count": 15,
     "metadata": {},
     "output_type": "execute_result"
    }
   ],
   "source": [
    "cyclic_dependencies_breakdown = query_cypher_to_data_frame(\"../cypher/Cyclic_Dependencies/Cyclic_Dependencies_Breakdown_for_Typescript.cypher\",limit=40)\n",
    "cyclic_dependencies_breakdown"
   ]
  },
  {
   "cell_type": "markdown",
   "id": "52f46a62",
   "metadata": {},
   "source": [
    "### Table 2c - Cyclic Dependencies Break Down - Backward Dependencies Only\n",
    "\n",
    "Lists modules with cyclic dependencies with every dependency in a separate row sorted by the most promising  dependency first. This table only contains the backward dependencies from the second participant of the cycle back to the first one that are the most promising to resolve.\n",
    "\n",
    "Only the top 40 entries are shown. The whole table can be found in the following CSV report:  \n",
    "`Cyclic_Dependencies_Breakdown_BackwardOnly_for_Typescript`"
   ]
  },
  {
   "cell_type": "code",
   "execution_count": 16,
   "id": "61521c88",
   "metadata": {
    "execution": {
     "iopub.execute_input": "2024-07-22T17:59:59.704669Z",
     "iopub.status.busy": "2024-07-22T17:59:59.704199Z",
     "iopub.status.idle": "2024-07-22T17:59:59.895297Z",
     "shell.execute_reply": "2024-07-22T17:59:59.894810Z"
    }
   },
   "outputs": [
    {
     "data": {
      "text/html": [
       "<div>\n",
       "<style scoped>\n",
       "    .dataframe tbody tr th:only-of-type {\n",
       "        vertical-align: middle;\n",
       "    }\n",
       "\n",
       "    .dataframe tbody tr th {\n",
       "        vertical-align: top;\n",
       "    }\n",
       "\n",
       "    .dataframe thead th {\n",
       "        text-align: right;\n",
       "    }\n",
       "</style>\n",
       "<table border=\"1\" class=\"dataframe\">\n",
       "  <thead>\n",
       "    <tr style=\"text-align: right;\">\n",
       "      <th></th>\n",
       "      <th>projectFileName</th>\n",
       "      <th>moduleName</th>\n",
       "      <th>dependentProjectFileName</th>\n",
       "      <th>dependentModulePathName</th>\n",
       "      <th>dependency</th>\n",
       "      <th>forwardToBackwardBalance</th>\n",
       "      <th>numberForward</th>\n",
       "      <th>numberBackward</th>\n",
       "    </tr>\n",
       "  </thead>\n",
       "  <tbody>\n",
       "  </tbody>\n",
       "</table>\n",
       "</div>"
      ],
      "text/plain": [
       "Empty DataFrame\n",
       "Columns: [projectFileName, moduleName, dependentProjectFileName, dependentModulePathName, dependency, forwardToBackwardBalance, numberForward, numberBackward]\n",
       "Index: []"
      ]
     },
     "execution_count": 16,
     "metadata": {},
     "output_type": "execute_result"
    }
   ],
   "source": [
    "cyclic_dependencies_breakdown_backward = query_cypher_to_data_frame(\"../cypher/Cyclic_Dependencies/Cyclic_Dependencies_Breakdown_Backward_Only_for_Typescript.cypher\",limit=40)\n",
    "cyclic_dependencies_breakdown_backward"
   ]
  },
  {
   "attachments": {},
   "cell_type": "markdown",
   "id": "4be116e8",
   "metadata": {},
   "source": [
    "## 3 - Module Usage"
   ]
  },
  {
   "attachments": {},
   "cell_type": "markdown",
   "id": "bb185191",
   "metadata": {},
   "source": [
    "### Table 3a - Elements that are used by multiple modules\n",
    "\n",
    "This table shows the top 40 modules that are used by the highest number of different modules. The whole table can be found in the CSV report `WidelyUsedTypescriptElements`.\n"
   ]
  },
  {
   "cell_type": "code",
   "execution_count": 17,
   "id": "36a34924",
   "metadata": {
    "execution": {
     "iopub.execute_input": "2024-07-22T17:59:59.897753Z",
     "iopub.status.busy": "2024-07-22T17:59:59.897402Z",
     "iopub.status.idle": "2024-07-22T17:59:59.960534Z",
     "shell.execute_reply": "2024-07-22T17:59:59.960013Z"
    },
    "scrolled": false
   },
   "outputs": [
    {
     "data": {
      "text/html": [
       "<div>\n",
       "<style scoped>\n",
       "    .dataframe tbody tr th:only-of-type {\n",
       "        vertical-align: middle;\n",
       "    }\n",
       "\n",
       "    .dataframe tbody tr th {\n",
       "        vertical-align: top;\n",
       "    }\n",
       "\n",
       "    .dataframe thead th {\n",
       "        text-align: right;\n",
       "    }\n",
       "</style>\n",
       "<table border=\"1\" class=\"dataframe\">\n",
       "  <thead>\n",
       "    <tr style=\"text-align: right;\">\n",
       "      <th></th>\n",
       "      <th>fullQualifiedDependentElementName</th>\n",
       "      <th>dependentElementModuleName</th>\n",
       "      <th>dependentElementName</th>\n",
       "      <th>dependentElementLabels</th>\n",
       "      <th>numberOfUsingModules</th>\n",
       "    </tr>\n",
       "  </thead>\n",
       "  <tbody>\n",
       "  </tbody>\n",
       "</table>\n",
       "</div>"
      ],
      "text/plain": [
       "Empty DataFrame\n",
       "Columns: [fullQualifiedDependentElementName, dependentElementModuleName, dependentElementName, dependentElementLabels, numberOfUsingModules]\n",
       "Index: []"
      ]
     },
     "execution_count": 17,
     "metadata": {},
     "output_type": "execute_result"
    }
   ],
   "source": [
    "elements_used_by_many_modules=query_cypher_to_data_frame(\"../cypher/Internal_Dependencies/List_elements_that_are_used_by_many_different_modules_for_Typescript.cypher\", limit=40)\n",
    "elements_used_by_many_modules"
   ]
  },
  {
   "attachments": {},
   "cell_type": "markdown",
   "id": "73dd1b13",
   "metadata": {},
   "source": [
    "### Table 3b - Elements that are used by multiple modules\n",
    "\n",
    "This table shows the top 30 modules that only use a few (compared to all existing) elements of another module.\n",
    "The whole table can be found in the CSV report `ModuleElementsUsageTypescript`."
   ]
  },
  {
   "cell_type": "code",
   "execution_count": 18,
   "id": "bf3d43c5",
   "metadata": {
    "execution": {
     "iopub.execute_input": "2024-07-22T17:59:59.963133Z",
     "iopub.status.busy": "2024-07-22T17:59:59.962746Z",
     "iopub.status.idle": "2024-07-22T18:00:00.039788Z",
     "shell.execute_reply": "2024-07-22T18:00:00.039280Z"
    },
    "scrolled": true
   },
   "outputs": [
    {
     "data": {
      "text/html": [
       "<div>\n",
       "<style scoped>\n",
       "    .dataframe tbody tr th:only-of-type {\n",
       "        vertical-align: middle;\n",
       "    }\n",
       "\n",
       "    .dataframe tbody tr th {\n",
       "        vertical-align: top;\n",
       "    }\n",
       "\n",
       "    .dataframe thead th {\n",
       "        text-align: right;\n",
       "    }\n",
       "</style>\n",
       "<table border=\"1\" class=\"dataframe\">\n",
       "  <thead>\n",
       "    <tr style=\"text-align: right;\">\n",
       "      <th></th>\n",
       "      <th>sourceModuleName</th>\n",
       "      <th>dependentModuleName</th>\n",
       "      <th>dependentElementsCount</th>\n",
       "      <th>dependentModuleElementsCount</th>\n",
       "      <th>elementUsagePercentage</th>\n",
       "      <th>dependentElementFullNameExamples</th>\n",
       "      <th>dependentElementNameExamples</th>\n",
       "    </tr>\n",
       "  </thead>\n",
       "  <tbody>\n",
       "  </tbody>\n",
       "</table>\n",
       "</div>"
      ],
      "text/plain": [
       "Empty DataFrame\n",
       "Columns: [sourceModuleName, dependentModuleName, dependentElementsCount, dependentModuleElementsCount, elementUsagePercentage, dependentElementFullNameExamples, dependentElementNameExamples]\n",
       "Index: []"
      ]
     },
     "execution_count": 18,
     "metadata": {},
     "output_type": "execute_result"
    }
   ],
   "source": [
    "used_packages_of_dependent_artifact=query_cypher_to_data_frame(\"../cypher/Internal_Dependencies/How_many_elements_compared_to_all_existing_are_used_by_dependent_modules_for_Typescript.cypher\",limit=30)\n",
    "used_packages_of_dependent_artifact"
   ]
  }
 ],
 "metadata": {
  "authors": [
   {
    "name": "JohT"
   }
  ],
  "code_graph_analysis_pipeline_data_validation": "ValidateTypescriptModuleDependencies",
  "kernelspec": {
   "display_name": "Python 3 (ipykernel)",
   "language": "python",
   "name": "python3"
  },
  "language_info": {
   "codemirror_mode": {
    "name": "ipython",
    "version": 3
   },
   "file_extension": ".py",
   "mimetype": "text/x-python",
   "name": "python",
   "nbconvert_exporter": "python",
   "pygments_lexer": "ipython3",
   "version": "3.11.0"
  },
  "title": "Object Oriented Design Quality Metrics for Java with Neo4j"
 },
 "nbformat": 4,
 "nbformat_minor": 5
}
