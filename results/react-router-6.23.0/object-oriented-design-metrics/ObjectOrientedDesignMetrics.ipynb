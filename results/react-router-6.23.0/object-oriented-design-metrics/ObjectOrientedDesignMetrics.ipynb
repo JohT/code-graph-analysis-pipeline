{
 "cells": [
  {
   "attachments": {},
   "cell_type": "markdown",
   "id": "2f0eabc4",
   "metadata": {},
   "source": [
    "# Object Oriented Design Quality Metrics\n",
    "<br>  \n",
    "\n",
    "### References\n",
    "- [Analyze java package metrics in a graph database](https://joht.github.io/johtizen/data/2023/04/21/java-package-metrics-analysis.html)\n",
    "- [Calculate metrics](https://101.jqassistant.org/calculate-metrics/index.html)\n",
    "- [jqassistant](https://jqassistant.org)\n",
    "- [notebook walks through examples for integrating various packages with Neo4j](https://nicolewhite.github.io/neo4j-jupyter/hello-world.html)\n",
    "- [OO Design Quality Metrics](https://api.semanticscholar.org/CorpusID:18246616)\n",
    "- [Neo4j Python Driver](https://neo4j.com/docs/api/python-driver/current)"
   ]
  },
  {
   "cell_type": "code",
   "execution_count": 1,
   "id": "4191f259",
   "metadata": {
    "execution": {
     "iopub.execute_input": "2024-05-10T05:37:12.776279Z",
     "iopub.status.busy": "2024-05-10T05:37:12.776088Z",
     "iopub.status.idle": "2024-05-10T05:37:13.319093Z",
     "shell.execute_reply": "2024-05-10T05:37:13.318496Z"
    }
   },
   "outputs": [],
   "source": [
    "import os\n",
    "import pandas as pd\n",
    "import matplotlib.pyplot as plot\n",
    "from neo4j import GraphDatabase"
   ]
  },
  {
   "cell_type": "code",
   "execution_count": 2,
   "id": "1c5dab37",
   "metadata": {
    "execution": {
     "iopub.execute_input": "2024-05-10T05:37:13.321958Z",
     "iopub.status.busy": "2024-05-10T05:37:13.321671Z",
     "iopub.status.idle": "2024-05-10T05:37:13.329501Z",
     "shell.execute_reply": "2024-05-10T05:37:13.329108Z"
    }
   },
   "outputs": [],
   "source": [
    "# Please set the environment variable \"NEO4J_INITIAL_PASSWORD\" in your shell \n",
    "# before starting jupyter notebook to provide the password for the user \"neo4j\". \n",
    "# It is not recommended to hardcode the password into jupyter notebook for security reasons.\n",
    "\n",
    "driver = GraphDatabase.driver(uri=\"bolt://localhost:7687\", auth=(\"neo4j\", os.environ.get(\"NEO4J_INITIAL_PASSWORD\")))\n",
    "driver.verify_connectivity()"
   ]
  },
  {
   "cell_type": "code",
   "execution_count": 3,
   "id": "c1db254b",
   "metadata": {
    "execution": {
     "iopub.execute_input": "2024-05-10T05:37:13.331900Z",
     "iopub.status.busy": "2024-05-10T05:37:13.331569Z",
     "iopub.status.idle": "2024-05-10T05:37:13.334665Z",
     "shell.execute_reply": "2024-05-10T05:37:13.334128Z"
    }
   },
   "outputs": [],
   "source": [
    "def get_cypher_query_from_file(cypher_file_name: str):\n",
    "    with open(cypher_file_name) as file:\n",
    "        return ' '.join(file.readlines())"
   ]
  },
  {
   "cell_type": "code",
   "execution_count": 4,
   "id": "59310f6f",
   "metadata": {
    "execution": {
     "iopub.execute_input": "2024-05-10T05:37:13.336670Z",
     "iopub.status.busy": "2024-05-10T05:37:13.336509Z",
     "iopub.status.idle": "2024-05-10T05:37:13.339567Z",
     "shell.execute_reply": "2024-05-10T05:37:13.339150Z"
    }
   },
   "outputs": [],
   "source": [
    "def query_cypher_to_data_frame(filename : str, limit: int = 10_000):\n",
    "    cypher_query_template = \"{query}\\nLIMIT {row_limit}\"\n",
    "    cypher_query = get_cypher_query_from_file(filename)\n",
    "    cypher_query = cypher_query_template.format(query = cypher_query, row_limit = limit)\n",
    "    records, summary, keys = driver.execute_query(cypher_query)\n",
    "    return pd.DataFrame([r.values() for r in records], columns=keys)"
   ]
  },
  {
   "cell_type": "code",
   "execution_count": 5,
   "id": "013395f1",
   "metadata": {
    "execution": {
     "iopub.execute_input": "2024-05-10T05:37:13.341641Z",
     "iopub.status.busy": "2024-05-10T05:37:13.341362Z",
     "iopub.status.idle": "2024-05-10T05:37:13.344408Z",
     "shell.execute_reply": "2024-05-10T05:37:13.344005Z"
    }
   },
   "outputs": [],
   "source": [
    "def query_first_non_empty_cypher_to_data_frame(*filenames : str, limit: int = 10_000):\n",
    "    \"\"\"\n",
    "    Executes the Cypher queries of the given files and returns the first result that is not empty.\n",
    "    If all given file names result in empty results, the last (empty) result will be returned.\n",
    "    By additionally specifying \"limit=\" the \"LIMIT\" keyword will appended to query so that only the first results get returned.\n",
    "    \"\"\"    \n",
    "    result=pd.DataFrame()\n",
    "    for filename in filenames:\n",
    "        result=query_cypher_to_data_frame(filename, limit)\n",
    "        if not result.empty:\n",
    "            return result\n",
    "    return result"
   ]
  },
  {
   "cell_type": "code",
   "execution_count": 6,
   "id": "da9e8edb",
   "metadata": {
    "execution": {
     "iopub.execute_input": "2024-05-10T05:37:13.346212Z",
     "iopub.status.busy": "2024-05-10T05:37:13.346071Z",
     "iopub.status.idle": "2024-05-10T05:37:13.348199Z",
     "shell.execute_reply": "2024-05-10T05:37:13.347806Z"
    }
   },
   "outputs": [],
   "source": [
    "#The following cell uses the build-in %html \"magic\" to override the CSS style for tables to a much smaller size.\n",
    "#This is especially needed for PDF export of tables with multiple columns."
   ]
  },
  {
   "cell_type": "code",
   "execution_count": 7,
   "id": "9deaabce",
   "metadata": {
    "execution": {
     "iopub.execute_input": "2024-05-10T05:37:13.350301Z",
     "iopub.status.busy": "2024-05-10T05:37:13.349906Z",
     "iopub.status.idle": "2024-05-10T05:37:13.358096Z",
     "shell.execute_reply": "2024-05-10T05:37:13.357613Z"
    }
   },
   "outputs": [
    {
     "data": {
      "text/html": [
       "<style>\n",
       "/* CSS style for smaller dataframe tables. */\n",
       ".dataframe th {\n",
       "    font-size: 8px;\n",
       "}\n",
       ".dataframe td {\n",
       "    font-size: 8px;\n",
       "}\n",
       "</style>\n"
      ],
      "text/plain": [
       "<IPython.core.display.HTML object>"
      ]
     },
     "metadata": {},
     "output_type": "display_data"
    }
   ],
   "source": [
    "%%html\n",
    "<style>\n",
    "/* CSS style for smaller dataframe tables. */\n",
    ".dataframe th {\n",
    "    font-size: 8px;\n",
    "}\n",
    ".dataframe td {\n",
    "    font-size: 8px;\n",
    "}\n",
    "</style>"
   ]
  },
  {
   "attachments": {},
   "cell_type": "markdown",
   "id": "bbb51c78",
   "metadata": {},
   "source": [
    "## Incoming Dependencies\n",
    "\n",
    "Incoming dependencies are also denoted as \"Fan-in\", \"Afferent Coupling\" or \"in-degree\".\n",
    "These are the ones that use the listed package. \n",
    "   \n",
    "If these packages get changed, the incoming dependencies might be affected by the change. The more incoming dependencies, the harder it gets to change the code without the need to adapt the dependent code (“rigid code”). Even worse, it might affect the behavior of the dependent code in an unwanted way (“fragile code”).\n",
    "\n",
    "Since Java Packages are organized hierarchically, incoming dependencies can be count for every package in isolation or by including all of its sub-packages. The latter one is done without top level packages like for example \"org\" or \"org.company\" by assuring that only packages are considered that have other packages or types in the same hierarchy level (\"siblings\")."
   ]
  },
  {
   "cell_type": "markdown",
   "id": "b637f8c8",
   "metadata": {},
   "source": [
    "#### Table 1a\n",
    "- Show the top 20 Java Packages with the most incoming dependencies\n",
    "- Set the \"incomingDependencies\" properties on Package nodes."
   ]
  },
  {
   "cell_type": "code",
   "execution_count": 8,
   "id": "9a0a15be",
   "metadata": {
    "execution": {
     "iopub.execute_input": "2024-05-10T05:37:13.360571Z",
     "iopub.status.busy": "2024-05-10T05:37:13.360254Z",
     "iopub.status.idle": "2024-05-10T05:37:13.533793Z",
     "shell.execute_reply": "2024-05-10T05:37:13.533292Z"
    },
    "scrolled": true
   },
   "outputs": [
    {
     "data": {
      "text/html": [
       "<div>\n",
       "<style scoped>\n",
       "    .dataframe tbody tr th:only-of-type {\n",
       "        vertical-align: middle;\n",
       "    }\n",
       "\n",
       "    .dataframe tbody tr th {\n",
       "        vertical-align: top;\n",
       "    }\n",
       "\n",
       "    .dataframe thead th {\n",
       "        text-align: right;\n",
       "    }\n",
       "</style>\n",
       "<table border=\"1\" class=\"dataframe\">\n",
       "  <thead>\n",
       "    <tr style=\"text-align: right;\">\n",
       "      <th></th>\n",
       "      <th>artifactName</th>\n",
       "      <th>fullQualifiedPackageName</th>\n",
       "      <th>packageName</th>\n",
       "      <th>incomingDependencies</th>\n",
       "      <th>incomingDependenciesWeight</th>\n",
       "      <th>incomingDependentTypes</th>\n",
       "      <th>incomingDependentInterfaces</th>\n",
       "      <th>incomingDependentPackages</th>\n",
       "      <th>incomingDependentArtifacts</th>\n",
       "    </tr>\n",
       "  </thead>\n",
       "  <tbody>\n",
       "  </tbody>\n",
       "</table>\n",
       "</div>"
      ],
      "text/plain": [
       "Empty DataFrame\n",
       "Columns: [artifactName, fullQualifiedPackageName, packageName, incomingDependencies, incomingDependenciesWeight, incomingDependentTypes, incomingDependentInterfaces, incomingDependentPackages, incomingDependentArtifacts]\n",
       "Index: []"
      ]
     },
     "execution_count": 8,
     "metadata": {},
     "output_type": "execute_result"
    }
   ],
   "source": [
    "query_first_non_empty_cypher_to_data_frame(\"../cypher/Metrics/Get_Incoming_Java_Package_Dependencies.cypher\",\n",
    "                                           \"../cypher/Metrics/Set_Incoming_Java_Package_Dependencies.cypher\", limit=20)"
   ]
  },
  {
   "cell_type": "markdown",
   "id": "eb555676",
   "metadata": {},
   "source": [
    "#### Table 1b\n",
    "- Show the top 20 Java Packages including their sub-packages with the most incoming dependencies\n",
    "- Set the property \"incomingDependenciesIncludingSubpackages\" on Package nodes."
   ]
  },
  {
   "cell_type": "code",
   "execution_count": 9,
   "id": "458104c5",
   "metadata": {
    "execution": {
     "iopub.execute_input": "2024-05-10T05:37:13.536354Z",
     "iopub.status.busy": "2024-05-10T05:37:13.536186Z",
     "iopub.status.idle": "2024-05-10T05:37:13.752500Z",
     "shell.execute_reply": "2024-05-10T05:37:13.752018Z"
    }
   },
   "outputs": [
    {
     "data": {
      "text/html": [
       "<div>\n",
       "<style scoped>\n",
       "    .dataframe tbody tr th:only-of-type {\n",
       "        vertical-align: middle;\n",
       "    }\n",
       "\n",
       "    .dataframe tbody tr th {\n",
       "        vertical-align: top;\n",
       "    }\n",
       "\n",
       "    .dataframe thead th {\n",
       "        text-align: right;\n",
       "    }\n",
       "</style>\n",
       "<table border=\"1\" class=\"dataframe\">\n",
       "  <thead>\n",
       "    <tr style=\"text-align: right;\">\n",
       "      <th></th>\n",
       "      <th>artifactName</th>\n",
       "      <th>fullQualifiedPackageName</th>\n",
       "      <th>packageName</th>\n",
       "      <th>incomingDependencies</th>\n",
       "      <th>incomingDependenciesWeight</th>\n",
       "      <th>incomingDependentTypes</th>\n",
       "      <th>incomingDependentInterfaces</th>\n",
       "      <th>incomingDependentPackages</th>\n",
       "      <th>incomingDependentArtifacts</th>\n",
       "    </tr>\n",
       "  </thead>\n",
       "  <tbody>\n",
       "  </tbody>\n",
       "</table>\n",
       "</div>"
      ],
      "text/plain": [
       "Empty DataFrame\n",
       "Columns: [artifactName, fullQualifiedPackageName, packageName, incomingDependencies, incomingDependenciesWeight, incomingDependentTypes, incomingDependentInterfaces, incomingDependentPackages, incomingDependentArtifacts]\n",
       "Index: []"
      ]
     },
     "execution_count": 9,
     "metadata": {},
     "output_type": "execute_result"
    }
   ],
   "source": [
    "query_first_non_empty_cypher_to_data_frame(\"../cypher/Metrics/Get_Incoming_Java_Package_Dependencies_Including_Subpackages.cypher\",\n",
    "                                           \"../cypher/Metrics/Set_Incoming_Java_Package_Dependencies_Including_Subpackages.cypher\", limit=20)"
   ]
  },
  {
   "cell_type": "markdown",
   "id": "b27f225d",
   "metadata": {},
   "source": [
    "#### Table 1c\n",
    "- Show the top 20 Typescript modules with the most incoming dependencies\n",
    "- Set the property \"incomingDependencies\" on Module nodes if not already done."
   ]
  },
  {
   "cell_type": "code",
   "execution_count": 10,
   "id": "98974b46",
   "metadata": {
    "execution": {
     "iopub.execute_input": "2024-05-10T05:37:13.754709Z",
     "iopub.status.busy": "2024-05-10T05:37:13.754510Z",
     "iopub.status.idle": "2024-05-10T05:37:13.789625Z",
     "shell.execute_reply": "2024-05-10T05:37:13.789017Z"
    }
   },
   "outputs": [
    {
     "data": {
      "text/html": [
       "<div>\n",
       "<style scoped>\n",
       "    .dataframe tbody tr th:only-of-type {\n",
       "        vertical-align: middle;\n",
       "    }\n",
       "\n",
       "    .dataframe tbody tr th {\n",
       "        vertical-align: top;\n",
       "    }\n",
       "\n",
       "    .dataframe thead th {\n",
       "        text-align: right;\n",
       "    }\n",
       "</style>\n",
       "<table border=\"1\" class=\"dataframe\">\n",
       "  <thead>\n",
       "    <tr style=\"text-align: right;\">\n",
       "      <th></th>\n",
       "      <th>fullQualifiedModuleName</th>\n",
       "      <th>moduleName</th>\n",
       "      <th>incomingDependencies</th>\n",
       "      <th>incomingDependenciesWeight</th>\n",
       "      <th>incomingDependentAbstractTypes</th>\n",
       "      <th>incomingDependentAbstractTypeWeight</th>\n",
       "      <th>incomingDependentModules</th>\n",
       "      <th>incomingDependentPackages</th>\n",
       "    </tr>\n",
       "  </thead>\n",
       "  <tbody>\n",
       "    <tr>\n",
       "      <th>0</th>\n",
       "      <td>/home/runner/work/code-graph-analysis-pipeline...</td>\n",
       "      <td>react-router-dom-v5-compat</td>\n",
       "      <td>0</td>\n",
       "      <td>0</td>\n",
       "      <td>0</td>\n",
       "      <td>0</td>\n",
       "      <td>0</td>\n",
       "      <td>0</td>\n",
       "    </tr>\n",
       "    <tr>\n",
       "      <th>1</th>\n",
       "      <td>/home/runner/work/code-graph-analysis-pipeline...</td>\n",
       "      <td>react-router-dom</td>\n",
       "      <td>0</td>\n",
       "      <td>0</td>\n",
       "      <td>0</td>\n",
       "      <td>0</td>\n",
       "      <td>0</td>\n",
       "      <td>0</td>\n",
       "    </tr>\n",
       "    <tr>\n",
       "      <th>2</th>\n",
       "      <td>/home/runner/work/code-graph-analysis-pipeline...</td>\n",
       "      <td>server.tsx</td>\n",
       "      <td>0</td>\n",
       "      <td>0</td>\n",
       "      <td>0</td>\n",
       "      <td>0</td>\n",
       "      <td>0</td>\n",
       "      <td>0</td>\n",
       "    </tr>\n",
       "    <tr>\n",
       "      <th>3</th>\n",
       "      <td>/home/runner/work/code-graph-analysis-pipeline...</td>\n",
       "      <td>react-router-native</td>\n",
       "      <td>0</td>\n",
       "      <td>0</td>\n",
       "      <td>0</td>\n",
       "      <td>0</td>\n",
       "      <td>0</td>\n",
       "      <td>0</td>\n",
       "    </tr>\n",
       "    <tr>\n",
       "      <th>4</th>\n",
       "      <td>/home/runner/work/code-graph-analysis-pipeline...</td>\n",
       "      <td>react-router</td>\n",
       "      <td>0</td>\n",
       "      <td>0</td>\n",
       "      <td>0</td>\n",
       "      <td>0</td>\n",
       "      <td>0</td>\n",
       "      <td>0</td>\n",
       "    </tr>\n",
       "    <tr>\n",
       "      <th>5</th>\n",
       "      <td>/home/runner/work/code-graph-analysis-pipeline...</td>\n",
       "      <td>router</td>\n",
       "      <td>0</td>\n",
       "      <td>0</td>\n",
       "      <td>0</td>\n",
       "      <td>0</td>\n",
       "      <td>0</td>\n",
       "      <td>0</td>\n",
       "    </tr>\n",
       "  </tbody>\n",
       "</table>\n",
       "</div>"
      ],
      "text/plain": [
       "                             fullQualifiedModuleName  \\\n",
       "0  /home/runner/work/code-graph-analysis-pipeline...   \n",
       "1  /home/runner/work/code-graph-analysis-pipeline...   \n",
       "2  /home/runner/work/code-graph-analysis-pipeline...   \n",
       "3  /home/runner/work/code-graph-analysis-pipeline...   \n",
       "4  /home/runner/work/code-graph-analysis-pipeline...   \n",
       "5  /home/runner/work/code-graph-analysis-pipeline...   \n",
       "\n",
       "                   moduleName  incomingDependencies  \\\n",
       "0  react-router-dom-v5-compat                     0   \n",
       "1            react-router-dom                     0   \n",
       "2                  server.tsx                     0   \n",
       "3         react-router-native                     0   \n",
       "4                react-router                     0   \n",
       "5                      router                     0   \n",
       "\n",
       "   incomingDependenciesWeight  incomingDependentAbstractTypes  \\\n",
       "0                           0                               0   \n",
       "1                           0                               0   \n",
       "2                           0                               0   \n",
       "3                           0                               0   \n",
       "4                           0                               0   \n",
       "5                           0                               0   \n",
       "\n",
       "   incomingDependentAbstractTypeWeight  incomingDependentModules  \\\n",
       "0                                    0                         0   \n",
       "1                                    0                         0   \n",
       "2                                    0                         0   \n",
       "3                                    0                         0   \n",
       "4                                    0                         0   \n",
       "5                                    0                         0   \n",
       "\n",
       "   incomingDependentPackages  \n",
       "0                          0  \n",
       "1                          0  \n",
       "2                          0  \n",
       "3                          0  \n",
       "4                          0  \n",
       "5                          0  "
      ]
     },
     "execution_count": 10,
     "metadata": {},
     "output_type": "execute_result"
    }
   ],
   "source": [
    "query_first_non_empty_cypher_to_data_frame(\"../cypher/Metrics/Get_Incoming_Typescript_Module_Dependencies.cypher\",\n",
    "                                           \"../cypher/Metrics/Set_Incoming_Typescript_Module_Dependencies.cypher\", limit=20)"
   ]
  },
  {
   "attachments": {},
   "cell_type": "markdown",
   "id": "82e9f74c",
   "metadata": {},
   "source": [
    "## Outgoing Dependencies\n",
    "\n",
    "Outgoing dependencies are also denoted as \"Fan-out\", \"Efferent Coupling\" or \"out-degree\".\n",
    "These are the ones that are used by the listed package. \n",
    "\n",
    "Code from other packages and libraries you’re depending on (outgoing) might change over time. The more outgoing changes, the more likely and frequently code changes are needed. This involves time and effort which can be reduced by automation of tests and version updates. Automated tests are crucial to reveal updates, that change the behavior of the code unexpectedly (“fragile code”). As soon as more effort is required, keeping up becomes difficult (“rigid code”). Not being able to use a newer version might not only restrict features, it can get problematic if there are security issues. This might force you to take “fast but ugly” solutions into account which further increases technical dept.\n",
    "\n",
    "Since Java Packages are organized hierarchically, outgoing dependencies can be count for every package in isolation or by including all of its sub-packages. The latter one is done without top level packages like for example \"org\" or \"org.company\" by assuring that only packages are considered that have other packages or types in the same hierarchy level (\"siblings\")."
   ]
  },
  {
   "cell_type": "markdown",
   "id": "8cebfec5",
   "metadata": {},
   "source": [
    "#### Table 2a\n",
    "\n",
    "- Show the top 20 Java Packages with the most outgoing dependencies\n",
    "- Set the \"outgoingDependencies\" properties on Package nodes."
   ]
  },
  {
   "cell_type": "code",
   "execution_count": 11,
   "id": "a2ec92ab",
   "metadata": {
    "execution": {
     "iopub.execute_input": "2024-05-10T05:37:13.792335Z",
     "iopub.status.busy": "2024-05-10T05:37:13.791908Z",
     "iopub.status.idle": "2024-05-10T05:37:13.945911Z",
     "shell.execute_reply": "2024-05-10T05:37:13.945315Z"
    }
   },
   "outputs": [
    {
     "data": {
      "text/html": [
       "<div>\n",
       "<style scoped>\n",
       "    .dataframe tbody tr th:only-of-type {\n",
       "        vertical-align: middle;\n",
       "    }\n",
       "\n",
       "    .dataframe tbody tr th {\n",
       "        vertical-align: top;\n",
       "    }\n",
       "\n",
       "    .dataframe thead th {\n",
       "        text-align: right;\n",
       "    }\n",
       "</style>\n",
       "<table border=\"1\" class=\"dataframe\">\n",
       "  <thead>\n",
       "    <tr style=\"text-align: right;\">\n",
       "      <th></th>\n",
       "      <th>artifactName</th>\n",
       "      <th>fullQualifiedPackageName</th>\n",
       "      <th>packageName</th>\n",
       "      <th>outgoingDependencies</th>\n",
       "      <th>outgoingDependenciesWeight</th>\n",
       "      <th>outgoingDependentTypes</th>\n",
       "      <th>outgoingDependentInterfaces</th>\n",
       "      <th>outgoingDependentPackages</th>\n",
       "      <th>outgoingDependentArtifacts</th>\n",
       "    </tr>\n",
       "  </thead>\n",
       "  <tbody>\n",
       "  </tbody>\n",
       "</table>\n",
       "</div>"
      ],
      "text/plain": [
       "Empty DataFrame\n",
       "Columns: [artifactName, fullQualifiedPackageName, packageName, outgoingDependencies, outgoingDependenciesWeight, outgoingDependentTypes, outgoingDependentInterfaces, outgoingDependentPackages, outgoingDependentArtifacts]\n",
       "Index: []"
      ]
     },
     "execution_count": 11,
     "metadata": {},
     "output_type": "execute_result"
    }
   ],
   "source": [
    "query_first_non_empty_cypher_to_data_frame(\"../cypher/Metrics/Get_Outgoing_Java_Package_Dependencies.cypher\",\n",
    "                                           \"../cypher/Metrics/Set_Outgoing_Java_Package_Dependencies.cypher\", limit=20)"
   ]
  },
  {
   "cell_type": "markdown",
   "id": "894b413c",
   "metadata": {},
   "source": [
    "#### Table 2b\n",
    "\n",
    "- Show the top 20 Java Packages including their sub-packages with the most outgoing dependencies\n",
    "- Set the property \"outgoingDependenciesIncludingSubpackages\" on Package nodes."
   ]
  },
  {
   "cell_type": "code",
   "execution_count": 12,
   "id": "ecd5c9c7",
   "metadata": {
    "execution": {
     "iopub.execute_input": "2024-05-10T05:37:13.948512Z",
     "iopub.status.busy": "2024-05-10T05:37:13.948134Z",
     "iopub.status.idle": "2024-05-10T05:37:14.170051Z",
     "shell.execute_reply": "2024-05-10T05:37:14.169405Z"
    }
   },
   "outputs": [
    {
     "data": {
      "text/html": [
       "<div>\n",
       "<style scoped>\n",
       "    .dataframe tbody tr th:only-of-type {\n",
       "        vertical-align: middle;\n",
       "    }\n",
       "\n",
       "    .dataframe tbody tr th {\n",
       "        vertical-align: top;\n",
       "    }\n",
       "\n",
       "    .dataframe thead th {\n",
       "        text-align: right;\n",
       "    }\n",
       "</style>\n",
       "<table border=\"1\" class=\"dataframe\">\n",
       "  <thead>\n",
       "    <tr style=\"text-align: right;\">\n",
       "      <th></th>\n",
       "      <th>artifactName</th>\n",
       "      <th>fullQualifiedPackageName</th>\n",
       "      <th>packageName</th>\n",
       "      <th>outgoingDependencies</th>\n",
       "      <th>outgoingDependenciesWeight</th>\n",
       "      <th>outgoingDependentTypes</th>\n",
       "      <th>outgoingDependentInterfaces</th>\n",
       "      <th>outgoingDependentPackages</th>\n",
       "      <th>outgoingDependentArtifacts</th>\n",
       "    </tr>\n",
       "  </thead>\n",
       "  <tbody>\n",
       "  </tbody>\n",
       "</table>\n",
       "</div>"
      ],
      "text/plain": [
       "Empty DataFrame\n",
       "Columns: [artifactName, fullQualifiedPackageName, packageName, outgoingDependencies, outgoingDependenciesWeight, outgoingDependentTypes, outgoingDependentInterfaces, outgoingDependentPackages, outgoingDependentArtifacts]\n",
       "Index: []"
      ]
     },
     "execution_count": 12,
     "metadata": {},
     "output_type": "execute_result"
    }
   ],
   "source": [
    "query_first_non_empty_cypher_to_data_frame(\"../cypher/Metrics/Get_Outgoing_Java_Package_Dependencies_Including_Subpackages.cypher\",\n",
    "                                           \"../cypher/Metrics/Set_Outgoing_Java_Package_Dependencies_Including_Subpackages.cypher\", limit=20)"
   ]
  },
  {
   "cell_type": "markdown",
   "id": "747cb31d",
   "metadata": {},
   "source": [
    "#### Table 2c\n",
    "\n",
    "- Show the top 20 Typescript modules with the most outgoing dependencies\n",
    "- Set the \"outgoingDependencies\" properties on Module nodes if not already done"
   ]
  },
  {
   "cell_type": "code",
   "execution_count": 13,
   "id": "1be12a2e",
   "metadata": {
    "execution": {
     "iopub.execute_input": "2024-05-10T05:37:14.172865Z",
     "iopub.status.busy": "2024-05-10T05:37:14.172371Z",
     "iopub.status.idle": "2024-05-10T05:37:14.206693Z",
     "shell.execute_reply": "2024-05-10T05:37:14.206202Z"
    }
   },
   "outputs": [
    {
     "data": {
      "text/html": [
       "<div>\n",
       "<style scoped>\n",
       "    .dataframe tbody tr th:only-of-type {\n",
       "        vertical-align: middle;\n",
       "    }\n",
       "\n",
       "    .dataframe tbody tr th {\n",
       "        vertical-align: top;\n",
       "    }\n",
       "\n",
       "    .dataframe thead th {\n",
       "        text-align: right;\n",
       "    }\n",
       "</style>\n",
       "<table border=\"1\" class=\"dataframe\">\n",
       "  <thead>\n",
       "    <tr style=\"text-align: right;\">\n",
       "      <th></th>\n",
       "      <th>fullQualifiedModuleName</th>\n",
       "      <th>sourceName</th>\n",
       "      <th>outgoingDependencies</th>\n",
       "      <th>outgoingDependenciesWeight</th>\n",
       "      <th>outgoingDependentAbstractTypes</th>\n",
       "      <th>outgoingDependentAbstractTypeWeight</th>\n",
       "      <th>outgoingDependentModules</th>\n",
       "      <th>outgoingDependentPackages</th>\n",
       "    </tr>\n",
       "  </thead>\n",
       "  <tbody>\n",
       "    <tr>\n",
       "      <th>0</th>\n",
       "      <td>/home/runner/work/code-graph-analysis-pipeline...</td>\n",
       "      <td>react-router-dom</td>\n",
       "      <td>39</td>\n",
       "      <td>104</td>\n",
       "      <td>0</td>\n",
       "      <td>0</td>\n",
       "      <td>3</td>\n",
       "      <td>0</td>\n",
       "    </tr>\n",
       "    <tr>\n",
       "      <th>1</th>\n",
       "      <td>/home/runner/work/code-graph-analysis-pipeline...</td>\n",
       "      <td>server.tsx</td>\n",
       "      <td>14</td>\n",
       "      <td>22</td>\n",
       "      <td>0</td>\n",
       "      <td>0</td>\n",
       "      <td>2</td>\n",
       "      <td>0</td>\n",
       "    </tr>\n",
       "    <tr>\n",
       "      <th>2</th>\n",
       "      <td>/home/runner/work/code-graph-analysis-pipeline...</td>\n",
       "      <td>react-router</td>\n",
       "      <td>12</td>\n",
       "      <td>20</td>\n",
       "      <td>0</td>\n",
       "      <td>0</td>\n",
       "      <td>2</td>\n",
       "      <td>0</td>\n",
       "    </tr>\n",
       "    <tr>\n",
       "      <th>3</th>\n",
       "      <td>/home/runner/work/code-graph-analysis-pipeline...</td>\n",
       "      <td>react-router-native</td>\n",
       "      <td>7</td>\n",
       "      <td>20</td>\n",
       "      <td>0</td>\n",
       "      <td>0</td>\n",
       "      <td>3</td>\n",
       "      <td>0</td>\n",
       "    </tr>\n",
       "    <tr>\n",
       "      <th>4</th>\n",
       "      <td>/home/runner/work/code-graph-analysis-pipeline...</td>\n",
       "      <td>react-router-dom-v5-compat</td>\n",
       "      <td>0</td>\n",
       "      <td>0</td>\n",
       "      <td>0</td>\n",
       "      <td>0</td>\n",
       "      <td>0</td>\n",
       "      <td>0</td>\n",
       "    </tr>\n",
       "    <tr>\n",
       "      <th>5</th>\n",
       "      <td>/home/runner/work/code-graph-analysis-pipeline...</td>\n",
       "      <td>router</td>\n",
       "      <td>0</td>\n",
       "      <td>0</td>\n",
       "      <td>0</td>\n",
       "      <td>0</td>\n",
       "      <td>0</td>\n",
       "      <td>0</td>\n",
       "    </tr>\n",
       "  </tbody>\n",
       "</table>\n",
       "</div>"
      ],
      "text/plain": [
       "                             fullQualifiedModuleName  \\\n",
       "0  /home/runner/work/code-graph-analysis-pipeline...   \n",
       "1  /home/runner/work/code-graph-analysis-pipeline...   \n",
       "2  /home/runner/work/code-graph-analysis-pipeline...   \n",
       "3  /home/runner/work/code-graph-analysis-pipeline...   \n",
       "4  /home/runner/work/code-graph-analysis-pipeline...   \n",
       "5  /home/runner/work/code-graph-analysis-pipeline...   \n",
       "\n",
       "                   sourceName  outgoingDependencies  \\\n",
       "0            react-router-dom                    39   \n",
       "1                  server.tsx                    14   \n",
       "2                react-router                    12   \n",
       "3         react-router-native                     7   \n",
       "4  react-router-dom-v5-compat                     0   \n",
       "5                      router                     0   \n",
       "\n",
       "   outgoingDependenciesWeight  outgoingDependentAbstractTypes  \\\n",
       "0                         104                               0   \n",
       "1                          22                               0   \n",
       "2                          20                               0   \n",
       "3                          20                               0   \n",
       "4                           0                               0   \n",
       "5                           0                               0   \n",
       "\n",
       "   outgoingDependentAbstractTypeWeight  outgoingDependentModules  \\\n",
       "0                                    0                         3   \n",
       "1                                    0                         2   \n",
       "2                                    0                         2   \n",
       "3                                    0                         3   \n",
       "4                                    0                         0   \n",
       "5                                    0                         0   \n",
       "\n",
       "   outgoingDependentPackages  \n",
       "0                          0  \n",
       "1                          0  \n",
       "2                          0  \n",
       "3                          0  \n",
       "4                          0  \n",
       "5                          0  "
      ]
     },
     "execution_count": 13,
     "metadata": {},
     "output_type": "execute_result"
    }
   ],
   "source": [
    "query_first_non_empty_cypher_to_data_frame(\"../cypher/Metrics/Get_Outgoing_Typescript_Module_Dependencies.cypher\",\n",
    "                                           \"../cypher/Metrics/Set_Outgoing_Typescript_Module_Dependencies.cypher\", limit=20)"
   ]
  },
  {
   "attachments": {},
   "cell_type": "markdown",
   "id": "22f8959e",
   "metadata": {},
   "source": [
    "## Instability\n",
    "\n",
    "$$ Instability = \\frac{Outgoing\\:Dependencies}{Outgoing\\:Dependencies + Incoming\\:Dependencies} $$\n",
    "\n",
    "*Instability* is expressed as the ratio of the number of outgoing dependencies of a module (i.e., the number of packages that depend on it) to the total number of dependencies (i.e., the sum of incoming and outgoing dependencies).\n",
    "\n",
    "Small values near zero indicate low *Instability*. With no outgoing but some incoming dependencies the Instability is zero which is denoted as maximally stable. Such code units are more rigid and difficult to change without impacting other parts of the system. If they are changed less because of that, they are considered stable.\n",
    "\n",
    "Conversely, high values approaching one indicate high *Instability*. With some outgoing dependencies but no incoming ones the *Instability* is denoted as maximally unstable. Such code units are easier to change without affecting other modules, making them more flexible and less prone to cascading changes throughout the system. If they are changed more often because of that, they are considered unstable.\n",
    "\n",
    "Since Java Packages are organized hierarchically, *Instability* can be calculated for every package in isolation or by including all of its sub-packages. "
   ]
  },
  {
   "cell_type": "markdown",
   "id": "fafd1840",
   "metadata": {},
   "source": [
    "#### Table 3a\n",
    "\n",
    "- Show the top 20 Java Packages with the lowest *Instability*\n",
    "- Set the property \"instability\" on Package nodes. "
   ]
  },
  {
   "cell_type": "code",
   "execution_count": 14,
   "id": "5fb9f58e",
   "metadata": {
    "execution": {
     "iopub.execute_input": "2024-05-10T05:37:14.208914Z",
     "iopub.status.busy": "2024-05-10T05:37:14.208757Z",
     "iopub.status.idle": "2024-05-10T05:37:14.368976Z",
     "shell.execute_reply": "2024-05-10T05:37:14.368503Z"
    }
   },
   "outputs": [
    {
     "data": {
      "text/html": [
       "<div>\n",
       "<style scoped>\n",
       "    .dataframe tbody tr th:only-of-type {\n",
       "        vertical-align: middle;\n",
       "    }\n",
       "\n",
       "    .dataframe tbody tr th {\n",
       "        vertical-align: top;\n",
       "    }\n",
       "\n",
       "    .dataframe thead th {\n",
       "        text-align: right;\n",
       "    }\n",
       "</style>\n",
       "<table border=\"1\" class=\"dataframe\">\n",
       "  <thead>\n",
       "    <tr style=\"text-align: right;\">\n",
       "      <th></th>\n",
       "      <th>artifactName</th>\n",
       "      <th>fullQualifiedPackageName</th>\n",
       "      <th>packageName</th>\n",
       "      <th>instability</th>\n",
       "      <th>instabilityTypes</th>\n",
       "      <th>instabilityInterfaces</th>\n",
       "      <th>instabilityPackages</th>\n",
       "      <th>instabilityArtifacts</th>\n",
       "      <th>p.outgoingDependencies</th>\n",
       "      <th>p.incomingDependencies</th>\n",
       "      <th>p.outgoingDependentTypes</th>\n",
       "      <th>p.incomingDependentTypes</th>\n",
       "      <th>p.outgoingDependentInterfaces</th>\n",
       "      <th>p.incomingDependentInterfaces</th>\n",
       "      <th>p.outgoingDependentPackages</th>\n",
       "      <th>p.incomingDependentPackages</th>\n",
       "      <th>p.outgoingDependentArtifacts</th>\n",
       "      <th>p.incomingDependentArtifacts</th>\n",
       "    </tr>\n",
       "  </thead>\n",
       "  <tbody>\n",
       "  </tbody>\n",
       "</table>\n",
       "</div>"
      ],
      "text/plain": [
       "Empty DataFrame\n",
       "Columns: [artifactName, fullQualifiedPackageName, packageName, instability, instabilityTypes, instabilityInterfaces, instabilityPackages, instabilityArtifacts, p.outgoingDependencies, p.incomingDependencies, p.outgoingDependentTypes, p.incomingDependentTypes, p.outgoingDependentInterfaces, p.incomingDependentInterfaces, p.outgoingDependentPackages, p.incomingDependentPackages, p.outgoingDependentArtifacts, p.incomingDependentArtifacts]\n",
       "Index: []"
      ]
     },
     "execution_count": 14,
     "metadata": {},
     "output_type": "execute_result"
    }
   ],
   "source": [
    "query_first_non_empty_cypher_to_data_frame(\"../cypher/Metrics/Get_Instability_for_Java.cypher\",\n",
    "                                           \"../cypher/Metrics/Calculate_and_set_Instability_for_Java.cypher\", limit=20)"
   ]
  },
  {
   "cell_type": "markdown",
   "id": "f8888a60",
   "metadata": {},
   "source": [
    "#### Table 3b\n",
    "\n",
    "- Show the top 20 Java Packages including their sub-packages with the lowest *Instability*\n",
    "- Set the property \"instabilityIncludingSubpackages\" on Package nodes. "
   ]
  },
  {
   "cell_type": "code",
   "execution_count": 15,
   "id": "1b07a29f",
   "metadata": {
    "execution": {
     "iopub.execute_input": "2024-05-10T05:37:14.371156Z",
     "iopub.status.busy": "2024-05-10T05:37:14.370987Z",
     "iopub.status.idle": "2024-05-10T05:37:14.538349Z",
     "shell.execute_reply": "2024-05-10T05:37:14.537807Z"
    }
   },
   "outputs": [
    {
     "data": {
      "text/html": [
       "<div>\n",
       "<style scoped>\n",
       "    .dataframe tbody tr th:only-of-type {\n",
       "        vertical-align: middle;\n",
       "    }\n",
       "\n",
       "    .dataframe tbody tr th {\n",
       "        vertical-align: top;\n",
       "    }\n",
       "\n",
       "    .dataframe thead th {\n",
       "        text-align: right;\n",
       "    }\n",
       "</style>\n",
       "<table border=\"1\" class=\"dataframe\">\n",
       "  <thead>\n",
       "    <tr style=\"text-align: right;\">\n",
       "      <th></th>\n",
       "      <th>artifactName</th>\n",
       "      <th>fullQualifiedPackageName</th>\n",
       "      <th>packageName</th>\n",
       "      <th>instability</th>\n",
       "      <th>instabilityTypes</th>\n",
       "      <th>instabilityInterfaces</th>\n",
       "      <th>instabilityPackages</th>\n",
       "      <th>instabilityArtifacts</th>\n",
       "      <th>p.outgoingDependenciesIncludingSubpackages</th>\n",
       "      <th>p.incomingDependenciesIncludingSubpackages</th>\n",
       "      <th>p.outgoingDependentTypesIncludingSubpackages</th>\n",
       "      <th>p.incomingDependentTypesIncludingSubpackages</th>\n",
       "      <th>p.outgoingDependentInterfacesIncludingSubpackages</th>\n",
       "      <th>p.incomingDependentInterfacesIncludingSubpackages</th>\n",
       "      <th>p.outgoingDependentPackagesIncludingSubpackages</th>\n",
       "      <th>p.incomingDependentPackagesIncludingSubpackages</th>\n",
       "      <th>p.outgoingDependentArtifactsIncludingSubpackages</th>\n",
       "      <th>p.incomingDependentArtifactsIncludingSubpackages</th>\n",
       "    </tr>\n",
       "  </thead>\n",
       "  <tbody>\n",
       "  </tbody>\n",
       "</table>\n",
       "</div>"
      ],
      "text/plain": [
       "Empty DataFrame\n",
       "Columns: [artifactName, fullQualifiedPackageName, packageName, instability, instabilityTypes, instabilityInterfaces, instabilityPackages, instabilityArtifacts, p.outgoingDependenciesIncludingSubpackages, p.incomingDependenciesIncludingSubpackages, p.outgoingDependentTypesIncludingSubpackages, p.incomingDependentTypesIncludingSubpackages, p.outgoingDependentInterfacesIncludingSubpackages, p.incomingDependentInterfacesIncludingSubpackages, p.outgoingDependentPackagesIncludingSubpackages, p.incomingDependentPackagesIncludingSubpackages, p.outgoingDependentArtifactsIncludingSubpackages, p.incomingDependentArtifactsIncludingSubpackages]\n",
       "Index: []"
      ]
     },
     "execution_count": 15,
     "metadata": {},
     "output_type": "execute_result"
    }
   ],
   "source": [
    "query_first_non_empty_cypher_to_data_frame(\"../cypher/Metrics/Get_Instability_for_Java_Including_Subpackages.cypher\",\n",
    "                                           \"../cypher/Metrics/Calculate_and_set_Instability_for_Java_Including_Subpackages.cypher\", limit=20)"
   ]
  },
  {
   "cell_type": "markdown",
   "id": "17c081d0",
   "metadata": {},
   "source": [
    "#### Table 3c\n",
    "\n",
    "- Show the top 20 Typescript modules with the lowest *Instability*\n",
    "- Set the property \"instability\" on Module nodes if not already done"
   ]
  },
  {
   "cell_type": "code",
   "execution_count": 16,
   "id": "77862c9e",
   "metadata": {
    "execution": {
     "iopub.execute_input": "2024-05-10T05:37:14.540941Z",
     "iopub.status.busy": "2024-05-10T05:37:14.540614Z",
     "iopub.status.idle": "2024-05-10T05:37:14.605270Z",
     "shell.execute_reply": "2024-05-10T05:37:14.604815Z"
    }
   },
   "outputs": [
    {
     "data": {
      "text/html": [
       "<div>\n",
       "<style scoped>\n",
       "    .dataframe tbody tr th:only-of-type {\n",
       "        vertical-align: middle;\n",
       "    }\n",
       "\n",
       "    .dataframe tbody tr th {\n",
       "        vertical-align: top;\n",
       "    }\n",
       "\n",
       "    .dataframe thead th {\n",
       "        text-align: right;\n",
       "    }\n",
       "</style>\n",
       "<table border=\"1\" class=\"dataframe\">\n",
       "  <thead>\n",
       "    <tr style=\"text-align: right;\">\n",
       "      <th></th>\n",
       "      <th>projectName</th>\n",
       "      <th>fullQualifiedModuleName</th>\n",
       "      <th>moduleName</th>\n",
       "      <th>instability</th>\n",
       "      <th>instabilityAbstractTypes</th>\n",
       "      <th>instabilityModules</th>\n",
       "      <th>instabilityPackages</th>\n",
       "      <th>module.outgoingDependencies</th>\n",
       "      <th>module.incomingDependencies</th>\n",
       "      <th>module.outgoingDependentAbstractTypes</th>\n",
       "      <th>module.incomingDependentAbstractTypes</th>\n",
       "      <th>module.outgoingDependentModules</th>\n",
       "      <th>module.incomingDependentModules</th>\n",
       "      <th>module.outgoingDependentPackages</th>\n",
       "      <th>module.incomingDependentPackages</th>\n",
       "    </tr>\n",
       "  </thead>\n",
       "  <tbody>\n",
       "    <tr>\n",
       "      <th>0</th>\n",
       "      <td>react-router-dom-v5-compat</td>\n",
       "      <td>/home/runner/work/code-graph-analysis-pipeline...</td>\n",
       "      <td>react-router-dom-v5-compat</td>\n",
       "      <td>0.0</td>\n",
       "      <td>0.0</td>\n",
       "      <td>0.0</td>\n",
       "      <td>0.0</td>\n",
       "      <td>0</td>\n",
       "      <td>0</td>\n",
       "      <td>0</td>\n",
       "      <td>0</td>\n",
       "      <td>0</td>\n",
       "      <td>0</td>\n",
       "      <td>0</td>\n",
       "      <td>0</td>\n",
       "    </tr>\n",
       "    <tr>\n",
       "      <th>1</th>\n",
       "      <td>router</td>\n",
       "      <td>/home/runner/work/code-graph-analysis-pipeline...</td>\n",
       "      <td>router</td>\n",
       "      <td>0.0</td>\n",
       "      <td>0.0</td>\n",
       "      <td>0.0</td>\n",
       "      <td>0.0</td>\n",
       "      <td>0</td>\n",
       "      <td>0</td>\n",
       "      <td>0</td>\n",
       "      <td>0</td>\n",
       "      <td>0</td>\n",
       "      <td>0</td>\n",
       "      <td>0</td>\n",
       "      <td>0</td>\n",
       "    </tr>\n",
       "    <tr>\n",
       "      <th>2</th>\n",
       "      <td>react-router-dom</td>\n",
       "      <td>/home/runner/work/code-graph-analysis-pipeline...</td>\n",
       "      <td>react-router-dom</td>\n",
       "      <td>1.0</td>\n",
       "      <td>0.0</td>\n",
       "      <td>1.0</td>\n",
       "      <td>0.0</td>\n",
       "      <td>39</td>\n",
       "      <td>0</td>\n",
       "      <td>0</td>\n",
       "      <td>0</td>\n",
       "      <td>3</td>\n",
       "      <td>0</td>\n",
       "      <td>0</td>\n",
       "      <td>0</td>\n",
       "    </tr>\n",
       "    <tr>\n",
       "      <th>3</th>\n",
       "      <td>react-router-dom</td>\n",
       "      <td>/home/runner/work/code-graph-analysis-pipeline...</td>\n",
       "      <td>server.tsx</td>\n",
       "      <td>1.0</td>\n",
       "      <td>0.0</td>\n",
       "      <td>1.0</td>\n",
       "      <td>0.0</td>\n",
       "      <td>14</td>\n",
       "      <td>0</td>\n",
       "      <td>0</td>\n",
       "      <td>0</td>\n",
       "      <td>2</td>\n",
       "      <td>0</td>\n",
       "      <td>0</td>\n",
       "      <td>0</td>\n",
       "    </tr>\n",
       "    <tr>\n",
       "      <th>4</th>\n",
       "      <td>react-router-native</td>\n",
       "      <td>/home/runner/work/code-graph-analysis-pipeline...</td>\n",
       "      <td>react-router-native</td>\n",
       "      <td>1.0</td>\n",
       "      <td>0.0</td>\n",
       "      <td>1.0</td>\n",
       "      <td>0.0</td>\n",
       "      <td>7</td>\n",
       "      <td>0</td>\n",
       "      <td>0</td>\n",
       "      <td>0</td>\n",
       "      <td>3</td>\n",
       "      <td>0</td>\n",
       "      <td>0</td>\n",
       "      <td>0</td>\n",
       "    </tr>\n",
       "    <tr>\n",
       "      <th>5</th>\n",
       "      <td>react-router</td>\n",
       "      <td>/home/runner/work/code-graph-analysis-pipeline...</td>\n",
       "      <td>react-router</td>\n",
       "      <td>1.0</td>\n",
       "      <td>0.0</td>\n",
       "      <td>1.0</td>\n",
       "      <td>0.0</td>\n",
       "      <td>12</td>\n",
       "      <td>0</td>\n",
       "      <td>0</td>\n",
       "      <td>0</td>\n",
       "      <td>2</td>\n",
       "      <td>0</td>\n",
       "      <td>0</td>\n",
       "      <td>0</td>\n",
       "    </tr>\n",
       "  </tbody>\n",
       "</table>\n",
       "</div>"
      ],
      "text/plain": [
       "                  projectName  \\\n",
       "0  react-router-dom-v5-compat   \n",
       "1                      router   \n",
       "2            react-router-dom   \n",
       "3            react-router-dom   \n",
       "4         react-router-native   \n",
       "5                react-router   \n",
       "\n",
       "                             fullQualifiedModuleName  \\\n",
       "0  /home/runner/work/code-graph-analysis-pipeline...   \n",
       "1  /home/runner/work/code-graph-analysis-pipeline...   \n",
       "2  /home/runner/work/code-graph-analysis-pipeline...   \n",
       "3  /home/runner/work/code-graph-analysis-pipeline...   \n",
       "4  /home/runner/work/code-graph-analysis-pipeline...   \n",
       "5  /home/runner/work/code-graph-analysis-pipeline...   \n",
       "\n",
       "                   moduleName  instability  instabilityAbstractTypes  \\\n",
       "0  react-router-dom-v5-compat          0.0                       0.0   \n",
       "1                      router          0.0                       0.0   \n",
       "2            react-router-dom          1.0                       0.0   \n",
       "3                  server.tsx          1.0                       0.0   \n",
       "4         react-router-native          1.0                       0.0   \n",
       "5                react-router          1.0                       0.0   \n",
       "\n",
       "   instabilityModules  instabilityPackages  module.outgoingDependencies  \\\n",
       "0                 0.0                  0.0                            0   \n",
       "1                 0.0                  0.0                            0   \n",
       "2                 1.0                  0.0                           39   \n",
       "3                 1.0                  0.0                           14   \n",
       "4                 1.0                  0.0                            7   \n",
       "5                 1.0                  0.0                           12   \n",
       "\n",
       "   module.incomingDependencies  module.outgoingDependentAbstractTypes  \\\n",
       "0                            0                                      0   \n",
       "1                            0                                      0   \n",
       "2                            0                                      0   \n",
       "3                            0                                      0   \n",
       "4                            0                                      0   \n",
       "5                            0                                      0   \n",
       "\n",
       "   module.incomingDependentAbstractTypes  module.outgoingDependentModules  \\\n",
       "0                                      0                                0   \n",
       "1                                      0                                0   \n",
       "2                                      0                                3   \n",
       "3                                      0                                2   \n",
       "4                                      0                                3   \n",
       "5                                      0                                2   \n",
       "\n",
       "   module.incomingDependentModules  module.outgoingDependentPackages  \\\n",
       "0                                0                                 0   \n",
       "1                                0                                 0   \n",
       "2                                0                                 0   \n",
       "3                                0                                 0   \n",
       "4                                0                                 0   \n",
       "5                                0                                 0   \n",
       "\n",
       "   module.incomingDependentPackages  \n",
       "0                                 0  \n",
       "1                                 0  \n",
       "2                                 0  \n",
       "3                                 0  \n",
       "4                                 0  \n",
       "5                                 0  "
      ]
     },
     "execution_count": 16,
     "metadata": {},
     "output_type": "execute_result"
    }
   ],
   "source": [
    "query_first_non_empty_cypher_to_data_frame(\"../cypher/Metrics/Get_Instability_for_Typescript.cypher\",\n",
    "                                           \"../cypher/Metrics/Calculate_and_set_Instability_for_Typescript.cypher\", limit=20)"
   ]
  },
  {
   "attachments": {},
   "cell_type": "markdown",
   "id": "f9eb4c6f",
   "metadata": {},
   "source": [
    "## Abstractness\n",
    "\n",
    "$$ Abstractness = \\frac{abstract\\:classes\\:in\\:category}{total\\:number\\:of\\:classes\\:in\\:category} $$\n",
    "\n",
    "Package *Abstractness* is expressed as the ratio of the number of abstract classes and interfaces to the total number of classes of a package.\n",
    "\n",
    "Zero *Abstractness* means that there are no abstract types or interfaces in the package. On the other hand, a value of one means that there are only abstract types.\n",
    "\n",
    "Since Java Packages are organized hierarchically, *Abstractness* can be calculated for every package in isolation or by including all of its sub-packages. "
   ]
  },
  {
   "cell_type": "markdown",
   "id": "6932b105",
   "metadata": {},
   "source": [
    "#### Table 4a\n",
    "\n",
    "- Show the top 30 packages with the lowest *Abstractness*\n",
    "- Set the property \"abstractness\" on Package nodes. "
   ]
  },
  {
   "cell_type": "code",
   "execution_count": 17,
   "id": "2076d515",
   "metadata": {
    "execution": {
     "iopub.execute_input": "2024-05-10T05:37:14.607763Z",
     "iopub.status.busy": "2024-05-10T05:37:14.607457Z",
     "iopub.status.idle": "2024-05-10T05:37:14.722992Z",
     "shell.execute_reply": "2024-05-10T05:37:14.722526Z"
    }
   },
   "outputs": [
    {
     "data": {
      "text/html": [
       "<div>\n",
       "<style scoped>\n",
       "    .dataframe tbody tr th:only-of-type {\n",
       "        vertical-align: middle;\n",
       "    }\n",
       "\n",
       "    .dataframe tbody tr th {\n",
       "        vertical-align: top;\n",
       "    }\n",
       "\n",
       "    .dataframe thead th {\n",
       "        text-align: right;\n",
       "    }\n",
       "</style>\n",
       "<table border=\"1\" class=\"dataframe\">\n",
       "  <thead>\n",
       "    <tr style=\"text-align: right;\">\n",
       "      <th></th>\n",
       "      <th>artifactName</th>\n",
       "      <th>fullQualifiedPackageName</th>\n",
       "      <th>packageName</th>\n",
       "      <th>abstractness</th>\n",
       "      <th>numberAbstractTypes</th>\n",
       "      <th>numberTypes</th>\n",
       "    </tr>\n",
       "  </thead>\n",
       "  <tbody>\n",
       "  </tbody>\n",
       "</table>\n",
       "</div>"
      ],
      "text/plain": [
       "Empty DataFrame\n",
       "Columns: [artifactName, fullQualifiedPackageName, packageName, abstractness, numberAbstractTypes, numberTypes]\n",
       "Index: []"
      ]
     },
     "execution_count": 17,
     "metadata": {},
     "output_type": "execute_result"
    }
   ],
   "source": [
    "abstractness = query_first_non_empty_cypher_to_data_frame(\"../cypher/Metrics/Get_Abstractness_for_Java.cypher\",\n",
    "                                                          \"../cypher/Metrics/Calculate_and_set_Abstractness_for_Java.cypher\")\n",
    "abstractness.head(30)"
   ]
  },
  {
   "cell_type": "markdown",
   "id": "e4e93e7b",
   "metadata": {},
   "source": [
    "#### Table 4b\n",
    "\n",
    "- Show the top 30 packages with the highest *Abstractness* and number of Java Types"
   ]
  },
  {
   "cell_type": "code",
   "execution_count": 18,
   "id": "2ba8b673",
   "metadata": {
    "execution": {
     "iopub.execute_input": "2024-05-10T05:37:14.725547Z",
     "iopub.status.busy": "2024-05-10T05:37:14.725172Z",
     "iopub.status.idle": "2024-05-10T05:37:14.731358Z",
     "shell.execute_reply": "2024-05-10T05:37:14.730856Z"
    }
   },
   "outputs": [
    {
     "data": {
      "text/html": [
       "<div>\n",
       "<style scoped>\n",
       "    .dataframe tbody tr th:only-of-type {\n",
       "        vertical-align: middle;\n",
       "    }\n",
       "\n",
       "    .dataframe tbody tr th {\n",
       "        vertical-align: top;\n",
       "    }\n",
       "\n",
       "    .dataframe thead th {\n",
       "        text-align: right;\n",
       "    }\n",
       "</style>\n",
       "<table border=\"1\" class=\"dataframe\">\n",
       "  <thead>\n",
       "    <tr style=\"text-align: right;\">\n",
       "      <th></th>\n",
       "      <th>artifactName</th>\n",
       "      <th>fullQualifiedPackageName</th>\n",
       "      <th>packageName</th>\n",
       "      <th>abstractness</th>\n",
       "      <th>numberAbstractTypes</th>\n",
       "      <th>numberTypes</th>\n",
       "    </tr>\n",
       "  </thead>\n",
       "  <tbody>\n",
       "  </tbody>\n",
       "</table>\n",
       "</div>"
      ],
      "text/plain": [
       "Empty DataFrame\n",
       "Columns: [artifactName, fullQualifiedPackageName, packageName, abstractness, numberAbstractTypes, numberTypes]\n",
       "Index: []"
      ]
     },
     "execution_count": 18,
     "metadata": {},
     "output_type": "execute_result"
    }
   ],
   "source": [
    "abstractness.sort_values(by=['abstractness', 'numberTypes'], ascending=[False, False]).head(30)"
   ]
  },
  {
   "cell_type": "markdown",
   "id": "48f5f33a",
   "metadata": {},
   "source": [
    "#### Table 4c\n",
    "\n",
    "- Show the top 30 packages including their sub-packages with the highest package depth and lowest *Abstractness*\n",
    "- Set the property \"abstractnessIncludingSubpackages\" on Package nodes. "
   ]
  },
  {
   "cell_type": "code",
   "execution_count": 19,
   "id": "dca8ff56",
   "metadata": {
    "execution": {
     "iopub.execute_input": "2024-05-10T05:37:14.733630Z",
     "iopub.status.busy": "2024-05-10T05:37:14.733229Z",
     "iopub.status.idle": "2024-05-10T05:37:14.870180Z",
     "shell.execute_reply": "2024-05-10T05:37:14.869653Z"
    }
   },
   "outputs": [
    {
     "data": {
      "text/html": [
       "<div>\n",
       "<style scoped>\n",
       "    .dataframe tbody tr th:only-of-type {\n",
       "        vertical-align: middle;\n",
       "    }\n",
       "\n",
       "    .dataframe tbody tr th {\n",
       "        vertical-align: top;\n",
       "    }\n",
       "\n",
       "    .dataframe thead th {\n",
       "        text-align: right;\n",
       "    }\n",
       "</style>\n",
       "<table border=\"1\" class=\"dataframe\">\n",
       "  <thead>\n",
       "    <tr style=\"text-align: right;\">\n",
       "      <th></th>\n",
       "      <th>artifactName</th>\n",
       "      <th>fullQualifiedPackageName</th>\n",
       "      <th>packageName</th>\n",
       "      <th>abstractness</th>\n",
       "      <th>numberAbstractTypes</th>\n",
       "      <th>numberTypes</th>\n",
       "      <th>numberOfIncludedSubPackages</th>\n",
       "      <th>maxSubpackageDepth</th>\n",
       "    </tr>\n",
       "  </thead>\n",
       "  <tbody>\n",
       "  </tbody>\n",
       "</table>\n",
       "</div>"
      ],
      "text/plain": [
       "Empty DataFrame\n",
       "Columns: [artifactName, fullQualifiedPackageName, packageName, abstractness, numberAbstractTypes, numberTypes, numberOfIncludedSubPackages, maxSubpackageDepth]\n",
       "Index: []"
      ]
     },
     "execution_count": 19,
     "metadata": {},
     "output_type": "execute_result"
    }
   ],
   "source": [
    "abstractnessIncludingSubpackages = query_first_non_empty_cypher_to_data_frame(\"../cypher/Metrics/Get_Abstractness_for_Java_including_Subpackages.cypher\",\n",
    "                                                                              \"../cypher/Metrics/Calculate_and_set_Abstractness_for_Java_including_Subpackages.cypher\")\n",
    "abstractnessIncludingSubpackages.head(30)"
   ]
  },
  {
   "cell_type": "markdown",
   "id": "d4f38108",
   "metadata": {},
   "source": [
    "#### Table 4d\n",
    "\n",
    "- Show the top 30 packages including their sub-packages with the highest package depth and highest *Abstractness*"
   ]
  },
  {
   "cell_type": "code",
   "execution_count": 20,
   "id": "d5ad5e36",
   "metadata": {
    "execution": {
     "iopub.execute_input": "2024-05-10T05:37:14.872326Z",
     "iopub.status.busy": "2024-05-10T05:37:14.872167Z",
     "iopub.status.idle": "2024-05-10T05:37:14.878707Z",
     "shell.execute_reply": "2024-05-10T05:37:14.878179Z"
    }
   },
   "outputs": [
    {
     "data": {
      "text/html": [
       "<div>\n",
       "<style scoped>\n",
       "    .dataframe tbody tr th:only-of-type {\n",
       "        vertical-align: middle;\n",
       "    }\n",
       "\n",
       "    .dataframe tbody tr th {\n",
       "        vertical-align: top;\n",
       "    }\n",
       "\n",
       "    .dataframe thead th {\n",
       "        text-align: right;\n",
       "    }\n",
       "</style>\n",
       "<table border=\"1\" class=\"dataframe\">\n",
       "  <thead>\n",
       "    <tr style=\"text-align: right;\">\n",
       "      <th></th>\n",
       "      <th>artifactName</th>\n",
       "      <th>fullQualifiedPackageName</th>\n",
       "      <th>packageName</th>\n",
       "      <th>abstractness</th>\n",
       "      <th>numberAbstractTypes</th>\n",
       "      <th>numberTypes</th>\n",
       "      <th>numberOfIncludedSubPackages</th>\n",
       "      <th>maxSubpackageDepth</th>\n",
       "    </tr>\n",
       "  </thead>\n",
       "  <tbody>\n",
       "  </tbody>\n",
       "</table>\n",
       "</div>"
      ],
      "text/plain": [
       "Empty DataFrame\n",
       "Columns: [artifactName, fullQualifiedPackageName, packageName, abstractness, numberAbstractTypes, numberTypes, numberOfIncludedSubPackages, maxSubpackageDepth]\n",
       "Index: []"
      ]
     },
     "execution_count": 20,
     "metadata": {},
     "output_type": "execute_result"
    }
   ],
   "source": [
    "abstractnessIncludingSubpackages.sort_values(by=['abstractness', 'maxSubpackageDepth', 'numberTypes'], ascending=[False, False, False]).head(30)"
   ]
  },
  {
   "cell_type": "markdown",
   "id": "6f95770e",
   "metadata": {},
   "source": [
    "#### Table 4e\n",
    "\n",
    "- Show the top 30 Typescript modules with the lowest *Abstractness*\n",
    "- Set the property \"abstractness\" on Module nodes if not already done."
   ]
  },
  {
   "cell_type": "code",
   "execution_count": 21,
   "id": "65c36080",
   "metadata": {
    "execution": {
     "iopub.execute_input": "2024-05-10T05:37:14.881126Z",
     "iopub.status.busy": "2024-05-10T05:37:14.880973Z",
     "iopub.status.idle": "2024-05-10T05:37:14.932892Z",
     "shell.execute_reply": "2024-05-10T05:37:14.932466Z"
    }
   },
   "outputs": [
    {
     "data": {
      "text/html": [
       "<div>\n",
       "<style scoped>\n",
       "    .dataframe tbody tr th:only-of-type {\n",
       "        vertical-align: middle;\n",
       "    }\n",
       "\n",
       "    .dataframe tbody tr th {\n",
       "        vertical-align: top;\n",
       "    }\n",
       "\n",
       "    .dataframe thead th {\n",
       "        text-align: right;\n",
       "    }\n",
       "</style>\n",
       "<table border=\"1\" class=\"dataframe\">\n",
       "  <thead>\n",
       "    <tr style=\"text-align: right;\">\n",
       "      <th></th>\n",
       "      <th>projectName</th>\n",
       "      <th>fullQualifiedModuleName</th>\n",
       "      <th>moduleName</th>\n",
       "      <th>abstractness</th>\n",
       "      <th>numberAbstractTypes</th>\n",
       "      <th>numberTypes</th>\n",
       "    </tr>\n",
       "  </thead>\n",
       "  <tbody>\n",
       "    <tr>\n",
       "      <th>0</th>\n",
       "      <td>react-router-dom-v5-compat</td>\n",
       "      <td>/home/runner/work/code-graph-analysis-pipeline...</td>\n",
       "      <td>react-router-dom-v5-compat</td>\n",
       "      <td>0.000000</td>\n",
       "      <td>None</td>\n",
       "      <td>None</td>\n",
       "    </tr>\n",
       "    <tr>\n",
       "      <th>1</th>\n",
       "      <td>router</td>\n",
       "      <td>/home/runner/work/code-graph-analysis-pipeline...</td>\n",
       "      <td>router</td>\n",
       "      <td>0.000000</td>\n",
       "      <td>None</td>\n",
       "      <td>None</td>\n",
       "    </tr>\n",
       "    <tr>\n",
       "      <th>2</th>\n",
       "      <td>react-router-dom</td>\n",
       "      <td>/home/runner/work/code-graph-analysis-pipeline...</td>\n",
       "      <td>react-router-dom</td>\n",
       "      <td>0.230769</td>\n",
       "      <td>None</td>\n",
       "      <td>None</td>\n",
       "    </tr>\n",
       "    <tr>\n",
       "      <th>3</th>\n",
       "      <td>react-router-native</td>\n",
       "      <td>/home/runner/work/code-graph-analysis-pipeline...</td>\n",
       "      <td>react-router-native</td>\n",
       "      <td>0.312500</td>\n",
       "      <td>None</td>\n",
       "      <td>None</td>\n",
       "    </tr>\n",
       "    <tr>\n",
       "      <th>4</th>\n",
       "      <td>react-router-dom</td>\n",
       "      <td>/home/runner/work/code-graph-analysis-pipeline...</td>\n",
       "      <td>server.tsx</td>\n",
       "      <td>0.333333</td>\n",
       "      <td>None</td>\n",
       "      <td>None</td>\n",
       "    </tr>\n",
       "    <tr>\n",
       "      <th>5</th>\n",
       "      <td>react-router</td>\n",
       "      <td>/home/runner/work/code-graph-analysis-pipeline...</td>\n",
       "      <td>react-router</td>\n",
       "      <td>0.600000</td>\n",
       "      <td>None</td>\n",
       "      <td>None</td>\n",
       "    </tr>\n",
       "  </tbody>\n",
       "</table>\n",
       "</div>"
      ],
      "text/plain": [
       "                  projectName  \\\n",
       "0  react-router-dom-v5-compat   \n",
       "1                      router   \n",
       "2            react-router-dom   \n",
       "3         react-router-native   \n",
       "4            react-router-dom   \n",
       "5                react-router   \n",
       "\n",
       "                             fullQualifiedModuleName  \\\n",
       "0  /home/runner/work/code-graph-analysis-pipeline...   \n",
       "1  /home/runner/work/code-graph-analysis-pipeline...   \n",
       "2  /home/runner/work/code-graph-analysis-pipeline...   \n",
       "3  /home/runner/work/code-graph-analysis-pipeline...   \n",
       "4  /home/runner/work/code-graph-analysis-pipeline...   \n",
       "5  /home/runner/work/code-graph-analysis-pipeline...   \n",
       "\n",
       "                   moduleName  abstractness numberAbstractTypes numberTypes  \n",
       "0  react-router-dom-v5-compat      0.000000                None        None  \n",
       "1                      router      0.000000                None        None  \n",
       "2            react-router-dom      0.230769                None        None  \n",
       "3         react-router-native      0.312500                None        None  \n",
       "4                  server.tsx      0.333333                None        None  \n",
       "5                react-router      0.600000                None        None  "
      ]
     },
     "execution_count": 21,
     "metadata": {},
     "output_type": "execute_result"
    }
   ],
   "source": [
    "query_first_non_empty_cypher_to_data_frame(\"../cypher/Metrics/Get_Abstractness_for_Typescript.cypher\",\n",
    "                                           \"../cypher/Metrics/Calculate_and_set_Abstractness_for_Typescript.cypher\", limit=20)"
   ]
  },
  {
   "attachments": {},
   "cell_type": "markdown",
   "id": "e10154bb",
   "metadata": {},
   "source": [
    "## Distance from the main sequence\n",
    "\n",
    "The *main sequence* is a imaginary line that represents a good compromise between *Abstractness* and *Instability*. A high distance to this line may indicate problems. For example is very *stable* (rigid) code with low abstractness hard to change.\n",
    "\n",
    "Read more details on that in [OO Design Quality Metrics](https://api.semanticscholar.org/CorpusID:18246616) and [Calculate metrics](https://101.jqassistant.org/calculate-metrics/index.html).\n",
    "\n",
    "#### Table 5a\n",
    "\n",
    "- Show the top 30 packages with the highest distance from the \"main sequence\""
   ]
  },
  {
   "cell_type": "code",
   "execution_count": 22,
   "id": "f8513ef8",
   "metadata": {
    "execution": {
     "iopub.execute_input": "2024-05-10T05:37:14.934921Z",
     "iopub.status.busy": "2024-05-10T05:37:14.934767Z",
     "iopub.status.idle": "2024-05-10T05:37:14.979014Z",
     "shell.execute_reply": "2024-05-10T05:37:14.978513Z"
    }
   },
   "outputs": [
    {
     "data": {
      "text/html": [
       "<div>\n",
       "<style scoped>\n",
       "    .dataframe tbody tr th:only-of-type {\n",
       "        vertical-align: middle;\n",
       "    }\n",
       "\n",
       "    .dataframe tbody tr th {\n",
       "        vertical-align: top;\n",
       "    }\n",
       "\n",
       "    .dataframe thead th {\n",
       "        text-align: right;\n",
       "    }\n",
       "</style>\n",
       "<table border=\"1\" class=\"dataframe\">\n",
       "  <thead>\n",
       "    <tr style=\"text-align: right;\">\n",
       "      <th></th>\n",
       "      <th>artifactName</th>\n",
       "      <th>fullQualifiedName</th>\n",
       "      <th>name</th>\n",
       "      <th>distance</th>\n",
       "      <th>abstractness</th>\n",
       "      <th>instability</th>\n",
       "      <th>elementsCount</th>\n",
       "    </tr>\n",
       "  </thead>\n",
       "  <tbody>\n",
       "  </tbody>\n",
       "</table>\n",
       "</div>"
      ],
      "text/plain": [
       "Empty DataFrame\n",
       "Columns: [artifactName, fullQualifiedName, name, distance, abstractness, instability, elementsCount]\n",
       "Index: []"
      ]
     },
     "execution_count": 22,
     "metadata": {},
     "output_type": "execute_result"
    }
   ],
   "source": [
    "instabilityPerAbstractness = query_cypher_to_data_frame(\"../cypher/Metrics/Calculate_distance_between_abstractness_and_instability_for_Java.cypher\")\n",
    "instabilityPerAbstractness.head(30)"
   ]
  },
  {
   "cell_type": "markdown",
   "id": "d0b12ad3",
   "metadata": {},
   "source": [
    "#### Table 5b\n",
    "\n",
    "- Show the top 30 packages including their sub-packages with the highest distance from the \"main sequence\""
   ]
  },
  {
   "cell_type": "code",
   "execution_count": 23,
   "id": "d5408c28",
   "metadata": {
    "execution": {
     "iopub.execute_input": "2024-05-10T05:37:14.981388Z",
     "iopub.status.busy": "2024-05-10T05:37:14.981046Z",
     "iopub.status.idle": "2024-05-10T05:37:15.034256Z",
     "shell.execute_reply": "2024-05-10T05:37:15.033809Z"
    }
   },
   "outputs": [
    {
     "data": {
      "text/html": [
       "<div>\n",
       "<style scoped>\n",
       "    .dataframe tbody tr th:only-of-type {\n",
       "        vertical-align: middle;\n",
       "    }\n",
       "\n",
       "    .dataframe tbody tr th {\n",
       "        vertical-align: top;\n",
       "    }\n",
       "\n",
       "    .dataframe thead th {\n",
       "        text-align: right;\n",
       "    }\n",
       "</style>\n",
       "<table border=\"1\" class=\"dataframe\">\n",
       "  <thead>\n",
       "    <tr style=\"text-align: right;\">\n",
       "      <th></th>\n",
       "      <th>artifactName</th>\n",
       "      <th>fullQualifiedName</th>\n",
       "      <th>name</th>\n",
       "      <th>distance</th>\n",
       "      <th>abstractness</th>\n",
       "      <th>instability</th>\n",
       "      <th>elementsCount</th>\n",
       "    </tr>\n",
       "  </thead>\n",
       "  <tbody>\n",
       "  </tbody>\n",
       "</table>\n",
       "</div>"
      ],
      "text/plain": [
       "Empty DataFrame\n",
       "Columns: [artifactName, fullQualifiedName, name, distance, abstractness, instability, elementsCount]\n",
       "Index: []"
      ]
     },
     "execution_count": 23,
     "metadata": {},
     "output_type": "execute_result"
    }
   ],
   "source": [
    "instabilityPerAbstractnessIncludingSubpackages = query_cypher_to_data_frame(\"../cypher/Metrics/Calculate_distance_between_abstractness_and_instability_for_Java_including_subpackages.cypher\")\n",
    "instabilityPerAbstractnessIncludingSubpackages.head(30)"
   ]
  },
  {
   "cell_type": "markdown",
   "id": "c4fdbb1d",
   "metadata": {},
   "source": [
    "#### Table 5c\n",
    "\n",
    "- Show the top 30 Typescript modules with the highest distance from the \"main sequence\""
   ]
  },
  {
   "cell_type": "code",
   "execution_count": 24,
   "id": "0a1d2d24",
   "metadata": {
    "execution": {
     "iopub.execute_input": "2024-05-10T05:37:15.036622Z",
     "iopub.status.busy": "2024-05-10T05:37:15.036305Z",
     "iopub.status.idle": "2024-05-10T05:37:15.096056Z",
     "shell.execute_reply": "2024-05-10T05:37:15.095542Z"
    }
   },
   "outputs": [
    {
     "data": {
      "text/html": [
       "<div>\n",
       "<style scoped>\n",
       "    .dataframe tbody tr th:only-of-type {\n",
       "        vertical-align: middle;\n",
       "    }\n",
       "\n",
       "    .dataframe tbody tr th {\n",
       "        vertical-align: top;\n",
       "    }\n",
       "\n",
       "    .dataframe thead th {\n",
       "        text-align: right;\n",
       "    }\n",
       "</style>\n",
       "<table border=\"1\" class=\"dataframe\">\n",
       "  <thead>\n",
       "    <tr style=\"text-align: right;\">\n",
       "      <th></th>\n",
       "      <th>artifactName</th>\n",
       "      <th>fullQualifiedName</th>\n",
       "      <th>name</th>\n",
       "      <th>distance</th>\n",
       "      <th>abstractness</th>\n",
       "      <th>instability</th>\n",
       "      <th>elementsCount</th>\n",
       "    </tr>\n",
       "  </thead>\n",
       "  <tbody>\n",
       "    <tr>\n",
       "      <th>0</th>\n",
       "      <td>react-router-dom-v5-compat</td>\n",
       "      <td>/home/runner/work/code-graph-analysis-pipeline...</td>\n",
       "      <td>./index.ts</td>\n",
       "      <td>1.000000</td>\n",
       "      <td>0.000000</td>\n",
       "      <td>0.0</td>\n",
       "      <td>0</td>\n",
       "    </tr>\n",
       "    <tr>\n",
       "      <th>1</th>\n",
       "      <td>router</td>\n",
       "      <td>/home/runner/work/code-graph-analysis-pipeline...</td>\n",
       "      <td>./index.ts</td>\n",
       "      <td>1.000000</td>\n",
       "      <td>0.000000</td>\n",
       "      <td>0.0</td>\n",
       "      <td>0</td>\n",
       "    </tr>\n",
       "    <tr>\n",
       "      <th>2</th>\n",
       "      <td>react-router</td>\n",
       "      <td>/home/runner/work/code-graph-analysis-pipeline...</td>\n",
       "      <td>./index.ts</td>\n",
       "      <td>0.600000</td>\n",
       "      <td>0.600000</td>\n",
       "      <td>1.0</td>\n",
       "      <td>5</td>\n",
       "    </tr>\n",
       "    <tr>\n",
       "      <th>3</th>\n",
       "      <td>react-router-dom</td>\n",
       "      <td>/home/runner/work/code-graph-analysis-pipeline...</td>\n",
       "      <td>./server.tsx</td>\n",
       "      <td>0.333333</td>\n",
       "      <td>0.333333</td>\n",
       "      <td>1.0</td>\n",
       "      <td>6</td>\n",
       "    </tr>\n",
       "    <tr>\n",
       "      <th>4</th>\n",
       "      <td>react-router-native</td>\n",
       "      <td>/home/runner/work/code-graph-analysis-pipeline...</td>\n",
       "      <td>./index.tsx</td>\n",
       "      <td>0.312500</td>\n",
       "      <td>0.312500</td>\n",
       "      <td>1.0</td>\n",
       "      <td>16</td>\n",
       "    </tr>\n",
       "    <tr>\n",
       "      <th>5</th>\n",
       "      <td>react-router-dom</td>\n",
       "      <td>/home/runner/work/code-graph-analysis-pipeline...</td>\n",
       "      <td>./index.tsx</td>\n",
       "      <td>0.230769</td>\n",
       "      <td>0.230769</td>\n",
       "      <td>1.0</td>\n",
       "      <td>52</td>\n",
       "    </tr>\n",
       "  </tbody>\n",
       "</table>\n",
       "</div>"
      ],
      "text/plain": [
       "                 artifactName  \\\n",
       "0  react-router-dom-v5-compat   \n",
       "1                      router   \n",
       "2                react-router   \n",
       "3            react-router-dom   \n",
       "4         react-router-native   \n",
       "5            react-router-dom   \n",
       "\n",
       "                                   fullQualifiedName          name  distance  \\\n",
       "0  /home/runner/work/code-graph-analysis-pipeline...    ./index.ts  1.000000   \n",
       "1  /home/runner/work/code-graph-analysis-pipeline...    ./index.ts  1.000000   \n",
       "2  /home/runner/work/code-graph-analysis-pipeline...    ./index.ts  0.600000   \n",
       "3  /home/runner/work/code-graph-analysis-pipeline...  ./server.tsx  0.333333   \n",
       "4  /home/runner/work/code-graph-analysis-pipeline...   ./index.tsx  0.312500   \n",
       "5  /home/runner/work/code-graph-analysis-pipeline...   ./index.tsx  0.230769   \n",
       "\n",
       "   abstractness  instability  elementsCount  \n",
       "0      0.000000          0.0              0  \n",
       "1      0.000000          0.0              0  \n",
       "2      0.600000          1.0              5  \n",
       "3      0.333333          1.0              6  \n",
       "4      0.312500          1.0             16  \n",
       "5      0.230769          1.0             52  "
      ]
     },
     "execution_count": 24,
     "metadata": {},
     "output_type": "execute_result"
    }
   ],
   "source": [
    "instabilityPerAbstractnessTypescript = query_cypher_to_data_frame(\"../cypher/Metrics/Calculate_distance_between_abstractness_and_instability_for_Typescript.cypher\")\n",
    "instabilityPerAbstractnessTypescript.head(30)"
   ]
  },
  {
   "attachments": {},
   "cell_type": "markdown",
   "id": "149fc732",
   "metadata": {},
   "source": [
    "### *Abstractness* vs. *Instability* Plot with \"Main Sequence\" line as reference\n",
    "\n",
    "- Plot *Abstractness* vs. *Instability* of all packages\n",
    "- Draw the \"main sequence\" as dashed green diagonal line \n",
    "- Scale the packages by the number of types they contain\n",
    "- Color the packages by their distance to the \"main sequence\" (blue=near, red=far)"
   ]
  },
  {
   "cell_type": "code",
   "execution_count": 25,
   "id": "1fbbad97",
   "metadata": {
    "execution": {
     "iopub.execute_input": "2024-05-10T05:37:15.098107Z",
     "iopub.status.busy": "2024-05-10T05:37:15.097952Z",
     "iopub.status.idle": "2024-05-10T05:37:15.100382Z",
     "shell.execute_reply": "2024-05-10T05:37:15.100001Z"
    }
   },
   "outputs": [],
   "source": [
    "# Function that returns the number of past (index smaller than given index) rows \n",
    "# with the same value in columnName1 and columnName2\n",
    "# If there was a row with the same columnName1 and columnName2 values\n",
    "# def countPastEntriesWithSameValues(dataFrame, index, columnName1, columnName2):\n",
    "#     columnValue1 = dataFrame[columnName1][index]\n",
    "#     columnValue2 = dataFrame[columnName2][index]\n",
    "#     return len(dataFrame[\n",
    "#         (dataFrame.index.isin(range(0, index + 1))) & \n",
    "#         (dataFrame[columnName1]==columnValue1) & \n",
    "#         (dataFrame[columnName2]==columnValue2)\n",
    "#     ]) - 1"
   ]
  },
  {
   "cell_type": "code",
   "execution_count": 26,
   "id": "48edf0ac",
   "metadata": {
    "execution": {
     "iopub.execute_input": "2024-05-10T05:37:15.102036Z",
     "iopub.status.busy": "2024-05-10T05:37:15.101890Z",
     "iopub.status.idle": "2024-05-10T05:37:15.107006Z",
     "shell.execute_reply": "2024-05-10T05:37:15.106605Z"
    }
   },
   "outputs": [],
   "source": [
    "def annotate_plot(data_frame: pd.DataFrame, index: int):\n",
    "    \"\"\"\n",
    "    Annotates the data points identified by the \"index\" in the plot of the \"data_frame\" \n",
    "    \"\"\"\n",
    "    x_position = data_frame.abstractness[index].item()\n",
    "    y_position = data_frame.instability[index].item()\n",
    "    artifact_name = data_frame.artifactName[index].item()\n",
    "    package_name = data_frame.name[index].item()\n",
    "\n",
    "    label_box=dict(boxstyle=\"round4,pad=0.5\", fc=\"w\", alpha=0.8)\n",
    "    plot.annotate(artifact_name + '\\n' + package_name\n",
    "        ,xy=(x_position, y_position)\n",
    "        ,xycoords='data'\n",
    "        ,xytext=(20, 0)\n",
    "        ,textcoords='offset points'\n",
    "        ,size=6\n",
    "        ,bbox=label_box\n",
    "        ,arrowprops=dict(arrowstyle=\"-|>\", mutation_scale=10, color=\"black\")\n",
    "    )\n",
    "\n",
    "def index_of_sorted(data_frame: pd.DataFrame, highest: list[str] = []):\n",
    "    \"\"\"\n",
    "    Sorts the \"data_frame\" by columns 'abstractness','instability','elementsCount', 'artifactName'\n",
    "    and returns the index of the first row.\n",
    "    Columns that are contained in the list of strings parameter \"highest\" will be sorted descending.\n",
    "    \"\"\"\n",
    "    by = ['abstractness','instability','elementsCount','artifactName']\n",
    "    ascending = [('abstractness' not in highest), ('instability' not in highest), False, True]\n",
    "    return data_frame.sort_values(by=by, ascending=ascending).head(1).index\n",
    "\n",
    "def index_of_highest_property(data_frame: pd.DataFrame, highest: str):\n",
    "    \"\"\"\n",
    "    Sorts the \"data_frame\" by the property given in input parameter \"highest\" descending\n",
    "    and returns the index of the first row.\n",
    "    \"\"\"\n",
    "    by = [highest,'artifactName']\n",
    "    ascending = [False, True]\n",
    "    return data_frame.sort_values(by=by, ascending=ascending).head(1).index"
   ]
  },
  {
   "cell_type": "code",
   "execution_count": 27,
   "id": "cd8489ca",
   "metadata": {
    "execution": {
     "iopub.execute_input": "2024-05-10T05:37:15.108758Z",
     "iopub.status.busy": "2024-05-10T05:37:15.108606Z",
     "iopub.status.idle": "2024-05-10T05:37:15.113472Z",
     "shell.execute_reply": "2024-05-10T05:37:15.113098Z"
    }
   },
   "outputs": [],
   "source": [
    "from  matplotlib.colors import LinearSegmentedColormap\n",
    "\n",
    "def plot_instability_per_abstractness_with_main_sequence(data_frame: pd.DataFrame, subtitle: str = ''):\n",
    "    \"\"\"\n",
    "    Prints the so called \"Main Sequence\" as green dotted diagonal line as a reference.\n",
    "    On top of that every Java Package is plotted as a data point:\n",
    "     - The X-axis is the \"Abstractness\" where 0 = all classes to 1 = all interfaces and abstract classes\n",
    "     - The Y-axis is the \"Instability\" where 0 = stable (many incoming dependencies) and 1 instable (no incoming dependencies)\n",
    "     - The size reflects the number of contained Java Types\n",
    "     - The color reflects the distance to the \"Main Sequence\"\n",
    "    \"\"\"\n",
    "        \n",
    "    colormap=LinearSegmentedColormap.from_list('rg',[\"green\", \"gold\", \"orangered\", \"red\"], N=256) \n",
    "    marker_scales_bounded=data_frame.elementsCount.clip(lower=2, upper=300) * 0.7\n",
    "\n",
    "    plot.scatter(\n",
    "        data_frame.abstractness, # x axis shows abstractness\n",
    "        data_frame.instability, # y axis shows instability\n",
    "        s=marker_scales_bounded, # scale depends on number of contained types\n",
    "        c=data_frame.distance, # color depends on distance to the main sequence\n",
    "        cmap=colormap, #'bwr' # colormap that prints high values in red and lower values in blue\n",
    "        alpha=0.5,\n",
    "    )\n",
    "    # green \"main sequence\" line\n",
    "    plot.plot([0,1], [1,0], c='lightgreen', linestyle='dashed') \n",
    "\n",
    "    # Annotate largest package\n",
    "    annotate_plot(data_frame, index_of_highest_property(data_frame, highest='elementsCount'))\n",
    "    # Annotate largest package with the highest abstractness and instability\n",
    "    annotate_plot(data_frame, index_of_sorted(data_frame, highest=['abstractness','instability']))\n",
    "    # Annotate largest package with the lowest abstractness and highest instability\n",
    "    annotate_plot(data_frame, index_of_sorted(data_frame, highest=['instability']))\n",
    "    # Annotate largest package with the lowest abstractness and lowest instability\n",
    "    annotate_plot(data_frame, index_of_sorted(data_frame, highest=[]))\n",
    "    # Annotate largest package with the highest abstractness and lowest instability\n",
    "    annotate_plot(data_frame, index_of_sorted(data_frame, highest=['abstractness']))\n",
    "    # Annotate largest packages with the highest abstractness and instability near 0.5% \n",
    "    annotation_index = index_of_sorted(highest=['abstractness', 'instability'], data_frame=data_frame.query('abstractness <= 0.4 & instability <= 0.4'))\n",
    "    annotate_plot(data_frame, annotation_index)\n",
    "\n",
    "    plot.title('Abstractness vs. Instability (\"Main Sequence\")\\n' + subtitle)\n",
    "    plot.xlabel('Abstractness')\n",
    "    plot.ylabel('Instability')\n",
    "    plot.show()\n"
   ]
  },
  {
   "cell_type": "markdown",
   "id": "e9a98a47",
   "metadata": {},
   "source": [
    "#### Figure 1a - Packages without their sub-packages"
   ]
  },
  {
   "cell_type": "code",
   "execution_count": 28,
   "id": "7c7e474d",
   "metadata": {
    "execution": {
     "iopub.execute_input": "2024-05-10T05:37:15.115243Z",
     "iopub.status.busy": "2024-05-10T05:37:15.115097Z",
     "iopub.status.idle": "2024-05-10T05:37:15.117468Z",
     "shell.execute_reply": "2024-05-10T05:37:15.117077Z"
    }
   },
   "outputs": [],
   "source": [
    "if not instabilityPerAbstractness.empty:\n",
    "   plot_instability_per_abstractness_with_main_sequence(instabilityPerAbstractness, 'Packages without their sub-packages')"
   ]
  },
  {
   "cell_type": "markdown",
   "id": "a0f207bb",
   "metadata": {},
   "source": [
    "#### Figure 1b - Packages including their sub-packages"
   ]
  },
  {
   "cell_type": "code",
   "execution_count": 29,
   "id": "37552b01",
   "metadata": {
    "execution": {
     "iopub.execute_input": "2024-05-10T05:37:15.119329Z",
     "iopub.status.busy": "2024-05-10T05:37:15.119038Z",
     "iopub.status.idle": "2024-05-10T05:37:15.121331Z",
     "shell.execute_reply": "2024-05-10T05:37:15.120943Z"
    }
   },
   "outputs": [],
   "source": [
    "if not instabilityPerAbstractnessIncludingSubpackages.empty:\n",
    "   plot_instability_per_abstractness_with_main_sequence(instabilityPerAbstractnessIncludingSubpackages, 'Packages including their sub-packages')"
   ]
  },
  {
   "cell_type": "markdown",
   "id": "c7499522",
   "metadata": {},
   "source": [
    "#### Figure 1c - Typescript Modules"
   ]
  },
  {
   "cell_type": "code",
   "execution_count": 30,
   "id": "02763566",
   "metadata": {
    "execution": {
     "iopub.execute_input": "2024-05-10T05:37:15.123148Z",
     "iopub.status.busy": "2024-05-10T05:37:15.122994Z",
     "iopub.status.idle": "2024-05-10T05:37:15.392586Z",
     "shell.execute_reply": "2024-05-10T05:37:15.392094Z"
    }
   },
   "outputs": [
    {
     "data": {
      "image/png": "[encoded data removed]",
      "text/plain": [
       "<Figure size 640x480 with 1 Axes>"
      ]
     },
     "metadata": {},
     "output_type": "display_data"
    }
   ],
   "source": [
    "if not instabilityPerAbstractnessTypescript.empty:\n",
    "   plot_instability_per_abstractness_with_main_sequence(instabilityPerAbstractnessTypescript, 'Typescript modules')"
   ]
  }
 ],
 "metadata": {
  "authors": [
   {
    "name": "JohT"
   }
  ],
  "kernelspec": {
   "display_name": "Python 3 (ipykernel)",
   "language": "python",
   "name": "python3"
  },
  "language_info": {
   "codemirror_mode": {
    "name": "ipython",
    "version": 3
   },
   "file_extension": ".py",
   "mimetype": "text/x-python",
   "name": "python",
   "nbconvert_exporter": "python",
   "pygments_lexer": "ipython3",
   "version": "3.11.0"
  },
  "title": "Object Oriented Design Quality Metrics for Java with Neo4j"
 },
 "nbformat": 4,
 "nbformat_minor": 5
}
