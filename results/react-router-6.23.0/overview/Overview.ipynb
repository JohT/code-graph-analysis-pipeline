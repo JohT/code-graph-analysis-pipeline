{
 "cells": [
  {
   "attachments": {},
   "cell_type": "markdown",
   "id": "2f0eabc4",
   "metadata": {},
   "source": [
    "# Overview\n",
    "<br>  \n",
    "\n",
    "### References\n",
    "- [jqassistant](https://jqassistant.org)\n",
    "- [Neo4j Python Driver](https://neo4j.com/docs/api/python-driver/current)"
   ]
  },
  {
   "cell_type": "code",
   "execution_count": 1,
   "id": "4191f259",
   "metadata": {
    "execution": {
     "iopub.execute_input": "2024-05-13T13:33:50.804331Z",
     "iopub.status.busy": "2024-05-13T13:33:50.803844Z",
     "iopub.status.idle": "2024-05-13T13:33:51.321756Z",
     "shell.execute_reply": "2024-05-13T13:33:51.321257Z"
    }
   },
   "outputs": [],
   "source": [
    "import os\n",
    "import pandas as pd\n",
    "import matplotlib.pyplot as plot\n",
    "from neo4j import GraphDatabase"
   ]
  },
  {
   "cell_type": "code",
   "execution_count": 2,
   "id": "1c5dab37",
   "metadata": {
    "execution": {
     "iopub.execute_input": "2024-05-13T13:33:51.324337Z",
     "iopub.status.busy": "2024-05-13T13:33:51.324030Z",
     "iopub.status.idle": "2024-05-13T13:33:51.331573Z",
     "shell.execute_reply": "2024-05-13T13:33:51.331210Z"
    }
   },
   "outputs": [],
   "source": [
    "# Please set the environment variable \"NEO4J_INITIAL_PASSWORD\" in your shell \n",
    "# before starting jupyter notebook to provide the password for the user \"neo4j\". \n",
    "# It is not recommended to hardcode the password into jupyter notebook for security reasons.\n",
    "\n",
    "driver = GraphDatabase.driver(uri=\"bolt://localhost:7687\", auth=(\"neo4j\", os.environ.get(\"NEO4J_INITIAL_PASSWORD\")))\n",
    "driver.verify_connectivity()"
   ]
  },
  {
   "cell_type": "code",
   "execution_count": 3,
   "id": "c1db254b",
   "metadata": {
    "execution": {
     "iopub.execute_input": "2024-05-13T13:33:51.333797Z",
     "iopub.status.busy": "2024-05-13T13:33:51.333503Z",
     "iopub.status.idle": "2024-05-13T13:33:51.336091Z",
     "shell.execute_reply": "2024-05-13T13:33:51.335636Z"
    }
   },
   "outputs": [],
   "source": [
    "def get_cypher_query_from_file(filename):\n",
    "    with open(filename) as file:\n",
    "        return ' '.join(file.readlines())"
   ]
  },
  {
   "cell_type": "code",
   "execution_count": 4,
   "id": "59310f6f",
   "metadata": {
    "execution": {
     "iopub.execute_input": "2024-05-13T13:33:51.338054Z",
     "iopub.status.busy": "2024-05-13T13:33:51.337755Z",
     "iopub.status.idle": "2024-05-13T13:33:51.340419Z",
     "shell.execute_reply": "2024-05-13T13:33:51.340013Z"
    }
   },
   "outputs": [],
   "source": [
    "def query_cypher_to_data_frame(filename):\n",
    "    records, summary, keys = driver.execute_query(get_cypher_query_from_file(filename))\n",
    "    return pd.DataFrame([r.values() for r in records], columns=keys)"
   ]
  },
  {
   "cell_type": "code",
   "execution_count": 5,
   "id": "da9e8edb",
   "metadata": {
    "execution": {
     "iopub.execute_input": "2024-05-13T13:33:51.342352Z",
     "iopub.status.busy": "2024-05-13T13:33:51.342042Z",
     "iopub.status.idle": "2024-05-13T13:33:51.344217Z",
     "shell.execute_reply": "2024-05-13T13:33:51.343819Z"
    }
   },
   "outputs": [],
   "source": [
    "#The following cell uses the build-in %html \"magic\" to override the CSS style for tables to a much smaller size.\n",
    "#This is especially needed for PDF export of tables with multiple columns."
   ]
  },
  {
   "cell_type": "code",
   "execution_count": 6,
   "id": "9deaabce",
   "metadata": {
    "execution": {
     "iopub.execute_input": "2024-05-13T13:33:51.346242Z",
     "iopub.status.busy": "2024-05-13T13:33:51.345835Z",
     "iopub.status.idle": "2024-05-13T13:33:51.352871Z",
     "shell.execute_reply": "2024-05-13T13:33:51.352443Z"
    }
   },
   "outputs": [
    {
     "data": {
      "text/html": [
       "<style>\n",
       "/* CSS style for smaller dataframe tables. */\n",
       ".dataframe th {\n",
       "    font-size: 8px;\n",
       "}\n",
       ".dataframe td {\n",
       "    font-size: 8px;\n",
       "}\n",
       "</style>\n"
      ],
      "text/plain": [
       "<IPython.core.display.HTML object>"
      ]
     },
     "metadata": {},
     "output_type": "display_data"
    }
   ],
   "source": [
    "%%html\n",
    "<style>\n",
    "/* CSS style for smaller dataframe tables. */\n",
    ".dataframe th {\n",
    "    font-size: 8px;\n",
    "}\n",
    ".dataframe td {\n",
    "    font-size: 8px;\n",
    "}\n",
    "</style>"
   ]
  },
  {
   "cell_type": "code",
   "execution_count": 7,
   "id": "c2496caf",
   "metadata": {
    "execution": {
     "iopub.execute_input": "2024-05-13T13:33:51.354707Z",
     "iopub.status.busy": "2024-05-13T13:33:51.354548Z",
     "iopub.status.idle": "2024-05-13T13:33:51.356923Z",
     "shell.execute_reply": "2024-05-13T13:33:51.356540Z"
    }
   },
   "outputs": [],
   "source": [
    "# Main Colormap\n",
    "main_color_map = 'nipy_spectral'"
   ]
  },
  {
   "cell_type": "markdown",
   "id": "0c68aa20",
   "metadata": {},
   "source": [
    "## Overview"
   ]
  },
  {
   "cell_type": "markdown",
   "id": "8333d13e",
   "metadata": {},
   "source": [
    "### Table 1 - Size"
   ]
  },
  {
   "cell_type": "code",
   "execution_count": 8,
   "id": "f4ddd4d4",
   "metadata": {
    "execution": {
     "iopub.execute_input": "2024-05-13T13:33:51.358871Z",
     "iopub.status.busy": "2024-05-13T13:33:51.358716Z",
     "iopub.status.idle": "2024-05-13T13:33:51.397468Z",
     "shell.execute_reply": "2024-05-13T13:33:51.396820Z"
    }
   },
   "outputs": [
    {
     "data": {
      "text/html": [
       "<div>\n",
       "<style scoped>\n",
       "    .dataframe tbody tr th:only-of-type {\n",
       "        vertical-align: middle;\n",
       "    }\n",
       "\n",
       "    .dataframe tbody tr th {\n",
       "        vertical-align: top;\n",
       "    }\n",
       "\n",
       "    .dataframe thead th {\n",
       "        text-align: right;\n",
       "    }\n",
       "</style>\n",
       "<table border=\"1\" class=\"dataframe\">\n",
       "  <thead>\n",
       "    <tr style=\"text-align: right;\">\n",
       "      <th></th>\n",
       "      <th>nodeCount</th>\n",
       "      <th>relationshipCount</th>\n",
       "      <th>artifactCount</th>\n",
       "      <th>packageCount</th>\n",
       "      <th>typeCount</th>\n",
       "      <th>methodCount</th>\n",
       "      <th>memberCount</th>\n",
       "    </tr>\n",
       "  </thead>\n",
       "  <tbody>\n",
       "  </tbody>\n",
       "</table>\n",
       "</div>"
      ],
      "text/plain": [
       "Empty DataFrame\n",
       "Columns: [nodeCount, relationshipCount, artifactCount, packageCount, typeCount, methodCount, memberCount]\n",
       "Index: []"
      ]
     },
     "execution_count": 8,
     "metadata": {},
     "output_type": "execute_result"
    }
   ],
   "source": [
    "overview_size = query_cypher_to_data_frame(\"../cypher/Overview/Overview_size.cypher\")\n",
    "overview_size"
   ]
  },
  {
   "attachments": {},
   "cell_type": "markdown",
   "id": "91d80bf7",
   "metadata": {},
   "source": [
    "## Artifacts"
   ]
  },
  {
   "attachments": {},
   "cell_type": "markdown",
   "id": "e02f924a",
   "metadata": {},
   "source": [
    "### Table 2a - Largest 30 types per artifact\n",
    "\n",
    "This table shows the largest (number of types) artifacts and their kind of types (Class, Interface, Enum, Annotation).\n",
    "The whole table can be found in the CSV report `Number_of_types_per_artifact`."
   ]
  },
  {
   "cell_type": "code",
   "execution_count": 9,
   "id": "dc682db6",
   "metadata": {
    "execution": {
     "iopub.execute_input": "2024-05-13T13:33:51.400151Z",
     "iopub.status.busy": "2024-05-13T13:33:51.399995Z",
     "iopub.status.idle": "2024-05-13T13:33:51.419585Z",
     "shell.execute_reply": "2024-05-13T13:33:51.419124Z"
    }
   },
   "outputs": [
    {
     "data": {
      "text/html": [
       "<div>\n",
       "<style scoped>\n",
       "    .dataframe tbody tr th:only-of-type {\n",
       "        vertical-align: middle;\n",
       "    }\n",
       "\n",
       "    .dataframe tbody tr th {\n",
       "        vertical-align: top;\n",
       "    }\n",
       "\n",
       "    .dataframe thead th {\n",
       "        text-align: right;\n",
       "    }\n",
       "</style>\n",
       "<table border=\"1\" class=\"dataframe\">\n",
       "  <thead>\n",
       "    <tr style=\"text-align: right;\">\n",
       "      <th></th>\n",
       "      <th>artifactName</th>\n",
       "      <th>numberOfArtifactTypes</th>\n",
       "      <th>languageElement</th>\n",
       "      <th>numberOfTypes</th>\n",
       "    </tr>\n",
       "  </thead>\n",
       "  <tbody>\n",
       "  </tbody>\n",
       "</table>\n",
       "</div>"
      ],
      "text/plain": [
       "Empty DataFrame\n",
       "Columns: [artifactName, numberOfArtifactTypes, languageElement, numberOfTypes]\n",
       "Index: []"
      ]
     },
     "execution_count": 9,
     "metadata": {},
     "output_type": "execute_result"
    }
   ],
   "source": [
    "types_per_artifact = query_cypher_to_data_frame(\"../cypher/Overview/Number_of_types_per_artifact.cypher\")\n",
    "types_per_artifact.head(30)"
   ]
  },
  {
   "attachments": {},
   "cell_type": "markdown",
   "id": "b44c8a75",
   "metadata": {},
   "source": [
    "### Table 2b - Largest 30 types per artifact grouped\n",
    "\n",
    "This table shows the largest (number of types) artifacts each in one row, their kind of types in columns and the count of them as values.\n",
    "\n",
    "The source data for this aggregated table can be found in the CSV report `Number_of_types_per_artifact`."
   ]
  },
  {
   "cell_type": "code",
   "execution_count": 10,
   "id": "390c40f5",
   "metadata": {
    "execution": {
     "iopub.execute_input": "2024-05-13T13:33:51.421901Z",
     "iopub.status.busy": "2024-05-13T13:33:51.421510Z",
     "iopub.status.idle": "2024-05-13T13:33:51.430329Z",
     "shell.execute_reply": "2024-05-13T13:33:51.429941Z"
    }
   },
   "outputs": [
    {
     "data": {
      "text/html": [
       "<div>\n",
       "<style scoped>\n",
       "    .dataframe tbody tr th:only-of-type {\n",
       "        vertical-align: middle;\n",
       "    }\n",
       "\n",
       "    .dataframe tbody tr th {\n",
       "        vertical-align: top;\n",
       "    }\n",
       "\n",
       "    .dataframe thead th {\n",
       "        text-align: right;\n",
       "    }\n",
       "</style>\n",
       "<table border=\"1\" class=\"dataframe\">\n",
       "  <thead>\n",
       "    <tr style=\"text-align: right;\">\n",
       "      <th>languageElement</th>\n",
       "    </tr>\n",
       "    <tr>\n",
       "      <th>artifactName</th>\n",
       "    </tr>\n",
       "  </thead>\n",
       "  <tbody>\n",
       "  </tbody>\n",
       "</table>\n",
       "</div>"
      ],
      "text/plain": [
       "Empty DataFrame\n",
       "Columns: []\n",
       "Index: []"
      ]
     },
     "execution_count": 10,
     "metadata": {},
     "output_type": "execute_result"
    }
   ],
   "source": [
    "# Pivot the DataFrame to \n",
    "# - group by the first column (artifactName) as new index\n",
    "# - convert the values in the second column (typeLabel) \n",
    "# - into columns with the value of the third column (numberOfTypes).\n",
    "types_per_artifact_grouped = types_per_artifact.pivot(index='artifactName', columns='languageElement', values='numberOfTypes')\n",
    "\n",
    "# Fill missing values with zero\n",
    "types_per_artifact_grouped.fillna(0, inplace=True)\n",
    "\n",
    "# Calculate the sum of values for each row\n",
    "types_per_artifact_grouped['Total'] = types_per_artifact_grouped.sum(axis=1)\n",
    "\n",
    "# Sort the DataFrame by the sum of values\n",
    "types_per_artifact_grouped.sort_values(by='Total', ascending=False, inplace=True)\n",
    "\n",
    "# Remove the 'Total' column\n",
    "types_per_artifact_grouped.drop('Total', axis=1, inplace=True)\n",
    "\n",
    "# Sort the order of the columns by their sum\n",
    "column_sum = types_per_artifact_grouped.sum()\n",
    "types_per_artifact_grouped = types_per_artifact_grouped[column_sum.sort_values(ascending=False).index[:]]\n",
    "\n",
    "# Convert to integer\n",
    "types_per_artifact_grouped.astype(int).head(30)"
   ]
  },
  {
   "cell_type": "markdown",
   "id": "cbe350d7",
   "metadata": {},
   "source": [
    "### Table 2b Chart 1 - 30 largest artifacts and their types stacked"
   ]
  },
  {
   "cell_type": "code",
   "execution_count": 11,
   "id": "982df680",
   "metadata": {
    "execution": {
     "iopub.execute_input": "2024-05-13T13:33:51.432327Z",
     "iopub.status.busy": "2024-05-13T13:33:51.431978Z",
     "iopub.status.idle": "2024-05-13T13:33:51.435337Z",
     "shell.execute_reply": "2024-05-13T13:33:51.434880Z"
    }
   },
   "outputs": [
    {
     "name": "stdout",
     "output_type": "stream",
     "text": [
      "No data to plot\n"
     ]
    }
   ],
   "source": [
    "if types_per_artifact_grouped.empty:\n",
    "    print(\"No data to plot\")\n",
    "else:\n",
    "    plot.figure();\n",
    "    types_per_artifact_grouped.head(30).plot(\n",
    "        kind='bar', \n",
    "        title='Top 30 types per artifact',\n",
    "        xlabel='Artifact',\n",
    "        ylabel='Types',\n",
    "        stacked=True, \n",
    "        cmap=main_color_map,\n",
    "        figsize=(8, 5)\n",
    "    )\n",
    "    plot.show()"
   ]
  },
  {
   "attachments": {},
   "cell_type": "markdown",
   "id": "62268321",
   "metadata": {},
   "source": [
    "### Table 2c - Largest 30 types per artifact (grouped and normalized in %)"
   ]
  },
  {
   "cell_type": "code",
   "execution_count": 12,
   "id": "ed887815",
   "metadata": {
    "execution": {
     "iopub.execute_input": "2024-05-13T13:33:51.437360Z",
     "iopub.status.busy": "2024-05-13T13:33:51.437058Z",
     "iopub.status.idle": "2024-05-13T13:33:51.441578Z",
     "shell.execute_reply": "2024-05-13T13:33:51.441138Z"
    }
   },
   "outputs": [
    {
     "data": {
      "text/html": [
       "<div>\n",
       "<style scoped>\n",
       "    .dataframe tbody tr th:only-of-type {\n",
       "        vertical-align: middle;\n",
       "    }\n",
       "\n",
       "    .dataframe tbody tr th {\n",
       "        vertical-align: top;\n",
       "    }\n",
       "\n",
       "    .dataframe thead th {\n",
       "        text-align: right;\n",
       "    }\n",
       "</style>\n",
       "<table border=\"1\" class=\"dataframe\">\n",
       "  <thead>\n",
       "    <tr style=\"text-align: right;\">\n",
       "      <th>languageElement</th>\n",
       "    </tr>\n",
       "    <tr>\n",
       "      <th>artifactName</th>\n",
       "    </tr>\n",
       "  </thead>\n",
       "  <tbody>\n",
       "  </tbody>\n",
       "</table>\n",
       "</div>"
      ],
      "text/plain": [
       "Empty DataFrame\n",
       "Columns: []\n",
       "Index: []"
      ]
     },
     "execution_count": 12,
     "metadata": {},
     "output_type": "execute_result"
    }
   ],
   "source": [
    "# Divide every value by the sum of the row to get horizontal normalized values.\n",
    "# This makes it easier to compare the \"language element\" usage without taking the size of the artifact into account\n",
    "types_per_artifact_grouped_normalized = types_per_artifact_grouped.div(types_per_artifact_grouped.sum(axis=1), axis=0).multiply(100)\n",
    "types_per_artifact_grouped_normalized.head(30)"
   ]
  },
  {
   "cell_type": "markdown",
   "id": "47befd1d",
   "metadata": {},
   "source": [
    "### Table 2c Chart 1 - Top 30 artifacts with the highest relative amount of classes in %"
   ]
  },
  {
   "cell_type": "code",
   "execution_count": 13,
   "id": "a0e1b7bc",
   "metadata": {
    "execution": {
     "iopub.execute_input": "2024-05-13T13:33:51.443400Z",
     "iopub.status.busy": "2024-05-13T13:33:51.443247Z",
     "iopub.status.idle": "2024-05-13T13:33:51.446735Z",
     "shell.execute_reply": "2024-05-13T13:33:51.446275Z"
    }
   },
   "outputs": [
    {
     "name": "stdout",
     "output_type": "stream",
     "text": [
      "No data to plot\n"
     ]
    }
   ],
   "source": [
    "if types_per_artifact_grouped_normalized.empty:\n",
    "    print(\"No data to plot\")\n",
    "else:\n",
    "    types_per_artifact_sorted_by_classes=types_per_artifact_grouped_normalized.sort_values(by='Class', ascending=False)\n",
    "    \n",
    "    plot.figure();\n",
    "    types_per_artifact_sorted_by_classes.head(30).plot(kind='bar', stacked=True, cmap=main_color_map, figsize=(8, 5))\n",
    "    plot.xlabel('Artifact')\n",
    "    plot.ylabel('Types %')\n",
    "    plot.title('Class types [%] per artifact')\n",
    "    plot.show()"
   ]
  },
  {
   "cell_type": "markdown",
   "id": "652b8526",
   "metadata": {},
   "source": [
    "### Table 2c Chart 2 - Top 30 artifacts with the highest relative amount of interfaces in %"
   ]
  },
  {
   "cell_type": "code",
   "execution_count": 14,
   "id": "ccb4d386",
   "metadata": {
    "execution": {
     "iopub.execute_input": "2024-05-13T13:33:51.448773Z",
     "iopub.status.busy": "2024-05-13T13:33:51.448469Z",
     "iopub.status.idle": "2024-05-13T13:33:51.451794Z",
     "shell.execute_reply": "2024-05-13T13:33:51.451303Z"
    }
   },
   "outputs": [
    {
     "name": "stdout",
     "output_type": "stream",
     "text": [
      "No data to plot\n"
     ]
    }
   ],
   "source": [
    "if types_per_artifact_grouped_normalized.empty:\n",
    "    print(\"No data to plot\")\n",
    "else:\n",
    "    types_per_artifact_sorted_by_interfaces=types_per_artifact_grouped_normalized.sort_values(by='Interface', ascending=False)\n",
    "    \n",
    "    plot.figure();\n",
    "    types_per_artifact_sorted_by_interfaces.head(30).plot(kind='bar', stacked=True, cmap=main_color_map, figsize=(8, 5))\n",
    "    plot.xlabel('Artifact')\n",
    "    plot.ylabel('Types %')\n",
    "    plot.title('Interface types [%] per artifact')\n",
    "    plot.show()"
   ]
  },
  {
   "cell_type": "markdown",
   "id": "a6103211",
   "metadata": {},
   "source": [
    "### Table 2c Chart 3 - Top 30 artifacts with the highest relative amount of enums in %"
   ]
  },
  {
   "cell_type": "code",
   "execution_count": 15,
   "id": "fd70980d",
   "metadata": {
    "execution": {
     "iopub.execute_input": "2024-05-13T13:33:51.453970Z",
     "iopub.status.busy": "2024-05-13T13:33:51.453670Z",
     "iopub.status.idle": "2024-05-13T13:33:51.457052Z",
     "shell.execute_reply": "2024-05-13T13:33:51.456581Z"
    }
   },
   "outputs": [
    {
     "name": "stdout",
     "output_type": "stream",
     "text": [
      "No data to plot\n"
     ]
    }
   ],
   "source": [
    "if types_per_artifact_grouped_normalized.empty:\n",
    "    print(\"No data to plot\")\n",
    "else:\n",
    "    types_per_artifact_sorted_by_enums=types_per_artifact_grouped_normalized.sort_values(by='Enum', ascending=False)\n",
    "    plot.figure();\n",
    "    types_per_artifact_sorted_by_enums.head(30).plot(kind='bar', stacked=True, cmap=main_color_map, figsize=(8, 5))\n",
    "    plot.xlabel('Artifact')\n",
    "    plot.ylabel('Types %')\n",
    "    plot.title('Enum types [%] per artifact')\n",
    "    plot.show()"
   ]
  },
  {
   "cell_type": "markdown",
   "id": "17cf05c7",
   "metadata": {},
   "source": [
    "### Table 2c Chart 4 - Top 30 artifacts with the highest relative amount of annotations in %"
   ]
  },
  {
   "cell_type": "code",
   "execution_count": 16,
   "id": "1054634e",
   "metadata": {
    "execution": {
     "iopub.execute_input": "2024-05-13T13:33:51.459071Z",
     "iopub.status.busy": "2024-05-13T13:33:51.458782Z",
     "iopub.status.idle": "2024-05-13T13:33:51.462043Z",
     "shell.execute_reply": "2024-05-13T13:33:51.461596Z"
    }
   },
   "outputs": [
    {
     "name": "stdout",
     "output_type": "stream",
     "text": [
      "No data to plot\n"
     ]
    }
   ],
   "source": [
    "if types_per_artifact_grouped_normalized.empty:\n",
    "    print(\"No data to plot\")\n",
    "else:\n",
    "    types_per_artifact_sorted_by_annotations=types_per_artifact_grouped_normalized.sort_values(by='Annotation', ascending=False)\n",
    "    plot.figure();\n",
    "    types_per_artifact_sorted_by_annotations.head(30).plot(kind='bar', stacked=True, cmap=main_color_map, figsize=(8, 5))\n",
    "    plot.xlabel('Artifact')\n",
    "    plot.ylabel('Types %')\n",
    "    plot.title('Annotation types [%] per artifact')\n",
    "    plot.show()"
   ]
  },
  {
   "attachments": {},
   "cell_type": "markdown",
   "id": "85535e4f",
   "metadata": {},
   "source": [
    "### Table 3 - Top 30 artifacts with the highest package count\n",
    "\n",
    "The whole table can be found in the CSV report `Number_of_packages_per_artifact`."
   ]
  },
  {
   "cell_type": "code",
   "execution_count": 17,
   "id": "969a5e0c",
   "metadata": {
    "execution": {
     "iopub.execute_input": "2024-05-13T13:33:51.463868Z",
     "iopub.status.busy": "2024-05-13T13:33:51.463731Z",
     "iopub.status.idle": "2024-05-13T13:33:51.479143Z",
     "shell.execute_reply": "2024-05-13T13:33:51.478645Z"
    }
   },
   "outputs": [
    {
     "data": {
      "text/html": [
       "<div>\n",
       "<style scoped>\n",
       "    .dataframe tbody tr th:only-of-type {\n",
       "        vertical-align: middle;\n",
       "    }\n",
       "\n",
       "    .dataframe tbody tr th {\n",
       "        vertical-align: top;\n",
       "    }\n",
       "\n",
       "    .dataframe thead th {\n",
       "        text-align: right;\n",
       "    }\n",
       "</style>\n",
       "<table border=\"1\" class=\"dataframe\">\n",
       "  <thead>\n",
       "    <tr style=\"text-align: right;\">\n",
       "      <th></th>\n",
       "      <th>artifactName</th>\n",
       "      <th>numberOfPackages</th>\n",
       "    </tr>\n",
       "  </thead>\n",
       "  <tbody>\n",
       "  </tbody>\n",
       "</table>\n",
       "</div>"
      ],
      "text/plain": [
       "Empty DataFrame\n",
       "Columns: [artifactName, numberOfPackages]\n",
       "Index: []"
      ]
     },
     "execution_count": 17,
     "metadata": {},
     "output_type": "execute_result"
    }
   ],
   "source": [
    "packages_per_artifact = query_cypher_to_data_frame(\"../cypher/Overview/Number_of_packages_per_artifact.cypher\")\n",
    "\n",
    "# Sort the DataFrame by the sum of values\n",
    "types_per_artifact_sorted = packages_per_artifact.sort_values(by='numberOfPackages', ascending=False).reset_index(drop=True)\n",
    "\n",
    "# Set the name of the index to artifactName\n",
    "#types_per_artifact_sorted.set_index('artifactName', inplace=True)\n",
    "\n",
    "types_per_artifact_sorted.head(30)"
   ]
  },
  {
   "cell_type": "markdown",
   "id": "18227c68",
   "metadata": {},
   "source": [
    "### Table 3 Chart 1 - Number of packages per artifact\n",
    "\n",
    "The following chat shows artifacts with the largest package count in percentage. Artifacts with less than 0.7% package count are grouped into \"others\" to focus on the most significant artifacts regarding their package count."
   ]
  },
  {
   "cell_type": "code",
   "execution_count": 18,
   "id": "102710a5",
   "metadata": {
    "execution": {
     "iopub.execute_input": "2024-05-13T13:33:51.481903Z",
     "iopub.status.busy": "2024-05-13T13:33:51.481512Z",
     "iopub.status.idle": "2024-05-13T13:33:51.485592Z",
     "shell.execute_reply": "2024-05-13T13:33:51.485141Z"
    }
   },
   "outputs": [],
   "source": [
    "def group_to_others_below_threshold(data_frame : pd.DataFrame, value_column : str, name_column: str, threshold: float) -> pd.DataFrame:    \n",
    "    \"\"\"Adds a new percentage column for the value column and \n",
    "    groups all values below the given threshold to \"others\" in the name column.\n",
    "\n",
    "    Parameters:\n",
    "    - data_frame (pd.DataFrame): Input pandas DataFrame\n",
    "    - value_column (str): Name of the column that contains the numeric value\n",
    "    - name_column (str): Name of the column that contains the group name that will be replaced by \"others\" for small values\n",
    "    - threshold (float): Threshold in % that is used to group values below it into the \"others\" group\n",
    "\n",
    "    Returns:\n",
    "    int:Returning value\n",
    "\n",
    "    \"\"\"\n",
    "    result_data_frame = data_frame.copy();\n",
    "\n",
    "    percent_column_name = value_column + 'Percent';\n",
    "\n",
    "    # Add column with the name given in \"percent_column_name\" with the percentage of the value column.\n",
    "    result_data_frame[percent_column_name] = result_data_frame[value_column] / result_data_frame[value_column].sum() * 100.0;\n",
    "\n",
    "    # Change the external package name to \"others\" if it is called less than the specified threshold\n",
    "    result_data_frame.loc[result_data_frame[percent_column_name] < threshold, name_column] = 'others';\n",
    "\n",
    "    # Group external package name (foremost the new \"others\" entries) and sum their percentage\n",
    "    result_data_frame = result_data_frame.groupby(name_column)[percent_column_name].sum();\n",
    "\n",
    "    # Sort by values descending\n",
    "    return result_data_frame.sort_values(ascending=False);"
   ]
  },
  {
   "cell_type": "code",
   "execution_count": 19,
   "id": "81250096",
   "metadata": {
    "execution": {
     "iopub.execute_input": "2024-05-13T13:33:51.487859Z",
     "iopub.status.busy": "2024-05-13T13:33:51.487429Z",
     "iopub.status.idle": "2024-05-13T13:33:51.494434Z",
     "shell.execute_reply": "2024-05-13T13:33:51.493950Z"
    }
   },
   "outputs": [
    {
     "name": "stdout",
     "output_type": "stream",
     "text": [
      "No data to plot\n"
     ]
    }
   ],
   "source": [
    "types_per_artifact_sorted_significant=group_to_others_below_threshold(\n",
    "    data_frame=types_per_artifact_sorted,\n",
    "    value_column='numberOfPackages',\n",
    "    name_column='artifactName',\n",
    "    threshold= 0.7\n",
    ");\n",
    "\n",
    "if types_per_artifact_sorted_significant.empty:\n",
    "    print(\"No data to plot\")\n",
    "else:\n",
    "    plot.figure();\n",
    "    types_per_artifact_sorted_significant.plot(\n",
    "        y='numberOfPackages', \n",
    "        kind='pie', \n",
    "        title='Number of packages per artifact', \n",
    "        legend=True,\n",
    "        labeldistance=None,\n",
    "        autopct='%1.2f%%',\n",
    "        textprops={'fontsize': 5},\n",
    "        pctdistance=1.2,\n",
    "        cmap=main_color_map\n",
    "    )\n",
    "    plot.legend(bbox_to_anchor=(1.05, 1), loc='upper left')\n",
    "    plot.show()"
   ]
  }
 ],
 "metadata": {
  "authors": [
   {
    "name": "JohT"
   }
  ],
  "kernelspec": {
   "display_name": "Python 3 (ipykernel)",
   "language": "python",
   "name": "python3"
  },
  "language_info": {
   "codemirror_mode": {
    "name": "ipython",
    "version": 3
   },
   "file_extension": ".py",
   "mimetype": "text/x-python",
   "name": "python",
   "nbconvert_exporter": "python",
   "pygments_lexer": "ipython3",
   "version": "3.11.0"
  },
  "title": "Object Oriented Design Quality Metrics for Java with Neo4j"
 },
 "nbformat": 4,
 "nbformat_minor": 5
}
