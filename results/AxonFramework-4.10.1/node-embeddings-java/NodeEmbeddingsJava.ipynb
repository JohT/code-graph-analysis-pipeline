{
 "cells": [
  {
   "attachments": {},
   "cell_type": "markdown",
   "id": "2f0eabc4",
   "metadata": {},
   "source": [
    "# Node Embeddings\n",
    "\n",
    "This notebook demonstrates different methods for node embeddings and how to further reduce their dimensionality to be able to visualize them in a 2D plot. \n",
    "\n",
    "Node embeddings are essentially an array of floating point numbers (length = embedding dimension) that can be used as \"features\" in machine learning. These numbers approximate the relationship and similarity information of each node and can also be seen as a way to encode the topology of the graph.\n",
    "\n",
    "## Considerations\n",
    "\n",
    "Due to dimensionality reduction some information gets lost, especially when visualizing node embeddings in two dimensions. Nevertheless, it helps to get an intuition on what node embeddings are and how much of the similarity and neighborhood information is retained. The latter can be observed by how well nodes of the same color and therefore same community are placed together and how much bigger nodes with a high centrality score influence them. \n",
    "\n",
    "If the visualization doesn't show a somehow clear separation between the communities (colors) here are some ideas for tuning: \n",
    "- Clean the data, e.g. filter out very few nodes with extremely high degree that aren't actually that important\n",
    "- Try directed vs. undirected projections\n",
    "- Tune the embedding algorithm, e.g. use a higher dimensionality\n",
    "- Tune t-SNE that is used to reduce the node embeddings dimension to two dimensions for visualization. \n",
    "\n",
    "It could also be the case that the node embeddings are good enough and well suited the way they are despite their visualization for the down stream task like node classification or link prediction. In that case it makes sense to see how the whole pipeline performs before tuning the node embeddings in detail. \n",
    "\n",
    "## Note about data dependencies\n",
    "\n",
    "PageRank centrality and Leiden community are also fetched from the Graph and need to be calculated first.\n",
    "This makes it easier to see if the embeddings approximate the structural information of the graph in the plot.\n",
    "If these properties are missing you will only see black dots all of the same size.\n",
    "\n",
    "<br>  \n",
    "\n",
    "### References\n",
    "- [jqassistant](https://jqassistant.org)\n",
    "- [Neo4j Python Driver](https://neo4j.com/docs/api/python-driver/current)\n",
    "- [Tutorial: Applied Graph Embeddings](https://neo4j.com/developer/graph-data-science/applied-graph-embeddings)\n",
    "- [Visualizing the embeddings in 2D](https://github.com/openai/openai-cookbook/blob/main/examples/Visualizing_embeddings_in_2D.ipynb)\n",
    "- [scikit-learn TSNE](https://scikit-learn.org/stable/modules/generated/sklearn.manifold.TSNE.html#sklearn.manifold.TSNE)\n",
    "- [AttributeError: 'list' object has no attribute 'shape'](https://bobbyhadz.com/blog/python-attributeerror-list-object-has-no-attribute-shape)\n",
    "- [Fast Random Projection (neo4j)](https://neo4j.com/docs/graph-data-science/current/machine-learning/node-embeddings/fastrp)\n",
    "- [HashGNN (neo4j)](https://neo4j.com/docs/graph-data-science/2.6/machine-learning/node-embeddings/hashgnn)\n",
    "- [node2vec (neo4j)](https://neo4j.com/docs/graph-data-science/current/machine-learning/node-embeddings/node2vec) computes a vector representation of a node based on second order random walks in the graph. \n",
    "- [Complete guide to understanding Node2Vec algorithm](https://towardsdatascience.com/complete-guide-to-understanding-node2vec-algorithm-4e9a35e5d147)"
   ]
  },
  {
   "cell_type": "code",
   "execution_count": 1,
   "id": "4191f259",
   "metadata": {
    "execution": {
     "iopub.execute_input": "2024-10-27T08:35:26.118917Z",
     "iopub.status.busy": "2024-10-27T08:35:26.118716Z",
     "iopub.status.idle": "2024-10-27T08:35:27.015946Z",
     "shell.execute_reply": "2024-10-27T08:35:27.015359Z"
    }
   },
   "outputs": [],
   "source": [
    "import os\n",
    "from IPython.display import display\n",
    "import pandas as pd\n",
    "import matplotlib.pyplot as plot\n",
    "import typing as typ\n",
    "import numpy as np\n",
    "from openTSNE.sklearn import TSNE\n",
    "from neo4j import GraphDatabase"
   ]
  },
  {
   "cell_type": "code",
   "execution_count": 2,
   "id": "f8ef41ff",
   "metadata": {
    "execution": {
     "iopub.execute_input": "2024-10-27T08:35:27.018642Z",
     "iopub.status.busy": "2024-10-27T08:35:27.018352Z",
     "iopub.status.idle": "2024-10-27T08:35:27.021772Z",
     "shell.execute_reply": "2024-10-27T08:35:27.021242Z"
    }
   },
   "outputs": [
    {
     "name": "stdout",
     "output_type": "stream",
     "text": [
      "The openTSNE version is: 1.0.1\n",
      "The pandas version is: 1.5.1\n"
     ]
    }
   ],
   "source": [
    "from openTSNE import __version__ as openTSNE_version\n",
    "print('The openTSNE version is: {}'.format(openTSNE_version))\n",
    "print('The pandas version is: {}'.format(pd.__version__))\n"
   ]
  },
  {
   "cell_type": "code",
   "execution_count": 3,
   "id": "1c5dab37",
   "metadata": {
    "execution": {
     "iopub.execute_input": "2024-10-27T08:35:27.024058Z",
     "iopub.status.busy": "2024-10-27T08:35:27.023738Z",
     "iopub.status.idle": "2024-10-27T08:35:27.031178Z",
     "shell.execute_reply": "2024-10-27T08:35:27.030693Z"
    }
   },
   "outputs": [],
   "source": [
    "# Please set the environment variable \"NEO4J_INITIAL_PASSWORD\" in your shell \n",
    "# before starting jupyter notebook to provide the password for the user \"neo4j\". \n",
    "# It is not recommended to hardcode the password into jupyter notebook for security reasons.\n",
    "\n",
    "driver = GraphDatabase.driver(uri=\"bolt://localhost:7687\", auth=(\"neo4j\", os.environ.get(\"NEO4J_INITIAL_PASSWORD\")))\n",
    "driver.verify_connectivity()"
   ]
  },
  {
   "cell_type": "code",
   "execution_count": 4,
   "id": "c1db254b",
   "metadata": {
    "execution": {
     "iopub.execute_input": "2024-10-27T08:35:27.033276Z",
     "iopub.status.busy": "2024-10-27T08:35:27.032975Z",
     "iopub.status.idle": "2024-10-27T08:35:27.035655Z",
     "shell.execute_reply": "2024-10-27T08:35:27.035247Z"
    }
   },
   "outputs": [],
   "source": [
    "def get_cypher_query_from_file(filename):\n",
    "    with open(filename) as file:\n",
    "        return ' '.join(file.readlines())"
   ]
  },
  {
   "cell_type": "code",
   "execution_count": 5,
   "id": "59310f6f",
   "metadata": {
    "execution": {
     "iopub.execute_input": "2024-10-27T08:35:27.037613Z",
     "iopub.status.busy": "2024-10-27T08:35:27.037293Z",
     "iopub.status.idle": "2024-10-27T08:35:27.040308Z",
     "shell.execute_reply": "2024-10-27T08:35:27.039903Z"
    }
   },
   "outputs": [],
   "source": [
    "def query_cypher_to_data_frame(filename, parameters_: typ.Optional[typ.Dict[str, typ.Any]] = None):\n",
    "    records, summary, keys = driver.execute_query(get_cypher_query_from_file(filename),parameters_=parameters_)\n",
    "    return pd.DataFrame([r.values() for r in records], columns=keys)"
   ]
  },
  {
   "cell_type": "code",
   "execution_count": 6,
   "id": "bd1d9775",
   "metadata": {
    "execution": {
     "iopub.execute_input": "2024-10-27T08:35:27.042160Z",
     "iopub.status.busy": "2024-10-27T08:35:27.042006Z",
     "iopub.status.idle": "2024-10-27T08:35:27.045409Z",
     "shell.execute_reply": "2024-10-27T08:35:27.044961Z"
    }
   },
   "outputs": [],
   "source": [
    "def query_first_non_empty_cypher_to_data_frame(*filenames : str, parameters: typ.Optional[typ.Dict[str, typ.Any]] = None):\n",
    "    \"\"\"\n",
    "    Executes the Cypher queries of the given files and returns the first result that is not empty.\n",
    "    If all given file names result in empty results, the last (empty) result will be returned.\n",
    "    By additionally specifying \"limit=\" the \"LIMIT\" keyword will appended to query so that only the first results get returned.\n",
    "    \"\"\"\n",
    "    result=pd.DataFrame()\n",
    "    for filename in filenames:\n",
    "        result=query_cypher_to_data_frame(filename, parameters)\n",
    "        if not result.empty:\n",
    "            print(\"The results have been provided by the query filename: \" + filename)\n",
    "            return result\n",
    "    return result"
   ]
  },
  {
   "cell_type": "code",
   "execution_count": 7,
   "id": "7d2e62d6",
   "metadata": {
    "execution": {
     "iopub.execute_input": "2024-10-27T08:35:27.047435Z",
     "iopub.status.busy": "2024-10-27T08:35:27.047135Z",
     "iopub.status.idle": "2024-10-27T08:35:27.050399Z",
     "shell.execute_reply": "2024-10-27T08:35:27.049988Z"
    }
   },
   "outputs": [],
   "source": [
    "# TODO option to choose between directed and undirected projection\n",
    "\n",
    "def create_undirected_projection(parameters: dict) -> bool: \n",
    "    \"\"\"\n",
    "    Creates an undirected homogenous in-memory Graph projection for/with Neo4j Graph Data Science Plugin.\n",
    "    It returns True if there is data available for the given parameter and False otherwise.\n",
    "    Parameters\n",
    "    ----------\n",
    "    dependencies_projection : str\n",
    "        The name prefix for the in-memory projection for dependencies. Example: \"java-package-embeddings-notebook\"\n",
    "    dependencies_projection_node : str\n",
    "        The label of the nodes that will be used for the projection. Example: \"Package\"\n",
    "    dependencies_projection_weight_property : str\n",
    "        The name of the node property that contains the dependency weight. Example: \"weight25PercentInterfaces\"\n",
    "    dependencies_projection_embedding_dimension : str\n",
    "        The number of the dimensions and therefore size of the resulting array of floating point numbers\n",
    "    \"\"\"\n",
    "    \n",
    "    is_data_missing=query_cypher_to_data_frame(\"../cypher/Dependencies_Projection/Dependencies_0_Check_Projectable.cypher\", parameters).empty\n",
    "    if is_data_missing: return False\n",
    "\n",
    "    query_cypher_to_data_frame(\"../cypher/Dependencies_Projection/Dependencies_1_Delete_Projection.cypher\", parameters)\n",
    "    query_cypher_to_data_frame(\"../cypher/Dependencies_Projection/Dependencies_2_Delete_Subgraph.cypher\", parameters)\n",
    "    # To include the direction of the relationships use the following line to create the projection:\n",
    "    # query_cypher_to_data_frame(\"../cypher/Dependencies_Projection/Dependencies_3_Create_Projection.cypher\", parameters)\n",
    "    query_cypher_to_data_frame(\"../cypher/Dependencies_Projection/Dependencies_4_Create_Undirected_Projection.cypher\", parameters)\n",
    "    query_cypher_to_data_frame(\"../cypher/Dependencies_Projection/Dependencies_5_Create_Subgraph.cypher\", parameters)\n",
    "    return True"
   ]
  },
  {
   "cell_type": "code",
   "execution_count": 8,
   "id": "1aa86093",
   "metadata": {
    "execution": {
     "iopub.execute_input": "2024-10-27T08:35:27.052286Z",
     "iopub.status.busy": "2024-10-27T08:35:27.051989Z",
     "iopub.status.idle": "2024-10-27T08:35:27.055717Z",
     "shell.execute_reply": "2024-10-27T08:35:27.055228Z"
    }
   },
   "outputs": [],
   "source": [
    "# Feature ideas\n",
    "# TODO option to choose between directed and undirected projection\n",
    "# TODO option to not read already existing node embeddings to experiment with different (hpyer) parameters\n",
    "# TODO run a community detection algorithm co-located in here when \"communityId\" is missing\n",
    "# TODO run a centrality algorithm co-located in here when \"centrality\" score is missing\n",
    "\n",
    "def create_node_embeddings(cypher_file_name: str, parameters: dict) -> pd.DataFrame: \n",
    "    \"\"\"\n",
    "    Creates an in-memory Graph projection by calling \"create_undirected_projection\", \n",
    "    runs the cypher Query given as cypherFileName parameter to calculate and stream the node embeddings\n",
    "    and returns a DataFrame with the results.\n",
    "    \n",
    "    cypher_file_name\n",
    "    ----------\n",
    "    Name of the file containing the Cypher query that executes node embeddings procedure.\n",
    "\n",
    "    parameters\n",
    "    ----------\n",
    "    dependencies_projection : str\n",
    "        The name prefix for the in-memory projection for dependencies. Example: \"java-package-embeddings-notebook\"\n",
    "    dependencies_projection_node : str\n",
    "        The label of the nodes that will be used for the projection. Example: \"Package\"\n",
    "    dependencies_projection_weight_property : str\n",
    "        The name of the node property that contains the dependency weight. Example: \"weight25PercentInterfaces\"\n",
    "    dependencies_projection_embedding_dimension : str\n",
    "        The number of the dimensions and therefore size of the resulting array of floating point numbers\n",
    "    \"\"\"\n",
    "    \n",
    "    is_data_available=create_undirected_projection(parameters)\n",
    "    \n",
    "    if not is_data_available:\n",
    "        print(\"No projected data for node embeddings calculation available\")\n",
    "        empty_result = pd.DataFrame(columns=[\"codeUnitName\", 'projectName', 'communityId', 'centrality', 'embedding'])\n",
    "        return empty_result\n",
    "\n",
    "    existing_embeddings_query_filename=\"../cypher/Node_Embeddings/Node_Embeddings_0a_Query_Calculated.cypher\"\n",
    "    embeddings = query_first_non_empty_cypher_to_data_frame(existing_embeddings_query_filename, cypher_file_name, parameters=parameters)\n",
    "    display(embeddings.head()) # Display the first entries of the table\n",
    "    return embeddings"
   ]
  },
  {
   "cell_type": "markdown",
   "id": "f6ec6a9b",
   "metadata": {},
   "source": [
    "### Dimensionality reduction with t-distributed stochastic neighbor embedding (t-SNE)\n",
    "\n",
    "The following function takes the original node embeddings with a higher dimensionality, e.g. 64 floating point numbers, and reduces them into a two dimensional array for visualization. \n",
    "\n",
    "> It converts similarities between data points to joint probabilities and tries to minimize the Kullback-Leibler divergence between the joint probabilities of the low-dimensional embedding and the high-dimensional data.\n",
    "\n",
    "(see https://opentsne.readthedocs.io)"
   ]
  },
  {
   "cell_type": "code",
   "execution_count": 9,
   "id": "720aebd3",
   "metadata": {
    "execution": {
     "iopub.execute_input": "2024-10-27T08:35:27.057774Z",
     "iopub.status.busy": "2024-10-27T08:35:27.057484Z",
     "iopub.status.idle": "2024-10-27T08:35:27.061736Z",
     "shell.execute_reply": "2024-10-27T08:35:27.061223Z"
    }
   },
   "outputs": [],
   "source": [
    "def prepare_node_embeddings_for_2d_visualization(embeddings: pd.DataFrame) -> pd.DataFrame:\n",
    "    \"\"\"\n",
    "    Reduces the dimensionality of the node embeddings (e.g. 64 floating point numbers in an array)\n",
    "    to two dimensions for 2D visualization.\n",
    "    see https://opentsne.readthedocs.io\n",
    "    \"\"\"\n",
    "\n",
    "    if embeddings.empty: \n",
    "        print(\"No projected data for node embeddings dimensionality reduction available\")\n",
    "        return embeddings\n",
    "    \n",
    "    # Calling the fit_transform method just with a list doesn't seem to work (anymore?). \n",
    "    # It leads to an error with the following message: 'list' object has no attribute 'shape'\n",
    "    # This can be solved by converting the list to a numpy array using np.array(..).\n",
    "    # See https://bobbyhadz.com/blog/python-attributeerror-list-object-has-no-attribute-shape\n",
    "    embeddings_as_numpy_array = np.array(embeddings.embedding.to_list())\n",
    "\n",
    "    # Use t-distributed stochastic neighbor embedding (t-SNE) to reduce the dimensionality \n",
    "    # of the previously calculated node embeddings to 2 dimensions for visualization\n",
    "    t_distributed_stochastic_neighbor_embedding = TSNE(n_components=2, verbose=1, random_state=47)\n",
    "    two_dimension_node_embeddings = t_distributed_stochastic_neighbor_embedding.fit_transform(embeddings_as_numpy_array)\n",
    "    display(two_dimension_node_embeddings.shape) # Display the shape of the t-SNE result\n",
    "\n",
    "    # Create a new DataFrame with the results of the 2 dimensional node embeddings\n",
    "    # and the code unit and artifact name of the query above as preparation for the plot\n",
    "    node_embeddings_for_visualization = pd.DataFrame(data = {\n",
    "        \"codeUnit\": embeddings.codeUnitName,\n",
    "        \"artifact\": embeddings.projectName,\n",
    "        \"communityId\": embeddings.communityId,\n",
    "        \"centrality\": embeddings.centrality,\n",
    "        \"x\": [value[0] for value in two_dimension_node_embeddings],\n",
    "        \"y\": [value[1] for value in two_dimension_node_embeddings]\n",
    "    })\n",
    "    display(node_embeddings_for_visualization.head()) # Display the first line of the results\n",
    "    return node_embeddings_for_visualization\n",
    "    "
   ]
  },
  {
   "cell_type": "code",
   "execution_count": 10,
   "id": "d937e26e",
   "metadata": {
    "execution": {
     "iopub.execute_input": "2024-10-27T08:35:27.063455Z",
     "iopub.status.busy": "2024-10-27T08:35:27.063306Z",
     "iopub.status.idle": "2024-10-27T08:35:27.066350Z",
     "shell.execute_reply": "2024-10-27T08:35:27.065950Z"
    }
   },
   "outputs": [],
   "source": [
    "def plot_2d_node_embeddings(node_embeddings_for_visualization: pd.DataFrame, title: str):\n",
    "    if embeddings.empty:\n",
    "        print(\"No projected data to plot available\")\n",
    "        return\n",
    "\n",
    "    plot.scatter(\n",
    "        x=node_embeddings_for_visualization.x,\n",
    "        y=node_embeddings_for_visualization.y,\n",
    "        s=node_embeddings_for_visualization.centrality * 300,\n",
    "        c=node_embeddings_for_visualization.communityId,\n",
    "        cmap=main_color_map,\n",
    "    )\n",
    "    plot.title(title)\n",
    "    plot.show()"
   ]
  },
  {
   "cell_type": "code",
   "execution_count": 11,
   "id": "da9e8edb",
   "metadata": {
    "execution": {
     "iopub.execute_input": "2024-10-27T08:35:27.068312Z",
     "iopub.status.busy": "2024-10-27T08:35:27.068014Z",
     "iopub.status.idle": "2024-10-27T08:35:27.070253Z",
     "shell.execute_reply": "2024-10-27T08:35:27.069843Z"
    }
   },
   "outputs": [],
   "source": [
    "#The following cell uses the build-in %html \"magic\" to override the CSS style for tables to a much smaller size.\n",
    "#This is especially needed for PDF export of tables with multiple columns."
   ]
  },
  {
   "cell_type": "code",
   "execution_count": 12,
   "id": "9deaabce",
   "metadata": {
    "execution": {
     "iopub.execute_input": "2024-10-27T08:35:27.072126Z",
     "iopub.status.busy": "2024-10-27T08:35:27.071844Z",
     "iopub.status.idle": "2024-10-27T08:35:27.078761Z",
     "shell.execute_reply": "2024-10-27T08:35:27.078283Z"
    }
   },
   "outputs": [
    {
     "data": {
      "text/html": [
       "<style>\n",
       "/* CSS style for smaller dataframe tables. */\n",
       ".dataframe th {\n",
       "    font-size: 8px;\n",
       "}\n",
       ".dataframe td {\n",
       "    font-size: 8px;\n",
       "}\n",
       "</style>\n"
      ],
      "text/plain": [
       "<IPython.core.display.HTML object>"
      ]
     },
     "metadata": {},
     "output_type": "display_data"
    }
   ],
   "source": [
    "%%html\n",
    "<style>\n",
    "/* CSS style for smaller dataframe tables. */\n",
    ".dataframe th {\n",
    "    font-size: 8px;\n",
    "}\n",
    ".dataframe td {\n",
    "    font-size: 8px;\n",
    "}\n",
    "</style>"
   ]
  },
  {
   "cell_type": "code",
   "execution_count": 13,
   "id": "c2496caf",
   "metadata": {
    "execution": {
     "iopub.execute_input": "2024-10-27T08:35:27.080590Z",
     "iopub.status.busy": "2024-10-27T08:35:27.080307Z",
     "iopub.status.idle": "2024-10-27T08:35:27.082701Z",
     "shell.execute_reply": "2024-10-27T08:35:27.082205Z"
    }
   },
   "outputs": [],
   "source": [
    "# Main Colormap\n",
    "main_color_map = 'nipy_spectral'"
   ]
  },
  {
   "cell_type": "markdown",
   "id": "0c68aa20",
   "metadata": {},
   "source": [
    "## 1. Java Packages"
   ]
  },
  {
   "cell_type": "markdown",
   "id": "145dca19",
   "metadata": {},
   "source": [
    "### 1.1 Generate Node Embeddings using Fast Random Projection (Fast RP) for Java Packages\n",
    "\n",
    "[Fast Random Projection](https://neo4j.com/docs/graph-data-science/current/machine-learning/node-embeddings/fastrp) is used to reduce the dimensionality of the node feature space while preserving most of the distance information. Nodes with similar neighborhood result in node embedding with similar vectors.\n",
    "\n",
    "**👉Hint:** To skip existing node embeddings and always calculate them based on the parameters below edit `Node_Embeddings_0a_Query_Calculated` so that it won't return any results."
   ]
  },
  {
   "cell_type": "code",
   "execution_count": 14,
   "id": "8efca2cf",
   "metadata": {
    "execution": {
     "iopub.execute_input": "2024-10-27T08:35:27.084795Z",
     "iopub.status.busy": "2024-10-27T08:35:27.084441Z",
     "iopub.status.idle": "2024-10-27T08:35:27.388295Z",
     "shell.execute_reply": "2024-10-27T08:35:27.387841Z"
    }
   },
   "outputs": [
    {
     "name": "stdout",
     "output_type": "stream",
     "text": [
      "The results have been provided by the query filename: ../cypher/Node_Embeddings/Node_Embeddings_0a_Query_Calculated.cypher\n"
     ]
    },
    {
     "data": {
      "text/html": [
       "<div>\n",
       "<style scoped>\n",
       "    .dataframe tbody tr th:only-of-type {\n",
       "        vertical-align: middle;\n",
       "    }\n",
       "\n",
       "    .dataframe tbody tr th {\n",
       "        vertical-align: top;\n",
       "    }\n",
       "\n",
       "    .dataframe thead th {\n",
       "        text-align: right;\n",
       "    }\n",
       "</style>\n",
       "<table border=\"1\" class=\"dataframe\">\n",
       "  <thead>\n",
       "    <tr style=\"text-align: right;\">\n",
       "      <th></th>\n",
       "      <th>codeUnitName</th>\n",
       "      <th>shortCodeUnitName</th>\n",
       "      <th>projectName</th>\n",
       "      <th>communityId</th>\n",
       "      <th>centrality</th>\n",
       "      <th>embedding</th>\n",
       "    </tr>\n",
       "  </thead>\n",
       "  <tbody>\n",
       "    <tr>\n",
       "      <th>0</th>\n",
       "      <td>org.axonframework.test</td>\n",
       "      <td>test</td>\n",
       "      <td>axon-test-4.10.1</td>\n",
       "      <td>0</td>\n",
       "      <td>0.026851</td>\n",
       "      <td>[-0.07359813898801804, 0.37053734064102173, 0....</td>\n",
       "    </tr>\n",
       "    <tr>\n",
       "      <th>1</th>\n",
       "      <td>org.axonframework.test.aggregate</td>\n",
       "      <td>aggregate</td>\n",
       "      <td>axon-test-4.10.1</td>\n",
       "      <td>0</td>\n",
       "      <td>0.012211</td>\n",
       "      <td>[0.020880162715911865, 0.37260088324546814, 0....</td>\n",
       "    </tr>\n",
       "    <tr>\n",
       "      <th>2</th>\n",
       "      <td>org.axonframework.test.matchers</td>\n",
       "      <td>matchers</td>\n",
       "      <td>axon-test-4.10.1</td>\n",
       "      <td>0</td>\n",
       "      <td>0.017966</td>\n",
       "      <td>[-0.05942946672439575, 0.3725696802139282, 0.2...</td>\n",
       "    </tr>\n",
       "    <tr>\n",
       "      <th>3</th>\n",
       "      <td>org.axonframework.test.saga</td>\n",
       "      <td>saga</td>\n",
       "      <td>axon-test-4.10.1</td>\n",
       "      <td>0</td>\n",
       "      <td>0.012211</td>\n",
       "      <td>[0.026443392038345337, 0.421231210231781, 0.31...</td>\n",
       "    </tr>\n",
       "    <tr>\n",
       "      <th>4</th>\n",
       "      <td>org.axonframework.test.utils</td>\n",
       "      <td>utils</td>\n",
       "      <td>axon-test-4.10.1</td>\n",
       "      <td>0</td>\n",
       "      <td>0.012709</td>\n",
       "      <td>[0.0651877373456955, 0.4937594532966614, 0.202...</td>\n",
       "    </tr>\n",
       "  </tbody>\n",
       "</table>\n",
       "</div>"
      ],
      "text/plain": [
       "                       codeUnitName shortCodeUnitName       projectName  \\\n",
       "0            org.axonframework.test              test  axon-test-4.10.1   \n",
       "1  org.axonframework.test.aggregate         aggregate  axon-test-4.10.1   \n",
       "2   org.axonframework.test.matchers          matchers  axon-test-4.10.1   \n",
       "3       org.axonframework.test.saga              saga  axon-test-4.10.1   \n",
       "4      org.axonframework.test.utils             utils  axon-test-4.10.1   \n",
       "\n",
       "   communityId  centrality                                          embedding  \n",
       "0            0    0.026851  [-0.07359813898801804, 0.37053734064102173, 0....  \n",
       "1            0    0.012211  [0.020880162715911865, 0.37260088324546814, 0....  \n",
       "2            0    0.017966  [-0.05942946672439575, 0.3725696802139282, 0.2...  \n",
       "3            0    0.012211  [0.026443392038345337, 0.421231210231781, 0.31...  \n",
       "4            0    0.012709  [0.0651877373456955, 0.4937594532966614, 0.202...  "
      ]
     },
     "metadata": {},
     "output_type": "display_data"
    }
   ],
   "source": [
    "java_package_embeddings_parameters={\n",
    "    \"dependencies_projection\": \"java-package-embeddings-notebook\",\n",
    "    \"dependencies_projection_node\": \"Package\",\n",
    "    \"dependencies_projection_weight_property\": \"weight25PercentInterfaces\",\n",
    "    \"dependencies_projection_write_property\": \"embeddingsFastRandomProjection\",\n",
    "    \"dependencies_projection_embedding_dimension\":\"32\"\n",
    "}\n",
    "embeddings = create_node_embeddings(\"../cypher/Node_Embeddings/Node_Embeddings_1d_Fast_Random_Projection_Stream.cypher\", java_package_embeddings_parameters)\n"
   ]
  },
  {
   "cell_type": "markdown",
   "id": "76d8bca1",
   "metadata": {},
   "source": [
    "### 1.2 Dimensionality reduction with t-distributed stochastic neighbor embedding (t-SNE)\n",
    "\n",
    "This step takes the original node embeddings with a higher dimensionality, e.g. 64 floating point numbers, and reduces them into a two dimensional array for visualization. For more details look up the function declaration for \"prepare_node_embeddings_for_2d_visualization\"."
   ]
  },
  {
   "cell_type": "code",
   "execution_count": 15,
   "id": "031abacc",
   "metadata": {
    "execution": {
     "iopub.execute_input": "2024-10-27T08:35:27.390714Z",
     "iopub.status.busy": "2024-10-27T08:35:27.390367Z",
     "iopub.status.idle": "2024-10-27T08:35:28.001612Z",
     "shell.execute_reply": "2024-10-27T08:35:28.001166Z"
    }
   },
   "outputs": [
    {
     "name": "stdout",
     "output_type": "stream",
     "text": [
      "--------------------------------------------------------------------------------\n",
      "TSNE(early_exaggeration=12, random_state=47, verbose=1)\n",
      "--------------------------------------------------------------------------------\n",
      "===> Finding 90 nearest neighbors using exact search using euclidean distance...\n",
      "   --> Time elapsed: 0.03 seconds\n",
      "===> Calculating affinity matrix...\n",
      "   --> Time elapsed: 0.00 seconds\n",
      "===> Calculating PCA-based initialization...\n",
      "   --> Time elapsed: 0.00 seconds\n",
      "===> Running optimization with exaggeration=12.00, lr=9.50 for 250 iterations...\n",
      "Iteration   50, KL divergence -0.5809, 50 iterations in 0.0558 sec\n",
      "Iteration  100, KL divergence 1.2123, 50 iterations in 0.0162 sec\n",
      "Iteration  150, KL divergence 1.2123, 50 iterations in 0.0147 sec\n",
      "Iteration  200, KL divergence 1.2123, 50 iterations in 0.0147 sec\n",
      "Iteration  250, KL divergence 1.2123, 50 iterations in 0.0147 sec\n",
      "   --> Time elapsed: 0.12 seconds\n",
      "===> Running optimization with exaggeration=1.00, lr=114.00 for 500 iterations...\n",
      "Iteration   50, KL divergence 0.1666, 50 iterations in 0.0501 sec\n",
      "Iteration  100, KL divergence 0.1462, 50 iterations in 0.0485 sec\n",
      "Iteration  150, KL divergence 0.1422, 50 iterations in 0.0453 sec\n",
      "Iteration  200, KL divergence 0.1425, 50 iterations in 0.0446 sec\n",
      "Iteration  250, KL divergence 0.1424, 50 iterations in 0.0436 sec\n",
      "Iteration  300, KL divergence 0.1416, 50 iterations in 0.0449 sec\n",
      "Iteration  350, KL divergence 0.1426, 50 iterations in 0.0452 sec\n",
      "Iteration  400, KL divergence 0.1422, 50 iterations in 0.0434 sec\n",
      "Iteration  450, KL divergence 0.1423, 50 iterations in 0.0431 sec\n",
      "Iteration  500, KL divergence 0.1422, 50 iterations in 0.0425 sec\n",
      "   --> Time elapsed: 0.45 seconds\n"
     ]
    },
    {
     "data": {
      "text/plain": [
       "(114, 2)"
      ]
     },
     "metadata": {},
     "output_type": "display_data"
    },
    {
     "data": {
      "text/html": [
       "<div>\n",
       "<style scoped>\n",
       "    .dataframe tbody tr th:only-of-type {\n",
       "        vertical-align: middle;\n",
       "    }\n",
       "\n",
       "    .dataframe tbody tr th {\n",
       "        vertical-align: top;\n",
       "    }\n",
       "\n",
       "    .dataframe thead th {\n",
       "        text-align: right;\n",
       "    }\n",
       "</style>\n",
       "<table border=\"1\" class=\"dataframe\">\n",
       "  <thead>\n",
       "    <tr style=\"text-align: right;\">\n",
       "      <th></th>\n",
       "      <th>codeUnit</th>\n",
       "      <th>artifact</th>\n",
       "      <th>communityId</th>\n",
       "      <th>centrality</th>\n",
       "      <th>x</th>\n",
       "      <th>y</th>\n",
       "    </tr>\n",
       "  </thead>\n",
       "  <tbody>\n",
       "    <tr>\n",
       "      <th>0</th>\n",
       "      <td>org.axonframework.test</td>\n",
       "      <td>axon-test-4.10.1</td>\n",
       "      <td>0</td>\n",
       "      <td>0.026851</td>\n",
       "      <td>-7.108328</td>\n",
       "      <td>5.383100</td>\n",
       "    </tr>\n",
       "    <tr>\n",
       "      <th>1</th>\n",
       "      <td>org.axonframework.test.aggregate</td>\n",
       "      <td>axon-test-4.10.1</td>\n",
       "      <td>0</td>\n",
       "      <td>0.012211</td>\n",
       "      <td>-6.729276</td>\n",
       "      <td>5.056383</td>\n",
       "    </tr>\n",
       "    <tr>\n",
       "      <th>2</th>\n",
       "      <td>org.axonframework.test.matchers</td>\n",
       "      <td>axon-test-4.10.1</td>\n",
       "      <td>0</td>\n",
       "      <td>0.017966</td>\n",
       "      <td>-7.132527</td>\n",
       "      <td>5.298834</td>\n",
       "    </tr>\n",
       "    <tr>\n",
       "      <th>3</th>\n",
       "      <td>org.axonframework.test.saga</td>\n",
       "      <td>axon-test-4.10.1</td>\n",
       "      <td>0</td>\n",
       "      <td>0.012211</td>\n",
       "      <td>-7.250410</td>\n",
       "      <td>4.925617</td>\n",
       "    </tr>\n",
       "    <tr>\n",
       "      <th>4</th>\n",
       "      <td>org.axonframework.test.utils</td>\n",
       "      <td>axon-test-4.10.1</td>\n",
       "      <td>0</td>\n",
       "      <td>0.012709</td>\n",
       "      <td>-7.215294</td>\n",
       "      <td>4.602575</td>\n",
       "    </tr>\n",
       "  </tbody>\n",
       "</table>\n",
       "</div>"
      ],
      "text/plain": [
       "                           codeUnit          artifact  communityId  \\\n",
       "0            org.axonframework.test  axon-test-4.10.1            0   \n",
       "1  org.axonframework.test.aggregate  axon-test-4.10.1            0   \n",
       "2   org.axonframework.test.matchers  axon-test-4.10.1            0   \n",
       "3       org.axonframework.test.saga  axon-test-4.10.1            0   \n",
       "4      org.axonframework.test.utils  axon-test-4.10.1            0   \n",
       "\n",
       "   centrality         x         y  \n",
       "0    0.026851 -7.108328  5.383100  \n",
       "1    0.012211 -6.729276  5.056383  \n",
       "2    0.017966 -7.132527  5.298834  \n",
       "3    0.012211 -7.250410  4.925617  \n",
       "4    0.012709 -7.215294  4.602575  "
      ]
     },
     "metadata": {},
     "output_type": "display_data"
    }
   ],
   "source": [
    "node_embeddings_for_visualization = prepare_node_embeddings_for_2d_visualization(embeddings)"
   ]
  },
  {
   "cell_type": "markdown",
   "id": "f908c47f",
   "metadata": {},
   "source": [
    "### 1.3 Visualization of the node embeddings reduced to two dimensions"
   ]
  },
  {
   "cell_type": "code",
   "execution_count": 16,
   "id": "459a819c",
   "metadata": {
    "execution": {
     "iopub.execute_input": "2024-10-27T08:35:28.003852Z",
     "iopub.status.busy": "2024-10-27T08:35:28.003473Z",
     "iopub.status.idle": "2024-10-27T08:35:28.120073Z",
     "shell.execute_reply": "2024-10-27T08:35:28.119555Z"
    }
   },
   "outputs": [
    {
     "data": {
      "image/png": "[encoded data removed]",
      "text/plain": [
       "<Figure size 640x480 with 1 Axes>"
      ]
     },
     "metadata": {},
     "output_type": "display_data"
    }
   ],
   "source": [
    "plot_2d_node_embeddings(\n",
    "    node_embeddings_for_visualization, \n",
    "    \"Java Package positioned by their dependency relationships (FastRP node embeddings + t-SNE)\"\n",
    ")"
   ]
  },
  {
   "cell_type": "markdown",
   "id": "b690b9a7",
   "metadata": {},
   "source": [
    "### 1.4 Node Embeddings for Java Packages using HashGNN\n",
    "\n",
    "[HashGNN](https://neo4j.com/docs/graph-data-science/2.6/machine-learning/node-embeddings/hashgnn) resembles Graph Neural Networks (GNN) but does not include a model or require training. It combines ideas of GNNs and fast randomized algorithms. For more details see [HashGNN](https://neo4j.com/docs/graph-data-science/2.6/machine-learning/node-embeddings/hashgnn). Here, the latter 3 steps are combined into one for HashGNN."
   ]
  },
  {
   "cell_type": "code",
   "execution_count": 17,
   "id": "3d3cfb7a",
   "metadata": {
    "execution": {
     "iopub.execute_input": "2024-10-27T08:35:28.122257Z",
     "iopub.status.busy": "2024-10-27T08:35:28.122092Z",
     "iopub.status.idle": "2024-10-27T08:35:29.058019Z",
     "shell.execute_reply": "2024-10-27T08:35:29.057490Z"
    }
   },
   "outputs": [
    {
     "name": "stdout",
     "output_type": "stream",
     "text": [
      "The results have been provided by the query filename: ../cypher/Node_Embeddings/Node_Embeddings_0a_Query_Calculated.cypher\n"
     ]
    },
    {
     "data": {
      "text/html": [
       "<div>\n",
       "<style scoped>\n",
       "    .dataframe tbody tr th:only-of-type {\n",
       "        vertical-align: middle;\n",
       "    }\n",
       "\n",
       "    .dataframe tbody tr th {\n",
       "        vertical-align: top;\n",
       "    }\n",
       "\n",
       "    .dataframe thead th {\n",
       "        text-align: right;\n",
       "    }\n",
       "</style>\n",
       "<table border=\"1\" class=\"dataframe\">\n",
       "  <thead>\n",
       "    <tr style=\"text-align: right;\">\n",
       "      <th></th>\n",
       "      <th>codeUnitName</th>\n",
       "      <th>shortCodeUnitName</th>\n",
       "      <th>projectName</th>\n",
       "      <th>communityId</th>\n",
       "      <th>centrality</th>\n",
       "      <th>embedding</th>\n",
       "    </tr>\n",
       "  </thead>\n",
       "  <tbody>\n",
       "    <tr>\n",
       "      <th>0</th>\n",
       "      <td>org.axonframework.test</td>\n",
       "      <td>test</td>\n",
       "      <td>axon-test-4.10.1</td>\n",
       "      <td>0</td>\n",
       "      <td>0.026851</td>\n",
       "      <td>[0.0, -1.948557123541832, 0.21650634706020355,...</td>\n",
       "    </tr>\n",
       "    <tr>\n",
       "      <th>1</th>\n",
       "      <td>org.axonframework.test.aggregate</td>\n",
       "      <td>aggregate</td>\n",
       "      <td>axon-test-4.10.1</td>\n",
       "      <td>0</td>\n",
       "      <td>0.012211</td>\n",
       "      <td>[-0.4330126941204071, -2.814582511782646, -0.4...</td>\n",
       "    </tr>\n",
       "    <tr>\n",
       "      <th>2</th>\n",
       "      <td>org.axonframework.test.matchers</td>\n",
       "      <td>matchers</td>\n",
       "      <td>axon-test-4.10.1</td>\n",
       "      <td>0</td>\n",
       "      <td>0.017966</td>\n",
       "      <td>[-0.6495190411806107, -2.1650634706020355, 0.0...</td>\n",
       "    </tr>\n",
       "    <tr>\n",
       "      <th>3</th>\n",
       "      <td>org.axonframework.test.saga</td>\n",
       "      <td>saga</td>\n",
       "      <td>axon-test-4.10.1</td>\n",
       "      <td>0</td>\n",
       "      <td>0.012211</td>\n",
       "      <td>[0.8660253882408142, -1.2990380823612213, 0.0,...</td>\n",
       "    </tr>\n",
       "    <tr>\n",
       "      <th>4</th>\n",
       "      <td>org.axonframework.test.utils</td>\n",
       "      <td>utils</td>\n",
       "      <td>axon-test-4.10.1</td>\n",
       "      <td>0</td>\n",
       "      <td>0.012709</td>\n",
       "      <td>[-0.6495190411806107, -2.381569817662239, 0.0,...</td>\n",
       "    </tr>\n",
       "  </tbody>\n",
       "</table>\n",
       "</div>"
      ],
      "text/plain": [
       "                       codeUnitName shortCodeUnitName       projectName  \\\n",
       "0            org.axonframework.test              test  axon-test-4.10.1   \n",
       "1  org.axonframework.test.aggregate         aggregate  axon-test-4.10.1   \n",
       "2   org.axonframework.test.matchers          matchers  axon-test-4.10.1   \n",
       "3       org.axonframework.test.saga              saga  axon-test-4.10.1   \n",
       "4      org.axonframework.test.utils             utils  axon-test-4.10.1   \n",
       "\n",
       "   communityId  centrality                                          embedding  \n",
       "0            0    0.026851  [0.0, -1.948557123541832, 0.21650634706020355,...  \n",
       "1            0    0.012211  [-0.4330126941204071, -2.814582511782646, -0.4...  \n",
       "2            0    0.017966  [-0.6495190411806107, -2.1650634706020355, 0.0...  \n",
       "3            0    0.012211  [0.8660253882408142, -1.2990380823612213, 0.0,...  \n",
       "4            0    0.012709  [-0.6495190411806107, -2.381569817662239, 0.0,...  "
      ]
     },
     "metadata": {},
     "output_type": "display_data"
    },
    {
     "name": "stdout",
     "output_type": "stream",
     "text": [
      "--------------------------------------------------------------------------------\n",
      "TSNE(early_exaggeration=12, random_state=47, verbose=1)\n",
      "--------------------------------------------------------------------------------\n",
      "===> Finding 90 nearest neighbors using exact search using euclidean distance...\n",
      "   --> Time elapsed: 0.00 seconds\n",
      "===> Calculating affinity matrix...\n",
      "   --> Time elapsed: 0.00 seconds\n",
      "===> Calculating PCA-based initialization...\n",
      "   --> Time elapsed: 0.00 seconds\n",
      "===> Running optimization with exaggeration=12.00, lr=9.50 for 250 iterations...\n",
      "Iteration   50, KL divergence 0.0574, 50 iterations in 0.0657 sec\n",
      "Iteration  100, KL divergence 1.2049, 50 iterations in 0.0168 sec\n",
      "Iteration  150, KL divergence 1.2049, 50 iterations in 0.0144 sec\n",
      "Iteration  200, KL divergence 1.2049, 50 iterations in 0.0160 sec\n",
      "Iteration  250, KL divergence 1.2049, 50 iterations in 0.0149 sec\n",
      "   --> Time elapsed: 0.13 seconds\n",
      "===> Running optimization with exaggeration=1.00, lr=114.00 for 500 iterations...\n",
      "Iteration   50, KL divergence 0.6179, 50 iterations in 0.0518 sec\n",
      "Iteration  100, KL divergence 0.5977, 50 iterations in 0.0473 sec\n",
      "Iteration  150, KL divergence 0.5911, 50 iterations in 0.0464 sec\n",
      "Iteration  200, KL divergence 0.5916, 50 iterations in 0.0454 sec\n",
      "Iteration  250, KL divergence 0.5913, 50 iterations in 0.0451 sec\n",
      "Iteration  300, KL divergence 0.5899, 50 iterations in 0.0450 sec\n",
      "Iteration  350, KL divergence 0.5894, 50 iterations in 0.0458 sec\n",
      "Iteration  400, KL divergence 0.5891, 50 iterations in 0.0460 sec\n",
      "Iteration  450, KL divergence 0.5878, 50 iterations in 0.0458 sec\n",
      "Iteration  500, KL divergence 0.5872, 50 iterations in 0.0459 sec\n",
      "   --> Time elapsed: 0.46 seconds\n"
     ]
    },
    {
     "data": {
      "text/plain": [
       "(114, 2)"
      ]
     },
     "metadata": {},
     "output_type": "display_data"
    },
    {
     "data": {
      "text/html": [
       "<div>\n",
       "<style scoped>\n",
       "    .dataframe tbody tr th:only-of-type {\n",
       "        vertical-align: middle;\n",
       "    }\n",
       "\n",
       "    .dataframe tbody tr th {\n",
       "        vertical-align: top;\n",
       "    }\n",
       "\n",
       "    .dataframe thead th {\n",
       "        text-align: right;\n",
       "    }\n",
       "</style>\n",
       "<table border=\"1\" class=\"dataframe\">\n",
       "  <thead>\n",
       "    <tr style=\"text-align: right;\">\n",
       "      <th></th>\n",
       "      <th>codeUnit</th>\n",
       "      <th>artifact</th>\n",
       "      <th>communityId</th>\n",
       "      <th>centrality</th>\n",
       "      <th>x</th>\n",
       "      <th>y</th>\n",
       "    </tr>\n",
       "  </thead>\n",
       "  <tbody>\n",
       "    <tr>\n",
       "      <th>0</th>\n",
       "      <td>org.axonframework.test</td>\n",
       "      <td>axon-test-4.10.1</td>\n",
       "      <td>0</td>\n",
       "      <td>0.026851</td>\n",
       "      <td>-4.129531</td>\n",
       "      <td>-0.451136</td>\n",
       "    </tr>\n",
       "    <tr>\n",
       "      <th>1</th>\n",
       "      <td>org.axonframework.test.aggregate</td>\n",
       "      <td>axon-test-4.10.1</td>\n",
       "      <td>0</td>\n",
       "      <td>0.012211</td>\n",
       "      <td>-3.641190</td>\n",
       "      <td>1.192885</td>\n",
       "    </tr>\n",
       "    <tr>\n",
       "      <th>2</th>\n",
       "      <td>org.axonframework.test.matchers</td>\n",
       "      <td>axon-test-4.10.1</td>\n",
       "      <td>0</td>\n",
       "      <td>0.017966</td>\n",
       "      <td>-3.877148</td>\n",
       "      <td>-0.611547</td>\n",
       "    </tr>\n",
       "    <tr>\n",
       "      <th>3</th>\n",
       "      <td>org.axonframework.test.saga</td>\n",
       "      <td>axon-test-4.10.1</td>\n",
       "      <td>0</td>\n",
       "      <td>0.012211</td>\n",
       "      <td>-5.068574</td>\n",
       "      <td>-0.300846</td>\n",
       "    </tr>\n",
       "    <tr>\n",
       "      <th>4</th>\n",
       "      <td>org.axonframework.test.utils</td>\n",
       "      <td>axon-test-4.10.1</td>\n",
       "      <td>0</td>\n",
       "      <td>0.012709</td>\n",
       "      <td>-4.127413</td>\n",
       "      <td>-1.984794</td>\n",
       "    </tr>\n",
       "  </tbody>\n",
       "</table>\n",
       "</div>"
      ],
      "text/plain": [
       "                           codeUnit          artifact  communityId  \\\n",
       "0            org.axonframework.test  axon-test-4.10.1            0   \n",
       "1  org.axonframework.test.aggregate  axon-test-4.10.1            0   \n",
       "2   org.axonframework.test.matchers  axon-test-4.10.1            0   \n",
       "3       org.axonframework.test.saga  axon-test-4.10.1            0   \n",
       "4      org.axonframework.test.utils  axon-test-4.10.1            0   \n",
       "\n",
       "   centrality         x         y  \n",
       "0    0.026851 -4.129531 -0.451136  \n",
       "1    0.012211 -3.641190  1.192885  \n",
       "2    0.017966 -3.877148 -0.611547  \n",
       "3    0.012211 -5.068574 -0.300846  \n",
       "4    0.012709 -4.127413 -1.984794  "
      ]
     },
     "metadata": {},
     "output_type": "display_data"
    },
    {
     "data": {
      "image/png": "[encoded data removed]",
      "text/plain": [
       "<Figure size 640x480 with 1 Axes>"
      ]
     },
     "metadata": {},
     "output_type": "display_data"
    }
   ],
   "source": [
    "java_package_embeddings_parameters={\n",
    "    \"dependencies_projection\": \"java-package-embeddings-notebook\",\n",
    "    \"dependencies_projection_node\": \"Package\",\n",
    "    \"dependencies_projection_weight_property\": \"weight25PercentInterfaces\",\n",
    "    \"dependencies_projection_write_property\": \"embeddingsHashGNN\",\n",
    "    \"dependencies_projection_embedding_dimension\":\"64\"\n",
    "}\n",
    "embeddings = create_node_embeddings(\"../cypher/Node_Embeddings/Node_Embeddings_2d_Hash_GNN_Stream.cypher\", java_package_embeddings_parameters)\n",
    "node_embeddings_for_visualization = prepare_node_embeddings_for_2d_visualization(embeddings)\n",
    "plot_2d_node_embeddings(\n",
    "    node_embeddings_for_visualization, \n",
    "    \"Java Package positioned by their dependency relationships (HashGNN node embeddings + t-SNE)\"\n",
    ")"
   ]
  },
  {
   "cell_type": "markdown",
   "id": "248d88b4",
   "metadata": {},
   "source": [
    "### 2.5 Node Embeddings for Java Packages using node2vec"
   ]
  },
  {
   "cell_type": "code",
   "execution_count": 18,
   "id": "62c40c45",
   "metadata": {
    "execution": {
     "iopub.execute_input": "2024-10-27T08:35:29.060183Z",
     "iopub.status.busy": "2024-10-27T08:35:29.060014Z",
     "iopub.status.idle": "2024-10-27T08:35:29.986557Z",
     "shell.execute_reply": "2024-10-27T08:35:29.986040Z"
    }
   },
   "outputs": [
    {
     "name": "stdout",
     "output_type": "stream",
     "text": [
      "The results have been provided by the query filename: ../cypher/Node_Embeddings/Node_Embeddings_0a_Query_Calculated.cypher\n"
     ]
    },
    {
     "data": {
      "text/html": [
       "<div>\n",
       "<style scoped>\n",
       "    .dataframe tbody tr th:only-of-type {\n",
       "        vertical-align: middle;\n",
       "    }\n",
       "\n",
       "    .dataframe tbody tr th {\n",
       "        vertical-align: top;\n",
       "    }\n",
       "\n",
       "    .dataframe thead th {\n",
       "        text-align: right;\n",
       "    }\n",
       "</style>\n",
       "<table border=\"1\" class=\"dataframe\">\n",
       "  <thead>\n",
       "    <tr style=\"text-align: right;\">\n",
       "      <th></th>\n",
       "      <th>codeUnitName</th>\n",
       "      <th>shortCodeUnitName</th>\n",
       "      <th>projectName</th>\n",
       "      <th>communityId</th>\n",
       "      <th>centrality</th>\n",
       "      <th>embedding</th>\n",
       "    </tr>\n",
       "  </thead>\n",
       "  <tbody>\n",
       "    <tr>\n",
       "      <th>0</th>\n",
       "      <td>org.axonframework.test</td>\n",
       "      <td>test</td>\n",
       "      <td>axon-test-4.10.1</td>\n",
       "      <td>0</td>\n",
       "      <td>0.026851</td>\n",
       "      <td>[0.6900948882102966, 0.14429552853107452, 0.10...</td>\n",
       "    </tr>\n",
       "    <tr>\n",
       "      <th>1</th>\n",
       "      <td>org.axonframework.test.aggregate</td>\n",
       "      <td>aggregate</td>\n",
       "      <td>axon-test-4.10.1</td>\n",
       "      <td>0</td>\n",
       "      <td>0.012211</td>\n",
       "      <td>[0.6748442649841309, 0.06730105727910995, 0.10...</td>\n",
       "    </tr>\n",
       "    <tr>\n",
       "      <th>2</th>\n",
       "      <td>org.axonframework.test.matchers</td>\n",
       "      <td>matchers</td>\n",
       "      <td>axon-test-4.10.1</td>\n",
       "      <td>0</td>\n",
       "      <td>0.017966</td>\n",
       "      <td>[0.6474723815917969, 0.18126386404037476, 0.02...</td>\n",
       "    </tr>\n",
       "    <tr>\n",
       "      <th>3</th>\n",
       "      <td>org.axonframework.test.saga</td>\n",
       "      <td>saga</td>\n",
       "      <td>axon-test-4.10.1</td>\n",
       "      <td>0</td>\n",
       "      <td>0.012211</td>\n",
       "      <td>[0.3847985565662384, 0.23506100475788116, 0.21...</td>\n",
       "    </tr>\n",
       "    <tr>\n",
       "      <th>4</th>\n",
       "      <td>org.axonframework.test.utils</td>\n",
       "      <td>utils</td>\n",
       "      <td>axon-test-4.10.1</td>\n",
       "      <td>0</td>\n",
       "      <td>0.012709</td>\n",
       "      <td>[0.3601508140563965, 0.367937833070755, 0.3230...</td>\n",
       "    </tr>\n",
       "  </tbody>\n",
       "</table>\n",
       "</div>"
      ],
      "text/plain": [
       "                       codeUnitName shortCodeUnitName       projectName  \\\n",
       "0            org.axonframework.test              test  axon-test-4.10.1   \n",
       "1  org.axonframework.test.aggregate         aggregate  axon-test-4.10.1   \n",
       "2   org.axonframework.test.matchers          matchers  axon-test-4.10.1   \n",
       "3       org.axonframework.test.saga              saga  axon-test-4.10.1   \n",
       "4      org.axonframework.test.utils             utils  axon-test-4.10.1   \n",
       "\n",
       "   communityId  centrality                                          embedding  \n",
       "0            0    0.026851  [0.6900948882102966, 0.14429552853107452, 0.10...  \n",
       "1            0    0.012211  [0.6748442649841309, 0.06730105727910995, 0.10...  \n",
       "2            0    0.017966  [0.6474723815917969, 0.18126386404037476, 0.02...  \n",
       "3            0    0.012211  [0.3847985565662384, 0.23506100475788116, 0.21...  \n",
       "4            0    0.012709  [0.3601508140563965, 0.367937833070755, 0.3230...  "
      ]
     },
     "metadata": {},
     "output_type": "display_data"
    },
    {
     "name": "stdout",
     "output_type": "stream",
     "text": [
      "--------------------------------------------------------------------------------\n",
      "TSNE(early_exaggeration=12, random_state=47, verbose=1)\n",
      "--------------------------------------------------------------------------------\n",
      "===> Finding 90 nearest neighbors using exact search using euclidean distance...\n",
      "   --> Time elapsed: 0.00 seconds\n",
      "===> Calculating affinity matrix...\n",
      "   --> Time elapsed: 0.00 seconds\n",
      "===> Calculating PCA-based initialization...\n",
      "   --> Time elapsed: 0.00 seconds\n",
      "===> Running optimization with exaggeration=12.00, lr=9.50 for 250 iterations...\n",
      "Iteration   50, KL divergence -0.7514, 50 iterations in 0.0650 sec\n",
      "Iteration  100, KL divergence 1.1459, 50 iterations in 0.0168 sec\n",
      "Iteration  150, KL divergence 1.1459, 50 iterations in 0.0148 sec\n",
      "Iteration  200, KL divergence 1.1459, 50 iterations in 0.0147 sec\n",
      "Iteration  250, KL divergence 1.1459, 50 iterations in 0.0147 sec\n",
      "   --> Time elapsed: 0.13 seconds\n",
      "===> Running optimization with exaggeration=1.00, lr=114.00 for 500 iterations...\n",
      "Iteration   50, KL divergence 0.3637, 50 iterations in 0.0510 sec\n",
      "Iteration  100, KL divergence 0.3380, 50 iterations in 0.0501 sec\n",
      "Iteration  150, KL divergence 0.3181, 50 iterations in 0.0487 sec\n",
      "Iteration  200, KL divergence 0.3080, 50 iterations in 0.0461 sec\n",
      "Iteration  250, KL divergence 0.3067, 50 iterations in 0.0466 sec\n",
      "Iteration  300, KL divergence 0.3062, 50 iterations in 0.0458 sec\n",
      "Iteration  350, KL divergence 0.3063, 50 iterations in 0.0465 sec\n",
      "Iteration  400, KL divergence 0.3062, 50 iterations in 0.0470 sec\n",
      "Iteration  450, KL divergence 0.3062, 50 iterations in 0.0455 sec\n",
      "Iteration  500, KL divergence 0.3062, 50 iterations in 0.0450 sec\n",
      "   --> Time elapsed: 0.47 seconds\n"
     ]
    },
    {
     "data": {
      "text/plain": [
       "(114, 2)"
      ]
     },
     "metadata": {},
     "output_type": "display_data"
    },
    {
     "data": {
      "text/html": [
       "<div>\n",
       "<style scoped>\n",
       "    .dataframe tbody tr th:only-of-type {\n",
       "        vertical-align: middle;\n",
       "    }\n",
       "\n",
       "    .dataframe tbody tr th {\n",
       "        vertical-align: top;\n",
       "    }\n",
       "\n",
       "    .dataframe thead th {\n",
       "        text-align: right;\n",
       "    }\n",
       "</style>\n",
       "<table border=\"1\" class=\"dataframe\">\n",
       "  <thead>\n",
       "    <tr style=\"text-align: right;\">\n",
       "      <th></th>\n",
       "      <th>codeUnit</th>\n",
       "      <th>artifact</th>\n",
       "      <th>communityId</th>\n",
       "      <th>centrality</th>\n",
       "      <th>x</th>\n",
       "      <th>y</th>\n",
       "    </tr>\n",
       "  </thead>\n",
       "  <tbody>\n",
       "    <tr>\n",
       "      <th>0</th>\n",
       "      <td>org.axonframework.test</td>\n",
       "      <td>axon-test-4.10.1</td>\n",
       "      <td>0</td>\n",
       "      <td>0.026851</td>\n",
       "      <td>8.725602</td>\n",
       "      <td>-1.071003</td>\n",
       "    </tr>\n",
       "    <tr>\n",
       "      <th>1</th>\n",
       "      <td>org.axonframework.test.aggregate</td>\n",
       "      <td>axon-test-4.10.1</td>\n",
       "      <td>0</td>\n",
       "      <td>0.012211</td>\n",
       "      <td>9.143661</td>\n",
       "      <td>-1.541681</td>\n",
       "    </tr>\n",
       "    <tr>\n",
       "      <th>2</th>\n",
       "      <td>org.axonframework.test.matchers</td>\n",
       "      <td>axon-test-4.10.1</td>\n",
       "      <td>0</td>\n",
       "      <td>0.017966</td>\n",
       "      <td>8.605958</td>\n",
       "      <td>-0.946743</td>\n",
       "    </tr>\n",
       "    <tr>\n",
       "      <th>3</th>\n",
       "      <td>org.axonframework.test.saga</td>\n",
       "      <td>axon-test-4.10.1</td>\n",
       "      <td>0</td>\n",
       "      <td>0.012211</td>\n",
       "      <td>7.648797</td>\n",
       "      <td>-1.067694</td>\n",
       "    </tr>\n",
       "    <tr>\n",
       "      <th>4</th>\n",
       "      <td>org.axonframework.test.utils</td>\n",
       "      <td>axon-test-4.10.1</td>\n",
       "      <td>0</td>\n",
       "      <td>0.012709</td>\n",
       "      <td>6.866155</td>\n",
       "      <td>-1.447435</td>\n",
       "    </tr>\n",
       "  </tbody>\n",
       "</table>\n",
       "</div>"
      ],
      "text/plain": [
       "                           codeUnit          artifact  communityId  \\\n",
       "0            org.axonframework.test  axon-test-4.10.1            0   \n",
       "1  org.axonframework.test.aggregate  axon-test-4.10.1            0   \n",
       "2   org.axonframework.test.matchers  axon-test-4.10.1            0   \n",
       "3       org.axonframework.test.saga  axon-test-4.10.1            0   \n",
       "4      org.axonframework.test.utils  axon-test-4.10.1            0   \n",
       "\n",
       "   centrality         x         y  \n",
       "0    0.026851  8.725602 -1.071003  \n",
       "1    0.012211  9.143661 -1.541681  \n",
       "2    0.017966  8.605958 -0.946743  \n",
       "3    0.012211  7.648797 -1.067694  \n",
       "4    0.012709  6.866155 -1.447435  "
      ]
     },
     "metadata": {},
     "output_type": "display_data"
    },
    {
     "data": {
      "image/png": "[encoded data removed]",
      "text/plain": [
       "<Figure size 640x480 with 1 Axes>"
      ]
     },
     "metadata": {},
     "output_type": "display_data"
    }
   ],
   "source": [
    "java_package_embeddings_parameters={\n",
    "    \"dependencies_projection\": \"java-package-embeddings-notebook\",\n",
    "    \"dependencies_projection_node\": \"Package\",\n",
    "    \"dependencies_projection_weight_property\": \"weight25PercentInterfaces\",\n",
    "    \"dependencies_projection_write_property\": \"embeddingsNode2Vec\",\n",
    "    \"dependencies_projection_embedding_dimension\":\"32\"\n",
    "}\n",
    "embeddings = create_node_embeddings(\"../cypher/Node_Embeddings/Node_Embeddings_3d_Node2Vec_Stream.cypher\", java_package_embeddings_parameters)\n",
    "node_embeddings_for_visualization = prepare_node_embeddings_for_2d_visualization(embeddings)\n",
    "plot_2d_node_embeddings(\n",
    "    node_embeddings_for_visualization, \n",
    "    \"Java Package positioned by their dependency relationships (node2vec node embeddings + t-SNE)\"\n",
    ")"
   ]
  }
 ],
 "metadata": {
  "authors": [
   {
    "name": "JohT"
   }
  ],
  "code_graph_analysis_pipeline_data_validation": "ValidateJavaPackageDependencies",
  "kernelspec": {
   "display_name": "Python 3 (ipykernel)",
   "language": "python",
   "name": "python3"
  },
  "language_info": {
   "codemirror_mode": {
    "name": "ipython",
    "version": 3
   },
   "file_extension": ".py",
   "mimetype": "text/x-python",
   "name": "python",
   "nbconvert_exporter": "python",
   "pygments_lexer": "ipython3",
   "version": "3.11.0"
  },
  "title": "Object Oriented Design Quality Metrics for Java with Neo4j"
 },
 "nbformat": 4,
 "nbformat_minor": 5
}
