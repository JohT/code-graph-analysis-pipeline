{
 "cells": [
  {
   "attachments": {},
   "cell_type": "markdown",
   "id": "2f0eabc4",
   "metadata": {},
   "source": [
    "# Node Embeddings\n",
    "\n",
    "This notebook demonstrates different methods for node embeddings and how to further reduce their dimensionality to be able to visualize them in a 2D plot. \n",
    "\n",
    "Node embeddings are essentially an array of floating point numbers (length = embedding dimension) that can be used as \"features\" in machine learning. These numbers approximate the relationship and similarity information of each node and can also be seen as a way to encode the topology of the graph.\n",
    "\n",
    "## Considerations\n",
    "\n",
    "Due to dimensionality reduction some information gets lost, especially when visualizing node embeddings in two dimensions. Nevertheless, it helps to get an intuition on what node embeddings are and how much of the similarity and neighborhood information is retained. The latter can be observed by how well nodes of the same color and therefore same community are placed together and how much bigger nodes with a high centrality score influence them. \n",
    "\n",
    "If the visualization doesn't show a somehow clear separation between the communities (colors) here are some ideas for tuning: \n",
    "- Clean the data, e.g. filter out very few nodes with extremely high degree that aren't actually that important\n",
    "- Try directed vs. undirected projections\n",
    "- Tune the embedding algorithm, e.g. use a higher dimensionality\n",
    "- Tune t-SNE that is used to reduce the node embeddings dimension to two dimensions for visualization. \n",
    "\n",
    "It could also be the case that the node embeddings are good enough and well suited the way they are despite their visualization for the down stream task like node classification or link prediction. In that case it makes sense to see how the whole pipeline performs before tuning the node embeddings in detail. \n",
    "\n",
    "## Note about data dependencies\n",
    "\n",
    "PageRank centrality and Leiden community are also fetched from the Graph and need to be calculated first.\n",
    "This makes it easier to see if the embeddings approximate the structural information of the graph in the plot.\n",
    "If these properties are missing you will only see black dots all of the same size.\n",
    "\n",
    "<br>  \n",
    "\n",
    "### References\n",
    "- [jqassistant](https://jqassistant.org)\n",
    "- [Neo4j Python Driver](https://neo4j.com/docs/api/python-driver/current)\n",
    "- [Tutorial: Applied Graph Embeddings](https://neo4j.com/developer/graph-data-science/applied-graph-embeddings)\n",
    "- [Visualizing the embeddings in 2D](https://github.com/openai/openai-cookbook/blob/main/examples/Visualizing_embeddings_in_2D.ipynb)\n",
    "- [scikit-learn TSNE](https://scikit-learn.org/stable/modules/generated/sklearn.manifold.TSNE.html#sklearn.manifold.TSNE)\n",
    "- [AttributeError: 'list' object has no attribute 'shape'](https://bobbyhadz.com/blog/python-attributeerror-list-object-has-no-attribute-shape)\n",
    "- [Fast Random Projection (neo4j)](https://neo4j.com/docs/graph-data-science/current/machine-learning/node-embeddings/fastrp)\n",
    "- [HashGNN (neo4j)](https://neo4j.com/docs/graph-data-science/2.6/machine-learning/node-embeddings/hashgnn)\n",
    "- [node2vec (neo4j)](https://neo4j.com/docs/graph-data-science/current/machine-learning/node-embeddings/node2vec) computes a vector representation of a node based on second order random walks in the graph. \n",
    "- [Complete guide to understanding Node2Vec algorithm](https://towardsdatascience.com/complete-guide-to-understanding-node2vec-algorithm-4e9a35e5d147)"
   ]
  },
  {
   "cell_type": "code",
   "execution_count": 1,
   "id": "4191f259",
   "metadata": {
    "execution": {
     "iopub.execute_input": "2024-10-07T05:14:41.779742Z",
     "iopub.status.busy": "2024-10-07T05:14:41.779535Z",
     "iopub.status.idle": "2024-10-07T05:14:42.646784Z",
     "shell.execute_reply": "2024-10-07T05:14:42.646263Z"
    }
   },
   "outputs": [],
   "source": [
    "import os\n",
    "from IPython.display import display\n",
    "import pandas as pd\n",
    "import matplotlib.pyplot as plot\n",
    "import typing as typ\n",
    "import numpy as np\n",
    "from openTSNE.sklearn import TSNE\n",
    "from neo4j import GraphDatabase"
   ]
  },
  {
   "cell_type": "code",
   "execution_count": 2,
   "id": "f8ef41ff",
   "metadata": {
    "execution": {
     "iopub.execute_input": "2024-10-07T05:14:42.649658Z",
     "iopub.status.busy": "2024-10-07T05:14:42.649219Z",
     "iopub.status.idle": "2024-10-07T05:14:42.652568Z",
     "shell.execute_reply": "2024-10-07T05:14:42.652077Z"
    }
   },
   "outputs": [
    {
     "name": "stdout",
     "output_type": "stream",
     "text": [
      "The openTSNE version is: 1.0.1\n",
      "The pandas version is 1.5.1.\n"
     ]
    }
   ],
   "source": [
    "from openTSNE import __version__ as openTSNE_version\n",
    "print('The openTSNE version is: {}'.format(openTSNE_version))\n",
    "print('The pandas version is {}.'.format(pd.__version__))\n"
   ]
  },
  {
   "cell_type": "code",
   "execution_count": 3,
   "id": "1c5dab37",
   "metadata": {
    "execution": {
     "iopub.execute_input": "2024-10-07T05:14:42.654429Z",
     "iopub.status.busy": "2024-10-07T05:14:42.654272Z",
     "iopub.status.idle": "2024-10-07T05:14:42.662146Z",
     "shell.execute_reply": "2024-10-07T05:14:42.661650Z"
    }
   },
   "outputs": [],
   "source": [
    "# Please set the environment variable \"NEO4J_INITIAL_PASSWORD\" in your shell \n",
    "# before starting jupyter notebook to provide the password for the user \"neo4j\". \n",
    "# It is not recommended to hardcode the password into jupyter notebook for security reasons.\n",
    "\n",
    "driver = GraphDatabase.driver(uri=\"bolt://localhost:7687\", auth=(\"neo4j\", os.environ.get(\"NEO4J_INITIAL_PASSWORD\")))\n",
    "driver.verify_connectivity()"
   ]
  },
  {
   "cell_type": "code",
   "execution_count": 4,
   "id": "c1db254b",
   "metadata": {
    "execution": {
     "iopub.execute_input": "2024-10-07T05:14:42.664530Z",
     "iopub.status.busy": "2024-10-07T05:14:42.664099Z",
     "iopub.status.idle": "2024-10-07T05:14:42.667139Z",
     "shell.execute_reply": "2024-10-07T05:14:42.666739Z"
    }
   },
   "outputs": [],
   "source": [
    "def get_cypher_query_from_file(filename):\n",
    "    with open(filename) as file:\n",
    "        return ' '.join(file.readlines())"
   ]
  },
  {
   "cell_type": "code",
   "execution_count": 5,
   "id": "59310f6f",
   "metadata": {
    "execution": {
     "iopub.execute_input": "2024-10-07T05:14:42.669004Z",
     "iopub.status.busy": "2024-10-07T05:14:42.668761Z",
     "iopub.status.idle": "2024-10-07T05:14:42.671737Z",
     "shell.execute_reply": "2024-10-07T05:14:42.671342Z"
    }
   },
   "outputs": [],
   "source": [
    "def query_cypher_to_data_frame(filename, parameters_: typ.Optional[typ.Dict[str, typ.Any]] = None):\n",
    "    records, summary, keys = driver.execute_query(get_cypher_query_from_file(filename),parameters_=parameters_)\n",
    "    return pd.DataFrame([r.values() for r in records], columns=keys)"
   ]
  },
  {
   "cell_type": "code",
   "execution_count": 6,
   "id": "bd1d9775",
   "metadata": {
    "execution": {
     "iopub.execute_input": "2024-10-07T05:14:42.673526Z",
     "iopub.status.busy": "2024-10-07T05:14:42.673374Z",
     "iopub.status.idle": "2024-10-07T05:14:42.676587Z",
     "shell.execute_reply": "2024-10-07T05:14:42.676175Z"
    }
   },
   "outputs": [],
   "source": [
    "def query_first_non_empty_cypher_to_data_frame(*filenames : str, parameters: typ.Optional[typ.Dict[str, typ.Any]] = None):\n",
    "    \"\"\"\n",
    "    Executes the Cypher queries of the given files and returns the first result that is not empty.\n",
    "    If all given file names result in empty results, the last (empty) result will be returned.\n",
    "    By additionally specifying \"limit=\" the \"LIMIT\" keyword will appended to query so that only the first results get returned.\n",
    "    \"\"\"\n",
    "    result=pd.DataFrame()\n",
    "    for filename in filenames:\n",
    "        result=query_cypher_to_data_frame(filename, parameters)\n",
    "        if not result.empty:\n",
    "            print(\"The results have been provided by the query filename: \" + filename)\n",
    "            return result\n",
    "    return result"
   ]
  },
  {
   "cell_type": "code",
   "execution_count": 7,
   "id": "7d2e62d6",
   "metadata": {
    "execution": {
     "iopub.execute_input": "2024-10-07T05:14:42.678405Z",
     "iopub.status.busy": "2024-10-07T05:14:42.678267Z",
     "iopub.status.idle": "2024-10-07T05:14:42.681683Z",
     "shell.execute_reply": "2024-10-07T05:14:42.681269Z"
    }
   },
   "outputs": [],
   "source": [
    "# TODO option to choose between directed and undirected projection\n",
    "\n",
    "def create_undirected_projection(parameters: dict) -> bool: \n",
    "    \"\"\"\n",
    "    Creates an undirected homogenous in-memory Graph projection for/with Neo4j Graph Data Science Plugin.\n",
    "    It returns True if there is data available for the given parameter and False otherwise.\n",
    "    Parameters\n",
    "    ----------\n",
    "    dependencies_projection : str\n",
    "        The name prefix for the in-memory projection for dependencies. Example: \"java-package-embeddings-notebook\"\n",
    "    dependencies_projection_node : str\n",
    "        The label of the nodes that will be used for the projection. Example: \"Package\"\n",
    "    dependencies_projection_weight_property : str\n",
    "        The name of the node property that contains the dependency weight. Example: \"weight25PercentInterfaces\"\n",
    "    dependencies_projection_embedding_dimension : str\n",
    "        The number of the dimensions and therefore size of the resulting array of floating point numbers\n",
    "    \"\"\"\n",
    "    \n",
    "    is_data_missing=query_cypher_to_data_frame(\"../cypher/Dependencies_Projection/Dependencies_0_Check_Projectable.cypher\", parameters).empty\n",
    "    if is_data_missing: return False\n",
    "\n",
    "    query_cypher_to_data_frame(\"../cypher/Dependencies_Projection/Dependencies_1_Delete_Projection.cypher\", parameters)\n",
    "    query_cypher_to_data_frame(\"../cypher/Dependencies_Projection/Dependencies_2_Delete_Subgraph.cypher\", parameters)\n",
    "    # To include the direction of the relationships use the following line to create the projection:\n",
    "    # query_cypher_to_data_frame(\"../cypher/Dependencies_Projection/Dependencies_3_Create_Projection.cypher\", parameters)\n",
    "    query_cypher_to_data_frame(\"../cypher/Dependencies_Projection/Dependencies_4_Create_Undirected_Projection.cypher\", parameters)\n",
    "    query_cypher_to_data_frame(\"../cypher/Dependencies_Projection/Dependencies_5_Create_Subgraph.cypher\", parameters)\n",
    "    return True"
   ]
  },
  {
   "cell_type": "code",
   "execution_count": 8,
   "id": "1aa86093",
   "metadata": {
    "execution": {
     "iopub.execute_input": "2024-10-07T05:14:42.683621Z",
     "iopub.status.busy": "2024-10-07T05:14:42.683333Z",
     "iopub.status.idle": "2024-10-07T05:14:42.687177Z",
     "shell.execute_reply": "2024-10-07T05:14:42.686756Z"
    }
   },
   "outputs": [],
   "source": [
    "# Feature ideas\n",
    "# TODO option to choose between directed and undirected projection\n",
    "# TODO option to not read already existing node embeddings to experiment with different (hpyer) parameters\n",
    "# TODO run a community detection algorithm co-located in here when \"communityId\" is missing\n",
    "# TODO run a centrality algorithm co-located in here when \"centrality\" score is missing\n",
    "\n",
    "def create_node_embeddings(cypher_file_name: str, parameters: dict) -> pd.DataFrame: \n",
    "    \"\"\"\n",
    "    Creates an in-memory Graph projection by calling \"create_undirected_projection\", \n",
    "    runs the cypher Query given as cypherFileName parameter to calculate and stream the node embeddings\n",
    "    and returns a DataFrame with the results.\n",
    "    \n",
    "    cypher_file_name\n",
    "    ----------\n",
    "    Name of the file containing the Cypher query that executes node embeddings procedure.\n",
    "\n",
    "    parameters\n",
    "    ----------\n",
    "    dependencies_projection : str\n",
    "        The name prefix for the in-memory projection for dependencies. Example: \"typescript-module-embeddings-notebook\"\n",
    "    dependencies_projection_node : str\n",
    "        The label of the nodes that will be used for the projection. Example: \"Module\"\n",
    "    dependencies_projection_weight_property : str\n",
    "        The name of the node property that contains the dependency weight. Example: \"lowCouplingElement25PercentWeight\"\n",
    "    dependencies_projection_embedding_dimension : str\n",
    "        The number of the dimensions and therefore size of the resulting array of floating point numbers\n",
    "    \"\"\"\n",
    "    \n",
    "    is_data_available=create_undirected_projection(parameters)\n",
    "    \n",
    "    if not is_data_available:\n",
    "        print(\"No projected data for node embeddings calculation available\")\n",
    "        empty_result = pd.DataFrame(columns=[\"codeUnitName\", 'projectName', 'communityId', 'centrality', 'embedding'])\n",
    "        return empty_result\n",
    "\n",
    "    existing_embeddings_query_filename=\"../cypher/Node_Embeddings/Node_Embeddings_0a_Query_Calculated.cypher\"\n",
    "    embeddings = query_first_non_empty_cypher_to_data_frame(existing_embeddings_query_filename, cypher_file_name, parameters=parameters)\n",
    "    display(embeddings.head()) # Display the first entries of the table\n",
    "    return embeddings"
   ]
  },
  {
   "cell_type": "markdown",
   "id": "f6ec6a9b",
   "metadata": {},
   "source": [
    "### Dimensionality reduction with t-distributed stochastic neighbor embedding (t-SNE)\n",
    "\n",
    "The following function takes the original node embeddings with a higher dimensionality, e.g. 64 floating point numbers, and reduces them into a two dimensional array for visualization. \n",
    "\n",
    "> It converts similarities between data points to joint probabilities and tries to minimize the Kullback-Leibler divergence between the joint probabilities of the low-dimensional embedding and the high-dimensional data.\n",
    "\n",
    "(see https://opentsne.readthedocs.io)"
   ]
  },
  {
   "cell_type": "code",
   "execution_count": 9,
   "id": "720aebd3",
   "metadata": {
    "execution": {
     "iopub.execute_input": "2024-10-07T05:14:42.689157Z",
     "iopub.status.busy": "2024-10-07T05:14:42.689021Z",
     "iopub.status.idle": "2024-10-07T05:14:42.693026Z",
     "shell.execute_reply": "2024-10-07T05:14:42.692608Z"
    }
   },
   "outputs": [],
   "source": [
    "def prepare_node_embeddings_for_2d_visualization(embeddings: pd.DataFrame) -> pd.DataFrame:\n",
    "    \"\"\"\n",
    "    Reduces the dimensionality of the node embeddings (e.g. 32 floating point numbers in an array)\n",
    "    to two dimensions for 2D visualization.\n",
    "    see https://opentsne.readthedocs.io\n",
    "    \"\"\"\n",
    "\n",
    "    if embeddings.empty: \n",
    "        print(\"No projected data for node embeddings dimensionality reduction available\")\n",
    "        return embeddings\n",
    "    \n",
    "    # Calling the fit_transform method just with a list doesn't seem to work (anymore?). \n",
    "    # It leads to an error with the following message: 'list' object has no attribute 'shape'\n",
    "    # This can be solved by converting the list to a numpy array using np.array(..).\n",
    "    # See https://bobbyhadz.com/blog/python-attributeerror-list-object-has-no-attribute-shape\n",
    "    embeddings_as_numpy_array = np.array(embeddings.embedding.to_list())\n",
    "\n",
    "    # Use t-distributed stochastic neighbor embedding (t-SNE) to reduce the dimensionality \n",
    "    # of the previously calculated node embeddings to 2 dimensions for visualization\n",
    "    t_distributed_stochastic_neighbor_embedding = TSNE(n_components=2, verbose=1, random_state=47)\n",
    "    two_dimension_node_embeddings = t_distributed_stochastic_neighbor_embedding.fit_transform(embeddings_as_numpy_array)\n",
    "    display(two_dimension_node_embeddings.shape) # Display the shape of the t-SNE result\n",
    "\n",
    "    # Create a new DataFrame with the results of the 2 dimensional node embeddings\n",
    "    # and the code unit and artifact name of the query above as preparation for the plot\n",
    "    node_embeddings_for_visualization = pd.DataFrame(data = {\n",
    "        \"codeUnit\": embeddings.codeUnitName,\n",
    "        \"artifact\": embeddings.projectName,\n",
    "        \"communityId\": embeddings.communityId,\n",
    "        \"centrality\": embeddings.centrality,\n",
    "        \"x\": [value[0] for value in two_dimension_node_embeddings],\n",
    "        \"y\": [value[1] for value in two_dimension_node_embeddings]\n",
    "    })\n",
    "    display(node_embeddings_for_visualization.head()) # Display the first line of the results\n",
    "    return node_embeddings_for_visualization\n",
    "    "
   ]
  },
  {
   "cell_type": "code",
   "execution_count": 10,
   "id": "d937e26e",
   "metadata": {
    "execution": {
     "iopub.execute_input": "2024-10-07T05:14:42.694820Z",
     "iopub.status.busy": "2024-10-07T05:14:42.694667Z",
     "iopub.status.idle": "2024-10-07T05:14:42.697767Z",
     "shell.execute_reply": "2024-10-07T05:14:42.697355Z"
    }
   },
   "outputs": [],
   "source": [
    "def plot_2d_node_embeddings(node_embeddings_for_visualization: pd.DataFrame, title: str):\n",
    "    if embeddings.empty:\n",
    "        print(\"No projected data to plot available\")\n",
    "        return\n",
    "\n",
    "    plot.scatter(\n",
    "        x=node_embeddings_for_visualization.x,\n",
    "        y=node_embeddings_for_visualization.y,\n",
    "        s=node_embeddings_for_visualization.centrality * 300,\n",
    "        c=node_embeddings_for_visualization.communityId,\n",
    "        cmap=main_color_map,\n",
    "    )\n",
    "    plot.title(title)\n",
    "    plot.show()"
   ]
  },
  {
   "cell_type": "code",
   "execution_count": 11,
   "id": "da9e8edb",
   "metadata": {
    "execution": {
     "iopub.execute_input": "2024-10-07T05:14:42.699787Z",
     "iopub.status.busy": "2024-10-07T05:14:42.699465Z",
     "iopub.status.idle": "2024-10-07T05:14:42.701763Z",
     "shell.execute_reply": "2024-10-07T05:14:42.701351Z"
    }
   },
   "outputs": [],
   "source": [
    "#The following cell uses the build-in %html \"magic\" to override the CSS style for tables to a much smaller size.\n",
    "#This is especially needed for PDF export of tables with multiple columns."
   ]
  },
  {
   "cell_type": "code",
   "execution_count": 12,
   "id": "9deaabce",
   "metadata": {
    "execution": {
     "iopub.execute_input": "2024-10-07T05:14:42.703425Z",
     "iopub.status.busy": "2024-10-07T05:14:42.703278Z",
     "iopub.status.idle": "2024-10-07T05:14:42.710013Z",
     "shell.execute_reply": "2024-10-07T05:14:42.709524Z"
    }
   },
   "outputs": [
    {
     "data": {
      "text/html": [
       "<style>\n",
       "/* CSS style for smaller dataframe tables. */\n",
       ".dataframe th {\n",
       "    font-size: 8px;\n",
       "}\n",
       ".dataframe td {\n",
       "    font-size: 8px;\n",
       "}\n",
       "</style>\n"
      ],
      "text/plain": [
       "<IPython.core.display.HTML object>"
      ]
     },
     "metadata": {},
     "output_type": "display_data"
    }
   ],
   "source": [
    "%%html\n",
    "<style>\n",
    "/* CSS style for smaller dataframe tables. */\n",
    ".dataframe th {\n",
    "    font-size: 8px;\n",
    "}\n",
    ".dataframe td {\n",
    "    font-size: 8px;\n",
    "}\n",
    "</style>"
   ]
  },
  {
   "cell_type": "code",
   "execution_count": 13,
   "id": "c2496caf",
   "metadata": {
    "execution": {
     "iopub.execute_input": "2024-10-07T05:14:42.711828Z",
     "iopub.status.busy": "2024-10-07T05:14:42.711692Z",
     "iopub.status.idle": "2024-10-07T05:14:42.713863Z",
     "shell.execute_reply": "2024-10-07T05:14:42.713442Z"
    }
   },
   "outputs": [],
   "source": [
    "# Main Colormap\n",
    "main_color_map = 'nipy_spectral'"
   ]
  },
  {
   "cell_type": "markdown",
   "id": "0b42163d",
   "metadata": {},
   "source": [
    "## 1. Typescript Modules"
   ]
  },
  {
   "cell_type": "markdown",
   "id": "3b468bae",
   "metadata": {},
   "source": [
    "### 1.1 Generate Node Embeddings for Typescript Modules using Fast Random Projection (Fast RP)\n",
    "\n",
    "[Fast Random Projection](https://neo4j.com/docs/graph-data-science/current/machine-learning/node-embeddings/fastrp) is used to reduce the dimensionality of the node feature space while preserving most of the distance information. Nodes with similar neighborhood result in node embedding with similar vectors.\n",
    "\n",
    "**👉 Hint:** To skip existing node embeddings and always calculate them based on the parameters below edit `Node_Embeddings_0a_Query_Calculated` so that it won't return any results."
   ]
  },
  {
   "cell_type": "code",
   "execution_count": 14,
   "id": "1ecc41b1",
   "metadata": {
    "execution": {
     "iopub.execute_input": "2024-10-07T05:14:42.715842Z",
     "iopub.status.busy": "2024-10-07T05:14:42.715688Z",
     "iopub.status.idle": "2024-10-07T05:14:42.889980Z",
     "shell.execute_reply": "2024-10-07T05:14:42.889447Z"
    }
   },
   "outputs": [
    {
     "name": "stdout",
     "output_type": "stream",
     "text": [
      "The results have been provided by the query filename: ../cypher/Node_Embeddings/Node_Embeddings_0a_Query_Calculated.cypher\n"
     ]
    },
    {
     "data": {
      "text/html": [
       "<div>\n",
       "<style scoped>\n",
       "    .dataframe tbody tr th:only-of-type {\n",
       "        vertical-align: middle;\n",
       "    }\n",
       "\n",
       "    .dataframe tbody tr th {\n",
       "        vertical-align: top;\n",
       "    }\n",
       "\n",
       "    .dataframe thead th {\n",
       "        text-align: right;\n",
       "    }\n",
       "</style>\n",
       "<table border=\"1\" class=\"dataframe\">\n",
       "  <thead>\n",
       "    <tr style=\"text-align: right;\">\n",
       "      <th></th>\n",
       "      <th>codeUnitName</th>\n",
       "      <th>shortCodeUnitName</th>\n",
       "      <th>projectName</th>\n",
       "      <th>communityId</th>\n",
       "      <th>centrality</th>\n",
       "      <th>embedding</th>\n",
       "    </tr>\n",
       "  </thead>\n",
       "  <tbody>\n",
       "    <tr>\n",
       "      <th>0</th>\n",
       "      <td>/home/runner/work/code-graph-analysis-pipeline...</td>\n",
       "      <td>react-router</td>\n",
       "      <td>react-router</td>\n",
       "      <td>0</td>\n",
       "      <td>0.433757</td>\n",
       "      <td>[0.27104777097702026, -0.5710880756378174, -0....</td>\n",
       "    </tr>\n",
       "    <tr>\n",
       "      <th>1</th>\n",
       "      <td>/home/runner/work/code-graph-analysis-pipeline...</td>\n",
       "      <td>react-router-native</td>\n",
       "      <td>react-router-native</td>\n",
       "      <td>0</td>\n",
       "      <td>0.196868</td>\n",
       "      <td>[0.32539230585098267, -0.45896703004837036, -0...</td>\n",
       "    </tr>\n",
       "    <tr>\n",
       "      <th>2</th>\n",
       "      <td>/home/runner/work/code-graph-analysis-pipeline...</td>\n",
       "      <td>react-router-dom</td>\n",
       "      <td>react-router-dom</td>\n",
       "      <td>1</td>\n",
       "      <td>0.228244</td>\n",
       "      <td>[0.2941867709159851, -0.6269996166229248, -0.0...</td>\n",
       "    </tr>\n",
       "    <tr>\n",
       "      <th>3</th>\n",
       "      <td>/home/runner/work/code-graph-analysis-pipeline...</td>\n",
       "      <td>server</td>\n",
       "      <td>react-router-dom</td>\n",
       "      <td>1</td>\n",
       "      <td>0.196868</td>\n",
       "      <td>[0.27665969729423523, -0.6105074882507324, -0....</td>\n",
       "    </tr>\n",
       "    <tr>\n",
       "      <th>4</th>\n",
       "      <td>/home/runner/work/code-graph-analysis-pipeline...</td>\n",
       "      <td>router</td>\n",
       "      <td>router</td>\n",
       "      <td>1</td>\n",
       "      <td>0.825982</td>\n",
       "      <td>[0.2537482976913452, -0.6101784706115723, -0.0...</td>\n",
       "    </tr>\n",
       "  </tbody>\n",
       "</table>\n",
       "</div>"
      ],
      "text/plain": [
       "                                        codeUnitName    shortCodeUnitName  \\\n",
       "0  /home/runner/work/code-graph-analysis-pipeline...         react-router   \n",
       "1  /home/runner/work/code-graph-analysis-pipeline...  react-router-native   \n",
       "2  /home/runner/work/code-graph-analysis-pipeline...     react-router-dom   \n",
       "3  /home/runner/work/code-graph-analysis-pipeline...               server   \n",
       "4  /home/runner/work/code-graph-analysis-pipeline...               router   \n",
       "\n",
       "           projectName  communityId  centrality  \\\n",
       "0         react-router            0    0.433757   \n",
       "1  react-router-native            0    0.196868   \n",
       "2     react-router-dom            1    0.228244   \n",
       "3     react-router-dom            1    0.196868   \n",
       "4               router            1    0.825982   \n",
       "\n",
       "                                           embedding  \n",
       "0  [0.27104777097702026, -0.5710880756378174, -0....  \n",
       "1  [0.32539230585098267, -0.45896703004837036, -0...  \n",
       "2  [0.2941867709159851, -0.6269996166229248, -0.0...  \n",
       "3  [0.27665969729423523, -0.6105074882507324, -0....  \n",
       "4  [0.2537482976913452, -0.6101784706115723, -0.0...  "
      ]
     },
     "metadata": {},
     "output_type": "display_data"
    }
   ],
   "source": [
    "typescript_module_embeddings_parameters={\n",
    "    \"dependencies_projection\": \"typescript-module-embeddings-notebook\",\n",
    "    \"dependencies_projection_node\": \"Module\",\n",
    "    \"dependencies_projection_weight_property\": \"lowCouplingElement25PercentWeight\",\n",
    "    \"dependencies_projection_write_property\": \"embeddingsFastRandomProjection\",\n",
    "    \"dependencies_projection_embedding_dimension\":\"32\" \n",
    "}\n",
    "embeddings = create_node_embeddings(\"../cypher/Node_Embeddings/Node_Embeddings_1d_Fast_Random_Projection_Stream.cypher\", typescript_module_embeddings_parameters)\n"
   ]
  },
  {
   "cell_type": "markdown",
   "id": "ad17607c",
   "metadata": {},
   "source": [
    "### 1.2 Dimensionality reduction with t-distributed stochastic neighbor embedding (t-SNE)\n",
    "\n",
    "This step takes the original node embeddings with a higher dimensionality, e.g. 64 floating point numbers, and reduces them into a two dimensional array for visualization. For more details look up the function declaration for \"prepare_node_embeddings_for_2d_visualization\"."
   ]
  },
  {
   "cell_type": "code",
   "execution_count": 15,
   "id": "58575e2f",
   "metadata": {
    "execution": {
     "iopub.execute_input": "2024-10-07T05:14:42.892526Z",
     "iopub.status.busy": "2024-10-07T05:14:42.892357Z",
     "iopub.status.idle": "2024-10-07T05:14:43.060856Z",
     "shell.execute_reply": "2024-10-07T05:14:43.060413Z"
    }
   },
   "outputs": [
    {
     "name": "stderr",
     "output_type": "stream",
     "text": [
      "Perplexity value 30 is too high. Using perplexity 1.33 instead\n"
     ]
    },
    {
     "name": "stdout",
     "output_type": "stream",
     "text": [
      "--------------------------------------------------------------------------------\n",
      "TSNE(early_exaggeration=12, random_state=47, verbose=1)\n",
      "--------------------------------------------------------------------------------\n",
      "===> Finding 4 nearest neighbors using exact search using euclidean distance...\n",
      "   --> Time elapsed: 0.05 seconds\n",
      "===> Calculating affinity matrix...\n",
      "   --> Time elapsed: 0.00 seconds\n",
      "===> Calculating PCA-based initialization...\n",
      "   --> Time elapsed: 0.00 seconds\n",
      "===> Running optimization with exaggeration=12.00, lr=0.42 for 250 iterations...\n",
      "Iteration   50, KL divergence 0.5226, 50 iterations in 0.0073 sec\n",
      "Iteration  100, KL divergence 0.9689, 50 iterations in 0.0066 sec\n",
      "Iteration  150, KL divergence 0.9689, 50 iterations in 0.0065 sec\n",
      "Iteration  200, KL divergence 0.9689, 50 iterations in 0.0065 sec\n",
      "Iteration  250, KL divergence 0.9689, 50 iterations in 0.0064 sec\n",
      "   --> Time elapsed: 0.03 seconds\n",
      "===> Running optimization with exaggeration=1.00, lr=5.00 for 500 iterations...\n",
      "Iteration   50, KL divergence 0.1821, 50 iterations in 0.0067 sec\n",
      "Iteration  100, KL divergence 0.1815, 50 iterations in 0.0068 sec\n",
      "Iteration  150, KL divergence 0.1809, 50 iterations in 0.0068 sec\n",
      "Iteration  200, KL divergence 0.1803, 50 iterations in 0.0066 sec\n",
      "Iteration  250, KL divergence 0.1798, 50 iterations in 0.0064 sec\n",
      "Iteration  300, KL divergence 0.1795, 50 iterations in 0.0064 sec\n",
      "Iteration  350, KL divergence 0.1792, 50 iterations in 0.0065 sec\n",
      "Iteration  400, KL divergence 0.1790, 50 iterations in 0.0064 sec\n",
      "Iteration  450, KL divergence 0.1789, 50 iterations in 0.0065 sec\n",
      "Iteration  500, KL divergence 0.1788, 50 iterations in 0.0064 sec\n",
      "   --> Time elapsed: 0.07 seconds\n"
     ]
    },
    {
     "data": {
      "text/plain": [
       "(5, 2)"
      ]
     },
     "metadata": {},
     "output_type": "display_data"
    },
    {
     "data": {
      "text/html": [
       "<div>\n",
       "<style scoped>\n",
       "    .dataframe tbody tr th:only-of-type {\n",
       "        vertical-align: middle;\n",
       "    }\n",
       "\n",
       "    .dataframe tbody tr th {\n",
       "        vertical-align: top;\n",
       "    }\n",
       "\n",
       "    .dataframe thead th {\n",
       "        text-align: right;\n",
       "    }\n",
       "</style>\n",
       "<table border=\"1\" class=\"dataframe\">\n",
       "  <thead>\n",
       "    <tr style=\"text-align: right;\">\n",
       "      <th></th>\n",
       "      <th>codeUnit</th>\n",
       "      <th>artifact</th>\n",
       "      <th>communityId</th>\n",
       "      <th>centrality</th>\n",
       "      <th>x</th>\n",
       "      <th>y</th>\n",
       "    </tr>\n",
       "  </thead>\n",
       "  <tbody>\n",
       "    <tr>\n",
       "      <th>0</th>\n",
       "      <td>/home/runner/work/code-graph-analysis-pipeline...</td>\n",
       "      <td>react-router</td>\n",
       "      <td>0</td>\n",
       "      <td>0.433757</td>\n",
       "      <td>8.334401</td>\n",
       "      <td>-15.643490</td>\n",
       "    </tr>\n",
       "    <tr>\n",
       "      <th>1</th>\n",
       "      <td>/home/runner/work/code-graph-analysis-pipeline...</td>\n",
       "      <td>react-router-native</td>\n",
       "      <td>0</td>\n",
       "      <td>0.196868</td>\n",
       "      <td>-19.493183</td>\n",
       "      <td>7.166705</td>\n",
       "    </tr>\n",
       "    <tr>\n",
       "      <th>2</th>\n",
       "      <td>/home/runner/work/code-graph-analysis-pipeline...</td>\n",
       "      <td>react-router-dom</td>\n",
       "      <td>1</td>\n",
       "      <td>0.228244</td>\n",
       "      <td>3.068791</td>\n",
       "      <td>-1.353469</td>\n",
       "    </tr>\n",
       "    <tr>\n",
       "      <th>3</th>\n",
       "      <td>/home/runner/work/code-graph-analysis-pipeline...</td>\n",
       "      <td>react-router-dom</td>\n",
       "      <td>1</td>\n",
       "      <td>0.196868</td>\n",
       "      <td>-6.046496</td>\n",
       "      <td>2.167864</td>\n",
       "    </tr>\n",
       "    <tr>\n",
       "      <th>4</th>\n",
       "      <td>/home/runner/work/code-graph-analysis-pipeline...</td>\n",
       "      <td>router</td>\n",
       "      <td>1</td>\n",
       "      <td>0.825982</td>\n",
       "      <td>14.136488</td>\n",
       "      <td>7.662389</td>\n",
       "    </tr>\n",
       "  </tbody>\n",
       "</table>\n",
       "</div>"
      ],
      "text/plain": [
       "                                            codeUnit             artifact  \\\n",
       "0  /home/runner/work/code-graph-analysis-pipeline...         react-router   \n",
       "1  /home/runner/work/code-graph-analysis-pipeline...  react-router-native   \n",
       "2  /home/runner/work/code-graph-analysis-pipeline...     react-router-dom   \n",
       "3  /home/runner/work/code-graph-analysis-pipeline...     react-router-dom   \n",
       "4  /home/runner/work/code-graph-analysis-pipeline...               router   \n",
       "\n",
       "   communityId  centrality          x          y  \n",
       "0            0    0.433757   8.334401 -15.643490  \n",
       "1            0    0.196868 -19.493183   7.166705  \n",
       "2            1    0.228244   3.068791  -1.353469  \n",
       "3            1    0.196868  -6.046496   2.167864  \n",
       "4            1    0.825982  14.136488   7.662389  "
      ]
     },
     "metadata": {},
     "output_type": "display_data"
    }
   ],
   "source": [
    "node_embeddings_for_visualization = prepare_node_embeddings_for_2d_visualization(embeddings)"
   ]
  },
  {
   "cell_type": "markdown",
   "id": "20084589",
   "metadata": {},
   "source": [
    "### 1.3 Plot the node embeddings reduced to two dimensions for Typescript"
   ]
  },
  {
   "cell_type": "code",
   "execution_count": 16,
   "id": "fdda2869",
   "metadata": {
    "execution": {
     "iopub.execute_input": "2024-10-07T05:14:43.063374Z",
     "iopub.status.busy": "2024-10-07T05:14:43.063202Z",
     "iopub.status.idle": "2024-10-07T05:14:43.182831Z",
     "shell.execute_reply": "2024-10-07T05:14:43.182304Z"
    }
   },
   "outputs": [
    {
     "data": {
      "image/png": "[encoded data removed]",
      "text/plain": [
       "<Figure size 640x480 with 1 Axes>"
      ]
     },
     "metadata": {},
     "output_type": "display_data"
    }
   ],
   "source": [
    "plot_2d_node_embeddings(\n",
    "    node_embeddings_for_visualization, \n",
    "    \"Typescript Modules positioned by their dependency relationships (FastRP node embeddings + t-SNE)\"\n",
    ")"
   ]
  },
  {
   "cell_type": "markdown",
   "id": "6cac9be7",
   "metadata": {},
   "source": [
    "### 1.4 Node Embeddings for Typescript Modules using HashGNN\n",
    "\n",
    "[HashGNN](https://neo4j.com/docs/graph-data-science/2.6/machine-learning/node-embeddings/hashgnn) resembles Graph Neural Networks (GNN) but does not include a model or require training. It combines ideas of GNNs and fast randomized algorithms. For more details see [HashGNN](https://neo4j.com/docs/graph-data-science/2.6/machine-learning/node-embeddings/hashgnn). Here, the latter 3 steps are combined into one for HashGNN."
   ]
  },
  {
   "cell_type": "code",
   "execution_count": 17,
   "id": "8fe68eca",
   "metadata": {
    "execution": {
     "iopub.execute_input": "2024-10-07T05:14:43.184982Z",
     "iopub.status.busy": "2024-10-07T05:14:43.184819Z",
     "iopub.status.idle": "2024-10-07T05:14:43.503860Z",
     "shell.execute_reply": "2024-10-07T05:14:43.503321Z"
    }
   },
   "outputs": [
    {
     "name": "stdout",
     "output_type": "stream",
     "text": [
      "The results have been provided by the query filename: ../cypher/Node_Embeddings/Node_Embeddings_0a_Query_Calculated.cypher\n"
     ]
    },
    {
     "data": {
      "text/html": [
       "<div>\n",
       "<style scoped>\n",
       "    .dataframe tbody tr th:only-of-type {\n",
       "        vertical-align: middle;\n",
       "    }\n",
       "\n",
       "    .dataframe tbody tr th {\n",
       "        vertical-align: top;\n",
       "    }\n",
       "\n",
       "    .dataframe thead th {\n",
       "        text-align: right;\n",
       "    }\n",
       "</style>\n",
       "<table border=\"1\" class=\"dataframe\">\n",
       "  <thead>\n",
       "    <tr style=\"text-align: right;\">\n",
       "      <th></th>\n",
       "      <th>codeUnitName</th>\n",
       "      <th>shortCodeUnitName</th>\n",
       "      <th>projectName</th>\n",
       "      <th>communityId</th>\n",
       "      <th>centrality</th>\n",
       "      <th>embedding</th>\n",
       "    </tr>\n",
       "  </thead>\n",
       "  <tbody>\n",
       "    <tr>\n",
       "      <th>0</th>\n",
       "      <td>/home/runner/work/code-graph-analysis-pipeline...</td>\n",
       "      <td>react-router</td>\n",
       "      <td>react-router</td>\n",
       "      <td>0</td>\n",
       "      <td>0.433757</td>\n",
       "      <td>[1.2247449159622192, -0.9185586869716644, 0.61...</td>\n",
       "    </tr>\n",
       "    <tr>\n",
       "      <th>1</th>\n",
       "      <td>/home/runner/work/code-graph-analysis-pipeline...</td>\n",
       "      <td>react-router-native</td>\n",
       "      <td>react-router-native</td>\n",
       "      <td>0</td>\n",
       "      <td>0.196868</td>\n",
       "      <td>[1.2247449159622192, -0.9185586869716644, 0.61...</td>\n",
       "    </tr>\n",
       "    <tr>\n",
       "      <th>2</th>\n",
       "      <td>/home/runner/work/code-graph-analysis-pipeline...</td>\n",
       "      <td>react-router-dom</td>\n",
       "      <td>react-router-dom</td>\n",
       "      <td>1</td>\n",
       "      <td>0.228244</td>\n",
       "      <td>[1.2247449159622192, -0.9185586869716644, 0.61...</td>\n",
       "    </tr>\n",
       "    <tr>\n",
       "      <th>3</th>\n",
       "      <td>/home/runner/work/code-graph-analysis-pipeline...</td>\n",
       "      <td>server</td>\n",
       "      <td>react-router-dom</td>\n",
       "      <td>1</td>\n",
       "      <td>0.196868</td>\n",
       "      <td>[1.2247449159622192, -0.9185586869716644, 0.61...</td>\n",
       "    </tr>\n",
       "    <tr>\n",
       "      <th>4</th>\n",
       "      <td>/home/runner/work/code-graph-analysis-pipeline...</td>\n",
       "      <td>router</td>\n",
       "      <td>router</td>\n",
       "      <td>1</td>\n",
       "      <td>0.825982</td>\n",
       "      <td>[1.2247449159622192, -0.9185586869716644, 0.61...</td>\n",
       "    </tr>\n",
       "  </tbody>\n",
       "</table>\n",
       "</div>"
      ],
      "text/plain": [
       "                                        codeUnitName    shortCodeUnitName  \\\n",
       "0  /home/runner/work/code-graph-analysis-pipeline...         react-router   \n",
       "1  /home/runner/work/code-graph-analysis-pipeline...  react-router-native   \n",
       "2  /home/runner/work/code-graph-analysis-pipeline...     react-router-dom   \n",
       "3  /home/runner/work/code-graph-analysis-pipeline...               server   \n",
       "4  /home/runner/work/code-graph-analysis-pipeline...               router   \n",
       "\n",
       "           projectName  communityId  centrality  \\\n",
       "0         react-router            0    0.433757   \n",
       "1  react-router-native            0    0.196868   \n",
       "2     react-router-dom            1    0.228244   \n",
       "3     react-router-dom            1    0.196868   \n",
       "4               router            1    0.825982   \n",
       "\n",
       "                                           embedding  \n",
       "0  [1.2247449159622192, -0.9185586869716644, 0.61...  \n",
       "1  [1.2247449159622192, -0.9185586869716644, 0.61...  \n",
       "2  [1.2247449159622192, -0.9185586869716644, 0.61...  \n",
       "3  [1.2247449159622192, -0.9185586869716644, 0.61...  \n",
       "4  [1.2247449159622192, -0.9185586869716644, 0.61...  "
      ]
     },
     "metadata": {},
     "output_type": "display_data"
    },
    {
     "name": "stderr",
     "output_type": "stream",
     "text": [
      "Perplexity value 30 is too high. Using perplexity 1.33 instead\n"
     ]
    },
    {
     "name": "stdout",
     "output_type": "stream",
     "text": [
      "--------------------------------------------------------------------------------\n",
      "TSNE(early_exaggeration=12, random_state=47, verbose=1)\n",
      "--------------------------------------------------------------------------------\n",
      "===> Finding 4 nearest neighbors using exact search using euclidean distance...\n",
      "   --> Time elapsed: 0.00 seconds\n",
      "===> Calculating affinity matrix...\n",
      "   --> Time elapsed: 0.00 seconds\n",
      "===> Calculating PCA-based initialization...\n",
      "   --> Time elapsed: 0.00 seconds\n",
      "===> Running optimization with exaggeration=12.00, lr=0.42 for 250 iterations...\n",
      "Iteration   50, KL divergence    nan, 50 iterations in 0.0069 sec\n",
      "Iteration  100, KL divergence    nan, 50 iterations in 0.0065 sec\n",
      "Iteration  150, KL divergence    nan, 50 iterations in 0.0064 sec\n",
      "Iteration  200, KL divergence    nan, 50 iterations in 0.0064 sec\n",
      "Iteration  250, KL divergence    nan, 50 iterations in 0.0064 sec\n",
      "   --> Time elapsed: 0.03 seconds\n",
      "===> Running optimization with exaggeration=1.00, lr=5.00 for 500 iterations...\n",
      "Iteration   50, KL divergence    nan, 50 iterations in 0.0065 sec\n",
      "Iteration  100, KL divergence    nan, 50 iterations in 0.0065 sec\n",
      "Iteration  150, KL divergence    nan, 50 iterations in 0.0066 sec\n",
      "Iteration  200, KL divergence    nan, 50 iterations in 0.0065 sec\n",
      "Iteration  250, KL divergence    nan, 50 iterations in 0.0065 sec\n",
      "Iteration  300, KL divergence    nan, 50 iterations in 0.0064 sec\n",
      "Iteration  350, KL divergence    nan, 50 iterations in 0.0064 sec\n",
      "Iteration  400, KL divergence    nan, 50 iterations in 0.0064 sec\n",
      "Iteration  450, KL divergence    nan, 50 iterations in 0.0064 sec\n",
      "Iteration  500, KL divergence    nan, 50 iterations in 0.0064 sec\n",
      "   --> Time elapsed: 0.06 seconds\n"
     ]
    },
    {
     "name": "stderr",
     "output_type": "stream",
     "text": [
      "/home/runner/miniconda3/envs/codegraph/lib/python3.11/site-packages/sklearn/decomposition/_pca.py:527: RuntimeWarning: invalid value encountered in divide\n",
      "  explained_variance_ratio_ = explained_variance_ / total_var\n",
      "/home/runner/miniconda3/envs/codegraph/lib/python3.11/site-packages/openTSNE/initialization.py:27: RuntimeWarning: invalid value encountered in divide\n",
      "  x /= np.std(x[:, 0]) / target_std\n"
     ]
    },
    {
     "data": {
      "text/plain": [
       "(5, 2)"
      ]
     },
     "metadata": {},
     "output_type": "display_data"
    },
    {
     "data": {
      "text/html": [
       "<div>\n",
       "<style scoped>\n",
       "    .dataframe tbody tr th:only-of-type {\n",
       "        vertical-align: middle;\n",
       "    }\n",
       "\n",
       "    .dataframe tbody tr th {\n",
       "        vertical-align: top;\n",
       "    }\n",
       "\n",
       "    .dataframe thead th {\n",
       "        text-align: right;\n",
       "    }\n",
       "</style>\n",
       "<table border=\"1\" class=\"dataframe\">\n",
       "  <thead>\n",
       "    <tr style=\"text-align: right;\">\n",
       "      <th></th>\n",
       "      <th>codeUnit</th>\n",
       "      <th>artifact</th>\n",
       "      <th>communityId</th>\n",
       "      <th>centrality</th>\n",
       "      <th>x</th>\n",
       "      <th>y</th>\n",
       "    </tr>\n",
       "  </thead>\n",
       "  <tbody>\n",
       "    <tr>\n",
       "      <th>0</th>\n",
       "      <td>/home/runner/work/code-graph-analysis-pipeline...</td>\n",
       "      <td>react-router</td>\n",
       "      <td>0</td>\n",
       "      <td>0.433757</td>\n",
       "      <td>NaN</td>\n",
       "      <td>NaN</td>\n",
       "    </tr>\n",
       "    <tr>\n",
       "      <th>1</th>\n",
       "      <td>/home/runner/work/code-graph-analysis-pipeline...</td>\n",
       "      <td>react-router-native</td>\n",
       "      <td>0</td>\n",
       "      <td>0.196868</td>\n",
       "      <td>NaN</td>\n",
       "      <td>NaN</td>\n",
       "    </tr>\n",
       "    <tr>\n",
       "      <th>2</th>\n",
       "      <td>/home/runner/work/code-graph-analysis-pipeline...</td>\n",
       "      <td>react-router-dom</td>\n",
       "      <td>1</td>\n",
       "      <td>0.228244</td>\n",
       "      <td>NaN</td>\n",
       "      <td>NaN</td>\n",
       "    </tr>\n",
       "    <tr>\n",
       "      <th>3</th>\n",
       "      <td>/home/runner/work/code-graph-analysis-pipeline...</td>\n",
       "      <td>react-router-dom</td>\n",
       "      <td>1</td>\n",
       "      <td>0.196868</td>\n",
       "      <td>NaN</td>\n",
       "      <td>NaN</td>\n",
       "    </tr>\n",
       "    <tr>\n",
       "      <th>4</th>\n",
       "      <td>/home/runner/work/code-graph-analysis-pipeline...</td>\n",
       "      <td>router</td>\n",
       "      <td>1</td>\n",
       "      <td>0.825982</td>\n",
       "      <td>NaN</td>\n",
       "      <td>NaN</td>\n",
       "    </tr>\n",
       "  </tbody>\n",
       "</table>\n",
       "</div>"
      ],
      "text/plain": [
       "                                            codeUnit             artifact  \\\n",
       "0  /home/runner/work/code-graph-analysis-pipeline...         react-router   \n",
       "1  /home/runner/work/code-graph-analysis-pipeline...  react-router-native   \n",
       "2  /home/runner/work/code-graph-analysis-pipeline...     react-router-dom   \n",
       "3  /home/runner/work/code-graph-analysis-pipeline...     react-router-dom   \n",
       "4  /home/runner/work/code-graph-analysis-pipeline...               router   \n",
       "\n",
       "   communityId  centrality   x   y  \n",
       "0            0    0.433757 NaN NaN  \n",
       "1            0    0.196868 NaN NaN  \n",
       "2            1    0.228244 NaN NaN  \n",
       "3            1    0.196868 NaN NaN  \n",
       "4            1    0.825982 NaN NaN  "
      ]
     },
     "metadata": {},
     "output_type": "display_data"
    },
    {
     "data": {
      "image/png": "[encoded data removed]",
      "text/plain": [
       "<Figure size 640x480 with 1 Axes>"
      ]
     },
     "metadata": {},
     "output_type": "display_data"
    }
   ],
   "source": [
    "typescript_module_embeddings_parameters={\n",
    "    \"dependencies_projection\": \"typescript-module-embeddings-notebook\",\n",
    "    \"dependencies_projection_node\": \"Module\",\n",
    "    \"dependencies_projection_weight_property\": \"lowCouplingElement25PercentWeight\",\n",
    "    \"dependencies_projection_write_property\": \"embeddingsHashGNN\",\n",
    "    \"dependencies_projection_embedding_dimension\":\"32\"\n",
    "}\n",
    "embeddings = create_node_embeddings(\"../cypher/Node_Embeddings/Node_Embeddings_2d_Hash_GNN_Stream.cypher\", typescript_module_embeddings_parameters)\n",
    "node_embeddings_for_visualization = prepare_node_embeddings_for_2d_visualization(embeddings)\n",
    "plot_2d_node_embeddings(\n",
    "    node_embeddings_for_visualization, \n",
    "    \"Typescript Modules positioned by their dependency relationships (HashGNN node embeddings + t-SNE)\"\n",
    ")"
   ]
  },
  {
   "cell_type": "markdown",
   "id": "0a7d66f5",
   "metadata": {},
   "source": [
    "### 1.5 Node Embeddings for Typescript Modules using node2vec\n",
    "\n",
    "[node2vec](https://neo4j.com/docs/graph-data-science/current/machine-learning/node-embeddings/node2vec) computes a vector representation of a node based on second order random walks in the graph. \n",
    "The [node2vec](https://towardsdatascience.com/complete-guide-to-understanding-node2vec-algorithm-4e9a35e5d147) algorithm is a transductive node embedding algorithm, meaning that it needs the whole graph to be available to learn the node embeddings."
   ]
  },
  {
   "cell_type": "code",
   "execution_count": 18,
   "id": "ea6c52ca",
   "metadata": {
    "execution": {
     "iopub.execute_input": "2024-10-07T05:14:43.506344Z",
     "iopub.status.busy": "2024-10-07T05:14:43.506180Z",
     "iopub.status.idle": "2024-10-07T05:14:43.906285Z",
     "shell.execute_reply": "2024-10-07T05:14:43.905749Z"
    }
   },
   "outputs": [
    {
     "name": "stdout",
     "output_type": "stream",
     "text": [
      "The results have been provided by the query filename: ../cypher/Node_Embeddings/Node_Embeddings_0a_Query_Calculated.cypher\n"
     ]
    },
    {
     "data": {
      "text/html": [
       "<div>\n",
       "<style scoped>\n",
       "    .dataframe tbody tr th:only-of-type {\n",
       "        vertical-align: middle;\n",
       "    }\n",
       "\n",
       "    .dataframe tbody tr th {\n",
       "        vertical-align: top;\n",
       "    }\n",
       "\n",
       "    .dataframe thead th {\n",
       "        text-align: right;\n",
       "    }\n",
       "</style>\n",
       "<table border=\"1\" class=\"dataframe\">\n",
       "  <thead>\n",
       "    <tr style=\"text-align: right;\">\n",
       "      <th></th>\n",
       "      <th>codeUnitName</th>\n",
       "      <th>shortCodeUnitName</th>\n",
       "      <th>projectName</th>\n",
       "      <th>communityId</th>\n",
       "      <th>centrality</th>\n",
       "      <th>embedding</th>\n",
       "    </tr>\n",
       "  </thead>\n",
       "  <tbody>\n",
       "    <tr>\n",
       "      <th>0</th>\n",
       "      <td>/home/runner/work/code-graph-analysis-pipeline...</td>\n",
       "      <td>react-router</td>\n",
       "      <td>react-router</td>\n",
       "      <td>0</td>\n",
       "      <td>0.433757</td>\n",
       "      <td>[0.01906008832156658, 0.34508058428764343, 0.2...</td>\n",
       "    </tr>\n",
       "    <tr>\n",
       "      <th>1</th>\n",
       "      <td>/home/runner/work/code-graph-analysis-pipeline...</td>\n",
       "      <td>react-router-native</td>\n",
       "      <td>react-router-native</td>\n",
       "      <td>0</td>\n",
       "      <td>0.196868</td>\n",
       "      <td>[0.024817034602165222, 0.3561547100543976, 0.2...</td>\n",
       "    </tr>\n",
       "    <tr>\n",
       "      <th>2</th>\n",
       "      <td>/home/runner/work/code-graph-analysis-pipeline...</td>\n",
       "      <td>react-router-dom</td>\n",
       "      <td>react-router-dom</td>\n",
       "      <td>1</td>\n",
       "      <td>0.228244</td>\n",
       "      <td>[0.02163395844399929, 0.3313523530960083, 0.26...</td>\n",
       "    </tr>\n",
       "    <tr>\n",
       "      <th>3</th>\n",
       "      <td>/home/runner/work/code-graph-analysis-pipeline...</td>\n",
       "      <td>server</td>\n",
       "      <td>react-router-dom</td>\n",
       "      <td>1</td>\n",
       "      <td>0.196868</td>\n",
       "      <td>[0.021340247243642807, 0.34233954548835754, 0....</td>\n",
       "    </tr>\n",
       "    <tr>\n",
       "      <th>4</th>\n",
       "      <td>/home/runner/work/code-graph-analysis-pipeline...</td>\n",
       "      <td>router</td>\n",
       "      <td>router</td>\n",
       "      <td>1</td>\n",
       "      <td>0.825982</td>\n",
       "      <td>[0.02623882330954075, 0.34508249163627625, 0.2...</td>\n",
       "    </tr>\n",
       "  </tbody>\n",
       "</table>\n",
       "</div>"
      ],
      "text/plain": [
       "                                        codeUnitName    shortCodeUnitName  \\\n",
       "0  /home/runner/work/code-graph-analysis-pipeline...         react-router   \n",
       "1  /home/runner/work/code-graph-analysis-pipeline...  react-router-native   \n",
       "2  /home/runner/work/code-graph-analysis-pipeline...     react-router-dom   \n",
       "3  /home/runner/work/code-graph-analysis-pipeline...               server   \n",
       "4  /home/runner/work/code-graph-analysis-pipeline...               router   \n",
       "\n",
       "           projectName  communityId  centrality  \\\n",
       "0         react-router            0    0.433757   \n",
       "1  react-router-native            0    0.196868   \n",
       "2     react-router-dom            1    0.228244   \n",
       "3     react-router-dom            1    0.196868   \n",
       "4               router            1    0.825982   \n",
       "\n",
       "                                           embedding  \n",
       "0  [0.01906008832156658, 0.34508058428764343, 0.2...  \n",
       "1  [0.024817034602165222, 0.3561547100543976, 0.2...  \n",
       "2  [0.02163395844399929, 0.3313523530960083, 0.26...  \n",
       "3  [0.021340247243642807, 0.34233954548835754, 0....  \n",
       "4  [0.02623882330954075, 0.34508249163627625, 0.2...  "
      ]
     },
     "metadata": {},
     "output_type": "display_data"
    },
    {
     "name": "stderr",
     "output_type": "stream",
     "text": [
      "Perplexity value 30 is too high. Using perplexity 1.33 instead\n"
     ]
    },
    {
     "name": "stdout",
     "output_type": "stream",
     "text": [
      "--------------------------------------------------------------------------------\n",
      "TSNE(early_exaggeration=12, random_state=47, verbose=1)\n",
      "--------------------------------------------------------------------------------\n",
      "===> Finding 4 nearest neighbors using exact search using euclidean distance...\n",
      "   --> Time elapsed: 0.01 seconds\n",
      "===> Calculating affinity matrix...\n",
      "   --> Time elapsed: 0.00 seconds\n",
      "===> Calculating PCA-based initialization...\n",
      "   --> Time elapsed: 0.00 seconds\n",
      "===> Running optimization with exaggeration=12.00, lr=0.42 for 250 iterations...\n",
      "Iteration   50, KL divergence 0.6014, 50 iterations in 0.0145 sec\n",
      "Iteration  100, KL divergence 0.9871, 50 iterations in 0.0126 sec\n",
      "Iteration  150, KL divergence 0.9871, 50 iterations in 0.0124 sec\n",
      "Iteration  200, KL divergence 0.9871, 50 iterations in 0.0134 sec\n",
      "Iteration  250, KL divergence 0.9871, 50 iterations in 0.0144 sec\n",
      "   --> Time elapsed: 0.07 seconds\n",
      "===> Running optimization with exaggeration=1.00, lr=5.00 for 500 iterations...\n",
      "Iteration   50, KL divergence 0.1779, 50 iterations in 0.0128 sec\n",
      "Iteration  100, KL divergence 0.1755, 50 iterations in 0.0127 sec\n",
      "Iteration  150, KL divergence 0.1750, 50 iterations in 0.0127 sec\n",
      "Iteration  200, KL divergence 0.1745, 50 iterations in 0.0156 sec\n",
      "Iteration  250, KL divergence 0.1741, 50 iterations in 0.0126 sec\n",
      "Iteration  300, KL divergence 0.1738, 50 iterations in 0.0119 sec\n",
      "Iteration  350, KL divergence 0.1736, 50 iterations in 0.0141 sec\n",
      "Iteration  400, KL divergence 0.1734, 50 iterations in 0.0141 sec\n",
      "Iteration  450, KL divergence 0.1732, 50 iterations in 0.0091 sec\n",
      "Iteration  500, KL divergence 0.1731, 50 iterations in 0.0111 sec\n",
      "   --> Time elapsed: 0.13 seconds\n"
     ]
    },
    {
     "data": {
      "text/plain": [
       "(5, 2)"
      ]
     },
     "metadata": {},
     "output_type": "display_data"
    },
    {
     "data": {
      "text/html": [
       "<div>\n",
       "<style scoped>\n",
       "    .dataframe tbody tr th:only-of-type {\n",
       "        vertical-align: middle;\n",
       "    }\n",
       "\n",
       "    .dataframe tbody tr th {\n",
       "        vertical-align: top;\n",
       "    }\n",
       "\n",
       "    .dataframe thead th {\n",
       "        text-align: right;\n",
       "    }\n",
       "</style>\n",
       "<table border=\"1\" class=\"dataframe\">\n",
       "  <thead>\n",
       "    <tr style=\"text-align: right;\">\n",
       "      <th></th>\n",
       "      <th>codeUnit</th>\n",
       "      <th>artifact</th>\n",
       "      <th>communityId</th>\n",
       "      <th>centrality</th>\n",
       "      <th>x</th>\n",
       "      <th>y</th>\n",
       "    </tr>\n",
       "  </thead>\n",
       "  <tbody>\n",
       "    <tr>\n",
       "      <th>0</th>\n",
       "      <td>/home/runner/work/code-graph-analysis-pipeline...</td>\n",
       "      <td>react-router</td>\n",
       "      <td>0</td>\n",
       "      <td>0.433757</td>\n",
       "      <td>-3.907981</td>\n",
       "      <td>4.378280</td>\n",
       "    </tr>\n",
       "    <tr>\n",
       "      <th>1</th>\n",
       "      <td>/home/runner/work/code-graph-analysis-pipeline...</td>\n",
       "      <td>react-router-native</td>\n",
       "      <td>0</td>\n",
       "      <td>0.196868</td>\n",
       "      <td>-0.093539</td>\n",
       "      <td>17.075389</td>\n",
       "    </tr>\n",
       "    <tr>\n",
       "      <th>2</th>\n",
       "      <td>/home/runner/work/code-graph-analysis-pipeline...</td>\n",
       "      <td>react-router-dom</td>\n",
       "      <td>1</td>\n",
       "      <td>0.228244</td>\n",
       "      <td>4.773772</td>\n",
       "      <td>-7.030830</td>\n",
       "    </tr>\n",
       "    <tr>\n",
       "      <th>3</th>\n",
       "      <td>/home/runner/work/code-graph-analysis-pipeline...</td>\n",
       "      <td>react-router-dom</td>\n",
       "      <td>1</td>\n",
       "      <td>0.196868</td>\n",
       "      <td>11.220254</td>\n",
       "      <td>-17.154422</td>\n",
       "    </tr>\n",
       "    <tr>\n",
       "      <th>4</th>\n",
       "      <td>/home/runner/work/code-graph-analysis-pipeline...</td>\n",
       "      <td>router</td>\n",
       "      <td>1</td>\n",
       "      <td>0.825982</td>\n",
       "      <td>-11.992507</td>\n",
       "      <td>2.731582</td>\n",
       "    </tr>\n",
       "  </tbody>\n",
       "</table>\n",
       "</div>"
      ],
      "text/plain": [
       "                                            codeUnit             artifact  \\\n",
       "0  /home/runner/work/code-graph-analysis-pipeline...         react-router   \n",
       "1  /home/runner/work/code-graph-analysis-pipeline...  react-router-native   \n",
       "2  /home/runner/work/code-graph-analysis-pipeline...     react-router-dom   \n",
       "3  /home/runner/work/code-graph-analysis-pipeline...     react-router-dom   \n",
       "4  /home/runner/work/code-graph-analysis-pipeline...               router   \n",
       "\n",
       "   communityId  centrality          x          y  \n",
       "0            0    0.433757  -3.907981   4.378280  \n",
       "1            0    0.196868  -0.093539  17.075389  \n",
       "2            1    0.228244   4.773772  -7.030830  \n",
       "3            1    0.196868  11.220254 -17.154422  \n",
       "4            1    0.825982 -11.992507   2.731582  "
      ]
     },
     "metadata": {},
     "output_type": "display_data"
    },
    {
     "data": {
      "image/png": "[encoded data removed]",
      "text/plain": [
       "<Figure size 640x480 with 1 Axes>"
      ]
     },
     "metadata": {},
     "output_type": "display_data"
    }
   ],
   "source": [
    "typescript_module_embeddings_parameters={\n",
    "    \"dependencies_projection\": \"typescript-module-embeddings-notebook\",\n",
    "    \"dependencies_projection_node\": \"Module\",\n",
    "    \"dependencies_projection_weight_property\": \"lowCouplingElement25PercentWeight\",\n",
    "    \"dependencies_projection_write_property\": \"embeddingsNode2Vec\",\n",
    "    \"dependencies_projection_embedding_dimension\":\"32\"\n",
    "}\n",
    "embeddings = create_node_embeddings(\"../cypher/Node_Embeddings/Node_Embeddings_3d_Node2Vec_Stream.cypher\", typescript_module_embeddings_parameters)\n",
    "node_embeddings_for_visualization = prepare_node_embeddings_for_2d_visualization(embeddings)\n",
    "plot_2d_node_embeddings(\n",
    "    node_embeddings_for_visualization, \n",
    "    \"Typescript Modules positioned by their dependency relationships (node2vec node embeddings + t-SNE)\"\n",
    ")"
   ]
  }
 ],
 "metadata": {
  "authors": [
   {
    "name": "JohT"
   }
  ],
  "code_graph_analysis_pipeline_data_validation": "ValidateTypescriptModuleDependencies",
  "kernelspec": {
   "display_name": "Python 3 (ipykernel)",
   "language": "python",
   "name": "python3"
  },
  "language_info": {
   "codemirror_mode": {
    "name": "ipython",
    "version": 3
   },
   "file_extension": ".py",
   "mimetype": "text/x-python",
   "name": "python",
   "nbconvert_exporter": "python",
   "pygments_lexer": "ipython3",
   "version": "3.11.0"
  },
  "title": "Object Oriented Design Quality Metrics for Java with Neo4j"
 },
 "nbformat": 4,
 "nbformat_minor": 5
}
