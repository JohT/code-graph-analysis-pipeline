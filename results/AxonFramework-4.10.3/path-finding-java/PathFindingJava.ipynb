{
 "cells": [
  {
   "attachments": {},
   "cell_type": "markdown",
   "id": "2f0eabc4",
   "metadata": {},
   "source": [
    "# Path Finding for Java\n",
    "\n",
    "This notebook demonstrates different ways on how path finding algorithms can be utilized for code analysis. \n",
    "\n",
    "Path algorithms in Graphs are famous for e.g. finding the fastest way from one place to another. How can these be applied to static code analysis and how can the results be interpreted?\n",
    "\n",
    "One promising algorithm is [All Pairs Shortest Path](https://neo4j.com/docs/graph-data-science/current/algorithms/all-pairs-shortest-path). It shows dependencies from a different perspective and provides an overview on how directly or indirectly dependencies are connected to each other. The longest shortest path has an additional meaning: It is also known as the [**Graph Diameter**](https://mathworld.wolfram.com/GraphDiameter.html) and is very useful as a metric for the complexity of the Graph (or Subgraphs). The longest path (for directed acyclic graphs) can uncover the longest existing (worst case) dependency chains as long as there are no cycles in the Graph.\n",
    "\n",
    "<br>\n",
    "\n",
    "### References\n",
    "- [jqassistant](https://jqassistant.org)\n",
    "- [Neo4j Python Driver](https://neo4j.com/docs/api/python-driver/current)\n",
    "- [All Pairs Shortest Path](https://neo4j.com/docs/graph-data-science/current/algorithms/all-pairs-shortest-path)\n",
    "- [Longest Path for DAG (neo4j)](https://neo4j.com/docs/graph-data-science/current/algorithms/dag/longest-path)\n",
    "- [Graph Diameter](https://mathworld.wolfram.com/GraphDiameter.html)"
   ]
  },
  {
   "cell_type": "markdown",
   "id": "ec6baa64",
   "metadata": {},
   "source": [
    "## What GPT-4 has to say about it\n",
    "\n",
    "### All pairs shortest path\n",
    "\n",
    "Interpreting the results of the \"all pairs shortest path\" algorithm on a graph of statically analyzed code modules and their dependencies involves understanding the structure and implications of the paths between nodes (modules) in the graph. Here are some specific steps and insights to consider:\n",
    "\n",
    "1. **Graph Structure**: Each node represents a code module, and edges indicate dependencies. A directed edge from module A to module B implies that A depends on B.\n",
    "\n",
    "2. **Shortest Paths**: The results will give you the shortest path lengths between all pairs of modules. This helps identify:\n",
    "  - **Direct Dependencies**: A length of 1 indicates a direct dependency.\n",
    "  - **Transitive Dependencies**: A length greater than 1 shows indirect dependencies. For example, if the path from A to C is 2, it could mean A → B → C, indicating A indirectly depends on C via B.\n",
    "\n",
    "3. **Module Isolation**: If a module has very long paths to others, it might be more isolated. This could signal potential issues in the code structure, suggesting that module might be overly complex or decoupled from the rest of the system.\n",
    "\n",
    "4. **Critical Paths**: Identify the shortest paths that connect key modules (e.g., core functionalities). These paths can highlight the most crucial dependencies that, if modified, might have extensive impacts on the system.\n",
    "\n",
    "5. **Cycle Detection**: If any pairs have paths that loop back to themselves with a length not equal to 0, it indicates a cycle. Cycles can complicate dependency management, potentially leading to recursive dependencies, which can be problematic in terms of maintainability.\n",
    "\n",
    "6. **Refactoring Opportunities**: By examining the lengths of paths, you might identify modules that could benefit from refactoring to decrease dependency complexity. For example, a module that has dependencies on many others (with longer path lengths) might be a candidate for breaking into smaller, more manageable components.\n",
    "\n",
    "7. **Performance Considerations**: In large systems, long paths could impact performance. If certain modules are far from frequently accessed modules, consider whether they can be optimized for speed.\n",
    "\n",
    "8. **Visual Representation**: Creating a visual representation of the graph with the shortest paths highlighted can be immensely helpful. Tools like Graphviz or D3.js can illustrate these relationships clearly, aiding in your analysis.\n",
    "\n",
    "By focusing on these aspects, you can glean actionable insights from the results of the all pairs shortest path algorithm in the context of your statically analyzed code modules and their dependencies.\n",
    "\n",
    "### Graph diameter (shortest longest path)\n",
    "\n",
    "The longest shortest path in a dependency graph (often referred to in graph theory as the \"diameter\" of the graph) represents the maximum distance (in terms of the number of edges or dependencies) between any two nodes (modules) in the graph. Here’s how you can interpret this metric in the context of statically analyzed code modules and their dependencies:\n",
    "\n",
    "1. **Network Complexity**: The longest shortest path indicates the overall complexity of the network of dependencies. A longer path suggests a more complicated interrelationship among modules. For example, a longest shortest path of 6 could indicate that there is at least one pair of modules in your system that rely on a chain of 6 other modules to communicate or function together.\n",
    "\n",
    "2. **Potential Bottlenecks**: If the longest shortest path is significant, it may suggest potential bottlenecks in your architecture. For instance, if a core module at the beginning of a long path is slow or error-prone, it could affect numerous other modules dependent on it, resulting in systemic performance issues.\n",
    "\n",
    "3. **Critical Communication Points**: The endpoints of the longest shortest path can be seen as critical communication points within your codebase. Understanding these connections can help identify which modules should be prioritized for testing and monitoring, especially during changes.\n",
    "\n",
    "4. **Isolation and Coupling**: A long longest shortest path might indicate that some modules are isolated and far removed from others, which can suggest low cohesion. This can be a sign that the architecture might benefit from refactoring to reduce unnecessary dependencies or to improve modularity.\n",
    "\n",
    "5. **Refactoring Opportunities**: If the longest shortest path is disproportionately long, it may highlight areas in the codebase where modules are too tightly coupled. This situation presents an opportunity for refactoring to create more independent modules or components that can interact with fewer dependencies.\n",
    "\n",
    "6. **Impact of Changes**: Modules that lie along or are endpoints of the longest shortest paths are likely to have a significant impact on the overall system. Changes to them should be approached with caution and accompanied by rigorous testing.\n",
    "\n",
    "7. **Cycle Detection**: In some cases, a long shortest path can indicate the presence of cycles in the graph. If there are paths that seem to loop back on themselves, it suggests potential design flaws that could lead to recursion or infinite loops, complicating maintenance.\n",
    "\n",
    "8. **Architectural Decisions**: The longest shortest path can inform architectural decisions by providing insights into which dependencies might need to be revised or eliminated. For instance, if certain modules are consistently part of the longest path, it could justify investing resources in redesigning their interactions.\n",
    "\n",
    "In summary, interpreting the longest shortest path provides a comprehensive view of the interdependencies among modules in your system, focusing on complexity, potential bottlenecks, and opportunities for improvement in architecture and design.\n",
    "\n",
    "### Longest path\n",
    "\n",
    "1. **Complex Dependencies**: Longest paths indicate modules that have extensive dependencies before reaching another module. For instance, if you find a path like A → B → C → D with a length of 4, it highlights a complex chain of dependencies. This can suggest that changes in module A might have far-reaching implications across the system.\n",
    "\n",
    "2. **Potential Bottlenecks**: Modules located at the beginning of long paths could be performance bottlenecks. If a frequently used module is several layers deep in dependencies (e.g., A → B → C), it may slow down the entire system. Optimizing or refactoring these modules could improve performance.\n",
    "\n",
    "3. **Maintenance Challenges**: Long paths may indicate parts of the code that are difficult to maintain or understand. For example, if module A requires multiple intermediary modules (B, C, D) for its functionality, developers may struggle to trace how changes propagate, leading to potential bugs.\n",
    "\n",
    "4. **Risk of Change**: A module with a long dependency path can be more risky to modify. If A has dependencies on several modules down the line (e.g., A → B → C → D → E), any changes to A could inadvertently affect E, which might be critical or sensitive. This insight can help prioritize testing and reviews around such modules.\n",
    "\n",
    "5. **Decoupling Opportunities**: Identifying the longest paths can highlight areas where you might want to break up dependencies. If there’s a long chain that could be simplified (e.g., by creating intermediary modules or interfaces), it may lead to a more modular and maintainable architecture.\n",
    "\n",
    "6. **Redundancy**: Long paths may also reveal redundancy in dependencies. For instance, if multiple modules depend on a series of others (A → B → C → D and A → B → E), it could indicate unnecessary coupling that can be streamlined.\n",
    "\n",
    "7. **System Understanding**: Long paths can help map out the architecture of your codebase. Understanding which modules are pivotal in long chains can provide insights into the overall design and help inform architectural decisions.\n",
    "\n",
    "8. **Documentation & Knowledge Transfer**: If certain modules consistently appear in the longest paths, they may require better documentation. Ensuring that their roles and the reasons for their lengthy dependencies are well understood can facilitate knowledge transfer among team members.\n",
    "\n",
    "By focusing on the longest paths in your dependency graph, you can uncover areas requiring attention for optimization, maintenance, and improved system architecture."
   ]
  },
  {
   "cell_type": "code",
   "execution_count": 1,
   "id": "d19447e1",
   "metadata": {
    "execution": {
     "iopub.execute_input": "2025-01-19T19:34:03.954698Z",
     "iopub.status.busy": "2025-01-19T19:34:03.954538Z",
     "iopub.status.idle": "2025-01-19T19:34:04.435849Z",
     "shell.execute_reply": "2025-01-19T19:34:04.435347Z"
    }
   },
   "outputs": [],
   "source": [
    "import os\n",
    "from IPython.display import display\n",
    "import pandas as pd\n",
    "import matplotlib.pyplot as plot\n",
    "import typing as typ\n",
    "import numpy as np\n",
    "from neo4j import GraphDatabase"
   ]
  },
  {
   "cell_type": "code",
   "execution_count": 2,
   "id": "807bba03",
   "metadata": {
    "execution": {
     "iopub.execute_input": "2025-01-19T19:34:04.438237Z",
     "iopub.status.busy": "2025-01-19T19:34:04.437997Z",
     "iopub.status.idle": "2025-01-19T19:34:04.440423Z",
     "shell.execute_reply": "2025-01-19T19:34:04.440071Z"
    }
   },
   "outputs": [],
   "source": [
    "#The following cell uses the build-in %html \"magic\" to override the CSS style for tables to a much smaller size.\n",
    "#This is especially needed for PDF export of tables with multiple columns."
   ]
  },
  {
   "cell_type": "code",
   "execution_count": 3,
   "id": "eb92ef74",
   "metadata": {
    "execution": {
     "iopub.execute_input": "2025-01-19T19:34:04.442055Z",
     "iopub.status.busy": "2025-01-19T19:34:04.441916Z",
     "iopub.status.idle": "2025-01-19T19:34:04.448301Z",
     "shell.execute_reply": "2025-01-19T19:34:04.447808Z"
    }
   },
   "outputs": [
    {
     "data": {
      "text/html": [
       "<style>\n",
       "/* CSS style for smaller dataframe tables. */\n",
       ".dataframe th {\n",
       "    font-size: 8px;\n",
       "}\n",
       ".dataframe td {\n",
       "    font-size: 8px;\n",
       "}\n",
       "</style>\n"
      ],
      "text/plain": [
       "<IPython.core.display.HTML object>"
      ]
     },
     "metadata": {},
     "output_type": "display_data"
    }
   ],
   "source": [
    "%%html\n",
    "<style>\n",
    "/* CSS style for smaller dataframe tables. */\n",
    ".dataframe th {\n",
    "    font-size: 8px;\n",
    "}\n",
    ".dataframe td {\n",
    "    font-size: 8px;\n",
    "}\n",
    "</style>"
   ]
  },
  {
   "cell_type": "code",
   "execution_count": 4,
   "id": "648e2a5a",
   "metadata": {
    "execution": {
     "iopub.execute_input": "2025-01-19T19:34:04.450101Z",
     "iopub.status.busy": "2025-01-19T19:34:04.449954Z",
     "iopub.status.idle": "2025-01-19T19:34:04.452102Z",
     "shell.execute_reply": "2025-01-19T19:34:04.451750Z"
    }
   },
   "outputs": [],
   "source": [
    "# Main Colormap\n",
    "main_color_map = 'nipy_spectral'"
   ]
  },
  {
   "cell_type": "code",
   "execution_count": 5,
   "id": "e49ca888",
   "metadata": {
    "execution": {
     "iopub.execute_input": "2025-01-19T19:34:04.453945Z",
     "iopub.status.busy": "2025-01-19T19:34:04.453532Z",
     "iopub.status.idle": "2025-01-19T19:34:04.455881Z",
     "shell.execute_reply": "2025-01-19T19:34:04.455420Z"
    }
   },
   "outputs": [],
   "source": [
    "# Pandas DataFrame Display Configuration\n",
    "pd.set_option('display.max_colwidth', 300)"
   ]
  },
  {
   "cell_type": "code",
   "execution_count": 6,
   "id": "1c5dab37",
   "metadata": {
    "execution": {
     "iopub.execute_input": "2025-01-19T19:34:04.457737Z",
     "iopub.status.busy": "2025-01-19T19:34:04.457559Z",
     "iopub.status.idle": "2025-01-19T19:34:04.464079Z",
     "shell.execute_reply": "2025-01-19T19:34:04.463715Z"
    }
   },
   "outputs": [],
   "source": [
    "# Please set the environment variable \"NEO4J_INITIAL_PASSWORD\" in your shell \n",
    "# before starting jupyter notebook to provide the password for the user \"neo4j\". \n",
    "# It is not recommended to hardcode the password into jupyter notebook for security reasons.\n",
    "\n",
    "driver = GraphDatabase.driver(uri=\"bolt://localhost:7687\", auth=(\"neo4j\", os.environ.get(\"NEO4J_INITIAL_PASSWORD\")))\n",
    "driver.verify_connectivity()"
   ]
  },
  {
   "cell_type": "code",
   "execution_count": 7,
   "id": "c1db254b",
   "metadata": {
    "execution": {
     "iopub.execute_input": "2025-01-19T19:34:04.466009Z",
     "iopub.status.busy": "2025-01-19T19:34:04.465716Z",
     "iopub.status.idle": "2025-01-19T19:34:04.468284Z",
     "shell.execute_reply": "2025-01-19T19:34:04.467825Z"
    }
   },
   "outputs": [],
   "source": [
    "def get_cypher_query_from_file(filename):\n",
    "    with open(filename) as file:\n",
    "        return ' '.join(file.readlines())"
   ]
  },
  {
   "cell_type": "code",
   "execution_count": 8,
   "id": "59310f6f",
   "metadata": {
    "execution": {
     "iopub.execute_input": "2025-01-19T19:34:04.470215Z",
     "iopub.status.busy": "2025-01-19T19:34:04.469956Z",
     "iopub.status.idle": "2025-01-19T19:34:04.472744Z",
     "shell.execute_reply": "2025-01-19T19:34:04.472326Z"
    }
   },
   "outputs": [],
   "source": [
    "def query_cypher_to_data_frame(filename, parameters_: typ.Optional[typ.Dict[str, typ.Any]] = None):\n",
    "    records, summary, keys = driver.execute_query(get_cypher_query_from_file(filename),parameters_=parameters_)\n",
    "    return pd.DataFrame([r.values() for r in records], columns=keys)"
   ]
  },
  {
   "cell_type": "code",
   "execution_count": 9,
   "id": "7d2e62d6",
   "metadata": {
    "execution": {
     "iopub.execute_input": "2025-01-19T19:34:04.474560Z",
     "iopub.status.busy": "2025-01-19T19:34:04.474241Z",
     "iopub.status.idle": "2025-01-19T19:34:04.477438Z",
     "shell.execute_reply": "2025-01-19T19:34:04.477009Z"
    }
   },
   "outputs": [],
   "source": [
    "def create_directed_unweighted_projection(parameters: dict) -> bool: \n",
    "    \"\"\"\n",
    "    Creates an directed homogenous unweighted in-memory Graph projection for/with Neo4j Graph Data Science Plugin.\n",
    "    It returns True if there is data available for the given parameter and False otherwise.\n",
    "    Parameters\n",
    "    ----------\n",
    "    dependencies_projection : str\n",
    "        The name prefix for the in-memory projection for dependencies. Example: \"java-package-path-finding-notebook\"\n",
    "    dependencies_projection_node : str\n",
    "        The label of the nodes that will be used for the projection. Example: \"Package\"\n",
    "    dependencies_projection_weight_property : str\n",
    "        The name of the node property that contains the dependency weight. Example: \"weight25PercentInterfaces\"\n",
    "    dependencies_projection_embedding_dimension : str\n",
    "        The number of the dimensions and therefore size of the resulting array of floating point numbers\n",
    "    \"\"\"\n",
    "    \n",
    "    is_data_missing=query_cypher_to_data_frame(\"../cypher/Dependencies_Projection/Dependencies_0_Check_Projectable.cypher\", parameters).empty\n",
    "    if is_data_missing: return False\n",
    "\n",
    "    query_cypher_to_data_frame(\"../cypher/Dependencies_Projection/Dependencies_1_Delete_Projection.cypher\", parameters)\n",
    "    query_cypher_to_data_frame(\"../cypher/Dependencies_Projection/Dependencies_2_Delete_Subgraph.cypher\", parameters)\n",
    "    # To exclude the direction of the relationships use the following line to create the projection:\n",
    "    # query_cypher_to_data_frame(\"../cypher/Dependencies_Projection/Dependencies_4_Create_Undirected_Projection.cypher\", parameters)\n",
    "    query_cypher_to_data_frame(\"../cypher/Dependencies_Projection/Dependencies_3_Create_Projection.cypher\", parameters)\n",
    "    query_cypher_to_data_frame(\"../cypher/Dependencies_Projection/Dependencies_5_Create_Subgraph.cypher\", parameters)\n",
    "    return True"
   ]
  },
  {
   "cell_type": "code",
   "execution_count": 10,
   "id": "3f2e905c",
   "metadata": {
    "execution": {
     "iopub.execute_input": "2025-01-19T19:34:04.479179Z",
     "iopub.status.busy": "2025-01-19T19:34:04.479032Z",
     "iopub.status.idle": "2025-01-19T19:34:04.481634Z",
     "shell.execute_reply": "2025-01-19T19:34:04.481233Z"
    }
   },
   "outputs": [],
   "source": [
    "def empty_projection_result() -> pd.DataFrame:\n",
    "    \"\"\"\n",
    "    Creates an empty result and is meant to be used in case there is no data for the projection.\n",
    "    \"\"\"\n",
    "    \n",
    "    print(\"No projected data for path finding available\")\n",
    "    return pd.DataFrame(columns=['totalCost', 'sourceProject', 'isDifferentTargetProject', 'distance', 'distanceTotalPairCount', 'distanceTotalSourceCount', 'distanceTotalTargetCount', 'nodeCount', 'pairCount'])"
   ]
  },
  {
   "cell_type": "code",
   "execution_count": 11,
   "id": "d2d60597",
   "metadata": {
    "execution": {
     "iopub.execute_input": "2025-01-19T19:34:04.483348Z",
     "iopub.status.busy": "2025-01-19T19:34:04.483200Z",
     "iopub.status.idle": "2025-01-19T19:34:04.486136Z",
     "shell.execute_reply": "2025-01-19T19:34:04.485745Z"
    }
   },
   "outputs": [],
   "source": [
    "def query_if_data_available(is_data_available: bool, cypher_file_name: str, parameters: dict) -> pd.DataFrame: \n",
    "    \"\"\"\n",
    "    Runs the cypher query in the file given as cypherFileName with the given parameters if the data is available,\n",
    "    or returns an empty result if the projection failed due to missing data.\n",
    "    \n",
    "    is_data_available\n",
    "    ----------\n",
    "    Pass the returned boolean from the projection creation here. Will return an empty result if false and otherwise execute the query.\n",
    "\n",
    "    cypher_file_name\n",
    "    ----------\n",
    "    Name of the file containing the Cypher query that executes node embeddings procedure.\n",
    "\n",
    "    parameters\n",
    "    ----------\n",
    "    dependencies_projection : str\n",
    "        The name prefix for the in-memory projection for dependencies. Example: \"java-package-path-finding-notebook\"\n",
    "    dependencies_projection_node : str\n",
    "        The label of the nodes that will be used for the projection. Example: \"Package\"\n",
    "    dependencies_projection_weight_property : str\n",
    "        The name of the node property that contains the dependency weight. Example: \"weight25PercentInterfaces\"\n",
    "    \"\"\"\n",
    "    \n",
    "    return query_cypher_to_data_frame(cypher_file_name, parameters) if is_data_available else empty_projection_result()"
   ]
  },
  {
   "cell_type": "code",
   "execution_count": 12,
   "id": "5ef848fd",
   "metadata": {
    "execution": {
     "iopub.execute_input": "2025-01-19T19:34:04.487804Z",
     "iopub.status.busy": "2025-01-19T19:34:04.487658Z",
     "iopub.status.idle": "2025-01-19T19:34:04.490316Z",
     "shell.execute_reply": "2025-01-19T19:34:04.489932Z"
    }
   },
   "outputs": [],
   "source": [
    "def get_total_distance_distribution(data_frame: pd.DataFrame) -> pd.DataFrame:\n",
    "    \"\"\"\n",
    "    Returns the DataFrame only containing the overall/total distances, their pair count and the count of the distinct source and target nodes\n",
    "    \n",
    "    data_frame\n",
    "    ----------\n",
    "    Contains the path algorithm result including the columns \"distance\", \"distanceTotalPairCount\", \"distanceTotalSourceCount\" and \"distanceTotalTargetCount\"\n",
    "    \"\"\"\n",
    "    \n",
    "    return data_frame[['distance', 'distanceTotalPairCount', 'distanceTotalSourceCount', 'distanceTotalTargetCount']].drop_duplicates().reset_index()"
   ]
  },
  {
   "cell_type": "code",
   "execution_count": 13,
   "id": "a1c433f7",
   "metadata": {
    "execution": {
     "iopub.execute_input": "2025-01-19T19:34:04.492161Z",
     "iopub.status.busy": "2025-01-19T19:34:04.491868Z",
     "iopub.status.idle": "2025-01-19T19:34:04.494395Z",
     "shell.execute_reply": "2025-01-19T19:34:04.494038Z"
    }
   },
   "outputs": [],
   "source": [
    "def get_longest_path_for_column(column : str, data_frame: pd.DataFrame) -> pd.DataFrame:\n",
    "    \"\"\"\n",
    "    Returns the DataFrame grouped by the source Typescript scan (with one ore more projects) containing their max/longest distance.\n",
    "    \n",
    "    column\n",
    "    ----------\n",
    "    Name of the column to group by. Example: \"sourceProject\".\n",
    "    \n",
    "    data_frame\n",
    "    ----------\n",
    "    Contains the path algorithm result including the columns \"distance\" and \"sourceScan\"\n",
    "    \"\"\"\n",
    "    \n",
    "    return data_frame.groupby(column)['distance'].max().sort_values(ascending=False)"
   ]
  },
  {
   "cell_type": "code",
   "execution_count": 14,
   "id": "036264ca",
   "metadata": {
    "execution": {
     "iopub.execute_input": "2025-01-19T19:34:04.496068Z",
     "iopub.status.busy": "2025-01-19T19:34:04.495792Z",
     "iopub.status.idle": "2025-01-19T19:34:04.499085Z",
     "shell.execute_reply": "2025-01-19T19:34:04.498710Z"
    }
   },
   "outputs": [],
   "source": [
    "def get_distance_distribution_for_each(column : str, data_frame: pd.DataFrame) -> pd.DataFrame:\n",
    "    \"\"\"\n",
    "    Returns the transposed pivot of the DataFrame grouped by the given column.\n",
    "    \n",
    "    column\n",
    "    ----------\n",
    "    Name of the column to group by. Example: \"sourceProject\".\n",
    "    \n",
    "    data_frame\n",
    "    ----------\n",
    "    Contains the path algorithm result including the columns \"distance\", \"pairCount\" and the chosen column parameter.\n",
    "    \"\"\"\n",
    "\n",
    "    data_frame = data_frame.copy()\n",
    "\n",
    "    # Rows contain the source project (e.g. Java artifact or Typescript project) and its the pair count.\n",
    "    # The columns contain the distances.\n",
    "    data_frame = data_frame.pivot(index='distance', columns=column, values='pairCount')\n",
    "\n",
    "    # Sort by column sum and then take only the first 40 columns\n",
    "    sum_of_pair_count = data_frame.sum()\n",
    "    data_frame = data_frame[sum_of_pair_count.sort_values(ascending=False).index[:40]]\n",
    "\n",
    "    # Fill missing values with zeroes\n",
    "    data_frame = data_frame.fillna(0)\n",
    "\n",
    "    # Transpose the table (flip columns and rows) to have a row for every source project\n",
    "    data_frame = data_frame.transpose()\n",
    "\n",
    "    return data_frame"
   ]
  },
  {
   "cell_type": "code",
   "execution_count": 15,
   "id": "de2e71ce",
   "metadata": {
    "execution": {
     "iopub.execute_input": "2025-01-19T19:34:04.500773Z",
     "iopub.status.busy": "2025-01-19T19:34:04.500634Z",
     "iopub.status.idle": "2025-01-19T19:34:04.503168Z",
     "shell.execute_reply": "2025-01-19T19:34:04.502785Z"
    }
   },
   "outputs": [],
   "source": [
    "def normalize_distance_distribution_for_each_row(data_frame: pd.DataFrame) -> pd.DataFrame:\n",
    "    \"\"\"\n",
    "    Returns the normalized data in percentage of the DataFrame for each source project\n",
    "    \n",
    "    data_frame\n",
    "    ----------\n",
    "    Pivot dataframe with source projects in rows, distances in columns and pair count values\n",
    "    \"\"\"\n",
    "    return data_frame.div(data_frame.sum(axis=1), axis=0) * 100"
   ]
  },
  {
   "cell_type": "code",
   "execution_count": 16,
   "id": "27a583e9",
   "metadata": {
    "execution": {
     "iopub.execute_input": "2025-01-19T19:34:04.504978Z",
     "iopub.status.busy": "2025-01-19T19:34:04.504716Z",
     "iopub.status.idle": "2025-01-19T19:34:04.507867Z",
     "shell.execute_reply": "2025-01-19T19:34:04.507418Z"
    }
   },
   "outputs": [],
   "source": [
    "def plot_total_distances_bar_chart(data_frame: pd.DataFrame, title: str, ylabel: str):\n",
    "    \"\"\"\n",
    "    Plots the total number of pairs for each distance.\n",
    "    \n",
    "    data_frame\n",
    "    ----------\n",
    "    Contains the path algorithm result including the columns \"distance\" and \"distanceTotalPairCount\"\n",
    "\n",
    "    title\n",
    "    ----------\n",
    "    Title of the plot. Example: \"All pairs shortest path for Java package dependencies in total (bar)\"\n",
    "\n",
    "    ylabel\n",
    "    ----------\n",
    "    Y-axis label. Example: \"total number of Java package pairs\"\n",
    "    \"\"\"\n",
    "    \n",
    "    if data_frame.empty:\n",
    "        print(\"No data to plot '\" + title + \"'\")\n",
    "    else:\n",
    "        data_frame.plot(\n",
    "            title=title,\n",
    "            kind='bar', \n",
    "            grid=True,\n",
    "            x='distance',\n",
    "            y='distanceTotalPairCount',\n",
    "            xlabel='path length',\n",
    "            ylabel=ylabel,\n",
    "            figsize=(9,7),\n",
    "            legend=False,\n",
    "            fontsize=8,\n",
    "            cmap=main_color_map\n",
    "        )"
   ]
  },
  {
   "cell_type": "code",
   "execution_count": 17,
   "id": "e63ddc97",
   "metadata": {
    "execution": {
     "iopub.execute_input": "2025-01-19T19:34:04.509832Z",
     "iopub.status.busy": "2025-01-19T19:34:04.509515Z",
     "iopub.status.idle": "2025-01-19T19:34:04.513793Z",
     "shell.execute_reply": "2025-01-19T19:34:04.513303Z"
    }
   },
   "outputs": [],
   "source": [
    "def plot_total_distances_pie_chart(data_frame: pd.DataFrame, title: str, ylabel: str):\n",
    "    \"\"\"\n",
    "    Plots the total number of pairs for each distance.\n",
    "    \n",
    "    data_frame\n",
    "    ----------\n",
    "    Contains the path algorithm result including the columns \"distance\" and \"distanceTotalPairCount\"\n",
    "\n",
    "    title\n",
    "    ----------\n",
    "    Title of the plot. Example: \"All pairs shortest path for Java package dependencies in total (pie)\".\n",
    "\n",
    "    ylabel\n",
    "    ----------\n",
    "    Y-axis label. Example: \"Total number of Java package pairs\"\n",
    "    \"\"\"\n",
    "\n",
    "    if data_frame.empty:\n",
    "        print(\"No data to plot '\" + title + \"'\")\n",
    "    else:\n",
    "        explode_all=np.full(data_frame.shape[0], 0.01)\n",
    "        total_number_of_pairs=data_frame['distanceTotalPairCount'].sum()\n",
    "        def custom_auto_percentage_format(percentage):\n",
    "            return '{:1.2f}% ({:.0f})'.format(percentage, total_number_of_pairs*percentage/100)\n",
    "\n",
    "        plot.figure();\n",
    "        data_frame.plot(\n",
    "            title=title, \n",
    "            kind='pie', \n",
    "            labels=data_frame['distance'],\n",
    "            y='distanceTotalPairCount', \n",
    "            ylabel=ylabel,\n",
    "            legend=True,\n",
    "            labeldistance=None,\n",
    "            autopct=custom_auto_percentage_format,\n",
    "            explode=explode_all,\n",
    "            textprops={'fontsize': 8},\n",
    "            pctdistance=1.2,\n",
    "            figsize=(8,8),\n",
    "            cmap=main_color_map\n",
    "        )\n",
    "        plot.legend(bbox_to_anchor=(1.05, 1), loc='upper left', title='path length')\n",
    "        plot.show()"
   ]
  },
  {
   "cell_type": "code",
   "execution_count": 18,
   "id": "7243fbfd",
   "metadata": {
    "execution": {
     "iopub.execute_input": "2025-01-19T19:34:04.515687Z",
     "iopub.status.busy": "2025-01-19T19:34:04.515398Z",
     "iopub.status.idle": "2025-01-19T19:34:04.518800Z",
     "shell.execute_reply": "2025-01-19T19:34:04.518276Z"
    }
   },
   "outputs": [],
   "source": [
    "def plot_longest_distance_for_each_row(data_frame: pd.DataFrame, title: str, xlabel: str, ylabel: str):\n",
    "    \"\"\"\n",
    "    Plots the longest distance per source project \n",
    "    \n",
    "    data_frame\n",
    "    ----------\n",
    "    Contains the path algorithm result pivot table including the columns \"distance\"\n",
    "\n",
    "    title\n",
    "    ----------\n",
    "    Title of the plot. Example: 'Longest shortest path (\"diameter\") for Java package dependencies per artifact'\n",
    "\n",
    "    xlabel\n",
    "    ----------\n",
    "    X-axis label. Example: \"Artifact\".\n",
    "    \n",
    "    ylabel\n",
    "    ----------\n",
    "    Y-axis label. Example: \"Java package pairs\".    \n",
    "    \"\"\"\n",
    "\n",
    "    if data_frame.empty:\n",
    "        print(\"No data to plot '\" + title + \"'\")\n",
    "    else:\n",
    "        plot.figure();\n",
    "        axes = data_frame.transpose().plot(\n",
    "            title=title, \n",
    "            kind='bar', \n",
    "            grid=True,\n",
    "            xlabel=xlabel,\n",
    "            ylabel=ylabel,\n",
    "            figsize=(10,6),\n",
    "            legend=False,\n",
    "            cmap=main_color_map\n",
    "        )\n",
    "        plot.show()"
   ]
  },
  {
   "cell_type": "code",
   "execution_count": 19,
   "id": "5262a4ea",
   "metadata": {
    "execution": {
     "iopub.execute_input": "2025-01-19T19:34:04.520708Z",
     "iopub.status.busy": "2025-01-19T19:34:04.520413Z",
     "iopub.status.idle": "2025-01-19T19:34:04.523812Z",
     "shell.execute_reply": "2025-01-19T19:34:04.523402Z"
    }
   },
   "outputs": [],
   "source": [
    "def plot_stacked_distances_for_each_row(data_frame: pd.DataFrame, title: str, xlabel: str, ylabel: str, logy: bool = False):\n",
    "    \"\"\"\n",
    "    Plots each source project (e.g. Java artifact or Typescript project) stacked by distance (number of dependency pairs)\n",
    "    \n",
    "    data_frame\n",
    "    ----------\n",
    "    Contains the output of \"get_distance_distribution_for_each\" with e.g. the \n",
    "    source projects as rows, distances as columns and number of pairs as values.\n",
    "\n",
    "    title\n",
    "    ----------\n",
    "    Title of the plot. Example: \"Longest shortest path (\"diameter\") for Java packages \".\n",
    "\n",
    "    xlabel\n",
    "    ----------\n",
    "    X-axis label. Example: \"Artifact\".\n",
    "    \n",
    "    ylabel\n",
    "    ----------\n",
    "    Y-axis label. Example: \"Java package pairs\".\n",
    "    \"\"\"\n",
    "\n",
    "    if data_frame.empty:\n",
    "        print(\"No data to plot '\" + title + \"'\")\n",
    "    else:\n",
    "        plot.figure();\n",
    "        axes = data_frame.plot(\n",
    "            title=title, \n",
    "            kind='bar', \n",
    "            grid=True,\n",
    "            stacked=True,\n",
    "            logy=logy,\n",
    "            xlabel=xlabel,\n",
    "            ylabel=ylabel,\n",
    "            figsize=(10,6),\n",
    "            legend=True,\n",
    "            cmap=main_color_map\n",
    "        ).legend(bbox_to_anchor=(1.0, 1.0), title=\"path length\")\n",
    "        plot.show()"
   ]
  },
  {
   "cell_type": "markdown",
   "id": "0b42163d",
   "metadata": {},
   "source": [
    "## 1. Java Packages"
   ]
  },
  {
   "cell_type": "markdown",
   "id": "5e1ce698",
   "metadata": {},
   "source": [
    "## 1.1 All pairs shortest path\n",
    "\n",
    "Use \"[All Pairs Shortest Path](https://neo4j.com/docs/graph-data-science/current/algorithms/all-pairs-shortest-path)\" algorithm to get the shortest path distance between all pairs of dependent Java packages. It shows how many Packages have a direct dependency (distance 1), how many are reachable with one dependency in between (distance 2), and so on..."
   ]
  },
  {
   "cell_type": "markdown",
   "id": "3b468bae",
   "metadata": {},
   "source": [
    "### 1.1.1 Create a projection of all Java package dependencies\n",
    "\n",
    "Creates a in-memory projection of \"Java:Package\" nodes and their \"DEPENDS_ON\" relationships as a preparation to run the Graph algorithms. The weight property is not used for now (September 2024) but may be needed for other algorithms/variants some time."
   ]
  },
  {
   "cell_type": "code",
   "execution_count": 20,
   "id": "1ecc41b1",
   "metadata": {
    "execution": {
     "iopub.execute_input": "2025-01-19T19:34:04.525916Z",
     "iopub.status.busy": "2025-01-19T19:34:04.525761Z",
     "iopub.status.idle": "2025-01-19T19:34:04.528155Z",
     "shell.execute_reply": "2025-01-19T19:34:04.527709Z"
    }
   },
   "outputs": [],
   "source": [
    "package_path_finding_parameters={\n",
    "    \"dependencies_projection\": \"java-package-path-finding-notebook\",\n",
    "    \"dependencies_projection_node\": \"Package\",\n",
    "    \"dependencies_projection_weight_property\": \"weight25PercentInterfaces\",\n",
    "}"
   ]
  },
  {
   "cell_type": "code",
   "execution_count": 21,
   "id": "0b637ce2",
   "metadata": {
    "execution": {
     "iopub.execute_input": "2025-01-19T19:34:04.530051Z",
     "iopub.status.busy": "2025-01-19T19:34:04.529758Z",
     "iopub.status.idle": "2025-01-19T19:34:04.630343Z",
     "shell.execute_reply": "2025-01-19T19:34:04.629816Z"
    }
   },
   "outputs": [],
   "source": [
    "# Create the directed and unweighted projection with the parameters defined directly above\n",
    "is_package_data_available=create_directed_unweighted_projection(package_path_finding_parameters)"
   ]
  },
  {
   "cell_type": "markdown",
   "id": "aaf7a594",
   "metadata": {},
   "source": [
    "#### Projected Graph statistics for Java package dependencies"
   ]
  },
  {
   "cell_type": "code",
   "execution_count": 22,
   "id": "cf414643",
   "metadata": {
    "execution": {
     "iopub.execute_input": "2025-01-19T19:34:04.632871Z",
     "iopub.status.busy": "2025-01-19T19:34:04.632559Z",
     "iopub.status.idle": "2025-01-19T19:34:04.673463Z",
     "shell.execute_reply": "2025-01-19T19:34:04.672980Z"
    }
   },
   "outputs": [
    {
     "name": "stdout",
     "output_type": "stream",
     "text": [
      "Projection data available: True\n"
     ]
    },
    {
     "data": {
      "text/html": [
       "<div>\n",
       "<style scoped>\n",
       "    .dataframe tbody tr th:only-of-type {\n",
       "        vertical-align: middle;\n",
       "    }\n",
       "\n",
       "    .dataframe tbody tr th {\n",
       "        vertical-align: top;\n",
       "    }\n",
       "\n",
       "    .dataframe thead th {\n",
       "        text-align: right;\n",
       "    }\n",
       "</style>\n",
       "<table border=\"1\" class=\"dataframe\">\n",
       "  <thead>\n",
       "    <tr style=\"text-align: right;\">\n",
       "      <th></th>\n",
       "      <th>nodeCount</th>\n",
       "      <th>relationshipCount</th>\n",
       "      <th>density</th>\n",
       "      <th>sizeInBytes</th>\n",
       "      <th>degreeDistribution.min</th>\n",
       "      <th>degreeDistribution.mean</th>\n",
       "      <th>degreeDistribution.max</th>\n",
       "      <th>degreeDistribution.p50</th>\n",
       "      <th>degreeDistribution.p75</th>\n",
       "      <th>degreeDistribution.p90</th>\n",
       "      <th>degreeDistribution.p95</th>\n",
       "      <th>degreeDistribution.p99</th>\n",
       "      <th>degreeDistribution.p999</th>\n",
       "    </tr>\n",
       "  </thead>\n",
       "  <tbody>\n",
       "    <tr>\n",
       "      <th>0</th>\n",
       "      <td>114</td>\n",
       "      <td>746</td>\n",
       "      <td>0.05791</td>\n",
       "      <td>2990753</td>\n",
       "      <td>0</td>\n",
       "      <td>6.54386</td>\n",
       "      <td>56</td>\n",
       "      <td>5</td>\n",
       "      <td>8</td>\n",
       "      <td>14</td>\n",
       "      <td>16</td>\n",
       "      <td>45</td>\n",
       "      <td>56</td>\n",
       "    </tr>\n",
       "  </tbody>\n",
       "</table>\n",
       "</div>"
      ],
      "text/plain": [
       "   nodeCount  relationshipCount  density  sizeInBytes  degreeDistribution.min  \\\n",
       "0        114                746  0.05791      2990753                       0   \n",
       "\n",
       "   degreeDistribution.mean  degreeDistribution.max  degreeDistribution.p50  \\\n",
       "0                  6.54386                      56                       5   \n",
       "\n",
       "   degreeDistribution.p75  degreeDistribution.p90  degreeDistribution.p95  \\\n",
       "0                       8                      14                      16   \n",
       "\n",
       "   degreeDistribution.p99  degreeDistribution.p999  \n",
       "0                      45                       56  "
      ]
     },
     "execution_count": 22,
     "metadata": {},
     "output_type": "execute_result"
    }
   ],
   "source": [
    "print(\"Projection data available: \" + str(is_package_data_available))\n",
    "package_projection_statistics=query_cypher_to_data_frame(\"../cypher/Dependencies_Projection/Dependencies_12_Get_Projection_Statistics.cypher\", package_path_finding_parameters)\n",
    "package_projection_statistics"
   ]
  },
  {
   "cell_type": "markdown",
   "id": "924c9b26",
   "metadata": {},
   "source": [
    "### 1.1.2 All pairs shortest path in total\n",
    "\n",
    "First, we'll have a look at the overall/total result of the all pairs shortest path algorithm for all dependencies."
   ]
  },
  {
   "cell_type": "code",
   "execution_count": 23,
   "id": "62f50f28",
   "metadata": {
    "execution": {
     "iopub.execute_input": "2025-01-19T19:34:04.675663Z",
     "iopub.status.busy": "2025-01-19T19:34:04.675356Z",
     "iopub.status.idle": "2025-01-19T19:34:04.797971Z",
     "shell.execute_reply": "2025-01-19T19:34:04.797438Z"
    }
   },
   "outputs": [],
   "source": [
    "# Execute algorithm \"All pairs shortest path\" and query overall and artifact specific results\n",
    "all_pairs_shortest_paths_distribution_per_artifact=query_if_data_available(is_package_data_available, \"../cypher/Path_Finding/Path_Finding_5_All_pairs_shortest_path_distribution_per_project.cypher\", package_path_finding_parameters)"
   ]
  },
  {
   "cell_type": "markdown",
   "id": "d6f93160",
   "metadata": {},
   "source": [
    "#### All pairs shortest path in total - Longest shortest path (Graph Diameter)"
   ]
  },
  {
   "cell_type": "code",
   "execution_count": 24,
   "id": "ce1621b2",
   "metadata": {
    "execution": {
     "iopub.execute_input": "2025-01-19T19:34:04.800570Z",
     "iopub.status.busy": "2025-01-19T19:34:04.800235Z",
     "iopub.status.idle": "2025-01-19T19:34:04.803234Z",
     "shell.execute_reply": "2025-01-19T19:34:04.802758Z"
    }
   },
   "outputs": [
    {
     "name": "stdout",
     "output_type": "stream",
     "text": [
      "The diameter (longest shortest path) of the projected package dependencies Graph is: 5\n"
     ]
    }
   ],
   "source": [
    "package_dependencies_graph_diameter=all_pairs_shortest_paths_distribution_per_artifact['distance'].max()\n",
    "print('The diameter (longest shortest path) of the projected package dependencies Graph is:', package_dependencies_graph_diameter)"
   ]
  },
  {
   "cell_type": "markdown",
   "id": "e502afa1",
   "metadata": {},
   "source": [
    "#### All pairs shortest path in total - Path count per length - Table"
   ]
  },
  {
   "cell_type": "code",
   "execution_count": 25,
   "id": "b9ebcaa9",
   "metadata": {
    "execution": {
     "iopub.execute_input": "2025-01-19T19:34:04.805096Z",
     "iopub.status.busy": "2025-01-19T19:34:04.804952Z",
     "iopub.status.idle": "2025-01-19T19:34:04.811821Z",
     "shell.execute_reply": "2025-01-19T19:34:04.811430Z"
    }
   },
   "outputs": [
    {
     "data": {
      "text/html": [
       "<div>\n",
       "<style scoped>\n",
       "    .dataframe tbody tr th:only-of-type {\n",
       "        vertical-align: middle;\n",
       "    }\n",
       "\n",
       "    .dataframe tbody tr th {\n",
       "        vertical-align: top;\n",
       "    }\n",
       "\n",
       "    .dataframe thead th {\n",
       "        text-align: right;\n",
       "    }\n",
       "</style>\n",
       "<table border=\"1\" class=\"dataframe\">\n",
       "  <thead>\n",
       "    <tr style=\"text-align: right;\">\n",
       "      <th></th>\n",
       "      <th>index</th>\n",
       "      <th>distance</th>\n",
       "      <th>distanceTotalPairCount</th>\n",
       "      <th>distanceTotalSourceCount</th>\n",
       "      <th>distanceTotalTargetCount</th>\n",
       "    </tr>\n",
       "  </thead>\n",
       "  <tbody>\n",
       "    <tr>\n",
       "      <th>0</th>\n",
       "      <td>0</td>\n",
       "      <td>1</td>\n",
       "      <td>746</td>\n",
       "      <td>108</td>\n",
       "      <td>101</td>\n",
       "    </tr>\n",
       "    <tr>\n",
       "      <th>1</th>\n",
       "      <td>1</td>\n",
       "      <td>2</td>\n",
       "      <td>1567</td>\n",
       "      <td>99</td>\n",
       "      <td>86</td>\n",
       "    </tr>\n",
       "    <tr>\n",
       "      <th>2</th>\n",
       "      <td>4</td>\n",
       "      <td>3</td>\n",
       "      <td>1127</td>\n",
       "      <td>95</td>\n",
       "      <td>60</td>\n",
       "    </tr>\n",
       "    <tr>\n",
       "      <th>3</th>\n",
       "      <td>5</td>\n",
       "      <td>4</td>\n",
       "      <td>201</td>\n",
       "      <td>60</td>\n",
       "      <td>21</td>\n",
       "    </tr>\n",
       "    <tr>\n",
       "      <th>4</th>\n",
       "      <td>18</td>\n",
       "      <td>5</td>\n",
       "      <td>7</td>\n",
       "      <td>3</td>\n",
       "      <td>5</td>\n",
       "    </tr>\n",
       "  </tbody>\n",
       "</table>\n",
       "</div>"
      ],
      "text/plain": [
       "   index  distance  distanceTotalPairCount  distanceTotalSourceCount  \\\n",
       "0      0         1                     746                       108   \n",
       "1      1         2                    1567                        99   \n",
       "2      4         3                    1127                        95   \n",
       "3      5         4                     201                        60   \n",
       "4     18         5                       7                         3   \n",
       "\n",
       "   distanceTotalTargetCount  \n",
       "0                       101  \n",
       "1                        86  \n",
       "2                        60  \n",
       "3                        21  \n",
       "4                         5  "
      ]
     },
     "execution_count": 25,
     "metadata": {},
     "output_type": "execute_result"
    }
   ],
   "source": [
    "all_pairs_shortest_paths_distribution_per_artifact_in_total=get_total_distance_distribution(all_pairs_shortest_paths_distribution_per_artifact)\n",
    "all_pairs_shortest_paths_distribution_per_artifact_in_total.head(50)"
   ]
  },
  {
   "cell_type": "markdown",
   "id": "df87dc06",
   "metadata": {},
   "source": [
    "#### All pairs shortest path in total - Path count per length - Bar chart"
   ]
  },
  {
   "cell_type": "code",
   "execution_count": 26,
   "id": "1fee79fc",
   "metadata": {
    "execution": {
     "iopub.execute_input": "2025-01-19T19:34:04.813485Z",
     "iopub.status.busy": "2025-01-19T19:34:04.813359Z",
     "iopub.status.idle": "2025-01-19T19:34:04.954009Z",
     "shell.execute_reply": "2025-01-19T19:34:04.953592Z"
    }
   },
   "outputs": [
    {
     "data": {
      "image/png": "[encoded data removed]",
      "text/plain": [
       "<Figure size 900x700 with 1 Axes>"
      ]
     },
     "metadata": {},
     "output_type": "display_data"
    }
   ],
   "source": [
    "plot_total_distances_bar_chart(\n",
    "    data_frame=all_pairs_shortest_paths_distribution_per_artifact_in_total, \n",
    "    title='All pairs shortest path for Java package dependencies in total (bar)',\n",
    "    ylabel='total number of java package paths'\n",
    ")"
   ]
  },
  {
   "cell_type": "markdown",
   "id": "cf4b2733",
   "metadata": {},
   "source": [
    "#### All pairs shortest path in total - Path count per length - Pie chart"
   ]
  },
  {
   "cell_type": "code",
   "execution_count": 27,
   "id": "ab444978",
   "metadata": {
    "execution": {
     "iopub.execute_input": "2025-01-19T19:34:04.955936Z",
     "iopub.status.busy": "2025-01-19T19:34:04.955603Z",
     "iopub.status.idle": "2025-01-19T19:34:05.057600Z",
     "shell.execute_reply": "2025-01-19T19:34:05.057191Z"
    }
   },
   "outputs": [
    {
     "data": {
      "text/plain": [
       "<Figure size 640x480 with 0 Axes>"
      ]
     },
     "metadata": {},
     "output_type": "display_data"
    },
    {
     "data": {
      "image/png": "[encoded data removed]",
      "text/plain": [
       "<Figure size 800x800 with 1 Axes>"
      ]
     },
     "metadata": {},
     "output_type": "display_data"
    }
   ],
   "source": [
    "plot_total_distances_pie_chart(\n",
    "    data_frame=all_pairs_shortest_paths_distribution_per_artifact_in_total,\n",
    "    title='All pairs shortest path for Java package dependencies in total (pie)',\n",
    "    ylabel='total number of Java package paths'\n",
    ")"
   ]
  },
  {
   "cell_type": "markdown",
   "id": "b1129f77",
   "metadata": {},
   "source": [
    "### 1.1.3 All pairs shortest path in detail\n",
    "\n",
    "The following table shows the first 10 rows with all details of the query above. It contains the results of the \"all pairs shortest path\" algorithm including the artifact the source node belong to and if the target node is the same or not. The main intuition here is to show how the data is structured. It provides the basis for tables and charts shown in following sections below, that filter and group the data accordingly."
   ]
  },
  {
   "cell_type": "code",
   "execution_count": 28,
   "id": "64ab393b",
   "metadata": {
    "execution": {
     "iopub.execute_input": "2025-01-19T19:34:05.059538Z",
     "iopub.status.busy": "2025-01-19T19:34:05.059255Z",
     "iopub.status.idle": "2025-01-19T19:34:05.071308Z",
     "shell.execute_reply": "2025-01-19T19:34:05.070863Z"
    }
   },
   "outputs": [
    {
     "data": {
      "text/html": [
       "<div>\n",
       "<style scoped>\n",
       "    .dataframe tbody tr th:only-of-type {\n",
       "        vertical-align: middle;\n",
       "    }\n",
       "\n",
       "    .dataframe tbody tr th {\n",
       "        vertical-align: top;\n",
       "    }\n",
       "\n",
       "    .dataframe thead th {\n",
       "        text-align: right;\n",
       "    }\n",
       "</style>\n",
       "<table border=\"1\" class=\"dataframe\">\n",
       "  <thead>\n",
       "    <tr style=\"text-align: right;\">\n",
       "      <th></th>\n",
       "      <th>sourceProject</th>\n",
       "      <th>sourceScan</th>\n",
       "      <th>sourceRootProject</th>\n",
       "      <th>isDifferentTargetProject</th>\n",
       "      <th>isDifferentTargetScan</th>\n",
       "      <th>isDifferentTargetRootProject</th>\n",
       "      <th>distance</th>\n",
       "      <th>distanceTotalPairCount</th>\n",
       "      <th>distanceTotalSourceCount</th>\n",
       "      <th>distanceTotalTargetCount</th>\n",
       "      <th>pairCount</th>\n",
       "      <th>sourceNodeCount</th>\n",
       "      <th>targetNodeCount</th>\n",
       "      <th>examples</th>\n",
       "      <th>exampleProjects</th>\n",
       "      <th>exampleScans</th>\n",
       "    </tr>\n",
       "  </thead>\n",
       "  <tbody>\n",
       "    <tr>\n",
       "      <th>0</th>\n",
       "      <td>axon-configuration-4.10.3</td>\n",
       "      <td>None</td>\n",
       "      <td>None</td>\n",
       "      <td>True</td>\n",
       "      <td>None</td>\n",
       "      <td>None</td>\n",
       "      <td>1</td>\n",
       "      <td>746</td>\n",
       "      <td>108</td>\n",
       "      <td>101</td>\n",
       "      <td>45</td>\n",
       "      <td>1</td>\n",
       "      <td>45</td>\n",
       "      <td>[/org/axonframework/config -&gt; /org/axonframework/disruptor/commandhandling, /org/axonframework/config -&gt; /org/axonframework/commandhandling, /org/axonframework/config -&gt; /org/axonframework/commandhandling/gateway, /org/axonframework/config -&gt; /org/axonframework/common]</td>\n",
       "      <td>[axon-configuration-4.10.3 -&gt; axon-disruptor-4.10.3, axon-configuration-4.10.3 -&gt; axon-messaging-4.10.3, axon-configuration-4.10.3 -&gt; axon-eventsourcing-4.10.3, axon-configuration-4.10.3 -&gt; axon-modelling-4.10.3]</td>\n",
       "      <td>[]</td>\n",
       "    </tr>\n",
       "    <tr>\n",
       "      <th>1</th>\n",
       "      <td>axon-configuration-4.10.3</td>\n",
       "      <td>None</td>\n",
       "      <td>None</td>\n",
       "      <td>True</td>\n",
       "      <td>None</td>\n",
       "      <td>None</td>\n",
       "      <td>2</td>\n",
       "      <td>1567</td>\n",
       "      <td>99</td>\n",
       "      <td>86</td>\n",
       "      <td>10</td>\n",
       "      <td>1</td>\n",
       "      <td>10</td>\n",
       "      <td>[/org/axonframework/config -&gt; /org/axonframework/commandhandling/callbacks, /org/axonframework/config -&gt; /org/axonframework/common/io, /org/axonframework/config -&gt; /org/axonframework/common/property, /org/axonframework/config -&gt; /org/axonframework/common/stream]</td>\n",
       "      <td>[axon-configuration-4.10.3 -&gt; axon-messaging-4.10.3, axon-configuration-4.10.3 -&gt; axon-eventsourcing-4.10.3, axon-configuration-4.10.3 -&gt; axon-modelling-4.10.3]</td>\n",
       "      <td>[]</td>\n",
       "    </tr>\n",
       "    <tr>\n",
       "      <th>2</th>\n",
       "      <td>axon-disruptor-4.10.3</td>\n",
       "      <td>None</td>\n",
       "      <td>None</td>\n",
       "      <td>True</td>\n",
       "      <td>None</td>\n",
       "      <td>None</td>\n",
       "      <td>1</td>\n",
       "      <td>746</td>\n",
       "      <td>108</td>\n",
       "      <td>101</td>\n",
       "      <td>13</td>\n",
       "      <td>1</td>\n",
       "      <td>13</td>\n",
       "      <td>[/org/axonframework/disruptor/commandhandling -&gt; /org/axonframework/commandhandling, /org/axonframework/disruptor/commandhandling -&gt; /org/axonframework/commandhandling/callbacks, /org/axonframework/disruptor/commandhandling -&gt; /org/axonframework/common, /org/axonframework/disruptor/commandhandli...</td>\n",
       "      <td>[axon-disruptor-4.10.3 -&gt; axon-messaging-4.10.3, axon-disruptor-4.10.3 -&gt; axon-eventsourcing-4.10.3, axon-disruptor-4.10.3 -&gt; axon-modelling-4.10.3]</td>\n",
       "      <td>[]</td>\n",
       "    </tr>\n",
       "    <tr>\n",
       "      <th>3</th>\n",
       "      <td>axon-disruptor-4.10.3</td>\n",
       "      <td>None</td>\n",
       "      <td>None</td>\n",
       "      <td>True</td>\n",
       "      <td>None</td>\n",
       "      <td>None</td>\n",
       "      <td>2</td>\n",
       "      <td>1567</td>\n",
       "      <td>99</td>\n",
       "      <td>86</td>\n",
       "      <td>18</td>\n",
       "      <td>1</td>\n",
       "      <td>18</td>\n",
       "      <td>[/org/axonframework/disruptor/commandhandling -&gt; /org/axonframework/common/annotation, /org/axonframework/disruptor/commandhandling -&gt; /org/axonframework/common/io, /org/axonframework/disruptor/commandhandling -&gt; /org/axonframework/common/jdbc, /org/axonframework/disruptor/commandhandling -&gt; /or...</td>\n",
       "      <td>[axon-disruptor-4.10.3 -&gt; axon-messaging-4.10.3, axon-disruptor-4.10.3 -&gt; axon-eventsourcing-4.10.3]</td>\n",
       "      <td>[]</td>\n",
       "    </tr>\n",
       "    <tr>\n",
       "      <th>4</th>\n",
       "      <td>axon-disruptor-4.10.3</td>\n",
       "      <td>None</td>\n",
       "      <td>None</td>\n",
       "      <td>True</td>\n",
       "      <td>None</td>\n",
       "      <td>None</td>\n",
       "      <td>3</td>\n",
       "      <td>1127</td>\n",
       "      <td>95</td>\n",
       "      <td>60</td>\n",
       "      <td>6</td>\n",
       "      <td>1</td>\n",
       "      <td>6</td>\n",
       "      <td>[/org/axonframework/disruptor/commandhandling -&gt; /org/axonframework/eventhandling/async, /org/axonframework/disruptor/commandhandling -&gt; /org/axonframework/eventhandling/replay, /org/axonframework/disruptor/commandhandling -&gt; /org/axonframework/eventhandling/tokenstore, /org/axonframework/disrup...</td>\n",
       "      <td>[axon-disruptor-4.10.3 -&gt; axon-messaging-4.10.3]</td>\n",
       "      <td>[]</td>\n",
       "    </tr>\n",
       "    <tr>\n",
       "      <th>5</th>\n",
       "      <td>axon-disruptor-4.10.3</td>\n",
       "      <td>None</td>\n",
       "      <td>None</td>\n",
       "      <td>True</td>\n",
       "      <td>None</td>\n",
       "      <td>None</td>\n",
       "      <td>4</td>\n",
       "      <td>201</td>\n",
       "      <td>60</td>\n",
       "      <td>21</td>\n",
       "      <td>2</td>\n",
       "      <td>1</td>\n",
       "      <td>2</td>\n",
       "      <td>[/org/axonframework/disruptor/commandhandling -&gt; /org/axonframework/messaging/responsetypes, /org/axonframework/disruptor/commandhandling -&gt; /org/axonframework/queryhandling/registration]</td>\n",
       "      <td>[axon-disruptor-4.10.3 -&gt; axon-messaging-4.10.3]</td>\n",
       "      <td>[]</td>\n",
       "    </tr>\n",
       "    <tr>\n",
       "      <th>6</th>\n",
       "      <td>axon-eventsourcing-4.10.3</td>\n",
       "      <td>None</td>\n",
       "      <td>None</td>\n",
       "      <td>False</td>\n",
       "      <td>None</td>\n",
       "      <td>None</td>\n",
       "      <td>1</td>\n",
       "      <td>746</td>\n",
       "      <td>108</td>\n",
       "      <td>101</td>\n",
       "      <td>15</td>\n",
       "      <td>8</td>\n",
       "      <td>7</td>\n",
       "      <td>[/org/axonframework/eventsourcing/eventstore -&gt; /org/axonframework/eventsourcing, /org/axonframework/eventsourcing -&gt; /org/axonframework/eventsourcing/conflictresolution, /org/axonframework/eventsourcing -&gt; /org/axonframework/eventsourcing/eventstore, /org/axonframework/eventsourcing/conflictres...</td>\n",
       "      <td>[axon-eventsourcing-4.10.3 -&gt; axon-eventsourcing-4.10.3]</td>\n",
       "      <td>[]</td>\n",
       "    </tr>\n",
       "    <tr>\n",
       "      <th>7</th>\n",
       "      <td>axon-eventsourcing-4.10.3</td>\n",
       "      <td>None</td>\n",
       "      <td>None</td>\n",
       "      <td>False</td>\n",
       "      <td>None</td>\n",
       "      <td>None</td>\n",
       "      <td>2</td>\n",
       "      <td>1567</td>\n",
       "      <td>99</td>\n",
       "      <td>86</td>\n",
       "      <td>11</td>\n",
       "      <td>8</td>\n",
       "      <td>4</td>\n",
       "      <td>[/org/axonframework/eventsourcing/conflictresolution -&gt; /org/axonframework/eventsourcing, /org/axonframework/eventsourcing/eventstore/inmemory -&gt; /org/axonframework/eventsourcing, /org/axonframework/eventsourcing/eventstore/jdbc -&gt; /org/axonframework/eventsourcing, /org/axonframework/eventsourci...</td>\n",
       "      <td>[axon-eventsourcing-4.10.3 -&gt; axon-eventsourcing-4.10.3]</td>\n",
       "      <td>[]</td>\n",
       "    </tr>\n",
       "    <tr>\n",
       "      <th>8</th>\n",
       "      <td>axon-eventsourcing-4.10.3</td>\n",
       "      <td>None</td>\n",
       "      <td>None</td>\n",
       "      <td>False</td>\n",
       "      <td>None</td>\n",
       "      <td>None</td>\n",
       "      <td>3</td>\n",
       "      <td>1127</td>\n",
       "      <td>95</td>\n",
       "      <td>60</td>\n",
       "      <td>5</td>\n",
       "      <td>5</td>\n",
       "      <td>2</td>\n",
       "      <td>[/org/axonframework/eventsourcing/eventstore/jdbc/statements -&gt; /org/axonframework/eventsourcing, /org/axonframework/eventsourcing/eventstore/inmemory -&gt; /org/axonframework/eventsourcing/conflictresolution, /org/axonframework/eventsourcing/eventstore/jdbc -&gt; /org/axonframework/eventsourcing/conf...</td>\n",
       "      <td>[axon-eventsourcing-4.10.3 -&gt; axon-eventsourcing-4.10.3]</td>\n",
       "      <td>[]</td>\n",
       "    </tr>\n",
       "    <tr>\n",
       "      <th>9</th>\n",
       "      <td>axon-eventsourcing-4.10.3</td>\n",
       "      <td>None</td>\n",
       "      <td>None</td>\n",
       "      <td>False</td>\n",
       "      <td>None</td>\n",
       "      <td>None</td>\n",
       "      <td>4</td>\n",
       "      <td>201</td>\n",
       "      <td>60</td>\n",
       "      <td>21</td>\n",
       "      <td>1</td>\n",
       "      <td>1</td>\n",
       "      <td>1</td>\n",
       "      <td>[/org/axonframework/eventsourcing/eventstore/jdbc/statements -&gt; /org/axonframework/eventsourcing/conflictresolution]</td>\n",
       "      <td>[axon-eventsourcing-4.10.3 -&gt; axon-eventsourcing-4.10.3]</td>\n",
       "      <td>[]</td>\n",
       "    </tr>\n",
       "  </tbody>\n",
       "</table>\n",
       "</div>"
      ],
      "text/plain": [
       "               sourceProject sourceScan sourceRootProject  \\\n",
       "0  axon-configuration-4.10.3       None              None   \n",
       "1  axon-configuration-4.10.3       None              None   \n",
       "2      axon-disruptor-4.10.3       None              None   \n",
       "3      axon-disruptor-4.10.3       None              None   \n",
       "4      axon-disruptor-4.10.3       None              None   \n",
       "5      axon-disruptor-4.10.3       None              None   \n",
       "6  axon-eventsourcing-4.10.3       None              None   \n",
       "7  axon-eventsourcing-4.10.3       None              None   \n",
       "8  axon-eventsourcing-4.10.3       None              None   \n",
       "9  axon-eventsourcing-4.10.3       None              None   \n",
       "\n",
       "   isDifferentTargetProject isDifferentTargetScan  \\\n",
       "0                      True                  None   \n",
       "1                      True                  None   \n",
       "2                      True                  None   \n",
       "3                      True                  None   \n",
       "4                      True                  None   \n",
       "5                      True                  None   \n",
       "6                     False                  None   \n",
       "7                     False                  None   \n",
       "8                     False                  None   \n",
       "9                     False                  None   \n",
       "\n",
       "  isDifferentTargetRootProject  distance  distanceTotalPairCount  \\\n",
       "0                         None         1                     746   \n",
       "1                         None         2                    1567   \n",
       "2                         None         1                     746   \n",
       "3                         None         2                    1567   \n",
       "4                         None         3                    1127   \n",
       "5                         None         4                     201   \n",
       "6                         None         1                     746   \n",
       "7                         None         2                    1567   \n",
       "8                         None         3                    1127   \n",
       "9                         None         4                     201   \n",
       "\n",
       "   distanceTotalSourceCount  distanceTotalTargetCount  pairCount  \\\n",
       "0                       108                       101         45   \n",
       "1                        99                        86         10   \n",
       "2                       108                       101         13   \n",
       "3                        99                        86         18   \n",
       "4                        95                        60          6   \n",
       "5                        60                        21          2   \n",
       "6                       108                       101         15   \n",
       "7                        99                        86         11   \n",
       "8                        95                        60          5   \n",
       "9                        60                        21          1   \n",
       "\n",
       "   sourceNodeCount  targetNodeCount  \\\n",
       "0                1               45   \n",
       "1                1               10   \n",
       "2                1               13   \n",
       "3                1               18   \n",
       "4                1                6   \n",
       "5                1                2   \n",
       "6                8                7   \n",
       "7                8                4   \n",
       "8                5                2   \n",
       "9                1                1   \n",
       "\n",
       "                                                                                                                                                                                                                                                                                                      examples  \\\n",
       "0                                [/org/axonframework/config -> /org/axonframework/disruptor/commandhandling, /org/axonframework/config -> /org/axonframework/commandhandling, /org/axonframework/config -> /org/axonframework/commandhandling/gateway, /org/axonframework/config -> /org/axonframework/common]   \n",
       "1                                       [/org/axonframework/config -> /org/axonframework/commandhandling/callbacks, /org/axonframework/config -> /org/axonframework/common/io, /org/axonframework/config -> /org/axonframework/common/property, /org/axonframework/config -> /org/axonframework/common/stream]   \n",
       "2  [/org/axonframework/disruptor/commandhandling -> /org/axonframework/commandhandling, /org/axonframework/disruptor/commandhandling -> /org/axonframework/commandhandling/callbacks, /org/axonframework/disruptor/commandhandling -> /org/axonframework/common, /org/axonframework/disruptor/commandhandli...   \n",
       "3  [/org/axonframework/disruptor/commandhandling -> /org/axonframework/common/annotation, /org/axonframework/disruptor/commandhandling -> /org/axonframework/common/io, /org/axonframework/disruptor/commandhandling -> /org/axonframework/common/jdbc, /org/axonframework/disruptor/commandhandling -> /or...   \n",
       "4  [/org/axonframework/disruptor/commandhandling -> /org/axonframework/eventhandling/async, /org/axonframework/disruptor/commandhandling -> /org/axonframework/eventhandling/replay, /org/axonframework/disruptor/commandhandling -> /org/axonframework/eventhandling/tokenstore, /org/axonframework/disrup...   \n",
       "5                                                                                                                  [/org/axonframework/disruptor/commandhandling -> /org/axonframework/messaging/responsetypes, /org/axonframework/disruptor/commandhandling -> /org/axonframework/queryhandling/registration]   \n",
       "6  [/org/axonframework/eventsourcing/eventstore -> /org/axonframework/eventsourcing, /org/axonframework/eventsourcing -> /org/axonframework/eventsourcing/conflictresolution, /org/axonframework/eventsourcing -> /org/axonframework/eventsourcing/eventstore, /org/axonframework/eventsourcing/conflictres...   \n",
       "7  [/org/axonframework/eventsourcing/conflictresolution -> /org/axonframework/eventsourcing, /org/axonframework/eventsourcing/eventstore/inmemory -> /org/axonframework/eventsourcing, /org/axonframework/eventsourcing/eventstore/jdbc -> /org/axonframework/eventsourcing, /org/axonframework/eventsourci...   \n",
       "8  [/org/axonframework/eventsourcing/eventstore/jdbc/statements -> /org/axonframework/eventsourcing, /org/axonframework/eventsourcing/eventstore/inmemory -> /org/axonframework/eventsourcing/conflictresolution, /org/axonframework/eventsourcing/eventstore/jdbc -> /org/axonframework/eventsourcing/conf...   \n",
       "9                                                                                                                                                                                         [/org/axonframework/eventsourcing/eventstore/jdbc/statements -> /org/axonframework/eventsourcing/conflictresolution]   \n",
       "\n",
       "                                                                                                                                                                                                        exampleProjects  \\\n",
       "0  [axon-configuration-4.10.3 -> axon-disruptor-4.10.3, axon-configuration-4.10.3 -> axon-messaging-4.10.3, axon-configuration-4.10.3 -> axon-eventsourcing-4.10.3, axon-configuration-4.10.3 -> axon-modelling-4.10.3]   \n",
       "1                                                      [axon-configuration-4.10.3 -> axon-messaging-4.10.3, axon-configuration-4.10.3 -> axon-eventsourcing-4.10.3, axon-configuration-4.10.3 -> axon-modelling-4.10.3]   \n",
       "2                                                                  [axon-disruptor-4.10.3 -> axon-messaging-4.10.3, axon-disruptor-4.10.3 -> axon-eventsourcing-4.10.3, axon-disruptor-4.10.3 -> axon-modelling-4.10.3]   \n",
       "3                                                                                                                  [axon-disruptor-4.10.3 -> axon-messaging-4.10.3, axon-disruptor-4.10.3 -> axon-eventsourcing-4.10.3]   \n",
       "4                                                                                                                                                                      [axon-disruptor-4.10.3 -> axon-messaging-4.10.3]   \n",
       "5                                                                                                                                                                      [axon-disruptor-4.10.3 -> axon-messaging-4.10.3]   \n",
       "6                                                                                                                                                              [axon-eventsourcing-4.10.3 -> axon-eventsourcing-4.10.3]   \n",
       "7                                                                                                                                                              [axon-eventsourcing-4.10.3 -> axon-eventsourcing-4.10.3]   \n",
       "8                                                                                                                                                              [axon-eventsourcing-4.10.3 -> axon-eventsourcing-4.10.3]   \n",
       "9                                                                                                                                                              [axon-eventsourcing-4.10.3 -> axon-eventsourcing-4.10.3]   \n",
       "\n",
       "  exampleScans  \n",
       "0           []  \n",
       "1           []  \n",
       "2           []  \n",
       "3           []  \n",
       "4           []  \n",
       "5           []  \n",
       "6           []  \n",
       "7           []  \n",
       "8           []  \n",
       "9           []  "
      ]
     },
     "execution_count": 28,
     "metadata": {},
     "output_type": "execute_result"
    }
   ],
   "source": [
    "all_pairs_shortest_paths_distribution_per_artifact.head(10)"
   ]
  },
  {
   "cell_type": "markdown",
   "id": "ae9d8868",
   "metadata": {},
   "source": [
    "### 1.1.4 All pairs shortest path for each artifact\n",
    "\n",
    "In this section we'll focus only on pairs of nodes that both belong to the same artifact, filtering out every line that has `isDifferentTargetProject==False`. The first ten rows are shown in a table followed by charts that show the distribution of shortest path distances across different artifacts in stacked bar charts (absolute and normalized).\n",
    "\n",
    "**Note:** It is possible that a (shortest) path could have nodes in between that belong to different artifacts. Therefore, the data of each artifact isn't perfectly isolated. However, it shows how the dependencies interact across artifacts \"in real life\" while still providing a decent isolation of each artifact."
   ]
  },
  {
   "cell_type": "code",
   "execution_count": 29,
   "id": "9f84af34",
   "metadata": {
    "execution": {
     "iopub.execute_input": "2025-01-19T19:34:05.073108Z",
     "iopub.status.busy": "2025-01-19T19:34:05.072837Z",
     "iopub.status.idle": "2025-01-19T19:34:05.086017Z",
     "shell.execute_reply": "2025-01-19T19:34:05.085644Z"
    }
   },
   "outputs": [
    {
     "data": {
      "text/html": [
       "<div>\n",
       "<style scoped>\n",
       "    .dataframe tbody tr th:only-of-type {\n",
       "        vertical-align: middle;\n",
       "    }\n",
       "\n",
       "    .dataframe tbody tr th {\n",
       "        vertical-align: top;\n",
       "    }\n",
       "\n",
       "    .dataframe thead th {\n",
       "        text-align: right;\n",
       "    }\n",
       "</style>\n",
       "<table border=\"1\" class=\"dataframe\">\n",
       "  <thead>\n",
       "    <tr style=\"text-align: right;\">\n",
       "      <th></th>\n",
       "      <th>sourceProject</th>\n",
       "      <th>sourceScan</th>\n",
       "      <th>sourceRootProject</th>\n",
       "      <th>isDifferentTargetProject</th>\n",
       "      <th>isDifferentTargetScan</th>\n",
       "      <th>isDifferentTargetRootProject</th>\n",
       "      <th>distance</th>\n",
       "      <th>distanceTotalPairCount</th>\n",
       "      <th>distanceTotalSourceCount</th>\n",
       "      <th>distanceTotalTargetCount</th>\n",
       "      <th>pairCount</th>\n",
       "      <th>sourceNodeCount</th>\n",
       "      <th>targetNodeCount</th>\n",
       "      <th>examples</th>\n",
       "      <th>exampleProjects</th>\n",
       "      <th>exampleScans</th>\n",
       "    </tr>\n",
       "  </thead>\n",
       "  <tbody>\n",
       "    <tr>\n",
       "      <th>6</th>\n",
       "      <td>axon-eventsourcing-4.10.3</td>\n",
       "      <td>None</td>\n",
       "      <td>None</td>\n",
       "      <td>False</td>\n",
       "      <td>None</td>\n",
       "      <td>None</td>\n",
       "      <td>1</td>\n",
       "      <td>746</td>\n",
       "      <td>108</td>\n",
       "      <td>101</td>\n",
       "      <td>15</td>\n",
       "      <td>8</td>\n",
       "      <td>7</td>\n",
       "      <td>[/org/axonframework/eventsourcing/eventstore -&gt; /org/axonframework/eventsourcing, /org/axonframework/eventsourcing -&gt; /org/axonframework/eventsourcing/conflictresolution, /org/axonframework/eventsourcing -&gt; /org/axonframework/eventsourcing/eventstore, /org/axonframework/eventsourcing/conflictres...</td>\n",
       "      <td>[axon-eventsourcing-4.10.3 -&gt; axon-eventsourcing-4.10.3]</td>\n",
       "      <td>[]</td>\n",
       "    </tr>\n",
       "    <tr>\n",
       "      <th>7</th>\n",
       "      <td>axon-eventsourcing-4.10.3</td>\n",
       "      <td>None</td>\n",
       "      <td>None</td>\n",
       "      <td>False</td>\n",
       "      <td>None</td>\n",
       "      <td>None</td>\n",
       "      <td>2</td>\n",
       "      <td>1567</td>\n",
       "      <td>99</td>\n",
       "      <td>86</td>\n",
       "      <td>11</td>\n",
       "      <td>8</td>\n",
       "      <td>4</td>\n",
       "      <td>[/org/axonframework/eventsourcing/conflictresolution -&gt; /org/axonframework/eventsourcing, /org/axonframework/eventsourcing/eventstore/inmemory -&gt; /org/axonframework/eventsourcing, /org/axonframework/eventsourcing/eventstore/jdbc -&gt; /org/axonframework/eventsourcing, /org/axonframework/eventsourci...</td>\n",
       "      <td>[axon-eventsourcing-4.10.3 -&gt; axon-eventsourcing-4.10.3]</td>\n",
       "      <td>[]</td>\n",
       "    </tr>\n",
       "    <tr>\n",
       "      <th>8</th>\n",
       "      <td>axon-eventsourcing-4.10.3</td>\n",
       "      <td>None</td>\n",
       "      <td>None</td>\n",
       "      <td>False</td>\n",
       "      <td>None</td>\n",
       "      <td>None</td>\n",
       "      <td>3</td>\n",
       "      <td>1127</td>\n",
       "      <td>95</td>\n",
       "      <td>60</td>\n",
       "      <td>5</td>\n",
       "      <td>5</td>\n",
       "      <td>2</td>\n",
       "      <td>[/org/axonframework/eventsourcing/eventstore/jdbc/statements -&gt; /org/axonframework/eventsourcing, /org/axonframework/eventsourcing/eventstore/inmemory -&gt; /org/axonframework/eventsourcing/conflictresolution, /org/axonframework/eventsourcing/eventstore/jdbc -&gt; /org/axonframework/eventsourcing/conf...</td>\n",
       "      <td>[axon-eventsourcing-4.10.3 -&gt; axon-eventsourcing-4.10.3]</td>\n",
       "      <td>[]</td>\n",
       "    </tr>\n",
       "    <tr>\n",
       "      <th>9</th>\n",
       "      <td>axon-eventsourcing-4.10.3</td>\n",
       "      <td>None</td>\n",
       "      <td>None</td>\n",
       "      <td>False</td>\n",
       "      <td>None</td>\n",
       "      <td>None</td>\n",
       "      <td>4</td>\n",
       "      <td>201</td>\n",
       "      <td>60</td>\n",
       "      <td>21</td>\n",
       "      <td>1</td>\n",
       "      <td>1</td>\n",
       "      <td>1</td>\n",
       "      <td>[/org/axonframework/eventsourcing/eventstore/jdbc/statements -&gt; /org/axonframework/eventsourcing/conflictresolution]</td>\n",
       "      <td>[axon-eventsourcing-4.10.3 -&gt; axon-eventsourcing-4.10.3]</td>\n",
       "      <td>[]</td>\n",
       "    </tr>\n",
       "    <tr>\n",
       "      <th>14</th>\n",
       "      <td>axon-messaging-4.10.3</td>\n",
       "      <td>None</td>\n",
       "      <td>None</td>\n",
       "      <td>False</td>\n",
       "      <td>None</td>\n",
       "      <td>None</td>\n",
       "      <td>1</td>\n",
       "      <td>746</td>\n",
       "      <td>108</td>\n",
       "      <td>101</td>\n",
       "      <td>300</td>\n",
       "      <td>59</td>\n",
       "      <td>41</td>\n",
       "      <td>[/org/axonframework/serialization -&gt; /org/axonframework/commandhandling, /org/axonframework/tracing -&gt; /org/axonframework/commandhandling, /org/axonframework/tracing/attributes -&gt; /org/axonframework/commandhandling, /org/axonframework/util -&gt; /org/axonframework/commandhandling]</td>\n",
       "      <td>[axon-messaging-4.10.3 -&gt; axon-messaging-4.10.3]</td>\n",
       "      <td>[]</td>\n",
       "    </tr>\n",
       "    <tr>\n",
       "      <th>15</th>\n",
       "      <td>axon-messaging-4.10.3</td>\n",
       "      <td>None</td>\n",
       "      <td>None</td>\n",
       "      <td>False</td>\n",
       "      <td>None</td>\n",
       "      <td>None</td>\n",
       "      <td>2</td>\n",
       "      <td>1567</td>\n",
       "      <td>99</td>\n",
       "      <td>86</td>\n",
       "      <td>563</td>\n",
       "      <td>51</td>\n",
       "      <td>30</td>\n",
       "      <td>[/org/axonframework/queryhandling -&gt; /org/axonframework/commandhandling, /org/axonframework/serialization/converters -&gt; /org/axonframework/commandhandling, /org/axonframework/serialization/json -&gt; /org/axonframework/commandhandling, /org/axonframework/serialization/upcasting/event -&gt; /org/axonfr...</td>\n",
       "      <td>[axon-messaging-4.10.3 -&gt; axon-messaging-4.10.3]</td>\n",
       "      <td>[]</td>\n",
       "    </tr>\n",
       "    <tr>\n",
       "      <th>16</th>\n",
       "      <td>axon-messaging-4.10.3</td>\n",
       "      <td>None</td>\n",
       "      <td>None</td>\n",
       "      <td>False</td>\n",
       "      <td>None</td>\n",
       "      <td>None</td>\n",
       "      <td>3</td>\n",
       "      <td>1127</td>\n",
       "      <td>95</td>\n",
       "      <td>60</td>\n",
       "      <td>450</td>\n",
       "      <td>51</td>\n",
       "      <td>26</td>\n",
       "      <td>[/org/axonframework/monitoring -&gt; /org/axonframework/commandhandling, /org/axonframework/queryhandling/annotation -&gt; /org/axonframework/commandhandling, /org/axonframework/queryhandling/registration -&gt; /org/axonframework/commandhandling, /org/axonframework/queryhandling -&gt; /org/axonframework/com...</td>\n",
       "      <td>[axon-messaging-4.10.3 -&gt; axon-messaging-4.10.3]</td>\n",
       "      <td>[]</td>\n",
       "    </tr>\n",
       "    <tr>\n",
       "      <th>17</th>\n",
       "      <td>axon-messaging-4.10.3</td>\n",
       "      <td>None</td>\n",
       "      <td>None</td>\n",
       "      <td>False</td>\n",
       "      <td>None</td>\n",
       "      <td>None</td>\n",
       "      <td>4</td>\n",
       "      <td>201</td>\n",
       "      <td>60</td>\n",
       "      <td>21</td>\n",
       "      <td>125</td>\n",
       "      <td>32</td>\n",
       "      <td>18</td>\n",
       "      <td>[/org/axonframework/monitoring -&gt; /org/axonframework/commandhandling/callbacks, /org/axonframework/queryhandling/annotation -&gt; /org/axonframework/commandhandling/callbacks, /org/axonframework/queryhandling/registration -&gt; /org/axonframework/commandhandling/callbacks, /org/axonframework/monitorin...</td>\n",
       "      <td>[axon-messaging-4.10.3 -&gt; axon-messaging-4.10.3]</td>\n",
       "      <td>[]</td>\n",
       "    </tr>\n",
       "    <tr>\n",
       "      <th>18</th>\n",
       "      <td>axon-messaging-4.10.3</td>\n",
       "      <td>None</td>\n",
       "      <td>None</td>\n",
       "      <td>False</td>\n",
       "      <td>None</td>\n",
       "      <td>None</td>\n",
       "      <td>5</td>\n",
       "      <td>7</td>\n",
       "      <td>3</td>\n",
       "      <td>5</td>\n",
       "      <td>7</td>\n",
       "      <td>3</td>\n",
       "      <td>5</td>\n",
       "      <td>[/org/axonframework/lifecycle -&gt; /org/axonframework/commandhandling/callbacks, /org/axonframework/commandhandling/callbacks -&gt; /org/axonframework/common/property, /org/axonframework/commandhandling/distributed/commandfilter -&gt; /org/axonframework/common/property, /org/axonframework/lifecycle -&gt; /...</td>\n",
       "      <td>[axon-messaging-4.10.3 -&gt; axon-messaging-4.10.3]</td>\n",
       "      <td>[]</td>\n",
       "    </tr>\n",
       "    <tr>\n",
       "      <th>19</th>\n",
       "      <td>axon-modelling-4.10.3</td>\n",
       "      <td>None</td>\n",
       "      <td>None</td>\n",
       "      <td>False</td>\n",
       "      <td>None</td>\n",
       "      <td>None</td>\n",
       "      <td>1</td>\n",
       "      <td>746</td>\n",
       "      <td>108</td>\n",
       "      <td>101</td>\n",
       "      <td>18</td>\n",
       "      <td>10</td>\n",
       "      <td>6</td>\n",
       "      <td>[/org/axonframework/modelling/command/inspection -&gt; /org/axonframework/modelling/command, /org/axonframework/modelling/command/legacyjpa -&gt; /org/axonframework/modelling/command, /org/axonframework/modelling/command -&gt; /org/axonframework/modelling/command/inspection, /org/axonframework/modelling/...</td>\n",
       "      <td>[axon-modelling-4.10.3 -&gt; axon-modelling-4.10.3]</td>\n",
       "      <td>[]</td>\n",
       "    </tr>\n",
       "  </tbody>\n",
       "</table>\n",
       "</div>"
      ],
      "text/plain": [
       "                sourceProject sourceScan sourceRootProject  \\\n",
       "6   axon-eventsourcing-4.10.3       None              None   \n",
       "7   axon-eventsourcing-4.10.3       None              None   \n",
       "8   axon-eventsourcing-4.10.3       None              None   \n",
       "9   axon-eventsourcing-4.10.3       None              None   \n",
       "14      axon-messaging-4.10.3       None              None   \n",
       "15      axon-messaging-4.10.3       None              None   \n",
       "16      axon-messaging-4.10.3       None              None   \n",
       "17      axon-messaging-4.10.3       None              None   \n",
       "18      axon-messaging-4.10.3       None              None   \n",
       "19      axon-modelling-4.10.3       None              None   \n",
       "\n",
       "    isDifferentTargetProject isDifferentTargetScan  \\\n",
       "6                      False                  None   \n",
       "7                      False                  None   \n",
       "8                      False                  None   \n",
       "9                      False                  None   \n",
       "14                     False                  None   \n",
       "15                     False                  None   \n",
       "16                     False                  None   \n",
       "17                     False                  None   \n",
       "18                     False                  None   \n",
       "19                     False                  None   \n",
       "\n",
       "   isDifferentTargetRootProject  distance  distanceTotalPairCount  \\\n",
       "6                          None         1                     746   \n",
       "7                          None         2                    1567   \n",
       "8                          None         3                    1127   \n",
       "9                          None         4                     201   \n",
       "14                         None         1                     746   \n",
       "15                         None         2                    1567   \n",
       "16                         None         3                    1127   \n",
       "17                         None         4                     201   \n",
       "18                         None         5                       7   \n",
       "19                         None         1                     746   \n",
       "\n",
       "    distanceTotalSourceCount  distanceTotalTargetCount  pairCount  \\\n",
       "6                        108                       101         15   \n",
       "7                         99                        86         11   \n",
       "8                         95                        60          5   \n",
       "9                         60                        21          1   \n",
       "14                       108                       101        300   \n",
       "15                        99                        86        563   \n",
       "16                        95                        60        450   \n",
       "17                        60                        21        125   \n",
       "18                         3                         5          7   \n",
       "19                       108                       101         18   \n",
       "\n",
       "    sourceNodeCount  targetNodeCount  \\\n",
       "6                 8                7   \n",
       "7                 8                4   \n",
       "8                 5                2   \n",
       "9                 1                1   \n",
       "14               59               41   \n",
       "15               51               30   \n",
       "16               51               26   \n",
       "17               32               18   \n",
       "18                3                5   \n",
       "19               10                6   \n",
       "\n",
       "                                                                                                                                                                                                                                                                                                       examples  \\\n",
       "6   [/org/axonframework/eventsourcing/eventstore -> /org/axonframework/eventsourcing, /org/axonframework/eventsourcing -> /org/axonframework/eventsourcing/conflictresolution, /org/axonframework/eventsourcing -> /org/axonframework/eventsourcing/eventstore, /org/axonframework/eventsourcing/conflictres...   \n",
       "7   [/org/axonframework/eventsourcing/conflictresolution -> /org/axonframework/eventsourcing, /org/axonframework/eventsourcing/eventstore/inmemory -> /org/axonframework/eventsourcing, /org/axonframework/eventsourcing/eventstore/jdbc -> /org/axonframework/eventsourcing, /org/axonframework/eventsourci...   \n",
       "8   [/org/axonframework/eventsourcing/eventstore/jdbc/statements -> /org/axonframework/eventsourcing, /org/axonframework/eventsourcing/eventstore/inmemory -> /org/axonframework/eventsourcing/conflictresolution, /org/axonframework/eventsourcing/eventstore/jdbc -> /org/axonframework/eventsourcing/conf...   \n",
       "9                                                                                                                                                                                          [/org/axonframework/eventsourcing/eventstore/jdbc/statements -> /org/axonframework/eventsourcing/conflictresolution]   \n",
       "14                       [/org/axonframework/serialization -> /org/axonframework/commandhandling, /org/axonframework/tracing -> /org/axonframework/commandhandling, /org/axonframework/tracing/attributes -> /org/axonframework/commandhandling, /org/axonframework/util -> /org/axonframework/commandhandling]   \n",
       "15  [/org/axonframework/queryhandling -> /org/axonframework/commandhandling, /org/axonframework/serialization/converters -> /org/axonframework/commandhandling, /org/axonframework/serialization/json -> /org/axonframework/commandhandling, /org/axonframework/serialization/upcasting/event -> /org/axonfr...   \n",
       "16  [/org/axonframework/monitoring -> /org/axonframework/commandhandling, /org/axonframework/queryhandling/annotation -> /org/axonframework/commandhandling, /org/axonframework/queryhandling/registration -> /org/axonframework/commandhandling, /org/axonframework/queryhandling -> /org/axonframework/com...   \n",
       "17  [/org/axonframework/monitoring -> /org/axonframework/commandhandling/callbacks, /org/axonframework/queryhandling/annotation -> /org/axonframework/commandhandling/callbacks, /org/axonframework/queryhandling/registration -> /org/axonframework/commandhandling/callbacks, /org/axonframework/monitorin...   \n",
       "18  [/org/axonframework/lifecycle -> /org/axonframework/commandhandling/callbacks, /org/axonframework/commandhandling/callbacks -> /org/axonframework/common/property, /org/axonframework/commandhandling/distributed/commandfilter -> /org/axonframework/common/property, /org/axonframework/lifecycle -> /...   \n",
       "19  [/org/axonframework/modelling/command/inspection -> /org/axonframework/modelling/command, /org/axonframework/modelling/command/legacyjpa -> /org/axonframework/modelling/command, /org/axonframework/modelling/command -> /org/axonframework/modelling/command/inspection, /org/axonframework/modelling/...   \n",
       "\n",
       "                                             exampleProjects exampleScans  \n",
       "6   [axon-eventsourcing-4.10.3 -> axon-eventsourcing-4.10.3]           []  \n",
       "7   [axon-eventsourcing-4.10.3 -> axon-eventsourcing-4.10.3]           []  \n",
       "8   [axon-eventsourcing-4.10.3 -> axon-eventsourcing-4.10.3]           []  \n",
       "9   [axon-eventsourcing-4.10.3 -> axon-eventsourcing-4.10.3]           []  \n",
       "14          [axon-messaging-4.10.3 -> axon-messaging-4.10.3]           []  \n",
       "15          [axon-messaging-4.10.3 -> axon-messaging-4.10.3]           []  \n",
       "16          [axon-messaging-4.10.3 -> axon-messaging-4.10.3]           []  \n",
       "17          [axon-messaging-4.10.3 -> axon-messaging-4.10.3]           []  \n",
       "18          [axon-messaging-4.10.3 -> axon-messaging-4.10.3]           []  \n",
       "19          [axon-modelling-4.10.3 -> axon-modelling-4.10.3]           []  "
      ]
     },
     "execution_count": 29,
     "metadata": {},
     "output_type": "execute_result"
    }
   ],
   "source": [
    "all_pairs_shortest_paths_distribution_per_artifact_isolated=all_pairs_shortest_paths_distribution_per_artifact.query('isDifferentTargetProject == False')\n",
    "all_pairs_shortest_paths_distribution_per_artifact_isolated.head(10)"
   ]
  },
  {
   "cell_type": "markdown",
   "id": "c400fc8c",
   "metadata": {},
   "source": [
    "#### All pairs shortest path for each artifact - Longest shortest path (Diameter) for each artifact\n",
    "\n",
    "Shows the top 20 artifacts with the longest shortest path (=Graph Diameter)."
   ]
  },
  {
   "cell_type": "code",
   "execution_count": 30,
   "id": "3bc3b27d",
   "metadata": {
    "execution": {
     "iopub.execute_input": "2025-01-19T19:34:05.087691Z",
     "iopub.status.busy": "2025-01-19T19:34:05.087556Z",
     "iopub.status.idle": "2025-01-19T19:34:05.091762Z",
     "shell.execute_reply": "2025-01-19T19:34:05.091336Z"
    }
   },
   "outputs": [
    {
     "data": {
      "text/plain": [
       "sourceProject\n",
       "axon-messaging-4.10.3                    5\n",
       "axon-eventsourcing-4.10.3                4\n",
       "axon-server-connector-4.10.3             3\n",
       "axon-spring-boot-autoconfigure-4.10.3    3\n",
       "axon-modelling-4.10.3                    2\n",
       "axon-test-4.10.3                         1\n",
       "Name: distance, dtype: int64"
      ]
     },
     "execution_count": 30,
     "metadata": {},
     "output_type": "execute_result"
    }
   ],
   "source": [
    "graph_diameter_per_artifact = get_longest_path_for_column('sourceProject', all_pairs_shortest_paths_distribution_per_artifact_isolated)\n",
    "graph_diameter_per_artifact.head(20)"
   ]
  },
  {
   "cell_type": "code",
   "execution_count": 31,
   "id": "0c65fd16",
   "metadata": {
    "execution": {
     "iopub.execute_input": "2025-01-19T19:34:05.093457Z",
     "iopub.status.busy": "2025-01-19T19:34:05.093310Z",
     "iopub.status.idle": "2025-01-19T19:34:05.213954Z",
     "shell.execute_reply": "2025-01-19T19:34:05.213542Z"
    }
   },
   "outputs": [
    {
     "data": {
      "image/png": "[encoded data removed]",
      "text/plain": [
       "<Figure size 1000x600 with 1 Axes>"
      ]
     },
     "metadata": {},
     "output_type": "display_data"
    }
   ],
   "source": [
    "plot_longest_distance_for_each_row(\n",
    "    data_frame=graph_diameter_per_artifact,\n",
    "    title='Longest shortest path (\"diameter\") for Java package dependencies per artifact',\n",
    "    xlabel='Artifact',\n",
    "    ylabel='longest path length'\n",
    ")"
   ]
  },
  {
   "cell_type": "markdown",
   "id": "1138de0c",
   "metadata": {},
   "source": [
    "#### All pairs shortest path for each artifact - Bar chart (absolute)"
   ]
  },
  {
   "cell_type": "code",
   "execution_count": 32,
   "id": "7b90cfbc",
   "metadata": {
    "execution": {
     "iopub.execute_input": "2025-01-19T19:34:05.215897Z",
     "iopub.status.busy": "2025-01-19T19:34:05.215581Z",
     "iopub.status.idle": "2025-01-19T19:34:05.220283Z",
     "shell.execute_reply": "2025-01-19T19:34:05.219934Z"
    }
   },
   "outputs": [],
   "source": [
    "all_pairs_shortest_paths_distribution_per_artifact_isolated_pivot = get_distance_distribution_for_each('sourceProject', all_pairs_shortest_paths_distribution_per_artifact_isolated)"
   ]
  },
  {
   "cell_type": "code",
   "execution_count": 33,
   "id": "ebeaf685",
   "metadata": {
    "execution": {
     "iopub.execute_input": "2025-01-19T19:34:05.222226Z",
     "iopub.status.busy": "2025-01-19T19:34:05.221942Z",
     "iopub.status.idle": "2025-01-19T19:34:05.482486Z",
     "shell.execute_reply": "2025-01-19T19:34:05.481997Z"
    }
   },
   "outputs": [
    {
     "data": {
      "text/plain": [
       "<Figure size 640x480 with 0 Axes>"
      ]
     },
     "metadata": {},
     "output_type": "display_data"
    },
    {
     "data": {
      "image/png": "[encoded data removed]",
      "text/plain": [
       "<Figure size 1000x600 with 1 Axes>"
      ]
     },
     "metadata": {},
     "output_type": "display_data"
    }
   ],
   "source": [
    "plot_stacked_distances_for_each_row(\n",
    "    data_frame=all_pairs_shortest_paths_distribution_per_artifact_isolated_pivot,\n",
    "    title='All pairs shortest path for Java package dependencies stacked per artifact (absolute, logarithmic)',\n",
    "    xlabel='Artifact',\n",
    "    ylabel='Java package paths',\n",
    "    logy=True\n",
    ")"
   ]
  },
  {
   "cell_type": "markdown",
   "id": "d5f8f817",
   "metadata": {},
   "source": [
    "#### All pairs shortest path for each artifact - Bar chart (normalized)\n",
    "\n",
    "Shows the top 50 artifacts with the highest number of dependency paths stacked by their length."
   ]
  },
  {
   "cell_type": "code",
   "execution_count": 34,
   "id": "533d1b9d",
   "metadata": {
    "execution": {
     "iopub.execute_input": "2025-01-19T19:34:05.484379Z",
     "iopub.status.busy": "2025-01-19T19:34:05.484235Z",
     "iopub.status.idle": "2025-01-19T19:34:05.490845Z",
     "shell.execute_reply": "2025-01-19T19:34:05.490491Z"
    }
   },
   "outputs": [
    {
     "data": {
      "text/html": [
       "<div>\n",
       "<style scoped>\n",
       "    .dataframe tbody tr th:only-of-type {\n",
       "        vertical-align: middle;\n",
       "    }\n",
       "\n",
       "    .dataframe tbody tr th {\n",
       "        vertical-align: top;\n",
       "    }\n",
       "\n",
       "    .dataframe thead th {\n",
       "        text-align: right;\n",
       "    }\n",
       "</style>\n",
       "<table border=\"1\" class=\"dataframe\">\n",
       "  <thead>\n",
       "    <tr style=\"text-align: right;\">\n",
       "      <th>distance</th>\n",
       "      <th>1</th>\n",
       "      <th>2</th>\n",
       "      <th>3</th>\n",
       "      <th>4</th>\n",
       "      <th>5</th>\n",
       "    </tr>\n",
       "    <tr>\n",
       "      <th>sourceProject</th>\n",
       "      <th></th>\n",
       "      <th></th>\n",
       "      <th></th>\n",
       "      <th></th>\n",
       "      <th></th>\n",
       "    </tr>\n",
       "  </thead>\n",
       "  <tbody>\n",
       "    <tr>\n",
       "      <th>axon-messaging-4.10.3</th>\n",
       "      <td>20.761246</td>\n",
       "      <td>38.961938</td>\n",
       "      <td>31.141869</td>\n",
       "      <td>8.650519</td>\n",
       "      <td>0.484429</td>\n",
       "    </tr>\n",
       "    <tr>\n",
       "      <th>axon-server-connector-4.10.3</th>\n",
       "      <td>34.146341</td>\n",
       "      <td>46.341463</td>\n",
       "      <td>19.512195</td>\n",
       "      <td>0.000000</td>\n",
       "      <td>0.000000</td>\n",
       "    </tr>\n",
       "    <tr>\n",
       "      <th>axon-eventsourcing-4.10.3</th>\n",
       "      <td>46.875000</td>\n",
       "      <td>34.375000</td>\n",
       "      <td>15.625000</td>\n",
       "      <td>3.125000</td>\n",
       "      <td>0.000000</td>\n",
       "    </tr>\n",
       "    <tr>\n",
       "      <th>axon-modelling-4.10.3</th>\n",
       "      <td>81.818182</td>\n",
       "      <td>18.181818</td>\n",
       "      <td>0.000000</td>\n",
       "      <td>0.000000</td>\n",
       "      <td>0.000000</td>\n",
       "    </tr>\n",
       "    <tr>\n",
       "      <th>axon-spring-boot-autoconfigure-4.10.3</th>\n",
       "      <td>68.750000</td>\n",
       "      <td>25.000000</td>\n",
       "      <td>6.250000</td>\n",
       "      <td>0.000000</td>\n",
       "      <td>0.000000</td>\n",
       "    </tr>\n",
       "    <tr>\n",
       "      <th>axon-test-4.10.3</th>\n",
       "      <td>100.000000</td>\n",
       "      <td>0.000000</td>\n",
       "      <td>0.000000</td>\n",
       "      <td>0.000000</td>\n",
       "      <td>0.000000</td>\n",
       "    </tr>\n",
       "  </tbody>\n",
       "</table>\n",
       "</div>"
      ],
      "text/plain": [
       "distance                                        1          2          3  \\\n",
       "sourceProject                                                             \n",
       "axon-messaging-4.10.3                   20.761246  38.961938  31.141869   \n",
       "axon-server-connector-4.10.3            34.146341  46.341463  19.512195   \n",
       "axon-eventsourcing-4.10.3               46.875000  34.375000  15.625000   \n",
       "axon-modelling-4.10.3                   81.818182  18.181818   0.000000   \n",
       "axon-spring-boot-autoconfigure-4.10.3   68.750000  25.000000   6.250000   \n",
       "axon-test-4.10.3                       100.000000   0.000000   0.000000   \n",
       "\n",
       "distance                                      4         5  \n",
       "sourceProject                                              \n",
       "axon-messaging-4.10.3                  8.650519  0.484429  \n",
       "axon-server-connector-4.10.3           0.000000  0.000000  \n",
       "axon-eventsourcing-4.10.3              3.125000  0.000000  \n",
       "axon-modelling-4.10.3                  0.000000  0.000000  \n",
       "axon-spring-boot-autoconfigure-4.10.3  0.000000  0.000000  \n",
       "axon-test-4.10.3                       0.000000  0.000000  "
      ]
     },
     "execution_count": 34,
     "metadata": {},
     "output_type": "execute_result"
    }
   ],
   "source": [
    "# Normalize data (percent of sum pairs)\n",
    "all_pairs_shortest_paths_distribution_per_artifact_isolated_normalized_pivot=normalize_distance_distribution_for_each_row(all_pairs_shortest_paths_distribution_per_artifact_isolated_pivot)\n",
    "all_pairs_shortest_paths_distribution_per_artifact_isolated_normalized_pivot.head(50)"
   ]
  },
  {
   "cell_type": "code",
   "execution_count": 35,
   "id": "2721c41d",
   "metadata": {
    "execution": {
     "iopub.execute_input": "2025-01-19T19:34:05.492456Z",
     "iopub.status.busy": "2025-01-19T19:34:05.492306Z",
     "iopub.status.idle": "2025-01-19T19:34:05.709426Z",
     "shell.execute_reply": "2025-01-19T19:34:05.708972Z"
    }
   },
   "outputs": [
    {
     "data": {
      "text/plain": [
       "<Figure size 640x480 with 0 Axes>"
      ]
     },
     "metadata": {},
     "output_type": "display_data"
    },
    {
     "data": {
      "image/png": "[encoded data removed]",
      "text/plain": [
       "<Figure size 1000x600 with 1 Axes>"
      ]
     },
     "metadata": {},
     "output_type": "display_data"
    }
   ],
   "source": [
    "plot_stacked_distances_for_each_row(\n",
    "    data_frame=all_pairs_shortest_paths_distribution_per_artifact_isolated_normalized_pivot.head(50),\n",
    "    title='All pairs shortest path for Java package dependencies stacked per artifact (normalized in %)',\n",
    "    xlabel='Artifact',\n",
    "    ylabel='Java package paths'\n",
    ")"
   ]
  },
  {
   "cell_type": "markdown",
   "id": "37da9d90",
   "metadata": {},
   "source": [
    "## 1.2 Longest path\n",
    "\n",
    "Use [Longest Path](https://neo4j.com/docs/graph-data-science/current/algorithms/dag/longest-path) algorithm to get the longest paths between Java packages. It is typically higher than the longest shortest path (diameter) and helps together with it to get a good overview of the complexity.\n",
    "\n",
    "**Note:** This algorithm requires a Directed Acyclic Graph (DAG) and will lead to inaccurate results when the Graph contains cycles."
   ]
  },
  {
   "cell_type": "markdown",
   "id": "e9f9b8bb",
   "metadata": {},
   "source": [
    "### 1.2.1 Longest path in total\n",
    "\n",
    "First, we'll have a look at the overall/total result of the longest path algorithm for all dependencies."
   ]
  },
  {
   "cell_type": "code",
   "execution_count": 36,
   "id": "8b43628b",
   "metadata": {
    "execution": {
     "iopub.execute_input": "2025-01-19T19:34:05.711766Z",
     "iopub.status.busy": "2025-01-19T19:34:05.711465Z",
     "iopub.status.idle": "2025-01-19T19:34:05.751529Z",
     "shell.execute_reply": "2025-01-19T19:34:05.751108Z"
    }
   },
   "outputs": [],
   "source": [
    "# Execute algorithm \"longest path (for directed acyclic graphs)\" and query overall and artifact specific results\n",
    "longest_paths_distribution_per_artifact=query_if_data_available(is_package_data_available, \"../cypher/Path_Finding/Path_Finding_6_Longest_paths_distribution_per_project.cypher\", package_path_finding_parameters)"
   ]
  },
  {
   "cell_type": "markdown",
   "id": "eaa7ae83",
   "metadata": {},
   "source": [
    "#### Longest path in total - Max longest path"
   ]
  },
  {
   "cell_type": "code",
   "execution_count": 37,
   "id": "6aef9c47",
   "metadata": {
    "execution": {
     "iopub.execute_input": "2025-01-19T19:34:05.753892Z",
     "iopub.status.busy": "2025-01-19T19:34:05.753538Z",
     "iopub.status.idle": "2025-01-19T19:34:05.756472Z",
     "shell.execute_reply": "2025-01-19T19:34:05.756044Z"
    }
   },
   "outputs": [
    {
     "name": "stdout",
     "output_type": "stream",
     "text": [
      "The max. longest path of the projected package dependencies is: 4\n"
     ]
    }
   ],
   "source": [
    "package_dependencies_max_longest_path=longest_paths_distribution_per_artifact['distance'].max()\n",
    "print('The max. longest path of the projected package dependencies is:', package_dependencies_max_longest_path)"
   ]
  },
  {
   "cell_type": "markdown",
   "id": "3cf188a8",
   "metadata": {},
   "source": [
    "#### Longest path in total - Paths per length - Table"
   ]
  },
  {
   "cell_type": "code",
   "execution_count": 38,
   "id": "4141d7d8",
   "metadata": {
    "execution": {
     "iopub.execute_input": "2025-01-19T19:34:05.758157Z",
     "iopub.status.busy": "2025-01-19T19:34:05.758018Z",
     "iopub.status.idle": "2025-01-19T19:34:05.764503Z",
     "shell.execute_reply": "2025-01-19T19:34:05.764098Z"
    }
   },
   "outputs": [
    {
     "data": {
      "text/html": [
       "<div>\n",
       "<style scoped>\n",
       "    .dataframe tbody tr th:only-of-type {\n",
       "        vertical-align: middle;\n",
       "    }\n",
       "\n",
       "    .dataframe tbody tr th {\n",
       "        vertical-align: top;\n",
       "    }\n",
       "\n",
       "    .dataframe thead th {\n",
       "        text-align: right;\n",
       "    }\n",
       "</style>\n",
       "<table border=\"1\" class=\"dataframe\">\n",
       "  <thead>\n",
       "    <tr style=\"text-align: right;\">\n",
       "      <th></th>\n",
       "      <th>index</th>\n",
       "      <th>distance</th>\n",
       "      <th>distanceTotalPairCount</th>\n",
       "      <th>distanceTotalSourceCount</th>\n",
       "      <th>distanceTotalTargetCount</th>\n",
       "    </tr>\n",
       "  </thead>\n",
       "  <tbody>\n",
       "    <tr>\n",
       "      <th>0</th>\n",
       "      <td>0</td>\n",
       "      <td>1</td>\n",
       "      <td>13</td>\n",
       "      <td>5</td>\n",
       "      <td>13</td>\n",
       "    </tr>\n",
       "    <tr>\n",
       "      <th>1</th>\n",
       "      <td>2</td>\n",
       "      <td>2</td>\n",
       "      <td>39</td>\n",
       "      <td>3</td>\n",
       "      <td>39</td>\n",
       "    </tr>\n",
       "    <tr>\n",
       "      <th>2</th>\n",
       "      <td>5</td>\n",
       "      <td>3</td>\n",
       "      <td>18</td>\n",
       "      <td>2</td>\n",
       "      <td>18</td>\n",
       "    </tr>\n",
       "    <tr>\n",
       "      <th>3</th>\n",
       "      <td>9</td>\n",
       "      <td>4</td>\n",
       "      <td>11</td>\n",
       "      <td>2</td>\n",
       "      <td>11</td>\n",
       "    </tr>\n",
       "  </tbody>\n",
       "</table>\n",
       "</div>"
      ],
      "text/plain": [
       "   index  distance  distanceTotalPairCount  distanceTotalSourceCount  \\\n",
       "0      0         1                      13                         5   \n",
       "1      2         2                      39                         3   \n",
       "2      5         3                      18                         2   \n",
       "3      9         4                      11                         2   \n",
       "\n",
       "   distanceTotalTargetCount  \n",
       "0                        13  \n",
       "1                        39  \n",
       "2                        18  \n",
       "3                        11  "
      ]
     },
     "execution_count": 38,
     "metadata": {},
     "output_type": "execute_result"
    }
   ],
   "source": [
    "# First, display only the overall/total distances, their pair count and the count of the distinct source and target nodes\n",
    "longest_paths_distribution_per_artifact_in_total=get_total_distance_distribution(longest_paths_distribution_per_artifact)\n",
    "longest_paths_distribution_per_artifact_in_total.head(50)"
   ]
  },
  {
   "cell_type": "markdown",
   "id": "46544c70",
   "metadata": {},
   "source": [
    "#### Longest path in total - Path count per length - Bar chart"
   ]
  },
  {
   "cell_type": "code",
   "execution_count": 39,
   "id": "9db65656",
   "metadata": {
    "execution": {
     "iopub.execute_input": "2025-01-19T19:34:05.766311Z",
     "iopub.status.busy": "2025-01-19T19:34:05.766164Z",
     "iopub.status.idle": "2025-01-19T19:34:05.886839Z",
     "shell.execute_reply": "2025-01-19T19:34:05.886362Z"
    }
   },
   "outputs": [
    {
     "data": {
      "image/png": "[encoded data removed]",
      "text/plain": [
       "<Figure size 900x700 with 1 Axes>"
      ]
     },
     "metadata": {},
     "output_type": "display_data"
    }
   ],
   "source": [
    "plot_total_distances_bar_chart(\n",
    "    data_frame=longest_paths_distribution_per_artifact_in_total, \n",
    "    title='Longest path for Java package dependencies in total (bar)',\n",
    "    ylabel='total number of Java package paths'\n",
    ")"
   ]
  },
  {
   "cell_type": "markdown",
   "id": "f4962464",
   "metadata": {},
   "source": [
    "#### Longest path in total - Path count per length - Pie chart"
   ]
  },
  {
   "cell_type": "code",
   "execution_count": 40,
   "id": "cf2efa87",
   "metadata": {
    "execution": {
     "iopub.execute_input": "2025-01-19T19:34:05.888582Z",
     "iopub.status.busy": "2025-01-19T19:34:05.888440Z",
     "iopub.status.idle": "2025-01-19T19:34:05.981984Z",
     "shell.execute_reply": "2025-01-19T19:34:05.981624Z"
    }
   },
   "outputs": [
    {
     "data": {
      "text/plain": [
       "<Figure size 640x480 with 0 Axes>"
      ]
     },
     "metadata": {},
     "output_type": "display_data"
    },
    {
     "data": {
      "image/png": "[encoded data removed]",
      "text/plain": [
       "<Figure size 800x800 with 1 Axes>"
      ]
     },
     "metadata": {},
     "output_type": "display_data"
    }
   ],
   "source": [
    "plot_total_distances_pie_chart(\n",
    "    data_frame=longest_paths_distribution_per_artifact_in_total,\n",
    "    title='Longest path for Java package dependencies in total (pie)',\n",
    "    ylabel='total number of Java package paths'\n",
    ")"
   ]
  },
  {
   "cell_type": "markdown",
   "id": "d53beaf7",
   "metadata": {},
   "source": [
    "### 1.2.2 Longest path in detail\n",
    "\n",
    "The following table shows the first 10 rows with all details of the query above. It contains the results of the \"longest path\" algorithm including the artifact the source node belongs to and if the target node is in the same artifact or not. The main intuition is to show how the data is structured. It provides the basis for tables and charts shown in following sections below, that filter and group the data accordingly."
   ]
  },
  {
   "cell_type": "code",
   "execution_count": 41,
   "id": "cdea2997",
   "metadata": {
    "execution": {
     "iopub.execute_input": "2025-01-19T19:34:05.983800Z",
     "iopub.status.busy": "2025-01-19T19:34:05.983542Z",
     "iopub.status.idle": "2025-01-19T19:34:05.995180Z",
     "shell.execute_reply": "2025-01-19T19:34:05.994771Z"
    }
   },
   "outputs": [
    {
     "data": {
      "text/html": [
       "<div>\n",
       "<style scoped>\n",
       "    .dataframe tbody tr th:only-of-type {\n",
       "        vertical-align: middle;\n",
       "    }\n",
       "\n",
       "    .dataframe tbody tr th {\n",
       "        vertical-align: top;\n",
       "    }\n",
       "\n",
       "    .dataframe thead th {\n",
       "        text-align: right;\n",
       "    }\n",
       "</style>\n",
       "<table border=\"1\" class=\"dataframe\">\n",
       "  <thead>\n",
       "    <tr style=\"text-align: right;\">\n",
       "      <th></th>\n",
       "      <th>sourceProject</th>\n",
       "      <th>sourceScan</th>\n",
       "      <th>sourceRootProject</th>\n",
       "      <th>isDifferentTargetProject</th>\n",
       "      <th>isDifferentTargetScan</th>\n",
       "      <th>isDifferentTargetRootProject</th>\n",
       "      <th>distance</th>\n",
       "      <th>distanceTotalPairCount</th>\n",
       "      <th>distanceTotalSourceCount</th>\n",
       "      <th>distanceTotalTargetCount</th>\n",
       "      <th>pairCount</th>\n",
       "      <th>sourceNodeCount</th>\n",
       "      <th>targetNodeCount</th>\n",
       "      <th>examples</th>\n",
       "      <th>exampleProjects</th>\n",
       "      <th>exampleScans</th>\n",
       "    </tr>\n",
       "  </thead>\n",
       "  <tbody>\n",
       "    <tr>\n",
       "      <th>0</th>\n",
       "      <td>axon-modelling-4.10.3</td>\n",
       "      <td>None</td>\n",
       "      <td>None</td>\n",
       "      <td>True</td>\n",
       "      <td>None</td>\n",
       "      <td>None</td>\n",
       "      <td>1</td>\n",
       "      <td>13</td>\n",
       "      <td>5</td>\n",
       "      <td>13</td>\n",
       "      <td>1</td>\n",
       "      <td>1</td>\n",
       "      <td>1</td>\n",
       "      <td>[/org/axonframework/modelling/command/legacyjpa -&gt; /org/axonframework/common/lock]</td>\n",
       "      <td>[axon-modelling-4.10.3 -&gt; axon-messaging-4.10.3]</td>\n",
       "      <td>[]</td>\n",
       "    </tr>\n",
       "    <tr>\n",
       "      <th>1</th>\n",
       "      <td>axon-server-connector-4.10.3</td>\n",
       "      <td>None</td>\n",
       "      <td>None</td>\n",
       "      <td>False</td>\n",
       "      <td>None</td>\n",
       "      <td>None</td>\n",
       "      <td>1</td>\n",
       "      <td>13</td>\n",
       "      <td>5</td>\n",
       "      <td>13</td>\n",
       "      <td>1</td>\n",
       "      <td>1</td>\n",
       "      <td>1</td>\n",
       "      <td>[/org/axonframework/axonserver/connector/heartbeat/source -&gt; /org/axonframework/axonserver/connector/heartbeat]</td>\n",
       "      <td>[axon-server-connector-4.10.3 -&gt; axon-server-connector-4.10.3]</td>\n",
       "      <td>[]</td>\n",
       "    </tr>\n",
       "    <tr>\n",
       "      <th>2</th>\n",
       "      <td>axon-server-connector-4.10.3</td>\n",
       "      <td>None</td>\n",
       "      <td>None</td>\n",
       "      <td>False</td>\n",
       "      <td>None</td>\n",
       "      <td>None</td>\n",
       "      <td>2</td>\n",
       "      <td>39</td>\n",
       "      <td>3</td>\n",
       "      <td>39</td>\n",
       "      <td>1</td>\n",
       "      <td>1</td>\n",
       "      <td>1</td>\n",
       "      <td>[/org/axonframework/axonserver/connector/heartbeat/source -&gt; /org/axonframework/axonserver/connector/util]</td>\n",
       "      <td>[axon-server-connector-4.10.3 -&gt; axon-server-connector-4.10.3]</td>\n",
       "      <td>[]</td>\n",
       "    </tr>\n",
       "    <tr>\n",
       "      <th>3</th>\n",
       "      <td>axon-spring-boot-autoconfigure-4.10.3</td>\n",
       "      <td>None</td>\n",
       "      <td>None</td>\n",
       "      <td>False</td>\n",
       "      <td>None</td>\n",
       "      <td>None</td>\n",
       "      <td>1</td>\n",
       "      <td>13</td>\n",
       "      <td>5</td>\n",
       "      <td>13</td>\n",
       "      <td>2</td>\n",
       "      <td>1</td>\n",
       "      <td>2</td>\n",
       "      <td>[/org/axonframework/springboot/autoconfig/legacyjpa -&gt; /org/axonframework/springboot/util/legacyjpa, /org/axonframework/springboot/autoconfig/legacyjpa -&gt; /org/axonframework/springboot/autoconfig]</td>\n",
       "      <td>[axon-spring-boot-autoconfigure-4.10.3 -&gt; axon-spring-boot-autoconfigure-4.10.3]</td>\n",
       "      <td>[]</td>\n",
       "    </tr>\n",
       "    <tr>\n",
       "      <th>4</th>\n",
       "      <td>axon-spring-boot-autoconfigure-4.10.3</td>\n",
       "      <td>None</td>\n",
       "      <td>None</td>\n",
       "      <td>False</td>\n",
       "      <td>None</td>\n",
       "      <td>None</td>\n",
       "      <td>2</td>\n",
       "      <td>39</td>\n",
       "      <td>3</td>\n",
       "      <td>39</td>\n",
       "      <td>4</td>\n",
       "      <td>1</td>\n",
       "      <td>4</td>\n",
       "      <td>[/org/axonframework/springboot/autoconfig/legacyjpa -&gt; /org/axonframework/actuator/axonserver, /org/axonframework/springboot/autoconfig/legacyjpa -&gt; /org/axonframework/springboot/util, /org/axonframework/springboot/autoconfig/legacyjpa -&gt; /org/axonframework/springboot/util/jpa, /org/axonframewor...</td>\n",
       "      <td>[axon-spring-boot-autoconfigure-4.10.3 -&gt; axon-spring-boot-autoconfigure-4.10.3]</td>\n",
       "      <td>[]</td>\n",
       "    </tr>\n",
       "    <tr>\n",
       "      <th>5</th>\n",
       "      <td>axon-spring-boot-autoconfigure-4.10.3</td>\n",
       "      <td>None</td>\n",
       "      <td>None</td>\n",
       "      <td>False</td>\n",
       "      <td>None</td>\n",
       "      <td>None</td>\n",
       "      <td>3</td>\n",
       "      <td>18</td>\n",
       "      <td>2</td>\n",
       "      <td>18</td>\n",
       "      <td>2</td>\n",
       "      <td>1</td>\n",
       "      <td>2</td>\n",
       "      <td>[/org/axonframework/springboot/autoconfig/legacyjpa -&gt; /org/axonframework/actuator, /org/axonframework/springboot/autoconfig/legacyjpa -&gt; /org/axonframework/springboot]</td>\n",
       "      <td>[axon-spring-boot-autoconfigure-4.10.3 -&gt; axon-spring-boot-autoconfigure-4.10.3]</td>\n",
       "      <td>[]</td>\n",
       "    </tr>\n",
       "    <tr>\n",
       "      <th>6</th>\n",
       "      <td>axon-spring-boot-autoconfigure-4.10.3</td>\n",
       "      <td>None</td>\n",
       "      <td>None</td>\n",
       "      <td>True</td>\n",
       "      <td>None</td>\n",
       "      <td>None</td>\n",
       "      <td>1</td>\n",
       "      <td>13</td>\n",
       "      <td>5</td>\n",
       "      <td>13</td>\n",
       "      <td>4</td>\n",
       "      <td>1</td>\n",
       "      <td>4</td>\n",
       "      <td>[/org/axonframework/springboot/autoconfig/legacyjpa -&gt; /org/axonframework/eventhandling/deadletter/legacyjpa, /org/axonframework/springboot/autoconfig/legacyjpa -&gt; /org/axonframework/eventhandling/tokenstore/legacyjpa, /org/axonframework/springboot/autoconfig/legacyjpa -&gt; /org/axonframework/even...</td>\n",
       "      <td>[axon-spring-boot-autoconfigure-4.10.3 -&gt; axon-messaging-4.10.3, axon-spring-boot-autoconfigure-4.10.3 -&gt; axon-eventsourcing-4.10.3, axon-spring-boot-autoconfigure-4.10.3 -&gt; axon-modelling-4.10.3]</td>\n",
       "      <td>[]</td>\n",
       "    </tr>\n",
       "    <tr>\n",
       "      <th>7</th>\n",
       "      <td>axon-spring-boot-autoconfigure-4.10.3</td>\n",
       "      <td>None</td>\n",
       "      <td>None</td>\n",
       "      <td>True</td>\n",
       "      <td>None</td>\n",
       "      <td>None</td>\n",
       "      <td>2</td>\n",
       "      <td>39</td>\n",
       "      <td>3</td>\n",
       "      <td>39</td>\n",
       "      <td>33</td>\n",
       "      <td>1</td>\n",
       "      <td>33</td>\n",
       "      <td>[/org/axonframework/springboot/autoconfig/legacyjpa -&gt; /org/axonframework/axonserver/connector/query, /org/axonframework/springboot/autoconfig/legacyjpa -&gt; /org/axonframework/axonserver/connector/command, /org/axonframework/springboot/autoconfig/legacyjpa -&gt; /org/axonframework/axonserver/connect...</td>\n",
       "      <td>[axon-spring-boot-autoconfigure-4.10.3 -&gt; axon-server-connector-4.10.3, axon-spring-boot-autoconfigure-4.10.3 -&gt; axon-messaging-4.10.3, axon-spring-boot-autoconfigure-4.10.3 -&gt; axon-eventsourcing-4.10.3, axon-spring-boot-autoconfigure-4.10.3 -&gt; axon-modelling-4.10.3]</td>\n",
       "      <td>[]</td>\n",
       "    </tr>\n",
       "    <tr>\n",
       "      <th>8</th>\n",
       "      <td>axon-spring-boot-autoconfigure-4.10.3</td>\n",
       "      <td>None</td>\n",
       "      <td>None</td>\n",
       "      <td>True</td>\n",
       "      <td>None</td>\n",
       "      <td>None</td>\n",
       "      <td>3</td>\n",
       "      <td>18</td>\n",
       "      <td>2</td>\n",
       "      <td>18</td>\n",
       "      <td>13</td>\n",
       "      <td>1</td>\n",
       "      <td>13</td>\n",
       "      <td>[/org/axonframework/springboot/autoconfig/legacyjpa -&gt; /org/axonframework/axonserver/connector, /org/axonframework/springboot/autoconfig/legacyjpa -&gt; /org/axonframework/common/jdbc, /org/axonframework/springboot/autoconfig/legacyjpa -&gt; /org/axonframework/common/jpa, /org/axonframework/springboot...</td>\n",
       "      <td>[axon-spring-boot-autoconfigure-4.10.3 -&gt; axon-server-connector-4.10.3, axon-spring-boot-autoconfigure-4.10.3 -&gt; axon-messaging-4.10.3, axon-spring-boot-autoconfigure-4.10.3 -&gt; axon-modelling-4.10.3, axon-spring-boot-autoconfigure-4.10.3 -&gt; axon-test-4.10.3]</td>\n",
       "      <td>[]</td>\n",
       "    </tr>\n",
       "    <tr>\n",
       "      <th>9</th>\n",
       "      <td>axon-spring-boot-autoconfigure-4.10.3</td>\n",
       "      <td>None</td>\n",
       "      <td>None</td>\n",
       "      <td>True</td>\n",
       "      <td>None</td>\n",
       "      <td>None</td>\n",
       "      <td>4</td>\n",
       "      <td>11</td>\n",
       "      <td>2</td>\n",
       "      <td>11</td>\n",
       "      <td>8</td>\n",
       "      <td>1</td>\n",
       "      <td>8</td>\n",
       "      <td>[/org/axonframework/springboot/autoconfig/legacyjpa -&gt; /org/axonframework/config, /org/axonframework/springboot/autoconfig/legacyjpa -&gt; /org/axonframework/common/digest, /org/axonframework/springboot/autoconfig/legacyjpa -&gt; /org/axonframework/common/transaction, /org/axonframework/springboot/aut...</td>\n",
       "      <td>[axon-spring-boot-autoconfigure-4.10.3 -&gt; axon-configuration-4.10.3, axon-spring-boot-autoconfigure-4.10.3 -&gt; axon-messaging-4.10.3]</td>\n",
       "      <td>[]</td>\n",
       "    </tr>\n",
       "  </tbody>\n",
       "</table>\n",
       "</div>"
      ],
      "text/plain": [
       "                           sourceProject sourceScan sourceRootProject  \\\n",
       "0                  axon-modelling-4.10.3       None              None   \n",
       "1           axon-server-connector-4.10.3       None              None   \n",
       "2           axon-server-connector-4.10.3       None              None   \n",
       "3  axon-spring-boot-autoconfigure-4.10.3       None              None   \n",
       "4  axon-spring-boot-autoconfigure-4.10.3       None              None   \n",
       "5  axon-spring-boot-autoconfigure-4.10.3       None              None   \n",
       "6  axon-spring-boot-autoconfigure-4.10.3       None              None   \n",
       "7  axon-spring-boot-autoconfigure-4.10.3       None              None   \n",
       "8  axon-spring-boot-autoconfigure-4.10.3       None              None   \n",
       "9  axon-spring-boot-autoconfigure-4.10.3       None              None   \n",
       "\n",
       "   isDifferentTargetProject isDifferentTargetScan  \\\n",
       "0                      True                  None   \n",
       "1                     False                  None   \n",
       "2                     False                  None   \n",
       "3                     False                  None   \n",
       "4                     False                  None   \n",
       "5                     False                  None   \n",
       "6                      True                  None   \n",
       "7                      True                  None   \n",
       "8                      True                  None   \n",
       "9                      True                  None   \n",
       "\n",
       "  isDifferentTargetRootProject  distance  distanceTotalPairCount  \\\n",
       "0                         None         1                      13   \n",
       "1                         None         1                      13   \n",
       "2                         None         2                      39   \n",
       "3                         None         1                      13   \n",
       "4                         None         2                      39   \n",
       "5                         None         3                      18   \n",
       "6                         None         1                      13   \n",
       "7                         None         2                      39   \n",
       "8                         None         3                      18   \n",
       "9                         None         4                      11   \n",
       "\n",
       "   distanceTotalSourceCount  distanceTotalTargetCount  pairCount  \\\n",
       "0                         5                        13          1   \n",
       "1                         5                        13          1   \n",
       "2                         3                        39          1   \n",
       "3                         5                        13          2   \n",
       "4                         3                        39          4   \n",
       "5                         2                        18          2   \n",
       "6                         5                        13          4   \n",
       "7                         3                        39         33   \n",
       "8                         2                        18         13   \n",
       "9                         2                        11          8   \n",
       "\n",
       "   sourceNodeCount  targetNodeCount  \\\n",
       "0                1                1   \n",
       "1                1                1   \n",
       "2                1                1   \n",
       "3                1                2   \n",
       "4                1                4   \n",
       "5                1                2   \n",
       "6                1                4   \n",
       "7                1               33   \n",
       "8                1               13   \n",
       "9                1                8   \n",
       "\n",
       "                                                                                                                                                                                                                                                                                                      examples  \\\n",
       "0                                                                                                                                                                                                                           [/org/axonframework/modelling/command/legacyjpa -> /org/axonframework/common/lock]   \n",
       "1                                                                                                                                                                                              [/org/axonframework/axonserver/connector/heartbeat/source -> /org/axonframework/axonserver/connector/heartbeat]   \n",
       "2                                                                                                                                                                                                   [/org/axonframework/axonserver/connector/heartbeat/source -> /org/axonframework/axonserver/connector/util]   \n",
       "3                                                                                                         [/org/axonframework/springboot/autoconfig/legacyjpa -> /org/axonframework/springboot/util/legacyjpa, /org/axonframework/springboot/autoconfig/legacyjpa -> /org/axonframework/springboot/autoconfig]   \n",
       "4  [/org/axonframework/springboot/autoconfig/legacyjpa -> /org/axonframework/actuator/axonserver, /org/axonframework/springboot/autoconfig/legacyjpa -> /org/axonframework/springboot/util, /org/axonframework/springboot/autoconfig/legacyjpa -> /org/axonframework/springboot/util/jpa, /org/axonframewor...   \n",
       "5                                                                                                                                     [/org/axonframework/springboot/autoconfig/legacyjpa -> /org/axonframework/actuator, /org/axonframework/springboot/autoconfig/legacyjpa -> /org/axonframework/springboot]   \n",
       "6  [/org/axonframework/springboot/autoconfig/legacyjpa -> /org/axonframework/eventhandling/deadletter/legacyjpa, /org/axonframework/springboot/autoconfig/legacyjpa -> /org/axonframework/eventhandling/tokenstore/legacyjpa, /org/axonframework/springboot/autoconfig/legacyjpa -> /org/axonframework/even...   \n",
       "7  [/org/axonframework/springboot/autoconfig/legacyjpa -> /org/axonframework/axonserver/connector/query, /org/axonframework/springboot/autoconfig/legacyjpa -> /org/axonframework/axonserver/connector/command, /org/axonframework/springboot/autoconfig/legacyjpa -> /org/axonframework/axonserver/connect...   \n",
       "8  [/org/axonframework/springboot/autoconfig/legacyjpa -> /org/axonframework/axonserver/connector, /org/axonframework/springboot/autoconfig/legacyjpa -> /org/axonframework/common/jdbc, /org/axonframework/springboot/autoconfig/legacyjpa -> /org/axonframework/common/jpa, /org/axonframework/springboot...   \n",
       "9  [/org/axonframework/springboot/autoconfig/legacyjpa -> /org/axonframework/config, /org/axonframework/springboot/autoconfig/legacyjpa -> /org/axonframework/common/digest, /org/axonframework/springboot/autoconfig/legacyjpa -> /org/axonframework/common/transaction, /org/axonframework/springboot/aut...   \n",
       "\n",
       "                                                                                                                                                                                                                                                               exampleProjects  \\\n",
       "0                                                                                                                                                                                                                             [axon-modelling-4.10.3 -> axon-messaging-4.10.3]   \n",
       "1                                                                                                                                                                                                               [axon-server-connector-4.10.3 -> axon-server-connector-4.10.3]   \n",
       "2                                                                                                                                                                                                               [axon-server-connector-4.10.3 -> axon-server-connector-4.10.3]   \n",
       "3                                                                                                                                                                                             [axon-spring-boot-autoconfigure-4.10.3 -> axon-spring-boot-autoconfigure-4.10.3]   \n",
       "4                                                                                                                                                                                             [axon-spring-boot-autoconfigure-4.10.3 -> axon-spring-boot-autoconfigure-4.10.3]   \n",
       "5                                                                                                                                                                                             [axon-spring-boot-autoconfigure-4.10.3 -> axon-spring-boot-autoconfigure-4.10.3]   \n",
       "6                                                                         [axon-spring-boot-autoconfigure-4.10.3 -> axon-messaging-4.10.3, axon-spring-boot-autoconfigure-4.10.3 -> axon-eventsourcing-4.10.3, axon-spring-boot-autoconfigure-4.10.3 -> axon-modelling-4.10.3]   \n",
       "7  [axon-spring-boot-autoconfigure-4.10.3 -> axon-server-connector-4.10.3, axon-spring-boot-autoconfigure-4.10.3 -> axon-messaging-4.10.3, axon-spring-boot-autoconfigure-4.10.3 -> axon-eventsourcing-4.10.3, axon-spring-boot-autoconfigure-4.10.3 -> axon-modelling-4.10.3]   \n",
       "8           [axon-spring-boot-autoconfigure-4.10.3 -> axon-server-connector-4.10.3, axon-spring-boot-autoconfigure-4.10.3 -> axon-messaging-4.10.3, axon-spring-boot-autoconfigure-4.10.3 -> axon-modelling-4.10.3, axon-spring-boot-autoconfigure-4.10.3 -> axon-test-4.10.3]   \n",
       "9                                                                                                                                         [axon-spring-boot-autoconfigure-4.10.3 -> axon-configuration-4.10.3, axon-spring-boot-autoconfigure-4.10.3 -> axon-messaging-4.10.3]   \n",
       "\n",
       "  exampleScans  \n",
       "0           []  \n",
       "1           []  \n",
       "2           []  \n",
       "3           []  \n",
       "4           []  \n",
       "5           []  \n",
       "6           []  \n",
       "7           []  \n",
       "8           []  \n",
       "9           []  "
      ]
     },
     "execution_count": 41,
     "metadata": {},
     "output_type": "execute_result"
    }
   ],
   "source": [
    "longest_paths_distribution_per_artifact.head(10)"
   ]
  },
  {
   "cell_type": "markdown",
   "id": "9ec96376",
   "metadata": {},
   "source": [
    "### 1.2.3 Longest path for each artifact\n",
    "\n",
    "In this section we'll focus only on pairs of nodes that both belong to the same artifact, filtering out every line that has `isDifferentTargetProject==False`. The first ten rows are shown in a table followed by charts that show the distribution of longest path distances across different artifacts in stacked bar charts (absolute and normalized).\n",
    "\n",
    "**Note:** It is possible that a (longest) path could have nodes in between that belong to different artifacts. Therefore, the data of each artifact isn't perfectly isolated. However, it shows how the dependencies interact across artifacts \"in real life\" while still providing a decent isolation of each artifact."
   ]
  },
  {
   "cell_type": "code",
   "execution_count": 42,
   "id": "fb6e2ff7",
   "metadata": {
    "execution": {
     "iopub.execute_input": "2025-01-19T19:34:05.997169Z",
     "iopub.status.busy": "2025-01-19T19:34:05.996877Z",
     "iopub.status.idle": "2025-01-19T19:34:06.009525Z",
     "shell.execute_reply": "2025-01-19T19:34:06.009147Z"
    }
   },
   "outputs": [
    {
     "data": {
      "text/html": [
       "<div>\n",
       "<style scoped>\n",
       "    .dataframe tbody tr th:only-of-type {\n",
       "        vertical-align: middle;\n",
       "    }\n",
       "\n",
       "    .dataframe tbody tr th {\n",
       "        vertical-align: top;\n",
       "    }\n",
       "\n",
       "    .dataframe thead th {\n",
       "        text-align: right;\n",
       "    }\n",
       "</style>\n",
       "<table border=\"1\" class=\"dataframe\">\n",
       "  <thead>\n",
       "    <tr style=\"text-align: right;\">\n",
       "      <th></th>\n",
       "      <th>sourceProject</th>\n",
       "      <th>sourceScan</th>\n",
       "      <th>sourceRootProject</th>\n",
       "      <th>isDifferentTargetProject</th>\n",
       "      <th>isDifferentTargetScan</th>\n",
       "      <th>isDifferentTargetRootProject</th>\n",
       "      <th>distance</th>\n",
       "      <th>distanceTotalPairCount</th>\n",
       "      <th>distanceTotalSourceCount</th>\n",
       "      <th>distanceTotalTargetCount</th>\n",
       "      <th>pairCount</th>\n",
       "      <th>sourceNodeCount</th>\n",
       "      <th>targetNodeCount</th>\n",
       "      <th>examples</th>\n",
       "      <th>exampleProjects</th>\n",
       "      <th>exampleScans</th>\n",
       "    </tr>\n",
       "  </thead>\n",
       "  <tbody>\n",
       "    <tr>\n",
       "      <th>1</th>\n",
       "      <td>axon-server-connector-4.10.3</td>\n",
       "      <td>None</td>\n",
       "      <td>None</td>\n",
       "      <td>False</td>\n",
       "      <td>None</td>\n",
       "      <td>None</td>\n",
       "      <td>1</td>\n",
       "      <td>13</td>\n",
       "      <td>5</td>\n",
       "      <td>13</td>\n",
       "      <td>1</td>\n",
       "      <td>1</td>\n",
       "      <td>1</td>\n",
       "      <td>[/org/axonframework/axonserver/connector/heartbeat/source -&gt; /org/axonframework/axonserver/connector/heartbeat]</td>\n",
       "      <td>[axon-server-connector-4.10.3 -&gt; axon-server-connector-4.10.3]</td>\n",
       "      <td>[]</td>\n",
       "    </tr>\n",
       "    <tr>\n",
       "      <th>2</th>\n",
       "      <td>axon-server-connector-4.10.3</td>\n",
       "      <td>None</td>\n",
       "      <td>None</td>\n",
       "      <td>False</td>\n",
       "      <td>None</td>\n",
       "      <td>None</td>\n",
       "      <td>2</td>\n",
       "      <td>39</td>\n",
       "      <td>3</td>\n",
       "      <td>39</td>\n",
       "      <td>1</td>\n",
       "      <td>1</td>\n",
       "      <td>1</td>\n",
       "      <td>[/org/axonframework/axonserver/connector/heartbeat/source -&gt; /org/axonframework/axonserver/connector/util]</td>\n",
       "      <td>[axon-server-connector-4.10.3 -&gt; axon-server-connector-4.10.3]</td>\n",
       "      <td>[]</td>\n",
       "    </tr>\n",
       "    <tr>\n",
       "      <th>3</th>\n",
       "      <td>axon-spring-boot-autoconfigure-4.10.3</td>\n",
       "      <td>None</td>\n",
       "      <td>None</td>\n",
       "      <td>False</td>\n",
       "      <td>None</td>\n",
       "      <td>None</td>\n",
       "      <td>1</td>\n",
       "      <td>13</td>\n",
       "      <td>5</td>\n",
       "      <td>13</td>\n",
       "      <td>2</td>\n",
       "      <td>1</td>\n",
       "      <td>2</td>\n",
       "      <td>[/org/axonframework/springboot/autoconfig/legacyjpa -&gt; /org/axonframework/springboot/util/legacyjpa, /org/axonframework/springboot/autoconfig/legacyjpa -&gt; /org/axonframework/springboot/autoconfig]</td>\n",
       "      <td>[axon-spring-boot-autoconfigure-4.10.3 -&gt; axon-spring-boot-autoconfigure-4.10.3]</td>\n",
       "      <td>[]</td>\n",
       "    </tr>\n",
       "    <tr>\n",
       "      <th>4</th>\n",
       "      <td>axon-spring-boot-autoconfigure-4.10.3</td>\n",
       "      <td>None</td>\n",
       "      <td>None</td>\n",
       "      <td>False</td>\n",
       "      <td>None</td>\n",
       "      <td>None</td>\n",
       "      <td>2</td>\n",
       "      <td>39</td>\n",
       "      <td>3</td>\n",
       "      <td>39</td>\n",
       "      <td>4</td>\n",
       "      <td>1</td>\n",
       "      <td>4</td>\n",
       "      <td>[/org/axonframework/springboot/autoconfig/legacyjpa -&gt; /org/axonframework/actuator/axonserver, /org/axonframework/springboot/autoconfig/legacyjpa -&gt; /org/axonframework/springboot/util, /org/axonframework/springboot/autoconfig/legacyjpa -&gt; /org/axonframework/springboot/util/jpa, /org/axonframewor...</td>\n",
       "      <td>[axon-spring-boot-autoconfigure-4.10.3 -&gt; axon-spring-boot-autoconfigure-4.10.3]</td>\n",
       "      <td>[]</td>\n",
       "    </tr>\n",
       "    <tr>\n",
       "      <th>5</th>\n",
       "      <td>axon-spring-boot-autoconfigure-4.10.3</td>\n",
       "      <td>None</td>\n",
       "      <td>None</td>\n",
       "      <td>False</td>\n",
       "      <td>None</td>\n",
       "      <td>None</td>\n",
       "      <td>3</td>\n",
       "      <td>18</td>\n",
       "      <td>2</td>\n",
       "      <td>18</td>\n",
       "      <td>2</td>\n",
       "      <td>1</td>\n",
       "      <td>2</td>\n",
       "      <td>[/org/axonframework/springboot/autoconfig/legacyjpa -&gt; /org/axonframework/actuator, /org/axonframework/springboot/autoconfig/legacyjpa -&gt; /org/axonframework/springboot]</td>\n",
       "      <td>[axon-spring-boot-autoconfigure-4.10.3 -&gt; axon-spring-boot-autoconfigure-4.10.3]</td>\n",
       "      <td>[]</td>\n",
       "    </tr>\n",
       "    <tr>\n",
       "      <th>10</th>\n",
       "      <td>axon-test-4.10.3</td>\n",
       "      <td>None</td>\n",
       "      <td>None</td>\n",
       "      <td>False</td>\n",
       "      <td>None</td>\n",
       "      <td>None</td>\n",
       "      <td>1</td>\n",
       "      <td>13</td>\n",
       "      <td>5</td>\n",
       "      <td>13</td>\n",
       "      <td>3</td>\n",
       "      <td>2</td>\n",
       "      <td>3</td>\n",
       "      <td>[/org/axonframework/test/saga -&gt; /org/axonframework/test/utils, /org/axonframework/test/aggregate -&gt; /org/axonframework/test/deadline, /org/axonframework/test/saga -&gt; /org/axonframework/test/eventscheduler]</td>\n",
       "      <td>[axon-test-4.10.3 -&gt; axon-test-4.10.3]</td>\n",
       "      <td>[]</td>\n",
       "    </tr>\n",
       "    <tr>\n",
       "      <th>11</th>\n",
       "      <td>axon-test-4.10.3</td>\n",
       "      <td>None</td>\n",
       "      <td>None</td>\n",
       "      <td>False</td>\n",
       "      <td>None</td>\n",
       "      <td>None</td>\n",
       "      <td>2</td>\n",
       "      <td>39</td>\n",
       "      <td>3</td>\n",
       "      <td>39</td>\n",
       "      <td>1</td>\n",
       "      <td>1</td>\n",
       "      <td>1</td>\n",
       "      <td>[/org/axonframework/test/aggregate -&gt; /org/axonframework/test/matchers]</td>\n",
       "      <td>[axon-test-4.10.3 -&gt; axon-test-4.10.3]</td>\n",
       "      <td>[]</td>\n",
       "    </tr>\n",
       "    <tr>\n",
       "      <th>12</th>\n",
       "      <td>axon-test-4.10.3</td>\n",
       "      <td>None</td>\n",
       "      <td>None</td>\n",
       "      <td>False</td>\n",
       "      <td>None</td>\n",
       "      <td>None</td>\n",
       "      <td>3</td>\n",
       "      <td>18</td>\n",
       "      <td>2</td>\n",
       "      <td>18</td>\n",
       "      <td>1</td>\n",
       "      <td>1</td>\n",
       "      <td>1</td>\n",
       "      <td>[/org/axonframework/test/aggregate -&gt; /org/axonframework/test]</td>\n",
       "      <td>[axon-test-4.10.3 -&gt; axon-test-4.10.3]</td>\n",
       "      <td>[]</td>\n",
       "    </tr>\n",
       "  </tbody>\n",
       "</table>\n",
       "</div>"
      ],
      "text/plain": [
       "                            sourceProject sourceScan sourceRootProject  \\\n",
       "1            axon-server-connector-4.10.3       None              None   \n",
       "2            axon-server-connector-4.10.3       None              None   \n",
       "3   axon-spring-boot-autoconfigure-4.10.3       None              None   \n",
       "4   axon-spring-boot-autoconfigure-4.10.3       None              None   \n",
       "5   axon-spring-boot-autoconfigure-4.10.3       None              None   \n",
       "10                       axon-test-4.10.3       None              None   \n",
       "11                       axon-test-4.10.3       None              None   \n",
       "12                       axon-test-4.10.3       None              None   \n",
       "\n",
       "    isDifferentTargetProject isDifferentTargetScan  \\\n",
       "1                      False                  None   \n",
       "2                      False                  None   \n",
       "3                      False                  None   \n",
       "4                      False                  None   \n",
       "5                      False                  None   \n",
       "10                     False                  None   \n",
       "11                     False                  None   \n",
       "12                     False                  None   \n",
       "\n",
       "   isDifferentTargetRootProject  distance  distanceTotalPairCount  \\\n",
       "1                          None         1                      13   \n",
       "2                          None         2                      39   \n",
       "3                          None         1                      13   \n",
       "4                          None         2                      39   \n",
       "5                          None         3                      18   \n",
       "10                         None         1                      13   \n",
       "11                         None         2                      39   \n",
       "12                         None         3                      18   \n",
       "\n",
       "    distanceTotalSourceCount  distanceTotalTargetCount  pairCount  \\\n",
       "1                          5                        13          1   \n",
       "2                          3                        39          1   \n",
       "3                          5                        13          2   \n",
       "4                          3                        39          4   \n",
       "5                          2                        18          2   \n",
       "10                         5                        13          3   \n",
       "11                         3                        39          1   \n",
       "12                         2                        18          1   \n",
       "\n",
       "    sourceNodeCount  targetNodeCount  \\\n",
       "1                 1                1   \n",
       "2                 1                1   \n",
       "3                 1                2   \n",
       "4                 1                4   \n",
       "5                 1                2   \n",
       "10                2                3   \n",
       "11                1                1   \n",
       "12                1                1   \n",
       "\n",
       "                                                                                                                                                                                                                                                                                                       examples  \\\n",
       "1                                                                                                                                                                                               [/org/axonframework/axonserver/connector/heartbeat/source -> /org/axonframework/axonserver/connector/heartbeat]   \n",
       "2                                                                                                                                                                                                    [/org/axonframework/axonserver/connector/heartbeat/source -> /org/axonframework/axonserver/connector/util]   \n",
       "3                                                                                                          [/org/axonframework/springboot/autoconfig/legacyjpa -> /org/axonframework/springboot/util/legacyjpa, /org/axonframework/springboot/autoconfig/legacyjpa -> /org/axonframework/springboot/autoconfig]   \n",
       "4   [/org/axonframework/springboot/autoconfig/legacyjpa -> /org/axonframework/actuator/axonserver, /org/axonframework/springboot/autoconfig/legacyjpa -> /org/axonframework/springboot/util, /org/axonframework/springboot/autoconfig/legacyjpa -> /org/axonframework/springboot/util/jpa, /org/axonframewor...   \n",
       "5                                                                                                                                      [/org/axonframework/springboot/autoconfig/legacyjpa -> /org/axonframework/actuator, /org/axonframework/springboot/autoconfig/legacyjpa -> /org/axonframework/springboot]   \n",
       "10                                                                                               [/org/axonframework/test/saga -> /org/axonframework/test/utils, /org/axonframework/test/aggregate -> /org/axonframework/test/deadline, /org/axonframework/test/saga -> /org/axonframework/test/eventscheduler]   \n",
       "11                                                                                                                                                                                                                                      [/org/axonframework/test/aggregate -> /org/axonframework/test/matchers]   \n",
       "12                                                                                                                                                                                                                                               [/org/axonframework/test/aggregate -> /org/axonframework/test]   \n",
       "\n",
       "                                                                     exampleProjects  \\\n",
       "1                     [axon-server-connector-4.10.3 -> axon-server-connector-4.10.3]   \n",
       "2                     [axon-server-connector-4.10.3 -> axon-server-connector-4.10.3]   \n",
       "3   [axon-spring-boot-autoconfigure-4.10.3 -> axon-spring-boot-autoconfigure-4.10.3]   \n",
       "4   [axon-spring-boot-autoconfigure-4.10.3 -> axon-spring-boot-autoconfigure-4.10.3]   \n",
       "5   [axon-spring-boot-autoconfigure-4.10.3 -> axon-spring-boot-autoconfigure-4.10.3]   \n",
       "10                                            [axon-test-4.10.3 -> axon-test-4.10.3]   \n",
       "11                                            [axon-test-4.10.3 -> axon-test-4.10.3]   \n",
       "12                                            [axon-test-4.10.3 -> axon-test-4.10.3]   \n",
       "\n",
       "   exampleScans  \n",
       "1            []  \n",
       "2            []  \n",
       "3            []  \n",
       "4            []  \n",
       "5            []  \n",
       "10           []  \n",
       "11           []  \n",
       "12           []  "
      ]
     },
     "execution_count": 42,
     "metadata": {},
     "output_type": "execute_result"
    }
   ],
   "source": [
    "longest_paths_distribution_per_artifact_isolated=longest_paths_distribution_per_artifact.query('isDifferentTargetProject == False')\n",
    "longest_paths_distribution_per_artifact_isolated.head(10)"
   ]
  },
  {
   "cell_type": "markdown",
   "id": "b2adbdac",
   "metadata": {},
   "source": [
    "#### Longest path for each artifact - Max. longest path for each artifact\n",
    "\n",
    "Shows the top 20 artifacts with their max. longest path."
   ]
  },
  {
   "cell_type": "code",
   "execution_count": 43,
   "id": "2f0ddb2f",
   "metadata": {
    "execution": {
     "iopub.execute_input": "2025-01-19T19:34:06.011323Z",
     "iopub.status.busy": "2025-01-19T19:34:06.011175Z",
     "iopub.status.idle": "2025-01-19T19:34:06.015550Z",
     "shell.execute_reply": "2025-01-19T19:34:06.015168Z"
    }
   },
   "outputs": [
    {
     "data": {
      "text/plain": [
       "sourceProject\n",
       "axon-spring-boot-autoconfigure-4.10.3    3\n",
       "axon-test-4.10.3                         3\n",
       "axon-server-connector-4.10.3             2\n",
       "Name: distance, dtype: int64"
      ]
     },
     "execution_count": 43,
     "metadata": {},
     "output_type": "execute_result"
    }
   ],
   "source": [
    "longest_path_per_artifact = get_longest_path_for_column('sourceProject', longest_paths_distribution_per_artifact_isolated)\n",
    "longest_path_per_artifact.head(20)"
   ]
  },
  {
   "cell_type": "code",
   "execution_count": 44,
   "id": "cd4a7f36",
   "metadata": {
    "execution": {
     "iopub.execute_input": "2025-01-19T19:34:06.017267Z",
     "iopub.status.busy": "2025-01-19T19:34:06.017130Z",
     "iopub.status.idle": "2025-01-19T19:34:06.128366Z",
     "shell.execute_reply": "2025-01-19T19:34:06.127927Z"
    }
   },
   "outputs": [
    {
     "data": {
      "image/png": "[encoded data removed]",
      "text/plain": [
       "<Figure size 1000x600 with 1 Axes>"
      ]
     },
     "metadata": {},
     "output_type": "display_data"
    }
   ],
   "source": [
    "plot_longest_distance_for_each_row(\n",
    "    data_frame=longest_path_per_artifact,\n",
    "    title='Max. longest path for Java package dependencies per artifact',\n",
    "    xlabel='Artifact',\n",
    "    ylabel='max. longest path length'\n",
    ")"
   ]
  },
  {
   "cell_type": "markdown",
   "id": "5e0e1442",
   "metadata": {},
   "source": [
    "#### Longest path for each artifact - Bar chart (absolute)"
   ]
  },
  {
   "cell_type": "code",
   "execution_count": 45,
   "id": "9765cec6",
   "metadata": {
    "execution": {
     "iopub.execute_input": "2025-01-19T19:34:06.130475Z",
     "iopub.status.busy": "2025-01-19T19:34:06.130179Z",
     "iopub.status.idle": "2025-01-19T19:34:06.134866Z",
     "shell.execute_reply": "2025-01-19T19:34:06.134504Z"
    }
   },
   "outputs": [],
   "source": [
    "longest_paths_distribution_per_artifact_isolated_pivot = get_distance_distribution_for_each('sourceProject', longest_paths_distribution_per_artifact_isolated)"
   ]
  },
  {
   "cell_type": "code",
   "execution_count": 46,
   "id": "c7a73b97",
   "metadata": {
    "execution": {
     "iopub.execute_input": "2025-01-19T19:34:06.136900Z",
     "iopub.status.busy": "2025-01-19T19:34:06.136559Z",
     "iopub.status.idle": "2025-01-19T19:34:06.343296Z",
     "shell.execute_reply": "2025-01-19T19:34:06.342894Z"
    }
   },
   "outputs": [
    {
     "data": {
      "text/plain": [
       "<Figure size 640x480 with 0 Axes>"
      ]
     },
     "metadata": {},
     "output_type": "display_data"
    },
    {
     "data": {
      "image/png": "[encoded data removed]",
      "text/plain": [
       "<Figure size 1000x600 with 1 Axes>"
      ]
     },
     "metadata": {},
     "output_type": "display_data"
    }
   ],
   "source": [
    "plot_stacked_distances_for_each_row(\n",
    "    data_frame=longest_paths_distribution_per_artifact_isolated_pivot,\n",
    "    title='Longest path for Java package dependencies stacked per artifact (absolute, logarithmic)',\n",
    "    xlabel='Artifact',\n",
    "    ylabel='Java package paths',\n",
    "    logy=True\n",
    ")"
   ]
  },
  {
   "cell_type": "markdown",
   "id": "03bf4b28",
   "metadata": {},
   "source": [
    "#### Longest path for each artifact - Bar chart (normalized)\n",
    "\n",
    "Shows the top 50 artifacts with the highest number of dependency paths stacked by their length."
   ]
  },
  {
   "cell_type": "code",
   "execution_count": 47,
   "id": "8cdfed61",
   "metadata": {
    "execution": {
     "iopub.execute_input": "2025-01-19T19:34:06.345255Z",
     "iopub.status.busy": "2025-01-19T19:34:06.344957Z",
     "iopub.status.idle": "2025-01-19T19:34:06.350941Z",
     "shell.execute_reply": "2025-01-19T19:34:06.350530Z"
    }
   },
   "outputs": [
    {
     "data": {
      "text/html": [
       "<div>\n",
       "<style scoped>\n",
       "    .dataframe tbody tr th:only-of-type {\n",
       "        vertical-align: middle;\n",
       "    }\n",
       "\n",
       "    .dataframe tbody tr th {\n",
       "        vertical-align: top;\n",
       "    }\n",
       "\n",
       "    .dataframe thead th {\n",
       "        text-align: right;\n",
       "    }\n",
       "</style>\n",
       "<table border=\"1\" class=\"dataframe\">\n",
       "  <thead>\n",
       "    <tr style=\"text-align: right;\">\n",
       "      <th>distance</th>\n",
       "      <th>1</th>\n",
       "      <th>2</th>\n",
       "      <th>3</th>\n",
       "    </tr>\n",
       "    <tr>\n",
       "      <th>sourceProject</th>\n",
       "      <th></th>\n",
       "      <th></th>\n",
       "      <th></th>\n",
       "    </tr>\n",
       "  </thead>\n",
       "  <tbody>\n",
       "    <tr>\n",
       "      <th>axon-spring-boot-autoconfigure-4.10.3</th>\n",
       "      <td>25.0</td>\n",
       "      <td>50.0</td>\n",
       "      <td>25.0</td>\n",
       "    </tr>\n",
       "    <tr>\n",
       "      <th>axon-test-4.10.3</th>\n",
       "      <td>60.0</td>\n",
       "      <td>20.0</td>\n",
       "      <td>20.0</td>\n",
       "    </tr>\n",
       "    <tr>\n",
       "      <th>axon-server-connector-4.10.3</th>\n",
       "      <td>50.0</td>\n",
       "      <td>50.0</td>\n",
       "      <td>0.0</td>\n",
       "    </tr>\n",
       "  </tbody>\n",
       "</table>\n",
       "</div>"
      ],
      "text/plain": [
       "distance                                  1     2     3\n",
       "sourceProject                                          \n",
       "axon-spring-boot-autoconfigure-4.10.3  25.0  50.0  25.0\n",
       "axon-test-4.10.3                       60.0  20.0  20.0\n",
       "axon-server-connector-4.10.3           50.0  50.0   0.0"
      ]
     },
     "execution_count": 47,
     "metadata": {},
     "output_type": "execute_result"
    }
   ],
   "source": [
    "# Normalize data (percent of sum pairs)\n",
    "longest_paths_distribution_per_artifact_isolated_normalized_pivot=normalize_distance_distribution_for_each_row(longest_paths_distribution_per_artifact_isolated_pivot)\n",
    "longest_paths_distribution_per_artifact_isolated_normalized_pivot.head(50)"
   ]
  },
  {
   "cell_type": "code",
   "execution_count": 48,
   "id": "e2cc0a24",
   "metadata": {
    "execution": {
     "iopub.execute_input": "2025-01-19T19:34:06.352822Z",
     "iopub.status.busy": "2025-01-19T19:34:06.352485Z",
     "iopub.status.idle": "2025-01-19T19:34:06.481336Z",
     "shell.execute_reply": "2025-01-19T19:34:06.480883Z"
    }
   },
   "outputs": [
    {
     "data": {
      "text/plain": [
       "<Figure size 640x480 with 0 Axes>"
      ]
     },
     "metadata": {},
     "output_type": "display_data"
    },
    {
     "data": {
      "image/png": "[encoded data removed]",
      "text/plain": [
       "<Figure size 1000x600 with 1 Axes>"
      ]
     },
     "metadata": {},
     "output_type": "display_data"
    }
   ],
   "source": [
    "plot_stacked_distances_for_each_row(\n",
    "    data_frame=longest_paths_distribution_per_artifact_isolated_normalized_pivot.head(50),\n",
    "    title='Longest path for Java package dependencies stacked per artifact (normalized in %)',\n",
    "    xlabel='Artifact',\n",
    "    ylabel='Java package paths'\n",
    ")"
   ]
  },
  {
   "cell_type": "markdown",
   "id": "32d844b5",
   "metadata": {},
   "source": [
    "## 2. Java Artifacts"
   ]
  },
  {
   "cell_type": "markdown",
   "id": "b46ab138",
   "metadata": {},
   "source": [
    "## 2.1 All pairs shortest path\n",
    "\n",
    "Use [All Pairs Shortest Path](https://neo4j.com/docs/graph-data-science/current/algorithms/all-pairs-shortest-path) algorithm to get the shortest path distance between all pairs of dependent Java artifacts. It shows how many artifacts have a direct dependency (distance 1), how many are reachable with one dependency in between (distance 2), and so on..."
   ]
  },
  {
   "cell_type": "markdown",
   "id": "f6659bca",
   "metadata": {},
   "source": [
    "### 2.1.1 Create a projection of all Java artifacts dependencies\n",
    "\n",
    "Creates a in-memory projection of \"Java:Artifact\" nodes and their \"DEPENDS_ON\" relationships as a preparation to run the Graph algorithms. The weight property is not used for now (September 2024) but may be needed for other algorithms/variants some time."
   ]
  },
  {
   "cell_type": "code",
   "execution_count": 49,
   "id": "cec6c79b",
   "metadata": {
    "execution": {
     "iopub.execute_input": "2025-01-19T19:34:06.483402Z",
     "iopub.status.busy": "2025-01-19T19:34:06.483123Z",
     "iopub.status.idle": "2025-01-19T19:34:06.485474Z",
     "shell.execute_reply": "2025-01-19T19:34:06.485026Z"
    }
   },
   "outputs": [],
   "source": [
    "artifact_path_finding_parameters={\n",
    "    \"dependencies_projection\": \"java-artifact-path-finding-notebook\",\n",
    "    \"dependencies_projection_node\": \"Artifact\",\n",
    "    \"dependencies_projection_weight_property\": \"weight\",\n",
    "}"
   ]
  },
  {
   "cell_type": "code",
   "execution_count": 50,
   "id": "deda506f",
   "metadata": {
    "execution": {
     "iopub.execute_input": "2025-01-19T19:34:06.487310Z",
     "iopub.status.busy": "2025-01-19T19:34:06.487018Z",
     "iopub.status.idle": "2025-01-19T19:34:06.582494Z",
     "shell.execute_reply": "2025-01-19T19:34:06.582002Z"
    }
   },
   "outputs": [],
   "source": [
    "# Create the directed and unweighted projection with the parameters defined directly above\n",
    "is_artifact_data_available=create_directed_unweighted_projection(artifact_path_finding_parameters)"
   ]
  },
  {
   "cell_type": "markdown",
   "id": "57e8dbb7",
   "metadata": {},
   "source": [
    "#### Projected Graph statistics for Java Artifact dependencies"
   ]
  },
  {
   "cell_type": "code",
   "execution_count": 51,
   "id": "e6c8cdd4",
   "metadata": {
    "execution": {
     "iopub.execute_input": "2025-01-19T19:34:06.584894Z",
     "iopub.status.busy": "2025-01-19T19:34:06.584595Z",
     "iopub.status.idle": "2025-01-19T19:34:06.602352Z",
     "shell.execute_reply": "2025-01-19T19:34:06.601855Z"
    }
   },
   "outputs": [
    {
     "data": {
      "text/html": [
       "<div>\n",
       "<style scoped>\n",
       "    .dataframe tbody tr th:only-of-type {\n",
       "        vertical-align: middle;\n",
       "    }\n",
       "\n",
       "    .dataframe tbody tr th {\n",
       "        vertical-align: top;\n",
       "    }\n",
       "\n",
       "    .dataframe thead th {\n",
       "        text-align: right;\n",
       "    }\n",
       "</style>\n",
       "<table border=\"1\" class=\"dataframe\">\n",
       "  <thead>\n",
       "    <tr style=\"text-align: right;\">\n",
       "      <th></th>\n",
       "      <th>nodeCount</th>\n",
       "      <th>relationshipCount</th>\n",
       "      <th>density</th>\n",
       "      <th>sizeInBytes</th>\n",
       "      <th>degreeDistribution.min</th>\n",
       "      <th>degreeDistribution.mean</th>\n",
       "      <th>degreeDistribution.max</th>\n",
       "      <th>degreeDistribution.p50</th>\n",
       "      <th>degreeDistribution.p75</th>\n",
       "      <th>degreeDistribution.p90</th>\n",
       "      <th>degreeDistribution.p95</th>\n",
       "      <th>degreeDistribution.p99</th>\n",
       "      <th>degreeDistribution.p999</th>\n",
       "    </tr>\n",
       "  </thead>\n",
       "  <tbody>\n",
       "    <tr>\n",
       "      <th>0</th>\n",
       "      <td>9</td>\n",
       "      <td>25</td>\n",
       "      <td>0.347222</td>\n",
       "      <td>2758843</td>\n",
       "      <td>0</td>\n",
       "      <td>2.777778</td>\n",
       "      <td>7</td>\n",
       "      <td>3</td>\n",
       "      <td>4</td>\n",
       "      <td>7</td>\n",
       "      <td>7</td>\n",
       "      <td>7</td>\n",
       "      <td>7</td>\n",
       "    </tr>\n",
       "  </tbody>\n",
       "</table>\n",
       "</div>"
      ],
      "text/plain": [
       "   nodeCount  relationshipCount   density  sizeInBytes  \\\n",
       "0          9                 25  0.347222      2758843   \n",
       "\n",
       "   degreeDistribution.min  degreeDistribution.mean  degreeDistribution.max  \\\n",
       "0                       0                 2.777778                       7   \n",
       "\n",
       "   degreeDistribution.p50  degreeDistribution.p75  degreeDistribution.p90  \\\n",
       "0                       3                       4                       7   \n",
       "\n",
       "   degreeDistribution.p95  degreeDistribution.p99  degreeDistribution.p999  \n",
       "0                       7                       7                        7  "
      ]
     },
     "execution_count": 51,
     "metadata": {},
     "output_type": "execute_result"
    }
   ],
   "source": [
    "artifact_projection_statistics=query_cypher_to_data_frame(\"../cypher/Dependencies_Projection/Dependencies_12_Get_Projection_Statistics.cypher\", artifact_path_finding_parameters)\n",
    "artifact_projection_statistics"
   ]
  },
  {
   "cell_type": "markdown",
   "id": "f72d6360",
   "metadata": {},
   "source": [
    "### 2.1.2 All pairs shortest path in total\n",
    "\n",
    "First, we'll have a look at the overall/total result of the all pairs shortest path algorithm for all dependencies."
   ]
  },
  {
   "cell_type": "code",
   "execution_count": 52,
   "id": "b0cdf8c5",
   "metadata": {
    "execution": {
     "iopub.execute_input": "2025-01-19T19:34:06.604654Z",
     "iopub.status.busy": "2025-01-19T19:34:06.604308Z",
     "iopub.status.idle": "2025-01-19T19:34:06.634091Z",
     "shell.execute_reply": "2025-01-19T19:34:06.633611Z"
    }
   },
   "outputs": [],
   "source": [
    "# Execute algorithm \"All pairs shortest path\" and query overall and artifact specific results\n",
    "all_pairs_shortest_paths_distribution_for_artifacts=query_if_data_available(is_artifact_data_available, \"../cypher/Path_Finding/Path_Finding_5_All_pairs_shortest_path_distribution_per_project.cypher\", artifact_path_finding_parameters)"
   ]
  },
  {
   "cell_type": "code",
   "execution_count": 53,
   "id": "23b9718a",
   "metadata": {
    "execution": {
     "iopub.execute_input": "2025-01-19T19:34:06.636393Z",
     "iopub.status.busy": "2025-01-19T19:34:06.636026Z",
     "iopub.status.idle": "2025-01-19T19:34:06.642530Z",
     "shell.execute_reply": "2025-01-19T19:34:06.642087Z"
    }
   },
   "outputs": [
    {
     "data": {
      "text/html": [
       "<div>\n",
       "<style scoped>\n",
       "    .dataframe tbody tr th:only-of-type {\n",
       "        vertical-align: middle;\n",
       "    }\n",
       "\n",
       "    .dataframe tbody tr th {\n",
       "        vertical-align: top;\n",
       "    }\n",
       "\n",
       "    .dataframe thead th {\n",
       "        text-align: right;\n",
       "    }\n",
       "</style>\n",
       "<table border=\"1\" class=\"dataframe\">\n",
       "  <thead>\n",
       "    <tr style=\"text-align: right;\">\n",
       "      <th></th>\n",
       "      <th>index</th>\n",
       "      <th>distance</th>\n",
       "      <th>distanceTotalPairCount</th>\n",
       "      <th>distanceTotalSourceCount</th>\n",
       "      <th>distanceTotalTargetCount</th>\n",
       "    </tr>\n",
       "  </thead>\n",
       "  <tbody>\n",
       "    <tr>\n",
       "      <th>0</th>\n",
       "      <td>0</td>\n",
       "      <td>1</td>\n",
       "      <td>25</td>\n",
       "      <td>8</td>\n",
       "      <td>8</td>\n",
       "    </tr>\n",
       "    <tr>\n",
       "      <th>1</th>\n",
       "      <td>1</td>\n",
       "      <td>2</td>\n",
       "      <td>2</td>\n",
       "      <td>2</td>\n",
       "      <td>1</td>\n",
       "    </tr>\n",
       "  </tbody>\n",
       "</table>\n",
       "</div>"
      ],
      "text/plain": [
       "   index  distance  distanceTotalPairCount  distanceTotalSourceCount  \\\n",
       "0      0         1                      25                         8   \n",
       "1      1         2                       2                         2   \n",
       "\n",
       "   distanceTotalTargetCount  \n",
       "0                         8  \n",
       "1                         1  "
      ]
     },
     "execution_count": 53,
     "metadata": {},
     "output_type": "execute_result"
    }
   ],
   "source": [
    "# First, display only the overall/total distances, their pair count and the count of the distinct source and target nodes\n",
    "all_pairs_shortest_paths_distribution_for_artifacts=get_total_distance_distribution(all_pairs_shortest_paths_distribution_for_artifacts)\n",
    "all_pairs_shortest_paths_distribution_for_artifacts.head(50)"
   ]
  },
  {
   "cell_type": "markdown",
   "id": "fa9c2a84",
   "metadata": {},
   "source": [
    "#### All pairs shortest path in total - Longest shortest path (Diameter)"
   ]
  },
  {
   "cell_type": "code",
   "execution_count": 54,
   "id": "49447fdd",
   "metadata": {
    "execution": {
     "iopub.execute_input": "2025-01-19T19:34:06.644531Z",
     "iopub.status.busy": "2025-01-19T19:34:06.644205Z",
     "iopub.status.idle": "2025-01-19T19:34:06.647049Z",
     "shell.execute_reply": "2025-01-19T19:34:06.646674Z"
    }
   },
   "outputs": [
    {
     "name": "stdout",
     "output_type": "stream",
     "text": [
      "The diameter (longest shortest path) of the projected artifact dependencies Graph is: 2\n"
     ]
    }
   ],
   "source": [
    "artifact_dependencies_graph_diameter=all_pairs_shortest_paths_distribution_for_artifacts['distance'].max()\n",
    "print('The diameter (longest shortest path) of the projected artifact dependencies Graph is:', artifact_dependencies_graph_diameter)"
   ]
  },
  {
   "cell_type": "markdown",
   "id": "ba3c98d6",
   "metadata": {},
   "source": [
    "#### All pairs shortest path in total - Path count per length - Bar chart"
   ]
  },
  {
   "cell_type": "code",
   "execution_count": 55,
   "id": "df331765",
   "metadata": {
    "execution": {
     "iopub.execute_input": "2025-01-19T19:34:06.648805Z",
     "iopub.status.busy": "2025-01-19T19:34:06.648668Z",
     "iopub.status.idle": "2025-01-19T19:34:06.757178Z",
     "shell.execute_reply": "2025-01-19T19:34:06.756665Z"
    }
   },
   "outputs": [
    {
     "data": {
      "image/png": "[encoded data removed]",
      "text/plain": [
       "<Figure size 900x700 with 1 Axes>"
      ]
     },
     "metadata": {},
     "output_type": "display_data"
    }
   ],
   "source": [
    "plot_total_distances_bar_chart(\n",
    "    data_frame=all_pairs_shortest_paths_distribution_for_artifacts, \n",
    "    title='All pairs shortest path for Java artifact dependencies in total (bar)',\n",
    "    ylabel='total number of java artifact paths'\n",
    ")"
   ]
  },
  {
   "cell_type": "markdown",
   "id": "b3903b5b",
   "metadata": {},
   "source": [
    "#### All pairs shortest path in total - Path count per length - Bar chart"
   ]
  },
  {
   "cell_type": "code",
   "execution_count": 56,
   "id": "cceddc5c",
   "metadata": {
    "execution": {
     "iopub.execute_input": "2025-01-19T19:34:06.759456Z",
     "iopub.status.busy": "2025-01-19T19:34:06.759178Z",
     "iopub.status.idle": "2025-01-19T19:34:06.845955Z",
     "shell.execute_reply": "2025-01-19T19:34:06.845550Z"
    }
   },
   "outputs": [
    {
     "data": {
      "text/plain": [
       "<Figure size 640x480 with 0 Axes>"
      ]
     },
     "metadata": {},
     "output_type": "display_data"
    },
    {
     "data": {
      "image/png": "[encoded data removed]",
      "text/plain": [
       "<Figure size 800x800 with 1 Axes>"
      ]
     },
     "metadata": {},
     "output_type": "display_data"
    }
   ],
   "source": [
    "plot_total_distances_pie_chart(\n",
    "    data_frame=all_pairs_shortest_paths_distribution_for_artifacts,\n",
    "    title='All pairs shortest path for Java artifact dependencies in total (pie)',\n",
    "    ylabel='total number of Java artifact paths'\n",
    ")"
   ]
  },
  {
   "cell_type": "markdown",
   "id": "a28bbb56",
   "metadata": {},
   "source": [
    "## 2.2 Longest path\n",
    "\n",
    "Use [Longest Path](https://neo4j.com/docs/graph-data-science/current/algorithms/dag/longest-path) algorithm to get the longest paths between Java artifacts. This is especially interesting because an artifact can only be built when the artifacts it depends on are built (and published). The longest path shows in this case the total/max. number of build levels that are needed in case everything needs to be rebuild (\"worst case\"). Its also an interesting metric for complexity. It is typically higher than the longest shortest path (diameter) and helps together with it to get a good overview of the complexity.\n",
    "\n",
    "**Note:** This algorithm requires a Directed Acyclic Graph (DAG) and might lead to inaccurate results when the Graph contains cycles."
   ]
  },
  {
   "cell_type": "markdown",
   "id": "33ee6d3a",
   "metadata": {},
   "source": [
    "### 2.2.1 Longest path in total\n",
    "\n",
    "First, we'll have a look at the overall/total result of the longest path algorithm for all dependencies."
   ]
  },
  {
   "cell_type": "code",
   "execution_count": 57,
   "id": "29e4e8f2",
   "metadata": {
    "execution": {
     "iopub.execute_input": "2025-01-19T19:34:06.847759Z",
     "iopub.status.busy": "2025-01-19T19:34:06.847630Z",
     "iopub.status.idle": "2025-01-19T19:34:06.880118Z",
     "shell.execute_reply": "2025-01-19T19:34:06.879603Z"
    }
   },
   "outputs": [],
   "source": [
    "# Execute algorithm \"longest path (for directed acyclic graphs)\" and query overall and artifact specific results\n",
    "longest_artifact_paths_distribution=query_if_data_available(is_package_data_available, \"../cypher/Path_Finding/Path_Finding_6_Longest_paths_distribution_per_project.cypher\", artifact_path_finding_parameters)"
   ]
  },
  {
   "cell_type": "markdown",
   "id": "14dcd571",
   "metadata": {},
   "source": [
    "#### Longest path in total - Max longest path"
   ]
  },
  {
   "cell_type": "code",
   "execution_count": 58,
   "id": "c1ebd6bf",
   "metadata": {
    "execution": {
     "iopub.execute_input": "2025-01-19T19:34:06.882403Z",
     "iopub.status.busy": "2025-01-19T19:34:06.882259Z",
     "iopub.status.idle": "2025-01-19T19:34:06.885306Z",
     "shell.execute_reply": "2025-01-19T19:34:06.884849Z"
    }
   },
   "outputs": [
    {
     "name": "stdout",
     "output_type": "stream",
     "text": [
      "The max. longest path of the projected artifact dependencies is: 6\n"
     ]
    }
   ],
   "source": [
    "artifact_dependencies_max_longest_path=longest_artifact_paths_distribution['distance'].max()\n",
    "print('The max. longest path of the projected artifact dependencies is:', artifact_dependencies_max_longest_path)"
   ]
  },
  {
   "cell_type": "markdown",
   "id": "fa8d248b",
   "metadata": {},
   "source": [
    "#### Longest path in total - Path count per length - Table"
   ]
  },
  {
   "cell_type": "code",
   "execution_count": 59,
   "id": "04ff6b16",
   "metadata": {
    "execution": {
     "iopub.execute_input": "2025-01-19T19:34:06.887291Z",
     "iopub.status.busy": "2025-01-19T19:34:06.886972Z",
     "iopub.status.idle": "2025-01-19T19:34:06.895340Z",
     "shell.execute_reply": "2025-01-19T19:34:06.894851Z"
    }
   },
   "outputs": [
    {
     "data": {
      "text/html": [
       "<div>\n",
       "<style scoped>\n",
       "    .dataframe tbody tr th:only-of-type {\n",
       "        vertical-align: middle;\n",
       "    }\n",
       "\n",
       "    .dataframe tbody tr th {\n",
       "        vertical-align: top;\n",
       "    }\n",
       "\n",
       "    .dataframe thead th {\n",
       "        text-align: right;\n",
       "    }\n",
       "</style>\n",
       "<table border=\"1\" class=\"dataframe\">\n",
       "  <thead>\n",
       "    <tr style=\"text-align: right;\">\n",
       "      <th></th>\n",
       "      <th>index</th>\n",
       "      <th>distance</th>\n",
       "      <th>distanceTotalPairCount</th>\n",
       "      <th>distanceTotalSourceCount</th>\n",
       "      <th>distanceTotalTargetCount</th>\n",
       "    </tr>\n",
       "  </thead>\n",
       "  <tbody>\n",
       "    <tr>\n",
       "      <th>0</th>\n",
       "      <td>0</td>\n",
       "      <td>1</td>\n",
       "      <td>3</td>\n",
       "      <td>1</td>\n",
       "      <td>3</td>\n",
       "    </tr>\n",
       "    <tr>\n",
       "      <th>1</th>\n",
       "      <td>1</td>\n",
       "      <td>2</td>\n",
       "      <td>1</td>\n",
       "      <td>1</td>\n",
       "      <td>1</td>\n",
       "    </tr>\n",
       "    <tr>\n",
       "      <th>2</th>\n",
       "      <td>2</td>\n",
       "      <td>3</td>\n",
       "      <td>1</td>\n",
       "      <td>1</td>\n",
       "      <td>1</td>\n",
       "    </tr>\n",
       "    <tr>\n",
       "      <th>3</th>\n",
       "      <td>3</td>\n",
       "      <td>4</td>\n",
       "      <td>1</td>\n",
       "      <td>1</td>\n",
       "      <td>1</td>\n",
       "    </tr>\n",
       "    <tr>\n",
       "      <th>4</th>\n",
       "      <td>4</td>\n",
       "      <td>5</td>\n",
       "      <td>1</td>\n",
       "      <td>1</td>\n",
       "      <td>1</td>\n",
       "    </tr>\n",
       "    <tr>\n",
       "      <th>5</th>\n",
       "      <td>5</td>\n",
       "      <td>6</td>\n",
       "      <td>1</td>\n",
       "      <td>1</td>\n",
       "      <td>1</td>\n",
       "    </tr>\n",
       "  </tbody>\n",
       "</table>\n",
       "</div>"
      ],
      "text/plain": [
       "   index  distance  distanceTotalPairCount  distanceTotalSourceCount  \\\n",
       "0      0         1                       3                         1   \n",
       "1      1         2                       1                         1   \n",
       "2      2         3                       1                         1   \n",
       "3      3         4                       1                         1   \n",
       "4      4         5                       1                         1   \n",
       "5      5         6                       1                         1   \n",
       "\n",
       "   distanceTotalTargetCount  \n",
       "0                         3  \n",
       "1                         1  \n",
       "2                         1  \n",
       "3                         1  \n",
       "4                         1  \n",
       "5                         1  "
      ]
     },
     "execution_count": 59,
     "metadata": {},
     "output_type": "execute_result"
    }
   ],
   "source": [
    "# First, display only the overall/total distances, their pair count and the count of the distinct source and target nodes\n",
    "longest_artifact_paths_distribution_per_artifact_in_total=get_total_distance_distribution(longest_artifact_paths_distribution)\n",
    "longest_artifact_paths_distribution_per_artifact_in_total.head(50)"
   ]
  },
  {
   "cell_type": "markdown",
   "id": "9370f59f",
   "metadata": {},
   "source": [
    "#### Longest path in total - Path count per length - Bar chart"
   ]
  },
  {
   "cell_type": "code",
   "execution_count": 60,
   "id": "1354a31d",
   "metadata": {
    "execution": {
     "iopub.execute_input": "2025-01-19T19:34:06.897393Z",
     "iopub.status.busy": "2025-01-19T19:34:06.897030Z",
     "iopub.status.idle": "2025-01-19T19:34:07.039521Z",
     "shell.execute_reply": "2025-01-19T19:34:07.039005Z"
    }
   },
   "outputs": [
    {
     "data": {
      "image/png": "[encoded data removed]",
      "text/plain": [
       "<Figure size 900x700 with 1 Axes>"
      ]
     },
     "metadata": {},
     "output_type": "display_data"
    }
   ],
   "source": [
    "plot_total_distances_bar_chart(\n",
    "    data_frame=longest_artifact_paths_distribution_per_artifact_in_total, \n",
    "    title='Longest path for Java artifact dependencies in total (bar)',\n",
    "    ylabel='total number of java artifact paths'\n",
    ")"
   ]
  },
  {
   "cell_type": "markdown",
   "id": "dd161655",
   "metadata": {},
   "source": [
    "#### Longest path in total - Path count per length - Pie chart"
   ]
  },
  {
   "cell_type": "code",
   "execution_count": 61,
   "id": "d443ede4",
   "metadata": {
    "execution": {
     "iopub.execute_input": "2025-01-19T19:34:07.041917Z",
     "iopub.status.busy": "2025-01-19T19:34:07.041564Z",
     "iopub.status.idle": "2025-01-19T19:34:07.155822Z",
     "shell.execute_reply": "2025-01-19T19:34:07.155316Z"
    }
   },
   "outputs": [
    {
     "data": {
      "text/plain": [
       "<Figure size 640x480 with 0 Axes>"
      ]
     },
     "metadata": {},
     "output_type": "display_data"
    },
    {
     "data": {
      "image/png": "[encoded data removed]",
      "text/plain": [
       "<Figure size 800x800 with 1 Axes>"
      ]
     },
     "metadata": {},
     "output_type": "display_data"
    }
   ],
   "source": [
    "plot_total_distances_pie_chart(\n",
    "    data_frame=longest_artifact_paths_distribution_per_artifact_in_total,\n",
    "    title='Longest path for Java artifact dependencies in total (pie)',\n",
    "    ylabel='total number of Java artifact paths'\n",
    ")"
   ]
  },
  {
   "cell_type": "markdown",
   "id": "82025919",
   "metadata": {},
   "source": [
    "## 3. Summary"
   ]
  },
  {
   "cell_type": "markdown",
   "id": "701bcb1c",
   "metadata": {},
   "source": [
    "### 3.1 Java packages summary"
   ]
  },
  {
   "cell_type": "code",
   "execution_count": 62,
   "id": "a6d16c65",
   "metadata": {
    "execution": {
     "iopub.execute_input": "2025-01-19T19:34:07.158184Z",
     "iopub.status.busy": "2025-01-19T19:34:07.157844Z",
     "iopub.status.idle": "2025-01-19T19:34:07.166874Z",
     "shell.execute_reply": "2025-01-19T19:34:07.166393Z"
    }
   },
   "outputs": [
    {
     "data": {
      "text/html": [
       "<div>\n",
       "<style scoped>\n",
       "    .dataframe tbody tr th:only-of-type {\n",
       "        vertical-align: middle;\n",
       "    }\n",
       "\n",
       "    .dataframe tbody tr th {\n",
       "        vertical-align: top;\n",
       "    }\n",
       "\n",
       "    .dataframe thead th {\n",
       "        text-align: right;\n",
       "    }\n",
       "</style>\n",
       "<table border=\"1\" class=\"dataframe\">\n",
       "  <thead>\n",
       "    <tr style=\"text-align: right;\">\n",
       "      <th></th>\n",
       "      <th>count</th>\n",
       "      <th>degree density</th>\n",
       "      <th>degree median</th>\n",
       "      <th>degree max</th>\n",
       "      <th>longest shortest path (diameter)</th>\n",
       "      <th>max. longest path</th>\n",
       "    </tr>\n",
       "  </thead>\n",
       "  <tbody>\n",
       "    <tr>\n",
       "      <th>0</th>\n",
       "      <td>114</td>\n",
       "      <td>0.05791</td>\n",
       "      <td>5</td>\n",
       "      <td>56</td>\n",
       "      <td>5</td>\n",
       "      <td>4</td>\n",
       "    </tr>\n",
       "  </tbody>\n",
       "</table>\n",
       "</div>"
      ],
      "text/plain": [
       "   count  degree density  degree median  degree max  \\\n",
       "0    114         0.05791              5          56   \n",
       "\n",
       "   longest shortest path (diameter)  max. longest path  \n",
       "0                                 5                  4  "
      ]
     },
     "execution_count": 62,
     "metadata": {},
     "output_type": "execute_result"
    }
   ],
   "source": [
    "package_path_algorithm_summary_values = {\n",
    "    'count': package_projection_statistics.nodeCount[0] if not package_projection_statistics.empty else 0, \n",
    "    'degree density': package_projection_statistics.density[0] if not package_projection_statistics.empty else 0.0, \n",
    "    'degree median': package_projection_statistics['degreeDistribution.p50'][0] if not package_projection_statistics.empty else 0,\n",
    "    'degree max': package_projection_statistics['degreeDistribution.max'][0] if not package_projection_statistics.empty else 0,\n",
    "    'longest shortest path (diameter)': package_dependencies_graph_diameter,\n",
    "    'max. longest path': package_dependencies_max_longest_path\n",
    "}\n",
    "package_path_algorithm_summary = pd.DataFrame.from_records([package_path_algorithm_summary_values])\n",
    "package_path_algorithm_summary"
   ]
  },
  {
   "cell_type": "markdown",
   "id": "3d9f68ec",
   "metadata": {},
   "source": [
    "### 3.2 Java artifacts summary"
   ]
  },
  {
   "cell_type": "code",
   "execution_count": 63,
   "id": "9fcf82e4",
   "metadata": {
    "execution": {
     "iopub.execute_input": "2025-01-19T19:34:07.168879Z",
     "iopub.status.busy": "2025-01-19T19:34:07.168740Z",
     "iopub.status.idle": "2025-01-19T19:34:07.176922Z",
     "shell.execute_reply": "2025-01-19T19:34:07.176507Z"
    }
   },
   "outputs": [
    {
     "data": {
      "text/html": [
       "<div>\n",
       "<style scoped>\n",
       "    .dataframe tbody tr th:only-of-type {\n",
       "        vertical-align: middle;\n",
       "    }\n",
       "\n",
       "    .dataframe tbody tr th {\n",
       "        vertical-align: top;\n",
       "    }\n",
       "\n",
       "    .dataframe thead th {\n",
       "        text-align: right;\n",
       "    }\n",
       "</style>\n",
       "<table border=\"1\" class=\"dataframe\">\n",
       "  <thead>\n",
       "    <tr style=\"text-align: right;\">\n",
       "      <th></th>\n",
       "      <th>count</th>\n",
       "      <th>degree density</th>\n",
       "      <th>degree median</th>\n",
       "      <th>degree max</th>\n",
       "      <th>longest shortest path (diameter)</th>\n",
       "      <th>max. longest path</th>\n",
       "    </tr>\n",
       "  </thead>\n",
       "  <tbody>\n",
       "    <tr>\n",
       "      <th>0</th>\n",
       "      <td>9</td>\n",
       "      <td>0.347222</td>\n",
       "      <td>3</td>\n",
       "      <td>7</td>\n",
       "      <td>2</td>\n",
       "      <td>6</td>\n",
       "    </tr>\n",
       "  </tbody>\n",
       "</table>\n",
       "</div>"
      ],
      "text/plain": [
       "   count  degree density  degree median  degree max  \\\n",
       "0      9        0.347222              3           7   \n",
       "\n",
       "   longest shortest path (diameter)  max. longest path  \n",
       "0                                 2                  6  "
      ]
     },
     "execution_count": 63,
     "metadata": {},
     "output_type": "execute_result"
    }
   ],
   "source": [
    "artifact_path_algorithm_summary_values = {\n",
    "    'count': artifact_projection_statistics.nodeCount[0] if not artifact_projection_statistics.empty else 0,\n",
    "    'degree density': artifact_projection_statistics.density[0] if not artifact_projection_statistics.empty else 0, \n",
    "    'degree median': artifact_projection_statistics['degreeDistribution.p50'][0] if not artifact_projection_statistics.empty else 0,\n",
    "    'degree max': artifact_projection_statistics['degreeDistribution.max'][0] if not artifact_projection_statistics.empty else 0,\n",
    "    'longest shortest path (diameter)': artifact_dependencies_graph_diameter,\n",
    "    'max. longest path': artifact_dependencies_max_longest_path\n",
    "}\n",
    "artifact_path_algorithm_summary = pd.DataFrame.from_records([artifact_path_algorithm_summary_values])\n",
    "artifact_path_algorithm_summary"
   ]
  }
 ],
 "metadata": {
  "authors": [
   {
    "name": "JohT"
   }
  ],
  "code_graph_analysis_pipeline_data_validation": "ValidateJavaPackageDependencies",
  "kernelspec": {
   "display_name": "Python 3 (ipykernel)",
   "language": "python",
   "name": "python3"
  },
  "language_info": {
   "codemirror_mode": {
    "name": "ipython",
    "version": 3
   },
   "file_extension": ".py",
   "mimetype": "text/x-python",
   "name": "python",
   "nbconvert_exporter": "python",
   "pygments_lexer": "ipython3",
   "version": "3.11.0"
  },
  "title": "Path finding algorithms for Java package and artifact dependencies with Neo4j"
 },
 "nbformat": 4,
 "nbformat_minor": 5
}
