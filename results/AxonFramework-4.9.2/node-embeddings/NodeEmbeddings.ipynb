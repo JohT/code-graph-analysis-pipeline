{
 "cells": [
  {
   "attachments": {},
   "cell_type": "markdown",
   "id": "2f0eabc4",
   "metadata": {},
   "source": [
    "# Node Embeddings\n",
    "\n",
    "Here we will have a look at node embeddings and how to further reduce their dimensionality to be able to visualize them in a 2D plot. \n",
    "\n",
    "### Note about data dependencies\n",
    "\n",
    "PageRank centrality and Leiden community are also fetched from the Graph and need to be calculated first.\n",
    "This makes it easier to see in the visualization if the embeddings approximate the structural information of the graph.\n",
    "If these properties are missing you will only see black dots all of the same size without community coloring.\n",
    "In future it might make sense to also run a community detection algorithm co-located in here to not depend on the order of execution.\n",
    "\n",
    "<br>  \n",
    "\n",
    "### References\n",
    "- [jqassistant](https://jqassistant.org)\n",
    "- [Neo4j Python Driver](https://neo4j.com/docs/api/python-driver/current)\n",
    "- [Tutorial: Applied Graph Embeddings](https://neo4j.com/developer/graph-data-science/applied-graph-embeddings)\n",
    "- [Visualizing the embeddings in 2D](https://github.com/openai/openai-cookbook/blob/main/examples/Visualizing_embeddings_in_2D.ipynb)\n",
    "- [Fast Random Projection](https://neo4j.com/docs/graph-data-science/current/machine-learning/node-embeddings/fastrp)\n",
    "- [scikit-learn TSNE](https://scikit-learn.org/stable/modules/generated/sklearn.manifold.TSNE.html#sklearn.manifold.TSNE)\n",
    "- [AttributeError: 'list' object has no attribute 'shape'](https://bobbyhadz.com/blog/python-attributeerror-list-object-has-no-attribute-shape)"
   ]
  },
  {
   "cell_type": "code",
   "execution_count": 1,
   "id": "4191f259",
   "metadata": {
    "execution": {
     "iopub.execute_input": "2024-02-26T09:07:58.286635Z",
     "iopub.status.busy": "2024-02-26T09:07:58.286457Z",
     "iopub.status.idle": "2024-02-26T09:07:59.168904Z",
     "shell.execute_reply": "2024-02-26T09:07:59.168377Z"
    }
   },
   "outputs": [],
   "source": [
    "import os\n",
    "import pandas as pd\n",
    "import matplotlib.pyplot as plot\n",
    "import typing as typ\n",
    "import numpy as np\n",
    "from sklearn.manifold import TSNE\n",
    "from neo4j import GraphDatabase"
   ]
  },
  {
   "cell_type": "code",
   "execution_count": 2,
   "id": "f8ef41ff",
   "metadata": {
    "execution": {
     "iopub.execute_input": "2024-02-26T09:07:59.171454Z",
     "iopub.status.busy": "2024-02-26T09:07:59.171088Z",
     "iopub.status.idle": "2024-02-26T09:07:59.174583Z",
     "shell.execute_reply": "2024-02-26T09:07:59.174113Z"
    }
   },
   "outputs": [
    {
     "name": "stdout",
     "output_type": "stream",
     "text": [
      "The scikit-learn version is 1.3.0.\n",
      "The pandas version is 1.5.1.\n"
     ]
    }
   ],
   "source": [
    "import sklearn\n",
    "print('The scikit-learn version is {}.'.format(sklearn.__version__))\n",
    "print('The pandas version is {}.'.format(pd.__version__))\n"
   ]
  },
  {
   "cell_type": "code",
   "execution_count": 3,
   "id": "1c5dab37",
   "metadata": {
    "execution": {
     "iopub.execute_input": "2024-02-26T09:07:59.176400Z",
     "iopub.status.busy": "2024-02-26T09:07:59.176236Z",
     "iopub.status.idle": "2024-02-26T09:07:59.183234Z",
     "shell.execute_reply": "2024-02-26T09:07:59.182745Z"
    }
   },
   "outputs": [],
   "source": [
    "# Please set the environment variable \"NEO4J_INITIAL_PASSWORD\" in your shell \n",
    "# before starting jupyter notebook to provide the password for the user \"neo4j\". \n",
    "# It is not recommended to hardcode the password into jupyter notebook for security reasons.\n",
    "\n",
    "driver = GraphDatabase.driver(uri=\"bolt://localhost:7687\", auth=(\"neo4j\", os.environ.get(\"NEO4J_INITIAL_PASSWORD\")))\n",
    "driver.verify_connectivity()"
   ]
  },
  {
   "cell_type": "code",
   "execution_count": 4,
   "id": "c1db254b",
   "metadata": {
    "execution": {
     "iopub.execute_input": "2024-02-26T09:07:59.185331Z",
     "iopub.status.busy": "2024-02-26T09:07:59.185025Z",
     "iopub.status.idle": "2024-02-26T09:07:59.187545Z",
     "shell.execute_reply": "2024-02-26T09:07:59.187165Z"
    }
   },
   "outputs": [],
   "source": [
    "def get_cypher_query_from_file(filename):\n",
    "    with open(filename) as file:\n",
    "        return ' '.join(file.readlines())"
   ]
  },
  {
   "cell_type": "code",
   "execution_count": 5,
   "id": "59310f6f",
   "metadata": {
    "execution": {
     "iopub.execute_input": "2024-02-26T09:07:59.189446Z",
     "iopub.status.busy": "2024-02-26T09:07:59.189146Z",
     "iopub.status.idle": "2024-02-26T09:07:59.192121Z",
     "shell.execute_reply": "2024-02-26T09:07:59.191652Z"
    }
   },
   "outputs": [],
   "source": [
    "def query_cypher_to_data_frame(filename, parameters_: typ.Optional[typ.Dict[str, typ.Any]] = None):\n",
    "    records, summary, keys = driver.execute_query(get_cypher_query_from_file(filename),parameters_=parameters_)\n",
    "    return pd.DataFrame([r.values() for r in records], columns=keys)"
   ]
  },
  {
   "cell_type": "code",
   "execution_count": 6,
   "id": "da9e8edb",
   "metadata": {
    "execution": {
     "iopub.execute_input": "2024-02-26T09:07:59.194202Z",
     "iopub.status.busy": "2024-02-26T09:07:59.193916Z",
     "iopub.status.idle": "2024-02-26T09:07:59.196183Z",
     "shell.execute_reply": "2024-02-26T09:07:59.195763Z"
    }
   },
   "outputs": [],
   "source": [
    "#The following cell uses the build-in %html \"magic\" to override the CSS style for tables to a much smaller size.\n",
    "#This is especially needed for PDF export of tables with multiple columns."
   ]
  },
  {
   "cell_type": "code",
   "execution_count": 7,
   "id": "9deaabce",
   "metadata": {
    "execution": {
     "iopub.execute_input": "2024-02-26T09:07:59.198078Z",
     "iopub.status.busy": "2024-02-26T09:07:59.197786Z",
     "iopub.status.idle": "2024-02-26T09:07:59.204352Z",
     "shell.execute_reply": "2024-02-26T09:07:59.203940Z"
    }
   },
   "outputs": [
    {
     "data": {
      "text/html": [
       "<style>\n",
       "/* CSS style for smaller dataframe tables. */\n",
       ".dataframe th {\n",
       "    font-size: 8px;\n",
       "}\n",
       ".dataframe td {\n",
       "    font-size: 8px;\n",
       "}\n",
       "</style>\n"
      ],
      "text/plain": [
       "<IPython.core.display.HTML object>"
      ]
     },
     "metadata": {},
     "output_type": "display_data"
    }
   ],
   "source": [
    "%%html\n",
    "<style>\n",
    "/* CSS style for smaller dataframe tables. */\n",
    ".dataframe th {\n",
    "    font-size: 8px;\n",
    "}\n",
    ".dataframe td {\n",
    "    font-size: 8px;\n",
    "}\n",
    "</style>"
   ]
  },
  {
   "cell_type": "code",
   "execution_count": 8,
   "id": "c2496caf",
   "metadata": {
    "execution": {
     "iopub.execute_input": "2024-02-26T09:07:59.206099Z",
     "iopub.status.busy": "2024-02-26T09:07:59.205941Z",
     "iopub.status.idle": "2024-02-26T09:07:59.208150Z",
     "shell.execute_reply": "2024-02-26T09:07:59.207772Z"
    }
   },
   "outputs": [],
   "source": [
    "# Main Colormap\n",
    "main_color_map = 'nipy_spectral'"
   ]
  },
  {
   "cell_type": "markdown",
   "id": "0c68aa20",
   "metadata": {},
   "source": [
    "## Preparation"
   ]
  },
  {
   "cell_type": "markdown",
   "id": "fcec9b7d",
   "metadata": {},
   "source": [
    "### Create Graph Projection\n",
    "\n",
    "Create an in-memory undirected graph projection containing Package nodes (vertices) and their dependencies (edges)."
   ]
  },
  {
   "cell_type": "code",
   "execution_count": 9,
   "id": "20190661",
   "metadata": {
    "execution": {
     "iopub.execute_input": "2024-02-26T09:07:59.210238Z",
     "iopub.status.busy": "2024-02-26T09:07:59.209941Z",
     "iopub.status.idle": "2024-02-26T09:07:59.212537Z",
     "shell.execute_reply": "2024-02-26T09:07:59.212028Z"
    }
   },
   "outputs": [],
   "source": [
    "package_embeddings_parameters={\n",
    "    \"dependencies_projection\": \"package-embeddings-notebook\",\n",
    "    \"dependencies_projection_node\": \"Package\",\n",
    "    \"dependencies_projection_weight_property\": \"weight25PercentInterfaces\",\n",
    "    \"dependencies_projection_wright_property\": \"nodeEmbeddingsFastRandomProjection\",\n",
    "    \"dependencies_projection_embedding_dimension\":\"64\" \n",
    "}"
   ]
  },
  {
   "cell_type": "code",
   "execution_count": 10,
   "id": "82e99db2",
   "metadata": {
    "execution": {
     "iopub.execute_input": "2024-02-26T09:07:59.214551Z",
     "iopub.status.busy": "2024-02-26T09:07:59.214205Z",
     "iopub.status.idle": "2024-02-26T09:07:59.376275Z",
     "shell.execute_reply": "2024-02-26T09:07:59.375794Z"
    }
   },
   "outputs": [
    {
     "data": {
      "text/html": [
       "<div>\n",
       "<style scoped>\n",
       "    .dataframe tbody tr th:only-of-type {\n",
       "        vertical-align: middle;\n",
       "    }\n",
       "\n",
       "    .dataframe tbody tr th {\n",
       "        vertical-align: top;\n",
       "    }\n",
       "\n",
       "    .dataframe thead th {\n",
       "        text-align: right;\n",
       "    }\n",
       "</style>\n",
       "<table border=\"1\" class=\"dataframe\">\n",
       "  <thead>\n",
       "    <tr style=\"text-align: right;\">\n",
       "      <th></th>\n",
       "      <th>graphName</th>\n",
       "      <th>fromGraphName</th>\n",
       "      <th>nodeCount</th>\n",
       "      <th>relationshipCount</th>\n",
       "      <th>nodeFilter</th>\n",
       "    </tr>\n",
       "  </thead>\n",
       "  <tbody>\n",
       "    <tr>\n",
       "      <th>0</th>\n",
       "      <td>package-embeddings-notebook-cleaned</td>\n",
       "      <td>package-embeddings-notebook</td>\n",
       "      <td>93</td>\n",
       "      <td>690</td>\n",
       "      <td>n.outgoingDependencies &gt; 0 OR n.incomingDepend...</td>\n",
       "    </tr>\n",
       "  </tbody>\n",
       "</table>\n",
       "</div>"
      ],
      "text/plain": [
       "                             graphName                fromGraphName  \\\n",
       "0  package-embeddings-notebook-cleaned  package-embeddings-notebook   \n",
       "\n",
       "   nodeCount  relationshipCount  \\\n",
       "0         93                690   \n",
       "\n",
       "                                          nodeFilter  \n",
       "0  n.outgoingDependencies > 0 OR n.incomingDepend...  "
      ]
     },
     "execution_count": 10,
     "metadata": {},
     "output_type": "execute_result"
    }
   ],
   "source": [
    "query_cypher_to_data_frame(\"../cypher/Dependencies_Projection/Dependencies_1_Delete_Projection.cypher\", package_embeddings_parameters)\n",
    "query_cypher_to_data_frame(\"../cypher/Dependencies_Projection/Dependencies_2_Delete_Subgraph.cypher\", package_embeddings_parameters)\n",
    "query_cypher_to_data_frame(\"../cypher/Dependencies_Projection/Dependencies_4_Create_Undirected_Projection.cypher\", package_embeddings_parameters)\n",
    "query_cypher_to_data_frame(\"../cypher/Dependencies_Projection/Dependencies_5_Create_Subgraph.cypher\", package_embeddings_parameters)"
   ]
  },
  {
   "cell_type": "markdown",
   "id": "145dca19",
   "metadata": {},
   "source": [
    "### Generate Node Embeddings using Fast Random Projection (Fast RP)\n",
    "\n",
    "[Fast Random Projection](https://neo4j.com/docs/graph-data-science/current/machine-learning/node-embeddings/fastrp) calculates an array of floats (length = embedding dimension) for every node in the graph. These numbers approximate the relationship and similarity information of each node and are called node embeddings. Random Projections is used to reduce the dimensionality of the node feature space while preserving pairwise distances.\n",
    "\n",
    "The result can be used in machine learning as features approximating the graph structure. It can also be used to further reduce the dimensionality to visualize the graph in a 2D plot, as we will be doing here."
   ]
  },
  {
   "cell_type": "code",
   "execution_count": 11,
   "id": "8efca2cf",
   "metadata": {
    "execution": {
     "iopub.execute_input": "2024-02-26T09:07:59.378542Z",
     "iopub.status.busy": "2024-02-26T09:07:59.378231Z",
     "iopub.status.idle": "2024-02-26T09:07:59.447397Z",
     "shell.execute_reply": "2024-02-26T09:07:59.446896Z"
    }
   },
   "outputs": [
    {
     "data": {
      "text/html": [
       "<div>\n",
       "<style scoped>\n",
       "    .dataframe tbody tr th:only-of-type {\n",
       "        vertical-align: middle;\n",
       "    }\n",
       "\n",
       "    .dataframe tbody tr th {\n",
       "        vertical-align: top;\n",
       "    }\n",
       "\n",
       "    .dataframe thead th {\n",
       "        text-align: right;\n",
       "    }\n",
       "</style>\n",
       "<table border=\"1\" class=\"dataframe\">\n",
       "  <thead>\n",
       "    <tr style=\"text-align: right;\">\n",
       "      <th></th>\n",
       "      <th>codeUnitName</th>\n",
       "      <th>communityId</th>\n",
       "      <th>centrality</th>\n",
       "      <th>artifactName</th>\n",
       "      <th>embedding</th>\n",
       "    </tr>\n",
       "  </thead>\n",
       "  <tbody>\n",
       "    <tr>\n",
       "      <th>0</th>\n",
       "      <td>org.axonframework.disruptor.commandhandling</td>\n",
       "      <td>0</td>\n",
       "      <td>0.016234</td>\n",
       "      <td>axon-disruptor-4.9.2</td>\n",
       "      <td>[0.0, 0.0, 0.0, 0.0, 0.0, 0.0, 0.0, 0.0, 0.0, ...</td>\n",
       "    </tr>\n",
       "    <tr>\n",
       "      <th>1</th>\n",
       "      <td>org.axonframework.eventsourcing</td>\n",
       "      <td>1</td>\n",
       "      <td>0.107658</td>\n",
       "      <td>axon-eventsourcing-4.9.2</td>\n",
       "      <td>[0.008667867630720139, 0.12125895172357559, -0...</td>\n",
       "    </tr>\n",
       "    <tr>\n",
       "      <th>2</th>\n",
       "      <td>org.axonframework.eventsourcing.conflictresolu...</td>\n",
       "      <td>1</td>\n",
       "      <td>0.044085</td>\n",
       "      <td>axon-eventsourcing-4.9.2</td>\n",
       "      <td>[0.0062794857658445835, 0.1432967185974121, -0...</td>\n",
       "    </tr>\n",
       "    <tr>\n",
       "      <th>3</th>\n",
       "      <td>org.axonframework.eventsourcing.eventstore</td>\n",
       "      <td>1</td>\n",
       "      <td>0.179264</td>\n",
       "      <td>axon-eventsourcing-4.9.2</td>\n",
       "      <td>[0.009592661634087563, 0.19880886375904083, -0...</td>\n",
       "    </tr>\n",
       "    <tr>\n",
       "      <th>4</th>\n",
       "      <td>org.axonframework.eventsourcing.eventstore.inm...</td>\n",
       "      <td>1</td>\n",
       "      <td>0.016234</td>\n",
       "      <td>axon-eventsourcing-4.9.2</td>\n",
       "      <td>[0.01044510118663311, 0.16725505888462067, -0....</td>\n",
       "    </tr>\n",
       "  </tbody>\n",
       "</table>\n",
       "</div>"
      ],
      "text/plain": [
       "                                        codeUnitName  communityId  centrality  \\\n",
       "0        org.axonframework.disruptor.commandhandling            0    0.016234   \n",
       "1                    org.axonframework.eventsourcing            1    0.107658   \n",
       "2  org.axonframework.eventsourcing.conflictresolu...            1    0.044085   \n",
       "3         org.axonframework.eventsourcing.eventstore            1    0.179264   \n",
       "4  org.axonframework.eventsourcing.eventstore.inm...            1    0.016234   \n",
       "\n",
       "               artifactName                                          embedding  \n",
       "0      axon-disruptor-4.9.2  [0.0, 0.0, 0.0, 0.0, 0.0, 0.0, 0.0, 0.0, 0.0, ...  \n",
       "1  axon-eventsourcing-4.9.2  [0.008667867630720139, 0.12125895172357559, -0...  \n",
       "2  axon-eventsourcing-4.9.2  [0.0062794857658445835, 0.1432967185974121, -0...  \n",
       "3  axon-eventsourcing-4.9.2  [0.009592661634087563, 0.19880886375904083, -0...  \n",
       "4  axon-eventsourcing-4.9.2  [0.01044510118663311, 0.16725505888462067, -0....  "
      ]
     },
     "execution_count": 11,
     "metadata": {},
     "output_type": "execute_result"
    }
   ],
   "source": [
    "\n",
    "fast_random_projection = query_cypher_to_data_frame(\"../cypher/Node_Embeddings/Node_Embeddings_1d_Fast_Random_Projection_Stream.cypher\", package_embeddings_parameters)\n",
    "fast_random_projection.head() # Look at the first entries of the table \n"
   ]
  },
  {
   "cell_type": "markdown",
   "id": "76d8bca1",
   "metadata": {},
   "source": [
    "### Dimensionality reduction with t-distributed stochastic neighbor embedding (t-SNE)\n",
    "\n",
    "This step takes the original node embeddings with a higher dimensionality (e.g. list of 32 floats) and\n",
    "reduces them to a 2 dimensional array for visualization. \n",
    "\n",
    "> It converts similarities between data points to joint probabilities and tries to minimize the Kullback-Leibler divergence between the joint probabilities of the low-dimensional embedding and the high-dimensional data.\n",
    "\n",
    "(see https://scikit-learn.org/stable/modules/generated/sklearn.manifold.TSNE.html#sklearn.manifold.TSNE)"
   ]
  },
  {
   "cell_type": "code",
   "execution_count": 12,
   "id": "b2de000f",
   "metadata": {
    "execution": {
     "iopub.execute_input": "2024-02-26T09:07:59.449408Z",
     "iopub.status.busy": "2024-02-26T09:07:59.449253Z",
     "iopub.status.idle": "2024-02-26T09:07:59.695775Z",
     "shell.execute_reply": "2024-02-26T09:07:59.695338Z"
    }
   },
   "outputs": [
    {
     "name": "stdout",
     "output_type": "stream",
     "text": [
      "[t-SNE] Computing 91 nearest neighbors...\n",
      "[t-SNE] Indexed 93 samples in 0.000s...\n",
      "[t-SNE] Computed neighbors for 93 samples in 0.024s...\n",
      "[t-SNE] Computed conditional probabilities for sample 93 / 93\n",
      "[t-SNE] Mean sigma: 0.582331\n",
      "[t-SNE] KL divergence after 250 iterations with early exaggeration: 48.286213\n",
      "[t-SNE] KL divergence after 1000 iterations: 0.057572\n"
     ]
    },
    {
     "data": {
      "text/plain": [
       "(93, 2)"
      ]
     },
     "execution_count": 12,
     "metadata": {},
     "output_type": "execute_result"
    }
   ],
   "source": [
    "# Calling the fit_transform method just with a list doesn't seem to work (anymore?). \n",
    "# It leads to an error with the following message: 'list' object has no attribute 'shape'\n",
    "# This can be solved by converting the list to a numpy array using np.array(..).\n",
    "# See https://bobbyhadz.com/blog/python-attributeerror-list-object-has-no-attribute-shape\n",
    "embeddings_as_numpy_array = np.array(fast_random_projection.embedding.to_list())\n",
    "\n",
    "# Use TSNE to reduce the dimensionality of the previous calculated node embeddings to 2 dimensions for visualization\n",
    "t_distributed_stochastic_neighbor_embedding = TSNE(n_components=2, verbose=1, random_state=50)\n",
    "two_dimension_node_embeddings = t_distributed_stochastic_neighbor_embedding.fit_transform(embeddings_as_numpy_array)\n",
    "two_dimension_node_embeddings.shape"
   ]
  },
  {
   "cell_type": "code",
   "execution_count": 13,
   "id": "8ce7ea41",
   "metadata": {
    "execution": {
     "iopub.execute_input": "2024-02-26T09:07:59.697900Z",
     "iopub.status.busy": "2024-02-26T09:07:59.697739Z",
     "iopub.status.idle": "2024-02-26T09:07:59.706004Z",
     "shell.execute_reply": "2024-02-26T09:07:59.705591Z"
    }
   },
   "outputs": [
    {
     "data": {
      "text/html": [
       "<div>\n",
       "<style scoped>\n",
       "    .dataframe tbody tr th:only-of-type {\n",
       "        vertical-align: middle;\n",
       "    }\n",
       "\n",
       "    .dataframe tbody tr th {\n",
       "        vertical-align: top;\n",
       "    }\n",
       "\n",
       "    .dataframe thead th {\n",
       "        text-align: right;\n",
       "    }\n",
       "</style>\n",
       "<table border=\"1\" class=\"dataframe\">\n",
       "  <thead>\n",
       "    <tr style=\"text-align: right;\">\n",
       "      <th></th>\n",
       "      <th>codeUnit</th>\n",
       "      <th>artifact</th>\n",
       "      <th>communityId</th>\n",
       "      <th>centrality</th>\n",
       "      <th>x</th>\n",
       "      <th>y</th>\n",
       "    </tr>\n",
       "  </thead>\n",
       "  <tbody>\n",
       "    <tr>\n",
       "      <th>0</th>\n",
       "      <td>org.axonframework.disruptor.commandhandling</td>\n",
       "      <td>axon-disruptor-4.9.2</td>\n",
       "      <td>0</td>\n",
       "      <td>0.016234</td>\n",
       "      <td>-0.577240</td>\n",
       "      <td>-1.832495</td>\n",
       "    </tr>\n",
       "    <tr>\n",
       "      <th>1</th>\n",
       "      <td>org.axonframework.eventsourcing</td>\n",
       "      <td>axon-eventsourcing-4.9.2</td>\n",
       "      <td>1</td>\n",
       "      <td>0.107658</td>\n",
       "      <td>-3.622950</td>\n",
       "      <td>-1.470727</td>\n",
       "    </tr>\n",
       "    <tr>\n",
       "      <th>2</th>\n",
       "      <td>org.axonframework.eventsourcing.conflictresolu...</td>\n",
       "      <td>axon-eventsourcing-4.9.2</td>\n",
       "      <td>1</td>\n",
       "      <td>0.044085</td>\n",
       "      <td>-3.954667</td>\n",
       "      <td>-1.355268</td>\n",
       "    </tr>\n",
       "    <tr>\n",
       "      <th>3</th>\n",
       "      <td>org.axonframework.eventsourcing.eventstore</td>\n",
       "      <td>axon-eventsourcing-4.9.2</td>\n",
       "      <td>1</td>\n",
       "      <td>0.179264</td>\n",
       "      <td>-3.609345</td>\n",
       "      <td>-2.063399</td>\n",
       "    </tr>\n",
       "    <tr>\n",
       "      <th>4</th>\n",
       "      <td>org.axonframework.eventsourcing.eventstore.inm...</td>\n",
       "      <td>axon-eventsourcing-4.9.2</td>\n",
       "      <td>1</td>\n",
       "      <td>0.016234</td>\n",
       "      <td>-3.429618</td>\n",
       "      <td>-1.723564</td>\n",
       "    </tr>\n",
       "  </tbody>\n",
       "</table>\n",
       "</div>"
      ],
      "text/plain": [
       "                                            codeUnit  \\\n",
       "0        org.axonframework.disruptor.commandhandling   \n",
       "1                    org.axonframework.eventsourcing   \n",
       "2  org.axonframework.eventsourcing.conflictresolu...   \n",
       "3         org.axonframework.eventsourcing.eventstore   \n",
       "4  org.axonframework.eventsourcing.eventstore.inm...   \n",
       "\n",
       "                   artifact  communityId  centrality         x         y  \n",
       "0      axon-disruptor-4.9.2            0    0.016234 -0.577240 -1.832495  \n",
       "1  axon-eventsourcing-4.9.2            1    0.107658 -3.622950 -1.470727  \n",
       "2  axon-eventsourcing-4.9.2            1    0.044085 -3.954667 -1.355268  \n",
       "3  axon-eventsourcing-4.9.2            1    0.179264 -3.609345 -2.063399  \n",
       "4  axon-eventsourcing-4.9.2            1    0.016234 -3.429618 -1.723564  "
      ]
     },
     "execution_count": 13,
     "metadata": {},
     "output_type": "execute_result"
    }
   ],
   "source": [
    "# Create a new DataFrame with the results of the 2 dimensional node embeddings\n",
    "# and the code unit and artifact name of the query above as preparation for the plot\n",
    "node_embeddings_for_visualization = pd.DataFrame(data = {\n",
    "    \"codeUnit\": fast_random_projection.codeUnitName,\n",
    "    \"artifact\": fast_random_projection.artifactName,\n",
    "    \"communityId\": fast_random_projection.communityId,\n",
    "    \"centrality\": fast_random_projection.centrality,\n",
    "    \"x\": [value[0] for value in two_dimension_node_embeddings],\n",
    "    \"y\": [value[1] for value in two_dimension_node_embeddings]\n",
    "})\n",
    "node_embeddings_for_visualization.head()"
   ]
  },
  {
   "cell_type": "code",
   "execution_count": 14,
   "id": "459a819c",
   "metadata": {
    "execution": {
     "iopub.execute_input": "2024-02-26T09:07:59.708048Z",
     "iopub.status.busy": "2024-02-26T09:07:59.707712Z",
     "iopub.status.idle": "2024-02-26T09:07:59.827417Z",
     "shell.execute_reply": "2024-02-26T09:07:59.826926Z"
    }
   },
   "outputs": [
    {
     "data": {
      "image/png": "[encoded data removed]",
      "text/plain": [
       "<Figure size 640x480 with 1 Axes>"
      ]
     },
     "metadata": {},
     "output_type": "display_data"
    }
   ],
   "source": [
    "plot.scatter(\n",
    "    x=node_embeddings_for_visualization.x,\n",
    "    y=node_embeddings_for_visualization.y,\n",
    "    s=node_embeddings_for_visualization.centrality * 200,\n",
    "    c=node_embeddings_for_visualization.communityId,\n",
    "    cmap=main_color_map,\n",
    ")\n",
    "plot.title(\"Package nodes positioned by their dependency relationships using t-SNE\")\n",
    "plot.show()"
   ]
  }
 ],
 "metadata": {
  "authors": [
   {
    "name": "JohT"
   }
  ],
  "kernelspec": {
   "display_name": "Python 3 (ipykernel)",
   "language": "python",
   "name": "python3"
  },
  "language_info": {
   "codemirror_mode": {
    "name": "ipython",
    "version": 3
   },
   "file_extension": ".py",
   "mimetype": "text/x-python",
   "name": "python",
   "nbconvert_exporter": "python",
   "pygments_lexer": "ipython3",
   "version": "3.11.0"
  },
  "title": "Object Oriented Design Quality Metrics for Java with Neo4j"
 },
 "nbformat": 4,
 "nbformat_minor": 5
}
