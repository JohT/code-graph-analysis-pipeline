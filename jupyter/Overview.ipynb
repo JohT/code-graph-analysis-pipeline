{
 "cells": [
  {
   "attachments": {},
   "cell_type": "markdown",
   "id": "2f0eabc4",
   "metadata": {},
   "source": [
    "# Overview\n",
    "<br>  \n",
    "\n",
    "### References\n",
    "- [jqassistant](https://jqassistant.org)\n",
    "- [py2neo](https://py2neo.org/2021.1/)"
   ]
  },
  {
   "cell_type": "code",
   "execution_count": null,
   "id": "4191f259",
   "metadata": {},
   "outputs": [],
   "source": [
    "import os\n",
    "import pandas as pd\n",
    "import matplotlib.pyplot as plot\n",
    "from neo4j import GraphDatabase"
   ]
  },
  {
   "cell_type": "code",
   "execution_count": null,
   "id": "1c5dab37",
   "metadata": {},
   "outputs": [],
   "source": [
    "# Please set the environment variable \"NEO4J_INITIAL_PASSWORD\" in your shell \n",
    "# before starting jupyter notebook to provide the password for the user \"neo4j\". \n",
    "# It is not recommended to hardcode the password into jupyter notebook for security reasons.\n",
    "\n",
    "driver = GraphDatabase.driver(uri=\"bolt://localhost:7687\", auth=(\"neo4j\", os.environ.get(\"NEO4J_INITIAL_PASSWORD\")))\n",
    "driver.verify_connectivity()"
   ]
  },
  {
   "cell_type": "code",
   "execution_count": null,
   "id": "c1db254b",
   "metadata": {},
   "outputs": [],
   "source": [
    "def get_cypher_query_from_file(filename):\n",
    "    with open(filename) as file:\n",
    "        return ' '.join(file.readlines())"
   ]
  },
  {
   "cell_type": "code",
   "execution_count": null,
   "id": "59310f6f",
   "metadata": {},
   "outputs": [],
   "source": [
    "def query_cypher_to_data_frame(filename):\n",
    "    records, summary, keys = driver.execute_query(get_cypher_query_from_file(filename))\n",
    "    return pd.DataFrame([r.values() for r in records], columns=keys)"
   ]
  },
  {
   "cell_type": "code",
   "execution_count": null,
   "id": "da9e8edb",
   "metadata": {},
   "outputs": [],
   "source": [
    "#The following cell uses the build-in %html \"magic\" to override the CSS style for tables to a much smaller size.\n",
    "#This is especially needed for PDF export of tables with multiple columns."
   ]
  },
  {
   "cell_type": "code",
   "execution_count": null,
   "id": "9deaabce",
   "metadata": {},
   "outputs": [],
   "source": [
    "%%html\n",
    "<style>\n",
    "/* CSS style for smaller dataframe tables. */\n",
    ".dataframe th {\n",
    "    font-size: 8px;\n",
    "}\n",
    ".dataframe td {\n",
    "    font-size: 8px;\n",
    "}\n",
    "</style>"
   ]
  },
  {
   "cell_type": "code",
   "execution_count": null,
   "id": "c2496caf",
   "metadata": {},
   "outputs": [],
   "source": [
    "# Main Colormap\n",
    "main_color_map = 'nipy_spectral'"
   ]
  },
  {
   "attachments": {},
   "cell_type": "markdown",
   "id": "91d80bf7",
   "metadata": {},
   "source": [
    "## Artifacts"
   ]
  },
  {
   "attachments": {},
   "cell_type": "markdown",
   "id": "e02f924a",
   "metadata": {},
   "source": [
    "### Table 1 - Types per artifact"
   ]
  },
  {
   "cell_type": "code",
   "execution_count": null,
   "id": "dc682db6",
   "metadata": {},
   "outputs": [],
   "source": [
    "types_per_artifact = query_cypher_to_data_frame(\"../cypher/Overview/Number_of_types_per_artifact.cypher\")\n",
    "types_per_artifact"
   ]
  },
  {
   "attachments": {},
   "cell_type": "markdown",
   "id": "b44c8a75",
   "metadata": {},
   "source": [
    "### Table 2 - Types per artifact (grouped)"
   ]
  },
  {
   "cell_type": "code",
   "execution_count": null,
   "id": "390c40f5",
   "metadata": {},
   "outputs": [],
   "source": [
    "# Pivot the DataFrame to \n",
    "# - group by the first column (artifactName) as new index\n",
    "# - convert the values in the second column (typeLabel) \n",
    "# - into columns with the value of the third column (numberOfTypes).\n",
    "types_per_artifact_grouped = types_per_artifact.pivot(index='artifactName', columns='languageElement', values='numberOfTypes')\n",
    "\n",
    "# Fill missing values with zero\n",
    "types_per_artifact_grouped.fillna(0, inplace=True)\n",
    "\n",
    "# Calculate the sum of values for each row\n",
    "types_per_artifact_grouped['Total'] = types_per_artifact_grouped.sum(axis=1)\n",
    "\n",
    "# Sort the DataFrame by the sum of values\n",
    "types_per_artifact_grouped.sort_values(by='Total', ascending=False, inplace=True)\n",
    "\n",
    "# Remove the 'Total' column\n",
    "types_per_artifact_grouped.drop('Total', axis=1, inplace=True)\n",
    "\n",
    "# Sort the order of the columns by their sum\n",
    "column_sum = types_per_artifact_grouped.sum()\n",
    "types_per_artifact_grouped = types_per_artifact_grouped[column_sum.sort_values(ascending=False).index[:]]\n",
    "\n",
    "# Convert to integer\n",
    "types_per_artifact_grouped.astype(int)"
   ]
  },
  {
   "cell_type": "code",
   "execution_count": null,
   "id": "982df680",
   "metadata": {},
   "outputs": [],
   "source": [
    "plot.figure();\n",
    "types_per_artifact_grouped.plot(\n",
    "    kind='bar', \n",
    "    title='Types per Artifact',\n",
    "    xlabel='Artifact',\n",
    "    ylabel='Types',\n",
    "    stacked=True, \n",
    "    cmap=main_color_map\n",
    ")\n",
    "plot.show()"
   ]
  },
  {
   "cell_type": "code",
   "execution_count": null,
   "id": "ec514eba",
   "metadata": {},
   "outputs": [],
   "source": [
    "# (Optional) Plot \"Types per Artifact\" and the normalized variation side by side\n",
    "# plot.figure();\n",
    "# fig, (axis_left, axis_right) = plot.subplots(nrows=1, ncols=2)\n",
    "# types_per_artifact_grouped.plot(\n",
    "#     ax=axis_left,\n",
    "#     kind='bar', \n",
    "#     title='Types per Artifact',\n",
    "#     xlabel='Artifact',\n",
    "#     ylabel='Types',\n",
    "#     stacked=True, \n",
    "#     cmap=main_color_map\n",
    "# )\n",
    "# types_per_artifact_grouped_normalized.plot(\n",
    "#     ax=axis_right,\n",
    "#     kind='bar', \n",
    "#     title='Types per Artifact [%]',\n",
    "#     xlabel='Artifact',\n",
    "#     ylabel='Types %',\n",
    "#     stacked=True, \n",
    "#     cmap=main_color_map\n",
    "# )\n",
    "# plot.show()"
   ]
  },
  {
   "attachments": {},
   "cell_type": "markdown",
   "id": "62268321",
   "metadata": {},
   "source": [
    "### Table 3 - Types per artifact (grouped and normalized in %)"
   ]
  },
  {
   "cell_type": "code",
   "execution_count": null,
   "id": "ed887815",
   "metadata": {},
   "outputs": [],
   "source": [
    "# Divide every value by the sum of the row to get horizontal normalized values.\n",
    "# This makes it easier to compare the \"language element\" usage without taking the size of the artifact into account\n",
    "types_per_artifact_grouped_normalized = types_per_artifact_grouped.div(types_per_artifact_grouped.sum(axis=1), axis=0).multiply(100)\n",
    "types_per_artifact_grouped_normalized"
   ]
  },
  {
   "cell_type": "code",
   "execution_count": null,
   "id": "a0e1b7bc",
   "metadata": {},
   "outputs": [],
   "source": [
    "# Divide every value by the sum of the row to get horizontal normalized values.\n",
    "# This makes it easier to compare the \"language element\" usage without taking the size of the artifact into account\n",
    "types_per_artifact_grouped_normalized = types_per_artifact_grouped.div(types_per_artifact_grouped.sum(axis=1), axis=0).multiply(100)\n",
    "\n",
    "plot.figure();\n",
    "types_per_artifact_grouped_normalized.plot(kind='bar', stacked=True, cmap=main_color_map)\n",
    "plot.xlabel('Artifact')\n",
    "plot.ylabel('Types %')\n",
    "plot.title('Types [%] per Artifact')\n",
    "plot.show()"
   ]
  },
  {
   "attachments": {},
   "cell_type": "markdown",
   "id": "85535e4f",
   "metadata": {},
   "source": [
    "### Table 4 - Number of packages per artifact"
   ]
  },
  {
   "cell_type": "code",
   "execution_count": null,
   "id": "969a5e0c",
   "metadata": {},
   "outputs": [],
   "source": [
    "packages_per_artifact = query_cypher_to_data_frame(\"../cypher/Overview/Number_of_packages_per_artifact.cypher\")\n",
    "\n",
    "# Sort the DataFrame by the sum of values\n",
    "types_per_artifact_sorted = packages_per_artifact.sort_values(by='numberOfPackages', ascending=False)\n",
    "\n",
    "# Set the name of the index to artifactName\n",
    "types_per_artifact_sorted.set_index('artifactName', inplace=True)\n",
    "\n",
    "types_per_artifact_sorted"
   ]
  },
  {
   "cell_type": "code",
   "execution_count": null,
   "id": "81250096",
   "metadata": {},
   "outputs": [],
   "source": [
    "plot.figure();\n",
    "types_per_artifact_sorted.plot(y='numberOfPackages', kind='pie', title='Packages per Artifact', labeldistance=None, cmap=main_color_map)\n",
    "plot.show()"
   ]
  },
  {
   "attachments": {},
   "cell_type": "markdown",
   "id": "23fd8dfd",
   "metadata": {},
   "source": [
    "## Effective Method Line Count"
   ]
  },
  {
   "attachments": {},
   "cell_type": "markdown",
   "id": "5c49be47",
   "metadata": {},
   "source": [
    "### Table 5 - Effective method line count distribution\n",
    "\n",
    "The table shown here only includes the first 10 rows which typically represents the most significant entries.\n",
    "Have a look below to find out which packages and methods have the highest effective lines of code."
   ]
  },
  {
   "cell_type": "code",
   "execution_count": null,
   "id": "f6dfbcb7",
   "metadata": {},
   "outputs": [],
   "source": [
    "effective_method_line_count_distribution=query_cypher_to_data_frame(\"../cypher/Overview/Effective_Method_Line_Count_Distribution.cypher\")\n",
    "effective_method_line_count_distribution=effective_method_line_count_distribution.pivot(index='effectiveLineCount', columns='artifactName', values='methods')\n",
    "\n",
    "# Fill missing values with zero\n",
    "effective_method_line_count_distribution.fillna(0, inplace=True)\n",
    "\n",
    "# Convert to integer\n",
    "effective_method_line_count_distribution=effective_method_line_count_distribution.astype(int)\n",
    "\n",
    "effective_method_line_count_distribution.head(10)"
   ]
  },
  {
   "attachments": {},
   "cell_type": "markdown",
   "id": "69f80f6d",
   "metadata": {},
   "source": [
    "### Table 6 - Effective method line count distribution (normalized)\n",
    "\n",
    "The table shown here only includes the first 10 rows which typically represents the most significant entries.\n",
    "Have a look below to find out which packages and methods have the highest effective lines of code."
   ]
  },
  {
   "cell_type": "code",
   "execution_count": null,
   "id": "3b389bbc",
   "metadata": {},
   "outputs": [],
   "source": [
    "# Divide every value by the sum of all values in the same column to get vertical normalized values.\n",
    "effective_method_line_count_distribution_normalized = effective_method_line_count_distribution.div(effective_method_line_count_distribution.sum(axis=0), axis=1).multiply(100)\n",
    "effective_method_line_count_distribution_normalized.head(10)"
   ]
  },
  {
   "cell_type": "code",
   "execution_count": null,
   "id": "6a1ae2c3",
   "metadata": {},
   "outputs": [],
   "source": [
    "plot.figure();\n",
    "method_line_count_x_ticks=range(1,11)\n",
    "axes = effective_method_line_count_distribution_normalized.plot(\n",
    "    kind='line', \n",
    "    logx=True,\n",
    "    grid=True,\n",
    "    xlim=[1,20],\n",
    "    xticks=method_line_count_x_ticks,\n",
    "    title='Effective Method Line Count Distribution', \n",
    "    xlabel='effective line count',\n",
    "    ylabel='number of methods',\n",
    "    cmap=main_color_map,\n",
    ")\n",
    "axes.set_xticklabels(method_line_count_x_ticks)\n",
    "plot.show()"
   ]
  },
  {
   "attachments": {},
   "cell_type": "markdown",
   "id": "8f811e86",
   "metadata": {},
   "source": [
    "### Table 7 - Cyclomatic method complexity distribution\n",
    "\n",
    "The table shown here only includes the first 10 rows which typically represents the most significant entries.\n",
    "Have a look below to find out which packages and methods have the highest effective lines of code."
   ]
  },
  {
   "cell_type": "code",
   "execution_count": null,
   "id": "cf989acc",
   "metadata": {},
   "outputs": [],
   "source": [
    "cyclomatic_method_complexity_distribution=query_cypher_to_data_frame(\"../cypher/Overview/Cyclomatic_Method_Complexity_Distribution.cypher\")\n",
    "cyclomatic_method_complexity_distribution=cyclomatic_method_complexity_distribution.pivot(index='cyclomaticComplexity', columns='artifactName', values='methods')\n",
    "\n",
    "# Fill missing values with zero\n",
    "cyclomatic_method_complexity_distribution.fillna(0, inplace=True)\n",
    "\n",
    "# Convert to integer\n",
    "cyclomatic_method_complexity_distribution=cyclomatic_method_complexity_distribution.astype(int)\n",
    "\n",
    "cyclomatic_method_complexity_distribution.head(10)"
   ]
  },
  {
   "attachments": {},
   "cell_type": "markdown",
   "id": "edd94088",
   "metadata": {},
   "source": [
    "### Table 8 - Cyclomatic method complexity distribution (normalized)\n",
    "\n",
    "The table shown here only includes the first 10 rows which typically represents the most significant entries.\n",
    "Have a look below to find out which packages and methods have the highest effective lines of code."
   ]
  },
  {
   "cell_type": "code",
   "execution_count": null,
   "id": "7aff1d2f",
   "metadata": {},
   "outputs": [],
   "source": [
    "# Divide every value by the sum of all values in the same column to get vertical normalized values.\n",
    "cyclomatic_method_complexity_distribution_normalized = cyclomatic_method_complexity_distribution.div(cyclomatic_method_complexity_distribution.sum(axis=0), axis=1).multiply(100)\n",
    "cyclomatic_method_complexity_distribution_normalized.head(10)"
   ]
  },
  {
   "cell_type": "code",
   "execution_count": null,
   "id": "f4e40ede",
   "metadata": {},
   "outputs": [],
   "source": [
    "plot.figure();\n",
    "method_line_count_x_ticks=range(1,11)\n",
    "cyclomatic_complexity_y_ticks=[1, 2, 3, 4, 5, 7, 10, 20, 30, 40, 50, 100]\n",
    "axes = cyclomatic_method_complexity_distribution_normalized.plot(\n",
    "    kind='line', \n",
    "    logx=True,\n",
    "    logy=True,\n",
    "    grid=True,\n",
    "    xlim=[1,10],\n",
    "    ylim=[1,100],\n",
    "    xticks=method_line_count_x_ticks,\n",
    "    yticks=cyclomatic_complexity_y_ticks,\n",
    "    title='Cyclomatic Method Complexity Distribution', \n",
    "    xlabel='cyclomatic complexity',\n",
    "    ylabel='number of methods',\n",
    "    cmap=main_color_map,\n",
    ")\n",
    "axes.set_xticklabels(method_line_count_x_ticks)\n",
    "axes.set_yticklabels(cyclomatic_complexity_y_ticks)\n",
    "plot.show()"
   ]
  },
  {
   "attachments": {},
   "cell_type": "markdown",
   "id": "732618fb",
   "metadata": {},
   "source": [
    "### Table 9 - Top 10 packages with highest effective line counts"
   ]
  },
  {
   "cell_type": "code",
   "execution_count": null,
   "id": "101091d9",
   "metadata": {},
   "outputs": [],
   "source": [
    "# Query data from graph database\n",
    "effective_line_count_per_package = query_cypher_to_data_frame(\"../cypher/Overview/Effective_lines_of_method_code_per_package.cypher\")\n",
    "\n",
    "# Select columns and top 10 rows (head)\n",
    "effective_line_count_per_package[['artifactName', 'fullPackageName', 'linesInPackage', 'methodCount', 'maxLinesMethod','maxLinesMethodName']].head(10)"
   ]
  },
  {
   "attachments": {},
   "cell_type": "markdown",
   "id": "558d0efe",
   "metadata": {},
   "source": [
    "### Table 10 - Top 10 methods with highest effective line counts"
   ]
  },
  {
   "cell_type": "code",
   "execution_count": null,
   "id": "b81bc7ca",
   "metadata": {},
   "outputs": [],
   "source": [
    "# Sort by maxLinesMethod\n",
    "effective_line_count_per_method=effective_line_count_per_package.sort_values(by='maxLinesMethod', ascending=False)\n",
    "\n",
    "# Reset index\n",
    "effective_line_count_per_method = effective_line_count_per_method.reset_index()\n",
    "\n",
    "# Select columns and top 10 rows (head)\n",
    "effective_line_count_per_method[['artifactName', 'fullPackageName', 'maxLinesMethodType', 'maxLinesMethodName', 'maxLinesMethod']].head(10)"
   ]
  },
  {
   "attachments": {},
   "cell_type": "markdown",
   "id": "4c82a0fd",
   "metadata": {},
   "source": [
    "### Table 11 - Top 10 methods with highest cyclomatic complexity"
   ]
  },
  {
   "cell_type": "code",
   "execution_count": null,
   "id": "5e000945",
   "metadata": {},
   "outputs": [],
   "source": [
    "# Sort by maxComplexity\n",
    "cyclomatic_complexity_per_method=effective_line_count_per_package.sort_values(by='maxComplexity', ascending=False)\n",
    "\n",
    "# Reset Index\n",
    "cyclomatic_complexity_per_method = cyclomatic_complexity_per_method.reset_index()\n",
    "\n",
    "# Select columns and only the top 10 rows (head)\n",
    "cyclomatic_complexity_per_method[['artifactName', 'fullPackageName', 'maxComplexityType', 'maxComplexityMethod', 'maxComplexity']].head(10)"
   ]
  }
 ],
 "metadata": {
  "authors": [
   {
    "name": "JohT"
   }
  ],
  "kernelspec": {
   "display_name": "Python 3 (ipykernel)",
   "language": "python",
   "name": "python3"
  },
  "language_info": {
   "codemirror_mode": {
    "name": "ipython",
    "version": 3
   },
   "file_extension": ".py",
   "mimetype": "text/x-python",
   "name": "python",
   "nbconvert_exporter": "python",
   "pygments_lexer": "ipython3",
   "version": "3.11.4"
  },
  "title": "Object Oriented Design Quality Metrics for Java with Neo4j"
 },
 "nbformat": 4,
 "nbformat_minor": 5
}
