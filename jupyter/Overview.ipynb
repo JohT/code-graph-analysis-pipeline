{
 "cells": [
  {
   "attachments": {},
   "cell_type": "markdown",
   "id": "2f0eabc4",
   "metadata": {},
   "source": [
    "# Overview\n",
    "<br>  \n",
    "\n",
    "### References\n",
    "- [jqassistant](https://jqassistant.org)\n",
    "- [py2neo](https://py2neo.org/2021.1/)"
   ]
  },
  {
   "cell_type": "code",
   "execution_count": null,
   "id": "4191f259",
   "metadata": {},
   "outputs": [],
   "source": [
    "import os\n",
    "import pandas as pd\n",
    "import matplotlib.pyplot as plot\n",
    "from neo4j import GraphDatabase"
   ]
  },
  {
   "cell_type": "code",
   "execution_count": null,
   "id": "1c5dab37",
   "metadata": {},
   "outputs": [],
   "source": [
    "# Please set the environment variable \"NEO4J_INITIAL_PASSWORD\" in your shell \n",
    "# before starting jupyter notebook to provide the password for the user \"neo4j\". \n",
    "# It is not recommended to hardcode the password into jupyter notebook for security reasons.\n",
    "\n",
    "driver = GraphDatabase.driver(uri=\"bolt://localhost:7687\", auth=(\"neo4j\", os.environ.get(\"NEO4J_INITIAL_PASSWORD\")))\n",
    "driver.verify_connectivity()"
   ]
  },
  {
   "cell_type": "code",
   "execution_count": null,
   "id": "c1db254b",
   "metadata": {},
   "outputs": [],
   "source": [
    "def get_cypher_query_from_file(filename):\n",
    "    with open(filename) as file:\n",
    "        return ' '.join(file.readlines())"
   ]
  },
  {
   "cell_type": "code",
   "execution_count": null,
   "id": "59310f6f",
   "metadata": {},
   "outputs": [],
   "source": [
    "def query_cypher_to_data_frame(filename):\n",
    "    records, summary, keys = driver.execute_query(get_cypher_query_from_file(filename))\n",
    "    return pd.DataFrame([r.values() for r in records], columns=keys)"
   ]
  },
  {
   "cell_type": "code",
   "execution_count": null,
   "id": "da9e8edb",
   "metadata": {},
   "outputs": [],
   "source": [
    "#The following cell uses the build-in %html \"magic\" to override the CSS style for tables to a much smaller size.\n",
    "#This is especially needed for PDF export of tables with multiple columns."
   ]
  },
  {
   "cell_type": "code",
   "execution_count": null,
   "id": "9deaabce",
   "metadata": {},
   "outputs": [],
   "source": [
    "%%html\n",
    "<style>\n",
    "/* CSS style for smaller dataframe tables. */\n",
    ".dataframe th {\n",
    "    font-size: 8px;\n",
    "}\n",
    ".dataframe td {\n",
    "    font-size: 8px;\n",
    "}\n",
    "</style>"
   ]
  },
  {
   "cell_type": "code",
   "execution_count": null,
   "id": "c2496caf",
   "metadata": {},
   "outputs": [],
   "source": [
    "# Main Colormap\n",
    "main_color_map = 'nipy_spectral'"
   ]
  },
  {
   "cell_type": "markdown",
   "id": "0c68aa20",
   "metadata": {},
   "source": [
    "## Overview"
   ]
  },
  {
   "cell_type": "markdown",
   "id": "8333d13e",
   "metadata": {},
   "source": [
    "### Table 1 - Size"
   ]
  },
  {
   "cell_type": "code",
   "execution_count": null,
   "id": "f4ddd4d4",
   "metadata": {},
   "outputs": [],
   "source": [
    "overview_size = query_cypher_to_data_frame(\"../cypher/Overview/Overview_size.cypher\")\n",
    "overview_size"
   ]
  },
  {
   "attachments": {},
   "cell_type": "markdown",
   "id": "91d80bf7",
   "metadata": {},
   "source": [
    "## Artifacts"
   ]
  },
  {
   "attachments": {},
   "cell_type": "markdown",
   "id": "e02f924a",
   "metadata": {},
   "source": [
    "### Table 2a - Largest 30 types per artifact\n",
    "\n",
    "This table shows the largest (number of types) artifacts and their kind of types (Class, Interface, Enum, Annotation).\n",
    "The whole table can be found in the CSV report `Number_of_types_per_artifact`."
   ]
  },
  {
   "cell_type": "code",
   "execution_count": null,
   "id": "dc682db6",
   "metadata": {},
   "outputs": [],
   "source": [
    "types_per_artifact = query_cypher_to_data_frame(\"../cypher/Overview/Number_of_types_per_artifact.cypher\")\n",
    "types_per_artifact.head(30)"
   ]
  },
  {
   "attachments": {},
   "cell_type": "markdown",
   "id": "b44c8a75",
   "metadata": {},
   "source": [
    "### Table 2b - Largest 30 types per artifact grouped\n",
    "\n",
    "This table shows the largest (number of types) artifacts each in one row, their kind of types in columns and the count of them as values.\n",
    "\n",
    "The source data for this aggregated table can be found in the CSV report `Number_of_types_per_artifact`."
   ]
  },
  {
   "cell_type": "code",
   "execution_count": null,
   "id": "390c40f5",
   "metadata": {},
   "outputs": [],
   "source": [
    "# Pivot the DataFrame to \n",
    "# - group by the first column (artifactName) as new index\n",
    "# - convert the values in the second column (typeLabel) \n",
    "# - into columns with the value of the third column (numberOfTypes).\n",
    "types_per_artifact_grouped = types_per_artifact.pivot(index='artifactName', columns='languageElement', values='numberOfTypes')\n",
    "\n",
    "# Fill missing values with zero\n",
    "types_per_artifact_grouped.fillna(0, inplace=True)\n",
    "\n",
    "# Calculate the sum of values for each row\n",
    "types_per_artifact_grouped['Total'] = types_per_artifact_grouped.sum(axis=1)\n",
    "\n",
    "# Sort the DataFrame by the sum of values\n",
    "types_per_artifact_grouped.sort_values(by='Total', ascending=False, inplace=True)\n",
    "\n",
    "# Remove the 'Total' column\n",
    "types_per_artifact_grouped.drop('Total', axis=1, inplace=True)\n",
    "\n",
    "# Sort the order of the columns by their sum\n",
    "column_sum = types_per_artifact_grouped.sum()\n",
    "types_per_artifact_grouped = types_per_artifact_grouped[column_sum.sort_values(ascending=False).index[:]]\n",
    "\n",
    "# Convert to integer\n",
    "types_per_artifact_grouped.astype(int).head(30)"
   ]
  },
  {
   "cell_type": "markdown",
   "id": "cbe350d7",
   "metadata": {},
   "source": [
    "### Table 2b Chart 1 - 30 largest artifacts and their types stacked"
   ]
  },
  {
   "cell_type": "code",
   "execution_count": null,
   "id": "982df680",
   "metadata": {},
   "outputs": [],
   "source": [
    "plot.figure();\n",
    "types_per_artifact_grouped.head(30).plot(\n",
    "    kind='bar', \n",
    "    title='Top 30 types per artifact',\n",
    "    xlabel='Artifact',\n",
    "    ylabel='Types',\n",
    "    stacked=True, \n",
    "    cmap=main_color_map,\n",
    "    figsize=(8, 5)\n",
    ")\n",
    "plot.show()"
   ]
  },
  {
   "attachments": {},
   "cell_type": "markdown",
   "id": "62268321",
   "metadata": {},
   "source": [
    "### Table 2c - Largest 30 types per artifact (grouped and normalized in %)"
   ]
  },
  {
   "cell_type": "code",
   "execution_count": null,
   "id": "ed887815",
   "metadata": {},
   "outputs": [],
   "source": [
    "# Divide every value by the sum of the row to get horizontal normalized values.\n",
    "# This makes it easier to compare the \"language element\" usage without taking the size of the artifact into account\n",
    "types_per_artifact_grouped_normalized = types_per_artifact_grouped.div(types_per_artifact_grouped.sum(axis=1), axis=0).multiply(100)\n",
    "types_per_artifact_grouped_normalized.head(30)"
   ]
  },
  {
   "cell_type": "markdown",
   "id": "47befd1d",
   "metadata": {},
   "source": [
    "### Table 2c Chart 1 - Top 30 artifacts with the highest relative amount of classes in %"
   ]
  },
  {
   "cell_type": "code",
   "execution_count": null,
   "id": "a0e1b7bc",
   "metadata": {},
   "outputs": [],
   "source": [
    "types_per_artifact_sorted_by_classes=types_per_artifact_grouped_normalized.sort_values(by='Class', ascending=False)\n",
    "\n",
    "plot.figure();\n",
    "types_per_artifact_sorted_by_classes.head(30).plot(kind='bar', stacked=True, cmap=main_color_map, figsize=(8, 5))\n",
    "plot.xlabel('Artifact')\n",
    "plot.ylabel('Types %')\n",
    "plot.title('Class types [%] per artifact')\n",
    "plot.show()"
   ]
  },
  {
   "cell_type": "markdown",
   "id": "652b8526",
   "metadata": {},
   "source": [
    "### Table 2c Chart 2 - Top 30 artifacts with the highest relative amount of interfaces in %"
   ]
  },
  {
   "cell_type": "code",
   "execution_count": null,
   "id": "ccb4d386",
   "metadata": {},
   "outputs": [],
   "source": [
    "types_per_artifact_sorted_by_interfaces=types_per_artifact_grouped_normalized.sort_values(by='Interface', ascending=False)\n",
    "\n",
    "plot.figure();\n",
    "types_per_artifact_sorted_by_interfaces.head(30).plot(kind='bar', stacked=True, cmap=main_color_map, figsize=(8, 5))\n",
    "plot.xlabel('Artifact')\n",
    "plot.ylabel('Types %')\n",
    "plot.title('Interface types [%] per artifact')\n",
    "plot.show()"
   ]
  },
  {
   "cell_type": "markdown",
   "id": "a6103211",
   "metadata": {},
   "source": [
    "### Table 2c Chart 3 - Top 30 artifacts with the highest relative amount of enums in %"
   ]
  },
  {
   "cell_type": "code",
   "execution_count": null,
   "id": "fd70980d",
   "metadata": {},
   "outputs": [],
   "source": [
    "types_per_artifact_sorted_by_enums=types_per_artifact_grouped_normalized.sort_values(by='Enum', ascending=False)\n",
    "\n",
    "plot.figure();\n",
    "types_per_artifact_sorted_by_enums.head(30).plot(kind='bar', stacked=True, cmap=main_color_map, figsize=(8, 5))\n",
    "plot.xlabel('Artifact')\n",
    "plot.ylabel('Types %')\n",
    "plot.title('Enum types [%] per artifact')\n",
    "plot.show()"
   ]
  },
  {
   "cell_type": "markdown",
   "id": "17cf05c7",
   "metadata": {},
   "source": [
    "### Table 2c Chart 4 - Top 30 artifacts with the highest relative amount of annotations in %"
   ]
  },
  {
   "cell_type": "code",
   "execution_count": null,
   "id": "1054634e",
   "metadata": {},
   "outputs": [],
   "source": [
    "types_per_artifact_sorted_by_annotations=types_per_artifact_grouped_normalized.sort_values(by='Annotation', ascending=False)\n",
    "\n",
    "plot.figure();\n",
    "types_per_artifact_sorted_by_annotations.head(30).plot(kind='bar', stacked=True, cmap=main_color_map, figsize=(8, 5))\n",
    "plot.xlabel('Artifact')\n",
    "plot.ylabel('Types %')\n",
    "plot.title('Annotation types [%] per artifact')\n",
    "plot.show()"
   ]
  },
  {
   "attachments": {},
   "cell_type": "markdown",
   "id": "85535e4f",
   "metadata": {},
   "source": [
    "### Table 3 - Top 30 artifacts with the highest package count\n",
    "\n",
    "The whole table can be found in the CSV report `Number_of_packages_per_artifact`."
   ]
  },
  {
   "cell_type": "code",
   "execution_count": null,
   "id": "969a5e0c",
   "metadata": {},
   "outputs": [],
   "source": [
    "packages_per_artifact = query_cypher_to_data_frame(\"../cypher/Overview/Number_of_packages_per_artifact.cypher\")\n",
    "\n",
    "# Sort the DataFrame by the sum of values\n",
    "types_per_artifact_sorted = packages_per_artifact.sort_values(by='numberOfPackages', ascending=False).reset_index(drop=True)\n",
    "\n",
    "# Set the name of the index to artifactName\n",
    "#types_per_artifact_sorted.set_index('artifactName', inplace=True)\n",
    "\n",
    "types_per_artifact_sorted.head(30)"
   ]
  },
  {
   "cell_type": "markdown",
   "id": "18227c68",
   "metadata": {},
   "source": [
    "### Table 3 Chart 1 - Number of packages per artifact\n",
    "\n",
    "The following chat shows artifacts with the largest package count in percentage. Artifacts with less than 0.7% package count are grouped into \"others\" to focus on the most significant artifacts regarding their package count."
   ]
  },
  {
   "cell_type": "code",
   "execution_count": null,
   "id": "102710a5",
   "metadata": {},
   "outputs": [],
   "source": [
    "def group_to_others_below_threshold(data_frame : pd.DataFrame, value_column : str, name_column: str, threshold: float) -> pd.DataFrame:    \n",
    "    \"\"\"Adds a new percentage column for the value column and \n",
    "    groups all values below the given threshold to \"others\" in the name column.\n",
    "\n",
    "    Parameters:\n",
    "    - data_frame (pd.DataFrame): Input pandas DataFrame\n",
    "    - value_column (str): Name of the column that contains the numeric value\n",
    "    - name_column (str): Name of the column that contains the group name that will be replaced by \"others\" for small values\n",
    "    - threshold (float): Threshold in % that is used to group values below it into the \"others\" group\n",
    "\n",
    "    Returns:\n",
    "    int:Returning value\n",
    "\n",
    "    \"\"\"\n",
    "    result_data_frame = data_frame.copy();\n",
    "\n",
    "    percent_column_name = value_column + 'Percent';\n",
    "\n",
    "    # Add column with the name given in \"percent_column_name\" with the percentage of the value column.\n",
    "    result_data_frame[percent_column_name] = result_data_frame[value_column] / result_data_frame[value_column].sum() * 100.0;\n",
    "\n",
    "    # Change the external package name to \"others\" if it is called less than the specified threshold\n",
    "    result_data_frame.loc[result_data_frame[percent_column_name] < threshold, name_column] = 'others';\n",
    "\n",
    "    # Group external package name (foremost the new \"others\" entries) and sum their percentage\n",
    "    result_data_frame = result_data_frame.groupby(name_column)[percent_column_name].sum();\n",
    "\n",
    "    # Sort by values descending\n",
    "    return result_data_frame.sort_values(ascending=False);"
   ]
  },
  {
   "cell_type": "code",
   "execution_count": null,
   "id": "81250096",
   "metadata": {},
   "outputs": [],
   "source": [
    "types_per_artifact_sorted_significant=group_to_others_below_threshold(\n",
    "    data_frame=types_per_artifact_sorted,\n",
    "    value_column='numberOfPackages',\n",
    "    name_column='artifactName',\n",
    "    threshold= 0.7\n",
    ");\n",
    "\n",
    "plot.figure();\n",
    "types_per_artifact_sorted_significant.plot(\n",
    "    y='numberOfPackages', \n",
    "    kind='pie', \n",
    "    title='Number of packages per artifact', \n",
    "    legend=True,\n",
    "    labeldistance=None,\n",
    "    autopct='%1.2f%%',\n",
    "    textprops={'fontsize': 5},\n",
    "    pctdistance=1.2,\n",
    "    cmap=main_color_map\n",
    ")\n",
    "plot.legend(bbox_to_anchor=(1.05, 1), loc='upper left')\n",
    "plot.show()"
   ]
  },
  {
   "attachments": {},
   "cell_type": "markdown",
   "id": "23fd8dfd",
   "metadata": {},
   "source": [
    "## Effective Method Line Count"
   ]
  },
  {
   "attachments": {},
   "cell_type": "markdown",
   "id": "5c49be47",
   "metadata": {},
   "source": [
    "### Table 3a - Effective method line count distribution\n",
    "\n",
    "This table shows the distribution of the effective method line count per artifact.\n",
    "For each artifact the number of methods with effective line count = 1,2,3,... is shown to get an overview of how line counts are distributed over methods.\n",
    "\n",
    "Only the 15 artifacts with the highest method count and their effective method line count distribution (limited by 40)is shown here. The whole table can be found in the CSV report `Effective_Method_Line_Count_Distribution`.\n",
    "\n",
    "Have a look below to find out which packages and methods have the highest effective lines of code."
   ]
  },
  {
   "cell_type": "code",
   "execution_count": null,
   "id": "f6dfbcb7",
   "metadata": {},
   "outputs": [],
   "source": [
    "effective_method_line_count_distribution_max_artifacts=20\n",
    "\n",
    "effective_method_line_count_distribution=query_cypher_to_data_frame(\"../cypher/Overview/Effective_Method_Line_Count_Distribution.cypher\")\n",
    "effective_method_line_count_distribution=effective_method_line_count_distribution.pivot(index='effectiveLineCount', columns='artifactName', values='methods')\n",
    "\n",
    "# Fill missing values with zero\n",
    "effective_method_line_count_distribution.fillna(0, inplace=True)\n",
    "\n",
    "# Convert to integer\n",
    "effective_method_line_count_distribution=effective_method_line_count_distribution.astype(int)\n",
    "\n",
    "# Sort by column sum and then take only the first 10 columns\n",
    "effective_method_line_count_sum_per_artifact = effective_method_line_count_distribution.sum()\n",
    "effective_method_line_count_distribution = effective_method_line_count_distribution[effective_method_line_count_sum_per_artifact.sort_values(ascending=False).index[:effective_method_line_count_distribution_max_artifacts]]\n",
    "\n",
    "effective_method_line_count_distribution.head(40)"
   ]
  },
  {
   "attachments": {},
   "cell_type": "markdown",
   "id": "69f80f6d",
   "metadata": {},
   "source": [
    "### Table 3b - Effective method line count distribution (normalized)\n",
    "\n",
    "The table shown here only includes the first 40 rows which typically represents the most significant entries.\n",
    "Have a look below to find out which packages and methods have the highest effective lines of code."
   ]
  },
  {
   "cell_type": "code",
   "execution_count": null,
   "id": "3b389bbc",
   "metadata": {},
   "outputs": [],
   "source": [
    "# Divide every value by the sum of all values in the same column to get vertical normalized values.\n",
    "effective_method_line_count_distribution_normalized = effective_method_line_count_distribution.div(effective_method_line_count_distribution.sum(axis=0), axis=1).multiply(100)\n",
    "effective_method_line_count_distribution_normalized.head(40)"
   ]
  },
  {
   "cell_type": "markdown",
   "id": "2e75ff54",
   "metadata": {},
   "source": [
    "### Table 3b Chart 1 - Effective method line count distribution (normalized)"
   ]
  },
  {
   "cell_type": "code",
   "execution_count": null,
   "id": "6a1ae2c3",
   "metadata": {},
   "outputs": [],
   "source": [
    "plot.figure();\n",
    "method_line_count_x_ticks=range(1,20)\n",
    "axes = effective_method_line_count_distribution_normalized.head(20).plot(\n",
    "    kind='line',\n",
    "    logx=True,\n",
    "    grid=True,\n",
    "    xlim=[2, 20],\n",
    "    ylim=[0, 20],\n",
    "    xticks=method_line_count_x_ticks,\n",
    "    title='Effective Method Line Count Distribution', \n",
    "    xlabel='effective line count',\n",
    "    ylabel='percent of methods',\n",
    "    cmap=main_color_map,\n",
    "    figsize=(10, 6),\n",
    "    lw=2,\n",
    ")\n",
    "axes.set_xticklabels(method_line_count_x_ticks)\n",
    "axes.legend(bbox_to_anchor=(1.05, 1), loc='upper left')\n",
    "plot.show()"
   ]
  },
  {
   "cell_type": "markdown",
   "id": "ff1748a3",
   "metadata": {},
   "source": [
    "### Table 3c - Top 30 packages with highest effective line counts\n",
    "\n",
    "The following table shows the top 30 packages with the highest effective lines of code. The whole table can be found in the CSV report `Effective_lines_of_method_code_per_package`."
   ]
  },
  {
   "cell_type": "code",
   "execution_count": null,
   "id": "ac2bd9c2",
   "metadata": {},
   "outputs": [],
   "source": [
    "# Query artifacts and packages and find the method with the highest effective lines of code and cyclomatic complexity\n",
    "# The result of this query will be also used further below. \n",
    "method_statistics_per_package = query_cypher_to_data_frame(\"../cypher/Overview/Effective_lines_of_method_code_per_package.cypher\")"
   ]
  },
  {
   "cell_type": "code",
   "execution_count": null,
   "id": "dafd62c1",
   "metadata": {},
   "outputs": [],
   "source": [
    "# Select and order the columns for this particular table \n",
    "effective_line_count_per_package=method_statistics_per_package[['artifactName', 'fullPackageName', 'linesInPackage', 'methodCount', 'maxLinesMethod','maxLinesMethodName']]\n",
    "\n",
    "# Print out the top 30 (head) rows\n",
    "effective_line_count_per_package.head(30)"
   ]
  },
  {
   "cell_type": "markdown",
   "id": "19f5e1a6",
   "metadata": {},
   "source": [
    "### Table 3d - Top 30 methods with the highest effective line count\n",
    "\n",
    "The following table shows the top 30 methods with the highest effective lines of code. The whole table can be found in the CSV report `Effective_lines_of_method_code_per_package`."
   ]
  },
  {
   "cell_type": "code",
   "execution_count": null,
   "id": "c196e836",
   "metadata": {},
   "outputs": [],
   "source": [
    "# Select and order the columns for this particular table \n",
    "effective_line_count_method_per_package=method_statistics_per_package[['artifactName', 'fullPackageName', 'maxLinesMethodType', 'maxLinesMethodName', 'maxLinesMethod', 'linesInPackage']]\n",
    "\n",
    "# Sort by the maximum of effective lines of code per package descending\n",
    "effective_line_count_method_per_package=effective_line_count_method_per_package.sort_values(by='maxLinesMethod', ascending=False)\n",
    "\n",
    "# Reset the index to the new sort order\n",
    "effective_line_count_method_per_package=effective_line_count_method_per_package.reset_index()\n",
    "\n",
    "# Print out the top 30 (head) rows\n",
    "effective_line_count_method_per_package.head(30)"
   ]
  },
  {
   "cell_type": "markdown",
   "id": "c5554922",
   "metadata": {},
   "source": [
    "## Cyclomatic Complexity"
   ]
  },
  {
   "attachments": {},
   "cell_type": "markdown",
   "id": "8f811e86",
   "metadata": {},
   "source": [
    "### Table 4a - Cyclomatic method complexity distribution\n",
    "\n",
    "This table shows the distribution of the cyclomatic complexity of methods per artifact.\n",
    "For each artifact the number of methods with the cyclomatic complexity = 1,2,3,... is shown to get an overview of how cyclomatic complexity is distributed over methods.\n",
    "\n",
    "Only the 15 artifacts with the highest method count sum and their cyclomatic method complexity distribution (limited by 40) is shown here. The whole table can be found in the CSV report `Cyclomatic_Method_Complexity_Distribution`.\n",
    "\n",
    "Have a look below to find out which packages and methods have the highest effective lines of code."
   ]
  },
  {
   "cell_type": "code",
   "execution_count": null,
   "id": "cf989acc",
   "metadata": {},
   "outputs": [],
   "source": [
    "cyclomatic_method_complexity_distribution_max_artifacts=15\n",
    "\n",
    "cyclomatic_method_complexity_distribution=query_cypher_to_data_frame(\"../cypher/Overview/Cyclomatic_Method_Complexity_Distribution.cypher\")\n",
    "cyclomatic_method_complexity_distribution=cyclomatic_method_complexity_distribution.pivot(index='cyclomaticComplexity', columns='artifactName', values='methods')\n",
    "\n",
    "# Fill missing values with zero\n",
    "cyclomatic_method_complexity_distribution.fillna(0, inplace=True)\n",
    "\n",
    "# Convert to integer\n",
    "cyclomatic_method_complexity_distribution=cyclomatic_method_complexity_distribution.astype(int)\n",
    "\n",
    "# Sort by column sum and then take only the first 10 columns\n",
    "effective_method_line_count_sum_per_artifact = effective_method_line_count_distribution.sum()\n",
    "cyclomatic_method_complexity_distribution = cyclomatic_method_complexity_distribution[effective_method_line_count_sum_per_artifact.sort_values(ascending=False).index[:cyclomatic_method_complexity_distribution_max_artifacts]]\n",
    "\n",
    "cyclomatic_method_complexity_distribution.head(40)"
   ]
  },
  {
   "attachments": {},
   "cell_type": "markdown",
   "id": "edd94088",
   "metadata": {},
   "source": [
    "### Table 4b - Cyclomatic method complexity distribution (normalized)\n",
    "\n",
    "The table shown here only includes the first 40 rows which typically represents the most significant entries.\n",
    "Have a look below to find out which packages and methods have the highest effective lines of code."
   ]
  },
  {
   "cell_type": "code",
   "execution_count": null,
   "id": "7aff1d2f",
   "metadata": {},
   "outputs": [],
   "source": [
    "# Divide every value by the sum of all values in the same column to get vertical normalized values.\n",
    "cyclomatic_method_complexity_distribution_normalized = cyclomatic_method_complexity_distribution.div(cyclomatic_method_complexity_distribution.sum(axis=0), axis=1).multiply(100)\n",
    "cyclomatic_method_complexity_distribution_normalized.head(40)"
   ]
  },
  {
   "cell_type": "markdown",
   "id": "24fdb553",
   "metadata": {},
   "source": [
    "### Table 4b Chart 1 - Cyclomatic method complexity distribution (normalized)"
   ]
  },
  {
   "cell_type": "code",
   "execution_count": null,
   "id": "f4e40ede",
   "metadata": {},
   "outputs": [],
   "source": [
    "plot.figure();\n",
    "method_line_count_x_ticks=range(1,11)\n",
    "cyclomatic_complexity_y_ticks=[1, 2, 3, 4, 5, 7, 10, 20, 30, 40, 50, 100]\n",
    "axes = cyclomatic_method_complexity_distribution_normalized.plot(\n",
    "    kind='line', \n",
    "    logx=True,\n",
    "    logy=True,\n",
    "    grid=True,\n",
    "    xlim=[1,11],\n",
    "    ylim=[1,100],\n",
    "    xticks=method_line_count_x_ticks,\n",
    "    yticks=cyclomatic_complexity_y_ticks,\n",
    "    title='Cyclomatic complexity distribution of methods', \n",
    "    xlabel='cyclomatic complexity',\n",
    "    ylabel='percentage of methods',\n",
    "    cmap=main_color_map,\n",
    ")\n",
    "axes.set_xticklabels(method_line_count_x_ticks)\n",
    "axes.set_yticklabels(cyclomatic_complexity_y_ticks)\n",
    "axes.legend(bbox_to_anchor=(1.05, 1), loc='upper left')\n",
    "plot.show()"
   ]
  },
  {
   "cell_type": "markdown",
   "id": "3fc668c5",
   "metadata": {},
   "source": [
    "### Table 4c - Top 30 packages with highest cyclomatic complexity\n",
    "\n",
    "The following table shows the top 30 packages with the highest cyclomatic complexity. The whole table can be found in the CSV report `Effective_lines_of_method_code_per_package`."
   ]
  },
  {
   "cell_type": "code",
   "execution_count": null,
   "id": "d8739176",
   "metadata": {},
   "outputs": [],
   "source": [
    "# Select and order the columns for this particular table \n",
    "cyclomatic_complexity_per_package=method_statistics_per_package[['artifactName', 'fullPackageName', 'complexityInPackage', 'methodCount', 'maxComplexity','maxComplexityMethod']]\n",
    "\n",
    "# Sort by the method with the highest cyclomatic complexity per package descending\n",
    "cyclomatic_complexity_per_package=cyclomatic_complexity_per_package.sort_values(by='complexityInPackage', ascending=False)\n",
    "\n",
    "# Print out the top 30 (head) rows\n",
    "cyclomatic_complexity_per_package.head(30)"
   ]
  },
  {
   "attachments": {},
   "cell_type": "markdown",
   "id": "4c82a0fd",
   "metadata": {},
   "source": [
    "### Table 4d - Top 30 methods with highest cyclomatic complexity\n",
    "\n",
    "The following table shows the top 30 packages containing the methods with the highest cyclomatic complexity. The whole table can be found in the CSV report `Effective_lines_of_method_code_per_package`."
   ]
  },
  {
   "cell_type": "code",
   "execution_count": null,
   "id": "5e000945",
   "metadata": {},
   "outputs": [],
   "source": [
    "# Select and order the columns for this particular table \n",
    "cyclomatic_complexity_per_method=method_statistics_per_package[['artifactName', 'fullPackageName', 'maxComplexityType', 'maxComplexityMethod', 'maxComplexity']]\n",
    "\n",
    "# Sort by the method with the highest cyclomatic complexity per package descending\n",
    "cyclomatic_complexity_per_method=cyclomatic_complexity_per_method.sort_values(by='maxComplexity', ascending=False)\n",
    "\n",
    "# Reset the index to the new sort order\n",
    "cyclomatic_complexity_per_method=cyclomatic_complexity_per_method.reset_index()\n",
    "\n",
    "# Print out the top 30 (head) rows\n",
    "cyclomatic_complexity_per_method.head(30)"
   ]
  }
 ],
 "metadata": {
  "authors": [
   {
    "name": "JohT"
   }
  ],
  "kernelspec": {
   "display_name": "Python 3 (ipykernel)",
   "language": "python",
   "name": "python3"
  },
  "language_info": {
   "codemirror_mode": {
    "name": "ipython",
    "version": 3
   },
   "file_extension": ".py",
   "mimetype": "text/x-python",
   "name": "python",
   "nbconvert_exporter": "python",
   "pygments_lexer": "ipython3",
   "version": "3.11.4"
  },
  "title": "Object Oriented Design Quality Metrics for Java with Neo4j"
 },
 "nbformat": 4,
 "nbformat_minor": 5
}
