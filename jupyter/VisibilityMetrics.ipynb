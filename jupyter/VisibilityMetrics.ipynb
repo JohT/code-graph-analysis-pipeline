{
 "cells": [
  {
   "attachments": {},
   "cell_type": "markdown",
   "id": "2f0eabc4",
   "metadata": {},
   "source": [
    "# Visibility Metrics\n",
    "<br>  \n",
    "\n",
    "### References\n",
    "- [Visibility Metrics and the Importance of Hiding Things](https://dzone.com/articles/visibility-metrics-and-the-importance-of-hiding-th)\n",
    "- [Calculate metrics](https://101.jqassistant.org/calculate-metrics/index.html)\n",
    "- [Controlling Access to Members of a Class](https://docs.oracle.com/javase/tutorial/java/javaOO/accesscontrol.html)\n",
    "- [py2neo](https://py2neo.org/2021.1/)"
   ]
  },
  {
   "cell_type": "code",
   "execution_count": null,
   "id": "4191f259",
   "metadata": {},
   "outputs": [],
   "source": [
    "import os\n",
    "import matplotlib.pyplot as plot\n",
    "from py2neo import Graph"
   ]
  },
  {
   "cell_type": "code",
   "execution_count": null,
   "id": "1c5dab37",
   "metadata": {},
   "outputs": [],
   "source": [
    "# Please set the environment variable \"NEO4J_INITIAL_PASSWORD\" in your shell \n",
    "# before starting jupyter notebook to provide the password for the user \"neo4j\". \n",
    "# It is not recommended to hardcode the password into jupyter notebook for security reasons.\n",
    "graph = Graph(\"bolt://localhost:7687\", auth=(\"neo4j\", os.environ.get(\"NEO4J_INITIAL_PASSWORD\")))"
   ]
  },
  {
   "cell_type": "code",
   "execution_count": null,
   "id": "c1db254b",
   "metadata": {},
   "outputs": [],
   "source": [
    "def getCypherQueryFromFile(cypherFileName):\n",
    "    with open(cypherFileName) as file:\n",
    "        return ' '.join(file.readlines())"
   ]
  },
  {
   "cell_type": "code",
   "execution_count": null,
   "id": "59310f6f",
   "metadata": {},
   "outputs": [],
   "source": [
    "def queryCypherToDataFrame(cypherFileName):\n",
    "    return graph.run(getCypherQueryFromFile(cypherFileName)).to_data_frame()"
   ]
  },
  {
   "cell_type": "code",
   "execution_count": null,
   "id": "bcb3049f",
   "metadata": {},
   "outputs": [],
   "source": [
    "#The following cell uses the build-in %html \"magic\" to override the CSS style for tables to a much smaller size.\n",
    "#This is especially needed for PDF export of tables with multiple columns."
   ]
  },
  {
   "cell_type": "code",
   "execution_count": null,
   "id": "d31581da",
   "metadata": {},
   "outputs": [],
   "source": [
    "%%html\n",
    "<style>\n",
    "/* CSS style for smaller dataframe tables. */\n",
    ".dataframe th {\n",
    "    font-size: 8px;\n",
    "}\n",
    ".dataframe td {\n",
    "    font-size: 8px;\n",
    "}\n",
    "</style>"
   ]
  },
  {
   "attachments": {},
   "cell_type": "markdown",
   "id": "91d80bf7",
   "metadata": {},
   "source": [
    "## Artifacts\n",
    "\n",
    "### Table 1\n",
    "\n",
    "- List all the artifacts this notebook is based on"
   ]
  },
  {
   "cell_type": "code",
   "execution_count": null,
   "id": "dc682db6",
   "metadata": {},
   "outputs": [],
   "source": [
    "queryCypherToDataFrame(\"../cypher/List_all_existing_artifacts.cypher\")"
   ]
  },
  {
   "attachments": {},
   "cell_type": "markdown",
   "id": "d7cfd862",
   "metadata": {},
   "source": [
    "## Relative Visibility Of Types\n",
    "\n",
    "A Java class or interface may be declared with the modifier public, in which case it is visible to all classes everywhere. If a class or interface has no modifier (the default, also known as package-private), it is visible only within its own package.\n",
    "\n",
    "The relative visibility is the number of inner components that are visible outside (public) divided by the number of all types:\n",
    "\n",
    "$$ relative visibility = \\frac{public\\:types}{all\\:types} $$\n",
    "\n",
    "Using package protected types is one of many ways to improve encapsulation and implementation detail hiding.\n",
    "\n",
    "### How to apply the results\n",
    "\n",
    "The relative visibility is between zero (all types are package protected) and one (all types are public). A value lower than one means that there are types that are declared package protected. The lower the value is, the better implementation details are hidden. \n",
    "\n",
    "Non public classes can't be accessed from another package so they can be changed without affecting code in other packages. They clearly indicate functionality that only belongs to one package. This also motivates to use more classes and to split up code into smaller pieces with a single responsibility and reason to change.\n",
    "\n",
    "### Table 1\n",
    "\n",
    "- Show relative visibility statistics aggregated for all packages per artifact "
   ]
  },
  {
   "cell_type": "code",
   "execution_count": null,
   "id": "fa634a4e",
   "metadata": {
    "scrolled": true
   },
   "outputs": [],
   "source": [
    "queryCypherToDataFrame(\"../cypher/Visibility/Global_relative_visibility_statistics_for_types.cypher\")"
   ]
  },
  {
   "attachments": {},
   "cell_type": "markdown",
   "id": "3f59da8d",
   "metadata": {},
   "source": [
    "### Table 2\n",
    "\n",
    "- List the top 40 packages and their artifact with the highest relative visibility"
   ]
  },
  {
   "cell_type": "code",
   "execution_count": null,
   "id": "6e91c8c5",
   "metadata": {
    "scrolled": true
   },
   "outputs": [],
   "source": [
    "queryCypherToDataFrame(\"../cypher/Visibility/Relative_visibility_public_types_to_all_types_per_package.cypher\").head(50)"
   ]
  }
 ],
 "metadata": {
  "authors": [
   {
    "name": "JohT"
   }
  ],
  "kernelspec": {
   "display_name": "Python 3 (ipykernel)",
   "language": "python",
   "name": "python3"
  },
  "language_info": {
   "codemirror_mode": {
    "name": "ipython",
    "version": 3
   },
   "file_extension": ".py",
   "mimetype": "text/x-python",
   "name": "python",
   "nbconvert_exporter": "python",
   "pygments_lexer": "ipython3",
   "version": "3.11.3"
  },
  "title": "Object Oriented Design Quality Metrics for Java with Neo4j"
 },
 "nbformat": 4,
 "nbformat_minor": 5
}
