{
 "cells": [
  {
   "attachments": {},
   "cell_type": "markdown",
   "id": "2f0eabc4",
   "metadata": {},
   "source": [
    "# Visibility Metrics\n",
    "<br>  \n",
    "\n",
    "### References\n",
    "- [Visibility Metrics and the Importance of Hiding Things](https://dzone.com/articles/visibility-metrics-and-the-importance-of-hiding-th)\n",
    "- [Calculate metrics](https://101.jqassistant.org/calculate-metrics/index.html)\n",
    "- [Controlling Access to Members of a Class](https://docs.oracle.com/javase/tutorial/java/javaOO/accesscontrol.html)\n",
    "- [Neo4j Python Driver](https://neo4j.com/docs/api/python-driver/current)"
   ]
  },
  {
   "cell_type": "code",
   "execution_count": null,
   "id": "4191f259",
   "metadata": {},
   "outputs": [],
   "source": [
    "import os\n",
    "import pandas as pd\n",
    "import matplotlib.pyplot as plot\n",
    "from neo4j import GraphDatabase"
   ]
  },
  {
   "cell_type": "code",
   "execution_count": null,
   "id": "acf605be",
   "metadata": {},
   "outputs": [],
   "source": [
    "#The following cell uses the build-in %html \"magic\" to override the CSS style for tables to a much smaller size.\n",
    "#This is especially needed for PDF export of tables with multiple columns."
   ]
  },
  {
   "cell_type": "code",
   "execution_count": null,
   "id": "3cc19954",
   "metadata": {},
   "outputs": [],
   "source": [
    "%%html\n",
    "<style>\n",
    "/* CSS style for smaller dataframe tables. */\n",
    ".dataframe th {\n",
    "    font-size: 8px;\n",
    "}\n",
    ".dataframe td {\n",
    "    font-size: 8px;\n",
    "}\n",
    "</style>"
   ]
  },
  {
   "cell_type": "code",
   "execution_count": null,
   "id": "33c356d7",
   "metadata": {},
   "outputs": [],
   "source": [
    "# Main Colormap\n",
    "main_color_map = 'nipy_spectral'"
   ]
  },
  {
   "cell_type": "code",
   "execution_count": null,
   "id": "1c5dab37",
   "metadata": {},
   "outputs": [],
   "source": [
    "# Please set the environment variable \"NEO4J_INITIAL_PASSWORD\" in your shell \n",
    "# before starting jupyter notebook to provide the password for the user \"neo4j\". \n",
    "# It is not recommended to hardcode the password into jupyter notebook for security reasons.\n",
    "\n",
    "driver = GraphDatabase.driver(uri=\"bolt://localhost:7687\", auth=(\"neo4j\", os.environ.get(\"NEO4J_INITIAL_PASSWORD\")))\n",
    "driver.verify_connectivity()"
   ]
  },
  {
   "cell_type": "code",
   "execution_count": null,
   "id": "c1db254b",
   "metadata": {},
   "outputs": [],
   "source": [
    "def get_cypher_query_from_file(cypherFileName):\n",
    "    with open(cypherFileName) as file:\n",
    "        return ' '.join(file.readlines())"
   ]
  },
  {
   "cell_type": "code",
   "execution_count": null,
   "id": "59310f6f",
   "metadata": {},
   "outputs": [],
   "source": [
    "def query_cypher_to_data_frame(filename):\n",
    "    records, summary, keys = driver.execute_query(get_cypher_query_from_file(filename))\n",
    "    return pd.DataFrame([r.values() for r in records], columns=keys)"
   ]
  },
  {
   "cell_type": "code",
   "execution_count": null,
   "id": "bcb3049f",
   "metadata": {},
   "outputs": [],
   "source": [
    "#The following cell uses the build-in %html \"magic\" to override the CSS style for tables to a much smaller size.\n",
    "#This is especially needed for PDF export of tables with multiple columns."
   ]
  },
  {
   "cell_type": "code",
   "execution_count": null,
   "id": "d31581da",
   "metadata": {},
   "outputs": [],
   "source": [
    "%%html\n",
    "<style>\n",
    "/* CSS style for smaller dataframe tables. */\n",
    ".dataframe th {\n",
    "    font-size: 8px;\n",
    "}\n",
    ".dataframe td {\n",
    "    font-size: 8px;\n",
    "}\n",
    "</style>"
   ]
  },
  {
   "attachments": {},
   "cell_type": "markdown",
   "id": "d7cfd862",
   "metadata": {},
   "source": [
    "## Relative Visibility Of Types\n",
    "\n",
    "A Java class or interface may be declared with the modifier public, in which case it is visible to all classes everywhere. If a class or interface has no modifier (the default, also known as package-private), it is visible only within its own package.\n",
    "\n",
    "The relative visibility is the number of inner components that are visible outside (public) divided by the number of all types:\n",
    "\n",
    "$$ relative visibility = \\frac{public\\:types}{all\\:types} $$\n",
    "\n",
    "Using package protected types is one of many ways to improve encapsulation and implementation detail hiding.\n",
    "\n",
    "### How to apply the results\n",
    "\n",
    "The relative visibility is between zero (all types are package protected) and one (all types are public). A value lower than one means that there are types that are declared package protected. The lower the value is, the better implementation details are hidden. \n",
    "\n",
    "Non public classes can't be accessed from another package so they can be changed without affecting code in other packages. They clearly indicate functionality that only belongs to one package. This also motivates to use more classes and to split up code into smaller pieces with a single responsibility and reason to change."
   ]
  },
  {
   "cell_type": "markdown",
   "id": "c9536fd9",
   "metadata": {},
   "source": [
    "### Table 1a - Top 40 artifacts with lowest median of package protection encapsulation\n",
    "\n",
    "This table shows the relative visibility statistics aggregated for all packages per artifact and focusses on artifacts with many packages and hardly any package protected types (lowest median, high visibility). Package protected types would help to  improve encapsulation.\n",
    "\n",
    "Only the top 40 entries are shown. The whole table can be found in the following CSV report:  \n",
    "`Global_relative_visibility_statistics_for_types`"
   ]
  },
  {
   "cell_type": "code",
   "execution_count": null,
   "id": "68ed42d0",
   "metadata": {},
   "outputs": [],
   "source": [
    "# Query the visibility statistics per artifact (all packages aggregated)\n",
    "# The results Will be used in multiple tables below.\n",
    "relative_visibility_per_artifact_aggregated=query_cypher_to_data_frame(\"../cypher/Visibility/Global_relative_visibility_statistics_for_types.cypher\")"
   ]
  },
  {
   "cell_type": "code",
   "execution_count": null,
   "id": "fa634a4e",
   "metadata": {
    "scrolled": true
   },
   "outputs": [],
   "source": [
    "# Sort by the \"percentile50\" (median) and \"all\" (number of packages in the artifact) descending\n",
    "relative_visibility_statistics_highest_median=relative_visibility_per_artifact_aggregated.sort_values(by=['percentile50', 'all'], ascending=[False, False])\n",
    "\n",
    "# Reset the index (row numbering starting at 0 and increasing by 1)\n",
    "relative_visibility_statistics_highest_median=relative_visibility_statistics_highest_median.reset_index(drop=True)\n",
    "\n",
    "relative_visibility_statistics_highest_median.head(40)"
   ]
  },
  {
   "cell_type": "markdown",
   "id": "1b84fd51",
   "metadata": {},
   "source": [
    "### Table 1b - Top 40 artifacts with highest median of package protection encapsulation\n",
    "\n",
    "This table shows the relative visibility statistics aggregated for all packages per artifact and focusses on artifacts with many packages and the highest median of package protected types (low visibility). Package protected types help to improve encapsulation.\n",
    "\n",
    "Only the top 40 entries are shown. The whole table can be found in the following CSV report:  \n",
    "`Global_relative_visibility_statistics_for_types`"
   ]
  },
  {
   "cell_type": "code",
   "execution_count": null,
   "id": "dc59a07d",
   "metadata": {},
   "outputs": [],
   "source": [
    "# Sort by the \"percentile50\" (median) ascending and \"all\" (number of packages in the artifact) descending\n",
    "relative_visibility_statistics_lowest_median=relative_visibility_per_artifact_aggregated.sort_values(by=['percentile50', 'all'], ascending=[True, False])\n",
    "\n",
    "# Reset the index (row numbering starting at 0 and increasing by 1)\n",
    "relative_visibility_statistics_lowest_median=relative_visibility_statistics_lowest_median.reset_index(drop=True)\n",
    "\n",
    "relative_visibility_statistics_lowest_median.head(40)"
   ]
  },
  {
   "cell_type": "markdown",
   "id": "5196ecc2",
   "metadata": {},
   "source": [
    "### Table 1 Chart 1 - Relative visibility in artifacts"
   ]
  },
  {
   "cell_type": "code",
   "execution_count": null,
   "id": "f467a8dd",
   "metadata": {},
   "outputs": [],
   "source": [
    "plot.figure();\n",
    "fig, axes = plot.subplots(nrows=3, ncols=1, sharex=True)\n",
    "\n",
    "number_of_packages_grid_ticks=[1, 2, 5, 10, 20, 50, 100, 200, 500, 1_000, 2_000, 5_000, 10_000]\n",
    "\n",
    "relative_visibility_per_artifact_aggregated.plot(\n",
    "    ax=axes[0],\n",
    "    kind='scatter',\n",
    "    title='Relative visibility in artifacts (75% percentile)', \n",
    "    x='percentile75',\n",
    "    y='all',\n",
    "    grid=True,\n",
    "    logy=True,\n",
    "    yticks=number_of_packages_grid_ticks,\n",
    "    xlabel='relative visibility',\n",
    "    ylabel='number of packages',\n",
    "    cmap=main_color_map,\n",
    "    figsize=(10,4),\n",
    ")\n",
    "relative_visibility_per_artifact_aggregated.plot(\n",
    "    ax=axes[1],\n",
    "    kind='scatter',\n",
    "    title='Relative visibility in artifacts (50% percentile)', \n",
    "    x='percentile50',\n",
    "    y='all',\n",
    "    grid=True,\n",
    "    logy=True,\n",
    "    yticks=number_of_packages_grid_ticks,\n",
    "    xlabel='relative visibility',\n",
    "    ylabel='number of packages',\n",
    "    cmap=main_color_map,\n",
    "    figsize=(10,4),\n",
    ")\n",
    "relative_visibility_per_artifact_aggregated.plot(\n",
    "    ax=axes[2],\n",
    "    kind='scatter',\n",
    "    title='Relative visibility in artifacts (25% percentile)', \n",
    "    x='percentile25',\n",
    "    y='all',\n",
    "    grid=True,\n",
    "    logy=True,\n",
    "    yticks=number_of_packages_grid_ticks,\n",
    "    xlabel='relative visibility',\n",
    "    ylabel='number of packages',\n",
    "    cmap=main_color_map,\n",
    "    figsize=(10,10),\n",
    ")\n",
    "axes[0].grid(color = 'grey', linestyle = '-', linewidth = 0.2)\n",
    "axes[1].grid(color = 'grey', linestyle = '-', linewidth = 0.2)\n",
    "axes[2].grid(color = 'grey', linestyle = '-', linewidth = 0.2)\n",
    "plot.show()"
   ]
  },
  {
   "attachments": {},
   "cell_type": "markdown",
   "id": "3f59da8d",
   "metadata": {},
   "source": [
    "### Table 2a - Top 40 packages with the highest visibility and lowest encapsulation\n",
    "\n",
    "This table shows the relative visibility statistics per packages and artifact and focusses on packages with many types, hardly any package protected ones and therefore the highest relative visibility (lowest encapsulation). Package protected types would help to improve encapsulation.\n",
    "\n",
    "Only the top 40 entries are shown. The whole table can be found in the following CSV report:  \n",
    "`Relative_visibility_public_types_to_all_types_per_package`"
   ]
  },
  {
   "cell_type": "code",
   "execution_count": null,
   "id": "6e91c8c5",
   "metadata": {
    "scrolled": true
   },
   "outputs": [],
   "source": [
    "# Query the visibility statistics per package and artifact (all types aggregated)\n",
    "# The results Will be used in multiple tables below.\n",
    "relative_visibility_per_package=query_cypher_to_data_frame(\"../cypher/Visibility/Relative_visibility_public_types_to_all_types_per_package.cypher\")"
   ]
  },
  {
   "cell_type": "code",
   "execution_count": null,
   "id": "48f7f2d2",
   "metadata": {},
   "outputs": [],
   "source": [
    "# Sort by the \"relativeVisibility\" and \"allTypes\" (number of types in the package) descending\n",
    "highest_relative_visibility_packages=relative_visibility_per_package.sort_values(by=['relativeVisibility', 'allTypes'], ascending=[False, False])\n",
    "\n",
    "# Reset the index (row numbering starting at 0 and increasing by 1)\n",
    "highest_relative_visibility_packages=highest_relative_visibility_packages.reset_index(drop=True)\n",
    "\n",
    "highest_relative_visibility_packages.head(40)"
   ]
  },
  {
   "cell_type": "markdown",
   "id": "c6786ef1",
   "metadata": {},
   "source": [
    "### Table 2b - Top 40 packages with the lowest visibility and highest encapsulation\n",
    "\n",
    "This table shows the relative visibility statistics per packages and artifact and focusses on packages with many types, many package protected ones and therefore the lowest relative visibility (highest encapsulation). Package protected types help to improve encapsulation. Zero percent visibility and therefore packages with no public visible type are suspicious to be dead code.\n",
    "\n",
    "Only the top 40 entries are shown. The whole table can be found in the following CSV report:  \n",
    "`Relative_visibility_public_types_to_all_types_per_package`"
   ]
  },
  {
   "cell_type": "code",
   "execution_count": null,
   "id": "48c20ca4",
   "metadata": {},
   "outputs": [],
   "source": [
    "# Sort by the \"relativeVisibility\" ascending and \"allTypes\" (number of types in the package) descending\n",
    "lowest_relative_visibility_packages=relative_visibility_per_package.sort_values(by=['relativeVisibility', 'allTypes'], ascending=[True, False])\n",
    "\n",
    "# Reset the index (row numbering starting at 0 and increasing by 1)\n",
    "lowest_relative_visibility_packages=lowest_relative_visibility_packages.reset_index(drop=True)\n",
    "\n",
    "lowest_relative_visibility_packages.head(40)"
   ]
  },
  {
   "cell_type": "markdown",
   "id": "8ff237fd",
   "metadata": {},
   "source": [
    "### Table 2 Chart 1 - Relative visibility of packages"
   ]
  },
  {
   "cell_type": "code",
   "execution_count": null,
   "id": "98b12846",
   "metadata": {},
   "outputs": [],
   "source": [
    "plot.figure();\n",
    "\n",
    "number_of_types_grid_ticks=[1, 2, 5, 10, 20, 50, 100, 200, 500, 1_000, 2_000, 5_000, 10_000]\n",
    "\n",
    "relative_visibility_per_package.plot(\n",
    "    kind='scatter',\n",
    "    title='Relative visibility of packages', \n",
    "    x='relativeVisibility',\n",
    "    y='allTypes',\n",
    "    grid=True,\n",
    "    logy=True,\n",
    "    yticks=number_of_types_grid_ticks,\n",
    "    xlabel='relative visibility',\n",
    "    ylabel='number of types',\n",
    "    cmap=main_color_map,\n",
    "    figsize=(10,4),\n",
    ")\n",
    "\n",
    "plot.show()"
   ]
  }
 ],
 "metadata": {
  "authors": [
   {
    "name": "JohT"
   }
  ],
  "kernelspec": {
   "display_name": "Python 3 (ipykernel)",
   "language": "python",
   "name": "python3"
  },
  "language_info": {
   "codemirror_mode": {
    "name": "ipython",
    "version": 3
   },
   "file_extension": ".py",
   "mimetype": "text/x-python",
   "name": "python",
   "nbconvert_exporter": "python",
   "pygments_lexer": "ipython3",
   "version": "3.11.4"
  },
  "title": "Object Oriented Design Quality Metrics for Java with Neo4j"
 },
 "nbformat": 4,
 "nbformat_minor": 5
}
