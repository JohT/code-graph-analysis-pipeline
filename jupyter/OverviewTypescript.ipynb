{
 "cells": [
  {
   "attachments": {},
   "cell_type": "markdown",
   "id": "2f0eabc4",
   "metadata": {},
   "source": [
    "# Overview for Typescript\n",
    "\n",
    "<br>  \n",
    "\n",
    "### References\n",
    "- [jqassistant](https://jqassistant.org)\n",
    "- [Neo4j Python Driver](https://neo4j.com/docs/api/python-driver/current)"
   ]
  },
  {
   "cell_type": "code",
   "execution_count": null,
   "id": "4191f259",
   "metadata": {},
   "outputs": [],
   "source": [
    "import os\n",
    "import pandas as pd\n",
    "import matplotlib.pyplot as plot\n",
    "from neo4j import GraphDatabase"
   ]
  },
  {
   "cell_type": "code",
   "execution_count": null,
   "id": "1c5dab37",
   "metadata": {},
   "outputs": [],
   "source": [
    "# Please set the environment variable \"NEO4J_INITIAL_PASSWORD\" in your shell \n",
    "# before starting jupyter notebook to provide the password for the user \"neo4j\". \n",
    "# It is not recommended to hardcode the password into jupyter notebook for security reasons.\n",
    "\n",
    "driver = GraphDatabase.driver(uri=\"bolt://localhost:7687\", auth=(\"neo4j\", os.environ.get(\"NEO4J_INITIAL_PASSWORD\")))\n",
    "driver.verify_connectivity()"
   ]
  },
  {
   "cell_type": "code",
   "execution_count": null,
   "id": "c1db254b",
   "metadata": {},
   "outputs": [],
   "source": [
    "def get_cypher_query_from_file(filename):\n",
    "    with open(filename) as file:\n",
    "        return ' '.join(file.readlines())\n",
    "\n",
    "\n",
    "def query_cypher_to_data_frame(filename):\n",
    "    records, summary, keys = driver.execute_query(get_cypher_query_from_file(filename))\n",
    "    return pd.DataFrame([r.values() for r in records], columns=keys)"
   ]
  },
  {
   "cell_type": "code",
   "execution_count": null,
   "id": "da9e8edb",
   "metadata": {},
   "outputs": [],
   "source": [
    "#The following cell uses the build-in %html \"magic\" to override the CSS style for tables to a much smaller size.\n",
    "#This is especially needed for PDF export of tables with multiple columns."
   ]
  },
  {
   "cell_type": "code",
   "execution_count": null,
   "id": "9deaabce",
   "metadata": {},
   "outputs": [],
   "source": [
    "%%html\n",
    "<style>\n",
    "/* CSS style for smaller dataframe tables. */\n",
    ".dataframe th {\n",
    "    font-size: 8px;\n",
    "}\n",
    ".dataframe td {\n",
    "    font-size: 8px;\n",
    "}\n",
    "</style>"
   ]
  },
  {
   "cell_type": "code",
   "execution_count": null,
   "id": "c2496caf",
   "metadata": {},
   "outputs": [],
   "source": [
    "# Main Colormap\n",
    "main_color_map = 'nipy_spectral'"
   ]
  },
  {
   "cell_type": "markdown",
   "id": "0c68aa20",
   "metadata": {},
   "source": [
    "## Overview"
   ]
  },
  {
   "cell_type": "markdown",
   "id": "8333d13e",
   "metadata": {},
   "source": [
    "### Table 1 - Size"
   ]
  },
  {
   "cell_type": "code",
   "execution_count": null,
   "id": "f4ddd4d4",
   "metadata": {},
   "outputs": [],
   "source": [
    "overview_size = query_cypher_to_data_frame(\"../cypher/Overview/Overview_size_for_Typescript.cypher\")\n",
    "overview_size"
   ]
  },
  {
   "attachments": {},
   "cell_type": "markdown",
   "id": "91d80bf7",
   "metadata": {},
   "source": [
    "## Modules"
   ]
  },
  {
   "attachments": {},
   "cell_type": "markdown",
   "id": "e02f924a",
   "metadata": {},
   "source": [
    "### Table 2a - Largest 30 elements per module\n",
    "\n",
    "This table shows the largest (number of elements) modules and their kind of elements (Interface, TypeAlias, Variable).\n",
    "The whole table can be found in the CSV report `Number_of_elements_per_module_for_Typescript`."
   ]
  },
  {
   "cell_type": "code",
   "execution_count": null,
   "id": "dc682db6",
   "metadata": {},
   "outputs": [],
   "source": [
    "elements_per_module = query_cypher_to_data_frame(\"../cypher/Overview/Number_of_elements_per_module_for_Typescript.cypher\")\n",
    "elements_per_module.drop(columns='fullQualifiedModuleName').head(30)"
   ]
  },
  {
   "attachments": {},
   "cell_type": "markdown",
   "id": "b44c8a75",
   "metadata": {},
   "source": [
    "### Table 2b - Largest 30 elements per module grouped\n",
    "\n",
    "This table shows the largest (number of elements) modules each in one row, their kind of elements in columns and the count of them as values.\n",
    "\n",
    "The source data for this aggregated table can be found in the CSV report `Number_of_elements_per_module_for_Typescript`."
   ]
  },
  {
   "cell_type": "code",
   "execution_count": null,
   "id": "390c40f5",
   "metadata": {},
   "outputs": [],
   "source": [
    "# Pivot the DataFrame to \n",
    "# - group by the first column (moduleName) as new index\n",
    "# - convert the values in the second column (typeLabel) \n",
    "# - into columns with the value of the third column (numberOfTypes).\n",
    "elements_per_module_grouped = elements_per_module.pivot(index=['fullQualifiedModuleName', 'modulePath', 'moduleName'], columns='languageElement', values='numberOfElements')\n",
    "\n",
    "# Fill missing values with zero\n",
    "elements_per_module_grouped.fillna(0, inplace=True)\n",
    "\n",
    "# Calculate the sum of values for each row\n",
    "elements_per_module_grouped['Total'] = elements_per_module_grouped.sum(axis=1)\n",
    "\n",
    "# Sort the DataFrame by the sum of values\n",
    "elements_per_module_grouped.sort_values(by='Total', ascending=False, inplace=True)\n",
    "\n",
    "# Remove the 'Total' column\n",
    "elements_per_module_grouped.drop('Total', axis=1, inplace=True)\n",
    "\n",
    "# Sort the order of the columns by their sum\n",
    "column_sum = elements_per_module_grouped.sum()\n",
    "elements_per_module_grouped = elements_per_module_grouped[column_sum.sort_values(ascending=False).index[:]]\n",
    "\n",
    "# Convert all numeric columns to integers instead of decimal numbers with .0\n",
    "elements_per_module_grouped = elements_per_module_grouped.astype(int)\n",
    "\n",
    "# Reset the index to be able to select the module name representation (name, path, full)\n",
    "# elements_per_module_grouped.reset_index(inplace=True)\n",
    "\n",
    "# Convert to integer\n",
    "elements_per_module_grouped.reset_index().drop(columns='fullQualifiedModuleName').head(30)"
   ]
  },
  {
   "cell_type": "markdown",
   "id": "cbe350d7",
   "metadata": {},
   "source": [
    "### Table 2b Chart 1 - 30 largest modules and their elements stacked"
   ]
  },
  {
   "cell_type": "code",
   "execution_count": null,
   "id": "982df680",
   "metadata": {},
   "outputs": [],
   "source": [
    "if elements_per_module_grouped.empty:\n",
    "    print(\"No data to plot\")\n",
    "else:\n",
    "    plot.figure();\n",
    "    elements_per_module_grouped.reset_index().head(30).plot(\n",
    "        kind='bar', \n",
    "        title='Top 30 elements per module',\n",
    "        xlabel='Module',\n",
    "        ylabel='Elements',\n",
    "        x='modulePath',\n",
    "        stacked=True, \n",
    "        cmap=main_color_map,\n",
    "        figsize=(9, 6)\n",
    "    )\n",
    "    plot.show()"
   ]
  },
  {
   "attachments": {},
   "cell_type": "markdown",
   "id": "62268321",
   "metadata": {},
   "source": [
    "### Table 2c - 30 highest element count per module (grouped and normalized in %)"
   ]
  },
  {
   "cell_type": "code",
   "execution_count": null,
   "id": "ed887815",
   "metadata": {},
   "outputs": [],
   "source": [
    "# Divide every value by the sum of the row to get horizontal normalized values.\n",
    "# This makes it easier to compare the \"language element\" usage without taking the size of the module into account\n",
    "elements_per_module_grouped_normalized = elements_per_module_grouped.div(elements_per_module_grouped.sum(axis=1), axis=0).multiply(100)\n",
    "elements_per_module_grouped_normalized.reset_index().drop(columns='fullQualifiedModuleName').head(30)"
   ]
  },
  {
   "cell_type": "markdown",
   "id": "47befd1d",
   "metadata": {},
   "source": [
    "### Table 2c Chart 1 - Top 30 modules with the highest relative amount of type aliases in %"
   ]
  },
  {
   "cell_type": "code",
   "execution_count": null,
   "id": "a0e1b7bc",
   "metadata": {},
   "outputs": [],
   "source": [
    "if elements_per_module_grouped_normalized.empty:\n",
    "    print(\"No data to plot\")\n",
    "else:\n",
    "    elements_per_module_sorted_by_type_alias=elements_per_module_grouped_normalized.sort_values(by='TypeAlias', ascending=False)\n",
    "    \n",
    "    plot.figure();\n",
    "    elements_per_module_sorted_by_type_alias.reset_index().head(30).plot(\n",
    "        x='moduleName',\n",
    "        kind='bar', \n",
    "        stacked=True, \n",
    "        cmap=main_color_map, \n",
    "        figsize=(9, 5)\n",
    "    )\n",
    "    plot.xlabel('Module')\n",
    "    plot.ylabel('Elements %')\n",
    "    plot.title('Exported type aliases [%] per module')\n",
    "    plot.show()"
   ]
  },
  {
   "cell_type": "markdown",
   "id": "652b8526",
   "metadata": {},
   "source": [
    "### Table 2c Chart 2 - Top 30 module with the highest relative amount of interfaces in %"
   ]
  },
  {
   "cell_type": "code",
   "execution_count": null,
   "id": "ccb4d386",
   "metadata": {},
   "outputs": [],
   "source": [
    "if elements_per_module_grouped_normalized.empty:\n",
    "    print(\"No data to plot\")\n",
    "else:\n",
    "    elements_per_module_sorted_by_interfaces=elements_per_module_grouped_normalized.sort_values(by='Interface', ascending=False)\n",
    "    \n",
    "    plot.figure();\n",
    "    elements_per_module_sorted_by_interfaces.reset_index().head(30).plot(\n",
    "        x='moduleName',\n",
    "        kind='bar', \n",
    "        stacked=True, \n",
    "        cmap=main_color_map, \n",
    "        figsize=(8, 5)\n",
    "    )\n",
    "    plot.xlabel('Module')\n",
    "    plot.ylabel('Elements %')\n",
    "    plot.title('Exported interfaces [%] per module')\n",
    "    plot.show()"
   ]
  },
  {
   "cell_type": "markdown",
   "id": "a6103211",
   "metadata": {},
   "source": [
    "### Table 2c Chart 3 - Top 30 modules with the highest relative amount of variables in %"
   ]
  },
  {
   "cell_type": "code",
   "execution_count": null,
   "id": "fd70980d",
   "metadata": {},
   "outputs": [],
   "source": [
    "if elements_per_module_grouped_normalized.empty:\n",
    "    print(\"No data to plot\")\n",
    "else:\n",
    "    elements_per_module_sorted_by_variables=elements_per_module_grouped_normalized.sort_values(by='Variable', ascending=False)\n",
    "    plot.figure();\n",
    "    elements_per_module_sorted_by_variables.reset_index().head(30).plot(\n",
    "        x='moduleName',\n",
    "        kind='bar', \n",
    "        stacked=True, \n",
    "        cmap=main_color_map, \n",
    "        figsize=(8, 5)\n",
    "    )\n",
    "    plot.xlabel('Module')\n",
    "    plot.ylabel('Elements %')\n",
    "    plot.title('Exported variables [%] per module')\n",
    "    plot.show()"
   ]
  },
  {
   "cell_type": "markdown",
   "id": "17cf05c7",
   "metadata": {},
   "source": [
    "### Table 2c Chart 4 - Top 30 modules with the highest relative amount of functions in %"
   ]
  },
  {
   "cell_type": "code",
   "execution_count": null,
   "id": "1054634e",
   "metadata": {},
   "outputs": [],
   "source": [
    "if elements_per_module_grouped_normalized.empty:\n",
    "    print(\"No data to plot\")\n",
    "else:\n",
    "    elements_per_module_sorted_by_functions=elements_per_module_grouped_normalized.sort_values(by='Function', ascending=False)\n",
    "    plot.figure();\n",
    "    elements_per_module_sorted_by_functions.reset_index().head(30).plot(\n",
    "        x='moduleName',\n",
    "        kind='bar', \n",
    "        stacked=True, \n",
    "        cmap=main_color_map, \n",
    "        figsize=(8, 5)\n",
    "    )\n",
    "    plot.xlabel('Module')\n",
    "    plot.ylabel('Elements %')\n",
    "    plot.title('Exported functions [%] per module')\n",
    "    plot.show()"
   ]
  }
 ],
 "metadata": {
  "authors": [
   {
    "name": "JohT"
   }
  ],
  "code_graph_analysis_pipeline_data_validation": "ValidateTypescriptModuleDependencies",
  "kernelspec": {
   "display_name": "codegraph",
   "language": "python",
   "name": "python3"
  },
  "language_info": {
   "codemirror_mode": {
    "name": "ipython",
    "version": 3
   },
   "file_extension": ".py",
   "mimetype": "text/x-python",
   "name": "python",
   "nbconvert_exporter": "python",
   "pygments_lexer": "ipython3",
   "version": "3.12.9"
  },
  "title": "Overview for Typescript"
 },
 "nbformat": 4,
 "nbformat_minor": 5
}
