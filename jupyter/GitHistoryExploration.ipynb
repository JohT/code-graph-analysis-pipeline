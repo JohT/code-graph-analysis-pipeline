{
 "cells": [
  {
   "attachments": {},
   "cell_type": "markdown",
   "id": "2f0eabc4",
   "metadata": {},
   "source": [
    "# git log/history\n",
    "<br>  \n",
    "\n",
    "### References\n",
    "- [Visualizing Code: Polyglot Notebooks Repository (YouTube)](https://youtu.be/ipOpToPS-PY?si=3doePt2cp-LgEUmt)\n",
    "- [gitstractor (GitHub)](https://github.com/IntegerMan/gitstractor)\n",
    "- [Neo4j Python Driver](https://neo4j.com/docs/api/python-driver/current)"
   ]
  },
  {
   "cell_type": "code",
   "execution_count": null,
   "id": "4191f259",
   "metadata": {},
   "outputs": [],
   "source": [
    "import os\n",
    "import numpy as np\n",
    "import pandas as pd\n",
    "from scipy.stats import pearsonr, spearmanr\n",
    "import matplotlib.pyplot as plot\n",
    "from matplotlib.colors import ListedColormap\n",
    "from neo4j import GraphDatabase"
   ]
  },
  {
   "cell_type": "code",
   "execution_count": null,
   "id": "1c5dab37",
   "metadata": {},
   "outputs": [],
   "source": [
    "# Please set the environment variable \"NEO4J_INITIAL_PASSWORD\" in your shell \n",
    "# before starting jupyter notebook to provide the password for the user \"neo4j\". \n",
    "# It is not recommended to hardcode the password into jupyter notebook for security reasons.\n",
    "\n",
    "driver = GraphDatabase.driver(uri=\"bolt://localhost:7687\", auth=(\"neo4j\", os.environ.get(\"NEO4J_INITIAL_PASSWORD\")))\n",
    "driver.verify_connectivity()"
   ]
  },
  {
   "cell_type": "code",
   "execution_count": null,
   "id": "c1db254b",
   "metadata": {},
   "outputs": [],
   "source": [
    "def get_cypher_query_from_file(cypher_file_name : str):\n",
    "    with open(cypher_file_name) as file:\n",
    "        return ' '.join(file.readlines())\n",
    "\n",
    "\n",
    "def query_cypher_to_data_frame(filename : str, limit: int = -1):\n",
    "    \"\"\"\n",
    "    Execute the Cypher query of the given file and returns the result.\n",
    "    filename : str : The name of the file containing the Cypher query\n",
    "    limit : int : The optional limit of rows to optimize the query. Default = -1 = no limit\n",
    "    \"\"\"\n",
    "    cypher_query = get_cypher_query_from_file(filename)\n",
    "    if limit > 0:\n",
    "        cypher_query = \"{query}\\nLIMIT {row_limit}\".format(query = cypher_query, row_limit = limit)\n",
    "    records, summary, keys = driver.execute_query(cypher_query)\n",
    "    return pd.DataFrame([r.values() for r in records], columns=keys)\n",
    "\n",
    "\n",
    "def query_first_non_empty_cypher_to_data_frame(*filenames : str, limit: int = -1):\n",
    "    \"\"\"\n",
    "    Executes the Cypher queries of the given files and returns the first result that is not empty.\n",
    "    If all given file names result in empty results, the last (empty) result will be returned.\n",
    "    By additionally specifying \"limit=\" the \"LIMIT\" keyword will appended to query so that only the first results get returned.\n",
    "    \"\"\"    \n",
    "    result=pd.DataFrame()\n",
    "    for filename in filenames:\n",
    "        result=query_cypher_to_data_frame(filename, limit)\n",
    "        if not result.empty:\n",
    "            return result\n",
    "    return result"
   ]
  },
  {
   "cell_type": "code",
   "execution_count": null,
   "id": "a56670c9",
   "metadata": {},
   "outputs": [],
   "source": [
    "#The following cell uses the build-in %html \"magic\" to override the CSS style for tables to a much smaller size.\n",
    "#This is especially needed for PDF export of tables with multiple columns."
   ]
  },
  {
   "cell_type": "code",
   "execution_count": null,
   "id": "006b9dc8",
   "metadata": {},
   "outputs": [],
   "source": [
    "%%html\n",
    "<style>\n",
    "/* CSS style for smaller dataframe tables. */\n",
    ".dataframe th {\n",
    "    font-size: 8px;\n",
    "}\n",
    ".dataframe td {\n",
    "    font-size: 8px;\n",
    "}\n",
    "</style>"
   ]
  },
  {
   "cell_type": "code",
   "execution_count": null,
   "id": "d565f2ed",
   "metadata": {},
   "outputs": [],
   "source": [
    "# Main Colormap\n",
    "# main_color_map = 'nipy_spectral'\n",
    "main_color_map = 'viridis'"
   ]
  },
  {
   "cell_type": "code",
   "execution_count": null,
   "id": "6323e85e",
   "metadata": {},
   "outputs": [],
   "source": [
    "# Pandas DataFrame Display Configuration\n",
    "pd.set_option('display.max_colwidth', 500)"
   ]
  },
  {
   "cell_type": "markdown",
   "id": "c15669ef",
   "metadata": {},
   "source": [
    "## Pairwise Changed Files vs. Dependency Weight\n",
    "\n",
    "This section explores the correlation between how often pairs of files are changed together (common commit count) and their dependency weight. Note that these results should be interpreted cautiously, as comparing pairwise changes and dependencies is inherently challenging.\n",
    "\n",
    "### Considerations\n",
    "- **Historical vs. Current State**: Pairwise changes reflect the entire git history, while dependency weight represents the current state of the codebase.\n",
    "- **Commit Granularity**: Developers may use different commit strategies, such as squashing changes into a single commit or creating fine-grained commits. Ideally, each commit should represent a single semantic change for accurate analysis.\n",
    "- **Dependency Representation**: Some file types (e.g., Java files with import statements) clearly define dependencies, while others (e.g., shell scripts, XML, YAML) lack explicit dependency relationships.\n",
    "- **Repository Characteristics**: Repositories with generated code may have many large commits, while stabilized repositories may only update configuration files for dependency changes."
   ]
  },
  {
   "cell_type": "markdown",
   "id": "98a2feea",
   "metadata": {},
   "source": [
    "#### Data Preview"
   ]
  },
  {
   "cell_type": "code",
   "execution_count": null,
   "id": "a067f8e6",
   "metadata": {},
   "outputs": [],
   "source": [
    "pairwise_changed_git_files_with_dependencies = query_cypher_to_data_frame(\"../cypher/GitLog/List_pairwise_changed_files_with_dependencies.cypher\")\n",
    "pairwise_changed_git_files_with_dependencies.head(10)"
   ]
  },
  {
   "cell_type": "markdown",
   "id": "01db2db9",
   "metadata": {},
   "source": [
    "#### Data Statistics"
   ]
  },
  {
   "cell_type": "code",
   "execution_count": null,
   "id": "9fe48db8",
   "metadata": {},
   "outputs": [],
   "source": [
    "display(\"Pairwise changed git files compared to dependency weights - Overall statistics\")\n",
    "display(pairwise_changed_git_files_with_dependencies.describe())\n",
    "\n",
    "# The correlation matrix plot can be found further below\n",
    "# display(\"Pairwise changed git files compared to dependency weights - Pearson Correlation\")\n",
    "# display(pairwise_changed_git_files_with_dependencies.corr(method='pearson'))\n",
    "\n",
    "# display(\"Pairwise changed git files compared to dependency weights - Spearman Correlation\")\n",
    "# display(pairwise_changed_git_files_with_dependencies.corr(method='spearman'))"
   ]
  },
  {
   "cell_type": "code",
   "execution_count": null,
   "id": "5a4ae651",
   "metadata": {},
   "outputs": [],
   "source": [
    "if pairwise_changed_git_files_with_dependencies.shape[0] < 5:\n",
    "    print(\"Less than 5 samples are not enough to calculate p-values\")\n",
    "else:\n",
    "    display(\"Pearson Correlation with p-value for commitCount and dependencyWeight\")\n",
    "    display(pearsonr(pairwise_changed_git_files_with_dependencies['commitCount'], pairwise_changed_git_files_with_dependencies['dependencyWeight']))\n",
    "\n",
    "    display(\"Spearman Correlation with p-value for commitCount and dependencyWeight\")\n",
    "    display(spearmanr(pairwise_changed_git_files_with_dependencies['commitCount'], pairwise_changed_git_files_with_dependencies['dependencyWeight']))\n",
    "\n",
    "    display(\"Pearson Correlation with p-value for updateCommitMinConfidence and dependencyWeight\")\n",
    "    display(pearsonr(pairwise_changed_git_files_with_dependencies['updateCommitMinConfidence'], pairwise_changed_git_files_with_dependencies['dependencyWeight']))\n",
    "\n",
    "    display(\"Spearman Correlation with p-value for updateCommitMinConfidence and dependencyWeight\")\n",
    "    display(spearmanr(pairwise_changed_git_files_with_dependencies['updateCommitMinConfidence'], pairwise_changed_git_files_with_dependencies['dependencyWeight']))"
   ]
  },
  {
   "cell_type": "code",
   "execution_count": null,
   "id": "32125058",
   "metadata": {},
   "outputs": [],
   "source": [
    "def plot_correlation_matrix(correlation_matrix: pd.DataFrame, title_suffix: str = \"\") -> None:\n",
    "    \"\"\"\n",
    "    Plots the correlation matrix of the features in the DataFrame.\n",
    "    \n",
    "    :param java_package_anomaly_detection_features: DataFrame containing the features.\n",
    "    :param java_package_features_to_standardize: List of feature names to include in the correlation matrix.\n",
    "    \"\"\"\n",
    "    figure, axis = plot.subplots(figsize=(6, 6))\n",
    "    color_axis = axis.matshow(correlation_matrix, cmap=\"coolwarm\")\n",
    "    figure.colorbar(color_axis)\n",
    "    axis.set_xticks(range(len(correlation_matrix.columns)))\n",
    "    axis.set_yticks(range(len(correlation_matrix.index)))\n",
    "    axis.set_xticklabels(correlation_matrix.columns, rotation=90, fontsize=8)\n",
    "    axis.set_yticklabels(correlation_matrix.index, fontsize=8)\n",
    "    for (i, j), correlation_value in np.ndenumerate(correlation_matrix.values):\n",
    "        axis.text(j, i, f\"{correlation_value:.2f}\", ha='center', va='center', color='black', fontsize=8, bbox=dict(facecolor='white', alpha=0.2, edgecolor='none'))\n",
    "    plot.title(f\"Correlation Matrix {title_suffix}\", fontsize=10)\n",
    "    plot.tight_layout()\n",
    "    plot.show()"
   ]
  },
  {
   "cell_type": "code",
   "execution_count": null,
   "id": "5a375279",
   "metadata": {},
   "outputs": [],
   "source": [
    "plot_correlation_matrix(pairwise_changed_git_files_with_dependencies.corr(method=\"pearson\"), \"(Pearson)\")"
   ]
  },
  {
   "cell_type": "code",
   "execution_count": null,
   "id": "9efa7d61",
   "metadata": {},
   "outputs": [],
   "source": [
    "plot_correlation_matrix(pairwise_changed_git_files_with_dependencies.corr(method=\"spearman\"), \"(Spearman)\")"
   ]
  },
  {
   "cell_type": "code",
   "execution_count": null,
   "id": "f17b39b4",
   "metadata": {},
   "outputs": [],
   "source": [
    "def pvalue_matrix(data: pd.DataFrame) -> pd.DataFrame:\n",
    "    columns = data.columns\n",
    "    # Fill the diagonal with value 1.0. \n",
    "    # A p-value for 2 identical values would lead to warnings and not reveal any valueable insights.\n",
    "    p_values = pd.DataFrame(np.ones((len(columns), len(columns))), columns=columns, index=columns)\n",
    "\n",
    "    for i in range(len(columns)):\n",
    "        for j in range(i+1, len(columns)):\n",
    "            _, p_value = pearsonr(data[columns[i]], data[columns[j]])\n",
    "            if np.isnan(p_value): # replace nan with 1.0 = no significance\n",
    "                p_value = 1.0\n",
    "            if np.isclose(p_value, 0.0, rtol=1e-15, atol=1e-15): # replace values to close to zero by 1 = no significance\n",
    "                p_value = 1.0\n",
    "            p_values.iloc[i, j] = p_value\n",
    "            p_values.iloc[j, i] = p_value\n",
    "\n",
    "    return p_values\n",
    "\n",
    "def plot_p_value_matrix(p_value_matrix: pd.DataFrame):\n",
    "\n",
    "    # Map values to 0 (green) and 1 (white)\n",
    "    data_for_plot = np.where(p_value_matrix < 0.05, 0, 1)\n",
    "\n",
    "    # Make a colormap: green for low p-values, white for others\n",
    "    color_map = ListedColormap([\"limegreen\", \"white\"])\n",
    "\n",
    "    # Plot heatmap\n",
    "    figure, axis = plot.subplots(figsize=(6, 5))\n",
    "    image = axis.imshow(data_for_plot, cmap=color_map, vmin=0, vmax=1)\n",
    "\n",
    "    # Add colorbar\n",
    "    # color_bar = plot.colorbar(image, ax=axis)\n",
    "    # color_bar.set_label(\"p-value\")\n",
    "\n",
    "    # Show all ticks\n",
    "    axis.set_xticks(np.arange(len(p_value_matrix.columns)))\n",
    "    axis.set_yticks(np.arange(len(p_value_matrix.index)))\n",
    "    axis.set_xticklabels(p_value_matrix.columns, fontsize=8)\n",
    "    axis.set_yticklabels(p_value_matrix.index, fontsize=8)\n",
    "\n",
    "    # Rotate tick labels\n",
    "    plot.setp(axis.get_xticklabels(), rotation=45, ha=\"right\", rotation_mode=\"anchor\", fontsize=8)\n",
    "\n",
    "    # Annotate with values\n",
    "    for i in range(len(p_value_matrix.columns)):\n",
    "        for j in range(len(p_value_matrix.index)):\n",
    "            cell_value = p_value_matrix.iloc[i, j]\n",
    "            if cell_value < 0.001:\n",
    "                cell_text = f\"{cell_value:.1e}\"  # scientific notation\n",
    "            else:\n",
    "                cell_text = f\"{cell_value:.4f}\"  # normal 4-decimal format\n",
    "            axis.text(j, i, cell_text, ha=\"center\", va=\"center\", color=\"black\", fontsize=6)\n",
    "\n",
    "    plot.title(\"p-value Matrix (< 0.05 in Green)\", pad=20, fontsize=10)\n",
    "    plot.tight_layout()\n",
    "    plot.show()\n",
    "\n",
    "# Plot p-values showing statistical significance\n",
    "plot_p_value_matrix(pvalue_matrix(pairwise_changed_git_files_with_dependencies))"
   ]
  },
  {
   "cell_type": "code",
   "execution_count": null,
   "id": "5c799b77",
   "metadata": {},
   "outputs": [],
   "source": [
    "def plot_git_changes_vs_dependencies(pairwise_changes: pd.DataFrame, title: str, x_column: str, y_column: str):\n",
    "    if pairwise_changes.empty:\n",
    "        print(\"No projected data to plot.\")\n",
    "        return\n",
    "\n",
    "    plot.scatter(\n",
    "        x=pairwise_changes[x_column],\n",
    "        y=pairwise_changes[y_column],\n",
    "        s=3,\n",
    "    )\n",
    "    plot.xlabel(x_column)\n",
    "    plot.ylabel(y_column)\n",
    "    plot.title(title, pad=20)\n",
    "    plot.show()"
   ]
  },
  {
   "cell_type": "code",
   "execution_count": null,
   "id": "747f9590",
   "metadata": {},
   "outputs": [],
   "source": [
    "# Scatter plot of all pairs of files with their commit count on the x axis and dependency weight on the y axis\n",
    "\n",
    "plot_git_changes_vs_dependencies(\n",
    "    pairwise_changed_git_files_with_dependencies,\n",
    "    'Pairwise changed files: Number of changes (commitCount) vs. dependency weight',\n",
    "    'commitCount',\n",
    "    'dependencyWeight'\n",
    ")"
   ]
  },
  {
   "cell_type": "code",
   "execution_count": null,
   "id": "75264b82",
   "metadata": {},
   "outputs": [],
   "source": [
    "# Scatter plot of all pairs of files with their min confidence (normalized update commit count) on the x axis and dependency weight on the y axis\n",
    "\n",
    "plot_git_changes_vs_dependencies(\n",
    "    pairwise_changed_git_files_with_dependencies,\n",
    "    'Pairwise changed files: Min confidence co-change rate vs. dependency weight',\n",
    "    'updateCommitMinConfidence',\n",
    "    'dependencyWeight'\n",
    ")"
   ]
  }
 ],
 "metadata": {
  "authors": [
   {
    "name": "JohT"
   }
  ],
  "code_graph_analysis_pipeline_data_validation": "ValidateAlwaysFalse",
  "kernelspec": {
   "display_name": "codegraph",
   "language": "python",
   "name": "python3"
  },
  "language_info": {
   "codemirror_mode": {
    "name": "ipython",
    "version": 3
   },
   "file_extension": ".py",
   "mimetype": "text/x-python",
   "name": "python",
   "nbconvert_exporter": "python",
   "pygments_lexer": "ipython3",
   "version": "3.12.9"
  },
  "title": "Git History Charts with Neo4j (Additional Manual Exploration)"
 },
 "nbformat": 4,
 "nbformat_minor": 5
}
