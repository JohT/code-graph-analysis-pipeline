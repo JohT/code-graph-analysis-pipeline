{
 "cells": [
  {
   "attachments": {},
   "cell_type": "markdown",
   "id": "2f0eabc4",
   "metadata": {},
   "source": [
    "# Object Oriented Design Quality Metrics\n",
    "<br>  \n",
    "\n",
    "### References\n",
    "- [Analyze java package metrics in a graph database](https://joht.github.io/johtizen/data/2023/04/21/java-package-metrics-analysis.html)\n",
    "- [Calculate metrics](https://101.jqassistant.org/calculate-metrics/index.html)\n",
    "- [jqassistant](https://jqassistant.org)\n",
    "- [notebook walks through examples for integrating various packages with Neo4j](https://nicolewhite.github.io/neo4j-jupyter/hello-world.html)\n",
    "- [OO Design Quality Metrics](https://api.semanticscholar.org/CorpusID:18246616)\n",
    "- [Neo4j Python Driver](https://neo4j.com/docs/api/python-driver/current)"
   ]
  },
  {
   "cell_type": "code",
   "execution_count": null,
   "id": "4191f259",
   "metadata": {},
   "outputs": [],
   "source": [
    "import os\n",
    "import pandas as pd\n",
    "import matplotlib.pyplot as plot\n",
    "from neo4j import GraphDatabase"
   ]
  },
  {
   "cell_type": "code",
   "execution_count": null,
   "id": "1c5dab37",
   "metadata": {},
   "outputs": [],
   "source": [
    "# Please set the environment variable \"NEO4J_INITIAL_PASSWORD\" in your shell \n",
    "# before starting jupyter notebook to provide the password for the user \"neo4j\". \n",
    "# It is not recommended to hardcode the password into jupyter notebook for security reasons.\n",
    "\n",
    "driver = GraphDatabase.driver(uri=\"bolt://localhost:7687\", auth=(\"neo4j\", os.environ.get(\"NEO4J_INITIAL_PASSWORD\")))\n",
    "driver.verify_connectivity()"
   ]
  },
  {
   "cell_type": "code",
   "execution_count": null,
   "id": "c1db254b",
   "metadata": {},
   "outputs": [],
   "source": [
    "def get_cypher_query_from_file(cypherFileName):\n",
    "    with open(cypherFileName) as file:\n",
    "        return ' '.join(file.readlines())"
   ]
  },
  {
   "cell_type": "code",
   "execution_count": null,
   "id": "59310f6f",
   "metadata": {},
   "outputs": [],
   "source": [
    "def query_cypher_to_data_frame(filename):\n",
    "    records, summary, keys = driver.execute_query(get_cypher_query_from_file(filename))\n",
    "    return pd.DataFrame([r.values() for r in records], columns=keys)"
   ]
  },
  {
   "cell_type": "code",
   "execution_count": null,
   "id": "da9e8edb",
   "metadata": {},
   "outputs": [],
   "source": [
    "#The following cell uses the build-in %html \"magic\" to override the CSS style for tables to a much smaller size.\n",
    "#This is especially needed for PDF export of tables with multiple columns."
   ]
  },
  {
   "cell_type": "code",
   "execution_count": null,
   "id": "9deaabce",
   "metadata": {},
   "outputs": [],
   "source": [
    "%%html\n",
    "<style>\n",
    "/* CSS style for smaller dataframe tables. */\n",
    ".dataframe th {\n",
    "    font-size: 8px;\n",
    "}\n",
    ".dataframe td {\n",
    "    font-size: 8px;\n",
    "}\n",
    "</style>"
   ]
  },
  {
   "attachments": {},
   "cell_type": "markdown",
   "id": "bbb51c78",
   "metadata": {},
   "source": [
    "## Incoming Dependencies\n",
    "\n",
    "Incoming dependencies are also denoted as \"Fan-in\", \"Afferent Couplings\" or \"in-degree\".\n",
    "These are the ones that use the listed package. \n",
    "   \n",
    "If these packages get changed, the incoming dependencies might be affected by the change. The more incoming dependencies, the harder it gets to change the code without the need to adapt the dependent code (“rigid code”). Even worse, it might affect the behavior of the dependent code in an unwanted way (“fragile code”).\n",
    "     \n",
    "#### Table 2\n",
    "- Show the top 20 packages with the most incoming dependencies\n",
    "- Set the \"incomingDependencies\" properties on Package nodes."
   ]
  },
  {
   "cell_type": "code",
   "execution_count": null,
   "id": "9a0a15be",
   "metadata": {
    "scrolled": true
   },
   "outputs": [],
   "source": [
    "query_cypher_to_data_frame(\"../cypher/Metrics/Set_Incoming_Package_Dependencies.cypher\").head(20)"
   ]
  },
  {
   "attachments": {},
   "cell_type": "markdown",
   "id": "82e9f74c",
   "metadata": {},
   "source": [
    "## Outgoing Dependencies\n",
    "\n",
    "Outcoming dependencies are also denoted as \"Fan-out\", \"Efferent Couplings\" or \"out-degree\".\n",
    "These are the ones that are used by the listed package. \n",
    "\n",
    "Code from other packages and libraries you’re depending on (outgoing) might change over time. The more outgoing changes, the more likely and frequently code changes are needed. This involves time and effort which can be reduced by automation of tests and version updates. Automated tests are crucial to reveal updates, that change the behavior of the code unexpectedly (“fragile code”). As soon as more effort is required, keeping up becomes difficult (“rigid code”). Not being able to use a newer version might not only restrict features, it can get problematic if there are security issues. This might force you to take “fast but ugly” solutions into account which further increases technical dept.\n",
    "  \n",
    "#### Table 3\n",
    "\n",
    "- Show the top 20 packages with the most outgoing dependencies\n",
    "- Set the \"outgoingDependencies\" properties on Package nodes."
   ]
  },
  {
   "cell_type": "code",
   "execution_count": null,
   "id": "a2ec92ab",
   "metadata": {},
   "outputs": [],
   "source": [
    "query_cypher_to_data_frame(\"../cypher/Metrics/Set_Outgoing_Package_Dependencies.cypher\").head(20)"
   ]
  },
  {
   "attachments": {},
   "cell_type": "markdown",
   "id": "22f8959e",
   "metadata": {},
   "source": [
    "## Instability\n",
    "\n",
    "$$ Instability = \\frac{Outgoing\\:Dependencies}{Outgoing\\:Dependencies + Incoming\\:Dependencies} $$\n",
    "\n",
    "*Instability* is expressed as the ratio of the number of outgoing dependencies of a module (i.e., the number of packages that depend on it) to the total number of dependencies (i.e., the sum of incoming and outgoing dependencies).\n",
    "\n",
    "Small values near zero indicate low *Instability*. With no outgoing but some incoming dependencies the Instability is zero which is denoted as maximally stable. Such code units are more rigid and difficult to change without impacting other parts of the system. If they are changed less because of that, they are considered stable.\n",
    "\n",
    "Conversely, high values approaching one indicate high *Instability*. With some outgoing dependencies but no incoming ones the *Instability* is denoted as maximally unstable. Such code units are easier to change without affecting other modules, making them more flexible and less prone to cascading changes throughout the system. If they are changed more often because of that, they are considered unstable.\n",
    "\n",
    "#### Table 4\n",
    "\n",
    "- Show the top 20 packages with the lowest *Instability*"
   ]
  },
  {
   "cell_type": "code",
   "execution_count": null,
   "id": "5fb9f58e",
   "metadata": {},
   "outputs": [],
   "source": [
    "query_cypher_to_data_frame(\"../cypher/Metrics/Calculate_and_set_Instability_outgoing_incoming_Dependencies.cypher\").head(20)"
   ]
  },
  {
   "attachments": {},
   "cell_type": "markdown",
   "id": "f9eb4c6f",
   "metadata": {},
   "source": [
    "## Abstractness\n",
    "\n",
    "$$ Abstractness = \\frac{abstract\\:classes\\:in\\:category}{total\\:number\\:of\\:classes\\:in\\:category} $$\n",
    "\n",
    "Package *Abstractness* is expressed as the ratio of the number of abstract classes and interfaces to the total number of classes of a package.\n",
    "\n",
    "Zero *Abstractness* means that there are no abstract types or interfaces in the package. On the other hand, a value of one means that there are only abstract types.\n",
    "\n",
    "#### Table 5\n",
    "\n",
    "- Show the top 30 packages with the lowest *Abstractness*"
   ]
  },
  {
   "cell_type": "code",
   "execution_count": null,
   "id": "2076d515",
   "metadata": {},
   "outputs": [],
   "source": [
    "query_cypher_to_data_frame(\"../cypher/Metrics/Calculate_and_set_Abstractness_including_Counts.cypher\").head(30)"
   ]
  },
  {
   "attachments": {},
   "cell_type": "markdown",
   "id": "e10154bb",
   "metadata": {},
   "source": [
    "## Distance from the main sequence\n",
    "\n",
    "The *main sequence* is a imaginary line that represents a good compromise between *Abstractness* and *Instability*. A high distance to this line may indicate problems. For example is very *stable* (rigid) code with low abstractness hard to change.\n",
    "\n",
    "Read more details on that in [OO Design Quality Metrics](https://api.semanticscholar.org/CorpusID:18246616) and [Calculate metrics](https://101.jqassistant.org/calculate-metrics/index.html).\n",
    "\n",
    "#### Table 6\n",
    "\n",
    "- Show the top 30 packages with the highest distance from the \"main sequence\""
   ]
  },
  {
   "cell_type": "code",
   "execution_count": null,
   "id": "f8513ef8",
   "metadata": {},
   "outputs": [],
   "source": [
    "instabilityPerAbstractness = query_cypher_to_data_frame(\"../cypher/Metrics/Calculate_distance_between_abstractness_and_instability.cypher\")\n",
    "instabilityPerAbstractness.head(30)"
   ]
  },
  {
   "attachments": {},
   "cell_type": "markdown",
   "id": "149fc732",
   "metadata": {},
   "source": [
    "### *Abstractness* vs. *Instability* Plot with \"Main Sequence\" line as reference\n",
    "\n",
    "#### Figure 1\n",
    "- Plot *Abstractness* vs. *Instability* of all packages\n",
    "- Draw the \"main sequence\" as dashed green line \n",
    "- Scale the packages by the number of types they contain\n",
    "- Color the packages by their distance to the \"main sequence\" (blue=near, red=far)"
   ]
  },
  {
   "cell_type": "code",
   "execution_count": null,
   "id": "1fbbad97",
   "metadata": {},
   "outputs": [],
   "source": [
    "# Function that returns the number of past (index smaller than given index) rows \n",
    "# with the same value in columnName1 and columnName2\n",
    "# If there was a row with the same columnName1 and columnName2 values\n",
    "# def countPastEntriesWithSameValues(dataFrame, index, columnName1, columnName2):\n",
    "#     columnValue1 = dataFrame[columnName1][index]\n",
    "#     columnValue2 = dataFrame[columnName2][index]\n",
    "#     return len(dataFrame[\n",
    "#         (dataFrame.index.isin(range(0, index + 1))) & \n",
    "#         (dataFrame[columnName1]==columnValue1) & \n",
    "#         (dataFrame[columnName2]==columnValue2)\n",
    "#     ]) - 1"
   ]
  },
  {
   "cell_type": "code",
   "execution_count": null,
   "id": "36d8cf50",
   "metadata": {},
   "outputs": [],
   "source": [
    "instabilityPerAbstractness.packageName[0]"
   ]
  },
  {
   "cell_type": "code",
   "execution_count": null,
   "id": "7c7e474d",
   "metadata": {},
   "outputs": [],
   "source": [
    "def annotate_plot(data_frame: pd.DataFrame, index: int):\n",
    "    \"\"\"\n",
    "    Annotates the data points identified by the \"index\" in the plot of the \"data_frame\" \n",
    "    \"\"\"\n",
    "    x_position = data_frame.abstractness[index].item()\n",
    "    y_position = data_frame.instability[index].item()\n",
    "    artifact_name = data_frame.artifactName[index].item()\n",
    "    package_name = data_frame.packageName[index].item()\n",
    "\n",
    "    label_box=dict(boxstyle=\"round4,pad=0.5\", fc=\"w\", alpha=0.8)\n",
    "    plot.annotate(artifact_name + '\\n' + package_name\n",
    "        ,xy=(x_position, y_position)\n",
    "        ,xycoords='data'\n",
    "        ,xytext=(20, 0)\n",
    "        ,textcoords='offset points'\n",
    "        ,size=6\n",
    "        ,bbox=label_box\n",
    "        ,arrowprops=dict(arrowstyle=\"-|>\", mutation_scale=10, color=\"black\")\n",
    "    )\n",
    "\n",
    "def index_of_sorted(data_frame: pd.DataFrame, highest: list[str] = []):\n",
    "    \"\"\"\n",
    "    Sorts the \"data_frame\" by columns 'abstractness','instability','typesInPackage', 'artifactName'\n",
    "    and returns the index of the first row.\n",
    "    Columns that are contained in the list of strings parameter \"highest\" will be sorted descending.\n",
    "    \"\"\"\n",
    "    by = ['abstractness','instability','typesInPackage', 'artifactName']\n",
    "    ascending = [('abstractness' not in highest), ('instability' not in highest), False, True]\n",
    "    return data_frame.sort_values(by=by, ascending=ascending).head(1).index\n",
    "\n",
    "\n",
    "# data points scaled by the number of types and colored by the distance to the \"main sequence\"\n",
    "plot.scatter(\n",
    "    instabilityPerAbstractness.abstractness, # x axis shows abstractness\n",
    "    instabilityPerAbstractness.instability, # y axis shows instability\n",
    "    s=instabilityPerAbstractness.typesInPackage * 2, # scale depends on number of contained types\n",
    "    c=instabilityPerAbstractness.distance, # color depends on distance to the main sequence\n",
    "    cmap='bwr' # colormap that prints high values in red and lower values in blue\n",
    ")\n",
    "# green \"main sequence\" line\n",
    "plot.plot([0,1], [1,0], c='lightgreen', linestyle='dashed') \n",
    "\n",
    "# Annotate largest package with the highest abstractness and instability\n",
    "annotation_index = index_of_sorted(highest=['abstractness','instability'], data_frame=instabilityPerAbstractness)\n",
    "annotate_plot(instabilityPerAbstractness, annotation_index)\n",
    "\n",
    "# Annotate largest package with the lowest abstractness and highest instability\n",
    "annotation_index = index_of_sorted(highest=['instability'], data_frame=instabilityPerAbstractness)\n",
    "annotate_plot(instabilityPerAbstractness, annotation_index)\n",
    "\n",
    "# Annotate largest package with the lowest abstractness and lowest instability\n",
    "annotation_index = index_of_sorted(highest=[], data_frame=instabilityPerAbstractness)\n",
    "annotate_plot(instabilityPerAbstractness, annotation_index)\n",
    "\n",
    "# Annotate largest package with the highest abstractness and lowest instability\n",
    "annotation_index = index_of_sorted(highest=['abstractness'], data_frame=instabilityPerAbstractness)\n",
    "annotate_plot(instabilityPerAbstractness, annotation_index)\n",
    "\n",
    "# Annotate largest packages with the highest abstractness and instability near 0.5% \n",
    "annotation_index = index_of_sorted(highest=['abstractness', 'instability'], data_frame=instabilityPerAbstractness.query('abstractness <= 0.5 & instability <= 0.5'))\n",
    "annotate_plot(instabilityPerAbstractness, annotation_index)\n",
    "\n",
    "plot.title('Abstractness vs. Instability (\"Main Sequence\")')\n",
    "plot.xlabel('Abstractness')\n",
    "plot.ylabel('Instability')\n",
    "plot.show()"
   ]
  }
 ],
 "metadata": {
  "authors": [
   {
    "name": "JohT"
   }
  ],
  "kernelspec": {
   "display_name": "Python 3 (ipykernel)",
   "language": "python",
   "name": "python3"
  },
  "language_info": {
   "codemirror_mode": {
    "name": "ipython",
    "version": 3
   },
   "file_extension": ".py",
   "mimetype": "text/x-python",
   "name": "python",
   "nbconvert_exporter": "python",
   "pygments_lexer": "ipython3",
   "version": "3.11.4"
  },
  "title": "Object Oriented Design Quality Metrics for Java with Neo4j"
 },
 "nbformat": 4,
 "nbformat_minor": 5
}
