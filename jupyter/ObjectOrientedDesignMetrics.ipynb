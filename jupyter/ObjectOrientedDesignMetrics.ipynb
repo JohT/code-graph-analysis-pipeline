{
 "cells": [
  {
   "attachments": {},
   "cell_type": "markdown",
   "id": "2f0eabc4",
   "metadata": {},
   "source": [
    "# Object Oriented Design Quality Metrics\n",
    "<br>  \n",
    "\n",
    "### References\n",
    "- [Analyze java package metrics in a graph database](https://joht.github.io/johtizen/data/2023/04/21/java-package-metrics-analysis.html)\n",
    "- [Calculate metrics](https://101.jqassistant.org/calculate-metrics/index.html)\n",
    "- [jqassistant](https://jqassistant.org)\n",
    "- [notebook walks through examples for integrating various packages with Neo4j](https://nicolewhite.github.io/neo4j-jupyter/hello-world.html)\n",
    "- [OO Design Quality Metrics](https://api.semanticscholar.org/CorpusID:18246616)\n",
    "- [Neo4j Python Driver](https://neo4j.com/docs/api/python-driver/current)"
   ]
  },
  {
   "cell_type": "code",
   "execution_count": null,
   "id": "4191f259",
   "metadata": {},
   "outputs": [],
   "source": [
    "import os\n",
    "import pandas as pd\n",
    "import matplotlib.pyplot as plot\n",
    "from neo4j import GraphDatabase"
   ]
  },
  {
   "cell_type": "code",
   "execution_count": null,
   "id": "1c5dab37",
   "metadata": {},
   "outputs": [],
   "source": [
    "# Please set the environment variable \"NEO4J_INITIAL_PASSWORD\" in your shell \n",
    "# before starting jupyter notebook to provide the password for the user \"neo4j\". \n",
    "# It is not recommended to hardcode the password into jupyter notebook for security reasons.\n",
    "\n",
    "driver = GraphDatabase.driver(uri=\"bolt://localhost:7687\", auth=(\"neo4j\", os.environ.get(\"NEO4J_INITIAL_PASSWORD\")))\n",
    "driver.verify_connectivity()"
   ]
  },
  {
   "cell_type": "code",
   "execution_count": null,
   "id": "c1db254b",
   "metadata": {},
   "outputs": [],
   "source": [
    "def get_cypher_query_from_file(cypher_file_name: str):\n",
    "    with open(cypher_file_name) as file:\n",
    "        return ' '.join(file.readlines())"
   ]
  },
  {
   "cell_type": "code",
   "execution_count": null,
   "id": "59310f6f",
   "metadata": {},
   "outputs": [],
   "source": [
    "def query_cypher_to_data_frame(filename : str, limit: int = 10_000):\n",
    "    cypher_query_template = \"{query} LIMIT {row_limit}\"\n",
    "    cypher_query = get_cypher_query_from_file(filename)\n",
    "    cypher_query = cypher_query_template.format(query = cypher_query, row_limit = limit)\n",
    "    records, summary, keys = driver.execute_query(cypher_query)\n",
    "    return pd.DataFrame([r.values() for r in records], columns=keys)"
   ]
  },
  {
   "cell_type": "code",
   "execution_count": null,
   "id": "013395f1",
   "metadata": {},
   "outputs": [],
   "source": [
    "def query_first_non_empty_cypher_to_data_frame(*filenames : str, limit: int = 10_000):\n",
    "    \"\"\"\n",
    "    Executes the Cypher queries of the given files and returns the first result that is not empty.\n",
    "    If all given file names result in empty results, the last (empty) result will be returned.\n",
    "    By additionally specifying \"limit=\" the \"LIMIT\" keyword will appended to query so that only the first results get returned.\n",
    "    \"\"\"    \n",
    "    result=pd.DataFrame()\n",
    "    for filename in filenames:\n",
    "        result=query_cypher_to_data_frame(filename, limit)\n",
    "        if not result.empty:\n",
    "            return result\n",
    "    return result"
   ]
  },
  {
   "cell_type": "code",
   "execution_count": null,
   "id": "da9e8edb",
   "metadata": {},
   "outputs": [],
   "source": [
    "#The following cell uses the build-in %html \"magic\" to override the CSS style for tables to a much smaller size.\n",
    "#This is especially needed for PDF export of tables with multiple columns."
   ]
  },
  {
   "cell_type": "code",
   "execution_count": null,
   "id": "9deaabce",
   "metadata": {},
   "outputs": [],
   "source": [
    "%%html\n",
    "<style>\n",
    "/* CSS style for smaller dataframe tables. */\n",
    ".dataframe th {\n",
    "    font-size: 8px;\n",
    "}\n",
    ".dataframe td {\n",
    "    font-size: 8px;\n",
    "}\n",
    "</style>"
   ]
  },
  {
   "attachments": {},
   "cell_type": "markdown",
   "id": "bbb51c78",
   "metadata": {},
   "source": [
    "## Incoming Dependencies\n",
    "\n",
    "Incoming dependencies are also denoted as \"Fan-in\", \"Afferent Coupling\" or \"in-degree\".\n",
    "These are the ones that use the listed package. \n",
    "   \n",
    "If these packages get changed, the incoming dependencies might be affected by the change. The more incoming dependencies, the harder it gets to change the code without the need to adapt the dependent code (“rigid code”). Even worse, it might affect the behavior of the dependent code in an unwanted way (“fragile code”).\n",
    "\n",
    "Since Java Packages are organized hierarchically, incoming dependencies can be count for every package in isolation or by including all of its sub-packages. The latter one is done without top level packages like for example \"org\" or \"org.company\" by assuring that only packages are considered that have other packages or types in the same hierarchy level (\"siblings\")."
   ]
  },
  {
   "cell_type": "markdown",
   "id": "b637f8c8",
   "metadata": {},
   "source": [
    "#### Table 1a\n",
    "- Show the top 20 Java Packages with the most incoming dependencies\n",
    "- Set the \"incomingDependencies\" properties on Package nodes."
   ]
  },
  {
   "cell_type": "code",
   "execution_count": null,
   "id": "9a0a15be",
   "metadata": {
    "scrolled": true
   },
   "outputs": [],
   "source": [
    "query_cypher_to_data_frame(\"../cypher/Metrics/Set_Incoming_Java_Package_Dependencies.cypher\").head(20)"
   ]
  },
  {
   "cell_type": "markdown",
   "id": "eb555676",
   "metadata": {},
   "source": [
    "#### Table 1b\n",
    "- Show the top 20 Java Packages including their sub-packages with the most incoming dependencies\n",
    "- Set the property \"incomingDependenciesIncludingSubpackages\" on Package nodes."
   ]
  },
  {
   "cell_type": "code",
   "execution_count": null,
   "id": "458104c5",
   "metadata": {},
   "outputs": [],
   "source": [
    "query_cypher_to_data_frame(\"../cypher/Metrics/Set_Incoming_Java_Package_Dependencies_Including_Subpackages.cypher\").head(20)"
   ]
  },
  {
   "cell_type": "markdown",
   "id": "b27f225d",
   "metadata": {},
   "source": [
    "#### Table 1c\n",
    "- Show the top 20 Typescript modules with the most incoming dependencies\n",
    "- Set the property \"incomingDependencies\" on Module nodes if not already done."
   ]
  },
  {
   "cell_type": "code",
   "execution_count": null,
   "id": "98974b46",
   "metadata": {},
   "outputs": [],
   "source": [
    "query_first_non_empty_cypher_to_data_frame(\"../cypher/Metrics/Get_Incoming_Typescript_Module_Dependencies.cypher\",\n",
    "                                           \"../cypher/Metrics/Set_Incoming_Typescript_Module_Dependencies.cypher\", limit=20)"
   ]
  },
  {
   "attachments": {},
   "cell_type": "markdown",
   "id": "82e9f74c",
   "metadata": {},
   "source": [
    "## Outgoing Dependencies\n",
    "\n",
    "Outgoing dependencies are also denoted as \"Fan-out\", \"Efferent Coupling\" or \"out-degree\".\n",
    "These are the ones that are used by the listed package. \n",
    "\n",
    "Code from other packages and libraries you’re depending on (outgoing) might change over time. The more outgoing changes, the more likely and frequently code changes are needed. This involves time and effort which can be reduced by automation of tests and version updates. Automated tests are crucial to reveal updates, that change the behavior of the code unexpectedly (“fragile code”). As soon as more effort is required, keeping up becomes difficult (“rigid code”). Not being able to use a newer version might not only restrict features, it can get problematic if there are security issues. This might force you to take “fast but ugly” solutions into account which further increases technical dept.\n",
    "\n",
    "Since Java Packages are organized hierarchically, outgoing dependencies can be count for every package in isolation or by including all of its sub-packages. The latter one is done without top level packages like for example \"org\" or \"org.company\" by assuring that only packages are considered that have other packages or types in the same hierarchy level (\"siblings\")."
   ]
  },
  {
   "cell_type": "markdown",
   "id": "8cebfec5",
   "metadata": {},
   "source": [
    "#### Table 2a\n",
    "\n",
    "- Show the top 20 Java Packages with the most outgoing dependencies\n",
    "- Set the \"outgoingDependencies\" properties on Package nodes."
   ]
  },
  {
   "cell_type": "code",
   "execution_count": null,
   "id": "a2ec92ab",
   "metadata": {},
   "outputs": [],
   "source": [
    "query_cypher_to_data_frame(\"../cypher/Metrics/Set_Outgoing_Java_Package_Dependencies.cypher\").head(20)"
   ]
  },
  {
   "cell_type": "markdown",
   "id": "894b413c",
   "metadata": {},
   "source": [
    "#### Table 2b\n",
    "\n",
    "- Show the top 20 Java Packages including their sub-packages with the most outgoing dependencies\n",
    "- Set the property \"outgoingDependenciesIncludingSubpackages\" on Package nodes."
   ]
  },
  {
   "cell_type": "code",
   "execution_count": null,
   "id": "ecd5c9c7",
   "metadata": {},
   "outputs": [],
   "source": [
    "query_cypher_to_data_frame(\"../cypher/Metrics/Set_Outgoing_Java_Package_Dependencies_Including_Subpackages.cypher\").head(20)"
   ]
  },
  {
   "cell_type": "markdown",
   "id": "747cb31d",
   "metadata": {},
   "source": [
    "#### Table 2c\n",
    "\n",
    "- Show the top 20 Typescript modules with the most outgoing dependencies\n",
    "- Set the \"outgoingDependencies\" properties on Module nodes if not already done"
   ]
  },
  {
   "cell_type": "code",
   "execution_count": null,
   "id": "1be12a2e",
   "metadata": {},
   "outputs": [],
   "source": [
    "query_first_non_empty_cypher_to_data_frame(\"../cypher/Metrics/Get_Outgoing_Typescript_Module_Dependencies.cypher\",\n",
    "                                           \"../cypher/Metrics/Set_Outgoing_Typescript_Module_Dependencies.cypher\", limit=20)"
   ]
  },
  {
   "attachments": {},
   "cell_type": "markdown",
   "id": "22f8959e",
   "metadata": {},
   "source": [
    "## Instability\n",
    "\n",
    "$$ Instability = \\frac{Outgoing\\:Dependencies}{Outgoing\\:Dependencies + Incoming\\:Dependencies} $$\n",
    "\n",
    "*Instability* is expressed as the ratio of the number of outgoing dependencies of a module (i.e., the number of packages that depend on it) to the total number of dependencies (i.e., the sum of incoming and outgoing dependencies).\n",
    "\n",
    "Small values near zero indicate low *Instability*. With no outgoing but some incoming dependencies the Instability is zero which is denoted as maximally stable. Such code units are more rigid and difficult to change without impacting other parts of the system. If they are changed less because of that, they are considered stable.\n",
    "\n",
    "Conversely, high values approaching one indicate high *Instability*. With some outgoing dependencies but no incoming ones the *Instability* is denoted as maximally unstable. Such code units are easier to change without affecting other modules, making them more flexible and less prone to cascading changes throughout the system. If they are changed more often because of that, they are considered unstable.\n",
    "\n",
    "Since Java Packages are organized hierarchically, *Instability* can be calculated for every package in isolation or by including all of its sub-packages. "
   ]
  },
  {
   "cell_type": "markdown",
   "id": "fafd1840",
   "metadata": {},
   "source": [
    "#### Table 3a\n",
    "\n",
    "- Show the top 20 Java Packages with the lowest *Instability*\n",
    "- Set the property \"instability\" on Package nodes. "
   ]
  },
  {
   "cell_type": "code",
   "execution_count": null,
   "id": "5fb9f58e",
   "metadata": {},
   "outputs": [],
   "source": [
    "query_cypher_to_data_frame(\"../cypher/Metrics/Calculate_and_set_Instability_for_Java.cypher\").head(20)"
   ]
  },
  {
   "cell_type": "markdown",
   "id": "f8888a60",
   "metadata": {},
   "source": [
    "#### Table 3b\n",
    "\n",
    "- Show the top 20 Java Packages including their sub-packages with the lowest *Instability*\n",
    "- Set the property \"instabilityIncludingSubpackages\" on Package nodes. "
   ]
  },
  {
   "cell_type": "code",
   "execution_count": null,
   "id": "1b07a29f",
   "metadata": {},
   "outputs": [],
   "source": [
    "query_cypher_to_data_frame(\"../cypher/Metrics/Calculate_and_set_Instability_for_Java_Including_Subpackages.cypher\").head(20)"
   ]
  },
  {
   "cell_type": "markdown",
   "id": "17c081d0",
   "metadata": {},
   "source": [
    "#### Table 3c\n",
    "\n",
    "- Show the top 20 Typescript modules with the lowest *Instability*\n",
    "- Set the property \"instability\" on Module nodes if not already done"
   ]
  },
  {
   "cell_type": "code",
   "execution_count": null,
   "id": "77862c9e",
   "metadata": {},
   "outputs": [],
   "source": [
    "query_first_non_empty_cypher_to_data_frame(\"../cypher/Metrics/Get_Instability_for_Typescript.cypher\",\n",
    "                                           \"../cypher/Metrics/Calculate_and_set_Instability_for_Typescript.cypher\", limit=20)"
   ]
  },
  {
   "attachments": {},
   "cell_type": "markdown",
   "id": "f9eb4c6f",
   "metadata": {},
   "source": [
    "## Abstractness\n",
    "\n",
    "$$ Abstractness = \\frac{abstract\\:classes\\:in\\:category}{total\\:number\\:of\\:classes\\:in\\:category} $$\n",
    "\n",
    "Package *Abstractness* is expressed as the ratio of the number of abstract classes and interfaces to the total number of classes of a package.\n",
    "\n",
    "Zero *Abstractness* means that there are no abstract types or interfaces in the package. On the other hand, a value of one means that there are only abstract types.\n",
    "\n",
    "Since Java Packages are organized hierarchically, *Abstractness* can be calculated for every package in isolation or by including all of its sub-packages. "
   ]
  },
  {
   "cell_type": "markdown",
   "id": "6932b105",
   "metadata": {},
   "source": [
    "#### Table 4a\n",
    "\n",
    "- Show the top 30 packages with the lowest *Abstractness*\n",
    "- Set the property \"abstractness\" on Package nodes. "
   ]
  },
  {
   "cell_type": "code",
   "execution_count": null,
   "id": "2076d515",
   "metadata": {},
   "outputs": [],
   "source": [
    "abstractness=query_cypher_to_data_frame(\"../cypher/Metrics/Calculate_and_set_Abstractness_for_Java.cypher\")\n",
    "abstractness.head(30)"
   ]
  },
  {
   "cell_type": "markdown",
   "id": "e4e93e7b",
   "metadata": {},
   "source": [
    "#### Table 4b\n",
    "\n",
    "- Show the top 30 packages with the highest *Abstractness* and number of Java Types"
   ]
  },
  {
   "cell_type": "code",
   "execution_count": null,
   "id": "2ba8b673",
   "metadata": {},
   "outputs": [],
   "source": [
    "abstractness.sort_values(by=['abstractness', 'numberTypes'], ascending=[False, False]).head(30)"
   ]
  },
  {
   "cell_type": "markdown",
   "id": "48f5f33a",
   "metadata": {},
   "source": [
    "#### Table 4c\n",
    "\n",
    "- Show the top 30 packages including their sub-packages with the highest package depth and lowest *Abstractness*\n",
    "- Set the property \"abstractnessIncludingSubpackages\" on Package nodes. "
   ]
  },
  {
   "cell_type": "code",
   "execution_count": null,
   "id": "dca8ff56",
   "metadata": {},
   "outputs": [],
   "source": [
    "abstractnessIncludingSubpackages=query_cypher_to_data_frame(\"../cypher/Metrics/Calculate_and_set_Abstractness_for_Java_including_Subpackages.cypher\")\n",
    "abstractnessIncludingSubpackages.head(30)"
   ]
  },
  {
   "cell_type": "markdown",
   "id": "d4f38108",
   "metadata": {},
   "source": [
    "#### Table 4d\n",
    "\n",
    "- Show the top 30 packages including their sub-packages with the highest package depth and highest *Abstractness*"
   ]
  },
  {
   "cell_type": "code",
   "execution_count": null,
   "id": "d5ad5e36",
   "metadata": {},
   "outputs": [],
   "source": [
    "abstractnessIncludingSubpackages.sort_values(by=['abstractness', 'maxSubpackageDepth', 'numberTypes'], ascending=[False, False, False]).head(30)"
   ]
  },
  {
   "cell_type": "markdown",
   "id": "6f95770e",
   "metadata": {},
   "source": [
    "#### Table 4e\n",
    "\n",
    "- Show the top 30 Typescript modules with the lowest *Abstractness*\n",
    "- Set the property \"abstractness\" on Module nodes if not already done."
   ]
  },
  {
   "cell_type": "code",
   "execution_count": null,
   "id": "65c36080",
   "metadata": {},
   "outputs": [],
   "source": [
    "query_first_non_empty_cypher_to_data_frame(\"../cypher/Metrics/Get_Abstractness_for_Typescript.cypher\",\n",
    "                                           \"../cypher/Metrics/Calculate_and_set_Abstractness_for_Typescript.cypher\", limit=20)"
   ]
  },
  {
   "attachments": {},
   "cell_type": "markdown",
   "id": "e10154bb",
   "metadata": {},
   "source": [
    "## Distance from the main sequence\n",
    "\n",
    "The *main sequence* is a imaginary line that represents a good compromise between *Abstractness* and *Instability*. A high distance to this line may indicate problems. For example is very *stable* (rigid) code with low abstractness hard to change.\n",
    "\n",
    "Read more details on that in [OO Design Quality Metrics](https://api.semanticscholar.org/CorpusID:18246616) and [Calculate metrics](https://101.jqassistant.org/calculate-metrics/index.html).\n",
    "\n",
    "#### Table 5a\n",
    "\n",
    "- Show the top 30 packages with the highest distance from the \"main sequence\""
   ]
  },
  {
   "cell_type": "code",
   "execution_count": null,
   "id": "f8513ef8",
   "metadata": {},
   "outputs": [],
   "source": [
    "instabilityPerAbstractness = query_cypher_to_data_frame(\"../cypher/Metrics/Calculate_distance_between_abstractness_and_instability_for_Java.cypher\")\n",
    "instabilityPerAbstractness.head(30)"
   ]
  },
  {
   "cell_type": "markdown",
   "id": "d0b12ad3",
   "metadata": {},
   "source": [
    "#### Table 5b\n",
    "\n",
    "- Show the top 30 packages including their sub-packages with the highest distance from the \"main sequence\""
   ]
  },
  {
   "cell_type": "code",
   "execution_count": null,
   "id": "d5408c28",
   "metadata": {},
   "outputs": [],
   "source": [
    "instabilityPerAbstractnessIncludingSubpackages = query_cypher_to_data_frame(\"../cypher/Metrics/Calculate_distance_between_abstractness_and_instability_for_Java_including_subpackages.cypher\")\n",
    "instabilityPerAbstractnessIncludingSubpackages.head(30)"
   ]
  },
  {
   "cell_type": "markdown",
   "id": "c4fdbb1d",
   "metadata": {},
   "source": [
    "#### Table 5c\n",
    "\n",
    "- Show the top 30 Typescript modules with the highest distance from the \"main sequence\""
   ]
  },
  {
   "cell_type": "code",
   "execution_count": null,
   "id": "0a1d2d24",
   "metadata": {},
   "outputs": [],
   "source": [
    "instabilityPerAbstractnessTypescript = query_cypher_to_data_frame(\"../cypher/Metrics/Calculate_distance_between_abstractness_and_instability_for_Typescript.cypher\")\n",
    "instabilityPerAbstractnessTypescript.head(30)"
   ]
  },
  {
   "attachments": {},
   "cell_type": "markdown",
   "id": "149fc732",
   "metadata": {},
   "source": [
    "### *Abstractness* vs. *Instability* Plot with \"Main Sequence\" line as reference\n",
    "\n",
    "- Plot *Abstractness* vs. *Instability* of all packages\n",
    "- Draw the \"main sequence\" as dashed green diagonal line \n",
    "- Scale the packages by the number of types they contain\n",
    "- Color the packages by their distance to the \"main sequence\" (blue=near, red=far)"
   ]
  },
  {
   "cell_type": "code",
   "execution_count": null,
   "id": "1fbbad97",
   "metadata": {},
   "outputs": [],
   "source": [
    "# Function that returns the number of past (index smaller than given index) rows \n",
    "# with the same value in columnName1 and columnName2\n",
    "# If there was a row with the same columnName1 and columnName2 values\n",
    "# def countPastEntriesWithSameValues(dataFrame, index, columnName1, columnName2):\n",
    "#     columnValue1 = dataFrame[columnName1][index]\n",
    "#     columnValue2 = dataFrame[columnName2][index]\n",
    "#     return len(dataFrame[\n",
    "#         (dataFrame.index.isin(range(0, index + 1))) & \n",
    "#         (dataFrame[columnName1]==columnValue1) & \n",
    "#         (dataFrame[columnName2]==columnValue2)\n",
    "#     ]) - 1"
   ]
  },
  {
   "cell_type": "code",
   "execution_count": null,
   "id": "48edf0ac",
   "metadata": {},
   "outputs": [],
   "source": [
    "def annotate_plot(data_frame: pd.DataFrame, index: int):\n",
    "    \"\"\"\n",
    "    Annotates the data points identified by the \"index\" in the plot of the \"data_frame\" \n",
    "    \"\"\"\n",
    "    x_position = data_frame.abstractness[index].item()\n",
    "    y_position = data_frame.instability[index].item()\n",
    "    artifact_name = data_frame.artifactName[index].item()\n",
    "    package_name = data_frame.name[index].item()\n",
    "\n",
    "    label_box=dict(boxstyle=\"round4,pad=0.5\", fc=\"w\", alpha=0.8)\n",
    "    plot.annotate(artifact_name + '\\n' + package_name\n",
    "        ,xy=(x_position, y_position)\n",
    "        ,xycoords='data'\n",
    "        ,xytext=(20, 0)\n",
    "        ,textcoords='offset points'\n",
    "        ,size=6\n",
    "        ,bbox=label_box\n",
    "        ,arrowprops=dict(arrowstyle=\"-|>\", mutation_scale=10, color=\"black\")\n",
    "    )\n",
    "\n",
    "def index_of_sorted(data_frame: pd.DataFrame, highest: list[str] = []):\n",
    "    \"\"\"\n",
    "    Sorts the \"data_frame\" by columns 'abstractness','instability','elementsCount', 'artifactName'\n",
    "    and returns the index of the first row.\n",
    "    Columns that are contained in the list of strings parameter \"highest\" will be sorted descending.\n",
    "    \"\"\"\n",
    "    by = ['abstractness','instability','elementsCount','artifactName']\n",
    "    ascending = [('abstractness' not in highest), ('instability' not in highest), False, True]\n",
    "    return data_frame.sort_values(by=by, ascending=ascending).head(1).index\n",
    "\n",
    "def index_of_highest_property(data_frame: pd.DataFrame, highest: str):\n",
    "    \"\"\"\n",
    "    Sorts the \"data_frame\" by the property given in input parameter \"highest\" descending\n",
    "    and returns the index of the first row.\n",
    "    \"\"\"\n",
    "    by = [highest,'artifactName']\n",
    "    ascending = [False, True]\n",
    "    return data_frame.sort_values(by=by, ascending=ascending).head(1).index"
   ]
  },
  {
   "cell_type": "code",
   "execution_count": null,
   "id": "cd8489ca",
   "metadata": {},
   "outputs": [],
   "source": [
    "from  matplotlib.colors import LinearSegmentedColormap\n",
    "\n",
    "def plot_instability_per_abstractness_with_main_sequence(data_frame: pd.DataFrame, subtitle: str = ''):\n",
    "    \"\"\"\n",
    "    Prints the so called \"Main Sequence\" as green dotted diagonal line as a reference.\n",
    "    On top of that every Java Package is plotted as a data point:\n",
    "     - The X-axis is the \"Abstractness\" where 0 = all classes to 1 = all interfaces and abstract classes\n",
    "     - The Y-axis is the \"Instability\" where 0 = stable (many incoming dependencies) and 1 instable (no incoming dependencies)\n",
    "     - The size reflects the number of contained Java Types\n",
    "     - The color reflects the distance to the \"Main Sequence\"\n",
    "    \"\"\"\n",
    "        \n",
    "    colormap=LinearSegmentedColormap.from_list('rg',[\"green\", \"gold\", \"orangered\", \"red\"], N=256) \n",
    "    marker_scales_bounded=data_frame.elementsCount.clip(lower=2, upper=300) * 0.7\n",
    "\n",
    "    plot.scatter(\n",
    "        data_frame.abstractness, # x axis shows abstractness\n",
    "        data_frame.instability, # y axis shows instability\n",
    "        s=marker_scales_bounded, # scale depends on number of contained types\n",
    "        c=data_frame.distance, # color depends on distance to the main sequence\n",
    "        cmap=colormap, #'bwr' # colormap that prints high values in red and lower values in blue\n",
    "        alpha=0.5,\n",
    "    )\n",
    "    # green \"main sequence\" line\n",
    "    plot.plot([0,1], [1,0], c='lightgreen', linestyle='dashed') \n",
    "\n",
    "    # Annotate largest package\n",
    "    annotate_plot(data_frame, index_of_highest_property(data_frame, highest='elementsCount'))\n",
    "    # Annotate largest package with the highest abstractness and instability\n",
    "    annotate_plot(data_frame, index_of_sorted(data_frame, highest=['abstractness','instability']))\n",
    "    # Annotate largest package with the lowest abstractness and highest instability\n",
    "    annotate_plot(data_frame, index_of_sorted(data_frame, highest=['instability']))\n",
    "    # Annotate largest package with the lowest abstractness and lowest instability\n",
    "    annotate_plot(data_frame, index_of_sorted(data_frame, highest=[]))\n",
    "    # Annotate largest package with the highest abstractness and lowest instability\n",
    "    annotate_plot(data_frame, index_of_sorted(data_frame, highest=['abstractness']))\n",
    "    # Annotate largest packages with the highest abstractness and instability near 0.5% \n",
    "    annotation_index = index_of_sorted(highest=['abstractness', 'instability'], data_frame=data_frame.query('abstractness <= 0.4 & instability <= 0.4'))\n",
    "    annotate_plot(data_frame, annotation_index)\n",
    "\n",
    "    plot.title('Abstractness vs. Instability (\"Main Sequence\")\\n' + subtitle)\n",
    "    plot.xlabel('Abstractness')\n",
    "    plot.ylabel('Instability')\n",
    "    plot.show()\n"
   ]
  },
  {
   "cell_type": "markdown",
   "id": "e9a98a47",
   "metadata": {},
   "source": [
    "#### Figure 1a - Packages without their sub-packages"
   ]
  },
  {
   "cell_type": "code",
   "execution_count": null,
   "id": "7c7e474d",
   "metadata": {},
   "outputs": [],
   "source": [
    "if not instabilityPerAbstractness.empty:\n",
    "   plot_instability_per_abstractness_with_main_sequence(instabilityPerAbstractness, 'Packages without their sub-packages')"
   ]
  },
  {
   "cell_type": "markdown",
   "id": "a0f207bb",
   "metadata": {},
   "source": [
    "#### Figure 1b - Packages including their sub-packages"
   ]
  },
  {
   "cell_type": "code",
   "execution_count": null,
   "id": "37552b01",
   "metadata": {},
   "outputs": [],
   "source": [
    "if not instabilityPerAbstractnessIncludingSubpackages.empty:\n",
    "   plot_instability_per_abstractness_with_main_sequence(instabilityPerAbstractnessIncludingSubpackages, 'Packages including their sub-packages')"
   ]
  },
  {
   "cell_type": "markdown",
   "id": "c7499522",
   "metadata": {},
   "source": [
    "#### Figure 1c - Typescript Modules"
   ]
  },
  {
   "cell_type": "code",
   "execution_count": null,
   "id": "02763566",
   "metadata": {},
   "outputs": [],
   "source": [
    "if not instabilityPerAbstractnessTypescript.empty:\n",
    "   plot_instability_per_abstractness_with_main_sequence(instabilityPerAbstractnessTypescript, 'Typescript modules')"
   ]
  }
 ],
 "metadata": {
  "authors": [
   {
    "name": "JohT"
   }
  ],
  "kernelspec": {
   "display_name": "Python 3 (ipykernel)",
   "language": "python",
   "name": "python3"
  },
  "language_info": {
   "codemirror_mode": {
    "name": "ipython",
    "version": 3
   },
   "file_extension": ".py",
   "mimetype": "text/x-python",
   "name": "python",
   "nbconvert_exporter": "python",
   "pygments_lexer": "ipython3",
   "version": "3.11.4"
  },
  "title": "Object Oriented Design Quality Metrics for Java with Neo4j"
 },
 "nbformat": 4,
 "nbformat_minor": 5
}
