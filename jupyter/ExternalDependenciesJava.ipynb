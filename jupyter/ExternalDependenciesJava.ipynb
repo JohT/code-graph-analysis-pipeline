{
 "cells": [
  {
   "attachments": {},
   "cell_type": "markdown",
   "id": "2f0eabc4",
   "metadata": {},
   "source": [
    "# External Dependencies\n",
    "<br>  \n",
    "\n",
    "### References\n",
    "- [jqassistant](https://jqassistant.org)\n",
    "- [Neo4j Python Driver](https://neo4j.com/docs/api/python-driver/current)"
   ]
  },
  {
   "cell_type": "code",
   "execution_count": null,
   "id": "4191f259",
   "metadata": {},
   "outputs": [],
   "source": [
    "import os\n",
    "import pandas as pd\n",
    "import matplotlib.pyplot as plot\n",
    "from neo4j import GraphDatabase"
   ]
  },
  {
   "cell_type": "code",
   "execution_count": null,
   "id": "1c5dab37",
   "metadata": {},
   "outputs": [],
   "source": [
    "# Please set the environment variable \"NEO4J_INITIAL_PASSWORD\" in your shell \n",
    "# before starting jupyter notebook to provide the password for the user \"neo4j\". \n",
    "# It is not recommended to hardcode the password into jupyter notebook for security reasons.\n",
    "\n",
    "driver = GraphDatabase.driver(uri=\"bolt://localhost:7687\", auth=(\"neo4j\", os.environ.get(\"NEO4J_INITIAL_PASSWORD\")))\n",
    "driver.verify_connectivity()"
   ]
  },
  {
   "cell_type": "code",
   "execution_count": null,
   "id": "c1db254b",
   "metadata": {},
   "outputs": [],
   "source": [
    "def get_cypher_query_from_file(filename):\n",
    "    with open(filename) as file:\n",
    "        return ' '.join(file.readlines())"
   ]
  },
  {
   "cell_type": "code",
   "execution_count": null,
   "id": "59310f6f",
   "metadata": {},
   "outputs": [],
   "source": [
    "def query_cypher_to_data_frame(filename):\n",
    "    records, summary, keys = driver.execute_query(get_cypher_query_from_file(filename))\n",
    "    return pd.DataFrame([r.values() for r in records], columns=keys)"
   ]
  },
  {
   "cell_type": "code",
   "execution_count": null,
   "id": "da9e8edb",
   "metadata": {},
   "outputs": [],
   "source": [
    "#The following cell uses the build-in %html \"magic\" to override the CSS style for tables to a much smaller size.\n",
    "#This is especially needed for PDF export of tables with multiple columns."
   ]
  },
  {
   "cell_type": "code",
   "execution_count": null,
   "id": "9deaabce",
   "metadata": {
    "tags": [
     "table-css"
    ]
   },
   "outputs": [],
   "source": [
    "%%html\n",
    "<style>\n",
    "/* CSS style for smaller dataframe tables. */\n",
    ".dataframe th {\n",
    "    font-size: 8px;\n",
    "}\n",
    ".dataframe td {\n",
    "    font-size: 8px;\n",
    "}\n",
    "</style>"
   ]
  },
  {
   "cell_type": "code",
   "execution_count": null,
   "id": "c2496caf",
   "metadata": {},
   "outputs": [],
   "source": [
    "# Main Colormap\n",
    "main_color_map = 'nipy_spectral'"
   ]
  },
  {
   "attachments": {},
   "cell_type": "markdown",
   "id": "6705e06a",
   "metadata": {},
   "source": [
    "## External Package Usage\n",
    "\n",
    "### External Package\n",
    "\n",
    "An external type has no `byteCodeVersion` since it only occurs as a dependency but wasn't analyzed itself (missing bytecode). Core Java types like `java.lang.Integer` and primitives like `int` are considered \"build-in\" and therefore aren't interpreted as \"external\" even though their byte code is also missing. A package is categorized as \"external\" if the types it contains are classified as external.\n",
    "\n",
    "### External annotation dependency\n",
    "\n",
    "The aforementioned classification encompasses external annotation dependencies as well. These dependencies introduce significantly less coupling and are not indispensable for compiling code. Without the external annotation the code would most probably behave differently. Hence, they are included in the first more overall and general tables and then left out in the later more specific ones."
   ]
  },
  {
   "attachments": {},
   "cell_type": "markdown",
   "id": "334167e4",
   "metadata": {},
   "source": [
    "### Table 1 - Top 20 most used external packages overall\n",
    "\n",
    "This table shows the external packages that are used by the most different internal types overall.\n",
    "Additionally, it shows which types of the external package are actually used. External annotations are also listed.\n",
    "\n",
    "Only the top 20 entries are shown. The whole table can be found in the following CSV report:\n",
    "`External_package_usage_overall`\n",
    "\n",
    "**Columns:**\n",
    "- *externalPackageName* identifies the external package as described above\n",
    "- *numberOfExternalCallerPackages* refers to the distinct packages that make use of the external package\n",
    "- *numberOfExternalCallerTypes* refers to the distinct types that make use of the external package\n",
    "- *numberOfExternalTypeCalls* includes every dependency to the types in the external package\n",
    "- *numberOfExternalTypeCallsWeighted* includes every invocation or reference (sum of weights) to the types in the external package\n",
    "- *allPackages* contains the total count of all analyzed packages in general\n",
    "- *allTypes* contains the total count of all analyzed types in general\n",
    "- *externalTypeNames* contains a list of actually utilized types of the external package"
   ]
  },
  {
   "cell_type": "code",
   "execution_count": null,
   "id": "ff524ac7",
   "metadata": {},
   "outputs": [],
   "source": [
    "external_package_usage=query_cypher_to_data_frame(\"../cypher/External_Dependencies/External_package_usage_overall.cypher\")\n",
    "\n",
    "# Select columns and only show the first 20 entries (head)\n",
    "external_package_usage.head(20)"
   ]
  },
  {
   "attachments": {},
   "cell_type": "markdown",
   "id": "1143afcb",
   "metadata": {},
   "source": [
    "#### Table 1 Chart 1 - Most called external packages in % by types\n",
    "\n",
    "External packages that are used less than 0.7% are grouped into the name \"others\" to get a cleaner chart\n",
    "with the most significant external packages and how ofter they are called in percent."
   ]
  },
  {
   "cell_type": "code",
   "execution_count": null,
   "id": "44a11aec",
   "metadata": {},
   "outputs": [],
   "source": [
    "def group_to_others_below_threshold(data_frame : pd.DataFrame, value_column : str, name_column: str, threshold: float) -> pd.DataFrame:    \n",
    "    \"\"\"Adds a new percentage column for the value column and \n",
    "    groups all values below the given threshold to \"others\" in the name column.\n",
    "\n",
    "    Parameters:\n",
    "    - data_frame (pd.DataFrame): Input pandas DataFrame\n",
    "    - value_column (str): Name of the column that contains the numeric value\n",
    "    - name_column (str): Name of the column that contains the group name that will be replaced by \"others\" for small values\n",
    "    - threshold (float): Threshold in % that is used to group values below it into the \"others\" group\n",
    "\n",
    "    Returns:\n",
    "    int:Returning value\n",
    "\n",
    "    \"\"\"\n",
    "    result_data_frame = data_frame.copy();\n",
    "\n",
    "    percent_column_name = value_column + 'Percent';\n",
    "\n",
    "    # Add column with the name given in \"percent_column_name\" with the percentage of the value column.\n",
    "    result_data_frame[percent_column_name] = result_data_frame[value_column] / result_data_frame[value_column].sum() * 100.0;\n",
    "\n",
    "    # Change the external package name to \"others\" if it is called less than the specified threshold\n",
    "    result_data_frame.loc[result_data_frame[percent_column_name] < threshold, name_column] = 'others';\n",
    "\n",
    "    # Group external package name (foremost the new \"others\" entries) and sum their percentage\n",
    "    result_data_frame = result_data_frame.groupby(name_column)[percent_column_name].sum();\n",
    "\n",
    "    # Sort by values descending\n",
    "    return result_data_frame.sort_values(ascending=False);"
   ]
  },
  {
   "cell_type": "code",
   "execution_count": null,
   "id": "99ef3fad",
   "metadata": {},
   "outputs": [],
   "source": [
    "external_package_by_type_usage_significant = group_to_others_below_threshold(\n",
    "    data_frame=external_package_usage,\n",
    "    value_column='numberOfExternalCallerTypes',\n",
    "    name_column='externalPackageName',\n",
    "    threshold= 0.7\n",
    ");"
   ]
  },
  {
   "cell_type": "code",
   "execution_count": null,
   "id": "688b6d56",
   "metadata": {},
   "outputs": [],
   "source": [
    "if external_package_by_type_usage_significant.empty:\n",
    "    print(\"No data to plot\")\n",
    "else:\n",
    "    plot.figure();\n",
    "\n",
    "    axis = external_package_by_type_usage_significant.plot(\n",
    "        kind='pie',\n",
    "        title='Top external package usage [%] by type',\n",
    "        legend=True,\n",
    "        labeldistance=None,\n",
    "        autopct='%1.2f%%',\n",
    "        textprops={'fontsize': 5},\n",
    "        pctdistance=1.2,\n",
    "        cmap=main_color_map\n",
    "    )\n",
    "    axis.legend(bbox_to_anchor=(1.05, 1), loc='upper left')\n",
    "    plot.show()"
   ]
  },
  {
   "cell_type": "markdown",
   "id": "84c123dc",
   "metadata": {},
   "source": [
    "#### Table 1 Chart 2 - Most called external packages in % by packages\n",
    "\n",
    "External packages that are used less than 0.7% are grouped into the name \"others\" to get a cleaner chart\n",
    "with the most significant external packages and how ofter they are called in percent."
   ]
  },
  {
   "cell_type": "code",
   "execution_count": null,
   "id": "c10499a5",
   "metadata": {},
   "outputs": [],
   "source": [
    "external_package_by_package_usage_significant = group_to_others_below_threshold(\n",
    "    data_frame=external_package_usage,\n",
    "    value_column='numberOfExternalCallerPackages',\n",
    "    name_column='externalPackageName',\n",
    "    threshold= 0.7\n",
    ");"
   ]
  },
  {
   "cell_type": "code",
   "execution_count": null,
   "id": "c165f403",
   "metadata": {},
   "outputs": [],
   "source": [
    "if external_package_by_package_usage_significant.empty:\n",
    "    print(\"No data to plot\")\n",
    "else:\n",
    "    plot.figure();\n",
    "\n",
    "    axis = external_package_by_package_usage_significant.plot(\n",
    "        kind='pie',\n",
    "        title='Top external package usage [%] by package',\n",
    "        legend=True,\n",
    "        labeldistance=None,\n",
    "        autopct='%1.2f%%',\n",
    "        textprops={'fontsize': 5},\n",
    "        pctdistance=1.2,\n",
    "        cmap=main_color_map\n",
    "    )\n",
    "    axis.legend(bbox_to_anchor=(1.05, 1), loc='upper left')\n",
    "    plot.show()"
   ]
  },
  {
   "cell_type": "markdown",
   "id": "cb92e603",
   "metadata": {},
   "source": [
    "### Table 2 - Top 20 most used external packages grouped by their first 2 layers\n",
    "\n",
    "This table shows external packages grouped by their first 2 layers that are used by the most different internal types overall including external annotations. For example, \"javax.xml.stream\" and \"javax.xml.parsers\" are grouped together to \"javax.xml\".\n",
    "\n",
    "Additionally, it shows which types of the external packages are actually used.\n",
    "\n",
    "Only the top 20 entries are shown. The whole table can be found in the following CSV report:\n",
    "`External_second_level_package_usage_overall`\n",
    "\n",
    "**Columns:**\n",
    "- *externalSecondLevelPackageName* identifies the first 2 levels of the external package as described above\n",
    "- *numberOfExternalCallerPackages* refers to the distinct packages that make use of the external package\n",
    "- *numberOfExternalCallerTypes* refers to the distinct types that make use of the external package\n",
    "- *numberOfExternalTypeCalls* includes every dependency to the types in the external package\n",
    "- *numberOfExternalTypeCallsWeighted* includes every invocation or reference (sum of weights) to the types in the external package\n",
    "- *allPackages* contains the total count of all analyzed packages in general\n",
    "- *allTypes* contains the total count of all analyzed types in general\n",
    "- *externalTypeNames* contains a list of actually utilized types of the external package"
   ]
  },
  {
   "cell_type": "code",
   "execution_count": null,
   "id": "4dc5e771",
   "metadata": {},
   "outputs": [],
   "source": [
    "external_grouped_package_usage=query_cypher_to_data_frame(\"../cypher/External_Dependencies/External_second_level_package_usage_overall.cypher\")\n",
    "external_grouped_package_usage.head(20)"
   ]
  },
  {
   "cell_type": "markdown",
   "id": "279932a6",
   "metadata": {},
   "source": [
    "#### Table 2 Chart 1 - Most called second level external packages in % by type\n",
    "\n",
    "External package groups that are used less than 0.7% are grouped into the name \"others\" to get a cleaner chart\n",
    "with the most significant external packages and how ofter they are called in percent."
   ]
  },
  {
   "cell_type": "code",
   "execution_count": null,
   "id": "3d36043f",
   "metadata": {},
   "outputs": [],
   "source": [
    "external_grouped_package_by_type_usage_significant = group_to_others_below_threshold(\n",
    "    data_frame=external_grouped_package_usage,\n",
    "    value_column='numberOfExternalCallerTypes',\n",
    "    name_column='externalSecondLevelPackageName',\n",
    "    threshold= 0.7\n",
    ");\n",
    "\n",
    "if external_grouped_package_by_type_usage_significant.empty:\n",
    "    print(\"No data to plot\")\n",
    "else:\n",
    "    plot.figure();\n",
    "\n",
    "    axis = external_grouped_package_by_type_usage_significant.plot(\n",
    "        kind='pie',\n",
    "        title='Top external package (grouped by first 2 layers) usage [%] by type',\n",
    "        legend=True,\n",
    "        labeldistance=None,\n",
    "        autopct='%1.2f%%',\n",
    "        textprops={'fontsize': 5},\n",
    "        pctdistance=1.2,\n",
    "        cmap=main_color_map\n",
    "    )\n",
    "    axis.legend(bbox_to_anchor=(1.05, 1), loc='upper left')\n",
    "    plot.show()"
   ]
  },
  {
   "cell_type": "markdown",
   "id": "43c3e1a3",
   "metadata": {},
   "source": [
    "#### Table 2 Chart 2 - Most called second level external packages in % by package\n",
    "\n",
    "External package groups that are used less than 0.7% are grouped into the name \"others\" to get a cleaner chart\n",
    "with the most significant external packages and how ofter they are called in percent."
   ]
  },
  {
   "cell_type": "code",
   "execution_count": null,
   "id": "7f05314f",
   "metadata": {},
   "outputs": [],
   "source": [
    "external_grouped_package_by_package_usage_significant = group_to_others_below_threshold(\n",
    "    data_frame=external_grouped_package_usage,\n",
    "    value_column='numberOfExternalCallerPackages',\n",
    "    name_column='externalSecondLevelPackageName',\n",
    "    threshold= 0.7\n",
    ");\n",
    "\n",
    "if external_grouped_package_by_package_usage_significant.empty:\n",
    "    print(\"No data to plot\")\n",
    "else:\n",
    "    plot.figure();\n",
    "    axis = external_grouped_package_by_package_usage_significant.plot(\n",
    "        kind='pie',\n",
    "        title='Top external package (grouped by first 2 layers) usage [%] by package',\n",
    "        legend=True,\n",
    "        labeldistance=None,\n",
    "        autopct='%1.2f%%',\n",
    "        textprops={'fontsize': 5},\n",
    "        pctdistance=1.2,\n",
    "        cmap=main_color_map\n",
    "    )\n",
    "    axis.legend(bbox_to_anchor=(1.05, 1), loc='upper left')\n",
    "    plot.show()"
   ]
  },
  {
   "cell_type": "markdown",
   "id": "2fb30664",
   "metadata": {},
   "source": [
    "### Table 3 - Top 20 most widely spread external packages\n",
    "\n",
    "The following tables shows external packages that are used by many different artifacts with the highest number of artifacts first. External annotations are filtered out to only get those external packages that significantly add to coupling.\n",
    "\n",
    "Statistics like minimum, maximum, average, median and standard deviation are provided for the number of packages and number of types in every artifact that uses the listed external package. \n",
    "\n",
    "The intuition behind that is to find external package dependencies that are used in a widely spread manner. This should uncover libraries and frameworks and make it easier to distinguish them from external dependencies that are used for specific tasks. It can also be used to find external dependencies that are used sparsely regarding artifacts but are used in many different packages there. This could then be improved by applying a [Hexagonal architecture](https://alistair.cockburn.us/hexagonal-architecture).\n",
    "\n",
    "Only the top 20 entries are shown. The whole table can be found in the following CSV report:\n",
    "`External_package_usage_spread`\n",
    "\n",
    "**Columns:**\n",
    "- *externalPackageName* identifies the external package as defined above. All other columns contain aggregated data for this external package.\n",
    "- *numberOfArtifacts* contains the number of artifacts that use the external package\n",
    "- *sumNumberOfPackages* contains the sum of all packages that use the external package\n",
    "- *min/max/med/avg/stdNumberOfPackages* provide statistics based on the number of packages of each artifact that uses the external package\n",
    "- *min/max/med/avg/stdNumberOfPackagesPercentage* provide statistics in percent (%) based on the number of packages of each artifact that uses the external package\n",
    "- *min/max/med/avg/stdNumberOfTypes* provide statistics based on the number of types of each artifact that uses the external package\n",
    "- *min/max/med/avg/stdNumberOfPackagesPercentage* provide statistics in percent (%) based on the number of types of each artifact that uses the external package\n",
    "- *someArtifactNames* contain some of the artifacts that contain the external package for reference"
   ]
  },
  {
   "cell_type": "code",
   "execution_count": null,
   "id": "ad1a04c4",
   "metadata": {},
   "outputs": [],
   "source": [
    "# Query the graph database to provide the \n",
    "# most widely spread external dependencies for the tables/charts below.\n",
    "external_package_usage_spread=query_cypher_to_data_frame(\"../cypher/External_Dependencies/External_package_usage_spread.cypher\")\n",
    "external_package_usage_spread.head(10)"
   ]
  },
  {
   "cell_type": "markdown",
   "id": "6ed201cc",
   "metadata": {},
   "source": [
    "### Table 3a - Top 20 most widely spread external packages - number of internal packages\n",
    "\n",
    "This table shows the top 20 most widely spread external packages focussing on the spread across the number of internal packages."
   ]
  },
  {
   "cell_type": "code",
   "execution_count": null,
   "id": "c5fa9f9e",
   "metadata": {},
   "outputs": [],
   "source": [
    "external_package_usage_spread_packages=external_package_usage_spread[['externalPackageName', 'numberOfArtifacts', 'minNumberOfPackages', 'maxNumberOfPackages', 'medNumberOfPackages', 'avgNumberOfPackages', 'stdNumberOfPackages']]\n",
    "external_package_usage_spread_packages.head(20)"
   ]
  },
  {
   "cell_type": "markdown",
   "id": "27c5b75f",
   "metadata": {},
   "source": [
    "### Table 3b - Top 20 most widely spread external packages - percentage of internal packages\n",
    "\n",
    "This table shows the top 20 most widely spread external packages focussing on the spread across the percentage of internal packages."
   ]
  },
  {
   "cell_type": "code",
   "execution_count": null,
   "id": "c4d4273e",
   "metadata": {},
   "outputs": [],
   "source": [
    "external_package_usage_spread_packages_percentage=external_package_usage_spread[['externalPackageName', 'numberOfArtifacts', 'minNumberOfPackagesPercentage', 'maxNumberOfPackagesPercentage', 'medNumberOfPackagesPercentage', 'avgNumberOfPackagesPercentage', 'stdNumberOfPackagesPercentage']]\n",
    "external_package_usage_spread_packages_percentage.head(20)"
   ]
  },
  {
   "cell_type": "markdown",
   "id": "d7638e05",
   "metadata": {},
   "source": [
    "### Table 3c - Top 20 most widely spread external packages - number of internal types\n",
    "\n",
    "This table shows the top 20 most widely spread external packages focussing on the spread across the number of internal types."
   ]
  },
  {
   "cell_type": "code",
   "execution_count": null,
   "id": "1f5af910",
   "metadata": {},
   "outputs": [],
   "source": [
    "external_package_usage_spread_types=external_package_usage_spread[['externalPackageName', 'numberOfArtifacts', 'minNumberOfTypes', 'maxNumberOfTypes', 'medNumberOfTypes', 'avgNumberOfTypes', 'stdNumberOfTypes']]\n",
    "external_package_usage_spread_types.head(20)"
   ]
  },
  {
   "cell_type": "markdown",
   "id": "07427cd5",
   "metadata": {},
   "source": [
    "### Table 3d - Top 20 most widely spread external packages - percentage of internal types\n",
    "\n",
    "This table shows the top 20 most widely spread external packages focussing on the spread across the percentage of internal types."
   ]
  },
  {
   "cell_type": "code",
   "execution_count": null,
   "id": "50712f90",
   "metadata": {},
   "outputs": [],
   "source": [
    "external_package_usage_spread_types_percentage=external_package_usage_spread[['externalPackageName', 'numberOfArtifacts', 'minNumberOfTypesPercentage', 'maxNumberOfTypesPercentage', 'medNumberOfTypesPercentage', 'avgNumberOfTypesPercentage', 'stdNumberOfTypesPercentage']]\n",
    "external_package_usage_spread_types_percentage.head(20)"
   ]
  },
  {
   "cell_type": "markdown",
   "id": "b210eea0",
   "metadata": {},
   "source": [
    "#### Table 3 Chart 1 - Most widely spread external packages in % by types\n",
    "\n",
    "External packages that are used less than 0.5% are grouped into the name \"others\" to get a cleaner chart with the most significant external packages."
   ]
  },
  {
   "cell_type": "code",
   "execution_count": null,
   "id": "f41d04c9",
   "metadata": {},
   "outputs": [],
   "source": [
    "external_package_type_usage_spread_significant = group_to_others_below_threshold(\n",
    "    data_frame=external_package_usage_spread,\n",
    "    value_column='sumNumberOfTypes',\n",
    "    name_column='externalPackageName',\n",
    "    threshold= 0.5\n",
    ");\n",
    "\n",
    "if external_package_type_usage_spread_significant.empty:\n",
    "    print(\"No data to plot\")\n",
    "else:\n",
    "    plot.figure();\n",
    "    axis = external_package_type_usage_spread_significant.plot(\n",
    "        kind='pie',\n",
    "        title='Top external package usage spread [%] by type',\n",
    "        legend=True,\n",
    "        labeldistance=None,\n",
    "        autopct='%1.2f%%',\n",
    "        textprops={'fontsize': 5},\n",
    "        pctdistance=1.2,\n",
    "        cmap=main_color_map\n",
    "    )\n",
    "    axis.legend(bbox_to_anchor=(1.05, 1), loc='upper left')\n",
    "    plot.show()"
   ]
  },
  {
   "cell_type": "markdown",
   "id": "c48740e3",
   "metadata": {},
   "source": [
    "#### Table 3 Chart 2 - Most widely spread external packages in % by packages\n",
    "\n",
    "External packages that are used less than 0.5% are grouped into the name \"others\" to get a cleaner chart with the most significant external packages."
   ]
  },
  {
   "cell_type": "code",
   "execution_count": null,
   "id": "8bb7b0d9",
   "metadata": {},
   "outputs": [],
   "source": [
    "external_package_usage_package_spread_significant = group_to_others_below_threshold(\n",
    "    data_frame=external_package_usage_spread,\n",
    "    value_column='sumNumberOfPackages',\n",
    "    name_column='externalPackageName',\n",
    "    threshold= 0.5\n",
    ");\n",
    "\n",
    "if external_package_usage_package_spread_significant.empty:\n",
    "    print(\"No data to plot\")\n",
    "else:\n",
    "    plot.figure();\n",
    "    axis = external_package_usage_package_spread_significant.plot(\n",
    "        kind='pie',\n",
    "        title='Top external package usage spread [%] by package',\n",
    "        legend=True,\n",
    "        labeldistance=None,\n",
    "        autopct='%1.2f%%',\n",
    "        textprops={'fontsize': 5},\n",
    "        pctdistance=1.2,\n",
    "        cmap=main_color_map\n",
    "    )\n",
    "    axis.legend(bbox_to_anchor=(1.05, 1), loc='upper left')\n",
    "    plot.show()"
   ]
  },
  {
   "cell_type": "markdown",
   "id": "2d6762ea",
   "metadata": {},
   "source": [
    "### Table 4 - Top 20 most widely spread external packages grouped by their first 2 layers\n",
    "\n",
    "This table shows external packages grouped by their first 2 layers that are used by many different artifacts with the highest number of artifacts first. External annotations are filtered out to only get those external packages that significantly add to coupling.\n",
    "\n",
    "Statistics like minimum, maximum, average, median and standard deviation are provided for the number of packages and number of types in every artifact that uses the listed external package. \n",
    "\n",
    "The intuition behind that is to find external package dependencies that are used in a widely spread manner. This should uncover libraries and frameworks and make it easier to distinguish them from external dependencies that are used for specific tasks. It can also be used to find external dependencies that are used sparsely regarding artifacts but are used in many different packages there. This could then be improved by applying a [Hexagonal architecture](https://alistair.cockburn.us/hexagonal-architecture).\n",
    "\n",
    "Only the top 20 entries are shown. The whole table can be found in the following CSV report:\n",
    "`External_package_usage_spread`\n",
    "\n",
    "**Columns:**\n",
    "- *externalPackageName* identifies the external package as defined above. All other columns contain aggregated data for this external package.\n",
    "- *numberOfArtifacts* contains the number of artifacts that use the external package\n",
    "- *sumNumberOfPackages* contains the sum of all packages that use the external package\n",
    "- *min/max/med/avg/stdNumberOfPackages* provide statistics based on the number of packages of each artifact that uses the external package\n",
    "- *min/max/med/avg/stdNumberOfPackagesPercentage* provide statistics in percent (%) based on the number of packages of each artifact that uses the external package\n",
    "- *min/max/med/avg/stdNumberOfTypes* provide statistics based on the number of types of each artifact that uses the external package\n",
    "- *min/max/med/avg/stdNumberOfPackagesPercentage* provide statistics in percent (%) based on the number of types of each artifact that uses the external package\n",
    "- *someArtifactNames* contain some of the artifacts that contain the external package for reference"
   ]
  },
  {
   "cell_type": "code",
   "execution_count": null,
   "id": "f1f2624e",
   "metadata": {},
   "outputs": [],
   "source": [
    "external_grouped_package_usage_spread=query_cypher_to_data_frame(\"../cypher/External_Dependencies/External_second_level_package_usage_spread.cypher\")\n",
    "external_grouped_package_usage_spread.head(20)"
   ]
  },
  {
   "cell_type": "markdown",
   "id": "e6f098e6",
   "metadata": {},
   "source": [
    "#### Table 4 Chart 1 - Most widely spread second level external packages in % by type\n",
    "\n",
    "External package groups that are used less than 0.5% are grouped into the name \"others\" to get a cleaner chart\n",
    "with the most significant external packages and how ofter they are called in percent."
   ]
  },
  {
   "cell_type": "code",
   "execution_count": null,
   "id": "9a95e7be",
   "metadata": {},
   "outputs": [],
   "source": [
    "external_grouped_package_type_usage_spread_significant = group_to_others_below_threshold(\n",
    "    data_frame=external_grouped_package_usage_spread,\n",
    "    value_column='sumNumberOfTypes',\n",
    "    name_column='externalSecondLevelPackageName',\n",
    "    threshold= 0.5\n",
    ");\n",
    "\n",
    "if external_grouped_package_type_usage_spread_significant.empty:\n",
    "    print(\"No data to plot\")\n",
    "else:\n",
    "    plot.figure();\n",
    "\n",
    "    axis = external_grouped_package_type_usage_spread_significant.plot(\n",
    "        kind='pie',\n",
    "        title='Top external package (grouped by first 2 layers) usage spread [%] by type',\n",
    "        legend=True,\n",
    "        labeldistance=None,\n",
    "        autopct='%1.2f%%',\n",
    "        textprops={'fontsize': 5},\n",
    "        pctdistance=1.2,\n",
    "        cmap=main_color_map\n",
    "    )\n",
    "    axis.legend(bbox_to_anchor=(1.05, 1), loc='upper left')\n",
    "    plot.show()"
   ]
  },
  {
   "cell_type": "markdown",
   "id": "0b91082e",
   "metadata": {},
   "source": [
    "#### Table 4 Chart 2 - Most widely spread second level external packages in % by package\n",
    "\n",
    "External package groups that are used less than 0.5% are grouped into the name \"others\" to get a cleaner chart\n",
    "with the most significant external packages and how ofter they are called in percent."
   ]
  },
  {
   "cell_type": "code",
   "execution_count": null,
   "id": "d74f8422",
   "metadata": {},
   "outputs": [],
   "source": [
    "external_grouped_package_package_usage_spread_significant = group_to_others_below_threshold(\n",
    "    data_frame=external_grouped_package_usage_spread,\n",
    "    value_column='sumNumberOfPackages',\n",
    "    name_column='externalSecondLevelPackageName',\n",
    "    threshold= 0.5\n",
    ");\n",
    "\n",
    "if external_grouped_package_package_usage_spread_significant.empty:\n",
    "    print(\"No data to plot\")\n",
    "else:\n",
    "    plot.figure();\n",
    "\n",
    "    axis = external_grouped_package_package_usage_spread_significant.plot(\n",
    "        kind='pie',\n",
    "        title='Top external package (grouped by first 2 layers) usage spread [%] by package',\n",
    "        legend=True,\n",
    "        labeldistance=None,\n",
    "        autopct='%1.2f%%',\n",
    "        textprops={'fontsize': 5},\n",
    "        pctdistance=1.2,\n",
    "        cmap=main_color_map\n",
    "    )\n",
    "    axis.legend(bbox_to_anchor=(1.05, 1), loc='upper left')\n",
    "    plot.show()"
   ]
  },
  {
   "attachments": {},
   "cell_type": "markdown",
   "id": "29ec2211",
   "metadata": {},
   "source": [
    "### Table 5 - Top 20 least used external packages overall\n",
    "\n",
    "This table identifies external packages that aren't used very often. This could help to find libraries that aren't actually needed or maybe easily replaceable. Some of them might be used sparsely on purpose for example as an adapter to an external library that is actually important. Thus, decisions need to be made on a case-by-case basis.\n",
    "\n",
    "Only the last 20 entries are shown. The whole table can be found in the following CSV report:\n",
    "`External_package_usage_overall`\n",
    "\n",
    "**Columns:**\n",
    "- *externalPackageName* identifies the external package as described above\n",
    "- *numberOfExternalTypeCalls* includes every invocation or reference to the types in the external package"
   ]
  },
  {
   "cell_type": "code",
   "execution_count": null,
   "id": "03641b8b",
   "metadata": {},
   "outputs": [],
   "source": [
    "# Sort by number of external type calls\n",
    "external_package_least_used=external_package_usage.sort_values(by='numberOfExternalTypeCalls', ascending=True)\n",
    "\n",
    "# Reset index\n",
    "external_package_least_used = external_package_least_used.reset_index(drop=True)\n",
    "\n",
    "# Select columns and only show the first 10 entries (head)\n",
    "external_package_least_used[['externalPackageName','numberOfExternalTypeCalls']].head(20)\n"
   ]
  },
  {
   "cell_type": "markdown",
   "id": "0bd11586",
   "metadata": {},
   "source": [
    "### Table 6 - External usage per artifact sorted by highest external type rate descending\n",
    "\n",
    "The following table shows the most used external packages separately for each artifact including external annotations. The results are sorted by the artifacts with the highest external type usage rate descending. \n",
    "\n",
    "The intention of this table is to find artifacts that use a lot of external dependencies in relation to their size and get all the external packages and their usage.\n",
    "\n",
    "Only the last 40 entries are shown. The whole table can be found in the following CSV report:\n",
    "`External_package_usage_per_artifact_sorted`\n",
    "\n",
    "**Columns:**\n",
    "- *artifactName* is used to group the the external package usage per artifact for a more detailed analysis.\n",
    "- *externalPackageName* identifies the external package as described above\n",
    "- *numberOfExternalTypeCaller* refers to the distinct types that make use of the external package\n",
    "- *numberOfExternalTypeCalls* includes every invocation or reference to the types in the external package\n",
    "- *numberOfTypesInArtifact* represents the total count of all analyzed types for the artifact\n",
    "- *numberOfExternalTypesInArtifact* is the number of all external types that are used by the artifact\n",
    "- *numberOfExternalPackagesInArtifact* is the number of all external packages that are used by the artifact\n",
    "- *externalTypeRate* is the numberOfExternalTypesInArtifact / numberOfTypesInArtifact * 100\n",
    "- *externalTypeNames* contains a list of actually utilized types of the external package"
   ]
  },
  {
   "cell_type": "code",
   "execution_count": null,
   "id": "f8459ede",
   "metadata": {},
   "outputs": [],
   "source": [
    "query_cypher_to_data_frame(\"../cypher/External_Dependencies/External_package_usage_per_artifact_sorted.cypher\").head(40)"
   ]
  },
  {
   "cell_type": "markdown",
   "id": "dd5600ed",
   "metadata": {},
   "source": [
    "### Table 7 - Artifacts and their external packages\n",
    "\n",
    "The following table shows the artifacts with the highest external dependency usage broken down by each external package including external annotations. The results are sorted by the artifacts with the highest external package usage rate descending. \n",
    "\n",
    "The intention of this table is to find artifacts that use a lot of external dependencies and show in detail which external packages are used by them and how many internal packages.\n",
    "\n",
    "Only the last 30 entries are shown. The whole table can be found in the following CSV report:\n",
    "`External_package_usage_per_artifact_and_external_package`\n",
    "\n",
    "**Columns:**\n",
    "- *artifactName* is the name of the artifact with external dependencies (first grouping column)\n",
    "- *artifactPackages* is the number of packages in the artifact\n",
    "- *artifactTypes* is the number of types in the artifact\n",
    "- *artifactExternalPackages* is the number of external packages used by the artifact\n",
    "- *artifactExternalCallingPackages* is the number of packages that use external packages in the artifact \n",
    "- *artifactExternalCallingPackagesRate* is artifactExternalCallingPackages / artifactPackages * 100%\n",
    "- *externalPackageName* the name of the external package (second grouping column)\n",
    "- *numberOfPackages* is the number of internal packages of the artifact that use the external packages\n",
    "- *numberOfTypes* is the number of internal types of the artifact that use the external packages\n",
    "- *packagesCallingExternalRate* is numberOfPackages / artifactPackages * 100%\n",
    "- *typesCallingExternalRate* is numberOfTypes / artifactTypes * 100%\n",
    "- *nameOfPackages* names of the internal packages that use the external package in the artifact\n",
    "- *someTypeNames* some (10) names of the internal types that use the external package in the artifact"
   ]
  },
  {
   "cell_type": "code",
   "execution_count": null,
   "id": "39e4deb3",
   "metadata": {},
   "outputs": [],
   "source": [
    "external_packages_per_artifact = query_cypher_to_data_frame(\"../cypher/External_Dependencies/External_package_usage_per_artifact_and_external_package.cypher\")\n",
    "external_packages_per_artifact.head(30)"
   ]
  },
  {
   "cell_type": "markdown",
   "id": "7e18a377",
   "metadata": {},
   "source": [
    "### Table 7a - Artifacts and their external packages (first 2 levels)\n",
    "\n",
    "The following table groups the external packages by their first two levels. For example `javax.xml.namespace` and `javax.xml.stream` will be grouped together to `javax.xml`."
   ]
  },
  {
   "cell_type": "code",
   "execution_count": null,
   "id": "6c8c7ed7",
   "metadata": {},
   "outputs": [],
   "source": [
    "external_second_level_packages_per_artifact = query_cypher_to_data_frame(\"../cypher/External_Dependencies/External_second_level_package_usage_per_artifact_and_external_package.cypher\")\n",
    "external_second_level_packages_per_artifact.head(30)"
   ]
  },
  {
   "cell_type": "markdown",
   "id": "bb458f01",
   "metadata": {},
   "source": [
    "#### Table 7b - Top 15 external dependency using artifacts as columns with their external packages\n",
    "\n",
    "The following table uses pivot to show the artifacts in columns, the external dependencies in rows and the number of internal packages as values."
   ]
  },
  {
   "cell_type": "code",
   "execution_count": null,
   "id": "fd9667a9",
   "metadata": {},
   "outputs": [],
   "source": [
    "# Calculate the percentage for each value based on the global sum of all values\n",
    "def percentage_global(data_frame : pd.DataFrame):\n",
    "    total = data_frame.sum().sum()\n",
    "    return data_frame / total * 100"
   ]
  },
  {
   "cell_type": "code",
   "execution_count": null,
   "id": "4ae9ada4",
   "metadata": {},
   "outputs": [],
   "source": [
    "external_packages_per_artifact_pivot = external_packages_per_artifact.copy()\n",
    "\n",
    "# Every row represents the number of external package\n",
    "external_packages_per_artifact_pivot=external_packages_per_artifact_pivot.pivot(index='externalPackageName', columns='artifactName', values='numberOfPackages')\n",
    "\n",
    "# Sort by column sum and then take only the first 10 columns\n",
    "sum_of_external_packages_per_artifact = external_packages_per_artifact_pivot.sum()\n",
    "external_packages_per_artifact_pivot = external_packages_per_artifact_pivot[sum_of_external_packages_per_artifact.sort_values(ascending=False).index[:15]]\n",
    "\n",
    "# Fill missing values with zeroes\n",
    "external_packages_per_artifact_pivot.fillna(0, inplace=True)\n",
    "\n",
    "external_packages_per_artifact_pivot.astype('int')"
   ]
  },
  {
   "cell_type": "markdown",
   "id": "9b1fed8e",
   "metadata": {},
   "source": [
    "#### Table 7c - Top 15 external dependency using artifacts as columns with their external packages (first 2 levels)\n",
    "\n",
    "The following table uses pivot to show the artifacts in columns, the external package name grouped by its first two levels in rows and the number of internal packages as values. For example `javax.xml.namespace` and `javax.xml.stream` will be grouped together to `javax.xml`."
   ]
  },
  {
   "cell_type": "code",
   "execution_count": null,
   "id": "845099fc",
   "metadata": {},
   "outputs": [],
   "source": [
    "external_second_level_packages_per_artifact_pivot = external_second_level_packages_per_artifact.copy()\n",
    "\n",
    "# Every row represents the number of external package\n",
    "external_second_level_packages_per_artifact_pivot=external_second_level_packages_per_artifact_pivot.pivot(index='externalPackageNameFirst2Levels', columns='artifactName', values='numberOfPackages')\n",
    "\n",
    "# Sort by column sum and then take only the first 10 columns\n",
    "sum_of_external_second_level_packages_per_artifact = external_second_level_packages_per_artifact_pivot.sum()\n",
    "external_second_level_packages_per_artifact_pivot = external_second_level_packages_per_artifact_pivot[sum_of_external_second_level_packages_per_artifact.sort_values(ascending=False).index[:15]]\n",
    "\n",
    "# Fill missing values with zeroes\n",
    "external_second_level_packages_per_artifact_pivot.fillna(0, inplace=True)\n",
    "\n",
    "external_second_level_packages_per_artifact_pivot.astype('int')"
   ]
  },
  {
   "cell_type": "markdown",
   "id": "43ec339b",
   "metadata": {},
   "source": [
    "#### Table 7 Chart 1 - Top 15 external dependency using artifacts and their external packages stacked\n",
    "\n",
    "The following chart shows the top 15 external package using artifacts and breaks down which external packages they use in how many different internal packages with stacked bars. \n",
    "\n",
    "Note that every external dependency is counted separately so that if on internal package uses two external packages it will be displayed for both and so stacked twice.  "
   ]
  },
  {
   "cell_type": "code",
   "execution_count": null,
   "id": "9d8e8bb0",
   "metadata": {},
   "outputs": [],
   "source": [
    "if external_packages_per_artifact_pivot.empty:\n",
    "    print(\"No data to plot\")\n",
    "else:\n",
    "    plot.figure();\n",
    "    axes = external_packages_per_artifact_pivot.transpose().plot(\n",
    "        kind='bar', \n",
    "        grid=True,\n",
    "        title='External package usage per artifact', \n",
    "        xlabel='artifact',\n",
    "        ylabel='number of packages',\n",
    "        stacked=True,\n",
    "        legend=True,\n",
    "        cmap=main_color_map\n",
    "    ).legend(bbox_to_anchor=(1.0, 1.0))\n",
    "    plot.show()"
   ]
  },
  {
   "cell_type": "markdown",
   "id": "2d577c45",
   "metadata": {},
   "source": [
    "#### Table 7 Chart 2 - Top 15 external dependency using artifacts and their external packages (first 2 levels) stacked\n",
    "\n",
    "The following chart shows the top 15 external package using artifacts and breaks down which external packages (first 2 levels) are used in how many different internal packages with stacked bars. \n",
    "\n",
    "Note that every external dependency is counted separately so that if on internal package uses two external packages it will be displayed for both and so stacked twice.  "
   ]
  },
  {
   "cell_type": "code",
   "execution_count": null,
   "id": "17fc1572",
   "metadata": {},
   "outputs": [],
   "source": [
    "if external_second_level_packages_per_artifact_pivot.empty:\n",
    "    print(\"No data to plot\")\n",
    "else:\n",
    "    plot.figure();\n",
    "    axes = external_second_level_packages_per_artifact_pivot.transpose().plot(\n",
    "        kind='bar', \n",
    "        grid=True,\n",
    "        title='External package (first 2 levels) usage per artifact', \n",
    "        xlabel='artifact',\n",
    "        ylabel='number of packages',\n",
    "        stacked=True,\n",
    "        legend=True,\n",
    "        cmap=main_color_map\n",
    "    ).legend(bbox_to_anchor=(1.0, 1.0))\n",
    "    plot.show()"
   ]
  },
  {
   "attachments": {},
   "cell_type": "markdown",
   "id": "33c3bb79",
   "metadata": {},
   "source": [
    "### Table 8 - External usage per artifact\n",
    "\n",
    "The following table shows the most used external packages separately for each artifact including external annotations. The results are grouped per artifact and sorted by the artifacts with the highest external type usage rate descending. Additionally, for each artifact the top 5 used external packages are listed in the top5ExternalPackages column. \n",
    "\n",
    "The intention of this table is to find artifacts that use a lot of external dependencies in relation to their size and get an overview per artifact with the top 5 used external packages, the number of external types and packages used etc. .\n",
    "\n",
    "Only the last 40 entries are shown. The whole table can be found in the following CSV report:\n",
    "`External_package_usage_per_artifact_sorted_top`\n",
    "\n",
    "**Columns:**\n",
    "- *artifactName* is used to group the the external package usage per artifact for a more detailed analysis.\n",
    "- *numberOfTypesInArtifact* represents the total count of all analyzed types for the artifact\n",
    "- *numberOfExternalTypesInArtifact* is the number of all external types that are used by the artifact\n",
    "- *numberOfExternalPackagesInArtifact* is the number of all external packages that are used by the artifact\n",
    "- *externalTypeRate* is the numberOfExternalTypesInArtifact / numberOfTypesInArtifact * 100\n",
    "- *numberOfExternalTypeCaller* refers to the distinct types that make use of the external package\n",
    "- *numberOfExternalTypeCalls* includes every invocation or reference to the types in the external package\n",
    "- *numberOfExternalPackages* is the number of distinct external packages used by the artifact\n",
    "- *top5ExternalPackages* contains a list of the top 5 most used external packages of the artifact\n",
    "- *someExternalTypes* contains a list of lists and is also mean't to provide some examples of external types used"
   ]
  },
  {
   "cell_type": "code",
   "execution_count": null,
   "id": "1637f8ee",
   "metadata": {},
   "outputs": [],
   "source": [
    "query_cypher_to_data_frame(\"../cypher/External_Dependencies/External_package_usage_per_artifact_sorted_top.cypher\").head(40)"
   ]
  },
  {
   "attachments": {},
   "cell_type": "markdown",
   "id": "4fb87c8a",
   "metadata": {},
   "source": [
    "### Table 9 - External usage per artifact and package\n",
    "\n",
    "This table lists internal packages and the artifacts they belong to that use many different external types of a specific external package without taking external annotations into account. \n",
    "\n",
    "Only the last 40 entries are shown. The whole table can be found in the following CSV report:\n",
    "`External_package_usage_per_artifact_and_package`\n",
    "\n",
    "**Columns:**\n",
    "- *artifactName* that contains the type that calls the external package\n",
    "- *fullPackageName* is the package within the artifact that contains the type that calls the external package\n",
    "- *externalPackageName* identifies the external package as described above\n",
    "- *numberOfExternalTypeCaller* refers to the distinct types that make use of the external package\n",
    "- *numberOfExternalTypeCalls* includes every invocation or reference to the types in the external package\n",
    "- *numberOfTypesInPackage* represents the total count of all types in that package\n",
    "- *externalTypeNames* contains a list of actually utilized types of the external package\n",
    "- *packageName* contains the name of the package (last part of *fullPackageName*)"
   ]
  },
  {
   "cell_type": "code",
   "execution_count": null,
   "id": "58a19ad7",
   "metadata": {},
   "outputs": [],
   "source": [
    "external_package_usage_per_package = query_cypher_to_data_frame(\"../cypher/External_Dependencies/External_package_usage_per_artifact_and_package.cypher\")\n",
    "external_package_usage_per_package.head(40)"
   ]
  },
  {
   "attachments": {},
   "cell_type": "markdown",
   "id": "a3161e2b",
   "metadata": {},
   "source": [
    "### Table 10 - Top 20 external package usage per type\n",
    "\n",
    "This table shows internal types that utilize the most different external types and packages. These have the highest probability of change depending on external libraries. A case-by-case approach is also advisable here because there could for example also be code units that encapsulate an external library and have this high count of external dependencies on purpose.\n",
    "\n",
    "Only the last 20 entries are shown. The whole table can be found in the following CSV report:\n",
    "`External_package_usage_per_type`\n",
    "\n",
    "**Columns:**\n",
    "- *artifactName* that contains the type that calls the external package\n",
    "- *fullPackageName* is the package within the artifact that contains the type that calls external types\n",
    "- *typeName* identifies the internal type within the package and artifact that calls external types\n",
    "- *numberOfExternalTypeCaller* and *numberOfExternalTypes* refers to the distinct external types that are used by the internal type\n",
    "- *numberOfExternalTypeCalls* includes every invocation or reference to the types in the external package\n",
    "- *numberOfTypesInPackage* represents the total count of all types in that package\n",
    "- *numberOfExternalPackages* shows how many different external packages are used by the internal type\n",
    "- *externalPackageNames* contains the list of names of the different external packages that are used by the internal type\n",
    "- *externalTypeNames* contains a list of actually utilized types of the external package\n",
    "- *packageName* contains the name of the package (last part of *fullPackageName*)"
   ]
  },
  {
   "cell_type": "code",
   "execution_count": null,
   "id": "f2224d21",
   "metadata": {},
   "outputs": [],
   "source": [
    "external_package_usage_per_type = query_cypher_to_data_frame(\"../cypher/External_Dependencies/External_package_usage_per_type.cypher\")\n",
    "external_package_usage_per_type.head(20)"
   ]
  },
  {
   "attachments": {},
   "cell_type": "markdown",
   "id": "5b420f59",
   "metadata": {},
   "source": [
    "### Table 11 - External package usage distribution per type\n",
    "\n",
    "This table shows how many types use one external package, how many use two, etc. .\n",
    "This gives an overview of the distribution of external package calls and the overall coupling to external libraries. The higher the count of distinct external packages the lower should be the count of types that use them. Dependencies to external annotations are left out here.\n",
    "\n",
    "More details about which types have the highest external package dependency usage can be in the tables 4 and 5 above.\n",
    "\n",
    "Only the last 40 entries are shown. The whole table can be found in the following CSV report:\n",
    "`External_package_usage_per_artifact_distribution`\n",
    "\n",
    "**Columns:**\n",
    "- *artifactName* that contains the type that calls the external package\n",
    "- *artifactTypes* the total count of types in the artifact\n",
    "- *numberOfExternalPackages* the number of distinct external packages used\n",
    "- *numberOfTypes* in the artifact where the *numberOfExternalPackages* applies\n",
    "- *numberOfTypesPercentage* in the artifact where the *numberOfExternalPackages* applies in %"
   ]
  },
  {
   "cell_type": "code",
   "execution_count": null,
   "id": "d750524a",
   "metadata": {},
   "outputs": [],
   "source": [
    "external_package_usage_per_artifact_distribution = query_cypher_to_data_frame(\"../cypher/External_Dependencies/External_package_usage_per_artifact_distribution.cypher\")\n",
    "external_package_usage_per_artifact_distribution_truncated=external_package_usage_per_artifact_distribution[['artifactName', 'artifactPackages', 'artifactTypes', 'numberOfExternalPackages', 'numberOfPackages', 'numberOfTypes', 'typesCallingExternalRate', 'packagesCallingExternalRate']].head(40)\n",
    "external_package_usage_per_artifact_distribution_truncated"
   ]
  },
  {
   "attachments": {},
   "cell_type": "markdown",
   "id": "39c045f6",
   "metadata": {},
   "source": [
    "### Table 12 - External package usage per artifact grouped by number of internal packages\n",
    "\n",
    "The following table shows the external package usage for every artifact grouped by the number of distinct internal dependent packages. The intention is to find external package usage spread across multiple internal packages in artifacts. \n",
    "\n",
    "Artifacts that encapsulate external dependency calls in one internal package overall (or each) are easier to change if those external dependencies change and are most likely applying a [Hexagonal architecture](https://alistair.cockburn.us/hexagonal-architecture). Artifacts that use external dependencies in multiple internal packages need more effort to adapt to changes of those external dependencies. On one hand this could be intended e.g. when using standardized libraries. On the other hand this might indicate higher than necessary coupling.\n",
    "\n",
    "The whole table can be found in the following CSV report:\n",
    "`External_package_usage_per_internal_package_count`"
   ]
  },
  {
   "cell_type": "code",
   "execution_count": null,
   "id": "7a2ebcf9",
   "metadata": {},
   "outputs": [],
   "source": [
    "external_package_usage_per_package_distribution = query_cypher_to_data_frame(\"../cypher/External_Dependencies/External_package_usage_per_internal_package_count.cypher\")\n",
    "\n",
    "# Only show external dependencies that are at least used in 2 internal packages. \n",
    "# Filter out all rows with \"numberOfPackages\" <= 2.\n",
    "external_package_usage_per_package_distribution=external_package_usage_per_package_distribution.query(\"`numberOfPackages` >= 2\")\n",
    "# Organize artifacts in columns with the number of packages that call external packages as values using pivot\n",
    "# Every row represents the number of external packages\n",
    "external_package_usage_per_package_distribution=external_package_usage_per_package_distribution.pivot(index='numberOfPackages', columns='artifactName', values='maxPackagesCallingExternalRate')\n",
    "\n",
    "# Fill missing values with zero\n",
    "external_package_usage_per_package_distribution.fillna(0, inplace=True)\n",
    "\n",
    "external_package_usage_per_package_distribution"
   ]
  },
  {
   "cell_type": "markdown",
   "id": "055e5a36",
   "metadata": {},
   "source": [
    "### Table 13 - External package usage aggregated\n",
    "\n",
    "This table lists all artifacts and their external package dependencies usage aggregated over internal packages. \n",
    "\n",
    "The intention behind this is to find artifacts that use an external dependency across multiple internal packages. This might be intended for frameworks and standardized libraries and helps to quantify how widely those are used. For some external dependencies it might be beneficial to only access it from one package and provide an abstraction for internal usage following a [Hexagonal architecture](https://alistair.cockburn.us/hexagonal-architecture). Thus, this table may also help in finding application for the Hexagonal architecture or similar approaches (Domain Driven Design Anti Corruption Layer). After all it is easier to update or replace such external dependencies when they are used in specific areas and not all over the code.\n",
    "\n",
    "Only the last 40 entries are shown. The whole table can be found in the following CSV report:\n",
    "`External_package_usage_per_artifact_package_aggregated`\n",
    "\n",
    "**Columns:**\n",
    "- *artifactName* that contains the type that calls the external package\n",
    "- *artifactPackages* is the total count of packages in the artifact\n",
    "- *artifactTypes* is the total count of types in the artifact\n",
    "- *numberOfExternalPackages* the number of distinct external packages used\n",
    "- *[min,max,med,avg,std]NumberOfPackages* provide statistics based on each external package and its package usage within the artifact\n",
    "- *[min,max,med,avg,std]NumberOfPackagesPercentage* provide statistics in % based on each external package and its package usage within the artifact in respect to the overall count of packages in the artifact\n",
    "- *[min,max,med,avg,std]NumberOfTypes* provide statistics based on each external package and its type usage within the artifact\n",
    "- *[min,max,med,avg,std]NumberOfTypePercentage* provide statistics in % based on each external package and its type usage within the artifact in respect to the overall count of packages in the artifact\n",
    "- *numberOfTypes* in the artifact where the *numberOfExternalPackages* applies\n",
    "- *numberOfTypesPercentage* in the artifact where the *numberOfExternalPackages* applies in %"
   ]
  },
  {
   "cell_type": "markdown",
   "id": "7850d0a2",
   "metadata": {},
   "source": [
    "#### Table 13a - External package usage aggregated - count of internal packages"
   ]
  },
  {
   "cell_type": "code",
   "execution_count": null,
   "id": "6d01860a",
   "metadata": {},
   "outputs": [],
   "source": [
    "external_package_usage_aggregated = query_cypher_to_data_frame(\"../cypher/External_Dependencies/External_package_usage_per_artifact_package_aggregated.cypher\")\n",
    "\n",
    "external_package_usage_aggregated_packages = external_package_usage_aggregated[['artifactName', 'artifactPackages', 'numberOfExternalPackages', 'minNumberOfPackages', 'medNumberOfPackages', 'avgNumberOfPackages', 'maxNumberOfPackages', 'stdNumberOfPackages']]\n",
    "external_package_usage_aggregated_packages.head(30)"
   ]
  },
  {
   "cell_type": "markdown",
   "id": "f2dbe7ac",
   "metadata": {},
   "source": [
    "#### Table 13b - External package usage aggregated - percentage of internal packages"
   ]
  },
  {
   "cell_type": "code",
   "execution_count": null,
   "id": "e70afee8",
   "metadata": {},
   "outputs": [],
   "source": [
    "external_package_usage_aggregated_packages_percentage = external_package_usage_aggregated[['artifactName', 'artifactPackages', 'numberOfExternalPackages', 'minNumberOfPackagesPercentage', 'medNumberOfPackagesPercentage', 'avgNumberOfPackagesPercentage', 'maxNumberOfPackagesPercentage', 'stdNumberOfPackagesPercentage']]\n",
    "external_package_usage_aggregated_packages_percentage.head(30)"
   ]
  },
  {
   "cell_type": "markdown",
   "id": "8c476382",
   "metadata": {},
   "source": [
    "#### Table 13c - External package usage aggregated - count of internal types"
   ]
  },
  {
   "cell_type": "code",
   "execution_count": null,
   "id": "40392b95",
   "metadata": {},
   "outputs": [],
   "source": [
    "external_package_usage_aggregated_types = external_package_usage_aggregated[['artifactName', 'artifactTypes', 'numberOfExternalPackages', 'minNumberOfTypes', 'medNumberOfTypes', 'avgNumberOfTypes', 'maxNumberOfTypes', 'stdNumberOfTypes']]\n",
    "external_package_usage_aggregated_types.head(30)"
   ]
  },
  {
   "cell_type": "markdown",
   "id": "0eac5b93",
   "metadata": {},
   "source": [
    "#### Table 13d - External package usage aggregated - percentage of internal types"
   ]
  },
  {
   "cell_type": "code",
   "execution_count": null,
   "id": "260cc520",
   "metadata": {},
   "outputs": [],
   "source": [
    "external_package_usage_aggregated_types_percentage = external_package_usage_aggregated[['artifactName', 'artifactTypes', 'numberOfExternalPackages', 'minNumberOfTypesPercentage', 'medNumberOfTypesPercentage', 'avgNumberOfTypesPercentage', 'maxNumberOfTypesPercentage', 'stdNumberOfTypesPercentage']]\n",
    "external_package_usage_aggregated_types_percentage.head(30)"
   ]
  },
  {
   "cell_type": "markdown",
   "id": "d1a16e29",
   "metadata": {},
   "source": [
    "#### Table 13 Chart 1 - External package usage - max percentage of internal types\n",
    "\n",
    "This chart shows per artifact the maximum percentage of internal packages (compared to all packages in that artifact) that use one specific external package. \n",
    "\n",
    "**Example:** One artifact might use 10 external packages where 7 of them are used in one internal package, 2 of them are used in two packages and one external dependency is used in 5 packages. So for this artifact there will be a point at x = 10 (external packages used by the artifact) and 5 (max internal packages). Instead of the count the percentage of internal packages compared to all packages in that artifact is used to get a normalized plot."
   ]
  },
  {
   "cell_type": "code",
   "execution_count": null,
   "id": "ad1db8af",
   "metadata": {},
   "outputs": [],
   "source": [
    "def annotate_plot(data_frame: pd.DataFrame, index: int):\n",
    "    \"\"\"\n",
    "    Annotates the data points identified by the \"index\" in the plot of the \"data_frame\" \n",
    "    \"\"\"\n",
    "    x_position = data_frame.numberOfExternalPackages[index].item()\n",
    "    y_position = data_frame.maxNumberOfPackagesPercentage[index].item()\n",
    "    artifact_name = data_frame.artifactName[index].item()\n",
    "\n",
    "    label_box=dict(boxstyle=\"round4,pad=0.5\", fc=\"w\", alpha=0.8)\n",
    "    plot.annotate(artifact_name\n",
    "        ,xy=(x_position, y_position)\n",
    "        ,xycoords='data'\n",
    "        ,xytext=(-30, -15)\n",
    "        ,textcoords='offset points'\n",
    "        ,size=6\n",
    "        ,bbox=label_box\n",
    "        ,arrowprops=dict(arrowstyle=\"-|>\", mutation_scale=10, color=\"black\")\n",
    "    )\n",
    "\n",
    "def index_of_sorted(data_frame: pd.DataFrame, highest: list[str] = []):\n",
    "    \"\"\"\n",
    "    Sorts the \"data_frame\" by columns 'numberOfExternalPackages','maxNumberOfPackagesPercentage','artifactPackages', 'artifactName'\n",
    "    and returns the index of the first row.\n",
    "    Columns that are contained in the list of strings parameter \"highest\" will be sorted descending (highest first).\n",
    "    \"\"\"\n",
    "    by = ['numberOfExternalPackages','maxNumberOfPackagesPercentage','artifactPackages', 'artifactName']\n",
    "    ascending = [('numberOfExternalPackages' not in highest), ('maxNumberOfPackagesPercentage' not in highest), False, True]\n",
    "    return data_frame.sort_values(by=by, ascending=ascending).head(1).index"
   ]
  },
  {
   "cell_type": "code",
   "execution_count": null,
   "id": "615238d5",
   "metadata": {},
   "outputs": [],
   "source": [
    "if external_package_usage_aggregated.empty:\n",
    "    print(\"No data to plot\")\n",
    "else:\n",
    "    plot.figure();\n",
    "    axes = external_package_usage_aggregated.plot(\n",
    "        kind='scatter',\n",
    "        title='External package usage - max internal packages %', \n",
    "        x='numberOfExternalPackages',\n",
    "        y='maxNumberOfPackagesPercentage',\n",
    "        s='artifactPackages',\n",
    "        c='stdNumberOfPackagesPercentage',\n",
    "        xlabel='external package count',\n",
    "        ylabel='max percentage of internal packages',\n",
    "        cmap=main_color_map,\n",
    "    )\n",
    "\n",
    "    # Annotate the largest artifact with the highest number of external packages and max number of packages in percentage\n",
    "    annotation_index = index_of_sorted(highest=['numberOfExternalPackages','maxNumberOfPackagesPercentage'], data_frame=external_package_usage_aggregated)\n",
    "    annotate_plot(external_package_usage_aggregated, annotation_index)\n",
    "\n",
    "\n",
    "    # Annotate the largest artifact with the lowest number of external packages and the highest max number of packages in percentage\n",
    "    annotation_index = index_of_sorted(highest=['maxNumberOfPackagesPercentage'], data_frame=external_package_usage_aggregated)\n",
    "    annotate_plot(external_package_usage_aggregated, annotation_index)\n",
    "\n",
    "    # Annotate the largest artifact with the lowest number of external packages and max number of packages in percentage\n",
    "    annotation_index = index_of_sorted(highest=[], data_frame=external_package_usage_aggregated)\n",
    "    annotate_plot(external_package_usage_aggregated, annotation_index)\n",
    "\n",
    "    plot.show()"
   ]
  },
  {
   "cell_type": "markdown",
   "id": "9b7cff51",
   "metadata": {},
   "source": [
    "#### Table 13 Chart 2 - External package usage - median percentage of internal types\n",
    "\n",
    "This chart shows per artifact the median (0.5 percentile) of internal packages (compared to all packages in that artifact) that use one specific external package. \n",
    "\n",
    "**Example:** One artifact might use 9 external packages where 3 of them are used in 1 internal package, 3 of them are used in 2 package and the last 3 ones are used in 3 packages. So for this artifact there will be a point at x = 10 (external packages used by the artifact) and 2 (median internal packages). Instead of the count the percentage of internal packages compared to all packages in that artifact is used to get a normalized plot."
   ]
  },
  {
   "cell_type": "code",
   "execution_count": null,
   "id": "34d2595f",
   "metadata": {},
   "outputs": [],
   "source": [
    "if external_package_usage_aggregated.empty:\n",
    "    print(\"No data to plot\")\n",
    "else:\n",
    "    plot.figure();\n",
    "    axes = external_package_usage_aggregated.plot(\n",
    "        kind='scatter',\n",
    "        title='External package usage - median internal packages %', \n",
    "        x='numberOfExternalPackages',\n",
    "        y='medNumberOfPackagesPercentage',\n",
    "        s='artifactPackages',\n",
    "        c='stdNumberOfPackagesPercentage',\n",
    "        xlabel='external package count',\n",
    "        ylabel='median percentage of internal packages',\n",
    "        cmap=main_color_map,\n",
    "    )\n",
    "    plot.show()"
   ]
  },
  {
   "attachments": {},
   "cell_type": "markdown",
   "id": "c2a1d4b6",
   "metadata": {},
   "source": [
    "## Maven POMs\n",
    "\n",
    "\n",
    "### Table 14 - Maven POMs and their declared dependencies\n",
    "\n",
    "If Maven is used as for package and dependency management and a \".pom\" file is included in the artifact, the following table shows the external dependencies that are declared there."
   ]
  },
  {
   "cell_type": "code",
   "execution_count": null,
   "id": "d4478ca3",
   "metadata": {},
   "outputs": [],
   "source": [
    "query_cypher_to_data_frame(\"../cypher/External_Dependencies/Maven_POMs_and_their_declared_dependencies.cypher\")"
   ]
  },
  {
   "cell_type": "code",
   "execution_count": null,
   "id": "46baa3c1",
   "metadata": {},
   "outputs": [],
   "source": [
    "driver.close()"
   ]
  }
 ],
 "metadata": {
  "authors": [
   {
    "name": "JohT"
   }
  ],
  "code_graph_analysis_pipeline_data_validation": "ValidateJavaExternalDependencies",
  "celltoolbar": "Tags",
  "kernelspec": {
   "display_name": "Python 3 (ipykernel)",
   "language": "python",
   "name": "python3"
  },
  "language_info": {
   "codemirror_mode": {
    "name": "ipython",
    "version": 3
   },
   "file_extension": ".py",
   "mimetype": "text/x-python",
   "name": "python",
   "nbconvert_exporter": "python",
   "pygments_lexer": "ipython3",
   "version": "3.11.4"
  },
  "title": "Object Oriented Design Quality Metrics for Java with Neo4j"
 },
 "nbformat": 4,
 "nbformat_minor": 5
}
