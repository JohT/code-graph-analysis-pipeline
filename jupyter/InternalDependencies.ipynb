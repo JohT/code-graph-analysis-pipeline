{
 "cells": [
  {
   "attachments": {},
   "cell_type": "markdown",
   "id": "2f0eabc4",
   "metadata": {},
   "source": [
    "# Internal Dependencies\n",
    "<br>  \n",
    "\n",
    "### References\n",
    "- [Analyze java package metrics in a graph database](https://joht.github.io/johtizen/data/2023/04/21/java-package-metrics-analysis.html)\n",
    "- [Calculate metrics](https://101.jqassistant.org/calculate-metrics/index.html)\n",
    "- [py2neo](https://py2neo.org/2021.1/)"
   ]
  },
  {
   "cell_type": "code",
   "execution_count": null,
   "id": "4191f259",
   "metadata": {},
   "outputs": [],
   "source": [
    "import os\n",
    "import pandas as pd\n",
    "import matplotlib.pyplot as plot\n",
    "from neo4j import GraphDatabase"
   ]
  },
  {
   "cell_type": "code",
   "execution_count": null,
   "id": "1c5dab37",
   "metadata": {},
   "outputs": [],
   "source": [
    "# Please set the environment variable \"NEO4J_INITIAL_PASSWORD\" in your shell \n",
    "# before starting jupyter notebook to provide the password for the user \"neo4j\". \n",
    "# It is not recommended to hardcode the password into jupyter notebook for security reasons.\n",
    "\n",
    "driver = GraphDatabase.driver(uri=\"bolt://localhost:7687\", auth=(\"neo4j\", os.environ.get(\"NEO4J_INITIAL_PASSWORD\")))\n",
    "driver.verify_connectivity()"
   ]
  },
  {
   "cell_type": "code",
   "execution_count": null,
   "id": "c1db254b",
   "metadata": {},
   "outputs": [],
   "source": [
    "def get_cypher_query_from_file(cypherFileName):\n",
    "    with open(cypherFileName) as file:\n",
    "        return ' '.join(file.readlines())"
   ]
  },
  {
   "cell_type": "code",
   "execution_count": null,
   "id": "59310f6f",
   "metadata": {},
   "outputs": [],
   "source": [
    "def query_cypher_to_data_frame(filename):\n",
    "    records, summary, keys = driver.execute_query(get_cypher_query_from_file(filename))\n",
    "    return pd.DataFrame([r.values() for r in records], columns=keys)"
   ]
  },
  {
   "cell_type": "code",
   "execution_count": null,
   "id": "a56670c9",
   "metadata": {},
   "outputs": [],
   "source": [
    "#The following cell uses the build-in %html \"magic\" to override the CSS style for tables to a much smaller size.\n",
    "#This is especially needed for PDF export of tables with multiple columns."
   ]
  },
  {
   "cell_type": "code",
   "execution_count": null,
   "id": "006b9dc8",
   "metadata": {},
   "outputs": [],
   "source": [
    "%%html\n",
    "<style>\n",
    "/* CSS style for smaller dataframe tables. */\n",
    ".dataframe th {\n",
    "    font-size: 8px;\n",
    "}\n",
    ".dataframe td {\n",
    "    font-size: 8px;\n",
    "}\n",
    "</style>"
   ]
  },
  {
   "attachments": {},
   "cell_type": "markdown",
   "id": "91d80bf7",
   "metadata": {},
   "source": [
    "## Artifacts\n",
    "\n",
    "### Table 1\n",
    "\n",
    "- List all the artifacts this notebook is based on"
   ]
  },
  {
   "cell_type": "code",
   "execution_count": null,
   "id": "dc682db6",
   "metadata": {},
   "outputs": [],
   "source": [
    "query_cypher_to_data_frame(\"../cypher/List_all_existing_artifacts.cypher\")"
   ]
  },
  {
   "attachments": {},
   "cell_type": "markdown",
   "id": "d7cfd862",
   "metadata": {},
   "source": [
    "## Cyclic Dependencies\n",
    "\n",
    "Cyclic dependencies occur when one package uses a class of another package and vice versa. \n",
    "These dependencies can lead to a lot of trouble when one of these packages needs to be changed.\n",
    "\n",
    "### Table 2\n",
    "- List packages with cyclic dependencies as an overview"
   ]
  },
  {
   "cell_type": "code",
   "execution_count": null,
   "id": "fa634a4e",
   "metadata": {
    "scrolled": false
   },
   "outputs": [],
   "source": [
    "query_cypher_to_data_frame(\"../cypher/Cyclic_Dependencies/Cyclic_Dependencies_as_List.cypher\")"
   ]
  },
  {
   "attachments": {},
   "cell_type": "markdown",
   "id": "02146c4d",
   "metadata": {},
   "source": [
    "### Table 3\n",
    "- List packages with cyclic dependencies with every dependency in a separate row sorted by the easiest and most valuable resolvable dependency first"
   ]
  },
  {
   "cell_type": "code",
   "execution_count": null,
   "id": "cf49a164",
   "metadata": {},
   "outputs": [],
   "source": [
    "query_cypher_to_data_frame(\"../cypher/Cyclic_Dependencies/Cyclic_Dependencies_as_unwinded_List.cypher\").head(60)"
   ]
  },
  {
   "attachments": {},
   "cell_type": "markdown",
   "id": "3f59da8d",
   "metadata": {},
   "source": [
    "## Interface Segregation Candidates\n",
    "\n",
    "Well known from [Design Principles and Design Patterns by Robert C. Martin](http://staff.cs.utu.fi/~jounsmed/doos_06/material/DesignPrinciplesAndPatterns.pdf), the *Interface Segregation Principle* suggests that software components should have narrow, focused interfaces rather than large, general-purpose ones. The goal is to minimize the dependencies between components and increase modularity, flexibility, and maintainability.\n",
    "\n",
    "Smaller, focused and purpose-driven interfaces\n",
    "\n",
    "- make it easier to modify individual components without affecting the rest of the system.\n",
    "- make it clearer which client is affected by which change.\n",
    "- don’t force their clients to depend on methods they don’t need.\n",
    "- reduce the scope of changes since a change to one component doesn’t affect others.\n",
    "- lead to a more loosely coupled architecture that is easier to understand and maintain.\n",
    "\n",
    "Reference: [Analyze java package metrics in a graph database](https://joht.github.io/johtizen/data/2023/04/21/java-package-metrics-analysis.html#interface-segregation)\n",
    "\n",
    "### How to apply the results\n",
    "\n",
    "If just one method of a type is used, especially in many places, then the result of this method can be used to call e.g. a method or constuct an object instead of using the whole object and then just calling that single method.\n",
    "\n",
    "If there are a couple of methods that are used for a distinct purpose, those could be factored out into a separate interface. The original type can extended/implement the new interface so that there are no breaking changes. Then all the callers, that use only this group of methods, can be changed to the new interface.\n",
    "\n",
    "### Table 4\n",
    "- List top 20 most used combinations of methods of larger Types that might benefit from *Interface Segregation*"
   ]
  },
  {
   "cell_type": "code",
   "execution_count": null,
   "id": "63fb6ba9",
   "metadata": {
    "scrolled": false
   },
   "outputs": [],
   "source": [
    "query_cypher_to_data_frame(\"../cypher/Candidates_for_Interface_Segregation.cypher\").head(20)"
   ]
  },
  {
   "attachments": {},
   "cell_type": "markdown",
   "id": "4be116e8",
   "metadata": {},
   "source": [
    "## Package Usage"
   ]
  },
  {
   "attachments": {},
   "cell_type": "markdown",
   "id": "bb185191",
   "metadata": {},
   "source": [
    "### Types that are used by multiple packages\n",
    "\n",
    "#### Table 5\n",
    "- List the top 20 packages that are used by the highest count of different packages "
   ]
  },
  {
   "cell_type": "code",
   "execution_count": null,
   "id": "36a34924",
   "metadata": {
    "scrolled": false
   },
   "outputs": [],
   "source": [
    "query_cypher_to_data_frame(\"../cypher/Internal_Dependencies/List_types_that_are_used_by_many_different_packages.cypher\").head(20)"
   ]
  },
  {
   "attachments": {},
   "cell_type": "markdown",
   "id": "73dd1b13",
   "metadata": {},
   "source": [
    "### Packages that are used by multiple artifacts\n",
    "\n",
    "#### Table 6\n",
    "- List the top 20 artifacts that only use a few (compared to all existing) packages of another artifact"
   ]
  },
  {
   "cell_type": "code",
   "execution_count": null,
   "id": "bf3d43c5",
   "metadata": {
    "scrolled": true
   },
   "outputs": [],
   "source": [
    "query_cypher_to_data_frame(\"../cypher/Internal_Dependencies/How_many_packages_compared_to_all_existing_are_used_by_dependent_artifacts.cypher\").head(20)"
   ]
  },
  {
   "attachments": {},
   "cell_type": "markdown",
   "id": "d37ba7ae",
   "metadata": {},
   "source": [
    "### Packages that are used by multiple artifacts\n",
    "\n",
    "#### Table 7\n",
    "- List the top 20 packages that only use a few (compared to all existing) types of another package "
   ]
  },
  {
   "cell_type": "code",
   "execution_count": null,
   "id": "74f2a5c8",
   "metadata": {
    "scrolled": false
   },
   "outputs": [],
   "source": [
    "query_cypher_to_data_frame(\"../cypher/Internal_Dependencies/How_many_classes_compared_to_all_existing_in_the_same_package_are_used_by_dependent_packages_across_different_artifacts.cypher\").head(20)"
   ]
  }
 ],
 "metadata": {
  "authors": [
   {
    "name": "JohT"
   }
  ],
  "kernelspec": {
   "display_name": "Python 3 (ipykernel)",
   "language": "python",
   "name": "python3"
  },
  "language_info": {
   "codemirror_mode": {
    "name": "ipython",
    "version": 3
   },
   "file_extension": ".py",
   "mimetype": "text/x-python",
   "name": "python",
   "nbconvert_exporter": "python",
   "pygments_lexer": "ipython3",
   "version": "3.11.4"
  },
  "title": "Object Oriented Design Quality Metrics for Java with Neo4j"
 },
 "nbformat": 4,
 "nbformat_minor": 5
}
