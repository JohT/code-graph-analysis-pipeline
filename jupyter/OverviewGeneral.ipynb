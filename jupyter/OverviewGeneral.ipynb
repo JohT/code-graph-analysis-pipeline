{
 "cells": [
  {
   "attachments": {},
   "cell_type": "markdown",
   "id": "2f0eabc4",
   "metadata": {},
   "source": [
    "# Overview in General\n",
    "<br>  \n",
    "\n",
    "This file contains a general overview of the data in the graph including node labels and relationships types.\n",
    "\n",
    "### References\n",
    "- [jqassistant](https://jqassistant.org)\n",
    "- [Neo4j Python Driver](https://neo4j.com/docs/api/python-driver/current)"
   ]
  },
  {
   "cell_type": "code",
   "execution_count": null,
   "id": "4191f259",
   "metadata": {},
   "outputs": [],
   "source": [
    "import os\n",
    "import pandas as pd\n",
    "import matplotlib.pyplot as plot\n",
    "from neo4j import GraphDatabase"
   ]
  },
  {
   "cell_type": "code",
   "execution_count": null,
   "id": "1c5dab37",
   "metadata": {},
   "outputs": [],
   "source": [
    "# Please set the environment variable \"NEO4J_INITIAL_PASSWORD\" in your shell \n",
    "# before starting jupyter notebook to provide the password for the user \"neo4j\". \n",
    "# It is not recommended to hardcode the password into jupyter notebook for security reasons.\n",
    "\n",
    "driver = GraphDatabase.driver(uri=\"bolt://localhost:7687\", auth=(\"neo4j\", os.environ.get(\"NEO4J_INITIAL_PASSWORD\")))\n",
    "driver.verify_connectivity()"
   ]
  },
  {
   "cell_type": "code",
   "execution_count": null,
   "id": "c1db254b",
   "metadata": {},
   "outputs": [],
   "source": [
    "def get_cypher_query_from_file(cypher_file_name : str):\n",
    "    with open(cypher_file_name) as file:\n",
    "        return ' '.join(file.readlines())\n",
    "\n",
    "\n",
    "def query_cypher_to_data_frame(filename : str, limit: int = -1):\n",
    "    \"\"\"\n",
    "    Execute the Cypher query of the given file and returns the result.\n",
    "    filename : str : The name of the file containing the Cypher query\n",
    "    limit : int : The optional limit of rows to optimize the query. Default = -1 = no limit\n",
    "    \"\"\"\n",
    "    cypher_query = get_cypher_query_from_file(filename)\n",
    "    if limit > 0:\n",
    "        cypher_query = \"{query}\\nLIMIT {row_limit}\".format(query = cypher_query, row_limit = limit)\n",
    "    records, summary, keys = driver.execute_query(cypher_query)\n",
    "    return pd.DataFrame([r.values() for r in records], columns=keys)"
   ]
  },
  {
   "cell_type": "code",
   "execution_count": null,
   "id": "1cff8d0e",
   "metadata": {},
   "outputs": [],
   "source": [
    "def group_to_others_below_threshold(data_frame : pd.DataFrame, value_column : str, name_column: str, threshold: float) -> pd.DataFrame:    \n",
    "    \"\"\"\n",
    "    Adds a new percentage column for the value column and \n",
    "    groups all values below the given threshold to \"others\" in the name column.\n",
    "\n",
    "    Parameters:\n",
    "    - data_frame (pd.DataFrame): Input pandas DataFrame\n",
    "    - value_column (str): Name of the column that contains the numeric value\n",
    "    - name_column (str): Name of the column that contains the group name that will be replaced by \"others\" for small values\n",
    "    - threshold (float): Threshold in % that is used to group values below it into the \"others\" group\n",
    "\n",
    "    Returns:\n",
    "    int:Returning value\n",
    "\n",
    "    \"\"\"\n",
    "    result_data_frame = data_frame[[name_column, value_column]].copy();\n",
    "\n",
    "    percent_column_name = value_column + 'Percent';\n",
    "\n",
    "    # Add column with the name given in \"percent_column_name\" with the percentage of the value column.\n",
    "    result_data_frame[percent_column_name] = result_data_frame[value_column] / result_data_frame[value_column].sum() * 100.0;\n",
    "\n",
    "    # Convert name column to string values if it wasn't of that type before\n",
    "    result_data_frame[name_column] = result_data_frame[name_column].astype(str)\n",
    "\n",
    "    # Change the group name to \"others\" if it is called less than the specified threshold\n",
    "    result_data_frame.loc[result_data_frame[percent_column_name] < threshold, name_column] = 'others';\n",
    "\n",
    "    # Group by name column (foremost the new \"others\" entries) and sum their percentage\n",
    "    #result_data_frame = result_data_frame.groupby(name_column)[percent_column_name].sum();\n",
    "    result_data_frame = result_data_frame.groupby(name_column).sum();\n",
    "    # Sort by values descending\n",
    "    #return result_data_frame.sort_values(ascending=False).to_frame();\n",
    "    return result_data_frame.sort_values(by=percent_column_name, ascending=False);"
   ]
  },
  {
   "cell_type": "code",
   "execution_count": null,
   "id": "47d035a0",
   "metadata": {},
   "outputs": [],
   "source": [
    "def explode_index_value(input: pd.DataFrame, index_value_to_emphasize: str = 'others', base_value: float = 0.02, emphasize_value: float = 0.2):\n",
    "    \"\"\"\n",
    "    \"Explode\" offsets slices in a pie chart plot by a given value.\n",
    "    The specified index value will be emphasized with a larger value to make it stand out in the pie chart plot.\n",
    "\n",
    "    Parameters:\n",
    "    - input (pd.DataFrame): Input pandas DataFrame with the data that will be plot. (Required)\n",
    "    - index_value_to_emphasize (str): Value of the index that will be emphasized. (Default= 'others')\n",
    "    - base_value (float): Base value for all pies in the chart. (Default=0.02)\n",
    "    - emphasize_value (float): Value for the emphasized pie in the chart. (Default=0.2)\n",
    "\n",
    "    Returns:\n",
    "    Array with the same size as the number of rows/pies to plot containing the \"explode\" value for each of them\n",
    "\n",
    "    \"\"\"\n",
    "    # Each entry in the list corresponds to an x value\n",
    "    # The comparison with the index_value_to_emphasize produces an array of booleans where nth entry with the emphasized value is \"true\"\n",
    "    # Multiplying it leads to 1 for True and 0 for False therefore \"exploding\" the emphasized entry whilst \n",
    "    return (input.index == index_value_to_emphasize) * emphasize_value + base_value     "
   ]
  },
  {
   "cell_type": "code",
   "execution_count": null,
   "id": "ae2e12bd",
   "metadata": {},
   "outputs": [],
   "source": [
    "def plot_pie_chart(input_data_frame: pd.DataFrame, title: str):\n",
    "    if input_data_frame.empty:\n",
    "        print(\"No data to plot for title '\" + title + \"'.\")\n",
    "        return\n",
    "\n",
    "    plot.figure();\n",
    "    \n",
    "    name_of_the_first_column_containing_the_values=input_data_frame.columns[0]\n",
    "    total_sum = input_data_frame[name_of_the_first_column_containing_the_values].sum()\n",
    "    \n",
    "    def custom_auto_percentage_format(percentage):\n",
    "        return '{:1.2f}% ({:.0f})'.format(percentage, total_sum * percentage / 100.0)\n",
    "\n",
    "    axis = input_data_frame.plot(\n",
    "        kind='pie',\n",
    "        y=name_of_the_first_column_containing_the_values + 'Percent',\n",
    "        ylabel='',\n",
    "        legend=True,\n",
    "        labeldistance=None,\n",
    "        autopct=custom_auto_percentage_format,\n",
    "        textprops={'fontsize': 6},\n",
    "        pctdistance=1.15,\n",
    "        cmap=main_color_map,\n",
    "        figsize=(9,9),\n",
    "        explode=explode_index_value(input_data_frame, index_value_to_emphasize='others')\n",
    "    )\n",
    "    plot.title(title, pad=15)\n",
    "    axis.legend(bbox_to_anchor=(1.08, 1), loc='upper left')\n",
    "    plot.show()"
   ]
  },
  {
   "cell_type": "code",
   "execution_count": null,
   "id": "da9e8edb",
   "metadata": {},
   "outputs": [],
   "source": [
    "#The following cell uses the build-in %html \"magic\" to override the CSS style for tables to a much smaller size.\n",
    "#This is especially needed for PDF export of tables with multiple columns."
   ]
  },
  {
   "cell_type": "code",
   "execution_count": null,
   "id": "9deaabce",
   "metadata": {},
   "outputs": [],
   "source": [
    "%%html\n",
    "<style>\n",
    "/* CSS style for smaller dataframe tables. */\n",
    ".dataframe th {\n",
    "    font-size: 8px;\n",
    "}\n",
    ".dataframe td {\n",
    "    font-size: 8px;\n",
    "}\n",
    "</style>"
   ]
  },
  {
   "cell_type": "code",
   "execution_count": null,
   "id": "c2496caf",
   "metadata": {},
   "outputs": [],
   "source": [
    "# Main Colormap\n",
    "main_color_map = 'nipy_spectral'"
   ]
  },
  {
   "cell_type": "markdown",
   "id": "0c68aa20",
   "metadata": {},
   "source": [
    "## Node Labels"
   ]
  },
  {
   "cell_type": "markdown",
   "id": "8333d13e",
   "metadata": {},
   "source": [
    "### Table 1a - Highest node count by label combination\n",
    "\n",
    "Lists the 30 label combinations with the highest number of nodes. The labels with the lowest node count are listed in table 1b.\n",
    "The total list would sum up to the total number of labels (100%).\n",
    "\n",
    "The whole table can be found in the CSV report `Node_label_combination_count`."
   ]
  },
  {
   "cell_type": "code",
   "execution_count": null,
   "id": "f4ddd4d4",
   "metadata": {},
   "outputs": [],
   "source": [
    "node_count_by_label_combination = query_cypher_to_data_frame(\"../cypher/Overview/Node_label_combination_count.cypher\")\n",
    "node_count_by_label_combination.head(30)"
   ]
  },
  {
   "cell_type": "markdown",
   "id": "fda95ffc",
   "metadata": {},
   "source": [
    "### Chart 1a - Highest node count by label combination\n",
    "\n",
    "Values under 0.5% will be grouped into \"others\" to get a cleaner plot. The group \"others\" is then broken down in Chart 1b."
   ]
  },
  {
   "cell_type": "code",
   "execution_count": null,
   "id": "9709619a",
   "metadata": {},
   "outputs": [],
   "source": [
    "node_count_by_label_combination_significant = group_to_others_below_threshold(\n",
    "    data_frame=node_count_by_label_combination,\n",
    "    value_column='nodesWithThatLabels',\n",
    "    name_column='nodeLabels',\n",
    "    threshold= 0.5\n",
    ");\n",
    "plot_pie_chart(\n",
    "    input_data_frame=node_count_by_label_combination_significant,\n",
    "    title='Nodes per label combination (more than 0.5% overall)'\n",
    ")"
   ]
  },
  {
   "cell_type": "markdown",
   "id": "15767f9d",
   "metadata": {},
   "source": [
    "### Table 1b - Lowest node count by label combination\n",
    "\n",
    "Lists the 30 label combinations with the lowest number of nodes until they reach 0.5% of the total node count, which are shown above."
   ]
  },
  {
   "cell_type": "code",
   "execution_count": null,
   "id": "bfa4006b",
   "metadata": {},
   "outputs": [],
   "source": [
    "node_count_by_label_combination_lowest_first=node_count_by_label_combination.sort_values(by='nodesWithThatLabels', ascending=True)\n",
    "node_count_by_label_combination_lowest_first=node_count_by_label_combination_lowest_first.query(\"`nodesWithThatLabelsPercent` <= 0.50\")\n",
    "\n",
    "node_count_by_label_combination_lowest_first = node_count_by_label_combination_lowest_first.reset_index(drop=True)\n",
    "node_count_by_label_combination_lowest_first.head(30)"
   ]
  },
  {
   "cell_type": "markdown",
   "id": "049223d8",
   "metadata": {},
   "source": [
    "### Chart 1b - Lowest node count by label combination\n",
    "\n",
    "Shows the lowest (less than 0.5% overall) node count label combinations. Therefore, this plot breaks down the \"others\" slice of the pie chart above. Values under 0.01% will be grouped into \"others\" to get a cleaner plot."
   ]
  },
  {
   "cell_type": "code",
   "execution_count": null,
   "id": "509a9b6a",
   "metadata": {},
   "outputs": [],
   "source": [
    "\n",
    "node_count_by_label_combination_lowest_first_significant = group_to_others_below_threshold(\n",
    "    data_frame=node_count_by_label_combination_lowest_first,\n",
    "    value_column='nodesWithThatLabels',\n",
    "    name_column='nodeLabels',\n",
    "    threshold= 0.3\n",
    ");\n",
    "plot_pie_chart(\n",
    "    input_data_frame=node_count_by_label_combination_lowest_first_significant,\n",
    "    title='Nodes per label combination (less than 0.5% overall)'\n",
    ")"
   ]
  },
  {
   "cell_type": "markdown",
   "id": "5bb063fe",
   "metadata": {},
   "source": [
    "### Table 1c - Highest node count by single label\n",
    "\n",
    "Lists the 40 labels with the highest number of nodes.\n",
    "Doesn't sum up to the total number of nodes or 100% because one node can have multiple labels.\n",
    "Helps to identify commonly used labels."
   ]
  },
  {
   "cell_type": "code",
   "execution_count": null,
   "id": "444d5847",
   "metadata": {},
   "outputs": [],
   "source": [
    "node_count_by_every_label = query_cypher_to_data_frame(\"../cypher/Overview/Node_label_count.cypher\")\n",
    "node_count_by_every_label.head(40)"
   ]
  },
  {
   "cell_type": "markdown",
   "id": "48465382",
   "metadata": {},
   "source": [
    "### Chart 1c - Highest node count by label\n",
    "\n",
    "Shows the 40 labels with the highest number of nodes."
   ]
  },
  {
   "cell_type": "code",
   "execution_count": null,
   "id": "f8d67442",
   "metadata": {},
   "outputs": [],
   "source": [
    "if node_count_by_every_label.empty:\n",
    "    print(\"No data to plot\")\n",
    "else:\n",
    "    plot.figure();\n",
    "    fig, axes = plot.subplots(nrows=2, ncols=2)\n",
    "    \n",
    "    fig.suptitle('Node count by label', fontsize=20)\n",
    "\n",
    "    node_count_by_every_label.head(10).plot(\n",
    "        ax=axes[0, 0],\n",
    "        kind='bar', \n",
    "        grid=True,\n",
    "        x='nodeLabel',\n",
    "        y='nodesWithThatLabel',\n",
    "        xlabel='node label',\n",
    "        ylabel='number of nodes',\n",
    "        figsize=(10,10),\n",
    "        legend=False,\n",
    "        fontsize=8\n",
    "    )\n",
    "    node_count_by_every_label.head(20).tail(10).plot(\n",
    "        ax=axes[0, 1],\n",
    "        kind='bar', \n",
    "        grid=True,\n",
    "        x='nodeLabel',\n",
    "        y='nodesWithThatLabel',\n",
    "        xlabel='node label',\n",
    "        ylabel='number of nodes',\n",
    "        figsize=(10,10),\n",
    "        legend=False,\n",
    "        fontsize=8\n",
    "    )\n",
    "    node_count_by_every_label.head(30).tail(10).plot(\n",
    "        ax=axes[1,0],\n",
    "        kind='bar', \n",
    "        grid=True,\n",
    "        x='nodeLabel',\n",
    "        y='nodesWithThatLabel',\n",
    "        xlabel='node label',\n",
    "        ylabel='number of nodes',\n",
    "        figsize=(10,10),\n",
    "        legend=False,\n",
    "        fontsize=8\n",
    "    )\n",
    "    node_count_by_every_label.head(40).tail(10).plot(\n",
    "        ax=axes[1,1],\n",
    "        kind='bar', \n",
    "        grid=True,\n",
    "        x='nodeLabel',\n",
    "        y='nodesWithThatLabel',\n",
    "        xlabel='node label',\n",
    "        ylabel='number of nodes',\n",
    "        figsize=(10,10),\n",
    "        legend=False,\n",
    "        fontsize=8\n",
    "    )\n",
    "    plot.show()"
   ]
  },
  {
   "cell_type": "markdown",
   "id": "a278e5ed",
   "metadata": {},
   "source": [
    "## Relationship Types"
   ]
  },
  {
   "cell_type": "markdown",
   "id": "ec60e9b8",
   "metadata": {},
   "source": [
    "### Table 2a - Highest relationship count by type\n",
    "\n",
    "Lists the 30 relationship types with the highest number of occurrences.\n",
    "The whole table can be found in the CSV report `Relationship_type_count`."
   ]
  },
  {
   "cell_type": "code",
   "execution_count": null,
   "id": "f1890c1c",
   "metadata": {},
   "outputs": [],
   "source": [
    "relationship_count_by_type = query_cypher_to_data_frame(\"../cypher/Overview/Relationship_type_count.cypher\")\n",
    "total_number_of_relationships = relationship_count_by_type['nodesWithThatRelationshipType'].sum()\n",
    "print(\"Total number of relationships:\", total_number_of_relationships)\n",
    "relationship_count_by_type.head(30)"
   ]
  },
  {
   "cell_type": "markdown",
   "id": "19a46b5a",
   "metadata": {},
   "source": [
    "### Chart 2a - Highest relationship count by type\n",
    "\n",
    "Values under 0.5% will be grouped into \"others\" to get a cleaner plot. The group \"others\" is then broken down in the second chart."
   ]
  },
  {
   "cell_type": "code",
   "execution_count": null,
   "id": "af481322",
   "metadata": {},
   "outputs": [],
   "source": [
    "relationship_count_by_type_significant = group_to_others_below_threshold(\n",
    "    data_frame=relationship_count_by_type,\n",
    "    value_column='nodesWithThatRelationshipType',\n",
    "    name_column='relationshipType',\n",
    "    threshold= 0.5\n",
    ");\n",
    "plot_pie_chart(\n",
    "    input_data_frame=relationship_count_by_type_significant,\n",
    "    title='Relationship types (more than 0.5% overall)'\n",
    ")"
   ]
  },
  {
   "cell_type": "markdown",
   "id": "874dde4b",
   "metadata": {},
   "source": [
    "### Table 2b - Lowest relationship count by type\n",
    "\n",
    "Lists the 30 relationships type with the lowest number of occurrences up to 0.5% of the total node count. This is essentially breaking down the \"others\" slice from the chart above."
   ]
  },
  {
   "cell_type": "code",
   "execution_count": null,
   "id": "7ee0bdf9",
   "metadata": {},
   "outputs": [],
   "source": [
    "relationship_count_by_type_lowest_first=relationship_count_by_type.sort_values(by='nodesWithThatRelationshipType', ascending=True)\n",
    "relationship_count_by_type_lowest_first=relationship_count_by_type_lowest_first.query(\"`nodesWithThatRelationshipTypePercent` <= 0.50\")\n",
    "\n",
    "relationship_count_by_type_lowest_first = relationship_count_by_type_lowest_first.reset_index(drop=True)\n",
    "relationship_count_by_type_lowest_first.head(30)"
   ]
  },
  {
   "cell_type": "markdown",
   "id": "a0c6498f",
   "metadata": {},
   "source": [
    "### Chart 2b - Lowest relationship count by type\n",
    "\n",
    "Shows the lowest (less than 0.5% overall) relationship types. This plot breaks down the \"others\" slice of the pie chart above. Values under 0.01% will be grouped into \"others\" to get a cleaner plot."
   ]
  },
  {
   "cell_type": "code",
   "execution_count": null,
   "id": "794be50f",
   "metadata": {},
   "outputs": [],
   "source": [
    "relationship_count_by_type_lowest_first_significant = group_to_others_below_threshold(\n",
    "    data_frame=relationship_count_by_type_lowest_first,\n",
    "    value_column='nodesWithThatRelationshipType',\n",
    "    name_column='relationshipType',\n",
    "    threshold= 0.3\n",
    ");\n",
    "plot_pie_chart(\n",
    "    input_data_frame=relationship_count_by_type_lowest_first_significant,\n",
    "    title='Relationship types (less than 0.5% overall)'\n",
    ")"
   ]
  },
  {
   "cell_type": "markdown",
   "id": "926e821e",
   "metadata": {},
   "source": [
    "## Node labels with their relationships"
   ]
  },
  {
   "cell_type": "markdown",
   "id": "681846c7",
   "metadata": {},
   "source": [
    "### Table 3a - Highest relationship count by node labels and relationship type\n",
    "\n",
    "Lists the 30 node labels and their relationship types with the highest number of occurrences."
   ]
  },
  {
   "cell_type": "code",
   "execution_count": null,
   "id": "01ff80b3",
   "metadata": {},
   "outputs": [],
   "source": [
    "query_cypher_to_data_frame(\"../cypher/Overview/Node_labels_and_their_relationships.cypher\", limit=30)\n"
   ]
  },
  {
   "cell_type": "markdown",
   "id": "7141e72f",
   "metadata": {},
   "source": [
    "## Graph Density"
   ]
  },
  {
   "cell_type": "code",
   "execution_count": null,
   "id": "59e6c6f6",
   "metadata": {},
   "outputs": [],
   "source": [
    "total_number_of_nodes = node_count_by_label_combination['nodesWithThatLabels'].sum()\n",
    "\n",
    "print(\"total_number_of_nodes (vertices):\", total_number_of_nodes)\n",
    "print(\"total_number_of_relationships (edges):\", total_number_of_relationships)\n",
    "\n",
    "total_directed_graph_density=total_number_of_relationships / (total_number_of_nodes * (total_number_of_nodes - 1))\n",
    "print(\"-> total directed graph density:\", total_directed_graph_density)\n",
    "print(\"-> total directed graph density in percent:\", total_directed_graph_density * 100)"
   ]
  }
 ],
 "metadata": {
  "authors": [
   {
    "name": "JohT"
   }
  ],
  "kernelspec": {
   "display_name": "codegraph",
   "language": "python",
   "name": "python3"
  },
  "language_info": {
   "codemirror_mode": {
    "name": "ipython",
    "version": 3
   },
   "file_extension": ".py",
   "mimetype": "text/x-python",
   "name": "python",
   "nbconvert_exporter": "python",
   "pygments_lexer": "ipython3",
   "version": "3.12.9"
  },
  "title": "Graph Metrics"
 },
 "nbformat": 4,
 "nbformat_minor": 5
}
