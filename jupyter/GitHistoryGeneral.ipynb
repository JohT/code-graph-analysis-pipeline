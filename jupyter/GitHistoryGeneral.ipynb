{
 "cells": [
  {
   "attachments": {},
   "cell_type": "markdown",
   "id": "2f0eabc4",
   "metadata": {},
   "source": [
    "# git log/history\n",
    "<br>  \n",
    "\n",
    "### References\n",
    "- [Visualizing Code: Polyglot Notebooks Repository (YouTube)](https://youtu.be/ipOpToPS-PY?si=3doePt2cp-LgEUmt)\n",
    "- [gitstractor (GitHub)](https://github.com/IntegerMan/gitstractor)\n",
    "- [Neo4j Python Driver](https://neo4j.com/docs/api/python-driver/current)"
   ]
  },
  {
   "cell_type": "code",
   "execution_count": null,
   "id": "4191f259",
   "metadata": {},
   "outputs": [],
   "source": [
    "import os\n",
    "import pandas as pd\n",
    "pd.options.mode.copy_on_write = True\n",
    "\n",
    "from neo4j import GraphDatabase"
   ]
  },
  {
   "cell_type": "code",
   "execution_count": null,
   "id": "c57aadf9",
   "metadata": {},
   "outputs": [],
   "source": [
    "import numpy as np\n",
    "from plotly import graph_objects as plotly_graph_objects\n",
    "from plotly.subplots import make_subplots"
   ]
  },
  {
   "cell_type": "code",
   "execution_count": null,
   "id": "740e64d9",
   "metadata": {},
   "outputs": [],
   "source": [
    "# To be able to distinguish between command line execution and Jupyter notebook execution\n",
    "# we need to check if the environment variable NBCONVERT is set.\n",
    "# The command line execution is required to take care of setting NBCONVERT.\n",
    "def is_command_line_execution():\n",
    "    return 'NBCONVERT' in os.environ\n",
    "\n",
    "default_renderer = None\n",
    "\n",
    "if is_command_line_execution():\n",
    "    print(\"Command line execution (CLI mode): Yes\")\n",
    "    default_renderer = 'svg' # SVG is the default renderer for static (non interactive) pictures for command line execution\n",
    "else:\n",
    "    print(\"Command line execution (CLI mode): No\")"
   ]
  },
  {
   "cell_type": "code",
   "execution_count": null,
   "id": "1c5dab37",
   "metadata": {},
   "outputs": [],
   "source": [
    "# Please set the environment variable \"NEO4J_INITIAL_PASSWORD\" in your shell \n",
    "# before starting jupyter notebook to provide the password for the user \"neo4j\". \n",
    "# It is not recommended to hardcode the password into jupyter notebook for security reasons.\n",
    "\n",
    "driver = GraphDatabase.driver(uri=\"bolt://localhost:7687\", auth=(\"neo4j\", os.environ.get(\"NEO4J_INITIAL_PASSWORD\")))\n",
    "driver.verify_connectivity()"
   ]
  },
  {
   "cell_type": "code",
   "execution_count": null,
   "id": "c1db254b",
   "metadata": {},
   "outputs": [],
   "source": [
    "def get_cypher_query_from_file(cypher_file_name : str):\n",
    "    with open(cypher_file_name) as file:\n",
    "        return ' '.join(file.readlines())"
   ]
  },
  {
   "cell_type": "code",
   "execution_count": null,
   "id": "59310f6f",
   "metadata": {},
   "outputs": [],
   "source": [
    "def query_cypher_to_data_frame(filename : str, limit: int = 10_000):\n",
    "    cypher_query_template = \"{query}\\nLIMIT {row_limit}\"\n",
    "    cypher_query = get_cypher_query_from_file(filename)\n",
    "    cypher_query = cypher_query_template.format(query = cypher_query, row_limit = limit)\n",
    "    records, summary, keys = driver.execute_query(cypher_query)\n",
    "    return pd.DataFrame([r.values() for r in records], columns=keys)"
   ]
  },
  {
   "cell_type": "code",
   "execution_count": null,
   "id": "c09da482",
   "metadata": {},
   "outputs": [],
   "source": [
    "def query_first_non_empty_cypher_to_data_frame(*filenames : str, limit: int = 10_000):\n",
    "    \"\"\"\n",
    "    Executes the Cypher queries of the given files and returns the first result that is not empty.\n",
    "    If all given file names result in empty results, the last (empty) result will be returned.\n",
    "    By additionally specifying \"limit=\" the \"LIMIT\" keyword will appended to query so that only the first results get returned.\n",
    "    \"\"\"    \n",
    "    result=pd.DataFrame()\n",
    "    for filename in filenames:\n",
    "        result=query_cypher_to_data_frame(filename, limit)\n",
    "        if not result.empty:\n",
    "            return result\n",
    "    return result"
   ]
  },
  {
   "cell_type": "code",
   "execution_count": null,
   "id": "a56670c9",
   "metadata": {},
   "outputs": [],
   "source": [
    "#The following cell uses the build-in %html \"magic\" to override the CSS style for tables to a much smaller size.\n",
    "#This is especially needed for PDF export of tables with multiple columns."
   ]
  },
  {
   "cell_type": "code",
   "execution_count": null,
   "id": "006b9dc8",
   "metadata": {},
   "outputs": [],
   "source": [
    "%%html\n",
    "<style>\n",
    "/* CSS style for smaller dataframe tables. */\n",
    ".dataframe th {\n",
    "    font-size: 8px;\n",
    "}\n",
    ".dataframe td {\n",
    "    font-size: 8px;\n",
    "}\n",
    "</style>"
   ]
  },
  {
   "cell_type": "code",
   "execution_count": null,
   "id": "6323e85e",
   "metadata": {},
   "outputs": [],
   "source": [
    "# Pandas DataFrame Display Configuration\n",
    "pd.set_option('display.max_colwidth', 300)"
   ]
  },
  {
   "cell_type": "markdown",
   "id": "fe17f2aa",
   "metadata": {},
   "source": [
    "## Git History - Directory Commit Statistics"
   ]
  },
  {
   "cell_type": "code",
   "execution_count": null,
   "id": "7f37df7c",
   "metadata": {},
   "outputs": [],
   "source": [
    "# The first part provides functions that provide basic functionality for the following parts."
   ]
  },
  {
   "cell_type": "markdown",
   "id": "01da524e",
   "metadata": {},
   "source": [
    "### Treemap Layout Functions and Constants"
   ]
  },
  {
   "cell_type": "code",
   "execution_count": null,
   "id": "841967e5",
   "metadata": {},
   "outputs": [],
   "source": [
    "# Base settings for Plotly Treemap\n",
    "\n",
    "plotly_treemap_base_settings = dict(\n",
    "    color_continuous_scale='Hot_r',  # Hot_r, amp, Reds, Blackbody_r, RdGy_r, RdBu_r\n",
    "    path=['gitRepositoryName', 'directoryParentName', 'directoryName'],\n",
    "    maxdepth=-1\n",
    ")\n",
    "plotly_treemap_traces_base_settings = dict(\n",
    "    root_color=\"lightgrey\",\n",
    "    textinfo=\"label+value\",\n",
    "    marker=dict(cornerradius=5),\n",
    ")\n",
    "plotly_treemap_layout_base_settings = dict(\n",
    "    margin=dict(t=50, l=15, r=15, b=15),\n",
    ")\n",
    "plotly_treemap_figure_base_settings = dict(\n",
    "    renderer=\"svg\" if is_command_line_execution() else None,\n",
    "    width=1000,\n",
    "    height=550\n",
    ")"
   ]
  },
  {
   "cell_type": "code",
   "execution_count": null,
   "id": "95066d93",
   "metadata": {},
   "outputs": [],
   "source": [
    "# Common settings for commit statistics of git file directories with Plotly Treemap\n",
    "\n",
    "plotly_treemap_commit_statistics_settings = dict(\n",
    "    **plotly_treemap_base_settings,\n",
    "    custom_data=['commitCount', 'authorCount', 'lastCommitDate', 'daysSinceLastCommit', 'lastCreationDate', 'daysSinceLastCreation', 'lastModificationDate', 'daysSinceLastModification' , 'directoryPath'],\n",
    ")\n",
    "# Provide alternative color scale for diverging values\n",
    "plotly_treemap_commit_statistics_settings_with_diverging_color_scale = plotly_treemap_commit_statistics_settings.copy()\n",
    "plotly_treemap_commit_statistics_settings_with_diverging_color_scale.update({'color_continuous_scale':'RdBu'})\n",
    "plotly_treemap_commit_statistics_settings_with_reverse_color_scale = plotly_treemap_commit_statistics_settings.copy()\n",
    "plotly_treemap_commit_statistics_settings_with_reverse_color_scale.update({'color_continuous_scale':'Hot'})\n",
    "\n",
    "plotly_treemap_traces_commit_statistics_settings = dict(\n",
    "    **plotly_treemap_traces_base_settings,\n",
    "    hovertemplate='<b>%{label}</b><br>Commits: %{customdata[0]}<br>Authors: %{customdata[1]}<br>Last Commit: %{customdata[2]} (%{customdata[3]} days ago)<br>Last Created: %{customdata[4]} (%{customdata[5]} days ago)<br>Last Modified: %{customdata[6]} (%{customdata[7]} days ago)<br>Path: %{customdata[8]}',\n",
    ")"
   ]
  },
  {
   "cell_type": "code",
   "execution_count": null,
   "id": "b8cc624a",
   "metadata": {},
   "outputs": [],
   "source": [
    "def create_treemap_commit_statistics_settings(data_frame: pd.DataFrame):\n",
    "    \"\"\"\n",
    "    Creates a Plotly Treemap with the given settings and data frame.\n",
    "    data_frame : pd.DataFrame : The input data frame\n",
    "    return :plotly_graph_objects.Treemap : The prepared Plotly Treemap\n",
    "    \"\"\"\n",
    "    return plotly_graph_objects.Treemap(\n",
    "        labels=data_frame['directoryName'],\n",
    "        parents=data_frame['directoryParentPath'],\n",
    "        ids=data_frame['directoryPath'],\n",
    "        customdata=data_frame[['fileCount', 'commitCount', 'authorCount', 'lastCommitDate', 'daysSinceLastCommit', 'lastCreationDate', 'daysSinceLastCreation', 'lastModificationDate', 'daysSinceLastModification', 'directoryPath']],\n",
    "        hovertemplate='<b>%{label}</b><br>Files: %{customdata[0]}<br>Commits: %{customdata[1]}<br>Authors: %{customdata[2]}<br>Last Commit: %{customdata[3]} (%{customdata[4]} days ago)<br>Last Created: %{customdata[5]} (%{customdata[6]} days ago)<br>Last Modified: %{customdata[7]} (%{customdata[8]} days ago)<br>Path: %{customdata[9]}',\n",
    "        maxdepth=-1,\n",
    "        root_color=\"lightgrey\",\n",
    "        marker=dict(cornerradius=5),\n",
    "    )"
   ]
  },
  {
   "cell_type": "markdown",
   "id": "acacc415",
   "metadata": {},
   "source": [
    "### Data Preparation Functions"
   ]
  },
  {
   "cell_type": "code",
   "execution_count": null,
   "id": "83077395",
   "metadata": {},
   "outputs": [],
   "source": [
    "def add_quantile_limited_column(input_data_frame : pd.DataFrame, column_name : str, quantile : float = 0.95) -> pd.DataFrame:\n",
    "    \"\"\"\n",
    "    Limits the values of the given column in the input data frame to the given quantile.\n",
    "    The values are not filtered out but set to the limited (integer quantile value).\n",
    "    input_data_frame : pd.DataFrame : The input data frame\n",
    "    column_name : str : The name of the column to limit\n",
    "    quantile : float : The quantile to limit the values to (default: 0.95)\n",
    "    return : pd.DataFrame : The modified dataframe with the added column (column_name + '_limited')\n",
    "    \"\"\"\n",
    "    data_frame=input_data_frame.copy()\n",
    "    column_values = data_frame[column_name]\n",
    "    column_limit = column_values.quantile(quantile)\n",
    "    data_frame[column_name + '_limited'] = np.where(column_values > column_limit, column_limit, column_values)\n",
    "    return data_frame"
   ]
  },
  {
   "cell_type": "code",
   "execution_count": null,
   "id": "16f9060d",
   "metadata": {},
   "outputs": [],
   "source": [
    "def add_rank_column(input_data_frame : pd.DataFrame, column_name : str) -> pd.DataFrame:\n",
    "    \"\"\"\n",
    "    Adds a rank column (\"dense\" mode) to the input data frame based on the given column name.\n",
    "    input_data_frame : pd.DataFrame : The input data frame\n",
    "    column_name : str : The name of the column to rank\n",
    "    return : pd.DataFrame : The modified dataframe with the added rank column\n",
    "    \"\"\"\n",
    "    data_frame=input_data_frame.copy()\n",
    "    data_frame[column_name + '_rank'] = data_frame[column_name].rank(ascending=True, method='dense')\n",
    "    return data_frame"
   ]
  },
  {
   "cell_type": "code",
   "execution_count": null,
   "id": "009a7222",
   "metadata": {},
   "outputs": [],
   "source": [
    "def filter_out_non_existing_parent_ids(data_frame: pd.DataFrame, parent_column: str, id_column: str):\n",
    "    \"\"\"\n",
    "    Filters out all rows with a parent ID where there is no entry in the ID column.\n",
    "    data_frame : pd.DataFrame : The input data frame\n",
    "    parent_column : str : The name of the parent column\n",
    "    id_column : str : The name of the ID column\n",
    "    return : pd.DataFrame : The filtered data frame\n",
    "    \"\"\"\n",
    "    list_of_ids = data_frame[id_column].tolist() + ['']\n",
    "    # For Debugging\n",
    "    problems = data_frame[~data_frame[parent_column].isin(list_of_ids)]\n",
    "    if problems.empty:\n",
    "        display(\"No problems with non-existing parent IDs found.\")\n",
    "    else:\n",
    "        print('\\033[31mFiltered out rows with non-existing parent IDs. See the entries in the table below.\\033[0m')\n",
    "        display(problems)\n",
    "    return data_frame[data_frame[parent_column].isin(list_of_ids)]\n",
    "\n",
    "def replace_empty_parent_by_repository_name(data_frame: pd.DataFrame, column_name: str, repository_column_name: str = ''):\n",
    "    \"\"\"\n",
    "    Replaces the value 'root' in the given column by the repository name.\n",
    "    data_frame : pd.DataFrame : The input data frame\n",
    "    column_name : str : The name of the column\n",
    "    gitRepositoryName : str : The name of the column that contains the value to be used instead of an empty root\n",
    "    return : pd.DataFrame : The modified data frame\n",
    "    \"\"\"\n",
    "    repository_names = data_frame[repository_column_name]\n",
    "    data_frame[column_name] = data_frame[column_name].replace(\"\", np.NaN).fillna(repository_names)\n",
    "\n",
    "    return data_frame\n",
    "\n",
    "def prepare_treemap_commit_statistics_data(data_frame: pd.DataFrame) -> pd.DataFrame:\n",
    "    \"\"\"\n",
    "    data_frame : pd.DataFrame : The input data frame\n",
    "    return : pd.DataFrame : The data frame prepared for treemap visualization\n",
    "    \"\"\"\n",
    "    prepared_data = data_frame\n",
    "    prepared_data = filter_out_non_existing_parent_ids(prepared_data, 'directoryParentPath', 'directoryPath')\n",
    "    prepared_data = filter_out_non_existing_parent_ids(prepared_data, 'directoryParentPath', 'directoryPath')\n",
    "    prepared_data = replace_empty_parent_by_repository_name(prepared_data, 'directoryParentPath', 'gitRepositoryName')\n",
    "    return prepared_data"
   ]
  },
  {
   "cell_type": "markdown",
   "id": "0b717f80",
   "metadata": {},
   "source": [
    "### Function to split file path levels"
   ]
  },
  {
   "cell_type": "code",
   "execution_count": null,
   "id": "6581ec23",
   "metadata": {},
   "outputs": [],
   "source": [
    "# TODO Still needed?\n",
    "\n",
    "def fill_array_to_length(length: int, fill_value=''):\n",
    "    \"\"\"\n",
    "    Fills the input array with the given fill value to the given length.\n",
    "    array : list : The input array\n",
    "    length : int : The length to fill the array to\n",
    "    fill_value : any : The value to fill the array with (default: '')\n",
    "    return : list : The filled array\n",
    "    \"\"\"\n",
    "    def fill_array(array: list):\n",
    "        return array + [fill_value] * (length - len(array))\n",
    "    return fill_array\n",
    "\n",
    "def add_file_path_levels(input_dataframe: pd.DataFrame, file_path_column: str, delimiter: str = '/'):\n",
    "    \"\"\"\n",
    "    Adds hierarchical levels to a DataFrame based on a file path column.\n",
    "    input_dataframe : pd.DataFrame : The input DataFrame\n",
    "    file_path_column : str : The name of the file path column\n",
    "    delimiter : str : The delimiter used to split the file path (default: '/')\n",
    "    return : pd.DataFrame : The DataFrame with added hierarchical levels\n",
    "    \"\"\"\n",
    "\n",
    "    # Get longest path length in the DataFrame\n",
    "    max_path_length = input_dataframe[file_path_column].str.count(delimiter).max() + 1\n",
    "\n",
    "    # Split the file path column into multiple columns based on the delimiter and align the array to the right so that there are no null leaf nodes with obj.ffill()\n",
    "    dataframe_split = input_dataframe[file_path_column].str.split(delimiter).apply(fill_array_to_length(max_path_length)).apply(pd.Series)\n",
    "\n",
    "    # Prefix each column in df_split with 'level'\n",
    "    dataframe_split.columns = [f'level_{i+1}' for i in dataframe_split.columns]\n",
    "\n",
    "    # Join df with df_split\n",
    "    return input_dataframe.copy().join(dataframe_split), dataframe_split.columns.tolist()"
   ]
  },
  {
   "cell_type": "markdown",
   "id": "2d0df211",
   "metadata": {},
   "source": [
    "### Data Preview"
   ]
  },
  {
   "cell_type": "code",
   "execution_count": null,
   "id": "9c9de7c5",
   "metadata": {},
   "outputs": [],
   "source": [
    "git_file_directories_with_commit_statistics = query_cypher_to_data_frame(\"../cypher/GitLog/List_git_files_directories_with_commit_statistics.cypher\")\n",
    "git_file_directories_with_commit_statistics = prepare_treemap_commit_statistics_data(git_file_directories_with_commit_statistics)\n",
    "\n",
    "# Show a preview of the first 20 directories with the highest file count\n",
    "display(\"Data Preview ------------------\")\n",
    "git_file_directories_with_commit_statistics.sort_values(by=\"fileCount\", ascending=False).head(10)"
   ]
  },
  {
   "cell_type": "markdown",
   "id": "80338c9c",
   "metadata": {},
   "source": [
    "### Null Checks"
   ]
  },
  {
   "cell_type": "code",
   "execution_count": null,
   "id": "6f95993e",
   "metadata": {},
   "outputs": [],
   "source": [
    "# Null values in the DataFrame\n",
    "git_file_directories_with_commit_statistics.isnull().sum() "
   ]
  },
  {
   "cell_type": "markdown",
   "id": "5262bebf",
   "metadata": {},
   "source": [
    "### Check for multiple root directories"
   ]
  },
  {
   "cell_type": "code",
   "execution_count": null,
   "id": "10076683",
   "metadata": {},
   "outputs": [],
   "source": [
    "# Take the dataframe \"git_file_directories_with_commit_statistics\" and find values (=directories) in column \"directoryPath\", that have multiple parents (column \"directoryParentPath\").\n",
    "\n",
    "# Find directories with multiple parents\n",
    "directories_with_multiple_parents = git_file_directories_with_commit_statistics.groupby('directoryPath').filter(lambda x: len(x) > 1)\n",
    "directories_with_multiple_parents"
   ]
  },
  {
   "cell_type": "markdown",
   "id": "1096811a",
   "metadata": {},
   "source": [
    "### TODO solve recursive missing parent directories issues\n",
    "`WHERE NOT git_file.relativePath STARTS WITH 'docs/deadlines-guide/modules/ROOT/pages'`"
   ]
  },
  {
   "cell_type": "markdown",
   "id": "ccc11f52",
   "metadata": {},
   "source": [
    "### Directories by file count"
   ]
  },
  {
   "cell_type": "code",
   "execution_count": null,
   "id": "19d108bb",
   "metadata": {},
   "outputs": [],
   "source": [
    "figure = plotly_graph_objects.Figure(plotly_graph_objects.Treemap(\n",
    "    create_treemap_commit_statistics_settings(git_file_directories_with_commit_statistics),\n",
    "    values = git_file_directories_with_commit_statistics['fileCount'],\n",
    "))\n",
    "figure.update_layout(\n",
    "    **plotly_treemap_layout_base_settings,\n",
    "    title='Directories and their file count'\n",
    ")\n",
    "figure.show()"
   ]
  },
  {
   "cell_type": "markdown",
   "id": "e98ca7b1",
   "metadata": {},
   "source": [
    "### Number of commits per directory"
   ]
  },
  {
   "cell_type": "code",
   "execution_count": null,
   "id": "3b05c773",
   "metadata": {},
   "outputs": [],
   "source": [
    "git_commit_count_per_directory = add_quantile_limited_column(git_file_directories_with_commit_statistics, \"commitCount\", 0.96)\n",
    "\n",
    "figure = plotly_graph_objects.Figure(plotly_graph_objects.Treemap(\n",
    "    create_treemap_commit_statistics_settings(git_commit_count_per_directory),\n",
    "    values = git_commit_count_per_directory['fileCount'],\n",
    "    marker=dict(\n",
    "        cornerradius=5, \n",
    "        colors=git_commit_count_per_directory['commitCount_limited'], \n",
    "        colorscale='Hot_r',\n",
    "        colorbar=dict(title=\"Commits\"),\n",
    "    ),\n",
    "))\n",
    "figure.update_layout(\n",
    "    **plotly_treemap_layout_base_settings,\n",
    "    title='Number of git commits',\n",
    ")\n",
    "figure.show()"
   ]
  },
  {
   "cell_type": "markdown",
   "id": "def69b07",
   "metadata": {},
   "source": [
    "### Number of distinct authors per directory"
   ]
  },
  {
   "cell_type": "code",
   "execution_count": null,
   "id": "baeb97f5",
   "metadata": {},
   "outputs": [],
   "source": [
    "git_commit_authors_per_directory = add_quantile_limited_column(git_file_directories_with_commit_statistics, \"authorCount\", 0.96)\n",
    "\n",
    "figure = plotly_graph_objects.Figure(plotly_graph_objects.Treemap(\n",
    "    create_treemap_commit_statistics_settings(git_commit_authors_per_directory),\n",
    "    values = git_commit_authors_per_directory['fileCount'],\n",
    "    marker=dict(\n",
    "        cornerradius=5, \n",
    "        colors=git_commit_authors_per_directory['authorCount_limited'], \n",
    "        colorscale='Hot_r',\n",
    "        colorbar=dict(title=\"Authors\"),\n",
    "    ),\n",
    "))\n",
    "figure.update_layout(\n",
    "    **plotly_treemap_layout_base_settings,\n",
    "    title='Number of distinct commit authors',\n",
    ")\n",
    "figure.show()"
   ]
  },
  {
   "cell_type": "markdown",
   "id": "0ed919b0",
   "metadata": {},
   "source": [
    "### Days since last commit per directory"
   ]
  },
  {
   "cell_type": "code",
   "execution_count": null,
   "id": "a6929154",
   "metadata": {},
   "outputs": [],
   "source": [
    "git_commit_days_since_last_commit_per_directory = add_rank_column(git_file_directories_with_commit_statistics, \"daysSinceLastCommit\")\n",
    "\n",
    "figure = plotly_graph_objects.Figure(plotly_graph_objects.Treemap(\n",
    "    create_treemap_commit_statistics_settings(git_commit_days_since_last_commit_per_directory),\n",
    "    values = git_commit_days_since_last_commit_per_directory['fileCount'],\n",
    "    marker=dict(\n",
    "        cornerradius=5, \n",
    "        colors=git_commit_days_since_last_commit_per_directory['daysSinceLastCommit'], \n",
    "        colorscale='Hot_r',\n",
    "        colorbar=dict(title=\"Days\"),\n",
    "    ),\n",
    "))\n",
    "\n",
    "figure.update_layout(\n",
    "    **plotly_treemap_layout_base_settings,\n",
    "    title='Days since last commit',\n",
    ")\n",
    "figure.show()"
   ]
  },
  {
   "cell_type": "code",
   "execution_count": null,
   "id": "720aa99e",
   "metadata": {},
   "outputs": [],
   "source": [
    "figure = plotly_graph_objects.Figure(plotly_graph_objects.Treemap(\n",
    "    create_treemap_commit_statistics_settings(git_commit_days_since_last_commit_per_directory),\n",
    "    values = git_commit_days_since_last_commit_per_directory['fileCount'],\n",
    "    marker=dict(\n",
    "        cornerradius=5, \n",
    "        colors=git_commit_days_since_last_commit_per_directory['daysSinceLastCommit_rank'], \n",
    "        colorscale='Hot_r',\n",
    "        colorbar=dict(title=\"Rank\"),\n",
    "    ),\n",
    "))\n",
    "\n",
    "figure.update_layout(\n",
    "    **plotly_treemap_layout_base_settings,\n",
    "    title='Rank of days since last commit',\n",
    ")\n",
    "figure.show()"
   ]
  },
  {
   "cell_type": "markdown",
   "id": "4ebf96f7",
   "metadata": {},
   "source": [
    "### Days since last file creation per directory"
   ]
  },
  {
   "cell_type": "code",
   "execution_count": null,
   "id": "0de46c2b",
   "metadata": {},
   "outputs": [],
   "source": [
    "git_commit_days_since_last_file_creation_per_directory = add_rank_column(git_file_directories_with_commit_statistics, \"daysSinceLastCreation\")\n",
    "\n",
    "figure = plotly_graph_objects.Figure(plotly_graph_objects.Treemap(\n",
    "    create_treemap_commit_statistics_settings(git_commit_days_since_last_file_creation_per_directory),\n",
    "    values = git_commit_days_since_last_file_creation_per_directory['fileCount'],\n",
    "    marker=dict(\n",
    "        cornerradius=5, \n",
    "        colors=git_commit_days_since_last_file_creation_per_directory['daysSinceLastCreation'], \n",
    "        colorscale='Hot_r',\n",
    "        colorbar=dict(title=\"Days\"),\n",
    "    ),\n",
    "))\n",
    "figure.update_layout(\n",
    "    **plotly_treemap_layout_base_settings,\n",
    "    title='Days since last file creation',\n",
    ")\n",
    "figure.show()"
   ]
  },
  {
   "cell_type": "code",
   "execution_count": null,
   "id": "3da7a4f6",
   "metadata": {},
   "outputs": [],
   "source": [
    "figure = plotly_graph_objects.Figure(plotly_graph_objects.Treemap(\n",
    "    create_treemap_commit_statistics_settings(git_commit_days_since_last_file_creation_per_directory),\n",
    "    values = git_commit_days_since_last_file_creation_per_directory['fileCount'],\n",
    "    marker=dict(\n",
    "        cornerradius=5, \n",
    "        colors=git_commit_days_since_last_file_creation_per_directory['daysSinceLastCreation_rank'], \n",
    "        colorscale='Hot_r',\n",
    "        colorbar=dict(title=\"Rank\"),\n",
    "    ),\n",
    "))\n",
    "figure.update_layout(\n",
    "    **plotly_treemap_layout_base_settings,\n",
    "    title='Rank of days since last file creation',\n",
    ")\n",
    "figure.show()"
   ]
  },
  {
   "cell_type": "markdown",
   "id": "e34c46d5",
   "metadata": {},
   "source": [
    "### Days since last file modification per directory"
   ]
  },
  {
   "cell_type": "code",
   "execution_count": null,
   "id": "423fdb2c",
   "metadata": {},
   "outputs": [],
   "source": [
    "git_commit_days_since_last_file_modification_per_directory = add_rank_column(git_file_directories_with_commit_statistics, \"daysSinceLastModification\")\n",
    "\n",
    "figure = plotly_graph_objects.Figure(plotly_graph_objects.Treemap(\n",
    "    create_treemap_commit_statistics_settings(git_commit_days_since_last_file_modification_per_directory),\n",
    "    values = git_commit_days_since_last_file_modification_per_directory['fileCount'],\n",
    "    marker=dict(\n",
    "        cornerradius=5, \n",
    "        colors=git_commit_days_since_last_file_modification_per_directory['daysSinceLastModification'], \n",
    "        colorscale='Hot_r',\n",
    "        colorbar=dict(title=\"Days\"),\n",
    "    ),\n",
    "))\n",
    "figure.update_layout(\n",
    "    **plotly_treemap_layout_base_settings,\n",
    "    title='Days since last file modification',\n",
    ")\n",
    "figure.show()"
   ]
  },
  {
   "cell_type": "code",
   "execution_count": null,
   "id": "62c33849",
   "metadata": {},
   "outputs": [],
   "source": [
    "figure = plotly_graph_objects.Figure(plotly_graph_objects.Treemap(\n",
    "    create_treemap_commit_statistics_settings(git_commit_days_since_last_file_modification_per_directory),\n",
    "    values = git_commit_days_since_last_file_modification_per_directory['fileCount'],\n",
    "    marker=dict(\n",
    "        cornerradius=5, \n",
    "        colors=git_commit_days_since_last_file_modification_per_directory['daysSinceLastModification_rank'], \n",
    "        colorscale='Hot_r',\n",
    "        colorbar=dict(title=\"Rank\"),\n",
    "    ),\n",
    "))\n",
    "figure.update_layout(\n",
    "    **plotly_treemap_layout_base_settings,\n",
    "    title='Rank of days since last file modification',\n",
    ")\n",
    "figure.show()"
   ]
  }
 ],
 "metadata": {
  "authors": [
   {
    "name": "JohT"
   }
  ],
  "code_graph_analysis_pipeline_data_validation": "ValidateGitHistory",
  "kernelspec": {
   "display_name": "codegraph",
   "language": "python",
   "name": "python3"
  },
  "language_info": {
   "codemirror_mode": {
    "name": "ipython",
    "version": 3
   },
   "file_extension": ".py",
   "mimetype": "text/x-python",
   "name": "python",
   "nbconvert_exporter": "python",
   "pygments_lexer": "ipython3",
   "version": "3.12.9"
  },
  "title": "Git History Charts with Neo4j"
 },
 "nbformat": 4,
 "nbformat_minor": 5
}
