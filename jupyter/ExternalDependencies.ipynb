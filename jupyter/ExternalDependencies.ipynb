{
 "cells": [
  {
   "attachments": {},
   "cell_type": "markdown",
   "id": "2f0eabc4",
   "metadata": {},
   "source": [
    "# External Dependencies of Java Artifacts with Neo4j\n",
    "<br>  \n",
    "\n",
    "### References\n",
    "- [jqassistant](https://jqassistant.org)\n",
    "- [py2neo](https://py2neo.org/2021.1/)"
   ]
  },
  {
   "cell_type": "code",
   "execution_count": null,
   "id": "4191f259",
   "metadata": {},
   "outputs": [],
   "source": [
    "import os\n",
    "import pandas as pd\n",
    "import matplotlib.pyplot as plot\n",
    "from py2neo import Graph"
   ]
  },
  {
   "cell_type": "code",
   "execution_count": null,
   "id": "1c5dab37",
   "metadata": {},
   "outputs": [],
   "source": [
    "# Please set the environment variable \"NEO4J_INITIAL_PASSWORD\" in your shell \n",
    "# before starting jupyter notebook to provide the password for the user \"neo4j\". \n",
    "# It is not recommended to hardcode the password into jupyter notebook for security reasons.\n",
    "graph = Graph(\"bolt://localhost:7687\", auth=(\"neo4j\", os.environ.get(\"NEO4J_INITIAL_PASSWORD\")))"
   ]
  },
  {
   "cell_type": "code",
   "execution_count": null,
   "id": "c1db254b",
   "metadata": {},
   "outputs": [],
   "source": [
    "def get_cypher_query_from_file(filename):\n",
    "    with open(filename) as file:\n",
    "        return ' '.join(file.readlines())"
   ]
  },
  {
   "cell_type": "code",
   "execution_count": null,
   "id": "59310f6f",
   "metadata": {},
   "outputs": [],
   "source": [
    "def query_cypher_to_data_frame(filename):\n",
    "    return graph.run(get_cypher_query_from_file(filename)).to_data_frame()"
   ]
  },
  {
   "cell_type": "code",
   "execution_count": null,
   "id": "da9e8edb",
   "metadata": {},
   "outputs": [],
   "source": [
    "#The following cell uses the build-in %html \"magic\" to override the CSS style for tables to a much smaller size.\n",
    "#This is especially needed for PDF export of tables with multiple columns."
   ]
  },
  {
   "cell_type": "code",
   "execution_count": null,
   "id": "9deaabce",
   "metadata": {},
   "outputs": [],
   "source": [
    "%%html\n",
    "<style>\n",
    "/* CSS style for smaller dataframe tables. */\n",
    ".dataframe th {\n",
    "    font-size: 8px;\n",
    "}\n",
    ".dataframe td {\n",
    "    font-size: 8px;\n",
    "}\n",
    "</style>"
   ]
  },
  {
   "cell_type": "code",
   "execution_count": null,
   "id": "c2496caf",
   "metadata": {},
   "outputs": [],
   "source": [
    "# Main Colormap\n",
    "main_color_map = 'nipy_spectral'"
   ]
  },
  {
   "attachments": {},
   "cell_type": "markdown",
   "id": "6705e06a",
   "metadata": {},
   "source": [
    "## External Package Usage\n",
    "\n",
    "### External Package\n",
    "\n",
    "A package is categorized as \"external\" if it is utilized as a dependency, or if any of its enclosed types are used as dependencies, but the code within it has not been analyzed (missing bytecode). This also applies to all build-in Java types, but they are explicitly filtered out here.\n",
    "\n",
    "### External annotation dependency\n",
    "\n",
    "The aforementioned classification encompasses external annotation dependencies as well. These dependencies introduce significantly less coupling and are not indispensable for compiling code. Without the external annotation the code would most probably behave differently. Hence, they are included in the first more overall and general tables and then left out in the later more specific ones."
   ]
  },
  {
   "attachments": {},
   "cell_type": "markdown",
   "id": "334167e4",
   "metadata": {},
   "source": [
    "### Table 1 - Top 20 most used external packages overall\n",
    "\n",
    "- *externalPackageName* identifies the external package as described above\n",
    "- *numberOfExternalTypeCaller* refers to the distinct types that make use of the external package\n",
    "- *numberOfExternalTypeCalls* includes every invocation or reference to the types in the external package\n",
    "- *allTypes* represents the total count of all analyzed types in general\n",
    "- *externalTypeNames* contains a list of actually utilized types of the external package"
   ]
  },
  {
   "cell_type": "code",
   "execution_count": null,
   "id": "ff524ac7",
   "metadata": {},
   "outputs": [],
   "source": [
    "external_package_useage=query_cypher_to_data_frame(\"../cypher/External_Dependencies/External_package_usage_overall.cypher\")\n",
    "\n",
    "# Select columns and only show the first 20 entries (head)\n",
    "external_package_useage.head(20)"
   ]
  },
  {
   "cell_type": "code",
   "execution_count": null,
   "id": "7767f100",
   "metadata": {},
   "outputs": [],
   "source": [
    "plot.figure();\n",
    "\n",
    "# Set the name of the index to artifactName\n",
    "external_package_useage_by_name=external_package_useage.set_index('externalPackageName')\n",
    "\n",
    "axis = external_package_useage_by_name.head(20).plot(\n",
    "    y='numberOfExternalTypeCalls', \n",
    "    kind='pie',\n",
    "    title='External Package Usage',\n",
    "    legend=True,\n",
    "    labeldistance=None,\n",
    "    cmap=main_color_map\n",
    ")\n",
    "axis.legend(bbox_to_anchor=(1, 1), loc='upper left')\n",
    "plot.show()"
   ]
  },
  {
   "attachments": {},
   "cell_type": "markdown",
   "id": "29ec2211",
   "metadata": {},
   "source": [
    "### Table 2 - Top 20 least used external packages overall\n",
    "\n",
    "- *externalPackageName* identifies the external package as described above\n",
    "- *numberOfExternalTypeCalls* includes every invocation or reference to the types in the external package\n",
    "\n",
    "This table identifies external packages that aren't used very often. This could help to find libraries that aren't actually needed or maybe easily replaced. Some of them might be used only in very few spots in the code on purpose and can't be replaced. This needs to be decided on a case-by-case basis."
   ]
  },
  {
   "cell_type": "code",
   "execution_count": null,
   "id": "03641b8b",
   "metadata": {},
   "outputs": [],
   "source": [
    "# Sort by number of external type calls\n",
    "external_package_least_used=external_package_useage.sort_values(by='numberOfExternalTypeCalls', ascending=True)\n",
    "\n",
    "# Reset index\n",
    "external_package_least_used = external_package_least_used.reset_index(drop=True)\n",
    "\n",
    "# Select columns and only show the first 10 entries (head)\n",
    "external_package_least_used[['externalPackageName','numberOfExternalTypeCalls']].head(20)\n"
   ]
  },
  {
   "attachments": {},
   "cell_type": "markdown",
   "id": "33c3bb79",
   "metadata": {},
   "source": [
    "### Table 3 - External usage per artifact\n",
    "\n",
    "- *artifactName* is used to group the the external package usage per artifact for a more detailed analysis.\n",
    "- *externalPackageName* identifies the external package as described above\n",
    "- *numberOfExternalTypeCaller* refers to the distinct types that make use of the external package\n",
    "- *numberOfExternalTypeCalls* includes every invocation or reference to the types in the external package\n",
    "- *numberOfTypesInArtifact* represents the total count of all analyzed types for the artifact\n",
    "- *externalTypeNames* contains a list of actually utilized types of the external package"
   ]
  },
  {
   "cell_type": "code",
   "execution_count": null,
   "id": "1637f8ee",
   "metadata": {},
   "outputs": [],
   "source": [
    "query_cypher_to_data_frame(\"../cypher/External_Dependencies/External_package_usage_per_artifact.cypher\")"
   ]
  },
  {
   "attachments": {},
   "cell_type": "markdown",
   "id": "4fb87c8a",
   "metadata": {},
   "source": [
    "### Table 4 - External usage per artifact and package"
   ]
  },
  {
   "cell_type": "code",
   "execution_count": null,
   "id": "58a19ad7",
   "metadata": {},
   "outputs": [],
   "source": [
    "external_package_usage_per_package = query_cypher_to_data_frame(\"../cypher/External_Dependencies/External_package_usage_per_artifact_and_package.cypher\")\n",
    "external_package_usage_per_package"
   ]
  },
  {
   "attachments": {},
   "cell_type": "markdown",
   "id": "a3161e2b",
   "metadata": {},
   "source": [
    "### Table 5 - Top 20 external package usage per type"
   ]
  },
  {
   "cell_type": "code",
   "execution_count": null,
   "id": "f2224d21",
   "metadata": {},
   "outputs": [],
   "source": [
    "external_package_usage_per_type = query_cypher_to_data_frame(\"../cypher/External_Dependencies/External_package_usage_per_type.cypher\")\n",
    "\n",
    "external_package_usage_per_type.head(20)"
   ]
  },
  {
   "attachments": {},
   "cell_type": "markdown",
   "id": "5b420f59",
   "metadata": {},
   "source": [
    "### Table 6 - External package usage distribution per type\n",
    "\n",
    "The table shown here only includes the first 20 rows at most which typically represents the most significant entries.\n",
    "Have a look above to find out which types have the highest external package dependency usage."
   ]
  },
  {
   "cell_type": "code",
   "execution_count": null,
   "id": "d750524a",
   "metadata": {},
   "outputs": [],
   "source": [
    "external_package_usage_per_type_distribution = query_cypher_to_data_frame(\"../cypher/External_Dependencies/External_package_usage_per_type_distribution.cypher\")\n",
    "external_package_usage_per_type_distribution[['artifactName', 'artifactTypes', 'numberOfExternalPackages', 'numberOfTypes', 'numberOfTypesPercentage']].head(20)"
   ]
  },
  {
   "cell_type": "code",
   "execution_count": null,
   "id": "7a2ebcf9",
   "metadata": {},
   "outputs": [],
   "source": [
    "\n",
    "# Organize artifacts in columns with the number of types as values using pivot\n",
    "# Every row represents the number of external packages\n",
    "external_package_usage_per_type_distribution=external_package_usage_per_type_distribution.pivot(index='numberOfExternalPackages', columns='artifactName', values='numberOfTypesPercentage')\n",
    "\n",
    "# Fill missing values with zero\n",
    "external_package_usage_per_type_distribution.fillna(0, inplace=True)\n",
    "\n",
    "# Convert to integer\n",
    "# external_package_usage_per_type_distribution=external_package_usage_per_type_distribution.astype(int)\n",
    "\n",
    "external_package_usage_per_type_distribution.head(10)"
   ]
  },
  {
   "cell_type": "code",
   "execution_count": null,
   "id": "58c9052a",
   "metadata": {},
   "outputs": [],
   "source": [
    "plot.figure();\n",
    "axes = external_package_usage_per_type_distribution.plot(\n",
    "    kind='bar', \n",
    "    grid=True,\n",
    "    title='Relative External Package Usage', \n",
    "    xlabel='external package count',\n",
    "    ylabel='percentage of types',\n",
    "    cmap=main_color_map,\n",
    ")\n",
    "plot.show()"
   ]
  },
  {
   "attachments": {},
   "cell_type": "markdown",
   "id": "c2a1d4b6",
   "metadata": {},
   "source": [
    "## Maven POMs\n",
    "\n",
    "### Table 7 - Maven POMs and their declared dependencies"
   ]
  },
  {
   "cell_type": "code",
   "execution_count": null,
   "id": "d4478ca3",
   "metadata": {},
   "outputs": [],
   "source": [
    "query_cypher_to_data_frame(\"../cypher/External_Dependencies/Maven_POMs_and_their_declared_dependencies.cypher\")"
   ]
  }
 ],
 "metadata": {
  "authors": [
   {
    "name": "JohT"
   }
  ],
  "kernelspec": {
   "display_name": "Python 3 (ipykernel)",
   "language": "python",
   "name": "python3"
  },
  "language_info": {
   "codemirror_mode": {
    "name": "ipython",
    "version": 3
   },
   "file_extension": ".py",
   "mimetype": "text/x-python",
   "name": "python",
   "nbconvert_exporter": "python",
   "pygments_lexer": "ipython3",
   "version": "3.11.4"
  },
  "title": "Object Oriented Design Quality Metrics for Java with Neo4j"
 },
 "nbformat": 4,
 "nbformat_minor": 5
}
