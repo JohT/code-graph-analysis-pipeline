{
 "cells": [
  {
   "attachments": {},
   "cell_type": "markdown",
   "id": "2f0eabc4",
   "metadata": {},
   "source": [
    "# External Dependencies\n",
    "<br>  \n",
    "\n",
    "### References\n",
    "- [jqassistant](https://jqassistant.org)\n",
    "- [py2neo](https://py2neo.org/2021.1/)"
   ]
  },
  {
   "cell_type": "code",
   "execution_count": null,
   "id": "4191f259",
   "metadata": {},
   "outputs": [],
   "source": [
    "import os\n",
    "import pandas as pd\n",
    "import matplotlib.pyplot as plot\n",
    "from neo4j import GraphDatabase"
   ]
  },
  {
   "cell_type": "code",
   "execution_count": null,
   "id": "a080b23c",
   "metadata": {},
   "outputs": [],
   "source": [
    "# Please set the environment variable \"NEO4J_INITIAL_PASSWORD\" in your shell \n",
    "# before starting jupyter notebook to provide the password for the user \"neo4j\". \n",
    "# It is not recommended to hardcode the password into jupyter notebook for security reasons.\n",
    "\n",
    "driver = GraphDatabase.driver(uri=\"bolt://localhost:7687\", auth=(\"neo4j\", os.environ.get(\"NEO4J_INITIAL_PASSWORD\")))\n",
    "driver.verify_connectivity()"
   ]
  },
  {
   "cell_type": "code",
   "execution_count": null,
   "id": "c1db254b",
   "metadata": {},
   "outputs": [],
   "source": [
    "def get_cypher_query_from_file(filename):\n",
    "    with open(filename) as file:\n",
    "        return ' '.join(file.readlines())"
   ]
  },
  {
   "cell_type": "code",
   "execution_count": null,
   "id": "59310f6f",
   "metadata": {},
   "outputs": [],
   "source": [
    "def query_cypher_to_data_frame(filename):\n",
    "    return graph.run(get_cypher_query_from_file(filename)).to_data_frame()"
   ]
  },
  {
   "cell_type": "code",
   "execution_count": null,
   "id": "da9e8edb",
   "metadata": {},
   "outputs": [],
   "source": [
    "#The following cell uses the build-in %html \"magic\" to override the CSS style for tables to a much smaller size.\n",
    "#This is especially needed for PDF export of tables with multiple columns."
   ]
  },
  {
   "cell_type": "code",
   "execution_count": null,
   "id": "9deaabce",
   "metadata": {
    "tags": [
     "table-css"
    ]
   },
   "outputs": [],
   "source": [
    "%%html\n",
    "<style>\n",
    "/* CSS style for smaller dataframe tables. */\n",
    ".dataframe th {\n",
    "    font-size: 8px;\n",
    "}\n",
    ".dataframe td {\n",
    "    font-size: 8px;\n",
    "}\n",
    "</style>"
   ]
  },
  {
   "cell_type": "code",
   "execution_count": null,
   "id": "c2496caf",
   "metadata": {},
   "outputs": [],
   "source": [
    "# Main Colormap\n",
    "main_color_map = 'nipy_spectral'"
   ]
  },
  {
   "attachments": {},
   "cell_type": "markdown",
   "id": "6705e06a",
   "metadata": {},
   "source": [
    "## External Package Usage\n",
    "\n",
    "### External Package\n",
    "\n",
    "An external type has no `byteCodeVersion` since it only occurs as a dependency but wasn't analyzed itself (missing bytecode). Core Java types like `java.lang.Integer` and primitives like `int` are considered \"build-in\" and therefore aren't interpreted as \"external\" even though their byte code is also missing. A package is categorized as \"external\" if the types it contains are classified as external.\n",
    "\n",
    "### External annotation dependency\n",
    "\n",
    "The aforementioned classification encompasses external annotation dependencies as well. These dependencies introduce significantly less coupling and are not indispensable for compiling code. Without the external annotation the code would most probably behave differently. Hence, they are included in the first more overall and general tables and then left out in the later more specific ones."
   ]
  },
  {
   "attachments": {},
   "cell_type": "markdown",
   "id": "334167e4",
   "metadata": {},
   "source": [
    "### Table 1 - Top 20 most used external packages overall\n",
    "\n",
    "This table shows the external packages that are used by the most different internal types overall.\n",
    "Additionally, it shows which types of the external package are actually used. External annotations are also listed.\n",
    "\n",
    "**Columns:**\n",
    "- *externalPackageName* identifies the external package as described above\n",
    "- *numberOfExternalTypeCaller* refers to the distinct types that make use of the external package\n",
    "- *numberOfExternalTypeCalls* includes every invocation or reference to the types in the external package\n",
    "- *allTypes* represents the total count of all analyzed types in general\n",
    "- *externalTypeNames* contains a list of actually utilized types of the external package"
   ]
  },
  {
   "cell_type": "code",
   "execution_count": null,
   "id": "ff524ac7",
   "metadata": {},
   "outputs": [],
   "source": [
    "external_package_usage=query_cypher_to_data_frame(\"../cypher/External_Dependencies/External_package_usage_overall.cypher\")\n",
    "\n",
    "# Select columns and only show the first 20 entries (head)\n",
    "external_package_usage.head(20)"
   ]
  },
  {
   "attachments": {},
   "cell_type": "markdown",
   "id": "1143afcb",
   "metadata": {},
   "source": [
    "### Chart 1 - Most called external packages in %\n",
    "\n",
    "Packages that are used less than 0.7% are grouped into the name \"others\" to get a cleaner chart\n",
    "with the most significant external packages and how ofter they are called in percent."
   ]
  },
  {
   "cell_type": "code",
   "execution_count": null,
   "id": "99ef3fad",
   "metadata": {},
   "outputs": [],
   "source": [
    "external_package_usage_significant = external_package_usage.copy();\n",
    "\n",
    "# Add column \"percentOfExternalTypeCalls\" with the percentage of the \"numberOfExternalTypeCalls\".\n",
    "external_package_usage_significant['percentOfExternalTypeCalls'] = external_package_usage_significant['numberOfExternalTypeCalls'] / external_package_usage_significant['numberOfExternalTypeCalls'].sum() * 100\n",
    "\n",
    "# Change the external package name to \"others\" if it is called less than 0.7 percent\n",
    "external_package_usage_significant.loc[external_package_usage_significant['percentOfExternalTypeCalls'] < 0.7, 'externalPackageName'] = 'others'\n",
    "\n",
    "# Group external package name (foremost the new \"others\" entries) and sum their \"percentOfExternalTypeCalls\"\n",
    "external_package_usage_significant = external_package_usage_significant.groupby('externalPackageName')['percentOfExternalTypeCalls'].sum()\n",
    "\n",
    "# Sort by \"percentOfExternalTypeCalls\" descending\n",
    "external_package_usage_significant.sort_values(ascending=False, inplace=True)"
   ]
  },
  {
   "cell_type": "code",
   "execution_count": null,
   "id": "688b6d56",
   "metadata": {},
   "outputs": [],
   "source": [
    "plot.figure();\n",
    "\n",
    "# Set the name of the index to artifactName\n",
    "#external_package_usage_significant=external_package_usage_significant.set_index('externalPackageName')\n",
    "\n",
    "axis = external_package_usage_significant.plot(\n",
    "    #y='numberOfExternalTypeCalls', \n",
    "    kind='pie',\n",
    "    title='Significant External Package Usage',\n",
    "    legend=True,\n",
    "    labeldistance=None,\n",
    "    autopct='%1.1f%%',\n",
    "    pctdistance=1.2,\n",
    "    cmap=main_color_map\n",
    ")\n",
    "axis.legend(bbox_to_anchor=(1.05, 1), loc='upper left')\n",
    "plot.show()"
   ]
  },
  {
   "attachments": {},
   "cell_type": "markdown",
   "id": "29ec2211",
   "metadata": {},
   "source": [
    "### Table 2 - Top 20 least used external packages overall\n",
    "\n",
    "This table identifies external packages that aren't used very often. This could help to find libraries that aren't actually needed or maybe easily replaceable. Some of them might be used sparsely on purpose for example as an adapter to an external library that is actually important. Thus, decisions need to be made on a case-by-case basis.\n",
    "\n",
    "**Columns:**\n",
    "- *externalPackageName* identifies the external package as described above\n",
    "- *numberOfExternalTypeCalls* includes every invocation or reference to the types in the external package"
   ]
  },
  {
   "cell_type": "code",
   "execution_count": null,
   "id": "03641b8b",
   "metadata": {},
   "outputs": [],
   "source": [
    "# Sort by number of external type calls\n",
    "external_package_least_used=external_package_usage.sort_values(by='numberOfExternalTypeCalls', ascending=True)\n",
    "\n",
    "# Reset index\n",
    "external_package_least_used = external_package_least_used.reset_index(drop=True)\n",
    "\n",
    "# Select columns and only show the first 10 entries (head)\n",
    "external_package_least_used[['externalPackageName','numberOfExternalTypeCalls']].head(20)\n"
   ]
  },
  {
   "attachments": {},
   "cell_type": "markdown",
   "id": "33c3bb79",
   "metadata": {},
   "source": [
    "### Table 3 - External usage per artifact\n",
    "\n",
    "The following table shows the most used external packages separately for each artifact including external annotations. \n",
    "\n",
    "**Columns:**\n",
    "- *artifactName* is used to group the the external package usage per artifact for a more detailed analysis.\n",
    "- *externalPackageName* identifies the external package as described above\n",
    "- *numberOfExternalTypeCaller* refers to the distinct types that make use of the external package\n",
    "- *numberOfExternalTypeCalls* includes every invocation or reference to the types in the external package\n",
    "- *numberOfTypesInArtifact* represents the total count of all analyzed types for the artifact\n",
    "- *externalTypeNames* contains a list of actually utilized types of the external package"
   ]
  },
  {
   "cell_type": "code",
   "execution_count": null,
   "id": "1637f8ee",
   "metadata": {},
   "outputs": [],
   "source": [
    "query_cypher_to_data_frame(\"../cypher/External_Dependencies/External_package_usage_per_artifact.cypher\")"
   ]
  },
  {
   "attachments": {},
   "cell_type": "markdown",
   "id": "4fb87c8a",
   "metadata": {},
   "source": [
    "### Table 4 - External usage per artifact and package\n",
    "\n",
    "The next table lists internal packages and the artifacts they belong to that use many different external types of a specific external package without taken external annotations into account. Only the first 30 rows are shown.\n",
    "\n",
    "**Columns:**\n",
    "- *artifactName* that contains the type that calls the external package\n",
    "- *fullPackageName* is the package within the artifact that contains the type that calls the external package\n",
    "- *externalPackageName* identifies the external package as described above\n",
    "- *numberOfExternalTypeCaller* refers to the distinct types that make use of the external package\n",
    "- *numberOfExternalTypeCalls* includes every invocation or reference to the types in the external package\n",
    "- *numberOfTypesInPackage* represents the total count of all types in that package\n",
    "- *externalTypeNames* contains a list of actually utilized types of the external package\n",
    "- *packageName* contains the name of the package (last part of *fullPackageName*)"
   ]
  },
  {
   "cell_type": "code",
   "execution_count": null,
   "id": "58a19ad7",
   "metadata": {},
   "outputs": [],
   "source": [
    "external_package_usage_per_package = query_cypher_to_data_frame(\"../cypher/External_Dependencies/External_package_usage_per_artifact_and_package.cypher\")\n",
    "external_package_usage_per_package.head(30)"
   ]
  },
  {
   "attachments": {},
   "cell_type": "markdown",
   "id": "a3161e2b",
   "metadata": {},
   "source": [
    "### Table 5 - Top 20 external package usage per type\n",
    "\n",
    "This table lists the internal types that utilize the most different external types and packages. These have the highest probability of change depending on external libraries. A case-by-case approach is also advisable here because there could for example also be code units that encapsulate an external library and have this high count of external dependencies on purpose.\n",
    "\n",
    "**Columns:**\n",
    "- *artifactName* that contains the type that calls the external package\n",
    "- *fullPackageName* is the package within the artifact that contains the type that calls external types\n",
    "- *typeName* identifies the internal type within the package and artifact that calls external types\n",
    "- *numberOfExternalTypeCaller* and *numberOfExternalTypes* refers to the distinct external types that are used by the internal type\n",
    "- *numberOfExternalTypeCalls* includes every invocation or reference to the types in the external package\n",
    "- *numberOfTypesInPackage* represents the total count of all types in that package\n",
    "- *numberOfExternalPackages* shows how many different external packages are used by the internal type\n",
    "- *externalPackageNames* contains the list of names of the different external packages that are used by the internal type\n",
    "- *externalTypeNames* contains a list of actually utilized types of the external package\n",
    "- *packageName* contains the name of the package (last part of *fullPackageName*)"
   ]
  },
  {
   "cell_type": "code",
   "execution_count": null,
   "id": "f2224d21",
   "metadata": {},
   "outputs": [],
   "source": [
    "external_package_usage_per_type = query_cypher_to_data_frame(\"../cypher/External_Dependencies/External_package_usage_per_type.cypher\")\n",
    "external_package_usage_per_type.head(20)"
   ]
  },
  {
   "attachments": {},
   "cell_type": "markdown",
   "id": "5b420f59",
   "metadata": {},
   "source": [
    "### Table 6 - External package usage distribution per type\n",
    "\n",
    "The next table shown here only includes the first 20 rows.\n",
    "It shows how many types use one external package, how many use two, etc. .\n",
    "This gives an overview of the distribution of external package calls and the overall coupling to external libraries. The higher the count of distinct external packages the lower should be the count of types that use them. Dependencies to external annotations are left out here.\n",
    "\n",
    "Have a look above to find out which types have the highest external package dependency usage.\n",
    "\n",
    "**Columns:**\n",
    "- *artifactName* that contains the type that calls the external package\n",
    "- *artifactTypes* the total count of types in the artifact\n",
    "- *numberOfExternalPackages* the number of distinct external packages used\n",
    "- *numberOfTypes* in the artifact where the *numberOfExternalPackages* applies\n",
    "- *numberOfTypesPercentage* in the artifact where the *numberOfExternalPackages* applies in %"
   ]
  },
  {
   "cell_type": "code",
   "execution_count": null,
   "id": "d750524a",
   "metadata": {},
   "outputs": [],
   "source": [
    "external_package_usage_per_type_distribution = query_cypher_to_data_frame(\"../cypher/External_Dependencies/External_package_usage_per_type_distribution.cypher\")\n",
    "external_package_usage_per_type_distribution[['artifactName', 'artifactTypes', 'numberOfExternalPackages', 'numberOfTypes', 'numberOfTypesPercentage']].head(20)"
   ]
  },
  {
   "attachments": {},
   "cell_type": "markdown",
   "id": "39c045f6",
   "metadata": {},
   "source": [
    "### Table 7 - External package usage distribution in percentage\n",
    "\n",
    "The following table uses the same data as Table 6 but has a column per internal artifact and a row for the number of different external packages used. The values are the percentages of types that fulfill both conditions so they belong to artifact and have the exact count of different external packages used. Dependencies to external annotations are left out here."
   ]
  },
  {
   "cell_type": "code",
   "execution_count": null,
   "id": "7a2ebcf9",
   "metadata": {},
   "outputs": [],
   "source": [
    "\n",
    "# Organize artifacts in columns with the number of types as values using pivot\n",
    "# Every row represents the number of external packages\n",
    "external_package_usage_per_type_distribution=external_package_usage_per_type_distribution.pivot(index='numberOfExternalPackages', columns='artifactName', values='numberOfTypesPercentage')\n",
    "\n",
    "# Fill missing values with zero\n",
    "external_package_usage_per_type_distribution.fillna(0, inplace=True)\n",
    "\n",
    "# Convert to integer\n",
    "# external_package_usage_per_type_distribution=external_package_usage_per_type_distribution.astype(int)\n",
    "\n",
    "external_package_usage_per_type_distribution.head(10)"
   ]
  },
  {
   "attachments": {},
   "cell_type": "markdown",
   "id": "121a215f",
   "metadata": {},
   "source": [
    "### Chart 2 - External package usage distribution in percentage\n",
    "\n",
    "The next chart shows the number of types per artifact that use the given number of different external packages as listed in Table 7. Dependencies to external annotations are left out here."
   ]
  },
  {
   "cell_type": "code",
   "execution_count": null,
   "id": "58c9052a",
   "metadata": {},
   "outputs": [],
   "source": [
    "plot.figure();\n",
    "axes = external_package_usage_per_type_distribution.plot(\n",
    "    kind='bar', \n",
    "    grid=True,\n",
    "    title='Relative External Package Usage', \n",
    "    xlabel='external package count',\n",
    "    ylabel='percentage of types',\n",
    "    cmap=main_color_map,\n",
    ")\n",
    "plot.show()"
   ]
  },
  {
   "attachments": {},
   "cell_type": "markdown",
   "id": "e4780292",
   "metadata": {},
   "source": [
    "### Chart 3 - External package usage distribution in percentage stacked per artifact\n",
    "\n",
    "The following chart shows a stacked bar for each artifact. Every color represents a different count of different external packages used. The y axis then shows how many percent of types (compared to all types of that artifact) use these external packages. By stacking them above each other it is easier to compare the artifacts and their external package usage. Dependencies to external annotations are left out here."
   ]
  },
  {
   "cell_type": "code",
   "execution_count": null,
   "id": "cd612166",
   "metadata": {},
   "outputs": [],
   "source": [
    "plot.figure();\n",
    "axes = external_package_usage_per_type_distribution.transpose().plot(\n",
    "    kind='bar', \n",
    "    grid=True,\n",
    "    title='Relative External Package Usage', \n",
    "    xlabel='artifact',\n",
    "    ylabel='percentage of types',\n",
    "    stacked=True,\n",
    "    cmap=main_color_map,\n",
    ")\n",
    "plot.show()"
   ]
  },
  {
   "attachments": {},
   "cell_type": "markdown",
   "id": "c2a1d4b6",
   "metadata": {},
   "source": [
    "## Maven POMs\n",
    "\n",
    "\n",
    "### Table 8 - Maven POMs and their declared dependencies\n",
    "\n",
    "If Maven is used as for package and dependency management and a \".pom\" file is included in the artifact, the following table shows the external dependencies that are declared there."
   ]
  },
  {
   "cell_type": "code",
   "execution_count": null,
   "id": "d4478ca3",
   "metadata": {},
   "outputs": [],
   "source": [
    "query_cypher_to_data_frame(\"../cypher/External_Dependencies/Maven_POMs_and_their_declared_dependencies.cypher\")"
   ]
  }
 ],
 "metadata": {
  "authors": [
   {
    "name": "JohT"
   }
  ],
  "celltoolbar": "Tags",
  "kernelspec": {
   "display_name": "Python 3 (ipykernel)",
   "language": "python",
   "name": "python3"
  },
  "language_info": {
   "codemirror_mode": {
    "name": "ipython",
    "version": 3
   },
   "file_extension": ".py",
   "mimetype": "text/x-python",
   "name": "python",
   "nbconvert_exporter": "python",
   "pygments_lexer": "ipython3",
   "version": "3.11.4"
  },
  "title": "Object Oriented Design Quality Metrics for Java with Neo4j"
 },
 "nbformat": 4,
 "nbformat_minor": 5
}
